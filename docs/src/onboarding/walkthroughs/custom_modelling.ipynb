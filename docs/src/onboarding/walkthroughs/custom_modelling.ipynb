{
 "cells": [
  {
   "cell_type": "markdown",
   "metadata": {},
   "source": [
    "# Walkthrough: Developing a custom model in the pipeline\n",
    "\n",
    "Mateusz Wasilewski\n",
    "\n",
    "Lee Lancashire\n",
    "\n",
    "Every Cure\n",
    "\n",
    "16 December 2024. \n",
    "\n",
    "# Introduction\n",
    "\n",
    "The purpose of this notebook is to show how a new, sample model with custom dependencies would be developed and integrated into the pipeline.\n",
    "\n",
    "This notebook follows a hypothetical scenario where Machine Learning Engineer Maya is developing a new model, with the aim of generating her own predictions of drug-disease treatment efficacy scores. Maya is new to the EveryCure / Matrix ecosystem, and is learning as she goes.\n",
    "\n",
    "In the end, she wants to train and submit a new model to the pipeline, and have it evaluated along with the other models.\n",
    "\n",
    "## Modelling assumptions\n",
    "\n",
    "Maya's goal is to train a new model that will predict the efficacy of drug-disease interactions.\n",
    "\n",
    "**Embeddings from Knowledge Graph:** Maya knows that EveryCure has generated embeddings for biomedical knowledge graph nodes, which meaningfully encode semantics of the nodes. Many of those nodes are drugs and diseases between which she wants to predict treatment efficacy.\n",
    "\n",
    "**Training Data:** Maya expects the training data to be a set of known positives and negatives, i.e. drug-disease pairs for which the treatment is known to be effective or ineffective.\n",
    "\n",
    "**Evaluation:** Maya assumes that the model will be evaluated using AUC-ROC. She also assumes that she will need to perform train-validation splits on her data, and that Matrix's pipeline downstream will be able to further test the predictions of her model.\n",
    "\n",
    "**Retrieving Data:** Importantly, Maya will retrieve the embeddings and training data from pipelines other than the modelling pipeline. She will avoid preprocessing the data itself as much as possible, relying on other resources provided by EveryCure.\n"
   ]
  },
  {
   "cell_type": "markdown",
   "metadata": {},
   "source": [
    "# Prerequesites\n",
    "\n",
    "Maya needs access to the GCS bucket containing the data (currently, `gs://mtrx-us-central1-hub-dev-storage`). Maya could retrieve those data sources manually from the bucket, using tools such as `gsutil`, but a much better way is to use Kedro's API.\n",
    "\n",
    "## Dev Environment\n",
    "\n",
    "Maya will build her prototype in Jupyter Kedro Lab. It is a standard jupyter lab, but with kedro context loaded into the notebook. To run kedro notebooks, using cloud environment (to have access to datasets in the cloud), Maya will run the command:\n",
    "\n",
    "```\n",
    "kedro jupyter notebook --env cloud\n",
    "```\n",
    "\n",
    "Importantly, she also set her `RELEASE_VERSION` in her `.env` file to `v0.2.4-rc.1`. She chose this release arbitrarily.\n",
    "\n",
    "Now, Maya will have access to Kedro datasets via Kedro API. For a full tutorial for Kedro API, see [the official documentation](https://docs.kedro.org/en/stable/notebooks_and_ipython/kedro_and_notebooks.html)\n",
    "\n",
    "Importantly, Kedro catalog object can be retrieved only if the notebook is executed in the root directory of a Kedro project (for Matrix that would be `matrix/pipelines/matrix/my_notebook.ipynb`). If this notebook is executed in the walkthough directory, it might not run properly."
   ]
  },
  {
   "cell_type": "code",
   "execution_count": 7,
   "metadata": {},
   "outputs": [
    {
     "name": "stdout",
     "output_type": "stream",
     "text": [
      "The kedro.ipython extension is already loaded. To reload it, use:\n",
      "  %reload_ext kedro.ipython\n"
     ]
    },
    {
     "data": {
      "text/html": [
       "<pre style=\"white-space:pre;overflow-x:auto;line-height:normal;font-family:Menlo,'DejaVu Sans Mono',consolas,'Courier New',monospace\"><span style=\"color: #7fbfbf; text-decoration-color: #7fbfbf\">[12/18/24 11:11:05] </span><span style=\"color: #000080; text-decoration-color: #000080\">INFO    </span> Resolved project path as: <span style=\"color: #800080; text-decoration-color: #800080\">/Users/mpw/Code/matrix/pipelines/</span><span style=\"color: #ff00ff; text-decoration-color: #ff00ff\">matrix.</span>     <a href=\"file:///Users/mpw/Code/matrix/pipelines/matrix/.venv/lib/python3.11/site-packages/kedro/ipython/__init__.py\" target=\"_blank\"><span style=\"color: #7f7f7f; text-decoration-color: #7f7f7f\">__init__.py</span></a><span style=\"color: #7f7f7f; text-decoration-color: #7f7f7f\">:</span><a href=\"file:///Users/mpw/Code/matrix/pipelines/matrix/.venv/lib/python3.11/site-packages/kedro/ipython/__init__.py#171\" target=\"_blank\"><span style=\"color: #7f7f7f; text-decoration-color: #7f7f7f\">171</span></a>\n",
       "<span style=\"color: #7fbfbf; text-decoration-color: #7fbfbf\">                    </span>         To set a different path, run <span style=\"color: #008000; text-decoration-color: #008000\">'%reload_kedro &lt;project_root&gt;'</span>            <span style=\"color: #7f7f7f; text-decoration-color: #7f7f7f\">               </span>\n",
       "</pre>\n"
      ],
      "text/plain": [
       "\u001b[2;36m[12/18/24 11:11:05]\u001b[0m\u001b[2;36m \u001b[0m\u001b[34mINFO    \u001b[0m Resolved project path as: \u001b[35m/Users/mpw/Code/matrix/pipelines/\u001b[0m\u001b[95mmatrix.\u001b[0m     \u001b]8;id=117836;file:///Users/mpw/Code/matrix/pipelines/matrix/.venv/lib/python3.11/site-packages/kedro/ipython/__init__.py\u001b\\\u001b[2m__init__.py\u001b[0m\u001b]8;;\u001b\\\u001b[2m:\u001b[0m\u001b]8;id=457907;file:///Users/mpw/Code/matrix/pipelines/matrix/.venv/lib/python3.11/site-packages/kedro/ipython/__init__.py#171\u001b\\\u001b[2m171\u001b[0m\u001b]8;;\u001b\\\n",
       "\u001b[2;36m                    \u001b[0m         To set a different path, run \u001b[32m'%reload_kedro \u001b[0m\u001b[32m<\u001b[0m\u001b[32mproject_root\u001b[0m\u001b[32m>\u001b[0m\u001b[32m'\u001b[0m            \u001b[2m               \u001b[0m\n"
      ]
     },
     "metadata": {},
     "output_type": "display_data"
    },
    {
     "data": {
      "text/html": [
       "<pre style=\"white-space:pre;overflow-x:auto;line-height:normal;font-family:Menlo,'DejaVu Sans Mono',consolas,'Courier New',monospace\"><span style=\"color: #7fbfbf; text-decoration-color: #7fbfbf\">[12/18/24 11:11:06] </span><span style=\"color: #000080; text-decoration-color: #000080\">INFO    </span> Remembering context for spark later                                       <a href=\"file:///Users/mpw/Code/matrix/pipelines/matrix/src/matrix/hooks.py\" target=\"_blank\"><span style=\"color: #7f7f7f; text-decoration-color: #7f7f7f\">hooks.py</span></a><span style=\"color: #7f7f7f; text-decoration-color: #7f7f7f\">:</span><a href=\"file:///Users/mpw/Code/matrix/pipelines/matrix/src/matrix/hooks.py#162\" target=\"_blank\"><span style=\"color: #7f7f7f; text-decoration-color: #7f7f7f\">162</span></a>\n",
       "</pre>\n"
      ],
      "text/plain": [
       "\u001b[2;36m[12/18/24 11:11:06]\u001b[0m\u001b[2;36m \u001b[0m\u001b[34mINFO    \u001b[0m Remembering context for spark later                                       \u001b]8;id=405958;file:///Users/mpw/Code/matrix/pipelines/matrix/src/matrix/hooks.py\u001b\\\u001b[2mhooks.py\u001b[0m\u001b]8;;\u001b\\\u001b[2m:\u001b[0m\u001b]8;id=494826;file:///Users/mpw/Code/matrix/pipelines/matrix/src/matrix/hooks.py#162\u001b\\\u001b[2m162\u001b[0m\u001b]8;;\u001b\\\n"
      ]
     },
     "metadata": {},
     "output_type": "display_data"
    },
    {
     "data": {
      "text/html": [
       "<pre style=\"white-space:pre;overflow-x:auto;line-height:normal;font-family:Menlo,'DejaVu Sans Mono',consolas,'Courier New',monospace\"><span style=\"color: #7fbfbf; text-decoration-color: #7fbfbf\">                    </span><span style=\"color: #000080; text-decoration-color: #000080\">INFO    </span> experiment already exists, re-using                                       <a href=\"file:///Users/mpw/Code/matrix/pipelines/matrix/src/matrix/hooks.py\" target=\"_blank\"><span style=\"color: #7f7f7f; text-decoration-color: #7f7f7f\">hooks.py</span></a><span style=\"color: #7f7f7f; text-decoration-color: #7f7f7f\">:</span><a href=\"file:///Users/mpw/Code/matrix/pipelines/matrix/src/matrix/hooks.py#104\" target=\"_blank\"><span style=\"color: #7f7f7f; text-decoration-color: #7f7f7f\">104</span></a>\n",
       "</pre>\n"
      ],
      "text/plain": [
       "\u001b[2;36m                   \u001b[0m\u001b[2;36m \u001b[0m\u001b[34mINFO    \u001b[0m experiment already exists, re-using                                       \u001b]8;id=865313;file:///Users/mpw/Code/matrix/pipelines/matrix/src/matrix/hooks.py\u001b\\\u001b[2mhooks.py\u001b[0m\u001b]8;;\u001b\\\u001b[2m:\u001b[0m\u001b]8;id=682910;file:///Users/mpw/Code/matrix/pipelines/matrix/src/matrix/hooks.py#104\u001b\\\u001b[2m104\u001b[0m\u001b]8;;\u001b\\\n"
      ]
     },
     "metadata": {},
     "output_type": "display_data"
    },
    {
     "data": {
      "text/html": [
       "<pre style=\"white-space:pre;overflow-x:auto;line-height:normal;font-family:Menlo,'DejaVu Sans Mono',consolas,'Courier New',monospace\"><span style=\"color: #7fbfbf; text-decoration-color: #7fbfbf\">                    </span><span style=\"color: #000080; text-decoration-color: #000080\">INFO    </span> run already exists, re-using                                               <a href=\"file:///Users/mpw/Code/matrix/pipelines/matrix/src/matrix/hooks.py\" target=\"_blank\"><span style=\"color: #7f7f7f; text-decoration-color: #7f7f7f\">hooks.py</span></a><span style=\"color: #7f7f7f; text-decoration-color: #7f7f7f\">:</span><a href=\"file:///Users/mpw/Code/matrix/pipelines/matrix/src/matrix/hooks.py#82\" target=\"_blank\"><span style=\"color: #7f7f7f; text-decoration-color: #7f7f7f\">82</span></a>\n",
       "</pre>\n"
      ],
      "text/plain": [
       "\u001b[2;36m                   \u001b[0m\u001b[2;36m \u001b[0m\u001b[34mINFO    \u001b[0m run already exists, re-using                                               \u001b]8;id=97016;file:///Users/mpw/Code/matrix/pipelines/matrix/src/matrix/hooks.py\u001b\\\u001b[2mhooks.py\u001b[0m\u001b]8;;\u001b\\\u001b[2m:\u001b[0m\u001b]8;id=152598;file:///Users/mpw/Code/matrix/pipelines/matrix/src/matrix/hooks.py#82\u001b\\\u001b[2m82\u001b[0m\u001b]8;;\u001b\\\n"
      ]
     },
     "metadata": {},
     "output_type": "display_data"
    },
    {
     "data": {
      "text/html": [
       "<pre style=\"white-space:pre;overflow-x:auto;line-height:normal;font-family:Menlo,'DejaVu Sans Mono',consolas,'Courier New',monospace\"><span style=\"color: #7fbfbf; text-decoration-color: #7fbfbf\">                    </span><span style=\"color: #000080; text-decoration-color: #000080\">INFO    </span> Registering new custom resolver: <span style=\"color: #008000; text-decoration-color: #008000\">'km.random_name'</span>                    <a href=\"file:///Users/mpw/Code/matrix/pipelines/matrix/.venv/lib/python3.11/site-packages/kedro_mlflow/framework/hooks/mlflow_hook.py\" target=\"_blank\"><span style=\"color: #7f7f7f; text-decoration-color: #7f7f7f\">mlflow_hook.py</span></a><span style=\"color: #7f7f7f; text-decoration-color: #7f7f7f\">:</span><a href=\"file:///Users/mpw/Code/matrix/pipelines/matrix/.venv/lib/python3.11/site-packages/kedro_mlflow/framework/hooks/mlflow_hook.py#64\" target=\"_blank\"><span style=\"color: #7f7f7f; text-decoration-color: #7f7f7f\">64</span></a>\n",
       "</pre>\n"
      ],
      "text/plain": [
       "\u001b[2;36m                   \u001b[0m\u001b[2;36m \u001b[0m\u001b[34mINFO    \u001b[0m Registering new custom resolver: \u001b[32m'km.random_name'\u001b[0m                    \u001b]8;id=27271;file:///Users/mpw/Code/matrix/pipelines/matrix/.venv/lib/python3.11/site-packages/kedro_mlflow/framework/hooks/mlflow_hook.py\u001b\\\u001b[2mmlflow_hook.py\u001b[0m\u001b]8;;\u001b\\\u001b[2m:\u001b[0m\u001b]8;id=729074;file:///Users/mpw/Code/matrix/pipelines/matrix/.venv/lib/python3.11/site-packages/kedro_mlflow/framework/hooks/mlflow_hook.py#64\u001b\\\u001b[2m64\u001b[0m\u001b]8;;\u001b\\\n"
      ]
     },
     "metadata": {},
     "output_type": "display_data"
    },
    {
     "data": {
      "text/html": [
       "<pre style=\"white-space:pre;overflow-x:auto;line-height:normal;font-family:Menlo,'DejaVu Sans Mono',consolas,'Courier New',monospace\"><span style=\"color: #7fbfbf; text-decoration-color: #7fbfbf\">                    </span><span style=\"color: #808000; text-decoration-color: #808000\">WARNING </span> The mlflow run 9d1df3e0a34644e794c9ed66ebbc5e8e is already active.   <a href=\"file:///Users/mpw/Code/matrix/pipelines/matrix/.venv/lib/python3.11/site-packages/kedro_mlflow/framework/hooks/mlflow_hook.py\" target=\"_blank\"><span style=\"color: #7f7f7f; text-decoration-color: #7f7f7f\">mlflow_hook.py</span></a><span style=\"color: #7f7f7f; text-decoration-color: #7f7f7f\">:</span><a href=\"file:///Users/mpw/Code/matrix/pipelines/matrix/.venv/lib/python3.11/site-packages/kedro_mlflow/framework/hooks/mlflow_hook.py#96\" target=\"_blank\"><span style=\"color: #7f7f7f; text-decoration-color: #7f7f7f\">96</span></a>\n",
       "<span style=\"color: #7fbfbf; text-decoration-color: #7fbfbf\">                    </span>         Configuration is inferred from the environment, and mlflow.yml is    <span style=\"color: #7f7f7f; text-decoration-color: #7f7f7f\">                 </span>\n",
       "<span style=\"color: #7fbfbf; text-decoration-color: #7fbfbf\">                    </span>         ignored.                                                             <span style=\"color: #7f7f7f; text-decoration-color: #7f7f7f\">                 </span>\n",
       "</pre>\n"
      ],
      "text/plain": [
       "\u001b[2;36m                   \u001b[0m\u001b[2;36m \u001b[0m\u001b[33mWARNING \u001b[0m The mlflow run 9d1df3e0a34644e794c9ed66ebbc5e8e is already active.   \u001b]8;id=40271;file:///Users/mpw/Code/matrix/pipelines/matrix/.venv/lib/python3.11/site-packages/kedro_mlflow/framework/hooks/mlflow_hook.py\u001b\\\u001b[2mmlflow_hook.py\u001b[0m\u001b]8;;\u001b\\\u001b[2m:\u001b[0m\u001b]8;id=478406;file:///Users/mpw/Code/matrix/pipelines/matrix/.venv/lib/python3.11/site-packages/kedro_mlflow/framework/hooks/mlflow_hook.py#96\u001b\\\u001b[2m96\u001b[0m\u001b]8;;\u001b\\\n",
       "\u001b[2;36m                    \u001b[0m         Configuration is inferred from the environment, and mlflow.yml is    \u001b[2m                 \u001b[0m\n",
       "\u001b[2;36m                    \u001b[0m         ignored.                                                             \u001b[2m                 \u001b[0m\n"
      ]
     },
     "metadata": {},
     "output_type": "display_data"
    },
    {
     "data": {
      "text/html": [
       "<pre style=\"white-space:pre;overflow-x:auto;line-height:normal;font-family:Menlo,'DejaVu Sans Mono',consolas,'Courier New',monospace\"><span style=\"color: #7fbfbf; text-decoration-color: #7fbfbf\">                    </span><span style=\"color: #808000; text-decoration-color: #808000\">WARNING </span> mlflow_config.server.<span style=\"color: #808000; text-decoration-color: #808000\">mlflow_tracking_uri</span>=<span style=\"color: #008000; text-decoration-color: #008000\">'http://127.0.0.1:5001'</span>    <a href=\"file:///Users/mpw/Code/matrix/pipelines/matrix/.venv/lib/python3.11/site-packages/kedro_mlflow/framework/hooks/mlflow_hook.py\" target=\"_blank\"><span style=\"color: #7f7f7f; text-decoration-color: #7f7f7f\">mlflow_hook.py</span></a><span style=\"color: #7f7f7f; text-decoration-color: #7f7f7f\">:</span><a href=\"file:///Users/mpw/Code/matrix/pipelines/matrix/.venv/lib/python3.11/site-packages/kedro_mlflow/framework/hooks/mlflow_hook.py#104\" target=\"_blank\"><span style=\"color: #7f7f7f; text-decoration-color: #7f7f7f\">104</span></a>\n",
       "</pre>\n"
      ],
      "text/plain": [
       "\u001b[2;36m                   \u001b[0m\u001b[2;36m \u001b[0m\u001b[33mWARNING \u001b[0m mlflow_config.server.\u001b[33mmlflow_tracking_uri\u001b[0m=\u001b[32m'http://127.0.0.1:5001'\u001b[0m    \u001b]8;id=524279;file:///Users/mpw/Code/matrix/pipelines/matrix/.venv/lib/python3.11/site-packages/kedro_mlflow/framework/hooks/mlflow_hook.py\u001b\\\u001b[2mmlflow_hook.py\u001b[0m\u001b]8;;\u001b\\\u001b[2m:\u001b[0m\u001b]8;id=601921;file:///Users/mpw/Code/matrix/pipelines/matrix/.venv/lib/python3.11/site-packages/kedro_mlflow/framework/hooks/mlflow_hook.py#104\u001b\\\u001b[2m104\u001b[0m\u001b]8;;\u001b\\\n"
      ]
     },
     "metadata": {},
     "output_type": "display_data"
    },
    {
     "data": {
      "text/html": [
       "<pre style=\"white-space:pre;overflow-x:auto;line-height:normal;font-family:Menlo,'DejaVu Sans Mono',consolas,'Courier New',monospace\"><span style=\"color: #7fbfbf; text-decoration-color: #7fbfbf\">                    </span><span style=\"color: #808000; text-decoration-color: #808000\">WARNING </span> mlflow_config.tracking.run.<span style=\"color: #808000; text-decoration-color: #808000\">id</span>=<span style=\"color: #008000; text-decoration-color: #008000\">'9d1df3e0a34644e794c9ed66ebbc5e8e'</span>    <a href=\"file:///Users/mpw/Code/matrix/pipelines/matrix/.venv/lib/python3.11/site-packages/kedro_mlflow/framework/hooks/mlflow_hook.py\" target=\"_blank\"><span style=\"color: #7f7f7f; text-decoration-color: #7f7f7f\">mlflow_hook.py</span></a><span style=\"color: #7f7f7f; text-decoration-color: #7f7f7f\">:</span><a href=\"file:///Users/mpw/Code/matrix/pipelines/matrix/.venv/lib/python3.11/site-packages/kedro_mlflow/framework/hooks/mlflow_hook.py#107\" target=\"_blank\"><span style=\"color: #7f7f7f; text-decoration-color: #7f7f7f\">107</span></a>\n",
       "</pre>\n"
      ],
      "text/plain": [
       "\u001b[2;36m                   \u001b[0m\u001b[2;36m \u001b[0m\u001b[33mWARNING \u001b[0m mlflow_config.tracking.run.\u001b[33mid\u001b[0m=\u001b[32m'9d1df3e0a34644e794c9ed66ebbc5e8e'\u001b[0m    \u001b]8;id=253445;file:///Users/mpw/Code/matrix/pipelines/matrix/.venv/lib/python3.11/site-packages/kedro_mlflow/framework/hooks/mlflow_hook.py\u001b\\\u001b[2mmlflow_hook.py\u001b[0m\u001b]8;;\u001b\\\u001b[2m:\u001b[0m\u001b]8;id=345804;file:///Users/mpw/Code/matrix/pipelines/matrix/.venv/lib/python3.11/site-packages/kedro_mlflow/framework/hooks/mlflow_hook.py#107\u001b\\\u001b[2m107\u001b[0m\u001b]8;;\u001b\\\n"
      ]
     },
     "metadata": {},
     "output_type": "display_data"
    },
    {
     "data": {
      "text/html": [
       "<pre style=\"white-space:pre;overflow-x:auto;line-height:normal;font-family:Menlo,'DejaVu Sans Mono',consolas,'Courier New',monospace\"><span style=\"color: #7fbfbf; text-decoration-color: #7fbfbf\">                    </span><span style=\"color: #808000; text-decoration-color: #808000\">WARNING </span> mlflow_config.tracking.experiment.<span style=\"color: #808000; text-decoration-color: #808000\">name</span>=<span style=\"color: #008000; text-decoration-color: #008000\">'20240807'</span>                   <a href=\"file:///Users/mpw/Code/matrix/pipelines/matrix/.venv/lib/python3.11/site-packages/kedro_mlflow/framework/hooks/mlflow_hook.py\" target=\"_blank\"><span style=\"color: #7f7f7f; text-decoration-color: #7f7f7f\">mlflow_hook.py</span></a><span style=\"color: #7f7f7f; text-decoration-color: #7f7f7f\">:</span><a href=\"file:///Users/mpw/Code/matrix/pipelines/matrix/.venv/lib/python3.11/site-packages/kedro_mlflow/framework/hooks/mlflow_hook.py#112\" target=\"_blank\"><span style=\"color: #7f7f7f; text-decoration-color: #7f7f7f\">112</span></a>\n",
       "</pre>\n"
      ],
      "text/plain": [
       "\u001b[2;36m                   \u001b[0m\u001b[2;36m \u001b[0m\u001b[33mWARNING \u001b[0m mlflow_config.tracking.experiment.\u001b[33mname\u001b[0m=\u001b[32m'20240807'\u001b[0m                   \u001b]8;id=543796;file:///Users/mpw/Code/matrix/pipelines/matrix/.venv/lib/python3.11/site-packages/kedro_mlflow/framework/hooks/mlflow_hook.py\u001b\\\u001b[2mmlflow_hook.py\u001b[0m\u001b]8;;\u001b\\\u001b[2m:\u001b[0m\u001b]8;id=733574;file:///Users/mpw/Code/matrix/pipelines/matrix/.venv/lib/python3.11/site-packages/kedro_mlflow/framework/hooks/mlflow_hook.py#112\u001b\\\u001b[2m112\u001b[0m\u001b]8;;\u001b\\\n"
      ]
     },
     "metadata": {},
     "output_type": "display_data"
    },
    {
     "data": {
      "text/html": [
       "<pre style=\"white-space:pre;overflow-x:auto;line-height:normal;font-family:Menlo,'DejaVu Sans Mono',consolas,'Courier New',monospace\"><span style=\"color: #7fbfbf; text-decoration-color: #7fbfbf\">                    </span><span style=\"color: #000080; text-decoration-color: #000080\">INFO    </span> Kedro project matrix                                                   <a href=\"file:///Users/mpw/Code/matrix/pipelines/matrix/.venv/lib/python3.11/site-packages/kedro/ipython/__init__.py\" target=\"_blank\"><span style=\"color: #7f7f7f; text-decoration-color: #7f7f7f\">__init__.py</span></a><span style=\"color: #7f7f7f; text-decoration-color: #7f7f7f\">:</span><a href=\"file:///Users/mpw/Code/matrix/pipelines/matrix/.venv/lib/python3.11/site-packages/kedro/ipython/__init__.py#141\" target=\"_blank\"><span style=\"color: #7f7f7f; text-decoration-color: #7f7f7f\">141</span></a>\n",
       "</pre>\n"
      ],
      "text/plain": [
       "\u001b[2;36m                   \u001b[0m\u001b[2;36m \u001b[0m\u001b[34mINFO    \u001b[0m Kedro project matrix                                                   \u001b]8;id=94989;file:///Users/mpw/Code/matrix/pipelines/matrix/.venv/lib/python3.11/site-packages/kedro/ipython/__init__.py\u001b\\\u001b[2m__init__.py\u001b[0m\u001b]8;;\u001b\\\u001b[2m:\u001b[0m\u001b]8;id=405311;file:///Users/mpw/Code/matrix/pipelines/matrix/.venv/lib/python3.11/site-packages/kedro/ipython/__init__.py#141\u001b\\\u001b[2m141\u001b[0m\u001b]8;;\u001b\\\n"
      ]
     },
     "metadata": {},
     "output_type": "display_data"
    },
    {
     "data": {
      "text/html": [
       "<pre style=\"white-space:pre;overflow-x:auto;line-height:normal;font-family:Menlo,'DejaVu Sans Mono',consolas,'Courier New',monospace\"><span style=\"color: #7fbfbf; text-decoration-color: #7fbfbf\">                    </span><span style=\"color: #000080; text-decoration-color: #000080\">INFO    </span> Defined global variable <span style=\"color: #008000; text-decoration-color: #008000\">'context'</span>, <span style=\"color: #008000; text-decoration-color: #008000\">'session'</span>, <span style=\"color: #008000; text-decoration-color: #008000\">'catalog'</span> and            <a href=\"file:///Users/mpw/Code/matrix/pipelines/matrix/.venv/lib/python3.11/site-packages/kedro/ipython/__init__.py\" target=\"_blank\"><span style=\"color: #7f7f7f; text-decoration-color: #7f7f7f\">__init__.py</span></a><span style=\"color: #7f7f7f; text-decoration-color: #7f7f7f\">:</span><a href=\"file:///Users/mpw/Code/matrix/pipelines/matrix/.venv/lib/python3.11/site-packages/kedro/ipython/__init__.py#142\" target=\"_blank\"><span style=\"color: #7f7f7f; text-decoration-color: #7f7f7f\">142</span></a>\n",
       "<span style=\"color: #7fbfbf; text-decoration-color: #7fbfbf\">                    </span>         <span style=\"color: #008000; text-decoration-color: #008000\">'pipelines'</span>                                                            <span style=\"color: #7f7f7f; text-decoration-color: #7f7f7f\">               </span>\n",
       "</pre>\n"
      ],
      "text/plain": [
       "\u001b[2;36m                   \u001b[0m\u001b[2;36m \u001b[0m\u001b[34mINFO    \u001b[0m Defined global variable \u001b[32m'context'\u001b[0m, \u001b[32m'session'\u001b[0m, \u001b[32m'catalog'\u001b[0m and            \u001b]8;id=307670;file:///Users/mpw/Code/matrix/pipelines/matrix/.venv/lib/python3.11/site-packages/kedro/ipython/__init__.py\u001b\\\u001b[2m__init__.py\u001b[0m\u001b]8;;\u001b\\\u001b[2m:\u001b[0m\u001b]8;id=889060;file:///Users/mpw/Code/matrix/pipelines/matrix/.venv/lib/python3.11/site-packages/kedro/ipython/__init__.py#142\u001b\\\u001b[2m142\u001b[0m\u001b]8;;\u001b\\\n",
       "\u001b[2;36m                    \u001b[0m         \u001b[32m'pipelines'\u001b[0m                                                            \u001b[2m               \u001b[0m\n"
      ]
     },
     "metadata": {},
     "output_type": "display_data"
    },
    {
     "data": {
      "text/html": [
       "<pre style=\"white-space:pre;overflow-x:auto;line-height:normal;font-family:Menlo,'DejaVu Sans Mono',consolas,'Courier New',monospace\"><span style=\"color: #7fbfbf; text-decoration-color: #7fbfbf\">                    </span><span style=\"color: #000080; text-decoration-color: #000080\">INFO    </span> Registered line magic <span style=\"color: #008000; text-decoration-color: #008000\">'run_viz'</span>                                        <a href=\"file:///Users/mpw/Code/matrix/pipelines/matrix/.venv/lib/python3.11/site-packages/kedro/ipython/__init__.py\" target=\"_blank\"><span style=\"color: #7f7f7f; text-decoration-color: #7f7f7f\">__init__.py</span></a><span style=\"color: #7f7f7f; text-decoration-color: #7f7f7f\">:</span><a href=\"file:///Users/mpw/Code/matrix/pipelines/matrix/.venv/lib/python3.11/site-packages/kedro/ipython/__init__.py#148\" target=\"_blank\"><span style=\"color: #7f7f7f; text-decoration-color: #7f7f7f\">148</span></a>\n",
       "</pre>\n"
      ],
      "text/plain": [
       "\u001b[2;36m                   \u001b[0m\u001b[2;36m \u001b[0m\u001b[34mINFO    \u001b[0m Registered line magic \u001b[32m'run_viz'\u001b[0m                                        \u001b]8;id=514615;file:///Users/mpw/Code/matrix/pipelines/matrix/.venv/lib/python3.11/site-packages/kedro/ipython/__init__.py\u001b\\\u001b[2m__init__.py\u001b[0m\u001b]8;;\u001b\\\u001b[2m:\u001b[0m\u001b]8;id=502111;file:///Users/mpw/Code/matrix/pipelines/matrix/.venv/lib/python3.11/site-packages/kedro/ipython/__init__.py#148\u001b\\\u001b[2m148\u001b[0m\u001b]8;;\u001b\\\n"
      ]
     },
     "metadata": {},
     "output_type": "display_data"
    }
   ],
   "source": [
    "%load_ext kedro.ipython\n",
    "%reload_kedro  --env cloud\n",
    "cat = catalog #just a convenience"
   ]
  },
  {
   "cell_type": "code",
   "execution_count": 8,
   "metadata": {},
   "outputs": [
    {
     "data": {
      "text/html": [
       "<pre style=\"white-space:pre;overflow-x:auto;line-height:normal;font-family:Menlo,'DejaVu Sans Mono',consolas,'Courier New',monospace\"></pre>\n"
      ],
      "text/plain": []
     },
     "metadata": {},
     "output_type": "display_data"
    },
    {
     "data": {
      "text/plain": [
       "\n",
       "\u001b[1;35mKedroContext\u001b[0m\u001b[1m(\u001b[0m\n",
       "    \u001b[33mproject_path\u001b[0m=\u001b[1;35mPosixPath\u001b[0m\u001b[1m(\u001b[0m\u001b[32m'/Users/mpw/Code/matrix/pipelines/matrix'\u001b[0m\u001b[1m)\u001b[0m,\n",
       "    \u001b[33mconfig_loader\u001b[0m=\u001b[1;35mOmegaConfigLoader\u001b[0m\u001b[1m(\u001b[0m\u001b[33mconf_source\u001b[0m=\u001b[35m/Users/mpw/Code/matrix/pipelines/matrix/\u001b[0m\u001b[95mconf\u001b[0m, \u001b[33menv\u001b[0m=\u001b[35mcloud\u001b[0m, \u001b[33mconfig_patterns\u001b[0m=\u001b[1m{\u001b[0m\u001b[32m'catalog'\u001b[0m: \u001b[1m[\u001b[0m\u001b[32m'catalog*'\u001b[0m, \u001b[32m'catalog*/**'\u001b[0m, \u001b[32m'**/catalog*'\u001b[0m\u001b[1m]\u001b[0m, \u001b[32m'parameters'\u001b[0m: \u001b[1m<\u001b[0m\u001b[1;95mBoxList:\u001b[0m\u001b[39m \u001b[0m\u001b[1;39m[\u001b[0m\u001b[32m'parameters*'\u001b[0m\u001b[39m, \u001b[0m\u001b[32m'parameters*/**'\u001b[0m\u001b[39m, \u001b[0m\u001b[32m'**/parameters*'\u001b[0m\u001b[39m, \u001b[0m\u001b[32m'**/parameters*/**'\u001b[0m\u001b[1;39m]\u001b[0m\u001b[39m>, \u001b[0m\u001b[32m'credentials'\u001b[0m\u001b[39m: \u001b[0m\u001b[1;39m[\u001b[0m\u001b[32m'credentials*'\u001b[0m\u001b[39m, \u001b[0m\u001b[32m'credentials*/**'\u001b[0m\u001b[39m, \u001b[0m\u001b[32m'**/credentials*'\u001b[0m\u001b[1;39m]\u001b[0m\u001b[39m, \u001b[0m\u001b[32m'globals'\u001b[0m\u001b[39m: <BoxList: \u001b[0m\u001b[1;39m[\u001b[0m\u001b[32m'globals*'\u001b[0m\u001b[39m, \u001b[0m\u001b[32m'globals*/**'\u001b[0m\u001b[39m, \u001b[0m\u001b[32m'**/globals*'\u001b[0m\u001b[1;39m]\u001b[0m\u001b[39m>, \u001b[0m\u001b[32m'spark'\u001b[0m\u001b[39m: <BoxList: \u001b[0m\u001b[1;39m[\u001b[0m\u001b[32m'spark*'\u001b[0m\u001b[39m, \u001b[0m\u001b[32m'spark*/**'\u001b[0m\u001b[1;39m]\u001b[0m\u001b[39m>, \u001b[0m\u001b[32m'mlflow'\u001b[0m\u001b[39m: <BoxList: \u001b[0m\u001b[1;39m[\u001b[0m\u001b[32m'mlflow*'\u001b[0m\u001b[39m, \u001b[0m\u001b[32m'mlflow*/**'\u001b[0m\u001b[1;39m]\u001b[0m\u001b[39m>\u001b[0m\u001b[1;39m}\u001b[0m\u001b[1;39m)\u001b[0m\u001b[39m,\u001b[0m\n",
       "\u001b[39m    \u001b[0m\u001b[33menv\u001b[0m\u001b[39m=\u001b[0m\u001b[32m'cloud'\u001b[0m\u001b[39m,\u001b[0m\n",
       "\u001b[39m    \u001b[0m\u001b[33m_package_name\u001b[0m\u001b[39m=\u001b[0m\u001b[3;35mNone\u001b[0m\u001b[39m,\u001b[0m\n",
       "\u001b[39m    \u001b[0m\u001b[33m_hook_manager\u001b[0m\u001b[39m=<pluggy._manager.PluginManager object at \u001b[0m\u001b[1;36m0x30ea5fbd0\u001b[0m\u001b[1m>\u001b[0m,\n",
       "    \u001b[33m_extra_params\u001b[0m=\u001b[3;35mNone\u001b[0m\n",
       "\u001b[1m)\u001b[0m"
      ]
     },
     "execution_count": 8,
     "metadata": {},
     "output_type": "execute_result"
    }
   ],
   "source": [
    "context"
   ]
  },
  {
   "cell_type": "code",
   "execution_count": 9,
   "metadata": {},
   "outputs": [
    {
     "data": {
      "text/html": [
       "<pre style=\"white-space:pre;overflow-x:auto;line-height:normal;font-family:Menlo,'DejaVu Sans Mono',consolas,'Courier New',monospace\"></pre>\n"
      ],
      "text/plain": []
     },
     "metadata": {},
     "output_type": "display_data"
    },
    {
     "data": {
      "text/plain": [
       "\n",
       "\u001b[1m[\u001b[0m\n",
       "    \u001b[32m'embeddings.feat.bucketized_nodes@spark'\u001b[0m,\n",
       "    \u001b[32m'embeddings.feat.bucketized_nodes@partitioned'\u001b[0m,\n",
       "    \u001b[32m'embeddings.feat.graph.node_embeddings@partitioned'\u001b[0m,\n",
       "    \u001b[32m'embeddings.feat.graph.node_embeddings@spark'\u001b[0m,\n",
       "    \u001b[32m'embeddings.feat.graph.pca_node_embeddings'\u001b[0m,\n",
       "    \u001b[32m'embeddings.feat.graph.edges_for_topological'\u001b[0m,\n",
       "    \u001b[32m'embeddings.tmp.input_nodes'\u001b[0m,\n",
       "    \u001b[32m'embeddings.tmp.input_edges'\u001b[0m,\n",
       "    \u001b[32m'embeddings.models.topological'\u001b[0m,\n",
       "    \u001b[32m'embeddings.model_output.topological'\u001b[0m,\n",
       "    \u001b[32m'embeddings.feat.nodes'\u001b[0m,\n",
       "    \u001b[32m'embeddings.reporting.loss'\u001b[0m,\n",
       "    \u001b[32m'embeddings.reporting.topological_pca'\u001b[0m,\n",
       "    \u001b[32m'embeddings.reporting.topological_pca_plot'\u001b[0m\n",
       "\u001b[1m]\u001b[0m"
      ]
     },
     "execution_count": 9,
     "metadata": {},
     "output_type": "execute_result"
    }
   ],
   "source": [
    "catalog.list(\"^embeddings.\")"
   ]
  },
  {
   "cell_type": "markdown",
   "metadata": {},
   "source": [
    "\n",
    "## Required data sources\n",
    "\n",
    "### Embeddings \n",
    "\n",
    "Maya will use the embeddings generated by the Knowledge Graph pipeline to encode the drugs and disease into a vector space.\n",
    "\n",
    "In the embeddings pipeline, embeddings are extracted from Neo4j and saved to GCS. The pipeline is defined in the [embeddings pipeline](https://github.com/matrix-ml/matrix/blob/main/pipelines/matrix/src/matrix/pipelines/embeddings/pipeline.py). \n",
    "\n",
    "```python\n",
    "node(\n",
    "    func=nodes.extract_node_embeddings,\n",
    "    inputs={\n",
    "        \"nodes\": \"embeddings.model_output.graphsage\",\n",
    "        \"string_col\": \"params:embeddings.write_topological_col\",\n",
    "    },\n",
    "    outputs=\"embeddings.feat.nodes\",\n",
    "    name=\"extract_nodes_edges_from_db\",\n",
    "    tags=[\n",
    "        \"argowf.fuse\",\n",
    "        \"argowf.fuse-group.topological_embeddings\",\n",
    "        \"argowf.template-neo4j\",\n",
    "    ],\n",
    "),\n",
    "```\n",
    "\n",
    "Kedro Dataset to which the embeddings are saved: \n",
    "\n",
    "```yml\n",
    "embeddings.feat.nodes:\n",
    "  <<: *_spark_parquet\n",
    "  filepath: ${globals:paths.embeddings}/feat/nodes_with_embeddings\n",
    "```\n",
    "\n",
    "\n",
    "Maya knows that `${globals:paths.embeddings}/feat/nodes_with_embeddings` converts to `gs://mtrx-us-central1-hub-dev-storage/kedro/data/releases/v0.2.4-rc.1/datasets/embeddings/feat/nodes_with_embeddings`, and this is where that dataset will be available in GCP. However, a much easier way to retrieve it is via kedro catalog.\n"
   ]
  },
  {
   "cell_type": "code",
   "execution_count": 10,
   "metadata": {},
   "outputs": [
    {
     "data": {
      "text/html": [
       "<pre style=\"white-space:pre;overflow-x:auto;line-height:normal;font-family:Menlo,'DejaVu Sans Mono',consolas,'Courier New',monospace\"></pre>\n"
      ],
      "text/plain": []
     },
     "metadata": {},
     "output_type": "display_data"
    },
    {
     "data": {
      "text/plain": [
       "\u001b[1m<\u001b[0m\u001b[1;95mmatrix.datasets.gcp.SparkDatasetWithBQExternalTable\u001b[0m\u001b[39m object at \u001b[0m\u001b[1;36m0x30dcba9d0\u001b[0m\u001b[1m>\u001b[0m"
      ]
     },
     "execution_count": 10,
     "metadata": {},
     "output_type": "execute_result"
    }
   ],
   "source": [
    "catalog.datasets.embeddings__feat__nodes"
   ]
  },
  {
   "cell_type": "code",
   "execution_count": 11,
   "metadata": {},
   "outputs": [
    {
     "data": {
      "text/html": [
       "<pre style=\"white-space:pre;overflow-x:auto;line-height:normal;font-family:Menlo,'DejaVu Sans Mono',consolas,'Courier New',monospace\"><span style=\"color: #7fbfbf; text-decoration-color: #7fbfbf\">[12/18/24 11:11:12] </span><span style=\"color: #000080; text-decoration-color: #000080\">INFO    </span> Loading data from <span style=\"color: #ff8700; text-decoration-color: #ff8700\">embeddings.feat.nodes</span>                            <a href=\"file:///Users/mpw/Code/matrix/pipelines/matrix/.venv/lib/python3.11/site-packages/kedro/io/data_catalog.py\" target=\"_blank\"><span style=\"color: #7f7f7f; text-decoration-color: #7f7f7f\">data_catalog.py</span></a><span style=\"color: #7f7f7f; text-decoration-color: #7f7f7f\">:</span><a href=\"file:///Users/mpw/Code/matrix/pipelines/matrix/.venv/lib/python3.11/site-packages/kedro/io/data_catalog.py#508\" target=\"_blank\"><span style=\"color: #7f7f7f; text-decoration-color: #7f7f7f\">508</span></a>\n",
       "<span style=\"color: #7fbfbf; text-decoration-color: #7fbfbf\">                    </span>         <span style=\"font-weight: bold\">(</span>SparkDatasetWithBQExternalTable<span style=\"font-weight: bold\">)</span><span style=\"color: #808000; text-decoration-color: #808000\">...</span>                               <span style=\"color: #7f7f7f; text-decoration-color: #7f7f7f\">                   </span>\n",
       "</pre>\n"
      ],
      "text/plain": [
       "\u001b[2;36m[12/18/24 11:11:12]\u001b[0m\u001b[2;36m \u001b[0m\u001b[34mINFO    \u001b[0m Loading data from \u001b[38;5;208membeddings.feat.nodes\u001b[0m                            \u001b]8;id=308844;file:///Users/mpw/Code/matrix/pipelines/matrix/.venv/lib/python3.11/site-packages/kedro/io/data_catalog.py\u001b\\\u001b[2mdata_catalog.py\u001b[0m\u001b]8;;\u001b\\\u001b[2m:\u001b[0m\u001b]8;id=908055;file:///Users/mpw/Code/matrix/pipelines/matrix/.venv/lib/python3.11/site-packages/kedro/io/data_catalog.py#508\u001b\\\u001b[2m508\u001b[0m\u001b]8;;\u001b\\\n",
       "\u001b[2;36m                    \u001b[0m         \u001b[1m(\u001b[0mSparkDatasetWithBQExternalTable\u001b[1m)\u001b[0m\u001b[33m...\u001b[0m                               \u001b[2m                   \u001b[0m\n"
      ]
     },
     "metadata": {},
     "output_type": "display_data"
    },
    {
     "data": {
      "text/html": [
       "<pre style=\"white-space:pre;overflow-x:auto;line-height:normal;font-family:Menlo,'DejaVu Sans Mono',consolas,'Courier New',monospace\"><span style=\"color: #7fbfbf; text-decoration-color: #7fbfbf\">                    </span><span style=\"color: #808000; text-decoration-color: #808000\">WARNING </span> we are killing spark to create a fresh one                                <a href=\"file:///Users/mpw/Code/matrix/pipelines/matrix/src/matrix/hooks.py\" target=\"_blank\"><span style=\"color: #7f7f7f; text-decoration-color: #7f7f7f\">hooks.py</span></a><span style=\"color: #7f7f7f; text-decoration-color: #7f7f7f\">:</span><a href=\"file:///Users/mpw/Code/matrix/pipelines/matrix/src/matrix/hooks.py#130\" target=\"_blank\"><span style=\"color: #7f7f7f; text-decoration-color: #7f7f7f\">130</span></a>\n",
       "</pre>\n"
      ],
      "text/plain": [
       "\u001b[2;36m                   \u001b[0m\u001b[2;36m \u001b[0m\u001b[33mWARNING \u001b[0m we are killing spark to create a fresh one                                \u001b]8;id=394154;file:///Users/mpw/Code/matrix/pipelines/matrix/src/matrix/hooks.py\u001b\\\u001b[2mhooks.py\u001b[0m\u001b]8;;\u001b\\\u001b[2m:\u001b[0m\u001b]8;id=304020;file:///Users/mpw/Code/matrix/pipelines/matrix/src/matrix/hooks.py#130\u001b\\\u001b[2m130\u001b[0m\u001b]8;;\u001b\\\n"
      ]
     },
     "metadata": {},
     "output_type": "display_data"
    },
    {
     "data": {
      "text/html": [
       "<pre style=\"white-space:pre;overflow-x:auto;line-height:normal;font-family:Menlo,'DejaVu Sans Mono',consolas,'Courier New',monospace\"><span style=\"color: #7fbfbf; text-decoration-color: #7fbfbf\">                    </span><span style=\"color: #000080; text-decoration-color: #000080\">INFO    </span> Executing for enviornment: cloud                                          <a href=\"file:///Users/mpw/Code/matrix/pipelines/matrix/src/matrix/hooks.py\" target=\"_blank\"><span style=\"color: #7f7f7f; text-decoration-color: #7f7f7f\">hooks.py</span></a><span style=\"color: #7f7f7f; text-decoration-color: #7f7f7f\">:</span><a href=\"file:///Users/mpw/Code/matrix/pipelines/matrix/src/matrix/hooks.py#145\" target=\"_blank\"><span style=\"color: #7f7f7f; text-decoration-color: #7f7f7f\">145</span></a>\n",
       "</pre>\n"
      ],
      "text/plain": [
       "\u001b[2;36m                   \u001b[0m\u001b[2;36m \u001b[0m\u001b[34mINFO    \u001b[0m Executing for enviornment: cloud                                          \u001b]8;id=553048;file:///Users/mpw/Code/matrix/pipelines/matrix/src/matrix/hooks.py\u001b\\\u001b[2mhooks.py\u001b[0m\u001b]8;;\u001b\\\u001b[2m:\u001b[0m\u001b]8;id=15301;file:///Users/mpw/Code/matrix/pipelines/matrix/src/matrix/hooks.py#145\u001b\\\u001b[2m145\u001b[0m\u001b]8;;\u001b\\\n"
      ]
     },
     "metadata": {},
     "output_type": "display_data"
    },
    {
     "data": {
      "text/html": [
       "<pre style=\"white-space:pre;overflow-x:auto;line-height:normal;font-family:Menlo,'DejaVu Sans Mono',consolas,'Courier New',monospace\"><span style=\"color: #7fbfbf; text-decoration-color: #7fbfbf\">                    </span><span style=\"color: #000080; text-decoration-color: #000080\">INFO    </span> With ARGO_POD_UID set to:                                                 <a href=\"file:///Users/mpw/Code/matrix/pipelines/matrix/src/matrix/hooks.py\" target=\"_blank\"><span style=\"color: #7f7f7f; text-decoration-color: #7f7f7f\">hooks.py</span></a><span style=\"color: #7f7f7f; text-decoration-color: #7f7f7f\">:</span><a href=\"file:///Users/mpw/Code/matrix/pipelines/matrix/src/matrix/hooks.py#146\" target=\"_blank\"><span style=\"color: #7f7f7f; text-decoration-color: #7f7f7f\">146</span></a>\n",
       "</pre>\n"
      ],
      "text/plain": [
       "\u001b[2;36m                   \u001b[0m\u001b[2;36m \u001b[0m\u001b[34mINFO    \u001b[0m With ARGO_POD_UID set to:                                                 \u001b]8;id=796292;file:///Users/mpw/Code/matrix/pipelines/matrix/src/matrix/hooks.py\u001b\\\u001b[2mhooks.py\u001b[0m\u001b]8;;\u001b\\\u001b[2m:\u001b[0m\u001b]8;id=35241;file:///Users/mpw/Code/matrix/pipelines/matrix/src/matrix/hooks.py#146\u001b\\\u001b[2m146\u001b[0m\u001b]8;;\u001b\\\n"
      ]
     },
     "metadata": {},
     "output_type": "display_data"
    },
    {
     "data": {
      "text/html": [
       "<pre style=\"white-space:pre;overflow-x:auto;line-height:normal;font-family:Menlo,'DejaVu Sans Mono',consolas,'Courier New',monospace\"><span style=\"color: #7fbfbf; text-decoration-color: #7fbfbf\">                    </span><span style=\"color: #000080; text-decoration-color: #000080\">INFO    </span> Thus determined not to be in k8s cluster and executing with               <a href=\"file:///Users/mpw/Code/matrix/pipelines/matrix/src/matrix/hooks.py\" target=\"_blank\"><span style=\"color: #7f7f7f; text-decoration-color: #7f7f7f\">hooks.py</span></a><span style=\"color: #7f7f7f; text-decoration-color: #7f7f7f\">:</span><a href=\"file:///Users/mpw/Code/matrix/pipelines/matrix/src/matrix/hooks.py#147\" target=\"_blank\"><span style=\"color: #7f7f7f; text-decoration-color: #7f7f7f\">147</span></a>\n",
       "<span style=\"color: #7fbfbf; text-decoration-color: #7fbfbf\">                    </span>         service-account.json file                                                 <span style=\"color: #7f7f7f; text-decoration-color: #7f7f7f\">            </span>\n",
       "</pre>\n"
      ],
      "text/plain": [
       "\u001b[2;36m                   \u001b[0m\u001b[2;36m \u001b[0m\u001b[34mINFO    \u001b[0m Thus determined not to be in k8s cluster and executing with               \u001b]8;id=134386;file:///Users/mpw/Code/matrix/pipelines/matrix/src/matrix/hooks.py\u001b\\\u001b[2mhooks.py\u001b[0m\u001b]8;;\u001b\\\u001b[2m:\u001b[0m\u001b]8;id=458346;file:///Users/mpw/Code/matrix/pipelines/matrix/src/matrix/hooks.py#147\u001b\\\u001b[2m147\u001b[0m\u001b]8;;\u001b\\\n",
       "\u001b[2;36m                    \u001b[0m         service-account.json file                                                 \u001b[2m            \u001b[0m\n"
      ]
     },
     "metadata": {},
     "output_type": "display_data"
    },
    {
     "name": "stderr",
     "output_type": "stream",
     "text": [
      "                                                                                "
     ]
    }
   ],
   "source": [
    "embeddings_spark = catalog.load(\"embeddings.feat.nodes\")"
   ]
  },
  {
   "cell_type": "code",
   "execution_count": 12,
   "metadata": {},
   "outputs": [
    {
     "data": {
      "text/html": [
       "<pre style=\"white-space:pre;overflow-x:auto;line-height:normal;font-family:Menlo,'DejaVu Sans Mono',consolas,'Courier New',monospace\"></pre>\n"
      ],
      "text/plain": []
     },
     "metadata": {},
     "output_type": "display_data"
    },
    {
     "data": {
      "text/plain": [
       "DataFrame\u001b[1m[\u001b[0m\u001b[1m<\u001b[0m\u001b[1;95mid\u001b[0m\u001b[39m>: bigint, <labels>: array<string>, topological_embedding: array<float>, pca_embedding: array<double\u001b[0m\u001b[1m>\u001b[0m, id: string, category: string\u001b[1m]\u001b[0m"
      ]
     },
     "execution_count": 12,
     "metadata": {},
     "output_type": "execute_result"
    }
   ],
   "source": [
    "embeddings_spark"
   ]
  },
  {
   "cell_type": "markdown",
   "metadata": {},
   "source": [
    "### Ground truth data\n",
    "\n",
    "Maya needs to retrieve the training data from the preprocessing pipeline, containing True / False positives and negatives that she can use to train her model on the previously retrieved embeddings. First input to other modelling pipelines is `modelling.raw.ground_truth.positives@spark`, so Maya will retrieve that dataset first (together with its negative counterpart `modelling.raw.ground_truth.negatives@spark`).\n",
    "\n",
    "```python\n",
    "node(\n",
    "    func=nodes.create_int_pairs,\n",
    "    inputs=[\n",
    "        \"embeddings.feat.nodes\",\n",
    "        \"modelling.raw.ground_truth.positives@spark\",\n",
    "        \"modelling.raw.ground_truth.negatives@spark\",\n",
    "    ],\n",
    "    outputs=\"modelling.int.known_pairs@spark\",\n",
    "    name=\"create_int_known_pairs\",\n",
    "),\n",
    "```\n",
    "\n",
    "We retrieve ground truth data (conflated True Positives and True Negatives) from GCS. Both were produced by the `preprocessing` pipeline, as dataset `modelling.raw.ground_truth.positives@pandas` and `modelling.raw.ground_truth.negatives@pandas`, and will be read in as `@spark` dataframes by modelling steps. Maya will run the command below to copy the data to her local machine. Like in the previous step, the used version is arbitrary.\n",
    "\n",
    "Maya sees that other files live alongside the `*_conflated.tsv` files, and decides to download and investigate them."
   ]
  },
  {
   "cell_type": "code",
   "execution_count": 13,
   "metadata": {},
   "outputs": [
    {
     "data": {
      "text/html": [
       "<pre style=\"white-space:pre;overflow-x:auto;line-height:normal;font-family:Menlo,'DejaVu Sans Mono',consolas,'Courier New',monospace\"><span style=\"color: #7fbfbf; text-decoration-color: #7fbfbf\">[12/18/24 11:11:21] </span><span style=\"color: #000080; text-decoration-color: #000080\">INFO    </span> Loading data from <span style=\"color: #ff8700; text-decoration-color: #ff8700\">modelling.raw.ground_truth.positives@spark</span>       <a href=\"file:///Users/mpw/Code/matrix/pipelines/matrix/.venv/lib/python3.11/site-packages/kedro/io/data_catalog.py\" target=\"_blank\"><span style=\"color: #7f7f7f; text-decoration-color: #7f7f7f\">data_catalog.py</span></a><span style=\"color: #7f7f7f; text-decoration-color: #7f7f7f\">:</span><a href=\"file:///Users/mpw/Code/matrix/pipelines/matrix/.venv/lib/python3.11/site-packages/kedro/io/data_catalog.py#508\" target=\"_blank\"><span style=\"color: #7f7f7f; text-decoration-color: #7f7f7f\">508</span></a>\n",
       "<span style=\"color: #7fbfbf; text-decoration-color: #7fbfbf\">                    </span>         <span style=\"font-weight: bold\">(</span>SparkDataset<span style=\"font-weight: bold\">)</span><span style=\"color: #808000; text-decoration-color: #808000\">...</span>                                                  <span style=\"color: #7f7f7f; text-decoration-color: #7f7f7f\">                   </span>\n",
       "</pre>\n"
      ],
      "text/plain": [
       "\u001b[2;36m[12/18/24 11:11:21]\u001b[0m\u001b[2;36m \u001b[0m\u001b[34mINFO    \u001b[0m Loading data from \u001b[38;5;208mmodelling.raw.ground_truth.positives@spark\u001b[0m       \u001b]8;id=597654;file:///Users/mpw/Code/matrix/pipelines/matrix/.venv/lib/python3.11/site-packages/kedro/io/data_catalog.py\u001b\\\u001b[2mdata_catalog.py\u001b[0m\u001b]8;;\u001b\\\u001b[2m:\u001b[0m\u001b]8;id=452793;file:///Users/mpw/Code/matrix/pipelines/matrix/.venv/lib/python3.11/site-packages/kedro/io/data_catalog.py#508\u001b\\\u001b[2m508\u001b[0m\u001b]8;;\u001b\\\n",
       "\u001b[2;36m                    \u001b[0m         \u001b[1m(\u001b[0mSparkDataset\u001b[1m)\u001b[0m\u001b[33m...\u001b[0m                                                  \u001b[2m                   \u001b[0m\n"
      ]
     },
     "metadata": {},
     "output_type": "display_data"
    },
    {
     "name": "stderr",
     "output_type": "stream",
     "text": [
      "                                                                                "
     ]
    },
    {
     "data": {
      "text/html": [
       "<pre style=\"white-space:pre;overflow-x:auto;line-height:normal;font-family:Menlo,'DejaVu Sans Mono',consolas,'Courier New',monospace\"><span style=\"color: #7fbfbf; text-decoration-color: #7fbfbf\">[12/18/24 11:11:26] </span><span style=\"color: #000080; text-decoration-color: #000080\">INFO    </span> Loading data from <span style=\"color: #ff8700; text-decoration-color: #ff8700\">modelling.raw.ground_truth.negatives@spark</span>       <a href=\"file:///Users/mpw/Code/matrix/pipelines/matrix/.venv/lib/python3.11/site-packages/kedro/io/data_catalog.py\" target=\"_blank\"><span style=\"color: #7f7f7f; text-decoration-color: #7f7f7f\">data_catalog.py</span></a><span style=\"color: #7f7f7f; text-decoration-color: #7f7f7f\">:</span><a href=\"file:///Users/mpw/Code/matrix/pipelines/matrix/.venv/lib/python3.11/site-packages/kedro/io/data_catalog.py#508\" target=\"_blank\"><span style=\"color: #7f7f7f; text-decoration-color: #7f7f7f\">508</span></a>\n",
       "<span style=\"color: #7fbfbf; text-decoration-color: #7fbfbf\">                    </span>         <span style=\"font-weight: bold\">(</span>SparkDataset<span style=\"font-weight: bold\">)</span><span style=\"color: #808000; text-decoration-color: #808000\">...</span>                                                  <span style=\"color: #7f7f7f; text-decoration-color: #7f7f7f\">                   </span>\n",
       "</pre>\n"
      ],
      "text/plain": [
       "\u001b[2;36m[12/18/24 11:11:26]\u001b[0m\u001b[2;36m \u001b[0m\u001b[34mINFO    \u001b[0m Loading data from \u001b[38;5;208mmodelling.raw.ground_truth.negatives@spark\u001b[0m       \u001b]8;id=703070;file:///Users/mpw/Code/matrix/pipelines/matrix/.venv/lib/python3.11/site-packages/kedro/io/data_catalog.py\u001b\\\u001b[2mdata_catalog.py\u001b[0m\u001b]8;;\u001b\\\u001b[2m:\u001b[0m\u001b]8;id=339290;file:///Users/mpw/Code/matrix/pipelines/matrix/.venv/lib/python3.11/site-packages/kedro/io/data_catalog.py#508\u001b\\\u001b[2m508\u001b[0m\u001b]8;;\u001b\\\n",
       "\u001b[2;36m                    \u001b[0m         \u001b[1m(\u001b[0mSparkDataset\u001b[1m)\u001b[0m\u001b[33m...\u001b[0m                                                  \u001b[2m                   \u001b[0m\n"
      ]
     },
     "metadata": {},
     "output_type": "display_data"
    },
    {
     "name": "stderr",
     "output_type": "stream",
     "text": [
      "                                                                                "
     ]
    }
   ],
   "source": [
    "ground_truths_positives = catalog.load(\"modelling.raw.ground_truth.positives@spark\")\n",
    "ground_truths_negatives = catalog.load(\"modelling.raw.ground_truth.negatives@spark\")"
   ]
  },
  {
   "cell_type": "markdown",
   "metadata": {},
   "source": [
    "# Preprocessing\n",
    "\n",
    "By now, Maya has obtained the embeddings and ground truth data. She will now preprocess the data to create the input for her model. She will also need to create splits for cross-validation.\n",
    "\n",
    "Maya will first inspect the ground truth data."
   ]
  },
  {
   "cell_type": "code",
   "execution_count": 14,
   "metadata": {},
   "outputs": [
    {
     "name": "stderr",
     "output_type": "stream",
     "text": [
      "                                                                                "
     ]
    }
   ],
   "source": [
    "ground_truths_positives_df = ground_truths_positives.toPandas()\n",
    "ground_truths_negatives_df = ground_truths_negatives.toPandas()"
   ]
  },
  {
   "cell_type": "code",
   "execution_count": 15,
   "metadata": {},
   "outputs": [
    {
     "data": {
      "text/html": [
       "<pre style=\"white-space:pre;overflow-x:auto;line-height:normal;font-family:Menlo,'DejaVu Sans Mono',consolas,'Courier New',monospace\"></pre>\n"
      ],
      "text/plain": []
     },
     "metadata": {},
     "output_type": "display_data"
    },
    {
     "data": {
      "text/html": [
       "<div>\n",
       "<style scoped>\n",
       "    .dataframe tbody tr th:only-of-type {\n",
       "        vertical-align: middle;\n",
       "    }\n",
       "\n",
       "    .dataframe tbody tr th {\n",
       "        vertical-align: top;\n",
       "    }\n",
       "\n",
       "    .dataframe thead th {\n",
       "        text-align: right;\n",
       "    }\n",
       "</style>\n",
       "<table border=\"1\" class=\"dataframe\">\n",
       "  <thead>\n",
       "    <tr style=\"text-align: right;\">\n",
       "      <th></th>\n",
       "      <th>source</th>\n",
       "      <th>target</th>\n",
       "    </tr>\n",
       "  </thead>\n",
       "  <tbody>\n",
       "    <tr>\n",
       "      <th>0</th>\n",
       "      <td>CHEBI:3699</td>\n",
       "      <td>MONDO:0007186</td>\n",
       "    </tr>\n",
       "    <tr>\n",
       "      <th>1</th>\n",
       "      <td>UNII:84H8Z9550J</td>\n",
       "      <td>MONDO:0007186</td>\n",
       "    </tr>\n",
       "    <tr>\n",
       "      <th>2</th>\n",
       "      <td>CHEBI:7915</td>\n",
       "      <td>MONDO:0007186</td>\n",
       "    </tr>\n",
       "    <tr>\n",
       "      <th>3</th>\n",
       "      <td>CHEBI:6375</td>\n",
       "      <td>MONDO:0007186</td>\n",
       "    </tr>\n",
       "    <tr>\n",
       "      <th>4</th>\n",
       "      <td>CHEBI:33130</td>\n",
       "      <td>MONDO:0007186</td>\n",
       "    </tr>\n",
       "  </tbody>\n",
       "</table>\n",
       "</div>"
      ],
      "text/plain": [
       "\n",
       "            source         target\n",
       "\u001b[1;36m0\u001b[0m       CHEBI:\u001b[1;36m3699\u001b[0m  MONDO:\u001b[1;36m0007186\u001b[0m\n",
       "\u001b[1;36m1\u001b[0m  UNII:84H8Z9550J  MONDO:\u001b[1;36m0007186\u001b[0m\n",
       "\u001b[1;36m2\u001b[0m       CHEBI:\u001b[1;36m7915\u001b[0m  MONDO:\u001b[1;36m0007186\u001b[0m\n",
       "\u001b[1;36m3\u001b[0m       CHEBI:\u001b[1;36m6375\u001b[0m  MONDO:\u001b[1;36m0007186\u001b[0m\n",
       "\u001b[1;36m4\u001b[0m      CHEBI:\u001b[1;36m33130\u001b[0m  MONDO:\u001b[1;36m0007186\u001b[0m"
      ]
     },
     "execution_count": 15,
     "metadata": {},
     "output_type": "execute_result"
    }
   ],
   "source": [
    "# True positives\n",
    "ground_truths_positives_df.head()"
   ]
  },
  {
   "cell_type": "code",
   "execution_count": 16,
   "metadata": {},
   "outputs": [
    {
     "data": {
      "text/html": [
       "<pre style=\"white-space:pre;overflow-x:auto;line-height:normal;font-family:Menlo,'DejaVu Sans Mono',consolas,'Courier New',monospace\"></pre>\n"
      ],
      "text/plain": []
     },
     "metadata": {},
     "output_type": "display_data"
    },
    {
     "data": {
      "text/html": [
       "<div>\n",
       "<style scoped>\n",
       "    .dataframe tbody tr th:only-of-type {\n",
       "        vertical-align: middle;\n",
       "    }\n",
       "\n",
       "    .dataframe tbody tr th {\n",
       "        vertical-align: top;\n",
       "    }\n",
       "\n",
       "    .dataframe thead th {\n",
       "        text-align: right;\n",
       "    }\n",
       "</style>\n",
       "<table border=\"1\" class=\"dataframe\">\n",
       "  <thead>\n",
       "    <tr style=\"text-align: right;\">\n",
       "      <th></th>\n",
       "      <th>source</th>\n",
       "      <th>target</th>\n",
       "    </tr>\n",
       "  </thead>\n",
       "  <tbody>\n",
       "    <tr>\n",
       "      <th>0</th>\n",
       "      <td>CHEBI:32149</td>\n",
       "      <td>MONDO:0006807</td>\n",
       "    </tr>\n",
       "    <tr>\n",
       "      <th>1</th>\n",
       "      <td>CHEBI:32588</td>\n",
       "      <td>MONDO:0006807</td>\n",
       "    </tr>\n",
       "    <tr>\n",
       "      <th>2</th>\n",
       "      <td>CHEBI:6804</td>\n",
       "      <td>MONDO:0007186</td>\n",
       "    </tr>\n",
       "    <tr>\n",
       "      <th>3</th>\n",
       "      <td>CHEBI:8094</td>\n",
       "      <td>MONDO:0007186</td>\n",
       "    </tr>\n",
       "    <tr>\n",
       "      <th>4</th>\n",
       "      <td>CHEMBL.COMPOUND:CHEMBL1187846</td>\n",
       "      <td>MONDO:0007186</td>\n",
       "    </tr>\n",
       "  </tbody>\n",
       "</table>\n",
       "</div>"
      ],
      "text/plain": [
       "\n",
       "                          source         target\n",
       "\u001b[1;36m0\u001b[0m                    CHEBI:\u001b[1;36m32149\u001b[0m  MONDO:\u001b[1;36m0006807\u001b[0m\n",
       "\u001b[1;36m1\u001b[0m                    CHEBI:\u001b[1;36m32588\u001b[0m  MONDO:\u001b[1;36m0006807\u001b[0m\n",
       "\u001b[1;36m2\u001b[0m                     CHEBI:\u001b[1;36m6804\u001b[0m  MONDO:\u001b[1;36m0007186\u001b[0m\n",
       "\u001b[1;36m3\u001b[0m                     CHEBI:\u001b[1;36m8094\u001b[0m  MONDO:\u001b[1;36m0007186\u001b[0m\n",
       "\u001b[1;36m4\u001b[0m  CHEMBL.COMPOUN\u001b[1;92mD:C\u001b[0mHEMBL1187846  MONDO:\u001b[1;36m0007186\u001b[0m"
      ]
     },
     "execution_count": 16,
     "metadata": {},
     "output_type": "execute_result"
    }
   ],
   "source": [
    "# True negatives\n",
    "ground_truths_negatives_df.head()"
   ]
  },
  {
   "cell_type": "markdown",
   "metadata": {},
   "source": [
    "True positives and true negatives are represented as sets of source-target pairs. `source` is the drug, `target` is the disease.\n",
    "\n",
    "Maya will not be loading entire PySpark dataframe with embedding to memory - before conducting an EDA, she wants to reduce unnecessary columns.\n",
    "\n",
    "She also wants to see what biolink categories the embeddings might have."
   ]
  },
  {
   "cell_type": "code",
   "execution_count": 17,
   "metadata": {},
   "outputs": [
    {
     "name": "stderr",
     "output_type": "stream",
     "text": [
      "                                                                                "
     ]
    },
    {
     "data": {
      "text/html": [
       "<pre style=\"white-space:pre;overflow-x:auto;line-height:normal;font-family:Menlo,'DejaVu Sans Mono',consolas,'Courier New',monospace\"></pre>\n"
      ],
      "text/plain": []
     },
     "metadata": {},
     "output_type": "display_data"
    },
    {
     "data": {
      "text/plain": [
       "\n",
       "\u001b[1m[\u001b[0m\n",
       "    \u001b[32m'biolink:AnatomicalEntity'\u001b[0m,\n",
       "    \u001b[32m'biolink:Drug'\u001b[0m,\n",
       "    \u001b[32m'biolink:ChemicalEntity'\u001b[0m,\n",
       "    \u001b[32m'biolink:SequenceVariant'\u001b[0m,\n",
       "    \u001b[32m'biolink:Gene'\u001b[0m,\n",
       "    \u001b[32m'biolink:Pathway'\u001b[0m,\n",
       "    \u001b[32m'biolink:Polypeptide'\u001b[0m,\n",
       "    \u001b[32m'biolink:Protein'\u001b[0m,\n",
       "    \u001b[32m'biolink:MolecularActivity'\u001b[0m,\n",
       "    \u001b[32m'biolink:GrossAnatomicalStructure'\u001b[0m,\n",
       "    \u001b[32m'biolink:DiseaseOrPhenotypicFeature'\u001b[0m,\n",
       "    \u001b[32m'biolink:PhysiologicalProcess'\u001b[0m,\n",
       "    \u001b[32m'biolink:Disease'\u001b[0m,\n",
       "    \u001b[32m'biolink:NucleicAcidEntity'\u001b[0m,\n",
       "    \u001b[32m'biolink:PhenotypicFeature'\u001b[0m,\n",
       "    \u001b[32m'biolink:BiologicalProcess'\u001b[0m,\n",
       "    \u001b[32m'biolink:GeneFamily'\u001b[0m,\n",
       "    \u001b[32m'biolink:Transcript'\u001b[0m,\n",
       "    \u001b[32m'biolink:CellularComponent'\u001b[0m,\n",
       "    \u001b[32m'biolink:ChemicalMixture'\u001b[0m,\n",
       "    \u001b[32m'biolink:MolecularMixture'\u001b[0m,\n",
       "    \u001b[32m'biolink:MolecularEntity'\u001b[0m,\n",
       "    \u001b[32m'biolink:Cell'\u001b[0m,\n",
       "    \u001b[32m'biolink:OrganismTaxon'\u001b[0m,\n",
       "    \u001b[32m'biolink:CellLine'\u001b[0m,\n",
       "    \u001b[32m'biolink:SmallMolecule'\u001b[0m,\n",
       "    \u001b[32m'biolink:Food'\u001b[0m,\n",
       "    \u001b[32m'biolink:BiologicalEntity'\u001b[0m,\n",
       "    \u001b[32m'biolink:BehavioralFeature'\u001b[0m,\n",
       "    \u001b[32m'biolink:RNAProduct'\u001b[0m,\n",
       "    \u001b[32m'biolink:Behavior'\u001b[0m,\n",
       "    \u001b[32m'biolink:Vitamin'\u001b[0m,\n",
       "    \u001b[32m'biolink:BiologicalProcessOrActivity'\u001b[0m,\n",
       "    \u001b[32m'biolink:NoncodingRNAProduct'\u001b[0m,\n",
       "    \u001b[32m'biolink:ClinicalAttribute'\u001b[0m,\n",
       "    \u001b[32m'biolink:MicroRNA'\u001b[0m,\n",
       "    \u001b[32m'biolink:ComplexMolecularMixture'\u001b[0m,\n",
       "    \u001b[32m'biolink:OrganismAttribute'\u001b[0m\n",
       "\u001b[1m]\u001b[0m"
      ]
     },
     "execution_count": 17,
     "metadata": {},
     "output_type": "execute_result"
    }
   ],
   "source": [
    "from pyspark.sql.functions import col\n",
    "\n",
    "# Get unique values from the \"category\" column\n",
    "unique_categories = embeddings_spark.select(col(\"category\")).distinct()\n",
    "\n",
    "# Collect unique values to a list (will bring data to the driver)\n",
    "unique_values = [row[\"category\"] for row in unique_categories.collect()]\n",
    "\n",
    "unique_values"
   ]
  },
  {
   "cell_type": "markdown",
   "metadata": {},
   "source": [
    "## Preprocess embeddings\n"
   ]
  },
  {
   "cell_type": "markdown",
   "metadata": {},
   "source": [
    "At first, Maya (a) removed all pca_embeddings, (b) removed all entities which are not drugs or diseases."
   ]
  },
  {
   "cell_type": "code",
   "execution_count": 18,
   "metadata": {},
   "outputs": [
    {
     "name": "stderr",
     "output_type": "stream",
     "text": [
      "                                                                                "
     ]
    }
   ],
   "source": [
    "from pyspark.sql import functions as F\n",
    "\n",
    "# Define the categories to keep\n",
    "categories_to_keep = {\n",
    "    \"biolink:DiseaseOrPhenotypicFeature\", \n",
    "    \"biolink:Drug\", \n",
    "    \"biolink:Disease\", \n",
    "    \"biolink:BehavioralFeature\", \n",
    "    \"biolink:SmallMolecule\", \n",
    "    \"biolink:PhenotypicFeature\"\n",
    "}\n",
    "\n",
    "# Filter the PySpark DataFrame\n",
    "filtered_df = embeddings_spark.filter(F.col(\"category\").isin(*categories_to_keep)) \\\n",
    "    .select(\"topological_embedding\", \"id\") \\\n",
    "    .na.drop(subset=[\"id\", \"topological_embedding\"])\n",
    "\n",
    "# Convert the filtered PySpark DataFrame to a Pandas DataFrame\n",
    "embeddings_df = filtered_df.toPandas()"
   ]
  },
  {
   "cell_type": "markdown",
   "metadata": {},
   "source": [
    "`filtered_embeddings_path` now contains topological embeddings of drugs and diseases.\n",
    "\n",
    "Maya filters down the ground truths to a simple list of node ids, to create training data for her model."
   ]
  },
  {
   "cell_type": "code",
   "execution_count": 19,
   "metadata": {},
   "outputs": [],
   "source": [
    "ground_truth_ids = set(ground_truths_negatives_df[\"target\"].unique()) | set(ground_truths_negatives_df[\"source\"].unique()) | set(ground_truths_positives_df[\"target\"].unique()) | set(ground_truths_positives_df[\"source\"].unique())\n"
   ]
  },
  {
   "cell_type": "code",
   "execution_count": 20,
   "metadata": {},
   "outputs": [
    {
     "data": {
      "text/html": [
       "<pre style=\"white-space:pre;overflow-x:auto;line-height:normal;font-family:Menlo,'DejaVu Sans Mono',consolas,'Courier New',monospace\"></pre>\n"
      ],
      "text/plain": []
     },
     "metadata": {},
     "output_type": "display_data"
    },
    {
     "data": {
      "text/html": [
       "<div>\n",
       "<style scoped>\n",
       "    .dataframe tbody tr th:only-of-type {\n",
       "        vertical-align: middle;\n",
       "    }\n",
       "\n",
       "    .dataframe tbody tr th {\n",
       "        vertical-align: top;\n",
       "    }\n",
       "\n",
       "    .dataframe thead th {\n",
       "        text-align: right;\n",
       "    }\n",
       "</style>\n",
       "<table border=\"1\" class=\"dataframe\">\n",
       "  <thead>\n",
       "    <tr style=\"text-align: right;\">\n",
       "      <th></th>\n",
       "      <th>topological_embedding</th>\n",
       "      <th>id</th>\n",
       "    </tr>\n",
       "  </thead>\n",
       "  <tbody>\n",
       "    <tr>\n",
       "      <th>0</th>\n",
       "      <td>[-0.030589668, 0.10044213, 0.19094326, 0.16870...</td>\n",
       "      <td>ATC:L01XY01</td>\n",
       "    </tr>\n",
       "    <tr>\n",
       "      <th>1</th>\n",
       "      <td>[-0.008864332, -0.022826852, 0.056452665, 0.07...</td>\n",
       "      <td>ATC:A10BD14</td>\n",
       "    </tr>\n",
       "    <tr>\n",
       "      <th>2</th>\n",
       "      <td>[-0.0649597, 0.020033212, 0.106236674, 0.15575...</td>\n",
       "      <td>ATC:G03AA11</td>\n",
       "    </tr>\n",
       "    <tr>\n",
       "      <th>3</th>\n",
       "      <td>[0.014651415, 0.009964101, 0.05925943, 0.06414...</td>\n",
       "      <td>ATC:C09DX02</td>\n",
       "    </tr>\n",
       "    <tr>\n",
       "      <th>4</th>\n",
       "      <td>[-0.015761247, -0.045603417, 0.102571644, 0.13...</td>\n",
       "      <td>ATC:J05AP51</td>\n",
       "    </tr>\n",
       "  </tbody>\n",
       "</table>\n",
       "</div>"
      ],
      "text/plain": [
       "\n",
       "                               topological_embedding           id\n",
       "\u001b[1;36m0\u001b[0m  \u001b[1m[\u001b[0m\u001b[1;36m-0.030589668\u001b[0m, \u001b[1;36m0.10044213\u001b[0m, \u001b[1;36m0.19094326\u001b[0m, \u001b[1;36m0.16870\u001b[0m\u001b[33m...\u001b[0m  ATC:L01XY01\n",
       "\u001b[1;36m1\u001b[0m  \u001b[1m[\u001b[0m\u001b[1;36m-0.008864332\u001b[0m, \u001b[1;36m-0.022826852\u001b[0m, \u001b[1;36m0.056452665\u001b[0m, \u001b[1;36m0.07\u001b[0m\u001b[33m...\u001b[0m  AT\u001b[1;92mC:A10B\u001b[0mD14\n",
       "\u001b[1;36m2\u001b[0m  \u001b[1m[\u001b[0m\u001b[1;36m-0.0649597\u001b[0m, \u001b[1;36m0.020033212\u001b[0m, \u001b[1;36m0.106236674\u001b[0m, \u001b[1;36m0.15575\u001b[0m\u001b[33m...\u001b[0m  ATC:G03AA11\n",
       "\u001b[1;36m3\u001b[0m  \u001b[1m[\u001b[0m\u001b[1;36m0.014651415\u001b[0m, \u001b[1;36m0.009964101\u001b[0m, \u001b[1;36m0.05925943\u001b[0m, \u001b[1;36m0.06414\u001b[0m\u001b[33m...\u001b[0m  AT\u001b[1;92mC:C09D\u001b[0mX02\n",
       "\u001b[1;36m4\u001b[0m  \u001b[1m[\u001b[0m\u001b[1;36m-0.015761247\u001b[0m, \u001b[1;36m-0.045603417\u001b[0m, \u001b[1;36m0.102571644\u001b[0m, \u001b[1;36m0.13\u001b[0m\u001b[33m...\u001b[0m  ATC:J05AP51"
      ]
     },
     "execution_count": 20,
     "metadata": {},
     "output_type": "execute_result"
    }
   ],
   "source": [
    "embeddings_df.head()"
   ]
  },
  {
   "cell_type": "code",
   "execution_count": 21,
   "metadata": {},
   "outputs": [
    {
     "data": {
      "text/html": [
       "<pre style=\"white-space:pre;overflow-x:auto;line-height:normal;font-family:Menlo,'DejaVu Sans Mono',consolas,'Courier New',monospace\"></pre>\n"
      ],
      "text/plain": []
     },
     "metadata": {},
     "output_type": "display_data"
    },
    {
     "data": {
      "text/plain": [
       "\u001b[1;36m0.9672624018707199\u001b[0m"
      ]
     },
     "execution_count": 21,
     "metadata": {},
     "output_type": "execute_result"
    }
   ],
   "source": [
    "# calculate how many ground truths ids have an embedding\n",
    "\n",
    "len(ground_truth_ids.intersection(embeddings_df[\"id\"].unique())) / len(ground_truth_ids)\n"
   ]
  },
  {
   "cell_type": "code",
   "execution_count": 22,
   "metadata": {},
   "outputs": [],
   "source": [
    "df_tn_filtered = ground_truths_negatives_df[ground_truths_negatives_df[\"target\"].isin(embeddings_df[\"id\"]) & ground_truths_negatives_df[\"source\"].isin(embeddings_df[\"id\"])]\n",
    "df_tp_filtered = ground_truths_positives_df[ground_truths_positives_df[\"target\"].isin(embeddings_df[\"id\"]) & ground_truths_positives_df[\"source\"].isin(embeddings_df[\"id\"])]"
   ]
  },
  {
   "cell_type": "code",
   "execution_count": 23,
   "metadata": {},
   "outputs": [
    {
     "data": {
      "text/html": [
       "<pre style=\"white-space:pre;overflow-x:auto;line-height:normal;font-family:Menlo,'DejaVu Sans Mono',consolas,'Courier New',monospace\"></pre>\n"
      ],
      "text/plain": []
     },
     "metadata": {},
     "output_type": "display_data"
    },
    {
     "data": {
      "text/plain": [
       "\u001b[1;36m0.9346806918015995\u001b[0m"
      ]
     },
     "execution_count": 23,
     "metadata": {},
     "output_type": "execute_result"
    }
   ],
   "source": [
    "# check how many of the ground truth pairs are left\n",
    "(len(df_tn_filtered) + len(df_tp_filtered)) / (len(ground_truths_negatives_df) + len(ground_truths_positives_df))\n"
   ]
  },
  {
   "cell_type": "markdown",
   "metadata": {},
   "source": [
    "Maya filtered down the dataset to 3GB from 24GB, and reduced it to only relevant drugs and diseases. 97% of drugs and diseases from the ground truth data are included in the filtered embeddings, which is satisfactory.\n",
    "\n",
    "Now, she can proceed to creating her model. \n",
    "\n",
    "- `embeddings_df` is the filtered embeddings plus node ids\n",
    "- `df_tn_filtered` and `df_tp_filtered` are the ground truth data, filtered down to only include rows with a drug and disease that have an embedding\n"
   ]
  },
  {
   "cell_type": "markdown",
   "metadata": {},
   "source": [
    "## Prepare data for modelling\n",
    "\n",
    "Maya combines the filtered embeddings with the ground truth data to create a dataset for model training. She concatenates true positives and negatives, adding a label column.\n"
   ]
  },
  {
   "cell_type": "code",
   "execution_count": 24,
   "metadata": {},
   "outputs": [],
   "source": [
    "import pandas as pd"
   ]
  },
  {
   "cell_type": "code",
   "execution_count": 25,
   "metadata": {},
   "outputs": [
    {
     "name": "stdout",
     "output_type": "stream",
     "text": [
      "Final dataset shape: (47450, 5)\n"
     ]
    },
    {
     "data": {
      "text/html": [
       "<pre style=\"white-space:pre;overflow-x:auto;line-height:normal;font-family:Menlo,'DejaVu Sans Mono',consolas,'Courier New',monospace\"></pre>\n"
      ],
      "text/plain": []
     },
     "metadata": {},
     "output_type": "display_data"
    },
    {
     "data": {
      "text/html": [
       "<div>\n",
       "<style scoped>\n",
       "    .dataframe tbody tr th:only-of-type {\n",
       "        vertical-align: middle;\n",
       "    }\n",
       "\n",
       "    .dataframe tbody tr th {\n",
       "        vertical-align: top;\n",
       "    }\n",
       "\n",
       "    .dataframe thead th {\n",
       "        text-align: right;\n",
       "    }\n",
       "</style>\n",
       "<table border=\"1\" class=\"dataframe\">\n",
       "  <thead>\n",
       "    <tr style=\"text-align: right;\">\n",
       "      <th></th>\n",
       "      <th>source</th>\n",
       "      <th>target</th>\n",
       "      <th>label</th>\n",
       "      <th>source_embedding</th>\n",
       "      <th>target_embedding</th>\n",
       "    </tr>\n",
       "  </thead>\n",
       "  <tbody>\n",
       "    <tr>\n",
       "      <th>0</th>\n",
       "      <td>CHEBI:3699</td>\n",
       "      <td>MONDO:0007186</td>\n",
       "      <td>1</td>\n",
       "      <td>[0.1749186, 0.43398678, 0.7452298, 0.65872484,...</td>\n",
       "      <td>[0.44671196, -0.3108637, 0.06650227, -0.133686...</td>\n",
       "    </tr>\n",
       "    <tr>\n",
       "      <th>1</th>\n",
       "      <td>UNII:84H8Z9550J</td>\n",
       "      <td>MONDO:0007186</td>\n",
       "      <td>1</td>\n",
       "      <td>[0.01990571, -0.08038043, 0.20040062, 0.161179...</td>\n",
       "      <td>[0.44671196, -0.3108637, 0.06650227, -0.133686...</td>\n",
       "    </tr>\n",
       "    <tr>\n",
       "      <th>2</th>\n",
       "      <td>CHEBI:7915</td>\n",
       "      <td>MONDO:0007186</td>\n",
       "      <td>1</td>\n",
       "      <td>[0.07026903, 0.65059316, 0.7452017, 0.7127575,...</td>\n",
       "      <td>[0.44671196, -0.3108637, 0.06650227, -0.133686...</td>\n",
       "    </tr>\n",
       "    <tr>\n",
       "      <th>3</th>\n",
       "      <td>CHEBI:6375</td>\n",
       "      <td>MONDO:0007186</td>\n",
       "      <td>1</td>\n",
       "      <td>[-0.02374817, 0.30726308, 0.9234296, 1.0461868...</td>\n",
       "      <td>[0.44671196, -0.3108637, 0.06650227, -0.133686...</td>\n",
       "    </tr>\n",
       "    <tr>\n",
       "      <th>4</th>\n",
       "      <td>CHEBI:33130</td>\n",
       "      <td>MONDO:0007186</td>\n",
       "      <td>1</td>\n",
       "      <td>[0.24461012, 0.22785787, -0.19872648, 0.362895...</td>\n",
       "      <td>[0.44671196, -0.3108637, 0.06650227, -0.133686...</td>\n",
       "    </tr>\n",
       "  </tbody>\n",
       "</table>\n",
       "</div>"
      ],
      "text/plain": [
       "\n",
       "            source         target  label  \\\n",
       "\u001b[1;36m0\u001b[0m       CHEBI:\u001b[1;36m3699\u001b[0m  MONDO:\u001b[1;36m0007186\u001b[0m      \u001b[1;36m1\u001b[0m   \n",
       "\u001b[1;36m1\u001b[0m  UNII:84H8Z9550J  MONDO:\u001b[1;36m0007186\u001b[0m      \u001b[1;36m1\u001b[0m   \n",
       "\u001b[1;36m2\u001b[0m       CHEBI:\u001b[1;36m7915\u001b[0m  MONDO:\u001b[1;36m0007186\u001b[0m      \u001b[1;36m1\u001b[0m   \n",
       "\u001b[1;36m3\u001b[0m       CHEBI:\u001b[1;36m6375\u001b[0m  MONDO:\u001b[1;36m0007186\u001b[0m      \u001b[1;36m1\u001b[0m   \n",
       "\u001b[1;36m4\u001b[0m      CHEBI:\u001b[1;36m33130\u001b[0m  MONDO:\u001b[1;36m0007186\u001b[0m      \u001b[1;36m1\u001b[0m   \n",
       "\n",
       "                                    source_embedding  \\\n",
       "\u001b[1;36m0\u001b[0m  \u001b[1m[\u001b[0m\u001b[1;36m0.1749186\u001b[0m, \u001b[1;36m0.43398678\u001b[0m, \u001b[1;36m0.7452298\u001b[0m, \u001b[1;36m0.65872484\u001b[0m,\u001b[33m...\u001b[0m   \n",
       "\u001b[1;36m1\u001b[0m  \u001b[1m[\u001b[0m\u001b[1;36m0.01990571\u001b[0m, \u001b[1;36m-0.08038043\u001b[0m, \u001b[1;36m0.20040062\u001b[0m, \u001b[1;36m0.161179\u001b[0m\u001b[33m...\u001b[0m   \n",
       "\u001b[1;36m2\u001b[0m  \u001b[1m[\u001b[0m\u001b[1;36m0.07026903\u001b[0m, \u001b[1;36m0.65059316\u001b[0m, \u001b[1;36m0.7452017\u001b[0m, \u001b[1;36m0.7127575\u001b[0m,\u001b[33m...\u001b[0m   \n",
       "\u001b[1;36m3\u001b[0m  \u001b[1m[\u001b[0m\u001b[1;36m-0.02374817\u001b[0m, \u001b[1;36m0.30726308\u001b[0m, \u001b[1;36m0.9234296\u001b[0m, \u001b[1;36m1.0461868\u001b[0m\u001b[33m...\u001b[0m   \n",
       "\u001b[1;36m4\u001b[0m  \u001b[1m[\u001b[0m\u001b[1;36m0.24461012\u001b[0m, \u001b[1;36m0.22785787\u001b[0m, \u001b[1;36m-0.19872648\u001b[0m, \u001b[1;36m0.362895\u001b[0m\u001b[33m...\u001b[0m   \n",
       "\n",
       "                                    target_embedding  \n",
       "\u001b[1;36m0\u001b[0m  \u001b[1m[\u001b[0m\u001b[1;36m0.44671196\u001b[0m, \u001b[1;36m-0.3108637\u001b[0m, \u001b[1;36m0.06650227\u001b[0m, \u001b[1;36m-0.133686\u001b[0m\u001b[33m...\u001b[0m  \n",
       "\u001b[1;36m1\u001b[0m  \u001b[1m[\u001b[0m\u001b[1;36m0.44671196\u001b[0m, \u001b[1;36m-0.3108637\u001b[0m, \u001b[1;36m0.06650227\u001b[0m, \u001b[1;36m-0.133686\u001b[0m\u001b[33m...\u001b[0m  \n",
       "\u001b[1;36m2\u001b[0m  \u001b[1m[\u001b[0m\u001b[1;36m0.44671196\u001b[0m, \u001b[1;36m-0.3108637\u001b[0m, \u001b[1;36m0.06650227\u001b[0m, \u001b[1;36m-0.133686\u001b[0m\u001b[33m...\u001b[0m  \n",
       "\u001b[1;36m3\u001b[0m  \u001b[1m[\u001b[0m\u001b[1;36m0.44671196\u001b[0m, \u001b[1;36m-0.3108637\u001b[0m, \u001b[1;36m0.06650227\u001b[0m, \u001b[1;36m-0.133686\u001b[0m\u001b[33m...\u001b[0m  \n",
       "\u001b[1;36m4\u001b[0m  \u001b[1m[\u001b[0m\u001b[1;36m0.44671196\u001b[0m, \u001b[1;36m-0.3108637\u001b[0m, \u001b[1;36m0.06650227\u001b[0m, \u001b[1;36m-0.133686\u001b[0m\u001b[33m...\u001b[0m  "
      ]
     },
     "execution_count": 25,
     "metadata": {},
     "output_type": "execute_result"
    }
   ],
   "source": [
    "# Concatenate true positives and negatives, adding label column\n",
    "df_model = pd.concat([\n",
    "    df_tp_filtered.assign(label=1),\n",
    "    df_tn_filtered.assign(label=0)\n",
    "]).reset_index(drop=True)\n",
    "\n",
    "# Join with embeddings to get source and target embeddings\n",
    "df_model = (\n",
    "    df_model\n",
    "    .merge(\n",
    "        embeddings_df[['id', 'topological_embedding']],\n",
    "        left_on='source',\n",
    "        right_on='id',\n",
    "        how='left'\n",
    "    )\n",
    "    .drop('id', axis=1)\n",
    "    .rename(columns={'topological_embedding': 'source_embedding'})\n",
    "    .merge(\n",
    "        embeddings_df[['id', 'topological_embedding']], \n",
    "        left_on='target',\n",
    "        right_on='id',\n",
    "        how='left'\n",
    "    )\n",
    "    .drop('id', axis=1)\n",
    "    .rename(columns={'topological_embedding': 'target_embedding'})\n",
    ")\n",
    "\n",
    "print(f\"Final dataset shape: {df_model.shape}\")\n",
    "df_model.head()\n"
   ]
  },
  {
   "cell_type": "markdown",
   "metadata": {},
   "source": [
    "## Prepare Dataframe with all drug-disease pairs\n",
    "\n",
    "Maya creates a cartesian product of all unique drugs and diseases to generate every possible drug-disease combination that needs a prediction. This creates a comprehensive matrix of all possible pairs, regardless of whether they were in the training data or not.\n",
    "\n",
    "The resulting matrix (shown in the heatmap) allows for easy visualization of predicted relationships across the entire drug-disease space.\n",
    "\n",
    "The code shows that this creates a large number of pairs (number of unique drugs × number of unique diseases), which is why Maya later implements batch processing to handle the predictions efficiently.\n"
   ]
  },
  {
   "cell_type": "code",
   "execution_count": 26,
   "metadata": {},
   "outputs": [
    {
     "name": "stdout",
     "output_type": "stream",
     "text": [
      "Number of unique diseases: 3251\n",
      "Number of unique drugs: 2456\n"
     ]
    }
   ],
   "source": [
    "# Get unique diseases from both dataframes\n",
    "all_diseases = pd.concat([\n",
    "    df_tn_filtered[\"target\"],\n",
    "    df_tp_filtered[\"target\"]\n",
    "]).dropna().unique()\n",
    "\n",
    "# Get unique drugs from both dataframes \n",
    "all_drugs = pd.concat([\n",
    "    df_tn_filtered[\"source\"],\n",
    "    df_tp_filtered[\"source\"]\n",
    "]).dropna().unique()\n",
    "\n",
    "print(f\"Number of unique diseases: {len(all_diseases)}\")\n",
    "print(f\"Number of unique drugs: {len(all_drugs)}\")"
   ]
  },
  {
   "cell_type": "code",
   "execution_count": 27,
   "metadata": {},
   "outputs": [
    {
     "name": "stdout",
     "output_type": "stream",
     "text": [
      "Total number of drug-disease pairs: 7,984,456\n",
      "Shape of all pairs dataframe: (7984456, 2)\n"
     ]
    },
    {
     "data": {
      "text/html": [
       "<pre style=\"white-space:pre;overflow-x:auto;line-height:normal;font-family:Menlo,'DejaVu Sans Mono',consolas,'Courier New',monospace\"></pre>\n"
      ],
      "text/plain": []
     },
     "metadata": {},
     "output_type": "display_data"
    },
    {
     "data": {
      "text/html": [
       "<div>\n",
       "<style scoped>\n",
       "    .dataframe tbody tr th:only-of-type {\n",
       "        vertical-align: middle;\n",
       "    }\n",
       "\n",
       "    .dataframe tbody tr th {\n",
       "        vertical-align: top;\n",
       "    }\n",
       "\n",
       "    .dataframe thead th {\n",
       "        text-align: right;\n",
       "    }\n",
       "</style>\n",
       "<table border=\"1\" class=\"dataframe\">\n",
       "  <thead>\n",
       "    <tr style=\"text-align: right;\">\n",
       "      <th></th>\n",
       "      <th>source</th>\n",
       "      <th>target</th>\n",
       "    </tr>\n",
       "  </thead>\n",
       "  <tbody>\n",
       "    <tr>\n",
       "      <th>0</th>\n",
       "      <td>CHEBI:32149</td>\n",
       "      <td>MONDO:0006807</td>\n",
       "    </tr>\n",
       "    <tr>\n",
       "      <th>1</th>\n",
       "      <td>CHEBI:32149</td>\n",
       "      <td>MONDO:0007186</td>\n",
       "    </tr>\n",
       "    <tr>\n",
       "      <th>2</th>\n",
       "      <td>CHEBI:32149</td>\n",
       "      <td>MONDO:0003781</td>\n",
       "    </tr>\n",
       "    <tr>\n",
       "      <th>3</th>\n",
       "      <td>CHEBI:32149</td>\n",
       "      <td>MONDO:0012586</td>\n",
       "    </tr>\n",
       "    <tr>\n",
       "      <th>4</th>\n",
       "      <td>CHEBI:32149</td>\n",
       "      <td>MONDO:0013146</td>\n",
       "    </tr>\n",
       "  </tbody>\n",
       "</table>\n",
       "</div>"
      ],
      "text/plain": [
       "\n",
       "        source         target\n",
       "\u001b[1;36m0\u001b[0m  CHEBI:\u001b[1;36m32149\u001b[0m  MONDO:\u001b[1;36m0006807\u001b[0m\n",
       "\u001b[1;36m1\u001b[0m  CHEBI:\u001b[1;36m32149\u001b[0m  MONDO:\u001b[1;36m0007186\u001b[0m\n",
       "\u001b[1;36m2\u001b[0m  CHEBI:\u001b[1;36m32149\u001b[0m  MONDO:\u001b[1;36m0003781\u001b[0m\n",
       "\u001b[1;36m3\u001b[0m  CHEBI:\u001b[1;36m32149\u001b[0m  MONDO:\u001b[1;36m0012586\u001b[0m\n",
       "\u001b[1;36m4\u001b[0m  CHEBI:\u001b[1;36m32149\u001b[0m  MONDO:\u001b[1;36m0013146\u001b[0m"
      ]
     },
     "execution_count": 27,
     "metadata": {},
     "output_type": "execute_result"
    }
   ],
   "source": [
    "# Create all possible combinations of drugs and diseases\n",
    "all_pairs = pd.DataFrame(\n",
    "    [(drug, disease) for drug in all_drugs for disease in all_diseases],\n",
    "    columns=['source', 'target']\n",
    ")\n",
    "\n",
    "print(f\"Total number of drug-disease pairs: {len(all_pairs):,}\")\n",
    "print(f\"Shape of all pairs dataframe: {all_pairs.shape}\")\n",
    "all_pairs.head()\n"
   ]
  },
  {
   "cell_type": "markdown",
   "metadata": {},
   "source": [
    "## Prepare features dataset\n",
    "\n",
    "\n",
    "Maya prepares features by converting embeddings into numpy arrays and concatenating them to form input features for the model."
   ]
  },
  {
   "cell_type": "code",
   "execution_count": 28,
   "metadata": {},
   "outputs": [],
   "source": [
    "import numpy as np\n",
    "from sklearn.linear_model import LogisticRegression\n",
    "from sklearn.metrics import roc_auc_score\n",
    "from sklearn.model_selection import KFold, cross_val_score\n",
    "\n",
    "\n",
    "def prepare_features(df):\n",
    "    # Convert list embeddings to numpy arrays\n",
    "    source_embeddings = np.vstack(df['source_embedding'].values)\n",
    "    target_embeddings = np.vstack(df['target_embedding'].values)\n",
    "    \n",
    "    # Concatenate the embeddings horizontally\n",
    "    return np.hstack([source_embeddings, target_embeddings])\n",
    "\n",
    "# Prepare features\n",
    "X = prepare_features(df_model)\n",
    "y = df_model['label'].values"
   ]
  },
  {
   "cell_type": "markdown",
   "metadata": {},
   "source": [
    "### Create Train / Test split\n",
    "\n",
    "Maya splits the data into training and test sets, ensuring an 80/20 split, and stratifies the data based on labels.\n"
   ]
  },
  {
   "cell_type": "code",
   "execution_count": 29,
   "metadata": {},
   "outputs": [],
   "source": [
    "# First, create a train/test split\n",
    "from sklearn.model_selection import train_test_split\n",
    "\n",
    "# Split into train and test sets (80/20 split)\n",
    "X_train, X_test, y_train, y_test = train_test_split(\n",
    "    X, y, test_size=0.2, random_state=42, stratify=y\n",
    ")"
   ]
  },
  {
   "cell_type": "markdown",
   "metadata": {},
   "source": [
    "# Training\n",
    "\n",
    "Maya uses logistic regression for model training, performing cross-validation to evaluate the model's performance on the training data."
   ]
  },
  {
   "cell_type": "code",
   "execution_count": 30,
   "metadata": {},
   "outputs": [
    {
     "name": "stdout",
     "output_type": "stream",
     "text": [
      "Cross-validation results (on training data):\n",
      "CV scores: [0.92360492 0.92592707 0.92617956 0.92444715 0.92397456]\n",
      "Mean AUC-ROC: 0.925 (+/- 0.002)\n"
     ]
    }
   ],
   "source": [
    "# Setup cross-validation on training data only\n",
    "n_splits = 5\n",
    "cv = KFold(n_splits=n_splits, shuffle=True, random_state=42)\n",
    "model = LogisticRegression(\n",
    "    random_state=42,\n",
    "    max_iter=1000,\n",
    ")\n",
    "\n",
    "# Perform cross-validation on training data\n",
    "cv_scores = cross_val_score(\n",
    "    model, \n",
    "    X_train, \n",
    "    y_train, \n",
    "    cv=cv,\n",
    "    scoring='roc_auc',\n",
    "    n_jobs=-1\n",
    ")\n",
    "\n",
    "# Print cross-validation results\n",
    "print(\"Cross-validation results (on training data):\")\n",
    "print(f\"CV scores: {cv_scores}\")\n",
    "print(f\"Mean AUC-ROC: {cv_scores.mean():.3f} (+/- {cv_scores.std() * 2:.3f})\")\n",
    "\n"
   ]
  },
  {
   "cell_type": "code",
   "execution_count": 31,
   "metadata": {},
   "outputs": [],
   "source": [
    "# Train final model on all training data\n",
    "final_model = LogisticRegression(\n",
    "    random_state=42,\n",
    "    max_iter=1000,\n",
    ")\n",
    "trained_model = final_model.fit(X_train, y_train)"
   ]
  },
  {
   "cell_type": "markdown",
   "metadata": {},
   "source": [
    "# Evaluation\n",
    "\n",
    "Maya evaluates the trained model on a held-out test set, calculating the AUC-ROC to assess its performance.\n"
   ]
  },
  {
   "cell_type": "code",
   "execution_count": 32,
   "metadata": {},
   "outputs": [
    {
     "name": "stdout",
     "output_type": "stream",
     "text": [
      "\n",
      "Final model performance on test set:\n",
      "Test AUC-ROC: 0.924\n"
     ]
    }
   ],
   "source": [
    "# Evaluate on held-out test set\n",
    "test_predictions = trained_model.predict_proba(X_test)[:, 1]\n",
    "test_auc = roc_auc_score(y_test, test_predictions)\n",
    "print(f\"\\nFinal model performance on test set:\")\n",
    "print(f\"Test AUC-ROC: {test_auc:.3f}\")"
   ]
  },
  {
   "cell_type": "markdown",
   "metadata": {},
   "source": [
    "## Produce model predictions\n",
    "\n",
    "Maya generates efficacy score predictions for all possible drug-disease pairs using a batching function to handle large data efficiently."
   ]
  },
  {
   "cell_type": "code",
   "execution_count": 33,
   "metadata": {},
   "outputs": [
    {
     "data": {
      "text/html": [
       "<style>#sk-container-id-1 {\n",
       "  /* Definition of color scheme common for light and dark mode */\n",
       "  --sklearn-color-text: black;\n",
       "  --sklearn-color-line: gray;\n",
       "  /* Definition of color scheme for unfitted estimators */\n",
       "  --sklearn-color-unfitted-level-0: #fff5e6;\n",
       "  --sklearn-color-unfitted-level-1: #f6e4d2;\n",
       "  --sklearn-color-unfitted-level-2: #ffe0b3;\n",
       "  --sklearn-color-unfitted-level-3: chocolate;\n",
       "  /* Definition of color scheme for fitted estimators */\n",
       "  --sklearn-color-fitted-level-0: #f0f8ff;\n",
       "  --sklearn-color-fitted-level-1: #d4ebff;\n",
       "  --sklearn-color-fitted-level-2: #b3dbfd;\n",
       "  --sklearn-color-fitted-level-3: cornflowerblue;\n",
       "\n",
       "  /* Specific color for light theme */\n",
       "  --sklearn-color-text-on-default-background: var(--sg-text-color, var(--theme-code-foreground, var(--jp-content-font-color1, black)));\n",
       "  --sklearn-color-background: var(--sg-background-color, var(--theme-background, var(--jp-layout-color0, white)));\n",
       "  --sklearn-color-border-box: var(--sg-text-color, var(--theme-code-foreground, var(--jp-content-font-color1, black)));\n",
       "  --sklearn-color-icon: #696969;\n",
       "\n",
       "  @media (prefers-color-scheme: dark) {\n",
       "    /* Redefinition of color scheme for dark theme */\n",
       "    --sklearn-color-text-on-default-background: var(--sg-text-color, var(--theme-code-foreground, var(--jp-content-font-color1, white)));\n",
       "    --sklearn-color-background: var(--sg-background-color, var(--theme-background, var(--jp-layout-color0, #111)));\n",
       "    --sklearn-color-border-box: var(--sg-text-color, var(--theme-code-foreground, var(--jp-content-font-color1, white)));\n",
       "    --sklearn-color-icon: #878787;\n",
       "  }\n",
       "}\n",
       "\n",
       "#sk-container-id-1 {\n",
       "  color: var(--sklearn-color-text);\n",
       "}\n",
       "\n",
       "#sk-container-id-1 pre {\n",
       "  padding: 0;\n",
       "}\n",
       "\n",
       "#sk-container-id-1 input.sk-hidden--visually {\n",
       "  border: 0;\n",
       "  clip: rect(1px 1px 1px 1px);\n",
       "  clip: rect(1px, 1px, 1px, 1px);\n",
       "  height: 1px;\n",
       "  margin: -1px;\n",
       "  overflow: hidden;\n",
       "  padding: 0;\n",
       "  position: absolute;\n",
       "  width: 1px;\n",
       "}\n",
       "\n",
       "#sk-container-id-1 div.sk-dashed-wrapped {\n",
       "  border: 1px dashed var(--sklearn-color-line);\n",
       "  margin: 0 0.4em 0.5em 0.4em;\n",
       "  box-sizing: border-box;\n",
       "  padding-bottom: 0.4em;\n",
       "  background-color: var(--sklearn-color-background);\n",
       "}\n",
       "\n",
       "#sk-container-id-1 div.sk-container {\n",
       "  /* jupyter's `normalize.less` sets `[hidden] { display: none; }`\n",
       "     but bootstrap.min.css set `[hidden] { display: none !important; }`\n",
       "     so we also need the `!important` here to be able to override the\n",
       "     default hidden behavior on the sphinx rendered scikit-learn.org.\n",
       "     See: https://github.com/scikit-learn/scikit-learn/issues/21755 */\n",
       "  display: inline-block !important;\n",
       "  position: relative;\n",
       "}\n",
       "\n",
       "#sk-container-id-1 div.sk-text-repr-fallback {\n",
       "  display: none;\n",
       "}\n",
       "\n",
       "div.sk-parallel-item,\n",
       "div.sk-serial,\n",
       "div.sk-item {\n",
       "  /* draw centered vertical line to link estimators */\n",
       "  background-image: linear-gradient(var(--sklearn-color-text-on-default-background), var(--sklearn-color-text-on-default-background));\n",
       "  background-size: 2px 100%;\n",
       "  background-repeat: no-repeat;\n",
       "  background-position: center center;\n",
       "}\n",
       "\n",
       "/* Parallel-specific style estimator block */\n",
       "\n",
       "#sk-container-id-1 div.sk-parallel-item::after {\n",
       "  content: \"\";\n",
       "  width: 100%;\n",
       "  border-bottom: 2px solid var(--sklearn-color-text-on-default-background);\n",
       "  flex-grow: 1;\n",
       "}\n",
       "\n",
       "#sk-container-id-1 div.sk-parallel {\n",
       "  display: flex;\n",
       "  align-items: stretch;\n",
       "  justify-content: center;\n",
       "  background-color: var(--sklearn-color-background);\n",
       "  position: relative;\n",
       "}\n",
       "\n",
       "#sk-container-id-1 div.sk-parallel-item {\n",
       "  display: flex;\n",
       "  flex-direction: column;\n",
       "}\n",
       "\n",
       "#sk-container-id-1 div.sk-parallel-item:first-child::after {\n",
       "  align-self: flex-end;\n",
       "  width: 50%;\n",
       "}\n",
       "\n",
       "#sk-container-id-1 div.sk-parallel-item:last-child::after {\n",
       "  align-self: flex-start;\n",
       "  width: 50%;\n",
       "}\n",
       "\n",
       "#sk-container-id-1 div.sk-parallel-item:only-child::after {\n",
       "  width: 0;\n",
       "}\n",
       "\n",
       "/* Serial-specific style estimator block */\n",
       "\n",
       "#sk-container-id-1 div.sk-serial {\n",
       "  display: flex;\n",
       "  flex-direction: column;\n",
       "  align-items: center;\n",
       "  background-color: var(--sklearn-color-background);\n",
       "  padding-right: 1em;\n",
       "  padding-left: 1em;\n",
       "}\n",
       "\n",
       "\n",
       "/* Toggleable style: style used for estimator/Pipeline/ColumnTransformer box that is\n",
       "clickable and can be expanded/collapsed.\n",
       "- Pipeline and ColumnTransformer use this feature and define the default style\n",
       "- Estimators will overwrite some part of the style using the `sk-estimator` class\n",
       "*/\n",
       "\n",
       "/* Pipeline and ColumnTransformer style (default) */\n",
       "\n",
       "#sk-container-id-1 div.sk-toggleable {\n",
       "  /* Default theme specific background. It is overwritten whether we have a\n",
       "  specific estimator or a Pipeline/ColumnTransformer */\n",
       "  background-color: var(--sklearn-color-background);\n",
       "}\n",
       "\n",
       "/* Toggleable label */\n",
       "#sk-container-id-1 label.sk-toggleable__label {\n",
       "  cursor: pointer;\n",
       "  display: block;\n",
       "  width: 100%;\n",
       "  margin-bottom: 0;\n",
       "  padding: 0.5em;\n",
       "  box-sizing: border-box;\n",
       "  text-align: center;\n",
       "}\n",
       "\n",
       "#sk-container-id-1 label.sk-toggleable__label-arrow:before {\n",
       "  /* Arrow on the left of the label */\n",
       "  content: \"▸\";\n",
       "  float: left;\n",
       "  margin-right: 0.25em;\n",
       "  color: var(--sklearn-color-icon);\n",
       "}\n",
       "\n",
       "#sk-container-id-1 label.sk-toggleable__label-arrow:hover:before {\n",
       "  color: var(--sklearn-color-text);\n",
       "}\n",
       "\n",
       "/* Toggleable content - dropdown */\n",
       "\n",
       "#sk-container-id-1 div.sk-toggleable__content {\n",
       "  max-height: 0;\n",
       "  max-width: 0;\n",
       "  overflow: hidden;\n",
       "  text-align: left;\n",
       "  /* unfitted */\n",
       "  background-color: var(--sklearn-color-unfitted-level-0);\n",
       "}\n",
       "\n",
       "#sk-container-id-1 div.sk-toggleable__content.fitted {\n",
       "  /* fitted */\n",
       "  background-color: var(--sklearn-color-fitted-level-0);\n",
       "}\n",
       "\n",
       "#sk-container-id-1 div.sk-toggleable__content pre {\n",
       "  margin: 0.2em;\n",
       "  border-radius: 0.25em;\n",
       "  color: var(--sklearn-color-text);\n",
       "  /* unfitted */\n",
       "  background-color: var(--sklearn-color-unfitted-level-0);\n",
       "}\n",
       "\n",
       "#sk-container-id-1 div.sk-toggleable__content.fitted pre {\n",
       "  /* unfitted */\n",
       "  background-color: var(--sklearn-color-fitted-level-0);\n",
       "}\n",
       "\n",
       "#sk-container-id-1 input.sk-toggleable__control:checked~div.sk-toggleable__content {\n",
       "  /* Expand drop-down */\n",
       "  max-height: 200px;\n",
       "  max-width: 100%;\n",
       "  overflow: auto;\n",
       "}\n",
       "\n",
       "#sk-container-id-1 input.sk-toggleable__control:checked~label.sk-toggleable__label-arrow:before {\n",
       "  content: \"▾\";\n",
       "}\n",
       "\n",
       "/* Pipeline/ColumnTransformer-specific style */\n",
       "\n",
       "#sk-container-id-1 div.sk-label input.sk-toggleable__control:checked~label.sk-toggleable__label {\n",
       "  color: var(--sklearn-color-text);\n",
       "  background-color: var(--sklearn-color-unfitted-level-2);\n",
       "}\n",
       "\n",
       "#sk-container-id-1 div.sk-label.fitted input.sk-toggleable__control:checked~label.sk-toggleable__label {\n",
       "  background-color: var(--sklearn-color-fitted-level-2);\n",
       "}\n",
       "\n",
       "/* Estimator-specific style */\n",
       "\n",
       "/* Colorize estimator box */\n",
       "#sk-container-id-1 div.sk-estimator input.sk-toggleable__control:checked~label.sk-toggleable__label {\n",
       "  /* unfitted */\n",
       "  background-color: var(--sklearn-color-unfitted-level-2);\n",
       "}\n",
       "\n",
       "#sk-container-id-1 div.sk-estimator.fitted input.sk-toggleable__control:checked~label.sk-toggleable__label {\n",
       "  /* fitted */\n",
       "  background-color: var(--sklearn-color-fitted-level-2);\n",
       "}\n",
       "\n",
       "#sk-container-id-1 div.sk-label label.sk-toggleable__label,\n",
       "#sk-container-id-1 div.sk-label label {\n",
       "  /* The background is the default theme color */\n",
       "  color: var(--sklearn-color-text-on-default-background);\n",
       "}\n",
       "\n",
       "/* On hover, darken the color of the background */\n",
       "#sk-container-id-1 div.sk-label:hover label.sk-toggleable__label {\n",
       "  color: var(--sklearn-color-text);\n",
       "  background-color: var(--sklearn-color-unfitted-level-2);\n",
       "}\n",
       "\n",
       "/* Label box, darken color on hover, fitted */\n",
       "#sk-container-id-1 div.sk-label.fitted:hover label.sk-toggleable__label.fitted {\n",
       "  color: var(--sklearn-color-text);\n",
       "  background-color: var(--sklearn-color-fitted-level-2);\n",
       "}\n",
       "\n",
       "/* Estimator label */\n",
       "\n",
       "#sk-container-id-1 div.sk-label label {\n",
       "  font-family: monospace;\n",
       "  font-weight: bold;\n",
       "  display: inline-block;\n",
       "  line-height: 1.2em;\n",
       "}\n",
       "\n",
       "#sk-container-id-1 div.sk-label-container {\n",
       "  text-align: center;\n",
       "}\n",
       "\n",
       "/* Estimator-specific */\n",
       "#sk-container-id-1 div.sk-estimator {\n",
       "  font-family: monospace;\n",
       "  border: 1px dotted var(--sklearn-color-border-box);\n",
       "  border-radius: 0.25em;\n",
       "  box-sizing: border-box;\n",
       "  margin-bottom: 0.5em;\n",
       "  /* unfitted */\n",
       "  background-color: var(--sklearn-color-unfitted-level-0);\n",
       "}\n",
       "\n",
       "#sk-container-id-1 div.sk-estimator.fitted {\n",
       "  /* fitted */\n",
       "  background-color: var(--sklearn-color-fitted-level-0);\n",
       "}\n",
       "\n",
       "/* on hover */\n",
       "#sk-container-id-1 div.sk-estimator:hover {\n",
       "  /* unfitted */\n",
       "  background-color: var(--sklearn-color-unfitted-level-2);\n",
       "}\n",
       "\n",
       "#sk-container-id-1 div.sk-estimator.fitted:hover {\n",
       "  /* fitted */\n",
       "  background-color: var(--sklearn-color-fitted-level-2);\n",
       "}\n",
       "\n",
       "/* Specification for estimator info (e.g. \"i\" and \"?\") */\n",
       "\n",
       "/* Common style for \"i\" and \"?\" */\n",
       "\n",
       ".sk-estimator-doc-link,\n",
       "a:link.sk-estimator-doc-link,\n",
       "a:visited.sk-estimator-doc-link {\n",
       "  float: right;\n",
       "  font-size: smaller;\n",
       "  line-height: 1em;\n",
       "  font-family: monospace;\n",
       "  background-color: var(--sklearn-color-background);\n",
       "  border-radius: 1em;\n",
       "  height: 1em;\n",
       "  width: 1em;\n",
       "  text-decoration: none !important;\n",
       "  margin-left: 1ex;\n",
       "  /* unfitted */\n",
       "  border: var(--sklearn-color-unfitted-level-1) 1pt solid;\n",
       "  color: var(--sklearn-color-unfitted-level-1);\n",
       "}\n",
       "\n",
       ".sk-estimator-doc-link.fitted,\n",
       "a:link.sk-estimator-doc-link.fitted,\n",
       "a:visited.sk-estimator-doc-link.fitted {\n",
       "  /* fitted */\n",
       "  border: var(--sklearn-color-fitted-level-1) 1pt solid;\n",
       "  color: var(--sklearn-color-fitted-level-1);\n",
       "}\n",
       "\n",
       "/* On hover */\n",
       "div.sk-estimator:hover .sk-estimator-doc-link:hover,\n",
       ".sk-estimator-doc-link:hover,\n",
       "div.sk-label-container:hover .sk-estimator-doc-link:hover,\n",
       ".sk-estimator-doc-link:hover {\n",
       "  /* unfitted */\n",
       "  background-color: var(--sklearn-color-unfitted-level-3);\n",
       "  color: var(--sklearn-color-background);\n",
       "  text-decoration: none;\n",
       "}\n",
       "\n",
       "div.sk-estimator.fitted:hover .sk-estimator-doc-link.fitted:hover,\n",
       ".sk-estimator-doc-link.fitted:hover,\n",
       "div.sk-label-container:hover .sk-estimator-doc-link.fitted:hover,\n",
       ".sk-estimator-doc-link.fitted:hover {\n",
       "  /* fitted */\n",
       "  background-color: var(--sklearn-color-fitted-level-3);\n",
       "  color: var(--sklearn-color-background);\n",
       "  text-decoration: none;\n",
       "}\n",
       "\n",
       "/* Span, style for the box shown on hovering the info icon */\n",
       ".sk-estimator-doc-link span {\n",
       "  display: none;\n",
       "  z-index: 9999;\n",
       "  position: relative;\n",
       "  font-weight: normal;\n",
       "  right: .2ex;\n",
       "  padding: .5ex;\n",
       "  margin: .5ex;\n",
       "  width: min-content;\n",
       "  min-width: 20ex;\n",
       "  max-width: 50ex;\n",
       "  color: var(--sklearn-color-text);\n",
       "  box-shadow: 2pt 2pt 4pt #999;\n",
       "  /* unfitted */\n",
       "  background: var(--sklearn-color-unfitted-level-0);\n",
       "  border: .5pt solid var(--sklearn-color-unfitted-level-3);\n",
       "}\n",
       "\n",
       ".sk-estimator-doc-link.fitted span {\n",
       "  /* fitted */\n",
       "  background: var(--sklearn-color-fitted-level-0);\n",
       "  border: var(--sklearn-color-fitted-level-3);\n",
       "}\n",
       "\n",
       ".sk-estimator-doc-link:hover span {\n",
       "  display: block;\n",
       "}\n",
       "\n",
       "/* \"?\"-specific style due to the `<a>` HTML tag */\n",
       "\n",
       "#sk-container-id-1 a.estimator_doc_link {\n",
       "  float: right;\n",
       "  font-size: 1rem;\n",
       "  line-height: 1em;\n",
       "  font-family: monospace;\n",
       "  background-color: var(--sklearn-color-background);\n",
       "  border-radius: 1rem;\n",
       "  height: 1rem;\n",
       "  width: 1rem;\n",
       "  text-decoration: none;\n",
       "  /* unfitted */\n",
       "  color: var(--sklearn-color-unfitted-level-1);\n",
       "  border: var(--sklearn-color-unfitted-level-1) 1pt solid;\n",
       "}\n",
       "\n",
       "#sk-container-id-1 a.estimator_doc_link.fitted {\n",
       "  /* fitted */\n",
       "  border: var(--sklearn-color-fitted-level-1) 1pt solid;\n",
       "  color: var(--sklearn-color-fitted-level-1);\n",
       "}\n",
       "\n",
       "/* On hover */\n",
       "#sk-container-id-1 a.estimator_doc_link:hover {\n",
       "  /* unfitted */\n",
       "  background-color: var(--sklearn-color-unfitted-level-3);\n",
       "  color: var(--sklearn-color-background);\n",
       "  text-decoration: none;\n",
       "}\n",
       "\n",
       "#sk-container-id-1 a.estimator_doc_link.fitted:hover {\n",
       "  /* fitted */\n",
       "  background-color: var(--sklearn-color-fitted-level-3);\n",
       "}\n",
       "</style><div id=\"sk-container-id-1\" class=\"sk-top-container\"><div class=\"sk-text-repr-fallback\"><pre>LogisticRegression(max_iter=1000, random_state=42)</pre><b>In a Jupyter environment, please rerun this cell to show the HTML representation or trust the notebook. <br />On GitHub, the HTML representation is unable to render, please try loading this page with nbviewer.org.</b></div><div class=\"sk-container\" hidden><div class=\"sk-item\"><div class=\"sk-estimator fitted sk-toggleable\"><input class=\"sk-toggleable__control sk-hidden--visually\" id=\"sk-estimator-id-1\" type=\"checkbox\" checked><label for=\"sk-estimator-id-1\" class=\"sk-toggleable__label fitted sk-toggleable__label-arrow fitted\">&nbsp;&nbsp;LogisticRegression<a class=\"sk-estimator-doc-link fitted\" rel=\"noreferrer\" target=\"_blank\" href=\"https://scikit-learn.org/1.4/modules/generated/sklearn.linear_model.LogisticRegression.html\">?<span>Documentation for LogisticRegression</span></a><span class=\"sk-estimator-doc-link fitted\">i<span>Fitted</span></span></label><div class=\"sk-toggleable__content fitted\"><pre>LogisticRegression(max_iter=1000, random_state=42)</pre></div> </div></div></div></div>"
      ],
      "text/plain": [
       "LogisticRegression(max_iter=1000, random_state=42)"
      ]
     },
     "execution_count": 33,
     "metadata": {},
     "output_type": "execute_result"
    }
   ],
   "source": [
    "trained_model"
   ]
  },
  {
   "cell_type": "markdown",
   "metadata": {},
   "source": [
    "Now Maya wants to generate efficacy score predictions for all drug-disease pairs. To avoid fitting all embedidngs in memory, she creates a batching function."
   ]
  },
  {
   "cell_type": "code",
   "execution_count": 34,
   "metadata": {},
   "outputs": [],
   "source": [
    "def batch_pairs_with_embeddings(all_pairs, embeddings_df, batch_size=10000):\n",
    "    \"\"\"\n",
    "    Generate batches of drug-disease pairs with their embeddings.\n",
    "    \n",
    "    Args:\n",
    "        all_pairs (pd.DataFrame): DataFrame with 'source' and 'target' columns\n",
    "        embeddings_df (pd.DataFrame): DataFrame with 'id' and 'topological_embedding' columns\n",
    "        batch_size (int): Number of pairs to process in each batch\n",
    "        \n",
    "    Yields:\n",
    "        np.array: Array of concatenated source and target embeddings for the batch\n",
    "        pd.DataFrame: Corresponding batch of pairs\n",
    "    \"\"\"\n",
    "    # Create embeddings lookup dictionary for faster access\n",
    "    embeddings_dict = dict(zip(embeddings_df['id'], embeddings_df['topological_embedding']))\n",
    "    \n",
    "    # Process pairs in batches\n",
    "    for start_idx in range(0, len(all_pairs), batch_size):\n",
    "        end_idx = min(start_idx + batch_size, len(all_pairs))\n",
    "        batch_pairs = all_pairs.iloc[start_idx:end_idx]\n",
    "        \n",
    "        # Get embeddings for the batch\n",
    "        source_embeddings = np.vstack([\n",
    "            embeddings_dict[source] for source in batch_pairs['source']\n",
    "        ])\n",
    "        target_embeddings = np.vstack([\n",
    "            embeddings_dict[target] for target in batch_pairs['target']\n",
    "        ])\n",
    "        \n",
    "        # Concatenate embeddings\n",
    "        batch_features = np.hstack([source_embeddings, target_embeddings])\n",
    "        \n",
    "        yield batch_features, batch_pairs\n",
    "\n",
    "# Example usage:\n",
    "def predict_all_pairs(model, all_pairs, embeddings_df, batch_size=10000):\n",
    "    \"\"\"\n",
    "    Generate predictions for all drug-disease pairs.\n",
    "    \n",
    "    Args:\n",
    "        model: Trained model with predict_proba method\n",
    "        all_pairs (pd.DataFrame): DataFrame with all drug-disease pairs\n",
    "        embeddings_df (pd.DataFrame): DataFrame with embeddings\n",
    "        batch_size (int): Batch size for processing\n",
    "        \n",
    "    Returns:\n",
    "        pd.DataFrame: Original pairs with prediction scores\n",
    "    \"\"\"\n",
    "    all_predictions = []\n",
    "    all_processed_pairs = []\n",
    "    \n",
    "    for batch_features, batch_pairs in batch_pairs_with_embeddings(all_pairs, embeddings_df, batch_size):\n",
    "        # Get predictions for the batch\n",
    "        batch_predictions = model.predict_proba(batch_features)[:, 1]\n",
    "        \n",
    "        # Store results\n",
    "        batch_results = batch_pairs.copy()\n",
    "        batch_results['prediction_score'] = batch_predictions\n",
    "        all_processed_pairs.append(batch_results)\n",
    "            \n",
    "    # Combine all results\n",
    "    final_results = pd.concat(all_processed_pairs, ignore_index=True)\n",
    "    return final_results"
   ]
  },
  {
   "cell_type": "code",
   "execution_count": 35,
   "metadata": {},
   "outputs": [
    {
     "name": "stdout",
     "output_type": "stream",
     "text": [
      "Generated predictions for 7,984,456 pairs\n",
      "\n",
      "Sample predictions:\n",
      "                source         target  prediction_score\n",
      "5967538  UMLS:C0456388  UMLS:C1519670               1.0\n",
      "5968205  UMLS:C0456388  UMLS:C0178874               1.0\n",
      "6916830  UMLS:C0541491  UMLS:C1519670               1.0\n",
      "5967539  UMLS:C0456388  UMLS:C0392663               1.0\n",
      "5967501  UMLS:C0456388  MONDO:0006713               1.0\n"
     ]
    }
   ],
   "source": [
    "# Generate predictions\n",
    "results_df = predict_all_pairs(\n",
    "    model=trained_model,\n",
    "    all_pairs=all_pairs,\n",
    "    embeddings_df=embeddings_df,\n",
    "    batch_size=50000\n",
    ")\n",
    "\n",
    "# View results\n",
    "print(f\"Generated predictions for {len(results_df):,} pairs\")\n",
    "print(\"\\nSample predictions:\")\n",
    "print(results_df.sort_values('prediction_score', ascending=False).head())\n"
   ]
  },
  {
   "cell_type": "markdown",
   "metadata": {},
   "source": [
    "## Evaluate Prediction Score distributions\n",
    "\n",
    "Maya visualizes the distribution of prediction scores using histograms and density plots to understand the model's output.\n",
    "\n",
    "### Test results"
   ]
  },
  {
   "cell_type": "code",
   "execution_count": 36,
   "metadata": {},
   "outputs": [
    {
     "data": {
      "text/html": [
       "<pre style=\"white-space:pre;overflow-x:auto;line-height:normal;font-family:Menlo,'DejaVu Sans Mono',consolas,'Courier New',monospace\"></pre>\n"
      ],
      "text/plain": []
     },
     "metadata": {},
     "output_type": "display_data"
    },
    {
     "data": {
      "image/png": "[encoded data removed]",
      "text/plain": [
       "\u001b[1m<\u001b[0m\u001b[1;95mFigure\u001b[0m\u001b[39m size 120\u001b[0m\u001b[1;36m0x1000\u001b[0m\u001b[39m with \u001b[0m\u001b[1;36m2\u001b[0m\u001b[39m Axes\u001b[0m\u001b[1m>\u001b[0m"
      ]
     },
     "metadata": {},
     "output_type": "display_data"
    },
    {
     "name": "stdout",
     "output_type": "stream",
     "text": [
      "\n",
      "Prediction Score Statistics:\n",
      "Mean: 0.374\n",
      "Median: 0.194\n",
      "Std Dev: 0.373\n",
      "Min: 0.000\n",
      "Max: 1.000\n"
     ]
    }
   ],
   "source": [
    "import matplotlib.pyplot as plt\n",
    "import seaborn as sns\n",
    "\n",
    "# Create figure and axes\n",
    "fig, (ax1, ax2) = plt.subplots(2, 1, figsize=(12, 10))\n",
    "\n",
    "# Histogram\n",
    "sns.histplot(\n",
    "    data=test_predictions,\n",
    "    bins=50,\n",
    "    ax=ax1\n",
    ")\n",
    "ax1.set_title('Distribution of Prediction Scores (Histogram)')\n",
    "ax1.set_xlabel('Prediction Score')\n",
    "ax1.set_ylabel('Count')\n",
    "\n",
    "# Separate distributions for positive and negative classes\n",
    "sns.kdeplot(\n",
    "    data=test_predictions[y_test == 1],\n",
    "    ax=ax2,\n",
    "    label='Positive Class',\n",
    "    color='green'\n",
    ")\n",
    "sns.kdeplot(\n",
    "    data=test_predictions[y_test == 0],\n",
    "    ax=ax2,\n",
    "    label='Negative Class',\n",
    "    color='red'\n",
    ")\n",
    "ax2.set_title('Distribution of Prediction Scores by Class (Density)')\n",
    "ax2.set_xlabel('Prediction Score')\n",
    "ax2.set_ylabel('Density')\n",
    "ax2.legend()\n",
    "\n",
    "plt.tight_layout()\n",
    "plt.show()\n",
    "\n",
    "# Print some basic statistics\n",
    "print(\"\\nPrediction Score Statistics:\")\n",
    "print(f\"Mean: {test_predictions.mean():.3f}\")\n",
    "print(f\"Median: {np.median(test_predictions):.3f}\")\n",
    "print(f\"Std Dev: {test_predictions.std():.3f}\")\n",
    "print(f\"Min: {test_predictions.min():.3f}\")\n",
    "print(f\"Max: {test_predictions.max():.3f}\")"
   ]
  },
  {
   "cell_type": "markdown",
   "metadata": {},
   "source": [
    "## Full Matrix predictions\n",
    "\n",
    "Maya creates a heatmap to visualize prediction scores for a random sample of drug-disease pairs, providing insights into the model's predictions.\n"
   ]
  },
  {
   "cell_type": "code",
   "execution_count": 37,
   "metadata": {},
   "outputs": [
    {
     "data": {
      "text/html": [
       "<pre style=\"white-space:pre;overflow-x:auto;line-height:normal;font-family:Menlo,'DejaVu Sans Mono',consolas,'Courier New',monospace\"></pre>\n"
      ],
      "text/plain": []
     },
     "metadata": {},
     "output_type": "display_data"
    },
    {
     "data": {
      "image/png": "[encoded data removed]",
      "text/plain": [
       "\u001b[1m<\u001b[0m\u001b[1;95mFigure\u001b[0m\u001b[39m size 120\u001b[0m\u001b[1;36m0x600\u001b[0m\u001b[39m with \u001b[0m\u001b[1;36m1\u001b[0m\u001b[39m Axes\u001b[0m\u001b[1m>\u001b[0m"
      ]
     },
     "metadata": {},
     "output_type": "display_data"
    },
    {
     "name": "stdout",
     "output_type": "stream",
     "text": [
      "\n",
      "Prediction Score Statistics for All Pairs:\n",
      "Mean: 0.627\n",
      "Median: 0.749\n",
      "Std Dev: 0.350\n",
      "Min: 0.000\n",
      "Max: 1.000\n",
      "Total number of predictions: 7,984,456\n"
     ]
    }
   ],
   "source": [
    "# Create figure and axes\n",
    "fig, ax = plt.subplots(figsize=(12, 6))\n",
    "\n",
    "# Overall distribution of all predictions\n",
    "sns.kdeplot(\n",
    "    data=results_df['prediction_score'],\n",
    "    ax=ax,\n",
    "    label='All Predictions',\n",
    "    color='blue'\n",
    ")\n",
    "\n",
    "ax.set_title('Distribution of Prediction Scores for All Drug-Disease Pairs')\n",
    "ax.set_xlabel('Prediction Score')\n",
    "ax.set_ylabel('Density')\n",
    "ax.legend()\n",
    "\n",
    "plt.tight_layout()\n",
    "plt.show()\n",
    "\n",
    "# Print basic statistics for all predictions\n",
    "print(\"\\nPrediction Score Statistics for All Pairs:\")\n",
    "print(f\"Mean: {results_df['prediction_score'].mean():.3f}\")\n",
    "print(f\"Median: {results_df['prediction_score'].median():.3f}\")\n",
    "print(f\"Std Dev: {results_df['prediction_score'].std():.3f}\")\n",
    "print(f\"Min: {results_df['prediction_score'].min():.3f}\")\n",
    "print(f\"Max: {results_df['prediction_score'].max():.3f}\")\n",
    "print(f\"Total number of predictions: {len(results_df):,}\")"
   ]
  },
  {
   "cell_type": "code",
   "execution_count": 38,
   "metadata": {},
   "outputs": [
    {
     "data": {
      "text/html": [
       "<pre style=\"white-space:pre;overflow-x:auto;line-height:normal;font-family:Menlo,'DejaVu Sans Mono',consolas,'Courier New',monospace\"></pre>\n"
      ],
      "text/plain": []
     },
     "metadata": {},
     "output_type": "display_data"
    },
    {
     "data": {
      "image/png": "[encoded data removed]",
      "text/plain": [
       "\u001b[1m<\u001b[0m\u001b[1;95mFigure\u001b[0m\u001b[39m size 150\u001b[0m\u001b[1;36m0x1200\u001b[0m\u001b[39m with \u001b[0m\u001b[1;36m2\u001b[0m\u001b[39m Axes\u001b[0m\u001b[1m>\u001b[0m"
      ]
     },
     "metadata": {},
     "output_type": "display_data"
    },
    {
     "name": "stdout",
     "output_type": "stream",
     "text": [
      "\n",
      "Sample Prediction Statistics:\n",
      "Mean: 0.634\n",
      "Median: 0.753\n",
      "Std Dev: 0.346\n"
     ]
    }
   ],
   "source": [
    "import numpy as np\n",
    "import seaborn as sns\n",
    "import matplotlib.pyplot as plt\n",
    "\n",
    "# Randomly sample 20 drugs and 20 diseases\n",
    "np.random.seed(42)\n",
    "sample_drugs = np.random.choice(all_drugs, size=20, replace=False)\n",
    "sample_diseases = np.random.choice(all_diseases, size=20, replace=False)\n",
    "\n",
    "# Filter results for sampled drugs and diseases\n",
    "sample_results = results_df[\n",
    "    results_df['source'].isin(sample_drugs) & \n",
    "    results_df['target'].isin(sample_diseases)\n",
    "]\n",
    "\n",
    "# Create prediction matrix\n",
    "pred_matrix = sample_results.pivot(\n",
    "    index='source', \n",
    "    columns='target', \n",
    "    values='prediction_score'\n",
    ")\n",
    "\n",
    "# Create heatmap\n",
    "plt.figure(figsize=(15, 12))\n",
    "sns.heatmap(\n",
    "    pred_matrix,\n",
    "    cmap='YlOrRd',\n",
    "    center=0.5,\n",
    "    vmin=0,\n",
    "    vmax=1,\n",
    "    cbar_kws={'label': 'Prediction Score'}\n",
    ")\n",
    "plt.title('Drug-Disease Prediction Scores Heatmap\\n(20 random drugs and diseases)')\n",
    "plt.xlabel('Diseases')\n",
    "plt.ylabel('Drugs')\n",
    "plt.xticks(rotation=45, ha='right')\n",
    "plt.yticks(rotation=0)\n",
    "plt.tight_layout()\n",
    "plt.show()\n",
    "\n",
    "# Print some statistics about the sampled predictions\n",
    "print(\"\\nSample Prediction Statistics:\")\n",
    "print(f\"Mean: {sample_results['prediction_score'].mean():.3f}\")\n",
    "print(f\"Median: {sample_results['prediction_score'].median():.3f}\")\n",
    "print(f\"Std Dev: {sample_results['prediction_score'].std():.3f}\")"
   ]
  },
  {
   "cell_type": "markdown",
   "metadata": {},
   "source": [
    "## Evaluation conclusion\n",
    "\n",
    "Maya generated a full matrix of drug-disease treatment efficacy scores.\n",
    "\n",
    "We already can see that the model is far from perfect, and it highlights some of the issues our more advanced models has ran into - many drugs and diseases are \"frequent flyers\" with consistently high scores all across the board. She can also see that many too many drugs-disease pairs have treat scored close to 1.\n",
    "\n",
    "However, her model is only a basic logistic regression, and for the sake of this exercise we will not be focusing on improving the results she's obrained. \n",
    "\n",
    "Now Maya will add her new model as Kedro node.\n",
    "\n",
    "\n",
    "\n"
   ]
  },
  {
   "cell_type": "markdown",
   "metadata": {},
   "source": [
    "# Integrating model with Kedro"
   ]
  },
  {
   "cell_type": "markdown",
   "metadata": {},
   "source": [
    "Now that Maya has created and prototyped her model, she wants to integrate it with EveryCure's Matrix repository, train and run it as part of the `matrix` pipeline.\n",
    "\n",
    "### Integration with Kedro Pipeline\n",
    "\n",
    "1. **Pipeline Overview**:\n",
    "   - Data is prepared and preprocessed in `raw`, `kg_raw`, `ingestion`, `integration`, and `embeddings` pipelines.\n",
    "   - These datasets are consumed by downstream `modelling`, `evaluation`, `matrix_generation`, and `inference` pipelines.\n",
    "   - Kedro handles many steps automatically, such as sharding and using ApacheSpark datasets.\n",
    "\n",
    "2. **Model Configuration**:\n",
    "   - Models are injected into the Kedro pipeline via dependency injection mechanism.\n",
    "   - Maya adds her model to `DYNAMIC_PIPELINES_MAPPING` in `pipelines/matrix/src/matrix/settings.py`:\n",
    "\n",
    "   ```python\n",
    "   DYNAMIC_PIPELINES_MAPPING = {\n",
    "       \"modelling\": [\n",
    "           {\"model_name\": \"xg_baseline\", \"num_shards\": 1, \"run_inference\": False},\n",
    "           {\"model_name\": \"xg_ensemble\", \"num_shards\": 3, \"run_inference\": True},\n",
    "           {\"model_name\": \"rf\", \"num_shards\": 1, \"run_inference\": False},\n",
    "           {\"model_name\": \"xg_synth\", \"num_shards\": 1, \"run_inference\": False},\n",
    "           {\"model_name\": \"mayas_logistic_regression\", \"num_shards\": 1, \"run_inference\": False},\n",
    "       ],\n",
    "       \"evaluation\": [\n",
    "   ```\n",
    "\n",
    "3. **Model Parameters**:\n",
    "   - Configure parameters in `pipelines/matrix/conf/base/modelling/parameters/mayas_logistic_regression.yml`:\n",
    "\n",
    "   ```yml\n",
    "   modelling.mayas_logistic_regression:\n",
    "       _overrides:\n",
    "         model_tuning_args:\n",
    "           tuner:\n",
    "             object: matrix.pipelines.modelling.tuning.NopTuner\n",
    "             estimator:\n",
    "               object: sklearn.linear_model.LogisticRegression\n",
    "               random_state: ${globals:random_state}\n",
    "               device: cpu # TODO: Add cuda\n",
    "           features:\n",
    "             - source_+\n",
    "             - target_+\n",
    "           target_col_name: y\n",
    "       model_options: ${merge:${.._model_options},${._overrides}}\n",
    "   ```\n",
    "\n",
    "   - **Key Points**:\n",
    "     - The `estimator` is set to `sklearn.linear_model.LogisticRegression`. If she wanted to use an actual custom model object (one she would define and customise), she could reference it's `sklearn`-compliant class here.\n",
    "     - Uses `NopTuner` for hyperparameter tuning.\n",
    "     - Those parameters get automatically passed and injected into the model.\n",
    "     - Following a similar logic, `modelling.<MODEL_NAME>.model_tuning_args` defines parameters for the estimator object. So  all parameters that `sklearn.linear_model.LogisticRegression` eg. `penalty`, `C`, `class_weight`.  etc. could be passed via the config file. For the full list of parameters, have a look at [official documentation](https://scikit-learn.org/1.5/modules/generated/sklearn.linear_model.LogisticRegression.html#logisticregression).\n",
    "\n",
    "\n"
   ]
  },
  {
   "cell_type": "markdown",
   "metadata": {},
   "source": [
    "\n",
    "## Running model\n",
    "\n",
    "Now that the model was added to modelling suite, it will be trained and used to generate matrix when the pipeline is executed. The next section describes how she might do this in a notebook to test out the model first. This will then be compatible with the pipeline."
   ]
  },
  {
   "cell_type": "markdown",
   "metadata": {},
   "source": [
    "## Custom model\n",
    "\n",
    "Maya is now interested in creating a custom model that takes the dot product of embeddings and applies a softmax activation. This is her own novel idea that she wants to test out. Since this is a custom model, she will need to take a look in `pipelines/matrix/src/matrix/pipelines/modelling/model.py` and define her own model class.\n",
    "\n",
    "Maya codes this up into a class called `SumSoftmaxClassifier`. This is compatable with the existing pipeline infrastructure leveraging the `sklearn` interface.\n",
    "\n",
    "We can now use this as we would any other model by including it in the modelling pipeline and config file as above, replaceing logistic regression with her new model e.g. `mayas_softmax`"
   ]
  },
  {
   "cell_type": "code",
   "execution_count": 39,
   "metadata": {},
   "outputs": [],
   "source": [
    "from kedro.io import DataCatalog\n",
    "from kedro.runner import SequentialRunner\n",
    "from matrix.pipelines.modelling.nodes import (\n",
    "    attach_embeddings,\n",
    "    make_splits,\n",
    "    train_model,\n",
    "    create_model,\n",
    "    get_model_predictions,\n",
    "    check_model_performance\n",
    ")"
   ]
  },
  {
   "cell_type": "markdown",
   "metadata": {},
   "source": [
    "We need to load the embeddings using the kedro catalog. \n",
    "We already did this earlier in the notebook, so to save time, we will reuse those in this example. \n"
   ]
  },
  {
   "cell_type": "code",
   "execution_count": 40,
   "metadata": {},
   "outputs": [
    {
     "data": {
      "text/html": [
       "<pre style=\"white-space:pre;overflow-x:auto;line-height:normal;font-family:Menlo,'DejaVu Sans Mono',consolas,'Courier New',monospace\"></pre>\n"
      ],
      "text/plain": []
     },
     "metadata": {},
     "output_type": "display_data"
    },
    {
     "data": {
      "text/html": [
       "<div>\n",
       "<style scoped>\n",
       "    .dataframe tbody tr th:only-of-type {\n",
       "        vertical-align: middle;\n",
       "    }\n",
       "\n",
       "    .dataframe tbody tr th {\n",
       "        vertical-align: top;\n",
       "    }\n",
       "\n",
       "    .dataframe thead th {\n",
       "        text-align: right;\n",
       "    }\n",
       "</style>\n",
       "<table border=\"1\" class=\"dataframe\">\n",
       "  <thead>\n",
       "    <tr style=\"text-align: right;\">\n",
       "      <th></th>\n",
       "      <th>topological_embedding</th>\n",
       "      <th>id</th>\n",
       "    </tr>\n",
       "  </thead>\n",
       "  <tbody>\n",
       "    <tr>\n",
       "      <th>0</th>\n",
       "      <td>[-0.030589668, 0.10044213, 0.19094326, 0.16870...</td>\n",
       "      <td>ATC:L01XY01</td>\n",
       "    </tr>\n",
       "    <tr>\n",
       "      <th>1</th>\n",
       "      <td>[-0.008864332, -0.022826852, 0.056452665, 0.07...</td>\n",
       "      <td>ATC:A10BD14</td>\n",
       "    </tr>\n",
       "    <tr>\n",
       "      <th>2</th>\n",
       "      <td>[-0.0649597, 0.020033212, 0.106236674, 0.15575...</td>\n",
       "      <td>ATC:G03AA11</td>\n",
       "    </tr>\n",
       "    <tr>\n",
       "      <th>3</th>\n",
       "      <td>[0.014651415, 0.009964101, 0.05925943, 0.06414...</td>\n",
       "      <td>ATC:C09DX02</td>\n",
       "    </tr>\n",
       "    <tr>\n",
       "      <th>4</th>\n",
       "      <td>[-0.015761247, -0.045603417, 0.102571644, 0.13...</td>\n",
       "      <td>ATC:J05AP51</td>\n",
       "    </tr>\n",
       "    <tr>\n",
       "      <th>...</th>\n",
       "      <td>...</td>\n",
       "      <td>...</td>\n",
       "    </tr>\n",
       "    <tr>\n",
       "      <th>1459872</th>\n",
       "      <td>[0.04522865, 0.20245677, -0.030826908, 0.21916...</td>\n",
       "      <td>ttd.target:Quinoline_carboxamide_derivative_1</td>\n",
       "    </tr>\n",
       "    <tr>\n",
       "      <th>1459873</th>\n",
       "      <td>[0.1416671, 0.22784449, 0.07946762, 0.09356948...</td>\n",
       "      <td>ttd.target:SK-NBP601</td>\n",
       "    </tr>\n",
       "    <tr>\n",
       "      <th>1459874</th>\n",
       "      <td>[0.17295104, 0.12946096, 0.06036864, 0.3531766...</td>\n",
       "      <td>ttd.target:Tetra-hydro-triazolopyrimidine_deri...</td>\n",
       "    </tr>\n",
       "    <tr>\n",
       "      <th>1459875</th>\n",
       "      <td>[0.101661295, 0.10240988, 0.222844, 0.20699313...</td>\n",
       "      <td>ttd.target:Triazole_derivative_2</td>\n",
       "    </tr>\n",
       "    <tr>\n",
       "      <th>1459876</th>\n",
       "      <td>[0.41206747, -0.11803185, 0.18854778, 0.255514...</td>\n",
       "      <td>ttd.target:YPEG-Somatropin</td>\n",
       "    </tr>\n",
       "  </tbody>\n",
       "</table>\n",
       "<p>1459877 rows × 2 columns</p>\n",
       "</div>"
      ],
      "text/plain": [
       "\n",
       "                                     topological_embedding  \\\n",
       "\u001b[1;36m0\u001b[0m        \u001b[1m[\u001b[0m\u001b[1;36m-0.030589668\u001b[0m, \u001b[1;36m0.10044213\u001b[0m, \u001b[1;36m0.19094326\u001b[0m, \u001b[1;36m0.16870\u001b[0m\u001b[33m...\u001b[0m   \n",
       "\u001b[1;36m1\u001b[0m        \u001b[1m[\u001b[0m\u001b[1;36m-0.008864332\u001b[0m, \u001b[1;36m-0.022826852\u001b[0m, \u001b[1;36m0.056452665\u001b[0m, \u001b[1;36m0.07\u001b[0m\u001b[33m...\u001b[0m   \n",
       "\u001b[1;36m2\u001b[0m        \u001b[1m[\u001b[0m\u001b[1;36m-0.0649597\u001b[0m, \u001b[1;36m0.020033212\u001b[0m, \u001b[1;36m0.106236674\u001b[0m, \u001b[1;36m0.15575\u001b[0m\u001b[33m...\u001b[0m   \n",
       "\u001b[1;36m3\u001b[0m        \u001b[1m[\u001b[0m\u001b[1;36m0.014651415\u001b[0m, \u001b[1;36m0.009964101\u001b[0m, \u001b[1;36m0.05925943\u001b[0m, \u001b[1;36m0.06414\u001b[0m\u001b[33m...\u001b[0m   \n",
       "\u001b[1;36m4\u001b[0m        \u001b[1m[\u001b[0m\u001b[1;36m-0.015761247\u001b[0m, \u001b[1;36m-0.045603417\u001b[0m, \u001b[1;36m0.102571644\u001b[0m, \u001b[1;36m0.13\u001b[0m\u001b[33m...\u001b[0m   \n",
       "\u001b[33m...\u001b[0m                                                    \u001b[33m...\u001b[0m   \n",
       "\u001b[1;36m1459872\u001b[0m  \u001b[1m[\u001b[0m\u001b[1;36m0.04522865\u001b[0m, \u001b[1;36m0.20245677\u001b[0m, \u001b[1;36m-0.030826908\u001b[0m, \u001b[1;36m0.21916\u001b[0m\u001b[33m...\u001b[0m   \n",
       "\u001b[1;36m1459873\u001b[0m  \u001b[1m[\u001b[0m\u001b[1;36m0.1416671\u001b[0m, \u001b[1;36m0.22784449\u001b[0m, \u001b[1;36m0.07946762\u001b[0m, \u001b[1;36m0.09356948\u001b[0m\u001b[33m...\u001b[0m   \n",
       "\u001b[1;36m1459874\u001b[0m  \u001b[1m[\u001b[0m\u001b[1;36m0.17295104\u001b[0m, \u001b[1;36m0.12946096\u001b[0m, \u001b[1;36m0.06036864\u001b[0m, \u001b[1;36m0.3531766\u001b[0m\u001b[33m...\u001b[0m   \n",
       "\u001b[1;36m1459875\u001b[0m  \u001b[1m[\u001b[0m\u001b[1;36m0.101661295\u001b[0m, \u001b[1;36m0.10240988\u001b[0m, \u001b[1;36m0.222844\u001b[0m, \u001b[1;36m0.20699313\u001b[0m\u001b[33m...\u001b[0m   \n",
       "\u001b[1;36m1459876\u001b[0m  \u001b[1m[\u001b[0m\u001b[1;36m0.41206747\u001b[0m, \u001b[1;36m-0.11803185\u001b[0m, \u001b[1;36m0.18854778\u001b[0m, \u001b[1;36m0.255514\u001b[0m\u001b[33m...\u001b[0m   \n",
       "\n",
       "                                                        id  \n",
       "\u001b[1;36m0\u001b[0m                                              ATC:L01XY01  \n",
       "\u001b[1;36m1\u001b[0m                                              AT\u001b[1;92mC:A10B\u001b[0mD14  \n",
       "\u001b[1;36m2\u001b[0m                                              ATC:G03AA11  \n",
       "\u001b[1;36m3\u001b[0m                                              AT\u001b[1;92mC:C09D\u001b[0mX02  \n",
       "\u001b[1;36m4\u001b[0m                                              ATC:J05AP51  \n",
       "\u001b[33m...\u001b[0m                                                    \u001b[33m...\u001b[0m  \n",
       "\u001b[1;36m1459872\u001b[0m      ttd.target:Quinoline_carboxamide_derivative_1  \n",
       "\u001b[1;36m1459873\u001b[0m                               ttd.target:SK-NBP601  \n",
       "\u001b[1;36m1459874\u001b[0m  ttd.target:Tetra-hydro-triazolopyrimidine_deri\u001b[33m...\u001b[0m  \n",
       "\u001b[1;36m1459875\u001b[0m                   ttd.target:Triazole_derivative_2  \n",
       "\u001b[1;36m1459876\u001b[0m                         ttd.target:YPEG-Somatropin  \n",
       "\n",
       "\u001b[1m[\u001b[0m\u001b[1;36m1459877\u001b[0m rows x \u001b[1;36m2\u001b[0m columns\u001b[1m]\u001b[0m"
      ]
     },
     "execution_count": 40,
     "metadata": {},
     "output_type": "execute_result"
    }
   ],
   "source": [
    "# 1. Look at embeddings we previously created\n",
    "embeddings_df\n"
   ]
  },
  {
   "cell_type": "markdown",
   "metadata": {},
   "source": [
    "We will also need the training data to create splits- again we will reuse the same data we used previously. "
   ]
  },
  {
   "cell_type": "code",
   "execution_count": 41,
   "metadata": {},
   "outputs": [
    {
     "data": {
      "text/html": [
       "<pre style=\"white-space:pre;overflow-x:auto;line-height:normal;font-family:Menlo,'DejaVu Sans Mono',consolas,'Courier New',monospace\"></pre>\n"
      ],
      "text/plain": []
     },
     "metadata": {},
     "output_type": "display_data"
    },
    {
     "data": {
      "text/html": [
       "<div>\n",
       "<style scoped>\n",
       "    .dataframe tbody tr th:only-of-type {\n",
       "        vertical-align: middle;\n",
       "    }\n",
       "\n",
       "    .dataframe tbody tr th {\n",
       "        vertical-align: top;\n",
       "    }\n",
       "\n",
       "    .dataframe thead th {\n",
       "        text-align: right;\n",
       "    }\n",
       "</style>\n",
       "<table border=\"1\" class=\"dataframe\">\n",
       "  <thead>\n",
       "    <tr style=\"text-align: right;\">\n",
       "      <th></th>\n",
       "      <th>source</th>\n",
       "      <th>target</th>\n",
       "      <th>label</th>\n",
       "      <th>source_embedding</th>\n",
       "      <th>target_embedding</th>\n",
       "    </tr>\n",
       "  </thead>\n",
       "  <tbody>\n",
       "    <tr>\n",
       "      <th>0</th>\n",
       "      <td>CHEBI:3699</td>\n",
       "      <td>MONDO:0007186</td>\n",
       "      <td>1</td>\n",
       "      <td>[0.1749186, 0.43398678, 0.7452298, 0.65872484,...</td>\n",
       "      <td>[0.44671196, -0.3108637, 0.06650227, -0.133686...</td>\n",
       "    </tr>\n",
       "    <tr>\n",
       "      <th>1</th>\n",
       "      <td>UNII:84H8Z9550J</td>\n",
       "      <td>MONDO:0007186</td>\n",
       "      <td>1</td>\n",
       "      <td>[0.01990571, -0.08038043, 0.20040062, 0.161179...</td>\n",
       "      <td>[0.44671196, -0.3108637, 0.06650227, -0.133686...</td>\n",
       "    </tr>\n",
       "    <tr>\n",
       "      <th>2</th>\n",
       "      <td>CHEBI:7915</td>\n",
       "      <td>MONDO:0007186</td>\n",
       "      <td>1</td>\n",
       "      <td>[0.07026903, 0.65059316, 0.7452017, 0.7127575,...</td>\n",
       "      <td>[0.44671196, -0.3108637, 0.06650227, -0.133686...</td>\n",
       "    </tr>\n",
       "    <tr>\n",
       "      <th>3</th>\n",
       "      <td>CHEBI:6375</td>\n",
       "      <td>MONDO:0007186</td>\n",
       "      <td>1</td>\n",
       "      <td>[-0.02374817, 0.30726308, 0.9234296, 1.0461868...</td>\n",
       "      <td>[0.44671196, -0.3108637, 0.06650227, -0.133686...</td>\n",
       "    </tr>\n",
       "    <tr>\n",
       "      <th>4</th>\n",
       "      <td>CHEBI:33130</td>\n",
       "      <td>MONDO:0007186</td>\n",
       "      <td>1</td>\n",
       "      <td>[0.24461012, 0.22785787, -0.19872648, 0.362895...</td>\n",
       "      <td>[0.44671196, -0.3108637, 0.06650227, -0.133686...</td>\n",
       "    </tr>\n",
       "    <tr>\n",
       "      <th>...</th>\n",
       "      <td>...</td>\n",
       "      <td>...</td>\n",
       "      <td>...</td>\n",
       "      <td>...</td>\n",
       "      <td>...</td>\n",
       "    </tr>\n",
       "    <tr>\n",
       "      <th>47445</th>\n",
       "      <td>CHEBI:5959</td>\n",
       "      <td>MONDO:0004981</td>\n",
       "      <td>0</td>\n",
       "      <td>[0.18785809, 0.39737, 0.6268821, 0.6997055, -0...</td>\n",
       "      <td>[-0.15491335, 0.2701274, -0.67102075, -0.13310...</td>\n",
       "    </tr>\n",
       "    <tr>\n",
       "      <th>47446</th>\n",
       "      <td>UNII:183E4W213W</td>\n",
       "      <td>MONDO:0004981</td>\n",
       "      <td>0</td>\n",
       "      <td>[0.12992747, 0.054867685, -0.116463006, 0.4809...</td>\n",
       "      <td>[-0.15491335, 0.2701274, -0.67102075, -0.13310...</td>\n",
       "    </tr>\n",
       "    <tr>\n",
       "      <th>47447</th>\n",
       "      <td>CHEBI:27882</td>\n",
       "      <td>MONDO:0004981</td>\n",
       "      <td>0</td>\n",
       "      <td>[-0.5312017, 0.44113338, 0.8198503, 0.9630272,...</td>\n",
       "      <td>[-0.15491335, 0.2701274, -0.67102075, -0.13310...</td>\n",
       "    </tr>\n",
       "    <tr>\n",
       "      <th>47448</th>\n",
       "      <td>CHEBI:6801</td>\n",
       "      <td>MONDO:0004981</td>\n",
       "      <td>0</td>\n",
       "      <td>[-0.2729406, 0.039909743, 0.45587704, 0.660389...</td>\n",
       "      <td>[-0.15491335, 0.2701274, -0.67102075, -0.13310...</td>\n",
       "    </tr>\n",
       "    <tr>\n",
       "      <th>47449</th>\n",
       "      <td>CHEBI:15956</td>\n",
       "      <td>MONDO:0004981</td>\n",
       "      <td>0</td>\n",
       "      <td>[-0.08906631, 0.53773946, 0.5909424, 0.1686795...</td>\n",
       "      <td>[-0.15491335, 0.2701274, -0.67102075, -0.13310...</td>\n",
       "    </tr>\n",
       "  </tbody>\n",
       "</table>\n",
       "<p>47450 rows × 5 columns</p>\n",
       "</div>"
      ],
      "text/plain": [
       "\n",
       "                source         target  label  \\\n",
       "\u001b[1;36m0\u001b[0m           CHEBI:\u001b[1;36m3699\u001b[0m  MONDO:\u001b[1;36m0007186\u001b[0m      \u001b[1;36m1\u001b[0m   \n",
       "\u001b[1;36m1\u001b[0m      UNII:84H8Z9550J  MONDO:\u001b[1;36m0007186\u001b[0m      \u001b[1;36m1\u001b[0m   \n",
       "\u001b[1;36m2\u001b[0m           CHEBI:\u001b[1;36m7915\u001b[0m  MONDO:\u001b[1;36m0007186\u001b[0m      \u001b[1;36m1\u001b[0m   \n",
       "\u001b[1;36m3\u001b[0m           CHEBI:\u001b[1;36m6375\u001b[0m  MONDO:\u001b[1;36m0007186\u001b[0m      \u001b[1;36m1\u001b[0m   \n",
       "\u001b[1;36m4\u001b[0m          CHEBI:\u001b[1;36m33130\u001b[0m  MONDO:\u001b[1;36m0007186\u001b[0m      \u001b[1;36m1\u001b[0m   \n",
       "\u001b[33m...\u001b[0m                \u001b[33m...\u001b[0m            \u001b[33m...\u001b[0m    \u001b[33m...\u001b[0m   \n",
       "\u001b[1;36m47445\u001b[0m       CHEBI:\u001b[1;36m5959\u001b[0m  MONDO:\u001b[1;36m0004981\u001b[0m      \u001b[1;36m0\u001b[0m   \n",
       "\u001b[1;36m47446\u001b[0m  UNII:183E4W213W  MONDO:\u001b[1;36m0004981\u001b[0m      \u001b[1;36m0\u001b[0m   \n",
       "\u001b[1;36m47447\u001b[0m      CHEBI:\u001b[1;36m27882\u001b[0m  MONDO:\u001b[1;36m0004981\u001b[0m      \u001b[1;36m0\u001b[0m   \n",
       "\u001b[1;36m47448\u001b[0m       CHEBI:\u001b[1;36m6801\u001b[0m  MONDO:\u001b[1;36m0004981\u001b[0m      \u001b[1;36m0\u001b[0m   \n",
       "\u001b[1;36m47449\u001b[0m      CHEBI:\u001b[1;36m15956\u001b[0m  MONDO:\u001b[1;36m0004981\u001b[0m      \u001b[1;36m0\u001b[0m   \n",
       "\n",
       "                                        source_embedding  \\\n",
       "\u001b[1;36m0\u001b[0m      \u001b[1m[\u001b[0m\u001b[1;36m0.1749186\u001b[0m, \u001b[1;36m0.43398678\u001b[0m, \u001b[1;36m0.7452298\u001b[0m, \u001b[1;36m0.65872484\u001b[0m,\u001b[33m...\u001b[0m   \n",
       "\u001b[1;36m1\u001b[0m      \u001b[1m[\u001b[0m\u001b[1;36m0.01990571\u001b[0m, \u001b[1;36m-0.08038043\u001b[0m, \u001b[1;36m0.20040062\u001b[0m, \u001b[1;36m0.161179\u001b[0m\u001b[33m...\u001b[0m   \n",
       "\u001b[1;36m2\u001b[0m      \u001b[1m[\u001b[0m\u001b[1;36m0.07026903\u001b[0m, \u001b[1;36m0.65059316\u001b[0m, \u001b[1;36m0.7452017\u001b[0m, \u001b[1;36m0.7127575\u001b[0m,\u001b[33m...\u001b[0m   \n",
       "\u001b[1;36m3\u001b[0m      \u001b[1m[\u001b[0m\u001b[1;36m-0.02374817\u001b[0m, \u001b[1;36m0.30726308\u001b[0m, \u001b[1;36m0.9234296\u001b[0m, \u001b[1;36m1.0461868\u001b[0m\u001b[33m...\u001b[0m   \n",
       "\u001b[1;36m4\u001b[0m      \u001b[1m[\u001b[0m\u001b[1;36m0.24461012\u001b[0m, \u001b[1;36m0.22785787\u001b[0m, \u001b[1;36m-0.19872648\u001b[0m, \u001b[1;36m0.362895\u001b[0m\u001b[33m...\u001b[0m   \n",
       "\u001b[33m...\u001b[0m                                                  \u001b[33m...\u001b[0m   \n",
       "\u001b[1;36m47445\u001b[0m  \u001b[1m[\u001b[0m\u001b[1;36m0.18785809\u001b[0m, \u001b[1;36m0.39737\u001b[0m, \u001b[1;36m0.6268821\u001b[0m, \u001b[1;36m0.6997055\u001b[0m, \u001b[1;36m-0\u001b[0m\u001b[33m...\u001b[0m   \n",
       "\u001b[1;36m47446\u001b[0m  \u001b[1m[\u001b[0m\u001b[1;36m0.12992747\u001b[0m, \u001b[1;36m0.054867685\u001b[0m, \u001b[1;36m-0.116463006\u001b[0m, \u001b[1;36m0.4809\u001b[0m\u001b[33m...\u001b[0m   \n",
       "\u001b[1;36m47447\u001b[0m  \u001b[1m[\u001b[0m\u001b[1;36m-0.5312017\u001b[0m, \u001b[1;36m0.44113338\u001b[0m, \u001b[1;36m0.8198503\u001b[0m, \u001b[1;36m0.9630272\u001b[0m,\u001b[33m...\u001b[0m   \n",
       "\u001b[1;36m47448\u001b[0m  \u001b[1m[\u001b[0m\u001b[1;36m-0.2729406\u001b[0m, \u001b[1;36m0.039909743\u001b[0m, \u001b[1;36m0.45587704\u001b[0m, \u001b[1;36m0.660389\u001b[0m\u001b[33m...\u001b[0m   \n",
       "\u001b[1;36m47449\u001b[0m  \u001b[1m[\u001b[0m\u001b[1;36m-0.08906631\u001b[0m, \u001b[1;36m0.53773946\u001b[0m, \u001b[1;36m0.5909424\u001b[0m, \u001b[1;36m0.1686795\u001b[0m\u001b[33m...\u001b[0m   \n",
       "\n",
       "                                        target_embedding  \n",
       "\u001b[1;36m0\u001b[0m      \u001b[1m[\u001b[0m\u001b[1;36m0.44671196\u001b[0m, \u001b[1;36m-0.3108637\u001b[0m, \u001b[1;36m0.06650227\u001b[0m, \u001b[1;36m-0.133686\u001b[0m\u001b[33m...\u001b[0m  \n",
       "\u001b[1;36m1\u001b[0m      \u001b[1m[\u001b[0m\u001b[1;36m0.44671196\u001b[0m, \u001b[1;36m-0.3108637\u001b[0m, \u001b[1;36m0.06650227\u001b[0m, \u001b[1;36m-0.133686\u001b[0m\u001b[33m...\u001b[0m  \n",
       "\u001b[1;36m2\u001b[0m      \u001b[1m[\u001b[0m\u001b[1;36m0.44671196\u001b[0m, \u001b[1;36m-0.3108637\u001b[0m, \u001b[1;36m0.06650227\u001b[0m, \u001b[1;36m-0.133686\u001b[0m\u001b[33m...\u001b[0m  \n",
       "\u001b[1;36m3\u001b[0m      \u001b[1m[\u001b[0m\u001b[1;36m0.44671196\u001b[0m, \u001b[1;36m-0.3108637\u001b[0m, \u001b[1;36m0.06650227\u001b[0m, \u001b[1;36m-0.133686\u001b[0m\u001b[33m...\u001b[0m  \n",
       "\u001b[1;36m4\u001b[0m      \u001b[1m[\u001b[0m\u001b[1;36m0.44671196\u001b[0m, \u001b[1;36m-0.3108637\u001b[0m, \u001b[1;36m0.06650227\u001b[0m, \u001b[1;36m-0.133686\u001b[0m\u001b[33m...\u001b[0m  \n",
       "\u001b[33m...\u001b[0m                                                  \u001b[33m...\u001b[0m  \n",
       "\u001b[1;36m47445\u001b[0m  \u001b[1m[\u001b[0m\u001b[1;36m-0.15491335\u001b[0m, \u001b[1;36m0.2701274\u001b[0m, \u001b[1;36m-0.67102075\u001b[0m, \u001b[1;36m-0.13310\u001b[0m\u001b[33m...\u001b[0m  \n",
       "\u001b[1;36m47446\u001b[0m  \u001b[1m[\u001b[0m\u001b[1;36m-0.15491335\u001b[0m, \u001b[1;36m0.2701274\u001b[0m, \u001b[1;36m-0.67102075\u001b[0m, \u001b[1;36m-0.13310\u001b[0m\u001b[33m...\u001b[0m  \n",
       "\u001b[1;36m47447\u001b[0m  \u001b[1m[\u001b[0m\u001b[1;36m-0.15491335\u001b[0m, \u001b[1;36m0.2701274\u001b[0m, \u001b[1;36m-0.67102075\u001b[0m, \u001b[1;36m-0.13310\u001b[0m\u001b[33m...\u001b[0m  \n",
       "\u001b[1;36m47448\u001b[0m  \u001b[1m[\u001b[0m\u001b[1;36m-0.15491335\u001b[0m, \u001b[1;36m0.2701274\u001b[0m, \u001b[1;36m-0.67102075\u001b[0m, \u001b[1;36m-0.13310\u001b[0m\u001b[33m...\u001b[0m  \n",
       "\u001b[1;36m47449\u001b[0m  \u001b[1m[\u001b[0m\u001b[1;36m-0.15491335\u001b[0m, \u001b[1;36m0.2701274\u001b[0m, \u001b[1;36m-0.67102075\u001b[0m, \u001b[1;36m-0.13310\u001b[0m\u001b[33m...\u001b[0m  \n",
       "\n",
       "\u001b[1m[\u001b[0m\u001b[1;36m47450\u001b[0m rows x \u001b[1;36m5\u001b[0m columns\u001b[1m]\u001b[0m"
      ]
     },
     "execution_count": 41,
     "metadata": {},
     "output_type": "execute_result"
    }
   ],
   "source": [
    "df_model"
   ]
  },
  {
   "cell_type": "code",
   "execution_count": 42,
   "metadata": {},
   "outputs": [
    {
     "data": {
      "text/html": [
       "<pre style=\"white-space:pre;overflow-x:auto;line-height:normal;font-family:Menlo,'DejaVu Sans Mono',consolas,'Courier New',monospace\"></pre>\n"
      ],
      "text/plain": []
     },
     "metadata": {},
     "output_type": "display_data"
    },
    {
     "data": {
      "text/html": [
       "<div>\n",
       "<style scoped>\n",
       "    .dataframe tbody tr th:only-of-type {\n",
       "        vertical-align: middle;\n",
       "    }\n",
       "\n",
       "    .dataframe tbody tr th {\n",
       "        vertical-align: top;\n",
       "    }\n",
       "\n",
       "    .dataframe thead th {\n",
       "        text-align: right;\n",
       "    }\n",
       "</style>\n",
       "<table border=\"1\" class=\"dataframe\">\n",
       "  <thead>\n",
       "    <tr style=\"text-align: right;\">\n",
       "      <th></th>\n",
       "      <th>source</th>\n",
       "      <th>target</th>\n",
       "      <th>y</th>\n",
       "      <th>source_embedding</th>\n",
       "      <th>target_embedding</th>\n",
       "    </tr>\n",
       "  </thead>\n",
       "  <tbody>\n",
       "    <tr>\n",
       "      <th>0</th>\n",
       "      <td>CHEBI:3699</td>\n",
       "      <td>MONDO:0007186</td>\n",
       "      <td>1</td>\n",
       "      <td>[0.1749186, 0.43398678, 0.7452298, 0.65872484,...</td>\n",
       "      <td>[0.44671196, -0.3108637, 0.06650227, -0.133686...</td>\n",
       "    </tr>\n",
       "    <tr>\n",
       "      <th>1</th>\n",
       "      <td>UNII:84H8Z9550J</td>\n",
       "      <td>MONDO:0007186</td>\n",
       "      <td>1</td>\n",
       "      <td>[0.01990571, -0.08038043, 0.20040062, 0.161179...</td>\n",
       "      <td>[0.44671196, -0.3108637, 0.06650227, -0.133686...</td>\n",
       "    </tr>\n",
       "    <tr>\n",
       "      <th>2</th>\n",
       "      <td>CHEBI:7915</td>\n",
       "      <td>MONDO:0007186</td>\n",
       "      <td>1</td>\n",
       "      <td>[0.07026903, 0.65059316, 0.7452017, 0.7127575,...</td>\n",
       "      <td>[0.44671196, -0.3108637, 0.06650227, -0.133686...</td>\n",
       "    </tr>\n",
       "    <tr>\n",
       "      <th>3</th>\n",
       "      <td>CHEBI:6375</td>\n",
       "      <td>MONDO:0007186</td>\n",
       "      <td>1</td>\n",
       "      <td>[-0.02374817, 0.30726308, 0.9234296, 1.0461868...</td>\n",
       "      <td>[0.44671196, -0.3108637, 0.06650227, -0.133686...</td>\n",
       "    </tr>\n",
       "    <tr>\n",
       "      <th>4</th>\n",
       "      <td>CHEBI:33130</td>\n",
       "      <td>MONDO:0007186</td>\n",
       "      <td>1</td>\n",
       "      <td>[0.24461012, 0.22785787, -0.19872648, 0.362895...</td>\n",
       "      <td>[0.44671196, -0.3108637, 0.06650227, -0.133686...</td>\n",
       "    </tr>\n",
       "    <tr>\n",
       "      <th>...</th>\n",
       "      <td>...</td>\n",
       "      <td>...</td>\n",
       "      <td>...</td>\n",
       "      <td>...</td>\n",
       "      <td>...</td>\n",
       "    </tr>\n",
       "    <tr>\n",
       "      <th>47445</th>\n",
       "      <td>CHEBI:5959</td>\n",
       "      <td>MONDO:0004981</td>\n",
       "      <td>0</td>\n",
       "      <td>[0.18785809, 0.39737, 0.6268821, 0.6997055, -0...</td>\n",
       "      <td>[-0.15491335, 0.2701274, -0.67102075, -0.13310...</td>\n",
       "    </tr>\n",
       "    <tr>\n",
       "      <th>47446</th>\n",
       "      <td>UNII:183E4W213W</td>\n",
       "      <td>MONDO:0004981</td>\n",
       "      <td>0</td>\n",
       "      <td>[0.12992747, 0.054867685, -0.116463006, 0.4809...</td>\n",
       "      <td>[-0.15491335, 0.2701274, -0.67102075, -0.13310...</td>\n",
       "    </tr>\n",
       "    <tr>\n",
       "      <th>47447</th>\n",
       "      <td>CHEBI:27882</td>\n",
       "      <td>MONDO:0004981</td>\n",
       "      <td>0</td>\n",
       "      <td>[-0.5312017, 0.44113338, 0.8198503, 0.9630272,...</td>\n",
       "      <td>[-0.15491335, 0.2701274, -0.67102075, -0.13310...</td>\n",
       "    </tr>\n",
       "    <tr>\n",
       "      <th>47448</th>\n",
       "      <td>CHEBI:6801</td>\n",
       "      <td>MONDO:0004981</td>\n",
       "      <td>0</td>\n",
       "      <td>[-0.2729406, 0.039909743, 0.45587704, 0.660389...</td>\n",
       "      <td>[-0.15491335, 0.2701274, -0.67102075, -0.13310...</td>\n",
       "    </tr>\n",
       "    <tr>\n",
       "      <th>47449</th>\n",
       "      <td>CHEBI:15956</td>\n",
       "      <td>MONDO:0004981</td>\n",
       "      <td>0</td>\n",
       "      <td>[-0.08906631, 0.53773946, 0.5909424, 0.1686795...</td>\n",
       "      <td>[-0.15491335, 0.2701274, -0.67102075, -0.13310...</td>\n",
       "    </tr>\n",
       "  </tbody>\n",
       "</table>\n",
       "<p>47450 rows × 5 columns</p>\n",
       "</div>"
      ],
      "text/plain": [
       "\n",
       "                source         target  y  \\\n",
       "\u001b[1;36m0\u001b[0m           CHEBI:\u001b[1;36m3699\u001b[0m  MONDO:\u001b[1;36m0007186\u001b[0m  \u001b[1;36m1\u001b[0m   \n",
       "\u001b[1;36m1\u001b[0m      UNII:84H8Z9550J  MONDO:\u001b[1;36m0007186\u001b[0m  \u001b[1;36m1\u001b[0m   \n",
       "\u001b[1;36m2\u001b[0m           CHEBI:\u001b[1;36m7915\u001b[0m  MONDO:\u001b[1;36m0007186\u001b[0m  \u001b[1;36m1\u001b[0m   \n",
       "\u001b[1;36m3\u001b[0m           CHEBI:\u001b[1;36m6375\u001b[0m  MONDO:\u001b[1;36m0007186\u001b[0m  \u001b[1;36m1\u001b[0m   \n",
       "\u001b[1;36m4\u001b[0m          CHEBI:\u001b[1;36m33130\u001b[0m  MONDO:\u001b[1;36m0007186\u001b[0m  \u001b[1;36m1\u001b[0m   \n",
       "\u001b[33m...\u001b[0m                \u001b[33m...\u001b[0m            \u001b[33m...\u001b[0m ..   \n",
       "\u001b[1;36m47445\u001b[0m       CHEBI:\u001b[1;36m5959\u001b[0m  MONDO:\u001b[1;36m0004981\u001b[0m  \u001b[1;36m0\u001b[0m   \n",
       "\u001b[1;36m47446\u001b[0m  UNII:183E4W213W  MONDO:\u001b[1;36m0004981\u001b[0m  \u001b[1;36m0\u001b[0m   \n",
       "\u001b[1;36m47447\u001b[0m      CHEBI:\u001b[1;36m27882\u001b[0m  MONDO:\u001b[1;36m0004981\u001b[0m  \u001b[1;36m0\u001b[0m   \n",
       "\u001b[1;36m47448\u001b[0m       CHEBI:\u001b[1;36m6801\u001b[0m  MONDO:\u001b[1;36m0004981\u001b[0m  \u001b[1;36m0\u001b[0m   \n",
       "\u001b[1;36m47449\u001b[0m      CHEBI:\u001b[1;36m15956\u001b[0m  MONDO:\u001b[1;36m0004981\u001b[0m  \u001b[1;36m0\u001b[0m   \n",
       "\n",
       "                                        source_embedding  \\\n",
       "\u001b[1;36m0\u001b[0m      \u001b[1m[\u001b[0m\u001b[1;36m0.1749186\u001b[0m, \u001b[1;36m0.43398678\u001b[0m, \u001b[1;36m0.7452298\u001b[0m, \u001b[1;36m0.65872484\u001b[0m,\u001b[33m...\u001b[0m   \n",
       "\u001b[1;36m1\u001b[0m      \u001b[1m[\u001b[0m\u001b[1;36m0.01990571\u001b[0m, \u001b[1;36m-0.08038043\u001b[0m, \u001b[1;36m0.20040062\u001b[0m, \u001b[1;36m0.161179\u001b[0m\u001b[33m...\u001b[0m   \n",
       "\u001b[1;36m2\u001b[0m      \u001b[1m[\u001b[0m\u001b[1;36m0.07026903\u001b[0m, \u001b[1;36m0.65059316\u001b[0m, \u001b[1;36m0.7452017\u001b[0m, \u001b[1;36m0.7127575\u001b[0m,\u001b[33m...\u001b[0m   \n",
       "\u001b[1;36m3\u001b[0m      \u001b[1m[\u001b[0m\u001b[1;36m-0.02374817\u001b[0m, \u001b[1;36m0.30726308\u001b[0m, \u001b[1;36m0.9234296\u001b[0m, \u001b[1;36m1.0461868\u001b[0m\u001b[33m...\u001b[0m   \n",
       "\u001b[1;36m4\u001b[0m      \u001b[1m[\u001b[0m\u001b[1;36m0.24461012\u001b[0m, \u001b[1;36m0.22785787\u001b[0m, \u001b[1;36m-0.19872648\u001b[0m, \u001b[1;36m0.362895\u001b[0m\u001b[33m...\u001b[0m   \n",
       "\u001b[33m...\u001b[0m                                                  \u001b[33m...\u001b[0m   \n",
       "\u001b[1;36m47445\u001b[0m  \u001b[1m[\u001b[0m\u001b[1;36m0.18785809\u001b[0m, \u001b[1;36m0.39737\u001b[0m, \u001b[1;36m0.6268821\u001b[0m, \u001b[1;36m0.6997055\u001b[0m, \u001b[1;36m-0\u001b[0m\u001b[33m...\u001b[0m   \n",
       "\u001b[1;36m47446\u001b[0m  \u001b[1m[\u001b[0m\u001b[1;36m0.12992747\u001b[0m, \u001b[1;36m0.054867685\u001b[0m, \u001b[1;36m-0.116463006\u001b[0m, \u001b[1;36m0.4809\u001b[0m\u001b[33m...\u001b[0m   \n",
       "\u001b[1;36m47447\u001b[0m  \u001b[1m[\u001b[0m\u001b[1;36m-0.5312017\u001b[0m, \u001b[1;36m0.44113338\u001b[0m, \u001b[1;36m0.8198503\u001b[0m, \u001b[1;36m0.9630272\u001b[0m,\u001b[33m...\u001b[0m   \n",
       "\u001b[1;36m47448\u001b[0m  \u001b[1m[\u001b[0m\u001b[1;36m-0.2729406\u001b[0m, \u001b[1;36m0.039909743\u001b[0m, \u001b[1;36m0.45587704\u001b[0m, \u001b[1;36m0.660389\u001b[0m\u001b[33m...\u001b[0m   \n",
       "\u001b[1;36m47449\u001b[0m  \u001b[1m[\u001b[0m\u001b[1;36m-0.08906631\u001b[0m, \u001b[1;36m0.53773946\u001b[0m, \u001b[1;36m0.5909424\u001b[0m, \u001b[1;36m0.1686795\u001b[0m\u001b[33m...\u001b[0m   \n",
       "\n",
       "                                        target_embedding  \n",
       "\u001b[1;36m0\u001b[0m      \u001b[1m[\u001b[0m\u001b[1;36m0.44671196\u001b[0m, \u001b[1;36m-0.3108637\u001b[0m, \u001b[1;36m0.06650227\u001b[0m, \u001b[1;36m-0.133686\u001b[0m\u001b[33m...\u001b[0m  \n",
       "\u001b[1;36m1\u001b[0m      \u001b[1m[\u001b[0m\u001b[1;36m0.44671196\u001b[0m, \u001b[1;36m-0.3108637\u001b[0m, \u001b[1;36m0.06650227\u001b[0m, \u001b[1;36m-0.133686\u001b[0m\u001b[33m...\u001b[0m  \n",
       "\u001b[1;36m2\u001b[0m      \u001b[1m[\u001b[0m\u001b[1;36m0.44671196\u001b[0m, \u001b[1;36m-0.3108637\u001b[0m, \u001b[1;36m0.06650227\u001b[0m, \u001b[1;36m-0.133686\u001b[0m\u001b[33m...\u001b[0m  \n",
       "\u001b[1;36m3\u001b[0m      \u001b[1m[\u001b[0m\u001b[1;36m0.44671196\u001b[0m, \u001b[1;36m-0.3108637\u001b[0m, \u001b[1;36m0.06650227\u001b[0m, \u001b[1;36m-0.133686\u001b[0m\u001b[33m...\u001b[0m  \n",
       "\u001b[1;36m4\u001b[0m      \u001b[1m[\u001b[0m\u001b[1;36m0.44671196\u001b[0m, \u001b[1;36m-0.3108637\u001b[0m, \u001b[1;36m0.06650227\u001b[0m, \u001b[1;36m-0.133686\u001b[0m\u001b[33m...\u001b[0m  \n",
       "\u001b[33m...\u001b[0m                                                  \u001b[33m...\u001b[0m  \n",
       "\u001b[1;36m47445\u001b[0m  \u001b[1m[\u001b[0m\u001b[1;36m-0.15491335\u001b[0m, \u001b[1;36m0.2701274\u001b[0m, \u001b[1;36m-0.67102075\u001b[0m, \u001b[1;36m-0.13310\u001b[0m\u001b[33m...\u001b[0m  \n",
       "\u001b[1;36m47446\u001b[0m  \u001b[1m[\u001b[0m\u001b[1;36m-0.15491335\u001b[0m, \u001b[1;36m0.2701274\u001b[0m, \u001b[1;36m-0.67102075\u001b[0m, \u001b[1;36m-0.13310\u001b[0m\u001b[33m...\u001b[0m  \n",
       "\u001b[1;36m47447\u001b[0m  \u001b[1m[\u001b[0m\u001b[1;36m-0.15491335\u001b[0m, \u001b[1;36m0.2701274\u001b[0m, \u001b[1;36m-0.67102075\u001b[0m, \u001b[1;36m-0.13310\u001b[0m\u001b[33m...\u001b[0m  \n",
       "\u001b[1;36m47448\u001b[0m  \u001b[1m[\u001b[0m\u001b[1;36m-0.15491335\u001b[0m, \u001b[1;36m0.2701274\u001b[0m, \u001b[1;36m-0.67102075\u001b[0m, \u001b[1;36m-0.13310\u001b[0m\u001b[33m...\u001b[0m  \n",
       "\u001b[1;36m47449\u001b[0m  \u001b[1m[\u001b[0m\u001b[1;36m-0.15491335\u001b[0m, \u001b[1;36m0.2701274\u001b[0m, \u001b[1;36m-0.67102075\u001b[0m, \u001b[1;36m-0.13310\u001b[0m\u001b[33m...\u001b[0m  \n",
       "\n",
       "\u001b[1m[\u001b[0m\u001b[1;36m47450\u001b[0m rows x \u001b[1;36m5\u001b[0m columns\u001b[1m]\u001b[0m"
      ]
     },
     "execution_count": 42,
     "metadata": {},
     "output_type": "execute_result"
    }
   ],
   "source": [
    "# Keep the original df_model structure but rename 'label' to 'y'\n",
    "df_model_prepared = df_model.rename(columns={'label': 'y'})\n",
    "\n",
    "df_model_prepared"
   ]
  },
  {
   "cell_type": "markdown",
   "metadata": {},
   "source": [
    "The next sections will use the pipeline nodes to train the model, test and evaluate the model "
   ]
  },
  {
   "cell_type": "code",
   "execution_count": 43,
   "metadata": {},
   "outputs": [],
   "source": [
    "# 2. Create splits\n",
    "from sklearn.model_selection import StratifiedShuffleSplit\n",
    "\n",
    "splitter = StratifiedShuffleSplit(\n",
    "    n_splits=1,\n",
    "    test_size=0.1,\n",
    "    random_state=42\n",
    ")\n",
    "\n",
    "# Create splits using existing df_model\n",
    "splits = make_splits(\n",
    "    data=df_model_prepared,\n",
    "    splitter=splitter\n",
    ")"
   ]
  },
  {
   "cell_type": "code",
   "execution_count": 44,
   "metadata": {},
   "outputs": [
    {
     "data": {
      "text/html": [
       "<pre style=\"white-space:pre;overflow-x:auto;line-height:normal;font-family:Menlo,'DejaVu Sans Mono',consolas,'Courier New',monospace\"></pre>\n"
      ],
      "text/plain": []
     },
     "metadata": {},
     "output_type": "display_data"
    },
    {
     "data": {
      "text/html": [
       "<div>\n",
       "<style scoped>\n",
       "    .dataframe tbody tr th:only-of-type {\n",
       "        vertical-align: middle;\n",
       "    }\n",
       "\n",
       "    .dataframe tbody tr th {\n",
       "        vertical-align: top;\n",
       "    }\n",
       "\n",
       "    .dataframe thead th {\n",
       "        text-align: right;\n",
       "    }\n",
       "</style>\n",
       "<table border=\"1\" class=\"dataframe\">\n",
       "  <thead>\n",
       "    <tr style=\"text-align: right;\">\n",
       "      <th></th>\n",
       "      <th>source</th>\n",
       "      <th>target</th>\n",
       "      <th>y</th>\n",
       "      <th>source_embedding</th>\n",
       "      <th>target_embedding</th>\n",
       "      <th>iteration</th>\n",
       "      <th>split</th>\n",
       "    </tr>\n",
       "  </thead>\n",
       "  <tbody>\n",
       "    <tr>\n",
       "      <th>0</th>\n",
       "      <td>CHEBI:3699</td>\n",
       "      <td>MONDO:0007186</td>\n",
       "      <td>1</td>\n",
       "      <td>[0.1749186, 0.43398678, 0.7452298, 0.65872484,...</td>\n",
       "      <td>[0.44671196, -0.3108637, 0.06650227, -0.133686...</td>\n",
       "      <td>0</td>\n",
       "      <td>TRAIN</td>\n",
       "    </tr>\n",
       "    <tr>\n",
       "      <th>1</th>\n",
       "      <td>UNII:84H8Z9550J</td>\n",
       "      <td>MONDO:0007186</td>\n",
       "      <td>1</td>\n",
       "      <td>[0.01990571, -0.08038043, 0.20040062, 0.161179...</td>\n",
       "      <td>[0.44671196, -0.3108637, 0.06650227, -0.133686...</td>\n",
       "      <td>0</td>\n",
       "      <td>TRAIN</td>\n",
       "    </tr>\n",
       "    <tr>\n",
       "      <th>2</th>\n",
       "      <td>CHEBI:7915</td>\n",
       "      <td>MONDO:0007186</td>\n",
       "      <td>1</td>\n",
       "      <td>[0.07026903, 0.65059316, 0.7452017, 0.7127575,...</td>\n",
       "      <td>[0.44671196, -0.3108637, 0.06650227, -0.133686...</td>\n",
       "      <td>0</td>\n",
       "      <td>TEST</td>\n",
       "    </tr>\n",
       "    <tr>\n",
       "      <th>3</th>\n",
       "      <td>CHEBI:6375</td>\n",
       "      <td>MONDO:0007186</td>\n",
       "      <td>1</td>\n",
       "      <td>[-0.02374817, 0.30726308, 0.9234296, 1.0461868...</td>\n",
       "      <td>[0.44671196, -0.3108637, 0.06650227, -0.133686...</td>\n",
       "      <td>0</td>\n",
       "      <td>TRAIN</td>\n",
       "    </tr>\n",
       "    <tr>\n",
       "      <th>4</th>\n",
       "      <td>CHEBI:33130</td>\n",
       "      <td>MONDO:0007186</td>\n",
       "      <td>1</td>\n",
       "      <td>[0.24461012, 0.22785787, -0.19872648, 0.362895...</td>\n",
       "      <td>[0.44671196, -0.3108637, 0.06650227, -0.133686...</td>\n",
       "      <td>0</td>\n",
       "      <td>TRAIN</td>\n",
       "    </tr>\n",
       "    <tr>\n",
       "      <th>...</th>\n",
       "      <td>...</td>\n",
       "      <td>...</td>\n",
       "      <td>...</td>\n",
       "      <td>...</td>\n",
       "      <td>...</td>\n",
       "      <td>...</td>\n",
       "      <td>...</td>\n",
       "    </tr>\n",
       "    <tr>\n",
       "      <th>47445</th>\n",
       "      <td>CHEBI:5959</td>\n",
       "      <td>MONDO:0004981</td>\n",
       "      <td>0</td>\n",
       "      <td>[0.18785809, 0.39737, 0.6268821, 0.6997055, -0...</td>\n",
       "      <td>[-0.15491335, 0.2701274, -0.67102075, -0.13310...</td>\n",
       "      <td>0</td>\n",
       "      <td>TRAIN</td>\n",
       "    </tr>\n",
       "    <tr>\n",
       "      <th>47446</th>\n",
       "      <td>UNII:183E4W213W</td>\n",
       "      <td>MONDO:0004981</td>\n",
       "      <td>0</td>\n",
       "      <td>[0.12992747, 0.054867685, -0.116463006, 0.4809...</td>\n",
       "      <td>[-0.15491335, 0.2701274, -0.67102075, -0.13310...</td>\n",
       "      <td>0</td>\n",
       "      <td>TEST</td>\n",
       "    </tr>\n",
       "    <tr>\n",
       "      <th>47447</th>\n",
       "      <td>CHEBI:27882</td>\n",
       "      <td>MONDO:0004981</td>\n",
       "      <td>0</td>\n",
       "      <td>[-0.5312017, 0.44113338, 0.8198503, 0.9630272,...</td>\n",
       "      <td>[-0.15491335, 0.2701274, -0.67102075, -0.13310...</td>\n",
       "      <td>0</td>\n",
       "      <td>TRAIN</td>\n",
       "    </tr>\n",
       "    <tr>\n",
       "      <th>47448</th>\n",
       "      <td>CHEBI:6801</td>\n",
       "      <td>MONDO:0004981</td>\n",
       "      <td>0</td>\n",
       "      <td>[-0.2729406, 0.039909743, 0.45587704, 0.660389...</td>\n",
       "      <td>[-0.15491335, 0.2701274, -0.67102075, -0.13310...</td>\n",
       "      <td>0</td>\n",
       "      <td>TEST</td>\n",
       "    </tr>\n",
       "    <tr>\n",
       "      <th>47449</th>\n",
       "      <td>CHEBI:15956</td>\n",
       "      <td>MONDO:0004981</td>\n",
       "      <td>0</td>\n",
       "      <td>[-0.08906631, 0.53773946, 0.5909424, 0.1686795...</td>\n",
       "      <td>[-0.15491335, 0.2701274, -0.67102075, -0.13310...</td>\n",
       "      <td>0</td>\n",
       "      <td>TRAIN</td>\n",
       "    </tr>\n",
       "  </tbody>\n",
       "</table>\n",
       "<p>47450 rows × 7 columns</p>\n",
       "</div>"
      ],
      "text/plain": [
       "\n",
       "                source         target  y  \\\n",
       "\u001b[1;36m0\u001b[0m           CHEBI:\u001b[1;36m3699\u001b[0m  MONDO:\u001b[1;36m0007186\u001b[0m  \u001b[1;36m1\u001b[0m   \n",
       "\u001b[1;36m1\u001b[0m      UNII:84H8Z9550J  MONDO:\u001b[1;36m0007186\u001b[0m  \u001b[1;36m1\u001b[0m   \n",
       "\u001b[1;36m2\u001b[0m           CHEBI:\u001b[1;36m7915\u001b[0m  MONDO:\u001b[1;36m0007186\u001b[0m  \u001b[1;36m1\u001b[0m   \n",
       "\u001b[1;36m3\u001b[0m           CHEBI:\u001b[1;36m6375\u001b[0m  MONDO:\u001b[1;36m0007186\u001b[0m  \u001b[1;36m1\u001b[0m   \n",
       "\u001b[1;36m4\u001b[0m          CHEBI:\u001b[1;36m33130\u001b[0m  MONDO:\u001b[1;36m0007186\u001b[0m  \u001b[1;36m1\u001b[0m   \n",
       "\u001b[33m...\u001b[0m                \u001b[33m...\u001b[0m            \u001b[33m...\u001b[0m ..   \n",
       "\u001b[1;36m47445\u001b[0m       CHEBI:\u001b[1;36m5959\u001b[0m  MONDO:\u001b[1;36m0004981\u001b[0m  \u001b[1;36m0\u001b[0m   \n",
       "\u001b[1;36m47446\u001b[0m  UNII:183E4W213W  MONDO:\u001b[1;36m0004981\u001b[0m  \u001b[1;36m0\u001b[0m   \n",
       "\u001b[1;36m47447\u001b[0m      CHEBI:\u001b[1;36m27882\u001b[0m  MONDO:\u001b[1;36m0004981\u001b[0m  \u001b[1;36m0\u001b[0m   \n",
       "\u001b[1;36m47448\u001b[0m       CHEBI:\u001b[1;36m6801\u001b[0m  MONDO:\u001b[1;36m0004981\u001b[0m  \u001b[1;36m0\u001b[0m   \n",
       "\u001b[1;36m47449\u001b[0m      CHEBI:\u001b[1;36m15956\u001b[0m  MONDO:\u001b[1;36m0004981\u001b[0m  \u001b[1;36m0\u001b[0m   \n",
       "\n",
       "                                        source_embedding  \\\n",
       "\u001b[1;36m0\u001b[0m      \u001b[1m[\u001b[0m\u001b[1;36m0.1749186\u001b[0m, \u001b[1;36m0.43398678\u001b[0m, \u001b[1;36m0.7452298\u001b[0m, \u001b[1;36m0.65872484\u001b[0m,\u001b[33m...\u001b[0m   \n",
       "\u001b[1;36m1\u001b[0m      \u001b[1m[\u001b[0m\u001b[1;36m0.01990571\u001b[0m, \u001b[1;36m-0.08038043\u001b[0m, \u001b[1;36m0.20040062\u001b[0m, \u001b[1;36m0.161179\u001b[0m\u001b[33m...\u001b[0m   \n",
       "\u001b[1;36m2\u001b[0m      \u001b[1m[\u001b[0m\u001b[1;36m0.07026903\u001b[0m, \u001b[1;36m0.65059316\u001b[0m, \u001b[1;36m0.7452017\u001b[0m, \u001b[1;36m0.7127575\u001b[0m,\u001b[33m...\u001b[0m   \n",
       "\u001b[1;36m3\u001b[0m      \u001b[1m[\u001b[0m\u001b[1;36m-0.02374817\u001b[0m, \u001b[1;36m0.30726308\u001b[0m, \u001b[1;36m0.9234296\u001b[0m, \u001b[1;36m1.0461868\u001b[0m\u001b[33m...\u001b[0m   \n",
       "\u001b[1;36m4\u001b[0m      \u001b[1m[\u001b[0m\u001b[1;36m0.24461012\u001b[0m, \u001b[1;36m0.22785787\u001b[0m, \u001b[1;36m-0.19872648\u001b[0m, \u001b[1;36m0.362895\u001b[0m\u001b[33m...\u001b[0m   \n",
       "\u001b[33m...\u001b[0m                                                  \u001b[33m...\u001b[0m   \n",
       "\u001b[1;36m47445\u001b[0m  \u001b[1m[\u001b[0m\u001b[1;36m0.18785809\u001b[0m, \u001b[1;36m0.39737\u001b[0m, \u001b[1;36m0.6268821\u001b[0m, \u001b[1;36m0.6997055\u001b[0m, \u001b[1;36m-0\u001b[0m\u001b[33m...\u001b[0m   \n",
       "\u001b[1;36m47446\u001b[0m  \u001b[1m[\u001b[0m\u001b[1;36m0.12992747\u001b[0m, \u001b[1;36m0.054867685\u001b[0m, \u001b[1;36m-0.116463006\u001b[0m, \u001b[1;36m0.4809\u001b[0m\u001b[33m...\u001b[0m   \n",
       "\u001b[1;36m47447\u001b[0m  \u001b[1m[\u001b[0m\u001b[1;36m-0.5312017\u001b[0m, \u001b[1;36m0.44113338\u001b[0m, \u001b[1;36m0.8198503\u001b[0m, \u001b[1;36m0.9630272\u001b[0m,\u001b[33m...\u001b[0m   \n",
       "\u001b[1;36m47448\u001b[0m  \u001b[1m[\u001b[0m\u001b[1;36m-0.2729406\u001b[0m, \u001b[1;36m0.039909743\u001b[0m, \u001b[1;36m0.45587704\u001b[0m, \u001b[1;36m0.660389\u001b[0m\u001b[33m...\u001b[0m   \n",
       "\u001b[1;36m47449\u001b[0m  \u001b[1m[\u001b[0m\u001b[1;36m-0.08906631\u001b[0m, \u001b[1;36m0.53773946\u001b[0m, \u001b[1;36m0.5909424\u001b[0m, \u001b[1;36m0.1686795\u001b[0m\u001b[33m...\u001b[0m   \n",
       "\n",
       "                                        target_embedding  iteration  split  \n",
       "\u001b[1;36m0\u001b[0m      \u001b[1m[\u001b[0m\u001b[1;36m0.44671196\u001b[0m, \u001b[1;36m-0.3108637\u001b[0m, \u001b[1;36m0.06650227\u001b[0m, \u001b[1;36m-0.133686\u001b[0m\u001b[33m...\u001b[0m          \u001b[1;36m0\u001b[0m  TRAIN  \n",
       "\u001b[1;36m1\u001b[0m      \u001b[1m[\u001b[0m\u001b[1;36m0.44671196\u001b[0m, \u001b[1;36m-0.3108637\u001b[0m, \u001b[1;36m0.06650227\u001b[0m, \u001b[1;36m-0.133686\u001b[0m\u001b[33m...\u001b[0m          \u001b[1;36m0\u001b[0m  TRAIN  \n",
       "\u001b[1;36m2\u001b[0m      \u001b[1m[\u001b[0m\u001b[1;36m0.44671196\u001b[0m, \u001b[1;36m-0.3108637\u001b[0m, \u001b[1;36m0.06650227\u001b[0m, \u001b[1;36m-0.133686\u001b[0m\u001b[33m...\u001b[0m          \u001b[1;36m0\u001b[0m   TEST  \n",
       "\u001b[1;36m3\u001b[0m      \u001b[1m[\u001b[0m\u001b[1;36m0.44671196\u001b[0m, \u001b[1;36m-0.3108637\u001b[0m, \u001b[1;36m0.06650227\u001b[0m, \u001b[1;36m-0.133686\u001b[0m\u001b[33m...\u001b[0m          \u001b[1;36m0\u001b[0m  TRAIN  \n",
       "\u001b[1;36m4\u001b[0m      \u001b[1m[\u001b[0m\u001b[1;36m0.44671196\u001b[0m, \u001b[1;36m-0.3108637\u001b[0m, \u001b[1;36m0.06650227\u001b[0m, \u001b[1;36m-0.133686\u001b[0m\u001b[33m...\u001b[0m          \u001b[1;36m0\u001b[0m  TRAIN  \n",
       "\u001b[33m...\u001b[0m                                                  \u001b[33m...\u001b[0m        \u001b[33m...\u001b[0m    \u001b[33m...\u001b[0m  \n",
       "\u001b[1;36m47445\u001b[0m  \u001b[1m[\u001b[0m\u001b[1;36m-0.15491335\u001b[0m, \u001b[1;36m0.2701274\u001b[0m, \u001b[1;36m-0.67102075\u001b[0m, \u001b[1;36m-0.13310\u001b[0m\u001b[33m...\u001b[0m          \u001b[1;36m0\u001b[0m  TRAIN  \n",
       "\u001b[1;36m47446\u001b[0m  \u001b[1m[\u001b[0m\u001b[1;36m-0.15491335\u001b[0m, \u001b[1;36m0.2701274\u001b[0m, \u001b[1;36m-0.67102075\u001b[0m, \u001b[1;36m-0.13310\u001b[0m\u001b[33m...\u001b[0m          \u001b[1;36m0\u001b[0m   TEST  \n",
       "\u001b[1;36m47447\u001b[0m  \u001b[1m[\u001b[0m\u001b[1;36m-0.15491335\u001b[0m, \u001b[1;36m0.2701274\u001b[0m, \u001b[1;36m-0.67102075\u001b[0m, \u001b[1;36m-0.13310\u001b[0m\u001b[33m...\u001b[0m          \u001b[1;36m0\u001b[0m  TRAIN  \n",
       "\u001b[1;36m47448\u001b[0m  \u001b[1m[\u001b[0m\u001b[1;36m-0.15491335\u001b[0m, \u001b[1;36m0.2701274\u001b[0m, \u001b[1;36m-0.67102075\u001b[0m, \u001b[1;36m-0.13310\u001b[0m\u001b[33m...\u001b[0m          \u001b[1;36m0\u001b[0m   TEST  \n",
       "\u001b[1;36m47449\u001b[0m  \u001b[1m[\u001b[0m\u001b[1;36m-0.15491335\u001b[0m, \u001b[1;36m0.2701274\u001b[0m, \u001b[1;36m-0.67102075\u001b[0m, \u001b[1;36m-0.13310\u001b[0m\u001b[33m...\u001b[0m          \u001b[1;36m0\u001b[0m  TRAIN  \n",
       "\n",
       "\u001b[1m[\u001b[0m\u001b[1;36m47450\u001b[0m rows x \u001b[1;36m7\u001b[0m columns\u001b[1m]\u001b[0m"
      ]
     },
     "execution_count": 44,
     "metadata": {},
     "output_type": "execute_result"
    }
   ],
   "source": [
    "splits"
   ]
  },
  {
   "cell_type": "code",
   "execution_count": 63,
   "metadata": {},
   "outputs": [],
   "source": [
    "from importlib import reload\n",
    "from matrix.pipelines.modelling import model\n",
    "reload(model)\n",
    "from matrix.pipelines.modelling.model import DotProductSoftmaxClassifier"
   ]
  },
  {
   "cell_type": "code",
   "execution_count": 64,
   "metadata": {},
   "outputs": [],
   "source": [
    "# 3. Train the SumSoftmaxClassifier\n",
    "model = DotProductSoftmaxClassifier(random_state=42)\n",
    "\n",
    "# The model expects concatenated embeddings\n",
    "features = ['source_embedding', 'target_embedding']\n",
    "trained_model = train_model(\n",
    "    data=splits,\n",
    "    estimator=model,\n",
    "    features=features,\n",
    "    target_col_name='y'\n",
    ")"
   ]
  },
  {
   "cell_type": "code",
   "execution_count": 65,
   "metadata": {},
   "outputs": [],
   "source": [
    "# Create final model using create_model function\n",
    "final_model = create_model(trained_model)  # This wraps it in ModelWrapper\n"
   ]
  },
  {
   "cell_type": "code",
   "execution_count": 66,
   "metadata": {},
   "outputs": [],
   "source": [
    "# 4. Get predictions\n",
    "predictions = get_model_predictions(\n",
    "    data=splits,\n",
    "    model=trained_model,\n",
    "    features=features,\n",
    "    target_col_name='y'\n",
    ")"
   ]
  },
  {
   "cell_type": "code",
   "execution_count": 67,
   "metadata": {},
   "outputs": [],
   "source": [
    "# 5. Check performance\n",
    "\n",
    "from sklearn.metrics import accuracy_score, f1_score\n",
    "from matrix.pipelines.modelling.utils import partial_\n",
    "\n",
    "metrics = {\n",
    "    'accuracy': accuracy_score,\n",
    "    'macro_f1': partial_(f1_score, average='macro')\n",
    "}\n",
    "\n",
    "# Check performance\n",
    "performance = check_model_performance(\n",
    "    data=predictions,\n",
    "    metrics=metrics,\n",
    "    target_col_name='y'\n",
    ")\n",
    "\n",
    "\n"
   ]
  },
  {
   "cell_type": "code",
   "execution_count": 68,
   "metadata": {},
   "outputs": [
    {
     "name": "stdout",
     "output_type": "stream",
     "text": [
      "\n",
      "Model Performance:\n",
      "test_accuracy: 0.375\n",
      "train_accuracy: 0.375\n",
      "test_macro_f1: 0.273\n",
      "train_macro_f1: 0.273\n"
     ]
    }
   ],
   "source": [
    "print(\"\\nModel Performance:\")\n",
    "for metric, value in performance.items():\n",
    "    print(f\"{metric}: {value:.3f}\")\n"
   ]
  },
  {
   "cell_type": "markdown",
   "metadata": {},
   "source": [
    "The performance of the model is not good, but this is to be expected since it was a simple dot product between embeddings just to show how to integrate a custom model. \n",
    "For this to work in the pipeline, we can create a custom pipeline node that takes the embeddings and applies the softmax function. This should follow scikit-learn's interface methods.\n",
    "\n",
    "For example, within the `pipelines/matrix/src/matrix/pipelines/modelling/model.py` file, we can add a new class:\n",
    "\n",
    "```python\n",
    "from sklearn.base import BaseEstimator, ClassifierMixin\n",
    "from typing import Optional\n",
    "import pandas as pd\n",
    "from scipy.special import softmax\n",
    "\n",
    "class DotProductSoftmaxClassifier(BaseEstimator, ClassifierMixin):\n",
    "    \"\"\"A classifier that uses dot product between source and target embeddings.\n",
    "    \n",
    "    \"\"\"\n",
    "\n",
    "    def __init__(self, random_state: Optional[int] = None):\n",
    "        self.random_state = random_state\n",
    "\n",
    "    def _prepare_features(self, X):\n",
    "        \"\"\"Convert embeddings from DataFrame or array to numpy array.\"\"\"\n",
    "        if isinstance(X, pd.DataFrame):\n",
    "            # Handle PySpark DataFrame conversion to numpy\n",
    "            if hasattr(X, 'toPandas'):\n",
    "                X = X.toPandas()\n",
    "            \n",
    "            # Convert source embeddings\n",
    "            if 'source_embedding' in X.columns:\n",
    "                source_embeddings = np.vstack([\n",
    "                    np.array(x) if isinstance(x, list) else x \n",
    "                    for x in X['source_embedding']\n",
    "                ])\n",
    "                target_embeddings = np.vstack([\n",
    "                    np.array(x) if isinstance(x, list) else x \n",
    "                    for x in X['target_embedding']\n",
    "                ])\n",
    "            else:\n",
    "                # Assume columns are already split into individual features\n",
    "                source_cols = [col for col in X.columns if col.startswith('source_')]\n",
    "                target_cols = [col for col in X.columns if col.startswith('target_')]\n",
    "                source_embeddings = X[source_cols].values\n",
    "                target_embeddings = X[target_cols].values\n",
    "                \n",
    "            return np.hstack([source_embeddings, target_embeddings])\n",
    "        elif isinstance(X, np.ndarray) and X.dtype == object:\n",
    "            n_samples = X.shape[0]\n",
    "            source_embeddings = np.vstack([\n",
    "                np.array(x) if isinstance(x, list) else x \n",
    "                for x in X[:, 0]\n",
    "            ])\n",
    "            target_embeddings = np.vstack([\n",
    "                np.array(x) if isinstance(x, list) else x \n",
    "                for x in X[:, 1]\n",
    "            ])\n",
    "            return np.hstack([source_embeddings, target_embeddings])\n",
    "        return X\n",
    "\n",
    "    def fit(self, X, y):\n",
    "        \"\"\"Fit the model.\"\"\"\n",
    "        X = self._prepare_features(X)\n",
    "        self.n_classes_ = len(np.unique(y))\n",
    "        self.classes_ = np.unique(y)\n",
    "        self.embedding_dim_ = X.shape[1] // 2\n",
    "        return self\n",
    "\n",
    "    def predict_proba(self, X):\n",
    "        \"\"\"Compute probabilities using dot product and softmax.\"\"\"\n",
    "        X = self._prepare_features(X)\n",
    "        \n",
    "        # Split features into source and target embeddings\n",
    "        source_embeddings = X[:, :self.embedding_dim_]\n",
    "        target_embeddings = X[:, self.embedding_dim_:]\n",
    "        \n",
    "        # Compute dot product\n",
    "        dot_products = np.sum(source_embeddings * target_embeddings, axis=1)\n",
    "        \n",
    "        # Reshape to (n_samples, 2) for binary classification\n",
    "        scores = np.column_stack([-dot_products, dot_products])\n",
    "        \n",
    "        # Apply softmax\n",
    "        probs = softmax(scores, axis=1)\n",
    "        \n",
    "        return probs\n",
    "\n",
    "    def predict(self, X):\n",
    "        \"\"\"Predict class labels.\"\"\"\n",
    "        probs = self.predict_proba(X)\n",
    "        return self.classes_[np.argmax(probs, axis=1)]\n",
    "\n",
    "```\n",
    "\n"
   ]
  },
  {
   "cell_type": "markdown",
   "metadata": {},
   "source": [
    "As above, we can also configure parameters in `pipelines/matrix/conf/base/modelling/parameters/mayas_logistic_regression.yml`:\n",
    "\n",
    "```yml\n",
    "   modelling.mayas_softmax:\n",
    "    _overrides:\n",
    "\n",
    "      model_tuning_args:\n",
    "        tuner:\n",
    "          object: matrix.pipelines.modelling.tuning.NopTuner\n",
    "          estimator:\n",
    "            object: matrix.pipelines.modelling.model.DotProductSoftmaxClassifier\n",
    "            random_state: ${globals:random_state}\n",
    "        features: # Features use regex, source_0, source_1, .., target_0, target_1\n",
    "          - source_+\n",
    "          - target_+\n",
    "        target_col_name: y\n",
    "      \n",
    "    # NOTE: This leverages the custom `merge` resolver to override\n",
    "    # the base options with the override block above.\n",
    "    model_options: ${merge:${.._model_options},${._overrides}}\n",
    "```"
   ]
  },
  {
   "cell_type": "markdown",
   "metadata": {},
   "source": [
    "- Models are injected into the Kedro pipeline via dependency injection mechanism.\n",
    "   - Maya adds her model to `DYNAMIC_PIPELINES_MAPPING` in `pipelines/matrix/src/matrix/settings.py`:\n",
    "\n",
    "   ```python\n",
    "   DYNAMIC_PIPELINES_MAPPING = {\n",
    "       \"modelling\": [\n",
    "           {\"model_name\": \"xg_baseline\", \"num_shards\": 1, \"run_inference\": False},\n",
    "           {\"model_name\": \"xg_ensemble\", \"num_shards\": 3, \"run_inference\": True},\n",
    "           {\"model_name\": \"rf\", \"num_shards\": 1, \"run_inference\": False},\n",
    "           {\"model_name\": \"xg_synth\", \"num_shards\": 1, \"run_inference\": False},\n",
    "           {\"model_name\": \"mayas_softmax\", \"num_shards\": 1, \"run_inference\": False},\n",
    "       ],\n",
    "       \"evaluation\": [\n",
    "   ```\n",
    "\n",
    "\n",
    "\n",
    "\n"
   ]
  },
  {
   "cell_type": "markdown",
   "metadata": {},
   "source": [
    "This can then be run as part of the pipeline. For example to test: \n",
    "\n",
    "```bash\n",
    "kedro run --env test -p test\n",
    "```\n",
    "\n",
    "\n"
   ]
  }
 ],
 "metadata": {
  "kernelspec": {
   "display_name": "Python 3 (ipykernel)",
   "language": "python",
   "name": "python3"
  },
  "language_info": {
   "codemirror_mode": {
    "name": "ipython",
    "version": 3
   },
   "file_extension": ".py",
   "mimetype": "text/x-python",
   "name": "python",
   "nbconvert_exporter": "python",
   "pygments_lexer": "ipython3",
   "version": "3.11.10"
  }
 },
 "nbformat": 4,
 "nbformat_minor": 4
}
