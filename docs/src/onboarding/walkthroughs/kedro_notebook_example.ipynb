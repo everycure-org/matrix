{
 "cells": [
  {
   "cell_type": "markdown",
   "metadata": {},
   "source": [
    "# Example Notebook for Kedro\n",
    "\n",
    "This jupyter notebook shows how to run the kedro pipeline in a notebook. This assumes you run against a locally executed Neo4J (or with ports forwarded to localhost) and reads the production environment data (i.e. from GCS)"
   ]
  },
  {
   "cell_type": "code",
   "execution_count": null,
   "metadata": {},
   "outputs": [],
   "source": [
    "# Import dependencies\n",
    "import pyspark as ps\n",
    "import os\n",
    "from pathlib import Path\n",
    "import subprocess"
   ]
  },
  {
   "cell_type": "code",
   "execution_count": null,
   "metadata": {},
   "outputs": [],
   "source": [
    "# trick that moves this notebook context into the kedro path\n",
    "root_path = subprocess.check_output(['git', 'rev-parse', '--show-toplevel']).decode().strip()\n",
    "os.chdir(Path(root_path) / 'pipelines' / 'matrix')\n",
    "\n",
    "# this loads various objects into the context, see \n",
    "# https://docs.kedro.org/en/stable/notebooks_and_ipython/kedro_and_notebooks.html#kedro-line-magics\n",
    "%load_ext kedro.ipython\n",
    "%reload_kedro  --env cloud\n",
    "cat = catalog #just a convenience"
   ]
  },
  {
   "cell_type": "code",
   "execution_count": null,
   "metadata": {},
   "outputs": [],
   "source": [
    "catalog.list(\"raw\")"
   ]
  },
  {
   "cell_type": "code",
   "execution_count": null,
   "metadata": {},
   "outputs": [],
   "source": [
    "# you can easily list elements in the kedro catalog, \n",
    "# matching them with regex or substring matching\n",
    "cat.list(\"raw.*rtx\")"
   ]
  },
  {
   "cell_type": "code",
   "execution_count": null,
   "metadata": {},
   "outputs": [],
   "source": [
    "# loading a dataset\n",
    "df = cat.load(\"integration.raw.rtx_kg2.nodes@spark\")\n",
    "df.show(10, False) #10 rows, do not truncate"
   ]
  },
  {
   "cell_type": "markdown",
   "metadata": {},
   "source": [
    "## Reading the raw (CSV) file would take along time"
   ]
  },
  {
   "cell_type": "code",
   "execution_count": null,
   "metadata": {},
   "outputs": [],
   "source": [
    "\n",
    "df.select(\"category\").groupBy(\"category\").count().orderBy(\"count\", ascending=False).show(30, False)"
   ]
  },
  {
   "cell_type": "markdown",
   "metadata": {},
   "source": [
    "# So let's read a parquet file instead which is much more efficient than reading a CSV file"
   ]
  },
  {
   "cell_type": "code",
   "execution_count": null,
   "metadata": {},
   "outputs": [],
   "source": [
    "df_parquet = cat.load(\"integration.prm.rtx_kg2.nodes\")"
   ]
  },
  {
   "cell_type": "code",
   "execution_count": null,
   "metadata": {},
   "outputs": [],
   "source": [
    "df_parquet.select(\"category\").groupBy(\"category\").count().orderBy(\"count\", ascending=False).show()"
   ]
  },
  {
   "cell_type": "code",
   "execution_count": null,
   "metadata": {},
   "outputs": [],
   "source": [
    "# This code quickly grabs the entire content of a kedro node and \n",
    "# pastes it into a cell below. This makes interactive node development\n",
    "# super smooth!\n",
    "%load_node extract_nodes_edges_from_db"
   ]
  },
  {
   "cell_type": "code",
   "execution_count": null,
   "metadata": {},
   "outputs": [],
   "source": [
    "# Prepare necessary inputs for debugging\n",
    "# All debugging inputs must be defined in your project catalog\n",
    "dummy = catalog.load(\"embeddings.model_output.graphsage\")\n",
    "nodes = catalog.load(\"integration.model_input.nodes\")\n",
    "edges = catalog.load(\"integration.model_input.edges\")\n",
    "\n",
    "import os\n",
    "from typing import List, Any, Dict\n",
    "from neo4j import Driver\n",
    "from pyspark.sql import DataFrame\n",
    "from pyspark.sql import functions as F\n",
    "from pyspark.ml.functions import array_to_vector, vector_to_array\n",
    "from graphdatascience import GraphDataScience, QueryRunner\n",
    "from matrix.core import inject_object\n",
    "from refit.v1.core.unpack import unpack_params\n",
    "\n",
    "def extract_nodes_edges(dummy, nodes: DataFrame, edges: DataFrame) -> tuple[DataFrame, DataFrame]:\n",
    "    \"\"\"Simple node/edge extractor function.\n",
    "\n",
    "    \"\"\"\n",
    "    return nodes, edges\n",
    "\n",
    "\n",
    "n,e = extract_nodes_edges(dummy, nodes, edges)"
   ]
  },
  {
   "cell_type": "code",
   "execution_count": null,
   "metadata": {},
   "outputs": [],
   "source": [
    "e.show(10, False)\n",
    "n.show(10, False)"
   ]
  },
  {
   "cell_type": "code",
   "execution_count": null,
   "metadata": {},
   "outputs": [],
   "source": []
  }
 ],
 "metadata": {
  "kernelspec": {
   "display_name": ".venv",
   "language": "python",
   "name": "python3"
  },
  "language_info": {
   "codemirror_mode": {
    "name": "ipython",
    "version": 3
   },
   "file_extension": ".py",
   "mimetype": "text/x-python",
   "name": "python",
   "nbconvert_exporter": "python",
   "pygments_lexer": "ipython3",
   "version": "3.11.9"
  }
 },
 "nbformat": 4,
 "nbformat_minor": 2
}
