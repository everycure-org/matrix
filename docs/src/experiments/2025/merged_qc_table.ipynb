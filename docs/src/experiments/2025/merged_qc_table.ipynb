{
 "cells": [
  {
   "cell_type": "code",
   "execution_count": 2,
   "metadata": {},
   "outputs": [
    {
     "data": {
      "text/html": [
       "<pre style=\"white-space:pre;overflow-x:auto;line-height:normal;font-family:Menlo,'DejaVu Sans Mono',consolas,'Courier New',monospace\"><span style=\"color: #7fbfbf; text-decoration-color: #7fbfbf\">[01/02/25 14:47:32] </span><span style=\"color: #000080; text-decoration-color: #000080\">INFO    </span> Using `conf/logging.yml` as logging configuration. You can change this <a href=\"file:///Users/kschaper/Monarch/everycure/matrix/pipelines/matrix/.venv/lib/python3.11/site-packages/kedro/framework/project/__init__.py\" target=\"_blank\"><span style=\"color: #7f7f7f; text-decoration-color: #7f7f7f\">__init__.py</span></a><span style=\"color: #7f7f7f; text-decoration-color: #7f7f7f\">:</span><a href=\"file:///Users/kschaper/Monarch/everycure/matrix/pipelines/matrix/.venv/lib/python3.11/site-packages/kedro/framework/project/__init__.py#249\" target=\"_blank\"><span style=\"color: #7f7f7f; text-decoration-color: #7f7f7f\">249</span></a>\n",
       "<span style=\"color: #7fbfbf; text-decoration-color: #7fbfbf\">                    </span>         by setting the KEDRO_LOGGING_CONFIG environment variable accordingly.  <span style=\"color: #7f7f7f; text-decoration-color: #7f7f7f\">               </span>\n",
       "</pre>\n"
      ],
      "text/plain": [
       "\u001b[2;36m[01/02/25 14:47:32]\u001b[0m\u001b[2;36m \u001b[0m\u001b[34mINFO    \u001b[0m Using `conf/logging.yml` as logging configuration. You can change this \u001b]8;id=288132;file:///Users/kschaper/Monarch/everycure/matrix/pipelines/matrix/.venv/lib/python3.11/site-packages/kedro/framework/project/__init__.py\u001b\\\u001b[2m__init__.py\u001b[0m\u001b]8;;\u001b\\\u001b[2m:\u001b[0m\u001b]8;id=974643;file:///Users/kschaper/Monarch/everycure/matrix/pipelines/matrix/.venv/lib/python3.11/site-packages/kedro/framework/project/__init__.py#249\u001b\\\u001b[2m249\u001b[0m\u001b]8;;\u001b\\\n",
       "\u001b[2;36m                    \u001b[0m         by setting the KEDRO_LOGGING_CONFIG environment variable accordingly.  \u001b[2m               \u001b[0m\n"
      ]
     },
     "metadata": {},
     "output_type": "display_data"
    },
    {
     "data": {
      "text/html": [
       "<pre style=\"white-space:pre;overflow-x:auto;line-height:normal;font-family:Menlo,'DejaVu Sans Mono',consolas,'Courier New',monospace\"><span style=\"color: #7fbfbf; text-decoration-color: #7fbfbf\">                    </span><span style=\"color: #000080; text-decoration-color: #000080\">INFO    </span> Registered line magic <span style=\"color: #008000; text-decoration-color: #008000\">'%reload_kedro'</span>                                   <a href=\"file:///Users/kschaper/Monarch/everycure/matrix/pipelines/matrix/.venv/lib/python3.11/site-packages/kedro/ipython/__init__.py\" target=\"_blank\"><span style=\"color: #7f7f7f; text-decoration-color: #7f7f7f\">__init__.py</span></a><span style=\"color: #7f7f7f; text-decoration-color: #7f7f7f\">:</span><a href=\"file:///Users/kschaper/Monarch/everycure/matrix/pipelines/matrix/.venv/lib/python3.11/site-packages/kedro/ipython/__init__.py#58\" target=\"_blank\"><span style=\"color: #7f7f7f; text-decoration-color: #7f7f7f\">58</span></a>\n",
       "</pre>\n"
      ],
      "text/plain": [
       "\u001b[2;36m                   \u001b[0m\u001b[2;36m \u001b[0m\u001b[34mINFO    \u001b[0m Registered line magic \u001b[32m'%reload_kedro'\u001b[0m                                   \u001b]8;id=259902;file:///Users/kschaper/Monarch/everycure/matrix/pipelines/matrix/.venv/lib/python3.11/site-packages/kedro/ipython/__init__.py\u001b\\\u001b[2m__init__.py\u001b[0m\u001b]8;;\u001b\\\u001b[2m:\u001b[0m\u001b]8;id=935273;file:///Users/kschaper/Monarch/everycure/matrix/pipelines/matrix/.venv/lib/python3.11/site-packages/kedro/ipython/__init__.py#58\u001b\\\u001b[2m58\u001b[0m\u001b]8;;\u001b\\\n"
      ]
     },
     "metadata": {},
     "output_type": "display_data"
    },
    {
     "data": {
      "text/html": [
       "<pre style=\"white-space:pre;overflow-x:auto;line-height:normal;font-family:Menlo,'DejaVu Sans Mono',consolas,'Courier New',monospace\"><span style=\"color: #7fbfbf; text-decoration-color: #7fbfbf\">                    </span><span style=\"color: #000080; text-decoration-color: #000080\">INFO    </span> Registered line magic <span style=\"color: #008000; text-decoration-color: #008000\">'%load_node'</span>                                      <a href=\"file:///Users/kschaper/Monarch/everycure/matrix/pipelines/matrix/.venv/lib/python3.11/site-packages/kedro/ipython/__init__.py\" target=\"_blank\"><span style=\"color: #7f7f7f; text-decoration-color: #7f7f7f\">__init__.py</span></a><span style=\"color: #7f7f7f; text-decoration-color: #7f7f7f\">:</span><a href=\"file:///Users/kschaper/Monarch/everycure/matrix/pipelines/matrix/.venv/lib/python3.11/site-packages/kedro/ipython/__init__.py#60\" target=\"_blank\"><span style=\"color: #7f7f7f; text-decoration-color: #7f7f7f\">60</span></a>\n",
       "</pre>\n"
      ],
      "text/plain": [
       "\u001b[2;36m                   \u001b[0m\u001b[2;36m \u001b[0m\u001b[34mINFO    \u001b[0m Registered line magic \u001b[32m'%load_node'\u001b[0m                                      \u001b]8;id=440846;file:///Users/kschaper/Monarch/everycure/matrix/pipelines/matrix/.venv/lib/python3.11/site-packages/kedro/ipython/__init__.py\u001b\\\u001b[2m__init__.py\u001b[0m\u001b]8;;\u001b\\\u001b[2m:\u001b[0m\u001b]8;id=661764;file:///Users/kschaper/Monarch/everycure/matrix/pipelines/matrix/.venv/lib/python3.11/site-packages/kedro/ipython/__init__.py#60\u001b\\\u001b[2m60\u001b[0m\u001b]8;;\u001b\\\n"
      ]
     },
     "metadata": {},
     "output_type": "display_data"
    },
    {
     "data": {
      "text/html": [
       "<pre style=\"white-space:pre;overflow-x:auto;line-height:normal;font-family:Menlo,'DejaVu Sans Mono',consolas,'Courier New',monospace\"><span style=\"color: #7fbfbf; text-decoration-color: #7fbfbf\">                    </span><span style=\"color: #000080; text-decoration-color: #000080\">INFO    </span> Resolved project path as:                                              <a href=\"file:///Users/kschaper/Monarch/everycure/matrix/pipelines/matrix/.venv/lib/python3.11/site-packages/kedro/ipython/__init__.py\" target=\"_blank\"><span style=\"color: #7f7f7f; text-decoration-color: #7f7f7f\">__init__.py</span></a><span style=\"color: #7f7f7f; text-decoration-color: #7f7f7f\">:</span><a href=\"file:///Users/kschaper/Monarch/everycure/matrix/pipelines/matrix/.venv/lib/python3.11/site-packages/kedro/ipython/__init__.py#171\" target=\"_blank\"><span style=\"color: #7f7f7f; text-decoration-color: #7f7f7f\">171</span></a>\n",
       "<span style=\"color: #7fbfbf; text-decoration-color: #7fbfbf\">                    </span>         <span style=\"color: #800080; text-decoration-color: #800080\">/Users/kschaper/Monarch/everycure/matrix/pipelines/</span><span style=\"color: #ff00ff; text-decoration-color: #ff00ff\">matrix.</span>             <span style=\"color: #7f7f7f; text-decoration-color: #7f7f7f\">               </span>\n",
       "<span style=\"color: #7fbfbf; text-decoration-color: #7fbfbf\">                    </span>         To set a different path, run <span style=\"color: #008000; text-decoration-color: #008000\">'%reload_kedro &lt;project_root&gt;'</span>            <span style=\"color: #7f7f7f; text-decoration-color: #7f7f7f\">               </span>\n",
       "</pre>\n"
      ],
      "text/plain": [
       "\u001b[2;36m                   \u001b[0m\u001b[2;36m \u001b[0m\u001b[34mINFO    \u001b[0m Resolved project path as:                                              \u001b]8;id=144786;file:///Users/kschaper/Monarch/everycure/matrix/pipelines/matrix/.venv/lib/python3.11/site-packages/kedro/ipython/__init__.py\u001b\\\u001b[2m__init__.py\u001b[0m\u001b]8;;\u001b\\\u001b[2m:\u001b[0m\u001b]8;id=977084;file:///Users/kschaper/Monarch/everycure/matrix/pipelines/matrix/.venv/lib/python3.11/site-packages/kedro/ipython/__init__.py#171\u001b\\\u001b[2m171\u001b[0m\u001b]8;;\u001b\\\n",
       "\u001b[2;36m                    \u001b[0m         \u001b[35m/Users/kschaper/Monarch/everycure/matrix/pipelines/\u001b[0m\u001b[95mmatrix.\u001b[0m             \u001b[2m               \u001b[0m\n",
       "\u001b[2;36m                    \u001b[0m         To set a different path, run \u001b[32m'%reload_kedro \u001b[0m\u001b[32m<\u001b[0m\u001b[32mproject_root\u001b[0m\u001b[32m>\u001b[0m\u001b[32m'\u001b[0m            \u001b[2m               \u001b[0m\n"
      ]
     },
     "metadata": {},
     "output_type": "display_data"
    },
    {
     "data": {
      "text/html": [
       "<pre style=\"white-space:pre;overflow-x:auto;line-height:normal;font-family:Menlo,'DejaVu Sans Mono',consolas,'Courier New',monospace\"><span style=\"color: #7fbfbf; text-decoration-color: #7fbfbf\">[01/02/25 14:47:53] </span><span style=\"color: #000080; text-decoration-color: #000080\">INFO    </span> Remembering context for context export later                              <a href=\"file:///Users/kschaper/Monarch/everycure/matrix/pipelines/matrix/src/matrix/hooks.py\" target=\"_blank\"><span style=\"color: #7f7f7f; text-decoration-color: #7f7f7f\">hooks.py</span></a><span style=\"color: #7f7f7f; text-decoration-color: #7f7f7f\">:</span><a href=\"file:///Users/kschaper/Monarch/everycure/matrix/pipelines/matrix/src/matrix/hooks.py#280\" target=\"_blank\"><span style=\"color: #7f7f7f; text-decoration-color: #7f7f7f\">280</span></a>\n",
       "</pre>\n"
      ],
      "text/plain": [
       "\u001b[2;36m[01/02/25 14:47:53]\u001b[0m\u001b[2;36m \u001b[0m\u001b[34mINFO    \u001b[0m Remembering context for context export later                              \u001b]8;id=996883;file:///Users/kschaper/Monarch/everycure/matrix/pipelines/matrix/src/matrix/hooks.py\u001b\\\u001b[2mhooks.py\u001b[0m\u001b]8;;\u001b\\\u001b[2m:\u001b[0m\u001b]8;id=815336;file:///Users/kschaper/Monarch/everycure/matrix/pipelines/matrix/src/matrix/hooks.py#280\u001b\\\u001b[2m280\u001b[0m\u001b]8;;\u001b\\\n"
      ]
     },
     "metadata": {},
     "output_type": "display_data"
    },
    {
     "data": {
      "text/html": [
       "<pre style=\"white-space:pre;overflow-x:auto;line-height:normal;font-family:Menlo,'DejaVu Sans Mono',consolas,'Courier New',monospace\"><span style=\"color: #7fbfbf; text-decoration-color: #7fbfbf\">                    </span><span style=\"color: #000080; text-decoration-color: #000080\">INFO    </span> Remembering context for spark later                                       <a href=\"file:///Users/kschaper/Monarch/everycure/matrix/pipelines/matrix/src/matrix/hooks.py\" target=\"_blank\"><span style=\"color: #7f7f7f; text-decoration-color: #7f7f7f\">hooks.py</span></a><span style=\"color: #7f7f7f; text-decoration-color: #7f7f7f\">:</span><a href=\"file:///Users/kschaper/Monarch/everycure/matrix/pipelines/matrix/src/matrix/hooks.py#167\" target=\"_blank\"><span style=\"color: #7f7f7f; text-decoration-color: #7f7f7f\">167</span></a>\n",
       "</pre>\n"
      ],
      "text/plain": [
       "\u001b[2;36m                   \u001b[0m\u001b[2;36m \u001b[0m\u001b[34mINFO    \u001b[0m Remembering context for spark later                                       \u001b]8;id=893881;file:///Users/kschaper/Monarch/everycure/matrix/pipelines/matrix/src/matrix/hooks.py\u001b\\\u001b[2mhooks.py\u001b[0m\u001b]8;;\u001b\\\u001b[2m:\u001b[0m\u001b]8;id=979328;file:///Users/kschaper/Monarch/everycure/matrix/pipelines/matrix/src/matrix/hooks.py#167\u001b\\\u001b[2m167\u001b[0m\u001b]8;;\u001b\\\n"
      ]
     },
     "metadata": {},
     "output_type": "display_data"
    },
    {
     "data": {
      "text/html": [
       "<pre style=\"white-space:pre;overflow-x:auto;line-height:normal;font-family:Menlo,'DejaVu Sans Mono',consolas,'Courier New',monospace\"><span style=\"color: #7fbfbf; text-decoration-color: #7fbfbf\">[01/02/25 14:47:58] </span><span style=\"color: #000080; text-decoration-color: #000080\">INFO    </span> Kedro project matrix                                                   <a href=\"file:///Users/kschaper/Monarch/everycure/matrix/pipelines/matrix/.venv/lib/python3.11/site-packages/kedro/ipython/__init__.py\" target=\"_blank\"><span style=\"color: #7f7f7f; text-decoration-color: #7f7f7f\">__init__.py</span></a><span style=\"color: #7f7f7f; text-decoration-color: #7f7f7f\">:</span><a href=\"file:///Users/kschaper/Monarch/everycure/matrix/pipelines/matrix/.venv/lib/python3.11/site-packages/kedro/ipython/__init__.py#141\" target=\"_blank\"><span style=\"color: #7f7f7f; text-decoration-color: #7f7f7f\">141</span></a>\n",
       "</pre>\n"
      ],
      "text/plain": [
       "\u001b[2;36m[01/02/25 14:47:58]\u001b[0m\u001b[2;36m \u001b[0m\u001b[34mINFO    \u001b[0m Kedro project matrix                                                   \u001b]8;id=960267;file:///Users/kschaper/Monarch/everycure/matrix/pipelines/matrix/.venv/lib/python3.11/site-packages/kedro/ipython/__init__.py\u001b\\\u001b[2m__init__.py\u001b[0m\u001b]8;;\u001b\\\u001b[2m:\u001b[0m\u001b]8;id=499563;file:///Users/kschaper/Monarch/everycure/matrix/pipelines/matrix/.venv/lib/python3.11/site-packages/kedro/ipython/__init__.py#141\u001b\\\u001b[2m141\u001b[0m\u001b]8;;\u001b\\\n"
      ]
     },
     "metadata": {},
     "output_type": "display_data"
    },
    {
     "data": {
      "text/html": [
       "<pre style=\"white-space:pre;overflow-x:auto;line-height:normal;font-family:Menlo,'DejaVu Sans Mono',consolas,'Courier New',monospace\"><span style=\"color: #7fbfbf; text-decoration-color: #7fbfbf\">                    </span><span style=\"color: #000080; text-decoration-color: #000080\">INFO    </span> Defined global variable <span style=\"color: #008000; text-decoration-color: #008000\">'context'</span>, <span style=\"color: #008000; text-decoration-color: #008000\">'session'</span>, <span style=\"color: #008000; text-decoration-color: #008000\">'catalog'</span> and            <a href=\"file:///Users/kschaper/Monarch/everycure/matrix/pipelines/matrix/.venv/lib/python3.11/site-packages/kedro/ipython/__init__.py\" target=\"_blank\"><span style=\"color: #7f7f7f; text-decoration-color: #7f7f7f\">__init__.py</span></a><span style=\"color: #7f7f7f; text-decoration-color: #7f7f7f\">:</span><a href=\"file:///Users/kschaper/Monarch/everycure/matrix/pipelines/matrix/.venv/lib/python3.11/site-packages/kedro/ipython/__init__.py#142\" target=\"_blank\"><span style=\"color: #7f7f7f; text-decoration-color: #7f7f7f\">142</span></a>\n",
       "<span style=\"color: #7fbfbf; text-decoration-color: #7fbfbf\">                    </span>         <span style=\"color: #008000; text-decoration-color: #008000\">'pipelines'</span>                                                            <span style=\"color: #7f7f7f; text-decoration-color: #7f7f7f\">               </span>\n",
       "</pre>\n"
      ],
      "text/plain": [
       "\u001b[2;36m                   \u001b[0m\u001b[2;36m \u001b[0m\u001b[34mINFO    \u001b[0m Defined global variable \u001b[32m'context'\u001b[0m, \u001b[32m'session'\u001b[0m, \u001b[32m'catalog'\u001b[0m and            \u001b]8;id=659282;file:///Users/kschaper/Monarch/everycure/matrix/pipelines/matrix/.venv/lib/python3.11/site-packages/kedro/ipython/__init__.py\u001b\\\u001b[2m__init__.py\u001b[0m\u001b]8;;\u001b\\\u001b[2m:\u001b[0m\u001b]8;id=706270;file:///Users/kschaper/Monarch/everycure/matrix/pipelines/matrix/.venv/lib/python3.11/site-packages/kedro/ipython/__init__.py#142\u001b\\\u001b[2m142\u001b[0m\u001b]8;;\u001b\\\n",
       "\u001b[2;36m                    \u001b[0m         \u001b[32m'pipelines'\u001b[0m                                                            \u001b[2m               \u001b[0m\n"
      ]
     },
     "metadata": {},
     "output_type": "display_data"
    },
    {
     "data": {
      "text/html": [
       "<pre style=\"white-space:pre;overflow-x:auto;line-height:normal;font-family:Menlo,'DejaVu Sans Mono',consolas,'Courier New',monospace\"><span style=\"color: #7fbfbf; text-decoration-color: #7fbfbf\">                    </span><span style=\"color: #000080; text-decoration-color: #000080\">INFO    </span> Registered line magic <span style=\"color: #008000; text-decoration-color: #008000\">'run_viz'</span>                                        <a href=\"file:///Users/kschaper/Monarch/everycure/matrix/pipelines/matrix/.venv/lib/python3.11/site-packages/kedro/ipython/__init__.py\" target=\"_blank\"><span style=\"color: #7f7f7f; text-decoration-color: #7f7f7f\">__init__.py</span></a><span style=\"color: #7f7f7f; text-decoration-color: #7f7f7f\">:</span><a href=\"file:///Users/kschaper/Monarch/everycure/matrix/pipelines/matrix/.venv/lib/python3.11/site-packages/kedro/ipython/__init__.py#148\" target=\"_blank\"><span style=\"color: #7f7f7f; text-decoration-color: #7f7f7f\">148</span></a>\n",
       "</pre>\n"
      ],
      "text/plain": [
       "\u001b[2;36m                   \u001b[0m\u001b[2;36m \u001b[0m\u001b[34mINFO    \u001b[0m Registered line magic \u001b[32m'run_viz'\u001b[0m                                        \u001b]8;id=555003;file:///Users/kschaper/Monarch/everycure/matrix/pipelines/matrix/.venv/lib/python3.11/site-packages/kedro/ipython/__init__.py\u001b\\\u001b[2m__init__.py\u001b[0m\u001b]8;;\u001b\\\u001b[2m:\u001b[0m\u001b]8;id=323707;file:///Users/kschaper/Monarch/everycure/matrix/pipelines/matrix/.venv/lib/python3.11/site-packages/kedro/ipython/__init__.py#148\u001b\\\u001b[2m148\u001b[0m\u001b]8;;\u001b\\\n"
      ]
     },
     "metadata": {},
     "output_type": "display_data"
    },
    {
     "data": {
      "text/html": [
       "<pre style=\"white-space:pre;overflow-x:auto;line-height:normal;font-family:Menlo,'DejaVu Sans Mono',consolas,'Courier New',monospace\"><span style=\"color: #7fbfbf; text-decoration-color: #7fbfbf\">                    </span><span style=\"color: #000080; text-decoration-color: #000080\">INFO    </span> Resolved project path as:                                              <a href=\"file:///Users/kschaper/Monarch/everycure/matrix/pipelines/matrix/.venv/lib/python3.11/site-packages/kedro/ipython/__init__.py\" target=\"_blank\"><span style=\"color: #7f7f7f; text-decoration-color: #7f7f7f\">__init__.py</span></a><span style=\"color: #7f7f7f; text-decoration-color: #7f7f7f\">:</span><a href=\"file:///Users/kschaper/Monarch/everycure/matrix/pipelines/matrix/.venv/lib/python3.11/site-packages/kedro/ipython/__init__.py#171\" target=\"_blank\"><span style=\"color: #7f7f7f; text-decoration-color: #7f7f7f\">171</span></a>\n",
       "<span style=\"color: #7fbfbf; text-decoration-color: #7fbfbf\">                    </span>         <span style=\"color: #800080; text-decoration-color: #800080\">/Users/kschaper/Monarch/everycure/matrix/pipelines/</span><span style=\"color: #ff00ff; text-decoration-color: #ff00ff\">matrix.</span>             <span style=\"color: #7f7f7f; text-decoration-color: #7f7f7f\">               </span>\n",
       "<span style=\"color: #7fbfbf; text-decoration-color: #7fbfbf\">                    </span>         To set a different path, run <span style=\"color: #008000; text-decoration-color: #008000\">'%reload_kedro &lt;project_root&gt;'</span>            <span style=\"color: #7f7f7f; text-decoration-color: #7f7f7f\">               </span>\n",
       "</pre>\n"
      ],
      "text/plain": [
       "\u001b[2;36m                   \u001b[0m\u001b[2;36m \u001b[0m\u001b[34mINFO    \u001b[0m Resolved project path as:                                              \u001b]8;id=260857;file:///Users/kschaper/Monarch/everycure/matrix/pipelines/matrix/.venv/lib/python3.11/site-packages/kedro/ipython/__init__.py\u001b\\\u001b[2m__init__.py\u001b[0m\u001b]8;;\u001b\\\u001b[2m:\u001b[0m\u001b]8;id=419258;file:///Users/kschaper/Monarch/everycure/matrix/pipelines/matrix/.venv/lib/python3.11/site-packages/kedro/ipython/__init__.py#171\u001b\\\u001b[2m171\u001b[0m\u001b]8;;\u001b\\\n",
       "\u001b[2;36m                    \u001b[0m         \u001b[35m/Users/kschaper/Monarch/everycure/matrix/pipelines/\u001b[0m\u001b[95mmatrix.\u001b[0m             \u001b[2m               \u001b[0m\n",
       "\u001b[2;36m                    \u001b[0m         To set a different path, run \u001b[32m'%reload_kedro \u001b[0m\u001b[32m<\u001b[0m\u001b[32mproject_root\u001b[0m\u001b[32m>\u001b[0m\u001b[32m'\u001b[0m            \u001b[2m               \u001b[0m\n"
      ]
     },
     "metadata": {},
     "output_type": "display_data"
    },
    {
     "data": {
      "text/html": [
       "<pre style=\"white-space:pre;overflow-x:auto;line-height:normal;font-family:Menlo,'DejaVu Sans Mono',consolas,'Courier New',monospace\"><span style=\"color: #7fbfbf; text-decoration-color: #7fbfbf\">                    </span><span style=\"color: #000080; text-decoration-color: #000080\">INFO    </span> Remembering context for context export later                              <a href=\"file:///Users/kschaper/Monarch/everycure/matrix/pipelines/matrix/src/matrix/hooks.py\" target=\"_blank\"><span style=\"color: #7f7f7f; text-decoration-color: #7f7f7f\">hooks.py</span></a><span style=\"color: #7f7f7f; text-decoration-color: #7f7f7f\">:</span><a href=\"file:///Users/kschaper/Monarch/everycure/matrix/pipelines/matrix/src/matrix/hooks.py#280\" target=\"_blank\"><span style=\"color: #7f7f7f; text-decoration-color: #7f7f7f\">280</span></a>\n",
       "</pre>\n"
      ],
      "text/plain": [
       "\u001b[2;36m                   \u001b[0m\u001b[2;36m \u001b[0m\u001b[34mINFO    \u001b[0m Remembering context for context export later                              \u001b]8;id=642082;file:///Users/kschaper/Monarch/everycure/matrix/pipelines/matrix/src/matrix/hooks.py\u001b\\\u001b[2mhooks.py\u001b[0m\u001b]8;;\u001b\\\u001b[2m:\u001b[0m\u001b]8;id=418274;file:///Users/kschaper/Monarch/everycure/matrix/pipelines/matrix/src/matrix/hooks.py#280\u001b\\\u001b[2m280\u001b[0m\u001b]8;;\u001b\\\n"
      ]
     },
     "metadata": {},
     "output_type": "display_data"
    },
    {
     "data": {
      "text/html": [
       "<pre style=\"white-space:pre;overflow-x:auto;line-height:normal;font-family:Menlo,'DejaVu Sans Mono',consolas,'Courier New',monospace\"><span style=\"color: #7fbfbf; text-decoration-color: #7fbfbf\">[01/02/25 14:47:59] </span><span style=\"color: #000080; text-decoration-color: #000080\">INFO    </span> Remembering context for spark later                                       <a href=\"file:///Users/kschaper/Monarch/everycure/matrix/pipelines/matrix/src/matrix/hooks.py\" target=\"_blank\"><span style=\"color: #7f7f7f; text-decoration-color: #7f7f7f\">hooks.py</span></a><span style=\"color: #7f7f7f; text-decoration-color: #7f7f7f\">:</span><a href=\"file:///Users/kschaper/Monarch/everycure/matrix/pipelines/matrix/src/matrix/hooks.py#167\" target=\"_blank\"><span style=\"color: #7f7f7f; text-decoration-color: #7f7f7f\">167</span></a>\n",
       "</pre>\n"
      ],
      "text/plain": [
       "\u001b[2;36m[01/02/25 14:47:59]\u001b[0m\u001b[2;36m \u001b[0m\u001b[34mINFO    \u001b[0m Remembering context for spark later                                       \u001b]8;id=100224;file:///Users/kschaper/Monarch/everycure/matrix/pipelines/matrix/src/matrix/hooks.py\u001b\\\u001b[2mhooks.py\u001b[0m\u001b]8;;\u001b\\\u001b[2m:\u001b[0m\u001b]8;id=482931;file:///Users/kschaper/Monarch/everycure/matrix/pipelines/matrix/src/matrix/hooks.py#167\u001b\\\u001b[2m167\u001b[0m\u001b]8;;\u001b\\\n"
      ]
     },
     "metadata": {},
     "output_type": "display_data"
    },
    {
     "data": {
      "text/html": [
       "<pre style=\"white-space:pre;overflow-x:auto;line-height:normal;font-family:Menlo,'DejaVu Sans Mono',consolas,'Courier New',monospace\"><span style=\"color: #7fbfbf; text-decoration-color: #7fbfbf\">                    </span><span style=\"color: #000080; text-decoration-color: #000080\">INFO    </span> Kedro project matrix                                                   <a href=\"file:///Users/kschaper/Monarch/everycure/matrix/pipelines/matrix/.venv/lib/python3.11/site-packages/kedro/ipython/__init__.py\" target=\"_blank\"><span style=\"color: #7f7f7f; text-decoration-color: #7f7f7f\">__init__.py</span></a><span style=\"color: #7f7f7f; text-decoration-color: #7f7f7f\">:</span><a href=\"file:///Users/kschaper/Monarch/everycure/matrix/pipelines/matrix/.venv/lib/python3.11/site-packages/kedro/ipython/__init__.py#141\" target=\"_blank\"><span style=\"color: #7f7f7f; text-decoration-color: #7f7f7f\">141</span></a>\n",
       "</pre>\n"
      ],
      "text/plain": [
       "\u001b[2;36m                   \u001b[0m\u001b[2;36m \u001b[0m\u001b[34mINFO    \u001b[0m Kedro project matrix                                                   \u001b]8;id=478210;file:///Users/kschaper/Monarch/everycure/matrix/pipelines/matrix/.venv/lib/python3.11/site-packages/kedro/ipython/__init__.py\u001b\\\u001b[2m__init__.py\u001b[0m\u001b]8;;\u001b\\\u001b[2m:\u001b[0m\u001b]8;id=338364;file:///Users/kschaper/Monarch/everycure/matrix/pipelines/matrix/.venv/lib/python3.11/site-packages/kedro/ipython/__init__.py#141\u001b\\\u001b[2m141\u001b[0m\u001b]8;;\u001b\\\n"
      ]
     },
     "metadata": {},
     "output_type": "display_data"
    },
    {
     "data": {
      "text/html": [
       "<pre style=\"white-space:pre;overflow-x:auto;line-height:normal;font-family:Menlo,'DejaVu Sans Mono',consolas,'Courier New',monospace\"><span style=\"color: #7fbfbf; text-decoration-color: #7fbfbf\">                    </span><span style=\"color: #000080; text-decoration-color: #000080\">INFO    </span> Defined global variable <span style=\"color: #008000; text-decoration-color: #008000\">'context'</span>, <span style=\"color: #008000; text-decoration-color: #008000\">'session'</span>, <span style=\"color: #008000; text-decoration-color: #008000\">'catalog'</span> and            <a href=\"file:///Users/kschaper/Monarch/everycure/matrix/pipelines/matrix/.venv/lib/python3.11/site-packages/kedro/ipython/__init__.py\" target=\"_blank\"><span style=\"color: #7f7f7f; text-decoration-color: #7f7f7f\">__init__.py</span></a><span style=\"color: #7f7f7f; text-decoration-color: #7f7f7f\">:</span><a href=\"file:///Users/kschaper/Monarch/everycure/matrix/pipelines/matrix/.venv/lib/python3.11/site-packages/kedro/ipython/__init__.py#142\" target=\"_blank\"><span style=\"color: #7f7f7f; text-decoration-color: #7f7f7f\">142</span></a>\n",
       "<span style=\"color: #7fbfbf; text-decoration-color: #7fbfbf\">                    </span>         <span style=\"color: #008000; text-decoration-color: #008000\">'pipelines'</span>                                                            <span style=\"color: #7f7f7f; text-decoration-color: #7f7f7f\">               </span>\n",
       "</pre>\n"
      ],
      "text/plain": [
       "\u001b[2;36m                   \u001b[0m\u001b[2;36m \u001b[0m\u001b[34mINFO    \u001b[0m Defined global variable \u001b[32m'context'\u001b[0m, \u001b[32m'session'\u001b[0m, \u001b[32m'catalog'\u001b[0m and            \u001b]8;id=871662;file:///Users/kschaper/Monarch/everycure/matrix/pipelines/matrix/.venv/lib/python3.11/site-packages/kedro/ipython/__init__.py\u001b\\\u001b[2m__init__.py\u001b[0m\u001b]8;;\u001b\\\u001b[2m:\u001b[0m\u001b]8;id=737715;file:///Users/kschaper/Monarch/everycure/matrix/pipelines/matrix/.venv/lib/python3.11/site-packages/kedro/ipython/__init__.py#142\u001b\\\u001b[2m142\u001b[0m\u001b]8;;\u001b\\\n",
       "\u001b[2;36m                    \u001b[0m         \u001b[32m'pipelines'\u001b[0m                                                            \u001b[2m               \u001b[0m\n"
      ]
     },
     "metadata": {},
     "output_type": "display_data"
    },
    {
     "data": {
      "text/html": [
       "<pre style=\"white-space:pre;overflow-x:auto;line-height:normal;font-family:Menlo,'DejaVu Sans Mono',consolas,'Courier New',monospace\"><span style=\"color: #7fbfbf; text-decoration-color: #7fbfbf\">                    </span><span style=\"color: #000080; text-decoration-color: #000080\">INFO    </span> Registered line magic <span style=\"color: #008000; text-decoration-color: #008000\">'run_viz'</span>                                        <a href=\"file:///Users/kschaper/Monarch/everycure/matrix/pipelines/matrix/.venv/lib/python3.11/site-packages/kedro/ipython/__init__.py\" target=\"_blank\"><span style=\"color: #7f7f7f; text-decoration-color: #7f7f7f\">__init__.py</span></a><span style=\"color: #7f7f7f; text-decoration-color: #7f7f7f\">:</span><a href=\"file:///Users/kschaper/Monarch/everycure/matrix/pipelines/matrix/.venv/lib/python3.11/site-packages/kedro/ipython/__init__.py#148\" target=\"_blank\"><span style=\"color: #7f7f7f; text-decoration-color: #7f7f7f\">148</span></a>\n",
       "</pre>\n"
      ],
      "text/plain": [
       "\u001b[2;36m                   \u001b[0m\u001b[2;36m \u001b[0m\u001b[34mINFO    \u001b[0m Registered line magic \u001b[32m'run_viz'\u001b[0m                                        \u001b]8;id=11197;file:///Users/kschaper/Monarch/everycure/matrix/pipelines/matrix/.venv/lib/python3.11/site-packages/kedro/ipython/__init__.py\u001b\\\u001b[2m__init__.py\u001b[0m\u001b]8;;\u001b\\\u001b[2m:\u001b[0m\u001b]8;id=965227;file:///Users/kschaper/Monarch/everycure/matrix/pipelines/matrix/.venv/lib/python3.11/site-packages/kedro/ipython/__init__.py#148\u001b\\\u001b[2m148\u001b[0m\u001b]8;;\u001b\\\n"
      ]
     },
     "metadata": {},
     "output_type": "display_data"
    }
   ],
   "source": [
    "# notebook setup borrowed from 2024/merging_rtx_robokop.ipynb \n",
    "import os\n",
    "from pathlib import Path\n",
    "import subprocess\n",
    "\n",
    "from pyspark.sql.functions import split\n",
    "\n",
    "%load_ext autoreload\n",
    "%autoreload 2\n",
    "from rich.console import Console\n",
    "from rich.logging import RichHandler\n",
    "from rich.panel import Panel\n",
    "from rich.rule import Rule\n",
    "console = Console()\n",
    "\n",
    "\n",
    "\n",
    "# hack that moves this notebook context into the kedro path\n",
    "root_path = subprocess.check_output(['git', 'rev-parse', '--show-toplevel']).decode().strip()\n",
    "os.chdir(Path(root_path) / 'pipelines' / 'matrix')\n",
    "\n",
    "# this loads various objects into the context, see \n",
    "# https://docs.kedro.org/en/stable/notebooks_and_ipython/kedro_and_notebooks.html#kedro-line-magics\n",
    "%load_ext kedro.ipython\n",
    "# %reload_kedro  --env cloud\n",
    "# %reload_kedro  --env test\n",
    "%reload_kedro\n"
   ]
  },
  {
   "cell_type": "code",
   "execution_count": 3,
   "metadata": {},
   "outputs": [
    {
     "data": {
      "text/html": [
       "<pre style=\"white-space:pre;overflow-x:auto;line-height:normal;font-family:Menlo,'DejaVu Sans Mono',consolas,'Courier New',monospace\"><span style=\"color: #7fbfbf; text-decoration-color: #7fbfbf\">[01/02/25 14:48:28] </span><span style=\"color: #000080; text-decoration-color: #000080\">INFO    </span> Loading data from <span style=\"color: #ff8700; text-decoration-color: #ff8700\">integration.prm.unified_nodes</span>                    <a href=\"file:///Users/kschaper/Monarch/everycure/matrix/pipelines/matrix/.venv/lib/python3.11/site-packages/kedro/io/data_catalog.py\" target=\"_blank\"><span style=\"color: #7f7f7f; text-decoration-color: #7f7f7f\">data_catalog.py</span></a><span style=\"color: #7f7f7f; text-decoration-color: #7f7f7f\">:</span><a href=\"file:///Users/kschaper/Monarch/everycure/matrix/pipelines/matrix/.venv/lib/python3.11/site-packages/kedro/io/data_catalog.py#508\" target=\"_blank\"><span style=\"color: #7f7f7f; text-decoration-color: #7f7f7f\">508</span></a>\n",
       "<span style=\"color: #7fbfbf; text-decoration-color: #7fbfbf\">                    </span>         <span style=\"font-weight: bold\">(</span>LazySparkDataset<span style=\"font-weight: bold\">)</span><span style=\"color: #808000; text-decoration-color: #808000\">...</span>                                              <span style=\"color: #7f7f7f; text-decoration-color: #7f7f7f\">                   </span>\n",
       "</pre>\n"
      ],
      "text/plain": [
       "\u001b[2;36m[01/02/25 14:48:28]\u001b[0m\u001b[2;36m \u001b[0m\u001b[34mINFO    \u001b[0m Loading data from \u001b[38;5;208mintegration.prm.unified_nodes\u001b[0m                    \u001b]8;id=146022;file:///Users/kschaper/Monarch/everycure/matrix/pipelines/matrix/.venv/lib/python3.11/site-packages/kedro/io/data_catalog.py\u001b\\\u001b[2mdata_catalog.py\u001b[0m\u001b]8;;\u001b\\\u001b[2m:\u001b[0m\u001b]8;id=915944;file:///Users/kschaper/Monarch/everycure/matrix/pipelines/matrix/.venv/lib/python3.11/site-packages/kedro/io/data_catalog.py#508\u001b\\\u001b[2m508\u001b[0m\u001b]8;;\u001b\\\n",
       "\u001b[2;36m                    \u001b[0m         \u001b[1m(\u001b[0mLazySparkDataset\u001b[1m)\u001b[0m\u001b[33m...\u001b[0m                                              \u001b[2m                   \u001b[0m\n"
      ]
     },
     "metadata": {},
     "output_type": "display_data"
    },
    {
     "data": {
      "text/html": [
       "<pre style=\"white-space:pre;overflow-x:auto;line-height:normal;font-family:Menlo,'DejaVu Sans Mono',consolas,'Courier New',monospace\"><span style=\"color: #7fbfbf; text-decoration-color: #7fbfbf\">                    </span><span style=\"color: #000080; text-decoration-color: #000080\">INFO    </span> Executing for environment: <span style=\"color: #800080; text-decoration-color: #800080; font-style: italic\">None</span>                                           <a href=\"file:///Users/kschaper/Monarch/everycure/matrix/pipelines/matrix/src/matrix/hooks.py\" target=\"_blank\"><span style=\"color: #7f7f7f; text-decoration-color: #7f7f7f\">hooks.py</span></a><span style=\"color: #7f7f7f; text-decoration-color: #7f7f7f\">:</span><a href=\"file:///Users/kschaper/Monarch/everycure/matrix/pipelines/matrix/src/matrix/hooks.py#150\" target=\"_blank\"><span style=\"color: #7f7f7f; text-decoration-color: #7f7f7f\">150</span></a>\n",
       "</pre>\n"
      ],
      "text/plain": [
       "\u001b[2;36m                   \u001b[0m\u001b[2;36m \u001b[0m\u001b[34mINFO    \u001b[0m Executing for environment: \u001b[3;35mNone\u001b[0m                                           \u001b]8;id=119463;file:///Users/kschaper/Monarch/everycure/matrix/pipelines/matrix/src/matrix/hooks.py\u001b\\\u001b[2mhooks.py\u001b[0m\u001b]8;;\u001b\\\u001b[2m:\u001b[0m\u001b]8;id=140780;file:///Users/kschaper/Monarch/everycure/matrix/pipelines/matrix/src/matrix/hooks.py#150\u001b\\\u001b[2m150\u001b[0m\u001b]8;;\u001b\\\n"
      ]
     },
     "metadata": {},
     "output_type": "display_data"
    },
    {
     "data": {
      "text/html": [
       "<pre style=\"white-space:pre;overflow-x:auto;line-height:normal;font-family:Menlo,'DejaVu Sans Mono',consolas,'Courier New',monospace\"><span style=\"color: #7fbfbf; text-decoration-color: #7fbfbf\">                    </span><span style=\"color: #000080; text-decoration-color: #000080\">INFO    </span> With ARGO_POD_UID set to:                                                 <a href=\"file:///Users/kschaper/Monarch/everycure/matrix/pipelines/matrix/src/matrix/hooks.py\" target=\"_blank\"><span style=\"color: #7f7f7f; text-decoration-color: #7f7f7f\">hooks.py</span></a><span style=\"color: #7f7f7f; text-decoration-color: #7f7f7f\">:</span><a href=\"file:///Users/kschaper/Monarch/everycure/matrix/pipelines/matrix/src/matrix/hooks.py#151\" target=\"_blank\"><span style=\"color: #7f7f7f; text-decoration-color: #7f7f7f\">151</span></a>\n",
       "</pre>\n"
      ],
      "text/plain": [
       "\u001b[2;36m                   \u001b[0m\u001b[2;36m \u001b[0m\u001b[34mINFO    \u001b[0m With ARGO_POD_UID set to:                                                 \u001b]8;id=884219;file:///Users/kschaper/Monarch/everycure/matrix/pipelines/matrix/src/matrix/hooks.py\u001b\\\u001b[2mhooks.py\u001b[0m\u001b]8;;\u001b\\\u001b[2m:\u001b[0m\u001b]8;id=663555;file:///Users/kschaper/Monarch/everycure/matrix/pipelines/matrix/src/matrix/hooks.py#151\u001b\\\u001b[2m151\u001b[0m\u001b]8;;\u001b\\\n"
      ]
     },
     "metadata": {},
     "output_type": "display_data"
    },
    {
     "data": {
      "text/html": [
       "<pre style=\"white-space:pre;overflow-x:auto;line-height:normal;font-family:Menlo,'DejaVu Sans Mono',consolas,'Courier New',monospace\"><span style=\"color: #7fbfbf; text-decoration-color: #7fbfbf\">                    </span><span style=\"color: #000080; text-decoration-color: #000080\">INFO    </span> Thus determined not to be in k8s cluster and executing with               <a href=\"file:///Users/kschaper/Monarch/everycure/matrix/pipelines/matrix/src/matrix/hooks.py\" target=\"_blank\"><span style=\"color: #7f7f7f; text-decoration-color: #7f7f7f\">hooks.py</span></a><span style=\"color: #7f7f7f; text-decoration-color: #7f7f7f\">:</span><a href=\"file:///Users/kschaper/Monarch/everycure/matrix/pipelines/matrix/src/matrix/hooks.py#152\" target=\"_blank\"><span style=\"color: #7f7f7f; text-decoration-color: #7f7f7f\">152</span></a>\n",
       "<span style=\"color: #7fbfbf; text-decoration-color: #7fbfbf\">                    </span>         service-account.json file                                                 <span style=\"color: #7f7f7f; text-decoration-color: #7f7f7f\">            </span>\n",
       "</pre>\n"
      ],
      "text/plain": [
       "\u001b[2;36m                   \u001b[0m\u001b[2;36m \u001b[0m\u001b[34mINFO    \u001b[0m Thus determined not to be in k8s cluster and executing with               \u001b]8;id=787729;file:///Users/kschaper/Monarch/everycure/matrix/pipelines/matrix/src/matrix/hooks.py\u001b\\\u001b[2mhooks.py\u001b[0m\u001b]8;;\u001b\\\u001b[2m:\u001b[0m\u001b]8;id=656315;file:///Users/kschaper/Monarch/everycure/matrix/pipelines/matrix/src/matrix/hooks.py#152\u001b\\\u001b[2m152\u001b[0m\u001b]8;;\u001b\\\n",
       "\u001b[2;36m                    \u001b[0m         service-account.json file                                                 \u001b[2m            \u001b[0m\n"
      ]
     },
     "metadata": {},
     "output_type": "display_data"
    },
    {
     "name": "stdout",
     "output_type": "stream",
     "text": [
      ":: loading settings :: url = jar:file:/Users/kschaper/Monarch/everycure/matrix/pipelines/matrix/.venv/lib/python3.11/site-packages/pyspark/jars/ivy-2.5.1.jar!/org/apache/ivy/core/settings/ivysettings.xml\n"
     ]
    },
    {
     "name": "stderr",
     "output_type": "stream",
     "text": [
      "Ivy Default Cache set to: /Users/kschaper/.ivy2/cache\n",
      "The jars for the packages stored in: /Users/kschaper/.ivy2/jars\n",
      "com.google.cloud.spark#spark-3.5-bigquery added as a dependency\n",
      "org.neo4j#neo4j-connector-apache-spark_2.12 added as a dependency\n",
      "org.xerial#sqlite-jdbc added as a dependency\n",
      ":: resolving dependencies :: org.apache.spark#spark-submit-parent-ac89ee40-ff11-452e-8865-dcbe5544972b;1.0\n",
      "\tconfs: [default]\n",
      "\tfound com.google.cloud.spark#spark-3.5-bigquery;0.39.0 in central\n",
      "\tfound com.google.cloud.spark#spark-bigquery-dsv2-common;0.39.0 in central\n",
      "\tfound com.google.cloud.spark#spark-bigquery-connector-common;0.39.0 in central\n",
      "\tfound com.google.cloud.spark#bigquery-connector-common;0.39.0 in central\n",
      "\tfound com.google.api.grpc#grpc-google-cloud-bigquerystorage-v1;3.5.1 in central\n",
      "\tfound io.grpc#grpc-api;1.64.0 in central\n",
      "\tfound com.google.code.findbugs#jsr305;3.0.2 in central\n",
      "\tfound com.google.errorprone#error_prone_annotations;2.23.0 in central\n",
      "\tfound io.grpc#grpc-stub;1.64.0 in central\n",
      "\tfound io.grpc#grpc-protobuf;1.64.0 in central\n",
      "\tfound com.google.api.grpc#proto-google-common-protos;2.39.0 in central\n",
      "\tfound com.google.protobuf#protobuf-java;3.25.3 in central\n",
      "\tfound com.google.api.grpc#proto-google-cloud-bigquerystorage-v1;3.5.1 in central\n",
      "\tfound com.google.api#api-common;2.31.0 in central\n",
      "\tfound com.google.auto.value#auto-value-annotations;1.10.4 in central\n",
      "\tfound javax.annotation#javax.annotation-api;1.3.2 in central\n",
      "\tfound com.google.j2objc#j2objc-annotations;3.0.0 in central\n",
      "\tfound com.google.guava#guava;33.2.0-jre in central\n",
      "\tfound com.google.guava#failureaccess;1.0.2 in central\n",
      "\tfound com.google.guava#listenablefuture;9999.0-empty-to-avoid-conflict-with-guava in central\n",
      "\tfound org.checkerframework#checker-qual;3.42.0 in central\n",
      "\tfound com.google.cloud#google-cloud-bigquery;2.40.1 in central\n",
      "\tfound com.google.cloud#google-cloud-core;2.38.0 in central\n",
      "\tfound com.google.protobuf#protobuf-java-util;3.25.3 in central\n",
      "\tfound com.google.api.grpc#proto-google-iam-v1;1.34.0 in central\n",
      "\tfound com.google.cloud#google-cloud-core-http;2.38.0 in central\n",
      "\tfound com.google.api-client#google-api-client;2.4.0 in central\n",
      "\tfound com.google.oauth-client#google-oauth-client;1.35.0 in central\n",
      "\tfound com.google.http-client#google-http-client-apache-v2;1.44.1 in central\n",
      "\tfound com.google.http-client#google-http-client-appengine;1.44.1 in central\n",
      "\tfound com.google.api#gax-httpjson;2.48.1 in central\n",
      "\tfound io.opencensus#opencensus-api;0.31.1 in central\n",
      "\tfound io.opencensus#opencensus-contrib-http-util;0.31.1 in central\n",
      "\tfound com.google.http-client#google-http-client-gson;1.44.1 in central\n",
      "\tfound com.google.http-client#google-http-client;1.44.1 in central\n",
      "\tfound org.apache.httpcomponents#httpclient;4.5.14 in central\n",
      "\tfound org.apache.httpcomponents#httpcore;4.4.16 in central\n",
      "\tfound io.grpc#grpc-context;1.64.0 in central\n",
      "\tfound org.checkerframework#checker-compat-qual;2.5.6 in central\n",
      "\tfound com.google.auth#google-auth-library-credentials;1.23.0 in central\n",
      "\tfound com.google.auth#google-auth-library-oauth2-http;1.23.0 in central\n",
      "\tfound com.google.apis#google-api-services-bigquery;v2-rev20240323-2.0.0 in central\n",
      "\tfound com.google.api#gax;2.48.1 in central\n",
      "\tfound org.threeten#threetenbp;1.6.9 in central\n",
      "\tfound org.threeten#threeten-extra;1.8.0 in central\n",
      "\tfound com.google.cloud#google-cloud-bigquerystorage;3.5.1 in central\n",
      "\tfound io.grpc#grpc-util;1.64.0 in central\n",
      "\tfound io.grpc#grpc-core;1.64.0 in central\n",
      "\tfound com.google.auto.value#auto-value;1.10.4 in central\n",
      "\tfound com.google.api#gax-grpc;2.48.1 in central\n",
      "\tfound io.grpc#grpc-inprocess;1.64.0 in central\n",
      "\tfound io.grpc#grpc-alts;1.64.0 in central\n",
      "\tfound io.grpc#grpc-grpclb;1.64.0 in central\n",
      "\tfound org.conscrypt#conscrypt-openjdk-uber;2.5.2 in central\n",
      "\tfound io.grpc#grpc-auth;1.64.0 in central\n",
      "\tfound org.json#json;20231013 in central\n",
      "\tfound commons-codec#commons-codec;1.16.0 in central\n",
      "\tfound io.grpc#grpc-netty-shaded;1.64.0 in central\n",
      "\tfound org.apache.arrow#arrow-vector;16.0.0 in central\n",
      "\tfound org.apache.arrow#arrow-memory-core;16.0.0 in central\n",
      "\tfound com.fasterxml.jackson.core#jackson-core;2.17.1 in central\n",
      "\tfound com.fasterxml.jackson.core#jackson-annotations;2.17.1 in central\n",
      "\tfound com.fasterxml.jackson.core#jackson-databind;2.17.1 in central\n",
      "\tfound com.fasterxml.jackson.datatype#jackson-datatype-jsr310;2.17.1 in central\n",
      "\tfound com.google.flatbuffers#flatbuffers-java;23.5.26 in central\n",
      "\tfound org.apache.arrow#arrow-format;15.0.2 in central\n",
      "\tfound net.bytebuddy#byte-buddy;1.14.9 in central\n",
      "\tfound org.slf4j#slf4j-api;2.0.9 in central\n",
      "\tfound org.eclipse.collections#eclipse-collections;11.1.0 in central\n",
      "\tfound org.eclipse.collections#eclipse-collections-api;11.1.0 in central\n",
      "\tfound com.google.inject#guice;5.1.0 in central\n",
      "\tfound javax.inject#javax.inject;1 in central\n",
      "\tfound aopalliance#aopalliance;1.0 in central\n",
      "\tfound io.grpc#grpc-netty;1.64.0 in central\n",
      "\tfound io.netty#netty-codec-http2;4.1.109.Final in central\n",
      "\tfound io.netty#netty-common;4.1.109.Final in central\n",
      "\tfound io.netty#netty-buffer;4.1.109.Final in central\n",
      "\tfound io.netty#netty-transport;4.1.109.Final in central\n",
      "\tfound io.netty#netty-resolver;4.1.109.Final in central\n",
      "\tfound io.netty#netty-codec;4.1.109.Final in central\n",
      "\tfound io.netty#netty-handler;4.1.109.Final in central\n",
      "\tfound io.netty#netty-transport-native-unix-common;4.1.109.Final in central\n",
      "\tfound io.netty#netty-codec-http;4.1.109.Final in central\n",
      "\tfound io.netty#netty-tcnative-boringssl-static;2.0.65.Final in central\n",
      "\tfound io.netty#netty-tcnative-classes;2.0.65.Final in central\n",
      "\tfound org.apache.arrow#arrow-memory-netty;16.0.0 in central\n",
      "\tfound org.apache.arrow#arrow-memory-netty-buffer-patch;16.0.0 in central\n",
      "\tfound com.google.code.gson#gson;2.9.1 in central\n",
      "\tfound org.apache.beam#beam-sdks-java-io-hadoop-common;2.43.0 in central\n",
      "\tfound org.apache.arrow#arrow-compression;16.0.0 in central\n",
      "\tfound org.apache.commons#commons-compress;1.26.0 in central\n",
      "\tfound commons-io#commons-io;2.15.1 in central\n",
      "\tfound org.apache.commons#commons-lang3;3.14.0 in central\n",
      "\tfound com.github.luben#zstd-jni;1.4.9-1 in central\n",
      "\tfound io.grpc#grpc-protobuf-lite;1.64.0 in central\n",
      "\tfound com.google.android#annotations;4.1.1.4 in central\n",
      "\tfound io.perfmark#perfmark-api;0.27.0 in central\n",
      "\tfound org.codehaus.mojo#animal-sniffer-annotations;1.23 in central\n",
      "\tfound io.grpc#grpc-googleapis;1.64.0 in central\n",
      "\tfound io.netty#netty-handler-proxy;4.1.109.Final in central\n",
      "\tfound io.netty#netty-codec-socks;4.1.109.Final in central\n",
      "\tfound org.neo4j#neo4j-connector-apache-spark_2.12;5.3.0_for_spark_3 in central\n",
      "\tfound org.neo4j#neo4j-connector-apache-spark_2.12_common;5.3.0 in central\n",
      "\tfound org.neo4j.driver#neo4j-java-driver;4.4.13 in central\n",
      "\tfound org.reactivestreams#reactive-streams;1.0.4 in central\n",
      "\tfound org.apache.xbean#xbean-asm6-shaded;4.10 in central\n",
      "\tfound org.neo4j#neo4j-cypher-dsl;2022.9.1 in central\n",
      "\tfound org.apiguardian#apiguardian-api;1.1.2 in central\n",
      "\tfound org.xerial#sqlite-jdbc;3.47.0.0 in central\n",
      ":: resolution report :: resolve 1171ms :: artifacts dl 31ms\n",
      "\t:: modules in use:\n",
      "\taopalliance#aopalliance;1.0 from central in [default]\n",
      "\tcom.fasterxml.jackson.core#jackson-annotations;2.17.1 from central in [default]\n",
      "\tcom.fasterxml.jackson.core#jackson-core;2.17.1 from central in [default]\n",
      "\tcom.fasterxml.jackson.core#jackson-databind;2.17.1 from central in [default]\n",
      "\tcom.fasterxml.jackson.datatype#jackson-datatype-jsr310;2.17.1 from central in [default]\n",
      "\tcom.github.luben#zstd-jni;1.4.9-1 from central in [default]\n",
      "\tcom.google.android#annotations;4.1.1.4 from central in [default]\n",
      "\tcom.google.api#api-common;2.31.0 from central in [default]\n",
      "\tcom.google.api#gax;2.48.1 from central in [default]\n",
      "\tcom.google.api#gax-grpc;2.48.1 from central in [default]\n",
      "\tcom.google.api#gax-httpjson;2.48.1 from central in [default]\n",
      "\tcom.google.api-client#google-api-client;2.4.0 from central in [default]\n",
      "\tcom.google.api.grpc#grpc-google-cloud-bigquerystorage-v1;3.5.1 from central in [default]\n",
      "\tcom.google.api.grpc#proto-google-cloud-bigquerystorage-v1;3.5.1 from central in [default]\n",
      "\tcom.google.api.grpc#proto-google-common-protos;2.39.0 from central in [default]\n",
      "\tcom.google.api.grpc#proto-google-iam-v1;1.34.0 from central in [default]\n",
      "\tcom.google.apis#google-api-services-bigquery;v2-rev20240323-2.0.0 from central in [default]\n",
      "\tcom.google.auth#google-auth-library-credentials;1.23.0 from central in [default]\n",
      "\tcom.google.auth#google-auth-library-oauth2-http;1.23.0 from central in [default]\n",
      "\tcom.google.auto.value#auto-value;1.10.4 from central in [default]\n",
      "\tcom.google.auto.value#auto-value-annotations;1.10.4 from central in [default]\n",
      "\tcom.google.cloud#google-cloud-bigquery;2.40.1 from central in [default]\n",
      "\tcom.google.cloud#google-cloud-bigquerystorage;3.5.1 from central in [default]\n",
      "\tcom.google.cloud#google-cloud-core;2.38.0 from central in [default]\n",
      "\tcom.google.cloud#google-cloud-core-http;2.38.0 from central in [default]\n",
      "\tcom.google.cloud.spark#bigquery-connector-common;0.39.0 from central in [default]\n",
      "\tcom.google.cloud.spark#spark-3.5-bigquery;0.39.0 from central in [default]\n",
      "\tcom.google.cloud.spark#spark-bigquery-connector-common;0.39.0 from central in [default]\n",
      "\tcom.google.cloud.spark#spark-bigquery-dsv2-common;0.39.0 from central in [default]\n",
      "\tcom.google.code.findbugs#jsr305;3.0.2 from central in [default]\n",
      "\tcom.google.code.gson#gson;2.9.1 from central in [default]\n",
      "\tcom.google.errorprone#error_prone_annotations;2.23.0 from central in [default]\n",
      "\tcom.google.flatbuffers#flatbuffers-java;23.5.26 from central in [default]\n",
      "\tcom.google.guava#failureaccess;1.0.2 from central in [default]\n",
      "\tcom.google.guava#guava;33.2.0-jre from central in [default]\n",
      "\tcom.google.guava#listenablefuture;9999.0-empty-to-avoid-conflict-with-guava from central in [default]\n",
      "\tcom.google.http-client#google-http-client;1.44.1 from central in [default]\n",
      "\tcom.google.http-client#google-http-client-apache-v2;1.44.1 from central in [default]\n",
      "\tcom.google.http-client#google-http-client-appengine;1.44.1 from central in [default]\n",
      "\tcom.google.http-client#google-http-client-gson;1.44.1 from central in [default]\n",
      "\tcom.google.inject#guice;5.1.0 from central in [default]\n",
      "\tcom.google.j2objc#j2objc-annotations;3.0.0 from central in [default]\n",
      "\tcom.google.oauth-client#google-oauth-client;1.35.0 from central in [default]\n",
      "\tcom.google.protobuf#protobuf-java;3.25.3 from central in [default]\n",
      "\tcom.google.protobuf#protobuf-java-util;3.25.3 from central in [default]\n",
      "\tcommons-codec#commons-codec;1.16.0 from central in [default]\n",
      "\tcommons-io#commons-io;2.15.1 from central in [default]\n",
      "\tio.grpc#grpc-alts;1.64.0 from central in [default]\n",
      "\tio.grpc#grpc-api;1.64.0 from central in [default]\n",
      "\tio.grpc#grpc-auth;1.64.0 from central in [default]\n",
      "\tio.grpc#grpc-context;1.64.0 from central in [default]\n",
      "\tio.grpc#grpc-core;1.64.0 from central in [default]\n",
      "\tio.grpc#grpc-googleapis;1.64.0 from central in [default]\n",
      "\tio.grpc#grpc-grpclb;1.64.0 from central in [default]\n",
      "\tio.grpc#grpc-inprocess;1.64.0 from central in [default]\n",
      "\tio.grpc#grpc-netty;1.64.0 from central in [default]\n",
      "\tio.grpc#grpc-netty-shaded;1.64.0 from central in [default]\n",
      "\tio.grpc#grpc-protobuf;1.64.0 from central in [default]\n",
      "\tio.grpc#grpc-protobuf-lite;1.64.0 from central in [default]\n",
      "\tio.grpc#grpc-stub;1.64.0 from central in [default]\n",
      "\tio.grpc#grpc-util;1.64.0 from central in [default]\n",
      "\tio.netty#netty-buffer;4.1.109.Final from central in [default]\n",
      "\tio.netty#netty-codec;4.1.109.Final from central in [default]\n",
      "\tio.netty#netty-codec-http;4.1.109.Final from central in [default]\n",
      "\tio.netty#netty-codec-http2;4.1.109.Final from central in [default]\n",
      "\tio.netty#netty-codec-socks;4.1.109.Final from central in [default]\n",
      "\tio.netty#netty-common;4.1.109.Final from central in [default]\n",
      "\tio.netty#netty-handler;4.1.109.Final from central in [default]\n",
      "\tio.netty#netty-handler-proxy;4.1.109.Final from central in [default]\n",
      "\tio.netty#netty-resolver;4.1.109.Final from central in [default]\n",
      "\tio.netty#netty-tcnative-boringssl-static;2.0.65.Final from central in [default]\n",
      "\tio.netty#netty-tcnative-classes;2.0.65.Final from central in [default]\n",
      "\tio.netty#netty-transport;4.1.109.Final from central in [default]\n",
      "\tio.netty#netty-transport-native-unix-common;4.1.109.Final from central in [default]\n",
      "\tio.opencensus#opencensus-api;0.31.1 from central in [default]\n",
      "\tio.opencensus#opencensus-contrib-http-util;0.31.1 from central in [default]\n",
      "\tio.perfmark#perfmark-api;0.27.0 from central in [default]\n",
      "\tjavax.annotation#javax.annotation-api;1.3.2 from central in [default]\n",
      "\tjavax.inject#javax.inject;1 from central in [default]\n",
      "\tnet.bytebuddy#byte-buddy;1.14.9 from central in [default]\n",
      "\torg.apache.arrow#arrow-compression;16.0.0 from central in [default]\n",
      "\torg.apache.arrow#arrow-format;15.0.2 from central in [default]\n",
      "\torg.apache.arrow#arrow-memory-core;16.0.0 from central in [default]\n",
      "\torg.apache.arrow#arrow-memory-netty;16.0.0 from central in [default]\n",
      "\torg.apache.arrow#arrow-memory-netty-buffer-patch;16.0.0 from central in [default]\n",
      "\torg.apache.arrow#arrow-vector;16.0.0 from central in [default]\n",
      "\torg.apache.beam#beam-sdks-java-io-hadoop-common;2.43.0 from central in [default]\n",
      "\torg.apache.commons#commons-compress;1.26.0 from central in [default]\n",
      "\torg.apache.commons#commons-lang3;3.14.0 from central in [default]\n",
      "\torg.apache.httpcomponents#httpclient;4.5.14 from central in [default]\n",
      "\torg.apache.httpcomponents#httpcore;4.4.16 from central in [default]\n",
      "\torg.apache.xbean#xbean-asm6-shaded;4.10 from central in [default]\n",
      "\torg.apiguardian#apiguardian-api;1.1.2 from central in [default]\n",
      "\torg.checkerframework#checker-compat-qual;2.5.6 from central in [default]\n",
      "\torg.checkerframework#checker-qual;3.42.0 from central in [default]\n",
      "\torg.codehaus.mojo#animal-sniffer-annotations;1.23 from central in [default]\n",
      "\torg.conscrypt#conscrypt-openjdk-uber;2.5.2 from central in [default]\n",
      "\torg.eclipse.collections#eclipse-collections;11.1.0 from central in [default]\n",
      "\torg.eclipse.collections#eclipse-collections-api;11.1.0 from central in [default]\n",
      "\torg.json#json;20231013 from central in [default]\n",
      "\torg.neo4j#neo4j-connector-apache-spark_2.12;5.3.0_for_spark_3 from central in [default]\n",
      "\torg.neo4j#neo4j-connector-apache-spark_2.12_common;5.3.0 from central in [default]\n",
      "\torg.neo4j#neo4j-cypher-dsl;2022.9.1 from central in [default]\n",
      "\torg.neo4j.driver#neo4j-java-driver;4.4.13 from central in [default]\n",
      "\torg.reactivestreams#reactive-streams;1.0.4 from central in [default]\n",
      "\torg.slf4j#slf4j-api;2.0.9 from central in [default]\n",
      "\torg.threeten#threeten-extra;1.8.0 from central in [default]\n",
      "\torg.threeten#threetenbp;1.6.9 from central in [default]\n",
      "\torg.xerial#sqlite-jdbc;3.47.0.0 from central in [default]\n",
      "\t:: evicted modules:\n",
      "\tcom.google.code.gson#gson;2.10.1 by [com.google.code.gson#gson;2.9.1] in [default]\n",
      "\torg.apache.arrow#arrow-format;16.0.0 by [org.apache.arrow#arrow-format;15.0.2] in [default]\n",
      "\torg.slf4j#slf4j-api;2.0.11 by [org.slf4j#slf4j-api;2.0.9] in [default]\n",
      "\torg.checkerframework#checker-qual;3.10.0 by [org.checkerframework#checker-qual;3.42.0] in [default]\n",
      "\tio.perfmark#perfmark-api;0.26.0 by [io.perfmark#perfmark-api;0.27.0] in [default]\n",
      "\t---------------------------------------------------------------------\n",
      "\t|                  |            modules            ||   artifacts   |\n",
      "\t|       conf       | number| search|dwnlded|evicted|| number|dwnlded|\n",
      "\t---------------------------------------------------------------------\n",
      "\t|      default     |  114  |   0   |   0   |   5   ||  109  |   0   |\n",
      "\t---------------------------------------------------------------------\n",
      ":: retrieving :: org.apache.spark#spark-submit-parent-ac89ee40-ff11-452e-8865-dcbe5544972b\n",
      "\tconfs: [default]\n",
      "\t0 artifacts copied, 109 already retrieved (0kB/13ms)\n",
      "25/01/02 14:48:31 WARN NativeCodeLoader: Unable to load native-hadoop library for your platform... using builtin-java classes where applicable\n",
      "Setting default log level to \"WARN\".\n",
      "To adjust logging level use sc.setLogLevel(newLevel). For SparkR, use setLogLevel(newLevel).\n"
     ]
    },
    {
     "data": {
      "text/html": [
       "<pre style=\"white-space:pre;overflow-x:auto;line-height:normal;font-family:Menlo,'DejaVu Sans Mono',consolas,'Courier New',monospace\"><span style=\"color: #7fbfbf; text-decoration-color: #7fbfbf\">[01/02/25 14:48:37] </span><span style=\"color: #000080; text-decoration-color: #000080\">INFO    </span> Loading data from <span style=\"color: #ff8700; text-decoration-color: #ff8700\">integration.prm.unified_edges</span>                    <a href=\"file:///Users/kschaper/Monarch/everycure/matrix/pipelines/matrix/.venv/lib/python3.11/site-packages/kedro/io/data_catalog.py\" target=\"_blank\"><span style=\"color: #7f7f7f; text-decoration-color: #7f7f7f\">data_catalog.py</span></a><span style=\"color: #7f7f7f; text-decoration-color: #7f7f7f\">:</span><a href=\"file:///Users/kschaper/Monarch/everycure/matrix/pipelines/matrix/.venv/lib/python3.11/site-packages/kedro/io/data_catalog.py#508\" target=\"_blank\"><span style=\"color: #7f7f7f; text-decoration-color: #7f7f7f\">508</span></a>\n",
       "<span style=\"color: #7fbfbf; text-decoration-color: #7fbfbf\">                    </span>         <span style=\"font-weight: bold\">(</span>LazySparkDataset<span style=\"font-weight: bold\">)</span><span style=\"color: #808000; text-decoration-color: #808000\">...</span>                                              <span style=\"color: #7f7f7f; text-decoration-color: #7f7f7f\">                   </span>\n",
       "</pre>\n"
      ],
      "text/plain": [
       "\u001b[2;36m[01/02/25 14:48:37]\u001b[0m\u001b[2;36m \u001b[0m\u001b[34mINFO    \u001b[0m Loading data from \u001b[38;5;208mintegration.prm.unified_edges\u001b[0m                    \u001b]8;id=992189;file:///Users/kschaper/Monarch/everycure/matrix/pipelines/matrix/.venv/lib/python3.11/site-packages/kedro/io/data_catalog.py\u001b\\\u001b[2mdata_catalog.py\u001b[0m\u001b]8;;\u001b\\\u001b[2m:\u001b[0m\u001b]8;id=670135;file:///Users/kschaper/Monarch/everycure/matrix/pipelines/matrix/.venv/lib/python3.11/site-packages/kedro/io/data_catalog.py#508\u001b\\\u001b[2m508\u001b[0m\u001b]8;;\u001b\\\n",
       "\u001b[2;36m                    \u001b[0m         \u001b[1m(\u001b[0mLazySparkDataset\u001b[1m)\u001b[0m\u001b[33m...\u001b[0m                                              \u001b[2m                   \u001b[0m\n"
      ]
     },
     "metadata": {},
     "output_type": "display_data"
    }
   ],
   "source": [
    "unified_nodes = catalog.load(\"integration.prm.unified_nodes\")\n",
    "unified_edges = catalog.load(\"integration.prm.unified_edges\")"
   ]
  },
  {
   "cell_type": "code",
   "execution_count": 5,
   "metadata": {},
   "outputs": [
    {
     "data": {
      "text/html": [
       "<pre style=\"white-space:pre;overflow-x:auto;line-height:normal;font-family:Menlo,'DejaVu Sans Mono',consolas,'Courier New',monospace\"></pre>\n"
      ],
      "text/plain": []
     },
     "metadata": {},
     "output_type": "display_data"
    },
    {
     "data": {
      "text/plain": [
       "\u001b[1m(\u001b[0m\u001b[1;36m6385010\u001b[0m, \u001b[1;36m22044943\u001b[0m\u001b[1m)\u001b[0m"
      ]
     },
     "execution_count": 5,
     "metadata": {},
     "output_type": "execute_result"
    }
   ],
   "source": [
    "unified_nodes.count(), unified_edges.count()"
   ]
  },
  {
   "cell_type": "code",
   "execution_count": 29,
   "metadata": {},
   "outputs": [
    {
     "data": {
      "text/html": [
       "<pre style=\"white-space:pre;overflow-x:auto;line-height:normal;font-family:Menlo,'DejaVu Sans Mono',consolas,'Courier New',monospace\"><span style=\"color: #00ff00; text-decoration-color: #00ff00\">──────────────────────────────────────── </span>Unified Nodes Aggregate and Count<span style=\"color: #00ff00; text-decoration-color: #00ff00\"> ────────────────────────────────────────</span>\n",
       "</pre>\n"
      ],
      "text/plain": [
       "\u001b[92m──────────────────────────────────────── \u001b[0mUnified Nodes Aggregate and Count\u001b[92m ────────────────────────────────────────\u001b[0m\n"
      ]
     },
     "metadata": {},
     "output_type": "display_data"
    },
    {
     "name": "stderr",
     "output_type": "stream",
     "text": [
      "[Stage 44:>                                                       (0 + 10) / 11]\r"
     ]
    },
    {
     "name": "stdout",
     "output_type": "stream",
     "text": [
      "+--------------------+----------------+--------------------+-----+\n",
      "|            category|          prefix|upstream_data_source|count|\n",
      "+--------------------+----------------+--------------------+-----+\n",
      "|  biolink:NamedThing|             IDO|            [rtxkg2]|   13|\n",
      "|        biolink:Cell|   CHEMBL.TARGET|            [rtxkg2]|   15|\n",
      "|biolink:Phenotypi...|             EFO|            [rtxkg2]|   63|\n",
      "|        biolink:Food|        DRUGBANK|            [rtxkg2]|  106|\n",
      "|        biolink:Cell|        DRUGBANK|            [rtxkg2]|    4|\n",
      "|biolink:Physiolog...|            NCIT|            [rtxkg2]|   10|\n",
      "|biolink:Biologica...|            NCIT|            [rtxkg2]|  158|\n",
      "|biolink:ChemicalE...|PUBCHEM.COMPOUND|            [rtxkg2]|29478|\n",
      "|        biolink:Drug|            UMLS|            [rtxkg2]|19377|\n",
      "|biolink:Biologica...|           MPATH|            [rtxkg2]|   38|\n",
      "|biolink:Phenotypi...|         biolink|            [rtxkg2]|   14|\n",
      "|        biolink:Drug|             PDQ|            [rtxkg2]|   93|\n",
      "|  biolink:NamedThing|             OBA|            [rtxkg2]|  113|\n",
      "|biolink:Informati...|             PSY|            [rtxkg2]|  251|\n",
      "|biolink:ClinicalI...|           LOINC|            [rtxkg2]|   39|\n",
      "|biolink:Biologica...|             FMA|            [rtxkg2]|    2|\n",
      "|biolink:NucleicAc...|        ORPHANET|            [rtxkg2]|   23|\n",
      "|biolink:Informati...|            UMLS|            [rtxkg2]|34654|\n",
      "|biolink:Behaviora...|            OMIM|            [rtxkg2]|   24|\n",
      "|   biolink:Procedure|             PSY|            [rtxkg2]|  150|\n",
      "+--------------------+----------------+--------------------+-----+\n",
      "only showing top 20 rows\n",
      "\n"
     ]
    },
    {
     "name": "stderr",
     "output_type": "stream",
     "text": [
      "                                                                                \r"
     ]
    }
   ],
   "source": [
    "console.rule(\"Unified Nodes Aggregate and Count\")\n",
    "unified_nodes = unified_nodes.withColumn(\"prefix\", split(\"id\", \":\")[0])\n",
    "\n",
    "columns = [\"category\", \"prefix\", \"upstream_data_source\"]\n",
    "unified_nodes_agg_count = unified_nodes.select(*columns).groupBy(*columns).count()\n",
    "\n",
    "unified_nodes_agg_count.show()\n",
    "\n"
   ]
  },
  {
   "cell_type": "code",
   "execution_count": 30,
   "metadata": {},
   "outputs": [
    {
     "data": {
      "text/html": [
       "<pre style=\"white-space:pre;overflow-x:auto;line-height:normal;font-family:Menlo,'DejaVu Sans Mono',consolas,'Courier New',monospace\"><span style=\"color: #00ff00; text-decoration-color: #00ff00\">──────────────────────────────────────── </span>Unified Edges Aggregate and Count<span style=\"color: #00ff00; text-decoration-color: #00ff00\"> ────────────────────────────────────────</span>\n",
       "</pre>\n"
      ],
      "text/plain": [
       "\u001b[92m──────────────────────────────────────── \u001b[0mUnified Edges Aggregate and Count\u001b[92m ────────────────────────────────────────\u001b[0m\n"
      ]
     },
     "metadata": {},
     "output_type": "display_data"
    },
    {
     "name": "stderr",
     "output_type": "stream",
     "text": [
      "[Stage 55:====================================>                    (7 + 4) / 11]\r"
     ]
    },
    {
     "name": "stdout",
     "output_type": "stream",
     "text": [
      "+--------------+---------------+--------------------+--------------------+--------------------+-----+\n",
      "|subject_prefix|  object_prefix|           predicate|    subject_category|     object_category|count|\n",
      "+--------------+---------------+--------------------+--------------------+--------------------+-----+\n",
      "|         CHEBI|            ATC| biolink:subclass_of|        biolink:Drug|biolink:ChemicalE...|  110|\n",
      "|        UBERON|           CARO| biolink:close_match|biolink:Anatomica...|biolink:Anatomica...|    3|\n",
      "|         CHEBI|          CHEBI|biolink:physicall...|biolink:NucleicAc...|        biolink:Drug|  128|\n",
      "|      DRUGBANK|          CHEBI|biolink:physicall...|        biolink:Drug|biolink:SmallMole...|  142|\n",
      "|          NCIT|          CHEBI|    biolink:has_part|        biolink:Drug|        biolink:Drug|    5|\n",
      "|           FMA|          CHEBI|biolink:entity_po...|        biolink:Drug|biolink:SmallMole...|   63|\n",
      "|         CHEBI|CHEMBL.COMPOUND|  biolink:located_in|        biolink:Drug|        biolink:Food|    1|\n",
      "|         CHEBI|CHEMBL.COMPOUND|biolink:decreases...|        biolink:Drug|biolink:NucleicAc...|   28|\n",
      "|          UMLS|  CHEMBL.TARGET|biolink:has_parti...|biolink:Molecular...|     biolink:Protein|  227|\n",
      "|          KEGG|  CHEMBL.TARGET|biolink:has_parti...|     biolink:Pathway| biolink:Polypeptide|    8|\n",
      "|          UMLS|  CHEMBL.TARGET|biolink:physicall...|     biolink:Protein|biolink:Molecular...|    5|\n",
      "|           FMA|  CHEMBL.TARGET|biolink:coexists_...|biolink:SmallMole...|biolink:Molecular...|    1|\n",
      "|          UNII|       DRUGBANK|biolink:physicall...|        biolink:Drug|biolink:Molecular...| 2354|\n",
      "|          ECTO|           ECTO| biolink:subclass_of|  biolink:NamedThing|  biolink:NamedThing|  183|\n",
      "|          ENVO|           ENVO|biolink:coexists_...|biolink:PhysicalE...|biolink:PhysicalE...|    3|\n",
      "|          UMLS|            FMA| biolink:subclass_of|biolink:ChemicalE...|biolink:SmallMole...|    7|\n",
      "|          UMLS|            FMA|  biolink:located_in|  biolink:NamedThing|        biolink:Cell|  265|\n",
      "|          MESH|            FMA|biolink:physicall...|     biolink:Pathway|     biolink:Protein|    2|\n",
      "|        FOODON|         FOODON| biolink:subclass_of|biolink:PhysicalE...|biolink:PhysicalE...| 1642|\n",
      "|        DDANAT|        GENEPIO| biolink:subclass_of|biolink:Anatomica...|biolink:PhysicalE...|    1|\n",
      "+--------------+---------------+--------------------+--------------------+--------------------+-----+\n",
      "only showing top 20 rows\n",
      "\n"
     ]
    },
    {
     "name": "stderr",
     "output_type": "stream",
     "text": [
      "                                                                                \r"
     ]
    }
   ],
   "source": [
    "console.rule(\"Unified Edges Aggregate and Count\")\n",
    "\n",
    "subject_nodes = unified_nodes.alias(\"subject_nodes\")\n",
    "object_nodes = unified_nodes.alias(\"object_nodes\")\n",
    "\n",
    "unified_edges_agg_count = unified_edges.withColumn(\"subject_prefix\", split(\"subject\", \":\")[0])\\\n",
    "    .withColumn(\"object_prefix\", split(\"object\", \":\")[0])\\\n",
    "    .join(subject_nodes.select(\"id\", \"category\").withColumnRenamed(\"category\", \"subject_category\"), unified_edges.subject == subject_nodes.id, \"left\")\\\n",
    "    .join(object_nodes.select(\"id\", \"category\").withColumnRenamed(\"category\", \"object_category\"), unified_edges.object == object_nodes.id, \"left\")\\\n",
    "    .select(\"subject_prefix\", \"object_prefix\", \"predicate\", \"subject_category\", \"object_category\")\\\n",
    "    .groupBy(\"subject_prefix\", \"object_prefix\",\"predicate\", \"subject_category\", \"object_category\").count()\n",
    "\n",
    "unified_edges_agg_count.show()"
   ]
  },
  {
   "cell_type": "code",
   "execution_count": null,
   "metadata": {},
   "outputs": [],
   "source": []
  }
 ],
 "metadata": {
  "kernelspec": {
   "display_name": ".venv",
   "language": "python",
   "name": "python3"
  },
  "language_info": {
   "codemirror_mode": {
    "name": "ipython",
    "version": 3
   },
   "file_extension": ".py",
   "mimetype": "text/x-python",
   "name": "python",
   "nbconvert_exporter": "python",
   "pygments_lexer": "ipython3",
   "version": "3.11.9"
  }
 },
 "nbformat": 4,
 "nbformat_minor": 2
}
