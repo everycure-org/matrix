{
 "cells": [
  {
   "cell_type": "code",
   "execution_count": 1,
   "metadata": {},
   "outputs": [
    {
     "data": {
      "text/html": [
       "<pre style=\"white-space:pre;overflow-x:auto;line-height:normal;font-family:Menlo,'DejaVu Sans Mono',consolas,'Courier New',monospace\"><span style=\"color: #7fbfbf; text-decoration-color: #7fbfbf\">[01/06/25 10:08:33] </span><span style=\"color: #000080; text-decoration-color: #000080\">INFO    </span> Using `conf/logging.yml` as logging configuration. You can change this <a href=\"file:///Users/kschaper/Monarch/everycure/matrix/pipelines/matrix/.venv/lib/python3.11/site-packages/kedro/framework/project/__init__.py\" target=\"_blank\"><span style=\"color: #7f7f7f; text-decoration-color: #7f7f7f\">__init__.py</span></a><span style=\"color: #7f7f7f; text-decoration-color: #7f7f7f\">:</span><a href=\"file:///Users/kschaper/Monarch/everycure/matrix/pipelines/matrix/.venv/lib/python3.11/site-packages/kedro/framework/project/__init__.py#249\" target=\"_blank\"><span style=\"color: #7f7f7f; text-decoration-color: #7f7f7f\">249</span></a>\n",
       "<span style=\"color: #7fbfbf; text-decoration-color: #7fbfbf\">                    </span>         by setting the KEDRO_LOGGING_CONFIG environment variable accordingly.  <span style=\"color: #7f7f7f; text-decoration-color: #7f7f7f\">               </span>\n",
       "</pre>\n"
      ],
      "text/plain": [
       "\u001b[2;36m[01/06/25 10:08:33]\u001b[0m\u001b[2;36m \u001b[0m\u001b[34mINFO    \u001b[0m Using `conf/logging.yml` as logging configuration. You can change this \u001b]8;id=849538;file:///Users/kschaper/Monarch/everycure/matrix/pipelines/matrix/.venv/lib/python3.11/site-packages/kedro/framework/project/__init__.py\u001b\\\u001b[2m__init__.py\u001b[0m\u001b]8;;\u001b\\\u001b[2m:\u001b[0m\u001b]8;id=902098;file:///Users/kschaper/Monarch/everycure/matrix/pipelines/matrix/.venv/lib/python3.11/site-packages/kedro/framework/project/__init__.py#249\u001b\\\u001b[2m249\u001b[0m\u001b]8;;\u001b\\\n",
       "\u001b[2;36m                    \u001b[0m         by setting the KEDRO_LOGGING_CONFIG environment variable accordingly.  \u001b[2m               \u001b[0m\n"
      ]
     },
     "metadata": {},
     "output_type": "display_data"
    },
    {
     "data": {
      "text/html": [
       "<pre style=\"white-space:pre;overflow-x:auto;line-height:normal;font-family:Menlo,'DejaVu Sans Mono',consolas,'Courier New',monospace\"><span style=\"color: #7fbfbf; text-decoration-color: #7fbfbf\">                    </span><span style=\"color: #000080; text-decoration-color: #000080\">INFO    </span> Registered line magic <span style=\"color: #008000; text-decoration-color: #008000\">'%reload_kedro'</span>                                   <a href=\"file:///Users/kschaper/Monarch/everycure/matrix/pipelines/matrix/.venv/lib/python3.11/site-packages/kedro/ipython/__init__.py\" target=\"_blank\"><span style=\"color: #7f7f7f; text-decoration-color: #7f7f7f\">__init__.py</span></a><span style=\"color: #7f7f7f; text-decoration-color: #7f7f7f\">:</span><a href=\"file:///Users/kschaper/Monarch/everycure/matrix/pipelines/matrix/.venv/lib/python3.11/site-packages/kedro/ipython/__init__.py#58\" target=\"_blank\"><span style=\"color: #7f7f7f; text-decoration-color: #7f7f7f\">58</span></a>\n",
       "</pre>\n"
      ],
      "text/plain": [
       "\u001b[2;36m                   \u001b[0m\u001b[2;36m \u001b[0m\u001b[34mINFO    \u001b[0m Registered line magic \u001b[32m'%reload_kedro'\u001b[0m                                   \u001b]8;id=507538;file:///Users/kschaper/Monarch/everycure/matrix/pipelines/matrix/.venv/lib/python3.11/site-packages/kedro/ipython/__init__.py\u001b\\\u001b[2m__init__.py\u001b[0m\u001b]8;;\u001b\\\u001b[2m:\u001b[0m\u001b]8;id=924382;file:///Users/kschaper/Monarch/everycure/matrix/pipelines/matrix/.venv/lib/python3.11/site-packages/kedro/ipython/__init__.py#58\u001b\\\u001b[2m58\u001b[0m\u001b]8;;\u001b\\\n"
      ]
     },
     "metadata": {},
     "output_type": "display_data"
    },
    {
     "data": {
      "text/html": [
       "<pre style=\"white-space:pre;overflow-x:auto;line-height:normal;font-family:Menlo,'DejaVu Sans Mono',consolas,'Courier New',monospace\"><span style=\"color: #7fbfbf; text-decoration-color: #7fbfbf\">                    </span><span style=\"color: #000080; text-decoration-color: #000080\">INFO    </span> Registered line magic <span style=\"color: #008000; text-decoration-color: #008000\">'%load_node'</span>                                      <a href=\"file:///Users/kschaper/Monarch/everycure/matrix/pipelines/matrix/.venv/lib/python3.11/site-packages/kedro/ipython/__init__.py\" target=\"_blank\"><span style=\"color: #7f7f7f; text-decoration-color: #7f7f7f\">__init__.py</span></a><span style=\"color: #7f7f7f; text-decoration-color: #7f7f7f\">:</span><a href=\"file:///Users/kschaper/Monarch/everycure/matrix/pipelines/matrix/.venv/lib/python3.11/site-packages/kedro/ipython/__init__.py#60\" target=\"_blank\"><span style=\"color: #7f7f7f; text-decoration-color: #7f7f7f\">60</span></a>\n",
       "</pre>\n"
      ],
      "text/plain": [
       "\u001b[2;36m                   \u001b[0m\u001b[2;36m \u001b[0m\u001b[34mINFO    \u001b[0m Registered line magic \u001b[32m'%load_node'\u001b[0m                                      \u001b]8;id=404962;file:///Users/kschaper/Monarch/everycure/matrix/pipelines/matrix/.venv/lib/python3.11/site-packages/kedro/ipython/__init__.py\u001b\\\u001b[2m__init__.py\u001b[0m\u001b]8;;\u001b\\\u001b[2m:\u001b[0m\u001b]8;id=317028;file:///Users/kschaper/Monarch/everycure/matrix/pipelines/matrix/.venv/lib/python3.11/site-packages/kedro/ipython/__init__.py#60\u001b\\\u001b[2m60\u001b[0m\u001b]8;;\u001b\\\n"
      ]
     },
     "metadata": {},
     "output_type": "display_data"
    },
    {
     "data": {
      "text/html": [
       "<pre style=\"white-space:pre;overflow-x:auto;line-height:normal;font-family:Menlo,'DejaVu Sans Mono',consolas,'Courier New',monospace\"><span style=\"color: #7fbfbf; text-decoration-color: #7fbfbf\">                    </span><span style=\"color: #000080; text-decoration-color: #000080\">INFO    </span> Resolved project path as:                                              <a href=\"file:///Users/kschaper/Monarch/everycure/matrix/pipelines/matrix/.venv/lib/python3.11/site-packages/kedro/ipython/__init__.py\" target=\"_blank\"><span style=\"color: #7f7f7f; text-decoration-color: #7f7f7f\">__init__.py</span></a><span style=\"color: #7f7f7f; text-decoration-color: #7f7f7f\">:</span><a href=\"file:///Users/kschaper/Monarch/everycure/matrix/pipelines/matrix/.venv/lib/python3.11/site-packages/kedro/ipython/__init__.py#171\" target=\"_blank\"><span style=\"color: #7f7f7f; text-decoration-color: #7f7f7f\">171</span></a>\n",
       "<span style=\"color: #7fbfbf; text-decoration-color: #7fbfbf\">                    </span>         <span style=\"color: #800080; text-decoration-color: #800080\">/Users/kschaper/Monarch/everycure/matrix/pipelines/</span><span style=\"color: #ff00ff; text-decoration-color: #ff00ff\">matrix.</span>             <span style=\"color: #7f7f7f; text-decoration-color: #7f7f7f\">               </span>\n",
       "<span style=\"color: #7fbfbf; text-decoration-color: #7fbfbf\">                    </span>         To set a different path, run <span style=\"color: #008000; text-decoration-color: #008000\">'%reload_kedro &lt;project_root&gt;'</span>            <span style=\"color: #7f7f7f; text-decoration-color: #7f7f7f\">               </span>\n",
       "</pre>\n"
      ],
      "text/plain": [
       "\u001b[2;36m                   \u001b[0m\u001b[2;36m \u001b[0m\u001b[34mINFO    \u001b[0m Resolved project path as:                                              \u001b]8;id=893888;file:///Users/kschaper/Monarch/everycure/matrix/pipelines/matrix/.venv/lib/python3.11/site-packages/kedro/ipython/__init__.py\u001b\\\u001b[2m__init__.py\u001b[0m\u001b]8;;\u001b\\\u001b[2m:\u001b[0m\u001b]8;id=343349;file:///Users/kschaper/Monarch/everycure/matrix/pipelines/matrix/.venv/lib/python3.11/site-packages/kedro/ipython/__init__.py#171\u001b\\\u001b[2m171\u001b[0m\u001b]8;;\u001b\\\n",
       "\u001b[2;36m                    \u001b[0m         \u001b[35m/Users/kschaper/Monarch/everycure/matrix/pipelines/\u001b[0m\u001b[95mmatrix.\u001b[0m             \u001b[2m               \u001b[0m\n",
       "\u001b[2;36m                    \u001b[0m         To set a different path, run \u001b[32m'%reload_kedro \u001b[0m\u001b[32m<\u001b[0m\u001b[32mproject_root\u001b[0m\u001b[32m>\u001b[0m\u001b[32m'\u001b[0m            \u001b[2m               \u001b[0m\n"
      ]
     },
     "metadata": {},
     "output_type": "display_data"
    },
    {
     "data": {
      "text/html": [
       "<pre style=\"white-space:pre;overflow-x:auto;line-height:normal;font-family:Menlo,'DejaVu Sans Mono',consolas,'Courier New',monospace\"><span style=\"color: #7fbfbf; text-decoration-color: #7fbfbf\">[01/06/25 10:08:34] </span><span style=\"color: #000080; text-decoration-color: #000080\">INFO    </span> Remembering context for context export later                              <a href=\"file:///Users/kschaper/Monarch/everycure/matrix/pipelines/matrix/src/matrix/hooks.py\" target=\"_blank\"><span style=\"color: #7f7f7f; text-decoration-color: #7f7f7f\">hooks.py</span></a><span style=\"color: #7f7f7f; text-decoration-color: #7f7f7f\">:</span><a href=\"file:///Users/kschaper/Monarch/everycure/matrix/pipelines/matrix/src/matrix/hooks.py#280\" target=\"_blank\"><span style=\"color: #7f7f7f; text-decoration-color: #7f7f7f\">280</span></a>\n",
       "</pre>\n"
      ],
      "text/plain": [
       "\u001b[2;36m[01/06/25 10:08:34]\u001b[0m\u001b[2;36m \u001b[0m\u001b[34mINFO    \u001b[0m Remembering context for context export later                              \u001b]8;id=244694;file:///Users/kschaper/Monarch/everycure/matrix/pipelines/matrix/src/matrix/hooks.py\u001b\\\u001b[2mhooks.py\u001b[0m\u001b]8;;\u001b\\\u001b[2m:\u001b[0m\u001b]8;id=111887;file:///Users/kschaper/Monarch/everycure/matrix/pipelines/matrix/src/matrix/hooks.py#280\u001b\\\u001b[2m280\u001b[0m\u001b]8;;\u001b\\\n"
      ]
     },
     "metadata": {},
     "output_type": "display_data"
    },
    {
     "data": {
      "text/html": [
       "<pre style=\"white-space:pre;overflow-x:auto;line-height:normal;font-family:Menlo,'DejaVu Sans Mono',consolas,'Courier New',monospace\"><span style=\"color: #7fbfbf; text-decoration-color: #7fbfbf\">[01/06/25 10:08:35] </span><span style=\"color: #000080; text-decoration-color: #000080\">INFO    </span> Remembering context for spark later                                       <a href=\"file:///Users/kschaper/Monarch/everycure/matrix/pipelines/matrix/src/matrix/hooks.py\" target=\"_blank\"><span style=\"color: #7f7f7f; text-decoration-color: #7f7f7f\">hooks.py</span></a><span style=\"color: #7f7f7f; text-decoration-color: #7f7f7f\">:</span><a href=\"file:///Users/kschaper/Monarch/everycure/matrix/pipelines/matrix/src/matrix/hooks.py#167\" target=\"_blank\"><span style=\"color: #7f7f7f; text-decoration-color: #7f7f7f\">167</span></a>\n",
       "</pre>\n"
      ],
      "text/plain": [
       "\u001b[2;36m[01/06/25 10:08:35]\u001b[0m\u001b[2;36m \u001b[0m\u001b[34mINFO    \u001b[0m Remembering context for spark later                                       \u001b]8;id=384089;file:///Users/kschaper/Monarch/everycure/matrix/pipelines/matrix/src/matrix/hooks.py\u001b\\\u001b[2mhooks.py\u001b[0m\u001b]8;;\u001b\\\u001b[2m:\u001b[0m\u001b]8;id=226528;file:///Users/kschaper/Monarch/everycure/matrix/pipelines/matrix/src/matrix/hooks.py#167\u001b\\\u001b[2m167\u001b[0m\u001b]8;;\u001b\\\n"
      ]
     },
     "metadata": {},
     "output_type": "display_data"
    },
    {
     "data": {
      "text/html": [
       "<pre style=\"white-space:pre;overflow-x:auto;line-height:normal;font-family:Menlo,'DejaVu Sans Mono',consolas,'Courier New',monospace\"><span style=\"color: #7fbfbf; text-decoration-color: #7fbfbf\">[01/06/25 10:08:36] </span><span style=\"color: #000080; text-decoration-color: #000080\">INFO    </span> Kedro project matrix                                                   <a href=\"file:///Users/kschaper/Monarch/everycure/matrix/pipelines/matrix/.venv/lib/python3.11/site-packages/kedro/ipython/__init__.py\" target=\"_blank\"><span style=\"color: #7f7f7f; text-decoration-color: #7f7f7f\">__init__.py</span></a><span style=\"color: #7f7f7f; text-decoration-color: #7f7f7f\">:</span><a href=\"file:///Users/kschaper/Monarch/everycure/matrix/pipelines/matrix/.venv/lib/python3.11/site-packages/kedro/ipython/__init__.py#141\" target=\"_blank\"><span style=\"color: #7f7f7f; text-decoration-color: #7f7f7f\">141</span></a>\n",
       "</pre>\n"
      ],
      "text/plain": [
       "\u001b[2;36m[01/06/25 10:08:36]\u001b[0m\u001b[2;36m \u001b[0m\u001b[34mINFO    \u001b[0m Kedro project matrix                                                   \u001b]8;id=436631;file:///Users/kschaper/Monarch/everycure/matrix/pipelines/matrix/.venv/lib/python3.11/site-packages/kedro/ipython/__init__.py\u001b\\\u001b[2m__init__.py\u001b[0m\u001b]8;;\u001b\\\u001b[2m:\u001b[0m\u001b]8;id=811216;file:///Users/kschaper/Monarch/everycure/matrix/pipelines/matrix/.venv/lib/python3.11/site-packages/kedro/ipython/__init__.py#141\u001b\\\u001b[2m141\u001b[0m\u001b]8;;\u001b\\\n"
      ]
     },
     "metadata": {},
     "output_type": "display_data"
    },
    {
     "data": {
      "text/html": [
       "<pre style=\"white-space:pre;overflow-x:auto;line-height:normal;font-family:Menlo,'DejaVu Sans Mono',consolas,'Courier New',monospace\"><span style=\"color: #7fbfbf; text-decoration-color: #7fbfbf\">                    </span><span style=\"color: #000080; text-decoration-color: #000080\">INFO    </span> Defined global variable <span style=\"color: #008000; text-decoration-color: #008000\">'context'</span>, <span style=\"color: #008000; text-decoration-color: #008000\">'session'</span>, <span style=\"color: #008000; text-decoration-color: #008000\">'catalog'</span> and            <a href=\"file:///Users/kschaper/Monarch/everycure/matrix/pipelines/matrix/.venv/lib/python3.11/site-packages/kedro/ipython/__init__.py\" target=\"_blank\"><span style=\"color: #7f7f7f; text-decoration-color: #7f7f7f\">__init__.py</span></a><span style=\"color: #7f7f7f; text-decoration-color: #7f7f7f\">:</span><a href=\"file:///Users/kschaper/Monarch/everycure/matrix/pipelines/matrix/.venv/lib/python3.11/site-packages/kedro/ipython/__init__.py#142\" target=\"_blank\"><span style=\"color: #7f7f7f; text-decoration-color: #7f7f7f\">142</span></a>\n",
       "<span style=\"color: #7fbfbf; text-decoration-color: #7fbfbf\">                    </span>         <span style=\"color: #008000; text-decoration-color: #008000\">'pipelines'</span>                                                            <span style=\"color: #7f7f7f; text-decoration-color: #7f7f7f\">               </span>\n",
       "</pre>\n"
      ],
      "text/plain": [
       "\u001b[2;36m                   \u001b[0m\u001b[2;36m \u001b[0m\u001b[34mINFO    \u001b[0m Defined global variable \u001b[32m'context'\u001b[0m, \u001b[32m'session'\u001b[0m, \u001b[32m'catalog'\u001b[0m and            \u001b]8;id=57817;file:///Users/kschaper/Monarch/everycure/matrix/pipelines/matrix/.venv/lib/python3.11/site-packages/kedro/ipython/__init__.py\u001b\\\u001b[2m__init__.py\u001b[0m\u001b]8;;\u001b\\\u001b[2m:\u001b[0m\u001b]8;id=404676;file:///Users/kschaper/Monarch/everycure/matrix/pipelines/matrix/.venv/lib/python3.11/site-packages/kedro/ipython/__init__.py#142\u001b\\\u001b[2m142\u001b[0m\u001b]8;;\u001b\\\n",
       "\u001b[2;36m                    \u001b[0m         \u001b[32m'pipelines'\u001b[0m                                                            \u001b[2m               \u001b[0m\n"
      ]
     },
     "metadata": {},
     "output_type": "display_data"
    },
    {
     "data": {
      "text/html": [
       "<pre style=\"white-space:pre;overflow-x:auto;line-height:normal;font-family:Menlo,'DejaVu Sans Mono',consolas,'Courier New',monospace\"><span style=\"color: #7fbfbf; text-decoration-color: #7fbfbf\">                    </span><span style=\"color: #000080; text-decoration-color: #000080\">INFO    </span> Registered line magic <span style=\"color: #008000; text-decoration-color: #008000\">'run_viz'</span>                                        <a href=\"file:///Users/kschaper/Monarch/everycure/matrix/pipelines/matrix/.venv/lib/python3.11/site-packages/kedro/ipython/__init__.py\" target=\"_blank\"><span style=\"color: #7f7f7f; text-decoration-color: #7f7f7f\">__init__.py</span></a><span style=\"color: #7f7f7f; text-decoration-color: #7f7f7f\">:</span><a href=\"file:///Users/kschaper/Monarch/everycure/matrix/pipelines/matrix/.venv/lib/python3.11/site-packages/kedro/ipython/__init__.py#148\" target=\"_blank\"><span style=\"color: #7f7f7f; text-decoration-color: #7f7f7f\">148</span></a>\n",
       "</pre>\n"
      ],
      "text/plain": [
       "\u001b[2;36m                   \u001b[0m\u001b[2;36m \u001b[0m\u001b[34mINFO    \u001b[0m Registered line magic \u001b[32m'run_viz'\u001b[0m                                        \u001b]8;id=117213;file:///Users/kschaper/Monarch/everycure/matrix/pipelines/matrix/.venv/lib/python3.11/site-packages/kedro/ipython/__init__.py\u001b\\\u001b[2m__init__.py\u001b[0m\u001b]8;;\u001b\\\u001b[2m:\u001b[0m\u001b]8;id=314505;file:///Users/kschaper/Monarch/everycure/matrix/pipelines/matrix/.venv/lib/python3.11/site-packages/kedro/ipython/__init__.py#148\u001b\\\u001b[2m148\u001b[0m\u001b]8;;\u001b\\\n"
      ]
     },
     "metadata": {},
     "output_type": "display_data"
    },
    {
     "data": {
      "text/html": [
       "<pre style=\"white-space:pre;overflow-x:auto;line-height:normal;font-family:Menlo,'DejaVu Sans Mono',consolas,'Courier New',monospace\"><span style=\"color: #7fbfbf; text-decoration-color: #7fbfbf\">                    </span><span style=\"color: #000080; text-decoration-color: #000080\">INFO    </span> Resolved project path as:                                              <a href=\"file:///Users/kschaper/Monarch/everycure/matrix/pipelines/matrix/.venv/lib/python3.11/site-packages/kedro/ipython/__init__.py\" target=\"_blank\"><span style=\"color: #7f7f7f; text-decoration-color: #7f7f7f\">__init__.py</span></a><span style=\"color: #7f7f7f; text-decoration-color: #7f7f7f\">:</span><a href=\"file:///Users/kschaper/Monarch/everycure/matrix/pipelines/matrix/.venv/lib/python3.11/site-packages/kedro/ipython/__init__.py#171\" target=\"_blank\"><span style=\"color: #7f7f7f; text-decoration-color: #7f7f7f\">171</span></a>\n",
       "<span style=\"color: #7fbfbf; text-decoration-color: #7fbfbf\">                    </span>         <span style=\"color: #800080; text-decoration-color: #800080\">/Users/kschaper/Monarch/everycure/matrix/pipelines/</span><span style=\"color: #ff00ff; text-decoration-color: #ff00ff\">matrix.</span>             <span style=\"color: #7f7f7f; text-decoration-color: #7f7f7f\">               </span>\n",
       "<span style=\"color: #7fbfbf; text-decoration-color: #7fbfbf\">                    </span>         To set a different path, run <span style=\"color: #008000; text-decoration-color: #008000\">'%reload_kedro &lt;project_root&gt;'</span>            <span style=\"color: #7f7f7f; text-decoration-color: #7f7f7f\">               </span>\n",
       "</pre>\n"
      ],
      "text/plain": [
       "\u001b[2;36m                   \u001b[0m\u001b[2;36m \u001b[0m\u001b[34mINFO    \u001b[0m Resolved project path as:                                              \u001b]8;id=83905;file:///Users/kschaper/Monarch/everycure/matrix/pipelines/matrix/.venv/lib/python3.11/site-packages/kedro/ipython/__init__.py\u001b\\\u001b[2m__init__.py\u001b[0m\u001b]8;;\u001b\\\u001b[2m:\u001b[0m\u001b]8;id=268656;file:///Users/kschaper/Monarch/everycure/matrix/pipelines/matrix/.venv/lib/python3.11/site-packages/kedro/ipython/__init__.py#171\u001b\\\u001b[2m171\u001b[0m\u001b]8;;\u001b\\\n",
       "\u001b[2;36m                    \u001b[0m         \u001b[35m/Users/kschaper/Monarch/everycure/matrix/pipelines/\u001b[0m\u001b[95mmatrix.\u001b[0m             \u001b[2m               \u001b[0m\n",
       "\u001b[2;36m                    \u001b[0m         To set a different path, run \u001b[32m'%reload_kedro \u001b[0m\u001b[32m<\u001b[0m\u001b[32mproject_root\u001b[0m\u001b[32m>\u001b[0m\u001b[32m'\u001b[0m            \u001b[2m               \u001b[0m\n"
      ]
     },
     "metadata": {},
     "output_type": "display_data"
    },
    {
     "data": {
      "text/html": [
       "<pre style=\"white-space:pre;overflow-x:auto;line-height:normal;font-family:Menlo,'DejaVu Sans Mono',consolas,'Courier New',monospace\"><span style=\"color: #7fbfbf; text-decoration-color: #7fbfbf\">                    </span><span style=\"color: #000080; text-decoration-color: #000080\">INFO    </span> Remembering context for context export later                              <a href=\"file:///Users/kschaper/Monarch/everycure/matrix/pipelines/matrix/src/matrix/hooks.py\" target=\"_blank\"><span style=\"color: #7f7f7f; text-decoration-color: #7f7f7f\">hooks.py</span></a><span style=\"color: #7f7f7f; text-decoration-color: #7f7f7f\">:</span><a href=\"file:///Users/kschaper/Monarch/everycure/matrix/pipelines/matrix/src/matrix/hooks.py#280\" target=\"_blank\"><span style=\"color: #7f7f7f; text-decoration-color: #7f7f7f\">280</span></a>\n",
       "</pre>\n"
      ],
      "text/plain": [
       "\u001b[2;36m                   \u001b[0m\u001b[2;36m \u001b[0m\u001b[34mINFO    \u001b[0m Remembering context for context export later                              \u001b]8;id=354127;file:///Users/kschaper/Monarch/everycure/matrix/pipelines/matrix/src/matrix/hooks.py\u001b\\\u001b[2mhooks.py\u001b[0m\u001b]8;;\u001b\\\u001b[2m:\u001b[0m\u001b]8;id=663824;file:///Users/kschaper/Monarch/everycure/matrix/pipelines/matrix/src/matrix/hooks.py#280\u001b\\\u001b[2m280\u001b[0m\u001b]8;;\u001b\\\n"
      ]
     },
     "metadata": {},
     "output_type": "display_data"
    },
    {
     "data": {
      "text/html": [
       "<pre style=\"white-space:pre;overflow-x:auto;line-height:normal;font-family:Menlo,'DejaVu Sans Mono',consolas,'Courier New',monospace\"><span style=\"color: #7fbfbf; text-decoration-color: #7fbfbf\">                    </span><span style=\"color: #000080; text-decoration-color: #000080\">INFO    </span> Remembering context for spark later                                       <a href=\"file:///Users/kschaper/Monarch/everycure/matrix/pipelines/matrix/src/matrix/hooks.py\" target=\"_blank\"><span style=\"color: #7f7f7f; text-decoration-color: #7f7f7f\">hooks.py</span></a><span style=\"color: #7f7f7f; text-decoration-color: #7f7f7f\">:</span><a href=\"file:///Users/kschaper/Monarch/everycure/matrix/pipelines/matrix/src/matrix/hooks.py#167\" target=\"_blank\"><span style=\"color: #7f7f7f; text-decoration-color: #7f7f7f\">167</span></a>\n",
       "</pre>\n"
      ],
      "text/plain": [
       "\u001b[2;36m                   \u001b[0m\u001b[2;36m \u001b[0m\u001b[34mINFO    \u001b[0m Remembering context for spark later                                       \u001b]8;id=1964;file:///Users/kschaper/Monarch/everycure/matrix/pipelines/matrix/src/matrix/hooks.py\u001b\\\u001b[2mhooks.py\u001b[0m\u001b]8;;\u001b\\\u001b[2m:\u001b[0m\u001b]8;id=230445;file:///Users/kschaper/Monarch/everycure/matrix/pipelines/matrix/src/matrix/hooks.py#167\u001b\\\u001b[2m167\u001b[0m\u001b]8;;\u001b\\\n"
      ]
     },
     "metadata": {},
     "output_type": "display_data"
    },
    {
     "data": {
      "text/html": [
       "<pre style=\"white-space:pre;overflow-x:auto;line-height:normal;font-family:Menlo,'DejaVu Sans Mono',consolas,'Courier New',monospace\"><span style=\"color: #7fbfbf; text-decoration-color: #7fbfbf\">[01/06/25 10:08:37] </span><span style=\"color: #000080; text-decoration-color: #000080\">INFO    </span> Kedro project matrix                                                   <a href=\"file:///Users/kschaper/Monarch/everycure/matrix/pipelines/matrix/.venv/lib/python3.11/site-packages/kedro/ipython/__init__.py\" target=\"_blank\"><span style=\"color: #7f7f7f; text-decoration-color: #7f7f7f\">__init__.py</span></a><span style=\"color: #7f7f7f; text-decoration-color: #7f7f7f\">:</span><a href=\"file:///Users/kschaper/Monarch/everycure/matrix/pipelines/matrix/.venv/lib/python3.11/site-packages/kedro/ipython/__init__.py#141\" target=\"_blank\"><span style=\"color: #7f7f7f; text-decoration-color: #7f7f7f\">141</span></a>\n",
       "</pre>\n"
      ],
      "text/plain": [
       "\u001b[2;36m[01/06/25 10:08:37]\u001b[0m\u001b[2;36m \u001b[0m\u001b[34mINFO    \u001b[0m Kedro project matrix                                                   \u001b]8;id=810891;file:///Users/kschaper/Monarch/everycure/matrix/pipelines/matrix/.venv/lib/python3.11/site-packages/kedro/ipython/__init__.py\u001b\\\u001b[2m__init__.py\u001b[0m\u001b]8;;\u001b\\\u001b[2m:\u001b[0m\u001b]8;id=600563;file:///Users/kschaper/Monarch/everycure/matrix/pipelines/matrix/.venv/lib/python3.11/site-packages/kedro/ipython/__init__.py#141\u001b\\\u001b[2m141\u001b[0m\u001b]8;;\u001b\\\n"
      ]
     },
     "metadata": {},
     "output_type": "display_data"
    },
    {
     "data": {
      "text/html": [
       "<pre style=\"white-space:pre;overflow-x:auto;line-height:normal;font-family:Menlo,'DejaVu Sans Mono',consolas,'Courier New',monospace\"><span style=\"color: #7fbfbf; text-decoration-color: #7fbfbf\">                    </span><span style=\"color: #000080; text-decoration-color: #000080\">INFO    </span> Defined global variable <span style=\"color: #008000; text-decoration-color: #008000\">'context'</span>, <span style=\"color: #008000; text-decoration-color: #008000\">'session'</span>, <span style=\"color: #008000; text-decoration-color: #008000\">'catalog'</span> and            <a href=\"file:///Users/kschaper/Monarch/everycure/matrix/pipelines/matrix/.venv/lib/python3.11/site-packages/kedro/ipython/__init__.py\" target=\"_blank\"><span style=\"color: #7f7f7f; text-decoration-color: #7f7f7f\">__init__.py</span></a><span style=\"color: #7f7f7f; text-decoration-color: #7f7f7f\">:</span><a href=\"file:///Users/kschaper/Monarch/everycure/matrix/pipelines/matrix/.venv/lib/python3.11/site-packages/kedro/ipython/__init__.py#142\" target=\"_blank\"><span style=\"color: #7f7f7f; text-decoration-color: #7f7f7f\">142</span></a>\n",
       "<span style=\"color: #7fbfbf; text-decoration-color: #7fbfbf\">                    </span>         <span style=\"color: #008000; text-decoration-color: #008000\">'pipelines'</span>                                                            <span style=\"color: #7f7f7f; text-decoration-color: #7f7f7f\">               </span>\n",
       "</pre>\n"
      ],
      "text/plain": [
       "\u001b[2;36m                   \u001b[0m\u001b[2;36m \u001b[0m\u001b[34mINFO    \u001b[0m Defined global variable \u001b[32m'context'\u001b[0m, \u001b[32m'session'\u001b[0m, \u001b[32m'catalog'\u001b[0m and            \u001b]8;id=151034;file:///Users/kschaper/Monarch/everycure/matrix/pipelines/matrix/.venv/lib/python3.11/site-packages/kedro/ipython/__init__.py\u001b\\\u001b[2m__init__.py\u001b[0m\u001b]8;;\u001b\\\u001b[2m:\u001b[0m\u001b]8;id=675503;file:///Users/kschaper/Monarch/everycure/matrix/pipelines/matrix/.venv/lib/python3.11/site-packages/kedro/ipython/__init__.py#142\u001b\\\u001b[2m142\u001b[0m\u001b]8;;\u001b\\\n",
       "\u001b[2;36m                    \u001b[0m         \u001b[32m'pipelines'\u001b[0m                                                            \u001b[2m               \u001b[0m\n"
      ]
     },
     "metadata": {},
     "output_type": "display_data"
    },
    {
     "data": {
      "text/html": [
       "<pre style=\"white-space:pre;overflow-x:auto;line-height:normal;font-family:Menlo,'DejaVu Sans Mono',consolas,'Courier New',monospace\"><span style=\"color: #7fbfbf; text-decoration-color: #7fbfbf\">                    </span><span style=\"color: #000080; text-decoration-color: #000080\">INFO    </span> Registered line magic <span style=\"color: #008000; text-decoration-color: #008000\">'run_viz'</span>                                        <a href=\"file:///Users/kschaper/Monarch/everycure/matrix/pipelines/matrix/.venv/lib/python3.11/site-packages/kedro/ipython/__init__.py\" target=\"_blank\"><span style=\"color: #7f7f7f; text-decoration-color: #7f7f7f\">__init__.py</span></a><span style=\"color: #7f7f7f; text-decoration-color: #7f7f7f\">:</span><a href=\"file:///Users/kschaper/Monarch/everycure/matrix/pipelines/matrix/.venv/lib/python3.11/site-packages/kedro/ipython/__init__.py#148\" target=\"_blank\"><span style=\"color: #7f7f7f; text-decoration-color: #7f7f7f\">148</span></a>\n",
       "</pre>\n"
      ],
      "text/plain": [
       "\u001b[2;36m                   \u001b[0m\u001b[2;36m \u001b[0m\u001b[34mINFO    \u001b[0m Registered line magic \u001b[32m'run_viz'\u001b[0m                                        \u001b]8;id=718941;file:///Users/kschaper/Monarch/everycure/matrix/pipelines/matrix/.venv/lib/python3.11/site-packages/kedro/ipython/__init__.py\u001b\\\u001b[2m__init__.py\u001b[0m\u001b]8;;\u001b\\\u001b[2m:\u001b[0m\u001b]8;id=578736;file:///Users/kschaper/Monarch/everycure/matrix/pipelines/matrix/.venv/lib/python3.11/site-packages/kedro/ipython/__init__.py#148\u001b\\\u001b[2m148\u001b[0m\u001b]8;;\u001b\\\n"
      ]
     },
     "metadata": {},
     "output_type": "display_data"
    }
   ],
   "source": [
    "# notebook setup borrowed from 2024/merging_rtx_robokop.ipynb \n",
    "import os\n",
    "from pathlib import Path\n",
    "import subprocess\n",
    "\n",
    "from pyspark.sql.functions import split\n",
    "\n",
    "%load_ext autoreload\n",
    "%autoreload 2\n",
    "from rich.console import Console\n",
    "from rich.logging import RichHandler\n",
    "from rich.panel import Panel\n",
    "from rich.rule import Rule\n",
    "console = Console()\n",
    "\n",
    "\n",
    "\n",
    "# hack that moves this notebook context into the kedro path\n",
    "root_path = subprocess.check_output(['git', 'rev-parse', '--show-toplevel']).decode().strip()\n",
    "os.chdir(Path(root_path) / 'pipelines' / 'matrix')\n",
    "\n",
    "# this loads various objects into the context, see \n",
    "# https://docs.kedro.org/en/stable/notebooks_and_ipython/kedro_and_notebooks.html#kedro-line-magics\n",
    "%load_ext kedro.ipython\n",
    "# %reload_kedro  --env cloud\n",
    "# %reload_kedro  --env test\n",
    "%reload_kedro\n"
   ]
  },
  {
   "cell_type": "code",
   "execution_count": 2,
   "metadata": {},
   "outputs": [
    {
     "data": {
      "text/html": [
       "<pre style=\"white-space:pre;overflow-x:auto;line-height:normal;font-family:Menlo,'DejaVu Sans Mono',consolas,'Courier New',monospace\"><span style=\"color: #7fbfbf; text-decoration-color: #7fbfbf\">[01/03/25 12:12:20] </span><span style=\"color: #000080; text-decoration-color: #000080\">INFO    </span> Loading data from <span style=\"color: #ff8700; text-decoration-color: #ff8700\">integration.prm.unified_nodes</span>                    <a href=\"file:///Users/kschaper/Monarch/everycure/matrix/pipelines/matrix/.venv/lib/python3.11/site-packages/kedro/io/data_catalog.py\" target=\"_blank\"><span style=\"color: #7f7f7f; text-decoration-color: #7f7f7f\">data_catalog.py</span></a><span style=\"color: #7f7f7f; text-decoration-color: #7f7f7f\">:</span><a href=\"file:///Users/kschaper/Monarch/everycure/matrix/pipelines/matrix/.venv/lib/python3.11/site-packages/kedro/io/data_catalog.py#508\" target=\"_blank\"><span style=\"color: #7f7f7f; text-decoration-color: #7f7f7f\">508</span></a>\n",
       "<span style=\"color: #7fbfbf; text-decoration-color: #7fbfbf\">                    </span>         <span style=\"font-weight: bold\">(</span>LazySparkDataset<span style=\"font-weight: bold\">)</span><span style=\"color: #808000; text-decoration-color: #808000\">...</span>                                              <span style=\"color: #7f7f7f; text-decoration-color: #7f7f7f\">                   </span>\n",
       "</pre>\n"
      ],
      "text/plain": [
       "\u001b[2;36m[01/03/25 12:12:20]\u001b[0m\u001b[2;36m \u001b[0m\u001b[34mINFO    \u001b[0m Loading data from \u001b[38;5;208mintegration.prm.unified_nodes\u001b[0m                    \u001b]8;id=491841;file:///Users/kschaper/Monarch/everycure/matrix/pipelines/matrix/.venv/lib/python3.11/site-packages/kedro/io/data_catalog.py\u001b\\\u001b[2mdata_catalog.py\u001b[0m\u001b]8;;\u001b\\\u001b[2m:\u001b[0m\u001b]8;id=956561;file:///Users/kschaper/Monarch/everycure/matrix/pipelines/matrix/.venv/lib/python3.11/site-packages/kedro/io/data_catalog.py#508\u001b\\\u001b[2m508\u001b[0m\u001b]8;;\u001b\\\n",
       "\u001b[2;36m                    \u001b[0m         \u001b[1m(\u001b[0mLazySparkDataset\u001b[1m)\u001b[0m\u001b[33m...\u001b[0m                                              \u001b[2m                   \u001b[0m\n"
      ]
     },
     "metadata": {},
     "output_type": "display_data"
    },
    {
     "data": {
      "text/html": [
       "<pre style=\"white-space:pre;overflow-x:auto;line-height:normal;font-family:Menlo,'DejaVu Sans Mono',consolas,'Courier New',monospace\"><span style=\"color: #7fbfbf; text-decoration-color: #7fbfbf\">                    </span><span style=\"color: #000080; text-decoration-color: #000080\">INFO    </span> Executing for environment: <span style=\"color: #800080; text-decoration-color: #800080; font-style: italic\">None</span>                                           <a href=\"file:///Users/kschaper/Monarch/everycure/matrix/pipelines/matrix/src/matrix/hooks.py\" target=\"_blank\"><span style=\"color: #7f7f7f; text-decoration-color: #7f7f7f\">hooks.py</span></a><span style=\"color: #7f7f7f; text-decoration-color: #7f7f7f\">:</span><a href=\"file:///Users/kschaper/Monarch/everycure/matrix/pipelines/matrix/src/matrix/hooks.py#150\" target=\"_blank\"><span style=\"color: #7f7f7f; text-decoration-color: #7f7f7f\">150</span></a>\n",
       "</pre>\n"
      ],
      "text/plain": [
       "\u001b[2;36m                   \u001b[0m\u001b[2;36m \u001b[0m\u001b[34mINFO    \u001b[0m Executing for environment: \u001b[3;35mNone\u001b[0m                                           \u001b]8;id=880462;file:///Users/kschaper/Monarch/everycure/matrix/pipelines/matrix/src/matrix/hooks.py\u001b\\\u001b[2mhooks.py\u001b[0m\u001b]8;;\u001b\\\u001b[2m:\u001b[0m\u001b]8;id=533113;file:///Users/kschaper/Monarch/everycure/matrix/pipelines/matrix/src/matrix/hooks.py#150\u001b\\\u001b[2m150\u001b[0m\u001b]8;;\u001b\\\n"
      ]
     },
     "metadata": {},
     "output_type": "display_data"
    },
    {
     "data": {
      "text/html": [
       "<pre style=\"white-space:pre;overflow-x:auto;line-height:normal;font-family:Menlo,'DejaVu Sans Mono',consolas,'Courier New',monospace\"><span style=\"color: #7fbfbf; text-decoration-color: #7fbfbf\">                    </span><span style=\"color: #000080; text-decoration-color: #000080\">INFO    </span> With ARGO_POD_UID set to:                                                 <a href=\"file:///Users/kschaper/Monarch/everycure/matrix/pipelines/matrix/src/matrix/hooks.py\" target=\"_blank\"><span style=\"color: #7f7f7f; text-decoration-color: #7f7f7f\">hooks.py</span></a><span style=\"color: #7f7f7f; text-decoration-color: #7f7f7f\">:</span><a href=\"file:///Users/kschaper/Monarch/everycure/matrix/pipelines/matrix/src/matrix/hooks.py#151\" target=\"_blank\"><span style=\"color: #7f7f7f; text-decoration-color: #7f7f7f\">151</span></a>\n",
       "</pre>\n"
      ],
      "text/plain": [
       "\u001b[2;36m                   \u001b[0m\u001b[2;36m \u001b[0m\u001b[34mINFO    \u001b[0m With ARGO_POD_UID set to:                                                 \u001b]8;id=73720;file:///Users/kschaper/Monarch/everycure/matrix/pipelines/matrix/src/matrix/hooks.py\u001b\\\u001b[2mhooks.py\u001b[0m\u001b]8;;\u001b\\\u001b[2m:\u001b[0m\u001b]8;id=959557;file:///Users/kschaper/Monarch/everycure/matrix/pipelines/matrix/src/matrix/hooks.py#151\u001b\\\u001b[2m151\u001b[0m\u001b]8;;\u001b\\\n"
      ]
     },
     "metadata": {},
     "output_type": "display_data"
    },
    {
     "data": {
      "text/html": [
       "<pre style=\"white-space:pre;overflow-x:auto;line-height:normal;font-family:Menlo,'DejaVu Sans Mono',consolas,'Courier New',monospace\"><span style=\"color: #7fbfbf; text-decoration-color: #7fbfbf\">                    </span><span style=\"color: #000080; text-decoration-color: #000080\">INFO    </span> Thus determined not to be in k8s cluster and executing with               <a href=\"file:///Users/kschaper/Monarch/everycure/matrix/pipelines/matrix/src/matrix/hooks.py\" target=\"_blank\"><span style=\"color: #7f7f7f; text-decoration-color: #7f7f7f\">hooks.py</span></a><span style=\"color: #7f7f7f; text-decoration-color: #7f7f7f\">:</span><a href=\"file:///Users/kschaper/Monarch/everycure/matrix/pipelines/matrix/src/matrix/hooks.py#152\" target=\"_blank\"><span style=\"color: #7f7f7f; text-decoration-color: #7f7f7f\">152</span></a>\n",
       "<span style=\"color: #7fbfbf; text-decoration-color: #7fbfbf\">                    </span>         service-account.json file                                                 <span style=\"color: #7f7f7f; text-decoration-color: #7f7f7f\">            </span>\n",
       "</pre>\n"
      ],
      "text/plain": [
       "\u001b[2;36m                   \u001b[0m\u001b[2;36m \u001b[0m\u001b[34mINFO    \u001b[0m Thus determined not to be in k8s cluster and executing with               \u001b]8;id=988079;file:///Users/kschaper/Monarch/everycure/matrix/pipelines/matrix/src/matrix/hooks.py\u001b\\\u001b[2mhooks.py\u001b[0m\u001b]8;;\u001b\\\u001b[2m:\u001b[0m\u001b]8;id=623401;file:///Users/kschaper/Monarch/everycure/matrix/pipelines/matrix/src/matrix/hooks.py#152\u001b\\\u001b[2m152\u001b[0m\u001b]8;;\u001b\\\n",
       "\u001b[2;36m                    \u001b[0m         service-account.json file                                                 \u001b[2m            \u001b[0m\n"
      ]
     },
     "metadata": {},
     "output_type": "display_data"
    },
    {
     "name": "stdout",
     "output_type": "stream",
     "text": [
      ":: loading settings :: url = jar:file:/Users/kschaper/Monarch/everycure/matrix/pipelines/matrix/.venv/lib/python3.11/site-packages/pyspark/jars/ivy-2.5.1.jar!/org/apache/ivy/core/settings/ivysettings.xml\n"
     ]
    },
    {
     "name": "stderr",
     "output_type": "stream",
     "text": [
      "Ivy Default Cache set to: /Users/kschaper/.ivy2/cache\n",
      "The jars for the packages stored in: /Users/kschaper/.ivy2/jars\n",
      "com.google.cloud.spark#spark-3.5-bigquery added as a dependency\n",
      "org.neo4j#neo4j-connector-apache-spark_2.12 added as a dependency\n",
      "org.xerial#sqlite-jdbc added as a dependency\n",
      ":: resolving dependencies :: org.apache.spark#spark-submit-parent-89ab3a22-c2e1-423f-88dd-8c7edf4c3625;1.0\n",
      "\tconfs: [default]\n",
      "\tfound com.google.cloud.spark#spark-3.5-bigquery;0.39.0 in central\n",
      "\tfound com.google.cloud.spark#spark-bigquery-dsv2-common;0.39.0 in central\n",
      "\tfound com.google.cloud.spark#spark-bigquery-connector-common;0.39.0 in central\n",
      "\tfound com.google.cloud.spark#bigquery-connector-common;0.39.0 in central\n",
      "\tfound com.google.api.grpc#grpc-google-cloud-bigquerystorage-v1;3.5.1 in central\n",
      "\tfound io.grpc#grpc-api;1.64.0 in central\n",
      "\tfound com.google.code.findbugs#jsr305;3.0.2 in central\n",
      "\tfound com.google.errorprone#error_prone_annotations;2.23.0 in central\n",
      "\tfound io.grpc#grpc-stub;1.64.0 in central\n",
      "\tfound io.grpc#grpc-protobuf;1.64.0 in central\n",
      "\tfound com.google.api.grpc#proto-google-common-protos;2.39.0 in central\n",
      "\tfound com.google.protobuf#protobuf-java;3.25.3 in central\n",
      "\tfound com.google.api.grpc#proto-google-cloud-bigquerystorage-v1;3.5.1 in central\n",
      "\tfound com.google.api#api-common;2.31.0 in central\n",
      "\tfound com.google.auto.value#auto-value-annotations;1.10.4 in central\n",
      "\tfound javax.annotation#javax.annotation-api;1.3.2 in central\n",
      "\tfound com.google.j2objc#j2objc-annotations;3.0.0 in central\n",
      "\tfound com.google.guava#guava;33.2.0-jre in central\n",
      "\tfound com.google.guava#failureaccess;1.0.2 in central\n",
      "\tfound com.google.guava#listenablefuture;9999.0-empty-to-avoid-conflict-with-guava in central\n",
      "\tfound org.checkerframework#checker-qual;3.42.0 in central\n",
      "\tfound com.google.cloud#google-cloud-bigquery;2.40.1 in central\n",
      "\tfound com.google.cloud#google-cloud-core;2.38.0 in central\n",
      "\tfound com.google.protobuf#protobuf-java-util;3.25.3 in central\n",
      "\tfound com.google.api.grpc#proto-google-iam-v1;1.34.0 in central\n",
      "\tfound com.google.cloud#google-cloud-core-http;2.38.0 in central\n",
      "\tfound com.google.api-client#google-api-client;2.4.0 in central\n",
      "\tfound com.google.oauth-client#google-oauth-client;1.35.0 in central\n",
      "\tfound com.google.http-client#google-http-client-apache-v2;1.44.1 in central\n",
      "\tfound com.google.http-client#google-http-client-appengine;1.44.1 in central\n",
      "\tfound com.google.api#gax-httpjson;2.48.1 in central\n",
      "\tfound io.opencensus#opencensus-api;0.31.1 in central\n",
      "\tfound io.opencensus#opencensus-contrib-http-util;0.31.1 in central\n",
      "\tfound com.google.http-client#google-http-client-gson;1.44.1 in central\n",
      "\tfound com.google.http-client#google-http-client;1.44.1 in central\n",
      "\tfound org.apache.httpcomponents#httpclient;4.5.14 in central\n",
      "\tfound org.apache.httpcomponents#httpcore;4.4.16 in central\n",
      "\tfound io.grpc#grpc-context;1.64.0 in central\n",
      "\tfound org.checkerframework#checker-compat-qual;2.5.6 in central\n",
      "\tfound com.google.auth#google-auth-library-credentials;1.23.0 in central\n",
      "\tfound com.google.auth#google-auth-library-oauth2-http;1.23.0 in central\n",
      "\tfound com.google.apis#google-api-services-bigquery;v2-rev20240323-2.0.0 in central\n",
      "\tfound com.google.api#gax;2.48.1 in central\n",
      "\tfound org.threeten#threetenbp;1.6.9 in central\n",
      "\tfound org.threeten#threeten-extra;1.8.0 in central\n",
      "\tfound com.google.cloud#google-cloud-bigquerystorage;3.5.1 in central\n",
      "\tfound io.grpc#grpc-util;1.64.0 in central\n",
      "\tfound io.grpc#grpc-core;1.64.0 in central\n",
      "\tfound com.google.auto.value#auto-value;1.10.4 in central\n",
      "\tfound com.google.api#gax-grpc;2.48.1 in central\n",
      "\tfound io.grpc#grpc-inprocess;1.64.0 in central\n",
      "\tfound io.grpc#grpc-alts;1.64.0 in central\n",
      "\tfound io.grpc#grpc-grpclb;1.64.0 in central\n",
      "\tfound org.conscrypt#conscrypt-openjdk-uber;2.5.2 in central\n",
      "\tfound io.grpc#grpc-auth;1.64.0 in central\n",
      "\tfound org.json#json;20231013 in central\n",
      "\tfound commons-codec#commons-codec;1.16.0 in central\n",
      "\tfound io.grpc#grpc-netty-shaded;1.64.0 in central\n",
      "\tfound org.apache.arrow#arrow-vector;16.0.0 in central\n",
      "\tfound org.apache.arrow#arrow-memory-core;16.0.0 in central\n",
      "\tfound com.fasterxml.jackson.core#jackson-core;2.17.1 in central\n",
      "\tfound com.fasterxml.jackson.core#jackson-annotations;2.17.1 in central\n",
      "\tfound com.fasterxml.jackson.core#jackson-databind;2.17.1 in central\n",
      "\tfound com.fasterxml.jackson.datatype#jackson-datatype-jsr310;2.17.1 in central\n",
      "\tfound com.google.flatbuffers#flatbuffers-java;23.5.26 in central\n",
      "\tfound org.apache.arrow#arrow-format;15.0.2 in central\n",
      "\tfound net.bytebuddy#byte-buddy;1.14.9 in central\n",
      "\tfound org.slf4j#slf4j-api;2.0.9 in central\n",
      "\tfound org.eclipse.collections#eclipse-collections;11.1.0 in central\n",
      "\tfound org.eclipse.collections#eclipse-collections-api;11.1.0 in central\n",
      "\tfound com.google.inject#guice;5.1.0 in central\n",
      "\tfound javax.inject#javax.inject;1 in central\n",
      "\tfound aopalliance#aopalliance;1.0 in central\n",
      "\tfound io.grpc#grpc-netty;1.64.0 in central\n",
      "\tfound io.netty#netty-codec-http2;4.1.109.Final in central\n",
      "\tfound io.netty#netty-common;4.1.109.Final in central\n",
      "\tfound io.netty#netty-buffer;4.1.109.Final in central\n",
      "\tfound io.netty#netty-transport;4.1.109.Final in central\n",
      "\tfound io.netty#netty-resolver;4.1.109.Final in central\n",
      "\tfound io.netty#netty-codec;4.1.109.Final in central\n",
      "\tfound io.netty#netty-handler;4.1.109.Final in central\n",
      "\tfound io.netty#netty-transport-native-unix-common;4.1.109.Final in central\n",
      "\tfound io.netty#netty-codec-http;4.1.109.Final in central\n",
      "\tfound io.netty#netty-tcnative-boringssl-static;2.0.65.Final in central\n",
      "\tfound io.netty#netty-tcnative-classes;2.0.65.Final in central\n",
      "\tfound org.apache.arrow#arrow-memory-netty;16.0.0 in central\n",
      "\tfound org.apache.arrow#arrow-memory-netty-buffer-patch;16.0.0 in central\n",
      "\tfound com.google.code.gson#gson;2.9.1 in central\n",
      "\tfound org.apache.beam#beam-sdks-java-io-hadoop-common;2.43.0 in central\n",
      "\tfound org.apache.arrow#arrow-compression;16.0.0 in central\n",
      "\tfound org.apache.commons#commons-compress;1.26.0 in central\n",
      "\tfound commons-io#commons-io;2.15.1 in central\n",
      "\tfound org.apache.commons#commons-lang3;3.14.0 in central\n",
      "\tfound com.github.luben#zstd-jni;1.4.9-1 in central\n",
      "\tfound io.grpc#grpc-protobuf-lite;1.64.0 in central\n",
      "\tfound com.google.android#annotations;4.1.1.4 in central\n",
      "\tfound io.perfmark#perfmark-api;0.27.0 in central\n",
      "\tfound org.codehaus.mojo#animal-sniffer-annotations;1.23 in central\n",
      "\tfound io.grpc#grpc-googleapis;1.64.0 in central\n",
      "\tfound io.netty#netty-handler-proxy;4.1.109.Final in central\n",
      "\tfound io.netty#netty-codec-socks;4.1.109.Final in central\n",
      "\tfound org.neo4j#neo4j-connector-apache-spark_2.12;5.3.0_for_spark_3 in central\n",
      "\tfound org.neo4j#neo4j-connector-apache-spark_2.12_common;5.3.0 in central\n",
      "\tfound org.neo4j.driver#neo4j-java-driver;4.4.13 in central\n",
      "\tfound org.reactivestreams#reactive-streams;1.0.4 in central\n",
      "\tfound org.apache.xbean#xbean-asm6-shaded;4.10 in central\n",
      "\tfound org.neo4j#neo4j-cypher-dsl;2022.9.1 in central\n",
      "\tfound org.apiguardian#apiguardian-api;1.1.2 in central\n",
      "\tfound org.xerial#sqlite-jdbc;3.47.0.0 in central\n",
      ":: resolution report :: resolve 1205ms :: artifacts dl 23ms\n",
      "\t:: modules in use:\n",
      "\taopalliance#aopalliance;1.0 from central in [default]\n",
      "\tcom.fasterxml.jackson.core#jackson-annotations;2.17.1 from central in [default]\n",
      "\tcom.fasterxml.jackson.core#jackson-core;2.17.1 from central in [default]\n",
      "\tcom.fasterxml.jackson.core#jackson-databind;2.17.1 from central in [default]\n",
      "\tcom.fasterxml.jackson.datatype#jackson-datatype-jsr310;2.17.1 from central in [default]\n",
      "\tcom.github.luben#zstd-jni;1.4.9-1 from central in [default]\n",
      "\tcom.google.android#annotations;4.1.1.4 from central in [default]\n",
      "\tcom.google.api#api-common;2.31.0 from central in [default]\n",
      "\tcom.google.api#gax;2.48.1 from central in [default]\n",
      "\tcom.google.api#gax-grpc;2.48.1 from central in [default]\n",
      "\tcom.google.api#gax-httpjson;2.48.1 from central in [default]\n",
      "\tcom.google.api-client#google-api-client;2.4.0 from central in [default]\n",
      "\tcom.google.api.grpc#grpc-google-cloud-bigquerystorage-v1;3.5.1 from central in [default]\n",
      "\tcom.google.api.grpc#proto-google-cloud-bigquerystorage-v1;3.5.1 from central in [default]\n",
      "\tcom.google.api.grpc#proto-google-common-protos;2.39.0 from central in [default]\n",
      "\tcom.google.api.grpc#proto-google-iam-v1;1.34.0 from central in [default]\n",
      "\tcom.google.apis#google-api-services-bigquery;v2-rev20240323-2.0.0 from central in [default]\n",
      "\tcom.google.auth#google-auth-library-credentials;1.23.0 from central in [default]\n",
      "\tcom.google.auth#google-auth-library-oauth2-http;1.23.0 from central in [default]\n",
      "\tcom.google.auto.value#auto-value;1.10.4 from central in [default]\n",
      "\tcom.google.auto.value#auto-value-annotations;1.10.4 from central in [default]\n",
      "\tcom.google.cloud#google-cloud-bigquery;2.40.1 from central in [default]\n",
      "\tcom.google.cloud#google-cloud-bigquerystorage;3.5.1 from central in [default]\n",
      "\tcom.google.cloud#google-cloud-core;2.38.0 from central in [default]\n",
      "\tcom.google.cloud#google-cloud-core-http;2.38.0 from central in [default]\n",
      "\tcom.google.cloud.spark#bigquery-connector-common;0.39.0 from central in [default]\n",
      "\tcom.google.cloud.spark#spark-3.5-bigquery;0.39.0 from central in [default]\n",
      "\tcom.google.cloud.spark#spark-bigquery-connector-common;0.39.0 from central in [default]\n",
      "\tcom.google.cloud.spark#spark-bigquery-dsv2-common;0.39.0 from central in [default]\n",
      "\tcom.google.code.findbugs#jsr305;3.0.2 from central in [default]\n",
      "\tcom.google.code.gson#gson;2.9.1 from central in [default]\n",
      "\tcom.google.errorprone#error_prone_annotations;2.23.0 from central in [default]\n",
      "\tcom.google.flatbuffers#flatbuffers-java;23.5.26 from central in [default]\n",
      "\tcom.google.guava#failureaccess;1.0.2 from central in [default]\n",
      "\tcom.google.guava#guava;33.2.0-jre from central in [default]\n",
      "\tcom.google.guava#listenablefuture;9999.0-empty-to-avoid-conflict-with-guava from central in [default]\n",
      "\tcom.google.http-client#google-http-client;1.44.1 from central in [default]\n",
      "\tcom.google.http-client#google-http-client-apache-v2;1.44.1 from central in [default]\n",
      "\tcom.google.http-client#google-http-client-appengine;1.44.1 from central in [default]\n",
      "\tcom.google.http-client#google-http-client-gson;1.44.1 from central in [default]\n",
      "\tcom.google.inject#guice;5.1.0 from central in [default]\n",
      "\tcom.google.j2objc#j2objc-annotations;3.0.0 from central in [default]\n",
      "\tcom.google.oauth-client#google-oauth-client;1.35.0 from central in [default]\n",
      "\tcom.google.protobuf#protobuf-java;3.25.3 from central in [default]\n",
      "\tcom.google.protobuf#protobuf-java-util;3.25.3 from central in [default]\n",
      "\tcommons-codec#commons-codec;1.16.0 from central in [default]\n",
      "\tcommons-io#commons-io;2.15.1 from central in [default]\n",
      "\tio.grpc#grpc-alts;1.64.0 from central in [default]\n",
      "\tio.grpc#grpc-api;1.64.0 from central in [default]\n",
      "\tio.grpc#grpc-auth;1.64.0 from central in [default]\n",
      "\tio.grpc#grpc-context;1.64.0 from central in [default]\n",
      "\tio.grpc#grpc-core;1.64.0 from central in [default]\n",
      "\tio.grpc#grpc-googleapis;1.64.0 from central in [default]\n",
      "\tio.grpc#grpc-grpclb;1.64.0 from central in [default]\n",
      "\tio.grpc#grpc-inprocess;1.64.0 from central in [default]\n",
      "\tio.grpc#grpc-netty;1.64.0 from central in [default]\n",
      "\tio.grpc#grpc-netty-shaded;1.64.0 from central in [default]\n",
      "\tio.grpc#grpc-protobuf;1.64.0 from central in [default]\n",
      "\tio.grpc#grpc-protobuf-lite;1.64.0 from central in [default]\n",
      "\tio.grpc#grpc-stub;1.64.0 from central in [default]\n",
      "\tio.grpc#grpc-util;1.64.0 from central in [default]\n",
      "\tio.netty#netty-buffer;4.1.109.Final from central in [default]\n",
      "\tio.netty#netty-codec;4.1.109.Final from central in [default]\n",
      "\tio.netty#netty-codec-http;4.1.109.Final from central in [default]\n",
      "\tio.netty#netty-codec-http2;4.1.109.Final from central in [default]\n",
      "\tio.netty#netty-codec-socks;4.1.109.Final from central in [default]\n",
      "\tio.netty#netty-common;4.1.109.Final from central in [default]\n",
      "\tio.netty#netty-handler;4.1.109.Final from central in [default]\n",
      "\tio.netty#netty-handler-proxy;4.1.109.Final from central in [default]\n",
      "\tio.netty#netty-resolver;4.1.109.Final from central in [default]\n",
      "\tio.netty#netty-tcnative-boringssl-static;2.0.65.Final from central in [default]\n",
      "\tio.netty#netty-tcnative-classes;2.0.65.Final from central in [default]\n",
      "\tio.netty#netty-transport;4.1.109.Final from central in [default]\n",
      "\tio.netty#netty-transport-native-unix-common;4.1.109.Final from central in [default]\n",
      "\tio.opencensus#opencensus-api;0.31.1 from central in [default]\n",
      "\tio.opencensus#opencensus-contrib-http-util;0.31.1 from central in [default]\n",
      "\tio.perfmark#perfmark-api;0.27.0 from central in [default]\n",
      "\tjavax.annotation#javax.annotation-api;1.3.2 from central in [default]\n",
      "\tjavax.inject#javax.inject;1 from central in [default]\n",
      "\tnet.bytebuddy#byte-buddy;1.14.9 from central in [default]\n",
      "\torg.apache.arrow#arrow-compression;16.0.0 from central in [default]\n",
      "\torg.apache.arrow#arrow-format;15.0.2 from central in [default]\n",
      "\torg.apache.arrow#arrow-memory-core;16.0.0 from central in [default]\n",
      "\torg.apache.arrow#arrow-memory-netty;16.0.0 from central in [default]\n",
      "\torg.apache.arrow#arrow-memory-netty-buffer-patch;16.0.0 from central in [default]\n",
      "\torg.apache.arrow#arrow-vector;16.0.0 from central in [default]\n",
      "\torg.apache.beam#beam-sdks-java-io-hadoop-common;2.43.0 from central in [default]\n",
      "\torg.apache.commons#commons-compress;1.26.0 from central in [default]\n",
      "\torg.apache.commons#commons-lang3;3.14.0 from central in [default]\n",
      "\torg.apache.httpcomponents#httpclient;4.5.14 from central in [default]\n",
      "\torg.apache.httpcomponents#httpcore;4.4.16 from central in [default]\n",
      "\torg.apache.xbean#xbean-asm6-shaded;4.10 from central in [default]\n",
      "\torg.apiguardian#apiguardian-api;1.1.2 from central in [default]\n",
      "\torg.checkerframework#checker-compat-qual;2.5.6 from central in [default]\n",
      "\torg.checkerframework#checker-qual;3.42.0 from central in [default]\n",
      "\torg.codehaus.mojo#animal-sniffer-annotations;1.23 from central in [default]\n",
      "\torg.conscrypt#conscrypt-openjdk-uber;2.5.2 from central in [default]\n",
      "\torg.eclipse.collections#eclipse-collections;11.1.0 from central in [default]\n",
      "\torg.eclipse.collections#eclipse-collections-api;11.1.0 from central in [default]\n",
      "\torg.json#json;20231013 from central in [default]\n",
      "\torg.neo4j#neo4j-connector-apache-spark_2.12;5.3.0_for_spark_3 from central in [default]\n",
      "\torg.neo4j#neo4j-connector-apache-spark_2.12_common;5.3.0 from central in [default]\n",
      "\torg.neo4j#neo4j-cypher-dsl;2022.9.1 from central in [default]\n",
      "\torg.neo4j.driver#neo4j-java-driver;4.4.13 from central in [default]\n",
      "\torg.reactivestreams#reactive-streams;1.0.4 from central in [default]\n",
      "\torg.slf4j#slf4j-api;2.0.9 from central in [default]\n",
      "\torg.threeten#threeten-extra;1.8.0 from central in [default]\n",
      "\torg.threeten#threetenbp;1.6.9 from central in [default]\n",
      "\torg.xerial#sqlite-jdbc;3.47.0.0 from central in [default]\n",
      "\t:: evicted modules:\n",
      "\tcom.google.code.gson#gson;2.10.1 by [com.google.code.gson#gson;2.9.1] in [default]\n",
      "\torg.apache.arrow#arrow-format;16.0.0 by [org.apache.arrow#arrow-format;15.0.2] in [default]\n",
      "\torg.slf4j#slf4j-api;2.0.11 by [org.slf4j#slf4j-api;2.0.9] in [default]\n",
      "\torg.checkerframework#checker-qual;3.10.0 by [org.checkerframework#checker-qual;3.42.0] in [default]\n",
      "\tio.perfmark#perfmark-api;0.26.0 by [io.perfmark#perfmark-api;0.27.0] in [default]\n",
      "\t---------------------------------------------------------------------\n",
      "\t|                  |            modules            ||   artifacts   |\n",
      "\t|       conf       | number| search|dwnlded|evicted|| number|dwnlded|\n",
      "\t---------------------------------------------------------------------\n",
      "\t|      default     |  114  |   0   |   0   |   5   ||  109  |   0   |\n",
      "\t---------------------------------------------------------------------\n",
      ":: retrieving :: org.apache.spark#spark-submit-parent-89ab3a22-c2e1-423f-88dd-8c7edf4c3625\n",
      "\tconfs: [default]\n",
      "\t0 artifacts copied, 109 already retrieved (0kB/11ms)\n",
      "25/01/03 12:12:23 WARN NativeCodeLoader: Unable to load native-hadoop library for your platform... using builtin-java classes where applicable\n",
      "Setting default log level to \"WARN\".\n",
      "To adjust logging level use sc.setLogLevel(newLevel). For SparkR, use setLogLevel(newLevel).\n"
     ]
    },
    {
     "data": {
      "text/html": [
       "<pre style=\"white-space:pre;overflow-x:auto;line-height:normal;font-family:Menlo,'DejaVu Sans Mono',consolas,'Courier New',monospace\"><span style=\"color: #7fbfbf; text-decoration-color: #7fbfbf\">[01/03/25 12:12:28] </span><span style=\"color: #000080; text-decoration-color: #000080\">INFO    </span> Loading data from <span style=\"color: #ff8700; text-decoration-color: #ff8700\">integration.prm.unified_edges</span>                    <a href=\"file:///Users/kschaper/Monarch/everycure/matrix/pipelines/matrix/.venv/lib/python3.11/site-packages/kedro/io/data_catalog.py\" target=\"_blank\"><span style=\"color: #7f7f7f; text-decoration-color: #7f7f7f\">data_catalog.py</span></a><span style=\"color: #7f7f7f; text-decoration-color: #7f7f7f\">:</span><a href=\"file:///Users/kschaper/Monarch/everycure/matrix/pipelines/matrix/.venv/lib/python3.11/site-packages/kedro/io/data_catalog.py#508\" target=\"_blank\"><span style=\"color: #7f7f7f; text-decoration-color: #7f7f7f\">508</span></a>\n",
       "<span style=\"color: #7fbfbf; text-decoration-color: #7fbfbf\">                    </span>         <span style=\"font-weight: bold\">(</span>LazySparkDataset<span style=\"font-weight: bold\">)</span><span style=\"color: #808000; text-decoration-color: #808000\">...</span>                                              <span style=\"color: #7f7f7f; text-decoration-color: #7f7f7f\">                   </span>\n",
       "</pre>\n"
      ],
      "text/plain": [
       "\u001b[2;36m[01/03/25 12:12:28]\u001b[0m\u001b[2;36m \u001b[0m\u001b[34mINFO    \u001b[0m Loading data from \u001b[38;5;208mintegration.prm.unified_edges\u001b[0m                    \u001b]8;id=267256;file:///Users/kschaper/Monarch/everycure/matrix/pipelines/matrix/.venv/lib/python3.11/site-packages/kedro/io/data_catalog.py\u001b\\\u001b[2mdata_catalog.py\u001b[0m\u001b]8;;\u001b\\\u001b[2m:\u001b[0m\u001b]8;id=399762;file:///Users/kschaper/Monarch/everycure/matrix/pipelines/matrix/.venv/lib/python3.11/site-packages/kedro/io/data_catalog.py#508\u001b\\\u001b[2m508\u001b[0m\u001b]8;;\u001b\\\n",
       "\u001b[2;36m                    \u001b[0m         \u001b[1m(\u001b[0mLazySparkDataset\u001b[1m)\u001b[0m\u001b[33m...\u001b[0m                                              \u001b[2m                   \u001b[0m\n"
      ]
     },
     "metadata": {},
     "output_type": "display_data"
    }
   ],
   "source": [
    "unified_nodes = catalog.load(\"integration.prm.unified_nodes\")\n",
    "unified_edges = catalog.load(\"integration.prm.unified_edges\")"
   ]
  },
  {
   "cell_type": "code",
   "execution_count": 11,
   "metadata": {},
   "outputs": [
    {
     "name": "stdout",
     "output_type": "stream",
     "text": [
      "14909314 154389126\n",
      "+-----------+--------------------+--------------------+--------------------+----------------------+--------------------+------------+--------------------+---------------------------------+--------------------+------+\n",
      "|         id|                name|            category|         description|equivalent_identifiers|      all_categories|publications|              labels|international_resource_identifier|upstream_data_source|prefix|\n",
      "+-----------+--------------------+--------------------+--------------------+----------------------+--------------------+------------+--------------------+---------------------------------+--------------------+------+\n",
      "|AEO:0000127|apoptosing develo...|biolink:Anatomica...|An embryonic anat...|         [AEO:0000127]|[biolink:Anatomic...|          []|[biolink:Anatomic...|             http://purl.oboli...|            [rtxkg2]|   AEO|\n",
      "|ARO:3004420|chloramphenicol a...|  biolink:NamedThing|Commercial colori...|         [ARO:3004420]|[biolink:NamedThing]|          []|[biolink:NamedThing]|             http://purl.oboli...|            [rtxkg2]|   ARO|\n",
      "|ATC:A10AE54|insulin glargine ...|        biolink:Drug|UMLS Semantic Typ...|  [KEGG.DRUG:D11034...|      [biolink:Drug]|          []|[biolink:Chemical...|             http://purl.bioon...|            [rtxkg2]|   ATC|\n",
      "+-----------+--------------------+--------------------+--------------------+----------------------+--------------------+------------+--------------------+---------------------------------+--------------------+------+\n",
      "only showing top 3 rows\n",
      "\n",
      "+-----------+-------------------+--------------+---------------+------------------------+---------------------------+------------+------------------------+---------------------------+-----------------------+--------------------------+--------------------+\n",
      "|    subject|          predicate|        object|knowledge_level|primary_knowledge_source|aggregator_knowledge_source|publications|subject_aspect_qualifier|subject_direction_qualifier|object_aspect_qualifier|object_direction_qualifier|upstream_data_source|\n",
      "+-----------+-------------------+--------------+---------------+------------------------+---------------------------+------------+------------------------+---------------------------+-----------------------+--------------------------+--------------------+\n",
      "|AEO:0000127|biolink:subclass_of|UBERON:0005423|           NULL|          infores:ehdaa2|           [infores:ehdaa2]|          []|                    NULL|                       NULL|                   NULL|                      NULL|            [rtxkg2]|\n",
      "|ARO:3004420|biolink:subclass_of|   ARO:3004396|           NULL|         infores:genepio|          [infores:genepio]|          []|                    NULL|                       NULL|                   NULL|                      NULL|            [rtxkg2]|\n",
      "|ATC:A02BD08|biolink:subclass_of| UMLS:C3653686|           NULL|    infores:atc-codes...|       [infores:atc-code...|          []|                    NULL|                       NULL|                   NULL|                      NULL|            [rtxkg2]|\n",
      "+-----------+-------------------+--------------+---------------+------------------------+---------------------------+------------+------------------------+---------------------------+-----------------------+--------------------------+--------------------+\n",
      "only showing top 3 rows\n",
      "\n"
     ]
    }
   ],
   "source": [
    "print(unified_nodes.count(), unified_edges.count())\n",
    "unified_nodes.show(3)\n",
    "unified_edges.show(3)"
   ]
  },
  {
   "cell_type": "code",
   "execution_count": 4,
   "metadata": {},
   "outputs": [
    {
     "data": {
      "text/html": [
       "<pre style=\"white-space:pre;overflow-x:auto;line-height:normal;font-family:Menlo,'DejaVu Sans Mono',consolas,'Courier New',monospace\"><span style=\"color: #00ff00; text-decoration-color: #00ff00\">──────────────────────────────────────── </span>Unified Nodes Aggregate and Count<span style=\"color: #00ff00; text-decoration-color: #00ff00\"> ────────────────────────────────────────</span>\n",
       "</pre>\n"
      ],
      "text/plain": [
       "\u001b[92m──────────────────────────────────────── \u001b[0mUnified Nodes Aggregate and Count\u001b[92m ────────────────────────────────────────\u001b[0m\n"
      ]
     },
     "metadata": {},
     "output_type": "display_data"
    },
    {
     "name": "stderr",
     "output_type": "stream",
     "text": [
      "                                                                                \r"
     ]
    },
    {
     "name": "stdout",
     "output_type": "stream",
     "text": [
      "+--------------------+----------------+--------------------+-------+\n",
      "|            category|          prefix|upstream_data_source|  count|\n",
      "+--------------------+----------------+--------------------+-------+\n",
      "|biolink:ChemicalE...|        DRUGBANK|           [robokop]|    166|\n",
      "|        biolink:Drug|           CHEBI|           [robokop]|    413|\n",
      "|biolink:Phenotypi...|             EFO|            [rtxkg2]|     32|\n",
      "|  biolink:NamedThing|             IDO|            [rtxkg2]|     13|\n",
      "|     biolink:Pathway|           MONDO|   [rtxkg2, robokop]|    149|\n",
      "|        biolink:Cell|   CHEMBL.TARGET|            [rtxkg2]|     15|\n",
      "|        biolink:Food|        DRUGBANK|            [rtxkg2]|    105|\n",
      "|biolink:Molecular...|           REACT|           [robokop]|  73116|\n",
      "|biolink:OrganismT...|       NCBITaxon|           [robokop]|2466405|\n",
      "|     biolink:Disease|            OMIM|           [robokop]|     47|\n",
      "|biolink:ChemicalE...|         biolink|            [rtxkg2]|      1|\n",
      "|biolink:Physiolog...|            NCIT|            [rtxkg2]|      8|\n",
      "|biolink:Biologica...|           MPATH|            [rtxkg2]|     38|\n",
      "|biolink:Biologica...|            NCIT|            [rtxkg2]|    155|\n",
      "|biolink:ChemicalE...|PUBCHEM.COMPOUND|            [rtxkg2]|  28254|\n",
      "|        biolink:Drug|            UMLS|            [rtxkg2]|  19352|\n",
      "|        biolink:Drug|             PDQ|            [rtxkg2]|     93|\n",
      "|biolink:Phenotypi...|         biolink|            [rtxkg2]|     14|\n",
      "|  biolink:NamedThing|             OBA|            [rtxkg2]|    113|\n",
      "|biolink:Informati...|             PSY|            [rtxkg2]|    251|\n",
      "+--------------------+----------------+--------------------+-------+\n",
      "only showing top 20 rows\n",
      "\n"
     ]
    }
   ],
   "source": [
    "console.rule(\"Unified Nodes Aggregate and Count\")\n",
    "unified_nodes = unified_nodes.withColumn(\"prefix\", split(\"id\", \":\")[0])\n",
    "\n",
    "columns = [\"category\", \"prefix\", \"upstream_data_source\"]\n",
    "unified_nodes_agg_count = unified_nodes.select(*columns).groupBy(*columns).count()\n",
    "\n",
    "unified_nodes_agg_count.show()\n",
    "\n"
   ]
  },
  {
   "cell_type": "code",
   "execution_count": 12,
   "metadata": {},
   "outputs": [
    {
     "data": {
      "text/html": [
       "<pre style=\"white-space:pre;overflow-x:auto;line-height:normal;font-family:Menlo,'DejaVu Sans Mono',consolas,'Courier New',monospace\"><span style=\"color: #00ff00; text-decoration-color: #00ff00\">──────────────────────────────────────── </span>Unified Edges Aggregate and Count<span style=\"color: #00ff00; text-decoration-color: #00ff00\"> ────────────────────────────────────────</span>\n",
       "</pre>\n"
      ],
      "text/plain": [
       "\u001b[92m──────────────────────────────────────── \u001b[0mUnified Edges Aggregate and Count\u001b[92m ────────────────────────────────────────\u001b[0m\n"
      ]
     },
     "metadata": {},
     "output_type": "display_data"
    },
    {
     "name": "stderr",
     "output_type": "stream",
     "text": [
      "[Stage 69:======================================================> (44 + 1) / 45]\r"
     ]
    },
    {
     "name": "stdout",
     "output_type": "stream",
     "text": [
      "+--------------+--------------------+--------------------+-------------+--------------------+------------------------+---------------------------+--------------------+-----+\n",
      "|subject_prefix|    subject_category|           predicate|object_prefix|     object_category|primary_knowledge_source|aggregator_knowledge_source|upstream_data_source|count|\n",
      "+--------------+--------------------+--------------------+-------------+--------------------+------------------------+---------------------------+--------------------+-----+\n",
      "|      NCBIGene|biolink:NucleicAc...|biolink:physicall...|        CHEBI|        biolink:Drug|        infores:drugbank|         [infores:drugbank]|            [rtxkg2]|  425|\n",
      "|         REACT|biolink:Molecular...|  biolink:has_output|        CHEBI|        biolink:Drug|        infores:reactome|         [infores:reactome]|   [rtxkg2, robokop]| 1251|\n",
      "|         CHEBI|biolink:SmallMole...|biolink:entity_po...|        CHEBI|        biolink:Drug|        infores:semmeddb|         [infores:semmeddb]|            [rtxkg2]|  113|\n",
      "|         REACT|biolink:Molecular...|  biolink:has_output|        CHEBI|biolink:ChemicalE...|        infores:reactome|                         []|           [robokop]|  658|\n",
      "|         VANDF|        biolink:Drug|biolink:entity_po...|        CHEBI|        biolink:Drug|        infores:semmeddb|         [infores:semmeddb]|            [rtxkg2]|    6|\n",
      "|          MESH|biolink:ClinicalI...|  biolink:related_to|        CHEBI|biolink:Molecular...|        infores:semmeddb|         [infores:semmeddb]|            [rtxkg2]|    5|\n",
      "|         MONDO|     biolink:Pathway|    biolink:produces|        CHEBI|        biolink:Drug|        infores:semmeddb|         [infores:semmeddb]|            [rtxkg2]|    4|\n",
      "|         CHEBI| biolink:Polypeptide| biolink:subclass_of|        CHEBI|biolink:Molecular...|       infores:ubergraph|                         []|           [robokop]| 1769|\n",
      "|      NCBIGene|biolink:NucleicAc...|  biolink:related_to|        CHEBI|biolink:SmallMole...|    infores:umls-meta...|       [infores:umls-met...|            [rtxkg2]|   39|\n",
      "|          UNII|biolink:SmallMole...|biolink:physicall...|CHEMBL.TARGET|     biolink:Protein|          infores:chembl|           [infores:chembl]|            [rtxkg2]|  105|\n",
      "|           FMA|biolink:SmallMole...|      biolink:treats|CHEMBL.TARGET|        biolink:Drug|        infores:semmeddb|         [infores:semmeddb]|            [rtxkg2]|    3|\n",
      "|     NCBITaxon|biolink:OrganismT...| biolink:close_match|CHEMBL.TARGET|biolink:OrganismT...|            infores:mesh|             [infores:mesh]|            [rtxkg2]|   82|\n",
      "|          UMLS|biolink:NucleicAc...| biolink:subclass_of|          FMA|        biolink:Drug|            infores:ncit|             [infores:ncit]|            [rtxkg2]|   19|\n",
      "|          MESH|biolink:DiseaseOr...|  biolink:located_in|          FMA|biolink:GrossAnat...|        infores:semmeddb|         [infores:semmeddb]|            [rtxkg2]|    6|\n",
      "|      NCBIGene|biolink:NucleicAc...|   biolink:regulates|           GO|biolink:Molecular...|      infores:drugmechdb|                         []|           [robokop]|   56|\n",
      "|          UMLS|biolink:Physiolog...|     biolink:affects|           GO|biolink:CellularC...|         infores:go-plus|          [infores:go-plus]|            [rtxkg2]|   39|\n",
      "|            HP|biolink:Phenotypi...| biolink:subclass_of|           HP|biolink:Phenotypi...|    infores:disease-o...|       [infores:disease-...|   [rtxkg2, robokop]|  140|\n",
      "|            HP|biolink:Phenotypi...| biolink:subclass_of|           HP|     biolink:Disease|             infores:hpo|              [infores:hpo]|   [rtxkg2, robokop]|  835|\n",
      "|         CHEBI|biolink:SmallMole...|biolink:has_adver...|           HP|biolink:Phenotypi...|           infores:faers|       [infores:drugcent...|           [robokop]|  272|\n",
      "|         CHEBI|biolink:SmallMole...|biolink:interacts...|         MESH|     biolink:Protein|            infores:kegg|             [infores:kegg]|            [rtxkg2]|  252|\n",
      "+--------------+--------------------+--------------------+-------------+--------------------+------------------------+---------------------------+--------------------+-----+\n",
      "only showing top 20 rows\n",
      "\n"
     ]
    },
    {
     "name": "stderr",
     "output_type": "stream",
     "text": [
      "                                                                                \r"
     ]
    }
   ],
   "source": [
    "console.rule(\"Unified Edges Aggregate and Count\")\n",
    "\n",
    "subject_nodes = unified_nodes.alias(\"subject_nodes\")\n",
    "object_nodes = unified_nodes.alias(\"object_nodes\")\n",
    "\n",
    "columns = [\"subject_prefix\", \n",
    "           \"subject_category\", \n",
    "           \"predicate\", \n",
    "           \"object_prefix\", \n",
    "           \"object_category\", \n",
    "           \"primary_knowledge_source\", \n",
    "           \"aggregator_knowledge_source\", \n",
    "           \"upstream_data_source\"]\n",
    "\n",
    "unified_edges_agg_count = unified_edges.withColumn(\"subject_prefix\", split(\"subject\", \":\")[0])\\\n",
    "    .withColumn(\"object_prefix\", split(\"object\", \":\")[0])\\\n",
    "    .join(subject_nodes.select(\"id\", \"category\").withColumnRenamed(\"category\", \"subject_category\"), unified_edges.subject == subject_nodes.id, \"left\")\\\n",
    "    .join(object_nodes.select(\"id\", \"category\").withColumnRenamed(\"category\", \"object_category\"), unified_edges.object == object_nodes.id, \"left\")\\\n",
    "    .select(*columns)\\\n",
    "    .groupBy(*columns).count()\n",
    "\n",
    "unified_edges_agg_count.show()"
   ]
  },
  {
   "cell_type": "markdown",
   "metadata": {},
   "source": [
    "The steps below assume that you've run\n",
    "```\n",
    "kedro run --nodes='generate_filtered_nodes_agg_count,generate_filtered_edges_agg_count'\n",
    "```\n",
    "\n",
    "or maybe:\n",
    "```\n",
    "kedro run --to-nodes='generate_filtered_nodes_agg_count,generate_filtered_edges_agg_count'\n",
    "```\n",
    "\n",
    "The steps below will be the process of providing a duckdb that evidence.dev can read from"
   ]
  },
  {
   "cell_type": "code",
   "execution_count": 31,
   "metadata": {},
   "outputs": [
    {
     "name": "stdout",
     "output_type": "stream",
     "text": [
      "\u001b[2K\u001b[2mResolved \u001b[1m1 package\u001b[0m \u001b[2min 315ms\u001b[0m\u001b[0m                                          \u001b[0m\n",
      "\u001b[2K\u001b[37m⠙\u001b[0m \u001b[2mPreparing packages...\u001b[0m (0/1)                                                   \n",
      "\u001b[2K\u001b[1A\u001b[37m⠙\u001b[0m \u001b[2mPreparing packages...\u001b[0m (0/1)----\u001b[0m\u001b[0m     0 B/14.75 MiB                     \u001b[1A\n",
      "\u001b[2K\u001b[1A\u001b[37m⠙\u001b[0m \u001b[2mPreparing packages...\u001b[0m (0/1)----\u001b[0m\u001b[0m 8.00 KiB/14.75 MiB                    \u001b[1A\n",
      "\u001b[2K\u001b[1A\u001b[37m⠙\u001b[0m \u001b[2mPreparing packages...\u001b[0m (0/1)----\u001b[0m\u001b[0m 16.00 KiB/14.75 MiB                   \u001b[1A\n",
      "\u001b[2K\u001b[1A\u001b[37m⠙\u001b[0m \u001b[2mPreparing packages...\u001b[0m (0/1)----\u001b[0m\u001b[0m 32.00 KiB/14.75 MiB                   \u001b[1A\n",
      "\u001b[2K\u001b[1A\u001b[37m⠙\u001b[0m \u001b[2mPreparing packages...\u001b[0m (0/1)----\u001b[0m\u001b[0m 48.00 KiB/14.75 MiB                   \u001b[1A\n",
      "\u001b[2K\u001b[1A\u001b[37m⠙\u001b[0m \u001b[2mPreparing packages...\u001b[0m (0/1)----\u001b[0m\u001b[0m 64.00 KiB/14.75 MiB                   \u001b[1A\n",
      "\u001b[2K\u001b[1A\u001b[37m⠙\u001b[0m \u001b[2mPreparing packages...\u001b[0m (0/1)----\u001b[0m\u001b[0m 80.00 KiB/14.75 MiB                   \u001b[1A\n",
      "\u001b[2K\u001b[1A\u001b[37m⠙\u001b[0m \u001b[2mPreparing packages...\u001b[0m (0/1)----\u001b[0m\u001b[0m 96.00 KiB/14.75 MiB                   \u001b[1A\n",
      "\u001b[2K\u001b[1A\u001b[37m⠙\u001b[0m \u001b[2mPreparing packages...\u001b[0m (0/1)----\u001b[0m\u001b[0m 112.00 KiB/14.75 MiB                  \u001b[1A\n",
      "\u001b[2K\u001b[1A\u001b[37m⠙\u001b[0m \u001b[2mPreparing packages...\u001b[0m (0/1)----\u001b[0m\u001b[0m 128.00 KiB/14.75 MiB                  \u001b[1A\n",
      "\u001b[2K\u001b[1A\u001b[37m⠙\u001b[0m \u001b[2mPreparing packages...\u001b[0m (0/1)----\u001b[0m\u001b[0m 144.00 KiB/14.75 MiB                  \u001b[1A\n",
      "\u001b[2K\u001b[1A\u001b[37m⠙\u001b[0m \u001b[2mPreparing packages...\u001b[0m (0/1)----\u001b[0m\u001b[0m 160.00 KiB/14.75 MiB                  \u001b[1A\n",
      "\u001b[2K\u001b[1A\u001b[37m⠙\u001b[0m \u001b[2mPreparing packages...\u001b[0m (0/1)----\u001b[0m\u001b[0m 176.00 KiB/14.75 MiB                  \u001b[1A\n",
      "\u001b[2K\u001b[1A\u001b[37m⠙\u001b[0m \u001b[2mPreparing packages...\u001b[0m (0/1)----\u001b[0m\u001b[0m 192.00 KiB/14.75 MiB                  \u001b[1A\n",
      "\u001b[2K\u001b[1A\u001b[37m⠙\u001b[0m \u001b[2mPreparing packages...\u001b[0m (0/1)----\u001b[0m\u001b[0m 208.00 KiB/14.75 MiB                  \u001b[1A\n",
      "\u001b[2K\u001b[1A\u001b[37m⠙\u001b[0m \u001b[2mPreparing packages...\u001b[0m (0/1)----\u001b[0m\u001b[0m 224.00 KiB/14.75 MiB                  \u001b[1A\n",
      "\u001b[2K\u001b[1A\u001b[37m⠙\u001b[0m \u001b[2mPreparing packages...\u001b[0m (0/1)----\u001b[0m\u001b[0m 240.00 KiB/14.75 MiB                  \u001b[1A\n",
      "\u001b[2K\u001b[1A\u001b[37m⠙\u001b[0m \u001b[2mPreparing packages...\u001b[0m (0/1)----\u001b[0m\u001b[0m 249.81 KiB/14.75 MiB                  \u001b[1A\n",
      "\u001b[2K\u001b[1A\u001b[37m⠙\u001b[0m \u001b[2mPreparing packages...\u001b[0m (0/1)----\u001b[0m\u001b[0m 265.81 KiB/14.75 MiB                  \u001b[1A\n",
      "\u001b[2K\u001b[1A\u001b[37m⠹\u001b[0m \u001b[2mPreparing packages...\u001b[0m (0/1)----\u001b[0m\u001b[0m 281.81 KiB/14.75 MiB                  \u001b[1A\n",
      "\u001b[2K\u001b[1A\u001b[37m⠹\u001b[0m \u001b[2mPreparing packages...\u001b[0m (0/1)----\u001b[0m\u001b[0m 1.00 MiB/14.75 MiB                    \u001b[1A\n",
      "\u001b[2K\u001b[1A\u001b[37m⠹\u001b[0m \u001b[2mPreparing packages...\u001b[0m (0/1)----\u001b[0m\u001b[0m 1.02 MiB/14.75 MiB                    \u001b[1A\n",
      "\u001b[2K\u001b[1A\u001b[37m⠹\u001b[0m \u001b[2mPreparing packages...\u001b[0m (0/1)----\u001b[0m\u001b[0m 2.02 MiB/14.75 MiB                    \u001b[1A\n",
      "\u001b[2K\u001b[1A\u001b[37m⠸\u001b[0m \u001b[2mPreparing packages...\u001b[0m (0/1)----\u001b[0m\u001b[0m 2.03 MiB/14.75 MiB                    \u001b[1A\n",
      "\u001b[2K\u001b[1A\u001b[37m⠸\u001b[0m \u001b[2mPreparing packages...\u001b[0m (0/1)----\u001b[0m\u001b[0m 2.97 MiB/14.75 MiB                    \u001b[1A\n",
      "\u001b[2K\u001b[1A\u001b[37m⠸\u001b[0m \u001b[2mPreparing packages...\u001b[0m (0/1)----\u001b[0m\u001b[0m 3.02 MiB/14.75 MiB                    \u001b[1A\n",
      "\u001b[2K\u001b[1A\u001b[37m⠸\u001b[0m \u001b[2mPreparing packages...\u001b[0m (0/1)----\u001b[0m\u001b[0m 4.02 MiB/14.75 MiB                    \u001b[1A\n",
      "\u001b[2K\u001b[1A\u001b[37m⠼\u001b[0m \u001b[2mPreparing packages...\u001b[0m (0/1)----\u001b[0m\u001b[0m 4.50 MiB/14.75 MiB                    \u001b[1A\n",
      "\u001b[2K\u001b[1A\u001b[37m⠼\u001b[0m \u001b[2mPreparing packages...\u001b[0m (0/1)----\u001b[0m\u001b[0m 4.97 MiB/14.75 MiB                    \u001b[1A\n",
      "\u001b[2K\u001b[1A\u001b[37m⠼\u001b[0m \u001b[2mPreparing packages...\u001b[0m (0/1)----\u001b[0m\u001b[0m 5.02 MiB/14.75 MiB                    \u001b[1A\n",
      "\u001b[2K\u001b[1A\u001b[37m⠼\u001b[0m \u001b[2mPreparing packages...\u001b[0m (0/1)----\u001b[0m\u001b[0m 5.86 MiB/14.75 MiB                    \u001b[1A\n",
      "\u001b[2K\u001b[1A\u001b[37m⠼\u001b[0m \u001b[2mPreparing packages...\u001b[0m (0/1)----\u001b[0m\u001b[0m 6.02 MiB/14.75 MiB                    \u001b[1A\n",
      "\u001b[2K\u001b[1A\u001b[37m⠴\u001b[0m \u001b[2mPreparing packages...\u001b[0m (0/1)----\u001b[0m\u001b[0m 6.96 MiB/14.75 MiB                    \u001b[1A\n",
      "\u001b[2K\u001b[1A\u001b[37m⠴\u001b[0m \u001b[2mPreparing packages...\u001b[0m (0/1)----\u001b[0m\u001b[0m 7.05 MiB/14.75 MiB                    \u001b[1A\n",
      "\u001b[2K\u001b[1A\u001b[37m⠴\u001b[0m \u001b[2mPreparing packages...\u001b[0m (0/1)----\u001b[0m\u001b[0m 8.02 MiB/14.75 MiB                    \u001b[1A\n",
      "\u001b[2K\u001b[1A\u001b[37m⠦\u001b[0m \u001b[2mPreparing packages...\u001b[0m (0/1)----\u001b[0m\u001b[0m 8.03 MiB/14.75 MiB                    \u001b[1A\n",
      "\u001b[2K\u001b[1A\u001b[37m⠦\u001b[0m \u001b[2mPreparing packages...\u001b[0m (0/1)----\u001b[0m\u001b[0m 8.97 MiB/14.75 MiB                    \u001b[1A\n",
      "\u001b[2K\u001b[1A\u001b[37m⠦\u001b[0m \u001b[2mPreparing packages...\u001b[0m (0/1)----\u001b[0m\u001b[0m 9.22 MiB/14.75 MiB                    \u001b[1A\n",
      "\u001b[2K\u001b[1A\u001b[37m⠦\u001b[0m \u001b[2mPreparing packages...\u001b[0m (0/1)----\u001b[0m\u001b[0m 10.02 MiB/14.75 MiB                   \u001b[1A\n",
      "\u001b[2K\u001b[1A\u001b[37m⠧\u001b[0m \u001b[2mPreparing packages...\u001b[0m (0/1)----\u001b[0m\u001b[0m 10.12 MiB/14.75 MiB                   \u001b[1A\n",
      "\u001b[2K\u001b[1A\u001b[37m⠧\u001b[0m \u001b[2mPreparing packages...\u001b[0m (0/1)----\u001b[0m\u001b[0m 10.97 MiB/14.75 MiB                   \u001b[1A\n",
      "\u001b[2K\u001b[1A\u001b[37m⠧\u001b[0m \u001b[2mPreparing packages...\u001b[0m (0/1)----\u001b[0m\u001b[0m 12.02 MiB/14.75 MiB                   \u001b[1A\n",
      "\u001b[2K\u001b[1A\u001b[37m⠧\u001b[0m \u001b[2mPreparing packages...\u001b[0m (0/1)----\u001b[0m\u001b[0m 12.03 MiB/14.75 MiB                   \u001b[1A\n",
      "\u001b[2K\u001b[1A\u001b[37m⠧\u001b[0m \u001b[2mPreparing packages...\u001b[0m (0/1)----\u001b[0m\u001b[0m 12.31 MiB/14.75 MiB                   \u001b[1A\n",
      "\u001b[2K\u001b[1A\u001b[37m⠇\u001b[0m \u001b[2mPreparing packages...\u001b[0m (0/1)m---\u001b[0m\u001b[0m 13.02 MiB/14.75 MiB                   \u001b[1A\n",
      "\u001b[2K\u001b[2mPrepared \u001b[1m1 package\u001b[0m \u001b[2min 1.46s\u001b[0m\u001b[0m                                                  \u001b[1A\n",
      "\u001b[2K\u001b[2mInstalled \u001b[1m1 package\u001b[0m \u001b[2min 2ms\u001b[0m\u001b[0m                                  \u001b[0m\n",
      " \u001b[32m+\u001b[39m \u001b[1mduckdb\u001b[0m\u001b[2m==1.1.3\u001b[0m\n"
     ]
    }
   ],
   "source": [
    "!uv pip install duckdb"
   ]
  },
  {
   "cell_type": "code",
   "execution_count": 4,
   "metadata": {},
   "outputs": [
    {
     "data": {
      "text/html": [
       "<pre style=\"white-space:pre;overflow-x:auto;line-height:normal;font-family:Menlo,'DejaVu Sans Mono',consolas,'Courier New',monospace\"><span style=\"color: #7fbfbf; text-decoration-color: #7fbfbf\">[01/06/25 10:23:19] </span><span style=\"color: #000080; text-decoration-color: #000080\">INFO    </span> Loading data from <span style=\"color: #ff8700; text-decoration-color: #ff8700\">integration.prm.filtered_nodes_agg_count</span>         <a href=\"file:///Users/kschaper/Monarch/everycure/matrix/pipelines/matrix/.venv/lib/python3.11/site-packages/kedro/io/data_catalog.py\" target=\"_blank\"><span style=\"color: #7f7f7f; text-decoration-color: #7f7f7f\">data_catalog.py</span></a><span style=\"color: #7f7f7f; text-decoration-color: #7f7f7f\">:</span><a href=\"file:///Users/kschaper/Monarch/everycure/matrix/pipelines/matrix/.venv/lib/python3.11/site-packages/kedro/io/data_catalog.py#508\" target=\"_blank\"><span style=\"color: #7f7f7f; text-decoration-color: #7f7f7f\">508</span></a>\n",
       "<span style=\"color: #7fbfbf; text-decoration-color: #7fbfbf\">                    </span>         <span style=\"font-weight: bold\">(</span>LazySparkDataset<span style=\"font-weight: bold\">)</span><span style=\"color: #808000; text-decoration-color: #808000\">...</span>                                              <span style=\"color: #7f7f7f; text-decoration-color: #7f7f7f\">                   </span>\n",
       "</pre>\n"
      ],
      "text/plain": [
       "\u001b[2;36m[01/06/25 10:23:19]\u001b[0m\u001b[2;36m \u001b[0m\u001b[34mINFO    \u001b[0m Loading data from \u001b[38;5;208mintegration.prm.filtered_nodes_agg_count\u001b[0m         \u001b]8;id=848062;file:///Users/kschaper/Monarch/everycure/matrix/pipelines/matrix/.venv/lib/python3.11/site-packages/kedro/io/data_catalog.py\u001b\\\u001b[2mdata_catalog.py\u001b[0m\u001b]8;;\u001b\\\u001b[2m:\u001b[0m\u001b]8;id=837632;file:///Users/kschaper/Monarch/everycure/matrix/pipelines/matrix/.venv/lib/python3.11/site-packages/kedro/io/data_catalog.py#508\u001b\\\u001b[2m508\u001b[0m\u001b]8;;\u001b\\\n",
       "\u001b[2;36m                    \u001b[0m         \u001b[1m(\u001b[0mLazySparkDataset\u001b[1m)\u001b[0m\u001b[33m...\u001b[0m                                              \u001b[2m                   \u001b[0m\n"
      ]
     },
     "metadata": {},
     "output_type": "display_data"
    },
    {
     "data": {
      "text/html": [
       "<pre style=\"white-space:pre;overflow-x:auto;line-height:normal;font-family:Menlo,'DejaVu Sans Mono',consolas,'Courier New',monospace\"><span style=\"color: #7fbfbf; text-decoration-color: #7fbfbf\">                    </span><span style=\"color: #000080; text-decoration-color: #000080\">INFO    </span> Executing for environment: <span style=\"color: #800080; text-decoration-color: #800080; font-style: italic\">None</span>                                           <a href=\"file:///Users/kschaper/Monarch/everycure/matrix/pipelines/matrix/src/matrix/hooks.py\" target=\"_blank\"><span style=\"color: #7f7f7f; text-decoration-color: #7f7f7f\">hooks.py</span></a><span style=\"color: #7f7f7f; text-decoration-color: #7f7f7f\">:</span><a href=\"file:///Users/kschaper/Monarch/everycure/matrix/pipelines/matrix/src/matrix/hooks.py#150\" target=\"_blank\"><span style=\"color: #7f7f7f; text-decoration-color: #7f7f7f\">150</span></a>\n",
       "</pre>\n"
      ],
      "text/plain": [
       "\u001b[2;36m                   \u001b[0m\u001b[2;36m \u001b[0m\u001b[34mINFO    \u001b[0m Executing for environment: \u001b[3;35mNone\u001b[0m                                           \u001b]8;id=113734;file:///Users/kschaper/Monarch/everycure/matrix/pipelines/matrix/src/matrix/hooks.py\u001b\\\u001b[2mhooks.py\u001b[0m\u001b]8;;\u001b\\\u001b[2m:\u001b[0m\u001b]8;id=814681;file:///Users/kschaper/Monarch/everycure/matrix/pipelines/matrix/src/matrix/hooks.py#150\u001b\\\u001b[2m150\u001b[0m\u001b]8;;\u001b\\\n"
      ]
     },
     "metadata": {},
     "output_type": "display_data"
    },
    {
     "data": {
      "text/html": [
       "<pre style=\"white-space:pre;overflow-x:auto;line-height:normal;font-family:Menlo,'DejaVu Sans Mono',consolas,'Courier New',monospace\"><span style=\"color: #7fbfbf; text-decoration-color: #7fbfbf\">                    </span><span style=\"color: #000080; text-decoration-color: #000080\">INFO    </span> With ARGO_POD_UID set to:                                                 <a href=\"file:///Users/kschaper/Monarch/everycure/matrix/pipelines/matrix/src/matrix/hooks.py\" target=\"_blank\"><span style=\"color: #7f7f7f; text-decoration-color: #7f7f7f\">hooks.py</span></a><span style=\"color: #7f7f7f; text-decoration-color: #7f7f7f\">:</span><a href=\"file:///Users/kschaper/Monarch/everycure/matrix/pipelines/matrix/src/matrix/hooks.py#151\" target=\"_blank\"><span style=\"color: #7f7f7f; text-decoration-color: #7f7f7f\">151</span></a>\n",
       "</pre>\n"
      ],
      "text/plain": [
       "\u001b[2;36m                   \u001b[0m\u001b[2;36m \u001b[0m\u001b[34mINFO    \u001b[0m With ARGO_POD_UID set to:                                                 \u001b]8;id=443864;file:///Users/kschaper/Monarch/everycure/matrix/pipelines/matrix/src/matrix/hooks.py\u001b\\\u001b[2mhooks.py\u001b[0m\u001b]8;;\u001b\\\u001b[2m:\u001b[0m\u001b]8;id=284573;file:///Users/kschaper/Monarch/everycure/matrix/pipelines/matrix/src/matrix/hooks.py#151\u001b\\\u001b[2m151\u001b[0m\u001b]8;;\u001b\\\n"
      ]
     },
     "metadata": {},
     "output_type": "display_data"
    },
    {
     "data": {
      "text/html": [
       "<pre style=\"white-space:pre;overflow-x:auto;line-height:normal;font-family:Menlo,'DejaVu Sans Mono',consolas,'Courier New',monospace\"><span style=\"color: #7fbfbf; text-decoration-color: #7fbfbf\">                    </span><span style=\"color: #000080; text-decoration-color: #000080\">INFO    </span> Thus determined not to be in k8s cluster and executing with               <a href=\"file:///Users/kschaper/Monarch/everycure/matrix/pipelines/matrix/src/matrix/hooks.py\" target=\"_blank\"><span style=\"color: #7f7f7f; text-decoration-color: #7f7f7f\">hooks.py</span></a><span style=\"color: #7f7f7f; text-decoration-color: #7f7f7f\">:</span><a href=\"file:///Users/kschaper/Monarch/everycure/matrix/pipelines/matrix/src/matrix/hooks.py#152\" target=\"_blank\"><span style=\"color: #7f7f7f; text-decoration-color: #7f7f7f\">152</span></a>\n",
       "<span style=\"color: #7fbfbf; text-decoration-color: #7fbfbf\">                    </span>         service-account.json file                                                 <span style=\"color: #7f7f7f; text-decoration-color: #7f7f7f\">            </span>\n",
       "</pre>\n"
      ],
      "text/plain": [
       "\u001b[2;36m                   \u001b[0m\u001b[2;36m \u001b[0m\u001b[34mINFO    \u001b[0m Thus determined not to be in k8s cluster and executing with               \u001b]8;id=46050;file:///Users/kschaper/Monarch/everycure/matrix/pipelines/matrix/src/matrix/hooks.py\u001b\\\u001b[2mhooks.py\u001b[0m\u001b]8;;\u001b\\\u001b[2m:\u001b[0m\u001b]8;id=335879;file:///Users/kschaper/Monarch/everycure/matrix/pipelines/matrix/src/matrix/hooks.py#152\u001b\\\u001b[2m152\u001b[0m\u001b]8;;\u001b\\\n",
       "\u001b[2;36m                    \u001b[0m         service-account.json file                                                 \u001b[2m            \u001b[0m\n"
      ]
     },
     "metadata": {},
     "output_type": "display_data"
    },
    {
     "name": "stdout",
     "output_type": "stream",
     "text": [
      ":: loading settings :: url = jar:file:/Users/kschaper/Monarch/everycure/matrix/pipelines/matrix/.venv/lib/python3.11/site-packages/pyspark/jars/ivy-2.5.1.jar!/org/apache/ivy/core/settings/ivysettings.xml\n"
     ]
    },
    {
     "name": "stderr",
     "output_type": "stream",
     "text": [
      "Ivy Default Cache set to: /Users/kschaper/.ivy2/cache\n",
      "The jars for the packages stored in: /Users/kschaper/.ivy2/jars\n",
      "com.google.cloud.spark#spark-3.5-bigquery added as a dependency\n",
      "org.neo4j#neo4j-connector-apache-spark_2.12 added as a dependency\n",
      "org.xerial#sqlite-jdbc added as a dependency\n",
      ":: resolving dependencies :: org.apache.spark#spark-submit-parent-81134794-9c2b-47e2-9176-a86a988885f9;1.0\n",
      "\tconfs: [default]\n",
      "\tfound com.google.cloud.spark#spark-3.5-bigquery;0.39.0 in central\n",
      "\tfound com.google.cloud.spark#spark-bigquery-dsv2-common;0.39.0 in central\n",
      "\tfound com.google.cloud.spark#spark-bigquery-connector-common;0.39.0 in central\n",
      "\tfound com.google.cloud.spark#bigquery-connector-common;0.39.0 in central\n",
      "\tfound com.google.api.grpc#grpc-google-cloud-bigquerystorage-v1;3.5.1 in central\n",
      "\tfound io.grpc#grpc-api;1.64.0 in central\n",
      "\tfound com.google.code.findbugs#jsr305;3.0.2 in central\n",
      "\tfound com.google.errorprone#error_prone_annotations;2.23.0 in central\n",
      "\tfound io.grpc#grpc-stub;1.64.0 in central\n",
      "\tfound io.grpc#grpc-protobuf;1.64.0 in central\n",
      "\tfound com.google.api.grpc#proto-google-common-protos;2.39.0 in central\n",
      "\tfound com.google.protobuf#protobuf-java;3.25.3 in central\n",
      "\tfound com.google.api.grpc#proto-google-cloud-bigquerystorage-v1;3.5.1 in central\n",
      "\tfound com.google.api#api-common;2.31.0 in central\n",
      "\tfound com.google.auto.value#auto-value-annotations;1.10.4 in central\n",
      "\tfound javax.annotation#javax.annotation-api;1.3.2 in central\n",
      "\tfound com.google.j2objc#j2objc-annotations;3.0.0 in central\n",
      "\tfound com.google.guava#guava;33.2.0-jre in central\n",
      "\tfound com.google.guava#failureaccess;1.0.2 in central\n",
      "\tfound com.google.guava#listenablefuture;9999.0-empty-to-avoid-conflict-with-guava in central\n",
      "\tfound org.checkerframework#checker-qual;3.42.0 in central\n",
      "\tfound com.google.cloud#google-cloud-bigquery;2.40.1 in central\n",
      "\tfound com.google.cloud#google-cloud-core;2.38.0 in central\n",
      "\tfound com.google.protobuf#protobuf-java-util;3.25.3 in central\n",
      "\tfound com.google.api.grpc#proto-google-iam-v1;1.34.0 in central\n",
      "\tfound com.google.cloud#google-cloud-core-http;2.38.0 in central\n",
      "\tfound com.google.api-client#google-api-client;2.4.0 in central\n",
      "\tfound com.google.oauth-client#google-oauth-client;1.35.0 in central\n",
      "\tfound com.google.http-client#google-http-client-apache-v2;1.44.1 in central\n",
      "\tfound com.google.http-client#google-http-client-appengine;1.44.1 in central\n",
      "\tfound com.google.api#gax-httpjson;2.48.1 in central\n",
      "\tfound io.opencensus#opencensus-api;0.31.1 in central\n",
      "\tfound io.opencensus#opencensus-contrib-http-util;0.31.1 in central\n",
      "\tfound com.google.http-client#google-http-client-gson;1.44.1 in central\n",
      "\tfound com.google.http-client#google-http-client;1.44.1 in central\n",
      "\tfound org.apache.httpcomponents#httpclient;4.5.14 in central\n",
      "\tfound org.apache.httpcomponents#httpcore;4.4.16 in central\n",
      "\tfound io.grpc#grpc-context;1.64.0 in central\n",
      "\tfound org.checkerframework#checker-compat-qual;2.5.6 in central\n",
      "\tfound com.google.auth#google-auth-library-credentials;1.23.0 in central\n",
      "\tfound com.google.auth#google-auth-library-oauth2-http;1.23.0 in central\n",
      "\tfound com.google.apis#google-api-services-bigquery;v2-rev20240323-2.0.0 in central\n",
      "\tfound com.google.api#gax;2.48.1 in central\n",
      "\tfound org.threeten#threetenbp;1.6.9 in central\n",
      "\tfound org.threeten#threeten-extra;1.8.0 in central\n",
      "\tfound com.google.cloud#google-cloud-bigquerystorage;3.5.1 in central\n",
      "\tfound io.grpc#grpc-util;1.64.0 in central\n",
      "\tfound io.grpc#grpc-core;1.64.0 in central\n",
      "\tfound com.google.auto.value#auto-value;1.10.4 in central\n",
      "\tfound com.google.api#gax-grpc;2.48.1 in central\n",
      "\tfound io.grpc#grpc-inprocess;1.64.0 in central\n",
      "\tfound io.grpc#grpc-alts;1.64.0 in central\n",
      "\tfound io.grpc#grpc-grpclb;1.64.0 in central\n",
      "\tfound org.conscrypt#conscrypt-openjdk-uber;2.5.2 in central\n",
      "\tfound io.grpc#grpc-auth;1.64.0 in central\n",
      "\tfound org.json#json;20231013 in central\n",
      "\tfound commons-codec#commons-codec;1.16.0 in central\n",
      "\tfound io.grpc#grpc-netty-shaded;1.64.0 in central\n",
      "\tfound org.apache.arrow#arrow-vector;16.0.0 in central\n",
      "\tfound org.apache.arrow#arrow-memory-core;16.0.0 in central\n",
      "\tfound com.fasterxml.jackson.core#jackson-core;2.17.1 in central\n",
      "\tfound com.fasterxml.jackson.core#jackson-annotations;2.17.1 in central\n",
      "\tfound com.fasterxml.jackson.core#jackson-databind;2.17.1 in central\n",
      "\tfound com.fasterxml.jackson.datatype#jackson-datatype-jsr310;2.17.1 in central\n",
      "\tfound com.google.flatbuffers#flatbuffers-java;23.5.26 in central\n",
      "\tfound org.apache.arrow#arrow-format;15.0.2 in central\n",
      "\tfound net.bytebuddy#byte-buddy;1.14.9 in central\n",
      "\tfound org.slf4j#slf4j-api;2.0.9 in central\n",
      "\tfound org.eclipse.collections#eclipse-collections;11.1.0 in central\n",
      "\tfound org.eclipse.collections#eclipse-collections-api;11.1.0 in central\n",
      "\tfound com.google.inject#guice;5.1.0 in central\n",
      "\tfound javax.inject#javax.inject;1 in central\n",
      "\tfound aopalliance#aopalliance;1.0 in central\n",
      "\tfound io.grpc#grpc-netty;1.64.0 in central\n",
      "\tfound io.netty#netty-codec-http2;4.1.109.Final in central\n",
      "\tfound io.netty#netty-common;4.1.109.Final in central\n",
      "\tfound io.netty#netty-buffer;4.1.109.Final in central\n",
      "\tfound io.netty#netty-transport;4.1.109.Final in central\n",
      "\tfound io.netty#netty-resolver;4.1.109.Final in central\n",
      "\tfound io.netty#netty-codec;4.1.109.Final in central\n",
      "\tfound io.netty#netty-handler;4.1.109.Final in central\n",
      "\tfound io.netty#netty-transport-native-unix-common;4.1.109.Final in central\n",
      "\tfound io.netty#netty-codec-http;4.1.109.Final in central\n",
      "\tfound io.netty#netty-tcnative-boringssl-static;2.0.65.Final in central\n",
      "\tfound io.netty#netty-tcnative-classes;2.0.65.Final in central\n",
      "\tfound org.apache.arrow#arrow-memory-netty;16.0.0 in central\n",
      "\tfound org.apache.arrow#arrow-memory-netty-buffer-patch;16.0.0 in central\n",
      "\tfound com.google.code.gson#gson;2.9.1 in central\n",
      "\tfound org.apache.beam#beam-sdks-java-io-hadoop-common;2.43.0 in central\n",
      "\tfound org.apache.arrow#arrow-compression;16.0.0 in central\n",
      "\tfound org.apache.commons#commons-compress;1.26.0 in central\n",
      "\tfound commons-io#commons-io;2.15.1 in central\n",
      "\tfound org.apache.commons#commons-lang3;3.14.0 in central\n",
      "\tfound com.github.luben#zstd-jni;1.4.9-1 in central\n",
      "\tfound io.grpc#grpc-protobuf-lite;1.64.0 in central\n",
      "\tfound com.google.android#annotations;4.1.1.4 in central\n",
      "\tfound io.perfmark#perfmark-api;0.27.0 in central\n",
      "\tfound org.codehaus.mojo#animal-sniffer-annotations;1.23 in central\n",
      "\tfound io.grpc#grpc-googleapis;1.64.0 in central\n",
      "\tfound io.netty#netty-handler-proxy;4.1.109.Final in central\n",
      "\tfound io.netty#netty-codec-socks;4.1.109.Final in central\n",
      "\tfound org.neo4j#neo4j-connector-apache-spark_2.12;5.3.0_for_spark_3 in central\n",
      "\tfound org.neo4j#neo4j-connector-apache-spark_2.12_common;5.3.0 in central\n",
      "\tfound org.neo4j.driver#neo4j-java-driver;4.4.13 in central\n",
      "\tfound org.reactivestreams#reactive-streams;1.0.4 in central\n",
      "\tfound org.apache.xbean#xbean-asm6-shaded;4.10 in central\n",
      "\tfound org.neo4j#neo4j-cypher-dsl;2022.9.1 in central\n",
      "\tfound org.apiguardian#apiguardian-api;1.1.2 in central\n",
      "\tfound org.xerial#sqlite-jdbc;3.47.0.0 in central\n",
      ":: resolution report :: resolve 1389ms :: artifacts dl 25ms\n",
      "\t:: modules in use:\n",
      "\taopalliance#aopalliance;1.0 from central in [default]\n",
      "\tcom.fasterxml.jackson.core#jackson-annotations;2.17.1 from central in [default]\n",
      "\tcom.fasterxml.jackson.core#jackson-core;2.17.1 from central in [default]\n",
      "\tcom.fasterxml.jackson.core#jackson-databind;2.17.1 from central in [default]\n",
      "\tcom.fasterxml.jackson.datatype#jackson-datatype-jsr310;2.17.1 from central in [default]\n",
      "\tcom.github.luben#zstd-jni;1.4.9-1 from central in [default]\n",
      "\tcom.google.android#annotations;4.1.1.4 from central in [default]\n",
      "\tcom.google.api#api-common;2.31.0 from central in [default]\n",
      "\tcom.google.api#gax;2.48.1 from central in [default]\n",
      "\tcom.google.api#gax-grpc;2.48.1 from central in [default]\n",
      "\tcom.google.api#gax-httpjson;2.48.1 from central in [default]\n",
      "\tcom.google.api-client#google-api-client;2.4.0 from central in [default]\n",
      "\tcom.google.api.grpc#grpc-google-cloud-bigquerystorage-v1;3.5.1 from central in [default]\n",
      "\tcom.google.api.grpc#proto-google-cloud-bigquerystorage-v1;3.5.1 from central in [default]\n",
      "\tcom.google.api.grpc#proto-google-common-protos;2.39.0 from central in [default]\n",
      "\tcom.google.api.grpc#proto-google-iam-v1;1.34.0 from central in [default]\n",
      "\tcom.google.apis#google-api-services-bigquery;v2-rev20240323-2.0.0 from central in [default]\n",
      "\tcom.google.auth#google-auth-library-credentials;1.23.0 from central in [default]\n",
      "\tcom.google.auth#google-auth-library-oauth2-http;1.23.0 from central in [default]\n",
      "\tcom.google.auto.value#auto-value;1.10.4 from central in [default]\n",
      "\tcom.google.auto.value#auto-value-annotations;1.10.4 from central in [default]\n",
      "\tcom.google.cloud#google-cloud-bigquery;2.40.1 from central in [default]\n",
      "\tcom.google.cloud#google-cloud-bigquerystorage;3.5.1 from central in [default]\n",
      "\tcom.google.cloud#google-cloud-core;2.38.0 from central in [default]\n",
      "\tcom.google.cloud#google-cloud-core-http;2.38.0 from central in [default]\n",
      "\tcom.google.cloud.spark#bigquery-connector-common;0.39.0 from central in [default]\n",
      "\tcom.google.cloud.spark#spark-3.5-bigquery;0.39.0 from central in [default]\n",
      "\tcom.google.cloud.spark#spark-bigquery-connector-common;0.39.0 from central in [default]\n",
      "\tcom.google.cloud.spark#spark-bigquery-dsv2-common;0.39.0 from central in [default]\n",
      "\tcom.google.code.findbugs#jsr305;3.0.2 from central in [default]\n",
      "\tcom.google.code.gson#gson;2.9.1 from central in [default]\n",
      "\tcom.google.errorprone#error_prone_annotations;2.23.0 from central in [default]\n",
      "\tcom.google.flatbuffers#flatbuffers-java;23.5.26 from central in [default]\n",
      "\tcom.google.guava#failureaccess;1.0.2 from central in [default]\n",
      "\tcom.google.guava#guava;33.2.0-jre from central in [default]\n",
      "\tcom.google.guava#listenablefuture;9999.0-empty-to-avoid-conflict-with-guava from central in [default]\n",
      "\tcom.google.http-client#google-http-client;1.44.1 from central in [default]\n",
      "\tcom.google.http-client#google-http-client-apache-v2;1.44.1 from central in [default]\n",
      "\tcom.google.http-client#google-http-client-appengine;1.44.1 from central in [default]\n",
      "\tcom.google.http-client#google-http-client-gson;1.44.1 from central in [default]\n",
      "\tcom.google.inject#guice;5.1.0 from central in [default]\n",
      "\tcom.google.j2objc#j2objc-annotations;3.0.0 from central in [default]\n",
      "\tcom.google.oauth-client#google-oauth-client;1.35.0 from central in [default]\n",
      "\tcom.google.protobuf#protobuf-java;3.25.3 from central in [default]\n",
      "\tcom.google.protobuf#protobuf-java-util;3.25.3 from central in [default]\n",
      "\tcommons-codec#commons-codec;1.16.0 from central in [default]\n",
      "\tcommons-io#commons-io;2.15.1 from central in [default]\n",
      "\tio.grpc#grpc-alts;1.64.0 from central in [default]\n",
      "\tio.grpc#grpc-api;1.64.0 from central in [default]\n",
      "\tio.grpc#grpc-auth;1.64.0 from central in [default]\n",
      "\tio.grpc#grpc-context;1.64.0 from central in [default]\n",
      "\tio.grpc#grpc-core;1.64.0 from central in [default]\n",
      "\tio.grpc#grpc-googleapis;1.64.0 from central in [default]\n",
      "\tio.grpc#grpc-grpclb;1.64.0 from central in [default]\n",
      "\tio.grpc#grpc-inprocess;1.64.0 from central in [default]\n",
      "\tio.grpc#grpc-netty;1.64.0 from central in [default]\n",
      "\tio.grpc#grpc-netty-shaded;1.64.0 from central in [default]\n",
      "\tio.grpc#grpc-protobuf;1.64.0 from central in [default]\n",
      "\tio.grpc#grpc-protobuf-lite;1.64.0 from central in [default]\n",
      "\tio.grpc#grpc-stub;1.64.0 from central in [default]\n",
      "\tio.grpc#grpc-util;1.64.0 from central in [default]\n",
      "\tio.netty#netty-buffer;4.1.109.Final from central in [default]\n",
      "\tio.netty#netty-codec;4.1.109.Final from central in [default]\n",
      "\tio.netty#netty-codec-http;4.1.109.Final from central in [default]\n",
      "\tio.netty#netty-codec-http2;4.1.109.Final from central in [default]\n",
      "\tio.netty#netty-codec-socks;4.1.109.Final from central in [default]\n",
      "\tio.netty#netty-common;4.1.109.Final from central in [default]\n",
      "\tio.netty#netty-handler;4.1.109.Final from central in [default]\n",
      "\tio.netty#netty-handler-proxy;4.1.109.Final from central in [default]\n",
      "\tio.netty#netty-resolver;4.1.109.Final from central in [default]\n",
      "\tio.netty#netty-tcnative-boringssl-static;2.0.65.Final from central in [default]\n",
      "\tio.netty#netty-tcnative-classes;2.0.65.Final from central in [default]\n",
      "\tio.netty#netty-transport;4.1.109.Final from central in [default]\n",
      "\tio.netty#netty-transport-native-unix-common;4.1.109.Final from central in [default]\n",
      "\tio.opencensus#opencensus-api;0.31.1 from central in [default]\n",
      "\tio.opencensus#opencensus-contrib-http-util;0.31.1 from central in [default]\n",
      "\tio.perfmark#perfmark-api;0.27.0 from central in [default]\n",
      "\tjavax.annotation#javax.annotation-api;1.3.2 from central in [default]\n",
      "\tjavax.inject#javax.inject;1 from central in [default]\n",
      "\tnet.bytebuddy#byte-buddy;1.14.9 from central in [default]\n",
      "\torg.apache.arrow#arrow-compression;16.0.0 from central in [default]\n",
      "\torg.apache.arrow#arrow-format;15.0.2 from central in [default]\n",
      "\torg.apache.arrow#arrow-memory-core;16.0.0 from central in [default]\n",
      "\torg.apache.arrow#arrow-memory-netty;16.0.0 from central in [default]\n",
      "\torg.apache.arrow#arrow-memory-netty-buffer-patch;16.0.0 from central in [default]\n",
      "\torg.apache.arrow#arrow-vector;16.0.0 from central in [default]\n",
      "\torg.apache.beam#beam-sdks-java-io-hadoop-common;2.43.0 from central in [default]\n",
      "\torg.apache.commons#commons-compress;1.26.0 from central in [default]\n",
      "\torg.apache.commons#commons-lang3;3.14.0 from central in [default]\n",
      "\torg.apache.httpcomponents#httpclient;4.5.14 from central in [default]\n",
      "\torg.apache.httpcomponents#httpcore;4.4.16 from central in [default]\n",
      "\torg.apache.xbean#xbean-asm6-shaded;4.10 from central in [default]\n",
      "\torg.apiguardian#apiguardian-api;1.1.2 from central in [default]\n",
      "\torg.checkerframework#checker-compat-qual;2.5.6 from central in [default]\n",
      "\torg.checkerframework#checker-qual;3.42.0 from central in [default]\n",
      "\torg.codehaus.mojo#animal-sniffer-annotations;1.23 from central in [default]\n",
      "\torg.conscrypt#conscrypt-openjdk-uber;2.5.2 from central in [default]\n",
      "\torg.eclipse.collections#eclipse-collections;11.1.0 from central in [default]\n",
      "\torg.eclipse.collections#eclipse-collections-api;11.1.0 from central in [default]\n",
      "\torg.json#json;20231013 from central in [default]\n",
      "\torg.neo4j#neo4j-connector-apache-spark_2.12;5.3.0_for_spark_3 from central in [default]\n",
      "\torg.neo4j#neo4j-connector-apache-spark_2.12_common;5.3.0 from central in [default]\n",
      "\torg.neo4j#neo4j-cypher-dsl;2022.9.1 from central in [default]\n",
      "\torg.neo4j.driver#neo4j-java-driver;4.4.13 from central in [default]\n",
      "\torg.reactivestreams#reactive-streams;1.0.4 from central in [default]\n",
      "\torg.slf4j#slf4j-api;2.0.9 from central in [default]\n",
      "\torg.threeten#threeten-extra;1.8.0 from central in [default]\n",
      "\torg.threeten#threetenbp;1.6.9 from central in [default]\n",
      "\torg.xerial#sqlite-jdbc;3.47.0.0 from central in [default]\n",
      "\t:: evicted modules:\n",
      "\tcom.google.code.gson#gson;2.10.1 by [com.google.code.gson#gson;2.9.1] in [default]\n",
      "\torg.apache.arrow#arrow-format;16.0.0 by [org.apache.arrow#arrow-format;15.0.2] in [default]\n",
      "\torg.slf4j#slf4j-api;2.0.11 by [org.slf4j#slf4j-api;2.0.9] in [default]\n",
      "\torg.checkerframework#checker-qual;3.10.0 by [org.checkerframework#checker-qual;3.42.0] in [default]\n",
      "\tio.perfmark#perfmark-api;0.26.0 by [io.perfmark#perfmark-api;0.27.0] in [default]\n",
      "\t---------------------------------------------------------------------\n",
      "\t|                  |            modules            ||   artifacts   |\n",
      "\t|       conf       | number| search|dwnlded|evicted|| number|dwnlded|\n",
      "\t---------------------------------------------------------------------\n",
      "\t|      default     |  114  |   0   |   0   |   5   ||  109  |   0   |\n",
      "\t---------------------------------------------------------------------\n",
      ":: retrieving :: org.apache.spark#spark-submit-parent-81134794-9c2b-47e2-9176-a86a988885f9\n",
      "\tconfs: [default]\n",
      "\t0 artifacts copied, 109 already retrieved (0kB/9ms)\n",
      "25/01/06 10:23:22 WARN NativeCodeLoader: Unable to load native-hadoop library for your platform... using builtin-java classes where applicable\n",
      "Setting default log level to \"WARN\".\n",
      "To adjust logging level use sc.setLogLevel(newLevel). For SparkR, use setLogLevel(newLevel).\n"
     ]
    },
    {
     "data": {
      "text/html": [
       "<pre style=\"white-space:pre;overflow-x:auto;line-height:normal;font-family:Menlo,'DejaVu Sans Mono',consolas,'Courier New',monospace\"><span style=\"color: #7fbfbf; text-decoration-color: #7fbfbf\">[01/06/25 10:23:28] </span><span style=\"color: #000080; text-decoration-color: #000080\">INFO    </span> Loading data from <span style=\"color: #ff8700; text-decoration-color: #ff8700\">integration.prm.filtered_edges_agg_count</span>         <a href=\"file:///Users/kschaper/Monarch/everycure/matrix/pipelines/matrix/.venv/lib/python3.11/site-packages/kedro/io/data_catalog.py\" target=\"_blank\"><span style=\"color: #7f7f7f; text-decoration-color: #7f7f7f\">data_catalog.py</span></a><span style=\"color: #7f7f7f; text-decoration-color: #7f7f7f\">:</span><a href=\"file:///Users/kschaper/Monarch/everycure/matrix/pipelines/matrix/.venv/lib/python3.11/site-packages/kedro/io/data_catalog.py#508\" target=\"_blank\"><span style=\"color: #7f7f7f; text-decoration-color: #7f7f7f\">508</span></a>\n",
       "<span style=\"color: #7fbfbf; text-decoration-color: #7fbfbf\">                    </span>         <span style=\"font-weight: bold\">(</span>LazySparkDataset<span style=\"font-weight: bold\">)</span><span style=\"color: #808000; text-decoration-color: #808000\">...</span>                                              <span style=\"color: #7f7f7f; text-decoration-color: #7f7f7f\">                   </span>\n",
       "</pre>\n"
      ],
      "text/plain": [
       "\u001b[2;36m[01/06/25 10:23:28]\u001b[0m\u001b[2;36m \u001b[0m\u001b[34mINFO    \u001b[0m Loading data from \u001b[38;5;208mintegration.prm.filtered_edges_agg_count\u001b[0m         \u001b]8;id=622940;file:///Users/kschaper/Monarch/everycure/matrix/pipelines/matrix/.venv/lib/python3.11/site-packages/kedro/io/data_catalog.py\u001b\\\u001b[2mdata_catalog.py\u001b[0m\u001b]8;;\u001b\\\u001b[2m:\u001b[0m\u001b]8;id=882277;file:///Users/kschaper/Monarch/everycure/matrix/pipelines/matrix/.venv/lib/python3.11/site-packages/kedro/io/data_catalog.py#508\u001b\\\u001b[2m508\u001b[0m\u001b]8;;\u001b\\\n",
       "\u001b[2;36m                    \u001b[0m         \u001b[1m(\u001b[0mLazySparkDataset\u001b[1m)\u001b[0m\u001b[33m...\u001b[0m                                              \u001b[2m                   \u001b[0m\n"
      ]
     },
     "metadata": {},
     "output_type": "display_data"
    },
    {
     "name": "stdout",
     "output_type": "stream",
     "text": [
      "755 88019\n",
      "+--------------------+----------------+--------------------+-------+\n",
      "|            category|          prefix|upstream_data_source|  count|\n",
      "+--------------------+----------------+--------------------+-------+\n",
      "|biolink:ChemicalE...|        DRUGBANK|           [robokop]|    166|\n",
      "|        biolink:Drug|           CHEBI|           [robokop]|    413|\n",
      "|     biolink:Pathway|           MONDO|   [rtxkg2, robokop]|    149|\n",
      "|        biolink:Cell|   CHEMBL.TARGET|            [rtxkg2]|     15|\n",
      "|biolink:Phenotypi...|             EFO|            [rtxkg2]|     32|\n",
      "|        biolink:Food|        DRUGBANK|            [rtxkg2]|    105|\n",
      "|biolink:Molecular...|           REACT|           [robokop]|  73116|\n",
      "|     biolink:Disease|            MESH|   [rtxkg2, robokop]|     10|\n",
      "|biolink:OrganismT...|       NCBITaxon|           [robokop]|2466405|\n",
      "|     biolink:Disease|            OMIM|           [robokop]|     47|\n",
      "|biolink:Biologica...|            NCIT|            [rtxkg2]|    155|\n",
      "|biolink:ChemicalE...|PUBCHEM.COMPOUND|            [rtxkg2]|  28203|\n",
      "|        biolink:Drug|            UMLS|            [rtxkg2]|  13694|\n",
      "|        biolink:Drug|             PDQ|            [rtxkg2]|     93|\n",
      "|biolink:Biologica...|           MPATH|            [rtxkg2]|     38|\n",
      "|     biolink:Pathway|           SMPDB|           [robokop]|    185|\n",
      "|biolink:CellularC...|            UMLS|   [rtxkg2, robokop]|   1158|\n",
      "|        biolink:Cell|            UMLS|           [robokop]|    464|\n",
      "|biolink:Biologica...|             FMA|            [rtxkg2]|      2|\n",
      "|biolink:NucleicAc...|        ORPHANET|            [rtxkg2]|     23|\n",
      "+--------------------+----------------+--------------------+-------+\n",
      "only showing top 20 rows\n",
      "\n",
      "+----------------+--------------------+--------------------+-------------+--------------------+------------------------+---------------------------+--------------------+-----+\n",
      "|  subject_prefix|    subject_category|           predicate|object_prefix|     object_category|primary_knowledge_source|aggregator_knowledge_source|upstream_data_source|count|\n",
      "+----------------+--------------------+--------------------+-------------+--------------------+------------------------+---------------------------+--------------------+-----+\n",
      "|           CHEBI|biolink:Molecular...| biolink:subclass_of|        CHEBI|biolink:Molecular...|           infores:chebi|       [infores:chebi, i...|   [rtxkg2, robokop]| 2577|\n",
      "|        NCBIGene|biolink:NucleicAc...|    biolink:has_part|        CHEBI|        biolink:Drug|        infores:semmeddb|         [infores:semmeddb]|            [rtxkg2]|   75|\n",
      "|           CHEBI|        biolink:Drug|  biolink:related_to|        CHEBI|        biolink:Drug|            infores:mesh|       [infores:mesh, in...|            [rtxkg2]|   65|\n",
      "|           CHEBI|        biolink:Drug| biolink:subclass_of|        CHEBI|biolink:ChemicalE...|       infores:ubergraph|                         []|           [robokop]|18620|\n",
      "|            UMLS|biolink:Molecular...|   biolink:has_input|        CHEBI| biolink:Polypeptide|         infores:go-plus|          [infores:go-plus]|            [rtxkg2]|    4|\n",
      "|            MESH|biolink:Physiolog...|   biolink:occurs_in|CHEMBL.TARGET|        biolink:Drug|        infores:semmeddb|         [infores:semmeddb]|            [rtxkg2]|   43|\n",
      "|          UBERON|biolink:Anatomica...|  biolink:related_to|CHEMBL.TARGET|        biolink:Cell|    infores:umls-meta...|       [infores:umls-met...|            [rtxkg2]|    2|\n",
      "|            UMLS|biolink:Anatomica...|  biolink:located_in|CHEMBL.TARGET|        biolink:Cell|        infores:semmeddb|         [infores:semmeddb]|            [rtxkg2]|    2|\n",
      "|PUBCHEM.COMPOUND|        biolink:Drug|biolink:physicall...|     DRUGBANK|biolink:SmallMole...|        infores:drugbank|         [infores:drugbank]|            [rtxkg2]|   51|\n",
      "|           CHEBI|        biolink:Drug|biolink:physicall...|     DRUGBANK|biolink:Molecular...|        infores:drugbank|         [infores:drugbank]|            [rtxkg2]| 4226|\n",
      "|            NCIT|     biolink:Pathway|biolink:has_parti...|          FMA|        biolink:Drug|            infores:ncit|             [infores:ncit]|            [rtxkg2]|    5|\n",
      "|            UMLS|        biolink:Cell| biolink:subclass_of|          FMA|        biolink:Cell|      infores:loinc-umls|       [infores:loinc-umls]|            [rtxkg2]|  173|\n",
      "|              CL|        biolink:Cell|      biolink:causes|           GO|biolink:Biologica...|       infores:ubergraph|                         []|           [robokop]|   25|\n",
      "|        NCBIGene|     biolink:Protein|  biolink:related_to|           GO|biolink:Biologica...|    infores:ensembl-gene|       [infores:ensembl-...|            [rtxkg2]|  280|\n",
      "|            OMIM|     biolink:Disease| biolink:subclass_of|           HP|biolink:Phenotypi...|             infores:hpo|              [infores:hpo]|            [rtxkg2]|  393|\n",
      "|           CHEBI|        biolink:Drug|  biolink:related_to|         MESH|    biolink:Behavior|     infores:medlineplus|       [infores:medlinep...|            [rtxkg2]|    1|\n",
      "|             FMA|     biolink:Protein|    biolink:has_part|         MESH|  biolink:GeneFamily|        infores:semmeddb|         [infores:semmeddb]|            [rtxkg2]|    1|\n",
      "|            MESH|    biolink:Behavior|  biolink:related_to|         MESH|    biolink:Behavior|    infores:umls-meta...|       [infores:umls-met...|            [rtxkg2]|   29|\n",
      "|        NCBIGene|        biolink:Drug|  biolink:related_to|         MESH|     biolink:Pathway|    infores:ensembl-gene|       [infores:ensembl-...|            [rtxkg2]|    2|\n",
      "|             PSY|biolink:Physiolog...| biolink:subclass_of|         MESH|biolink:Physiolog...|        infores:psy-umls|         [infores:psy-umls]|            [rtxkg2]|   16|\n",
      "+----------------+--------------------+--------------------+-------------+--------------------+------------------------+---------------------------+--------------------+-----+\n",
      "only showing top 20 rows\n",
      "\n"
     ]
    }
   ],
   "source": [
    "filtered_nodes_agg_count = catalog.load(\"integration.prm.filtered_nodes_agg_count\")\n",
    "filtered_edges_agg_count = catalog.load(\"integration.prm.filtered_edges_agg_count\")\n",
    "print(filtered_nodes_agg_count.count(), filtered_edges_agg_count.count())\n",
    "filtered_nodes_agg_count.show()\n",
    "filtered_edges_agg_count.show()"
   ]
  },
  {
   "cell_type": "code",
   "execution_count": 14,
   "metadata": {},
   "outputs": [
    {
     "name": "stdout",
     "output_type": "stream",
     "text": [
      "The kedro.ipython extension is already loaded. To reload it, use:\n",
      "  %reload_ext kedro.ipython\n"
     ]
    },
    {
     "data": {
      "text/html": [
       "<pre style=\"white-space:pre;overflow-x:auto;line-height:normal;font-family:Menlo,'DejaVu Sans Mono',consolas,'Courier New',monospace\"><span style=\"color: #7fbfbf; text-decoration-color: #7fbfbf\">[01/28/25 10:31:58] </span><span style=\"color: #000080; text-decoration-color: #000080\">INFO    </span> Resolved project path as:                                              <a href=\"file:///Users/kschaper/Monarch/everycure/matrix/pipelines/matrix/.venv/lib/python3.11/site-packages/kedro/ipython/__init__.py\" target=\"_blank\"><span style=\"color: #7f7f7f; text-decoration-color: #7f7f7f\">__init__.py</span></a><span style=\"color: #7f7f7f; text-decoration-color: #7f7f7f\">:</span><a href=\"file:///Users/kschaper/Monarch/everycure/matrix/pipelines/matrix/.venv/lib/python3.11/site-packages/kedro/ipython/__init__.py#171\" target=\"_blank\"><span style=\"color: #7f7f7f; text-decoration-color: #7f7f7f\">171</span></a>\n",
       "<span style=\"color: #7fbfbf; text-decoration-color: #7fbfbf\">                    </span>         <span style=\"color: #800080; text-decoration-color: #800080\">/Users/kschaper/Monarch/everycure/matrix/pipelines/</span><span style=\"color: #ff00ff; text-decoration-color: #ff00ff\">matrix.</span>             <span style=\"color: #7f7f7f; text-decoration-color: #7f7f7f\">               </span>\n",
       "<span style=\"color: #7fbfbf; text-decoration-color: #7fbfbf\">                    </span>         To set a different path, run <span style=\"color: #008000; text-decoration-color: #008000\">'%reload_kedro &lt;project_root&gt;'</span>            <span style=\"color: #7f7f7f; text-decoration-color: #7f7f7f\">               </span>\n",
       "</pre>\n"
      ],
      "text/plain": [
       "\u001b[2;36m[01/28/25 10:31:58]\u001b[0m\u001b[2;36m \u001b[0m\u001b[34mINFO    \u001b[0m Resolved project path as:                                              \u001b]8;id=427348;file:///Users/kschaper/Monarch/everycure/matrix/pipelines/matrix/.venv/lib/python3.11/site-packages/kedro/ipython/__init__.py\u001b\\\u001b[2m__init__.py\u001b[0m\u001b]8;;\u001b\\\u001b[2m:\u001b[0m\u001b]8;id=497699;file:///Users/kschaper/Monarch/everycure/matrix/pipelines/matrix/.venv/lib/python3.11/site-packages/kedro/ipython/__init__.py#171\u001b\\\u001b[2m171\u001b[0m\u001b]8;;\u001b\\\n",
       "\u001b[2;36m                    \u001b[0m         \u001b[35m/Users/kschaper/Monarch/everycure/matrix/pipelines/\u001b[0m\u001b[95mmatrix.\u001b[0m             \u001b[2m               \u001b[0m\n",
       "\u001b[2;36m                    \u001b[0m         To set a different path, run \u001b[32m'%reload_kedro \u001b[0m\u001b[32m<\u001b[0m\u001b[32mproject_root\u001b[0m\u001b[32m>\u001b[0m\u001b[32m'\u001b[0m            \u001b[2m               \u001b[0m\n"
      ]
     },
     "metadata": {},
     "output_type": "display_data"
    },
    {
     "data": {
      "text/html": [
       "<pre style=\"white-space:pre;overflow-x:auto;line-height:normal;font-family:Menlo,'DejaVu Sans Mono',consolas,'Courier New',monospace\"><span style=\"color: #7fbfbf; text-decoration-color: #7fbfbf\">[01/28/25 10:31:59] </span><span style=\"color: #000080; text-decoration-color: #000080\">INFO    </span> Remembering context for context export later                              <a href=\"file:///Users/kschaper/Monarch/everycure/matrix/pipelines/matrix/src/matrix/hooks.py\" target=\"_blank\"><span style=\"color: #7f7f7f; text-decoration-color: #7f7f7f\">hooks.py</span></a><span style=\"color: #7f7f7f; text-decoration-color: #7f7f7f\">:</span><a href=\"file:///Users/kschaper/Monarch/everycure/matrix/pipelines/matrix/src/matrix/hooks.py#280\" target=\"_blank\"><span style=\"color: #7f7f7f; text-decoration-color: #7f7f7f\">280</span></a>\n",
       "</pre>\n"
      ],
      "text/plain": [
       "\u001b[2;36m[01/28/25 10:31:59]\u001b[0m\u001b[2;36m \u001b[0m\u001b[34mINFO    \u001b[0m Remembering context for context export later                              \u001b]8;id=1281;file:///Users/kschaper/Monarch/everycure/matrix/pipelines/matrix/src/matrix/hooks.py\u001b\\\u001b[2mhooks.py\u001b[0m\u001b]8;;\u001b\\\u001b[2m:\u001b[0m\u001b]8;id=149187;file:///Users/kschaper/Monarch/everycure/matrix/pipelines/matrix/src/matrix/hooks.py#280\u001b\\\u001b[2m280\u001b[0m\u001b]8;;\u001b\\\n"
      ]
     },
     "metadata": {},
     "output_type": "display_data"
    },
    {
     "data": {
      "text/html": [
       "<pre style=\"white-space:pre;overflow-x:auto;line-height:normal;font-family:Menlo,'DejaVu Sans Mono',consolas,'Courier New',monospace\"><span style=\"color: #7fbfbf; text-decoration-color: #7fbfbf\">                    </span><span style=\"color: #000080; text-decoration-color: #000080\">INFO    </span> Remembering context for spark later                                       <a href=\"file:///Users/kschaper/Monarch/everycure/matrix/pipelines/matrix/src/matrix/hooks.py\" target=\"_blank\"><span style=\"color: #7f7f7f; text-decoration-color: #7f7f7f\">hooks.py</span></a><span style=\"color: #7f7f7f; text-decoration-color: #7f7f7f\">:</span><a href=\"file:///Users/kschaper/Monarch/everycure/matrix/pipelines/matrix/src/matrix/hooks.py#167\" target=\"_blank\"><span style=\"color: #7f7f7f; text-decoration-color: #7f7f7f\">167</span></a>\n",
       "</pre>\n"
      ],
      "text/plain": [
       "\u001b[2;36m                   \u001b[0m\u001b[2;36m \u001b[0m\u001b[34mINFO    \u001b[0m Remembering context for spark later                                       \u001b]8;id=792094;file:///Users/kschaper/Monarch/everycure/matrix/pipelines/matrix/src/matrix/hooks.py\u001b\\\u001b[2mhooks.py\u001b[0m\u001b]8;;\u001b\\\u001b[2m:\u001b[0m\u001b]8;id=958835;file:///Users/kschaper/Monarch/everycure/matrix/pipelines/matrix/src/matrix/hooks.py#167\u001b\\\u001b[2m167\u001b[0m\u001b]8;;\u001b\\\n"
      ]
     },
     "metadata": {},
     "output_type": "display_data"
    },
    {
     "data": {
      "text/html": [
       "<pre style=\"white-space:pre;overflow-x:auto;line-height:normal;font-family:Menlo,'DejaVu Sans Mono',consolas,'Courier New',monospace\"><span style=\"color: #7fbfbf; text-decoration-color: #7fbfbf\">[01/28/25 10:32:00] </span><span style=\"color: #000080; text-decoration-color: #000080\">INFO    </span> Kedro project matrix                                                   <a href=\"file:///Users/kschaper/Monarch/everycure/matrix/pipelines/matrix/.venv/lib/python3.11/site-packages/kedro/ipython/__init__.py\" target=\"_blank\"><span style=\"color: #7f7f7f; text-decoration-color: #7f7f7f\">__init__.py</span></a><span style=\"color: #7f7f7f; text-decoration-color: #7f7f7f\">:</span><a href=\"file:///Users/kschaper/Monarch/everycure/matrix/pipelines/matrix/.venv/lib/python3.11/site-packages/kedro/ipython/__init__.py#141\" target=\"_blank\"><span style=\"color: #7f7f7f; text-decoration-color: #7f7f7f\">141</span></a>\n",
       "</pre>\n"
      ],
      "text/plain": [
       "\u001b[2;36m[01/28/25 10:32:00]\u001b[0m\u001b[2;36m \u001b[0m\u001b[34mINFO    \u001b[0m Kedro project matrix                                                   \u001b]8;id=612288;file:///Users/kschaper/Monarch/everycure/matrix/pipelines/matrix/.venv/lib/python3.11/site-packages/kedro/ipython/__init__.py\u001b\\\u001b[2m__init__.py\u001b[0m\u001b]8;;\u001b\\\u001b[2m:\u001b[0m\u001b]8;id=523961;file:///Users/kschaper/Monarch/everycure/matrix/pipelines/matrix/.venv/lib/python3.11/site-packages/kedro/ipython/__init__.py#141\u001b\\\u001b[2m141\u001b[0m\u001b]8;;\u001b\\\n"
      ]
     },
     "metadata": {},
     "output_type": "display_data"
    },
    {
     "data": {
      "text/html": [
       "<pre style=\"white-space:pre;overflow-x:auto;line-height:normal;font-family:Menlo,'DejaVu Sans Mono',consolas,'Courier New',monospace\"><span style=\"color: #7fbfbf; text-decoration-color: #7fbfbf\">                    </span><span style=\"color: #000080; text-decoration-color: #000080\">INFO    </span> Defined global variable <span style=\"color: #008000; text-decoration-color: #008000\">'context'</span>, <span style=\"color: #008000; text-decoration-color: #008000\">'session'</span>, <span style=\"color: #008000; text-decoration-color: #008000\">'catalog'</span> and            <a href=\"file:///Users/kschaper/Monarch/everycure/matrix/pipelines/matrix/.venv/lib/python3.11/site-packages/kedro/ipython/__init__.py\" target=\"_blank\"><span style=\"color: #7f7f7f; text-decoration-color: #7f7f7f\">__init__.py</span></a><span style=\"color: #7f7f7f; text-decoration-color: #7f7f7f\">:</span><a href=\"file:///Users/kschaper/Monarch/everycure/matrix/pipelines/matrix/.venv/lib/python3.11/site-packages/kedro/ipython/__init__.py#142\" target=\"_blank\"><span style=\"color: #7f7f7f; text-decoration-color: #7f7f7f\">142</span></a>\n",
       "<span style=\"color: #7fbfbf; text-decoration-color: #7fbfbf\">                    </span>         <span style=\"color: #008000; text-decoration-color: #008000\">'pipelines'</span>                                                            <span style=\"color: #7f7f7f; text-decoration-color: #7f7f7f\">               </span>\n",
       "</pre>\n"
      ],
      "text/plain": [
       "\u001b[2;36m                   \u001b[0m\u001b[2;36m \u001b[0m\u001b[34mINFO    \u001b[0m Defined global variable \u001b[32m'context'\u001b[0m, \u001b[32m'session'\u001b[0m, \u001b[32m'catalog'\u001b[0m and            \u001b]8;id=540445;file:///Users/kschaper/Monarch/everycure/matrix/pipelines/matrix/.venv/lib/python3.11/site-packages/kedro/ipython/__init__.py\u001b\\\u001b[2m__init__.py\u001b[0m\u001b]8;;\u001b\\\u001b[2m:\u001b[0m\u001b]8;id=316453;file:///Users/kschaper/Monarch/everycure/matrix/pipelines/matrix/.venv/lib/python3.11/site-packages/kedro/ipython/__init__.py#142\u001b\\\u001b[2m142\u001b[0m\u001b]8;;\u001b\\\n",
       "\u001b[2;36m                    \u001b[0m         \u001b[32m'pipelines'\u001b[0m                                                            \u001b[2m               \u001b[0m\n"
      ]
     },
     "metadata": {},
     "output_type": "display_data"
    },
    {
     "data": {
      "text/html": [
       "<pre style=\"white-space:pre;overflow-x:auto;line-height:normal;font-family:Menlo,'DejaVu Sans Mono',consolas,'Courier New',monospace\"><span style=\"color: #7fbfbf; text-decoration-color: #7fbfbf\">                    </span><span style=\"color: #000080; text-decoration-color: #000080\">INFO    </span> Registered line magic <span style=\"color: #008000; text-decoration-color: #008000\">'run_viz'</span>                                        <a href=\"file:///Users/kschaper/Monarch/everycure/matrix/pipelines/matrix/.venv/lib/python3.11/site-packages/kedro/ipython/__init__.py\" target=\"_blank\"><span style=\"color: #7f7f7f; text-decoration-color: #7f7f7f\">__init__.py</span></a><span style=\"color: #7f7f7f; text-decoration-color: #7f7f7f\">:</span><a href=\"file:///Users/kschaper/Monarch/everycure/matrix/pipelines/matrix/.venv/lib/python3.11/site-packages/kedro/ipython/__init__.py#148\" target=\"_blank\"><span style=\"color: #7f7f7f; text-decoration-color: #7f7f7f\">148</span></a>\n",
       "</pre>\n"
      ],
      "text/plain": [
       "\u001b[2;36m                   \u001b[0m\u001b[2;36m \u001b[0m\u001b[34mINFO    \u001b[0m Registered line magic \u001b[32m'run_viz'\u001b[0m                                        \u001b]8;id=536752;file:///Users/kschaper/Monarch/everycure/matrix/pipelines/matrix/.venv/lib/python3.11/site-packages/kedro/ipython/__init__.py\u001b\\\u001b[2m__init__.py\u001b[0m\u001b]8;;\u001b\\\u001b[2m:\u001b[0m\u001b]8;id=44517;file:///Users/kschaper/Monarch/everycure/matrix/pipelines/matrix/.venv/lib/python3.11/site-packages/kedro/ipython/__init__.py#148\u001b\\\u001b[2m148\u001b[0m\u001b]8;;\u001b\\\n"
      ]
     },
     "metadata": {},
     "output_type": "display_data"
    },
    {
     "data": {
      "text/html": [
       "<pre style=\"white-space:pre;overflow-x:auto;line-height:normal;font-family:Menlo,'DejaVu Sans Mono',consolas,'Courier New',monospace\"><span style=\"color: #7fbfbf; text-decoration-color: #7fbfbf\">                    </span><span style=\"color: #000080; text-decoration-color: #000080\">INFO    </span> Loading data from <span style=\"color: #ff8700; text-decoration-color: #ff8700\">integration.prm.filtered_nodes_agg_count</span>         <a href=\"file:///Users/kschaper/Monarch/everycure/matrix/pipelines/matrix/.venv/lib/python3.11/site-packages/kedro/io/data_catalog.py\" target=\"_blank\"><span style=\"color: #7f7f7f; text-decoration-color: #7f7f7f\">data_catalog.py</span></a><span style=\"color: #7f7f7f; text-decoration-color: #7f7f7f\">:</span><a href=\"file:///Users/kschaper/Monarch/everycure/matrix/pipelines/matrix/.venv/lib/python3.11/site-packages/kedro/io/data_catalog.py#508\" target=\"_blank\"><span style=\"color: #7f7f7f; text-decoration-color: #7f7f7f\">508</span></a>\n",
       "<span style=\"color: #7fbfbf; text-decoration-color: #7fbfbf\">                    </span>         <span style=\"font-weight: bold\">(</span>LazySparkDataset<span style=\"font-weight: bold\">)</span><span style=\"color: #808000; text-decoration-color: #808000\">...</span>                                              <span style=\"color: #7f7f7f; text-decoration-color: #7f7f7f\">                   </span>\n",
       "</pre>\n"
      ],
      "text/plain": [
       "\u001b[2;36m                   \u001b[0m\u001b[2;36m \u001b[0m\u001b[34mINFO    \u001b[0m Loading data from \u001b[38;5;208mintegration.prm.filtered_nodes_agg_count\u001b[0m         \u001b]8;id=665165;file:///Users/kschaper/Monarch/everycure/matrix/pipelines/matrix/.venv/lib/python3.11/site-packages/kedro/io/data_catalog.py\u001b\\\u001b[2mdata_catalog.py\u001b[0m\u001b]8;;\u001b\\\u001b[2m:\u001b[0m\u001b]8;id=698751;file:///Users/kschaper/Monarch/everycure/matrix/pipelines/matrix/.venv/lib/python3.11/site-packages/kedro/io/data_catalog.py#508\u001b\\\u001b[2m508\u001b[0m\u001b]8;;\u001b\\\n",
       "\u001b[2;36m                    \u001b[0m         \u001b[1m(\u001b[0mLazySparkDataset\u001b[1m)\u001b[0m\u001b[33m...\u001b[0m                                              \u001b[2m                   \u001b[0m\n"
      ]
     },
     "metadata": {},
     "output_type": "display_data"
    },
    {
     "data": {
      "text/html": [
       "<pre style=\"white-space:pre;overflow-x:auto;line-height:normal;font-family:Menlo,'DejaVu Sans Mono',consolas,'Courier New',monospace\"><span style=\"color: #7fbfbf; text-decoration-color: #7fbfbf\">                    </span><span style=\"color: #808000; text-decoration-color: #808000\">WARNING </span> we are killing spark to create a fresh one                                <a href=\"file:///Users/kschaper/Monarch/everycure/matrix/pipelines/matrix/src/matrix/hooks.py\" target=\"_blank\"><span style=\"color: #7f7f7f; text-decoration-color: #7f7f7f\">hooks.py</span></a><span style=\"color: #7f7f7f; text-decoration-color: #7f7f7f\">:</span><a href=\"file:///Users/kschaper/Monarch/everycure/matrix/pipelines/matrix/src/matrix/hooks.py#135\" target=\"_blank\"><span style=\"color: #7f7f7f; text-decoration-color: #7f7f7f\">135</span></a>\n",
       "</pre>\n"
      ],
      "text/plain": [
       "\u001b[2;36m                   \u001b[0m\u001b[2;36m \u001b[0m\u001b[33mWARNING \u001b[0m we are killing spark to create a fresh one                                \u001b]8;id=606164;file:///Users/kschaper/Monarch/everycure/matrix/pipelines/matrix/src/matrix/hooks.py\u001b\\\u001b[2mhooks.py\u001b[0m\u001b]8;;\u001b\\\u001b[2m:\u001b[0m\u001b]8;id=562913;file:///Users/kschaper/Monarch/everycure/matrix/pipelines/matrix/src/matrix/hooks.py#135\u001b\\\u001b[2m135\u001b[0m\u001b]8;;\u001b\\\n"
      ]
     },
     "metadata": {},
     "output_type": "display_data"
    },
    {
     "data": {
      "text/html": [
       "<pre style=\"white-space:pre;overflow-x:auto;line-height:normal;font-family:Menlo,'DejaVu Sans Mono',consolas,'Courier New',monospace\"><span style=\"color: #7fbfbf; text-decoration-color: #7fbfbf\">[01/28/25 10:32:01] </span><span style=\"color: #000080; text-decoration-color: #000080\">INFO    </span> Executing for environment: <span style=\"color: #800080; text-decoration-color: #800080; font-style: italic\">None</span>                                           <a href=\"file:///Users/kschaper/Monarch/everycure/matrix/pipelines/matrix/src/matrix/hooks.py\" target=\"_blank\"><span style=\"color: #7f7f7f; text-decoration-color: #7f7f7f\">hooks.py</span></a><span style=\"color: #7f7f7f; text-decoration-color: #7f7f7f\">:</span><a href=\"file:///Users/kschaper/Monarch/everycure/matrix/pipelines/matrix/src/matrix/hooks.py#150\" target=\"_blank\"><span style=\"color: #7f7f7f; text-decoration-color: #7f7f7f\">150</span></a>\n",
       "</pre>\n"
      ],
      "text/plain": [
       "\u001b[2;36m[01/28/25 10:32:01]\u001b[0m\u001b[2;36m \u001b[0m\u001b[34mINFO    \u001b[0m Executing for environment: \u001b[3;35mNone\u001b[0m                                           \u001b]8;id=429079;file:///Users/kschaper/Monarch/everycure/matrix/pipelines/matrix/src/matrix/hooks.py\u001b\\\u001b[2mhooks.py\u001b[0m\u001b]8;;\u001b\\\u001b[2m:\u001b[0m\u001b]8;id=526071;file:///Users/kschaper/Monarch/everycure/matrix/pipelines/matrix/src/matrix/hooks.py#150\u001b\\\u001b[2m150\u001b[0m\u001b]8;;\u001b\\\n"
      ]
     },
     "metadata": {},
     "output_type": "display_data"
    },
    {
     "data": {
      "text/html": [
       "<pre style=\"white-space:pre;overflow-x:auto;line-height:normal;font-family:Menlo,'DejaVu Sans Mono',consolas,'Courier New',monospace\"><span style=\"color: #7fbfbf; text-decoration-color: #7fbfbf\">                    </span><span style=\"color: #000080; text-decoration-color: #000080\">INFO    </span> With ARGO_POD_UID set to:                                                 <a href=\"file:///Users/kschaper/Monarch/everycure/matrix/pipelines/matrix/src/matrix/hooks.py\" target=\"_blank\"><span style=\"color: #7f7f7f; text-decoration-color: #7f7f7f\">hooks.py</span></a><span style=\"color: #7f7f7f; text-decoration-color: #7f7f7f\">:</span><a href=\"file:///Users/kschaper/Monarch/everycure/matrix/pipelines/matrix/src/matrix/hooks.py#151\" target=\"_blank\"><span style=\"color: #7f7f7f; text-decoration-color: #7f7f7f\">151</span></a>\n",
       "</pre>\n"
      ],
      "text/plain": [
       "\u001b[2;36m                   \u001b[0m\u001b[2;36m \u001b[0m\u001b[34mINFO    \u001b[0m With ARGO_POD_UID set to:                                                 \u001b]8;id=514781;file:///Users/kschaper/Monarch/everycure/matrix/pipelines/matrix/src/matrix/hooks.py\u001b\\\u001b[2mhooks.py\u001b[0m\u001b]8;;\u001b\\\u001b[2m:\u001b[0m\u001b]8;id=118527;file:///Users/kschaper/Monarch/everycure/matrix/pipelines/matrix/src/matrix/hooks.py#151\u001b\\\u001b[2m151\u001b[0m\u001b]8;;\u001b\\\n"
      ]
     },
     "metadata": {},
     "output_type": "display_data"
    },
    {
     "data": {
      "text/html": [
       "<pre style=\"white-space:pre;overflow-x:auto;line-height:normal;font-family:Menlo,'DejaVu Sans Mono',consolas,'Courier New',monospace\"><span style=\"color: #7fbfbf; text-decoration-color: #7fbfbf\">                    </span><span style=\"color: #000080; text-decoration-color: #000080\">INFO    </span> Thus determined not to be in k8s cluster and executing with               <a href=\"file:///Users/kschaper/Monarch/everycure/matrix/pipelines/matrix/src/matrix/hooks.py\" target=\"_blank\"><span style=\"color: #7f7f7f; text-decoration-color: #7f7f7f\">hooks.py</span></a><span style=\"color: #7f7f7f; text-decoration-color: #7f7f7f\">:</span><a href=\"file:///Users/kschaper/Monarch/everycure/matrix/pipelines/matrix/src/matrix/hooks.py#152\" target=\"_blank\"><span style=\"color: #7f7f7f; text-decoration-color: #7f7f7f\">152</span></a>\n",
       "<span style=\"color: #7fbfbf; text-decoration-color: #7fbfbf\">                    </span>         service-account.json file                                                 <span style=\"color: #7f7f7f; text-decoration-color: #7f7f7f\">            </span>\n",
       "</pre>\n"
      ],
      "text/plain": [
       "\u001b[2;36m                   \u001b[0m\u001b[2;36m \u001b[0m\u001b[34mINFO    \u001b[0m Thus determined not to be in k8s cluster and executing with               \u001b]8;id=326393;file:///Users/kschaper/Monarch/everycure/matrix/pipelines/matrix/src/matrix/hooks.py\u001b\\\u001b[2mhooks.py\u001b[0m\u001b]8;;\u001b\\\u001b[2m:\u001b[0m\u001b]8;id=636049;file:///Users/kschaper/Monarch/everycure/matrix/pipelines/matrix/src/matrix/hooks.py#152\u001b\\\u001b[2m152\u001b[0m\u001b]8;;\u001b\\\n",
       "\u001b[2;36m                    \u001b[0m         service-account.json file                                                 \u001b[2m            \u001b[0m\n"
      ]
     },
     "metadata": {},
     "output_type": "display_data"
    },
    {
     "data": {
      "text/html": [
       "<pre style=\"white-space:pre;overflow-x:auto;line-height:normal;font-family:Menlo,'DejaVu Sans Mono',consolas,'Courier New',monospace\"><span style=\"color: #7fbfbf; text-decoration-color: #7fbfbf\">[01/28/25 10:32:04] </span><span style=\"color: #000080; text-decoration-color: #000080\">INFO    </span> Loading data from <span style=\"color: #ff8700; text-decoration-color: #ff8700\">integration.prm.filtered_edges_agg_count</span>         <a href=\"file:///Users/kschaper/Monarch/everycure/matrix/pipelines/matrix/.venv/lib/python3.11/site-packages/kedro/io/data_catalog.py\" target=\"_blank\"><span style=\"color: #7f7f7f; text-decoration-color: #7f7f7f\">data_catalog.py</span></a><span style=\"color: #7f7f7f; text-decoration-color: #7f7f7f\">:</span><a href=\"file:///Users/kschaper/Monarch/everycure/matrix/pipelines/matrix/.venv/lib/python3.11/site-packages/kedro/io/data_catalog.py#508\" target=\"_blank\"><span style=\"color: #7f7f7f; text-decoration-color: #7f7f7f\">508</span></a>\n",
       "<span style=\"color: #7fbfbf; text-decoration-color: #7fbfbf\">                    </span>         <span style=\"font-weight: bold\">(</span>LazySparkDataset<span style=\"font-weight: bold\">)</span><span style=\"color: #808000; text-decoration-color: #808000\">...</span>                                              <span style=\"color: #7f7f7f; text-decoration-color: #7f7f7f\">                   </span>\n",
       "</pre>\n"
      ],
      "text/plain": [
       "\u001b[2;36m[01/28/25 10:32:04]\u001b[0m\u001b[2;36m \u001b[0m\u001b[34mINFO    \u001b[0m Loading data from \u001b[38;5;208mintegration.prm.filtered_edges_agg_count\u001b[0m         \u001b]8;id=721454;file:///Users/kschaper/Monarch/everycure/matrix/pipelines/matrix/.venv/lib/python3.11/site-packages/kedro/io/data_catalog.py\u001b\\\u001b[2mdata_catalog.py\u001b[0m\u001b]8;;\u001b\\\u001b[2m:\u001b[0m\u001b]8;id=354743;file:///Users/kschaper/Monarch/everycure/matrix/pipelines/matrix/.venv/lib/python3.11/site-packages/kedro/io/data_catalog.py#508\u001b\\\u001b[2m508\u001b[0m\u001b]8;;\u001b\\\n",
       "\u001b[2;36m                    \u001b[0m         \u001b[1m(\u001b[0mLazySparkDataset\u001b[1m)\u001b[0m\u001b[33m...\u001b[0m                                              \u001b[2m                   \u001b[0m\n"
      ]
     },
     "metadata": {},
     "output_type": "display_data"
    }
   ],
   "source": [
    "import os\n",
    "from pathlib import Path\n",
    "import subprocess\n",
    "\n",
    "# hack that moves this notebook context into the kedro path\n",
    "root_path = subprocess.check_output(['git', 'rev-parse', '--show-toplevel']).decode().strip()\n",
    "os.chdir(Path(root_path) / 'pipelines' / 'matrix')\n",
    "\n",
    "%load_ext kedro.ipython\n",
    "%reload_kedro\n",
    "\n",
    "\n",
    "import duckdb \n",
    "import tempfile\n",
    "from pathlib import Path\n",
    "\n",
    "con = duckdb.connect(\"matrix-kg.duckdb\")\n",
    "\n",
    "# define path to ../../kg_dashboard/sources/reports\n",
    "dashboard_data_path = Path(root_path) / \"services\" / \"kg_dashboard\" / \"sources\" / \"reports\"\n",
    "\n",
    "# Write Spark DataFrames to Parquet files\n",
    "catalog.load(\"integration.prm.filtered_nodes_agg_count\").coalesce(1).write.format(\"parquet\").mode('overwrite').save(str(dashboard_data_path / \"nodes\"))\n",
    "catalog.load(\"integration.prm.filtered_edges_agg_count\").coalesce(1).write.format(\"parquet\").mode('overwrite').save(str(dashboard_data_path / \"edges\"))\n",
    "\n",
    "# Define Parquet files\n",
    "nodes_parquet_file = dashboard_data_path / \"merged_kg_nodes_report.parquet\"\n",
    "edges_parquet_file = dashboard_data_path / \"merged_kg_edges_report.parquet\"\n",
    "\n",
    "# move the uuid named node & edge files to the names expected by the dashboard\n",
    "!mv {dashboard_data_path / \"nodes/*.parquet\"} {nodes_parquet_file} \n",
    "!mv {dashboard_data_path / \"edges/*.parquet\"} {edges_parquet_file}\n",
    "\n",
    "# clean up the directories with uuid named parquet files\n",
    "!rm -rf {dashboard_data_path / \"nodes\"}\n",
    "!rm -rf {dashboard_data_path / \"edges\"}\n"
   ]
  }
 ],
 "metadata": {
  "kernelspec": {
   "display_name": ".venv",
   "language": "python",
   "name": "python3"
  },
  "language_info": {
   "codemirror_mode": {
    "name": "ipython",
    "version": 3
   },
   "file_extension": ".py",
   "mimetype": "text/x-python",
   "name": "python",
   "nbconvert_exporter": "python",
   "pygments_lexer": "ipython3",
   "version": "3.11.9"
  }
 },
 "nbformat": 4,
 "nbformat_minor": 2
}
