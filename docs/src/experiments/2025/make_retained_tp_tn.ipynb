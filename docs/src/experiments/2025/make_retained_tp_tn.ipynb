{
 "cells": [
  {
   "cell_type": "code",
   "execution_count": null,
   "metadata": {},
   "outputs": [],
   "source": [
    "# 1. know whether the treats and drug-disease relationship were removed in preparation of topological embeddings\n",
    "# 2. know if the node-type subgraphs created disconnected components (non-connected subgraphs) in the graph\n",
    "# 3. Know the ground truth not retained by the ROBOKOP KG and find out the reason for most of them\n",
    "\n"
   ]
  },
  {
   "cell_type": "code",
   "execution_count": 2,
   "metadata": {},
   "outputs": [],
   "source": [
    "import pandas as pd\n",
    "import gcsfs"
   ]
  },
  {
   "cell_type": "code",
   "execution_count": 3,
   "metadata": {},
   "outputs": [
    {
     "data": {
      "text/plain": [
       "(46065, 13)"
      ]
     },
     "execution_count": 3,
     "metadata": {},
     "output_type": "execute_result"
    }
   ],
   "source": [
    "df = pd.read_parquet(\"gs://mtrx-us-central1-hub-dev-storage/kedro/data/tests/base_robo_num_walks_50_walk_length_30/runs/main-0b4f8ab2/datasets/modelling/ground_truth/translator/v2.10.0_validated/ground_truth_pairs\")\n",
    "df.shape"
   ]
  },
  {
   "cell_type": "code",
   "execution_count": 4,
   "metadata": {},
   "outputs": [
    {
     "data": {
      "text/html": [
       "<div>\n",
       "<style scoped>\n",
       "    .dataframe tbody tr th:only-of-type {\n",
       "        vertical-align: middle;\n",
       "    }\n",
       "\n",
       "    .dataframe tbody tr th {\n",
       "        vertical-align: top;\n",
       "    }\n",
       "\n",
       "    .dataframe thead th {\n",
       "        text-align: right;\n",
       "    }\n",
       "</style>\n",
       "<table border=\"1\" class=\"dataframe\">\n",
       "  <thead>\n",
       "    <tr style=\"text-align: right;\">\n",
       "      <th></th>\n",
       "      <th>original_object</th>\n",
       "      <th>original_subject</th>\n",
       "      <th>indication</th>\n",
       "      <th>contraindication</th>\n",
       "      <th>y</th>\n",
       "      <th>drug|disease</th>\n",
       "      <th>disease</th>\n",
       "      <th>drug</th>\n",
       "      <th>predicate</th>\n",
       "      <th>source</th>\n",
       "      <th>subject_normalization_success</th>\n",
       "      <th>target</th>\n",
       "      <th>object_normalization_success</th>\n",
       "    </tr>\n",
       "  </thead>\n",
       "  <tbody>\n",
       "    <tr>\n",
       "      <th>0</th>\n",
       "      <td>MONDO:0002406</td>\n",
       "      <td>CHEBI:31199</td>\n",
       "      <td>True</td>\n",
       "      <td>False</td>\n",
       "      <td>1</td>\n",
       "      <td>CHEBI:31199|MONDO:0002406</td>\n",
       "      <td>MONDO:0002406</td>\n",
       "      <td>CHEBI:31199</td>\n",
       "      <td>clinical_trails</td>\n",
       "      <td>CHEBI:31199</td>\n",
       "      <td>True</td>\n",
       "      <td>MONDO:0002406</td>\n",
       "      <td>True</td>\n",
       "    </tr>\n",
       "    <tr>\n",
       "      <th>1</th>\n",
       "      <td>MONDO:0002406</td>\n",
       "      <td>CHEBI:5108</td>\n",
       "      <td>True</td>\n",
       "      <td>False</td>\n",
       "      <td>1</td>\n",
       "      <td>CHEBI:5108|MONDO:0002406</td>\n",
       "      <td>MONDO:0002406</td>\n",
       "      <td>CHEBI:5108</td>\n",
       "      <td>clinical_trails</td>\n",
       "      <td>CHEBI:5108</td>\n",
       "      <td>True</td>\n",
       "      <td>MONDO:0002406</td>\n",
       "      <td>True</td>\n",
       "    </tr>\n",
       "    <tr>\n",
       "      <th>2</th>\n",
       "      <td>MONDO:0002406</td>\n",
       "      <td>CHEBI:2948</td>\n",
       "      <td>True</td>\n",
       "      <td>False</td>\n",
       "      <td>1</td>\n",
       "      <td>CHEBI:2948|MONDO:0002406</td>\n",
       "      <td>MONDO:0002406</td>\n",
       "      <td>CHEBI:2948</td>\n",
       "      <td>clinical_trails</td>\n",
       "      <td>CHEBI:2948</td>\n",
       "      <td>True</td>\n",
       "      <td>MONDO:0002406</td>\n",
       "      <td>True</td>\n",
       "    </tr>\n",
       "    <tr>\n",
       "      <th>3</th>\n",
       "      <td>MONDO:0002406</td>\n",
       "      <td>CHEBI:422</td>\n",
       "      <td>True</td>\n",
       "      <td>False</td>\n",
       "      <td>1</td>\n",
       "      <td>CHEBI:422|MONDO:0002406</td>\n",
       "      <td>MONDO:0002406</td>\n",
       "      <td>CHEBI:422</td>\n",
       "      <td>clinical_trails</td>\n",
       "      <td>CHEBI:422</td>\n",
       "      <td>True</td>\n",
       "      <td>MONDO:0002406</td>\n",
       "      <td>True</td>\n",
       "    </tr>\n",
       "    <tr>\n",
       "      <th>4</th>\n",
       "      <td>MONDO:0002406</td>\n",
       "      <td>CHEBI:31414</td>\n",
       "      <td>True</td>\n",
       "      <td>False</td>\n",
       "      <td>1</td>\n",
       "      <td>CHEBI:31414|MONDO:0002406</td>\n",
       "      <td>MONDO:0002406</td>\n",
       "      <td>CHEBI:31414</td>\n",
       "      <td>clinical_trails</td>\n",
       "      <td>CHEBI:31414</td>\n",
       "      <td>True</td>\n",
       "      <td>MONDO:0002406</td>\n",
       "      <td>True</td>\n",
       "    </tr>\n",
       "  </tbody>\n",
       "</table>\n",
       "</div>"
      ],
      "text/plain": [
       "  original_object original_subject indication contraindication  y  \\\n",
       "0   MONDO:0002406      CHEBI:31199       True            False  1   \n",
       "1   MONDO:0002406       CHEBI:5108       True            False  1   \n",
       "2   MONDO:0002406       CHEBI:2948       True            False  1   \n",
       "3   MONDO:0002406        CHEBI:422       True            False  1   \n",
       "4   MONDO:0002406      CHEBI:31414       True            False  1   \n",
       "\n",
       "                drug|disease        disease         drug        predicate  \\\n",
       "0  CHEBI:31199|MONDO:0002406  MONDO:0002406  CHEBI:31199  clinical_trails   \n",
       "1   CHEBI:5108|MONDO:0002406  MONDO:0002406   CHEBI:5108  clinical_trails   \n",
       "2   CHEBI:2948|MONDO:0002406  MONDO:0002406   CHEBI:2948  clinical_trails   \n",
       "3    CHEBI:422|MONDO:0002406  MONDO:0002406    CHEBI:422  clinical_trails   \n",
       "4  CHEBI:31414|MONDO:0002406  MONDO:0002406  CHEBI:31414  clinical_trails   \n",
       "\n",
       "        source  subject_normalization_success         target  \\\n",
       "0  CHEBI:31199                           True  MONDO:0002406   \n",
       "1   CHEBI:5108                           True  MONDO:0002406   \n",
       "2   CHEBI:2948                           True  MONDO:0002406   \n",
       "3    CHEBI:422                           True  MONDO:0002406   \n",
       "4  CHEBI:31414                           True  MONDO:0002406   \n",
       "\n",
       "   object_normalization_success  \n",
       "0                          True  \n",
       "1                          True  \n",
       "2                          True  \n",
       "3                          True  \n",
       "4                          True  "
      ]
     },
     "execution_count": 4,
     "metadata": {},
     "output_type": "execute_result"
    }
   ],
   "source": [
    "df.head()"
   ]
  },
  {
   "cell_type": "code",
   "execution_count": 5,
   "metadata": {},
   "outputs": [],
   "source": [
    "df.to_csv(\"/Users/jchung/Documents/RENCI/everycure/matrix/data/base_robo_50_30/gt_retained.tsv\", sep='\\t')"
   ]
  },
  {
   "cell_type": "code",
   "execution_count": 6,
   "metadata": {},
   "outputs": [
    {
     "data": {
      "text/plain": [
       "subject_normalization_success\n",
       "True    46065\n",
       "Name: count, dtype: int64"
      ]
     },
     "execution_count": 6,
     "metadata": {},
     "output_type": "execute_result"
    }
   ],
   "source": [
    "df[\"subject_normalization_success\"].value_counts()"
   ]
  },
  {
   "cell_type": "code",
   "execution_count": null,
   "metadata": {},
   "outputs": [],
   "source": [
    "fs = gcsfs.GCSFileSystem()\n",
    "files = fs.ls('mtrx-us-central1-hub-dev-storage/kedro/data/tests/base_robo_num_walks_50_walk_length_30/datasets/ingestion/ground_truth/translator/v2.10.0_validated/gt_pairs.tsv')\n",
    "\n",
    "# Filter to only .tsv files\n",
    "tsv_files = ['gs://' + f for f in files if f.endswith('.csv')]\n",
    "\n",
    "# Read and concatenate all TSVs\n",
    "gt_ori = pd.concat([pd.read_csv(f, sep='\\t') for f in tsv_files], ignore_index=True)"
   ]
  },
  {
   "cell_type": "code",
   "execution_count": 8,
   "metadata": {},
   "outputs": [
    {
     "data": {
      "text/html": [
       "<div>\n",
       "<style scoped>\n",
       "    .dataframe tbody tr th:only-of-type {\n",
       "        vertical-align: middle;\n",
       "    }\n",
       "\n",
       "    .dataframe tbody tr th {\n",
       "        vertical-align: top;\n",
       "    }\n",
       "\n",
       "    .dataframe thead th {\n",
       "        text-align: right;\n",
       "    }\n",
       "</style>\n",
       "<table border=\"1\" class=\"dataframe\">\n",
       "  <thead>\n",
       "    <tr style=\"text-align: right;\">\n",
       "      <th></th>\n",
       "      <th>source</th>\n",
       "      <th>target</th>\n",
       "      <th>indication</th>\n",
       "      <th>contraindication</th>\n",
       "      <th>y</th>\n",
       "      <th>drug|disease</th>\n",
       "    </tr>\n",
       "  </thead>\n",
       "  <tbody>\n",
       "    <tr>\n",
       "      <th>0</th>\n",
       "      <td>UMLS:C0450442</td>\n",
       "      <td>MONDO:0005429</td>\n",
       "      <td>True</td>\n",
       "      <td>False</td>\n",
       "      <td>1</td>\n",
       "      <td>UMLS:C0450442|MONDO:0005429</td>\n",
       "    </tr>\n",
       "    <tr>\n",
       "      <th>1</th>\n",
       "      <td>CHEBI:8711</td>\n",
       "      <td>MONDO:0005429</td>\n",
       "      <td>True</td>\n",
       "      <td>False</td>\n",
       "      <td>1</td>\n",
       "      <td>CHEBI:8711|MONDO:0005429</td>\n",
       "    </tr>\n",
       "    <tr>\n",
       "      <th>2</th>\n",
       "      <td>CHEBI:59826</td>\n",
       "      <td>HP:0100608</td>\n",
       "      <td>True</td>\n",
       "      <td>False</td>\n",
       "      <td>1</td>\n",
       "      <td>CHEBI:59826|HP:0100608</td>\n",
       "    </tr>\n",
       "    <tr>\n",
       "      <th>3</th>\n",
       "      <td>UMLS:C0243192</td>\n",
       "      <td>MONDO:0000088</td>\n",
       "      <td>True</td>\n",
       "      <td>False</td>\n",
       "      <td>1</td>\n",
       "      <td>UMLS:C0243192|MONDO:0000088</td>\n",
       "    </tr>\n",
       "    <tr>\n",
       "      <th>4</th>\n",
       "      <td>PUBCHEM.COMPOUND:36523</td>\n",
       "      <td>MONDO:0000088</td>\n",
       "      <td>True</td>\n",
       "      <td>False</td>\n",
       "      <td>1</td>\n",
       "      <td>PUBCHEM.COMPOUND:36523|MONDO:0000088</td>\n",
       "    </tr>\n",
       "  </tbody>\n",
       "</table>\n",
       "</div>"
      ],
      "text/plain": [
       "                   source         target  indication  contraindication  y  \\\n",
       "0           UMLS:C0450442  MONDO:0005429        True             False  1   \n",
       "1              CHEBI:8711  MONDO:0005429        True             False  1   \n",
       "2             CHEBI:59826     HP:0100608        True             False  1   \n",
       "3           UMLS:C0243192  MONDO:0000088        True             False  1   \n",
       "4  PUBCHEM.COMPOUND:36523  MONDO:0000088        True             False  1   \n",
       "\n",
       "                           drug|disease  \n",
       "0           UMLS:C0450442|MONDO:0005429  \n",
       "1              CHEBI:8711|MONDO:0005429  \n",
       "2                CHEBI:59826|HP:0100608  \n",
       "3           UMLS:C0243192|MONDO:0000088  \n",
       "4  PUBCHEM.COMPOUND:36523|MONDO:0000088  "
      ]
     },
     "execution_count": 8,
     "metadata": {},
     "output_type": "execute_result"
    }
   ],
   "source": [
    "gt_ori.head()"
   ]
  },
  {
   "cell_type": "code",
   "execution_count": 9,
   "metadata": {},
   "outputs": [],
   "source": [
    "gt_ori[\"in_ROBOKOP\"] = gt_ori[\"drug|disease\"].isin(df[\"drug|disease\"])"
   ]
  },
  {
   "cell_type": "code",
   "execution_count": 10,
   "metadata": {},
   "outputs": [
    {
     "data": {
      "text/html": [
       "<div>\n",
       "<style scoped>\n",
       "    .dataframe tbody tr th:only-of-type {\n",
       "        vertical-align: middle;\n",
       "    }\n",
       "\n",
       "    .dataframe tbody tr th {\n",
       "        vertical-align: top;\n",
       "    }\n",
       "\n",
       "    .dataframe thead th {\n",
       "        text-align: right;\n",
       "    }\n",
       "</style>\n",
       "<table border=\"1\" class=\"dataframe\">\n",
       "  <thead>\n",
       "    <tr style=\"text-align: right;\">\n",
       "      <th></th>\n",
       "      <th>source</th>\n",
       "      <th>target</th>\n",
       "      <th>indication</th>\n",
       "      <th>contraindication</th>\n",
       "      <th>y</th>\n",
       "      <th>drug|disease</th>\n",
       "      <th>in_ROBOKOP</th>\n",
       "    </tr>\n",
       "  </thead>\n",
       "  <tbody>\n",
       "    <tr>\n",
       "      <th>0</th>\n",
       "      <td>UMLS:C0450442</td>\n",
       "      <td>MONDO:0005429</td>\n",
       "      <td>True</td>\n",
       "      <td>False</td>\n",
       "      <td>1</td>\n",
       "      <td>UMLS:C0450442|MONDO:0005429</td>\n",
       "      <td>False</td>\n",
       "    </tr>\n",
       "    <tr>\n",
       "      <th>2</th>\n",
       "      <td>CHEBI:59826</td>\n",
       "      <td>HP:0100608</td>\n",
       "      <td>True</td>\n",
       "      <td>False</td>\n",
       "      <td>1</td>\n",
       "      <td>CHEBI:59826|HP:0100608</td>\n",
       "      <td>False</td>\n",
       "    </tr>\n",
       "    <tr>\n",
       "      <th>3</th>\n",
       "      <td>UMLS:C0243192</td>\n",
       "      <td>MONDO:0000088</td>\n",
       "      <td>True</td>\n",
       "      <td>False</td>\n",
       "      <td>1</td>\n",
       "      <td>UMLS:C0243192|MONDO:0000088</td>\n",
       "      <td>False</td>\n",
       "    </tr>\n",
       "    <tr>\n",
       "      <th>5</th>\n",
       "      <td>MESH:D006062</td>\n",
       "      <td>MONDO:0000088</td>\n",
       "      <td>True</td>\n",
       "      <td>False</td>\n",
       "      <td>1</td>\n",
       "      <td>MESH:D006062|MONDO:0000088</td>\n",
       "      <td>False</td>\n",
       "    </tr>\n",
       "    <tr>\n",
       "      <th>9</th>\n",
       "      <td>CHEBI:46345</td>\n",
       "      <td>UMLS:C1271404</td>\n",
       "      <td>True</td>\n",
       "      <td>False</td>\n",
       "      <td>1</td>\n",
       "      <td>CHEBI:46345|UMLS:C1271404</td>\n",
       "      <td>False</td>\n",
       "    </tr>\n",
       "    <tr>\n",
       "      <th>...</th>\n",
       "      <td>...</td>\n",
       "      <td>...</td>\n",
       "      <td>...</td>\n",
       "      <td>...</td>\n",
       "      <td>...</td>\n",
       "      <td>...</td>\n",
       "      <td>...</td>\n",
       "    </tr>\n",
       "    <tr>\n",
       "      <th>68964</th>\n",
       "      <td>CHEBI:4027</td>\n",
       "      <td>MONDO:0008383</td>\n",
       "      <td>False</td>\n",
       "      <td>True</td>\n",
       "      <td>0</td>\n",
       "      <td>CHEBI:4027|MONDO:0008383</td>\n",
       "      <td>False</td>\n",
       "    </tr>\n",
       "    <tr>\n",
       "      <th>68975</th>\n",
       "      <td>CHEBI:47381</td>\n",
       "      <td>MONDO:0004795</td>\n",
       "      <td>False</td>\n",
       "      <td>True</td>\n",
       "      <td>0</td>\n",
       "      <td>CHEBI:47381|MONDO:0004795</td>\n",
       "      <td>False</td>\n",
       "    </tr>\n",
       "    <tr>\n",
       "      <th>68979</th>\n",
       "      <td>PUBCHEM.COMPOUND:60852</td>\n",
       "      <td>HP:0012531</td>\n",
       "      <td>False</td>\n",
       "      <td>True</td>\n",
       "      <td>0</td>\n",
       "      <td>PUBCHEM.COMPOUND:60852|HP:0012531</td>\n",
       "      <td>False</td>\n",
       "    </tr>\n",
       "    <tr>\n",
       "      <th>68991</th>\n",
       "      <td>PUBCHEM.COMPOUND:5460033</td>\n",
       "      <td>HP:0012531</td>\n",
       "      <td>False</td>\n",
       "      <td>True</td>\n",
       "      <td>0</td>\n",
       "      <td>PUBCHEM.COMPOUND:5460033|HP:0012531</td>\n",
       "      <td>False</td>\n",
       "    </tr>\n",
       "    <tr>\n",
       "      <th>68992</th>\n",
       "      <td>PUBCHEM.COMPOUND:24083</td>\n",
       "      <td>HP:0012531</td>\n",
       "      <td>False</td>\n",
       "      <td>True</td>\n",
       "      <td>0</td>\n",
       "      <td>PUBCHEM.COMPOUND:24083|HP:0012531</td>\n",
       "      <td>False</td>\n",
       "    </tr>\n",
       "  </tbody>\n",
       "</table>\n",
       "<p>22936 rows × 7 columns</p>\n",
       "</div>"
      ],
      "text/plain": [
       "                         source         target  indication  contraindication  \\\n",
       "0                 UMLS:C0450442  MONDO:0005429        True             False   \n",
       "2                   CHEBI:59826     HP:0100608        True             False   \n",
       "3                 UMLS:C0243192  MONDO:0000088        True             False   \n",
       "5                  MESH:D006062  MONDO:0000088        True             False   \n",
       "9                   CHEBI:46345  UMLS:C1271404        True             False   \n",
       "...                         ...            ...         ...               ...   \n",
       "68964                CHEBI:4027  MONDO:0008383       False              True   \n",
       "68975               CHEBI:47381  MONDO:0004795       False              True   \n",
       "68979    PUBCHEM.COMPOUND:60852     HP:0012531       False              True   \n",
       "68991  PUBCHEM.COMPOUND:5460033     HP:0012531       False              True   \n",
       "68992    PUBCHEM.COMPOUND:24083     HP:0012531       False              True   \n",
       "\n",
       "       y                         drug|disease  in_ROBOKOP  \n",
       "0      1          UMLS:C0450442|MONDO:0005429       False  \n",
       "2      1               CHEBI:59826|HP:0100608       False  \n",
       "3      1          UMLS:C0243192|MONDO:0000088       False  \n",
       "5      1           MESH:D006062|MONDO:0000088       False  \n",
       "9      1            CHEBI:46345|UMLS:C1271404       False  \n",
       "...   ..                                  ...         ...  \n",
       "68964  0             CHEBI:4027|MONDO:0008383       False  \n",
       "68975  0            CHEBI:47381|MONDO:0004795       False  \n",
       "68979  0    PUBCHEM.COMPOUND:60852|HP:0012531       False  \n",
       "68991  0  PUBCHEM.COMPOUND:5460033|HP:0012531       False  \n",
       "68992  0    PUBCHEM.COMPOUND:24083|HP:0012531       False  \n",
       "\n",
       "[22936 rows x 7 columns]"
      ]
     },
     "execution_count": 10,
     "metadata": {},
     "output_type": "execute_result"
    }
   ],
   "source": [
    "gt_ori[~gt_ori[\"in_ROBOKOP\"]]"
   ]
  },
  {
   "cell_type": "code",
   "execution_count": 11,
   "metadata": {},
   "outputs": [
    {
     "name": "stdout",
     "output_type": "stream",
     "text": [
      "in_ROBOKOP  False  True \n",
      "y                       \n",
      "0           11462  28977\n",
      "1           11474  17088\n",
      "in_ROBOKOP      False      True \n",
      "y                               \n",
      "0           28.343925  71.656075\n",
      "1           40.172257  59.827743\n"
     ]
    }
   ],
   "source": [
    "table = gt_ori.pivot_table(index='y', columns='in_ROBOKOP', aggfunc='size', fill_value=0)\n",
    "print(table)\n",
    "\n",
    "percentage_table = table.divide(table.sum(axis=1), axis=0) * 100\n",
    "print(percentage_table)"
   ]
  },
  {
   "cell_type": "code",
   "execution_count": 25,
   "metadata": {},
   "outputs": [],
   "source": [
    "gt_ori.to_csv(\"/Users/jchung/Documents/RENCI/everycure/matrix/data/base_robo_50_30/ground_truth_rtxv2.10.0_validated_inROBOKOP.tsv\", sep='\\t')"
   ]
  },
  {
   "cell_type": "code",
   "execution_count": 7,
   "metadata": {},
   "outputs": [],
   "source": [
    "df.to_csv(\"/Users/jchung/Documents/RENCI/everycure/matrix/data/kedro_data_tests_base_robo_num_walks_50_walk_length_30_datasets_ingestion_ground_truth_translator_v2.10.0_validated_gt_pairs.tsv\", sep='\\t')"
   ]
  },
  {
   "cell_type": "code",
   "execution_count": 14,
   "metadata": {},
   "outputs": [],
   "source": [
    "tp = pd.read_csv(\"/Users/jchung/Documents/RENCI/everycure/matrix/data/data_01_RAW_ground_truth_kg2_v2.10.0_validated_tp_pairs.txt\", sep='\\t')\n",
    "tp[\"drug_disease\"] = tp[\"source\"].astype(str) + '|' + tp[\"target\"].astype(str)\n",
    "tp[\"in_ROBOKOP\"] = tp[\"drug_disease\"].isin(df[\"drug|disease\"])\n",
    "tp[tp[\"in_ROBOKOP\"]][[\"source\", \"target\"]].to_csv(\"/Users/jchung/Documents/RENCI/everycure/matrix/data/data_01_RAW_ground_truth_kg2_v2.10.0_validated_tp_pairs_retained.txt\", sep='\\t', index=False, header=True)"
   ]
  },
  {
   "cell_type": "code",
   "execution_count": null,
   "metadata": {},
   "outputs": [],
   "source": [
    "tp"
   ]
  },
  {
   "cell_type": "code",
   "execution_count": 15,
   "metadata": {},
   "outputs": [],
   "source": [
    "tn = pd.read_csv(\"/Users/jchung/Documents/RENCI/everycure/matrix/data/data_01_RAW_ground_truth_kg2_v2.10.0_validated_tn_pairs.txt\", sep='\\t')\n",
    "tn[\"drug_disease\"] = tn[\"source\"].astype(str) + '|' + tn[\"target\"].astype(str)\n",
    "tn[\"in_ROBOKOP\"] = tn[\"drug_disease\"].isin(df[\"drug|disease\"])\n",
    "tn[tn[\"in_ROBOKOP\"]][[\"source\", \"target\"]].to_csv(\"/Users/jchung/Documents/RENCI/everycure/matrix/data/data_01_RAW_ground_truth_kg2_v2.10.0_validated_tn_pairs_retained.txt\", sep='\\t', index=False, header=True)"
   ]
  },
  {
   "cell_type": "code",
   "execution_count": 16,
   "metadata": {},
   "outputs": [
    {
     "data": {
      "text/plain": [
       "in_ROBOKOP\n",
       "True     28977\n",
       "False    11462\n",
       "Name: count, dtype: int64"
      ]
     },
     "execution_count": 16,
     "metadata": {},
     "output_type": "execute_result"
    }
   ],
   "source": [
    "tn[\"in_ROBOKOP\"].value_counts()"
   ]
  },
  {
   "cell_type": "code",
   "execution_count": 22,
   "metadata": {},
   "outputs": [],
   "source": [
    "gt_pairs = pd.read_csv(\"/Users/jchung/Documents/RENCI/everycure/matrix/data/kedro_data_tests_base_robo_num_walks_50_walk_length_30_datasets_ingestion_ground_truth_translator_v2.10.0_validated_gt_pairs.tsv\", sep='\\t', index_col=0)\n",
    "gt_pairs = gt_pairs[gt_pairs[\"drug|disease\"].isin(df[\"drug|disease\"])].reset_index(drop=True)\n",
    "gt_pairs.to_csv(\"/Users/jchung/Documents/RENCI/everycure/matrix/data/retained_gt_set/v2.10.0_validated_gt_pairs.tsv\", sep='\\t', index=True, header=True)"
   ]
  },
  {
   "cell_type": "code",
   "execution_count": 23,
   "metadata": {},
   "outputs": [],
   "source": [
    "gt_pairs_raw = pd.read_csv(\"/Users/jchung/Documents/RENCI/everycure/matrix/data/kedro_data_tests_base_robo_num_walks_50_walk_length_30_datasets_ingestion_ground_truth_translator_v2.10.0_validated_gt_pairs_raw.tsv\", sep='\\t')\n",
    "gt_pairs_raw = gt_pairs_raw[gt_pairs_raw[\"drug|disease\"].isin(df[\"drug|disease\"])].reset_index(drop=True)\n",
    "gt_pairs_raw.to_csv(\"/Users/jchung/Documents/RENCI/everycure/matrix/data/retained_gt_set/v2.10.0_validated_gt_pairs_raw.tsv\", sep='\\t', index=False, header=True)"
   ]
  },
  {
   "cell_type": "code",
   "execution_count": null,
   "metadata": {},
   "outputs": [],
   "source": []
  }
 ],
 "metadata": {
  "kernelspec": {
   "display_name": ".venv",
   "language": "python",
   "name": "python3"
  },
  "language_info": {
   "codemirror_mode": {
    "name": "ipython",
    "version": 3
   },
   "file_extension": ".py",
   "mimetype": "text/x-python",
   "name": "python",
   "nbconvert_exporter": "python",
   "pygments_lexer": "ipython3",
   "version": "3.11.6"
  }
 },
 "nbformat": 4,
 "nbformat_minor": 2
}
