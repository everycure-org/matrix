{
 "cells": [
  {
   "cell_type": "code",
   "execution_count": 1,
   "metadata": {},
   "outputs": [],
   "source": [
    "import pandas as pd\n",
    "import numpy as np\n",
    "import re\n",
    "import polars as pl\n",
    "import gcsfs"
   ]
  },
  {
   "cell_type": "code",
   "execution_count": 2,
   "metadata": {},
   "outputs": [
    {
     "name": "stdout",
     "output_type": "stream",
     "text": [
      "<bound method DataFrame.head of shape: (4_663_956, 1_963)\n",
      "┌───────────┬───────────┬───────────┬───────────┬───┬───────────┬───────────┬───────────┬──────────┐\n",
      "│ id        ┆ name:stri ┆ category  ┆ equivalen ┆ … ┆ MONDO_SUP ┆ MONDO_SUP ┆ taxon:str ┆ NCBITaxo │\n",
      "│ ---       ┆ ng        ┆ ---       ┆ t_identif ┆   ┆ ERCLASS_r ┆ ERCLASS_p ┆ ing       ┆ n:string │\n",
      "│ str       ┆ ---       ┆ str       ┆ iers      ┆   ┆ enal_dise ┆ erceptual ┆ ---       ┆ ---      │\n",
      "│           ┆ str       ┆           ┆ ---       ┆   ┆ ase…      ┆ _di…      ┆ str       ┆ str      │\n",
      "│           ┆           ┆           ┆ str       ┆   ┆ ---       ┆ ---       ┆           ┆          │\n",
      "│           ┆           ┆           ┆           ┆   ┆ str       ┆ str       ┆           ┆          │\n",
      "╞═══════════╪═══════════╪═══════════╪═══════════╪═══╪═══════════╪═══════════╪═══════════╪══════════╡\n",
      "│ CHEBI:10  ┆ (+)-Ather ┆ biolink:S ┆ CHEBI:10| ┆ … ┆ null      ┆ null      ┆ null      ┆ null     │\n",
      "│           ┆ ospermoli ┆ mallMolec ┆ PUBCHEM.C ┆   ┆           ┆           ┆           ┆          │\n",
      "│           ┆ ne        ┆ ule|bioli ┆ OMPOUND:1 ┆   ┆           ┆           ┆           ┆          │\n",
      "│           ┆           ┆ nk:…      ┆ 771…      ┆   ┆           ┆           ┆           ┆          │\n",
      "│ CHEBI:100 ┆ (-)-medic ┆ biolink:N ┆ CHEMBL.CO ┆ … ┆ null      ┆ null      ┆ null      ┆ null     │\n",
      "│           ┆ arpin     ┆ amedThing ┆ MPOUND:CH ┆   ┆           ┆           ┆           ┆          │\n",
      "│           ┆           ┆ |biolink: ┆ EMBL23884 ┆   ┆           ┆           ┆           ┆          │\n",
      "│           ┆           ┆ Phy…      ┆ 5|C…      ┆   ┆           ┆           ┆           ┆          │\n",
      "│ CHEBI:100 ┆ Vismione  ┆ biolink:S ┆ CHEBI:100 ┆ … ┆ null      ┆ null      ┆ null      ┆ null     │\n",
      "│ 00        ┆ D         ┆ mallMolec ┆ 00|PUBCHE ┆   ┆           ┆           ┆           ┆          │\n",
      "│           ┆           ┆ ule|bioli ┆ M.COMPOUN ┆   ┆           ┆           ┆           ┆          │\n",
      "│           ┆           ┆ nk:…      ┆ D:5…      ┆   ┆           ┆           ┆           ┆          │\n",
      "│ CHEBI:100 ┆ (2S,3S,4R ┆ biolink:S ┆ CHEBI:100 ┆ … ┆ null      ┆ null      ┆ null      ┆ null     │\n",
      "│ 000       ┆ )-3-[4-(3 ┆ mallMolec ┆ 000|PUBCH ┆   ┆           ┆           ┆           ┆          │\n",
      "│           ┆ -cyclopen ┆ ule|bioli ┆ EM.COMPOU ┆   ┆           ┆           ┆           ┆          │\n",
      "│           ┆ tyl…      ┆ nk:…      ┆ ND:…      ┆   ┆           ┆           ┆           ┆          │\n",
      "│ CHEBI:100 ┆ N-[(2R,3S ┆ biolink:S ┆ CHEBI:100 ┆ … ┆ null      ┆ null      ┆ null      ┆ null     │\n",
      "│ 001       ┆ ,6R)-2-(h ┆ mallMolec ┆ 001|PUBCH ┆   ┆           ┆           ┆           ┆          │\n",
      "│           ┆ ydroxymet ┆ ule|bioli ┆ EM.COMPOU ┆   ┆           ┆           ┆           ┆          │\n",
      "│           ┆ hyl…      ┆ nk:…      ┆ ND:…      ┆   ┆           ┆           ┆           ┆          │\n",
      "│ …         ┆ …         ┆ …         ┆ …         ┆ … ┆ …         ┆ …         ┆ …         ┆ …        │\n",
      "│ orphanet: ┆ Periphera ┆ biolink:D ┆ orphanet: ┆ … ┆ null      ┆ null      ┆ null      ┆ null     │\n",
      "│ 97927     ┆ l resista ┆ isease|bi ┆ 97927     ┆   ┆           ┆           ┆           ┆          │\n",
      "│           ┆ nce to    ┆ olink:Dis ┆           ┆   ┆           ┆           ┆           ┆          │\n",
      "│           ┆ thyro…    ┆ eas…      ┆           ┆   ┆           ┆           ┆           ┆          │\n",
      "│ orphanet: ┆ Hashimoto ┆ biolink:D ┆ orphanet: ┆ … ┆ null      ┆ null      ┆ null      ┆ null     │\n",
      "│ 99872     ┆ -Pritzker ┆ isease|bi ┆ 99872     ┆   ┆           ┆           ┆           ┆          │\n",
      "│           ┆ syndrome  ┆ olink:Dis ┆           ┆   ┆           ┆           ┆           ┆          │\n",
      "│           ┆           ┆ eas…      ┆           ┆   ┆           ┆           ┆           ┆          │\n",
      "│ orphanet: ┆ Ehlers-Da ┆ biolink:D ┆ orphanet: ┆ … ┆ null      ┆ null      ┆ null      ┆ null     │\n",
      "│ 99875     ┆ nlos      ┆ isease|bi ┆ 99875     ┆   ┆           ┆           ┆           ┆          │\n",
      "│           ┆ syndrome  ┆ olink:Dis ┆           ┆   ┆           ┆           ┆           ┆          │\n",
      "│           ┆ type 7A   ┆ eas…      ┆           ┆   ┆           ┆           ┆           ┆          │\n",
      "│ orphanet: ┆ Ehlers-Da ┆ biolink:D ┆ orphanet: ┆ … ┆ null      ┆ null      ┆ null      ┆ null     │\n",
      "│ 99876     ┆ nlos      ┆ isease|bi ┆ 99876     ┆   ┆           ┆           ┆           ┆          │\n",
      "│           ┆ syndrome  ┆ olink:Dis ┆           ┆   ┆           ┆           ┆           ┆          │\n",
      "│           ┆ type 7B   ┆ eas…      ┆           ┆   ┆           ┆           ┆           ┆          │\n",
      "│ orphanet: ┆ Familial  ┆ biolink:D ┆ orphanet: ┆ … ┆ null      ┆ null      ┆ null      ┆ null     │\n",
      "│ 99879     ┆ isolated  ┆ isease|bi ┆ 99879     ┆   ┆           ┆           ┆           ┆          │\n",
      "│           ┆ hyperpara ┆ olink:Dis ┆           ┆   ┆           ┆           ┆           ┆          │\n",
      "│           ┆ thy…      ┆ eas…      ┆           ┆   ┆           ┆           ┆           ┆          │\n",
      "└───────────┴───────────┴───────────┴───────────┴───┴───────────┴───────────┴───────────┴──────────┘>\n"
     ]
    }
   ],
   "source": [
    "rkgnodes = pl.read_parquet(\"gs://mtrx-us-central1-hub-dev-storage/kedro/data/tests/gt_retained_robo30fd_run/datasets/ingestion/int/robokop/30fd1bfc18cd5ccb/nodes/\")\n",
    "print(rkgnodes.head)"
   ]
  },
  {
   "cell_type": "code",
   "execution_count": 3,
   "metadata": {},
   "outputs": [
    {
     "name": "stdout",
     "output_type": "stream",
     "text": [
      "21\n"
     ]
    }
   ],
   "source": [
    "cols = list(rkgnodes.columns)\n",
    "rcols = [item for item in cols if \"CHEBI\" not in item and \"MONDO\" not in item and \"int\" not in item]\n",
    "print(len(rcols))\n",
    "rkgnodes = rkgnodes.select(rcols)\n"
   ]
  },
  {
   "cell_type": "code",
   "execution_count": 4,
   "metadata": {},
   "outputs": [
    {
     "data": {
      "text/plain": [
       "(4663956, 21)"
      ]
     },
     "execution_count": 4,
     "metadata": {},
     "output_type": "execute_result"
    }
   ],
   "source": [
    "rkgnodes.shape"
   ]
  },
  {
   "cell_type": "code",
   "execution_count": 5,
   "metadata": {},
   "outputs": [
    {
     "data": {
      "text/html": [
       "<div><style>\n",
       ".dataframe > thead > tr,\n",
       ".dataframe > tbody > tr {\n",
       "  text-align: right;\n",
       "  white-space: pre-wrap;\n",
       "}\n",
       "</style>\n",
       "<small>shape: (5, 21)</small><table border=\"1\" class=\"dataframe\"><thead><tr><th>id</th><th>name:string</th><th>category</th><th>equivalent_identifiers</th><th>information_content:float</th><th>description:string</th><th>cd_formula:string</th><th>cd_molweight:float</th><th>clogp:float</th><th>alogs:float</th><th>tpsa:float</th><th>mrdef:string</th><th>smiles:string</th><th>status:string</th><th>definition:string</th><th>url:string</th><th>locus_group:string</th><th>symbol:string</th><th>location:string</th><th>taxon:string</th><th>NCBITaxon:string</th></tr><tr><td>str</td><td>str</td><td>str</td><td>str</td><td>str</td><td>str</td><td>str</td><td>str</td><td>str</td><td>str</td><td>str</td><td>str</td><td>str</td><td>str</td><td>str</td><td>str</td><td>str</td><td>str</td><td>str</td><td>str</td><td>str</td></tr></thead><tbody><tr><td>&quot;CHEBI:10&quot;</td><td>&quot;(+)-Atherospermoline&quot;</td><td>&quot;biolink:SmallMolecule|biolink:…</td><td>&quot;CHEBI:10|PUBCHEM.COMPOUND:1771…</td><td>&quot;100.0&quot;</td><td>null</td><td>null</td><td>null</td><td>null</td><td>null</td><td>null</td><td>null</td><td>null</td><td>null</td><td>null</td><td>null</td><td>null</td><td>null</td><td>null</td><td>null</td><td>null</td></tr><tr><td>&quot;CHEBI:100&quot;</td><td>&quot;(-)-medicarpin&quot;</td><td>&quot;biolink:NamedThing|biolink:Phy…</td><td>&quot;CHEMBL.COMPOUND:CHEMBL238845|C…</td><td>&quot;95.4&quot;</td><td>&quot;The (-)-enantiomer of medicarp…</td><td>null</td><td>null</td><td>null</td><td>null</td><td>null</td><td>null</td><td>null</td><td>null</td><td>null</td><td>null</td><td>null</td><td>null</td><td>null</td><td>null</td><td>null</td></tr><tr><td>&quot;CHEBI:10000&quot;</td><td>&quot;Vismione D&quot;</td><td>&quot;biolink:SmallMolecule|biolink:…</td><td>&quot;CHEBI:10000|PUBCHEM.COMPOUND:5…</td><td>&quot;100.0&quot;</td><td>null</td><td>null</td><td>null</td><td>null</td><td>null</td><td>null</td><td>null</td><td>null</td><td>null</td><td>null</td><td>null</td><td>null</td><td>null</td><td>null</td><td>null</td><td>null</td></tr><tr><td>&quot;CHEBI:100000&quot;</td><td>&quot;(2S,3S,4R)-3-[4-(3-cyclopentyl…</td><td>&quot;biolink:SmallMolecule|biolink:…</td><td>&quot;CHEBI:100000|PUBCHEM.COMPOUND:…</td><td>&quot;100.0&quot;</td><td>null</td><td>null</td><td>null</td><td>null</td><td>null</td><td>null</td><td>null</td><td>null</td><td>null</td><td>null</td><td>null</td><td>null</td><td>null</td><td>null</td><td>null</td><td>null</td></tr><tr><td>&quot;CHEBI:100001&quot;</td><td>&quot;N-[(2R,3S,6R)-2-(hydroxymethyl…</td><td>&quot;biolink:SmallMolecule|biolink:…</td><td>&quot;CHEBI:100001|PUBCHEM.COMPOUND:…</td><td>&quot;100.0&quot;</td><td>null</td><td>null</td><td>null</td><td>null</td><td>null</td><td>null</td><td>null</td><td>null</td><td>null</td><td>null</td><td>null</td><td>null</td><td>null</td><td>null</td><td>null</td><td>null</td></tr></tbody></table></div>"
      ],
      "text/plain": [
       "shape: (5, 21)\n",
       "┌───────────┬───────────┬───────────┬───────────┬───┬───────────┬───────────┬───────────┬──────────┐\n",
       "│ id        ┆ name:stri ┆ category  ┆ equivalen ┆ … ┆ symbol:st ┆ location: ┆ taxon:str ┆ NCBITaxo │\n",
       "│ ---       ┆ ng        ┆ ---       ┆ t_identif ┆   ┆ ring      ┆ string    ┆ ing       ┆ n:string │\n",
       "│ str       ┆ ---       ┆ str       ┆ iers      ┆   ┆ ---       ┆ ---       ┆ ---       ┆ ---      │\n",
       "│           ┆ str       ┆           ┆ ---       ┆   ┆ str       ┆ str       ┆ str       ┆ str      │\n",
       "│           ┆           ┆           ┆ str       ┆   ┆           ┆           ┆           ┆          │\n",
       "╞═══════════╪═══════════╪═══════════╪═══════════╪═══╪═══════════╪═══════════╪═══════════╪══════════╡\n",
       "│ CHEBI:10  ┆ (+)-Ather ┆ biolink:S ┆ CHEBI:10| ┆ … ┆ null      ┆ null      ┆ null      ┆ null     │\n",
       "│           ┆ ospermoli ┆ mallMolec ┆ PUBCHEM.C ┆   ┆           ┆           ┆           ┆          │\n",
       "│           ┆ ne        ┆ ule|bioli ┆ OMPOUND:1 ┆   ┆           ┆           ┆           ┆          │\n",
       "│           ┆           ┆ nk:…      ┆ 771…      ┆   ┆           ┆           ┆           ┆          │\n",
       "│ CHEBI:100 ┆ (-)-medic ┆ biolink:N ┆ CHEMBL.CO ┆ … ┆ null      ┆ null      ┆ null      ┆ null     │\n",
       "│           ┆ arpin     ┆ amedThing ┆ MPOUND:CH ┆   ┆           ┆           ┆           ┆          │\n",
       "│           ┆           ┆ |biolink: ┆ EMBL23884 ┆   ┆           ┆           ┆           ┆          │\n",
       "│           ┆           ┆ Phy…      ┆ 5|C…      ┆   ┆           ┆           ┆           ┆          │\n",
       "│ CHEBI:100 ┆ Vismione  ┆ biolink:S ┆ CHEBI:100 ┆ … ┆ null      ┆ null      ┆ null      ┆ null     │\n",
       "│ 00        ┆ D         ┆ mallMolec ┆ 00|PUBCHE ┆   ┆           ┆           ┆           ┆          │\n",
       "│           ┆           ┆ ule|bioli ┆ M.COMPOUN ┆   ┆           ┆           ┆           ┆          │\n",
       "│           ┆           ┆ nk:…      ┆ D:5…      ┆   ┆           ┆           ┆           ┆          │\n",
       "│ CHEBI:100 ┆ (2S,3S,4R ┆ biolink:S ┆ CHEBI:100 ┆ … ┆ null      ┆ null      ┆ null      ┆ null     │\n",
       "│ 000       ┆ )-3-[4-(3 ┆ mallMolec ┆ 000|PUBCH ┆   ┆           ┆           ┆           ┆          │\n",
       "│           ┆ -cyclopen ┆ ule|bioli ┆ EM.COMPOU ┆   ┆           ┆           ┆           ┆          │\n",
       "│           ┆ tyl…      ┆ nk:…      ┆ ND:…      ┆   ┆           ┆           ┆           ┆          │\n",
       "│ CHEBI:100 ┆ N-[(2R,3S ┆ biolink:S ┆ CHEBI:100 ┆ … ┆ null      ┆ null      ┆ null      ┆ null     │\n",
       "│ 001       ┆ ,6R)-2-(h ┆ mallMolec ┆ 001|PUBCH ┆   ┆           ┆           ┆           ┆          │\n",
       "│           ┆ ydroxymet ┆ ule|bioli ┆ EM.COMPOU ┆   ┆           ┆           ┆           ┆          │\n",
       "│           ┆ hyl…      ┆ nk:…      ┆ ND:…      ┆   ┆           ┆           ┆           ┆          │\n",
       "└───────────┴───────────┴───────────┴───────────┴───┴───────────┴───────────┴───────────┴──────────┘"
      ]
     },
     "execution_count": 5,
     "metadata": {},
     "output_type": "execute_result"
    }
   ],
   "source": [
    "rkgnodes.head()"
   ]
  },
  {
   "cell_type": "code",
   "execution_count": 6,
   "metadata": {},
   "outputs": [
    {
     "data": {
      "text/html": [
       "<div><style>\n",
       ".dataframe > thead > tr,\n",
       ".dataframe > tbody > tr {\n",
       "  text-align: right;\n",
       "  white-space: pre-wrap;\n",
       "}\n",
       "</style>\n",
       "<small>shape: (1, 21)</small><table border=\"1\" class=\"dataframe\"><thead><tr><th>id</th><th>name:string</th><th>category</th><th>equivalent_identifiers</th><th>information_content:float</th><th>description:string</th><th>cd_formula:string</th><th>cd_molweight:float</th><th>clogp:float</th><th>alogs:float</th><th>tpsa:float</th><th>mrdef:string</th><th>smiles:string</th><th>status:string</th><th>definition:string</th><th>url:string</th><th>locus_group:string</th><th>symbol:string</th><th>location:string</th><th>taxon:string</th><th>NCBITaxon:string</th></tr><tr><td>str</td><td>str</td><td>str</td><td>str</td><td>str</td><td>str</td><td>str</td><td>str</td><td>str</td><td>str</td><td>str</td><td>str</td><td>str</td><td>str</td><td>str</td><td>str</td><td>str</td><td>str</td><td>str</td><td>str</td><td>str</td></tr></thead><tbody><tr><td>&quot;CHEBI:50745&quot;</td><td>&quot;progestogen&quot;</td><td>&quot;biolink:NamedThing|biolink:Phy…</td><td>&quot;CHEBI:59826|CHEBI:50745|MESH:D…</td><td>&quot;78.5&quot;</td><td>&quot;A compound that interacts with…</td><td>null</td><td>null</td><td>null</td><td>null</td><td>null</td><td>null</td><td>null</td><td>null</td><td>null</td><td>null</td><td>null</td><td>null</td><td>null</td><td>null</td><td>null</td></tr></tbody></table></div>"
      ],
      "text/plain": [
       "shape: (1, 21)\n",
       "┌───────────┬───────────┬───────────┬───────────┬───┬───────────┬───────────┬───────────┬──────────┐\n",
       "│ id        ┆ name:stri ┆ category  ┆ equivalen ┆ … ┆ symbol:st ┆ location: ┆ taxon:str ┆ NCBITaxo │\n",
       "│ ---       ┆ ng        ┆ ---       ┆ t_identif ┆   ┆ ring      ┆ string    ┆ ing       ┆ n:string │\n",
       "│ str       ┆ ---       ┆ str       ┆ iers      ┆   ┆ ---       ┆ ---       ┆ ---       ┆ ---      │\n",
       "│           ┆ str       ┆           ┆ ---       ┆   ┆ str       ┆ str       ┆ str       ┆ str      │\n",
       "│           ┆           ┆           ┆ str       ┆   ┆           ┆           ┆           ┆          │\n",
       "╞═══════════╪═══════════╪═══════════╪═══════════╪═══╪═══════════╪═══════════╪═══════════╪══════════╡\n",
       "│ CHEBI:507 ┆ progestog ┆ biolink:N ┆ CHEBI:598 ┆ … ┆ null      ┆ null      ┆ null      ┆ null     │\n",
       "│ 45        ┆ en        ┆ amedThing ┆ 26|CHEBI: ┆   ┆           ┆           ┆           ┆          │\n",
       "│           ┆           ┆ |biolink: ┆ 50745|MES ┆   ┆           ┆           ┆           ┆          │\n",
       "│           ┆           ┆ Phy…      ┆ H:D…      ┆   ┆           ┆           ┆           ┆          │\n",
       "└───────────┴───────────┴───────────┴───────────┴───┴───────────┴───────────┴───────────┴──────────┘"
      ]
     },
     "execution_count": 6,
     "metadata": {},
     "output_type": "execute_result"
    }
   ],
   "source": [
    "rkgnodes.filter(pl.col(\"id\") == \"CHEBI:50745\")"
   ]
  },
  {
   "cell_type": "code",
   "execution_count": 7,
   "metadata": {},
   "outputs": [
    {
     "data": {
      "text/html": [
       "<div><style>\n",
       ".dataframe > thead > tr,\n",
       ".dataframe > tbody > tr {\n",
       "  text-align: right;\n",
       "  white-space: pre-wrap;\n",
       "}\n",
       "</style>\n",
       "<small>shape: (46_065, 13)</small><table border=\"1\" class=\"dataframe\"><thead><tr><th>original_object</th><th>original_subject</th><th>indication</th><th>contraindication</th><th>y</th><th>drug|disease</th><th>disease</th><th>drug</th><th>predicate</th><th>source</th><th>subject_normalization_success</th><th>target</th><th>object_normalization_success</th></tr><tr><td>str</td><td>str</td><td>str</td><td>str</td><td>i32</td><td>str</td><td>str</td><td>str</td><td>str</td><td>str</td><td>bool</td><td>str</td><td>bool</td></tr></thead><tbody><tr><td>&quot;MONDO:0002406&quot;</td><td>&quot;CHEBI:31199&quot;</td><td>&quot;True&quot;</td><td>&quot;False&quot;</td><td>1</td><td>&quot;CHEBI:31199|MONDO:0002406&quot;</td><td>&quot;MONDO:0002406&quot;</td><td>&quot;CHEBI:31199&quot;</td><td>&quot;clinical_trails&quot;</td><td>&quot;CHEBI:31199&quot;</td><td>true</td><td>&quot;MONDO:0002406&quot;</td><td>true</td></tr><tr><td>&quot;MONDO:0002406&quot;</td><td>&quot;CHEBI:5108&quot;</td><td>&quot;True&quot;</td><td>&quot;False&quot;</td><td>1</td><td>&quot;CHEBI:5108|MONDO:0002406&quot;</td><td>&quot;MONDO:0002406&quot;</td><td>&quot;CHEBI:5108&quot;</td><td>&quot;clinical_trails&quot;</td><td>&quot;CHEBI:5108&quot;</td><td>true</td><td>&quot;MONDO:0002406&quot;</td><td>true</td></tr><tr><td>&quot;MONDO:0002406&quot;</td><td>&quot;CHEBI:2948&quot;</td><td>&quot;True&quot;</td><td>&quot;False&quot;</td><td>1</td><td>&quot;CHEBI:2948|MONDO:0002406&quot;</td><td>&quot;MONDO:0002406&quot;</td><td>&quot;CHEBI:2948&quot;</td><td>&quot;clinical_trails&quot;</td><td>&quot;CHEBI:2948&quot;</td><td>true</td><td>&quot;MONDO:0002406&quot;</td><td>true</td></tr><tr><td>&quot;MONDO:0002406&quot;</td><td>&quot;CHEBI:422&quot;</td><td>&quot;True&quot;</td><td>&quot;False&quot;</td><td>1</td><td>&quot;CHEBI:422|MONDO:0002406&quot;</td><td>&quot;MONDO:0002406&quot;</td><td>&quot;CHEBI:422&quot;</td><td>&quot;clinical_trails&quot;</td><td>&quot;CHEBI:422&quot;</td><td>true</td><td>&quot;MONDO:0002406&quot;</td><td>true</td></tr><tr><td>&quot;MONDO:0002406&quot;</td><td>&quot;CHEBI:31414&quot;</td><td>&quot;True&quot;</td><td>&quot;False&quot;</td><td>1</td><td>&quot;CHEBI:31414|MONDO:0002406&quot;</td><td>&quot;MONDO:0002406&quot;</td><td>&quot;CHEBI:31414&quot;</td><td>&quot;clinical_trails&quot;</td><td>&quot;CHEBI:31414&quot;</td><td>true</td><td>&quot;MONDO:0002406&quot;</td><td>true</td></tr><tr><td>&hellip;</td><td>&hellip;</td><td>&hellip;</td><td>&hellip;</td><td>&hellip;</td><td>&hellip;</td><td>&hellip;</td><td>&hellip;</td><td>&hellip;</td><td>&hellip;</td><td>&hellip;</td><td>&hellip;</td><td>&hellip;</td></tr><tr><td>&quot;MONDO:0033312&quot;</td><td>&quot;CHEBI:84500&quot;</td><td>&quot;False&quot;</td><td>&quot;True&quot;</td><td>0</td><td>&quot;CHEBI:84500|MONDO:0033312&quot;</td><td>&quot;MONDO:0033312&quot;</td><td>&quot;CHEBI:84500&quot;</td><td>&quot;clinical_trails&quot;</td><td>&quot;CHEBI:84500&quot;</td><td>true</td><td>&quot;MONDO:0033312&quot;</td><td>true</td></tr><tr><td>&quot;MONDO:0033312&quot;</td><td>&quot;CHEBI:47499&quot;</td><td>&quot;False&quot;</td><td>&quot;True&quot;</td><td>0</td><td>&quot;CHEBI:47499|MONDO:0033312&quot;</td><td>&quot;MONDO:0033312&quot;</td><td>&quot;CHEBI:47499&quot;</td><td>&quot;clinical_trails&quot;</td><td>&quot;CHEBI:47499&quot;</td><td>true</td><td>&quot;MONDO:0033312&quot;</td><td>true</td></tr><tr><td>&quot;MONDO:0033312&quot;</td><td>&quot;CHEBI:47781&quot;</td><td>&quot;False&quot;</td><td>&quot;True&quot;</td><td>0</td><td>&quot;CHEBI:47781|MONDO:0033312&quot;</td><td>&quot;MONDO:0033312&quot;</td><td>&quot;CHEBI:47781&quot;</td><td>&quot;clinical_trails&quot;</td><td>&quot;CHEBI:47781&quot;</td><td>true</td><td>&quot;MONDO:0033312&quot;</td><td>true</td></tr><tr><td>&quot;MONDO:0033312&quot;</td><td>&quot;CHEBI:8597&quot;</td><td>&quot;False&quot;</td><td>&quot;True&quot;</td><td>0</td><td>&quot;CHEBI:8597|MONDO:0033312&quot;</td><td>&quot;MONDO:0033312&quot;</td><td>&quot;CHEBI:8597&quot;</td><td>&quot;clinical_trails&quot;</td><td>&quot;CHEBI:8597&quot;</td><td>true</td><td>&quot;MONDO:0033312&quot;</td><td>true</td></tr><tr><td>&quot;MONDO:0033312&quot;</td><td>&quot;CHEBI:2675&quot;</td><td>&quot;False&quot;</td><td>&quot;True&quot;</td><td>0</td><td>&quot;CHEBI:2675|MONDO:0033312&quot;</td><td>&quot;MONDO:0033312&quot;</td><td>&quot;CHEBI:2675&quot;</td><td>&quot;clinical_trails&quot;</td><td>&quot;CHEBI:2675&quot;</td><td>true</td><td>&quot;MONDO:0033312&quot;</td><td>true</td></tr></tbody></table></div>"
      ],
      "text/plain": [
       "shape: (46_065, 13)\n",
       "┌───────────┬───────────┬───────────┬───────────┬───┬───────────┬───────────┬───────────┬──────────┐\n",
       "│ original_ ┆ original_ ┆ indicatio ┆ contraind ┆ … ┆ source    ┆ subject_n ┆ target    ┆ object_n │\n",
       "│ object    ┆ subject   ┆ n         ┆ ication   ┆   ┆ ---       ┆ ormalizat ┆ ---       ┆ ormaliza │\n",
       "│ ---       ┆ ---       ┆ ---       ┆ ---       ┆   ┆ str       ┆ ion_succe ┆ str       ┆ tion_suc │\n",
       "│ str       ┆ str       ┆ str       ┆ str       ┆   ┆           ┆ ss        ┆           ┆ cess     │\n",
       "│           ┆           ┆           ┆           ┆   ┆           ┆ ---       ┆           ┆ ---      │\n",
       "│           ┆           ┆           ┆           ┆   ┆           ┆ bool      ┆           ┆ bool     │\n",
       "╞═══════════╪═══════════╪═══════════╪═══════════╪═══╪═══════════╪═══════════╪═══════════╪══════════╡\n",
       "│ MONDO:000 ┆ CHEBI:311 ┆ True      ┆ False     ┆ … ┆ CHEBI:311 ┆ true      ┆ MONDO:000 ┆ true     │\n",
       "│ 2406      ┆ 99        ┆           ┆           ┆   ┆ 99        ┆           ┆ 2406      ┆          │\n",
       "│ MONDO:000 ┆ CHEBI:510 ┆ True      ┆ False     ┆ … ┆ CHEBI:510 ┆ true      ┆ MONDO:000 ┆ true     │\n",
       "│ 2406      ┆ 8         ┆           ┆           ┆   ┆ 8         ┆           ┆ 2406      ┆          │\n",
       "│ MONDO:000 ┆ CHEBI:294 ┆ True      ┆ False     ┆ … ┆ CHEBI:294 ┆ true      ┆ MONDO:000 ┆ true     │\n",
       "│ 2406      ┆ 8         ┆           ┆           ┆   ┆ 8         ┆           ┆ 2406      ┆          │\n",
       "│ MONDO:000 ┆ CHEBI:422 ┆ True      ┆ False     ┆ … ┆ CHEBI:422 ┆ true      ┆ MONDO:000 ┆ true     │\n",
       "│ 2406      ┆           ┆           ┆           ┆   ┆           ┆           ┆ 2406      ┆          │\n",
       "│ MONDO:000 ┆ CHEBI:314 ┆ True      ┆ False     ┆ … ┆ CHEBI:314 ┆ true      ┆ MONDO:000 ┆ true     │\n",
       "│ 2406      ┆ 14        ┆           ┆           ┆   ┆ 14        ┆           ┆ 2406      ┆          │\n",
       "│ …         ┆ …         ┆ …         ┆ …         ┆ … ┆ …         ┆ …         ┆ …         ┆ …        │\n",
       "│ MONDO:003 ┆ CHEBI:845 ┆ False     ┆ True      ┆ … ┆ CHEBI:845 ┆ true      ┆ MONDO:003 ┆ true     │\n",
       "│ 3312      ┆ 00        ┆           ┆           ┆   ┆ 00        ┆           ┆ 3312      ┆          │\n",
       "│ MONDO:003 ┆ CHEBI:474 ┆ False     ┆ True      ┆ … ┆ CHEBI:474 ┆ true      ┆ MONDO:003 ┆ true     │\n",
       "│ 3312      ┆ 99        ┆           ┆           ┆   ┆ 99        ┆           ┆ 3312      ┆          │\n",
       "│ MONDO:003 ┆ CHEBI:477 ┆ False     ┆ True      ┆ … ┆ CHEBI:477 ┆ true      ┆ MONDO:003 ┆ true     │\n",
       "│ 3312      ┆ 81        ┆           ┆           ┆   ┆ 81        ┆           ┆ 3312      ┆          │\n",
       "│ MONDO:003 ┆ CHEBI:859 ┆ False     ┆ True      ┆ … ┆ CHEBI:859 ┆ true      ┆ MONDO:003 ┆ true     │\n",
       "│ 3312      ┆ 7         ┆           ┆           ┆   ┆ 7         ┆           ┆ 3312      ┆          │\n",
       "│ MONDO:003 ┆ CHEBI:267 ┆ False     ┆ True      ┆ … ┆ CHEBI:267 ┆ true      ┆ MONDO:003 ┆ true     │\n",
       "│ 3312      ┆ 5         ┆           ┆           ┆   ┆ 5         ┆           ┆ 3312      ┆          │\n",
       "└───────────┴───────────┴───────────┴───────────┴───┴───────────┴───────────┴───────────┴──────────┘"
      ]
     },
     "execution_count": 7,
     "metadata": {},
     "output_type": "execute_result"
    }
   ],
   "source": [
    "gt_retained_ROBOKOP = pl.read_parquet(\"gs://mtrx-us-central1-hub-dev-storage/kedro/data/tests/base_robo_num_walks_50_walk_length_30/runs/main-0b4f8ab2/datasets/modelling/ground_truth/translator/v2.10.0_validated/ground_truth_pairs/\")\n",
    "gt_retained_ROBOKOP"
   ]
  },
  {
   "cell_type": "code",
   "execution_count": 8,
   "metadata": {},
   "outputs": [],
   "source": [
    "gt_retained_ROBOKOP = gt_retained_ROBOKOP.with_columns((pl.col(\"original_subject\") == pl.col(\"drug\")).alias(\"ori_vs_drugid\"))"
   ]
  },
  {
   "cell_type": "code",
   "execution_count": 9,
   "metadata": {},
   "outputs": [
    {
     "data": {
      "text/html": [
       "<div><style>\n",
       ".dataframe > thead > tr,\n",
       ".dataframe > tbody > tr {\n",
       "  text-align: right;\n",
       "  white-space: pre-wrap;\n",
       "}\n",
       "</style>\n",
       "<small>shape: (46_065, 14)</small><table border=\"1\" class=\"dataframe\"><thead><tr><th>original_object</th><th>original_subject</th><th>indication</th><th>contraindication</th><th>y</th><th>drug|disease</th><th>disease</th><th>drug</th><th>predicate</th><th>source</th><th>subject_normalization_success</th><th>target</th><th>object_normalization_success</th><th>ori_vs_drugid</th></tr><tr><td>str</td><td>str</td><td>str</td><td>str</td><td>i32</td><td>str</td><td>str</td><td>str</td><td>str</td><td>str</td><td>bool</td><td>str</td><td>bool</td><td>bool</td></tr></thead><tbody><tr><td>&quot;MONDO:0002406&quot;</td><td>&quot;CHEBI:31199&quot;</td><td>&quot;True&quot;</td><td>&quot;False&quot;</td><td>1</td><td>&quot;CHEBI:31199|MONDO:0002406&quot;</td><td>&quot;MONDO:0002406&quot;</td><td>&quot;CHEBI:31199&quot;</td><td>&quot;clinical_trails&quot;</td><td>&quot;CHEBI:31199&quot;</td><td>true</td><td>&quot;MONDO:0002406&quot;</td><td>true</td><td>true</td></tr><tr><td>&quot;MONDO:0002406&quot;</td><td>&quot;CHEBI:5108&quot;</td><td>&quot;True&quot;</td><td>&quot;False&quot;</td><td>1</td><td>&quot;CHEBI:5108|MONDO:0002406&quot;</td><td>&quot;MONDO:0002406&quot;</td><td>&quot;CHEBI:5108&quot;</td><td>&quot;clinical_trails&quot;</td><td>&quot;CHEBI:5108&quot;</td><td>true</td><td>&quot;MONDO:0002406&quot;</td><td>true</td><td>true</td></tr><tr><td>&quot;MONDO:0002406&quot;</td><td>&quot;CHEBI:2948&quot;</td><td>&quot;True&quot;</td><td>&quot;False&quot;</td><td>1</td><td>&quot;CHEBI:2948|MONDO:0002406&quot;</td><td>&quot;MONDO:0002406&quot;</td><td>&quot;CHEBI:2948&quot;</td><td>&quot;clinical_trails&quot;</td><td>&quot;CHEBI:2948&quot;</td><td>true</td><td>&quot;MONDO:0002406&quot;</td><td>true</td><td>true</td></tr><tr><td>&quot;MONDO:0002406&quot;</td><td>&quot;CHEBI:422&quot;</td><td>&quot;True&quot;</td><td>&quot;False&quot;</td><td>1</td><td>&quot;CHEBI:422|MONDO:0002406&quot;</td><td>&quot;MONDO:0002406&quot;</td><td>&quot;CHEBI:422&quot;</td><td>&quot;clinical_trails&quot;</td><td>&quot;CHEBI:422&quot;</td><td>true</td><td>&quot;MONDO:0002406&quot;</td><td>true</td><td>true</td></tr><tr><td>&quot;MONDO:0002406&quot;</td><td>&quot;CHEBI:31414&quot;</td><td>&quot;True&quot;</td><td>&quot;False&quot;</td><td>1</td><td>&quot;CHEBI:31414|MONDO:0002406&quot;</td><td>&quot;MONDO:0002406&quot;</td><td>&quot;CHEBI:31414&quot;</td><td>&quot;clinical_trails&quot;</td><td>&quot;CHEBI:31414&quot;</td><td>true</td><td>&quot;MONDO:0002406&quot;</td><td>true</td><td>true</td></tr><tr><td>&hellip;</td><td>&hellip;</td><td>&hellip;</td><td>&hellip;</td><td>&hellip;</td><td>&hellip;</td><td>&hellip;</td><td>&hellip;</td><td>&hellip;</td><td>&hellip;</td><td>&hellip;</td><td>&hellip;</td><td>&hellip;</td><td>&hellip;</td></tr><tr><td>&quot;MONDO:0033312&quot;</td><td>&quot;CHEBI:84500&quot;</td><td>&quot;False&quot;</td><td>&quot;True&quot;</td><td>0</td><td>&quot;CHEBI:84500|MONDO:0033312&quot;</td><td>&quot;MONDO:0033312&quot;</td><td>&quot;CHEBI:84500&quot;</td><td>&quot;clinical_trails&quot;</td><td>&quot;CHEBI:84500&quot;</td><td>true</td><td>&quot;MONDO:0033312&quot;</td><td>true</td><td>true</td></tr><tr><td>&quot;MONDO:0033312&quot;</td><td>&quot;CHEBI:47499&quot;</td><td>&quot;False&quot;</td><td>&quot;True&quot;</td><td>0</td><td>&quot;CHEBI:47499|MONDO:0033312&quot;</td><td>&quot;MONDO:0033312&quot;</td><td>&quot;CHEBI:47499&quot;</td><td>&quot;clinical_trails&quot;</td><td>&quot;CHEBI:47499&quot;</td><td>true</td><td>&quot;MONDO:0033312&quot;</td><td>true</td><td>true</td></tr><tr><td>&quot;MONDO:0033312&quot;</td><td>&quot;CHEBI:47781&quot;</td><td>&quot;False&quot;</td><td>&quot;True&quot;</td><td>0</td><td>&quot;CHEBI:47781|MONDO:0033312&quot;</td><td>&quot;MONDO:0033312&quot;</td><td>&quot;CHEBI:47781&quot;</td><td>&quot;clinical_trails&quot;</td><td>&quot;CHEBI:47781&quot;</td><td>true</td><td>&quot;MONDO:0033312&quot;</td><td>true</td><td>true</td></tr><tr><td>&quot;MONDO:0033312&quot;</td><td>&quot;CHEBI:8597&quot;</td><td>&quot;False&quot;</td><td>&quot;True&quot;</td><td>0</td><td>&quot;CHEBI:8597|MONDO:0033312&quot;</td><td>&quot;MONDO:0033312&quot;</td><td>&quot;CHEBI:8597&quot;</td><td>&quot;clinical_trails&quot;</td><td>&quot;CHEBI:8597&quot;</td><td>true</td><td>&quot;MONDO:0033312&quot;</td><td>true</td><td>true</td></tr><tr><td>&quot;MONDO:0033312&quot;</td><td>&quot;CHEBI:2675&quot;</td><td>&quot;False&quot;</td><td>&quot;True&quot;</td><td>0</td><td>&quot;CHEBI:2675|MONDO:0033312&quot;</td><td>&quot;MONDO:0033312&quot;</td><td>&quot;CHEBI:2675&quot;</td><td>&quot;clinical_trails&quot;</td><td>&quot;CHEBI:2675&quot;</td><td>true</td><td>&quot;MONDO:0033312&quot;</td><td>true</td><td>true</td></tr></tbody></table></div>"
      ],
      "text/plain": [
       "shape: (46_065, 14)\n",
       "┌───────────┬───────────┬───────────┬───────────┬───┬───────────┬───────────┬───────────┬──────────┐\n",
       "│ original_ ┆ original_ ┆ indicatio ┆ contraind ┆ … ┆ subject_n ┆ target    ┆ object_no ┆ ori_vs_d │\n",
       "│ object    ┆ subject   ┆ n         ┆ ication   ┆   ┆ ormalizat ┆ ---       ┆ rmalizati ┆ rugid    │\n",
       "│ ---       ┆ ---       ┆ ---       ┆ ---       ┆   ┆ ion_succe ┆ str       ┆ on_succes ┆ ---      │\n",
       "│ str       ┆ str       ┆ str       ┆ str       ┆   ┆ ss        ┆           ┆ s         ┆ bool     │\n",
       "│           ┆           ┆           ┆           ┆   ┆ ---       ┆           ┆ ---       ┆          │\n",
       "│           ┆           ┆           ┆           ┆   ┆ bool      ┆           ┆ bool      ┆          │\n",
       "╞═══════════╪═══════════╪═══════════╪═══════════╪═══╪═══════════╪═══════════╪═══════════╪══════════╡\n",
       "│ MONDO:000 ┆ CHEBI:311 ┆ True      ┆ False     ┆ … ┆ true      ┆ MONDO:000 ┆ true      ┆ true     │\n",
       "│ 2406      ┆ 99        ┆           ┆           ┆   ┆           ┆ 2406      ┆           ┆          │\n",
       "│ MONDO:000 ┆ CHEBI:510 ┆ True      ┆ False     ┆ … ┆ true      ┆ MONDO:000 ┆ true      ┆ true     │\n",
       "│ 2406      ┆ 8         ┆           ┆           ┆   ┆           ┆ 2406      ┆           ┆          │\n",
       "│ MONDO:000 ┆ CHEBI:294 ┆ True      ┆ False     ┆ … ┆ true      ┆ MONDO:000 ┆ true      ┆ true     │\n",
       "│ 2406      ┆ 8         ┆           ┆           ┆   ┆           ┆ 2406      ┆           ┆          │\n",
       "│ MONDO:000 ┆ CHEBI:422 ┆ True      ┆ False     ┆ … ┆ true      ┆ MONDO:000 ┆ true      ┆ true     │\n",
       "│ 2406      ┆           ┆           ┆           ┆   ┆           ┆ 2406      ┆           ┆          │\n",
       "│ MONDO:000 ┆ CHEBI:314 ┆ True      ┆ False     ┆ … ┆ true      ┆ MONDO:000 ┆ true      ┆ true     │\n",
       "│ 2406      ┆ 14        ┆           ┆           ┆   ┆           ┆ 2406      ┆           ┆          │\n",
       "│ …         ┆ …         ┆ …         ┆ …         ┆ … ┆ …         ┆ …         ┆ …         ┆ …        │\n",
       "│ MONDO:003 ┆ CHEBI:845 ┆ False     ┆ True      ┆ … ┆ true      ┆ MONDO:003 ┆ true      ┆ true     │\n",
       "│ 3312      ┆ 00        ┆           ┆           ┆   ┆           ┆ 3312      ┆           ┆          │\n",
       "│ MONDO:003 ┆ CHEBI:474 ┆ False     ┆ True      ┆ … ┆ true      ┆ MONDO:003 ┆ true      ┆ true     │\n",
       "│ 3312      ┆ 99        ┆           ┆           ┆   ┆           ┆ 3312      ┆           ┆          │\n",
       "│ MONDO:003 ┆ CHEBI:477 ┆ False     ┆ True      ┆ … ┆ true      ┆ MONDO:003 ┆ true      ┆ true     │\n",
       "│ 3312      ┆ 81        ┆           ┆           ┆   ┆           ┆ 3312      ┆           ┆          │\n",
       "│ MONDO:003 ┆ CHEBI:859 ┆ False     ┆ True      ┆ … ┆ true      ┆ MONDO:003 ┆ true      ┆ true     │\n",
       "│ 3312      ┆ 7         ┆           ┆           ┆   ┆           ┆ 3312      ┆           ┆          │\n",
       "│ MONDO:003 ┆ CHEBI:267 ┆ False     ┆ True      ┆ … ┆ true      ┆ MONDO:003 ┆ true      ┆ true     │\n",
       "│ 3312      ┆ 5         ┆           ┆           ┆   ┆           ┆ 3312      ┆           ┆          │\n",
       "└───────────┴───────────┴───────────┴───────────┴───┴───────────┴───────────┴───────────┴──────────┘"
      ]
     },
     "execution_count": 9,
     "metadata": {},
     "output_type": "execute_result"
    }
   ],
   "source": [
    "gt_retained_ROBOKOP"
   ]
  },
  {
   "cell_type": "code",
   "execution_count": 10,
   "metadata": {},
   "outputs": [
    {
     "data": {
      "text/html": [
       "<div><style>\n",
       ".dataframe > thead > tr,\n",
       ".dataframe > tbody > tr {\n",
       "  text-align: right;\n",
       "  white-space: pre-wrap;\n",
       "}\n",
       "</style>\n",
       "<small>shape: (1, 1)</small><table border=\"1\" class=\"dataframe\"><thead><tr><th>ori_vs_drugid</th></tr><tr><td>struct[2]</td></tr></thead><tbody><tr><td>{true,46065}</td></tr></tbody></table></div>"
      ],
      "text/plain": [
       "shape: (1, 1)\n",
       "┌───────────────┐\n",
       "│ ori_vs_drugid │\n",
       "│ ---           │\n",
       "│ struct[2]     │\n",
       "╞═══════════════╡\n",
       "│ {true,46065}  │\n",
       "└───────────────┘"
      ]
     },
     "execution_count": 10,
     "metadata": {},
     "output_type": "execute_result"
    }
   ],
   "source": [
    "gt_retained_ROBOKOP.select(pl.col(\"ori_vs_drugid\").value_counts())"
   ]
  },
  {
   "cell_type": "code",
   "execution_count": 11,
   "metadata": {},
   "outputs": [
    {
     "data": {
      "text/plain": [
       "(46065, 14)"
      ]
     },
     "execution_count": 11,
     "metadata": {},
     "output_type": "execute_result"
    }
   ],
   "source": [
    "gt_retained_ROBOKOP.shape"
   ]
  },
  {
   "cell_type": "code",
   "execution_count": 12,
   "metadata": {},
   "outputs": [],
   "source": [
    "fs = gcsfs.GCSFileSystem()\n",
    "files = fs.ls('mtrx-us-central1-hub-dev-storage/kedro/data/tests/base_robo_num_walks_50_walk_length_30/datasets/ingestion/ground_truth/translator/v2.10.0_validated/gt_pairs.tsv')\n",
    "\n",
    "# Filter to only .tsv files\n",
    "tsv_files = ['gs://' + f for f in files if f.endswith('.csv')]\n",
    "\n",
    "# Read and concatenate all TSVs\n",
    "gt_ori = pd.concat([pd.read_csv(f, sep='\\t') for f in tsv_files], ignore_index=True)\n",
    "\n",
    "gt_ori = pl.from_pandas(gt_ori)"
   ]
  },
  {
   "cell_type": "code",
   "execution_count": 13,
   "metadata": {},
   "outputs": [
    {
     "data": {
      "text/html": [
       "<div><style>\n",
       ".dataframe > thead > tr,\n",
       ".dataframe > tbody > tr {\n",
       "  text-align: right;\n",
       "  white-space: pre-wrap;\n",
       "}\n",
       "</style>\n",
       "<small>shape: (69_001, 6)</small><table border=\"1\" class=\"dataframe\"><thead><tr><th>source</th><th>target</th><th>indication</th><th>contraindication</th><th>y</th><th>drug|disease</th></tr><tr><td>str</td><td>str</td><td>bool</td><td>bool</td><td>i64</td><td>str</td></tr></thead><tbody><tr><td>&quot;UMLS:C0450442&quot;</td><td>&quot;MONDO:0005429&quot;</td><td>true</td><td>false</td><td>1</td><td>&quot;UMLS:C0450442|MONDO:0005429&quot;</td></tr><tr><td>&quot;CHEBI:8711&quot;</td><td>&quot;MONDO:0005429&quot;</td><td>true</td><td>false</td><td>1</td><td>&quot;CHEBI:8711|MONDO:0005429&quot;</td></tr><tr><td>&quot;CHEBI:59826&quot;</td><td>&quot;HP:0100608&quot;</td><td>true</td><td>false</td><td>1</td><td>&quot;CHEBI:59826|HP:0100608&quot;</td></tr><tr><td>&quot;UMLS:C0243192&quot;</td><td>&quot;MONDO:0000088&quot;</td><td>true</td><td>false</td><td>1</td><td>&quot;UMLS:C0243192|MONDO:0000088&quot;</td></tr><tr><td>&quot;PUBCHEM.COMPOUND:36523&quot;</td><td>&quot;MONDO:0000088&quot;</td><td>true</td><td>false</td><td>1</td><td>&quot;PUBCHEM.COMPOUND:36523|MONDO:0…</td></tr><tr><td>&hellip;</td><td>&hellip;</td><td>&hellip;</td><td>&hellip;</td><td>&hellip;</td><td>&hellip;</td></tr><tr><td>&quot;CHEBI:45863&quot;</td><td>&quot;MONDO:0019210&quot;</td><td>false</td><td>true</td><td>0</td><td>&quot;CHEBI:45863|MONDO:0019210&quot;</td></tr><tr><td>&quot;CHEBI:3699&quot;</td><td>&quot;MONDO:0001942&quot;</td><td>false</td><td>true</td><td>0</td><td>&quot;CHEBI:3699|MONDO:0001942&quot;</td></tr><tr><td>&quot;CHEBI:6801&quot;</td><td>&quot;MONDO:0001942&quot;</td><td>false</td><td>true</td><td>0</td><td>&quot;CHEBI:6801|MONDO:0001942&quot;</td></tr><tr><td>&quot;CHEBI:63631&quot;</td><td>&quot;MONDO:0005347&quot;</td><td>false</td><td>true</td><td>0</td><td>&quot;CHEBI:63631|MONDO:0005347&quot;</td></tr><tr><td>&quot;CHEBI:3441&quot;</td><td>&quot;MONDO:0005027&quot;</td><td>false</td><td>true</td><td>0</td><td>&quot;CHEBI:3441|MONDO:0005027&quot;</td></tr></tbody></table></div>"
      ],
      "text/plain": [
       "shape: (69_001, 6)\n",
       "┌──────────────────────┬───────────────┬────────────┬──────────────────┬─────┬─────────────────────┐\n",
       "│ source               ┆ target        ┆ indication ┆ contraindication ┆ y   ┆ drug|disease        │\n",
       "│ ---                  ┆ ---           ┆ ---        ┆ ---              ┆ --- ┆ ---                 │\n",
       "│ str                  ┆ str           ┆ bool       ┆ bool             ┆ i64 ┆ str                 │\n",
       "╞══════════════════════╪═══════════════╪════════════╪══════════════════╪═════╪═════════════════════╡\n",
       "│ UMLS:C0450442        ┆ MONDO:0005429 ┆ true       ┆ false            ┆ 1   ┆ UMLS:C0450442|MONDO │\n",
       "│                      ┆               ┆            ┆                  ┆     ┆ :0005429            │\n",
       "│ CHEBI:8711           ┆ MONDO:0005429 ┆ true       ┆ false            ┆ 1   ┆ CHEBI:8711|MONDO:00 │\n",
       "│                      ┆               ┆            ┆                  ┆     ┆ 05429               │\n",
       "│ CHEBI:59826          ┆ HP:0100608    ┆ true       ┆ false            ┆ 1   ┆ CHEBI:59826|HP:0100 │\n",
       "│                      ┆               ┆            ┆                  ┆     ┆ 608                 │\n",
       "│ UMLS:C0243192        ┆ MONDO:0000088 ┆ true       ┆ false            ┆ 1   ┆ UMLS:C0243192|MONDO │\n",
       "│                      ┆               ┆            ┆                  ┆     ┆ :0000088            │\n",
       "│ PUBCHEM.COMPOUND:365 ┆ MONDO:0000088 ┆ true       ┆ false            ┆ 1   ┆ PUBCHEM.COMPOUND:36 │\n",
       "│ 23                   ┆               ┆            ┆                  ┆     ┆ 523|MONDO:0…        │\n",
       "│ …                    ┆ …             ┆ …          ┆ …                ┆ …   ┆ …                   │\n",
       "│ CHEBI:45863          ┆ MONDO:0019210 ┆ false      ┆ true             ┆ 0   ┆ CHEBI:45863|MONDO:0 │\n",
       "│                      ┆               ┆            ┆                  ┆     ┆ 019210              │\n",
       "│ CHEBI:3699           ┆ MONDO:0001942 ┆ false      ┆ true             ┆ 0   ┆ CHEBI:3699|MONDO:00 │\n",
       "│                      ┆               ┆            ┆                  ┆     ┆ 01942               │\n",
       "│ CHEBI:6801           ┆ MONDO:0001942 ┆ false      ┆ true             ┆ 0   ┆ CHEBI:6801|MONDO:00 │\n",
       "│                      ┆               ┆            ┆                  ┆     ┆ 01942               │\n",
       "│ CHEBI:63631          ┆ MONDO:0005347 ┆ false      ┆ true             ┆ 0   ┆ CHEBI:63631|MONDO:0 │\n",
       "│                      ┆               ┆            ┆                  ┆     ┆ 005347              │\n",
       "│ CHEBI:3441           ┆ MONDO:0005027 ┆ false      ┆ true             ┆ 0   ┆ CHEBI:3441|MONDO:00 │\n",
       "│                      ┆               ┆            ┆                  ┆     ┆ 05027               │\n",
       "└──────────────────────┴───────────────┴────────────┴──────────────────┴─────┴─────────────────────┘"
      ]
     },
     "execution_count": 13,
     "metadata": {},
     "output_type": "execute_result"
    }
   ],
   "source": [
    "gt_ori"
   ]
  },
  {
   "cell_type": "code",
   "execution_count": 14,
   "metadata": {},
   "outputs": [
    {
     "data": {
      "text/html": [
       "<div><style>\n",
       ".dataframe > thead > tr,\n",
       ".dataframe > tbody > tr {\n",
       "  text-align: right;\n",
       "  white-space: pre-wrap;\n",
       "}\n",
       "</style>\n",
       "<small>shape: (2, 2)</small><table border=\"1\" class=\"dataframe\"><thead><tr><th>y</th><th>count</th></tr><tr><td>i64</td><td>u32</td></tr></thead><tbody><tr><td>0</td><td>40439</td></tr><tr><td>1</td><td>28562</td></tr></tbody></table></div>"
      ],
      "text/plain": [
       "shape: (2, 2)\n",
       "┌─────┬───────┐\n",
       "│ y   ┆ count │\n",
       "│ --- ┆ ---   │\n",
       "│ i64 ┆ u32   │\n",
       "╞═════╪═══════╡\n",
       "│ 0   ┆ 40439 │\n",
       "│ 1   ┆ 28562 │\n",
       "└─────┴───────┘"
      ]
     },
     "execution_count": 14,
     "metadata": {},
     "output_type": "execute_result"
    }
   ],
   "source": [
    "gt_ori[\"y\"].value_counts()"
   ]
  },
  {
   "cell_type": "code",
   "execution_count": 15,
   "metadata": {},
   "outputs": [
    {
     "name": "stderr",
     "output_type": "stream",
     "text": [
      "/var/folders/1r/m2w57_0j69n3bgl22609_d580000gq/T/ipykernel_94107/2567263648.py:1: DeprecationWarning: `is_in` with a collection of the same datatype is ambiguous and deprecated.\n",
      "Please use `implode` to return to previous behavior.\n",
      "\n",
      "See https://github.com/pola-rs/polars/issues/22149 for more information.\n",
      "  gt = gt_ori.with_columns(\n"
     ]
    }
   ],
   "source": [
    "gt = gt_ori.with_columns(\n",
    "    pl.col(\"drug|disease\").is_in(gt_retained_ROBOKOP[\"drug|disease\"]).alias(\"ddpair_in_ROBOKOP\")\n",
    ")"
   ]
  },
  {
   "cell_type": "code",
   "execution_count": 16,
   "metadata": {},
   "outputs": [
    {
     "data": {
      "text/html": [
       "<div><style>\n",
       ".dataframe > thead > tr,\n",
       ".dataframe > tbody > tr {\n",
       "  text-align: right;\n",
       "  white-space: pre-wrap;\n",
       "}\n",
       "</style>\n",
       "<small>shape: (2, 2)</small><table border=\"1\" class=\"dataframe\"><thead><tr><th>ddpair_in_ROBOKOP</th><th>count</th></tr><tr><td>bool</td><td>u32</td></tr></thead><tbody><tr><td>true</td><td>46065</td></tr><tr><td>false</td><td>22936</td></tr></tbody></table></div>"
      ],
      "text/plain": [
       "shape: (2, 2)\n",
       "┌───────────────────┬───────┐\n",
       "│ ddpair_in_ROBOKOP ┆ count │\n",
       "│ ---               ┆ ---   │\n",
       "│ bool              ┆ u32   │\n",
       "╞═══════════════════╪═══════╡\n",
       "│ true              ┆ 46065 │\n",
       "│ false             ┆ 22936 │\n",
       "└───────────────────┴───────┘"
      ]
     },
     "execution_count": 16,
     "metadata": {},
     "output_type": "execute_result"
    }
   ],
   "source": [
    "gt[\"ddpair_in_ROBOKOP\"].value_counts()"
   ]
  },
  {
   "cell_type": "code",
   "execution_count": 17,
   "metadata": {},
   "outputs": [
    {
     "name": "stderr",
     "output_type": "stream",
     "text": [
      "/var/folders/1r/m2w57_0j69n3bgl22609_d580000gq/T/ipykernel_94107/2490421795.py:1: DeprecationWarning: `is_in` with a collection of the same datatype is ambiguous and deprecated.\n",
      "Please use `implode` to return to previous behavior.\n",
      "\n",
      "See https://github.com/pola-rs/polars/issues/22149 for more information.\n",
      "  gt = gt.with_columns(pl.col(\"source\").is_in(rkgnodes[\"id\"]).alias(\"source_id_in_ROBOKOP_id\"))\n",
      "/var/folders/1r/m2w57_0j69n3bgl22609_d580000gq/T/ipykernel_94107/2490421795.py:2: DeprecationWarning: `is_in` with a collection of the same datatype is ambiguous and deprecated.\n",
      "Please use `implode` to return to previous behavior.\n",
      "\n",
      "See https://github.com/pola-rs/polars/issues/22149 for more information.\n",
      "  gt = gt.with_columns(pl.col(\"target\").is_in(rkgnodes[\"id\"]).alias(\"target_id_in_ROBOKOP_id\"))\n"
     ]
    }
   ],
   "source": [
    "gt = gt.with_columns(pl.col(\"source\").is_in(rkgnodes[\"id\"]).alias(\"source_id_in_ROBOKOP_id\"))\n",
    "gt = gt.with_columns(pl.col(\"target\").is_in(rkgnodes[\"id\"]).alias(\"target_id_in_ROBOKOP_id\"))"
   ]
  },
  {
   "cell_type": "code",
   "execution_count": 18,
   "metadata": {},
   "outputs": [],
   "source": [
    "rkgnodes_exploded = rkgnodes.with_columns(\n",
    "    pl.col(\"equivalent_identifiers\").str.split(\"|\")\n",
    ").explode(\"equivalent_identifiers\")"
   ]
  },
  {
   "cell_type": "code",
   "execution_count": 19,
   "metadata": {},
   "outputs": [],
   "source": [
    "gt = gt.join(\n",
    "    rkgnodes_exploded.select([\"id\", \"equivalent_identifiers\"]),\n",
    "    left_on=\"source\",\n",
    "    right_on=\"equivalent_identifiers\",\n",
    "    how=\"left\"\n",
    ").rename({\"id\": \"source_id_in_ROBOKOP_EquiIDS\"})"
   ]
  },
  {
   "cell_type": "code",
   "execution_count": 20,
   "metadata": {},
   "outputs": [],
   "source": [
    "gt = gt.join(\n",
    "    rkgnodes_exploded.select([\"id\", \"equivalent_identifiers\"]),\n",
    "    left_on=\"target\",\n",
    "    right_on=\"equivalent_identifiers\",\n",
    "    how=\"left\"\n",
    ").rename({\"id\": \"target_id_in_ROBOKOP_EquiIDS\"})"
   ]
  },
  {
   "cell_type": "code",
   "execution_count": 21,
   "metadata": {},
   "outputs": [
    {
     "data": {
      "text/html": [
       "<div><style>\n",
       ".dataframe > thead > tr,\n",
       ".dataframe > tbody > tr {\n",
       "  text-align: right;\n",
       "  white-space: pre-wrap;\n",
       "}\n",
       "</style>\n",
       "<small>shape: (10_368, 11)</small><table border=\"1\" class=\"dataframe\"><thead><tr><th>source</th><th>target</th><th>indication</th><th>contraindication</th><th>y</th><th>drug|disease</th><th>ddpair_in_ROBOKOP</th><th>source_id_in_ROBOKOP_id</th><th>target_id_in_ROBOKOP_id</th><th>source_id_in_ROBOKOP_EquiIDS</th><th>target_id_in_ROBOKOP_EquiIDS</th></tr><tr><td>str</td><td>str</td><td>bool</td><td>bool</td><td>i64</td><td>str</td><td>bool</td><td>bool</td><td>bool</td><td>str</td><td>str</td></tr></thead><tbody><tr><td>&quot;CHEBI:59826&quot;</td><td>&quot;HP:0100608&quot;</td><td>true</td><td>false</td><td>1</td><td>&quot;CHEBI:59826|HP:0100608&quot;</td><td>false</td><td>false</td><td>true</td><td>&quot;CHEBI:50745&quot;</td><td>&quot;HP:0100608&quot;</td></tr><tr><td>&quot;PUBCHEM.COMPOUND:23686432&quot;</td><td>&quot;UMLS:C0038663&quot;</td><td>true</td><td>false</td><td>1</td><td>&quot;PUBCHEM.COMPOUND:23686432|UMLS…</td><td>false</td><td>false</td><td>true</td><td>&quot;CHEBI:30146&quot;</td><td>&quot;UMLS:C0038663&quot;</td></tr><tr><td>&quot;CHEBI:4463&quot;</td><td>&quot;MONDO:0017364&quot;</td><td>true</td><td>false</td><td>1</td><td>&quot;CHEBI:4463|MONDO:0017364&quot;</td><td>false</td><td>false</td><td>true</td><td>&quot;CHEBI:4462&quot;</td><td>&quot;MONDO:0017364&quot;</td></tr><tr><td>&quot;CHEBI:100241&quot;</td><td>&quot;MONDO:0019345&quot;</td><td>true</td><td>false</td><td>1</td><td>&quot;CHEBI:100241|MONDO:0019345&quot;</td><td>false</td><td>false</td><td>true</td><td>&quot;CHEBI:59936&quot;</td><td>&quot;MONDO:0019345&quot;</td></tr><tr><td>&quot;CHEBI:29007&quot;</td><td>&quot;MONDO:0019345&quot;</td><td>true</td><td>false</td><td>1</td><td>&quot;CHEBI:29007|MONDO:0019345&quot;</td><td>false</td><td>false</td><td>true</td><td>&quot;CHEBI:3514&quot;</td><td>&quot;MONDO:0019345&quot;</td></tr><tr><td>&hellip;</td><td>&hellip;</td><td>&hellip;</td><td>&hellip;</td><td>&hellip;</td><td>&hellip;</td><td>&hellip;</td><td>&hellip;</td><td>&hellip;</td><td>&hellip;</td><td>&hellip;</td></tr><tr><td>&quot;CHEBI:4027&quot;</td><td>&quot;MONDO:0008383&quot;</td><td>false</td><td>true</td><td>0</td><td>&quot;CHEBI:4027|MONDO:0008383&quot;</td><td>false</td><td>false</td><td>true</td><td>&quot;CHEBI:4026&quot;</td><td>&quot;MONDO:0008383&quot;</td></tr><tr><td>&quot;CHEBI:47381&quot;</td><td>&quot;MONDO:0004795&quot;</td><td>false</td><td>true</td><td>0</td><td>&quot;CHEBI:47381|MONDO:0004795&quot;</td><td>false</td><td>false</td><td>true</td><td>&quot;CHEBI:4508&quot;</td><td>&quot;MONDO:0004795&quot;</td></tr><tr><td>&quot;PUBCHEM.COMPOUND:60852&quot;</td><td>&quot;HP:0012531&quot;</td><td>false</td><td>true</td><td>0</td><td>&quot;PUBCHEM.COMPOUND:60852|HP:0012…</td><td>false</td><td>false</td><td>true</td><td>&quot;UNII:UMD7G2653W&quot;</td><td>&quot;HP:0012531&quot;</td></tr><tr><td>&quot;PUBCHEM.COMPOUND:5460033&quot;</td><td>&quot;HP:0012531&quot;</td><td>false</td><td>true</td><td>0</td><td>&quot;PUBCHEM.COMPOUND:5460033|HP:00…</td><td>false</td><td>false</td><td>true</td><td>&quot;CHEBI:27899&quot;</td><td>&quot;HP:0012531&quot;</td></tr><tr><td>&quot;PUBCHEM.COMPOUND:24083&quot;</td><td>&quot;HP:0012531&quot;</td><td>false</td><td>true</td><td>0</td><td>&quot;PUBCHEM.COMPOUND:24083|HP:0012…</td><td>false</td><td>false</td><td>true</td><td>&quot;CHEBI:31795&quot;</td><td>&quot;HP:0012531&quot;</td></tr></tbody></table></div>"
      ],
      "text/plain": [
       "shape: (10_368, 11)\n",
       "┌───────────┬───────────┬───────────┬───────────┬───┬───────────┬───────────┬───────────┬──────────┐\n",
       "│ source    ┆ target    ┆ indicatio ┆ contraind ┆ … ┆ source_id ┆ target_id ┆ source_id ┆ target_i │\n",
       "│ ---       ┆ ---       ┆ n         ┆ ication   ┆   ┆ _in_ROBOK ┆ _in_ROBOK ┆ _in_ROBOK ┆ d_in_ROB │\n",
       "│ str       ┆ str       ┆ ---       ┆ ---       ┆   ┆ OP_id     ┆ OP_id     ┆ OP_EquiID ┆ OKOP_Equ │\n",
       "│           ┆           ┆ bool      ┆ bool      ┆   ┆ ---       ┆ ---       ┆ S         ┆ iIDS     │\n",
       "│           ┆           ┆           ┆           ┆   ┆ bool      ┆ bool      ┆ ---       ┆ ---      │\n",
       "│           ┆           ┆           ┆           ┆   ┆           ┆           ┆ str       ┆ str      │\n",
       "╞═══════════╪═══════════╪═══════════╪═══════════╪═══╪═══════════╪═══════════╪═══════════╪══════════╡\n",
       "│ CHEBI:598 ┆ HP:010060 ┆ true      ┆ false     ┆ … ┆ false     ┆ true      ┆ CHEBI:507 ┆ HP:01006 │\n",
       "│ 26        ┆ 8         ┆           ┆           ┆   ┆           ┆           ┆ 45        ┆ 08       │\n",
       "│ PUBCHEM.C ┆ UMLS:C003 ┆ true      ┆ false     ┆ … ┆ false     ┆ true      ┆ CHEBI:301 ┆ UMLS:C00 │\n",
       "│ OMPOUND:2 ┆ 8663      ┆           ┆           ┆   ┆           ┆           ┆ 46        ┆ 38663    │\n",
       "│ 3686432   ┆           ┆           ┆           ┆   ┆           ┆           ┆           ┆          │\n",
       "│ CHEBI:446 ┆ MONDO:001 ┆ true      ┆ false     ┆ … ┆ false     ┆ true      ┆ CHEBI:446 ┆ MONDO:00 │\n",
       "│ 3         ┆ 7364      ┆           ┆           ┆   ┆           ┆           ┆ 2         ┆ 17364    │\n",
       "│ CHEBI:100 ┆ MONDO:001 ┆ true      ┆ false     ┆ … ┆ false     ┆ true      ┆ CHEBI:599 ┆ MONDO:00 │\n",
       "│ 241       ┆ 9345      ┆           ┆           ┆   ┆           ┆           ┆ 36        ┆ 19345    │\n",
       "│ CHEBI:290 ┆ MONDO:001 ┆ true      ┆ false     ┆ … ┆ false     ┆ true      ┆ CHEBI:351 ┆ MONDO:00 │\n",
       "│ 07        ┆ 9345      ┆           ┆           ┆   ┆           ┆           ┆ 4         ┆ 19345    │\n",
       "│ …         ┆ …         ┆ …         ┆ …         ┆ … ┆ …         ┆ …         ┆ …         ┆ …        │\n",
       "│ CHEBI:402 ┆ MONDO:000 ┆ false     ┆ true      ┆ … ┆ false     ┆ true      ┆ CHEBI:402 ┆ MONDO:00 │\n",
       "│ 7         ┆ 8383      ┆           ┆           ┆   ┆           ┆           ┆ 6         ┆ 08383    │\n",
       "│ CHEBI:473 ┆ MONDO:000 ┆ false     ┆ true      ┆ … ┆ false     ┆ true      ┆ CHEBI:450 ┆ MONDO:00 │\n",
       "│ 81        ┆ 4795      ┆           ┆           ┆   ┆           ┆           ┆ 8         ┆ 04795    │\n",
       "│ PUBCHEM.C ┆ HP:001253 ┆ false     ┆ true      ┆ … ┆ false     ┆ true      ┆ UNII:UMD7 ┆ HP:00125 │\n",
       "│ OMPOUND:6 ┆ 1         ┆           ┆           ┆   ┆           ┆           ┆ G2653W    ┆ 31       │\n",
       "│ 0852      ┆           ┆           ┆           ┆   ┆           ┆           ┆           ┆          │\n",
       "│ PUBCHEM.C ┆ HP:001253 ┆ false     ┆ true      ┆ … ┆ false     ┆ true      ┆ CHEBI:278 ┆ HP:00125 │\n",
       "│ OMPOUND:5 ┆ 1         ┆           ┆           ┆   ┆           ┆           ┆ 99        ┆ 31       │\n",
       "│ 460033    ┆           ┆           ┆           ┆   ┆           ┆           ┆           ┆          │\n",
       "│ PUBCHEM.C ┆ HP:001253 ┆ false     ┆ true      ┆ … ┆ false     ┆ true      ┆ CHEBI:317 ┆ HP:00125 │\n",
       "│ OMPOUND:2 ┆ 1         ┆           ┆           ┆   ┆           ┆           ┆ 95        ┆ 31       │\n",
       "│ 4083      ┆           ┆           ┆           ┆   ┆           ┆           ┆           ┆          │\n",
       "└───────────┴───────────┴───────────┴───────────┴───┴───────────┴───────────┴───────────┴──────────┘"
      ]
     },
     "execution_count": 21,
     "metadata": {},
     "output_type": "execute_result"
    }
   ],
   "source": [
    "# source id not preferred id but FOUND in equivalent identifiers\n",
    "gt.filter(\n",
    "    (pl.col(\"source_id_in_ROBOKOP_id\") == False) &\n",
    "    (pl.col(\"source_id_in_ROBOKOP_EquiIDS\").is_not_null())\n",
    ")#.select(pl.col(\"source\").n_unique())"
   ]
  },
  {
   "cell_type": "code",
   "execution_count": 22,
   "metadata": {},
   "outputs": [
    {
     "data": {
      "text/html": [
       "<div><style>\n",
       ".dataframe > thead > tr,\n",
       ".dataframe > tbody > tr {\n",
       "  text-align: right;\n",
       "  white-space: pre-wrap;\n",
       "}\n",
       "</style>\n",
       "<small>shape: (565, 11)</small><table border=\"1\" class=\"dataframe\"><thead><tr><th>source</th><th>target</th><th>indication</th><th>contraindication</th><th>y</th><th>drug|disease</th><th>ddpair_in_ROBOKOP</th><th>source_id_in_ROBOKOP_id</th><th>target_id_in_ROBOKOP_id</th><th>source_id_in_ROBOKOP_EquiIDS</th><th>target_id_in_ROBOKOP_EquiIDS</th></tr><tr><td>str</td><td>str</td><td>bool</td><td>bool</td><td>i64</td><td>str</td><td>bool</td><td>bool</td><td>bool</td><td>str</td><td>str</td></tr></thead><tbody><tr><td>&quot;CHEBI:6909&quot;</td><td>&quot;UMLS:C0031094&quot;</td><td>true</td><td>false</td><td>1</td><td>&quot;CHEBI:6909|UMLS:C0031094&quot;</td><td>false</td><td>true</td><td>false</td><td>&quot;CHEBI:6909&quot;</td><td>&quot;EFO:1001393&quot;</td></tr><tr><td>&quot;UMLS:C1136254&quot;</td><td>&quot;UMLS:C0031094&quot;</td><td>true</td><td>false</td><td>1</td><td>&quot;UMLS:C1136254|UMLS:C0031094&quot;</td><td>false</td><td>true</td><td>false</td><td>&quot;UMLS:C1136254&quot;</td><td>&quot;EFO:1001393&quot;</td></tr><tr><td>&quot;CHEBI:16664&quot;</td><td>&quot;UMLS:C0019911&quot;</td><td>true</td><td>false</td><td>1</td><td>&quot;CHEBI:16664|UMLS:C0019911&quot;</td><td>false</td><td>true</td><td>false</td><td>&quot;CHEBI:16664&quot;</td><td>&quot;MONDO:0005799&quot;</td></tr><tr><td>&quot;CHEBI:6704&quot;</td><td>&quot;UMLS:C0019911&quot;</td><td>true</td><td>false</td><td>1</td><td>&quot;CHEBI:6704|UMLS:C0019911&quot;</td><td>false</td><td>true</td><td>false</td><td>&quot;CHEBI:6704&quot;</td><td>&quot;MONDO:0005799&quot;</td></tr><tr><td>&quot;CHEBI:136007&quot;</td><td>&quot;NCIT:C148034&quot;</td><td>true</td><td>false</td><td>1</td><td>&quot;CHEBI:136007|NCIT:C148034&quot;</td><td>false</td><td>true</td><td>false</td><td>&quot;CHEBI:136007&quot;</td><td>&quot;MONDO:0100187&quot;</td></tr><tr><td>&hellip;</td><td>&hellip;</td><td>&hellip;</td><td>&hellip;</td><td>&hellip;</td><td>&hellip;</td><td>&hellip;</td><td>&hellip;</td><td>&hellip;</td><td>&hellip;</td><td>&hellip;</td></tr><tr><td>&quot;CHEBI:3611&quot;</td><td>&quot;EFO:0009454&quot;</td><td>false</td><td>true</td><td>0</td><td>&quot;CHEBI:3611|EFO:0009454&quot;</td><td>false</td><td>true</td><td>false</td><td>&quot;CHEBI:3611&quot;</td><td>&quot;MONDO:0001126&quot;</td></tr><tr><td>&quot;CHEBI:6129&quot;</td><td>&quot;EFO:0009454&quot;</td><td>false</td><td>true</td><td>0</td><td>&quot;CHEBI:6129|EFO:0009454&quot;</td><td>false</td><td>true</td><td>false</td><td>&quot;CHEBI:6129&quot;</td><td>&quot;MONDO:0001126&quot;</td></tr><tr><td>&quot;CHEBI:3219&quot;</td><td>&quot;HP:0002039&quot;</td><td>false</td><td>true</td><td>0</td><td>&quot;CHEBI:3219|HP:0002039&quot;</td><td>false</td><td>true</td><td>false</td><td>&quot;CHEBI:3219&quot;</td><td>&quot;MONDO:0005351&quot;</td></tr><tr><td>&quot;CHEBI:4463&quot;</td><td>&quot;UMLS:C0401160&quot;</td><td>false</td><td>true</td><td>0</td><td>&quot;CHEBI:4463|UMLS:C0401160&quot;</td><td>false</td><td>false</td><td>false</td><td>&quot;CHEBI:4462&quot;</td><td>&quot;EFO:0006911&quot;</td></tr><tr><td>&quot;CHEBI:135515&quot;</td><td>&quot;UMLS:C0855112&quot;</td><td>false</td><td>true</td><td>0</td><td>&quot;CHEBI:135515|UMLS:C0855112&quot;</td><td>false</td><td>true</td><td>false</td><td>&quot;CHEBI:135515&quot;</td><td>&quot;MONDO:0000901&quot;</td></tr></tbody></table></div>"
      ],
      "text/plain": [
       "shape: (565, 11)\n",
       "┌───────────┬───────────┬───────────┬───────────┬───┬───────────┬───────────┬───────────┬──────────┐\n",
       "│ source    ┆ target    ┆ indicatio ┆ contraind ┆ … ┆ source_id ┆ target_id ┆ source_id ┆ target_i │\n",
       "│ ---       ┆ ---       ┆ n         ┆ ication   ┆   ┆ _in_ROBOK ┆ _in_ROBOK ┆ _in_ROBOK ┆ d_in_ROB │\n",
       "│ str       ┆ str       ┆ ---       ┆ ---       ┆   ┆ OP_id     ┆ OP_id     ┆ OP_EquiID ┆ OKOP_Equ │\n",
       "│           ┆           ┆ bool      ┆ bool      ┆   ┆ ---       ┆ ---       ┆ S         ┆ iIDS     │\n",
       "│           ┆           ┆           ┆           ┆   ┆ bool      ┆ bool      ┆ ---       ┆ ---      │\n",
       "│           ┆           ┆           ┆           ┆   ┆           ┆           ┆ str       ┆ str      │\n",
       "╞═══════════╪═══════════╪═══════════╪═══════════╪═══╪═══════════╪═══════════╪═══════════╪══════════╡\n",
       "│ CHEBI:690 ┆ UMLS:C003 ┆ true      ┆ false     ┆ … ┆ true      ┆ false     ┆ CHEBI:690 ┆ EFO:1001 │\n",
       "│ 9         ┆ 1094      ┆           ┆           ┆   ┆           ┆           ┆ 9         ┆ 393      │\n",
       "│ UMLS:C113 ┆ UMLS:C003 ┆ true      ┆ false     ┆ … ┆ true      ┆ false     ┆ UMLS:C113 ┆ EFO:1001 │\n",
       "│ 6254      ┆ 1094      ┆           ┆           ┆   ┆           ┆           ┆ 6254      ┆ 393      │\n",
       "│ CHEBI:166 ┆ UMLS:C001 ┆ true      ┆ false     ┆ … ┆ true      ┆ false     ┆ CHEBI:166 ┆ MONDO:00 │\n",
       "│ 64        ┆ 9911      ┆           ┆           ┆   ┆           ┆           ┆ 64        ┆ 05799    │\n",
       "│ CHEBI:670 ┆ UMLS:C001 ┆ true      ┆ false     ┆ … ┆ true      ┆ false     ┆ CHEBI:670 ┆ MONDO:00 │\n",
       "│ 4         ┆ 9911      ┆           ┆           ┆   ┆           ┆           ┆ 4         ┆ 05799    │\n",
       "│ CHEBI:136 ┆ NCIT:C148 ┆ true      ┆ false     ┆ … ┆ true      ┆ false     ┆ CHEBI:136 ┆ MONDO:01 │\n",
       "│ 007       ┆ 034       ┆           ┆           ┆   ┆           ┆           ┆ 007       ┆ 00187    │\n",
       "│ …         ┆ …         ┆ …         ┆ …         ┆ … ┆ …         ┆ …         ┆ …         ┆ …        │\n",
       "│ CHEBI:361 ┆ EFO:00094 ┆ false     ┆ true      ┆ … ┆ true      ┆ false     ┆ CHEBI:361 ┆ MONDO:00 │\n",
       "│ 1         ┆ 54        ┆           ┆           ┆   ┆           ┆           ┆ 1         ┆ 01126    │\n",
       "│ CHEBI:612 ┆ EFO:00094 ┆ false     ┆ true      ┆ … ┆ true      ┆ false     ┆ CHEBI:612 ┆ MONDO:00 │\n",
       "│ 9         ┆ 54        ┆           ┆           ┆   ┆           ┆           ┆ 9         ┆ 01126    │\n",
       "│ CHEBI:321 ┆ HP:000203 ┆ false     ┆ true      ┆ … ┆ true      ┆ false     ┆ CHEBI:321 ┆ MONDO:00 │\n",
       "│ 9         ┆ 9         ┆           ┆           ┆   ┆           ┆           ┆ 9         ┆ 05351    │\n",
       "│ CHEBI:446 ┆ UMLS:C040 ┆ false     ┆ true      ┆ … ┆ false     ┆ false     ┆ CHEBI:446 ┆ EFO:0006 │\n",
       "│ 3         ┆ 1160      ┆           ┆           ┆   ┆           ┆           ┆ 2         ┆ 911      │\n",
       "│ CHEBI:135 ┆ UMLS:C085 ┆ false     ┆ true      ┆ … ┆ true      ┆ false     ┆ CHEBI:135 ┆ MONDO:00 │\n",
       "│ 515       ┆ 5112      ┆           ┆           ┆   ┆           ┆           ┆ 515       ┆ 00901    │\n",
       "└───────────┴───────────┴───────────┴───────────┴───┴───────────┴───────────┴───────────┴──────────┘"
      ]
     },
     "execution_count": 22,
     "metadata": {},
     "output_type": "execute_result"
    }
   ],
   "source": [
    "# target id not preferred id but FOUND in equivalent identifiers\n",
    "gt.filter(\n",
    "    (pl.col(\"target_id_in_ROBOKOP_id\") == False) &\n",
    "    (pl.col(\"target_id_in_ROBOKOP_EquiIDS\").is_not_null())\n",
    ")#.select(pl.col(\"target\").n_unique())"
   ]
  },
  {
   "cell_type": "code",
   "execution_count": 23,
   "metadata": {},
   "outputs": [
    {
     "data": {
      "text/html": [
       "<div><style>\n",
       ".dataframe > thead > tr,\n",
       ".dataframe > tbody > tr {\n",
       "  text-align: right;\n",
       "  white-space: pre-wrap;\n",
       "}\n",
       "</style>\n",
       "<small>shape: (4_158, 11)</small><table border=\"1\" class=\"dataframe\"><thead><tr><th>source</th><th>target</th><th>indication</th><th>contraindication</th><th>y</th><th>drug|disease</th><th>ddpair_in_ROBOKOP</th><th>source_id_in_ROBOKOP_id</th><th>target_id_in_ROBOKOP_id</th><th>source_id_in_ROBOKOP_EquiIDS</th><th>target_id_in_ROBOKOP_EquiIDS</th></tr><tr><td>str</td><td>str</td><td>bool</td><td>bool</td><td>i64</td><td>str</td><td>bool</td><td>bool</td><td>bool</td><td>str</td><td>str</td></tr></thead><tbody><tr><td>&quot;UMLS:C0450442&quot;</td><td>&quot;MONDO:0005429&quot;</td><td>true</td><td>false</td><td>1</td><td>&quot;UMLS:C0450442|MONDO:0005429&quot;</td><td>false</td><td>false</td><td>true</td><td>null</td><td>&quot;MONDO:0005429&quot;</td></tr><tr><td>&quot;UMLS:C0243192&quot;</td><td>&quot;MONDO:0000088&quot;</td><td>true</td><td>false</td><td>1</td><td>&quot;UMLS:C0243192|MONDO:0000088&quot;</td><td>false</td><td>false</td><td>true</td><td>null</td><td>&quot;MONDO:0000088&quot;</td></tr><tr><td>&quot;UMLS:C0003289&quot;</td><td>&quot;UMLS:C0038663&quot;</td><td>true</td><td>false</td><td>1</td><td>&quot;UMLS:C0003289|UMLS:C0038663&quot;</td><td>false</td><td>false</td><td>true</td><td>null</td><td>&quot;UMLS:C0038663&quot;</td></tr><tr><td>&quot;UMLS:C0003289&quot;</td><td>&quot;UMLS:C0563664&quot;</td><td>true</td><td>false</td><td>1</td><td>&quot;UMLS:C0003289|UMLS:C0563664&quot;</td><td>false</td><td>false</td><td>false</td><td>null</td><td>null</td></tr><tr><td>&quot;UMLS:C1611640&quot;</td><td>&quot;MONDO:0007739&quot;</td><td>true</td><td>false</td><td>1</td><td>&quot;UMLS:C1611640|MONDO:0007739&quot;</td><td>false</td><td>false</td><td>true</td><td>null</td><td>&quot;MONDO:0007739&quot;</td></tr><tr><td>&hellip;</td><td>&hellip;</td><td>&hellip;</td><td>&hellip;</td><td>&hellip;</td><td>&hellip;</td><td>&hellip;</td><td>&hellip;</td><td>&hellip;</td><td>&hellip;</td><td>&hellip;</td></tr><tr><td>&quot;PUBCHEM.COMPOUND:49800036&quot;</td><td>&quot;DOID:0060504&quot;</td><td>false</td><td>true</td><td>0</td><td>&quot;PUBCHEM.COMPOUND:49800036|DOID…</td><td>false</td><td>false</td><td>false</td><td>null</td><td>null</td></tr><tr><td>&quot;PUBCHEM.COMPOUND:52945526&quot;</td><td>&quot;MONDO:0001475&quot;</td><td>false</td><td>true</td><td>0</td><td>&quot;PUBCHEM.COMPOUND:52945526|MOND…</td><td>false</td><td>false</td><td>true</td><td>null</td><td>&quot;MONDO:0001475&quot;</td></tr><tr><td>&quot;PUBCHEM.COMPOUND:14888&quot;</td><td>&quot;MONDO:0002447&quot;</td><td>false</td><td>true</td><td>0</td><td>&quot;PUBCHEM.COMPOUND:14888|MONDO:0…</td><td>false</td><td>false</td><td>true</td><td>null</td><td>&quot;MONDO:0002447&quot;</td></tr><tr><td>&quot;PUBCHEM.COMPOUND:14888&quot;</td><td>&quot;MONDO:0009891&quot;</td><td>false</td><td>true</td><td>0</td><td>&quot;PUBCHEM.COMPOUND:14888|MONDO:0…</td><td>false</td><td>false</td><td>true</td><td>null</td><td>&quot;MONDO:0009891&quot;</td></tr><tr><td>&quot;PUBCHEM.COMPOUND:14888&quot;</td><td>&quot;MONDO:0005029&quot;</td><td>false</td><td>true</td><td>0</td><td>&quot;PUBCHEM.COMPOUND:14888|MONDO:0…</td><td>false</td><td>false</td><td>true</td><td>null</td><td>&quot;MONDO:0005029&quot;</td></tr></tbody></table></div>"
      ],
      "text/plain": [
       "shape: (4_158, 11)\n",
       "┌───────────┬───────────┬───────────┬───────────┬───┬───────────┬───────────┬───────────┬──────────┐\n",
       "│ source    ┆ target    ┆ indicatio ┆ contraind ┆ … ┆ source_id ┆ target_id ┆ source_id ┆ target_i │\n",
       "│ ---       ┆ ---       ┆ n         ┆ ication   ┆   ┆ _in_ROBOK ┆ _in_ROBOK ┆ _in_ROBOK ┆ d_in_ROB │\n",
       "│ str       ┆ str       ┆ ---       ┆ ---       ┆   ┆ OP_id     ┆ OP_id     ┆ OP_EquiID ┆ OKOP_Equ │\n",
       "│           ┆           ┆ bool      ┆ bool      ┆   ┆ ---       ┆ ---       ┆ S         ┆ iIDS     │\n",
       "│           ┆           ┆           ┆           ┆   ┆ bool      ┆ bool      ┆ ---       ┆ ---      │\n",
       "│           ┆           ┆           ┆           ┆   ┆           ┆           ┆ str       ┆ str      │\n",
       "╞═══════════╪═══════════╪═══════════╪═══════════╪═══╪═══════════╪═══════════╪═══════════╪══════════╡\n",
       "│ UMLS:C045 ┆ MONDO:000 ┆ true      ┆ false     ┆ … ┆ false     ┆ true      ┆ null      ┆ MONDO:00 │\n",
       "│ 0442      ┆ 5429      ┆           ┆           ┆   ┆           ┆           ┆           ┆ 05429    │\n",
       "│ UMLS:C024 ┆ MONDO:000 ┆ true      ┆ false     ┆ … ┆ false     ┆ true      ┆ null      ┆ MONDO:00 │\n",
       "│ 3192      ┆ 0088      ┆           ┆           ┆   ┆           ┆           ┆           ┆ 00088    │\n",
       "│ UMLS:C000 ┆ UMLS:C003 ┆ true      ┆ false     ┆ … ┆ false     ┆ true      ┆ null      ┆ UMLS:C00 │\n",
       "│ 3289      ┆ 8663      ┆           ┆           ┆   ┆           ┆           ┆           ┆ 38663    │\n",
       "│ UMLS:C000 ┆ UMLS:C056 ┆ true      ┆ false     ┆ … ┆ false     ┆ false     ┆ null      ┆ null     │\n",
       "│ 3289      ┆ 3664      ┆           ┆           ┆   ┆           ┆           ┆           ┆          │\n",
       "│ UMLS:C161 ┆ MONDO:000 ┆ true      ┆ false     ┆ … ┆ false     ┆ true      ┆ null      ┆ MONDO:00 │\n",
       "│ 1640      ┆ 7739      ┆           ┆           ┆   ┆           ┆           ┆           ┆ 07739    │\n",
       "│ …         ┆ …         ┆ …         ┆ …         ┆ … ┆ …         ┆ …         ┆ …         ┆ …        │\n",
       "│ PUBCHEM.C ┆ DOID:0060 ┆ false     ┆ true      ┆ … ┆ false     ┆ false     ┆ null      ┆ null     │\n",
       "│ OMPOUND:4 ┆ 504       ┆           ┆           ┆   ┆           ┆           ┆           ┆          │\n",
       "│ 9800036   ┆           ┆           ┆           ┆   ┆           ┆           ┆           ┆          │\n",
       "│ PUBCHEM.C ┆ MONDO:000 ┆ false     ┆ true      ┆ … ┆ false     ┆ true      ┆ null      ┆ MONDO:00 │\n",
       "│ OMPOUND:5 ┆ 1475      ┆           ┆           ┆   ┆           ┆           ┆           ┆ 01475    │\n",
       "│ 2945526   ┆           ┆           ┆           ┆   ┆           ┆           ┆           ┆          │\n",
       "│ PUBCHEM.C ┆ MONDO:000 ┆ false     ┆ true      ┆ … ┆ false     ┆ true      ┆ null      ┆ MONDO:00 │\n",
       "│ OMPOUND:1 ┆ 2447      ┆           ┆           ┆   ┆           ┆           ┆           ┆ 02447    │\n",
       "│ 4888      ┆           ┆           ┆           ┆   ┆           ┆           ┆           ┆          │\n",
       "│ PUBCHEM.C ┆ MONDO:000 ┆ false     ┆ true      ┆ … ┆ false     ┆ true      ┆ null      ┆ MONDO:00 │\n",
       "│ OMPOUND:1 ┆ 9891      ┆           ┆           ┆   ┆           ┆           ┆           ┆ 09891    │\n",
       "│ 4888      ┆           ┆           ┆           ┆   ┆           ┆           ┆           ┆          │\n",
       "│ PUBCHEM.C ┆ MONDO:000 ┆ false     ┆ true      ┆ … ┆ false     ┆ true      ┆ null      ┆ MONDO:00 │\n",
       "│ OMPOUND:1 ┆ 5029      ┆           ┆           ┆   ┆           ┆           ┆           ┆ 05029    │\n",
       "│ 4888      ┆           ┆           ┆           ┆   ┆           ┆           ┆           ┆          │\n",
       "└───────────┴───────────┴───────────┴───────────┴───┴───────────┴───────────┴───────────┴──────────┘"
      ]
     },
     "execution_count": 23,
     "metadata": {},
     "output_type": "execute_result"
    }
   ],
   "source": [
    "# source id neither in preferred id nor in equivalent identifiers\n",
    "gt.filter(\n",
    "    (pl.col(\"source_id_in_ROBOKOP_id\") == False) &\n",
    "    (pl.col(\"source_id_in_ROBOKOP_EquiIDS\").is_null())\n",
    ")#.select(pl.col(\"source\").n_unique())"
   ]
  },
  {
   "cell_type": "code",
   "execution_count": 24,
   "metadata": {},
   "outputs": [
    {
     "data": {
      "text/html": [
       "<div><style>\n",
       ".dataframe > thead > tr,\n",
       ".dataframe > tbody > tr {\n",
       "  text-align: right;\n",
       "  white-space: pre-wrap;\n",
       "}\n",
       "</style>\n",
       "<small>shape: (8_336, 11)</small><table border=\"1\" class=\"dataframe\"><thead><tr><th>source</th><th>target</th><th>indication</th><th>contraindication</th><th>y</th><th>drug|disease</th><th>ddpair_in_ROBOKOP</th><th>source_id_in_ROBOKOP_id</th><th>target_id_in_ROBOKOP_id</th><th>source_id_in_ROBOKOP_EquiIDS</th><th>target_id_in_ROBOKOP_EquiIDS</th></tr><tr><td>str</td><td>str</td><td>bool</td><td>bool</td><td>i64</td><td>str</td><td>bool</td><td>bool</td><td>bool</td><td>str</td><td>str</td></tr></thead><tbody><tr><td>&quot;CHEBI:46345&quot;</td><td>&quot;UMLS:C1271404&quot;</td><td>true</td><td>false</td><td>1</td><td>&quot;CHEBI:46345|UMLS:C1271404&quot;</td><td>false</td><td>true</td><td>false</td><td>&quot;CHEBI:46345&quot;</td><td>null</td></tr><tr><td>&quot;UMLS:C0003289&quot;</td><td>&quot;UMLS:C0563664&quot;</td><td>true</td><td>false</td><td>1</td><td>&quot;UMLS:C0003289|UMLS:C0563664&quot;</td><td>false</td><td>false</td><td>false</td><td>null</td><td>null</td></tr><tr><td>&quot;UMLS:C0003232&quot;</td><td>&quot;UMLS:C0264222&quot;</td><td>true</td><td>false</td><td>1</td><td>&quot;UMLS:C0003232|UMLS:C0264222&quot;</td><td>false</td><td>false</td><td>false</td><td>null</td><td>null</td></tr><tr><td>&quot;CHEBI:6432&quot;</td><td>&quot;UMLS:C0554021&quot;</td><td>true</td><td>false</td><td>1</td><td>&quot;CHEBI:6432|UMLS:C0554021&quot;</td><td>false</td><td>true</td><td>false</td><td>&quot;CHEBI:6432&quot;</td><td>null</td></tr><tr><td>&quot;CHEBI:74947&quot;</td><td>&quot;UMLS:C0554021&quot;</td><td>true</td><td>false</td><td>1</td><td>&quot;CHEBI:74947|UMLS:C0554021&quot;</td><td>false</td><td>true</td><td>false</td><td>&quot;CHEBI:74947&quot;</td><td>null</td></tr><tr><td>&hellip;</td><td>&hellip;</td><td>&hellip;</td><td>&hellip;</td><td>&hellip;</td><td>&hellip;</td><td>&hellip;</td><td>&hellip;</td><td>&hellip;</td><td>&hellip;</td><td>&hellip;</td></tr><tr><td>&quot;CHEBI:31717&quot;</td><td>&quot;DOID:0060504&quot;</td><td>false</td><td>true</td><td>0</td><td>&quot;CHEBI:31717|DOID:0060504&quot;</td><td>false</td><td>true</td><td>false</td><td>&quot;CHEBI:31717&quot;</td><td>null</td></tr><tr><td>&quot;CHEBI:2686&quot;</td><td>&quot;DOID:0060504&quot;</td><td>false</td><td>true</td><td>0</td><td>&quot;CHEBI:2686|DOID:0060504&quot;</td><td>false</td><td>true</td><td>false</td><td>&quot;CHEBI:2686&quot;</td><td>null</td></tr><tr><td>&quot;CHEBI:50305&quot;</td><td>&quot;DOID:0060504&quot;</td><td>false</td><td>true</td><td>0</td><td>&quot;CHEBI:50305|DOID:0060504&quot;</td><td>false</td><td>true</td><td>false</td><td>&quot;CHEBI:50305&quot;</td><td>null</td></tr><tr><td>&quot;UNII:1B56C968OA&quot;</td><td>&quot;DOID:3668&quot;</td><td>false</td><td>true</td><td>0</td><td>&quot;UNII:1B56C968OA|DOID:3668&quot;</td><td>false</td><td>true</td><td>false</td><td>&quot;UNII:1B56C968OA&quot;</td><td>null</td></tr><tr><td>&quot;UNII:1B56C968OA&quot;</td><td>&quot;DOID:10277&quot;</td><td>false</td><td>true</td><td>0</td><td>&quot;UNII:1B56C968OA|DOID:10277&quot;</td><td>false</td><td>true</td><td>false</td><td>&quot;UNII:1B56C968OA&quot;</td><td>null</td></tr></tbody></table></div>"
      ],
      "text/plain": [
       "shape: (8_336, 11)\n",
       "┌───────────┬───────────┬───────────┬───────────┬───┬───────────┬───────────┬───────────┬──────────┐\n",
       "│ source    ┆ target    ┆ indicatio ┆ contraind ┆ … ┆ source_id ┆ target_id ┆ source_id ┆ target_i │\n",
       "│ ---       ┆ ---       ┆ n         ┆ ication   ┆   ┆ _in_ROBOK ┆ _in_ROBOK ┆ _in_ROBOK ┆ d_in_ROB │\n",
       "│ str       ┆ str       ┆ ---       ┆ ---       ┆   ┆ OP_id     ┆ OP_id     ┆ OP_EquiID ┆ OKOP_Equ │\n",
       "│           ┆           ┆ bool      ┆ bool      ┆   ┆ ---       ┆ ---       ┆ S         ┆ iIDS     │\n",
       "│           ┆           ┆           ┆           ┆   ┆ bool      ┆ bool      ┆ ---       ┆ ---      │\n",
       "│           ┆           ┆           ┆           ┆   ┆           ┆           ┆ str       ┆ str      │\n",
       "╞═══════════╪═══════════╪═══════════╪═══════════╪═══╪═══════════╪═══════════╪═══════════╪══════════╡\n",
       "│ CHEBI:463 ┆ UMLS:C127 ┆ true      ┆ false     ┆ … ┆ true      ┆ false     ┆ CHEBI:463 ┆ null     │\n",
       "│ 45        ┆ 1404      ┆           ┆           ┆   ┆           ┆           ┆ 45        ┆          │\n",
       "│ UMLS:C000 ┆ UMLS:C056 ┆ true      ┆ false     ┆ … ┆ false     ┆ false     ┆ null      ┆ null     │\n",
       "│ 3289      ┆ 3664      ┆           ┆           ┆   ┆           ┆           ┆           ┆          │\n",
       "│ UMLS:C000 ┆ UMLS:C026 ┆ true      ┆ false     ┆ … ┆ false     ┆ false     ┆ null      ┆ null     │\n",
       "│ 3232      ┆ 4222      ┆           ┆           ┆   ┆           ┆           ┆           ┆          │\n",
       "│ CHEBI:643 ┆ UMLS:C055 ┆ true      ┆ false     ┆ … ┆ true      ┆ false     ┆ CHEBI:643 ┆ null     │\n",
       "│ 2         ┆ 4021      ┆           ┆           ┆   ┆           ┆           ┆ 2         ┆          │\n",
       "│ CHEBI:749 ┆ UMLS:C055 ┆ true      ┆ false     ┆ … ┆ true      ┆ false     ┆ CHEBI:749 ┆ null     │\n",
       "│ 47        ┆ 4021      ┆           ┆           ┆   ┆           ┆           ┆ 47        ┆          │\n",
       "│ …         ┆ …         ┆ …         ┆ …         ┆ … ┆ …         ┆ …         ┆ …         ┆ …        │\n",
       "│ CHEBI:317 ┆ DOID:0060 ┆ false     ┆ true      ┆ … ┆ true      ┆ false     ┆ CHEBI:317 ┆ null     │\n",
       "│ 17        ┆ 504       ┆           ┆           ┆   ┆           ┆           ┆ 17        ┆          │\n",
       "│ CHEBI:268 ┆ DOID:0060 ┆ false     ┆ true      ┆ … ┆ true      ┆ false     ┆ CHEBI:268 ┆ null     │\n",
       "│ 6         ┆ 504       ┆           ┆           ┆   ┆           ┆           ┆ 6         ┆          │\n",
       "│ CHEBI:503 ┆ DOID:0060 ┆ false     ┆ true      ┆ … ┆ true      ┆ false     ┆ CHEBI:503 ┆ null     │\n",
       "│ 05        ┆ 504       ┆           ┆           ┆   ┆           ┆           ┆ 05        ┆          │\n",
       "│ UNII:1B56 ┆ DOID:3668 ┆ false     ┆ true      ┆ … ┆ true      ┆ false     ┆ UNII:1B56 ┆ null     │\n",
       "│ C968OA    ┆           ┆           ┆           ┆   ┆           ┆           ┆ C968OA    ┆          │\n",
       "│ UNII:1B56 ┆ DOID:1027 ┆ false     ┆ true      ┆ … ┆ true      ┆ false     ┆ UNII:1B56 ┆ null     │\n",
       "│ C968OA    ┆ 7         ┆           ┆           ┆   ┆           ┆           ┆ C968OA    ┆          │\n",
       "└───────────┴───────────┴───────────┴───────────┴───┴───────────┴───────────┴───────────┴──────────┘"
      ]
     },
     "execution_count": 24,
     "metadata": {},
     "output_type": "execute_result"
    }
   ],
   "source": [
    "# target id neither in preferred id nor in equivalent identifiers\n",
    "gt.filter(\n",
    "    (pl.col(\"target_id_in_ROBOKOP_id\") == False) &\n",
    "    (pl.col(\"target_id_in_ROBOKOP_EquiIDS\").is_null())\n",
    ")#.select(pl.col(\"target\").n_unique())"
   ]
  },
  {
   "cell_type": "code",
   "execution_count": null,
   "metadata": {},
   "outputs": [
    {
     "data": {
      "text/html": [
       "<div><style>\n",
       ".dataframe > thead > tr,\n",
       ".dataframe > tbody > tr {\n",
       "  text-align: right;\n",
       "  white-space: pre-wrap;\n",
       "}\n",
       "</style>\n",
       "<small>shape: (269, 11)</small><table border=\"1\" class=\"dataframe\"><thead><tr><th>source</th><th>target</th><th>indication</th><th>contraindication</th><th>y</th><th>drug|disease</th><th>ddpair_in_ROBOKOP</th><th>source_id_in_ROBOKOP_id</th><th>target_id_in_ROBOKOP_id</th><th>source_id_in_ROBOKOP_EquiIDS</th><th>target_id_in_ROBOKOP_EquiIDS</th></tr><tr><td>str</td><td>str</td><td>bool</td><td>bool</td><td>i64</td><td>str</td><td>bool</td><td>bool</td><td>bool</td><td>str</td><td>str</td></tr></thead><tbody><tr><td>&quot;UMLS:C0450442&quot;</td><td>&quot;MONDO:0005429&quot;</td><td>true</td><td>false</td><td>1</td><td>&quot;UMLS:C0450442|MONDO:0005429&quot;</td><td>false</td><td>false</td><td>true</td><td>null</td><td>&quot;MONDO:0005429&quot;</td></tr><tr><td>&quot;UMLS:C0450442&quot;</td><td>&quot;HP:0000855&quot;</td><td>true</td><td>false</td><td>1</td><td>&quot;UMLS:C0450442|HP:0000855&quot;</td><td>false</td><td>false</td><td>true</td><td>null</td><td>&quot;HP:0000855&quot;</td></tr><tr><td>&quot;UMLS:C0450442&quot;</td><td>&quot;MONDO:0044875&quot;</td><td>true</td><td>false</td><td>1</td><td>&quot;UMLS:C0450442|MONDO:0044875&quot;</td><td>false</td><td>false</td><td>true</td><td>null</td><td>&quot;MONDO:0044875&quot;</td></tr><tr><td>&quot;UMLS:C0450442&quot;</td><td>&quot;MONDO:0005485&quot;</td><td>true</td><td>false</td><td>1</td><td>&quot;UMLS:C0450442|MONDO:0005485&quot;</td><td>false</td><td>false</td><td>true</td><td>null</td><td>&quot;MONDO:0005485&quot;</td></tr><tr><td>&quot;UMLS:C0450442&quot;</td><td>&quot;MONDO:0020311&quot;</td><td>true</td><td>false</td><td>1</td><td>&quot;UMLS:C0450442|MONDO:0020311&quot;</td><td>false</td><td>false</td><td>true</td><td>null</td><td>&quot;MONDO:0020311&quot;</td></tr><tr><td>&hellip;</td><td>&hellip;</td><td>&hellip;</td><td>&hellip;</td><td>&hellip;</td><td>&hellip;</td><td>&hellip;</td><td>&hellip;</td><td>&hellip;</td><td>&hellip;</td><td>&hellip;</td></tr><tr><td>&quot;UMLS:C0450442&quot;</td><td>&quot;UMLS:C1519670&quot;</td><td>true</td><td>false</td><td>1</td><td>&quot;UMLS:C0450442|UMLS:C1519670&quot;</td><td>false</td><td>false</td><td>false</td><td>null</td><td>null</td></tr><tr><td>&quot;UMLS:C0450442&quot;</td><td>&quot;MONDO:0044067&quot;</td><td>true</td><td>false</td><td>1</td><td>&quot;UMLS:C0450442|MONDO:0044067&quot;</td><td>false</td><td>false</td><td>true</td><td>null</td><td>&quot;MONDO:0044067&quot;</td></tr><tr><td>&quot;UMLS:C0450442&quot;</td><td>&quot;MONDO:0044070&quot;</td><td>true</td><td>false</td><td>1</td><td>&quot;UMLS:C0450442|MONDO:0044070&quot;</td><td>false</td><td>false</td><td>true</td><td>null</td><td>&quot;MONDO:0044070&quot;</td></tr><tr><td>&quot;UMLS:C0450442&quot;</td><td>&quot;HP:0002607&quot;</td><td>true</td><td>false</td><td>1</td><td>&quot;UMLS:C0450442|HP:0002607&quot;</td><td>false</td><td>false</td><td>true</td><td>null</td><td>&quot;HP:0002607&quot;</td></tr><tr><td>&quot;UMLS:C0450442&quot;</td><td>&quot;MONDO:0004728&quot;</td><td>true</td><td>false</td><td>1</td><td>&quot;UMLS:C0450442|MONDO:0004728&quot;</td><td>false</td><td>false</td><td>true</td><td>null</td><td>&quot;MONDO:0004728&quot;</td></tr></tbody></table></div>"
      ],
      "text/plain": [
       "shape: (269, 11)\n",
       "┌───────────┬───────────┬───────────┬───────────┬───┬───────────┬───────────┬───────────┬──────────┐\n",
       "│ source    ┆ target    ┆ indicatio ┆ contraind ┆ … ┆ source_id ┆ target_id ┆ source_id ┆ target_i │\n",
       "│ ---       ┆ ---       ┆ n         ┆ ication   ┆   ┆ _in_ROBOK ┆ _in_ROBOK ┆ _in_ROBOK ┆ d_in_ROB │\n",
       "│ str       ┆ str       ┆ ---       ┆ ---       ┆   ┆ OP_id     ┆ OP_id     ┆ OP_EquiID ┆ OKOP_Equ │\n",
       "│           ┆           ┆ bool      ┆ bool      ┆   ┆ ---       ┆ ---       ┆ S         ┆ iIDS     │\n",
       "│           ┆           ┆           ┆           ┆   ┆ bool      ┆ bool      ┆ ---       ┆ ---      │\n",
       "│           ┆           ┆           ┆           ┆   ┆           ┆           ┆ str       ┆ str      │\n",
       "╞═══════════╪═══════════╪═══════════╪═══════════╪═══╪═══════════╪═══════════╪═══════════╪══════════╡\n",
       "│ UMLS:C045 ┆ MONDO:000 ┆ true      ┆ false     ┆ … ┆ false     ┆ true      ┆ null      ┆ MONDO:00 │\n",
       "│ 0442      ┆ 5429      ┆           ┆           ┆   ┆           ┆           ┆           ┆ 05429    │\n",
       "│ UMLS:C045 ┆ HP:000085 ┆ true      ┆ false     ┆ … ┆ false     ┆ true      ┆ null      ┆ HP:00008 │\n",
       "│ 0442      ┆ 5         ┆           ┆           ┆   ┆           ┆           ┆           ┆ 55       │\n",
       "│ UMLS:C045 ┆ MONDO:004 ┆ true      ┆ false     ┆ … ┆ false     ┆ true      ┆ null      ┆ MONDO:00 │\n",
       "│ 0442      ┆ 4875      ┆           ┆           ┆   ┆           ┆           ┆           ┆ 44875    │\n",
       "│ UMLS:C045 ┆ MONDO:000 ┆ true      ┆ false     ┆ … ┆ false     ┆ true      ┆ null      ┆ MONDO:00 │\n",
       "│ 0442      ┆ 5485      ┆           ┆           ┆   ┆           ┆           ┆           ┆ 05485    │\n",
       "│ UMLS:C045 ┆ MONDO:002 ┆ true      ┆ false     ┆ … ┆ false     ┆ true      ┆ null      ┆ MONDO:00 │\n",
       "│ 0442      ┆ 0311      ┆           ┆           ┆   ┆           ┆           ┆           ┆ 20311    │\n",
       "│ …         ┆ …         ┆ …         ┆ …         ┆ … ┆ …         ┆ …         ┆ …         ┆ …        │\n",
       "│ UMLS:C045 ┆ UMLS:C151 ┆ true      ┆ false     ┆ … ┆ false     ┆ false     ┆ null      ┆ null     │\n",
       "│ 0442      ┆ 9670      ┆           ┆           ┆   ┆           ┆           ┆           ┆          │\n",
       "│ UMLS:C045 ┆ MONDO:004 ┆ true      ┆ false     ┆ … ┆ false     ┆ true      ┆ null      ┆ MONDO:00 │\n",
       "│ 0442      ┆ 4067      ┆           ┆           ┆   ┆           ┆           ┆           ┆ 44067    │\n",
       "│ UMLS:C045 ┆ MONDO:004 ┆ true      ┆ false     ┆ … ┆ false     ┆ true      ┆ null      ┆ MONDO:00 │\n",
       "│ 0442      ┆ 4070      ┆           ┆           ┆   ┆           ┆           ┆           ┆ 44070    │\n",
       "│ UMLS:C045 ┆ HP:000260 ┆ true      ┆ false     ┆ … ┆ false     ┆ true      ┆ null      ┆ HP:00026 │\n",
       "│ 0442      ┆ 7         ┆           ┆           ┆   ┆           ┆           ┆           ┆ 07       │\n",
       "│ UMLS:C045 ┆ MONDO:000 ┆ true      ┆ false     ┆ … ┆ false     ┆ true      ┆ null      ┆ MONDO:00 │\n",
       "│ 0442      ┆ 4728      ┆           ┆           ┆   ┆           ┆           ┆           ┆ 04728    │\n",
       "└───────────┴───────────┴───────────┴───────────┴───┴───────────┴───────────┴───────────┴──────────┘"
      ]
     },
     "execution_count": 27,
     "metadata": {},
     "output_type": "execute_result"
    },
    {
     "ename": "",
     "evalue": "",
     "output_type": "error",
     "traceback": [
      "\u001b[1;31mThe Kernel crashed while executing code in the current cell or a previous cell. \n",
      "\u001b[1;31mPlease review the code in the cell(s) to identify a possible cause of the failure. \n",
      "\u001b[1;31mClick <a href='https://aka.ms/vscodeJupyterKernelCrash'>here</a> for more info. \n",
      "\u001b[1;31mView Jupyter <a href='command:jupyter.viewOutput'>log</a> for further details."
     ]
    }
   ],
   "source": [
    "gt.filter(pl.col(\"source\")==\"UMLS:C0450442\")"
   ]
  },
  {
   "cell_type": "code",
   "execution_count": null,
   "metadata": {},
   "outputs": [],
   "source": [
    "#gt.write_csv(\"ground_truth_list_from_rtxkg2_v2_10_0_breakdown_missing_condition_ROBOKOP_30fd.csv\")"
   ]
  },
  {
   "cell_type": "code",
   "execution_count": null,
   "metadata": {},
   "outputs": [
    {
     "data": {
      "text/html": [
       "<div><style>\n",
       ".dataframe > thead > tr,\n",
       ".dataframe > tbody > tr {\n",
       "  text-align: right;\n",
       "  white-space: pre-wrap;\n",
       "}\n",
       "</style>\n",
       "<small>shape: (1_146, 11)</small><table border=\"1\" class=\"dataframe\"><thead><tr><th>source</th><th>target</th><th>indication</th><th>contraindication</th><th>y</th><th>drug|disease</th><th>ddpair_in_ROBOKOP</th><th>source_id_in_ROBOKOP_id</th><th>target_id_in_ROBOKOP_id</th><th>source_id_in_ROBOKOP_EquiIDS</th><th>target_id_in_ROBOKOP_EquiIDS</th></tr><tr><td>str</td><td>str</td><td>bool</td><td>bool</td><td>i64</td><td>str</td><td>bool</td><td>bool</td><td>bool</td><td>str</td><td>str</td></tr></thead><tbody><tr><td>&quot;MESH:D006062&quot;</td><td>&quot;MONDO:0000088&quot;</td><td>true</td><td>false</td><td>1</td><td>&quot;MESH:D006062|MONDO:0000088&quot;</td><td>false</td><td>true</td><td>true</td><td>&quot;MESH:D006062&quot;</td><td>&quot;MONDO:0000088&quot;</td></tr><tr><td>&quot;CHEBI:61115&quot;</td><td>&quot;MONDO:0007739&quot;</td><td>true</td><td>false</td><td>1</td><td>&quot;CHEBI:61115|MONDO:0007739&quot;</td><td>false</td><td>true</td><td>true</td><td>&quot;CHEBI:61115&quot;</td><td>&quot;MONDO:0007739&quot;</td></tr><tr><td>&quot;MESH:D000305&quot;</td><td>&quot;MONDO:0004769&quot;</td><td>true</td><td>false</td><td>1</td><td>&quot;MESH:D000305|MONDO:0004769&quot;</td><td>false</td><td>true</td><td>true</td><td>&quot;MESH:D000305&quot;</td><td>&quot;MONDO:0004769&quot;</td></tr><tr><td>&quot;CHEBI:35480&quot;</td><td>&quot;HP:0002027&quot;</td><td>true</td><td>false</td><td>1</td><td>&quot;CHEBI:35480|HP:0002027&quot;</td><td>false</td><td>true</td><td>true</td><td>&quot;CHEBI:35480&quot;</td><td>&quot;HP:0002027&quot;</td></tr><tr><td>&quot;CHEBI:24261&quot;</td><td>&quot;HP:0000855&quot;</td><td>true</td><td>false</td><td>1</td><td>&quot;CHEBI:24261|HP:0000855&quot;</td><td>false</td><td>true</td><td>true</td><td>&quot;CHEBI:24261&quot;</td><td>&quot;HP:0000855&quot;</td></tr><tr><td>&hellip;</td><td>&hellip;</td><td>&hellip;</td><td>&hellip;</td><td>&hellip;</td><td>&hellip;</td><td>&hellip;</td><td>&hellip;</td><td>&hellip;</td><td>&hellip;</td><td>&hellip;</td></tr><tr><td>&quot;UNII:J96U0ZD4Y6&quot;</td><td>&quot;MONDO:0009693&quot;</td><td>false</td><td>true</td><td>0</td><td>&quot;UNII:J96U0ZD4Y6|MONDO:0009693&quot;</td><td>false</td><td>true</td><td>true</td><td>&quot;UNII:J96U0ZD4Y6&quot;</td><td>&quot;MONDO:0009693&quot;</td></tr><tr><td>&quot;CHEBI:59349&quot;</td><td>&quot;MONDO:0005246&quot;</td><td>false</td><td>true</td><td>0</td><td>&quot;CHEBI:59349|MONDO:0005246&quot;</td><td>false</td><td>true</td><td>true</td><td>&quot;CHEBI:59349&quot;</td><td>&quot;MONDO:0005246&quot;</td></tr><tr><td>&quot;UNII:J96U0ZD4Y6&quot;</td><td>&quot;MONDO:0009891&quot;</td><td>false</td><td>true</td><td>0</td><td>&quot;UNII:J96U0ZD4Y6|MONDO:0009891&quot;</td><td>false</td><td>true</td><td>true</td><td>&quot;UNII:J96U0ZD4Y6&quot;</td><td>&quot;MONDO:0009891&quot;</td></tr><tr><td>&quot;UNII:J96U0ZD4Y6&quot;</td><td>&quot;UMLS:C0949083&quot;</td><td>false</td><td>true</td><td>0</td><td>&quot;UNII:J96U0ZD4Y6|UMLS:C0949083&quot;</td><td>false</td><td>true</td><td>true</td><td>&quot;UNII:J96U0ZD4Y6&quot;</td><td>&quot;UMLS:C0949083&quot;</td></tr><tr><td>&quot;UNII:J96U0ZD4Y6&quot;</td><td>&quot;MONDO:0005029&quot;</td><td>false</td><td>true</td><td>0</td><td>&quot;UNII:J96U0ZD4Y6|MONDO:0005029&quot;</td><td>false</td><td>true</td><td>true</td><td>&quot;UNII:J96U0ZD4Y6&quot;</td><td>&quot;MONDO:0005029&quot;</td></tr></tbody></table></div>"
      ],
      "text/plain": [
       "shape: (1_146, 11)\n",
       "┌───────────┬───────────┬───────────┬───────────┬───┬───────────┬───────────┬───────────┬──────────┐\n",
       "│ source    ┆ target    ┆ indicatio ┆ contraind ┆ … ┆ source_id ┆ target_id ┆ source_id ┆ target_i │\n",
       "│ ---       ┆ ---       ┆ n         ┆ ication   ┆   ┆ _in_ROBOK ┆ _in_ROBOK ┆ _in_ROBOK ┆ d_in_ROB │\n",
       "│ str       ┆ str       ┆ ---       ┆ ---       ┆   ┆ OP_id     ┆ OP_id     ┆ OP_EquiID ┆ OKOP_Equ │\n",
       "│           ┆           ┆ bool      ┆ bool      ┆   ┆ ---       ┆ ---       ┆ S         ┆ iIDS     │\n",
       "│           ┆           ┆           ┆           ┆   ┆ bool      ┆ bool      ┆ ---       ┆ ---      │\n",
       "│           ┆           ┆           ┆           ┆   ┆           ┆           ┆ str       ┆ str      │\n",
       "╞═══════════╪═══════════╪═══════════╪═══════════╪═══╪═══════════╪═══════════╪═══════════╪══════════╡\n",
       "│ MESH:D006 ┆ MONDO:000 ┆ true      ┆ false     ┆ … ┆ true      ┆ true      ┆ MESH:D006 ┆ MONDO:00 │\n",
       "│ 062       ┆ 0088      ┆           ┆           ┆   ┆           ┆           ┆ 062       ┆ 00088    │\n",
       "│ CHEBI:611 ┆ MONDO:000 ┆ true      ┆ false     ┆ … ┆ true      ┆ true      ┆ CHEBI:611 ┆ MONDO:00 │\n",
       "│ 15        ┆ 7739      ┆           ┆           ┆   ┆           ┆           ┆ 15        ┆ 07739    │\n",
       "│ MESH:D000 ┆ MONDO:000 ┆ true      ┆ false     ┆ … ┆ true      ┆ true      ┆ MESH:D000 ┆ MONDO:00 │\n",
       "│ 305       ┆ 4769      ┆           ┆           ┆   ┆           ┆           ┆ 305       ┆ 04769    │\n",
       "│ CHEBI:354 ┆ HP:000202 ┆ true      ┆ false     ┆ … ┆ true      ┆ true      ┆ CHEBI:354 ┆ HP:00020 │\n",
       "│ 80        ┆ 7         ┆           ┆           ┆   ┆           ┆           ┆ 80        ┆ 27       │\n",
       "│ CHEBI:242 ┆ HP:000085 ┆ true      ┆ false     ┆ … ┆ true      ┆ true      ┆ CHEBI:242 ┆ HP:00008 │\n",
       "│ 61        ┆ 5         ┆           ┆           ┆   ┆           ┆           ┆ 61        ┆ 55       │\n",
       "│ …         ┆ …         ┆ …         ┆ …         ┆ … ┆ …         ┆ …         ┆ …         ┆ …        │\n",
       "│ UNII:J96U ┆ MONDO:000 ┆ false     ┆ true      ┆ … ┆ true      ┆ true      ┆ UNII:J96U ┆ MONDO:00 │\n",
       "│ 0ZD4Y6    ┆ 9693      ┆           ┆           ┆   ┆           ┆           ┆ 0ZD4Y6    ┆ 09693    │\n",
       "│ CHEBI:593 ┆ MONDO:000 ┆ false     ┆ true      ┆ … ┆ true      ┆ true      ┆ CHEBI:593 ┆ MONDO:00 │\n",
       "│ 49        ┆ 5246      ┆           ┆           ┆   ┆           ┆           ┆ 49        ┆ 05246    │\n",
       "│ UNII:J96U ┆ MONDO:000 ┆ false     ┆ true      ┆ … ┆ true      ┆ true      ┆ UNII:J96U ┆ MONDO:00 │\n",
       "│ 0ZD4Y6    ┆ 9891      ┆           ┆           ┆   ┆           ┆           ┆ 0ZD4Y6    ┆ 09891    │\n",
       "│ UNII:J96U ┆ UMLS:C094 ┆ false     ┆ true      ┆ … ┆ true      ┆ true      ┆ UNII:J96U ┆ UMLS:C09 │\n",
       "│ 0ZD4Y6    ┆ 9083      ┆           ┆           ┆   ┆           ┆           ┆ 0ZD4Y6    ┆ 49083    │\n",
       "│ UNII:J96U ┆ MONDO:000 ┆ false     ┆ true      ┆ … ┆ true      ┆ true      ┆ UNII:J96U ┆ MONDO:00 │\n",
       "│ 0ZD4Y6    ┆ 5029      ┆           ┆           ┆   ┆           ┆           ┆ 0ZD4Y6    ┆ 05029    │\n",
       "└───────────┴───────────┴───────────┴───────────┴───┴───────────┴───────────┴───────────┴──────────┘"
      ]
     },
     "execution_count": 69,
     "metadata": {},
     "output_type": "execute_result"
    }
   ],
   "source": [
    "gt.filter(~pl.col(\"ddpair_in_ROBOKOP\") & pl.col(\"source_id_in_ROBOKOP_id\") & pl.col(\"target_id_in_ROBOKOP_id\"))"
   ]
  },
  {
   "cell_type": "code",
   "execution_count": 23,
   "metadata": {},
   "outputs": [
    {
     "data": {
      "text/plain": [
       "['biolink:ChemicalEntity|biolink:PhysicalEssence|biolink:ChemicalOrDrugOrTreatment|biolink:ChemicalEntityOrGeneOrGeneProduct|biolink:ChemicalEntityOrProteinOrPolypeptide|biolink:NamedThing|biolink:PhysicalEssenceOrOccurrent']"
      ]
     },
     "execution_count": 23,
     "metadata": {},
     "output_type": "execute_result"
    }
   ],
   "source": [
    "rkgnodes.filter(pl.col(\"id\") == \"CHEBI:61115\")[\"category\"].to_list()"
   ]
  },
  {
   "cell_type": "code",
   "execution_count": 72,
   "metadata": {},
   "outputs": [
    {
     "data": {
      "text/html": [
       "<div><style>\n",
       ".dataframe > thead > tr,\n",
       ".dataframe > tbody > tr {\n",
       "  text-align: right;\n",
       "  white-space: pre-wrap;\n",
       "}\n",
       "</style>\n",
       "<small>shape: (2, 1)</small><table border=\"1\" class=\"dataframe\"><thead><tr><th>ddpair_in_ROBOKOP</th></tr><tr><td>struct[2]</td></tr></thead><tbody><tr><td>{false,22936}</td></tr><tr><td>{true,46065}</td></tr></tbody></table></div>"
      ],
      "text/plain": [
       "shape: (2, 1)\n",
       "┌───────────────────┐\n",
       "│ ddpair_in_ROBOKOP │\n",
       "│ ---               │\n",
       "│ struct[2]         │\n",
       "╞═══════════════════╡\n",
       "│ {false,22936}     │\n",
       "│ {true,46065}      │\n",
       "└───────────────────┘"
      ]
     },
     "execution_count": 72,
     "metadata": {},
     "output_type": "execute_result"
    }
   ],
   "source": [
    "gt.select(pl.col(\"ddpair_in_ROBOKOP\").value_counts())"
   ]
  },
  {
   "cell_type": "code",
   "execution_count": 47,
   "metadata": {},
   "outputs": [
    {
     "data": {
      "text/html": [
       "<div><style>\n",
       ".dataframe > thead > tr,\n",
       ".dataframe > tbody > tr {\n",
       "  text-align: right;\n",
       "  white-space: pre-wrap;\n",
       "}\n",
       "</style>\n",
       "<small>shape: (4, 21)</small><table border=\"1\" class=\"dataframe\"><thead><tr><th>id</th><th>name:string</th><th>category</th><th>equivalent_identifiers</th><th>information_content:float</th><th>description:string</th><th>cd_formula:string</th><th>cd_molweight:float</th><th>clogp:float</th><th>alogs:float</th><th>tpsa:float</th><th>mrdef:string</th><th>smiles:string</th><th>status:string</th><th>definition:string</th><th>url:string</th><th>locus_group:string</th><th>symbol:string</th><th>location:string</th><th>taxon:string</th><th>NCBITaxon:string</th></tr><tr><td>str</td><td>str</td><td>str</td><td>str</td><td>str</td><td>str</td><td>str</td><td>str</td><td>str</td><td>str</td><td>str</td><td>str</td><td>str</td><td>str</td><td>str</td><td>str</td><td>str</td><td>str</td><td>str</td><td>str</td><td>str</td></tr></thead><tbody><tr><td>&quot;CHEBI:50745&quot;</td><td>&quot;progestogen&quot;</td><td>&quot;biolink:NamedThing|biolink:Phy…</td><td>&quot;CHEBI:59826&quot;</td><td>&quot;78.5&quot;</td><td>&quot;A compound that interacts with…</td><td>null</td><td>null</td><td>null</td><td>null</td><td>null</td><td>null</td><td>null</td><td>null</td><td>null</td><td>null</td><td>null</td><td>null</td><td>null</td><td>null</td><td>null</td></tr><tr><td>&quot;CHEBI:50745&quot;</td><td>&quot;progestogen&quot;</td><td>&quot;biolink:NamedThing|biolink:Phy…</td><td>&quot;CHEBI:50745&quot;</td><td>&quot;78.5&quot;</td><td>&quot;A compound that interacts with…</td><td>null</td><td>null</td><td>null</td><td>null</td><td>null</td><td>null</td><td>null</td><td>null</td><td>null</td><td>null</td><td>null</td><td>null</td><td>null</td><td>null</td><td>null</td></tr><tr><td>&quot;CHEBI:50745&quot;</td><td>&quot;progestogen&quot;</td><td>&quot;biolink:NamedThing|biolink:Phy…</td><td>&quot;MESH:D011372&quot;</td><td>&quot;78.5&quot;</td><td>&quot;A compound that interacts with…</td><td>null</td><td>null</td><td>null</td><td>null</td><td>null</td><td>null</td><td>null</td><td>null</td><td>null</td><td>null</td><td>null</td><td>null</td><td>null</td><td>null</td><td>null</td></tr><tr><td>&quot;CHEBI:50745&quot;</td><td>&quot;progestogen&quot;</td><td>&quot;biolink:NamedThing|biolink:Phy…</td><td>&quot;UMLS:C0033306&quot;</td><td>&quot;78.5&quot;</td><td>&quot;A compound that interacts with…</td><td>null</td><td>null</td><td>null</td><td>null</td><td>null</td><td>null</td><td>null</td><td>null</td><td>null</td><td>null</td><td>null</td><td>null</td><td>null</td><td>null</td><td>null</td></tr></tbody></table></div>"
      ],
      "text/plain": [
       "shape: (4, 21)\n",
       "┌───────────┬───────────┬───────────┬───────────┬───┬───────────┬───────────┬───────────┬──────────┐\n",
       "│ id        ┆ name:stri ┆ category  ┆ equivalen ┆ … ┆ symbol:st ┆ location: ┆ taxon:str ┆ NCBITaxo │\n",
       "│ ---       ┆ ng        ┆ ---       ┆ t_identif ┆   ┆ ring      ┆ string    ┆ ing       ┆ n:string │\n",
       "│ str       ┆ ---       ┆ str       ┆ iers      ┆   ┆ ---       ┆ ---       ┆ ---       ┆ ---      │\n",
       "│           ┆ str       ┆           ┆ ---       ┆   ┆ str       ┆ str       ┆ str       ┆ str      │\n",
       "│           ┆           ┆           ┆ str       ┆   ┆           ┆           ┆           ┆          │\n",
       "╞═══════════╪═══════════╪═══════════╪═══════════╪═══╪═══════════╪═══════════╪═══════════╪══════════╡\n",
       "│ CHEBI:507 ┆ progestog ┆ biolink:N ┆ CHEBI:598 ┆ … ┆ null      ┆ null      ┆ null      ┆ null     │\n",
       "│ 45        ┆ en        ┆ amedThing ┆ 26        ┆   ┆           ┆           ┆           ┆          │\n",
       "│           ┆           ┆ |biolink: ┆           ┆   ┆           ┆           ┆           ┆          │\n",
       "│           ┆           ┆ Phy…      ┆           ┆   ┆           ┆           ┆           ┆          │\n",
       "│ CHEBI:507 ┆ progestog ┆ biolink:N ┆ CHEBI:507 ┆ … ┆ null      ┆ null      ┆ null      ┆ null     │\n",
       "│ 45        ┆ en        ┆ amedThing ┆ 45        ┆   ┆           ┆           ┆           ┆          │\n",
       "│           ┆           ┆ |biolink: ┆           ┆   ┆           ┆           ┆           ┆          │\n",
       "│           ┆           ┆ Phy…      ┆           ┆   ┆           ┆           ┆           ┆          │\n",
       "│ CHEBI:507 ┆ progestog ┆ biolink:N ┆ MESH:D011 ┆ … ┆ null      ┆ null      ┆ null      ┆ null     │\n",
       "│ 45        ┆ en        ┆ amedThing ┆ 372       ┆   ┆           ┆           ┆           ┆          │\n",
       "│           ┆           ┆ |biolink: ┆           ┆   ┆           ┆           ┆           ┆          │\n",
       "│           ┆           ┆ Phy…      ┆           ┆   ┆           ┆           ┆           ┆          │\n",
       "│ CHEBI:507 ┆ progestog ┆ biolink:N ┆ UMLS:C003 ┆ … ┆ null      ┆ null      ┆ null      ┆ null     │\n",
       "│ 45        ┆ en        ┆ amedThing ┆ 3306      ┆   ┆           ┆           ┆           ┆          │\n",
       "│           ┆           ┆ |biolink: ┆           ┆   ┆           ┆           ┆           ┆          │\n",
       "│           ┆           ┆ Phy…      ┆           ┆   ┆           ┆           ┆           ┆          │\n",
       "└───────────┴───────────┴───────────┴───────────┴───┴───────────┴───────────┴───────────┴──────────┘"
      ]
     },
     "execution_count": 47,
     "metadata": {},
     "output_type": "execute_result"
    }
   ],
   "source": [
    "rkgnodes_exploded.filter(pl.col(\"id\") == \"CHEBI:50745\")"
   ]
  },
  {
   "cell_type": "code",
   "execution_count": null,
   "metadata": {},
   "outputs": [
    {
     "data": {
      "text/plain": [
       "0          biolink:SmallMolecule|biolink:MolecularEntity|...\n",
       "1          biolink:NamedThing|biolink:PhysicalEssence|bio...\n",
       "2          biolink:SmallMolecule|biolink:MolecularEntity|...\n",
       "3          biolink:SmallMolecule|biolink:MolecularEntity|...\n",
       "4          biolink:SmallMolecule|biolink:MolecularEntity|...\n",
       "                                 ...                        \n",
       "4663951    biolink:Disease|biolink:DiseaseOrPhenotypicFea...\n",
       "4663952    biolink:Disease|biolink:DiseaseOrPhenotypicFea...\n",
       "4663953    biolink:Disease|biolink:DiseaseOrPhenotypicFea...\n",
       "4663954    biolink:Disease|biolink:DiseaseOrPhenotypicFea...\n",
       "4663955    biolink:Disease|biolink:DiseaseOrPhenotypicFea...\n",
       "Name: category, Length: 4663956, dtype: object"
      ]
     },
     "execution_count": 10,
     "metadata": {},
     "output_type": "execute_result"
    }
   ],
   "source": [
    "rkgnodes = rkgnodes[[]]"
   ]
  },
  {
   "cell_type": "code",
   "execution_count": null,
   "metadata": {},
   "outputs": [],
   "source": []
  }
 ],
 "metadata": {
  "kernelspec": {
   "display_name": ".venv",
   "language": "python",
   "name": "python3"
  },
  "language_info": {
   "codemirror_mode": {
    "name": "ipython",
    "version": 3
   },
   "file_extension": ".py",
   "mimetype": "text/x-python",
   "name": "python",
   "nbconvert_exporter": "python",
   "pygments_lexer": "ipython3",
   "version": "3.11.6"
  }
 },
 "nbformat": 4,
 "nbformat_minor": 2
}
