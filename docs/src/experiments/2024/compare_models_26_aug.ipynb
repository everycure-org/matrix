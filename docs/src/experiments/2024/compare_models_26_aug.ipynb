{
 "cells": [
  {
   "cell_type": "markdown",
   "metadata": {},
   "source": [
    "# Comparing models from recent pipeline runs with previous models using KGML-xDTD embeddings"
   ]
  },
  {
   "cell_type": "markdown",
   "metadata": {},
   "source": [
    "#### 26 Aug 2024"
   ]
  },
  {
   "cell_type": "markdown",
   "metadata": {},
   "source": [
    "The purpose of this notebook is to compare the performance of the models from the recent pipeline runs with the previous models using embeddings from the KGML-xDTD paper, as well as the first e2e pipeline run (from approx 14 August 2024) in which there was a bug in the evaluation pipeline. \n",
    "\n",
    "The notebook produces a table with the evaluation metrics for the models. See the bottom of the notebook. \n",
    "\n",
    "**Conclusions**: \n",
    "\n",
    "- We beat the old (internal) record for ranking metrics. This is a convincing indication we have competitive embeddings now.\n",
    "- Comparing the scores for xg_ensemble, we see that we have clearly improved on the embeddings of the first run.\n",
    "- The xg_synth scores for different embeddings suggest that our embeddings are still not quite as good as KGML-xDTD. This is not surprising since we are temporarily training with limited compute than Chunyu.\n",
    "- The ensemble models have good ranking scores. Previously, we hadn’t tried combing the ensemble  technique with our other performance boosting method (BHO, large amount of synthesised negatives), so this a good sign."
   ]
  },
  {
   "cell_type": "code",
   "execution_count": 41,
   "metadata": {},
   "outputs": [],
   "source": [
    "import pandas as pd\n",
    "import numpy as np\n",
    "import joblib\n",
    "import yaml"
   ]
  },
  {
   "cell_type": "code",
   "execution_count": 3,
   "metadata": {},
   "outputs": [],
   "source": [
    "# %load_ext kedro.ipython"
   ]
  },
  {
   "cell_type": "code",
   "execution_count": 4,
   "metadata": {},
   "outputs": [],
   "source": [
    "import pickle\n",
    "import pandas as pd\n",
    "import numpy as np\n",
    "import sys\n",
    "\n",
    "import matrix.datasets.pair_generator as pair_generator\n",
    "from matrix.datasets.graph import KnowledgeGraph\n",
    "from matrix.pipelines.evaluation.nodes import make_test_predictions, evaluate_test_predictions"
   ]
  },
  {
   "cell_type": "markdown",
   "metadata": {},
   "source": [
    "## Input files"
   ]
  },
  {
   "cell_type": "markdown",
   "metadata": {},
   "source": [
    "### Ground truth data with test-train splits"
   ]
  },
  {
   "cell_type": "code",
   "execution_count": 7,
   "metadata": {},
   "outputs": [],
   "source": [
    "known_pairs = pd.read_parquet('/Users/alexei/Documents/data/e2e_14_aug/releases_20240807_05_model_input_splits')"
   ]
  },
  {
   "cell_type": "markdown",
   "metadata": {},
   "source": [
    "### KGs with embeddings (KGML-xDTD, old run and new run)"
   ]
  },
  {
   "cell_type": "code",
   "execution_count": 16,
   "metadata": {},
   "outputs": [],
   "source": [
    "with open('./input/rtx_kg2_nodes_chunyu', 'rb') as f:\n",
    "    rtx_kg2 = pd.read_parquet(f)\n",
    "rtx_kg2 = rtx_kg2.rename(columns={'embedding': 'topological_embedding'})\n",
    "graph_chunyu = KnowledgeGraph(rtx_kg2)"
   ]
  },
  {
   "cell_type": "code",
   "execution_count": 10,
   "metadata": {},
   "outputs": [],
   "source": [
    "with open('/Users/alexei/Documents/data/e2e_14_aug/releases_20240807_04_feature_rtx_kg2_nodes', 'rb') as f:\n",
    "    rtx_kg2 = pd.read_parquet(f)\n",
    "graph_first_run = KnowledgeGraph(rtx_kg2)"
   ]
  },
  {
   "cell_type": "markdown",
   "metadata": {},
   "source": [
    "### Models"
   ]
  },
  {
   "cell_type": "code",
   "execution_count": 72,
   "metadata": {},
   "outputs": [],
   "source": [
    "# Models using Chunyu's embeddings\n",
    "xg_synth_chunyu = joblib.load('/Users/alexei/Documents/repos/matrix/pipelines/matrix/notebooks/scratch/local/generate_matrix/input/xg_balanced_retrain.joblib')\n",
    "rf_chunyu = joblib.load('/Users/alexei/Documents/repos/matrix/pipelines/matrix/notebooks/scratch/local/misc/train-kgml-xdtd/output/kgml_xdtd_split.joblib')"
   ]
  },
  {
   "cell_type": "code",
   "execution_count": 24,
   "metadata": {},
   "outputs": [],
   "source": [
    "# Model using embeddings from first run\n",
    "with open(\"/Users/alexei/Documents/data/e2e_14_aug/releases_20240807_06_models_xgc_model.pickle\", \"rb\") as f:\n",
    "    xg_ensemble_first_run = pickle.load(f)"
   ]
  },
  {
   "cell_type": "markdown",
   "metadata": {},
   "source": [
    "### Other objects needed"
   ]
  },
  {
   "cell_type": "code",
   "execution_count": 43,
   "metadata": {},
   "outputs": [],
   "source": [
    "# Load model params\n",
    "with open('/Users/alexei/Documents/repos/matrix/pipelines/matrix/conf/base/modelling/parameters/defaults.yml', 'r') as f:\n",
    "    model_params_defaults = yaml.safe_load(f)"
   ]
  },
  {
   "cell_type": "code",
   "execution_count": 49,
   "metadata": {},
   "outputs": [],
   "source": [
    "# Load objects needed for predictions\n",
    "score_col_name = 'treat score'\n",
    "features = model_params_defaults['_model_options']['model_tuning_args']['features']\n",
    "transformers = model_params_defaults['_model_options']['transformers']"
   ]
  },
  {
   "cell_type": "code",
   "execution_count": 61,
   "metadata": {},
   "outputs": [],
   "source": [
    "# Load drug flags\n",
    "with open('/Users/alexei/Documents/repos/matrix/pipelines/matrix/conf/base/modelling/parameters/xg_baseline.yml', 'r') as f:\n",
    "    model_params_baseline = yaml.safe_load(f)\n",
    "drug_flags = model_params_baseline['modelling.xg_baseline']['_overrides']['generator']['drug_flags']\n"
   ]
  },
  {
   "cell_type": "markdown",
   "metadata": {},
   "source": [
    "## Predictions"
   ]
  },
  {
   "cell_type": "markdown",
   "metadata": {},
   "source": [
    "### Disease-centric matrix"
   ]
  },
  {
   "cell_type": "code",
   "execution_count": 105,
   "metadata": {},
   "outputs": [
    {
     "name": "stderr",
     "output_type": "stream",
     "text": [
      "100%|██████████| 1133/1133 [00:00<00:00, 8038.19it/s]\n"
     ]
    }
   ],
   "source": [
    "# Generating disease-centric matrix\n",
    "matrix = pair_generator.MatrixTestDiseases(drug_flags)\n",
    "matrix = matrix.generate(graph_first_run, known_pairs)"
   ]
  },
  {
   "cell_type": "code",
   "execution_count": 106,
   "metadata": {},
   "outputs": [
    {
     "name": "stderr",
     "output_type": "stream",
     "text": [
      "100%|██████████| 1133/1133 [07:30<00:00,  2.52it/s]\n",
      "100%|██████████| 1133/1133 [07:46<00:00,  2.43it/s]\n",
      "100%|██████████| 1133/1133 [08:44<00:00,  2.16it/s]\n"
     ]
    }
   ],
   "source": [
    "# Making predictions\n",
    "data = matrix.copy()\n",
    "mat_preds_xg_synth_chunyu = make_test_predictions(graph_chunyu, data, transformers, xg_synth_chunyu, features, score_col_name)\n",
    "data = matrix.copy()\n",
    "mat_preds_rf_chunyu = make_test_predictions(graph_chunyu, data, transformers, rf_chunyu, features, score_col_name)\n",
    "data = matrix.copy()\n",
    "mat_preds_xg_ensemble_first_run = make_test_predictions(graph_first_run, data, transformers, xg_ensemble_first_run, features, score_col_name)"
   ]
  },
  {
   "cell_type": "markdown",
   "metadata": {},
   "source": [
    "### Ground truth test set"
   ]
  },
  {
   "cell_type": "code",
   "execution_count": 107,
   "metadata": {},
   "outputs": [],
   "source": [
    "gt_data  = pair_generator.GroundTruthTestPairs()\n",
    "gt_data = gt_data.generate(graph_first_run, known_pairs)"
   ]
  },
  {
   "cell_type": "code",
   "execution_count": 108,
   "metadata": {},
   "outputs": [
    {
     "name": "stderr",
     "output_type": "stream",
     "text": [
      "100%|██████████| 1510/1510 [00:16<00:00, 90.22it/s]\n",
      "100%|██████████| 1510/1510 [01:09<00:00, 21.86it/s]\n",
      "100%|██████████| 1510/1510 [00:18<00:00, 81.43it/s]\n"
     ]
    }
   ],
   "source": [
    "# Making predictions\n",
    "data = gt_data.copy()\n",
    "gt_preds_xg_synth_chunyu = make_test_predictions(graph_chunyu, data, transformers, xg_synth_chunyu, features, score_col_name)\n",
    "data = gt_data.copy()\n",
    "gt_preds_rf_chunyu = make_test_predictions(graph_chunyu, data, transformers, rf_chunyu, features, score_col_name)\n",
    "data = gt_data.copy()\n",
    "gt_preds_xg_ensemble_first_run = make_test_predictions(graph_first_run, data, transformers, xg_ensemble_first_run, features, score_col_name)"
   ]
  },
  {
   "cell_type": "markdown",
   "metadata": {},
   "source": [
    "## Computing evaluation metrics"
   ]
  },
  {
   "cell_type": "code",
   "execution_count": 109,
   "metadata": {},
   "outputs": [],
   "source": [
    "# Loading evaluation options from the catalog\n",
    "with open('/Users/alexei/Documents/repos/matrix/pipelines/matrix/conf/base/evaluation/parameters.yml', 'r') as f:\n",
    "    eval_params = yaml.safe_load(f)\n",
    "spec_ranking_options = eval_params['evaluation.disease_specific_ranking']['evaluation_options']['evaluation']\n",
    "mat_ranking_options = eval_params['evaluation.disease_centric_matrix']['evaluation_options']['evaluation']\n",
    "classification_options = eval_params['evaluation.simple_ground_truth_classification']['evaluation_options']['evaluation']"
   ]
  },
  {
   "cell_type": "code",
   "execution_count": 110,
   "metadata": {},
   "outputs": [
    {
     "name": "stderr",
     "output_type": "stream",
     "text": [
      "100%|██████████| 1133/1133 [01:24<00:00, 13.36it/s]\n",
      "100%|██████████| 1133/1133 [01:24<00:00, 13.40it/s]\n",
      "100%|██████████| 1133/1133 [01:23<00:00, 13.64it/s]\n"
     ]
    }
   ],
   "source": [
    "# Computing metrics with the pipeline\n",
    "spec_ranking_xg_synth_chunyu = evaluate_test_predictions(mat_preds_xg_synth_chunyu, spec_ranking_options)\n",
    "mat_ranking_xg_synth_chunyu = evaluate_test_predictions(mat_preds_xg_synth_chunyu, mat_ranking_options)\n",
    "classification_xg_synth_chunyu = evaluate_test_predictions(gt_preds_xg_synth_chunyu, classification_options)\n",
    "spec_ranking_rf_chunyu = evaluate_test_predictions(mat_preds_rf_chunyu, spec_ranking_options)\n",
    "mat_ranking_rf_chunyu = evaluate_test_predictions(mat_preds_rf_chunyu, mat_ranking_options)\n",
    "classification_rf_chunyu = evaluate_test_predictions(gt_preds_rf_chunyu, classification_options)\n",
    "spec_ranking_xg_ensemble_first_run = evaluate_test_predictions(mat_preds_xg_ensemble_first_run, spec_ranking_options)\n",
    "mat_ranking_xg_ensemble_first_run = evaluate_test_predictions(mat_preds_xg_ensemble_first_run, mat_ranking_options)\n",
    "classification_xg_ensemble_first_run = evaluate_test_predictions(gt_preds_xg_ensemble_first_run, classification_options)"
   ]
  },
  {
   "cell_type": "markdown",
   "metadata": {},
   "source": [
    "## Overview of results"
   ]
  },
  {
   "cell_type": "code",
   "execution_count": 131,
   "metadata": {},
   "outputs": [],
   "source": [
    "model_name_lst = ['xg_synth_chunyu', 'rf_chunyu', 'xg_ensemble_first_run']\n",
    "metric_name_lst = ['auroc', 'ap', 'mrr', 'hit2', 'hit10', 'hit100', 'acc', 'f1']\n",
    "auroc_lst = [eval('mat_ranking_'+model_name)['roc_auc_score'] for model_name in model_name_lst]\n",
    "ap_lst = [eval('mat_ranking_'+model_name)['average_precision_score'] for model_name in model_name_lst]\n",
    "mrr_lst = [eval('spec_ranking_'+model_name)['mrr'] for model_name in model_name_lst]\n",
    "hit2_lst = [eval('spec_ranking_'+model_name)['hit-2'] for model_name in model_name_lst]\n",
    "hit10_lst = [eval('spec_ranking_'+model_name)['hit-10'] for model_name in model_name_lst]\n",
    "hit100_lst = [eval('spec_ranking_'+model_name)['hit-100'] for model_name in model_name_lst]\n",
    "acc_lst = [eval('classification_'+model_name)['accuracy_score'] for model_name in model_name_lst]\n",
    "f1_lst = [eval('classification_'+model_name)['f1_score'] for model_name in model_name_lst]"
   ]
  },
  {
   "cell_type": "code",
   "execution_count": 132,
   "metadata": {},
   "outputs": [],
   "source": [
    "# Tedious manual input of latest results (new run 26 Aug)\n",
    "results_xg_ensemble_new_run_3 = {'auroc': 0.9219692860724151,\n",
    "'ap': 0.043389910213820035,\n",
    "'mrr': 0.19728144176219592,\n",
    "'hit2': 0.17863805970149255,\n",
    "'hit10': 0.314365671641791,\n",
    "'hit100': 0.6203358208955224,\n",
    "'acc': 0.8574043565806333,\n",
    "'f1': 0.7843897038472184\n",
    "}\n",
    "results_xg_synth_new_run_3 = {\n",
    "'auroc': 0.8383403010392563,\n",
    "'ap': 0.007503326148252967,\n",
    "'mrr': 0.10459264807623478,\n",
    "'hit2': 0.08861940298507463,\n",
    "'hit10': 0.17583955223880596,\n",
    "'hit100': 0.4398320895522388,\n",
    "'acc': 0.9101226432363171,\n",
    "'f1': 0.8768497617256082\n",
    "}\n",
    "results_xg_ensemble_new_run_6 = {\n",
    "'mrr': 0.14736130097929595,\n",
    "'hit2': 0.13013059701492538,\n",
    "'hit10': 0.2462686567164179,\n",
    "'hit100': 0.554570895522388,\n",
    "'auroc': 0.9055752875277525,\n",
    "'ap': 0.028384013211504897,\n",
    "'acc': 0.8411129416071755,\n",
    "'f1': 0.7535491198182851\n",
    "}\n",
    "results_xg_synth_new_run_6 = {'ap': 0.005491298670828154,\n",
    "'hit100': 0.376865671641791,\n",
    "'auroc': 0.8248684530632286,\n",
    "'mrr': 0.06576272993950255,\n",
    "'hit2': 0.05177238805970149,\n",
    "'hit10': 0.11800373134328358,\n",
    "'acc': 0.9038989566172433,\n",
    "'f1': 0.8678580417820287\n",
    "}"
   ]
  },
  {
   "cell_type": "code",
   "execution_count": 133,
   "metadata": {},
   "outputs": [],
   "source": [
    "model_name_lst += ['xg_ensemble_new_run_3', 'xg_synth_new_run_3', 'xg_ensemble_new_run_6', 'xg_synth_new_run_6']\n",
    "for model_name in model_name_lst[-4:]:\n",
    "    for metric_name in metric_name_lst:\n",
    "        eval(metric_name + '_lst').append(eval('results_' + model_name)[metric_name])"
   ]
  },
  {
   "cell_type": "code",
   "execution_count": 134,
   "metadata": {},
   "outputs": [],
   "source": [
    "results_df = pd.DataFrame({metric_name: eval(metric_name + '_lst') for metric_name in metric_name_lst}, index=model_name_lst)"
   ]
  },
  {
   "cell_type": "code",
   "execution_count": 135,
   "metadata": {},
   "outputs": [
    {
     "data": {
      "text/html": [
       "<pre style=\"white-space:pre;overflow-x:auto;line-height:normal;font-family:Menlo,'DejaVu Sans Mono',consolas,'Courier New',monospace\"></pre>\n"
      ],
      "text/plain": []
     },
     "metadata": {},
     "output_type": "display_data"
    },
    {
     "data": {
      "text/html": [
       "<style type=\"text/css\">\n",
       "#T_82702_row0_col6, #T_82702_row0_col7, #T_82702_row3_col0, #T_82702_row3_col1, #T_82702_row3_col2, #T_82702_row3_col3, #T_82702_row3_col4, #T_82702_row3_col5 {\n",
       "  background-color: yellow;\n",
       "}\n",
       "</style>\n",
       "<table id=\"T_82702\">\n",
       "  <thead>\n",
       "    <tr>\n",
       "      <th class=\"blank level0\" >&nbsp;</th>\n",
       "      <th id=\"T_82702_level0_col0\" class=\"col_heading level0 col0\" >auroc</th>\n",
       "      <th id=\"T_82702_level0_col1\" class=\"col_heading level0 col1\" >ap</th>\n",
       "      <th id=\"T_82702_level0_col2\" class=\"col_heading level0 col2\" >mrr</th>\n",
       "      <th id=\"T_82702_level0_col3\" class=\"col_heading level0 col3\" >hit2</th>\n",
       "      <th id=\"T_82702_level0_col4\" class=\"col_heading level0 col4\" >hit10</th>\n",
       "      <th id=\"T_82702_level0_col5\" class=\"col_heading level0 col5\" >hit100</th>\n",
       "      <th id=\"T_82702_level0_col6\" class=\"col_heading level0 col6\" >acc</th>\n",
       "      <th id=\"T_82702_level0_col7\" class=\"col_heading level0 col7\" >f1</th>\n",
       "    </tr>\n",
       "  </thead>\n",
       "  <tbody>\n",
       "    <tr>\n",
       "      <th id=\"T_82702_level0_row0\" class=\"row_heading level0 row0\" >xg_synth_chunyu</th>\n",
       "      <td id=\"T_82702_row0_col0\" class=\"data row0 col0\" >0.867708</td>\n",
       "      <td id=\"T_82702_row0_col1\" class=\"data row0 col1\" >0.019273</td>\n",
       "      <td id=\"T_82702_row0_col2\" class=\"data row0 col2\" >0.153431</td>\n",
       "      <td id=\"T_82702_row0_col3\" class=\"data row0 col3\" >0.132929</td>\n",
       "      <td id=\"T_82702_row0_col4\" class=\"data row0 col4\" >0.271455</td>\n",
       "      <td id=\"T_82702_row0_col5\" class=\"data row0 col5\" >0.578358</td>\n",
       "      <td id=\"T_82702_row0_col6\" class=\"data row0 col6\" >0.926231</td>\n",
       "      <td id=\"T_82702_row0_col7\" class=\"data row0 col7\" >0.900074</td>\n",
       "    </tr>\n",
       "    <tr>\n",
       "      <th id=\"T_82702_level0_row1\" class=\"row_heading level0 row1\" >rf_chunyu</th>\n",
       "      <td id=\"T_82702_row1_col0\" class=\"data row1 col0\" >0.741243</td>\n",
       "      <td id=\"T_82702_row1_col1\" class=\"data row1 col1\" >0.006884</td>\n",
       "      <td id=\"T_82702_row1_col2\" class=\"data row1 col2\" >0.129286</td>\n",
       "      <td id=\"T_82702_row1_col3\" class=\"data row1 col3\" >0.120336</td>\n",
       "      <td id=\"T_82702_row1_col4\" class=\"data row1 col4\" >0.197295</td>\n",
       "      <td id=\"T_82702_row1_col5\" class=\"data row1 col5\" >0.423041</td>\n",
       "      <td id=\"T_82702_row1_col6\" class=\"data row1 col6\" >0.882482</td>\n",
       "      <td id=\"T_82702_row1_col7\" class=\"data row1 col7\" >0.833420</td>\n",
       "    </tr>\n",
       "    <tr>\n",
       "      <th id=\"T_82702_level0_row2\" class=\"row_heading level0 row2\" >xg_ensemble_first_run</th>\n",
       "      <td id=\"T_82702_row2_col0\" class=\"data row2 col0\" >0.844903</td>\n",
       "      <td id=\"T_82702_row2_col1\" class=\"data row2 col1\" >0.008687</td>\n",
       "      <td id=\"T_82702_row2_col2\" class=\"data row2 col2\" >0.068847</td>\n",
       "      <td id=\"T_82702_row2_col3\" class=\"data row2 col3\" >0.047575</td>\n",
       "      <td id=\"T_82702_row2_col4\" class=\"data row2 col4\" >0.132929</td>\n",
       "      <td id=\"T_82702_row2_col5\" class=\"data row2 col5\" >0.398787</td>\n",
       "      <td id=\"T_82702_row2_col6\" class=\"data row2 col6\" >0.782720</td>\n",
       "      <td id=\"T_82702_row2_col7\" class=\"data row2 col7\" >0.629410</td>\n",
       "    </tr>\n",
       "    <tr>\n",
       "      <th id=\"T_82702_level0_row3\" class=\"row_heading level0 row3\" >xg_ensemble_new_run_3</th>\n",
       "      <td id=\"T_82702_row3_col0\" class=\"data row3 col0\" >0.921969</td>\n",
       "      <td id=\"T_82702_row3_col1\" class=\"data row3 col1\" >0.043390</td>\n",
       "      <td id=\"T_82702_row3_col2\" class=\"data row3 col2\" >0.197281</td>\n",
       "      <td id=\"T_82702_row3_col3\" class=\"data row3 col3\" >0.178638</td>\n",
       "      <td id=\"T_82702_row3_col4\" class=\"data row3 col4\" >0.314366</td>\n",
       "      <td id=\"T_82702_row3_col5\" class=\"data row3 col5\" >0.620336</td>\n",
       "      <td id=\"T_82702_row3_col6\" class=\"data row3 col6\" >0.857404</td>\n",
       "      <td id=\"T_82702_row3_col7\" class=\"data row3 col7\" >0.784390</td>\n",
       "    </tr>\n",
       "    <tr>\n",
       "      <th id=\"T_82702_level0_row4\" class=\"row_heading level0 row4\" >xg_synth_new_run_3</th>\n",
       "      <td id=\"T_82702_row4_col0\" class=\"data row4 col0\" >0.838340</td>\n",
       "      <td id=\"T_82702_row4_col1\" class=\"data row4 col1\" >0.007503</td>\n",
       "      <td id=\"T_82702_row4_col2\" class=\"data row4 col2\" >0.104593</td>\n",
       "      <td id=\"T_82702_row4_col3\" class=\"data row4 col3\" >0.088619</td>\n",
       "      <td id=\"T_82702_row4_col4\" class=\"data row4 col4\" >0.175840</td>\n",
       "      <td id=\"T_82702_row4_col5\" class=\"data row4 col5\" >0.439832</td>\n",
       "      <td id=\"T_82702_row4_col6\" class=\"data row4 col6\" >0.910123</td>\n",
       "      <td id=\"T_82702_row4_col7\" class=\"data row4 col7\" >0.876850</td>\n",
       "    </tr>\n",
       "    <tr>\n",
       "      <th id=\"T_82702_level0_row5\" class=\"row_heading level0 row5\" >xg_ensemble_new_run_6</th>\n",
       "      <td id=\"T_82702_row5_col0\" class=\"data row5 col0\" >0.905575</td>\n",
       "      <td id=\"T_82702_row5_col1\" class=\"data row5 col1\" >0.028384</td>\n",
       "      <td id=\"T_82702_row5_col2\" class=\"data row5 col2\" >0.147361</td>\n",
       "      <td id=\"T_82702_row5_col3\" class=\"data row5 col3\" >0.130131</td>\n",
       "      <td id=\"T_82702_row5_col4\" class=\"data row5 col4\" >0.246269</td>\n",
       "      <td id=\"T_82702_row5_col5\" class=\"data row5 col5\" >0.554571</td>\n",
       "      <td id=\"T_82702_row5_col6\" class=\"data row5 col6\" >0.841113</td>\n",
       "      <td id=\"T_82702_row5_col7\" class=\"data row5 col7\" >0.753549</td>\n",
       "    </tr>\n",
       "    <tr>\n",
       "      <th id=\"T_82702_level0_row6\" class=\"row_heading level0 row6\" >xg_synth_new_run_6</th>\n",
       "      <td id=\"T_82702_row6_col0\" class=\"data row6 col0\" >0.824868</td>\n",
       "      <td id=\"T_82702_row6_col1\" class=\"data row6 col1\" >0.005491</td>\n",
       "      <td id=\"T_82702_row6_col2\" class=\"data row6 col2\" >0.065763</td>\n",
       "      <td id=\"T_82702_row6_col3\" class=\"data row6 col3\" >0.051772</td>\n",
       "      <td id=\"T_82702_row6_col4\" class=\"data row6 col4\" >0.118004</td>\n",
       "      <td id=\"T_82702_row6_col5\" class=\"data row6 col5\" >0.376866</td>\n",
       "      <td id=\"T_82702_row6_col6\" class=\"data row6 col6\" >0.903899</td>\n",
       "      <td id=\"T_82702_row6_col7\" class=\"data row6 col7\" >0.867858</td>\n",
       "    </tr>\n",
       "  </tbody>\n",
       "</table>\n"
      ],
      "text/plain": [
       "\u001b[1m<\u001b[0m\u001b[1;95mpandas.io.formats.style.Styler\u001b[0m\u001b[39m object at \u001b[0m\u001b[1;36m0x31c0eb610\u001b[0m\u001b[1m>\u001b[0m"
      ]
     },
     "execution_count": 135,
     "metadata": {},
     "output_type": "execute_result"
    }
   ],
   "source": [
    "# Function to highlight the best model for each metric\n",
    "def highlight_max(s):\n",
    "    is_max = s == s.max()\n",
    "    return ['background-color: yellow' if v else '' for v in is_max]\n",
    "\n",
    "styled_df = results_df.style.apply(highlight_max, axis=0)\n",
    "styled_df"
   ]
  }
 ],
 "metadata": {
  "kernelspec": {
   "display_name": "matrix-env",
   "language": "python",
   "name": "python3"
  },
  "language_info": {
   "codemirror_mode": {
    "name": "ipython",
    "version": 3
   },
   "file_extension": ".py",
   "mimetype": "text/x-python",
   "name": "python",
   "nbconvert_exporter": "python",
   "pygments_lexer": "ipython3",
   "version": "3.11.9"
  }
 },
 "nbformat": 4,
 "nbformat_minor": 2
}
