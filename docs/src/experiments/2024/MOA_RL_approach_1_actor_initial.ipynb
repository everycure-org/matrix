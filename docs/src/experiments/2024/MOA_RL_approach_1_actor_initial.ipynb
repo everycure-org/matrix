{
 "cells": [
  {
   "cell_type": "markdown",
   "metadata": {},
   "source": [
    "# Actor-Critic network for finding the shortest path on a KG"
   ]
  },
  {
   "cell_type": "markdown",
   "metadata": {},
   "source": [
    "The KGML-xDTD MOA prediction module is based on an Adverserial Actor-Critic RL model based on demonstration . \n",
    "\n",
    "The purpose of this notebook is to provide an initial exploration of this type of algorithm. \n",
    "\n",
    "A reinforcement learning agent for MOA prediction finds paths from drug nodes to disease nodes which are \"biologically meaningful\" in the sense of being likely to comprise MOAs. \n",
    "\n",
    "As a starting point, we consider the simpler problem: *find a path in the KG from a given drug node to a given disease node*.\n",
    "\n",
    "## Executive Summary\n",
    "- By comparing to random walk baselines, we observe that we successfully train a model for \n",
    "- Performance could probably be further improved by investing more time into hyperparameter tuning - this is just a quick proof of concept.\n",
    "- Random walks are more effective at path-finding than I would naively have expected, suggesting the problem is not too difficult. Perhaps we should explore non-ML algorithms for path-finding, combined with a supervised MOA vs. not-MOA classification model for paths."
   ]
  },
  {
   "cell_type": "code",
   "execution_count": 1,
   "metadata": {},
   "outputs": [],
   "source": [
    "import pandas as pd\n",
    "import polars as pl # much faster than pandas\n",
    "import numpy as np\n",
    "import matplotlib.pyplot as plt\n",
    "import igraph as ig\n",
    "import torch\n",
    "import torch.nn as nn\n",
    "import torch.nn.functional as F\n",
    "\n",
    "from time import time\n",
    "import random\n",
    "import pickle\n",
    "from tqdm import tqdm\n",
    "import sys\n",
    "import importlib"
   ]
  },
  {
   "cell_type": "markdown",
   "metadata": {},
   "source": [
    "## KG environment"
   ]
  },
  {
   "cell_type": "markdown",
   "metadata": {},
   "source": [
    "First, we set up the knowledge graph environment class which the agent interacts. \n",
    "\n",
    "A primary function of this class is to:\n",
    " - For any given node, be able to return all successor neighbour nodes and embeddings. \n",
    " - For any given node, be able to return out-going edges and one-hot embeddings for their predicates.\n",
    "\n",
    "As these operations are repeated in every training step, they must be done quickly. For instance, calling a neo4j server directly to achieve this in prohibitively slow. To achieve sufficient speed, we use the graph package igraph combined with PyTorch for dealing with the embeddings.  \n",
    "\n"
   ]
  },
  {
   "cell_type": "code",
   "execution_count": 2,
   "metadata": {},
   "outputs": [],
   "source": [
    "# KG filepath\n",
    "KG_NODES_PATH = '/Users/alexei/Documents/data/KGML_xDTD_data/KG/nodes_c.tsv'\n",
    "KG_NODES_HEADER_PATH = '/Users/alexei/Documents/data/KGML_xDTD_data/KG/nodes_c_header.tsv'\n",
    "KG_EDGES_PATH = '/Users/alexei/Documents/data/KGML_xDTD_data/KG/edges_c.tsv'\n",
    "KG_EDGES_HEADER_PATH ='/Users/alexei/Documents/data/KGML_xDTD_data/KG/edges_c_header.tsv'\n",
    "# GraphSAGE embeddings filepath \n",
    "GRAPHSAGE_EMB_PATH = '/Users/alexei/Documents/data/KGML_xDTD_data/data/entity_embeddings/unsuprvised_graphsage_entity_embeddings.pkl'\n",
    "# PubMedBERT embeddings filepath \n",
    "PUBMED_EMB_PATH = '/Users/alexei/Documents/data/KGML_xDTD_data/data/entity_embeddings/embedding_biobert_namecat.pkl'"
   ]
  },
  {
   "cell_type": "code",
   "execution_count": 3,
   "metadata": {},
   "outputs": [],
   "source": [
    "class KGEnv:\n",
    "    \"\"\"\n",
    "    A class representing a knowledge graph enriched with embeddings.  \n",
    "    \"\"\"\n",
    "    def __init__(self, \n",
    "                 kg_nodes_filepath: str,\n",
    "                 kg_nodes_header_filepath: str,\n",
    "                 kg_edges_filepath: str, \n",
    "                 kg_edges_header_filepath: str, \n",
    "                 embeddings_filepath: str,\n",
    "                 id_col_name = \"id:ID\", \n",
    "                 predicate_col_name = \"predicate\",\n",
    "                 subject_col_name = \"subject\",\n",
    "                 object_col_name = \"object\", \n",
    "                 device = 'cpu'\n",
    "                 ) -> None:\n",
    "        \"\"\"Initialises instance of the KGEnv class.\n",
    "\n",
    "        Args:\n",
    "            kg_nodes_filepath: File path for tsv file containing the KG nodes.\n",
    "            kg_nodes_header_filepath: File path for tsv file containing the header for the KG nodes.\n",
    "            kg_edges_filepath: File path for tsv file containing the KG edges.\n",
    "            kg_edges_header_filepath: File path for tsv file containing the header for the KG edges.\n",
    "            embeddings_filepath: File path for a pickle file containing an KG ID to embedding vector dictionary.\n",
    "            id_col_name: Column name for KG ID in nodes tsv file.\n",
    "            predicate_col_name: Column name for KG edge predicate in edges tsv file. \n",
    "            subject_col_name: Column name for KG edge subject in edges tsv file.\n",
    "            object_col_name: Column name for KG edge object in edges tsv file.\n",
    "        \"\"\"\n",
    "        self.device = device\n",
    "\n",
    "        # Load nodes\n",
    "        print(\"Loading nodes...\")\n",
    "        nodes_header = pd.read_csv(kg_nodes_header_filepath, sep='\\t', header=None).iloc[0].to_list()\n",
    "        df_nodes = pl.read_csv(kg_nodes_filepath, separator='\\t', has_header= False, new_columns=nodes_header)\n",
    "        df_nodes = df_nodes.with_row_index()\n",
    "        # Load edges\n",
    "        print(\"Loading edges...\")\n",
    "        edges_header = pd.read_csv(kg_edges_header_filepath, sep='\\t', header=None).iloc[0].to_list()\n",
    "        df_edges = pl.read_csv(kg_edges_filepath, separator='\\t', has_header= False, new_columns=edges_header)\n",
    "        \n",
    "        # Generate KG ID to index dictionary for nodes\n",
    "        print(\"Generating igraph Graph instance...\")\n",
    "        self.node_id_to_index = {key: val for key, val in zip(list(df_nodes[id_col_name]), list(df_nodes[\"index\"]))}\n",
    "        # Generate edge predicate to index dictionary\n",
    "        unique_predicates = pl.DataFrame(df_edges[predicate_col_name].unique())\n",
    "        unique_predicates = unique_predicates.with_row_index()\n",
    "        self.edge_predicate_to_index = {key: val for key, val in zip(list(unique_predicates[predicate_col_name]), list(unique_predicates[\"index\"]))}\n",
    "        self.N_edge_labels = len(self.edge_predicate_to_index)\n",
    "        # Generating igraph Graph instance\n",
    "        edges = [(self.node_id_to_index[subject], self.node_id_to_index[object]) for subject, object in zip(df_edges[subject_col_name],df_edges[object_col_name])]\n",
    "        edge_labels = {\"edge_label\":[self.edge_predicate_to_index[predicate] for predicate in df_edges[predicate_col_name]]}\n",
    "        self.graph = ig.Graph(edges=edges, directed=True, edge_attrs = edge_labels)\n",
    "        # Remove nodes and edges from memory\n",
    "        del df_nodes\n",
    "        del df_edges\n",
    "\n",
    "        # Load embeddings\n",
    "        print(\"Loading embeddings...\")\n",
    "        with open(embeddings_filepath, 'rb') as file:\n",
    "            embedding_dict = pickle.load(file)\n",
    "        # Dimensions of embeddings matrix\n",
    "        self.N_emb = len(list(embedding_dict.values())[0])\n",
    "        self.N_items = len(self.node_id_to_index)        \n",
    "        # Generate 2d torch tensor for embeddings. If no embedding exists, we use the zero embedding\n",
    "        print(\"Generating embeddings matrix...\")\n",
    "        self.embedding_matrix = torch.zeros((self.N_items, self.N_emb))\n",
    "        for _id, n in self.node_id_to_index.items():\n",
    "            if _id in embedding_dict.keys():\n",
    "                self.embedding_matrix[n, :] = torch.tensor(embedding_dict[_id])\n",
    "        self.embedding_matrix.to(device) \n",
    "        # Remove embedding dictionary from memory\n",
    "        del embedding_dict\n",
    "\n",
    "        # Matrix for one-hot edge embeddings\n",
    "        self._edge_embedding_matrix = torch.eye(self.N_edge_labels).to(device)\n",
    "\n",
    "        print(\"Initialisation successful.\")\n",
    "\n",
    "\n",
    "    def get_nhood_nodes(self, n: int) -> torch.Tensor:\n",
    "        \"\"\"Returns successor node indices and corresponding embeddings.\n",
    "\n",
    "        Args:\n",
    "            n: igraph node index\n",
    "\n",
    "        Returns:\n",
    "            Tuple where the:\n",
    "                - first element is a list of indices for successor nodes. \n",
    "                - second element is a 2d torch tensor with the corresponding embeddings.\n",
    "            If there are no successor nodes, then a tuple of two None objects is returned.\n",
    "        \"\"\"\n",
    "        successor_list = self.graph.successors(n)\n",
    "        if len(successor_list) == 0:\n",
    "            return None, None\n",
    "        else:\n",
    "            return successor_list, self.embedding_matrix[successor_list]\n",
    "\n",
    "\n",
    "    def get_out_edges(self, n: int) -> torch.Tensor:\n",
    "        \"\"\"Returns outgoing edge predicate indices and corresponding one-hot embeddings.\n",
    "\n",
    "        Args:\n",
    "            n: igraph node index\n",
    "\n",
    "        Returns:\n",
    "            Tuple where the:\n",
    "                - first element is a list of indices for the predicates of all out edges. \n",
    "                - second element is a 2d torch tensor with the one-hot embeddings.\n",
    "            If there are outgoing edges, then a tuple of two None objects is returned.\n",
    "        \"\"\"\n",
    "        # Get indices of out edges\n",
    "        edge_list = self.graph.vs[n].out_edges()\n",
    "        if len(edge_list) == 0:\n",
    "            return None, None\n",
    "        edge_labels_lst = [edge[\"edge_label\"] for edge in edge_list]\n",
    "        # Return corresponding one-hot embeddings\n",
    "        return edge_labels_lst, self._edge_embedding_matrix[edge_labels_lst]"
   ]
  },
  {
   "cell_type": "code",
   "execution_count": 4,
   "metadata": {},
   "outputs": [
    {
     "name": "stdout",
     "output_type": "stream",
     "text": [
      "Loading nodes...\n",
      "Loading edges...\n",
      "Generating igraph Graph instance...\n",
      "Loading embeddings...\n",
      "Generating embeddings matrix...\n",
      "Initialisation successful.\n"
     ]
    }
   ],
   "source": [
    "# Initialise KG environment\n",
    "kg_env = KGEnv(KG_NODES_PATH, KG_NODES_HEADER_PATH, KG_EDGES_PATH, KG_EDGES_HEADER_PATH, GRAPHSAGE_EMB_PATH)"
   ]
  },
  {
   "cell_type": "markdown",
   "metadata": {},
   "source": [
    "## State representation"
   ]
  },
  {
   "cell_type": "markdown",
   "metadata": {},
   "source": [
    "Let $u$ represent the source drug and the $v$ the target disease. \n",
    "\n",
    "At each time step $t$, the agent performs an action consisting in traversing from one node $e_t$ to another $e_{t+1}$ across an edge with a given label $r_{t+1}$ .  An action is represented by a tuple $a_t = (e_{t+1}, r_{t+1})$, where $r_{t+1}$ is the edge predicate index and $e_{t+1}$ is the igraph index for the new node. \n",
    "\n",
    "Future actions depends only on the current state. \n",
    "\n",
    "There are two options for representing the state. Let $K \\in \\mathbb{N}$ be a cap on the number of edges in a path. \n",
    "1. Target disease accessible:\n",
    "$$ s_t = [u, v, (e_{t-K}, r_{t-K}), ..., (e_{t-1}, r_{t-1}), (e_{t}, r_{t})]$$\n",
    "2. Target disease inaccessible:\n",
    "$$ s_t = [u, (e_{t-K}, r_{t-K}), ..., (e_{t-1}, r_{t-1}), (e_{t}, r_{t})]$$\n",
    "\n",
    "The first corresponds to the case where the agent makes MOA predictions after a drug-disease relationship has already been made. \n",
    "\n",
    "The second corresponds to the case where the agent finds make disease predictions for a given drug and simultaneously provides MOA predictions. \n",
    "\n",
    "Zhou et. al. and KGML-xDTD opt for the second option. We shall initially focus on the first option for the $u \\rightarrow v$ path-finding problem. \n",
    "\n",
    "**Note:** If $t \\leq 0$, we replace $(e_{t}, r_{t})$ by a dummy variable $(-1,-1)$. For instance, in the first option above the initial state is\n",
    "$$s_0 = (u, v, (-1,-1),...,(-1,-1)).$$\n",
    "\n",
    "*Remark.* We could in principle let the maximum number of edges in a path be greater than the history included in the state.  "
   ]
  },
  {
   "cell_type": "code",
   "execution_count": 5,
   "metadata": {},
   "outputs": [],
   "source": [
    "# Maximum allowed number of edges in a path\n",
    "K = 5 "
   ]
  },
  {
   "cell_type": "code",
   "execution_count": 6,
   "metadata": {},
   "outputs": [],
   "source": [
    "class Agent:\n",
    "    \"\"\"A class representing a reinforcement learning agent in a knowledge graph environment.  \n",
    "    \"\"\"\n",
    "    def __init__(self, K: int, kg_env: KGEnv) -> None:\n",
    "        \"\"\"Initialises Agent instance.\n",
    "\n",
    "        Args:\n",
    "            K: Maximum allowed number of edges in a path\n",
    "            kg_env: Instance of KGEnv \n",
    "        \"\"\"\n",
    "        self.K = K\n",
    "        self.kg_env = kg_env\n",
    "        # Initiate time\n",
    "        self.time = 0\n",
    "        # Initialise empty state attributes\n",
    "        self.reset()\n",
    "\n",
    "    def set_source_target(self, drug : int, disease :int) -> None:\n",
    "        \"\"\"Sets source drug and target diseases. Resets state to canonical initial state.  \n",
    "\n",
    "        Args:\n",
    "            drug: igraph node index for the source drug\n",
    "            disease: igraph node index for the target drug\n",
    "        \"\"\"\n",
    "        # Reset time and termination status\n",
    "        self.time = 0\n",
    "        self.terminated = False\n",
    "\n",
    "        # Set drug and disease indices\n",
    "        self.source_drug = drug\n",
    "        self.target_disease = disease\n",
    "        \n",
    "        # Set drug and disease embeddings\n",
    "        self.source_drug_embedding = self.kg_env.embedding_matrix[drug]\n",
    "        self.target_disease_embedding = self.kg_env.embedding_matrix[disease]\n",
    "\n",
    "        # Set initial state\n",
    "        self.current_state = [drug, disease] + [(-1,-1) for _ in range(self.K)]\n",
    "        self.current_node = drug\n",
    "        # Set initial state embedding matrix\n",
    "        embeddings_tmp = torch.zeros((self.K + 2, self.kg_env.N_emb + self.kg_env.N_edge_labels))\n",
    "        embeddings_tmp[0][:self.kg_env.N_emb] = self.source_drug_embedding\n",
    "        embeddings_tmp[1][:self.kg_env.N_emb] = self.target_disease_embedding\n",
    "        self.current_state_embedding = embeddings_tmp\n",
    "\n",
    "        # Compute list of next possible actions\n",
    "        self.compute_possible_next_actions()\n",
    "\n",
    "    def reset(self) -> None:\n",
    "        \"\"\"Resets time and empties state attributes\n",
    "        \"\"\"\n",
    "        self.time = 0\n",
    "        self.terminated = False\n",
    "        self.source_drug = None\n",
    "        self.source_drug_embedding = None\n",
    "        self.target_disease = None\n",
    "        self.target_disease_embedding = None\n",
    "        self.current_state = None\n",
    "        self.current_state_embedding = None\n",
    "\n",
    "    def compute_possible_next_actions(self) -> None:\n",
    "        \"\"\"Sets attributes containing list of next possible actions and corresponding embeddings. \n",
    "        \"\"\"\n",
    "        # Call KG environment to get nhood information\n",
    "        successor_list, successor_embeddings_matrix = self.kg_env.get_nhood_nodes(self.current_node)\n",
    "        edge_labels_list, edge_labels_embeddings_matrix = self.kg_env.get_out_edges(self.current_node)\n",
    "        # Set attributes\n",
    "        if successor_list == None:\n",
    "            self.all_actions = None\n",
    "            self.all_actions_embeddings = None\n",
    "            self.terminated = True\n",
    "        else: \n",
    "            self.all_actions =  [\n",
    "                (node_index, predicate_index) for node_index, predicate_index in zip(successor_list, edge_labels_list)\n",
    "                ]\n",
    "            self.all_actions_embeddings = torch.cat((successor_embeddings_matrix, edge_labels_embeddings_matrix), 1)\n",
    "\n",
    "    def select_next_action(self, n_next_action: str):\n",
    "        \"\"\"Selects an admitted action and updates the agent.\n",
    "\n",
    "        Args:\n",
    "            n_next_action: Index of self.all_actions corresponding to selected next action\n",
    "        \"\"\"\n",
    "        if self.terminated == True: \n",
    "            print(\"Maximum path length reached.\")\n",
    "            return\n",
    "\n",
    "        # Update current state and current node\n",
    "        next_action = self.all_actions[n_next_action]\n",
    "        self.current_node = next_action[0]\n",
    "        self.current_state[2:-1] = self.current_state[3:]\n",
    "        self.current_state[-1] = next_action\n",
    "\n",
    "        # Update current state embedding \n",
    "        next_action_embedding = self.all_actions_embeddings[n_next_action]\n",
    "        next_state_embedding = self.current_state_embedding.clone()\n",
    "        next_state_embedding[2:-1] = self.current_state_embedding[3:]\n",
    "        next_state_embedding[-1] = next_action_embedding\n",
    "        self.current_state_embedding = next_state_embedding\n",
    "\n",
    "        # Update time \n",
    "        self.time += 1\n",
    "        if self.time == K:\n",
    "            self.terminated = True\n",
    "\n",
    "        # Update list of next possible actions\n",
    "        self.compute_possible_next_actions()\n",
    "\n",
    "\n"
   ]
  },
  {
   "cell_type": "code",
   "execution_count": 7,
   "metadata": {},
   "outputs": [
    {
     "name": "stdout",
     "output_type": "stream",
     "text": [
      "[10, 42, (-1, -1), (-1, -1), (-1, -1), (-1, -1), (-1, -1)]\n",
      "tensor([[-0.0173,  0.0888,  0.0172,  ...,  0.0000,  0.0000,  0.0000],\n",
      "        [ 0.0049,  0.0685,  0.0038,  ...,  0.0000,  0.0000,  0.0000],\n",
      "        [ 0.0000,  0.0000,  0.0000,  ...,  0.0000,  0.0000,  0.0000],\n",
      "        ...,\n",
      "        [ 0.0000,  0.0000,  0.0000,  ...,  0.0000,  0.0000,  0.0000],\n",
      "        [ 0.0000,  0.0000,  0.0000,  ...,  0.0000,  0.0000,  0.0000],\n",
      "        [ 0.0000,  0.0000,  0.0000,  ...,  0.0000,  0.0000,  0.0000]])\n"
     ]
    }
   ],
   "source": [
    "# Test\n",
    "drug, disease = 10, 42\n",
    "agent = Agent(K, kg_env)\n",
    "agent.set_source_target(drug,disease)\n",
    "print(agent.current_state)\n",
    "print(agent.current_state_embedding)"
   ]
  },
  {
   "cell_type": "code",
   "execution_count": 8,
   "metadata": {},
   "outputs": [
    {
     "name": "stdout",
     "output_type": "stream",
     "text": [
      "[(14984, 22), (16202, 22), (17456, 22), (17463, 22), (17935, 22), (17939, 22), (17945, 22), (17954, 22), (17969, 22), (17978, 22), (17979, 22), (18041, 22), (19175, 22), (19674, 22), (19825, 22), (20694, 22), (27303, 22), (27304, 22), (27326, 22), (27328, 22), (27330, 22), (27510, 22), (27987, 22), (28111, 22), (28784, 22), (28842, 22), (28846, 22), (29127, 22), (29711, 22), (29938, 22), (30182, 22), (30620, 22), (30661, 22), (32704, 22), (34601, 22), (35288, 22), (37142, 22), (37171, 22), (37541, 22), (37664, 22), (39829, 22), (40214, 33), (40319, 22), (43100, 22), (43139, 22), (43310, 22), (46065, 22), (46152, 22), (48768, 22), (49012, 22), (50255, 22), (50266, 22), (53257, 61), (55493, 22), (55819, 22), (58944, 22), (59556, 22), (61908, 22), (63385, 22), (64529, 22), (66616, 22), (71524, 22), (72277, 22), (73019, 22), (73903, 22), (79219, 22), (79864, 22), (81316, 22), (81336, 22), (81508, 22), (82505, 22), (84827, 22), (86269, 22), (86545, 22), (87150, 22), (88193, 22), (90728, 22), (95502, 22), (95743, 22), (97524, 22), (98175, 22), (98176, 22), (98312, 22), (103225, 22), (106243, 22), (109757, 22), (109892, 22), (109894, 22), (109903, 22), (110372, 22), (110390, 22), (110914, 22), (111740, 22), (112767, 22), (112768, 22), (114208, 22), (115094, 22), (115170, 22), (115801, 22), (115804, 22), (116119, 22), (116430, 22), (116431, 22), (116684, 22), (116736, 22), (116746, 22), (116753, 22), (116756, 22), (116767, 22), (117029, 22), (123583, 22), (141092, 65), (158226, 33), (180671, 65), (180675, 2), (180675, 65), (181698, 2), (181698, 33), (205385, 2), (205385, 33), (205786, 33), (233514, 33), (233520, 33), (233539, 33), (233576, 33), (233692, 33), (233700, 33), (233838, 33), (233972, 33), (234320, 61), (235132, 33), (235506, 61), (235551, 33), (235645, 61), (235682, 61), (235685, 61), (236013, 61), (236106, 61), (236739, 33), (236934, 61), (237019, 61), (237179, 61), (237181, 61), (237201, 61), (237262, 61), (237346, 33), (237394, 61), (237407, 33), (237413, 61), (237561, 61), (237608, 61), (237748, 61), (237759, 69), (237778, 69), (237778, 33), (237821, 61), (237939, 33), (238228, 61), (238251, 33), (238267, 33), (238281, 33), (238318, 33), (238318, 69), (238389, 33), (238678, 69), (238700, 69), (239229, 33), (239348, 33), (239380, 61), (239523, 61), (239589, 61), (239592, 69), (239597, 69), (239597, 33), (239600, 61), (239627, 61), (239647, 33), (239714, 33), (239715, 61), (239864, 61), (239868, 2), (239868, 69), (239868, 33), (239869, 33), (240066, 61), (240068, 33), (240069, 69), (240069, 33), (240244, 33), (240269, 61), (240305, 61), (240316, 33), (240361, 33), (240361, 69), (240383, 33), (240388, 33), (240460, 61), (240462, 61), (240470, 61), (240473, 61), (240475, 61), (240492, 33), (240498, 33), (240575, 61), (240593, 61), (240616, 69), (240630, 33), (240635, 33), (240678, 61), (240680, 61), (240716, 61), (240785, 33), (240793, 33), (240815, 69), (240815, 33), (240943, 61), (240993, 33), (241020, 33), (241065, 33), (241081, 61), (241338, 33), (241360, 33), (241398, 61), (241425, 33), (241459, 61), (241685, 33), (241713, 33), (241713, 69), (241767, 33), (241921, 61), (241968, 33), (242128, 61), (242191, 33), (242248, 33), (242248, 69), (242398, 61), (242440, 69), (242725, 33), (242760, 33), (242774, 61), (242928, 61), (242931, 61), (244060, 69), (244060, 33), (244185, 61), (244992, 69), (245915, 61), (245938, 61), (246424, 61), (246514, 61), (246556, 2), (246634, 61), (246898, 61), (247906, 61), (248011, 61), (248017, 61), (249695, 61), (250176, 69), (250342, 61), (250384, 61), (250645, 61), (250648, 33), (250658, 61), (250660, 61), (250668, 61), (250676, 61), (250759, 61), (250769, 61), (251281, 61), (251377, 25), (251997, 61), (252129, 3), (252131, 61), (252168, 61), (252172, 61), (252750, 2), (252750, 33), (253386, 61), (253548, 61), (253588, 61), (253590, 61), (253786, 33), (254945, 61), (255698, 61), (256110, 61), (256117, 61), (258168, 61), (258228, 61), (258230, 61), (258373, 3), (259137, 61), (259912, 69), (259912, 25), (259912, 33), (261644, 33), (261957, 61), (263679, 33), (267027, 22), (267703, 69), (267703, 33), (269445, 65), (269781, 25), (269781, 33), (270991, 65), (272320, 22), (275545, 22), (277291, 33), (280994, 22), (281194, 61), (282917, 22), (283264, 22), (283824, 33), (287915, 33), (287915, 2), (288413, 33), (288413, 25), (289256, 69), (289256, 33), (289256, 25), (290193, 33), (290193, 25), (292649, 33), (295223, 61), (299405, 61), (299530, 61), (299554, 69), (299637, 33), (299693, 33), (299728, 2), (299728, 33), (299744, 33), (299744, 25), (299754, 61), (302838, 69), (309366, 33), (314208, 61), (320131, 33), (326604, 2), (331771, 33), (336364, 61), (336390, 61), (336515, 61), (336854, 33), (337138, 61), (337612, 61), (354190, 33), (354385, 61), (354403, 61), (355214, 61), (364980, 33), (364980, 69), (373798, 61), (385938, 61), (404087, 33), (410026, 33), (411791, 33), (428787, 33), (435802, 61), (439323, 33), (444107, 61), (468962, 61), (478283, 61), (479551, 61), (483124, 33), (491602, 61), (540121, 33), (547862, 33), (2347345, 61), (2349795, 33), (2361228, 22), (2369052, 61), (2373311, 61), (2373898, 22), (2379135, 59), (2381850, 33), (2383008, 61), (2386558, 22), (2392301, 25), (2393451, 22), (2400067, 33), (2404718, 61), (2431921, 61), (2433251, 61), (2442783, 33), (2673932, 33), (2676201, 61), (2697738, 61), (2700635, 61), (2700636, 61), (2943827, 22), (2945260, 22), (2945273, 22), (2945693, 22), (2945762, 61), (2945764, 61), (2945943, 22), (2946822, 61), (2947368, 22), (2947387, 22), (2948906, 61), (2948933, 61), (2951286, 22), (2953029, 33), (2953049, 61), (2953707, 22), (2954626, 61), (2958463, 61), (2960021, 33), (2967442, 61), (2969573, 61), (2972696, 22), (2972748, 22), (2972766, 22), (2973723, 61), (2974833, 22), (2977492, 61), (2977976, 22)]\n",
      "tensor([[ 0.0345,  0.0680,  0.0141,  ...,  0.0000,  0.0000,  0.0000],\n",
      "        [ 0.0153,  0.0648, -0.0212,  ...,  0.0000,  0.0000,  0.0000],\n",
      "        [ 0.0130,  0.0731,  0.0135,  ...,  0.0000,  0.0000,  0.0000],\n",
      "        ...,\n",
      "        [ 0.0721,  0.0289, -0.0150,  ...,  0.0000,  0.0000,  0.0000],\n",
      "        [ 0.0156,  0.0186, -0.0237,  ...,  0.0000,  0.0000,  0.0000],\n",
      "        [ 0.0053,  0.0573,  0.0569,  ...,  0.0000,  0.0000,  0.0000]])\n"
     ]
    }
   ],
   "source": [
    "# Test\n",
    "agent.compute_possible_next_actions()\n",
    "print(agent.all_actions)\n",
    "print(agent.all_actions_embeddings)"
   ]
  },
  {
   "cell_type": "code",
   "execution_count": 9,
   "metadata": {},
   "outputs": [
    {
     "name": "stdout",
     "output_type": "stream",
     "text": [
      "[10, 42, (-1, -1), (-1, -1), (-1, -1), (-1, -1), (-1, -1)]\n",
      "tensor([[-0.0173,  0.0888,  0.0172,  ...,  0.0000,  0.0000,  0.0000],\n",
      "        [ 0.0049,  0.0685,  0.0038,  ...,  0.0000,  0.0000,  0.0000],\n",
      "        [ 0.0000,  0.0000,  0.0000,  ...,  0.0000,  0.0000,  0.0000],\n",
      "        ...,\n",
      "        [ 0.0000,  0.0000,  0.0000,  ...,  0.0000,  0.0000,  0.0000],\n",
      "        [ 0.0000,  0.0000,  0.0000,  ...,  0.0000,  0.0000,  0.0000],\n",
      "        [ 0.0000,  0.0000,  0.0000,  ...,  0.0000,  0.0000,  0.0000]])\n",
      "[10, 42, (-1, -1), (-1, -1), (-1, -1), (-1, -1), (14984, 22)]\n",
      "tensor([[-0.0173,  0.0888,  0.0172,  ...,  0.0000,  0.0000,  0.0000],\n",
      "        [ 0.0049,  0.0685,  0.0038,  ...,  0.0000,  0.0000,  0.0000],\n",
      "        [ 0.0000,  0.0000,  0.0000,  ...,  0.0000,  0.0000,  0.0000],\n",
      "        ...,\n",
      "        [ 0.0000,  0.0000,  0.0000,  ...,  0.0000,  0.0000,  0.0000],\n",
      "        [ 0.0000,  0.0000,  0.0000,  ...,  0.0000,  0.0000,  0.0000],\n",
      "        [ 0.0345,  0.0680,  0.0141,  ...,  0.0000,  0.0000,  0.0000]])\n",
      "[10, 42, (-1, -1), (-1, -1), (-1, -1), (14984, 22), (17223, 61)]\n",
      "tensor([[-0.0173,  0.0888,  0.0172,  ...,  0.0000,  0.0000,  0.0000],\n",
      "        [ 0.0049,  0.0685,  0.0038,  ...,  0.0000,  0.0000,  0.0000],\n",
      "        [ 0.0000,  0.0000,  0.0000,  ...,  0.0000,  0.0000,  0.0000],\n",
      "        ...,\n",
      "        [ 0.0000,  0.0000,  0.0000,  ...,  0.0000,  0.0000,  0.0000],\n",
      "        [ 0.0345,  0.0680,  0.0141,  ...,  0.0000,  0.0000,  0.0000],\n",
      "        [ 0.0466, -0.0033,  0.0358,  ...,  0.0000,  0.0000,  0.0000]])\n"
     ]
    }
   ],
   "source": [
    "# Test\n",
    "drug, disease = 10, 42\n",
    "agent = Agent(K, kg_env)\n",
    "agent.set_source_target(drug,disease)\n",
    "print(agent.current_state)\n",
    "print(agent.current_state_embedding)\n",
    "agent.select_next_action(0)\n",
    "print(agent.current_state)\n",
    "print(agent.current_state_embedding)\n",
    "agent.select_next_action(0)\n",
    "print(agent.current_state)\n",
    "print(agent.current_state_embedding)\n",
    "agent.select_next_action(0)"
   ]
  },
  {
   "cell_type": "markdown",
   "metadata": {},
   "source": [
    "## Actor network"
   ]
  },
  {
   "cell_type": "code",
   "execution_count": 10,
   "metadata": {},
   "outputs": [],
   "source": [
    "class ActorFCNN(nn.Module):\n",
    "    \"\"\"Pytorch module representing the actor network. \n",
    "\n",
    "    Architecture is a fully connected neural network. \n",
    "\n",
    "    TODO: Remove LazyLinear in prod code (feature still under development)\n",
    "    \"\"\"\n",
    "    def __init__(self, \n",
    "                 neuron_lst : list[int],\n",
    "                 N_emb : int, \n",
    "                 N_edge_labels: int,\n",
    "                 activation_fn = nn.ReLU,\n",
    "                 ) -> None:\n",
    "        \"\"\"Initialises instance of ActorFCNN. \n",
    "\n",
    "        Args:\n",
    "            neuron_lst: A list containing the number of neurons in each hidden layer. \n",
    "                The length of the list determines the number of hidden layers. \n",
    "            N_emb: Length of node embedding vectors. \n",
    "            N_edge_labels: Length of edge predicate embedding vectors\n",
    "            activation_fn: Activation function for all hidden layers. Defaults to nn.ReLU.\n",
    "        \"\"\"\n",
    "        super().__init__()\n",
    "        # Dimension of embedding of a single action \n",
    "        action_emb_dim = N_emb + N_edge_labels\n",
    "        # Construct main stack \n",
    "        self.main_stack = nn.Sequential()\n",
    "        for idx, n in enumerate(neuron_lst):\n",
    "            self.main_stack.add_module(f'Linear {idx + 1}', nn.LazyLinear(n))\n",
    "            self.main_stack.add_module(f'Activation {idx + 1}', activation_fn())\n",
    "        self.main_stack.add_module('Linear output', nn.LazyLinear(action_emb_dim))\n",
    "\n",
    "    def forward(self, state_embedding: torch.Tensor, all_actions_embeddings: torch.Tensor): \n",
    "        \"\"\"Performs forward propagation. \n",
    "\n",
    "        Args:\n",
    "            state_embedding: 2d torch tensor representing current state embedding \n",
    "            all_actions_embeddings: 2d torch tensor embeddings for all possible next actions\n",
    "        \"\"\"\n",
    "        x = state_embedding.flatten()\n",
    "        z = self.main_stack(x)\n",
    "        return F.softmax(all_actions_embeddings @ z, dim = 0)        \n",
    "        "
   ]
  },
  {
   "cell_type": "code",
   "execution_count": 11,
   "metadata": {},
   "outputs": [
    {
     "name": "stdout",
     "output_type": "stream",
     "text": [
      "tensor([0.0222, 0.0222, 0.0217, 0.0209, 0.0204, 0.0324, 0.0200, 0.0296, 0.0331,\n",
      "        0.0319, 0.0352, 0.0184, 0.0329, 0.0281, 0.0283, 0.0361, 0.0366, 0.0296,\n",
      "        0.0192, 0.0381, 0.0307, 0.0359, 0.0216, 0.0416, 0.0367, 0.0375, 0.0370,\n",
      "        0.0365, 0.0416, 0.0179, 0.0195, 0.0349, 0.0209, 0.0306],\n",
      "       grad_fn=<SoftmaxBackward0>)\n",
      "23\n"
     ]
    }
   ],
   "source": [
    "# Test\n",
    "neuron_lst = [10,10]\n",
    "actor = ActorFCNN(neuron_lst, kg_env.N_emb, kg_env.N_edge_labels)\n",
    "print(actor(agent.current_state_embedding, agent.all_actions_embeddings))\n",
    "print(torch.argmax(actor(agent.current_state_embedding, agent.all_actions_embeddings)).item())"
   ]
  },
  {
   "cell_type": "code",
   "execution_count": 12,
   "metadata": {},
   "outputs": [],
   "source": [
    "def run_path(agent: Agent, actor: nn.Module, drug: int, disease: int) -> list:\n",
    "    # Reset agent\n",
    "    agent.set_source_target(drug, disease)\n",
    "    # Compute path\n",
    "    path = [agent.current_node]\n",
    "    while agent.terminated == False:\n",
    "        probs_next_action = actor(agent.current_state_embedding, agent.all_actions_embeddings)\n",
    "        n_next_action = torch.argmax(probs_next_action).item()\n",
    "        agent.select_next_action(n_next_action)    \n",
    "        path.append(agent.current_node)\n",
    "    return path\n"
   ]
  },
  {
   "cell_type": "code",
   "execution_count": 13,
   "metadata": {},
   "outputs": [
    {
     "name": "stdout",
     "output_type": "stream",
     "text": [
      "[10, 27987, 2304176]\n",
      "[10, 27987, 17969, 111417, 37703, 33540]\n",
      "[10, 180675, 172693, 191259, 446027, 446028]\n",
      "[10, 251997]\n",
      "[10, 238678, 247143, 251352, 251351]\n"
     ]
    }
   ],
   "source": [
    "# Test\n",
    "K = 5\n",
    "neuron_lst = [10,10]\n",
    "drug = 10\n",
    "disease = 42\n",
    "\n",
    "for _ in range (5):\n",
    "    actor = ActorFCNN(neuron_lst, kg_env.N_emb, kg_env.N_edge_labels)\n",
    "    agent = Agent(K, kg_env)\n",
    "    print(run_path(agent, actor, drug, disease))"
   ]
  },
  {
   "cell_type": "markdown",
   "metadata": {},
   "source": [
    "## Critic network"
   ]
  },
  {
   "cell_type": "code",
   "execution_count": 14,
   "metadata": {},
   "outputs": [],
   "source": [
    "class CriticFCNN(nn.Module):\n",
    "    \"\"\"Pytorch module representing the critic network. \n",
    "\n",
    "    Architecture is a fully connected neural network. \n",
    "\n",
    "    TODO: Remove LazyLinear in prod code (feature still under development)\n",
    "    \"\"\"\n",
    "    def __init__(self, \n",
    "                 neuron_lst : list[int],\n",
    "                 N_emb : int, \n",
    "                 N_edge_labels: int,\n",
    "                 activation_fn = nn.ReLU,\n",
    "                 ) -> None:\n",
    "        \"\"\"Initialises instance of CriticFCNN. \n",
    "\n",
    "        Args:\n",
    "            neuron_lst: A list containing the number of neurons in each hidden layer. \n",
    "                The length of the list determines the number of hidden layers. \n",
    "            N_emb: Length of node embedding vectors. \n",
    "            N_edge_labels: Length of edge predicate embedding vectors\n",
    "            activation_fn: Activation function for all hidden layers. Defaults to nn.ReLU.\n",
    "        \"\"\"\n",
    "        super().__init__()\n",
    "        # Dimension of embedding of a single action \n",
    "        action_emb_dim = N_emb + N_edge_labels\n",
    "        # Construct main stack \n",
    "        self.main_stack = nn.Sequential()\n",
    "        for idx, n in enumerate(neuron_lst):\n",
    "            self.main_stack.add_module(f'Linear {idx + 1}', nn.LazyLinear(n))\n",
    "            self.main_stack.add_module(f'Activation {idx + 1}', activation_fn())\n",
    "        self.main_stack.add_module('Linear output', nn.LazyLinear(action_emb_dim))\n",
    "\n",
    "    def forward(self, state_embedding: torch.Tensor, next_action_embedding: torch.Tensor):\n",
    "        \"\"\"Performs forward propagation. \n",
    "\n",
    "        Args:\n",
    "            state_embedding: 2d torch tensor representing current state embedding \n",
    "            next_action_embedding: 1d torch tensor embeddings for an action\n",
    "        \"\"\"\n",
    "        x = state_embedding.flatten()\n",
    "        z = self.main_stack(x)\n",
    "        return next_action_embedding @ z        \n"
   ]
  },
  {
   "cell_type": "code",
   "execution_count": 18,
   "metadata": {},
   "outputs": [
    {
     "name": "stdout",
     "output_type": "stream",
     "text": [
      "tensor(0.0552, grad_fn=<DotBackward0>)\n"
     ]
    }
   ],
   "source": [
    "# Test\n",
    "neuron_lst = [10,10]\n",
    "agent = Agent(K,kg_env)\n",
    "agent.set_source_target(10,42)\n",
    "critic = CriticFCNN(neuron_lst, kg_env.N_emb, kg_env.N_edge_labels)\n",
    "print(critic(agent.current_state_embedding, agent.all_actions_embeddings[0]))"
   ]
  },
  {
   "cell_type": "markdown",
   "metadata": {},
   "source": [
    "## Datasets"
   ]
  },
  {
   "cell_type": "markdown",
   "metadata": {},
   "source": [
    "In order to establish a baseline for MOA prediction algorithms, we shall train a model for the drug to disease path finding problem.\n"
   ]
  },
  {
   "cell_type": "code",
   "execution_count": 19,
   "metadata": {},
   "outputs": [],
   "source": [
    "# Ground truth positive\n",
    "df_tp = pd.read_csv('/Users/alexei/Documents/data/KGML_xDTD_data/known_pairs/tp_pairs.txt', sep='\\t')"
   ]
  },
  {
   "cell_type": "code",
   "execution_count": 20,
   "metadata": {},
   "outputs": [],
   "source": [
    "# Mapping to igraph indices\n",
    "df_tp_mapped = df_tp.map(lambda x: kg_env.node_id_to_index[x])\n",
    "# Convert to list of tuples\n",
    "tp_mapped_lst = [(row[\"source\"], row[\"target\"]) for _, row in df_tp_mapped.iterrows()]"
   ]
  },
  {
   "cell_type": "code",
   "execution_count": 21,
   "metadata": {},
   "outputs": [],
   "source": [
    "# Loading MOA demonstration paths dataset\n",
    "with open('../DrugMechDB/output/all_separated_paths.pickle', 'rb') as file:\n",
    "    moa_paths = pickle.load(file) "
   ]
  },
  {
   "cell_type": "code",
   "execution_count": 22,
   "metadata": {},
   "outputs": [],
   "source": [
    "# Transforming each MOA path to form [u, e_1, ..., e_{n-1}, v]\n",
    "#   where u, v, e_j are the igraph indices of the drug, disease and node indices. \n",
    "moa_mapped_lst = []\n",
    "for moa_path in moa_paths:\n",
    "    moa_path_mapped = [kg_env.node_id_to_index[node_id] for _, node_id in moa_path]\n",
    "    moa_mapped_lst.append(moa_path_mapped)"
   ]
  },
  {
   "cell_type": "code",
   "execution_count": 23,
   "metadata": {},
   "outputs": [],
   "source": [
    "# List of TP DD pairs based on the MOA demonstration paths\n",
    "moa_mapped_DD_lst = [(moa[0], moa[-1]) for moa in moa_mapped_lst]"
   ]
  },
  {
   "cell_type": "markdown",
   "metadata": {},
   "source": [
    "## "
   ]
  },
  {
   "cell_type": "code",
   "execution_count": 24,
   "metadata": {},
   "outputs": [
    {
     "name": "stdout",
     "output_type": "stream",
     "text": [
      "Number of MOA paths without corresponding pair in ground truth dataset: 328  out of  5598\n"
     ]
    }
   ],
   "source": [
    "print(\"Number of MOA paths without corresponding pair in ground truth dataset:\", len(set(moa_mapped_DD_lst) - set(tp_mapped_lst)), \" out of \", len(moa_mapped_DD_lst) )"
   ]
  },
  {
   "cell_type": "code",
   "execution_count": 25,
   "metadata": {},
   "outputs": [],
   "source": [
    "# Reducing MOA dataset to only those with a corresponding pair in ground truth dataset\n",
    "moa_reduced_lst = [moa for moa in moa_mapped_lst if (moa[0], moa[-1]) in tp_mapped_lst]"
   ]
  },
  {
   "cell_type": "code",
   "execution_count": 26,
   "metadata": {},
   "outputs": [],
   "source": [
    "# Test-train split for ground truth positive dataset\n",
    "tp_test_lst = [(moa[0], moa[-1]) for moa in moa_reduced_lst]\n",
    "tp_test_lst = list(set(tp_test_lst))\n",
    "tp_train_lst = list(set(tp_mapped_lst) - set(tp_test_lst))"
   ]
  },
  {
   "cell_type": "code",
   "execution_count": 27,
   "metadata": {},
   "outputs": [
    {
     "data": {
      "text/plain": [
       "True"
      ]
     },
     "execution_count": 27,
     "metadata": {},
     "output_type": "execute_result"
    }
   ],
   "source": [
    "# Test \n",
    "len(tp_test_lst) + len(tp_train_lst) == len(tp_mapped_lst)"
   ]
  },
  {
   "cell_type": "code",
   "execution_count": 28,
   "metadata": {},
   "outputs": [
    {
     "name": "stderr",
     "output_type": "stream",
     "text": [
      "100%|██████████| 21437/21437 [00:02<00:00, 8733.27it/s]"
     ]
    },
    {
     "name": "stdout",
     "output_type": "stream",
     "text": [
      "test passed:  True\n"
     ]
    },
    {
     "name": "stderr",
     "output_type": "stream",
     "text": [
      "\n"
     ]
    }
   ],
   "source": [
    "# Test : no ground truth pairs as edges \n",
    "test_passed = True\n",
    "for drug, disease in tqdm(tp_mapped_lst):\n",
    "    if drug in [edge.index for edge in kg_env.graph.vs[disease].out_edges()]:\n",
    "        test_passed = False\n",
    "    if disease in [edge.index for edge in kg_env.graph.vs[drug].out_edges()]:\n",
    "        test_passed = False\n",
    "print(\"test passed: \", test_passed )"
   ]
  },
  {
   "cell_type": "markdown",
   "metadata": {},
   "source": [
    "## Training "
   ]
  },
  {
   "cell_type": "markdown",
   "metadata": {},
   "source": [
    "In this notebook, we consider a terminal reward whereby the agent is rewarded for taking an action $a = (e, r)$ in a state $s$, as follows\n",
    "$$\n",
    "r(s,a) = \\begin{cases} 1 & \\textrm{if the node } e \\textrm{ is the target disease}\\\\\n",
    "0 & \\textrm{otherwise}\n",
    "\\end{cases}\n",
    "$$\n",
    "The state-value function $q_\\pi$ for policy $\\pi$ is defined as the expected cumulative reward:\n",
    "$$\n",
    "q_\\pi(s,a)  = \\mathbb{E}_\\pi[\\sum_{j} \\gamma^j r_j] \n",
    "$$\n",
    "where $\\set{r_j}$ is set of rewards achieved along the path until termination and $\\gamma \\in (0, 1]$ is the discount factor. \n",
    "\n",
    "Recall the Bellman equation for the state-value function:\n",
    "$$q_\\pi(s, a) = r(s,a) + \\gamma \\mathbb{E}_{a'\\sim\\pi} q_\\pi(s', a') $$\n",
    "where $s'$ is the state entered as a result of taking action $a$ in state $s$.\n",
    "\n",
    "The critic network $Q$ aims to approximate the state-value function. To do this we enforce the Bellman equation using the so-called temporal difference loss:\n",
    "$$\n",
    "L_Q(s, a ; Q, \\pi ) = (r(s,a) + \\gamma \\mathbb{E}_{a'\\sim\\pi} Q(s', a') - Q(s,a))^2.\n",
    "$$\n",
    "\n",
    "The loss for the actor network is\n",
    "$$\n",
    "L_\\pi(s ; Q, \\pi) = - \\mathbb{E}_{a\\sim\\pi} Q(s, a).\n",
    "$$"
   ]
  },
  {
   "cell_type": "markdown",
   "metadata": {},
   "source": [
    "The training process is performed using an $\\epsilon$-greedy strategy.\n",
    "\n",
    "- In each epoch, we loop over the ground-truth positive training drug-disease pairs. \n",
    "- Each drug-disease pair in the epoch coresponds to an episode.\n",
    "- In each episode, \n",
    "    1. Start at the drug.\n",
    "    2. Choose the next action as follows.  \n",
    "        - With probability $1 - \\epsilon$, sample according to actor policy $\\pi$.\n",
    "        - With probability $\\epsilon$, sample randomly. \n",
    "    3. Perform gradient step. \n",
    "    4. Repeat steps 2 and 3 until termination. "
   ]
  },
  {
   "cell_type": "code",
   "execution_count": 29,
   "metadata": {},
   "outputs": [],
   "source": [
    "# Reward function \n",
    "\n",
    "def terminal_reward(disease : int, next_action : tuple[int]) -> float:\n",
    "    \"\"\"_summary_\n",
    "\n",
    "    Args:\n",
    "        disease: _description_\n",
    "        next_action: _description_\n",
    "    \"\"\"\n",
    "    if next_action[0] == disease:\n",
    "        return 1\n",
    "    else: \n",
    "        return 0"
   ]
  },
  {
   "cell_type": "code",
   "execution_count": 30,
   "metadata": {},
   "outputs": [],
   "source": [
    "# Main training loop\n",
    "\n",
    "def train(\n",
    "    kg_env : KGEnv, \n",
    "    K : int,\n",
    "    actor_neuron_lst : list[int],\n",
    "    critic_neuron_lst : list[int],\n",
    "    N_epochs : int,\n",
    "    gamma : float,\n",
    "    epsilon : float,\n",
    "    M : int, \n",
    "    optimiser : callable,\n",
    "    verbose = True,\n",
    "    device = 'cpu'\n",
    ") -> tuple[nn.Module]:\n",
    "    \"\"\"Train Actor-Critic network.\n",
    "\n",
    "    Function for use in current notebook only. \n",
    "\n",
    "    Args:\n",
    "        kg_env: Instance of KGEnv.\n",
    "        K: Max number of hops. \n",
    "        actor_neuron_lst: Size of all hidden layers in actor network.\n",
    "        critic_neuron_lst: Size of all hidden layers in critic network.\n",
    "        N_epochs: Number of epochs.\n",
    "        gamma: Discount factor. \n",
    "        epsilon: Controls epsilon-greedy policy. \n",
    "        M: (Maximum) Number of DD pairs cycled through per epoch. \n",
    "        optimiser: Function of PyTorch parameters representing optimiser. \n",
    "        verbose: Print updates during training.\n",
    "\n",
    "    Returns:\n",
    "        Tuple containing:\n",
    "            - trained actor and critic networks\n",
    "            - histories for average total, actor and critic loss function values per epoch.\n",
    "    \"\"\"\n",
    "    # Initialise agent, actor network and critic networks\n",
    "    agent = Agent(K, kg_env)\n",
    "    actor = ActorFCNN(actor_neuron_lst, kg_env.N_emb, kg_env.N_edge_labels).to(device)\n",
    "    critic = CriticFCNN(critic_neuron_lst, kg_env.N_emb, kg_env.N_edge_labels).to(device)\n",
    "\n",
    "    # Initialise optimiser \n",
    "    optimiser_actor = optimiser(actor.parameters())\n",
    "    optimiser_critic = optimiser(critic.parameters())\n",
    "\n",
    "    # Book-keeping \n",
    "    loss_hist = []\n",
    "    actor_loss_hist = []\n",
    "    critic_loss_hist = []\n",
    "    n_per_epoch = len(tp_train_lst[:M])\n",
    "\n",
    "    # Training loop\n",
    "    for epoch in range(N_epochs):\n",
    "        # Variables for tracking total loss for epoch\n",
    "        loss_epoch = 0\n",
    "        actor_loss_epoch = 0\n",
    "        critic_loss_epoch = 0\n",
    "        # Variable for tracking number of rewards per epoch\n",
    "        n_rewards_epoch = 0\n",
    "        for (drug, disease) in tqdm(tp_train_lst[:M]):\n",
    "            # Reset agent\n",
    "            agent.set_source_target(drug,disease)\n",
    "            current_state_embedding = agent.current_state_embedding\n",
    "            all_actions = agent.all_actions\n",
    "            all_actions_embeddings = agent.all_actions_embeddings\n",
    "\n",
    "            # Next episode if there are no available actions\n",
    "            if all_actions == None:\n",
    "                continue\n",
    "\n",
    "            # Run path \n",
    "            loss_episode_total = 0\n",
    "            actor_loss_episode_total = 0\n",
    "            critic_loss_episode_total = 0\n",
    "            len_path = 0\n",
    "            for _ in range (K): \n",
    "                #  Compute actor policy distribution for current state\n",
    "                policy_probabilities = actor(current_state_embedding, all_actions_embeddings)\n",
    "                \n",
    "                # Choose next action \n",
    "                do_exploit = random.choices([True, False], weights = [1 - epsilon, epsilon])[0]\n",
    "                if do_exploit:\n",
    "                    # Sample from actor policy\n",
    "                    n_next_action = random.choices(range(len(all_actions)), weights = policy_probabilities.tolist())[0]\n",
    "                else:\n",
    "                    # Sample from randomly\n",
    "                    n_next_action = random.choices(range(len(all_actions)))[0]\n",
    "                next_action = all_actions[n_next_action]\n",
    "                next_action_embedding = all_actions_embeddings[n_next_action]\n",
    "                    \n",
    "                # Compute actor loss\n",
    "                all_critic_values = critic(current_state_embedding, all_actions_embeddings)\n",
    "                loss_actor =  - all_critic_values @ policy_probabilities\n",
    "\n",
    "                # Backpropagation actor\n",
    "                optimiser_actor.zero_grad()\n",
    "                loss_actor.backward()\n",
    "                optimiser_actor.step()\n",
    "\n",
    "                # Compute reward and critic value for chosen action\n",
    "                current_critic_value = critic(current_state_embedding, next_action_embedding)\n",
    "                reward = terminal_reward(disease, next_action)\n",
    "                \n",
    "                # Update agent \n",
    "                agent.select_next_action(n_next_action)\n",
    "                current_state_embedding = agent.current_state_embedding\n",
    "                all_actions = agent.all_actions\n",
    "                all_actions_embeddings = agent.all_actions_embeddings\n",
    "\n",
    "                # Next episode if the path terminates \n",
    "                if agent.terminated == True:\n",
    "                    break\n",
    "\n",
    "                # Compute temporal difference loss for critic\n",
    "                new_critic_values = critic(current_state_embedding, all_actions_embeddings)\n",
    "                new_policy_probabilities = actor(current_state_embedding, all_actions_embeddings)\n",
    "                new_expectation_critic =  new_critic_values @ new_policy_probabilities\n",
    "                loss_critic = (reward + gamma * new_expectation_critic - current_critic_value)**2\n",
    "\n",
    "                # Backpropagation critic\n",
    "                optimiser_critic.zero_grad()\n",
    "                loss_critic.backward()\n",
    "                optimiser_critic.step()\n",
    "\n",
    "                # Record history\n",
    "                len_path += 1\n",
    "                loss_episode_total += (loss_actor + loss_critic).item()\n",
    "                actor_loss_episode_total += loss_actor.item()\n",
    "                critic_loss_episode_total += loss_critic.item()\n",
    "                if reward == 1:\n",
    "                    n_rewards_epoch += 1\n",
    "\n",
    "                # Next episode if disease has been successfully reached\n",
    "                if agent.current_node == disease:\n",
    "                    break\n",
    "                \n",
    "            # Record history\n",
    "            if len_path > 0:\n",
    "                loss_epoch += loss_episode_total / len_path\n",
    "                actor_loss_epoch += actor_loss_episode_total / len_path\n",
    "                critic_loss_epoch += critic_loss_episode_total / len_path\n",
    "\n",
    "        # Record history        \n",
    "        loss_hist.append(loss_epoch / n_per_epoch)\n",
    "        actor_loss_hist.append(actor_loss_epoch / n_per_epoch)\n",
    "        critic_loss_hist.append(critic_loss_epoch / n_per_epoch)\n",
    "\n",
    "        print(f\"Epoch {epoch + 1}. Rewards awarded: {n_rewards_epoch}. Average loss: {loss_epoch / n_per_epoch}.\")\n",
    "    return actor, critic, loss_hist, actor_loss_hist, critic_loss_hist\n",
    "    "
   ]
  },
  {
   "cell_type": "markdown",
   "metadata": {},
   "source": [
    "#### Training a tiny NN"
   ]
  },
  {
   "cell_type": "code",
   "execution_count": 31,
   "metadata": {},
   "outputs": [
    {
     "name": "stderr",
     "output_type": "stream",
     "text": [
      "100%|██████████| 100/100 [00:00<00:00, 101.07it/s]\n"
     ]
    },
    {
     "name": "stdout",
     "output_type": "stream",
     "text": [
      "Epoch 1. Rewards awarded: 0. Average loss: -0.2782675093063153.\n"
     ]
    },
    {
     "name": "stderr",
     "output_type": "stream",
     "text": [
      "100%|██████████| 100/100 [00:00<00:00, 135.65it/s]\n"
     ]
    },
    {
     "name": "stdout",
     "output_type": "stream",
     "text": [
      "Epoch 2. Rewards awarded: 0. Average loss: -0.20013891485364488.\n"
     ]
    },
    {
     "name": "stderr",
     "output_type": "stream",
     "text": [
      "100%|██████████| 100/100 [00:00<00:00, 103.47it/s]\n"
     ]
    },
    {
     "name": "stdout",
     "output_type": "stream",
     "text": [
      "Epoch 3. Rewards awarded: 0. Average loss: -0.21146244321018456.\n"
     ]
    },
    {
     "name": "stderr",
     "output_type": "stream",
     "text": [
      "100%|██████████| 100/100 [00:00<00:00, 112.47it/s]\n"
     ]
    },
    {
     "name": "stdout",
     "output_type": "stream",
     "text": [
      "Epoch 4. Rewards awarded: 1. Average loss: -0.20413715464994311.\n"
     ]
    },
    {
     "name": "stderr",
     "output_type": "stream",
     "text": [
      "100%|██████████| 100/100 [00:00<00:00, 114.84it/s]\n"
     ]
    },
    {
     "name": "stdout",
     "output_type": "stream",
     "text": [
      "Epoch 5. Rewards awarded: 1. Average loss: -0.1852591521618888.\n"
     ]
    },
    {
     "name": "stderr",
     "output_type": "stream",
     "text": [
      "100%|██████████| 100/100 [00:00<00:00, 106.53it/s]\n"
     ]
    },
    {
     "name": "stdout",
     "output_type": "stream",
     "text": [
      "Epoch 6. Rewards awarded: 1. Average loss: -0.1743308163806796.\n"
     ]
    },
    {
     "name": "stderr",
     "output_type": "stream",
     "text": [
      "100%|██████████| 100/100 [00:00<00:00, 113.30it/s]\n"
     ]
    },
    {
     "name": "stdout",
     "output_type": "stream",
     "text": [
      "Epoch 7. Rewards awarded: 1. Average loss: -0.11700795887969434.\n"
     ]
    },
    {
     "name": "stderr",
     "output_type": "stream",
     "text": [
      "100%|██████████| 100/100 [00:00<00:00, 139.38it/s]\n"
     ]
    },
    {
     "name": "stdout",
     "output_type": "stream",
     "text": [
      "Epoch 8. Rewards awarded: 1. Average loss: -0.060229427348822355.\n"
     ]
    },
    {
     "name": "stderr",
     "output_type": "stream",
     "text": [
      "100%|██████████| 100/100 [00:00<00:00, 204.54it/s]\n"
     ]
    },
    {
     "name": "stdout",
     "output_type": "stream",
     "text": [
      "Epoch 9. Rewards awarded: 2. Average loss: -0.1295243142855664.\n"
     ]
    },
    {
     "name": "stderr",
     "output_type": "stream",
     "text": [
      "100%|██████████| 100/100 [00:00<00:00, 200.83it/s]\n"
     ]
    },
    {
     "name": "stdout",
     "output_type": "stream",
     "text": [
      "Epoch 10. Rewards awarded: 1. Average loss: -0.05339397150676329.\n"
     ]
    },
    {
     "name": "stderr",
     "output_type": "stream",
     "text": [
      "100%|██████████| 100/100 [00:00<00:00, 172.47it/s]\n"
     ]
    },
    {
     "name": "stdout",
     "output_type": "stream",
     "text": [
      "Epoch 11. Rewards awarded: 2. Average loss: -0.06345645807758654.\n"
     ]
    },
    {
     "name": "stderr",
     "output_type": "stream",
     "text": [
      "100%|██████████| 100/100 [00:00<00:00, 185.31it/s]\n"
     ]
    },
    {
     "name": "stdout",
     "output_type": "stream",
     "text": [
      "Epoch 12. Rewards awarded: 1. Average loss: -0.08361457551198935.\n"
     ]
    },
    {
     "name": "stderr",
     "output_type": "stream",
     "text": [
      "100%|██████████| 100/100 [00:00<00:00, 148.78it/s]\n"
     ]
    },
    {
     "name": "stdout",
     "output_type": "stream",
     "text": [
      "Epoch 13. Rewards awarded: 1. Average loss: -0.031232111956002576.\n"
     ]
    },
    {
     "name": "stderr",
     "output_type": "stream",
     "text": [
      "100%|██████████| 100/100 [00:00<00:00, 164.03it/s]\n"
     ]
    },
    {
     "name": "stdout",
     "output_type": "stream",
     "text": [
      "Epoch 14. Rewards awarded: 1. Average loss: -0.0543100533997737.\n"
     ]
    },
    {
     "name": "stderr",
     "output_type": "stream",
     "text": [
      "100%|██████████| 100/100 [00:00<00:00, 162.50it/s]\n"
     ]
    },
    {
     "name": "stdout",
     "output_type": "stream",
     "text": [
      "Epoch 15. Rewards awarded: 1. Average loss: -0.02417750010426971.\n"
     ]
    },
    {
     "name": "stderr",
     "output_type": "stream",
     "text": [
      "100%|██████████| 100/100 [00:00<00:00, 177.77it/s]\n"
     ]
    },
    {
     "name": "stdout",
     "output_type": "stream",
     "text": [
      "Epoch 16. Rewards awarded: 1. Average loss: -0.0023094266441815612.\n"
     ]
    },
    {
     "name": "stderr",
     "output_type": "stream",
     "text": [
      "100%|██████████| 100/100 [00:00<00:00, 171.04it/s]\n"
     ]
    },
    {
     "name": "stdout",
     "output_type": "stream",
     "text": [
      "Epoch 17. Rewards awarded: 1. Average loss: -0.008850432654805142.\n"
     ]
    },
    {
     "name": "stderr",
     "output_type": "stream",
     "text": [
      "100%|██████████| 100/100 [00:00<00:00, 162.35it/s]\n"
     ]
    },
    {
     "name": "stdout",
     "output_type": "stream",
     "text": [
      "Epoch 18. Rewards awarded: 1. Average loss: -0.014558684511393949.\n"
     ]
    },
    {
     "name": "stderr",
     "output_type": "stream",
     "text": [
      "100%|██████████| 100/100 [00:00<00:00, 168.57it/s]\n"
     ]
    },
    {
     "name": "stdout",
     "output_type": "stream",
     "text": [
      "Epoch 19. Rewards awarded: 3. Average loss: 0.0254383489076857.\n"
     ]
    },
    {
     "name": "stderr",
     "output_type": "stream",
     "text": [
      "100%|██████████| 100/100 [00:00<00:00, 176.34it/s]\n"
     ]
    },
    {
     "name": "stdout",
     "output_type": "stream",
     "text": [
      "Epoch 20. Rewards awarded: 7. Average loss: 0.01080462637629049.\n"
     ]
    },
    {
     "name": "stderr",
     "output_type": "stream",
     "text": [
      "100%|██████████| 100/100 [00:00<00:00, 158.25it/s]\n"
     ]
    },
    {
     "name": "stdout",
     "output_type": "stream",
     "text": [
      "Epoch 21. Rewards awarded: 6. Average loss: -0.06627754973325257.\n"
     ]
    },
    {
     "name": "stderr",
     "output_type": "stream",
     "text": [
      "100%|██████████| 100/100 [00:00<00:00, 159.89it/s]\n"
     ]
    },
    {
     "name": "stdout",
     "output_type": "stream",
     "text": [
      "Epoch 22. Rewards awarded: 6. Average loss: -0.06634156459525305.\n"
     ]
    },
    {
     "name": "stderr",
     "output_type": "stream",
     "text": [
      "100%|██████████| 100/100 [00:00<00:00, 169.04it/s]\n"
     ]
    },
    {
     "name": "stdout",
     "output_type": "stream",
     "text": [
      "Epoch 23. Rewards awarded: 7. Average loss: -0.06660956246273902.\n"
     ]
    },
    {
     "name": "stderr",
     "output_type": "stream",
     "text": [
      "100%|██████████| 100/100 [00:00<00:00, 170.07it/s]\n"
     ]
    },
    {
     "name": "stdout",
     "output_type": "stream",
     "text": [
      "Epoch 24. Rewards awarded: 8. Average loss: -0.06860747988025347.\n"
     ]
    },
    {
     "name": "stderr",
     "output_type": "stream",
     "text": [
      "100%|██████████| 100/100 [00:00<00:00, 149.65it/s]\n"
     ]
    },
    {
     "name": "stdout",
     "output_type": "stream",
     "text": [
      "Epoch 25. Rewards awarded: 8. Average loss: -0.0588499084704866.\n"
     ]
    },
    {
     "name": "stderr",
     "output_type": "stream",
     "text": [
      "100%|██████████| 100/100 [00:00<00:00, 148.23it/s]\n"
     ]
    },
    {
     "name": "stdout",
     "output_type": "stream",
     "text": [
      "Epoch 26. Rewards awarded: 8. Average loss: -0.05172057718737051.\n"
     ]
    },
    {
     "name": "stderr",
     "output_type": "stream",
     "text": [
      "100%|██████████| 100/100 [00:00<00:00, 196.90it/s]\n"
     ]
    },
    {
     "name": "stdout",
     "output_type": "stream",
     "text": [
      "Epoch 27. Rewards awarded: 7. Average loss: -0.07078292553283973.\n"
     ]
    },
    {
     "name": "stderr",
     "output_type": "stream",
     "text": [
      "100%|██████████| 100/100 [00:00<00:00, 182.15it/s]\n"
     ]
    },
    {
     "name": "stdout",
     "output_type": "stream",
     "text": [
      "Epoch 28. Rewards awarded: 8. Average loss: -0.08056859092786908.\n"
     ]
    },
    {
     "name": "stderr",
     "output_type": "stream",
     "text": [
      "100%|██████████| 100/100 [00:00<00:00, 187.26it/s]\n"
     ]
    },
    {
     "name": "stdout",
     "output_type": "stream",
     "text": [
      "Epoch 29. Rewards awarded: 8. Average loss: -0.09015931836329401.\n"
     ]
    },
    {
     "name": "stderr",
     "output_type": "stream",
     "text": [
      "100%|██████████| 100/100 [00:00<00:00, 183.10it/s]\n"
     ]
    },
    {
     "name": "stdout",
     "output_type": "stream",
     "text": [
      "Epoch 30. Rewards awarded: 7. Average loss: -0.10456890938493114.\n"
     ]
    },
    {
     "name": "stderr",
     "output_type": "stream",
     "text": [
      "100%|██████████| 100/100 [00:00<00:00, 185.95it/s]\n"
     ]
    },
    {
     "name": "stdout",
     "output_type": "stream",
     "text": [
      "Epoch 31. Rewards awarded: 8. Average loss: -0.0868819439589667.\n"
     ]
    },
    {
     "name": "stderr",
     "output_type": "stream",
     "text": [
      "100%|██████████| 100/100 [00:00<00:00, 155.42it/s]\n"
     ]
    },
    {
     "name": "stdout",
     "output_type": "stream",
     "text": [
      "Epoch 32. Rewards awarded: 8. Average loss: -0.0648987615579972.\n"
     ]
    },
    {
     "name": "stderr",
     "output_type": "stream",
     "text": [
      "100%|██████████| 100/100 [00:00<00:00, 199.50it/s]\n"
     ]
    },
    {
     "name": "stdout",
     "output_type": "stream",
     "text": [
      "Epoch 33. Rewards awarded: 8. Average loss: -0.06360230505738097.\n"
     ]
    },
    {
     "name": "stderr",
     "output_type": "stream",
     "text": [
      "100%|██████████| 100/100 [00:00<00:00, 186.12it/s]\n"
     ]
    },
    {
     "name": "stdout",
     "output_type": "stream",
     "text": [
      "Epoch 34. Rewards awarded: 9. Average loss: -0.07030337322445121.\n"
     ]
    },
    {
     "name": "stderr",
     "output_type": "stream",
     "text": [
      "100%|██████████| 100/100 [00:00<00:00, 194.93it/s]\n"
     ]
    },
    {
     "name": "stdout",
     "output_type": "stream",
     "text": [
      "Epoch 35. Rewards awarded: 8. Average loss: -0.10116782228928059.\n"
     ]
    },
    {
     "name": "stderr",
     "output_type": "stream",
     "text": [
      "100%|██████████| 100/100 [00:00<00:00, 185.45it/s]\n"
     ]
    },
    {
     "name": "stdout",
     "output_type": "stream",
     "text": [
      "Epoch 36. Rewards awarded: 8. Average loss: -0.061664817391429094.\n"
     ]
    },
    {
     "name": "stderr",
     "output_type": "stream",
     "text": [
      "100%|██████████| 100/100 [00:00<00:00, 187.01it/s]\n"
     ]
    },
    {
     "name": "stdout",
     "output_type": "stream",
     "text": [
      "Epoch 37. Rewards awarded: 10. Average loss: -0.06157729588216171.\n"
     ]
    },
    {
     "name": "stderr",
     "output_type": "stream",
     "text": [
      "100%|██████████| 100/100 [00:00<00:00, 175.83it/s]\n"
     ]
    },
    {
     "name": "stdout",
     "output_type": "stream",
     "text": [
      "Epoch 38. Rewards awarded: 8. Average loss: -0.05691182767506689.\n"
     ]
    },
    {
     "name": "stderr",
     "output_type": "stream",
     "text": [
      "100%|██████████| 100/100 [00:00<00:00, 191.64it/s]\n"
     ]
    },
    {
     "name": "stdout",
     "output_type": "stream",
     "text": [
      "Epoch 39. Rewards awarded: 8. Average loss: -0.07331835494958795.\n"
     ]
    },
    {
     "name": "stderr",
     "output_type": "stream",
     "text": [
      "100%|██████████| 100/100 [00:00<00:00, 200.17it/s]\n"
     ]
    },
    {
     "name": "stdout",
     "output_type": "stream",
     "text": [
      "Epoch 40. Rewards awarded: 8. Average loss: -0.06697759878753762.\n"
     ]
    },
    {
     "name": "stderr",
     "output_type": "stream",
     "text": [
      "100%|██████████| 100/100 [00:00<00:00, 214.19it/s]\n"
     ]
    },
    {
     "name": "stdout",
     "output_type": "stream",
     "text": [
      "Epoch 41. Rewards awarded: 9. Average loss: -0.0441702149399498.\n"
     ]
    },
    {
     "name": "stderr",
     "output_type": "stream",
     "text": [
      "100%|██████████| 100/100 [00:00<00:00, 212.49it/s]\n"
     ]
    },
    {
     "name": "stdout",
     "output_type": "stream",
     "text": [
      "Epoch 42. Rewards awarded: 8. Average loss: -0.062394943101826354.\n"
     ]
    },
    {
     "name": "stderr",
     "output_type": "stream",
     "text": [
      "100%|██████████| 100/100 [00:00<00:00, 192.26it/s]\n"
     ]
    },
    {
     "name": "stdout",
     "output_type": "stream",
     "text": [
      "Epoch 43. Rewards awarded: 8. Average loss: -0.05804014099509611.\n"
     ]
    },
    {
     "name": "stderr",
     "output_type": "stream",
     "text": [
      "100%|██████████| 100/100 [00:00<00:00, 178.48it/s]\n"
     ]
    },
    {
     "name": "stdout",
     "output_type": "stream",
     "text": [
      "Epoch 44. Rewards awarded: 8. Average loss: -0.07400281726634907.\n"
     ]
    },
    {
     "name": "stderr",
     "output_type": "stream",
     "text": [
      "100%|██████████| 100/100 [00:00<00:00, 176.57it/s]\n"
     ]
    },
    {
     "name": "stdout",
     "output_type": "stream",
     "text": [
      "Epoch 45. Rewards awarded: 8. Average loss: -0.07122258115482206.\n"
     ]
    },
    {
     "name": "stderr",
     "output_type": "stream",
     "text": [
      "100%|██████████| 100/100 [00:00<00:00, 188.44it/s]\n"
     ]
    },
    {
     "name": "stdout",
     "output_type": "stream",
     "text": [
      "Epoch 46. Rewards awarded: 8. Average loss: -0.08864240726378438.\n"
     ]
    },
    {
     "name": "stderr",
     "output_type": "stream",
     "text": [
      "100%|██████████| 100/100 [00:00<00:00, 192.32it/s]\n"
     ]
    },
    {
     "name": "stdout",
     "output_type": "stream",
     "text": [
      "Epoch 47. Rewards awarded: 7. Average loss: -0.08486274663824588.\n"
     ]
    },
    {
     "name": "stderr",
     "output_type": "stream",
     "text": [
      "100%|██████████| 100/100 [00:00<00:00, 189.03it/s]\n"
     ]
    },
    {
     "name": "stdout",
     "output_type": "stream",
     "text": [
      "Epoch 48. Rewards awarded: 8. Average loss: -0.08318962830739718.\n"
     ]
    },
    {
     "name": "stderr",
     "output_type": "stream",
     "text": [
      "100%|██████████| 100/100 [00:00<00:00, 174.73it/s]\n"
     ]
    },
    {
     "name": "stdout",
     "output_type": "stream",
     "text": [
      "Epoch 49. Rewards awarded: 7. Average loss: -0.09571577985247132.\n"
     ]
    },
    {
     "name": "stderr",
     "output_type": "stream",
     "text": [
      "100%|██████████| 100/100 [00:00<00:00, 172.49it/s]"
     ]
    },
    {
     "name": "stdout",
     "output_type": "stream",
     "text": [
      "Epoch 50. Rewards awarded: 8. Average loss: -0.09118636062679192.\n"
     ]
    },
    {
     "name": "stderr",
     "output_type": "stream",
     "text": [
      "\n"
     ]
    }
   ],
   "source": [
    "# Model hyperparameters\n",
    "K = 5\n",
    "actor_neuron_lst = [10,10]\n",
    "critic_neuron_lst = [10,10]\n",
    "\n",
    "# Training parameters\n",
    "N_epochs = 50\n",
    "gamma =  0.9\n",
    "epsilon = 0\n",
    "M = 100 # (max) number of DD pairs in epoch\n",
    "optimiser = lambda params : torch.optim.Adam(params)\n",
    "\n",
    "mini_actor, mini_critic, loss_hist, actor_loss_hist, critic_loss_hist = train(kg_env,\n",
    "    K, \n",
    "    actor_neuron_lst,\n",
    "    critic_neuron_lst,\n",
    "    N_epochs,\n",
    "    gamma,\n",
    "    epsilon,\n",
    "    M, \n",
    "    optimiser\n",
    ")"
   ]
  },
  {
   "cell_type": "code",
   "execution_count": 32,
   "metadata": {},
   "outputs": [
    {
     "data": {
      "text/plain": [
       "Text(0.5, 0, 'Epoch')"
      ]
     },
     "execution_count": 32,
     "metadata": {},
     "output_type": "execute_result"
    },
    {
     "data": {
      "image/png": "[encoded data removed]",
      "text/plain": [
       "<Figure size 1800x500 with 3 Axes>"
      ]
     },
     "metadata": {},
     "output_type": "display_data"
    }
   ],
   "source": [
    "# Plot training curve\n",
    "fig, ax = plt.subplots( 1, 3, figsize = (18, 5))\n",
    "ax[0].plot(loss_hist)\n",
    "ax[0].set_title(\"total loss\")\n",
    "ax[0].set_xlabel(\"Epoch\")\n",
    "ax[1].plot(actor_loss_hist)\n",
    "ax[1].set_title(\"actor loss\")\n",
    "ax[1].set_xlabel(\"Epoch\")\n",
    "ax[2].plot(critic_loss_hist)\n",
    "ax[2].set_title(\"critic loss\")\n",
    "ax[2].set_xlabel(\"Epoch\")"
   ]
  },
  {
   "cell_type": "markdown",
   "metadata": {},
   "source": [
    "## Evaluation"
   ]
  },
  {
   "cell_type": "code",
   "execution_count": 33,
   "metadata": {},
   "outputs": [],
   "source": [
    "def sample_path(agent: Agent, actor: nn.Module, drug: int, disease: int) -> list[int]:\n",
    "    \"\"\"Randomly samples a actor policy path starting from a drug node. \n",
    "\n",
    "    Path terminated in target disease is reached.\n",
    "\n",
    "    Args:\n",
    "        agent: Instance of Agent class.\n",
    "        actor: Actor network. \n",
    "        drug: igraph index for the source drug.\n",
    "        disease: igraph index for the target disease.\n",
    "\n",
    "    Returns:\n",
    "        List of igraph indices.\n",
    "    \"\"\"\n",
    "    # Reset agent\n",
    "    agent.set_source_target(drug, disease)\n",
    "    # Compute path\n",
    "    path = [agent.current_node]\n",
    "    while agent.terminated == False:\n",
    "        probs_next_action = actor(agent.current_state_embedding, agent.all_actions_embeddings)\n",
    "        n_next_action = random.choices(range(len(agent.all_actions)), weights = probs_next_action.tolist())[0]\n",
    "        agent.select_next_action(n_next_action)    \n",
    "        path.append(agent.current_node)\n",
    "        if agent.current_node == disease:\n",
    "            return path\n",
    "    return path"
   ]
  },
  {
   "cell_type": "code",
   "execution_count": 34,
   "metadata": {},
   "outputs": [],
   "source": [
    "def give_hits_list(\n",
    "        n_samples : int,\n",
    "        n_datapoints : int,\n",
    "        f_sample: callable,\n",
    "        dataset : list[tuple[int]]\n",
    "    ) -> list:\n",
    "    \"\"\"Gives number of samples until hit list for an actor policy. \n",
    "\n",
    "    Args:\n",
    "        n_samples: Maximum number of \n",
    "        n_datapoints: Maximum number of datapoints. \n",
    "        f_sample: Function sampling paths from actor-agent.\n",
    "        drug: igraph index for the source drug.\n",
    "        disease: igraph index for the target disease.\n",
    "\n",
    "    Returns:\n",
    "        List of elements:\n",
    "            - False if a path to disease was not found, otherwise,\n",
    "            - number of samples it took to get a path to disease. \n",
    "    \"\"\"\n",
    "    hits_lst = []\n",
    "    disease_reached = False\n",
    "    for drug, disease in tqdm(dataset[:n_datapoints]):\n",
    "        for n in range(n_samples):\n",
    "            path = f_sample(drug, disease) \n",
    "            if path[-1] == disease:\n",
    "                disease_reached = True\n",
    "                hits_lst.append(n+1)\n",
    "                break\n",
    "        if not disease_reached:\n",
    "            hits_lst.append(False)\n",
    "        disease_reached = False\n",
    "\n",
    "    return hits_lst\n",
    "\n",
    "def give_hitk(hits_lst, k_lst):\n",
    "    \"\"\"_summary_\n",
    "\n",
    "    Args:\n",
    "        hits_lst: _description_\n",
    "        k_lst: _description_\n",
    "    \"\"\"\n",
    "    filter_hits_lst = [n for n in hits_lst if n != False]\n",
    "    hitk = []\n",
    "    for k in k_lst:\n",
    "        hitk.append(sum([n <= k for n in filter_hits_lst]) / len(hits_lst)) \n",
    "    return hitk\n",
    "    "
   ]
  },
  {
   "cell_type": "code",
   "execution_count": 35,
   "metadata": {},
   "outputs": [],
   "source": [
    "# Baselines\n",
    "\n",
    "def sample_random_path(agent: Agent, drug: int, disease: int) -> list[int]:\n",
    "    \"\"\"Randomly samples a actor policy path starting from a drug node. \n",
    "\n",
    "    Path terminates if target disease is reached.\n",
    "\n",
    "    Args:\n",
    "        agent: Instance of Agent class.\n",
    "        drug: igraph index for the source drug.\n",
    "        disease: igraph index for the target disease.\n",
    "\n",
    "    Returns:\n",
    "        List of igraph indices.\n",
    "    \"\"\"\n",
    "    # Reset agent\n",
    "    agent.set_source_target(drug, disease)\n",
    "    # Compute path\n",
    "    path = [agent.current_node]\n",
    "    while agent.terminated == False:\n",
    "        n_next_action = random.choices(range(len(agent.all_actions)))[0]\n",
    "        agent.select_next_action(n_next_action)    \n",
    "        path.append(agent.current_node)\n",
    "        if agent.current_node == disease:\n",
    "            return path\n",
    "    return path"
   ]
  },
  {
   "cell_type": "markdown",
   "metadata": {},
   "source": [
    "### Establishing baselines"
   ]
  },
  {
   "cell_type": "code",
   "execution_count": 36,
   "metadata": {},
   "outputs": [],
   "source": [
    "K = 5\n",
    "k_lst = [10, 100, 500, 1000]\n",
    "n_samples = 1000\n",
    "n_datapoints = 100\n",
    "dataset = tp_test_lst\n",
    "agent = Agent(K, kg_env)\n"
   ]
  },
  {
   "cell_type": "markdown",
   "metadata": {},
   "source": [
    "#### Random walk"
   ]
  },
  {
   "cell_type": "code",
   "execution_count": 37,
   "metadata": {},
   "outputs": [
    {
     "name": "stderr",
     "output_type": "stream",
     "text": [
      "100%|██████████| 100/100 [02:37<00:00,  1.58s/it]\n"
     ]
    }
   ],
   "source": [
    "# Computing hits list for random walk \n",
    "f_random_sample = lambda drug, disease: sample_random_path(agent, drug, disease)\n",
    "random_hits_list = give_hits_list(n_samples, n_datapoints, f_random_sample, dataset)"
   ]
  },
  {
   "cell_type": "code",
   "execution_count": 38,
   "metadata": {},
   "outputs": [
    {
     "name": "stdout",
     "output_type": "stream",
     "text": [
      "Random walk:\n",
      "Hit@10: 0.05\n",
      "Hit@100: 0.18\n",
      "Hit@500: 0.48\n",
      "Hit@1000: 0.73\n"
     ]
    }
   ],
   "source": [
    "# Compute Hit@k for random walk\n",
    "hitk_random =  give_hitk(random_hits_list, k_lst)\n",
    "print(\"Random walk:\")\n",
    "for hitk_val, k in zip(hitk_random, k_lst): \n",
    "    print(f\"Hit@{k}: {hitk_val}\")\n"
   ]
  },
  {
   "cell_type": "markdown",
   "metadata": {},
   "source": [
    "#### Untrained network"
   ]
  },
  {
   "cell_type": "code",
   "execution_count": 39,
   "metadata": {},
   "outputs": [
    {
     "name": "stderr",
     "output_type": "stream",
     "text": [
      "100%|██████████| 100/100 [03:04<00:00,  1.85s/it]\n"
     ]
    }
   ],
   "source": [
    "# Computing hits list for untrained actor \n",
    "actor = ActorFCNN([10, 10], kg_env.N_emb, kg_env.N_edge_labels) \n",
    "f_untrained = lambda drug, disease: sample_path(agent, actor, drug, disease)\n",
    "untrained_hits_list = give_hits_list(n_samples, n_datapoints, f_untrained, dataset)\n"
   ]
  },
  {
   "cell_type": "code",
   "execution_count": 40,
   "metadata": {},
   "outputs": [
    {
     "name": "stdout",
     "output_type": "stream",
     "text": [
      "Untrained network:\n",
      "Hit@10: 0.06\n",
      "Hit@100: 0.23\n",
      "Hit@500: 0.59\n",
      "Hit@1000: 0.76\n"
     ]
    }
   ],
   "source": [
    "# Compute Hit@k for untrained actor \n",
    "hitk_untrained =  give_hitk(untrained_hits_list, k_lst)\n",
    "print(\"Untrained network:\")\n",
    "for hitk_val, k in zip(hitk_untrained, k_lst): \n",
    "    print(f\"Hit@{k}: {hitk_val}\")"
   ]
  },
  {
   "cell_type": "markdown",
   "metadata": {},
   "source": [
    "#### Trained mini network"
   ]
  },
  {
   "cell_type": "code",
   "execution_count": 41,
   "metadata": {},
   "outputs": [
    {
     "name": "stderr",
     "output_type": "stream",
     "text": [
      "100%|██████████| 100/100 [01:23<00:00,  1.20it/s]\n"
     ]
    }
   ],
   "source": [
    "# Computing hits list for trained actor \n",
    "f_trained = lambda drug, disease: sample_path(agent, mini_actor, drug, disease)\n",
    "trained_hits_list = give_hits_list(n_samples, n_datapoints, f_trained, dataset)"
   ]
  },
  {
   "cell_type": "code",
   "execution_count": 42,
   "metadata": {},
   "outputs": [
    {
     "name": "stdout",
     "output_type": "stream",
     "text": [
      "Trained mini network:\n",
      "Hit@10: 0.13\n",
      "Hit@100: 0.14\n",
      "Hit@500: 0.15\n",
      "Hit@1000: 0.17\n"
     ]
    }
   ],
   "source": [
    "# Compute Hit@k for trained mini actor \n",
    "hitk_trained =  give_hitk(trained_hits_list, k_lst)\n",
    "print(\"Trained mini network:\")\n",
    "for hitk_val, k in zip(hitk_trained, k_lst): \n",
    "    print(f\"Hit@{k}: {hitk_val}\")"
   ]
  },
  {
   "cell_type": "markdown",
   "metadata": {},
   "source": [
    "The Hit@10 has increased significantly while Hit@1000 has decreased significantly. \n",
    "\n",
    "This makes sense since we sample from the policy only once per episode. \n",
    "\n",
    "The Hit@1000 being quite close to Hit@10 is probably a consequence of the entropy of the actor policy decreasing with training. An entropy regularisation term (as in KGML-xDTD MOAP model) in the cost function could help rectify this.  Also we could change the sampling stratgy to tree-based. \n",
    "\n",
    "Note also that this was only a very small neural network. "
   ]
  },
  {
   "cell_type": "markdown",
   "metadata": {},
   "source": [
    "## Bigger network"
   ]
  },
  {
   "cell_type": "code",
   "execution_count": null,
   "metadata": {},
   "outputs": [],
   "source": [
    "# GPU training : crashes since embedding matrix is too large to be stored on GPU memory\n",
    "# Initialise KG environment\n",
    "#kg_env = KGEnv(KG_NODES_PATH, KG_NODES_HEADER_PATH, KG_EDGES_PATH, KG_EDGES_HEADER_PATH, GRAPHSAGE_EMB_PATH, device = 'mps')"
   ]
  },
  {
   "cell_type": "code",
   "execution_count": 47,
   "metadata": {},
   "outputs": [
    {
     "name": "stderr",
     "output_type": "stream",
     "text": [
      "100%|██████████| 500/500 [00:31<00:00, 15.95it/s]\n"
     ]
    },
    {
     "name": "stdout",
     "output_type": "stream",
     "text": [
      "Epoch 1. Rewards awarded: 9. Average loss: 0.05365639060842417.\n"
     ]
    },
    {
     "name": "stderr",
     "output_type": "stream",
     "text": [
      "100%|██████████| 500/500 [00:32<00:00, 15.48it/s]\n"
     ]
    },
    {
     "name": "stdout",
     "output_type": "stream",
     "text": [
      "Epoch 2. Rewards awarded: 12. Average loss: 0.02638278697031395.\n"
     ]
    },
    {
     "name": "stderr",
     "output_type": "stream",
     "text": [
      "100%|██████████| 500/500 [00:31<00:00, 15.67it/s]\n"
     ]
    },
    {
     "name": "stdout",
     "output_type": "stream",
     "text": [
      "Epoch 3. Rewards awarded: 9. Average loss: 0.01585530705619385.\n"
     ]
    },
    {
     "name": "stderr",
     "output_type": "stream",
     "text": [
      "100%|██████████| 500/500 [00:30<00:00, 16.37it/s]\n"
     ]
    },
    {
     "name": "stdout",
     "output_type": "stream",
     "text": [
      "Epoch 4. Rewards awarded: 10. Average loss: 0.014516015665095286.\n"
     ]
    },
    {
     "name": "stderr",
     "output_type": "stream",
     "text": [
      "100%|██████████| 500/500 [00:32<00:00, 15.62it/s]\n"
     ]
    },
    {
     "name": "stdout",
     "output_type": "stream",
     "text": [
      "Epoch 5. Rewards awarded: 9. Average loss: 0.012436403026293192.\n"
     ]
    },
    {
     "name": "stderr",
     "output_type": "stream",
     "text": [
      "100%|██████████| 500/500 [00:31<00:00, 16.06it/s]\n"
     ]
    },
    {
     "name": "stdout",
     "output_type": "stream",
     "text": [
      "Epoch 6. Rewards awarded: 10. Average loss: 0.011801585245593136.\n"
     ]
    },
    {
     "name": "stderr",
     "output_type": "stream",
     "text": [
      "100%|██████████| 500/500 [00:30<00:00, 16.19it/s]\n"
     ]
    },
    {
     "name": "stdout",
     "output_type": "stream",
     "text": [
      "Epoch 7. Rewards awarded: 7. Average loss: 0.008704663017335482.\n"
     ]
    },
    {
     "name": "stderr",
     "output_type": "stream",
     "text": [
      "100%|██████████| 500/500 [00:32<00:00, 15.33it/s]\n"
     ]
    },
    {
     "name": "stdout",
     "output_type": "stream",
     "text": [
      "Epoch 8. Rewards awarded: 6. Average loss: 0.006721576909623763.\n"
     ]
    },
    {
     "name": "stderr",
     "output_type": "stream",
     "text": [
      "100%|██████████| 500/500 [00:31<00:00, 15.93it/s]\n"
     ]
    },
    {
     "name": "stdout",
     "output_type": "stream",
     "text": [
      "Epoch 9. Rewards awarded: 9. Average loss: 0.009610191528969152.\n"
     ]
    },
    {
     "name": "stderr",
     "output_type": "stream",
     "text": [
      "100%|██████████| 500/500 [00:29<00:00, 17.19it/s]\n"
     ]
    },
    {
     "name": "stdout",
     "output_type": "stream",
     "text": [
      "Epoch 10. Rewards awarded: 12. Average loss: 0.007973549843074579.\n"
     ]
    },
    {
     "name": "stderr",
     "output_type": "stream",
     "text": [
      "100%|██████████| 500/500 [00:29<00:00, 16.94it/s]\n"
     ]
    },
    {
     "name": "stdout",
     "output_type": "stream",
     "text": [
      "Epoch 11. Rewards awarded: 11. Average loss: 0.00437009425096888.\n"
     ]
    },
    {
     "name": "stderr",
     "output_type": "stream",
     "text": [
      "100%|██████████| 500/500 [00:30<00:00, 16.59it/s]\n"
     ]
    },
    {
     "name": "stdout",
     "output_type": "stream",
     "text": [
      "Epoch 12. Rewards awarded: 11. Average loss: 0.0021784576826855.\n"
     ]
    },
    {
     "name": "stderr",
     "output_type": "stream",
     "text": [
      "100%|██████████| 500/500 [00:31<00:00, 15.84it/s]\n"
     ]
    },
    {
     "name": "stdout",
     "output_type": "stream",
     "text": [
      "Epoch 13. Rewards awarded: 9. Average loss: -0.0005800801707352244.\n"
     ]
    },
    {
     "name": "stderr",
     "output_type": "stream",
     "text": [
      "100%|██████████| 500/500 [00:32<00:00, 15.16it/s]\n"
     ]
    },
    {
     "name": "stdout",
     "output_type": "stream",
     "text": [
      "Epoch 14. Rewards awarded: 5. Average loss: -0.0016263565958743128.\n"
     ]
    },
    {
     "name": "stderr",
     "output_type": "stream",
     "text": [
      "100%|██████████| 500/500 [00:30<00:00, 16.64it/s]\n"
     ]
    },
    {
     "name": "stdout",
     "output_type": "stream",
     "text": [
      "Epoch 15. Rewards awarded: 10. Average loss: 0.006527628011117488.\n"
     ]
    },
    {
     "name": "stderr",
     "output_type": "stream",
     "text": [
      "100%|██████████| 500/500 [00:30<00:00, 16.67it/s]\n"
     ]
    },
    {
     "name": "stdout",
     "output_type": "stream",
     "text": [
      "Epoch 16. Rewards awarded: 9. Average loss: 0.0016589576384843294.\n"
     ]
    },
    {
     "name": "stderr",
     "output_type": "stream",
     "text": [
      "100%|██████████| 500/500 [00:29<00:00, 17.10it/s]\n"
     ]
    },
    {
     "name": "stdout",
     "output_type": "stream",
     "text": [
      "Epoch 17. Rewards awarded: 9. Average loss: 0.006735563420936159.\n"
     ]
    },
    {
     "name": "stderr",
     "output_type": "stream",
     "text": [
      "100%|██████████| 500/500 [00:30<00:00, 16.64it/s]\n"
     ]
    },
    {
     "name": "stdout",
     "output_type": "stream",
     "text": [
      "Epoch 18. Rewards awarded: 6. Average loss: 0.004113283876552183.\n"
     ]
    },
    {
     "name": "stderr",
     "output_type": "stream",
     "text": [
      "100%|██████████| 500/500 [00:29<00:00, 16.80it/s]\n"
     ]
    },
    {
     "name": "stdout",
     "output_type": "stream",
     "text": [
      "Epoch 19. Rewards awarded: 7. Average loss: 0.00693943524274846.\n"
     ]
    },
    {
     "name": "stderr",
     "output_type": "stream",
     "text": [
      "100%|██████████| 500/500 [00:29<00:00, 16.78it/s]\n"
     ]
    },
    {
     "name": "stdout",
     "output_type": "stream",
     "text": [
      "Epoch 20. Rewards awarded: 8. Average loss: 0.005189975064428533.\n"
     ]
    },
    {
     "name": "stderr",
     "output_type": "stream",
     "text": [
      "100%|██████████| 500/500 [00:29<00:00, 17.12it/s]\n"
     ]
    },
    {
     "name": "stdout",
     "output_type": "stream",
     "text": [
      "Epoch 21. Rewards awarded: 8. Average loss: 0.0040538910669323126.\n"
     ]
    },
    {
     "name": "stderr",
     "output_type": "stream",
     "text": [
      "100%|██████████| 500/500 [00:30<00:00, 16.64it/s]\n"
     ]
    },
    {
     "name": "stdout",
     "output_type": "stream",
     "text": [
      "Epoch 22. Rewards awarded: 14. Average loss: 0.010793048551056322.\n"
     ]
    },
    {
     "name": "stderr",
     "output_type": "stream",
     "text": [
      "100%|██████████| 500/500 [00:31<00:00, 15.89it/s]\n"
     ]
    },
    {
     "name": "stdout",
     "output_type": "stream",
     "text": [
      "Epoch 23. Rewards awarded: 10. Average loss: 0.005478863311192072.\n"
     ]
    },
    {
     "name": "stderr",
     "output_type": "stream",
     "text": [
      "100%|██████████| 500/500 [00:31<00:00, 15.71it/s]\n"
     ]
    },
    {
     "name": "stdout",
     "output_type": "stream",
     "text": [
      "Epoch 24. Rewards awarded: 11. Average loss: 0.006154685438873759.\n"
     ]
    },
    {
     "name": "stderr",
     "output_type": "stream",
     "text": [
      "100%|██████████| 500/500 [00:32<00:00, 15.55it/s]\n"
     ]
    },
    {
     "name": "stdout",
     "output_type": "stream",
     "text": [
      "Epoch 25. Rewards awarded: 6. Average loss: -0.000665254309575782.\n"
     ]
    },
    {
     "name": "stderr",
     "output_type": "stream",
     "text": [
      "100%|██████████| 500/500 [00:31<00:00, 15.71it/s]\n"
     ]
    },
    {
     "name": "stdout",
     "output_type": "stream",
     "text": [
      "Epoch 26. Rewards awarded: 11. Average loss: 0.00850499890465077.\n"
     ]
    },
    {
     "name": "stderr",
     "output_type": "stream",
     "text": [
      "100%|██████████| 500/500 [00:31<00:00, 15.65it/s]\n"
     ]
    },
    {
     "name": "stdout",
     "output_type": "stream",
     "text": [
      "Epoch 27. Rewards awarded: 7. Average loss: 0.004394366326231648.\n"
     ]
    },
    {
     "name": "stderr",
     "output_type": "stream",
     "text": [
      "100%|██████████| 500/500 [00:32<00:00, 15.37it/s]\n"
     ]
    },
    {
     "name": "stdout",
     "output_type": "stream",
     "text": [
      "Epoch 28. Rewards awarded: 8. Average loss: 0.004003322339421477.\n"
     ]
    },
    {
     "name": "stderr",
     "output_type": "stream",
     "text": [
      "100%|██████████| 500/500 [00:30<00:00, 16.28it/s]\n"
     ]
    },
    {
     "name": "stdout",
     "output_type": "stream",
     "text": [
      "Epoch 29. Rewards awarded: 13. Average loss: 0.00921307013090033.\n"
     ]
    },
    {
     "name": "stderr",
     "output_type": "stream",
     "text": [
      "100%|██████████| 500/500 [00:30<00:00, 16.65it/s]\n"
     ]
    },
    {
     "name": "stdout",
     "output_type": "stream",
     "text": [
      "Epoch 30. Rewards awarded: 9. Average loss: 0.0010306373885347658.\n"
     ]
    },
    {
     "name": "stderr",
     "output_type": "stream",
     "text": [
      "100%|██████████| 500/500 [00:31<00:00, 16.07it/s]\n"
     ]
    },
    {
     "name": "stdout",
     "output_type": "stream",
     "text": [
      "Epoch 31. Rewards awarded: 7. Average loss: 0.000542061373108784.\n"
     ]
    },
    {
     "name": "stderr",
     "output_type": "stream",
     "text": [
      "100%|██████████| 500/500 [00:30<00:00, 16.20it/s]\n"
     ]
    },
    {
     "name": "stdout",
     "output_type": "stream",
     "text": [
      "Epoch 32. Rewards awarded: 7. Average loss: 0.0034998277312018526.\n"
     ]
    },
    {
     "name": "stderr",
     "output_type": "stream",
     "text": [
      "100%|██████████| 500/500 [00:30<00:00, 16.22it/s]\n"
     ]
    },
    {
     "name": "stdout",
     "output_type": "stream",
     "text": [
      "Epoch 33. Rewards awarded: 11. Average loss: 0.00680581848450644.\n"
     ]
    },
    {
     "name": "stderr",
     "output_type": "stream",
     "text": [
      "100%|██████████| 500/500 [00:29<00:00, 16.71it/s]\n"
     ]
    },
    {
     "name": "stdout",
     "output_type": "stream",
     "text": [
      "Epoch 34. Rewards awarded: 10. Average loss: 0.0029265497170276066.\n"
     ]
    },
    {
     "name": "stderr",
     "output_type": "stream",
     "text": [
      "100%|██████████| 500/500 [00:29<00:00, 16.71it/s]\n"
     ]
    },
    {
     "name": "stdout",
     "output_type": "stream",
     "text": [
      "Epoch 35. Rewards awarded: 10. Average loss: 0.004524371143350095.\n"
     ]
    },
    {
     "name": "stderr",
     "output_type": "stream",
     "text": [
      "100%|██████████| 500/500 [00:30<00:00, 16.44it/s]\n"
     ]
    },
    {
     "name": "stdout",
     "output_type": "stream",
     "text": [
      "Epoch 36. Rewards awarded: 10. Average loss: 0.005755961384299249.\n"
     ]
    },
    {
     "name": "stderr",
     "output_type": "stream",
     "text": [
      "100%|██████████| 500/500 [00:29<00:00, 16.80it/s]\n"
     ]
    },
    {
     "name": "stdout",
     "output_type": "stream",
     "text": [
      "Epoch 37. Rewards awarded: 11. Average loss: 0.010931120962346538.\n"
     ]
    },
    {
     "name": "stderr",
     "output_type": "stream",
     "text": [
      "100%|██████████| 500/500 [00:29<00:00, 16.92it/s]\n"
     ]
    },
    {
     "name": "stdout",
     "output_type": "stream",
     "text": [
      "Epoch 38. Rewards awarded: 13. Average loss: 0.008329386855635069.\n"
     ]
    },
    {
     "name": "stderr",
     "output_type": "stream",
     "text": [
      "100%|██████████| 500/500 [00:30<00:00, 16.66it/s]\n"
     ]
    },
    {
     "name": "stdout",
     "output_type": "stream",
     "text": [
      "Epoch 39. Rewards awarded: 10. Average loss: 0.0056630960850783.\n"
     ]
    },
    {
     "name": "stderr",
     "output_type": "stream",
     "text": [
      "100%|██████████| 500/500 [00:30<00:00, 16.51it/s]\n"
     ]
    },
    {
     "name": "stdout",
     "output_type": "stream",
     "text": [
      "Epoch 40. Rewards awarded: 9. Average loss: 0.004543406140874443.\n"
     ]
    },
    {
     "name": "stderr",
     "output_type": "stream",
     "text": [
      "100%|██████████| 500/500 [00:30<00:00, 16.65it/s]\n"
     ]
    },
    {
     "name": "stdout",
     "output_type": "stream",
     "text": [
      "Epoch 41. Rewards awarded: 10. Average loss: 0.006376033610658851.\n"
     ]
    },
    {
     "name": "stderr",
     "output_type": "stream",
     "text": [
      "100%|██████████| 500/500 [00:29<00:00, 16.84it/s]\n"
     ]
    },
    {
     "name": "stdout",
     "output_type": "stream",
     "text": [
      "Epoch 42. Rewards awarded: 10. Average loss: 0.0078722605601021.\n"
     ]
    },
    {
     "name": "stderr",
     "output_type": "stream",
     "text": [
      "100%|██████████| 500/500 [00:32<00:00, 15.51it/s]\n"
     ]
    },
    {
     "name": "stdout",
     "output_type": "stream",
     "text": [
      "Epoch 43. Rewards awarded: 10. Average loss: 0.00812407386641947.\n"
     ]
    },
    {
     "name": "stderr",
     "output_type": "stream",
     "text": [
      "100%|██████████| 500/500 [00:29<00:00, 16.87it/s]\n"
     ]
    },
    {
     "name": "stdout",
     "output_type": "stream",
     "text": [
      "Epoch 44. Rewards awarded: 9. Average loss: 0.005967267459453069.\n"
     ]
    },
    {
     "name": "stderr",
     "output_type": "stream",
     "text": [
      "100%|██████████| 500/500 [00:29<00:00, 16.91it/s]\n"
     ]
    },
    {
     "name": "stdout",
     "output_type": "stream",
     "text": [
      "Epoch 45. Rewards awarded: 10. Average loss: 0.005709096512528656.\n"
     ]
    },
    {
     "name": "stderr",
     "output_type": "stream",
     "text": [
      "100%|██████████| 500/500 [00:29<00:00, 17.12it/s]\n"
     ]
    },
    {
     "name": "stdout",
     "output_type": "stream",
     "text": [
      "Epoch 46. Rewards awarded: 15. Average loss: 0.010391939399865805.\n"
     ]
    },
    {
     "name": "stderr",
     "output_type": "stream",
     "text": [
      "100%|██████████| 500/500 [00:29<00:00, 17.05it/s]\n"
     ]
    },
    {
     "name": "stdout",
     "output_type": "stream",
     "text": [
      "Epoch 47. Rewards awarded: 16. Average loss: 0.007453011818722794.\n"
     ]
    },
    {
     "name": "stderr",
     "output_type": "stream",
     "text": [
      "100%|██████████| 500/500 [00:29<00:00, 16.96it/s]\n"
     ]
    },
    {
     "name": "stdout",
     "output_type": "stream",
     "text": [
      "Epoch 48. Rewards awarded: 13. Average loss: 0.002761638692241225.\n"
     ]
    },
    {
     "name": "stderr",
     "output_type": "stream",
     "text": [
      "100%|██████████| 500/500 [00:29<00:00, 16.89it/s]\n"
     ]
    },
    {
     "name": "stdout",
     "output_type": "stream",
     "text": [
      "Epoch 49. Rewards awarded: 9. Average loss: 0.004067983592855549.\n"
     ]
    },
    {
     "name": "stderr",
     "output_type": "stream",
     "text": [
      "100%|██████████| 500/500 [00:29<00:00, 17.12it/s]\n"
     ]
    },
    {
     "name": "stdout",
     "output_type": "stream",
     "text": [
      "Epoch 50. Rewards awarded: 16. Average loss: 0.013502540391070093.\n"
     ]
    },
    {
     "name": "stderr",
     "output_type": "stream",
     "text": [
      "100%|██████████| 500/500 [00:29<00:00, 17.22it/s]\n"
     ]
    },
    {
     "name": "stdout",
     "output_type": "stream",
     "text": [
      "Epoch 51. Rewards awarded: 14. Average loss: 0.005937452589781364.\n"
     ]
    },
    {
     "name": "stderr",
     "output_type": "stream",
     "text": [
      "100%|██████████| 500/500 [00:29<00:00, 17.14it/s]\n"
     ]
    },
    {
     "name": "stdout",
     "output_type": "stream",
     "text": [
      "Epoch 52. Rewards awarded: 12. Average loss: 0.005562064730026577.\n"
     ]
    },
    {
     "name": "stderr",
     "output_type": "stream",
     "text": [
      "100%|██████████| 500/500 [00:30<00:00, 16.61it/s]\n"
     ]
    },
    {
     "name": "stdout",
     "output_type": "stream",
     "text": [
      "Epoch 53. Rewards awarded: 12. Average loss: 0.0057553129360179206.\n"
     ]
    },
    {
     "name": "stderr",
     "output_type": "stream",
     "text": [
      "100%|██████████| 500/500 [00:29<00:00, 17.13it/s]\n"
     ]
    },
    {
     "name": "stdout",
     "output_type": "stream",
     "text": [
      "Epoch 54. Rewards awarded: 17. Average loss: 0.01087998930327255.\n"
     ]
    },
    {
     "name": "stderr",
     "output_type": "stream",
     "text": [
      "100%|██████████| 500/500 [00:28<00:00, 17.31it/s]\n"
     ]
    },
    {
     "name": "stdout",
     "output_type": "stream",
     "text": [
      "Epoch 55. Rewards awarded: 11. Average loss: 0.0037296293011192267.\n"
     ]
    },
    {
     "name": "stderr",
     "output_type": "stream",
     "text": [
      "100%|██████████| 500/500 [00:30<00:00, 16.65it/s]\n"
     ]
    },
    {
     "name": "stdout",
     "output_type": "stream",
     "text": [
      "Epoch 56. Rewards awarded: 10. Average loss: 0.0028502612292286363.\n"
     ]
    },
    {
     "name": "stderr",
     "output_type": "stream",
     "text": [
      "100%|██████████| 500/500 [00:30<00:00, 16.66it/s]\n"
     ]
    },
    {
     "name": "stdout",
     "output_type": "stream",
     "text": [
      "Epoch 57. Rewards awarded: 12. Average loss: 0.006527162931248312.\n"
     ]
    },
    {
     "name": "stderr",
     "output_type": "stream",
     "text": [
      "100%|██████████| 500/500 [00:28<00:00, 17.47it/s]\n"
     ]
    },
    {
     "name": "stdout",
     "output_type": "stream",
     "text": [
      "Epoch 58. Rewards awarded: 15. Average loss: 0.011123005153812605.\n"
     ]
    },
    {
     "name": "stderr",
     "output_type": "stream",
     "text": [
      "100%|██████████| 500/500 [00:29<00:00, 17.09it/s]\n"
     ]
    },
    {
     "name": "stdout",
     "output_type": "stream",
     "text": [
      "Epoch 59. Rewards awarded: 18. Average loss: 0.010258401993222529.\n"
     ]
    },
    {
     "name": "stderr",
     "output_type": "stream",
     "text": [
      "100%|██████████| 500/500 [00:29<00:00, 16.98it/s]\n"
     ]
    },
    {
     "name": "stdout",
     "output_type": "stream",
     "text": [
      "Epoch 60. Rewards awarded: 13. Average loss: 0.003365530805554349.\n"
     ]
    },
    {
     "name": "stderr",
     "output_type": "stream",
     "text": [
      "100%|██████████| 500/500 [00:29<00:00, 17.08it/s]\n"
     ]
    },
    {
     "name": "stdout",
     "output_type": "stream",
     "text": [
      "Epoch 61. Rewards awarded: 18. Average loss: 0.004975464190840436.\n"
     ]
    },
    {
     "name": "stderr",
     "output_type": "stream",
     "text": [
      "100%|██████████| 500/500 [00:30<00:00, 16.51it/s]\n"
     ]
    },
    {
     "name": "stdout",
     "output_type": "stream",
     "text": [
      "Epoch 62. Rewards awarded: 16. Average loss: 0.012219412974699783.\n"
     ]
    },
    {
     "name": "stderr",
     "output_type": "stream",
     "text": [
      "100%|██████████| 500/500 [00:29<00:00, 16.98it/s]\n"
     ]
    },
    {
     "name": "stdout",
     "output_type": "stream",
     "text": [
      "Epoch 63. Rewards awarded: 8. Average loss: 0.0020966511548675348.\n"
     ]
    },
    {
     "name": "stderr",
     "output_type": "stream",
     "text": [
      "100%|██████████| 500/500 [00:29<00:00, 16.97it/s]\n"
     ]
    },
    {
     "name": "stdout",
     "output_type": "stream",
     "text": [
      "Epoch 64. Rewards awarded: 17. Average loss: 0.01580830647012681.\n"
     ]
    },
    {
     "name": "stderr",
     "output_type": "stream",
     "text": [
      "100%|██████████| 500/500 [00:29<00:00, 17.08it/s]\n"
     ]
    },
    {
     "name": "stdout",
     "output_type": "stream",
     "text": [
      "Epoch 65. Rewards awarded: 18. Average loss: 0.013872509948912922.\n"
     ]
    },
    {
     "name": "stderr",
     "output_type": "stream",
     "text": [
      "100%|██████████| 500/500 [00:29<00:00, 17.11it/s]\n"
     ]
    },
    {
     "name": "stdout",
     "output_type": "stream",
     "text": [
      "Epoch 66. Rewards awarded: 15. Average loss: 0.011294550334722464.\n"
     ]
    },
    {
     "name": "stderr",
     "output_type": "stream",
     "text": [
      "100%|██████████| 500/500 [00:29<00:00, 17.11it/s]\n"
     ]
    },
    {
     "name": "stdout",
     "output_type": "stream",
     "text": [
      "Epoch 67. Rewards awarded: 13. Average loss: 0.011176727660624237.\n"
     ]
    },
    {
     "name": "stderr",
     "output_type": "stream",
     "text": [
      "100%|██████████| 500/500 [00:29<00:00, 16.95it/s]\n"
     ]
    },
    {
     "name": "stdout",
     "output_type": "stream",
     "text": [
      "Epoch 68. Rewards awarded: 13. Average loss: 0.012279341049954382.\n"
     ]
    },
    {
     "name": "stderr",
     "output_type": "stream",
     "text": [
      "100%|██████████| 500/500 [00:29<00:00, 17.20it/s]\n"
     ]
    },
    {
     "name": "stdout",
     "output_type": "stream",
     "text": [
      "Epoch 69. Rewards awarded: 24. Average loss: 0.02000940020329229.\n"
     ]
    },
    {
     "name": "stderr",
     "output_type": "stream",
     "text": [
      "100%|██████████| 500/500 [00:29<00:00, 16.78it/s]\n"
     ]
    },
    {
     "name": "stdout",
     "output_type": "stream",
     "text": [
      "Epoch 70. Rewards awarded: 18. Average loss: 0.014533126417030265.\n"
     ]
    },
    {
     "name": "stderr",
     "output_type": "stream",
     "text": [
      "100%|██████████| 500/500 [00:32<00:00, 15.40it/s]\n"
     ]
    },
    {
     "name": "stdout",
     "output_type": "stream",
     "text": [
      "Epoch 71. Rewards awarded: 17. Average loss: 0.017361531590032123.\n"
     ]
    },
    {
     "name": "stderr",
     "output_type": "stream",
     "text": [
      "100%|██████████| 500/500 [00:32<00:00, 15.32it/s]\n"
     ]
    },
    {
     "name": "stdout",
     "output_type": "stream",
     "text": [
      "Epoch 72. Rewards awarded: 18. Average loss: 0.016528125615683776.\n"
     ]
    },
    {
     "name": "stderr",
     "output_type": "stream",
     "text": [
      "100%|██████████| 500/500 [00:28<00:00, 17.28it/s]\n"
     ]
    },
    {
     "name": "stdout",
     "output_type": "stream",
     "text": [
      "Epoch 73. Rewards awarded: 19. Average loss: 0.020099889271577923.\n"
     ]
    },
    {
     "name": "stderr",
     "output_type": "stream",
     "text": [
      "100%|██████████| 500/500 [00:28<00:00, 17.52it/s]\n"
     ]
    },
    {
     "name": "stdout",
     "output_type": "stream",
     "text": [
      "Epoch 74. Rewards awarded: 26. Average loss: 0.03199541403183381.\n"
     ]
    },
    {
     "name": "stderr",
     "output_type": "stream",
     "text": [
      "100%|██████████| 500/500 [00:29<00:00, 17.20it/s]\n"
     ]
    },
    {
     "name": "stdout",
     "output_type": "stream",
     "text": [
      "Epoch 75. Rewards awarded: 17. Average loss: 0.014534407666078704.\n"
     ]
    },
    {
     "name": "stderr",
     "output_type": "stream",
     "text": [
      "100%|██████████| 500/500 [00:28<00:00, 17.56it/s]\n"
     ]
    },
    {
     "name": "stdout",
     "output_type": "stream",
     "text": [
      "Epoch 76. Rewards awarded: 15. Average loss: 0.009831815486443095.\n"
     ]
    },
    {
     "name": "stderr",
     "output_type": "stream",
     "text": [
      "100%|██████████| 500/500 [00:28<00:00, 17.55it/s]\n"
     ]
    },
    {
     "name": "stdout",
     "output_type": "stream",
     "text": [
      "Epoch 77. Rewards awarded: 23. Average loss: 0.019557857258703428.\n"
     ]
    },
    {
     "name": "stderr",
     "output_type": "stream",
     "text": [
      "100%|██████████| 500/500 [00:28<00:00, 17.47it/s]\n"
     ]
    },
    {
     "name": "stdout",
     "output_type": "stream",
     "text": [
      "Epoch 78. Rewards awarded: 22. Average loss: 0.021160280803950934.\n"
     ]
    },
    {
     "name": "stderr",
     "output_type": "stream",
     "text": [
      "100%|██████████| 500/500 [00:29<00:00, 17.02it/s]\n"
     ]
    },
    {
     "name": "stdout",
     "output_type": "stream",
     "text": [
      "Epoch 79. Rewards awarded: 19. Average loss: 0.013076240792992393.\n"
     ]
    },
    {
     "name": "stderr",
     "output_type": "stream",
     "text": [
      "100%|██████████| 500/500 [00:29<00:00, 17.19it/s]\n"
     ]
    },
    {
     "name": "stdout",
     "output_type": "stream",
     "text": [
      "Epoch 80. Rewards awarded: 20. Average loss: 0.016346510650912322.\n"
     ]
    },
    {
     "name": "stderr",
     "output_type": "stream",
     "text": [
      "100%|██████████| 500/500 [00:29<00:00, 16.79it/s]\n"
     ]
    },
    {
     "name": "stdout",
     "output_type": "stream",
     "text": [
      "Epoch 81. Rewards awarded: 25. Average loss: 0.02551713158465039.\n"
     ]
    },
    {
     "name": "stderr",
     "output_type": "stream",
     "text": [
      "100%|██████████| 500/500 [00:30<00:00, 16.60it/s]\n"
     ]
    },
    {
     "name": "stdout",
     "output_type": "stream",
     "text": [
      "Epoch 82. Rewards awarded: 25. Average loss: 0.026919495261728415.\n"
     ]
    },
    {
     "name": "stderr",
     "output_type": "stream",
     "text": [
      "100%|██████████| 500/500 [00:31<00:00, 15.98it/s]\n"
     ]
    },
    {
     "name": "stdout",
     "output_type": "stream",
     "text": [
      "Epoch 83. Rewards awarded: 23. Average loss: 0.02287903392884376.\n"
     ]
    },
    {
     "name": "stderr",
     "output_type": "stream",
     "text": [
      "100%|██████████| 500/500 [00:30<00:00, 16.56it/s]\n"
     ]
    },
    {
     "name": "stdout",
     "output_type": "stream",
     "text": [
      "Epoch 84. Rewards awarded: 20. Average loss: 0.017264541996325836.\n"
     ]
    },
    {
     "name": "stderr",
     "output_type": "stream",
     "text": [
      "100%|██████████| 500/500 [00:30<00:00, 16.60it/s]\n"
     ]
    },
    {
     "name": "stdout",
     "output_type": "stream",
     "text": [
      "Epoch 85. Rewards awarded: 21. Average loss: 0.020396514353621865.\n"
     ]
    },
    {
     "name": "stderr",
     "output_type": "stream",
     "text": [
      "100%|██████████| 500/500 [00:29<00:00, 16.92it/s]\n"
     ]
    },
    {
     "name": "stdout",
     "output_type": "stream",
     "text": [
      "Epoch 86. Rewards awarded: 30. Average loss: 0.03074927512111996.\n"
     ]
    },
    {
     "name": "stderr",
     "output_type": "stream",
     "text": [
      "100%|██████████| 500/500 [00:30<00:00, 16.18it/s]\n"
     ]
    },
    {
     "name": "stdout",
     "output_type": "stream",
     "text": [
      "Epoch 87. Rewards awarded: 23. Average loss: 0.02034945703876777.\n"
     ]
    },
    {
     "name": "stderr",
     "output_type": "stream",
     "text": [
      "100%|██████████| 500/500 [00:28<00:00, 17.43it/s]\n"
     ]
    },
    {
     "name": "stdout",
     "output_type": "stream",
     "text": [
      "Epoch 88. Rewards awarded: 27. Average loss: 0.02754028282517917.\n"
     ]
    },
    {
     "name": "stderr",
     "output_type": "stream",
     "text": [
      "100%|██████████| 500/500 [00:29<00:00, 16.75it/s]\n"
     ]
    },
    {
     "name": "stdout",
     "output_type": "stream",
     "text": [
      "Epoch 89. Rewards awarded: 28. Average loss: 0.026255385108157496.\n"
     ]
    },
    {
     "name": "stderr",
     "output_type": "stream",
     "text": [
      "100%|██████████| 500/500 [00:27<00:00, 18.06it/s]\n"
     ]
    },
    {
     "name": "stdout",
     "output_type": "stream",
     "text": [
      "Epoch 90. Rewards awarded: 34. Average loss: 0.02917486043872532.\n"
     ]
    },
    {
     "name": "stderr",
     "output_type": "stream",
     "text": [
      "100%|██████████| 500/500 [00:28<00:00, 17.47it/s]\n"
     ]
    },
    {
     "name": "stdout",
     "output_type": "stream",
     "text": [
      "Epoch 91. Rewards awarded: 29. Average loss: 0.021732780155494163.\n"
     ]
    },
    {
     "name": "stderr",
     "output_type": "stream",
     "text": [
      "100%|██████████| 500/500 [00:29<00:00, 17.12it/s]\n"
     ]
    },
    {
     "name": "stdout",
     "output_type": "stream",
     "text": [
      "Epoch 92. Rewards awarded: 29. Average loss: 0.02136381010397357.\n"
     ]
    },
    {
     "name": "stderr",
     "output_type": "stream",
     "text": [
      "100%|██████████| 500/500 [00:29<00:00, 17.09it/s]\n"
     ]
    },
    {
     "name": "stdout",
     "output_type": "stream",
     "text": [
      "Epoch 93. Rewards awarded: 18. Average loss: 0.012454799840890398.\n"
     ]
    },
    {
     "name": "stderr",
     "output_type": "stream",
     "text": [
      "100%|██████████| 500/500 [00:30<00:00, 16.64it/s]\n"
     ]
    },
    {
     "name": "stdout",
     "output_type": "stream",
     "text": [
      "Epoch 94. Rewards awarded: 29. Average loss: 0.018458881804459454.\n"
     ]
    },
    {
     "name": "stderr",
     "output_type": "stream",
     "text": [
      "100%|██████████| 500/500 [00:28<00:00, 17.73it/s]\n"
     ]
    },
    {
     "name": "stdout",
     "output_type": "stream",
     "text": [
      "Epoch 95. Rewards awarded: 29. Average loss: 0.026373805276225844.\n"
     ]
    },
    {
     "name": "stderr",
     "output_type": "stream",
     "text": [
      "100%|██████████| 500/500 [00:30<00:00, 16.36it/s]\n"
     ]
    },
    {
     "name": "stdout",
     "output_type": "stream",
     "text": [
      "Epoch 96. Rewards awarded: 28. Average loss: 0.024957023509380175.\n"
     ]
    },
    {
     "name": "stderr",
     "output_type": "stream",
     "text": [
      "100%|██████████| 500/500 [00:27<00:00, 18.01it/s]\n"
     ]
    },
    {
     "name": "stdout",
     "output_type": "stream",
     "text": [
      "Epoch 97. Rewards awarded: 28. Average loss: 0.017564112204190078.\n"
     ]
    },
    {
     "name": "stderr",
     "output_type": "stream",
     "text": [
      "100%|██████████| 500/500 [00:28<00:00, 17.50it/s]\n"
     ]
    },
    {
     "name": "stdout",
     "output_type": "stream",
     "text": [
      "Epoch 98. Rewards awarded: 29. Average loss: 0.018220910596302018.\n"
     ]
    },
    {
     "name": "stderr",
     "output_type": "stream",
     "text": [
      "100%|██████████| 500/500 [00:28<00:00, 17.70it/s]\n"
     ]
    },
    {
     "name": "stdout",
     "output_type": "stream",
     "text": [
      "Epoch 99. Rewards awarded: 28. Average loss: 0.01591485037121371.\n"
     ]
    },
    {
     "name": "stderr",
     "output_type": "stream",
     "text": [
      "100%|██████████| 500/500 [00:29<00:00, 16.98it/s]\n"
     ]
    },
    {
     "name": "stdout",
     "output_type": "stream",
     "text": [
      "Epoch 100. Rewards awarded: 31. Average loss: 0.01758850108467504.\n"
     ]
    },
    {
     "name": "stderr",
     "output_type": "stream",
     "text": [
      "100%|██████████| 500/500 [00:30<00:00, 16.27it/s]\n"
     ]
    },
    {
     "name": "stdout",
     "output_type": "stream",
     "text": [
      "Epoch 101. Rewards awarded: 30. Average loss: 0.0192967311097891.\n"
     ]
    },
    {
     "name": "stderr",
     "output_type": "stream",
     "text": [
      "100%|██████████| 500/500 [00:30<00:00, 16.15it/s]\n"
     ]
    },
    {
     "name": "stdout",
     "output_type": "stream",
     "text": [
      "Epoch 102. Rewards awarded: 31. Average loss: 0.01549697494261212.\n"
     ]
    },
    {
     "name": "stderr",
     "output_type": "stream",
     "text": [
      "100%|██████████| 500/500 [00:30<00:00, 16.32it/s]\n"
     ]
    },
    {
     "name": "stdout",
     "output_type": "stream",
     "text": [
      "Epoch 103. Rewards awarded: 28. Average loss: 0.009010729837048379.\n"
     ]
    },
    {
     "name": "stderr",
     "output_type": "stream",
     "text": [
      "100%|██████████| 500/500 [00:29<00:00, 17.16it/s]\n"
     ]
    },
    {
     "name": "stdout",
     "output_type": "stream",
     "text": [
      "Epoch 104. Rewards awarded: 40. Average loss: 0.02246401148537794.\n"
     ]
    },
    {
     "name": "stderr",
     "output_type": "stream",
     "text": [
      "100%|██████████| 500/500 [00:31<00:00, 15.87it/s]\n"
     ]
    },
    {
     "name": "stdout",
     "output_type": "stream",
     "text": [
      "Epoch 105. Rewards awarded: 38. Average loss: 0.019521432954054032.\n"
     ]
    },
    {
     "name": "stderr",
     "output_type": "stream",
     "text": [
      "100%|██████████| 500/500 [00:30<00:00, 16.43it/s]\n"
     ]
    },
    {
     "name": "stdout",
     "output_type": "stream",
     "text": [
      "Epoch 106. Rewards awarded: 32. Average loss: 0.017618132820660926.\n"
     ]
    },
    {
     "name": "stderr",
     "output_type": "stream",
     "text": [
      "100%|██████████| 500/500 [00:29<00:00, 16.98it/s]\n"
     ]
    },
    {
     "name": "stdout",
     "output_type": "stream",
     "text": [
      "Epoch 107. Rewards awarded: 27. Average loss: 0.015708002693707233.\n"
     ]
    },
    {
     "name": "stderr",
     "output_type": "stream",
     "text": [
      "100%|██████████| 500/500 [00:30<00:00, 16.49it/s]\n"
     ]
    },
    {
     "name": "stdout",
     "output_type": "stream",
     "text": [
      "Epoch 108. Rewards awarded: 27. Average loss: 0.009203446821327815.\n"
     ]
    },
    {
     "name": "stderr",
     "output_type": "stream",
     "text": [
      "100%|██████████| 500/500 [00:30<00:00, 16.50it/s]\n"
     ]
    },
    {
     "name": "stdout",
     "output_type": "stream",
     "text": [
      "Epoch 109. Rewards awarded: 31. Average loss: 0.01711841944732866.\n"
     ]
    },
    {
     "name": "stderr",
     "output_type": "stream",
     "text": [
      "100%|██████████| 500/500 [00:30<00:00, 16.37it/s]\n"
     ]
    },
    {
     "name": "stdout",
     "output_type": "stream",
     "text": [
      "Epoch 110. Rewards awarded: 35. Average loss: 0.0136159340417283.\n"
     ]
    },
    {
     "name": "stderr",
     "output_type": "stream",
     "text": [
      "100%|██████████| 500/500 [00:30<00:00, 16.60it/s]\n"
     ]
    },
    {
     "name": "stdout",
     "output_type": "stream",
     "text": [
      "Epoch 111. Rewards awarded: 36. Average loss: 0.01352209486670472.\n"
     ]
    },
    {
     "name": "stderr",
     "output_type": "stream",
     "text": [
      "100%|██████████| 500/500 [00:29<00:00, 17.05it/s]\n"
     ]
    },
    {
     "name": "stdout",
     "output_type": "stream",
     "text": [
      "Epoch 112. Rewards awarded: 31. Average loss: 0.006259767494411787.\n"
     ]
    },
    {
     "name": "stderr",
     "output_type": "stream",
     "text": [
      "100%|██████████| 500/500 [00:30<00:00, 16.66it/s]\n"
     ]
    },
    {
     "name": "stdout",
     "output_type": "stream",
     "text": [
      "Epoch 113. Rewards awarded: 36. Average loss: 0.012079289391901208.\n"
     ]
    },
    {
     "name": "stderr",
     "output_type": "stream",
     "text": [
      "100%|██████████| 500/500 [00:29<00:00, 16.87it/s]\n"
     ]
    },
    {
     "name": "stdout",
     "output_type": "stream",
     "text": [
      "Epoch 114. Rewards awarded: 37. Average loss: 0.010901487461029317.\n"
     ]
    },
    {
     "name": "stderr",
     "output_type": "stream",
     "text": [
      "100%|██████████| 500/500 [00:30<00:00, 16.41it/s]\n"
     ]
    },
    {
     "name": "stdout",
     "output_type": "stream",
     "text": [
      "Epoch 115. Rewards awarded: 37. Average loss: 0.008736863834345663.\n"
     ]
    },
    {
     "name": "stderr",
     "output_type": "stream",
     "text": [
      "100%|██████████| 500/500 [00:29<00:00, 17.08it/s]\n"
     ]
    },
    {
     "name": "stdout",
     "output_type": "stream",
     "text": [
      "Epoch 116. Rewards awarded: 35. Average loss: 0.011120713419054786.\n"
     ]
    },
    {
     "name": "stderr",
     "output_type": "stream",
     "text": [
      "100%|██████████| 500/500 [00:30<00:00, 16.42it/s]\n"
     ]
    },
    {
     "name": "stdout",
     "output_type": "stream",
     "text": [
      "Epoch 117. Rewards awarded: 28. Average loss: 0.004073434783263412.\n"
     ]
    },
    {
     "name": "stderr",
     "output_type": "stream",
     "text": [
      "100%|██████████| 500/500 [00:30<00:00, 16.56it/s]\n"
     ]
    },
    {
     "name": "stdout",
     "output_type": "stream",
     "text": [
      "Epoch 118. Rewards awarded: 34. Average loss: 0.010821292710534789.\n"
     ]
    },
    {
     "name": "stderr",
     "output_type": "stream",
     "text": [
      "100%|██████████| 500/500 [00:30<00:00, 16.26it/s]\n"
     ]
    },
    {
     "name": "stdout",
     "output_type": "stream",
     "text": [
      "Epoch 119. Rewards awarded: 32. Average loss: 0.0053013093224856984.\n"
     ]
    },
    {
     "name": "stderr",
     "output_type": "stream",
     "text": [
      "100%|██████████| 500/500 [00:29<00:00, 16.73it/s]\n"
     ]
    },
    {
     "name": "stdout",
     "output_type": "stream",
     "text": [
      "Epoch 120. Rewards awarded: 31. Average loss: 0.006535332111932802.\n"
     ]
    },
    {
     "name": "stderr",
     "output_type": "stream",
     "text": [
      "100%|██████████| 500/500 [00:29<00:00, 16.72it/s]\n"
     ]
    },
    {
     "name": "stdout",
     "output_type": "stream",
     "text": [
      "Epoch 121. Rewards awarded: 32. Average loss: 0.014550999711257947.\n"
     ]
    },
    {
     "name": "stderr",
     "output_type": "stream",
     "text": [
      "100%|██████████| 500/500 [00:29<00:00, 16.75it/s]\n"
     ]
    },
    {
     "name": "stdout",
     "output_type": "stream",
     "text": [
      "Epoch 122. Rewards awarded: 30. Average loss: 0.013138292044348422.\n"
     ]
    },
    {
     "name": "stderr",
     "output_type": "stream",
     "text": [
      "100%|██████████| 500/500 [00:29<00:00, 16.74it/s]\n"
     ]
    },
    {
     "name": "stdout",
     "output_type": "stream",
     "text": [
      "Epoch 123. Rewards awarded: 30. Average loss: 0.010410160019238297.\n"
     ]
    },
    {
     "name": "stderr",
     "output_type": "stream",
     "text": [
      "100%|██████████| 500/500 [00:30<00:00, 16.49it/s]\n"
     ]
    },
    {
     "name": "stdout",
     "output_type": "stream",
     "text": [
      "Epoch 124. Rewards awarded: 30. Average loss: 0.009922550843369512.\n"
     ]
    },
    {
     "name": "stderr",
     "output_type": "stream",
     "text": [
      "100%|██████████| 500/500 [00:29<00:00, 16.98it/s]\n"
     ]
    },
    {
     "name": "stdout",
     "output_type": "stream",
     "text": [
      "Epoch 125. Rewards awarded: 28. Average loss: 0.012703831173323427.\n"
     ]
    },
    {
     "name": "stderr",
     "output_type": "stream",
     "text": [
      "100%|██████████| 500/500 [00:29<00:00, 16.73it/s]\n"
     ]
    },
    {
     "name": "stdout",
     "output_type": "stream",
     "text": [
      "Epoch 126. Rewards awarded: 37. Average loss: 0.013792277979859135.\n"
     ]
    },
    {
     "name": "stderr",
     "output_type": "stream",
     "text": [
      "100%|██████████| 500/500 [00:29<00:00, 16.85it/s]\n"
     ]
    },
    {
     "name": "stdout",
     "output_type": "stream",
     "text": [
      "Epoch 127. Rewards awarded: 28. Average loss: 0.008400339653577548.\n"
     ]
    },
    {
     "name": "stderr",
     "output_type": "stream",
     "text": [
      "100%|██████████| 500/500 [00:33<00:00, 15.13it/s]\n"
     ]
    },
    {
     "name": "stdout",
     "output_type": "stream",
     "text": [
      "Epoch 128. Rewards awarded: 36. Average loss: 0.015760707901514254.\n"
     ]
    },
    {
     "name": "stderr",
     "output_type": "stream",
     "text": [
      "100%|██████████| 500/500 [00:33<00:00, 15.03it/s]\n"
     ]
    },
    {
     "name": "stdout",
     "output_type": "stream",
     "text": [
      "Epoch 129. Rewards awarded: 31. Average loss: 0.008026399471338664.\n"
     ]
    },
    {
     "name": "stderr",
     "output_type": "stream",
     "text": [
      "100%|██████████| 500/500 [00:30<00:00, 16.48it/s]\n"
     ]
    },
    {
     "name": "stdout",
     "output_type": "stream",
     "text": [
      "Epoch 130. Rewards awarded: 37. Average loss: 0.013879954270874278.\n"
     ]
    },
    {
     "name": "stderr",
     "output_type": "stream",
     "text": [
      "100%|██████████| 500/500 [00:30<00:00, 16.59it/s]\n"
     ]
    },
    {
     "name": "stdout",
     "output_type": "stream",
     "text": [
      "Epoch 131. Rewards awarded: 33. Average loss: 0.011505769303489613.\n"
     ]
    },
    {
     "name": "stderr",
     "output_type": "stream",
     "text": [
      "100%|██████████| 500/500 [00:28<00:00, 17.47it/s]\n"
     ]
    },
    {
     "name": "stdout",
     "output_type": "stream",
     "text": [
      "Epoch 132. Rewards awarded: 35. Average loss: 0.008271892626686473.\n"
     ]
    },
    {
     "name": "stderr",
     "output_type": "stream",
     "text": [
      "100%|██████████| 500/500 [00:28<00:00, 17.27it/s]\n"
     ]
    },
    {
     "name": "stdout",
     "output_type": "stream",
     "text": [
      "Epoch 133. Rewards awarded: 31. Average loss: 0.002186087586371892.\n"
     ]
    },
    {
     "name": "stderr",
     "output_type": "stream",
     "text": [
      "100%|██████████| 500/500 [00:28<00:00, 17.25it/s]\n"
     ]
    },
    {
     "name": "stdout",
     "output_type": "stream",
     "text": [
      "Epoch 134. Rewards awarded: 30. Average loss: 0.0010742349733197142.\n"
     ]
    },
    {
     "name": "stderr",
     "output_type": "stream",
     "text": [
      "100%|██████████| 500/500 [00:28<00:00, 17.32it/s]\n"
     ]
    },
    {
     "name": "stdout",
     "output_type": "stream",
     "text": [
      "Epoch 135. Rewards awarded: 35. Average loss: 0.012812865263586597.\n"
     ]
    },
    {
     "name": "stderr",
     "output_type": "stream",
     "text": [
      "100%|██████████| 500/500 [00:28<00:00, 17.33it/s]\n"
     ]
    },
    {
     "name": "stdout",
     "output_type": "stream",
     "text": [
      "Epoch 136. Rewards awarded: 45. Average loss: 0.01884589336589367.\n"
     ]
    },
    {
     "name": "stderr",
     "output_type": "stream",
     "text": [
      "100%|██████████| 500/500 [00:28<00:00, 17.63it/s]\n"
     ]
    },
    {
     "name": "stdout",
     "output_type": "stream",
     "text": [
      "Epoch 137. Rewards awarded: 35. Average loss: 0.008491335628267432.\n"
     ]
    },
    {
     "name": "stderr",
     "output_type": "stream",
     "text": [
      "100%|██████████| 500/500 [00:29<00:00, 17.12it/s]\n"
     ]
    },
    {
     "name": "stdout",
     "output_type": "stream",
     "text": [
      "Epoch 138. Rewards awarded: 32. Average loss: 0.009271336882178122.\n"
     ]
    },
    {
     "name": "stderr",
     "output_type": "stream",
     "text": [
      "100%|██████████| 500/500 [00:29<00:00, 17.03it/s]\n"
     ]
    },
    {
     "name": "stdout",
     "output_type": "stream",
     "text": [
      "Epoch 139. Rewards awarded: 37. Average loss: 0.01522613664309347.\n"
     ]
    },
    {
     "name": "stderr",
     "output_type": "stream",
     "text": [
      "100%|██████████| 500/500 [00:28<00:00, 17.49it/s]\n"
     ]
    },
    {
     "name": "stdout",
     "output_type": "stream",
     "text": [
      "Epoch 140. Rewards awarded: 25. Average loss: -0.0009120221481595468.\n"
     ]
    },
    {
     "name": "stderr",
     "output_type": "stream",
     "text": [
      "100%|██████████| 500/500 [00:29<00:00, 17.15it/s]\n"
     ]
    },
    {
     "name": "stdout",
     "output_type": "stream",
     "text": [
      "Epoch 141. Rewards awarded: 35. Average loss: 0.005079278001789744.\n"
     ]
    },
    {
     "name": "stderr",
     "output_type": "stream",
     "text": [
      "100%|██████████| 500/500 [00:28<00:00, 17.43it/s]\n"
     ]
    },
    {
     "name": "stdout",
     "output_type": "stream",
     "text": [
      "Epoch 142. Rewards awarded: 35. Average loss: 0.007055497066981237.\n"
     ]
    },
    {
     "name": "stderr",
     "output_type": "stream",
     "text": [
      "100%|██████████| 500/500 [00:28<00:00, 17.68it/s]\n"
     ]
    },
    {
     "name": "stdout",
     "output_type": "stream",
     "text": [
      "Epoch 143. Rewards awarded: 34. Average loss: 0.012050849735718206.\n"
     ]
    },
    {
     "name": "stderr",
     "output_type": "stream",
     "text": [
      "100%|██████████| 500/500 [00:29<00:00, 17.16it/s]\n"
     ]
    },
    {
     "name": "stdout",
     "output_type": "stream",
     "text": [
      "Epoch 144. Rewards awarded: 26. Average loss: 0.004543845297645323.\n"
     ]
    },
    {
     "name": "stderr",
     "output_type": "stream",
     "text": [
      "100%|██████████| 500/500 [00:29<00:00, 17.11it/s]\n"
     ]
    },
    {
     "name": "stdout",
     "output_type": "stream",
     "text": [
      "Epoch 145. Rewards awarded: 28. Average loss: 0.0063097651434291056.\n"
     ]
    },
    {
     "name": "stderr",
     "output_type": "stream",
     "text": [
      "100%|██████████| 500/500 [00:29<00:00, 16.91it/s]\n"
     ]
    },
    {
     "name": "stdout",
     "output_type": "stream",
     "text": [
      "Epoch 146. Rewards awarded: 29. Average loss: 0.0030025544177885136.\n"
     ]
    },
    {
     "name": "stderr",
     "output_type": "stream",
     "text": [
      "100%|██████████| 500/500 [00:31<00:00, 15.71it/s]\n"
     ]
    },
    {
     "name": "stdout",
     "output_type": "stream",
     "text": [
      "Epoch 147. Rewards awarded: 27. Average loss: 0.007653281134427744.\n"
     ]
    },
    {
     "name": "stderr",
     "output_type": "stream",
     "text": [
      "100%|██████████| 500/500 [00:28<00:00, 17.27it/s]\n"
     ]
    },
    {
     "name": "stdout",
     "output_type": "stream",
     "text": [
      "Epoch 148. Rewards awarded: 34. Average loss: 0.011845792890074525.\n"
     ]
    },
    {
     "name": "stderr",
     "output_type": "stream",
     "text": [
      "100%|██████████| 500/500 [00:27<00:00, 18.36it/s]\n"
     ]
    },
    {
     "name": "stdout",
     "output_type": "stream",
     "text": [
      "Epoch 149. Rewards awarded: 35. Average loss: 0.007002159915788679.\n"
     ]
    },
    {
     "name": "stderr",
     "output_type": "stream",
     "text": [
      "100%|██████████| 500/500 [00:27<00:00, 18.05it/s]\n"
     ]
    },
    {
     "name": "stdout",
     "output_type": "stream",
     "text": [
      "Epoch 150. Rewards awarded: 33. Average loss: 0.006739076437775415.\n"
     ]
    },
    {
     "name": "stderr",
     "output_type": "stream",
     "text": [
      "100%|██████████| 500/500 [00:57<00:00,  8.77it/s]\n"
     ]
    },
    {
     "name": "stdout",
     "output_type": "stream",
     "text": [
      "Epoch 151. Rewards awarded: 40. Average loss: 0.009756550931158018.\n"
     ]
    },
    {
     "name": "stderr",
     "output_type": "stream",
     "text": [
      "100%|██████████| 500/500 [00:57<00:00,  8.72it/s]\n"
     ]
    },
    {
     "name": "stdout",
     "output_type": "stream",
     "text": [
      "Epoch 152. Rewards awarded: 34. Average loss: 0.0018990526382106799.\n"
     ]
    },
    {
     "name": "stderr",
     "output_type": "stream",
     "text": [
      "100%|██████████| 500/500 [00:56<00:00,  8.81it/s]\n"
     ]
    },
    {
     "name": "stdout",
     "output_type": "stream",
     "text": [
      "Epoch 153. Rewards awarded: 32. Average loss: 0.000670019178356599.\n"
     ]
    },
    {
     "name": "stderr",
     "output_type": "stream",
     "text": [
      "100%|██████████| 500/500 [00:58<00:00,  8.59it/s]\n"
     ]
    },
    {
     "name": "stdout",
     "output_type": "stream",
     "text": [
      "Epoch 154. Rewards awarded: 30. Average loss: 0.0009387412514194384.\n"
     ]
    },
    {
     "name": "stderr",
     "output_type": "stream",
     "text": [
      "100%|██████████| 500/500 [00:49<00:00, 10.12it/s]\n"
     ]
    },
    {
     "name": "stdout",
     "output_type": "stream",
     "text": [
      "Epoch 155. Rewards awarded: 34. Average loss: 0.008170355975401134.\n"
     ]
    },
    {
     "name": "stderr",
     "output_type": "stream",
     "text": [
      "100%|██████████| 500/500 [00:41<00:00, 11.91it/s]\n"
     ]
    },
    {
     "name": "stdout",
     "output_type": "stream",
     "text": [
      "Epoch 156. Rewards awarded: 34. Average loss: 0.0035307733304768287.\n"
     ]
    },
    {
     "name": "stderr",
     "output_type": "stream",
     "text": [
      "100%|██████████| 500/500 [00:31<00:00, 16.12it/s]\n"
     ]
    },
    {
     "name": "stdout",
     "output_type": "stream",
     "text": [
      "Epoch 157. Rewards awarded: 28. Average loss: 0.0020155582585460563.\n"
     ]
    },
    {
     "name": "stderr",
     "output_type": "stream",
     "text": [
      "100%|██████████| 500/500 [00:27<00:00, 18.09it/s]\n"
     ]
    },
    {
     "name": "stdout",
     "output_type": "stream",
     "text": [
      "Epoch 158. Rewards awarded: 42. Average loss: 0.010377332067648543.\n"
     ]
    },
    {
     "name": "stderr",
     "output_type": "stream",
     "text": [
      "100%|██████████| 500/500 [00:27<00:00, 18.17it/s]\n"
     ]
    },
    {
     "name": "stdout",
     "output_type": "stream",
     "text": [
      "Epoch 159. Rewards awarded: 35. Average loss: 0.004691068941055769.\n"
     ]
    },
    {
     "name": "stderr",
     "output_type": "stream",
     "text": [
      "100%|██████████| 500/500 [00:27<00:00, 17.90it/s]\n"
     ]
    },
    {
     "name": "stdout",
     "output_type": "stream",
     "text": [
      "Epoch 160. Rewards awarded: 32. Average loss: 0.009326668344040024.\n"
     ]
    },
    {
     "name": "stderr",
     "output_type": "stream",
     "text": [
      "100%|██████████| 500/500 [00:28<00:00, 17.60it/s]\n"
     ]
    },
    {
     "name": "stdout",
     "output_type": "stream",
     "text": [
      "Epoch 161. Rewards awarded: 30. Average loss: -0.004343959651881806.\n"
     ]
    },
    {
     "name": "stderr",
     "output_type": "stream",
     "text": [
      "100%|██████████| 500/500 [00:27<00:00, 17.89it/s]\n"
     ]
    },
    {
     "name": "stdout",
     "output_type": "stream",
     "text": [
      "Epoch 162. Rewards awarded: 32. Average loss: -0.002382509460670311.\n"
     ]
    },
    {
     "name": "stderr",
     "output_type": "stream",
     "text": [
      "100%|██████████| 500/500 [00:27<00:00, 18.19it/s]\n"
     ]
    },
    {
     "name": "stdout",
     "output_type": "stream",
     "text": [
      "Epoch 163. Rewards awarded: 37. Average loss: 0.00326383926447064.\n"
     ]
    },
    {
     "name": "stderr",
     "output_type": "stream",
     "text": [
      "100%|██████████| 500/500 [00:28<00:00, 17.64it/s]\n"
     ]
    },
    {
     "name": "stdout",
     "output_type": "stream",
     "text": [
      "Epoch 164. Rewards awarded: 34. Average loss: -0.002962079056093595.\n"
     ]
    },
    {
     "name": "stderr",
     "output_type": "stream",
     "text": [
      "100%|██████████| 500/500 [00:28<00:00, 17.79it/s]\n"
     ]
    },
    {
     "name": "stdout",
     "output_type": "stream",
     "text": [
      "Epoch 165. Rewards awarded: 31. Average loss: -0.0012268167668902001.\n"
     ]
    },
    {
     "name": "stderr",
     "output_type": "stream",
     "text": [
      "100%|██████████| 500/500 [00:28<00:00, 17.73it/s]\n"
     ]
    },
    {
     "name": "stdout",
     "output_type": "stream",
     "text": [
      "Epoch 166. Rewards awarded: 29. Average loss: -0.000795253956536423.\n"
     ]
    },
    {
     "name": "stderr",
     "output_type": "stream",
     "text": [
      "100%|██████████| 500/500 [00:28<00:00, 17.70it/s]\n"
     ]
    },
    {
     "name": "stdout",
     "output_type": "stream",
     "text": [
      "Epoch 167. Rewards awarded: 24. Average loss: -0.002529056920954342.\n"
     ]
    },
    {
     "name": "stderr",
     "output_type": "stream",
     "text": [
      "100%|██████████| 500/500 [00:27<00:00, 18.38it/s]\n"
     ]
    },
    {
     "name": "stdout",
     "output_type": "stream",
     "text": [
      "Epoch 168. Rewards awarded: 37. Average loss: 0.0019487787939021187.\n"
     ]
    },
    {
     "name": "stderr",
     "output_type": "stream",
     "text": [
      "100%|██████████| 500/500 [00:28<00:00, 17.34it/s]\n"
     ]
    },
    {
     "name": "stdout",
     "output_type": "stream",
     "text": [
      "Epoch 169. Rewards awarded: 34. Average loss: -0.0028668462407404143.\n"
     ]
    },
    {
     "name": "stderr",
     "output_type": "stream",
     "text": [
      "100%|██████████| 500/500 [00:29<00:00, 17.17it/s]\n"
     ]
    },
    {
     "name": "stdout",
     "output_type": "stream",
     "text": [
      "Epoch 170. Rewards awarded: 31. Average loss: -0.0016995280023766103.\n"
     ]
    },
    {
     "name": "stderr",
     "output_type": "stream",
     "text": [
      "100%|██████████| 500/500 [00:29<00:00, 17.20it/s]\n"
     ]
    },
    {
     "name": "stdout",
     "output_type": "stream",
     "text": [
      "Epoch 171. Rewards awarded: 39. Average loss: -0.0006031024340924578.\n"
     ]
    },
    {
     "name": "stderr",
     "output_type": "stream",
     "text": [
      "100%|██████████| 500/500 [00:30<00:00, 16.53it/s]\n"
     ]
    },
    {
     "name": "stdout",
     "output_type": "stream",
     "text": [
      "Epoch 172. Rewards awarded: 35. Average loss: 0.001187639998934629.\n"
     ]
    },
    {
     "name": "stderr",
     "output_type": "stream",
     "text": [
      "100%|██████████| 500/500 [00:28<00:00, 17.32it/s]\n"
     ]
    },
    {
     "name": "stdout",
     "output_type": "stream",
     "text": [
      "Epoch 173. Rewards awarded: 36. Average loss: 0.001831547837174182.\n"
     ]
    },
    {
     "name": "stderr",
     "output_type": "stream",
     "text": [
      "100%|██████████| 500/500 [00:29<00:00, 17.14it/s]\n"
     ]
    },
    {
     "name": "stdout",
     "output_type": "stream",
     "text": [
      "Epoch 174. Rewards awarded: 35. Average loss: 0.006588128322942037.\n"
     ]
    },
    {
     "name": "stderr",
     "output_type": "stream",
     "text": [
      "100%|██████████| 500/500 [00:28<00:00, 17.82it/s]\n"
     ]
    },
    {
     "name": "stdout",
     "output_type": "stream",
     "text": [
      "Epoch 175. Rewards awarded: 33. Average loss: 0.004876310923007013.\n"
     ]
    },
    {
     "name": "stderr",
     "output_type": "stream",
     "text": [
      "100%|██████████| 500/500 [00:30<00:00, 16.18it/s]\n"
     ]
    },
    {
     "name": "stdout",
     "output_type": "stream",
     "text": [
      "Epoch 176. Rewards awarded: 39. Average loss: 0.004534981438550556.\n"
     ]
    },
    {
     "name": "stderr",
     "output_type": "stream",
     "text": [
      "100%|██████████| 500/500 [00:30<00:00, 16.44it/s]\n"
     ]
    },
    {
     "name": "stdout",
     "output_type": "stream",
     "text": [
      "Epoch 177. Rewards awarded: 32. Average loss: 0.0010351502294139818.\n"
     ]
    },
    {
     "name": "stderr",
     "output_type": "stream",
     "text": [
      "100%|██████████| 500/500 [00:28<00:00, 17.61it/s]\n"
     ]
    },
    {
     "name": "stdout",
     "output_type": "stream",
     "text": [
      "Epoch 178. Rewards awarded: 30. Average loss: -0.004199067957991551.\n"
     ]
    },
    {
     "name": "stderr",
     "output_type": "stream",
     "text": [
      "100%|██████████| 500/500 [00:30<00:00, 16.25it/s]\n"
     ]
    },
    {
     "name": "stdout",
     "output_type": "stream",
     "text": [
      "Epoch 179. Rewards awarded: 36. Average loss: -0.0030865015966367827.\n"
     ]
    },
    {
     "name": "stderr",
     "output_type": "stream",
     "text": [
      "100%|██████████| 500/500 [00:29<00:00, 16.82it/s]\n"
     ]
    },
    {
     "name": "stdout",
     "output_type": "stream",
     "text": [
      "Epoch 180. Rewards awarded: 29. Average loss: -0.004924484084390617.\n"
     ]
    },
    {
     "name": "stderr",
     "output_type": "stream",
     "text": [
      "100%|██████████| 500/500 [00:27<00:00, 17.94it/s]\n"
     ]
    },
    {
     "name": "stdout",
     "output_type": "stream",
     "text": [
      "Epoch 181. Rewards awarded: 37. Average loss: -0.0046103340218069215.\n"
     ]
    },
    {
     "name": "stderr",
     "output_type": "stream",
     "text": [
      "100%|██████████| 500/500 [00:27<00:00, 17.94it/s]\n"
     ]
    },
    {
     "name": "stdout",
     "output_type": "stream",
     "text": [
      "Epoch 182. Rewards awarded: 36. Average loss: -0.0018113116202227186.\n"
     ]
    },
    {
     "name": "stderr",
     "output_type": "stream",
     "text": [
      "100%|██████████| 500/500 [00:28<00:00, 17.38it/s]\n"
     ]
    },
    {
     "name": "stdout",
     "output_type": "stream",
     "text": [
      "Epoch 183. Rewards awarded: 28. Average loss: -0.008375567514720994.\n"
     ]
    },
    {
     "name": "stderr",
     "output_type": "stream",
     "text": [
      "100%|██████████| 500/500 [00:28<00:00, 17.60it/s]\n"
     ]
    },
    {
     "name": "stdout",
     "output_type": "stream",
     "text": [
      "Epoch 184. Rewards awarded: 38. Average loss: -0.0009496481244374681.\n"
     ]
    },
    {
     "name": "stderr",
     "output_type": "stream",
     "text": [
      "100%|██████████| 500/500 [00:28<00:00, 17.47it/s]\n"
     ]
    },
    {
     "name": "stdout",
     "output_type": "stream",
     "text": [
      "Epoch 185. Rewards awarded: 37. Average loss: -0.0034549812042993537.\n"
     ]
    },
    {
     "name": "stderr",
     "output_type": "stream",
     "text": [
      "100%|██████████| 500/500 [00:36<00:00, 13.68it/s]\n"
     ]
    },
    {
     "name": "stdout",
     "output_type": "stream",
     "text": [
      "Epoch 186. Rewards awarded: 30. Average loss: -0.010551407216560619.\n"
     ]
    },
    {
     "name": "stderr",
     "output_type": "stream",
     "text": [
      "100%|██████████| 500/500 [00:28<00:00, 17.62it/s]\n"
     ]
    },
    {
     "name": "stdout",
     "output_type": "stream",
     "text": [
      "Epoch 187. Rewards awarded: 35. Average loss: -0.0002514220638240654.\n"
     ]
    },
    {
     "name": "stderr",
     "output_type": "stream",
     "text": [
      "100%|██████████| 500/500 [00:28<00:00, 17.69it/s]\n"
     ]
    },
    {
     "name": "stdout",
     "output_type": "stream",
     "text": [
      "Epoch 188. Rewards awarded: 39. Average loss: -0.006896295618734104.\n"
     ]
    },
    {
     "name": "stderr",
     "output_type": "stream",
     "text": [
      "100%|██████████| 500/500 [00:28<00:00, 17.84it/s]\n"
     ]
    },
    {
     "name": "stdout",
     "output_type": "stream",
     "text": [
      "Epoch 189. Rewards awarded: 37. Average loss: -0.009569327592010572.\n"
     ]
    },
    {
     "name": "stderr",
     "output_type": "stream",
     "text": [
      "100%|██████████| 500/500 [00:28<00:00, 17.64it/s]\n"
     ]
    },
    {
     "name": "stdout",
     "output_type": "stream",
     "text": [
      "Epoch 190. Rewards awarded: 28. Average loss: -0.011041722107020178.\n"
     ]
    },
    {
     "name": "stderr",
     "output_type": "stream",
     "text": [
      "100%|██████████| 500/500 [00:28<00:00, 17.78it/s]\n"
     ]
    },
    {
     "name": "stdout",
     "output_type": "stream",
     "text": [
      "Epoch 191. Rewards awarded: 36. Average loss: -0.008773285635451732.\n"
     ]
    },
    {
     "name": "stderr",
     "output_type": "stream",
     "text": [
      "100%|██████████| 500/500 [00:27<00:00, 17.89it/s]\n"
     ]
    },
    {
     "name": "stdout",
     "output_type": "stream",
     "text": [
      "Epoch 192. Rewards awarded: 32. Average loss: -0.007398133200243141.\n"
     ]
    },
    {
     "name": "stderr",
     "output_type": "stream",
     "text": [
      "100%|██████████| 500/500 [00:28<00:00, 17.76it/s]\n"
     ]
    },
    {
     "name": "stdout",
     "output_type": "stream",
     "text": [
      "Epoch 193. Rewards awarded: 32. Average loss: -0.005890175718154448.\n"
     ]
    },
    {
     "name": "stderr",
     "output_type": "stream",
     "text": [
      "100%|██████████| 500/500 [00:28<00:00, 17.74it/s]\n"
     ]
    },
    {
     "name": "stdout",
     "output_type": "stream",
     "text": [
      "Epoch 194. Rewards awarded: 35. Average loss: -0.010956747452990993.\n"
     ]
    },
    {
     "name": "stderr",
     "output_type": "stream",
     "text": [
      "100%|██████████| 500/500 [00:27<00:00, 18.25it/s]\n"
     ]
    },
    {
     "name": "stdout",
     "output_type": "stream",
     "text": [
      "Epoch 195. Rewards awarded: 37. Average loss: -0.0026203594900180206.\n"
     ]
    },
    {
     "name": "stderr",
     "output_type": "stream",
     "text": [
      "100%|██████████| 500/500 [00:27<00:00, 17.96it/s]\n"
     ]
    },
    {
     "name": "stdout",
     "output_type": "stream",
     "text": [
      "Epoch 196. Rewards awarded: 36. Average loss: -0.010094606227892655.\n"
     ]
    },
    {
     "name": "stderr",
     "output_type": "stream",
     "text": [
      "100%|██████████| 500/500 [00:28<00:00, 17.77it/s]\n"
     ]
    },
    {
     "name": "stdout",
     "output_type": "stream",
     "text": [
      "Epoch 197. Rewards awarded: 31. Average loss: -0.014955603899694324.\n"
     ]
    },
    {
     "name": "stderr",
     "output_type": "stream",
     "text": [
      "100%|██████████| 500/500 [00:27<00:00, 17.94it/s]\n"
     ]
    },
    {
     "name": "stdout",
     "output_type": "stream",
     "text": [
      "Epoch 198. Rewards awarded: 33. Average loss: -0.010176610894695988.\n"
     ]
    },
    {
     "name": "stderr",
     "output_type": "stream",
     "text": [
      "100%|██████████| 500/500 [00:27<00:00, 17.86it/s]\n"
     ]
    },
    {
     "name": "stdout",
     "output_type": "stream",
     "text": [
      "Epoch 199. Rewards awarded: 31. Average loss: -0.01245287235124806.\n"
     ]
    },
    {
     "name": "stderr",
     "output_type": "stream",
     "text": [
      "100%|██████████| 500/500 [00:28<00:00, 17.68it/s]\n"
     ]
    },
    {
     "name": "stdout",
     "output_type": "stream",
     "text": [
      "Epoch 200. Rewards awarded: 29. Average loss: -0.0110245352856485.\n"
     ]
    },
    {
     "name": "stderr",
     "output_type": "stream",
     "text": [
      "100%|██████████| 500/500 [00:28<00:00, 17.86it/s]\n"
     ]
    },
    {
     "name": "stdout",
     "output_type": "stream",
     "text": [
      "Epoch 201. Rewards awarded: 37. Average loss: -0.0014041070109093818.\n"
     ]
    },
    {
     "name": "stderr",
     "output_type": "stream",
     "text": [
      "100%|██████████| 500/500 [00:28<00:00, 17.85it/s]\n"
     ]
    },
    {
     "name": "stdout",
     "output_type": "stream",
     "text": [
      "Epoch 202. Rewards awarded: 31. Average loss: -0.009788736296953477.\n"
     ]
    },
    {
     "name": "stderr",
     "output_type": "stream",
     "text": [
      "100%|██████████| 500/500 [00:27<00:00, 18.26it/s]\n"
     ]
    },
    {
     "name": "stdout",
     "output_type": "stream",
     "text": [
      "Epoch 203. Rewards awarded: 38. Average loss: -0.011339591399707081.\n"
     ]
    },
    {
     "name": "stderr",
     "output_type": "stream",
     "text": [
      "100%|██████████| 500/500 [00:27<00:00, 17.98it/s]\n"
     ]
    },
    {
     "name": "stdout",
     "output_type": "stream",
     "text": [
      "Epoch 204. Rewards awarded: 34. Average loss: -0.0040671076709938156.\n"
     ]
    },
    {
     "name": "stderr",
     "output_type": "stream",
     "text": [
      "100%|██████████| 500/500 [00:28<00:00, 17.83it/s]\n"
     ]
    },
    {
     "name": "stdout",
     "output_type": "stream",
     "text": [
      "Epoch 205. Rewards awarded: 34. Average loss: -0.007636854932619825.\n"
     ]
    },
    {
     "name": "stderr",
     "output_type": "stream",
     "text": [
      "100%|██████████| 500/500 [00:27<00:00, 17.87it/s]\n"
     ]
    },
    {
     "name": "stdout",
     "output_type": "stream",
     "text": [
      "Epoch 206. Rewards awarded: 28. Average loss: -0.012610791767727884.\n"
     ]
    },
    {
     "name": "stderr",
     "output_type": "stream",
     "text": [
      "100%|██████████| 500/500 [00:27<00:00, 17.98it/s]\n"
     ]
    },
    {
     "name": "stdout",
     "output_type": "stream",
     "text": [
      "Epoch 207. Rewards awarded: 38. Average loss: -0.010440694046390493.\n"
     ]
    },
    {
     "name": "stderr",
     "output_type": "stream",
     "text": [
      "100%|██████████| 500/500 [00:27<00:00, 18.25it/s]\n"
     ]
    },
    {
     "name": "stdout",
     "output_type": "stream",
     "text": [
      "Epoch 208. Rewards awarded: 44. Average loss: -0.007697065384175705.\n"
     ]
    },
    {
     "name": "stderr",
     "output_type": "stream",
     "text": [
      "100%|██████████| 500/500 [00:28<00:00, 17.82it/s]\n"
     ]
    },
    {
     "name": "stdout",
     "output_type": "stream",
     "text": [
      "Epoch 209. Rewards awarded: 30. Average loss: -0.014377741375851957.\n"
     ]
    },
    {
     "name": "stderr",
     "output_type": "stream",
     "text": [
      "100%|██████████| 500/500 [00:27<00:00, 18.00it/s]\n"
     ]
    },
    {
     "name": "stdout",
     "output_type": "stream",
     "text": [
      "Epoch 210. Rewards awarded: 24. Average loss: -0.012161701385490841.\n"
     ]
    },
    {
     "name": "stderr",
     "output_type": "stream",
     "text": [
      "100%|██████████| 500/500 [00:27<00:00, 17.94it/s]\n"
     ]
    },
    {
     "name": "stdout",
     "output_type": "stream",
     "text": [
      "Epoch 211. Rewards awarded: 30. Average loss: -0.011146509299011087.\n"
     ]
    },
    {
     "name": "stderr",
     "output_type": "stream",
     "text": [
      "100%|██████████| 500/500 [00:27<00:00, 17.90it/s]\n"
     ]
    },
    {
     "name": "stdout",
     "output_type": "stream",
     "text": [
      "Epoch 212. Rewards awarded: 36. Average loss: -0.011304429886532793.\n"
     ]
    },
    {
     "name": "stderr",
     "output_type": "stream",
     "text": [
      "100%|██████████| 500/500 [00:28<00:00, 17.82it/s]\n"
     ]
    },
    {
     "name": "stdout",
     "output_type": "stream",
     "text": [
      "Epoch 213. Rewards awarded: 32. Average loss: -0.009336565654241364.\n"
     ]
    },
    {
     "name": "stderr",
     "output_type": "stream",
     "text": [
      "100%|██████████| 500/500 [00:27<00:00, 18.02it/s]\n"
     ]
    },
    {
     "name": "stdout",
     "output_type": "stream",
     "text": [
      "Epoch 214. Rewards awarded: 36. Average loss: -0.01739091506623784.\n"
     ]
    },
    {
     "name": "stderr",
     "output_type": "stream",
     "text": [
      "100%|██████████| 500/500 [00:28<00:00, 17.85it/s]\n"
     ]
    },
    {
     "name": "stdout",
     "output_type": "stream",
     "text": [
      "Epoch 215. Rewards awarded: 33. Average loss: -0.005696082559534868.\n"
     ]
    },
    {
     "name": "stderr",
     "output_type": "stream",
     "text": [
      "100%|██████████| 500/500 [00:28<00:00, 17.82it/s]\n"
     ]
    },
    {
     "name": "stdout",
     "output_type": "stream",
     "text": [
      "Epoch 216. Rewards awarded: 33. Average loss: -0.011878356159545394.\n"
     ]
    },
    {
     "name": "stderr",
     "output_type": "stream",
     "text": [
      "100%|██████████| 500/500 [00:27<00:00, 17.87it/s]\n"
     ]
    },
    {
     "name": "stdout",
     "output_type": "stream",
     "text": [
      "Epoch 217. Rewards awarded: 31. Average loss: -0.018336978125174937.\n"
     ]
    },
    {
     "name": "stderr",
     "output_type": "stream",
     "text": [
      "100%|██████████| 500/500 [00:27<00:00, 18.00it/s]\n"
     ]
    },
    {
     "name": "stdout",
     "output_type": "stream",
     "text": [
      "Epoch 218. Rewards awarded: 37. Average loss: -0.010884383442838952.\n"
     ]
    },
    {
     "name": "stderr",
     "output_type": "stream",
     "text": [
      "100%|██████████| 500/500 [00:28<00:00, 17.84it/s]\n"
     ]
    },
    {
     "name": "stdout",
     "output_type": "stream",
     "text": [
      "Epoch 219. Rewards awarded: 28. Average loss: -0.023469018464649098.\n"
     ]
    },
    {
     "name": "stderr",
     "output_type": "stream",
     "text": [
      "100%|██████████| 500/500 [00:28<00:00, 17.80it/s]\n"
     ]
    },
    {
     "name": "stdout",
     "output_type": "stream",
     "text": [
      "Epoch 220. Rewards awarded: 36. Average loss: -0.023885212043331803.\n"
     ]
    },
    {
     "name": "stderr",
     "output_type": "stream",
     "text": [
      "100%|██████████| 500/500 [00:28<00:00, 17.70it/s]\n"
     ]
    },
    {
     "name": "stdout",
     "output_type": "stream",
     "text": [
      "Epoch 221. Rewards awarded: 32. Average loss: -0.007908198581403363.\n"
     ]
    },
    {
     "name": "stderr",
     "output_type": "stream",
     "text": [
      "100%|██████████| 500/500 [00:27<00:00, 18.13it/s]\n"
     ]
    },
    {
     "name": "stdout",
     "output_type": "stream",
     "text": [
      "Epoch 222. Rewards awarded: 32. Average loss: -0.004319461162007124.\n"
     ]
    },
    {
     "name": "stderr",
     "output_type": "stream",
     "text": [
      "100%|██████████| 500/500 [00:27<00:00, 18.04it/s]\n"
     ]
    },
    {
     "name": "stdout",
     "output_type": "stream",
     "text": [
      "Epoch 223. Rewards awarded: 32. Average loss: -0.01648310869931083.\n"
     ]
    },
    {
     "name": "stderr",
     "output_type": "stream",
     "text": [
      "100%|██████████| 500/500 [00:28<00:00, 17.84it/s]\n"
     ]
    },
    {
     "name": "stdout",
     "output_type": "stream",
     "text": [
      "Epoch 224. Rewards awarded: 35. Average loss: -0.01594641805078815.\n"
     ]
    },
    {
     "name": "stderr",
     "output_type": "stream",
     "text": [
      "100%|██████████| 500/500 [00:27<00:00, 18.04it/s]\n"
     ]
    },
    {
     "name": "stdout",
     "output_type": "stream",
     "text": [
      "Epoch 225. Rewards awarded: 41. Average loss: -0.011696248690833275.\n"
     ]
    },
    {
     "name": "stderr",
     "output_type": "stream",
     "text": [
      "100%|██████████| 500/500 [00:27<00:00, 18.24it/s]\n"
     ]
    },
    {
     "name": "stdout",
     "output_type": "stream",
     "text": [
      "Epoch 226. Rewards awarded: 43. Average loss: -0.002296354723117778.\n"
     ]
    },
    {
     "name": "stderr",
     "output_type": "stream",
     "text": [
      "100%|██████████| 500/500 [00:27<00:00, 17.91it/s]\n"
     ]
    },
    {
     "name": "stdout",
     "output_type": "stream",
     "text": [
      "Epoch 227. Rewards awarded: 33. Average loss: -0.014523494782850319.\n"
     ]
    },
    {
     "name": "stderr",
     "output_type": "stream",
     "text": [
      "100%|██████████| 500/500 [00:28<00:00, 17.78it/s]\n"
     ]
    },
    {
     "name": "stdout",
     "output_type": "stream",
     "text": [
      "Epoch 228. Rewards awarded: 26. Average loss: -0.017618288667550892.\n"
     ]
    },
    {
     "name": "stderr",
     "output_type": "stream",
     "text": [
      "100%|██████████| 500/500 [00:28<00:00, 17.67it/s]\n"
     ]
    },
    {
     "name": "stdout",
     "output_type": "stream",
     "text": [
      "Epoch 229. Rewards awarded: 26. Average loss: -0.018346669191993285.\n"
     ]
    },
    {
     "name": "stderr",
     "output_type": "stream",
     "text": [
      "100%|██████████| 500/500 [00:28<00:00, 17.79it/s]\n"
     ]
    },
    {
     "name": "stdout",
     "output_type": "stream",
     "text": [
      "Epoch 230. Rewards awarded: 28. Average loss: -0.011093838285800304.\n"
     ]
    },
    {
     "name": "stderr",
     "output_type": "stream",
     "text": [
      "100%|██████████| 500/500 [00:27<00:00, 18.34it/s]\n"
     ]
    },
    {
     "name": "stdout",
     "output_type": "stream",
     "text": [
      "Epoch 231. Rewards awarded: 40. Average loss: -0.014974243048062818.\n"
     ]
    },
    {
     "name": "stderr",
     "output_type": "stream",
     "text": [
      "100%|██████████| 500/500 [00:27<00:00, 18.29it/s]\n"
     ]
    },
    {
     "name": "stdout",
     "output_type": "stream",
     "text": [
      "Epoch 232. Rewards awarded: 43. Average loss: -0.01077651795847305.\n"
     ]
    },
    {
     "name": "stderr",
     "output_type": "stream",
     "text": [
      "100%|██████████| 500/500 [00:27<00:00, 18.42it/s]\n"
     ]
    },
    {
     "name": "stdout",
     "output_type": "stream",
     "text": [
      "Epoch 233. Rewards awarded: 35. Average loss: -0.015445238101685391.\n"
     ]
    },
    {
     "name": "stderr",
     "output_type": "stream",
     "text": [
      "100%|██████████| 500/500 [00:27<00:00, 18.42it/s]\n"
     ]
    },
    {
     "name": "stdout",
     "output_type": "stream",
     "text": [
      "Epoch 234. Rewards awarded: 37. Average loss: -0.007493057256771255.\n"
     ]
    },
    {
     "name": "stderr",
     "output_type": "stream",
     "text": [
      "100%|██████████| 500/500 [00:27<00:00, 18.41it/s]\n"
     ]
    },
    {
     "name": "stdout",
     "output_type": "stream",
     "text": [
      "Epoch 235. Rewards awarded: 36. Average loss: -0.011578348709153146.\n"
     ]
    },
    {
     "name": "stderr",
     "output_type": "stream",
     "text": [
      "100%|██████████| 500/500 [00:26<00:00, 18.78it/s]\n"
     ]
    },
    {
     "name": "stdout",
     "output_type": "stream",
     "text": [
      "Epoch 236. Rewards awarded: 35. Average loss: -0.014917442781784305.\n"
     ]
    },
    {
     "name": "stderr",
     "output_type": "stream",
     "text": [
      "100%|██████████| 500/500 [01:19<00:00,  6.32it/s]\n"
     ]
    },
    {
     "name": "stdout",
     "output_type": "stream",
     "text": [
      "Epoch 237. Rewards awarded: 32. Average loss: -0.02280987641183613.\n"
     ]
    },
    {
     "name": "stderr",
     "output_type": "stream",
     "text": [
      "100%|██████████| 500/500 [35:47<00:00,  4.29s/it]   \n"
     ]
    },
    {
     "name": "stdout",
     "output_type": "stream",
     "text": [
      "Epoch 238. Rewards awarded: 35. Average loss: -0.011520621068891462.\n"
     ]
    },
    {
     "name": "stderr",
     "output_type": "stream",
     "text": [
      "100%|██████████| 500/500 [00:29<00:00, 16.72it/s]\n"
     ]
    },
    {
     "name": "stdout",
     "output_type": "stream",
     "text": [
      "Epoch 239. Rewards awarded: 40. Average loss: -0.020013412883466423.\n"
     ]
    },
    {
     "name": "stderr",
     "output_type": "stream",
     "text": [
      "100%|██████████| 500/500 [00:29<00:00, 17.16it/s]\n"
     ]
    },
    {
     "name": "stdout",
     "output_type": "stream",
     "text": [
      "Epoch 240. Rewards awarded: 31. Average loss: -0.02176239965075911.\n"
     ]
    },
    {
     "name": "stderr",
     "output_type": "stream",
     "text": [
      "100%|██████████| 500/500 [00:28<00:00, 17.25it/s]\n"
     ]
    },
    {
     "name": "stdout",
     "output_type": "stream",
     "text": [
      "Epoch 241. Rewards awarded: 35. Average loss: -0.012895766881244223.\n"
     ]
    },
    {
     "name": "stderr",
     "output_type": "stream",
     "text": [
      "100%|██████████| 500/500 [00:28<00:00, 17.44it/s]\n"
     ]
    },
    {
     "name": "stdout",
     "output_type": "stream",
     "text": [
      "Epoch 242. Rewards awarded: 31. Average loss: -0.010272552954436832.\n"
     ]
    },
    {
     "name": "stderr",
     "output_type": "stream",
     "text": [
      "100%|██████████| 500/500 [00:28<00:00, 17.25it/s]\n"
     ]
    },
    {
     "name": "stdout",
     "output_type": "stream",
     "text": [
      "Epoch 243. Rewards awarded: 31. Average loss: -0.013370001112795456.\n"
     ]
    },
    {
     "name": "stderr",
     "output_type": "stream",
     "text": [
      "100%|██████████| 500/500 [05:56<00:00,  1.40it/s]  \n"
     ]
    },
    {
     "name": "stdout",
     "output_type": "stream",
     "text": [
      "Epoch 244. Rewards awarded: 36. Average loss: -0.003328740416657942.\n"
     ]
    },
    {
     "name": "stderr",
     "output_type": "stream",
     "text": [
      "100%|██████████| 500/500 [00:28<00:00, 17.59it/s]\n"
     ]
    },
    {
     "name": "stdout",
     "output_type": "stream",
     "text": [
      "Epoch 245. Rewards awarded: 34. Average loss: -0.016219764223418986.\n"
     ]
    },
    {
     "name": "stderr",
     "output_type": "stream",
     "text": [
      "100%|██████████| 500/500 [00:28<00:00, 17.51it/s]\n"
     ]
    },
    {
     "name": "stdout",
     "output_type": "stream",
     "text": [
      "Epoch 246. Rewards awarded: 34. Average loss: -0.013943996608892726.\n"
     ]
    },
    {
     "name": "stderr",
     "output_type": "stream",
     "text": [
      "100%|██████████| 500/500 [00:28<00:00, 17.54it/s]\n"
     ]
    },
    {
     "name": "stdout",
     "output_type": "stream",
     "text": [
      "Epoch 247. Rewards awarded: 34. Average loss: -0.011872922405736662.\n"
     ]
    },
    {
     "name": "stderr",
     "output_type": "stream",
     "text": [
      "100%|██████████| 500/500 [00:27<00:00, 18.04it/s]\n"
     ]
    },
    {
     "name": "stdout",
     "output_type": "stream",
     "text": [
      "Epoch 248. Rewards awarded: 39. Average loss: -0.014167970759039653.\n"
     ]
    },
    {
     "name": "stderr",
     "output_type": "stream",
     "text": [
      "100%|██████████| 500/500 [00:28<00:00, 17.52it/s]\n"
     ]
    },
    {
     "name": "stdout",
     "output_type": "stream",
     "text": [
      "Epoch 249. Rewards awarded: 34. Average loss: -0.019247525787597017.\n"
     ]
    },
    {
     "name": "stderr",
     "output_type": "stream",
     "text": [
      "100%|██████████| 500/500 [00:28<00:00, 17.59it/s]\n"
     ]
    },
    {
     "name": "stdout",
     "output_type": "stream",
     "text": [
      "Epoch 250. Rewards awarded: 38. Average loss: -0.0032733861020218078.\n"
     ]
    }
   ],
   "source": [
    "# Model hyperparameters\n",
    "K = 5\n",
    "actor_neuron_lst = [1000,500, 100]\n",
    "critic_neuron_lst = [1000,500, 100]\n",
    "\n",
    "# Training parameters\n",
    "N_epochs = 250\n",
    "gamma =  0.9\n",
    "epsilon = 0.05\n",
    "M = 500 # (max) number of DD pairs in epoch\n",
    "optimiser = lambda params : torch.optim.SGD(params, lr=0.003)\n",
    "\n",
    "trained_actor, trained_critic, loss_hist, actor_loss_hist, critic_loss_hist = train(kg_env,\n",
    "    K, \n",
    "    actor_neuron_lst,\n",
    "    critic_neuron_lst,\n",
    "    N_epochs,\n",
    "    gamma,\n",
    "    epsilon,\n",
    "    M, \n",
    "    optimiser\n",
    ")"
   ]
  },
  {
   "cell_type": "code",
   "execution_count": 48,
   "metadata": {},
   "outputs": [],
   "source": [
    "torch.save(trained_actor, 'output/actor.pt')\n",
    "torch.save(trained_critic, 'output/critic.pt')"
   ]
  },
  {
   "cell_type": "code",
   "execution_count": 49,
   "metadata": {},
   "outputs": [
    {
     "data": {
      "text/plain": [
       "Text(0.5, 0, 'Epoch')"
      ]
     },
     "execution_count": 49,
     "metadata": {},
     "output_type": "execute_result"
    },
    {
     "data": {
      "image/png": "[encoded data removed]",
      "text/plain": [
       "<Figure size 1800x500 with 3 Axes>"
      ]
     },
     "metadata": {},
     "output_type": "display_data"
    }
   ],
   "source": [
    "# Plot training curve\n",
    "fig, ax = plt.subplots( 1, 3, figsize = (18, 5))\n",
    "ax[0].plot(loss_hist)\n",
    "ax[0].set_title(\"total loss\")\n",
    "ax[0].set_xlabel(\"Epoch\")\n",
    "ax[1].plot(actor_loss_hist)\n",
    "ax[1].set_title(\"actor loss\")\n",
    "ax[1].set_xlabel(\"Epoch\")\n",
    "ax[2].plot(critic_loss_hist)\n",
    "ax[2].set_title(\"critic loss\")\n",
    "ax[2].set_xlabel(\"Epoch\")"
   ]
  },
  {
   "cell_type": "code",
   "execution_count": 50,
   "metadata": {},
   "outputs": [
    {
     "name": "stderr",
     "output_type": "stream",
     "text": [
      "100%|██████████| 100/100 [00:30<00:00,  3.30it/s]\n"
     ]
    }
   ],
   "source": [
    "# Computing hits list for trained actor \n",
    "f_trained = lambda drug, disease: sample_path(agent, trained_actor, drug, disease)\n",
    "trained_hits_list = give_hits_list(n_samples, n_datapoints, f_trained, dataset)"
   ]
  },
  {
   "cell_type": "code",
   "execution_count": 51,
   "metadata": {},
   "outputs": [
    {
     "name": "stdout",
     "output_type": "stream",
     "text": [
      "Trained network:\n",
      "Hit@10: 0.45\n",
      "Hit@100: 0.78\n",
      "Hit@500: 0.91\n",
      "Hit@1000: 0.94\n"
     ]
    }
   ],
   "source": [
    "# Compute Hit@k for trained actor \n",
    "hitk_trained =  give_hitk(trained_hits_list, k_lst)\n",
    "print(\"Trained network:\")\n",
    "for hitk_val, k in zip(hitk_trained, k_lst): \n",
    "    print(f\"Hit@{k}: {hitk_val}\")"
   ]
  }
 ],
 "metadata": {
  "kernelspec": {
   "display_name": "env_full",
   "language": "python",
   "name": "python3"
  },
  "language_info": {
   "codemirror_mode": {
    "name": "ipython",
    "version": 3
   },
   "file_extension": ".py",
   "mimetype": "text/x-python",
   "name": "python",
   "nbconvert_exporter": "python",
   "pygments_lexer": "ipython3",
   "version": "3.11.9"
  }
 },
 "nbformat": 4,
 "nbformat_minor": 2
}
