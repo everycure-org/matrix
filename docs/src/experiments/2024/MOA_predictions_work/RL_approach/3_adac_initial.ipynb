{
 "cells": [
  {
   "cell_type": "markdown",
   "metadata": {},
   "source": [
    "# Adverserial Actor-Critic for MOA prediction - initial implementation"
   ]
  },
  {
   "cell_type": "markdown",
   "metadata": {},
   "source": [
    "#### Alexei Stepanenko"
   ]
  },
  {
   "cell_type": "markdown",
   "metadata": {},
   "source": [
    "**Aim:** Incorporate path-level and meta-paths level disciminator networks using MOA demonstration paths into the Actor-Critic framework.\n",
    "\n",
    "This will also necessarily involve incorporating self-loop action as the meta-level network takes as input a path of fixed length. \n",
    "\n",
    "**Conclusions:** We seem to have implemented a working training loop, though the training is not exactly successful. Most of the time the agent stays where it is. Possible reasons include:\n",
    "- Not trained for long enough\n",
    "- Hyperparameters not tuned\n",
    "- Entropy regularisation for the agent not implemented (i.e no exploration bonus for the agent)\n",
    "- No pre-training for the discriminator networks\n",
    "- We haven't excluded the possibility of a bug in the code (use notebook with caution!)\n",
    "\n",
    "**Decision:** After this notebook, we have decided to try a simpler supervised approach, so are not pursuing this direction further. \n"
   ]
  },
  {
   "cell_type": "code",
   "execution_count": 1,
   "metadata": {},
   "outputs": [],
   "source": [
    "import pandas as pd\n",
    "import polars as pl # much faster than pandas\n",
    "import numpy as np\n",
    "import matplotlib.pyplot as plt\n",
    "import igraph as ig\n",
    "import torch\n",
    "import torch.nn as nn\n",
    "import torch.nn.functional as F\n",
    "from sklearn.model_selection import train_test_split\n",
    "\n",
    "from time import time\n",
    "import random\n",
    "import pickle\n",
    "from tqdm import tqdm\n",
    "import sys\n",
    "import importlib"
   ]
  },
  {
   "cell_type": "markdown",
   "metadata": {},
   "source": [
    "## KG environment"
   ]
  },
  {
   "cell_type": "markdown",
   "metadata": {},
   "source": [
    "First, we set up the knowledge graph environment class which the agent interacts. \n",
    "\n",
    "A primary function of this class is to:\n",
    " - For any given node, be able to return all successor neighbour nodes and embeddings. \n",
    " - For any given node, be able to return out-going edges and one-hot embeddings for their predicates.\n",
    "\n",
    "As these operations are repeated in every training step, they must be done quickly. For instance, calling a neo4j server directly to achieve this in prohibitively slow. To achieve sufficient speed, we use the graph package igraph combined with PyTorch for dealing with the embeddings.  \n",
    "\n",
    "In addition, the class provides one-hot embeddings for the categories, as is required for the meta-path-level discriminator network."
   ]
  },
  {
   "cell_type": "code",
   "execution_count": 2,
   "metadata": {},
   "outputs": [],
   "source": [
    "SKIP = True"
   ]
  },
  {
   "cell_type": "code",
   "execution_count": 3,
   "metadata": {},
   "outputs": [],
   "source": [
    "# KG filepath\n",
    "KG_NODES_PATH = '/Users/alexei/Documents/data/KGML_xDTD_data/KG/nodes_c.tsv'\n",
    "KG_NODES_HEADER_PATH = '/Users/alexei/Documents/data/KGML_xDTD_data/KG/nodes_c_header.tsv'\n",
    "KG_EDGES_PATH = '/Users/alexei/Documents/data/KGML_xDTD_data/KG/edges_c.tsv'\n",
    "KG_EDGES_HEADER_PATH ='/Users/alexei/Documents/data/KGML_xDTD_data/KG/edges_c_header.tsv'\n",
    "# GraphSAGE embeddings filepath \n",
    "GRAPHSAGE_EMB_PATH = '/Users/alexei/Documents/data/KGML_xDTD_data/data/entity_embeddings/unsuprvised_graphsage_entity_embeddings.pkl'\n",
    "# PubMedBERT embeddings filepath \n",
    "PUBMED_EMB_PATH = '/Users/alexei/Documents/data/KGML_xDTD_data/data/entity_embeddings/embedding_biobert_namecat.pkl'"
   ]
  },
  {
   "cell_type": "code",
   "execution_count": 4,
   "metadata": {},
   "outputs": [],
   "source": [
    "class KGEnv:\n",
    "    \"\"\"\n",
    "    A class representing a knowledge graph enriched with embeddings.  \n",
    "    \"\"\"\n",
    "    def __init__(self, \n",
    "                 kg_nodes_filepath: str,\n",
    "                 kg_nodes_header_filepath: str,\n",
    "                 kg_edges_filepath: str, \n",
    "                 kg_edges_header_filepath: str, \n",
    "                 embeddings_filepath: str,\n",
    "                 id_col_name = \"id:ID\", \n",
    "                 predicate_col_name = \"predicate\",\n",
    "                 subject_col_name = \"subject\",\n",
    "                 object_col_name = \"object\"\n",
    "                 ) -> None:\n",
    "        \"\"\"Initialises instance of the KGEnv class.\n",
    "\n",
    "        Args:\n",
    "            kg_nodes_filepath: File path for tsv file containing the KG nodes.\n",
    "            kg_nodes_header_filepath: File path for tsv file containing the header for the KG nodes.\n",
    "            kg_edges_filepath: File path for tsv file containing the KG edges.\n",
    "            kg_edges_header_filepath: File path for tsv file containing the header for the KG edges.\n",
    "            embeddings_filepath: File path for a pickle file containing an KG ID to embedding vector dictionary.\n",
    "            id_col_name: Column name for KG ID in nodes tsv file.\n",
    "            predicate_col_name: Column name for KG edge predicate in edges tsv file. \n",
    "            subject_col_name: Column name for KG edge subject in edges tsv file.\n",
    "            object_col_name: Column name for KG edge object in edges tsv file.\n",
    "        \"\"\"\n",
    "        # Load nodes\n",
    "        print(\"Loading nodes...\")\n",
    "        nodes_header = pd.read_csv(kg_nodes_header_filepath, sep='\\t', header=None).iloc[0].to_list()\n",
    "        df_nodes = pl.read_csv(kg_nodes_filepath, separator='\\t', has_header= False, new_columns=nodes_header)\n",
    "        df_nodes = df_nodes.with_row_index()\n",
    "        # Load edges\n",
    "        print(\"Loading edges...\")\n",
    "        edges_header = pd.read_csv(kg_edges_header_filepath, sep='\\t', header=None).iloc[0].to_list()\n",
    "        df_edges = pl.read_csv(kg_edges_filepath, separator='\\t', has_header= False, new_columns=edges_header)\n",
    "        \n",
    "        # Generate KG ID to index dictionary for nodes\n",
    "        print(\"Generating igraph Graph instance...\")\n",
    "        self.node_id_to_index = {key: val for key, val in zip(list(df_nodes[id_col_name]), list(df_nodes[\"index\"]))}\n",
    "        # Generate edge predicate to index dictionary\n",
    "        unique_predicates = pl.DataFrame(df_edges[predicate_col_name].unique())\n",
    "        unique_predicates = unique_predicates.with_row_index()\n",
    "        self.edge_predicate_to_index = {key: val for key, val in zip(list(unique_predicates[predicate_col_name]), list(unique_predicates[\"index\"]))}\n",
    "        self.edge_predicate_to_index[\"self-loop\"] = len(self.edge_predicate_to_index) # Add self-loop label\n",
    "        self.N_edge_labels = len(self.edge_predicate_to_index)\n",
    "        # Generating igraph Graph instance\n",
    "        edges = [(self.node_id_to_index[subject], self.node_id_to_index[object]) for subject, object in zip(df_edges[subject_col_name],df_edges[object_col_name])]\n",
    "        edge_labels = {\"edge_label\":[self.edge_predicate_to_index[predicate] for predicate in df_edges[predicate_col_name]]}\n",
    "        self.graph = ig.Graph(edges=edges, directed=True, edge_attrs = edge_labels)\n",
    "\n",
    "        # List of categories and corresponding one-hot embeddings\n",
    "        category_lst = list(df_nodes[\"category\"].unique())\n",
    "        self.category_to_index = {category: index for index, category in enumerate(category_lst)}\n",
    "        self.category_embedding_matrix = torch.eye(len(category_lst))\n",
    "        # Node index to category index dictionary\n",
    "        self.node_index_to_category_index = {n : self.category_to_index[row[\"category\"]] for n, row in enumerate(df_nodes.iter_rows(named=True))}\n",
    "\n",
    "        # Remove nodes and edges from memory\n",
    "        del df_nodes\n",
    "        del df_edges\n",
    "\n",
    "        # Load embeddings\n",
    "        print(\"Loading embeddings...\")\n",
    "        with open(embeddings_filepath, 'rb') as file:\n",
    "            embedding_dict = pickle.load(file)\n",
    "        # Dimensions of embeddings matrix\n",
    "        self.N_emb = len(list(embedding_dict.values())[0])\n",
    "        self.N_items = len(self.node_id_to_index)        \n",
    "        # Generate 2d torch tensor for embeddings. If no embedding exists, we use the zero embedding\n",
    "        print(\"Generating embeddings matrix...\")\n",
    "        self.embedding_matrix = torch.zeros((self.N_items, self.N_emb))\n",
    "        for _id, n in self.node_id_to_index.items():\n",
    "            if _id in embedding_dict.keys():\n",
    "                self.embedding_matrix[n, :] = torch.tensor(embedding_dict[_id])\n",
    "        # Remove embedding dictionary from memory\n",
    "        del embedding_dict\n",
    "\n",
    "        # Matrix for one-hot edge embeddings including self-loop label\n",
    "        self._edge_embedding_matrix = torch.eye(self.N_edge_labels)\n",
    "\n",
    "        print(\"Initialisation successful.\")\n",
    "\n",
    "\n",
    "    def get_nhood_nodes(self, n: int) -> torch.Tensor:\n",
    "        \"\"\"Returns successor node indices and corresponding embeddings.\n",
    "\n",
    "        Takes into account self-loop action by appending the node itself to the list of successors. \n",
    "\n",
    "        Args:\n",
    "            n: igraph node index\n",
    "\n",
    "        Returns:\n",
    "            Tuple where the:\n",
    "                - first element is a list of indices for successor nodes. \n",
    "                - second element is a 2d torch tensor with the corresponding embeddings.\n",
    "            If there are no successor nodes, then a tuple of two None objects is returned.\n",
    "        \"\"\"\n",
    "        successor_list = self.graph.successors(n)\n",
    "        successor_list.append(n)  # Add self-loop\n",
    "        return successor_list, self.embedding_matrix[successor_list]\n",
    "\n",
    "\n",
    "    def get_out_edges(self, n: int) -> torch.Tensor:\n",
    "        \"\"\"Returns outgoing edge predicate indices and corresponding one-hot embeddings.\n",
    "\n",
    "        Takes into account self-loop action by appending the self-loop label to the list of edge predicates. \n",
    "\n",
    "        Args:\n",
    "            n: igraph node index\n",
    "\n",
    "        Returns:\n",
    "            Tuple where the:\n",
    "                - first element is a list of indices for the predicates of all out edges. \n",
    "                - second element is a 2d torch tensor with the one-hot embeddings.\n",
    "            If there are outgoing edges, then a tuple of two None objects is returned.\n",
    "        \"\"\"\n",
    "        # Get indices of out edges\n",
    "        edge_list = self.graph.vs[n].out_edges()\n",
    "        edge_labels_lst = [edge[\"edge_label\"] for edge in edge_list]\n",
    "        edge_labels_lst.append(self.edge_predicate_to_index[\"self-loop\"]) # Add self-loop label index\n",
    "        # Return corresponding one-hot embeddings\n",
    "        return edge_labels_lst, self._edge_embedding_matrix[edge_labels_lst]\n",
    "    \n",
    "    def get_path_category_embedding(self, path_categories: list[int], K: int) -> torch.Tensor:\n",
    "        \"\"\"Returns the one-hot category embedding for a given path.\n",
    "\n",
    "        NOTE: By convention, we do not include the drug in the path category embeddings. \n",
    "\n",
    "        Args:\n",
    "            path_categories: List of category indices for the nodes in the path, including the source drug. \n",
    "            K: Maximum number of edges in a path.\n",
    "            \n",
    "        Returns:\n",
    "            2D torch tensor with the one-hot category embeddings for each node in the path.    \n",
    "        \"\"\"\n",
    "        # Pad end of path with disease category \n",
    "        path_categories += [path_categories[-1] for _ in range(K + 1 - len(path_categories))] \n",
    "        # Remove source drug category\n",
    "        path_categories = path_categories[1:]\n",
    "        # Return embeddings\n",
    "        return self.category_embedding_matrix[path_categories]"
   ]
  },
  {
   "cell_type": "code",
   "execution_count": 5,
   "metadata": {},
   "outputs": [
    {
     "name": "stdout",
     "output_type": "stream",
     "text": [
      "Loading nodes...\n"
     ]
    },
    {
     "name": "stdout",
     "output_type": "stream",
     "text": [
      "Loading edges...\n",
      "Generating igraph Graph instance...\n",
      "Loading embeddings...\n",
      "Generating embeddings matrix...\n",
      "Initialisation successful.\n"
     ]
    }
   ],
   "source": [
    "# Initialise KG environment\n",
    "kg_env = KGEnv(KG_NODES_PATH, KG_NODES_HEADER_PATH, KG_EDGES_PATH, KG_EDGES_HEADER_PATH, GRAPHSAGE_EMB_PATH)"
   ]
  },
  {
   "cell_type": "code",
   "execution_count": 6,
   "metadata": {},
   "outputs": [
    {
     "data": {
      "text/plain": [
       "True"
      ]
     },
     "execution_count": 6,
     "metadata": {},
     "output_type": "execute_result"
    }
   ],
   "source": [
    "# Test: correct number of outgoing edges including self-loop\n",
    "n_edges = len(kg_env.graph.vs[1].out_edges())\n",
    "env_edges_lst, env_edges_embeddings_matrix = kg_env.get_out_edges(1)\n",
    "n_edges_2 = len(env_edges_lst)\n",
    "n_edges + 1 == n_edges_2"
   ]
  },
  {
   "cell_type": "code",
   "execution_count": 7,
   "metadata": {},
   "outputs": [
    {
     "data": {
      "text/plain": [
       "True"
      ]
     },
     "execution_count": 7,
     "metadata": {},
     "output_type": "execute_result"
    }
   ],
   "source": [
    "# Test (continued from above):  correct embeddings matrix size\n",
    "env_edges_embeddings_matrix.shape == (n_edges + 1, kg_env.N_edge_labels) "
   ]
  },
  {
   "cell_type": "code",
   "execution_count": 8,
   "metadata": {},
   "outputs": [
    {
     "data": {
      "text/plain": [
       "True"
      ]
     },
     "execution_count": 8,
     "metadata": {},
     "output_type": "execute_result"
    }
   ],
   "source": [
    "# Test: correct number of successor nodes including self-loop\n",
    "n_successors = len(kg_env.graph.successors(1))\n",
    "env_successors_lst, env_successors_embeddings_matrix = kg_env.get_nhood_nodes(1)\n",
    "n_successors_2 = len(env_successors_lst)\n",
    "n_successors + 1 == n_successors_2"
   ]
  },
  {
   "cell_type": "code",
   "execution_count": 9,
   "metadata": {},
   "outputs": [
    {
     "data": {
      "text/plain": [
       "True"
      ]
     },
     "execution_count": 9,
     "metadata": {},
     "output_type": "execute_result"
    }
   ],
   "source": [
    "# Test (continued from above):  correct embeddings matrix size\n",
    "env_successors_embeddings_matrix.shape == (n_successors + 1, kg_env.N_emb) "
   ]
  },
  {
   "cell_type": "code",
   "execution_count": 10,
   "metadata": {},
   "outputs": [
    {
     "data": {
      "text/plain": [
       "True"
      ]
     },
     "execution_count": 10,
     "metadata": {},
     "output_type": "execute_result"
    }
   ],
   "source": [
    "# Test: correct path category embedding\n",
    "K = 6\n",
    "path_categories = [0, 1, 2, 3, 4]\n",
    "path_category_embedding = kg_env.get_path_category_embedding(path_categories, K)\n",
    "path_category_embedding.shape == (K, kg_env.category_embedding_matrix.shape[0])"
   ]
  },
  {
   "cell_type": "markdown",
   "metadata": {},
   "source": [
    "## Datasets"
   ]
  },
  {
   "cell_type": "markdown",
   "metadata": {},
   "source": [
    "We use the demonstration path dataset extracted in KGML-xDTD"
   ]
  },
  {
   "cell_type": "code",
   "execution_count": 11,
   "metadata": {},
   "outputs": [],
   "source": [
    "# Max number of hops in a path\n",
    "K = 3"
   ]
  },
  {
   "cell_type": "code",
   "execution_count": 12,
   "metadata": {},
   "outputs": [],
   "source": [
    "# Ground truth positive\n",
    "df_tp = pd.read_csv('/Users/alexei/Documents/data/KGML_xDTD_data/known_pairs/tp_pairs.txt', sep='\\t')\n",
    "# Mapping to igraph indices\n",
    "df_tp_mapped = df_tp.map(lambda x: kg_env.node_id_to_index[x])\n",
    "# Convert to list of tuples\n",
    "tp_mapped_lst = [(row[\"source\"], row[\"target\"]) for _, row in df_tp_mapped.iterrows()]"
   ]
  },
  {
   "cell_type": "code",
   "execution_count": 13,
   "metadata": {},
   "outputs": [],
   "source": [
    "# KGML-xDTD demonstration paths\n",
    "with open('/Users/alexei/Documents/data/KGML_xDTD_data/MOA_paths/demonstration_paths_entity_relation_max3_filtered.pkl', 'rb') as file:\n",
    "    demonstration_paths = pickle.load(file)"
   ]
  },
  {
   "cell_type": "code",
   "execution_count": 14,
   "metadata": {},
   "outputs": [],
   "source": [
    "# Separating dictionary \n",
    "path_endpoints, all_paths =  demonstration_paths.keys(), demonstration_paths.values()"
   ]
  },
  {
   "cell_type": "code",
   "execution_count": 15,
   "metadata": {},
   "outputs": [
    {
     "name": "stdout",
     "output_type": "stream",
     "text": [
      "Number of demonstration paths in training set: 7645\n",
      "Number of demonstration paths in test set: 850\n"
     ]
    }
   ],
   "source": [
    "# Perform train-test split on path_endpoints and all_paths\n",
    "train_endpoints, test_endpoints, train_paths, test_paths = train_test_split(\n",
    "    list(path_endpoints), \n",
    "    list(all_paths), \n",
    "    test_size=0.1, \n",
    "    random_state=42\n",
    ")\n",
    "\n",
    "# Convert back to dictionaries\n",
    "train_demonstration_paths = dict(zip(train_endpoints, train_paths))\n",
    "test_demonstration_paths = dict(zip(test_endpoints, test_paths))\n",
    "\n",
    "print(f\"Number of demonstration paths in training set: {len(train_demonstration_paths)}\")\n",
    "print(f\"Number of demonstration paths in test set: {len(test_demonstration_paths)}\")\n"
   ]
  },
  {
   "cell_type": "code",
   "execution_count": 16,
   "metadata": {},
   "outputs": [
    {
     "name": "stdout",
     "output_type": "stream",
     "text": [
      "Number of flattened and shuffled train endpoints: 207808\n"
     ]
    }
   ],
   "source": [
    "# Flatten the train_endpoints list\n",
    "flattened_train_paths = [item for pair in train_paths for item in pair]\n",
    "\n",
    "# Shuffle the flattened list\n",
    "import random\n",
    "random.seed(42)  # for reproducibility\n",
    "random.shuffle(flattened_train_paths)\n",
    "\n",
    "print(f\"Number of flattened and shuffled train endpoints: {len(flattened_train_paths)}\")\n"
   ]
  },
  {
   "cell_type": "code",
   "execution_count": 17,
   "metadata": {},
   "outputs": [
    {
     "name": "stdout",
     "output_type": "stream",
     "text": [
      "Note. All paths are 3-hop:  True\n"
     ]
    }
   ],
   "source": [
    "print(\"Note. All paths are 3-hop: \", pd.Series([len(path)==7 for path in flattened_train_paths]).all())"
   ]
  },
  {
   "cell_type": "code",
   "execution_count": 18,
   "metadata": {},
   "outputs": [],
   "source": [
    "# Removing edge predicates which are represented by lists \n",
    "train_paths_nodes_only = [[node for node in path if type(node)==str] for path in flattened_train_paths]"
   ]
  },
  {
   "cell_type": "code",
   "execution_count": 19,
   "metadata": {},
   "outputs": [],
   "source": [
    "# Transforming each MOA path to form [u, e_1, ..., e_{n-1}, v]\n",
    "#   where u, v, e_j are the igraph indices of the drug, disease and node indices. \n",
    "moa_mapped_lst = []\n",
    "for moa_path in train_paths_nodes_only:\n",
    "    moa_path_mapped = [kg_env.node_id_to_index[node_id] for node_id in moa_path]\n",
    "    moa_mapped_lst.append(moa_path_mapped)"
   ]
  },
  {
   "cell_type": "code",
   "execution_count": 20,
   "metadata": {},
   "outputs": [],
   "source": [
    "# Node categories for the paths\n",
    "moa_categories_lst = [[kg_env.node_index_to_category_index[node_index] \n",
    "                      for node_index in moa_path]\n",
    "                      for moa_path in moa_mapped_lst]"
   ]
  },
  {
   "cell_type": "markdown",
   "metadata": {},
   "source": [
    "## State representation"
   ]
  },
  {
   "cell_type": "markdown",
   "metadata": {},
   "source": [
    "Let $u$ represent the source drug and the $v$ the target disease. \n",
    "\n",
    "At each time step $t$, the agent performs an action consisting in traversing from one node $e_t$ to another $e_{t+1}$ across an edge with a given label $r_{t+1}$ .  An action is represented by a tuple $a_t = (e_{t+1}, r_{t+1})$, where $r_{t+1}$ is the edge predicate index and $e_{t+1}$ is the igraph index for the new node. \n",
    "\n",
    "Future actions depends only on the current state. \n",
    "\n",
    "There are two options for representing the state. Let $K \\in \\mathbb{N}$ be a cap on the number of edges in a path. \n",
    "1. Target disease accessible:\n",
    "$$ s_t = [u, v, (e_{t-K}, r_{t-K}), ..., (e_{t-1}, r_{t-1}), (e_{t}, r_{t})]$$\n",
    "2. Target disease inaccessible:\n",
    "$$ s_t = [u, (e_{t-K}, r_{t-K}), ..., (e_{t-1}, r_{t-1}), (e_{t}, r_{t})]$$\n",
    "\n",
    "The first corresponds to the case where the agent makes MOA predictions after a drug-disease relationship has already been made. \n",
    "\n",
    "The second corresponds to the case where the agent finds make disease predictions for a given drug and simultaneously provides MOA predictions. \n",
    "\n",
    "Zhou et. al. and KGML-xDTD opt for the second option. We shall initially focus on the first option for the $u \\rightarrow v$ path-finding problem. \n",
    "\n",
    "**Note:** If $t \\leq 0$, we replace $(e_{t}, r_{t})$ by a dummy variable $(-1,-1)$. For instance, in the first option above the initial state is\n",
    "$$s_0 = (u, v, (-1,-1),...,(-1,-1)).$$\n",
    "\n",
    "*Remark.* We could in principle let the maximum number of edges in a path be greater than the history included in the state, however, we do not do this for now. \n",
    "\n",
    "The path-level discriminator has access to only a reduced version of the state, \n",
    "$$ \\hat{s}_t = [u, e_{t-K}, ..., e_{t-1}, e_{t}]$$"
   ]
  },
  {
   "cell_type": "code",
   "execution_count": 21,
   "metadata": {},
   "outputs": [],
   "source": [
    "class Agent:\n",
    "    \"\"\"A class representing a reinforcement learning agent in a knowledge graph environment.  \n",
    "    \"\"\"\n",
    "    def __init__(self, K: int, kg_env: KGEnv) -> None:\n",
    "        \"\"\"Initialises Agent instance.\n",
    "\n",
    "        Args:\n",
    "            K: Maximum allowed number of edges in a path\n",
    "            kg_env: Instance of KGEnv \n",
    "        \"\"\"\n",
    "        self.K = K\n",
    "        self.kg_env = kg_env\n",
    "        # Initiate time\n",
    "        self.time = 0\n",
    "        # Initialise empty state attributes\n",
    "        self.reset()\n",
    "\n",
    "    def set_source_target(self, drug : int, disease :int) -> None:\n",
    "        \"\"\"Sets source drug and target diseases. Resets state to canonical initial state.  \n",
    "\n",
    "        Args:\n",
    "            drug: igraph node index for the source drug\n",
    "            disease: igraph node index for the target drug\n",
    "        \"\"\"\n",
    "        # Reset time and termination status\n",
    "        self.time = 0\n",
    "\n",
    "        # Set drug and disease indices\n",
    "        self.source_drug = drug\n",
    "        self.target_disease = disease\n",
    "        \n",
    "        # Set drug and disease embeddings\n",
    "        self.source_drug_embedding = self.kg_env.embedding_matrix[drug]\n",
    "        self.target_disease_embedding = self.kg_env.embedding_matrix[disease]\n",
    "\n",
    "        # Set initial state\n",
    "        self.current_state = [drug, disease] + [(-1,-1) for _ in range(self.K)]\n",
    "        self.current_node = drug\n",
    "        # Set initial state embedding matrix\n",
    "        embeddings_tmp = torch.zeros((self.K + 2, self.kg_env.N_emb + self.kg_env.N_edge_labels))\n",
    "        embeddings_tmp[0][:self.kg_env.N_emb] = self.source_drug_embedding\n",
    "        embeddings_tmp[1][:self.kg_env.N_emb] = self.target_disease_embedding\n",
    "        self.current_state_embedding = embeddings_tmp\n",
    "        # Set reduced state embedding\n",
    "        self._set_reduced_state_embedding()\n",
    "\n",
    "        # Compute list of next possible actions\n",
    "        self.compute_possible_next_actions()\n",
    "\n",
    "    def reset(self) -> None:\n",
    "        \"\"\"Resets time and empties state attributes. \n",
    "        \"\"\"\n",
    "        self.time = 0\n",
    "        self.source_drug = None\n",
    "        self.source_drug_embedding = None\n",
    "        self.target_disease = None\n",
    "        self.target_disease_embedding = None\n",
    "        self.current_state = None\n",
    "        self.current_state_embedding = None\n",
    "        self.reduced_state_embedding = None\n",
    "\n",
    "    def compute_possible_next_actions(self) -> None:\n",
    "        \"\"\"Sets attributes containing list of next possible actions and corresponding embeddings. \n",
    "        \"\"\"\n",
    "        # Call KG environment to get nhood information\n",
    "        successor_list, successor_embeddings_matrix = self.kg_env.get_nhood_nodes(self.current_node)\n",
    "        edge_labels_list, edge_labels_embeddings_matrix = self.kg_env.get_out_edges(self.current_node)\n",
    "        # Set attributes\n",
    "        self.all_actions =  [\n",
    "            (node_index, predicate_index) for node_index, predicate_index in zip(successor_list, edge_labels_list)\n",
    "        ]\n",
    "        self.all_actions_embeddings = torch.cat((successor_embeddings_matrix, edge_labels_embeddings_matrix), 1)\n",
    "\n",
    "    def select_next_action(self, n_next_action: str):\n",
    "        \"\"\"Selects an admitted action and updates the agent.\n",
    "\n",
    "        Args:\n",
    "            n_next_action: Index of self.all_actions corresponding to selected next action\n",
    "        \"\"\"\n",
    "        if self.time == self.K:\n",
    "            print(\"Maximum path length reached.\")\n",
    "            return\n",
    "\n",
    "        # Update current state and current node\n",
    "        next_action = self.all_actions[n_next_action]\n",
    "        self.current_node = next_action[0]\n",
    "        self.current_state[2:-1] = self.current_state[3:]\n",
    "        self.current_state[-1] = next_action\n",
    "\n",
    "        # Update current state embedding \n",
    "        next_action_embedding = self.all_actions_embeddings[n_next_action]\n",
    "        next_state_embedding = self.current_state_embedding.clone()\n",
    "        next_state_embedding[2:-1] = self.current_state_embedding[3:]\n",
    "        next_state_embedding[-1] = next_action_embedding\n",
    "        self.current_state_embedding = next_state_embedding\n",
    "        # Update reduced state embedding\n",
    "        self._set_reduced_state_embedding()\n",
    "\n",
    "        # Update time \n",
    "        self.time += 1\n",
    "\n",
    "        # Update list of next possible actions\n",
    "        self.compute_possible_next_actions()\n",
    "\n",
    "    def _set_reduced_state_embedding(self) -> None:\n",
    "        \"\"\"Sets the reduced state embedding. \n",
    "        \"\"\"\n",
    "        reduced_state_embedding = self.current_state_embedding[:,:self.kg_env.N_emb] # Removing edge embeddings\n",
    "        a = np.array(range(len(reduced_state_embedding)))\n",
    "        reduced_state_embedding = reduced_state_embedding[a != 1] # Removing disease embedding\n",
    "        self.reduced_state_embedding = reduced_state_embedding\n",
    "\n"
   ]
  },
  {
   "cell_type": "code",
   "execution_count": 22,
   "metadata": {},
   "outputs": [
    {
     "name": "stdout",
     "output_type": "stream",
     "text": [
      "[10, 42, (-1, -1), (-1, -1), (-1, -1)]\n",
      "tensor([[-0.0173,  0.0888,  0.0172,  ...,  0.0000,  0.0000,  0.0000],\n",
      "        [ 0.0049,  0.0685,  0.0038,  ...,  0.0000,  0.0000,  0.0000],\n",
      "        [ 0.0000,  0.0000,  0.0000,  ...,  0.0000,  0.0000,  0.0000],\n",
      "        [ 0.0000,  0.0000,  0.0000,  ...,  0.0000,  0.0000,  0.0000],\n",
      "        [ 0.0000,  0.0000,  0.0000,  ...,  0.0000,  0.0000,  0.0000]])\n",
      "tensor([[-0.0173,  0.0888,  0.0172,  ...,  0.0026, -0.0023, -0.0060],\n",
      "        [ 0.0000,  0.0000,  0.0000,  ...,  0.0000,  0.0000,  0.0000],\n",
      "        [ 0.0000,  0.0000,  0.0000,  ...,  0.0000,  0.0000,  0.0000],\n",
      "        [ 0.0000,  0.0000,  0.0000,  ...,  0.0000,  0.0000,  0.0000]])\n"
     ]
    }
   ],
   "source": [
    "# Test: initialisation and state representation\n",
    "drug, disease = 10, 42\n",
    "agent = Agent(K, kg_env)\n",
    "agent.set_source_target(drug,disease)\n",
    "print(agent.current_state)\n",
    "print(agent.current_state_embedding)\n",
    "print(agent.reduced_state_embedding)"
   ]
  },
  {
   "cell_type": "code",
   "execution_count": 23,
   "metadata": {},
   "outputs": [
    {
     "name": "stdout",
     "output_type": "stream",
     "text": [
      "[(14984, 60), (16202, 60), (17456, 60), (17463, 60), (17935, 60), (17939, 60), (17945, 60), (17954, 60), (17969, 60), (17978, 60), (17979, 60), (18041, 60), (19175, 60), (19674, 60), (19825, 60), (20694, 60), (27303, 60), (27304, 60), (27326, 60), (27328, 60), (27330, 60), (27510, 60), (27987, 60), (28111, 60), (28784, 60), (28842, 60), (28846, 60), (29127, 60), (29711, 60), (29938, 60), (30182, 60), (30620, 60), (30661, 60), (32704, 60), (34601, 60), (35288, 60), (37142, 60), (37171, 60), (37541, 60), (37664, 60), (39829, 60), (40214, 66), (40319, 60), (43100, 60), (43139, 60), (43310, 60), (46065, 60), (46152, 60), (48768, 60), (49012, 60), (50255, 60), (50266, 60), (53257, 34), (55493, 60), (55819, 60), (58944, 60), (59556, 60), (61908, 60), (63385, 60), (64529, 60), (66616, 60), (71524, 60), (72277, 60), (73019, 60), (73903, 60), (79219, 60), (79864, 60), (81316, 60), (81336, 60), (81508, 60), (82505, 60), (84827, 60), (86269, 60), (86545, 60), (87150, 60), (88193, 60), (90728, 60), (95502, 60), (95743, 60), (97524, 60), (98175, 60), (98176, 60), (98312, 60), (103225, 60), (106243, 60), (109757, 60), (109892, 60), (109894, 60), (109903, 60), (110372, 60), (110390, 60), (110914, 60), (111740, 60), (112767, 60), (112768, 60), (114208, 60), (115094, 60), (115170, 60), (115801, 60), (115804, 60), (116119, 60), (116430, 60), (116431, 60), (116684, 60), (116736, 60), (116746, 60), (116753, 60), (116756, 60), (116767, 60), (117029, 60), (123583, 60), (141092, 33), (158226, 66), (180671, 33), (180675, 32), (180675, 33), (181698, 32), (181698, 66), (205385, 32), (205385, 66), (205786, 66), (233514, 66), (233520, 66), (233539, 66), (233576, 66), (233692, 66), (233700, 66), (233838, 66), (233972, 66), (234320, 34), (235132, 66), (235506, 34), (235551, 66), (235645, 34), (235682, 34), (235685, 34), (236013, 34), (236106, 34), (236739, 66), (236934, 34), (237019, 34), (237179, 34), (237181, 34), (237201, 34), (237262, 34), (237346, 66), (237394, 34), (237407, 66), (237413, 34), (237561, 34), (237608, 34), (237748, 34), (237759, 41), (237778, 41), (237778, 66), (237821, 34), (237939, 66), (238228, 34), (238251, 66), (238267, 66), (238281, 66), (238318, 66), (238318, 41), (238389, 66), (238678, 41), (238700, 41), (239229, 66), (239348, 66), (239380, 34), (239523, 34), (239589, 34), (239592, 41), (239597, 41), (239597, 66), (239600, 34), (239627, 34), (239647, 66), (239714, 66), (239715, 34), (239864, 34), (239868, 32), (239868, 41), (239868, 66), (239869, 66), (240066, 34), (240068, 66), (240069, 41), (240069, 66), (240244, 66), (240269, 34), (240305, 34), (240316, 66), (240361, 66), (240361, 41), (240383, 66), (240388, 66), (240460, 34), (240462, 34), (240470, 34), (240473, 34), (240475, 34), (240492, 66), (240498, 66), (240575, 34), (240593, 34), (240616, 41), (240630, 66), (240635, 66), (240678, 34), (240680, 34), (240716, 34), (240785, 66), (240793, 66), (240815, 41), (240815, 66), (240943, 34), (240993, 66), (241020, 66), (241065, 66), (241081, 34), (241338, 66), (241360, 66), (241398, 34), (241425, 66), (241459, 34), (241685, 66), (241713, 66), (241713, 41), (241767, 66), (241921, 34), (241968, 66), (242128, 34), (242191, 66), (242248, 66), (242248, 41), (242398, 34), (242440, 41), (242725, 66), (242760, 66), (242774, 34), (242928, 34), (242931, 34), (244060, 41), (244060, 66), (244185, 34), (244992, 41), (245915, 34), (245938, 34), (246424, 34), (246514, 34), (246556, 32), (246634, 34), (246898, 34), (247906, 34), (248011, 34), (248017, 34), (249695, 34), (250176, 41), (250342, 34), (250384, 34), (250645, 34), (250648, 66), (250658, 34), (250660, 34), (250668, 34), (250676, 34), (250759, 34), (250769, 34), (251281, 34), (251377, 43), (251997, 34), (252129, 5), (252131, 34), (252168, 34), (252172, 34), (252750, 32), (252750, 66), (253386, 34), (253548, 34), (253588, 34), (253590, 34), (253786, 66), (254945, 34), (255698, 34), (256110, 34), (256117, 34), (258168, 34), (258228, 34), (258230, 34), (258373, 5), (259137, 34), (259912, 41), (259912, 43), (259912, 66), (261644, 66), (261957, 34), (263679, 66), (267027, 60), (267703, 41), (267703, 66), (269445, 33), (269781, 43), (269781, 66), (270991, 33), (272320, 60), (275545, 60), (277291, 66), (280994, 60), (281194, 34), (282917, 60), (283264, 60), (283824, 66), (287915, 66), (287915, 32), (288413, 66), (288413, 43), (289256, 41), (289256, 66), (289256, 43), (290193, 66), (290193, 43), (292649, 66), (295223, 34), (299405, 34), (299530, 34), (299554, 41), (299637, 66), (299693, 66), (299728, 32), (299728, 66), (299744, 66), (299744, 43), (299754, 34), (302838, 41), (309366, 66), (314208, 34), (320131, 66), (326604, 32), (331771, 66), (336364, 34), (336390, 34), (336515, 34), (336854, 66), (337138, 34), (337612, 34), (354190, 66), (354385, 34), (354403, 34), (355214, 34), (364980, 66), (364980, 41), (373798, 34), (385938, 34), (404087, 66), (410026, 66), (411791, 66), (428787, 66), (435802, 34), (439323, 66), (444107, 34), (468962, 34), (478283, 34), (479551, 34), (483124, 66), (491602, 34), (540121, 66), (547862, 66), (2347345, 34), (2349795, 66), (2361228, 60), (2369052, 34), (2373311, 34), (2373898, 60), (2379135, 67), (2381850, 66), (2383008, 34), (2386558, 60), (2392301, 43), (2393451, 60), (2400067, 66), (2404718, 34), (2431921, 34), (2433251, 34), (2442783, 66), (2673932, 66), (2676201, 34), (2697738, 34), (2700635, 34), (2700636, 34), (2943827, 60), (2945260, 60), (2945273, 60), (2945693, 60), (2945762, 34), (2945764, 34), (2945943, 60), (2946822, 34), (2947368, 60), (2947387, 60), (2948906, 34), (2948933, 34), (2951286, 60), (2953029, 66), (2953049, 34), (2953707, 60), (2954626, 34), (2958463, 34), (2960021, 66), (2967442, 34), (2969573, 34), (2972696, 60), (2972748, 60), (2972766, 60), (2973723, 34), (2974833, 60), (2977492, 34), (2977976, 60), (10, 74)]\n",
      "tensor([[ 0.0345,  0.0680,  0.0141,  ...,  0.0000,  0.0000,  0.0000],\n",
      "        [ 0.0153,  0.0648, -0.0212,  ...,  0.0000,  0.0000,  0.0000],\n",
      "        [ 0.0130,  0.0731,  0.0135,  ...,  0.0000,  0.0000,  0.0000],\n",
      "        ...,\n",
      "        [ 0.0156,  0.0186, -0.0237,  ...,  0.0000,  0.0000,  0.0000],\n",
      "        [ 0.0053,  0.0573,  0.0569,  ...,  0.0000,  0.0000,  0.0000],\n",
      "        [-0.0173,  0.0888,  0.0172,  ...,  0.0000,  0.0000,  1.0000]])\n"
     ]
    }
   ],
   "source": [
    "# Test: possible next actions\n",
    "agent.compute_possible_next_actions()\n",
    "print(agent.all_actions)\n",
    "print(agent.all_actions_embeddings)"
   ]
  },
  {
   "cell_type": "code",
   "execution_count": 24,
   "metadata": {},
   "outputs": [
    {
     "name": "stdout",
     "output_type": "stream",
     "text": [
      "[10, 42, (-1, -1), (-1, -1), (-1, -1)]\n",
      "tensor([[-0.0173,  0.0888,  0.0172,  ...,  0.0000,  0.0000,  0.0000],\n",
      "        [ 0.0049,  0.0685,  0.0038,  ...,  0.0000,  0.0000,  0.0000],\n",
      "        [ 0.0000,  0.0000,  0.0000,  ...,  0.0000,  0.0000,  0.0000],\n",
      "        [ 0.0000,  0.0000,  0.0000,  ...,  0.0000,  0.0000,  0.0000],\n",
      "        [ 0.0000,  0.0000,  0.0000,  ...,  0.0000,  0.0000,  0.0000]])\n",
      "tensor([[-0.0173,  0.0888,  0.0172,  ...,  0.0026, -0.0023, -0.0060],\n",
      "        [ 0.0000,  0.0000,  0.0000,  ...,  0.0000,  0.0000,  0.0000],\n",
      "        [ 0.0000,  0.0000,  0.0000,  ...,  0.0000,  0.0000,  0.0000],\n",
      "        [ 0.0000,  0.0000,  0.0000,  ...,  0.0000,  0.0000,  0.0000]])\n",
      "[10, 42, (-1, -1), (-1, -1), (14984, 60)]\n",
      "tensor([[-0.0173,  0.0888,  0.0172,  ...,  0.0000,  0.0000,  0.0000],\n",
      "        [ 0.0049,  0.0685,  0.0038,  ...,  0.0000,  0.0000,  0.0000],\n",
      "        [ 0.0000,  0.0000,  0.0000,  ...,  0.0000,  0.0000,  0.0000],\n",
      "        [ 0.0000,  0.0000,  0.0000,  ...,  0.0000,  0.0000,  0.0000],\n",
      "        [ 0.0345,  0.0680,  0.0141,  ...,  0.0000,  0.0000,  0.0000]])\n",
      "tensor([[-0.0173,  0.0888,  0.0172,  ...,  0.0026, -0.0023, -0.0060],\n",
      "        [ 0.0000,  0.0000,  0.0000,  ...,  0.0000,  0.0000,  0.0000],\n",
      "        [ 0.0000,  0.0000,  0.0000,  ...,  0.0000,  0.0000,  0.0000],\n",
      "        [ 0.0345,  0.0680,  0.0141,  ..., -0.0131,  0.0323, -0.0580]])\n",
      "[10, 42, (-1, -1), (14984, 60), (17223, 34)]\n",
      "tensor([[-0.0173,  0.0888,  0.0172,  ...,  0.0000,  0.0000,  0.0000],\n",
      "        [ 0.0049,  0.0685,  0.0038,  ...,  0.0000,  0.0000,  0.0000],\n",
      "        [ 0.0000,  0.0000,  0.0000,  ...,  0.0000,  0.0000,  0.0000],\n",
      "        [ 0.0345,  0.0680,  0.0141,  ...,  0.0000,  0.0000,  0.0000],\n",
      "        [ 0.0466, -0.0033,  0.0358,  ...,  0.0000,  0.0000,  0.0000]])\n",
      "tensor([[-0.0173,  0.0888,  0.0172,  ...,  0.0026, -0.0023, -0.0060],\n",
      "        [ 0.0000,  0.0000,  0.0000,  ...,  0.0000,  0.0000,  0.0000],\n",
      "        [ 0.0345,  0.0680,  0.0141,  ..., -0.0131,  0.0323, -0.0580],\n",
      "        [ 0.0466, -0.0033,  0.0358,  ..., -0.0297,  0.0276, -0.0569]])\n"
     ]
    }
   ],
   "source": [
    "# Test: selecting next action\n",
    "drug, disease = 10, 42\n",
    "agent = Agent(K, kg_env)\n",
    "agent.set_source_target(drug,disease)\n",
    "print(agent.current_state)\n",
    "print(agent.current_state_embedding)\n",
    "print(agent.reduced_state_embedding)\n",
    "agent.select_next_action(0)\n",
    "print(agent.current_state)\n",
    "print(agent.current_state_embedding)\n",
    "print(agent.reduced_state_embedding)\n",
    "agent.select_next_action(0)\n",
    "print(agent.current_state)\n",
    "print(agent.current_state_embedding)\n",
    "print(agent.reduced_state_embedding)\n",
    "agent.select_next_action(0)"
   ]
  },
  {
   "cell_type": "code",
   "execution_count": 25,
   "metadata": {},
   "outputs": [
    {
     "name": "stdout",
     "output_type": "stream",
     "text": [
      "[10, 42, (-1, -1), (-1, -1), (-1, -1)]\n",
      "tensor([[-0.0173,  0.0888,  0.0172,  ...,  0.0000,  0.0000,  0.0000],\n",
      "        [ 0.0049,  0.0685,  0.0038,  ...,  0.0000,  0.0000,  0.0000],\n",
      "        [ 0.0000,  0.0000,  0.0000,  ...,  0.0000,  0.0000,  0.0000],\n",
      "        [ 0.0000,  0.0000,  0.0000,  ...,  0.0000,  0.0000,  0.0000],\n",
      "        [ 0.0000,  0.0000,  0.0000,  ...,  0.0000,  0.0000,  0.0000]])\n",
      "[10, 42, (-1, -1), (-1, -1), (10, 74)]\n",
      "tensor([[-0.0173,  0.0888,  0.0172,  ...,  0.0000,  0.0000,  0.0000],\n",
      "        [ 0.0049,  0.0685,  0.0038,  ...,  0.0000,  0.0000,  0.0000],\n",
      "        [ 0.0000,  0.0000,  0.0000,  ...,  0.0000,  0.0000,  0.0000],\n",
      "        [ 0.0000,  0.0000,  0.0000,  ...,  0.0000,  0.0000,  0.0000],\n",
      "        [-0.0173,  0.0888,  0.0172,  ...,  0.0000,  0.0000,  1.0000]])\n",
      "[10, 42, (-1, -1), (10, 74), (10, 74)]\n",
      "tensor([[-0.0173,  0.0888,  0.0172,  ...,  0.0000,  0.0000,  0.0000],\n",
      "        [ 0.0049,  0.0685,  0.0038,  ...,  0.0000,  0.0000,  0.0000],\n",
      "        [ 0.0000,  0.0000,  0.0000,  ...,  0.0000,  0.0000,  0.0000],\n",
      "        [-0.0173,  0.0888,  0.0172,  ...,  0.0000,  0.0000,  1.0000],\n",
      "        [-0.0173,  0.0888,  0.0172,  ...,  0.0000,  0.0000,  1.0000]])\n"
     ]
    }
   ],
   "source": [
    "# Test: self-loop action\n",
    "drug, disease = 10, 42\n",
    "agent = Agent(K, kg_env)\n",
    "agent.set_source_target(drug,disease)\n",
    "print(agent.current_state)\n",
    "print(agent.current_state_embedding)\n",
    "agent.select_next_action(-1)\n",
    "print(agent.current_state)\n",
    "print(agent.current_state_embedding)\n",
    "agent.select_next_action(-1)\n",
    "print(agent.current_state)\n",
    "print(agent.current_state_embedding)"
   ]
  },
  {
   "cell_type": "code",
   "execution_count": 26,
   "metadata": {},
   "outputs": [],
   "source": [
    "class DemonstrationAgent:\n",
    "    \"\"\"A class for keeping track  of the reduced state embedding of demonstration paths. \n",
    "    \"\"\"\n",
    "    def __init__(self, K: int, kg_env: KGEnv, moa_path: list[int]) -> None:\n",
    "        \"\"\"Initialises DemonstrationAgent instance. \n",
    "\n",
    "        Args:\n",
    "            K: Maximum allowed number of edges in a path\n",
    "            kg_env: Instance of KGEnv\n",
    "            moa_path: List of igraph node indices representing a MOA demonstration path\n",
    "        \"\"\"\n",
    "        self.K = K\n",
    "        self.kg_env = kg_env\n",
    "        self.moa_path = moa_path\n",
    "        if len(self.moa_path) > self.K + 1:\n",
    "            raise ValueError(\"Path length exceeds maximum allowed path length.\")\n",
    "        # Padding the path with the last node\n",
    "        self.moa_path_pad = self.moa_path + [self.moa_path[-1]] * (self.K + 1- len(self.moa_path)) \n",
    "        # Initialise reduced state embedding\n",
    "        self.reduced_state_embedding = torch.zeros((self.K + 1, self.kg_env.N_emb))\n",
    "        self.reduced_state_embedding[0][:self.kg_env.N_emb] = self.kg_env.embedding_matrix[moa_path[0]]\n",
    "        # Initialise next node embedding\n",
    "        self.next_node_embedding = self.kg_env.embedding_matrix[self.moa_path_pad[1]]\n",
    "        # Initialise time\n",
    "        self.time = 0\n",
    "        \n",
    "    def update(self) -> None:\n",
    "        \"\"\"Updates the reduced state embedding. \n",
    "        \"\"\"\n",
    "        if self.time == self.K:\n",
    "            return \n",
    "        # Update time\n",
    "        self.time += 1\n",
    "        # Update reduced state embedding\n",
    "        next_reduced_embedding = torch.zeros_like(self.reduced_state_embedding)\n",
    "        next_reduced_embedding[0] = self.reduced_state_embedding[0] # Drug embedding\n",
    "        next_reduced_embedding[1:-1] = self.reduced_state_embedding[2:]\n",
    "        next_reduced_embedding[-1] = self.next_node_embedding #self.kg_env.embedding_matrix[self.moa_path_pad[self.time]]\n",
    "        self.reduced_state_embedding = next_reduced_embedding\n",
    "        # Update next node embedding\n",
    "        if self.time < self.K:\n",
    "            self.next_node_embedding = self.kg_env.embedding_matrix[self.moa_path_pad[self.time+1]]\n",
    "        \n",
    "        \n",
    "        "
   ]
  },
  {
   "cell_type": "code",
   "execution_count": 27,
   "metadata": {},
   "outputs": [
    {
     "name": "stdout",
     "output_type": "stream",
     "text": [
      "[10, 42, 10, 10, 10, 10]\n"
     ]
    }
   ],
   "source": [
    "# Test\n",
    "_K = 5\n",
    "moa_path = [10, 42, 10]\n",
    "dem_agent = DemonstrationAgent(_K, kg_env, moa_path)\n",
    "print(dem_agent.moa_path_pad)"
   ]
  },
  {
   "cell_type": "code",
   "execution_count": 28,
   "metadata": {},
   "outputs": [
    {
     "name": "stdout",
     "output_type": "stream",
     "text": [
      "0\n",
      "tensor([[-0.0173,  0.0888,  0.0172,  ...,  0.0026, -0.0023, -0.0060],\n",
      "        [ 0.0000,  0.0000,  0.0000,  ...,  0.0000,  0.0000,  0.0000],\n",
      "        [ 0.0000,  0.0000,  0.0000,  ...,  0.0000,  0.0000,  0.0000],\n",
      "        [ 0.0000,  0.0000,  0.0000,  ...,  0.0000,  0.0000,  0.0000]])\n",
      "1\n",
      "tensor([[-0.0173,  0.0888,  0.0172,  ...,  0.0026, -0.0023, -0.0060],\n",
      "        [ 0.0000,  0.0000,  0.0000,  ...,  0.0000,  0.0000,  0.0000],\n",
      "        [ 0.0000,  0.0000,  0.0000,  ...,  0.0000,  0.0000,  0.0000],\n",
      "        [ 0.0049,  0.0685,  0.0038,  ..., -0.0725, -0.0132,  0.0248]])\n",
      "2\n",
      "tensor([[-0.0173,  0.0888,  0.0172,  ...,  0.0026, -0.0023, -0.0060],\n",
      "        [ 0.0000,  0.0000,  0.0000,  ...,  0.0000,  0.0000,  0.0000],\n",
      "        [ 0.0049,  0.0685,  0.0038,  ..., -0.0725, -0.0132,  0.0248],\n",
      "        [-0.0173,  0.0888,  0.0172,  ...,  0.0026, -0.0023, -0.0060]])\n",
      "3\n",
      "tensor([[-0.0173,  0.0888,  0.0172,  ...,  0.0026, -0.0023, -0.0060],\n",
      "        [ 0.0049,  0.0685,  0.0038,  ..., -0.0725, -0.0132,  0.0248],\n",
      "        [-0.0173,  0.0888,  0.0172,  ...,  0.0026, -0.0023, -0.0060],\n",
      "        [ 0.0049,  0.0685,  0.0038,  ..., -0.0725, -0.0132,  0.0248]])\n",
      "3\n",
      "tensor([[-0.0173,  0.0888,  0.0172,  ...,  0.0026, -0.0023, -0.0060],\n",
      "        [ 0.0049,  0.0685,  0.0038,  ..., -0.0725, -0.0132,  0.0248],\n",
      "        [-0.0173,  0.0888,  0.0172,  ...,  0.0026, -0.0023, -0.0060],\n",
      "        [ 0.0049,  0.0685,  0.0038,  ..., -0.0725, -0.0132,  0.0248]])\n"
     ]
    }
   ],
   "source": [
    "# Test\n",
    "moa_path = [10, 42, 10, 42]\n",
    "dem_agent = DemonstrationAgent(K, kg_env, moa_path)\n",
    "print(dem_agent.time)\n",
    "print(dem_agent.reduced_state_embedding)\n",
    "dem_agent.update()\n",
    "print(dem_agent.time)\n",
    "print(dem_agent.reduced_state_embedding)\n",
    "dem_agent.update()\n",
    "print(dem_agent.time)\n",
    "print(dem_agent.reduced_state_embedding)\n",
    "dem_agent.update()\n",
    "print(dem_agent.time)\n",
    "print(dem_agent.reduced_state_embedding)\n",
    "dem_agent.update()\n",
    "print(dem_agent.time)\n",
    "print(dem_agent.reduced_state_embedding)"
   ]
  },
  {
   "cell_type": "code",
   "execution_count": 29,
   "metadata": {},
   "outputs": [
    {
     "data": {
      "text/plain": [
       "True"
      ]
     },
     "execution_count": 29,
     "metadata": {},
     "output_type": "execute_result"
    }
   ],
   "source": [
    "# Test: reduced state embedding shape\n",
    "dem_agent.reduced_state_embedding.shape == (K + 1, dem_agent.kg_env.N_emb)"
   ]
  },
  {
   "cell_type": "markdown",
   "metadata": {},
   "source": [
    "## Actor network"
   ]
  },
  {
   "cell_type": "code",
   "execution_count": 30,
   "metadata": {},
   "outputs": [],
   "source": [
    "class ActorFCNN(nn.Module):\n",
    "    \"\"\"Pytorch module representing the actor network. \n",
    "\n",
    "    Architecture is a fully connected neural network. \n",
    "\n",
    "    TODO: Remove LazyLinear in prod code (feature still under development)\n",
    "    \"\"\"\n",
    "    def __init__(self, \n",
    "                 neuron_lst : list[int],\n",
    "                 N_emb : int, \n",
    "                 N_edge_labels: int,\n",
    "                 activation_fn = nn.ReLU,\n",
    "                 ) -> None:\n",
    "        \"\"\"Initialises instance of ActorFCNN. \n",
    "\n",
    "        Args:\n",
    "            neuron_lst: A list containing the number of neurons in each hidden layer. \n",
    "                The length of the list determines the number of hidden layers. \n",
    "            N_emb: Length of node embedding vectors. \n",
    "            N_edge_labels: Length of edge predicate embedding vectors\n",
    "            activation_fn: Activation function for all hidden layers. Defaults to nn.ReLU.\n",
    "        \"\"\"\n",
    "        super().__init__()\n",
    "        # Dimension of embedding of a single action \n",
    "        action_emb_dim = N_emb + N_edge_labels\n",
    "        # Construct main stack \n",
    "        self.main_stack = nn.Sequential()\n",
    "        for idx, n in enumerate(neuron_lst):\n",
    "            self.main_stack.add_module(f'Linear {idx + 1}', nn.LazyLinear(n))\n",
    "            self.main_stack.add_module(f'Activation {idx + 1}', activation_fn())\n",
    "        self.main_stack.add_module('Linear output', nn.LazyLinear(action_emb_dim))\n",
    "\n",
    "    def forward(self, state_embedding: torch.Tensor, all_actions_embeddings: torch.Tensor): \n",
    "        \"\"\"Performs forward propagation. \n",
    "\n",
    "        Args:\n",
    "            state_embedding: 2d torch tensor representing current state embedding \n",
    "            all_actions_embeddings: 2d torch tensor embeddings for all possible next actions\n",
    "        \"\"\"\n",
    "        x = state_embedding.flatten()\n",
    "        z = self.main_stack(x)\n",
    "        return F.softmax(all_actions_embeddings @ z, dim = 0)        \n",
    "        "
   ]
  },
  {
   "cell_type": "code",
   "execution_count": 31,
   "metadata": {},
   "outputs": [
    {
     "name": "stdout",
     "output_type": "stream",
     "text": [
      "tensor([0.0026, 0.0026, 0.0026, 0.0025, 0.0024, 0.0024, 0.0025, 0.0028, 0.0028,\n",
      "        0.0025, 0.0026, 0.0025, 0.0025, 0.0024, 0.0025, 0.0025, 0.0024, 0.0026,\n",
      "        0.0025, 0.0026, 0.0023, 0.0027, 0.0025, 0.0025, 0.0027, 0.0025, 0.0027,\n",
      "        0.0024, 0.0026, 0.0024, 0.0027, 0.0027, 0.0024, 0.0024, 0.0024, 0.0027,\n",
      "        0.0026, 0.0024, 0.0024, 0.0028, 0.0024, 0.0021, 0.0023, 0.0023, 0.0025,\n",
      "        0.0023, 0.0020, 0.0027, 0.0027, 0.0025, 0.0023, 0.0022, 0.0024, 0.0026,\n",
      "        0.0024, 0.0022, 0.0024, 0.0029, 0.0024, 0.0024, 0.0024, 0.0026, 0.0024,\n",
      "        0.0025, 0.0023, 0.0025, 0.0024, 0.0022, 0.0026, 0.0023, 0.0025, 0.0026,\n",
      "        0.0028, 0.0026, 0.0025, 0.0025, 0.0024, 0.0025, 0.0024, 0.0025, 0.0026,\n",
      "        0.0025, 0.0025, 0.0023, 0.0025, 0.0024, 0.0025, 0.0026, 0.0026, 0.0024,\n",
      "        0.0025, 0.0026, 0.0025, 0.0025, 0.0024, 0.0024, 0.0025, 0.0026, 0.0026,\n",
      "        0.0027, 0.0028, 0.0024, 0.0025, 0.0026, 0.0027, 0.0026, 0.0023, 0.0022,\n",
      "        0.0024, 0.0027, 0.0023, 0.0030, 0.0022, 0.0027, 0.0025, 0.0029, 0.0025,\n",
      "        0.0021, 0.0026, 0.0022, 0.0021, 0.0021, 0.0022, 0.0022, 0.0022, 0.0023,\n",
      "        0.0022, 0.0022, 0.0023, 0.0020, 0.0023, 0.0026, 0.0021, 0.0024, 0.0021,\n",
      "        0.0022, 0.0024, 0.0023, 0.0021, 0.0020, 0.0026, 0.0021, 0.0027, 0.0025,\n",
      "        0.0026, 0.0021, 0.0024, 0.0022, 0.0022, 0.0024, 0.0024, 0.0024, 0.0023,\n",
      "        0.0024, 0.0023, 0.0023, 0.0022, 0.0024, 0.0021, 0.0022, 0.0022, 0.0021,\n",
      "        0.0022, 0.0021, 0.0021, 0.0022, 0.0022, 0.0021, 0.0024, 0.0025, 0.0022,\n",
      "        0.0024, 0.0024, 0.0023, 0.0025, 0.0024, 0.0023, 0.0021, 0.0023, 0.0023,\n",
      "        0.0027, 0.0023, 0.0022, 0.0022, 0.0025, 0.0022, 0.0023, 0.0023, 0.0021,\n",
      "        0.0024, 0.0023, 0.0022, 0.0021, 0.0022, 0.0021, 0.0021, 0.0024, 0.0024,\n",
      "        0.0023, 0.0023, 0.0025, 0.0022, 0.0021, 0.0024, 0.0023, 0.0022, 0.0022,\n",
      "        0.0022, 0.0022, 0.0025, 0.0025, 0.0023, 0.0021, 0.0022, 0.0021, 0.0023,\n",
      "        0.0022, 0.0023, 0.0023, 0.0027, 0.0021, 0.0021, 0.0025, 0.0024, 0.0023,\n",
      "        0.0021, 0.0022, 0.0023, 0.0021, 0.0026, 0.0019, 0.0024, 0.0021, 0.0024,\n",
      "        0.0025, 0.0025, 0.0023, 0.0021, 0.0024, 0.0024, 0.0020, 0.0021, 0.0023,\n",
      "        0.0022, 0.0026, 0.0022, 0.0022, 0.0023, 0.0029, 0.0023, 0.0025, 0.0024,\n",
      "        0.0025, 0.0023, 0.0024, 0.0023, 0.0029, 0.0022, 0.0025, 0.0022, 0.0027,\n",
      "        0.0022, 0.0025, 0.0027, 0.0024, 0.0025, 0.0023, 0.0029, 0.0023, 0.0022,\n",
      "        0.0021, 0.0023, 0.0027, 0.0020, 0.0021, 0.0028, 0.0023, 0.0023, 0.0024,\n",
      "        0.0025, 0.0024, 0.0022, 0.0024, 0.0024, 0.0024, 0.0026, 0.0026, 0.0025,\n",
      "        0.0021, 0.0031, 0.0027, 0.0023, 0.0023, 0.0022, 0.0022, 0.0025, 0.0022,\n",
      "        0.0026, 0.0023, 0.0022, 0.0030, 0.0024, 0.0023, 0.0029, 0.0024, 0.0026,\n",
      "        0.0023, 0.0023, 0.0025, 0.0024, 0.0023, 0.0021, 0.0021, 0.0026, 0.0022,\n",
      "        0.0024, 0.0023, 0.0022, 0.0024, 0.0023, 0.0024, 0.0022, 0.0028, 0.0026,\n",
      "        0.0024, 0.0023, 0.0021, 0.0023, 0.0026, 0.0021, 0.0023, 0.0025, 0.0024,\n",
      "        0.0023, 0.0022, 0.0028, 0.0023, 0.0024, 0.0025, 0.0028, 0.0024, 0.0029,\n",
      "        0.0023, 0.0026, 0.0027, 0.0022, 0.0026, 0.0028, 0.0025, 0.0022, 0.0023,\n",
      "        0.0028, 0.0024, 0.0022, 0.0024, 0.0023, 0.0023, 0.0024, 0.0021, 0.0024,\n",
      "        0.0028, 0.0023, 0.0030, 0.0022, 0.0027, 0.0023, 0.0024, 0.0021, 0.0022,\n",
      "        0.0019, 0.0027, 0.0018, 0.0027, 0.0028, 0.0021, 0.0021, 0.0026, 0.0026,\n",
      "        0.0024, 0.0029, 0.0026, 0.0024, 0.0023, 0.0024, 0.0023, 0.0027, 0.0024,\n",
      "        0.0029, 0.0028, 0.0024, 0.0024, 0.0023, 0.0024, 0.0021, 0.0025, 0.0024,\n",
      "        0.0024, 0.0023, 0.0023, 0.0019, 0.0018, 0.0025, 0.0021, 0.0024, 0.0019,\n",
      "        0.0023, 0.0026, 0.0021, 0.0023, 0.0027, 0.0023, 0.0024, 0.0024, 0.0024,\n",
      "        0.0023, 0.0019, 0.0024, 0.0034], grad_fn=<SoftmaxBackward0>)\n",
      "417\n"
     ]
    }
   ],
   "source": [
    "# Test\n",
    "neuron_lst = [10,10]\n",
    "actor = ActorFCNN(neuron_lst, kg_env.N_emb, kg_env.N_edge_labels)\n",
    "print(actor(agent.current_state_embedding, agent.all_actions_embeddings))\n",
    "print(torch.argmax(actor(agent.current_state_embedding, agent.all_actions_embeddings)).item())"
   ]
  },
  {
   "cell_type": "code",
   "execution_count": 32,
   "metadata": {},
   "outputs": [],
   "source": [
    "def run_path(agent: Agent, actor: nn.Module, drug: int, disease: int) -> list:\n",
    "    # Reset agent\n",
    "    agent.set_source_target(drug, disease)\n",
    "    # Compute path\n",
    "    path = [agent.current_node]\n",
    "    while agent.time < agent.K:\n",
    "        probs_next_action = actor(agent.current_state_embedding, agent.all_actions_embeddings)\n",
    "        n_next_action = torch.argmax(probs_next_action).item()\n",
    "        agent.select_next_action(n_next_action)    \n",
    "        path.append(agent.current_node)\n",
    "    return path\n"
   ]
  },
  {
   "cell_type": "code",
   "execution_count": 33,
   "metadata": {},
   "outputs": [
    {
     "name": "stdout",
     "output_type": "stream",
     "text": [
      "[10, 180671, 348323, 299746, 485425, 485425, 485425]\n",
      "[10, 354403, 312378, 354403, 312378, 354403, 312378]\n",
      "[10, 27987, 2304176, 2304176, 2304176, 2304176, 2304176]\n",
      "[10, 233576, 2676161, 2701020, 2700141, 2700141, 2700141]\n",
      "[10, 435802, 468962, 260457, 2945774, 260457, 2945774]\n"
     ]
    }
   ],
   "source": [
    "# Test\n",
    "K = 6\n",
    "neuron_lst = [10,10]\n",
    "drug = 10\n",
    "disease = 42\n",
    "\n",
    "for _ in range (5):\n",
    "    actor = ActorFCNN(neuron_lst, kg_env.N_emb, kg_env.N_edge_labels)\n",
    "    agent = Agent(K, kg_env)\n",
    "    print(run_path(agent, actor, drug, disease))"
   ]
  },
  {
   "cell_type": "markdown",
   "metadata": {},
   "source": [
    "## Critic network"
   ]
  },
  {
   "cell_type": "code",
   "execution_count": 34,
   "metadata": {},
   "outputs": [],
   "source": [
    "class CriticFCNN(nn.Module):\n",
    "    \"\"\"Pytorch module representing the critic network. \n",
    "\n",
    "    Architecture is a fully connected neural network. \n",
    "\n",
    "    TODO: Remove LazyLinear in prod code (feature still under development)\n",
    "    \"\"\"\n",
    "    def __init__(self, \n",
    "                 neuron_lst : list[int],\n",
    "                 N_emb : int, \n",
    "                 N_edge_labels: int,\n",
    "                 activation_fn = nn.ReLU,\n",
    "                 ) -> None:\n",
    "        \"\"\"Initialises instance of CriticFCNN. \n",
    "\n",
    "        Args:\n",
    "            neuron_lst: A list containing the number of neurons in each hidden layer. \n",
    "                The length of the list determines the number of hidden layers. \n",
    "            N_emb: Length of node embedding vectors. \n",
    "            N_edge_labels: Length of edge predicate embedding vectors\n",
    "            activation_fn: Activation function for all hidden layers. Defaults to nn.ReLU.\n",
    "        \"\"\"\n",
    "        super().__init__()\n",
    "        # Dimension of embedding of a single action \n",
    "        action_emb_dim = N_emb + N_edge_labels\n",
    "        # Construct main stack \n",
    "        self.main_stack = nn.Sequential()\n",
    "        for idx, n in enumerate(neuron_lst):\n",
    "            self.main_stack.add_module(f'Linear {idx + 1}', nn.LazyLinear(n))\n",
    "            self.main_stack.add_module(f'Activation {idx + 1}', activation_fn())\n",
    "        self.main_stack.add_module('Linear output', nn.LazyLinear(action_emb_dim))\n",
    "\n",
    "    def forward(self, state_embedding: torch.Tensor, next_action_embedding: torch.Tensor):\n",
    "        \"\"\"Performs forward propagation. \n",
    "\n",
    "        Args:\n",
    "            state_embedding: 2d torch tensor representing current state embedding \n",
    "            next_action_embedding: 1d torch tensor embeddings for an action\n",
    "        \"\"\"\n",
    "        x = state_embedding.flatten()\n",
    "        z = self.main_stack(x)\n",
    "        return next_action_embedding @ z        \n"
   ]
  },
  {
   "cell_type": "code",
   "execution_count": 35,
   "metadata": {},
   "outputs": [
    {
     "name": "stdout",
     "output_type": "stream",
     "text": [
      "tensor(-0.2263, grad_fn=<DotBackward0>)\n"
     ]
    }
   ],
   "source": [
    "# Test\n",
    "neuron_lst = [10,10]\n",
    "agent = Agent(K,kg_env)\n",
    "agent.set_source_target(10,42)\n",
    "critic = CriticFCNN(neuron_lst, kg_env.N_emb, kg_env.N_edge_labels)\n",
    "print(critic(agent.current_state_embedding, agent.all_actions_embeddings[0]))"
   ]
  },
  {
   "cell_type": "markdown",
   "metadata": {},
   "source": [
    "## Discriminator networks "
   ]
  },
  {
   "cell_type": "markdown",
   "metadata": {},
   "source": [
    "There are two discriminator networks. \n",
    "1. **Path-level discriminator network** Takes as input the concatenated embeddings of the reduced current state $\\hat{s} = [u, e_{t-K}, ..., e_{t-1}, e_{t}]$ and next node $\\hat{a}$. \n",
    "2. **Meta-path-level discriminator network**  Takes as input the concatenated embeddings $M$ of the path categories $(c_1, ..., c_K)$.\n",
    "\n",
    "**NOTE:** By convention, we do not include the drug in the path category embeddings. "
   ]
  },
  {
   "cell_type": "code",
   "execution_count": 36,
   "metadata": {},
   "outputs": [],
   "source": [
    "class PathLevelDiscriminatorFCNN(nn.Module):\n",
    "    \"\"\"Pytorch module representing the path-level discriminator network. \n",
    "\n",
    "    Architecture is a fully connected neural network. \n",
    "\n",
    "    TODO: Remove LazyLinear in prod code (feature still under development)\n",
    "    \"\"\"\n",
    "    def __init__(self, \n",
    "                 neuron_lst : list[int],\n",
    "                 activation_fn = nn.ReLU,\n",
    "                 ) -> None:\n",
    "        \"\"\"Initialises instance of PathLevelDiscriminatorFCNN. \n",
    "\n",
    "        Args:\n",
    "            neuron_lst: A list containing the number of neurons in each hidden layer. \n",
    "                The length of the list determines the number of hidden layers. \n",
    "            activation_fn: Activation function for all hidden layers. Defaults to nn.ReLU.\n",
    "        \"\"\"\n",
    "        super().__init__()\n",
    "        # Construct main stack \n",
    "        self.main_stack = nn.Sequential()\n",
    "        for idx, n in enumerate(neuron_lst):\n",
    "            self.main_stack.add_module(f'Linear {idx + 1}', nn.LazyLinear(n))\n",
    "            self.main_stack.add_module(f'Activation {idx + 1}', activation_fn())\n",
    "        self.main_stack.add_module('Linear output', nn.LazyLinear(1))\n",
    "\n",
    "    def forward(self, reduced_state_embedding: torch.Tensor, next_node_embedding: torch.Tensor):\n",
    "        \"\"\"Performs forward propagation. \n",
    "\n",
    "        Args:\n",
    "            reduced_state_embedding: 2d torch tensor representing reduced current state embedding \n",
    "            next_node_embedding: 1d torch tensor for node embedding after next action\n",
    "        \"\"\" \n",
    "        x = torch.cat([reduced_state_embedding.flatten(), next_node_embedding])\n",
    "        z = self.main_stack(x)\n",
    "        return F.sigmoid(z)        "
   ]
  },
  {
   "cell_type": "code",
   "execution_count": 37,
   "metadata": {},
   "outputs": [
    {
     "data": {
      "text/plain": [
       "tensor([0.5215], grad_fn=<SigmoidBackward0>)"
      ]
     },
     "execution_count": 37,
     "metadata": {},
     "output_type": "execute_result"
    }
   ],
   "source": [
    "# Test\n",
    "neuron_lst = [10,10]\n",
    "path_level_discriminator = PathLevelDiscriminatorFCNN(neuron_lst)\n",
    "agent = Agent(K,kg_env)\n",
    "agent.set_source_target(10,42)\n",
    "path_level_discriminator(agent.reduced_state_embedding, agent.all_actions_embeddings[0])"
   ]
  },
  {
   "cell_type": "code",
   "execution_count": 38,
   "metadata": {},
   "outputs": [],
   "source": [
    "class MetaPathLevelDiscriminatorFCNN(nn.Module):\n",
    "    \"\"\"Pytorch module representing the meta-path-level discriminator network. \n",
    "\n",
    "    Architecture is a fully connected neural network. \n",
    "\n",
    "    TODO: Remove LazyLinear in prod code (feature still under development)\n",
    "    \"\"\"\n",
    "    def __init__(self, \n",
    "                 neuron_lst : list[int],\n",
    "                 activation_fn = nn.ReLU,\n",
    "                 ) -> None:\n",
    "        \"\"\"Initialises instance of MetaPathLevelDiscriminatorFCNN. \n",
    "\n",
    "        Args:\n",
    "            neuron_lst: A list containing the number of neurons in each hidden layer. \n",
    "                The length of the list determines the number of hidden layers. \n",
    "            activation_fn: Activation function for all hidden layers. Defaults to nn.ReLU.\n",
    "        \"\"\"\n",
    "        super().__init__()\n",
    "        # Construct main stack \n",
    "        self.main_stack = nn.Sequential()\n",
    "        for idx, n in enumerate(neuron_lst):\n",
    "            self.main_stack.add_module(f'Linear {idx + 1}', nn.LazyLinear(n))\n",
    "            self.main_stack.add_module(f'Activation {idx + 1}', activation_fn())\n",
    "        self.main_stack.add_module('Linear output', nn.LazyLinear(1))\n",
    "\n",
    "    def forward(self, path_category_embedding: torch.Tensor):\n",
    "        \"\"\"Performs forward propagation. \n",
    "\n",
    "        Args:\n",
    "            path_category_embedding: 2d torch tensor containing one-hot embeddings for each category in the path. \n",
    "        \"\"\" \n",
    "        x = path_category_embedding.flatten()\n",
    "        z = self.main_stack(x)\n",
    "        return F.sigmoid(z)    "
   ]
  },
  {
   "cell_type": "code",
   "execution_count": 39,
   "metadata": {},
   "outputs": [
    {
     "data": {
      "text/plain": [
       "tensor([0.4298], grad_fn=<SigmoidBackward0>)"
      ]
     },
     "execution_count": 39,
     "metadata": {},
     "output_type": "execute_result"
    }
   ],
   "source": [
    "# Test\n",
    "K = 3\n",
    "neuron_lst = [10,10]\n",
    "path_categories = moa_categories_lst[88]\n",
    "meta_path_level_discriminator = MetaPathLevelDiscriminatorFCNN(neuron_lst)\n",
    "meta_path_level_discriminator(kg_env.get_path_category_embedding(path_categories, K=agent.K))"
   ]
  },
  {
   "cell_type": "markdown",
   "metadata": {},
   "source": [
    "## Training "
   ]
  },
  {
   "cell_type": "markdown",
   "metadata": {},
   "source": [
    "The loss functions for the path-level and meta-path-level discriminator networks are as follows:\n",
    "$$\n",
    "L_p(s,a) = - \\log(D_p(\\hat{s}^E,\\hat{a}^E)) - \\log(1 - D_p(\\hat{s},\\hat{a})),\n",
    "$$\n",
    "and\n",
    "$$\n",
    "L_m(M) = - \\log(D_m(M^E)) - \\log(1 - D_m(M)) \\qquad \\textrm{(terminal loss)},\n",
    "$$\n",
    "where \n",
    "- $s^E$ and $a^E$ are the reduced state and next node embeddings for the demonstration path at the current time step and \n",
    "- $M^E$ is the path category embedding, \n",
    "\n",
    "for the demonstration path.\n",
    "As indicated, $L_m$ is a terminal loss meaning it is only computed when $a$ is the last action in the path. \n",
    "\n",
    "We construct the reward for the agent taking an action $a = (e, r)$ in a state $s$, as follows\n",
    "$$R(s,a) = R_1(s,a) + R_2(s,a) + R_3(s,a),$$\n",
    "where\n",
    "$$\n",
    "R_1(s,a) = \\log(D_p(\\hat{s},\\hat{a})) - \\log(1 - D_p(\\hat{s},\\hat{a})),\n",
    "$$\n",
    "$$\n",
    "R_2(s,a) = \\log(D_m(M)) - \\log(1 - D_m(M)) \\qquad \\textrm{(terminal reward)},\n",
    "$$\n",
    "and\n",
    "$$\n",
    "R_3(s,a) = \\begin{cases} 1 & \\textrm{if the node } e \\textrm{ is the target disease}\\\\\n",
    "0 & \\textrm{otherwise}\n",
    "\\end{cases} \\qquad \\textrm{(terminal reward)},\n",
    "$$\n",
    "where $D_p$ and $D_m$ are the path-level and meta-path-level discriminator networks respectively and $M$ is the set of categories one-hot embeddings for the path. \n",
    "The terminal rewards are awarded when $a$ is the last action in the path. \n",
    "\n",
    "The state-value function $q_\\pi$ for policy $\\pi$ is defined as the expected cumulative reward:\n",
    "$$\n",
    "q_\\pi(s,a)  = \\mathbb{E}_\\pi[\\sum_{j} \\gamma^j R_j] \n",
    "$$\n",
    "where $\\set{R_j}$ is set of rewards achieved along the path until termination and $\\gamma \\in (0, 1]$ is the discount factor. \n",
    "\n",
    "Recall the Bellman equation for the state-value function:\n",
    "$$q_\\pi(s, a) = R(s,a) + \\gamma \\mathbb{E}_{a'\\sim\\pi} q_\\pi(s', a') $$\n",
    "where $s'$ is the state entered as a result of taking action $a$ in state $s$.\n",
    "\n",
    "The critic network $Q$ aims to approximate the state-value function. To do this we enforce the Bellman equation using the so-called temporal difference loss:\n",
    "$$\n",
    "L_Q(s, a ; Q, \\pi ) = (r(s,a) + \\gamma \\mathbb{E}_{a'\\sim\\pi} Q(s', a') - Q(s,a))^2.\n",
    "$$\n",
    "\n",
    "The loss for the actor network is\n",
    "$$\n",
    "L_\\pi(s ; Q, \\pi) = - \\mathbb{E}_{a\\sim\\pi} Q(s, a).\n",
    "$$"
   ]
  },
  {
   "cell_type": "markdown",
   "metadata": {},
   "source": [
    "The training process is performed using an $\\epsilon$-greedy strategy.\n",
    "\n",
    "- In each epoch, we loop over the ground-truth MOA paths. \n",
    "- Each MOA path in the epoch corresponds to an episode.\n",
    "- In each episode, \n",
    "    1. Start at the drug.\n",
    "    2. Choose the next action as follows.  \n",
    "        - With probability $1 - \\epsilon$, sample according to actor policy $\\pi$.\n",
    "        - With probability $\\epsilon$, sample randomly. \n",
    "    3. Perform gradient step. \n",
    "    4. Repeat steps 2 and 3 until termination. "
   ]
  },
  {
   "cell_type": "code",
   "execution_count": null,
   "metadata": {},
   "outputs": [],
   "source": [
    "# Reward functions\n",
    "    \n",
    "def f_reward_1(path_level_discriminator : nn.Module, reduced_state_embedding : torch.Tensor, next_node_embeddings : torch.Tensor) -> float:\n",
    "    \"\"\"Returns reward by path-level discriminator. \n",
    "\n",
    "    Args:\n",
    "        path_level_discriminator: Path-level discriminator network. \n",
    "        reduced_state_embedding: 2d torch tensor representing reduced state embedding \n",
    "        next_node_embeddings: 1d torch tensor representing the next node embeddings\n",
    "    \"\"\"\n",
    "    D_p = path_level_discriminator(reduced_state_embedding, next_node_embeddings)\n",
    "    return torch.log(D_p) - torch.log(1 - D_p)\n",
    "\n",
    "def f_reward_2(meta_path_level_discriminator : nn.Module, path_category_embedding : torch.Tensor) -> float:\n",
    "    \"\"\"Returns terminal reward by meta-path-level discriminator. \n",
    "\n",
    "    Args:\n",
    "        meta_path_level_discriminator: Meta-path-level discriminator network. \n",
    "        path_category_embedding: 2d torch tensor containing one-hot embeddings for each category in the path. \n",
    "    \"\"\"\n",
    "    D_m = meta_path_level_discriminator(path_category_embedding)\n",
    "    return torch.log(D_m) - torch.log(1 - D_m)\n",
    "\n",
    "def f_reward_3(agent : Agent, next_action : tuple[int]) -> float:\n",
    "    \"\"\"Returns terminal reward for reaching the target disease. \n",
    "\n",
    "    Args:\n",
    "        agent: Agent instance. \n",
    "        next_action: Next action in the path. \n",
    "    \"\"\"\n",
    "    if next_action[0] == agent.target_disease:\n",
    "        return 1\n",
    "    else: \n",
    "        return 0\n",
    "\n"
   ]
  },
  {
   "cell_type": "code",
   "execution_count": 245,
   "metadata": {},
   "outputs": [],
   "source": [
    "# Main training loop\n",
    "\n",
    "def train(\n",
    "    kg_env : KGEnv, \n",
    "    K : int,\n",
    "    moa_mapped_lst : list[int], \n",
    "    moa_categories_lst : list[int],\n",
    "    actor_neuron_lst : list[int],\n",
    "    critic_neuron_lst : list[int],\n",
    "    discr_neuron_lst : list[int],\n",
    "    meta_discr_neuron_lst : list[int],\n",
    "    alpha: list[float],\n",
    "    N_epochs : int,\n",
    "    gamma : float,\n",
    "    epsilon : float, \n",
    "    optimiser : callable,\n",
    "    verbose = True,\n",
    ") -> tuple[nn.Module]:\n",
    "    \"\"\"Train Actor-Critic network.\n",
    "\n",
    "    Function for use in current notebook only. \n",
    "\n",
    "    Args:\n",
    "        kg_env: Instance of KGEnv.\n",
    "        K: Max number of hops.\n",
    "        moa_mapped_lst : TODO\n",
    "        moa_categories_lst : TODO\n",
    "        actor_neuron_lst: Size of all hidden layers in actor network.\n",
    "        critic_neuron_lst: Size of all hidden layers in critic network.\n",
    "        discr_neuron_lst : Size of all hidden layers in discriminator network.\n",
    "        meta_discr_neuron_lst : Size of all hidden layers in meta-discriminator network,\n",
    "        alpha: List representing the weights [alpha_p, alpha_m] for the path level and meta-path level rewards\n",
    "        N_epochs: Number of epochs.\n",
    "        gamma: Discount factor. \n",
    "        epsilon: Controls epsilon-greedy policy. \n",
    "        optimiser: Function of PyTorch parameters representing optimiser. \n",
    "        verbose: Print updates during training.\n",
    "\n",
    "    Returns:\n",
    "        Tuple containing:\n",
    "            - trained actor and critic networks\n",
    "            - histories for average total, actor and critic loss function values per epoch.\n",
    "    \"\"\"\n",
    "    # Initialise agent, actor network and critic networks\n",
    "    agent = Agent(K, kg_env)\n",
    "    actor = ActorFCNN(actor_neuron_lst, kg_env.N_emb, kg_env.N_edge_labels)\n",
    "    critic = CriticFCNN(critic_neuron_lst, kg_env.N_emb, kg_env.N_edge_labels)\n",
    "    path_level_discriminator = PathLevelDiscriminatorFCNN(discr_neuron_lst)\n",
    "    meta_path_level_discriminator = MetaPathLevelDiscriminatorFCNN(meta_discr_neuron_lst)\n",
    "\n",
    "    # Initialise optimiser \n",
    "    optimiser_actor = optimiser(actor.parameters())\n",
    "    optimiser_critic = optimiser(critic.parameters())\n",
    "    optimiser_path_level_discriminator = optimiser(path_level_discriminator.parameters())\n",
    "    optimiser_meta_path_level_discriminator = optimiser(meta_path_level_discriminator.parameters())\n",
    "\n",
    "    # Book-keeping \n",
    "    loss_hist = []\n",
    "    actor_loss_hist = []\n",
    "    critic_loss_hist = []\n",
    "    discr_loss_hist = []\n",
    "    meta_discr_loss_hist = []\n",
    "    n_per_epoch = len(moa_mapped_lst)\n",
    "\n",
    "    # Training loop\n",
    "    for epoch in range(N_epochs):\n",
    "        # Variables for tracking total loss for epoch\n",
    "        loss_epoch = 0\n",
    "        actor_loss_epoch = 0\n",
    "        critic_loss_epoch = 0\n",
    "        discr_loss_epoch = 0\n",
    "        meta_discr_loss_epoch = 0\n",
    "        # Variable for tracking number of rewards per epoch\n",
    "        n_rewards_epoch = 0\n",
    "        for moa, moa_categories in tqdm(zip(moa_mapped_lst, moa_categories_lst)):\n",
    "            drug = moa[0]\n",
    "            disease = moa[-1]\n",
    "\n",
    "            # Reset agent\n",
    "            agent.set_source_target(drug,disease)\n",
    "            current_state_embedding = agent.current_state_embedding\n",
    "            all_actions = agent.all_actions\n",
    "            all_actions_embeddings = agent.all_actions_embeddings\n",
    "\n",
    "            # Initialise demonstration agent\n",
    "            dem_agent = DemonstrationAgent(K, kg_env, moa)\n",
    "\n",
    "            # Run path \n",
    "            loss_episode_total = 0\n",
    "            actor_loss_episode_total = 0 \n",
    "            critic_loss_episode_total = 0\n",
    "            discr_loss_episode_total = 0\n",
    "            meta_discr_loss_episode_total = 0\n",
    "            for _ in range(K): \n",
    "                #  Compute actor policy distribution for current state\n",
    "                policy_probabilities = actor(current_state_embedding, all_actions_embeddings)\n",
    "\n",
    "                # Choose next action\n",
    "                probs_is_nan = torch.isnan(policy_probabilities)\n",
    "                if torch.sum(probs_is_nan) == 0:\n",
    "                    do_exploit = random.choices([True, False], weights = [1 - epsilon, epsilon])[0]\n",
    "                else: # Do random action choice if any probabilities are nan\n",
    "                    do_exploit = False\n",
    "                if do_exploit:\n",
    "                    # Sample from actor policy\n",
    "                    n_next_action = random.choices(range(len(all_actions)), weights = policy_probabilities.tolist())[0]\n",
    "                else:\n",
    "                    # Sample from randomly\n",
    "                    n_next_action = random.choices(range(len(all_actions)))[0]\n",
    "                next_action = all_actions[n_next_action]\n",
    "                next_action_embedding = all_actions_embeddings[n_next_action]\n",
    "\n",
    "                # Compute path-level loss\n",
    "                next_node_embeddings = next_action_embedding[:kg_env.N_emb]\n",
    "                D_p = path_level_discriminator(agent.reduced_state_embedding, next_node_embeddings)\n",
    "                D_p_dem = path_level_discriminator(dem_agent.reduced_state_embedding, dem_agent.next_node_embedding)\n",
    "                path_level_loss = - torch.log(D_p_dem) - torch.log(1 - D_p)\n",
    "\n",
    "                # Backpropagate path-level discriminator\n",
    "                optimiser_path_level_discriminator.zero_grad()\n",
    "                path_level_loss.backward()\n",
    "                optimiser_path_level_discriminator.step()\n",
    "\n",
    "                # Update demonstration agent\n",
    "                dem_agent.update()\n",
    "\n",
    "                # Compute meta-path-level terminal loss\n",
    "                if agent.time == agent.K - 1:\n",
    "                    # Compute category embedding for agent path (TODO: refactor by adding to class)\n",
    "                    final_node = agent.all_actions[n_next_action][0]\n",
    "                    nodes_travelled = [node for node, _ in agent.current_state[3:]]\n",
    "                    nodes_in_path = [drug] + nodes_travelled + [final_node]\n",
    "                    categories_in_path = [kg_env.node_index_to_category_index[node_index] for node_index in nodes_in_path]\n",
    "                    path_category_embedding = kg_env.get_path_category_embedding(categories_in_path, K=agent.K)\n",
    "                    # Compute category embedding for demonstration path\n",
    "                    dem_path_category_embedding = kg_env.get_path_category_embedding(moa_categories, K=agent.K)\n",
    "                    # Compute loss  \n",
    "                    D_m = meta_path_level_discriminator(path_category_embedding)\n",
    "                    D_m_dem = meta_path_level_discriminator(dem_path_category_embedding)\n",
    "                    meta_path_level_loss = - torch.log(D_m_dem) - torch.log(1 - D_m)\n",
    "                else:\n",
    "                    meta_path_level_loss = torch.tensor(0.0, requires_grad=True)\n",
    "                    \n",
    "                # Backpropagate meta-path-level discriminator \n",
    "                optimiser_meta_path_level_discriminator.zero_grad()\n",
    "                meta_path_level_loss.backward()\n",
    "                optimiser_meta_path_level_discriminator.step()  \n",
    "\n",
    "                # Compute actor loss\n",
    "                all_critic_values = critic(current_state_embedding, all_actions_embeddings)\n",
    "                loss_actor =  - all_critic_values @ policy_probabilities\n",
    "\n",
    "                # Backpropagate actor\n",
    "                optimiser_actor.zero_grad()\n",
    "                loss_actor.backward()\n",
    "                optimiser_actor.step()\n",
    "\n",
    "\n",
    "                ## Compute total reward for chosen action\n",
    "                # Path-level reward\n",
    "                reward_1 = f_reward_1(path_level_discriminator, agent.reduced_state_embedding, next_node_embeddings)\n",
    "                # Terminal rewards\n",
    "                if agent.time == agent.K - 1:\n",
    "                    # Meta-path-level reward\n",
    "                    reward_2 = f_reward_2(meta_path_level_discriminator, path_category_embedding)\n",
    "                    # Target disease reward\n",
    "                    reward_3 = f_reward_3(agent, next_action)\n",
    "                else:\n",
    "                    reward_2 = 0\n",
    "                    reward_3 = 0\n",
    "                # Sum rewards\n",
    "                reward = alpha[0]*reward_1 + alpha[1]*reward_2 + reward_3\n",
    "\n",
    "                # Get the critic value for the chosen action\n",
    "                current_critic_value = critic(current_state_embedding, next_action_embedding)\n",
    "\n",
    "                # Update agent \n",
    "                agent.select_next_action(n_next_action)\n",
    "                current_state_embedding = agent.current_state_embedding\n",
    "                all_actions = agent.all_actions\n",
    "                all_actions_embeddings = agent.all_actions_embeddings\n",
    "\n",
    "                # Compute temporal difference loss for critic\n",
    "                new_critic_values = critic(current_state_embedding, all_actions_embeddings)\n",
    "                new_policy_probabilities = actor(current_state_embedding, all_actions_embeddings)\n",
    "                new_expectation_critic =  new_critic_values @ new_policy_probabilities\n",
    "                loss_critic = (reward + gamma * new_expectation_critic - current_critic_value)**2\n",
    "\n",
    "                # Backpropagate critic\n",
    "                optimiser_critic.zero_grad()\n",
    "                loss_critic.backward()\n",
    "                optimiser_critic.step()\n",
    "\n",
    "                # Record history\n",
    "                loss_episode_total += (loss_actor + loss_critic +  path_level_loss + meta_path_level_loss).item()\n",
    "                actor_loss_episode_total += loss_actor.item()\n",
    "                critic_loss_episode_total += loss_critic.item()\n",
    "                discr_loss_episode_total += path_level_loss.item()\n",
    "                meta_discr_loss_episode_total += meta_path_level_loss.item()\n",
    "                n_rewards_epoch += reward\n",
    "\n",
    "                \n",
    "            # Record history\n",
    "            loss_epoch += loss_episode_total / K\n",
    "            actor_loss_epoch += actor_loss_episode_total / K\n",
    "            critic_loss_epoch += critic_loss_episode_total / K\n",
    "            discr_loss_epoch += discr_loss_episode_total / K\n",
    "            meta_discr_loss_epoch += meta_discr_loss_episode_total / K\n",
    "\n",
    "        # Record history        \n",
    "        loss_hist.append(loss_epoch / n_per_epoch)\n",
    "        actor_loss_hist.append(actor_loss_epoch / n_per_epoch)\n",
    "        critic_loss_hist.append(critic_loss_epoch / n_per_epoch)\n",
    "        discr_loss_hist.append(discr_loss_epoch / n_per_epoch)\n",
    "        meta_discr_loss_hist.append(meta_discr_loss_epoch / n_per_epoch)\n",
    "        if verbose:\n",
    "            print(f\"Epoch {epoch + 1}. Average reward: {n_rewards_epoch[0].item() / n_per_epoch}. Average loss: {loss_epoch / n_per_epoch}.\")\n",
    "    return actor, critic, path_level_discriminator, meta_path_level_discriminator, loss_hist, actor_loss_hist, critic_loss_hist, discr_loss_hist, meta_discr_loss_hist\n",
    "    "
   ]
  },
  {
   "cell_type": "markdown",
   "metadata": {},
   "source": [
    "#### Training a tiny NN"
   ]
  },
  {
   "cell_type": "code",
   "execution_count": 247,
   "metadata": {},
   "outputs": [
    {
     "name": "stderr",
     "output_type": "stream",
     "text": [
      "1000it [00:10, 95.65it/s]\n"
     ]
    },
    {
     "name": "stdout",
     "output_type": "stream",
     "text": [
      "Epoch 1. Average reward: -0.09724880218505859. Average loss: 1.1150345016835876.\n"
     ]
    },
    {
     "name": "stderr",
     "output_type": "stream",
     "text": [
      "1000it [00:08, 120.44it/s]\n"
     ]
    },
    {
     "name": "stdout",
     "output_type": "stream",
     "text": [
      "Epoch 2. Average reward: -0.21247772216796876. Average loss: 0.9613164751535886.\n"
     ]
    },
    {
     "name": "stderr",
     "output_type": "stream",
     "text": [
      "1000it [00:11, 87.04it/s]\n"
     ]
    },
    {
     "name": "stdout",
     "output_type": "stream",
     "text": [
      "Epoch 3. Average reward: -0.25543727111816406. Average loss: 0.9088655223144847.\n"
     ]
    },
    {
     "name": "stderr",
     "output_type": "stream",
     "text": [
      "1000it [00:07, 125.96it/s]\n"
     ]
    },
    {
     "name": "stdout",
     "output_type": "stream",
     "text": [
      "Epoch 4. Average reward: -0.2668577880859375. Average loss: 1.01763178721567.\n"
     ]
    },
    {
     "name": "stderr",
     "output_type": "stream",
     "text": [
      "1000it [00:08, 123.18it/s]\n"
     ]
    },
    {
     "name": "stdout",
     "output_type": "stream",
     "text": [
      "Epoch 5. Average reward: -0.20507508850097655. Average loss: 1.2277849431249002.\n"
     ]
    },
    {
     "name": "stderr",
     "output_type": "stream",
     "text": [
      "1000it [00:07, 131.50it/s]\n"
     ]
    },
    {
     "name": "stdout",
     "output_type": "stream",
     "text": [
      "Epoch 6. Average reward: -0.09364866638183594. Average loss: 1.4395507245212804.\n"
     ]
    },
    {
     "name": "stderr",
     "output_type": "stream",
     "text": [
      "1000it [00:07, 136.61it/s]\n"
     ]
    },
    {
     "name": "stdout",
     "output_type": "stream",
     "text": [
      "Epoch 7. Average reward: -0.15246754455566405. Average loss: 1.3804418414086084.\n"
     ]
    },
    {
     "name": "stderr",
     "output_type": "stream",
     "text": [
      "1000it [00:07, 134.90it/s]\n"
     ]
    },
    {
     "name": "stdout",
     "output_type": "stream",
     "text": [
      "Epoch 8. Average reward: -0.2063482666015625. Average loss: 1.3658185725982022.\n"
     ]
    },
    {
     "name": "stderr",
     "output_type": "stream",
     "text": [
      "1000it [00:08, 117.99it/s]\n"
     ]
    },
    {
     "name": "stdout",
     "output_type": "stream",
     "text": [
      "Epoch 9. Average reward: -inf. Average loss: nan.\n"
     ]
    },
    {
     "name": "stderr",
     "output_type": "stream",
     "text": [
      "1000it [00:08, 113.18it/s]\n"
     ]
    },
    {
     "name": "stdout",
     "output_type": "stream",
     "text": [
      "Epoch 10. Average reward: -0.37689947509765626. Average loss: nan.\n"
     ]
    },
    {
     "name": "stderr",
     "output_type": "stream",
     "text": [
      "1000it [00:08, 111.78it/s]\n"
     ]
    },
    {
     "name": "stdout",
     "output_type": "stream",
     "text": [
      "Epoch 11. Average reward: -inf. Average loss: nan.\n"
     ]
    },
    {
     "name": "stderr",
     "output_type": "stream",
     "text": [
      "1000it [00:09, 104.84it/s]\n"
     ]
    },
    {
     "name": "stdout",
     "output_type": "stream",
     "text": [
      "Epoch 12. Average reward: -inf. Average loss: nan.\n"
     ]
    },
    {
     "name": "stderr",
     "output_type": "stream",
     "text": [
      "1000it [00:08, 111.96it/s]\n"
     ]
    },
    {
     "name": "stdout",
     "output_type": "stream",
     "text": [
      "Epoch 13. Average reward: -inf. Average loss: nan.\n"
     ]
    },
    {
     "name": "stderr",
     "output_type": "stream",
     "text": [
      "1000it [00:09, 105.22it/s]\n"
     ]
    },
    {
     "name": "stdout",
     "output_type": "stream",
     "text": [
      "Epoch 14. Average reward: -inf. Average loss: nan.\n"
     ]
    },
    {
     "name": "stderr",
     "output_type": "stream",
     "text": [
      "1000it [00:09, 107.94it/s]"
     ]
    },
    {
     "name": "stdout",
     "output_type": "stream",
     "text": [
      "Epoch 15. Average reward: -inf. Average loss: nan.\n"
     ]
    },
    {
     "name": "stderr",
     "output_type": "stream",
     "text": [
      "\n"
     ]
    }
   ],
   "source": [
    "# Model hyperparameters\n",
    "K = 3\n",
    "actor_neuron_lst = [10,10]\n",
    "critic_neuron_lst = [10,10]\n",
    "discr_neuron_lst = [10,10]\n",
    "meta_discr_neuron_lst = [10,10]\n",
    "\n",
    "# Training parameters\n",
    "N_epochs = 15\n",
    "gamma =  0.9\n",
    "epsilon = 0\n",
    "optimiser = lambda params : torch.optim.Adam(params)\n",
    "alpha = [0.01, 0.01]\n",
    "\n",
    "if not SKIP:\n",
    "    actor, critic, path_level_discriminator, meta_path_level_discriminator, loss_hist, actor_loss_hist, critic_loss_hist, discr_loss_hist, meta_discr_loss_hist = train(kg_env,\n",
    "        K,\n",
    "        moa_mapped_lst[:1000],\n",
    "        moa_categories_lst[:1000],\n",
    "        actor_neuron_lst,\n",
    "        critic_neuron_lst,\n",
    "        discr_neuron_lst,\n",
    "        meta_discr_neuron_lst,\n",
    "        alpha,\n",
    "        N_epochs,\n",
    "        gamma,\n",
    "        epsilon,\n",
    "        optimiser\n",
    "    )"
   ]
  },
  {
   "cell_type": "code",
   "execution_count": 248,
   "metadata": {},
   "outputs": [
    {
     "data": {
      "image/png": "[encoded data removed]",
      "text/plain": [
       "<Figure size 1800x400 with 5 Axes>"
      ]
     },
     "metadata": {},
     "output_type": "display_data"
    }
   ],
   "source": [
    "# Plot training curve\n",
    "fig, ax = plt.subplots( 1, 5, figsize = (18, 4))\n",
    "ax[0].plot(loss_hist)\n",
    "ax[0].set_title(\"total loss\")\n",
    "ax[0].set_xlabel(\"Epoch\")\n",
    "ax[1].plot(actor_loss_hist)\n",
    "ax[1].set_title(\"actor loss\")\n",
    "ax[1].set_xlabel(\"Epoch\")\n",
    "ax[2].plot(critic_loss_hist)\n",
    "ax[2].set_title(\"critic loss\")\n",
    "ax[2].set_xlabel(\"Epoch\")\n",
    "ax[2].plot(critic_loss_hist)\n",
    "ax[3].set_title(\"discriminator loss\")\n",
    "ax[3].set_xlabel(\"Epoch\")\n",
    "ax[3].plot(discr_loss_hist)\n",
    "ax[4].set_title(\"meta-discriminator loss\")\n",
    "ax[4].set_xlabel(\"Epoch\")\n",
    "ax[4].plot(meta_discr_loss_hist)\n",
    "plt.show()"
   ]
  },
  {
   "cell_type": "markdown",
   "metadata": {},
   "source": [
    "## Bigger Network"
   ]
  },
  {
   "cell_type": "code",
   "execution_count": 249,
   "metadata": {},
   "outputs": [
    {
     "name": "stderr",
     "output_type": "stream",
     "text": [
      "50000it [28:56, 28.79it/s]\n"
     ]
    },
    {
     "name": "stdout",
     "output_type": "stream",
     "text": [
      "Epoch 1. Average reward: -0.057888720703125. Average loss: 1.3417784301768634.\n"
     ]
    },
    {
     "name": "stderr",
     "output_type": "stream",
     "text": [
      "50000it [28:45, 28.97it/s]\n"
     ]
    },
    {
     "name": "stdout",
     "output_type": "stream",
     "text": [
      "Epoch 2. Average reward: -0.15588255859375. Average loss: 0.5927702078371722.\n"
     ]
    },
    {
     "name": "stderr",
     "output_type": "stream",
     "text": [
      "50000it [22:19, 37.33it/s]\n"
     ]
    },
    {
     "name": "stdout",
     "output_type": "stream",
     "text": [
      "Epoch 3. Average reward: -0.18161623046875. Average loss: 0.5729268086712527.\n"
     ]
    },
    {
     "name": "stderr",
     "output_type": "stream",
     "text": [
      "50000it [20:50, 39.99it/s]\n"
     ]
    },
    {
     "name": "stdout",
     "output_type": "stream",
     "text": [
      "Epoch 4. Average reward: -0.18145171875. Average loss: 0.5989140078756862.\n"
     ]
    },
    {
     "name": "stderr",
     "output_type": "stream",
     "text": [
      "50000it [22:25, 37.16it/s]\n"
     ]
    },
    {
     "name": "stdout",
     "output_type": "stream",
     "text": [
      "Epoch 5. Average reward: -0.1669413671875. Average loss: 0.6633043929160977.\n"
     ]
    },
    {
     "name": "stderr",
     "output_type": "stream",
     "text": [
      "50000it [22:28, 37.08it/s]\n"
     ]
    },
    {
     "name": "stdout",
     "output_type": "stream",
     "text": [
      "Epoch 6. Average reward: -0.118078876953125. Average loss: 0.9541803878299281.\n"
     ]
    },
    {
     "name": "stderr",
     "output_type": "stream",
     "text": [
      "50000it [21:36, 38.58it/s]\n"
     ]
    },
    {
     "name": "stdout",
     "output_type": "stream",
     "text": [
      "Epoch 7. Average reward: -0.089007763671875. Average loss: 1.0916819124679211.\n"
     ]
    },
    {
     "name": "stderr",
     "output_type": "stream",
     "text": [
      "50000it [21:24, 38.94it/s]\n"
     ]
    },
    {
     "name": "stdout",
     "output_type": "stream",
     "text": [
      "Epoch 8. Average reward: -0.07509068359375. Average loss: 1.1723403778128632.\n"
     ]
    },
    {
     "name": "stderr",
     "output_type": "stream",
     "text": [
      "50000it [21:03, 39.56it/s]\n"
     ]
    },
    {
     "name": "stdout",
     "output_type": "stream",
     "text": [
      "Epoch 9. Average reward: -0.048020810546875. Average loss: 1.2982508062394418.\n"
     ]
    },
    {
     "name": "stderr",
     "output_type": "stream",
     "text": [
      "50000it [20:55, 39.81it/s]\n"
     ]
    },
    {
     "name": "stdout",
     "output_type": "stream",
     "text": [
      "Epoch 10. Average reward: -0.049830849609375. Average loss: 1.2355477500139849.\n"
     ]
    },
    {
     "name": "stderr",
     "output_type": "stream",
     "text": [
      "50000it [20:56, 39.78it/s]\n"
     ]
    },
    {
     "name": "stdout",
     "output_type": "stream",
     "text": [
      "Epoch 11. Average reward: -0.054286962890625. Average loss: 1.1892343531334986.\n"
     ]
    },
    {
     "name": "stderr",
     "output_type": "stream",
     "text": [
      "50000it [20:58, 39.74it/s]\n"
     ]
    },
    {
     "name": "stdout",
     "output_type": "stream",
     "text": [
      "Epoch 12. Average reward: -0.0596859912109375. Average loss: 1.1955626123463685.\n"
     ]
    },
    {
     "name": "stderr",
     "output_type": "stream",
     "text": [
      "50000it [21:24, 38.91it/s]\n"
     ]
    },
    {
     "name": "stdout",
     "output_type": "stream",
     "text": [
      "Epoch 13. Average reward: -0.077733388671875. Average loss: 1.1235058398111952.\n"
     ]
    },
    {
     "name": "stderr",
     "output_type": "stream",
     "text": [
      "50000it [21:53, 38.08it/s]\n"
     ]
    },
    {
     "name": "stdout",
     "output_type": "stream",
     "text": [
      "Epoch 14. Average reward: -0.111188125. Average loss: 0.8953278204533475.\n"
     ]
    },
    {
     "name": "stderr",
     "output_type": "stream",
     "text": [
      "50000it [22:05, 37.73it/s]\n"
     ]
    },
    {
     "name": "stdout",
     "output_type": "stream",
     "text": [
      "Epoch 15. Average reward: -0.139091220703125. Average loss: 0.6950754241064853.\n"
     ]
    },
    {
     "name": "stderr",
     "output_type": "stream",
     "text": [
      "50000it [21:57, 37.95it/s]\n"
     ]
    },
    {
     "name": "stdout",
     "output_type": "stream",
     "text": [
      "Epoch 16. Average reward: -0.15664896484375. Average loss: 0.5900205566164913.\n"
     ]
    },
    {
     "name": "stderr",
     "output_type": "stream",
     "text": [
      "50000it [21:54, 38.05it/s]\n"
     ]
    },
    {
     "name": "stdout",
     "output_type": "stream",
     "text": [
      "Epoch 17. Average reward: -0.16726451171875. Average loss: 0.536785325469469.\n"
     ]
    },
    {
     "name": "stderr",
     "output_type": "stream",
     "text": [
      "50000it [21:47, 38.24it/s]\n"
     ]
    },
    {
     "name": "stdout",
     "output_type": "stream",
     "text": [
      "Epoch 18. Average reward: -0.1764851171875. Average loss: 0.5004304941603396.\n"
     ]
    },
    {
     "name": "stderr",
     "output_type": "stream",
     "text": [
      "50000it [21:32, 38.70it/s]\n"
     ]
    },
    {
     "name": "stdout",
     "output_type": "stream",
     "text": [
      "Epoch 19. Average reward: -0.18269921875. Average loss: 0.47575154167447675.\n"
     ]
    },
    {
     "name": "stderr",
     "output_type": "stream",
     "text": [
      "50000it [21:35, 38.59it/s]\n"
     ]
    },
    {
     "name": "stdout",
     "output_type": "stream",
     "text": [
      "Epoch 20. Average reward: -0.18719984375. Average loss: 0.46154191637120084.\n"
     ]
    },
    {
     "name": "stderr",
     "output_type": "stream",
     "text": [
      "50000it [21:36, 38.56it/s]\n"
     ]
    },
    {
     "name": "stdout",
     "output_type": "stream",
     "text": [
      "Epoch 21. Average reward: -0.1925167578125. Average loss: 0.45041154211207063.\n"
     ]
    },
    {
     "name": "stderr",
     "output_type": "stream",
     "text": [
      "50000it [21:42, 38.38it/s]\n"
     ]
    },
    {
     "name": "stdout",
     "output_type": "stream",
     "text": [
      "Epoch 22. Average reward: -0.1944921875. Average loss: 0.4398420085842203.\n"
     ]
    },
    {
     "name": "stderr",
     "output_type": "stream",
     "text": [
      "50000it [22:08, 37.62it/s]\n"
     ]
    },
    {
     "name": "stdout",
     "output_type": "stream",
     "text": [
      "Epoch 23. Average reward: -0.19897615234375. Average loss: 0.4325371743245973.\n"
     ]
    },
    {
     "name": "stderr",
     "output_type": "stream",
     "text": [
      "50000it [1:26:18,  9.65it/s]\n"
     ]
    },
    {
     "name": "stdout",
     "output_type": "stream",
     "text": [
      "Epoch 24. Average reward: -0.2034553125. Average loss: 0.4248900761965423.\n"
     ]
    },
    {
     "name": "stderr",
     "output_type": "stream",
     "text": [
      "50000it [25:23, 32.81it/s]\n"
     ]
    },
    {
     "name": "stdout",
     "output_type": "stream",
     "text": [
      "Epoch 25. Average reward: -0.20430404296875. Average loss: 0.4214485174354109.\n"
     ]
    },
    {
     "name": "stderr",
     "output_type": "stream",
     "text": [
      "50000it [24:44, 33.69it/s]\n"
     ]
    },
    {
     "name": "stdout",
     "output_type": "stream",
     "text": [
      "Epoch 26. Average reward: -0.2072959765625. Average loss: 0.4175049468089693.\n"
     ]
    },
    {
     "name": "stderr",
     "output_type": "stream",
     "text": [
      "50000it [25:00, 33.33it/s]\n"
     ]
    },
    {
     "name": "stdout",
     "output_type": "stream",
     "text": [
      "Epoch 27. Average reward: -0.21154248046875. Average loss: 0.4118938395212476.\n"
     ]
    },
    {
     "name": "stderr",
     "output_type": "stream",
     "text": [
      "50000it [25:12, 33.06it/s]\n"
     ]
    },
    {
     "name": "stdout",
     "output_type": "stream",
     "text": [
      "Epoch 28. Average reward: -0.213723984375. Average loss: 0.4079727811076549.\n"
     ]
    },
    {
     "name": "stderr",
     "output_type": "stream",
     "text": [
      "50000it [2:22:00,  5.87it/s]\n"
     ]
    },
    {
     "name": "stdout",
     "output_type": "stream",
     "text": [
      "Epoch 29. Average reward: -0.21428630859375. Average loss: 0.400688094590157.\n"
     ]
    },
    {
     "name": "stderr",
     "output_type": "stream",
     "text": [
      "50000it [23:21, 35.67it/s]\n"
     ]
    },
    {
     "name": "stdout",
     "output_type": "stream",
     "text": [
      "Epoch 30. Average reward: -0.2138766015625. Average loss: 0.40303182260110043.\n"
     ]
    }
   ],
   "source": [
    "# Model hyperparameters\n",
    "K = 3\n",
    "actor_neuron_lst = [300, 200 ,100] # [1000, 500, 100]\n",
    "critic_neuron_lst = [300, 200 ,100] # = [1000, 500, 100]\n",
    "discr_neuron_lst = [300, 200 ,100] # = [1000, 500, 100]\n",
    "meta_discr_neuron_lst = [300, 200 ,100] # = [1000, 500, 100]\n",
    "\n",
    "# Training parameters\n",
    "N_epochs = 30\n",
    "gamma =  0.9\n",
    "epsilon = 0\n",
    "optimiser = lambda params : torch.optim.SGD(params, lr=0.0005, weight_decay=1e-4)\n",
    "alpha = [0.005, 0.01]\n",
    "\n",
    "# Dataset\n",
    "M = 50000\n",
    "moa_train = moa_mapped_lst[:M]\n",
    "moa_categories_train = moa_categories_lst[:M]\n",
    "\n",
    "if not SKIP:\n",
    "    actor, critic, path_level_discriminator, meta_path_level_discriminator, loss_hist, actor_loss_hist, critic_loss_hist, discr_loss_hist, meta_discr_loss_hist  = train(kg_env,\n",
    "        K,\n",
    "        moa_train,\n",
    "        moa_categories_train,\n",
    "        actor_neuron_lst,\n",
    "        critic_neuron_lst,\n",
    "        discr_neuron_lst,\n",
    "        meta_discr_neuron_lst,\n",
    "        alpha,\n",
    "        N_epochs,\n",
    "        gamma,\n",
    "        epsilon,\n",
    "        optimiser\n",
    "    )"
   ]
  },
  {
   "cell_type": "code",
   "execution_count": 250,
   "metadata": {},
   "outputs": [
    {
     "data": {
      "image/png": "[encoded data removed]",
      "text/plain": [
       "<Figure size 1800x400 with 5 Axes>"
      ]
     },
     "metadata": {},
     "output_type": "display_data"
    }
   ],
   "source": [
    "# Plot training curve\n",
    "fig, ax = plt.subplots( 1, 5, figsize = (18, 4))\n",
    "ax[0].plot(loss_hist)\n",
    "ax[0].set_title(\"total loss\")\n",
    "ax[0].set_xlabel(\"Epoch\")\n",
    "ax[1].plot(actor_loss_hist)\n",
    "ax[1].set_title(\"actor loss\")\n",
    "ax[1].set_xlabel(\"Epoch\")\n",
    "ax[2].plot(critic_loss_hist)\n",
    "ax[2].set_title(\"critic loss\")\n",
    "ax[2].set_xlabel(\"Epoch\")\n",
    "ax[2].plot(critic_loss_hist)\n",
    "ax[3].set_title(\"discriminator loss\")\n",
    "ax[3].set_xlabel(\"Epoch\")\n",
    "ax[3].plot(discr_loss_hist)\n",
    "ax[4].set_title(\"meta-discriminator loss\")\n",
    "ax[4].set_xlabel(\"Epoch\")\n",
    "ax[4].plot(meta_discr_loss_hist)\n",
    "plt.show()"
   ]
  },
  {
   "cell_type": "code",
   "execution_count": 251,
   "metadata": {},
   "outputs": [],
   "source": [
    "# torch.save(actor, 'output/actor.pt')\n",
    "# torch.save(critic, 'output/critic.pt')\n",
    "# torch.save(path_level_discriminator, 'output/path_discr.pt')\n",
    "# torch.save(meta_path_level_discriminator, 'output/meta_path_discr.pt')"
   ]
  },
  {
   "cell_type": "markdown",
   "metadata": {},
   "source": [
    "## Quick performance check"
   ]
  },
  {
   "cell_type": "code",
   "execution_count": 52,
   "metadata": {},
   "outputs": [],
   "source": [
    "def sample_path(agent: Agent, actor: nn.Module, drug: int, disease: int, K) -> list[int]:\n",
    "    \"\"\"Randomly samples a actor policy path starting from a drug node. \n",
    "\n",
    "    Path terminated in target disease is reached.\n",
    "\n",
    "    Args:\n",
    "        agent: Instance of Agent class.\n",
    "        actor: Actor network. \n",
    "        drug: igraph index for the source drug.\n",
    "        disease: igraph index for the target disease.\n",
    "\n",
    "    Returns:\n",
    "        List of igraph indices.\n",
    "    \"\"\"\n",
    "    # Reset agent\n",
    "    agent.set_source_target(drug, disease)\n",
    "    # Compute path\n",
    "    path = [agent.current_node]\n",
    "    time = 0\n",
    "    while time < K:\n",
    "        probs_next_action = actor(agent.current_state_embedding, agent.all_actions_embeddings)\n",
    "        n_next_action = random.choices(range(len(agent.all_actions)), weights = probs_next_action.tolist())[0]\n",
    "        agent.select_next_action(n_next_action)    \n",
    "        path.append(agent.current_node)\n",
    "        if agent.current_node == disease:\n",
    "            return path\n",
    "        time += 1\n",
    "    return path"
   ]
  },
  {
   "cell_type": "code",
   "execution_count": 53,
   "metadata": {},
   "outputs": [
    {
     "name": "stderr",
     "output_type": "stream",
     "text": [
      "/var/folders/n9/31hlv__n1dzcrfdgr3ym1r6w0000gn/T/ipykernel_11506/2449321748.py:3: FutureWarning: You are using `torch.load` with `weights_only=False` (the current default value), which uses the default pickle module implicitly. It is possible to construct malicious pickle data which will execute arbitrary code during unpickling (See https://github.com/pytorch/pytorch/blob/main/SECURITY.md#untrusted-models for more details). In a future release, the default value for `weights_only` will be flipped to `True`. This limits the functions that could be executed during unpickling. Arbitrary objects will no longer be allowed to be loaded via this mode unless they are explicitly allowlisted by the user via `torch.serialization.add_safe_globals`. We recommend you start setting `weights_only=True` for any use case where you don't have full control of the loaded file. Please open an issue on GitHub for any issues related to this experimental feature.\n",
      "  actor = torch.load('output/actor.pt')\n"
     ]
    }
   ],
   "source": [
    "K = 3\n",
    "agent = Agent(K, kg_env)\n",
    "actor = torch.load('output/actor.pt')"
   ]
  },
  {
   "cell_type": "code",
   "execution_count": 72,
   "metadata": {},
   "outputs": [],
   "source": [
    "N = 5000\n",
    "drug = df_tp_mapped.iloc[N][\"source\"]\n",
    "disease = df_tp_mapped.iloc[N][\"target\"]"
   ]
  },
  {
   "cell_type": "code",
   "execution_count": 83,
   "metadata": {},
   "outputs": [
    {
     "name": "stdout",
     "output_type": "stream",
     "text": [
      "drug:  11951 disease 249807\n"
     ]
    },
    {
     "data": {
      "text/plain": [
       "[11951, 11951, 11951, 11951]"
      ]
     },
     "execution_count": 83,
     "metadata": {},
     "output_type": "execute_result"
    }
   ],
   "source": [
    "print(\"drug: \", drug, \"disease\", disease)\n",
    "sample_path(agent, actor, drug, disease, K)"
   ]
  },
  {
   "cell_type": "markdown",
   "metadata": {},
   "source": [
    "We observe that most of the time the agent stays where it is. "
   ]
  }
 ],
 "metadata": {
  "kernelspec": {
   "display_name": "env_full",
   "language": "python",
   "name": "python3"
  },
  "language_info": {
   "codemirror_mode": {
    "name": "ipython",
    "version": 3
   },
   "file_extension": ".py",
   "mimetype": "text/x-python",
   "name": "python",
   "nbconvert_exporter": "python",
   "pygments_lexer": "ipython3",
   "version": "3.11.9"
  }
 },
 "nbformat": 4,
 "nbformat_minor": 2
}
