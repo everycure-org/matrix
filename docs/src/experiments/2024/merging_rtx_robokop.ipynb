{
 "cells": [
  {
   "cell_type": "markdown",
   "metadata": {},
   "source": [
    "# Merging RTX and Robokop\n",
    "\n",
    "This notebook summarizes our results when merging RTX and Robokop. using Translators Node Normalization.\n",
    "For this we downloaded RTX KG2 v2.7.3 and Robo `c5ec1f282158182f`\n",
    "\n",
    "\n",
    "## Summary\n",
    "\n",
    "TODO\n"
   ]
  },
  {
   "cell_type": "code",
   "execution_count": 8,
   "metadata": {},
   "outputs": [],
   "source": [
    "%%capture\n",
    "# Import dependencies\n",
    "import pyspark as ps\n",
    "import os\n",
    "from pathlib import Path\n",
    "import subprocess\n",
    "import pyspark.sql.functions as f\n",
    "# import spark \n",
    "%load_ext autoreload\n",
    "%autoreload 2\n",
    "from rich.console import Console\n",
    "from rich.logging import RichHandler\n",
    "from rich.panel import Panel\n",
    "console = Console()\n",
    "\n",
    "# hack that moves this notebook context into the kedro path\n",
    "root_path = subprocess.check_output(['git', 'rev-parse', '--show-toplevel']).decode().strip()\n",
    "os.chdir(Path(root_path) / 'pipelines' / 'matrix')\n",
    "\n",
    "# this loads various objects into the context, see \n",
    "# https://docs.kedro.org/en/stable/notebooks_and_ipython/kedro_and_notebooks.html#kedro-line-magics\n",
    "%load_ext kedro.ipython\n",
    "# %reload_kedro  --env cloud\n",
    "# %reload_kedro  --env test\n",
    "%reload_kedro\n"
   ]
  },
  {
   "cell_type": "code",
   "execution_count": 33,
   "metadata": {},
   "outputs": [],
   "source": [
    "def top_20(df):\n",
    "    return df._jdf.showString(20,200, False)"
   ]
  },
  {
   "cell_type": "code",
   "execution_count": 9,
   "metadata": {},
   "outputs": [
    {
     "name": "stderr",
     "output_type": "stream",
     "text": [
      "24/10/07 17:52:05 WARN Utils: Service 'SparkUI' could not bind on port 4040. Attempting port 4041.\n"
     ]
    }
   ],
   "source": [
    "%%capture\n",
    "unified_nodes = catalog.load(\"integration.prm.unified_nodes\")\n",
    "unified_edges = catalog.load(\"integration.prm.unified_edges\")\n",
    "robo_nodes = catalog.load(\"integration.int.robokop.nodes\")\n",
    "robo_edges = catalog.load(\"integration.int.robokop.edges\")\n",
    "rtx_nodes = catalog.load(\"integration.int.rtx.nodes\")\n",
    "rtx_edges = catalog.load(\"integration.int.rtx.edges\")"
   ]
  },
  {
   "cell_type": "code",
   "execution_count": 20,
   "metadata": {},
   "outputs": [
    {
     "data": {
      "text/html": [
       "<pre style=\"white-space:pre;overflow-x:auto;line-height:normal;font-family:Menlo,'DejaVu Sans Mono',consolas,'Courier New',monospace\"><span style=\"color: #00ff00; text-decoration-color: #00ff00\">─────────────────────────────────────────────────── </span><span style=\"color: #000080; text-decoration-color: #000080; font-weight: bold\">Unified KG</span><span style=\"color: #00ff00; text-decoration-color: #00ff00\"> ────────────────────────────────────────────────────</span>\n",
       "</pre>\n"
      ],
      "text/plain": [
       "\u001b[92m─────────────────────────────────────────────────── \u001b[0m\u001b[1;34mUnified KG\u001b[0m\u001b[92m ────────────────────────────────────────────────────\u001b[0m\n"
      ]
     },
     "metadata": {},
     "output_type": "display_data"
    },
    {
     "data": {
      "text/html": [
       "<pre style=\"white-space:pre;overflow-x:auto;line-height:normal;font-family:Menlo,'DejaVu Sans Mono',consolas,'Courier New',monospace\">╭────── Node Counts ──────╮\n",
       "│                         │\n",
       "│ Unified Nodes: 12772268 │\n",
       "│ Robo Nodes: 9748240     │\n",
       "│ RTX Nodes: 3659686      │\n",
       "│                         │\n",
       "╰─────────────────────────╯\n",
       "</pre>\n"
      ],
      "text/plain": [
       "╭────── Node Counts ──────╮\n",
       "│                         │\n",
       "│ Unified Nodes: 12772268 │\n",
       "│ Robo Nodes: 9748240     │\n",
       "│ RTX Nodes: 3659686      │\n",
       "│                         │\n",
       "╰─────────────────────────╯\n"
      ]
     },
     "metadata": {},
     "output_type": "display_data"
    },
    {
     "data": {
      "text/html": [
       "<pre style=\"white-space:pre;overflow-x:auto;line-height:normal;font-family:Menlo,'DejaVu Sans Mono',consolas,'Courier New',monospace\">╭────── Edge Counts ───────╮\n",
       "│                          │\n",
       "│ Unified Edges: 150717205 │\n",
       "│ Robo Edges: 137706046    │\n",
       "│ RTX Edges: 18402956      │\n",
       "│                          │\n",
       "╰──────────────────────────╯\n",
       "</pre>\n"
      ],
      "text/plain": [
       "╭────── Edge Counts ───────╮\n",
       "│                          │\n",
       "│ Unified Edges: 150717205 │\n",
       "│ Robo Edges: 137706046    │\n",
       "│ RTX Edges: 18402956      │\n",
       "│                          │\n",
       "╰──────────────────────────╯\n"
      ]
     },
     "metadata": {},
     "output_type": "display_data"
    },
    {
     "data": {
      "text/html": [
       "<pre style=\"white-space:pre;overflow-x:auto;line-height:normal;font-family:Menlo,'DejaVu Sans Mono',consolas,'Courier New',monospace\">╭────── Node Origin Proportions ──────╮\n",
       "│                                     │\n",
       "│ Nodes originating from RTX: 28.55%  │\n",
       "│ Nodes originating from Robo: 76.32% │\n",
       "│ Nodes originating from Both: 4.88%  │\n",
       "│                                     │\n",
       "╰─────────────────────────────────────╯\n",
       "</pre>\n"
      ],
      "text/plain": [
       "╭────── Node Origin Proportions ──────╮\n",
       "│                                     │\n",
       "│ Nodes originating from RTX: 28.55%  │\n",
       "│ Nodes originating from Robo: 76.32% │\n",
       "│ Nodes originating from Both: 4.88%  │\n",
       "│                                     │\n",
       "╰─────────────────────────────────────╯\n"
      ]
     },
     "metadata": {},
     "output_type": "display_data"
    },
    {
     "name": "stderr",
     "output_type": "stream",
     "text": [
      "                                                                                \r"
     ]
    },
    {
     "data": {
      "text/html": [
       "<pre style=\"white-space:pre;overflow-x:auto;line-height:normal;font-family:Menlo,'DejaVu Sans Mono',consolas,'Courier New',monospace\">╭────── Edge Origin Proportions ──────╮\n",
       "│                                     │\n",
       "│ Edges originating from RTX: 12.18%  │\n",
       "│ Edges originating from Robo: 88.37% │\n",
       "│ Edges originating from Both: 0.55%  │\n",
       "│                                     │\n",
       "╰─────────────────────────────────────╯\n",
       "</pre>\n"
      ],
      "text/plain": [
       "╭────── Edge Origin Proportions ──────╮\n",
       "│                                     │\n",
       "│ Edges originating from RTX: 12.18%  │\n",
       "│ Edges originating from Robo: 88.37% │\n",
       "│ Edges originating from Both: 0.55%  │\n",
       "│                                     │\n",
       "╰─────────────────────────────────────╯\n"
      ]
     },
     "metadata": {},
     "output_type": "display_data"
    }
   ],
   "source": [
    "console.rule(\"[bold blue]Unified KG\")\n",
    "console.print(Panel.fit(f\"\"\"\n",
    "Unified Nodes: {unified_nodes.count()}\n",
    "Robo Nodes: {robo_nodes.count()}\n",
    "RTX Nodes: {rtx_nodes.count()}\n",
    "\"\"\", title=\"Node Counts\"))\n",
    "# now edges\n",
    "console.print(Panel.fit(f\"\"\"\n",
    "Unified Edges: {unified_edges.count()}\n",
    "Robo Edges: {robo_edges.count()}\n",
    "RTX Edges: {rtx_edges.count()}\n",
    "\"\"\", title=\"Edge Counts\"))\n",
    "# first calculate the number of nodes and edges in each kg\n",
    "unified_node_count = unified_nodes.count()\n",
    "unified_edge_count = unified_edges.count()\n",
    "robo_node_count = robo_nodes.count()\n",
    "robo_edge_count = robo_edges.count()\n",
    "rtx_node_count = rtx_nodes.count()\n",
    "rtx_edge_count = rtx_edges.count()\n",
    "\n",
    "nodes_in_both = unified_nodes.filter(f.array_contains(f.col(\"upstream_data_source\"), \"rtxkg2\") & f.array_contains(f.col(\"upstream_data_source\"), \"robokop\"))\n",
    "nodes_in_rtx = unified_nodes.filter(f.array_contains(f.col(\"upstream_data_source\"), \"rtxkg2\"))\n",
    "nodes_in_robo = unified_nodes.filter(f.array_contains(f.col(\"upstream_data_source\"), \"robokop\"))\n",
    "\n",
    "console.print(Panel.fit(\n",
    "f\"\"\"\n",
    "Nodes originating from RTX: {nodes_in_rtx.count()/unified_node_count*100:.2f}%\n",
    "Nodes originating from Robo: {nodes_in_robo.count()/unified_node_count*100:.2f}%\n",
    "Nodes originating from Both: {nodes_in_both.count()/unified_node_count*100:.2f}%\n",
    "\"\"\", title=\"Node Origin Proportions\"))\n",
    "\n",
    "edges_in_both = unified_edges.filter(f.array_contains(f.col(\"upstream_data_source\"), \"rtxkg2\") & f.array_contains(f.col(\"upstream_data_source\"), \"robokop\"))\n",
    "edges_in_rtx = unified_edges.filter(f.array_contains(f.col(\"upstream_data_source\"), \"rtxkg2\"))\n",
    "edges_in_robo = unified_edges.filter(f.array_contains(f.col(\"upstream_data_source\"), \"robokop\"))\n",
    "\n",
    "console.print(Panel.fit(\n",
    "f\"\"\"\n",
    "Edges originating from RTX: {edges_in_rtx.count()/unified_edge_count*100:.2f}%\n",
    "Edges originating from Robo: {edges_in_robo.count()/unified_edge_count*100:.2f}%\n",
    "Edges originating from Both: {edges_in_both.count()/unified_edge_count*100:.2f}%\n",
    "\"\"\", title=\"Edge Origin Proportions\"))\n"
   ]
  },
  {
   "cell_type": "markdown",
   "metadata": {},
   "source": [
    "Wow that's not a lot of edges that are present in both. I wonder why there are so many more edges in Robokop as well. There's like 150M edges there and only 18M in RTX. \n",
    "Let's look at the predicate counts:\n"
   ]
  },
  {
   "cell_type": "code",
   "execution_count": 36,
   "metadata": {},
   "outputs": [
    {
     "name": "stderr",
     "output_type": "stream",
     "text": [
      "                                                                                \r"
     ]
    },
    {
     "data": {
      "text/html": [
       "<pre style=\"white-space:pre;overflow-x:auto;line-height:normal;font-family:Menlo,'DejaVu Sans Mono',consolas,'Courier New',monospace\">╭─────────── predicate Counts in Both ────────────╮\n",
       "│ +--------------------------------------+------+ │\n",
       "│ |                             predicate| count| │\n",
       "│ +--------------------------------------+------+ │\n",
       "│ |                   biolink:subclass_of|490258| │\n",
       "│ |               biolink:has_participant|243446| │\n",
       "│ |                      biolink:has_part| 15244| │\n",
       "│ |                    biolink:located_in| 13586| │\n",
       "│ |                      biolink:in_taxon| 10876| │\n",
       "│ |     biolink:physically_interacts_with| 10072| │\n",
       "│ |                       biolink:affects|  9250| │\n",
       "│ |                     biolink:has_input|  8539| │\n",
       "│ |                    biolink:related_to|  8500| │\n",
       "│ |                    biolink:has_output|  4834| │\n",
       "│ |                        biolink:treats|  4782| │\n",
       "│ |biolink:gene_associated_with_condition|  3733| │\n",
       "│ |                 biolink:develops_from|  1548| │\n",
       "│ |                 biolink:has_phenotype|  1534| │\n",
       "│ |                 biolink:coexists_with|   827| │\n",
       "│ |                        biolink:causes|   823| │\n",
       "│ |                      biolink:overlaps|   681| │\n",
       "│ |                  biolink:expressed_in|   573| │\n",
       "│ |              biolink:colocalizes_with|    98| │\n",
       "│ |                biolink:contributes_to|    94| │\n",
       "│ +--------------------------------------+------+ │\n",
       "│ only showing top 20 rows                        │\n",
       "│                                                 │\n",
       "╰─────────────────────────────────────────────────╯\n",
       "</pre>\n"
      ],
      "text/plain": [
       "╭─────────── predicate Counts in Both ────────────╮\n",
       "│ +--------------------------------------+------+ │\n",
       "│ |                             predicate| count| │\n",
       "│ +--------------------------------------+------+ │\n",
       "│ |                   biolink:subclass_of|490258| │\n",
       "│ |               biolink:has_participant|243446| │\n",
       "│ |                      biolink:has_part| 15244| │\n",
       "│ |                    biolink:located_in| 13586| │\n",
       "│ |                      biolink:in_taxon| 10876| │\n",
       "│ |     biolink:physically_interacts_with| 10072| │\n",
       "│ |                       biolink:affects|  9250| │\n",
       "│ |                     biolink:has_input|  8539| │\n",
       "│ |                    biolink:related_to|  8500| │\n",
       "│ |                    biolink:has_output|  4834| │\n",
       "│ |                        biolink:treats|  4782| │\n",
       "│ |biolink:gene_associated_with_condition|  3733| │\n",
       "│ |                 biolink:develops_from|  1548| │\n",
       "│ |                 biolink:has_phenotype|  1534| │\n",
       "│ |                 biolink:coexists_with|   827| │\n",
       "│ |                        biolink:causes|   823| │\n",
       "│ |                      biolink:overlaps|   681| │\n",
       "│ |                  biolink:expressed_in|   573| │\n",
       "│ |              biolink:colocalizes_with|    98| │\n",
       "│ |                biolink:contributes_to|    94| │\n",
       "│ +--------------------------------------+------+ │\n",
       "│ only showing top 20 rows                        │\n",
       "│                                                 │\n",
       "╰─────────────────────────────────────────────────╯\n"
      ]
     },
     "metadata": {},
     "output_type": "display_data"
    },
    {
     "name": "stderr",
     "output_type": "stream",
     "text": [
      "                                                                                \r"
     ]
    },
    {
     "data": {
      "text/html": [
       "<pre style=\"white-space:pre;overflow-x:auto;line-height:normal;font-family:Menlo,'DejaVu Sans Mono',consolas,'Courier New',monospace\">╭──────────── predicate Counts in RTX ─────────────╮\n",
       "│ +--------------------------------------+-------+ │\n",
       "│ |                             predicate|  count| │\n",
       "│ +--------------------------------------+-------+ │\n",
       "│ |               biolink:has_participant|3837590| │\n",
       "│ |                     biolink:occurs_in|3087968| │\n",
       "│ |                   biolink:subclass_of|2983431| │\n",
       "│ |     biolink:physically_interacts_with|2641479| │\n",
       "│ |                    biolink:related_to|1535302| │\n",
       "│ |biolink:gene_associated_with_condition| 839112| │\n",
       "│ |                      biolink:in_taxon| 583731| │\n",
       "│ |                      biolink:has_part| 403589| │\n",
       "│ |                    biolink:has_output| 375980| │\n",
       "│ |                     biolink:has_input| 364437| │\n",
       "│ |              biolink:transcribed_from| 257221| │\n",
       "│ |                    biolink:located_in| 239580| │\n",
       "│ |                   biolink:close_match| 212699| │\n",
       "│ |                biolink:interacts_with| 133377| │\n",
       "│ |                       biolink:affects| 119041| │\n",
       "│ |                 biolink:coexists_with|  97832| │\n",
       "│ |               biolink:gene_product_of|  90416| │\n",
       "│ |                       biolink:enables|  68829| │\n",
       "│ |                        biolink:treats|  51621| │\n",
       "│ |                 biolink:translates_to|  47331| │\n",
       "│ +--------------------------------------+-------+ │\n",
       "│ only showing top 20 rows                         │\n",
       "│                                                  │\n",
       "╰──────────────────────────────────────────────────╯\n",
       "</pre>\n"
      ],
      "text/plain": [
       "╭──────────── predicate Counts in RTX ─────────────╮\n",
       "│ +--------------------------------------+-------+ │\n",
       "│ |                             predicate|  count| │\n",
       "│ +--------------------------------------+-------+ │\n",
       "│ |               biolink:has_participant|3837590| │\n",
       "│ |                     biolink:occurs_in|3087968| │\n",
       "│ |                   biolink:subclass_of|2983431| │\n",
       "│ |     biolink:physically_interacts_with|2641479| │\n",
       "│ |                    biolink:related_to|1535302| │\n",
       "│ |biolink:gene_associated_with_condition| 839112| │\n",
       "│ |                      biolink:in_taxon| 583731| │\n",
       "│ |                      biolink:has_part| 403589| │\n",
       "│ |                    biolink:has_output| 375980| │\n",
       "│ |                     biolink:has_input| 364437| │\n",
       "│ |              biolink:transcribed_from| 257221| │\n",
       "│ |                    biolink:located_in| 239580| │\n",
       "│ |                   biolink:close_match| 212699| │\n",
       "│ |                biolink:interacts_with| 133377| │\n",
       "│ |                       biolink:affects| 119041| │\n",
       "│ |                 biolink:coexists_with|  97832| │\n",
       "│ |               biolink:gene_product_of|  90416| │\n",
       "│ |                       biolink:enables|  68829| │\n",
       "│ |                        biolink:treats|  51621| │\n",
       "│ |                 biolink:translates_to|  47331| │\n",
       "│ +--------------------------------------+-------+ │\n",
       "│ only showing top 20 rows                         │\n",
       "│                                                  │\n",
       "╰──────────────────────────────────────────────────╯\n"
      ]
     },
     "metadata": {},
     "output_type": "display_data"
    },
    {
     "name": "stderr",
     "output_type": "stream",
     "text": [
      "                                                                                \r"
     ]
    },
    {
     "data": {
      "text/html": [
       "<pre style=\"white-space:pre;overflow-x:auto;line-height:normal;font-family:Menlo,'DejaVu Sans Mono',consolas,'Courier New',monospace\">╭──────────────── predicate Counts in Robo ────────────────╮\n",
       "│ +---------------------------------------------+--------+ │\n",
       "│ |                                    predicate|   count| │\n",
       "│ +---------------------------------------------+--------+ │\n",
       "│ |                          biolink:subclass_of|60176118| │\n",
       "│ |                 biolink:is_nearby_variant_of|31864140| │\n",
       "│ |                              biolink:affects|18098919| │\n",
       "│ |                     biolink:coexpressed_with| 9210882| │\n",
       "│ |             biolink:is_non_coding_variant_of| 3858701| │\n",
       "│ |            biolink:physically_interacts_with| 1415606| │\n",
       "│ |                        biolink:has_phenotype| 1100999| │\n",
       "│ |                         biolink:expressed_in| 1091384| │\n",
       "│ |                 biolink:actively_involved_in|  952972| │\n",
       "│ |   biolink:directly_physically_interacts_with|  815337| │\n",
       "│ |                      biolink:has_participant|  558161| │\n",
       "│ |                            biolink:regulates|  528959| │\n",
       "│ |                                biolink:binds|  433800| │\n",
       "│ |biolink:treats_or_applied_or_studied_to_treat|  324085| │\n",
       "│ |                            biolink:occurs_in|  255150| │\n",
       "│ |                            biolink:catalyzes|  237533| │\n",
       "│ |                        biolink:homologous_to|  230627| │\n",
       "│ |                           biolink:located_in|  222328| │\n",
       "│ |                    biolink:has_adverse_event|  202144| │\n",
       "│ |                             biolink:has_part|  191638| │\n",
       "│ +---------------------------------------------+--------+ │\n",
       "│ only showing top 20 rows                                 │\n",
       "│                                                          │\n",
       "╰──────────────────────────────────────────────────────────╯\n",
       "</pre>\n"
      ],
      "text/plain": [
       "╭──────────────── predicate Counts in Robo ────────────────╮\n",
       "│ +---------------------------------------------+--------+ │\n",
       "│ |                                    predicate|   count| │\n",
       "│ +---------------------------------------------+--------+ │\n",
       "│ |                          biolink:subclass_of|60176118| │\n",
       "│ |                 biolink:is_nearby_variant_of|31864140| │\n",
       "│ |                              biolink:affects|18098919| │\n",
       "│ |                     biolink:coexpressed_with| 9210882| │\n",
       "│ |             biolink:is_non_coding_variant_of| 3858701| │\n",
       "│ |            biolink:physically_interacts_with| 1415606| │\n",
       "│ |                        biolink:has_phenotype| 1100999| │\n",
       "│ |                         biolink:expressed_in| 1091384| │\n",
       "│ |                 biolink:actively_involved_in|  952972| │\n",
       "│ |   biolink:directly_physically_interacts_with|  815337| │\n",
       "│ |                      biolink:has_participant|  558161| │\n",
       "│ |                            biolink:regulates|  528959| │\n",
       "│ |                                biolink:binds|  433800| │\n",
       "│ |biolink:treats_or_applied_or_studied_to_treat|  324085| │\n",
       "│ |                            biolink:occurs_in|  255150| │\n",
       "│ |                            biolink:catalyzes|  237533| │\n",
       "│ |                        biolink:homologous_to|  230627| │\n",
       "│ |                           biolink:located_in|  222328| │\n",
       "│ |                    biolink:has_adverse_event|  202144| │\n",
       "│ |                             biolink:has_part|  191638| │\n",
       "│ +---------------------------------------------+--------+ │\n",
       "│ only showing top 20 rows                                 │\n",
       "│                                                          │\n",
       "╰──────────────────────────────────────────────────────────╯\n"
      ]
     },
     "metadata": {},
     "output_type": "display_data"
    }
   ],
   "source": [
    "def stats_on_df(df: ps.sql.DataFrame, col: str, kg_name: str):\n",
    "    df_counts = df.groupBy(col).count().sort(\"count\", ascending=False)\n",
    "    console.print(Panel.fit(top_20(df_counts), title=f\"{col} Counts in {kg_name}\"))\n",
    "\n",
    "stats_on_df(edges_in_both, \"predicate\", \"Both\")\n",
    "stats_on_df(edges_in_rtx, \"predicate\", \"RTX\")\n",
    "stats_on_df(edges_in_robo, \"predicate\", \"Robo\")\n",
    "\n"
   ]
  },
  {
   "cell_type": "code",
   "execution_count": 37,
   "metadata": {},
   "outputs": [
    {
     "data": {
      "text/html": [
       "<pre style=\"white-space:pre;overflow-x:auto;line-height:normal;font-family:Menlo,'DejaVu Sans Mono',consolas,'Courier New',monospace\">╭─────────────── category Counts in Both ───────────────╮\n",
       "│ +--------------------------------------------+------+ │\n",
       "│ |                                    category| count| │\n",
       "│ +--------------------------------------------+------+ │\n",
       "│ |                             biolink:Protein|190001| │\n",
       "│ |                     biolink:MolecularEntity|104015| │\n",
       "│ |                       biolink:OrganismTaxon| 71901| │\n",
       "│ |                       biolink:SmallMolecule| 67576| │\n",
       "│ |                                biolink:Gene| 38703| │\n",
       "│ |                             biolink:Disease| 35584| │\n",
       "│ |                             biolink:Pathway| 31195| │\n",
       "│ |          biolink:DiseaseOrPhenotypicFeature| 19509| │\n",
       "│ |                    biolink:AnatomicalEntity| 15921| │\n",
       "│ |                   biolink:MolecularActivity| 12931| │\n",
       "│ |                      biolink:ChemicalEntity|  8977| │\n",
       "│ |                          biolink:NamedThing|  5065| │\n",
       "│ |   biolink:ChemicalEntityOrGeneOrGeneProduct|  4501| │\n",
       "│ |          biolink:PhysicalEssenceOrOccurrent|  4031| │\n",
       "│ |biolink:ChemicalEntityOrProteinOrPolypeptide|  2419| │\n",
       "│ |                   biolink:PhenotypicFeature|  2032| │\n",
       "│ |                                biolink:Cell|  1624| │\n",
       "│ |                   biolink:CellularComponent|  1612| │\n",
       "│ |                      biolink:ThingWithTaxon|  1609| │\n",
       "│ |            biolink:GrossAnatomicalStructure|  1562| │\n",
       "│ +--------------------------------------------+------+ │\n",
       "│ only showing top 20 rows                              │\n",
       "│                                                       │\n",
       "╰───────────────────────────────────────────────────────╯\n",
       "</pre>\n"
      ],
      "text/plain": [
       "╭─────────────── category Counts in Both ───────────────╮\n",
       "│ +--------------------------------------------+------+ │\n",
       "│ |                                    category| count| │\n",
       "│ +--------------------------------------------+------+ │\n",
       "│ |                             biolink:Protein|190001| │\n",
       "│ |                     biolink:MolecularEntity|104015| │\n",
       "│ |                       biolink:OrganismTaxon| 71901| │\n",
       "│ |                       biolink:SmallMolecule| 67576| │\n",
       "│ |                                biolink:Gene| 38703| │\n",
       "│ |                             biolink:Disease| 35584| │\n",
       "│ |                             biolink:Pathway| 31195| │\n",
       "│ |          biolink:DiseaseOrPhenotypicFeature| 19509| │\n",
       "│ |                    biolink:AnatomicalEntity| 15921| │\n",
       "│ |                   biolink:MolecularActivity| 12931| │\n",
       "│ |                      biolink:ChemicalEntity|  8977| │\n",
       "│ |                          biolink:NamedThing|  5065| │\n",
       "│ |   biolink:ChemicalEntityOrGeneOrGeneProduct|  4501| │\n",
       "│ |          biolink:PhysicalEssenceOrOccurrent|  4031| │\n",
       "│ |biolink:ChemicalEntityOrProteinOrPolypeptide|  2419| │\n",
       "│ |                   biolink:PhenotypicFeature|  2032| │\n",
       "│ |                                biolink:Cell|  1624| │\n",
       "│ |                   biolink:CellularComponent|  1612| │\n",
       "│ |                      biolink:ThingWithTaxon|  1609| │\n",
       "│ |            biolink:GrossAnatomicalStructure|  1562| │\n",
       "│ +--------------------------------------------+------+ │\n",
       "│ only showing top 20 rows                              │\n",
       "│                                                       │\n",
       "╰───────────────────────────────────────────────────────╯\n"
      ]
     },
     "metadata": {},
     "output_type": "display_data"
    },
    {
     "data": {
      "text/html": [
       "<pre style=\"white-space:pre;overflow-x:auto;line-height:normal;font-family:Menlo,'DejaVu Sans Mono',consolas,'Courier New',monospace\">╭─────────── category Counts in RTX ───────────╮\n",
       "│ +----------------------------------+-------+ │\n",
       "│ |                          category|  count| │\n",
       "│ +----------------------------------+-------+ │\n",
       "│ |             biolink:OrganismTaxon|1785601| │\n",
       "│ |                biolink:Transcript| 257221| │\n",
       "│ |         biolink:MolecularActivity| 228645| │\n",
       "│ |                   biolink:Protein| 197335| │\n",
       "│ |            biolink:ChemicalEntity| 187144| │\n",
       "│ |             biolink:SmallMolecule| 135790| │\n",
       "│ |                      biolink:Drug| 132905| │\n",
       "│ |           biolink:MolecularEntity| 130711| │\n",
       "│ |          biolink:AnatomicalEntity| 124429| │\n",
       "│ |                      biolink:Gene| 111966| │\n",
       "│ |                   biolink:Disease|  84705| │\n",
       "│ |                   biolink:Pathway|  69550| │\n",
       "│ |               biolink:Polypeptide|  44705| │\n",
       "│ |biolink:DiseaseOrPhenotypicFeature|  33237| │\n",
       "│ |      biolink:PhysiologicalProcess|  33217| │\n",
       "│ |          biolink:BiologicalEntity|  19908| │\n",
       "│ |         biolink:NucleicAcidEntity|  15685| │\n",
       "│ |  biolink:GrossAnatomicalStructure|  14866| │\n",
       "│ |         biolink:CellularComponent|   6927| │\n",
       "│ |                biolink:NamedThing|   5065| │\n",
       "│ +----------------------------------+-------+ │\n",
       "│ only showing top 20 rows                     │\n",
       "│                                              │\n",
       "╰──────────────────────────────────────────────╯\n",
       "</pre>\n"
      ],
      "text/plain": [
       "╭─────────── category Counts in RTX ───────────╮\n",
       "│ +----------------------------------+-------+ │\n",
       "│ |                          category|  count| │\n",
       "│ +----------------------------------+-------+ │\n",
       "│ |             biolink:OrganismTaxon|1785601| │\n",
       "│ |                biolink:Transcript| 257221| │\n",
       "│ |         biolink:MolecularActivity| 228645| │\n",
       "│ |                   biolink:Protein| 197335| │\n",
       "│ |            biolink:ChemicalEntity| 187144| │\n",
       "│ |             biolink:SmallMolecule| 135790| │\n",
       "│ |                      biolink:Drug| 132905| │\n",
       "│ |           biolink:MolecularEntity| 130711| │\n",
       "│ |          biolink:AnatomicalEntity| 124429| │\n",
       "│ |                      biolink:Gene| 111966| │\n",
       "│ |                   biolink:Disease|  84705| │\n",
       "│ |                   biolink:Pathway|  69550| │\n",
       "│ |               biolink:Polypeptide|  44705| │\n",
       "│ |biolink:DiseaseOrPhenotypicFeature|  33237| │\n",
       "│ |      biolink:PhysiologicalProcess|  33217| │\n",
       "│ |          biolink:BiologicalEntity|  19908| │\n",
       "│ |         biolink:NucleicAcidEntity|  15685| │\n",
       "│ |  biolink:GrossAnatomicalStructure|  14866| │\n",
       "│ |         biolink:CellularComponent|   6927| │\n",
       "│ |                biolink:NamedThing|   5065| │\n",
       "│ +----------------------------------+-------+ │\n",
       "│ only showing top 20 rows                     │\n",
       "│                                              │\n",
       "╰──────────────────────────────────────────────╯\n"
      ]
     },
     "metadata": {},
     "output_type": "display_data"
    },
    {
     "data": {
      "text/html": [
       "<pre style=\"white-space:pre;overflow-x:auto;line-height:normal;font-family:Menlo,'DejaVu Sans Mono',consolas,'Courier New',monospace\">╭─────────────── category Counts in Robo ────────────────╮\n",
       "│ +--------------------------------------------+-------+ │\n",
       "│ |                                    category|  count| │\n",
       "│ +--------------------------------------------+-------+ │\n",
       "│ |                       biolink:GenomicEntity|5112649| │\n",
       "│ |                          biolink:NamedThing|2471600| │\n",
       "│ |          biolink:PhysicalEssenceOrOccurrent|1103707| │\n",
       "│ |                     biolink:MolecularEntity| 319537| │\n",
       "│ |                             biolink:Protein| 190001| │\n",
       "│ |          biolink:MacromolecularMachineMixin|  98131| │\n",
       "│ |                       biolink:OrganismTaxon|  71901| │\n",
       "│ |                       biolink:SmallMolecule|  67576| │\n",
       "│ |biolink:ChemicalEntityOrProteinOrPolypeptide|  55566| │\n",
       "│ |                      biolink:ThingWithTaxon|  51483| │\n",
       "│ |                                biolink:Gene|  38703| │\n",
       "│ |                             biolink:Disease|  35584| │\n",
       "│ |                             biolink:Pathway|  31195| │\n",
       "│ |          biolink:DiseaseOrPhenotypicFeature|  27606| │\n",
       "│ |   biolink:ChemicalEntityOrGeneOrGeneProduct|  23986| │\n",
       "│ |                    biolink:AnatomicalEntity|  17938| │\n",
       "│ |                   biolink:MolecularActivity|  12931| │\n",
       "│ |                      biolink:ChemicalEntity|   8977| │\n",
       "│ |                   biolink:PhenotypicFeature|   2032| │\n",
       "│ |                                biolink:Cell|   1624| │\n",
       "│ +--------------------------------------------+-------+ │\n",
       "│ only showing top 20 rows                               │\n",
       "│                                                        │\n",
       "╰────────────────────────────────────────────────────────╯\n",
       "</pre>\n"
      ],
      "text/plain": [
       "╭─────────────── category Counts in Robo ────────────────╮\n",
       "│ +--------------------------------------------+-------+ │\n",
       "│ |                                    category|  count| │\n",
       "│ +--------------------------------------------+-------+ │\n",
       "│ |                       biolink:GenomicEntity|5112649| │\n",
       "│ |                          biolink:NamedThing|2471600| │\n",
       "│ |          biolink:PhysicalEssenceOrOccurrent|1103707| │\n",
       "│ |                     biolink:MolecularEntity| 319537| │\n",
       "│ |                             biolink:Protein| 190001| │\n",
       "│ |          biolink:MacromolecularMachineMixin|  98131| │\n",
       "│ |                       biolink:OrganismTaxon|  71901| │\n",
       "│ |                       biolink:SmallMolecule|  67576| │\n",
       "│ |biolink:ChemicalEntityOrProteinOrPolypeptide|  55566| │\n",
       "│ |                      biolink:ThingWithTaxon|  51483| │\n",
       "│ |                                biolink:Gene|  38703| │\n",
       "│ |                             biolink:Disease|  35584| │\n",
       "│ |                             biolink:Pathway|  31195| │\n",
       "│ |          biolink:DiseaseOrPhenotypicFeature|  27606| │\n",
       "│ |   biolink:ChemicalEntityOrGeneOrGeneProduct|  23986| │\n",
       "│ |                    biolink:AnatomicalEntity|  17938| │\n",
       "│ |                   biolink:MolecularActivity|  12931| │\n",
       "│ |                      biolink:ChemicalEntity|   8977| │\n",
       "│ |                   biolink:PhenotypicFeature|   2032| │\n",
       "│ |                                biolink:Cell|   1624| │\n",
       "│ +--------------------------------------------+-------+ │\n",
       "│ only showing top 20 rows                               │\n",
       "│                                                        │\n",
       "╰────────────────────────────────────────────────────────╯\n"
      ]
     },
     "metadata": {},
     "output_type": "display_data"
    }
   ],
   "source": [
    "\n",
    "stats_on_df(nodes_in_both, \"category\", \"Both\")\n",
    "stats_on_df(nodes_in_rtx, \"category\", \"RTX\")\n",
    "stats_on_df(nodes_in_robo, \"category\", \"Robo\")"
   ]
  },
  {
   "cell_type": "code",
   "execution_count": null,
   "metadata": {},
   "outputs": [],
   "source": []
  }
 ],
 "metadata": {
  "kernelspec": {
   "display_name": ".venv",
   "language": "python",
   "name": "python3"
  },
  "language_info": {
   "codemirror_mode": {
    "name": "ipython",
    "version": 3
   },
   "file_extension": ".py",
   "mimetype": "text/x-python",
   "name": "python",
   "nbconvert_exporter": "python",
   "pygments_lexer": "ipython3",
   "version": "3.11.9"
  }
 },
 "nbformat": 4,
 "nbformat_minor": 2
}
