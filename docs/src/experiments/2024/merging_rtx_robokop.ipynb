{
 "cells": [
  {
   "cell_type": "markdown",
   "metadata": {},
   "source": [
    "# Merging RTX and Robokop\n",
    "\n",
    "This notebook summarizes our results when merging RTX and Robokop. using Translators Node Normalization.\n",
    "For this we downloaded RTX KG2 v2.7.3 and Robo `c5ec1f282158182f`\n",
    "\n",
    "\n",
    "## Summary\n",
    "\n",
    "TODO\n",
    "\n",
    "## Questions\n",
    "\n",
    "- How many nodes are merged? %\n",
    "- How many edges are merged? %\n",
    "- What are example edges that are not merged, why not?\n",
    "- How do the triplets differ across the KGs and for the part that is merged across KGs\n",
    "\n"
   ]
  },
  {
   "cell_type": "code",
   "execution_count": 2,
   "metadata": {},
   "outputs": [],
   "source": [
    "%%capture\n",
    "# Import dependencies\n",
    "import pyspark as ps\n",
    "import os\n",
    "from pathlib import Path\n",
    "import subprocess\n",
    "import pyspark.sql.functions as f\n",
    "\n",
    "import pandas as pd\n",
    "\n",
    "# import spark \n",
    "%load_ext autoreload\n",
    "%autoreload 2\n",
    "from rich.console import Console\n",
    "from rich.logging import RichHandler\n",
    "from rich.panel import Panel\n",
    "console = Console()\n",
    "\n",
    "# hack that moves this notebook context into the kedro path\n",
    "root_path = subprocess.check_output(['git', 'rev-parse', '--show-toplevel']).decode().strip()\n",
    "os.chdir(Path(root_path) / 'pipelines' / 'matrix')\n",
    "\n",
    "# this loads various objects into the context, see \n",
    "# https://docs.kedro.org/en/stable/notebooks_and_ipython/kedro_and_notebooks.html#kedro-line-magics\n",
    "%load_ext kedro.ipython\n",
    "# %reload_kedro  --env cloud\n",
    "# %reload_kedro  --env test\n",
    "%reload_kedro\n"
   ]
  },
  {
   "cell_type": "code",
   "execution_count": 3,
   "metadata": {},
   "outputs": [],
   "source": [
    "def top_n(df, n: int = 20):\n",
    "    return df._jdf.showString(n,200, False)"
   ]
  },
  {
   "cell_type": "code",
   "execution_count": 4,
   "metadata": {},
   "outputs": [
    {
     "name": "stderr",
     "output_type": "stream",
     "text": [
      "24/10/08 16:32:30 WARN Utils: Your hostname, Pascals-MacBook-Pro.local resolves to a loopback address: 127.0.0.1; using 192.168.1.227 instead (on interface en0)\n",
      "24/10/08 16:32:30 WARN Utils: Set SPARK_LOCAL_IP if you need to bind to another address\n"
     ]
    },
    {
     "name": "stdout",
     "output_type": "stream",
     "text": [
      ":: loading settings :: url = jar:file:/Users/pascalwhoop/Code/everycure/matrix/pipelines/matrix/.venv/lib/python3.11/site-packages/pyspark/jars/ivy-2.5.1.jar!/org/apache/ivy/core/settings/ivysettings.xml\n"
     ]
    },
    {
     "name": "stderr",
     "output_type": "stream",
     "text": [
      "Ivy Default Cache set to: /Users/pascalwhoop/.ivy2/cache\n",
      "The jars for the packages stored in: /Users/pascalwhoop/.ivy2/jars\n",
      "com.google.cloud.spark#spark-3.5-bigquery added as a dependency\n",
      "org.neo4j#neo4j-connector-apache-spark_2.12 added as a dependency\n",
      ":: resolving dependencies :: org.apache.spark#spark-submit-parent-db3ef7b1-99f8-41d9-a2f9-5b7aaba1a78a;1.0\n",
      "\tconfs: [default]\n",
      "\tfound com.google.cloud.spark#spark-3.5-bigquery;0.39.0 in central\n",
      "\tfound com.google.cloud.spark#spark-bigquery-dsv2-common;0.39.0 in central\n",
      "\tfound com.google.cloud.spark#spark-bigquery-connector-common;0.39.0 in central\n",
      "\tfound com.google.cloud.spark#bigquery-connector-common;0.39.0 in central\n",
      "\tfound com.google.api.grpc#grpc-google-cloud-bigquerystorage-v1;3.5.1 in central\n",
      "\tfound io.grpc#grpc-api;1.64.0 in central\n",
      "\tfound com.google.code.findbugs#jsr305;3.0.2 in central\n",
      "\tfound com.google.errorprone#error_prone_annotations;2.23.0 in central\n",
      "\tfound io.grpc#grpc-stub;1.64.0 in central\n",
      "\tfound io.grpc#grpc-protobuf;1.64.0 in central\n",
      "\tfound com.google.api.grpc#proto-google-common-protos;2.39.0 in central\n",
      "\tfound com.google.protobuf#protobuf-java;3.25.3 in central\n",
      "\tfound com.google.api.grpc#proto-google-cloud-bigquerystorage-v1;3.5.1 in central\n",
      "\tfound com.google.api#api-common;2.31.0 in central\n",
      "\tfound com.google.auto.value#auto-value-annotations;1.10.4 in central\n",
      "\tfound javax.annotation#javax.annotation-api;1.3.2 in central\n",
      "\tfound com.google.j2objc#j2objc-annotations;3.0.0 in central\n",
      "\tfound com.google.guava#guava;33.2.0-jre in central\n",
      "\tfound com.google.guava#failureaccess;1.0.2 in central\n",
      "\tfound com.google.guava#listenablefuture;9999.0-empty-to-avoid-conflict-with-guava in central\n",
      "\tfound org.checkerframework#checker-qual;3.42.0 in central\n",
      "\tfound com.google.cloud#google-cloud-bigquery;2.40.1 in central\n",
      "\tfound com.google.cloud#google-cloud-core;2.38.0 in central\n",
      "\tfound com.google.protobuf#protobuf-java-util;3.25.3 in central\n",
      "\tfound com.google.api.grpc#proto-google-iam-v1;1.34.0 in central\n",
      "\tfound com.google.cloud#google-cloud-core-http;2.38.0 in central\n",
      "\tfound com.google.api-client#google-api-client;2.4.0 in central\n",
      "\tfound com.google.oauth-client#google-oauth-client;1.35.0 in central\n",
      "\tfound com.google.http-client#google-http-client-apache-v2;1.44.1 in central\n",
      "\tfound com.google.http-client#google-http-client-appengine;1.44.1 in central\n",
      "\tfound com.google.api#gax-httpjson;2.48.1 in central\n",
      "\tfound io.opencensus#opencensus-api;0.31.1 in central\n",
      "\tfound io.opencensus#opencensus-contrib-http-util;0.31.1 in central\n",
      "\tfound com.google.http-client#google-http-client-gson;1.44.1 in central\n",
      "\tfound com.google.http-client#google-http-client;1.44.1 in central\n",
      "\tfound org.apache.httpcomponents#httpclient;4.5.14 in central\n",
      "\tfound org.apache.httpcomponents#httpcore;4.4.16 in central\n",
      "\tfound io.grpc#grpc-context;1.64.0 in central\n",
      "\tfound org.checkerframework#checker-compat-qual;2.5.6 in central\n",
      "\tfound com.google.auth#google-auth-library-credentials;1.23.0 in central\n",
      "\tfound com.google.auth#google-auth-library-oauth2-http;1.23.0 in central\n",
      "\tfound com.google.apis#google-api-services-bigquery;v2-rev20240323-2.0.0 in central\n",
      "\tfound com.google.api#gax;2.48.1 in central\n",
      "\tfound org.threeten#threetenbp;1.6.9 in central\n",
      "\tfound org.threeten#threeten-extra;1.8.0 in central\n",
      "\tfound com.google.cloud#google-cloud-bigquerystorage;3.5.1 in central\n",
      "\tfound io.grpc#grpc-util;1.64.0 in central\n",
      "\tfound io.grpc#grpc-core;1.64.0 in central\n",
      "\tfound com.google.auto.value#auto-value;1.10.4 in central\n",
      "\tfound com.google.api#gax-grpc;2.48.1 in central\n",
      "\tfound io.grpc#grpc-inprocess;1.64.0 in central\n",
      "\tfound io.grpc#grpc-alts;1.64.0 in central\n",
      "\tfound io.grpc#grpc-grpclb;1.64.0 in central\n",
      "\tfound org.conscrypt#conscrypt-openjdk-uber;2.5.2 in central\n",
      "\tfound io.grpc#grpc-auth;1.64.0 in central\n",
      "\tfound org.json#json;20231013 in central\n",
      "\tfound commons-codec#commons-codec;1.16.0 in central\n",
      "\tfound io.grpc#grpc-netty-shaded;1.64.0 in central\n",
      "\tfound org.apache.arrow#arrow-vector;16.0.0 in central\n",
      "\tfound org.apache.arrow#arrow-memory-core;16.0.0 in central\n",
      "\tfound com.fasterxml.jackson.core#jackson-core;2.17.1 in central\n",
      "\tfound com.fasterxml.jackson.core#jackson-annotations;2.17.1 in central\n",
      "\tfound com.fasterxml.jackson.core#jackson-databind;2.17.1 in central\n",
      "\tfound com.fasterxml.jackson.datatype#jackson-datatype-jsr310;2.17.1 in central\n",
      "\tfound com.google.flatbuffers#flatbuffers-java;23.5.26 in central\n",
      "\tfound org.apache.arrow#arrow-format;15.0.2 in central\n",
      "\tfound net.bytebuddy#byte-buddy;1.14.9 in central\n",
      "\tfound org.slf4j#slf4j-api;2.0.9 in central\n",
      "\tfound org.eclipse.collections#eclipse-collections;11.1.0 in central\n",
      "\tfound org.eclipse.collections#eclipse-collections-api;11.1.0 in central\n",
      "\tfound com.google.inject#guice;5.1.0 in central\n",
      "\tfound javax.inject#javax.inject;1 in central\n",
      "\tfound aopalliance#aopalliance;1.0 in central\n",
      "\tfound io.grpc#grpc-netty;1.64.0 in central\n",
      "\tfound io.netty#netty-codec-http2;4.1.109.Final in central\n",
      "\tfound io.netty#netty-common;4.1.109.Final in central\n",
      "\tfound io.netty#netty-buffer;4.1.109.Final in central\n",
      "\tfound io.netty#netty-transport;4.1.109.Final in central\n",
      "\tfound io.netty#netty-resolver;4.1.109.Final in central\n",
      "\tfound io.netty#netty-codec;4.1.109.Final in central\n",
      "\tfound io.netty#netty-handler;4.1.109.Final in central\n",
      "\tfound io.netty#netty-transport-native-unix-common;4.1.109.Final in central\n",
      "\tfound io.netty#netty-codec-http;4.1.109.Final in central\n",
      "\tfound io.netty#netty-tcnative-boringssl-static;2.0.65.Final in central\n",
      "\tfound io.netty#netty-tcnative-classes;2.0.65.Final in central\n",
      "\tfound org.apache.arrow#arrow-memory-netty;16.0.0 in central\n",
      "\tfound org.apache.arrow#arrow-memory-netty-buffer-patch;16.0.0 in central\n",
      "\tfound com.google.code.gson#gson;2.9.1 in central\n",
      "\tfound org.apache.beam#beam-sdks-java-io-hadoop-common;2.43.0 in central\n",
      "\tfound org.apache.arrow#arrow-compression;16.0.0 in central\n",
      "\tfound org.apache.commons#commons-compress;1.26.0 in central\n",
      "\tfound commons-io#commons-io;2.15.1 in central\n",
      "\tfound org.apache.commons#commons-lang3;3.14.0 in central\n",
      "\tfound com.github.luben#zstd-jni;1.4.9-1 in central\n",
      "\tfound io.grpc#grpc-protobuf-lite;1.64.0 in central\n",
      "\tfound com.google.android#annotations;4.1.1.4 in central\n",
      "\tfound io.perfmark#perfmark-api;0.27.0 in central\n",
      "\tfound org.codehaus.mojo#animal-sniffer-annotations;1.23 in central\n",
      "\tfound io.grpc#grpc-googleapis;1.64.0 in central\n",
      "\tfound io.netty#netty-handler-proxy;4.1.109.Final in central\n",
      "\tfound io.netty#netty-codec-socks;4.1.109.Final in central\n",
      "\tfound org.neo4j#neo4j-connector-apache-spark_2.12;5.3.0_for_spark_3 in central\n",
      "\tfound org.neo4j#neo4j-connector-apache-spark_2.12_common;5.3.0 in central\n",
      "\tfound org.neo4j.driver#neo4j-java-driver;4.4.13 in central\n",
      "\tfound org.reactivestreams#reactive-streams;1.0.4 in central\n",
      "\tfound org.apache.xbean#xbean-asm6-shaded;4.10 in central\n",
      "\tfound org.neo4j#neo4j-cypher-dsl;2022.9.1 in central\n",
      "\tfound org.apiguardian#apiguardian-api;1.1.2 in central\n",
      ":: resolution report :: resolve 919ms :: artifacts dl 21ms\n",
      "\t:: modules in use:\n",
      "\taopalliance#aopalliance;1.0 from central in [default]\n",
      "\tcom.fasterxml.jackson.core#jackson-annotations;2.17.1 from central in [default]\n",
      "\tcom.fasterxml.jackson.core#jackson-core;2.17.1 from central in [default]\n",
      "\tcom.fasterxml.jackson.core#jackson-databind;2.17.1 from central in [default]\n",
      "\tcom.fasterxml.jackson.datatype#jackson-datatype-jsr310;2.17.1 from central in [default]\n",
      "\tcom.github.luben#zstd-jni;1.4.9-1 from central in [default]\n",
      "\tcom.google.android#annotations;4.1.1.4 from central in [default]\n",
      "\tcom.google.api#api-common;2.31.0 from central in [default]\n",
      "\tcom.google.api#gax;2.48.1 from central in [default]\n",
      "\tcom.google.api#gax-grpc;2.48.1 from central in [default]\n",
      "\tcom.google.api#gax-httpjson;2.48.1 from central in [default]\n",
      "\tcom.google.api-client#google-api-client;2.4.0 from central in [default]\n",
      "\tcom.google.api.grpc#grpc-google-cloud-bigquerystorage-v1;3.5.1 from central in [default]\n",
      "\tcom.google.api.grpc#proto-google-cloud-bigquerystorage-v1;3.5.1 from central in [default]\n",
      "\tcom.google.api.grpc#proto-google-common-protos;2.39.0 from central in [default]\n",
      "\tcom.google.api.grpc#proto-google-iam-v1;1.34.0 from central in [default]\n",
      "\tcom.google.apis#google-api-services-bigquery;v2-rev20240323-2.0.0 from central in [default]\n",
      "\tcom.google.auth#google-auth-library-credentials;1.23.0 from central in [default]\n",
      "\tcom.google.auth#google-auth-library-oauth2-http;1.23.0 from central in [default]\n",
      "\tcom.google.auto.value#auto-value;1.10.4 from central in [default]\n",
      "\tcom.google.auto.value#auto-value-annotations;1.10.4 from central in [default]\n",
      "\tcom.google.cloud#google-cloud-bigquery;2.40.1 from central in [default]\n",
      "\tcom.google.cloud#google-cloud-bigquerystorage;3.5.1 from central in [default]\n",
      "\tcom.google.cloud#google-cloud-core;2.38.0 from central in [default]\n",
      "\tcom.google.cloud#google-cloud-core-http;2.38.0 from central in [default]\n",
      "\tcom.google.cloud.spark#bigquery-connector-common;0.39.0 from central in [default]\n",
      "\tcom.google.cloud.spark#spark-3.5-bigquery;0.39.0 from central in [default]\n",
      "\tcom.google.cloud.spark#spark-bigquery-connector-common;0.39.0 from central in [default]\n",
      "\tcom.google.cloud.spark#spark-bigquery-dsv2-common;0.39.0 from central in [default]\n",
      "\tcom.google.code.findbugs#jsr305;3.0.2 from central in [default]\n",
      "\tcom.google.code.gson#gson;2.9.1 from central in [default]\n",
      "\tcom.google.errorprone#error_prone_annotations;2.23.0 from central in [default]\n",
      "\tcom.google.flatbuffers#flatbuffers-java;23.5.26 from central in [default]\n",
      "\tcom.google.guava#failureaccess;1.0.2 from central in [default]\n",
      "\tcom.google.guava#guava;33.2.0-jre from central in [default]\n",
      "\tcom.google.guava#listenablefuture;9999.0-empty-to-avoid-conflict-with-guava from central in [default]\n",
      "\tcom.google.http-client#google-http-client;1.44.1 from central in [default]\n",
      "\tcom.google.http-client#google-http-client-apache-v2;1.44.1 from central in [default]\n",
      "\tcom.google.http-client#google-http-client-appengine;1.44.1 from central in [default]\n",
      "\tcom.google.http-client#google-http-client-gson;1.44.1 from central in [default]\n",
      "\tcom.google.inject#guice;5.1.0 from central in [default]\n",
      "\tcom.google.j2objc#j2objc-annotations;3.0.0 from central in [default]\n",
      "\tcom.google.oauth-client#google-oauth-client;1.35.0 from central in [default]\n",
      "\tcom.google.protobuf#protobuf-java;3.25.3 from central in [default]\n",
      "\tcom.google.protobuf#protobuf-java-util;3.25.3 from central in [default]\n",
      "\tcommons-codec#commons-codec;1.16.0 from central in [default]\n",
      "\tcommons-io#commons-io;2.15.1 from central in [default]\n",
      "\tio.grpc#grpc-alts;1.64.0 from central in [default]\n",
      "\tio.grpc#grpc-api;1.64.0 from central in [default]\n",
      "\tio.grpc#grpc-auth;1.64.0 from central in [default]\n",
      "\tio.grpc#grpc-context;1.64.0 from central in [default]\n",
      "\tio.grpc#grpc-core;1.64.0 from central in [default]\n",
      "\tio.grpc#grpc-googleapis;1.64.0 from central in [default]\n",
      "\tio.grpc#grpc-grpclb;1.64.0 from central in [default]\n",
      "\tio.grpc#grpc-inprocess;1.64.0 from central in [default]\n",
      "\tio.grpc#grpc-netty;1.64.0 from central in [default]\n",
      "\tio.grpc#grpc-netty-shaded;1.64.0 from central in [default]\n",
      "\tio.grpc#grpc-protobuf;1.64.0 from central in [default]\n",
      "\tio.grpc#grpc-protobuf-lite;1.64.0 from central in [default]\n",
      "\tio.grpc#grpc-stub;1.64.0 from central in [default]\n",
      "\tio.grpc#grpc-util;1.64.0 from central in [default]\n",
      "\tio.netty#netty-buffer;4.1.109.Final from central in [default]\n",
      "\tio.netty#netty-codec;4.1.109.Final from central in [default]\n",
      "\tio.netty#netty-codec-http;4.1.109.Final from central in [default]\n",
      "\tio.netty#netty-codec-http2;4.1.109.Final from central in [default]\n",
      "\tio.netty#netty-codec-socks;4.1.109.Final from central in [default]\n",
      "\tio.netty#netty-common;4.1.109.Final from central in [default]\n",
      "\tio.netty#netty-handler;4.1.109.Final from central in [default]\n",
      "\tio.netty#netty-handler-proxy;4.1.109.Final from central in [default]\n",
      "\tio.netty#netty-resolver;4.1.109.Final from central in [default]\n",
      "\tio.netty#netty-tcnative-boringssl-static;2.0.65.Final from central in [default]\n",
      "\tio.netty#netty-tcnative-classes;2.0.65.Final from central in [default]\n",
      "\tio.netty#netty-transport;4.1.109.Final from central in [default]\n",
      "\tio.netty#netty-transport-native-unix-common;4.1.109.Final from central in [default]\n",
      "\tio.opencensus#opencensus-api;0.31.1 from central in [default]\n",
      "\tio.opencensus#opencensus-contrib-http-util;0.31.1 from central in [default]\n",
      "\tio.perfmark#perfmark-api;0.27.0 from central in [default]\n",
      "\tjavax.annotation#javax.annotation-api;1.3.2 from central in [default]\n",
      "\tjavax.inject#javax.inject;1 from central in [default]\n",
      "\tnet.bytebuddy#byte-buddy;1.14.9 from central in [default]\n",
      "\torg.apache.arrow#arrow-compression;16.0.0 from central in [default]\n",
      "\torg.apache.arrow#arrow-format;15.0.2 from central in [default]\n",
      "\torg.apache.arrow#arrow-memory-core;16.0.0 from central in [default]\n",
      "\torg.apache.arrow#arrow-memory-netty;16.0.0 from central in [default]\n",
      "\torg.apache.arrow#arrow-memory-netty-buffer-patch;16.0.0 from central in [default]\n",
      "\torg.apache.arrow#arrow-vector;16.0.0 from central in [default]\n",
      "\torg.apache.beam#beam-sdks-java-io-hadoop-common;2.43.0 from central in [default]\n",
      "\torg.apache.commons#commons-compress;1.26.0 from central in [default]\n",
      "\torg.apache.commons#commons-lang3;3.14.0 from central in [default]\n",
      "\torg.apache.httpcomponents#httpclient;4.5.14 from central in [default]\n",
      "\torg.apache.httpcomponents#httpcore;4.4.16 from central in [default]\n",
      "\torg.apache.xbean#xbean-asm6-shaded;4.10 from central in [default]\n",
      "\torg.apiguardian#apiguardian-api;1.1.2 from central in [default]\n",
      "\torg.checkerframework#checker-compat-qual;2.5.6 from central in [default]\n",
      "\torg.checkerframework#checker-qual;3.42.0 from central in [default]\n",
      "\torg.codehaus.mojo#animal-sniffer-annotations;1.23 from central in [default]\n",
      "\torg.conscrypt#conscrypt-openjdk-uber;2.5.2 from central in [default]\n",
      "\torg.eclipse.collections#eclipse-collections;11.1.0 from central in [default]\n",
      "\torg.eclipse.collections#eclipse-collections-api;11.1.0 from central in [default]\n",
      "\torg.json#json;20231013 from central in [default]\n",
      "\torg.neo4j#neo4j-connector-apache-spark_2.12;5.3.0_for_spark_3 from central in [default]\n",
      "\torg.neo4j#neo4j-connector-apache-spark_2.12_common;5.3.0 from central in [default]\n",
      "\torg.neo4j#neo4j-cypher-dsl;2022.9.1 from central in [default]\n",
      "\torg.neo4j.driver#neo4j-java-driver;4.4.13 from central in [default]\n",
      "\torg.reactivestreams#reactive-streams;1.0.4 from central in [default]\n",
      "\torg.slf4j#slf4j-api;2.0.9 from central in [default]\n",
      "\torg.threeten#threeten-extra;1.8.0 from central in [default]\n",
      "\torg.threeten#threetenbp;1.6.9 from central in [default]\n",
      "\t:: evicted modules:\n",
      "\tcom.google.code.gson#gson;2.10.1 by [com.google.code.gson#gson;2.9.1] in [default]\n",
      "\torg.apache.arrow#arrow-format;16.0.0 by [org.apache.arrow#arrow-format;15.0.2] in [default]\n",
      "\torg.slf4j#slf4j-api;2.0.11 by [org.slf4j#slf4j-api;2.0.9] in [default]\n",
      "\torg.checkerframework#checker-qual;3.10.0 by [org.checkerframework#checker-qual;3.42.0] in [default]\n",
      "\tio.perfmark#perfmark-api;0.26.0 by [io.perfmark#perfmark-api;0.27.0] in [default]\n",
      "\t---------------------------------------------------------------------\n",
      "\t|                  |            modules            ||   artifacts   |\n",
      "\t|       conf       | number| search|dwnlded|evicted|| number|dwnlded|\n",
      "\t---------------------------------------------------------------------\n",
      "\t|      default     |  113  |   0   |   0   |   5   ||  108  |   0   |\n",
      "\t---------------------------------------------------------------------\n",
      ":: retrieving :: org.apache.spark#spark-submit-parent-db3ef7b1-99f8-41d9-a2f9-5b7aaba1a78a\n",
      "\tconfs: [default]\n",
      "\t0 artifacts copied, 108 already retrieved (0kB/11ms)\n",
      "24/10/08 16:32:32 WARN NativeCodeLoader: Unable to load native-hadoop library for your platform... using builtin-java classes where applicable\n",
      "Setting default log level to \"WARN\".\n",
      "To adjust logging level use sc.setLogLevel(newLevel). For SparkR, use setLogLevel(newLevel).\n"
     ]
    }
   ],
   "source": [
    "%%capture\n",
    "unified_nodes = catalog.load(\"integration.prm.unified_nodes\")\n",
    "unified_edges = catalog.load(\"integration.prm.unified_edges\")\n",
    "robo_nodes = catalog.load(\"integration.int.robokop.nodes\")\n",
    "robo_edges = catalog.load(\"integration.int.robokop.edges\")\n",
    "rtx_nodes = catalog.load(\"integration.int.rtx.nodes\")\n",
    "rtx_edges = catalog.load(\"integration.int.rtx.edges\")"
   ]
  },
  {
   "cell_type": "code",
   "execution_count": 5,
   "metadata": {},
   "outputs": [
    {
     "data": {
      "text/html": [
       "<pre style=\"white-space:pre;overflow-x:auto;line-height:normal;font-family:Menlo,'DejaVu Sans Mono',consolas,'Courier New',monospace\"><span style=\"color: #00ff00; text-decoration-color: #00ff00\">─────────────────────────────────────────────────── </span><span style=\"color: #000080; text-decoration-color: #000080; font-weight: bold\">Unified KG</span><span style=\"color: #00ff00; text-decoration-color: #00ff00\"> ────────────────────────────────────────────────────</span>\n",
       "</pre>\n"
      ],
      "text/plain": [
       "\u001b[92m─────────────────────────────────────────────────── \u001b[0m\u001b[1;34mUnified KG\u001b[0m\u001b[92m ────────────────────────────────────────────────────\u001b[0m\n"
      ]
     },
     "metadata": {},
     "output_type": "display_data"
    },
    {
     "data": {
      "text/html": [
       "<pre style=\"white-space:pre;overflow-x:auto;line-height:normal;font-family:Menlo,'DejaVu Sans Mono',consolas,'Courier New',monospace\">╭────── Node Counts ──────╮\n",
       "│                         │\n",
       "│ Unified Nodes: 12772268 │\n",
       "│ Robo Nodes: 9748240     │\n",
       "│ RTX Nodes: 3659686      │\n",
       "│                         │\n",
       "╰─────────────────────────╯\n",
       "</pre>\n"
      ],
      "text/plain": [
       "╭────── Node Counts ──────╮\n",
       "│                         │\n",
       "│ Unified Nodes: 12772268 │\n",
       "│ Robo Nodes: 9748240     │\n",
       "│ RTX Nodes: 3659686      │\n",
       "│                         │\n",
       "╰─────────────────────────╯\n"
      ]
     },
     "metadata": {},
     "output_type": "display_data"
    },
    {
     "data": {
      "text/html": [
       "<pre style=\"white-space:pre;overflow-x:auto;line-height:normal;font-family:Menlo,'DejaVu Sans Mono',consolas,'Courier New',monospace\">╭────── Edge Counts ───────╮\n",
       "│                          │\n",
       "│ Unified Edges: 150717205 │\n",
       "│ Robo Edges: 137706046    │\n",
       "│ RTX Edges: 18402956      │\n",
       "│                          │\n",
       "╰──────────────────────────╯\n",
       "</pre>\n"
      ],
      "text/plain": [
       "╭────── Edge Counts ───────╮\n",
       "│                          │\n",
       "│ Unified Edges: 150717205 │\n",
       "│ Robo Edges: 137706046    │\n",
       "│ RTX Edges: 18402956      │\n",
       "│                          │\n",
       "╰──────────────────────────╯\n"
      ]
     },
     "metadata": {},
     "output_type": "display_data"
    },
    {
     "name": "stderr",
     "output_type": "stream",
     "text": [
      "                                                                                \r"
     ]
    },
    {
     "data": {
      "text/html": [
       "<pre style=\"white-space:pre;overflow-x:auto;line-height:normal;font-family:Menlo,'DejaVu Sans Mono',consolas,'Courier New',monospace\">╭────── Node Origin Proportions ──────╮\n",
       "│                                     │\n",
       "│ Nodes originating from RTX: 28.55%  │\n",
       "│ Nodes originating from Robo: 76.32% │\n",
       "│ Nodes originating from Both: 4.88%  │\n",
       "│                                     │\n",
       "╰─────────────────────────────────────╯\n",
       "</pre>\n"
      ],
      "text/plain": [
       "╭────── Node Origin Proportions ──────╮\n",
       "│                                     │\n",
       "│ Nodes originating from RTX: 28.55%  │\n",
       "│ Nodes originating from Robo: 76.32% │\n",
       "│ Nodes originating from Both: 4.88%  │\n",
       "│                                     │\n",
       "╰─────────────────────────────────────╯\n"
      ]
     },
     "metadata": {},
     "output_type": "display_data"
    },
    {
     "name": "stderr",
     "output_type": "stream",
     "text": [
      "                                                                                \r"
     ]
    },
    {
     "data": {
      "text/html": [
       "<pre style=\"white-space:pre;overflow-x:auto;line-height:normal;font-family:Menlo,'DejaVu Sans Mono',consolas,'Courier New',monospace\">╭────── Edge Origin Proportions ──────╮\n",
       "│                                     │\n",
       "│ Edges originating from RTX: 12.18%  │\n",
       "│ Edges originating from Robo: 88.37% │\n",
       "│ Edges originating from Both: 0.55%  │\n",
       "│                                     │\n",
       "╰─────────────────────────────────────╯\n",
       "</pre>\n"
      ],
      "text/plain": [
       "╭────── Edge Origin Proportions ──────╮\n",
       "│                                     │\n",
       "│ Edges originating from RTX: 12.18%  │\n",
       "│ Edges originating from Robo: 88.37% │\n",
       "│ Edges originating from Both: 0.55%  │\n",
       "│                                     │\n",
       "╰─────────────────────────────────────╯\n"
      ]
     },
     "metadata": {},
     "output_type": "display_data"
    }
   ],
   "source": [
    "console.rule(\"[bold blue]Unified KG\")\n",
    "console.print(Panel.fit(f\"\"\"\n",
    "Unified Nodes: {unified_nodes.count()}\n",
    "Robo Nodes: {robo_nodes.count()}\n",
    "RTX Nodes: {rtx_nodes.count()}\n",
    "\"\"\", title=\"Node Counts\"))\n",
    "# now edges\n",
    "console.print(Panel.fit(f\"\"\"\n",
    "Unified Edges: {unified_edges.count()}\n",
    "Robo Edges: {robo_edges.count()}\n",
    "RTX Edges: {rtx_edges.count()}\n",
    "\"\"\", title=\"Edge Counts\"))\n",
    "# first calculate the number of nodes and edges in each kg\n",
    "unified_node_count = unified_nodes.count()\n",
    "unified_edge_count = unified_edges.count()\n",
    "robo_node_count = robo_nodes.count()\n",
    "robo_edge_count = robo_edges.count()\n",
    "rtx_node_count = rtx_nodes.count()\n",
    "rtx_edge_count = rtx_edges.count()\n",
    "\n",
    "nodes_in_both = unified_nodes.filter(f.array_contains(f.col(\"upstream_data_source\"), \"rtxkg2\") & f.array_contains(f.col(\"upstream_data_source\"), \"robokop\"))\n",
    "nodes_in_rtx = unified_nodes.filter(f.array_contains(f.col(\"upstream_data_source\"), \"rtxkg2\"))\n",
    "nodes_in_robo = unified_nodes.filter(f.array_contains(f.col(\"upstream_data_source\"), \"robokop\"))\n",
    "\n",
    "console.print(Panel.fit(\n",
    "f\"\"\"\n",
    "Nodes originating from RTX: {nodes_in_rtx.count()/unified_node_count*100:.2f}%\n",
    "Nodes originating from Robo: {nodes_in_robo.count()/unified_node_count*100:.2f}%\n",
    "Nodes originating from Both: {nodes_in_both.count()/unified_node_count*100:.2f}%\n",
    "\"\"\", title=\"Node Origin Proportions\"))\n",
    "\n",
    "edges_in_both = unified_edges.filter(f.array_contains(f.col(\"upstream_data_source\"), \"rtxkg2\") & f.array_contains(f.col(\"upstream_data_source\"), \"robokop\"))\n",
    "edges_in_rtx = unified_edges.filter(f.array_contains(f.col(\"upstream_data_source\"), \"rtxkg2\"))\n",
    "edges_in_robo = unified_edges.filter(f.array_contains(f.col(\"upstream_data_source\"), \"robokop\"))\n",
    "\n",
    "console.print(Panel.fit(\n",
    "f\"\"\"\n",
    "Edges originating from RTX: {edges_in_rtx.count()/unified_edge_count*100:.2f}%\n",
    "Edges originating from Robo: {edges_in_robo.count()/unified_edge_count*100:.2f}%\n",
    "Edges originating from Both: {edges_in_both.count()/unified_edge_count*100:.2f}%\n",
    "\"\"\", title=\"Edge Origin Proportions\"))\n"
   ]
  },
  {
   "cell_type": "markdown",
   "metadata": {},
   "source": [
    "Wow that's not a lot of edges that are present in both. I wonder why there are so many more edges in Robokop as well. There's like 150M edges there and only 18M in RTX. \n",
    "Let's look at the predicate counts:\n"
   ]
  },
  {
   "cell_type": "code",
   "execution_count": 5,
   "metadata": {},
   "outputs": [
    {
     "name": "stderr",
     "output_type": "stream",
     "text": [
      "                                                                                \r"
     ]
    },
    {
     "data": {
      "text/html": [
       "<pre style=\"white-space:pre;overflow-x:auto;line-height:normal;font-family:Menlo,'DejaVu Sans Mono',consolas,'Courier New',monospace\">╭─────────── predicate Counts in Both ────────────╮\n",
       "│ +--------------------------------------+------+ │\n",
       "│ |                             predicate| count| │\n",
       "│ +--------------------------------------+------+ │\n",
       "│ |                   biolink:subclass_of|490258| │\n",
       "│ |               biolink:has_participant|243446| │\n",
       "│ |                      biolink:has_part| 15244| │\n",
       "│ |                    biolink:located_in| 13586| │\n",
       "│ |                      biolink:in_taxon| 10876| │\n",
       "│ |     biolink:physically_interacts_with| 10072| │\n",
       "│ |                       biolink:affects|  9250| │\n",
       "│ |                     biolink:has_input|  8539| │\n",
       "│ |                    biolink:related_to|  8500| │\n",
       "│ |                    biolink:has_output|  4834| │\n",
       "│ |                        biolink:treats|  4782| │\n",
       "│ |biolink:gene_associated_with_condition|  3733| │\n",
       "│ |                 biolink:develops_from|  1548| │\n",
       "│ |                 biolink:has_phenotype|  1534| │\n",
       "│ |                 biolink:coexists_with|   827| │\n",
       "│ |                        biolink:causes|   823| │\n",
       "│ |                      biolink:overlaps|   681| │\n",
       "│ |                  biolink:expressed_in|   573| │\n",
       "│ |              biolink:colocalizes_with|    98| │\n",
       "│ |                biolink:contributes_to|    94| │\n",
       "│ |                      biolink:produces|    59| │\n",
       "│ |                    biolink:capable_of|    41| │\n",
       "│ |                  biolink:derives_from|    40| │\n",
       "│ |                      biolink:disrupts|    21| │\n",
       "│ |                     biolink:occurs_in|    13| │\n",
       "│ |                      biolink:precedes|     8| │\n",
       "│ |                biolink:has_metabolite|     3| │\n",
       "│ |         biolink:temporally_related_to|     3| │\n",
       "│ |                     biolink:catalyzes|     1| │\n",
       "│ |              biolink:manifestation_of|     1| │\n",
       "│ +--------------------------------------+------+ │\n",
       "│                                                 │\n",
       "╰─────────────────────────────────────────────────╯\n",
       "</pre>\n"
      ],
      "text/plain": [
       "╭─────────── predicate Counts in Both ────────────╮\n",
       "│ +--------------------------------------+------+ │\n",
       "│ |                             predicate| count| │\n",
       "│ +--------------------------------------+------+ │\n",
       "│ |                   biolink:subclass_of|490258| │\n",
       "│ |               biolink:has_participant|243446| │\n",
       "│ |                      biolink:has_part| 15244| │\n",
       "│ |                    biolink:located_in| 13586| │\n",
       "│ |                      biolink:in_taxon| 10876| │\n",
       "│ |     biolink:physically_interacts_with| 10072| │\n",
       "│ |                       biolink:affects|  9250| │\n",
       "│ |                     biolink:has_input|  8539| │\n",
       "│ |                    biolink:related_to|  8500| │\n",
       "│ |                    biolink:has_output|  4834| │\n",
       "│ |                        biolink:treats|  4782| │\n",
       "│ |biolink:gene_associated_with_condition|  3733| │\n",
       "│ |                 biolink:develops_from|  1548| │\n",
       "│ |                 biolink:has_phenotype|  1534| │\n",
       "│ |                 biolink:coexists_with|   827| │\n",
       "│ |                        biolink:causes|   823| │\n",
       "│ |                      biolink:overlaps|   681| │\n",
       "│ |                  biolink:expressed_in|   573| │\n",
       "│ |              biolink:colocalizes_with|    98| │\n",
       "│ |                biolink:contributes_to|    94| │\n",
       "│ |                      biolink:produces|    59| │\n",
       "│ |                    biolink:capable_of|    41| │\n",
       "│ |                  biolink:derives_from|    40| │\n",
       "│ |                      biolink:disrupts|    21| │\n",
       "│ |                     biolink:occurs_in|    13| │\n",
       "│ |                      biolink:precedes|     8| │\n",
       "│ |                biolink:has_metabolite|     3| │\n",
       "│ |         biolink:temporally_related_to|     3| │\n",
       "│ |                     biolink:catalyzes|     1| │\n",
       "│ |              biolink:manifestation_of|     1| │\n",
       "│ +--------------------------------------+------+ │\n",
       "│                                                 │\n",
       "╰─────────────────────────────────────────────────╯\n"
      ]
     },
     "metadata": {},
     "output_type": "display_data"
    },
    {
     "name": "stderr",
     "output_type": "stream",
     "text": [
      "                                                                                \r"
     ]
    },
    {
     "data": {
      "text/html": [
       "<pre style=\"white-space:pre;overflow-x:auto;line-height:normal;font-family:Menlo,'DejaVu Sans Mono',consolas,'Courier New',monospace\">╭────────────── predicate Counts in RTX ───────────────╮\n",
       "│ +------------------------------------------+-------+ │\n",
       "│ |                                 predicate|  count| │\n",
       "│ +------------------------------------------+-------+ │\n",
       "│ |                   biolink:has_participant|3837590| │\n",
       "│ |                         biolink:occurs_in|3087968| │\n",
       "│ |                       biolink:subclass_of|2983431| │\n",
       "│ |         biolink:physically_interacts_with|2641479| │\n",
       "│ |                        biolink:related_to|1535302| │\n",
       "│ |    biolink:gene_associated_with_condition| 839112| │\n",
       "│ |                          biolink:in_taxon| 583731| │\n",
       "│ |                          biolink:has_part| 403589| │\n",
       "│ |                        biolink:has_output| 375980| │\n",
       "│ |                         biolink:has_input| 364437| │\n",
       "│ |                  biolink:transcribed_from| 257221| │\n",
       "│ |                        biolink:located_in| 239580| │\n",
       "│ |                       biolink:close_match| 212699| │\n",
       "│ |                    biolink:interacts_with| 133377| │\n",
       "│ |                           biolink:affects| 119041| │\n",
       "│ |                     biolink:coexists_with|  97832| │\n",
       "│ |                   biolink:gene_product_of|  90416| │\n",
       "│ |                           biolink:enables|  68829| │\n",
       "│ |                            biolink:treats|  51621| │\n",
       "│ |                     biolink:translates_to|  47331| │\n",
       "│ |                            biolink:causes|  44132| │\n",
       "│ |                     biolink:biomarker_for|  37946| │\n",
       "│ |             biolink:chemically_similar_to|  37139| │\n",
       "│ |biolink:entity_positively_regulates_entity|  26409| │\n",
       "│ |                      biolink:derives_from|  20356| │\n",
       "│ |                     biolink:has_phenotype|  20139| │\n",
       "│ |biolink:entity_negatively_regulates_entity|  19893| │\n",
       "│ |              biolink:actively_involved_in|  19714| │\n",
       "│ |                  biolink:manifestation_of|  19535| │\n",
       "│ |               biolink:contraindicated_for|  19078| │\n",
       "│ |                  biolink:colocalizes_with|  17555| │\n",
       "│ |             biolink:decreases_activity_of|  11371| │\n",
       "│ |           biolink:directly_interacts_with|   9519| │\n",
       "│ |                         biolink:catalyzes|   9328| │\n",
       "│ |                           biolink:same_as|   7945| │\n",
       "│ |                      biolink:expressed_in|   6569| │\n",
       "│ |                          biolink:produces|   6050| │\n",
       "│ |                        biolink:lacks_part|   5993| │\n",
       "│ |                        biolink:capable_of|   4700| │\n",
       "│ |                          biolink:overlaps|   4626| │\n",
       "│ +------------------------------------------+-------+ │\n",
       "│ only showing top 40 rows                             │\n",
       "│                                                      │\n",
       "╰──────────────────────────────────────────────────────╯\n",
       "</pre>\n"
      ],
      "text/plain": [
       "╭────────────── predicate Counts in RTX ───────────────╮\n",
       "│ +------------------------------------------+-------+ │\n",
       "│ |                                 predicate|  count| │\n",
       "│ +------------------------------------------+-------+ │\n",
       "│ |                   biolink:has_participant|3837590| │\n",
       "│ |                         biolink:occurs_in|3087968| │\n",
       "│ |                       biolink:subclass_of|2983431| │\n",
       "│ |         biolink:physically_interacts_with|2641479| │\n",
       "│ |                        biolink:related_to|1535302| │\n",
       "│ |    biolink:gene_associated_with_condition| 839112| │\n",
       "│ |                          biolink:in_taxon| 583731| │\n",
       "│ |                          biolink:has_part| 403589| │\n",
       "│ |                        biolink:has_output| 375980| │\n",
       "│ |                         biolink:has_input| 364437| │\n",
       "│ |                  biolink:transcribed_from| 257221| │\n",
       "│ |                        biolink:located_in| 239580| │\n",
       "│ |                       biolink:close_match| 212699| │\n",
       "│ |                    biolink:interacts_with| 133377| │\n",
       "│ |                           biolink:affects| 119041| │\n",
       "│ |                     biolink:coexists_with|  97832| │\n",
       "│ |                   biolink:gene_product_of|  90416| │\n",
       "│ |                           biolink:enables|  68829| │\n",
       "│ |                            biolink:treats|  51621| │\n",
       "│ |                     biolink:translates_to|  47331| │\n",
       "│ |                            biolink:causes|  44132| │\n",
       "│ |                     biolink:biomarker_for|  37946| │\n",
       "│ |             biolink:chemically_similar_to|  37139| │\n",
       "│ |biolink:entity_positively_regulates_entity|  26409| │\n",
       "│ |                      biolink:derives_from|  20356| │\n",
       "│ |                     biolink:has_phenotype|  20139| │\n",
       "│ |biolink:entity_negatively_regulates_entity|  19893| │\n",
       "│ |              biolink:actively_involved_in|  19714| │\n",
       "│ |                  biolink:manifestation_of|  19535| │\n",
       "│ |               biolink:contraindicated_for|  19078| │\n",
       "│ |                  biolink:colocalizes_with|  17555| │\n",
       "│ |             biolink:decreases_activity_of|  11371| │\n",
       "│ |           biolink:directly_interacts_with|   9519| │\n",
       "│ |                         biolink:catalyzes|   9328| │\n",
       "│ |                           biolink:same_as|   7945| │\n",
       "│ |                      biolink:expressed_in|   6569| │\n",
       "│ |                          biolink:produces|   6050| │\n",
       "│ |                        biolink:lacks_part|   5993| │\n",
       "│ |                        biolink:capable_of|   4700| │\n",
       "│ |                          biolink:overlaps|   4626| │\n",
       "│ +------------------------------------------+-------+ │\n",
       "│ only showing top 40 rows                             │\n",
       "│                                                      │\n",
       "╰──────────────────────────────────────────────────────╯\n"
      ]
     },
     "metadata": {},
     "output_type": "display_data"
    },
    {
     "name": "stderr",
     "output_type": "stream",
     "text": [
      "                                                                                \r"
     ]
    },
    {
     "data": {
      "text/html": [
       "<pre style=\"white-space:pre;overflow-x:auto;line-height:normal;font-family:Menlo,'DejaVu Sans Mono',consolas,'Courier New',monospace\">╭──────────────── predicate Counts in Robo ────────────────╮\n",
       "│ +---------------------------------------------+--------+ │\n",
       "│ |                                    predicate|   count| │\n",
       "│ +---------------------------------------------+--------+ │\n",
       "│ |                          biolink:subclass_of|60176118| │\n",
       "│ |                 biolink:is_nearby_variant_of|31864140| │\n",
       "│ |                              biolink:affects|18098919| │\n",
       "│ |                     biolink:coexpressed_with| 9210882| │\n",
       "│ |             biolink:is_non_coding_variant_of| 3858701| │\n",
       "│ |            biolink:physically_interacts_with| 1415606| │\n",
       "│ |                        biolink:has_phenotype| 1100999| │\n",
       "│ |                         biolink:expressed_in| 1091384| │\n",
       "│ |                 biolink:actively_involved_in|  952972| │\n",
       "│ |   biolink:directly_physically_interacts_with|  815337| │\n",
       "│ |                      biolink:has_participant|  558161| │\n",
       "│ |                            biolink:regulates|  528959| │\n",
       "│ |                                biolink:binds|  433800| │\n",
       "│ |biolink:treats_or_applied_or_studied_to_treat|  324085| │\n",
       "│ |                            biolink:occurs_in|  255150| │\n",
       "│ |                            biolink:catalyzes|  237533| │\n",
       "│ |                        biolink:homologous_to|  230627| │\n",
       "│ |                           biolink:located_in|  222328| │\n",
       "│ |                    biolink:has_adverse_event|  202144| │\n",
       "│ |                             biolink:has_part|  191638| │\n",
       "│ |                       biolink:contributes_to|  168790| │\n",
       "│ |                           biolink:related_to|  151917| │\n",
       "│ |           biolink:genetically_interacts_with|  147139| │\n",
       "│ |                               biolink:causes|  140120| │\n",
       "│ |                             biolink:in_taxon|  125018| │\n",
       "│ |          biolink:genetically_associated_with|  118298| │\n",
       "│ |                            biolink:has_input|  101385| │\n",
       "│ |                      biolink:correlated_with|   86540| │\n",
       "│ |                           biolink:has_output|   79192| │\n",
       "│ |                             biolink:precedes|   68181| │\n",
       "│ |               biolink:is_missense_variant_of|   31379| │\n",
       "│ |             biolink:is_synonymous_variant_of|   28077| │\n",
       "│ |                   biolink:contraindicated_in|   25677| │\n",
       "│ |                        biolink:develops_from|   25430| │\n",
       "│ |                biolink:temporally_related_to|   22976| │\n",
       "│ |                            biolink:active_in|   19084| │\n",
       "│ |            biolink:is_splice_site_variant_of|   13591| │\n",
       "│ |                               biolink:treats|   11205| │\n",
       "│ |                             biolink:overlaps|    8164| │\n",
       "│ |                           biolink:similar_to|    6950| │\n",
       "│ +---------------------------------------------+--------+ │\n",
       "│ only showing top 40 rows                                 │\n",
       "│                                                          │\n",
       "╰──────────────────────────────────────────────────────────╯\n",
       "</pre>\n"
      ],
      "text/plain": [
       "╭──────────────── predicate Counts in Robo ────────────────╮\n",
       "│ +---------------------------------------------+--------+ │\n",
       "│ |                                    predicate|   count| │\n",
       "│ +---------------------------------------------+--------+ │\n",
       "│ |                          biolink:subclass_of|60176118| │\n",
       "│ |                 biolink:is_nearby_variant_of|31864140| │\n",
       "│ |                              biolink:affects|18098919| │\n",
       "│ |                     biolink:coexpressed_with| 9210882| │\n",
       "│ |             biolink:is_non_coding_variant_of| 3858701| │\n",
       "│ |            biolink:physically_interacts_with| 1415606| │\n",
       "│ |                        biolink:has_phenotype| 1100999| │\n",
       "│ |                         biolink:expressed_in| 1091384| │\n",
       "│ |                 biolink:actively_involved_in|  952972| │\n",
       "│ |   biolink:directly_physically_interacts_with|  815337| │\n",
       "│ |                      biolink:has_participant|  558161| │\n",
       "│ |                            biolink:regulates|  528959| │\n",
       "│ |                                biolink:binds|  433800| │\n",
       "│ |biolink:treats_or_applied_or_studied_to_treat|  324085| │\n",
       "│ |                            biolink:occurs_in|  255150| │\n",
       "│ |                            biolink:catalyzes|  237533| │\n",
       "│ |                        biolink:homologous_to|  230627| │\n",
       "│ |                           biolink:located_in|  222328| │\n",
       "│ |                    biolink:has_adverse_event|  202144| │\n",
       "│ |                             biolink:has_part|  191638| │\n",
       "│ |                       biolink:contributes_to|  168790| │\n",
       "│ |                           biolink:related_to|  151917| │\n",
       "│ |           biolink:genetically_interacts_with|  147139| │\n",
       "│ |                               biolink:causes|  140120| │\n",
       "│ |                             biolink:in_taxon|  125018| │\n",
       "│ |          biolink:genetically_associated_with|  118298| │\n",
       "│ |                            biolink:has_input|  101385| │\n",
       "│ |                      biolink:correlated_with|   86540| │\n",
       "│ |                           biolink:has_output|   79192| │\n",
       "│ |                             biolink:precedes|   68181| │\n",
       "│ |               biolink:is_missense_variant_of|   31379| │\n",
       "│ |             biolink:is_synonymous_variant_of|   28077| │\n",
       "│ |                   biolink:contraindicated_in|   25677| │\n",
       "│ |                        biolink:develops_from|   25430| │\n",
       "│ |                biolink:temporally_related_to|   22976| │\n",
       "│ |                            biolink:active_in|   19084| │\n",
       "│ |            biolink:is_splice_site_variant_of|   13591| │\n",
       "│ |                               biolink:treats|   11205| │\n",
       "│ |                             biolink:overlaps|    8164| │\n",
       "│ |                           biolink:similar_to|    6950| │\n",
       "│ +---------------------------------------------+--------+ │\n",
       "│ only showing top 40 rows                                 │\n",
       "│                                                          │\n",
       "╰──────────────────────────────────────────────────────────╯\n"
      ]
     },
     "metadata": {},
     "output_type": "display_data"
    }
   ],
   "source": [
    "def stats_on_df(df: ps.sql.DataFrame, col: str, kg_name: str, n=40):\n",
    "    df_counts = df.groupBy(col).count().sort(\"count\", ascending=False)\n",
    "    console.print(Panel.fit(top_n(df_counts, n=n), title=f\"{col} Counts in {kg_name}\"))\n",
    "\n",
    "stats_on_df(edges_in_both, \"predicate\", \"Both\")\n",
    "stats_on_df(edges_in_rtx, \"predicate\", \"RTX\")\n",
    "stats_on_df(edges_in_robo, \"predicate\", \"Robo\")\n",
    "\n"
   ]
  },
  {
   "cell_type": "code",
   "execution_count": 6,
   "metadata": {},
   "outputs": [
    {
     "data": {
      "text/html": [
       "<pre style=\"white-space:pre;overflow-x:auto;line-height:normal;font-family:Menlo,'DejaVu Sans Mono',consolas,'Courier New',monospace\">╭─────────────── category Counts in Both ───────────────╮\n",
       "│ +--------------------------------------------+------+ │\n",
       "│ |                                    category| count| │\n",
       "│ +--------------------------------------------+------+ │\n",
       "│ |                             biolink:Protein|190001| │\n",
       "│ |                     biolink:MolecularEntity|104015| │\n",
       "│ |                       biolink:OrganismTaxon| 71901| │\n",
       "│ |                       biolink:SmallMolecule| 67576| │\n",
       "│ |                                biolink:Gene| 38703| │\n",
       "│ |                             biolink:Disease| 35584| │\n",
       "│ |                             biolink:Pathway| 31195| │\n",
       "│ |          biolink:DiseaseOrPhenotypicFeature| 19509| │\n",
       "│ |                    biolink:AnatomicalEntity| 15921| │\n",
       "│ |                   biolink:MolecularActivity| 12931| │\n",
       "│ |                      biolink:ChemicalEntity|  8977| │\n",
       "│ |                          biolink:NamedThing|  5065| │\n",
       "│ |   biolink:ChemicalEntityOrGeneOrGeneProduct|  4501| │\n",
       "│ |          biolink:PhysicalEssenceOrOccurrent|  4031| │\n",
       "│ |biolink:ChemicalEntityOrProteinOrPolypeptide|  2419| │\n",
       "│ |                   biolink:PhenotypicFeature|  2032| │\n",
       "│ |                                biolink:Cell|  1624| │\n",
       "│ |                   biolink:CellularComponent|  1612| │\n",
       "│ |                      biolink:ThingWithTaxon|  1609| │\n",
       "│ |            biolink:GrossAnatomicalStructure|  1562| │\n",
       "│ |                   biolink:BiologicalProcess|   827| │\n",
       "│ |                         biolink:Polypeptide|   357| │\n",
       "│ |                                biolink:Drug|   264| │\n",
       "│ |                   biolink:NucleicAcidEntity|   124| │\n",
       "│ |          biolink:MacromolecularMachineMixin|   108| │\n",
       "│ |                    biolink:BiologicalEntity|    97| │\n",
       "│ |                          biolink:RNAProduct|    81| │\n",
       "│ |                biolink:PhysiologicalProcess|    21| │\n",
       "│ |                            biolink:Behavior|    11| │\n",
       "│ |                                biolink:Food|     7| │\n",
       "│ |                             biolink:Vitamin|     3| │\n",
       "│ |                     biolink:ChemicalMixture|     3| │\n",
       "│ +--------------------------------------------+------+ │\n",
       "│                                                       │\n",
       "╰───────────────────────────────────────────────────────╯\n",
       "</pre>\n"
      ],
      "text/plain": [
       "╭─────────────── category Counts in Both ───────────────╮\n",
       "│ +--------------------------------------------+------+ │\n",
       "│ |                                    category| count| │\n",
       "│ +--------------------------------------------+------+ │\n",
       "│ |                             biolink:Protein|190001| │\n",
       "│ |                     biolink:MolecularEntity|104015| │\n",
       "│ |                       biolink:OrganismTaxon| 71901| │\n",
       "│ |                       biolink:SmallMolecule| 67576| │\n",
       "│ |                                biolink:Gene| 38703| │\n",
       "│ |                             biolink:Disease| 35584| │\n",
       "│ |                             biolink:Pathway| 31195| │\n",
       "│ |          biolink:DiseaseOrPhenotypicFeature| 19509| │\n",
       "│ |                    biolink:AnatomicalEntity| 15921| │\n",
       "│ |                   biolink:MolecularActivity| 12931| │\n",
       "│ |                      biolink:ChemicalEntity|  8977| │\n",
       "│ |                          biolink:NamedThing|  5065| │\n",
       "│ |   biolink:ChemicalEntityOrGeneOrGeneProduct|  4501| │\n",
       "│ |          biolink:PhysicalEssenceOrOccurrent|  4031| │\n",
       "│ |biolink:ChemicalEntityOrProteinOrPolypeptide|  2419| │\n",
       "│ |                   biolink:PhenotypicFeature|  2032| │\n",
       "│ |                                biolink:Cell|  1624| │\n",
       "│ |                   biolink:CellularComponent|  1612| │\n",
       "│ |                      biolink:ThingWithTaxon|  1609| │\n",
       "│ |            biolink:GrossAnatomicalStructure|  1562| │\n",
       "│ |                   biolink:BiologicalProcess|   827| │\n",
       "│ |                         biolink:Polypeptide|   357| │\n",
       "│ |                                biolink:Drug|   264| │\n",
       "│ |                   biolink:NucleicAcidEntity|   124| │\n",
       "│ |          biolink:MacromolecularMachineMixin|   108| │\n",
       "│ |                    biolink:BiologicalEntity|    97| │\n",
       "│ |                          biolink:RNAProduct|    81| │\n",
       "│ |                biolink:PhysiologicalProcess|    21| │\n",
       "│ |                            biolink:Behavior|    11| │\n",
       "│ |                                biolink:Food|     7| │\n",
       "│ |                             biolink:Vitamin|     3| │\n",
       "│ |                     biolink:ChemicalMixture|     3| │\n",
       "│ +--------------------------------------------+------+ │\n",
       "│                                                       │\n",
       "╰───────────────────────────────────────────────────────╯\n"
      ]
     },
     "metadata": {},
     "output_type": "display_data"
    },
    {
     "data": {
      "text/html": [
       "<pre style=\"white-space:pre;overflow-x:auto;line-height:normal;font-family:Menlo,'DejaVu Sans Mono',consolas,'Courier New',monospace\">╭──────────────── category Counts in RTX ────────────────╮\n",
       "│ +--------------------------------------------+-------+ │\n",
       "│ |                                    category|  count| │\n",
       "│ +--------------------------------------------+-------+ │\n",
       "│ |                       biolink:OrganismTaxon|1785601| │\n",
       "│ |                          biolink:Transcript| 257221| │\n",
       "│ |                   biolink:MolecularActivity| 228645| │\n",
       "│ |                             biolink:Protein| 197335| │\n",
       "│ |                      biolink:ChemicalEntity| 187144| │\n",
       "│ |                       biolink:SmallMolecule| 135790| │\n",
       "│ |                                biolink:Drug| 132905| │\n",
       "│ |                     biolink:MolecularEntity| 130711| │\n",
       "│ |                    biolink:AnatomicalEntity| 124429| │\n",
       "│ |                                biolink:Gene| 111966| │\n",
       "│ |                             biolink:Disease|  84705| │\n",
       "│ |                             biolink:Pathway|  69550| │\n",
       "│ |                         biolink:Polypeptide|  44705| │\n",
       "│ |          biolink:DiseaseOrPhenotypicFeature|  33237| │\n",
       "│ |                biolink:PhysiologicalProcess|  33217| │\n",
       "│ |                    biolink:BiologicalEntity|  19908| │\n",
       "│ |                   biolink:NucleicAcidEntity|  15685| │\n",
       "│ |            biolink:GrossAnatomicalStructure|  14866| │\n",
       "│ |                   biolink:CellularComponent|   6927| │\n",
       "│ |                          biolink:NamedThing|   5065| │\n",
       "│ |                   biolink:PhenotypicFeature|   4668| │\n",
       "│ |   biolink:ChemicalEntityOrGeneOrGeneProduct|   4501| │\n",
       "│ |          biolink:PhysicalEssenceOrOccurrent|   4031| │\n",
       "│ |                                biolink:Cell|   3673| │\n",
       "│ |biolink:ChemicalEntityOrProteinOrPolypeptide|   2419| │\n",
       "│ |                   biolink:BiologicalProcess|   2186| │\n",
       "│ |                            biolink:Behavior|   1640| │\n",
       "│ |                      biolink:ThingWithTaxon|   1609| │\n",
       "│ |                                biolink:Food|   1296| │\n",
       "│ |                            biolink:CellLine|    415| │\n",
       "│ |                          biolink:GeneFamily|    409| │\n",
       "│ |                   biolink:BehavioralFeature|    174| │\n",
       "│ |          biolink:MacromolecularMachineMixin|    108| │\n",
       "│ |                          biolink:RNAProduct|    108| │\n",
       "│ |                             biolink:Vitamin|    102| │\n",
       "│ |                 biolink:NoncodingRNAProduct|     68| │\n",
       "│ |                     biolink:ChemicalMixture|     58| │\n",
       "│ |         biolink:BiologicalProcessOrActivity|     11| │\n",
       "│ |                            biolink:MicroRNA|      2| │\n",
       "│ +--------------------------------------------+-------+ │\n",
       "│                                                        │\n",
       "╰────────────────────────────────────────────────────────╯\n",
       "</pre>\n"
      ],
      "text/plain": [
       "╭──────────────── category Counts in RTX ────────────────╮\n",
       "│ +--------------------------------------------+-------+ │\n",
       "│ |                                    category|  count| │\n",
       "│ +--------------------------------------------+-------+ │\n",
       "│ |                       biolink:OrganismTaxon|1785601| │\n",
       "│ |                          biolink:Transcript| 257221| │\n",
       "│ |                   biolink:MolecularActivity| 228645| │\n",
       "│ |                             biolink:Protein| 197335| │\n",
       "│ |                      biolink:ChemicalEntity| 187144| │\n",
       "│ |                       biolink:SmallMolecule| 135790| │\n",
       "│ |                                biolink:Drug| 132905| │\n",
       "│ |                     biolink:MolecularEntity| 130711| │\n",
       "│ |                    biolink:AnatomicalEntity| 124429| │\n",
       "│ |                                biolink:Gene| 111966| │\n",
       "│ |                             biolink:Disease|  84705| │\n",
       "│ |                             biolink:Pathway|  69550| │\n",
       "│ |                         biolink:Polypeptide|  44705| │\n",
       "│ |          biolink:DiseaseOrPhenotypicFeature|  33237| │\n",
       "│ |                biolink:PhysiologicalProcess|  33217| │\n",
       "│ |                    biolink:BiologicalEntity|  19908| │\n",
       "│ |                   biolink:NucleicAcidEntity|  15685| │\n",
       "│ |            biolink:GrossAnatomicalStructure|  14866| │\n",
       "│ |                   biolink:CellularComponent|   6927| │\n",
       "│ |                          biolink:NamedThing|   5065| │\n",
       "│ |                   biolink:PhenotypicFeature|   4668| │\n",
       "│ |   biolink:ChemicalEntityOrGeneOrGeneProduct|   4501| │\n",
       "│ |          biolink:PhysicalEssenceOrOccurrent|   4031| │\n",
       "│ |                                biolink:Cell|   3673| │\n",
       "│ |biolink:ChemicalEntityOrProteinOrPolypeptide|   2419| │\n",
       "│ |                   biolink:BiologicalProcess|   2186| │\n",
       "│ |                            biolink:Behavior|   1640| │\n",
       "│ |                      biolink:ThingWithTaxon|   1609| │\n",
       "│ |                                biolink:Food|   1296| │\n",
       "│ |                            biolink:CellLine|    415| │\n",
       "│ |                          biolink:GeneFamily|    409| │\n",
       "│ |                   biolink:BehavioralFeature|    174| │\n",
       "│ |          biolink:MacromolecularMachineMixin|    108| │\n",
       "│ |                          biolink:RNAProduct|    108| │\n",
       "│ |                             biolink:Vitamin|    102| │\n",
       "│ |                 biolink:NoncodingRNAProduct|     68| │\n",
       "│ |                     biolink:ChemicalMixture|     58| │\n",
       "│ |         biolink:BiologicalProcessOrActivity|     11| │\n",
       "│ |                            biolink:MicroRNA|      2| │\n",
       "│ +--------------------------------------------+-------+ │\n",
       "│                                                        │\n",
       "╰────────────────────────────────────────────────────────╯\n"
      ]
     },
     "metadata": {},
     "output_type": "display_data"
    },
    {
     "data": {
      "text/html": [
       "<pre style=\"white-space:pre;overflow-x:auto;line-height:normal;font-family:Menlo,'DejaVu Sans Mono',consolas,'Courier New',monospace\">╭─────────────── category Counts in Robo ────────────────╮\n",
       "│ +--------------------------------------------+-------+ │\n",
       "│ |                                    category|  count| │\n",
       "│ +--------------------------------------------+-------+ │\n",
       "│ |                       biolink:GenomicEntity|5112649| │\n",
       "│ |                          biolink:NamedThing|2471600| │\n",
       "│ |          biolink:PhysicalEssenceOrOccurrent|1103707| │\n",
       "│ |                     biolink:MolecularEntity| 319537| │\n",
       "│ |                             biolink:Protein| 190001| │\n",
       "│ |          biolink:MacromolecularMachineMixin|  98131| │\n",
       "│ |                       biolink:OrganismTaxon|  71901| │\n",
       "│ |                       biolink:SmallMolecule|  67576| │\n",
       "│ |biolink:ChemicalEntityOrProteinOrPolypeptide|  55566| │\n",
       "│ |                      biolink:ThingWithTaxon|  51483| │\n",
       "│ |                                biolink:Gene|  38703| │\n",
       "│ |                             biolink:Disease|  35584| │\n",
       "│ |                             biolink:Pathway|  31195| │\n",
       "│ |          biolink:DiseaseOrPhenotypicFeature|  27606| │\n",
       "│ |   biolink:ChemicalEntityOrGeneOrGeneProduct|  23986| │\n",
       "│ |                    biolink:AnatomicalEntity|  17938| │\n",
       "│ |                   biolink:MolecularActivity|  12931| │\n",
       "│ |                      biolink:ChemicalEntity|   8977| │\n",
       "│ |                   biolink:PhenotypicFeature|   2032| │\n",
       "│ |                                biolink:Cell|   1624| │\n",
       "│ |                   biolink:CellularComponent|   1612| │\n",
       "│ |            biolink:GrossAnatomicalStructure|   1562| │\n",
       "│ |                   biolink:BiologicalProcess|    827| │\n",
       "│ |                         biolink:Polypeptide|    357| │\n",
       "│ |                                biolink:Drug|    269| │\n",
       "│ |                   biolink:NucleicAcidEntity|    124| │\n",
       "│ |                    biolink:BiologicalEntity|     97| │\n",
       "│ |                       biolink:OntologyClass|     82| │\n",
       "│ |                          biolink:RNAProduct|     81| │\n",
       "│ |                   biolink:GeneGroupingMixin|     54| │\n",
       "│ |                biolink:PhysiologicalProcess|     24| │\n",
       "│ |                            biolink:Behavior|     11| │\n",
       "│ |                                biolink:Food|      7| │\n",
       "│ |                             biolink:Vitamin|      3| │\n",
       "│ |                     biolink:ChemicalMixture|      3| │\n",
       "│ +--------------------------------------------+-------+ │\n",
       "│                                                        │\n",
       "╰────────────────────────────────────────────────────────╯\n",
       "</pre>\n"
      ],
      "text/plain": [
       "╭─────────────── category Counts in Robo ────────────────╮\n",
       "│ +--------------------------------------------+-------+ │\n",
       "│ |                                    category|  count| │\n",
       "│ +--------------------------------------------+-------+ │\n",
       "│ |                       biolink:GenomicEntity|5112649| │\n",
       "│ |                          biolink:NamedThing|2471600| │\n",
       "│ |          biolink:PhysicalEssenceOrOccurrent|1103707| │\n",
       "│ |                     biolink:MolecularEntity| 319537| │\n",
       "│ |                             biolink:Protein| 190001| │\n",
       "│ |          biolink:MacromolecularMachineMixin|  98131| │\n",
       "│ |                       biolink:OrganismTaxon|  71901| │\n",
       "│ |                       biolink:SmallMolecule|  67576| │\n",
       "│ |biolink:ChemicalEntityOrProteinOrPolypeptide|  55566| │\n",
       "│ |                      biolink:ThingWithTaxon|  51483| │\n",
       "│ |                                biolink:Gene|  38703| │\n",
       "│ |                             biolink:Disease|  35584| │\n",
       "│ |                             biolink:Pathway|  31195| │\n",
       "│ |          biolink:DiseaseOrPhenotypicFeature|  27606| │\n",
       "│ |   biolink:ChemicalEntityOrGeneOrGeneProduct|  23986| │\n",
       "│ |                    biolink:AnatomicalEntity|  17938| │\n",
       "│ |                   biolink:MolecularActivity|  12931| │\n",
       "│ |                      biolink:ChemicalEntity|   8977| │\n",
       "│ |                   biolink:PhenotypicFeature|   2032| │\n",
       "│ |                                biolink:Cell|   1624| │\n",
       "│ |                   biolink:CellularComponent|   1612| │\n",
       "│ |            biolink:GrossAnatomicalStructure|   1562| │\n",
       "│ |                   biolink:BiologicalProcess|    827| │\n",
       "│ |                         biolink:Polypeptide|    357| │\n",
       "│ |                                biolink:Drug|    269| │\n",
       "│ |                   biolink:NucleicAcidEntity|    124| │\n",
       "│ |                    biolink:BiologicalEntity|     97| │\n",
       "│ |                       biolink:OntologyClass|     82| │\n",
       "│ |                          biolink:RNAProduct|     81| │\n",
       "│ |                   biolink:GeneGroupingMixin|     54| │\n",
       "│ |                biolink:PhysiologicalProcess|     24| │\n",
       "│ |                            biolink:Behavior|     11| │\n",
       "│ |                                biolink:Food|      7| │\n",
       "│ |                             biolink:Vitamin|      3| │\n",
       "│ |                     biolink:ChemicalMixture|      3| │\n",
       "│ +--------------------------------------------+-------+ │\n",
       "│                                                        │\n",
       "╰────────────────────────────────────────────────────────╯\n"
      ]
     },
     "metadata": {},
     "output_type": "display_data"
    }
   ],
   "source": [
    "\n",
    "stats_on_df(nodes_in_both, \"category\", \"Both\")\n",
    "stats_on_df(nodes_in_rtx, \"category\", \"RTX\")\n",
    "stats_on_df(nodes_in_robo, \"category\", \"Robo\")"
   ]
  },
  {
   "cell_type": "markdown",
   "metadata": {},
   "source": [
    "OK it looks like Robokop has tons of biolink `subclass_of` and `is_nearby_variant_of` edges. Also 18M `affects`. RTX on the other hand appears to be heavier on `has_participant` and `occurs_in`\n",
    "\n",
    "## Doing some plotting. Let's get a correlation matrix of categories in the 4 variants (rtx, robo, overlap, union)\n",
    "\n",
    "I want to see which categories of nodes are connected with each other. For that I need to join the node categories on the edges dataframe to then the correlation matrix"
   ]
  },
  {
   "cell_type": "code",
   "execution_count": 8,
   "metadata": {},
   "outputs": [
    {
     "name": "stderr",
     "output_type": "stream",
     "text": [
      "                                                                                \r"
     ]
    },
    {
     "data": {
      "application/vnd.plotly.v1+json": {
       "config": {
        "plotlyServerURL": "https://plot.ly"
       },
       "data": [
        {
         "link": {
          "source": [
           0,
           0,
           1,
           2,
           3,
           4,
           5,
           6,
           5,
           6,
           5,
           7,
           6,
           8,
           1,
           9,
           10,
           11,
           6,
           12,
           6,
           12,
           12,
           13,
           14,
           14,
           8,
           4,
           15,
           8,
           8,
           4,
           4,
           16,
           17,
           2,
           2,
           18,
           16,
           9,
           19,
           20,
           8,
           4,
           21,
           17,
           19,
           22,
           23,
           4,
           2,
           15,
           1,
           24,
           9,
           13,
           6,
           25,
           19,
           9,
           22,
           25,
           26,
           8,
           20,
           1,
           23,
           6,
           9,
           8,
           9,
           27,
           22,
           9,
           28,
           16,
           24,
           21,
           8,
           9,
           8,
           29,
           9,
           25,
           19,
           30,
           31,
           32,
           33,
           25,
           14,
           23,
           1,
           4,
           4,
           34,
           35,
           36,
           1,
           1
          ],
          "target": [
           5,
           6,
           2,
           37,
           4,
           38,
           38,
           39,
           40,
           37,
           41,
           42,
           43,
           7,
           9,
           44,
           38,
           6,
           44,
           6,
           45,
           13,
           15,
           37,
           20,
           10,
           4,
           44,
           37,
           9,
           10,
           46,
           45,
           4,
           2,
           47,
           45,
           6,
           25,
           42,
           4,
           44,
           2,
           41,
           41,
           9,
           2,
           4,
           4,
           42,
           44,
           45,
           4,
           10,
           48,
           45,
           49,
           46,
           9,
           46,
           25,
           41,
           44,
           26,
           50,
           21,
           9,
           51,
           45,
           30,
           37,
           41,
           27,
           51,
           47,
           9,
           7,
           40,
           21,
           47,
           32,
           7,
           43,
           37,
           25,
           50,
           9,
           43,
           42,
           44,
           34,
           36,
           36,
           52,
           47,
           44,
           9,
           44,
           28,
           33
          ],
          "value": [
           3036094,
           2723382,
           2104122,
           2099970,
           1788480,
           1766371,
           1239442,
           1063314,
           990239,
           956647,
           852989,
           808136,
           769428,
           687661,
           677254,
           595240,
           583600,
           459380,
           398556,
           398142,
           393253,
           372651,
           361777,
           257350,
           257219,
           257219,
           251208,
           235083,
           228613,
           203970,
           203954,
           201347,
           195072,
           173216,
           170580,
           170078,
           168951,
           164797,
           163118,
           159552,
           155201,
           154486,
           150966,
           148407,
           146771,
           145981,
           144703,
           142748,
           137002,
           136669,
           131480,
           117086,
           115979,
           110028,
           108610,
           108086,
           108010,
           106767,
           101824,
           101569,
           98385,
           91814,
           91373,
           89522,
           87974,
           83740,
           83196,
           82155,
           79985,
           79188,
           74905,
           71497,
           71439,
           70615,
           70465,
           70039,
           69306,
           67199,
           64825,
           64181,
           59932,
           59332,
           57129,
           55532,
           54380,
           52721,
           47903,
           47694,
           47621,
           47468,
           47330,
           46284,
           45109,
           44723,
           42890,
           41394,
           41005,
           39921,
           39319,
           38826
          ]
         },
         "node": {
          "color": [
           "rgb(189,187,65)",
           "rgb(133,14,1)",
           "rgb(75,244,17)",
           "rgb(38,50,242)",
           "rgb(59,234,62)",
           "rgb(147,196,103)",
           "rgb(58,217,109)",
           "rgb(244,32,78)",
           "rgb(60,124,24)",
           "rgb(189,9,168)",
           "rgb(30,186,223)",
           "rgb(237,179,76)",
           "rgb(209,120,143)",
           "rgb(161,149,6)",
           "rgb(114,12,57)",
           "rgb(205,246,142)",
           "rgb(131,224,155)",
           "rgb(187,120,217)",
           "rgb(144,190,212)",
           "rgb(175,118,191)",
           "rgb(85,98,120)",
           "rgb(4,126,188)",
           "rgb(219,212,178)",
           "rgb(110,24,214)",
           "rgb(49,153,186)",
           "rgb(232,185,21)",
           "rgb(10,235,128)",
           "rgb(109,38,111)",
           "rgb(58,68,45)",
           "rgb(5,232,37)",
           "rgb(191,87,216)",
           "rgb(142,15,137)",
           "rgb(137,113,7)",
           "rgb(135,132,124)",
           "rgb(103,154,37)",
           "rgb(251,239,208)",
           "rgb(55,82,54)",
           "rgb(177,152,184)",
           "rgb(43,152,18)",
           "rgb(66,151,60)",
           "rgb(135,25,130)",
           "rgb(49,231,151)",
           "rgb(139,67,224)",
           "rgb(113,39,217)",
           "rgb(133,65,55)",
           "rgb(199,42,186)",
           "rgb(80,128,225)",
           "rgb(217,240,111)",
           "rgb(32,104,117)",
           "rgb(135,26,182)",
           "rgb(209,169,149)",
           "rgb(106,37,58)",
           "rgb(87,141,32)"
          ],
          "label": [
           "sub:biolink:Pathway",
           "sub:biolink:SmallMolecule",
           "biolink:physically_interacts_with",
           "sub:biolink:OrganismTaxon",
           "biolink:subclass_of",
           "biolink:occurs_in",
           "biolink:has_participant",
           "biolink:gene_associated_with_condition",
           "sub:biolink:Protein",
           "biolink:related_to",
           "biolink:in_taxon",
           "sub:biolink:PhysiologicalProcess",
           "sub:biolink:MolecularActivity",
           "biolink:has_output",
           "sub:biolink:Transcript",
           "biolink:has_input",
           "sub:biolink:Drug",
           "sub:biolink:ChemicalEntity",
           "sub:biolink:BiologicalProcess",
           "sub:biolink:MolecularEntity",
           "biolink:transcribed_from",
           "biolink:located_in",
           "sub:biolink:AnatomicalEntity",
           "sub:biolink:Disease",
           "sub:biolink:Gene",
           "biolink:has_part",
           "biolink:interacts_with",
           "biolink:coexists_with",
           "biolink:close_match",
           "sub:biolink:ChemicalEntityOrGeneOrGeneProduct",
           "biolink:gene_product_of",
           "sub:biolink:Polypeptide",
           "biolink:enables",
           "biolink:treats",
           "biolink:translates_to",
           "sub:biolink:Cell",
           "biolink:affects",
           "obj:biolink:SmallMolecule",
           "obj:biolink:OrganismTaxon",
           "obj:biolink:Transcript",
           "obj:biolink:CellularComponent",
           "obj:biolink:AnatomicalEntity",
           "obj:biolink:Disease",
           "obj:biolink:MolecularActivity",
           "obj:biolink:Protein",
           "obj:biolink:MolecularEntity",
           "obj:biolink:Drug",
           "obj:biolink:ChemicalEntity",
           "obj:biolink:PhysiologicalProcess",
           "obj:biolink:Polypeptide",
           "obj:biolink:Gene",
           "obj:biolink:ChemicalEntityOrGeneOrGeneProduct",
           "obj:biolink:BiologicalEntity"
          ],
          "line": {
           "color": "black",
           "width": 0.5
          },
          "pad": 15,
          "thickness": 20
         },
         "type": "sankey"
        }
       ],
       "layout": {
        "font": {
         "size": 10
        },
        "height": 1080,
        "template": {
         "data": {
          "bar": [
           {
            "error_x": {
             "color": "#2a3f5f"
            },
            "error_y": {
             "color": "#2a3f5f"
            },
            "marker": {
             "line": {
              "color": "#E5ECF6",
              "width": 0.5
             },
             "pattern": {
              "fillmode": "overlay",
              "size": 10,
              "solidity": 0.2
             }
            },
            "type": "bar"
           }
          ],
          "barpolar": [
           {
            "marker": {
             "line": {
              "color": "#E5ECF6",
              "width": 0.5
             },
             "pattern": {
              "fillmode": "overlay",
              "size": 10,
              "solidity": 0.2
             }
            },
            "type": "barpolar"
           }
          ],
          "carpet": [
           {
            "aaxis": {
             "endlinecolor": "#2a3f5f",
             "gridcolor": "white",
             "linecolor": "white",
             "minorgridcolor": "white",
             "startlinecolor": "#2a3f5f"
            },
            "baxis": {
             "endlinecolor": "#2a3f5f",
             "gridcolor": "white",
             "linecolor": "white",
             "minorgridcolor": "white",
             "startlinecolor": "#2a3f5f"
            },
            "type": "carpet"
           }
          ],
          "choropleth": [
           {
            "colorbar": {
             "outlinewidth": 0,
             "ticks": ""
            },
            "type": "choropleth"
           }
          ],
          "contour": [
           {
            "colorbar": {
             "outlinewidth": 0,
             "ticks": ""
            },
            "colorscale": [
             [
              0,
              "#0d0887"
             ],
             [
              0.1111111111111111,
              "#46039f"
             ],
             [
              0.2222222222222222,
              "#7201a8"
             ],
             [
              0.3333333333333333,
              "#9c179e"
             ],
             [
              0.4444444444444444,
              "#bd3786"
             ],
             [
              0.5555555555555556,
              "#d8576b"
             ],
             [
              0.6666666666666666,
              "#ed7953"
             ],
             [
              0.7777777777777778,
              "#fb9f3a"
             ],
             [
              0.8888888888888888,
              "#fdca26"
             ],
             [
              1,
              "#f0f921"
             ]
            ],
            "type": "contour"
           }
          ],
          "contourcarpet": [
           {
            "colorbar": {
             "outlinewidth": 0,
             "ticks": ""
            },
            "type": "contourcarpet"
           }
          ],
          "heatmap": [
           {
            "colorbar": {
             "outlinewidth": 0,
             "ticks": ""
            },
            "colorscale": [
             [
              0,
              "#0d0887"
             ],
             [
              0.1111111111111111,
              "#46039f"
             ],
             [
              0.2222222222222222,
              "#7201a8"
             ],
             [
              0.3333333333333333,
              "#9c179e"
             ],
             [
              0.4444444444444444,
              "#bd3786"
             ],
             [
              0.5555555555555556,
              "#d8576b"
             ],
             [
              0.6666666666666666,
              "#ed7953"
             ],
             [
              0.7777777777777778,
              "#fb9f3a"
             ],
             [
              0.8888888888888888,
              "#fdca26"
             ],
             [
              1,
              "#f0f921"
             ]
            ],
            "type": "heatmap"
           }
          ],
          "heatmapgl": [
           {
            "colorbar": {
             "outlinewidth": 0,
             "ticks": ""
            },
            "colorscale": [
             [
              0,
              "#0d0887"
             ],
             [
              0.1111111111111111,
              "#46039f"
             ],
             [
              0.2222222222222222,
              "#7201a8"
             ],
             [
              0.3333333333333333,
              "#9c179e"
             ],
             [
              0.4444444444444444,
              "#bd3786"
             ],
             [
              0.5555555555555556,
              "#d8576b"
             ],
             [
              0.6666666666666666,
              "#ed7953"
             ],
             [
              0.7777777777777778,
              "#fb9f3a"
             ],
             [
              0.8888888888888888,
              "#fdca26"
             ],
             [
              1,
              "#f0f921"
             ]
            ],
            "type": "heatmapgl"
           }
          ],
          "histogram": [
           {
            "marker": {
             "pattern": {
              "fillmode": "overlay",
              "size": 10,
              "solidity": 0.2
             }
            },
            "type": "histogram"
           }
          ],
          "histogram2d": [
           {
            "colorbar": {
             "outlinewidth": 0,
             "ticks": ""
            },
            "colorscale": [
             [
              0,
              "#0d0887"
             ],
             [
              0.1111111111111111,
              "#46039f"
             ],
             [
              0.2222222222222222,
              "#7201a8"
             ],
             [
              0.3333333333333333,
              "#9c179e"
             ],
             [
              0.4444444444444444,
              "#bd3786"
             ],
             [
              0.5555555555555556,
              "#d8576b"
             ],
             [
              0.6666666666666666,
              "#ed7953"
             ],
             [
              0.7777777777777778,
              "#fb9f3a"
             ],
             [
              0.8888888888888888,
              "#fdca26"
             ],
             [
              1,
              "#f0f921"
             ]
            ],
            "type": "histogram2d"
           }
          ],
          "histogram2dcontour": [
           {
            "colorbar": {
             "outlinewidth": 0,
             "ticks": ""
            },
            "colorscale": [
             [
              0,
              "#0d0887"
             ],
             [
              0.1111111111111111,
              "#46039f"
             ],
             [
              0.2222222222222222,
              "#7201a8"
             ],
             [
              0.3333333333333333,
              "#9c179e"
             ],
             [
              0.4444444444444444,
              "#bd3786"
             ],
             [
              0.5555555555555556,
              "#d8576b"
             ],
             [
              0.6666666666666666,
              "#ed7953"
             ],
             [
              0.7777777777777778,
              "#fb9f3a"
             ],
             [
              0.8888888888888888,
              "#fdca26"
             ],
             [
              1,
              "#f0f921"
             ]
            ],
            "type": "histogram2dcontour"
           }
          ],
          "mesh3d": [
           {
            "colorbar": {
             "outlinewidth": 0,
             "ticks": ""
            },
            "type": "mesh3d"
           }
          ],
          "parcoords": [
           {
            "line": {
             "colorbar": {
              "outlinewidth": 0,
              "ticks": ""
             }
            },
            "type": "parcoords"
           }
          ],
          "pie": [
           {
            "automargin": true,
            "type": "pie"
           }
          ],
          "scatter": [
           {
            "fillpattern": {
             "fillmode": "overlay",
             "size": 10,
             "solidity": 0.2
            },
            "type": "scatter"
           }
          ],
          "scatter3d": [
           {
            "line": {
             "colorbar": {
              "outlinewidth": 0,
              "ticks": ""
             }
            },
            "marker": {
             "colorbar": {
              "outlinewidth": 0,
              "ticks": ""
             }
            },
            "type": "scatter3d"
           }
          ],
          "scattercarpet": [
           {
            "marker": {
             "colorbar": {
              "outlinewidth": 0,
              "ticks": ""
             }
            },
            "type": "scattercarpet"
           }
          ],
          "scattergeo": [
           {
            "marker": {
             "colorbar": {
              "outlinewidth": 0,
              "ticks": ""
             }
            },
            "type": "scattergeo"
           }
          ],
          "scattergl": [
           {
            "marker": {
             "colorbar": {
              "outlinewidth": 0,
              "ticks": ""
             }
            },
            "type": "scattergl"
           }
          ],
          "scattermapbox": [
           {
            "marker": {
             "colorbar": {
              "outlinewidth": 0,
              "ticks": ""
             }
            },
            "type": "scattermapbox"
           }
          ],
          "scatterpolar": [
           {
            "marker": {
             "colorbar": {
              "outlinewidth": 0,
              "ticks": ""
             }
            },
            "type": "scatterpolar"
           }
          ],
          "scatterpolargl": [
           {
            "marker": {
             "colorbar": {
              "outlinewidth": 0,
              "ticks": ""
             }
            },
            "type": "scatterpolargl"
           }
          ],
          "scatterternary": [
           {
            "marker": {
             "colorbar": {
              "outlinewidth": 0,
              "ticks": ""
             }
            },
            "type": "scatterternary"
           }
          ],
          "surface": [
           {
            "colorbar": {
             "outlinewidth": 0,
             "ticks": ""
            },
            "colorscale": [
             [
              0,
              "#0d0887"
             ],
             [
              0.1111111111111111,
              "#46039f"
             ],
             [
              0.2222222222222222,
              "#7201a8"
             ],
             [
              0.3333333333333333,
              "#9c179e"
             ],
             [
              0.4444444444444444,
              "#bd3786"
             ],
             [
              0.5555555555555556,
              "#d8576b"
             ],
             [
              0.6666666666666666,
              "#ed7953"
             ],
             [
              0.7777777777777778,
              "#fb9f3a"
             ],
             [
              0.8888888888888888,
              "#fdca26"
             ],
             [
              1,
              "#f0f921"
             ]
            ],
            "type": "surface"
           }
          ],
          "table": [
           {
            "cells": {
             "fill": {
              "color": "#EBF0F8"
             },
             "line": {
              "color": "white"
             }
            },
            "header": {
             "fill": {
              "color": "#C8D4E3"
             },
             "line": {
              "color": "white"
             }
            },
            "type": "table"
           }
          ]
         },
         "layout": {
          "annotationdefaults": {
           "arrowcolor": "#2a3f5f",
           "arrowhead": 0,
           "arrowwidth": 1
          },
          "autotypenumbers": "strict",
          "coloraxis": {
           "colorbar": {
            "outlinewidth": 0,
            "ticks": ""
           }
          },
          "colorscale": {
           "diverging": [
            [
             0,
             "#8e0152"
            ],
            [
             0.1,
             "#c51b7d"
            ],
            [
             0.2,
             "#de77ae"
            ],
            [
             0.3,
             "#f1b6da"
            ],
            [
             0.4,
             "#fde0ef"
            ],
            [
             0.5,
             "#f7f7f7"
            ],
            [
             0.6,
             "#e6f5d0"
            ],
            [
             0.7,
             "#b8e186"
            ],
            [
             0.8,
             "#7fbc41"
            ],
            [
             0.9,
             "#4d9221"
            ],
            [
             1,
             "#276419"
            ]
           ],
           "sequential": [
            [
             0,
             "#0d0887"
            ],
            [
             0.1111111111111111,
             "#46039f"
            ],
            [
             0.2222222222222222,
             "#7201a8"
            ],
            [
             0.3333333333333333,
             "#9c179e"
            ],
            [
             0.4444444444444444,
             "#bd3786"
            ],
            [
             0.5555555555555556,
             "#d8576b"
            ],
            [
             0.6666666666666666,
             "#ed7953"
            ],
            [
             0.7777777777777778,
             "#fb9f3a"
            ],
            [
             0.8888888888888888,
             "#fdca26"
            ],
            [
             1,
             "#f0f921"
            ]
           ],
           "sequentialminus": [
            [
             0,
             "#0d0887"
            ],
            [
             0.1111111111111111,
             "#46039f"
            ],
            [
             0.2222222222222222,
             "#7201a8"
            ],
            [
             0.3333333333333333,
             "#9c179e"
            ],
            [
             0.4444444444444444,
             "#bd3786"
            ],
            [
             0.5555555555555556,
             "#d8576b"
            ],
            [
             0.6666666666666666,
             "#ed7953"
            ],
            [
             0.7777777777777778,
             "#fb9f3a"
            ],
            [
             0.8888888888888888,
             "#fdca26"
            ],
            [
             1,
             "#f0f921"
            ]
           ]
          },
          "colorway": [
           "#636efa",
           "#EF553B",
           "#00cc96",
           "#ab63fa",
           "#FFA15A",
           "#19d3f3",
           "#FF6692",
           "#B6E880",
           "#FF97FF",
           "#FECB52"
          ],
          "font": {
           "color": "#2a3f5f"
          },
          "geo": {
           "bgcolor": "white",
           "lakecolor": "white",
           "landcolor": "#E5ECF6",
           "showlakes": true,
           "showland": true,
           "subunitcolor": "white"
          },
          "hoverlabel": {
           "align": "left"
          },
          "hovermode": "closest",
          "mapbox": {
           "style": "light"
          },
          "paper_bgcolor": "white",
          "plot_bgcolor": "#E5ECF6",
          "polar": {
           "angularaxis": {
            "gridcolor": "white",
            "linecolor": "white",
            "ticks": ""
           },
           "bgcolor": "#E5ECF6",
           "radialaxis": {
            "gridcolor": "white",
            "linecolor": "white",
            "ticks": ""
           }
          },
          "scene": {
           "xaxis": {
            "backgroundcolor": "#E5ECF6",
            "gridcolor": "white",
            "gridwidth": 2,
            "linecolor": "white",
            "showbackground": true,
            "ticks": "",
            "zerolinecolor": "white"
           },
           "yaxis": {
            "backgroundcolor": "#E5ECF6",
            "gridcolor": "white",
            "gridwidth": 2,
            "linecolor": "white",
            "showbackground": true,
            "ticks": "",
            "zerolinecolor": "white"
           },
           "zaxis": {
            "backgroundcolor": "#E5ECF6",
            "gridcolor": "white",
            "gridwidth": 2,
            "linecolor": "white",
            "showbackground": true,
            "ticks": "",
            "zerolinecolor": "white"
           }
          },
          "shapedefaults": {
           "line": {
            "color": "#2a3f5f"
           }
          },
          "ternary": {
           "aaxis": {
            "gridcolor": "white",
            "linecolor": "white",
            "ticks": ""
           },
           "baxis": {
            "gridcolor": "white",
            "linecolor": "white",
            "ticks": ""
           },
           "bgcolor": "#E5ECF6",
           "caxis": {
            "gridcolor": "white",
            "linecolor": "white",
            "ticks": ""
           }
          },
          "title": {
           "x": 0.05
          },
          "xaxis": {
           "automargin": true,
           "gridcolor": "white",
           "linecolor": "white",
           "ticks": "",
           "title": {
            "standoff": 15
           },
           "zerolinecolor": "white",
           "zerolinewidth": 2
          },
          "yaxis": {
           "automargin": true,
           "gridcolor": "white",
           "linecolor": "white",
           "ticks": "",
           "title": {
            "standoff": 15
           },
           "zerolinecolor": "white",
           "zerolinewidth": 2
          }
         }
        },
        "title": {
         "text": "RTX"
        },
        "width": 1920
       }
      }
     },
     "metadata": {},
     "output_type": "display_data"
    },
    {
     "name": "stderr",
     "output_type": "stream",
     "text": [
      "                                                                                \r"
     ]
    },
    {
     "data": {
      "application/vnd.plotly.v1+json": {
       "config": {
        "plotlyServerURL": "https://plot.ly"
       },
       "data": [
        {
         "link": {
          "source": [
           0,
           1,
           2,
           3,
           2,
           1,
           4,
           3,
           1,
           5,
           6,
           5,
           3,
           4,
           2,
           4,
           7,
           8,
           9,
           10,
           1,
           9,
           11,
           5,
           8,
           12,
           13,
           14,
           15,
           5,
           5,
           2,
           1,
           16,
           7,
           5,
           1,
           17,
           1,
           18,
           1,
           8,
           1,
           19,
           5,
           15,
           20,
           21,
           6,
           22,
           23,
           19,
           19,
           24,
           9,
           25,
           5,
           9,
           26,
           1,
           5,
           27,
           17,
           28,
           5,
           29,
           1,
           30,
           6,
           15,
           4,
           29,
           31,
           25,
           32,
           21,
           22,
           7,
           25,
           15,
           22,
           4,
           10,
           6,
           5,
           33,
           34,
           35,
           36,
           37,
           22,
           5,
           21,
           37,
           4,
           38,
           5,
           14,
           32,
           15
          ],
          "target": [
           1,
           39,
           3,
           40,
           4,
           41,
           42,
           42,
           43,
           6,
           42,
           1,
           44,
           40,
           8,
           44,
           1,
           42,
           1,
           1,
           44,
           4,
           42,
           11,
           40,
           45,
           1,
           46,
           1,
           12,
           4,
           19,
           47,
           42,
           4,
           16,
           48,
           1,
           49,
           25,
           46,
           44,
           42,
           48,
           14,
           4,
           42,
           6,
           44,
           14,
           42,
           50,
           47,
           47,
           23,
           51,
           20,
           37,
           1,
           50,
           27,
           42,
           19,
           46,
           19,
           20,
           45,
           6,
           40,
           24,
           46,
           1,
           45,
           43,
           12,
           1,
           31,
           23,
           46,
           52,
           1,
           43,
           6,
           49,
           33,
           42,
           1,
           47,
           42,
           45,
           28,
           28,
           12,
           46,
           51,
           39,
           53,
           54,
           1,
           35
          ],
          "value": [
           45243392,
           32571757,
           31864140,
           15636968,
           14909948,
           13708679,
           10694961,
           10679440,
           9082167,
           8492314,
           8492314,
           5734309,
           5490997,
           4065024,
           3858701,
           2876614,
           2632409,
           2300068,
           1559377,
           1535295,
           1521850,
           1314082,
           1304632,
           1304625,
           1062539,
           1038797,
           1037029,
           856278,
           825097,
           669861,
           626529,
           625101,
           608686,
           582857,
           579313,
           577823,
           561146,
           554476,
           545365,
           524706,
           505770,
           492740,
           490958,
           490203,
           482298,
           477113,
           445810,
           397024,
           397024,
           377394,
           358958,
           310621,
           286574,
           268333,
           248629,
           230086,
           225274,
           221513,
           218507,
           216593,
           210770,
           210770,
           206164,
           204228,
           203347,
           200041,
           196324,
           189018,
           189018,
           188906,
           180912,
           177983,
           175176,
           170457,
           168352,
           167743,
           157686,
           150908,
           147504,
           136917,
           132720,
           129000,
           124210,
           124210,
           123640,
           123267,
           121458,
           116062,
           111692,
           111281,
           110513,
           108184,
           104710,
           104265,
           99694,
           97610,
           96873,
           96694,
           92817,
           92083
          ]
         },
         "node": {
          "color": [
           "rgb(155,198,65)",
           "rgb(20,75,26)",
           "rgb(96,223,32)",
           "rgb(188,217,79)",
           "rgb(120,90,91)",
           "rgb(192,25,41)",
           "rgb(98,174,170)",
           "rgb(172,111,96)",
           "rgb(134,26,28)",
           "rgb(181,127,109)",
           "rgb(126,82,157)",
           "rgb(64,168,108)",
           "rgb(239,168,98)",
           "rgb(68,146,55)",
           "rgb(120,204,164)",
           "rgb(130,245,91)",
           "rgb(214,23,28)",
           "rgb(227,103,8)",
           "rgb(23,83,165)",
           "rgb(205,120,217)",
           "rgb(138,189,167)",
           "rgb(193,160,124)",
           "rgb(249,40,121)",
           "rgb(198,239,13)",
           "rgb(130,23,24)",
           "rgb(83,171,145)",
           "rgb(26,182,14)",
           "rgb(193,152,104)",
           "rgb(147,168,88)",
           "rgb(129,87,48)",
           "rgb(24,239,129)",
           "rgb(102,55,54)",
           "rgb(42,94,151)",
           "rgb(38,21,216)",
           "rgb(160,233,154)",
           "rgb(182,109,26)",
           "rgb(43,189,51)",
           "rgb(21,37,172)",
           "rgb(73,30,86)",
           "rgb(136,133,38)",
           "rgb(151,137,248)",
           "rgb(220,19,210)",
           "rgb(204,227,13)",
           "rgb(2,197,3)",
           "rgb(35,243,131)",
           "rgb(178,132,97)",
           "rgb(47,198,253)",
           "rgb(36,241,76)",
           "rgb(25,254,29)",
           "rgb(228,9,145)",
           "rgb(46,212,37)",
           "rgb(224,63,129)",
           "rgb(146,102,50)",
           "rgb(120,4,105)",
           "rgb(159,6,31)"
          ],
          "label": [
           "sub:biolink:NamedThing",
           "biolink:subclass_of",
           "sub:biolink:GenomicEntity",
           "biolink:is_nearby_variant_of",
           "biolink:affects",
           "sub:biolink:Protein",
           "biolink:coexpressed_with",
           "sub:biolink:MolecularEntity",
           "biolink:is_non_coding_variant_of",
           "sub:biolink:PhysicalEssenceOrOccurrent",
           "sub:biolink:MacromolecularMachineMixin",
           "biolink:physically_interacts_with",
           "biolink:expressed_in",
           "sub:biolink:OrganismTaxon",
           "biolink:actively_involved_in",
           "sub:biolink:SmallMolecule",
           "biolink:directly_physically_interacts_with",
           "sub:biolink:Disease",
           "sub:biolink:Pathway",
           "biolink:has_phenotype",
           "biolink:regulates",
           "sub:biolink:ChemicalEntityOrGeneOrGeneProduct",
           "sub:biolink:ThingWithTaxon",
           "biolink:binds",
           "biolink:treats_or_applied_or_studied_to_treat",
           "biolink:has_participant",
           "sub:biolink:DiseaseOrPhenotypicFeature",
           "biolink:homologous_to",
           "biolink:catalyzes",
           "sub:biolink:AnatomicalEntity",
           "sub:biolink:Gene",
           "biolink:located_in",
           "sub:biolink:ChemicalEntityOrProteinOrPolypeptide",
           "biolink:genetically_interacts_with",
           "sub:biolink:ChemicalEntity",
           "biolink:contributes_to",
           "biolink:has_part",
           "biolink:occurs_in",
           "biolink:in_taxon",
           "obj:biolink:NamedThing",
           "obj:biolink:Gene",
           "obj:biolink:OrganismTaxon",
           "obj:biolink:Protein",
           "obj:biolink:MolecularEntity",
           "obj:biolink:ChemicalEntityOrGeneOrGeneProduct",
           "obj:biolink:AnatomicalEntity",
           "obj:biolink:PhysicalEssenceOrOccurrent",
           "obj:biolink:Disease",
           "obj:biolink:ThingWithTaxon",
           "obj:biolink:MacromolecularMachineMixin",
           "obj:biolink:DiseaseOrPhenotypicFeature",
           "obj:biolink:SmallMolecule",
           "biolink:has_adverse_event",
           "biolink:genetically_associated_with",
           "obj:biolink:BiologicalProcess"
          ],
          "line": {
           "color": "black",
           "width": 0.5
          },
          "pad": 15,
          "thickness": 20
         },
         "type": "sankey"
        }
       ],
       "layout": {
        "font": {
         "size": 10
        },
        "height": 1080,
        "template": {
         "data": {
          "bar": [
           {
            "error_x": {
             "color": "#2a3f5f"
            },
            "error_y": {
             "color": "#2a3f5f"
            },
            "marker": {
             "line": {
              "color": "#E5ECF6",
              "width": 0.5
             },
             "pattern": {
              "fillmode": "overlay",
              "size": 10,
              "solidity": 0.2
             }
            },
            "type": "bar"
           }
          ],
          "barpolar": [
           {
            "marker": {
             "line": {
              "color": "#E5ECF6",
              "width": 0.5
             },
             "pattern": {
              "fillmode": "overlay",
              "size": 10,
              "solidity": 0.2
             }
            },
            "type": "barpolar"
           }
          ],
          "carpet": [
           {
            "aaxis": {
             "endlinecolor": "#2a3f5f",
             "gridcolor": "white",
             "linecolor": "white",
             "minorgridcolor": "white",
             "startlinecolor": "#2a3f5f"
            },
            "baxis": {
             "endlinecolor": "#2a3f5f",
             "gridcolor": "white",
             "linecolor": "white",
             "minorgridcolor": "white",
             "startlinecolor": "#2a3f5f"
            },
            "type": "carpet"
           }
          ],
          "choropleth": [
           {
            "colorbar": {
             "outlinewidth": 0,
             "ticks": ""
            },
            "type": "choropleth"
           }
          ],
          "contour": [
           {
            "colorbar": {
             "outlinewidth": 0,
             "ticks": ""
            },
            "colorscale": [
             [
              0,
              "#0d0887"
             ],
             [
              0.1111111111111111,
              "#46039f"
             ],
             [
              0.2222222222222222,
              "#7201a8"
             ],
             [
              0.3333333333333333,
              "#9c179e"
             ],
             [
              0.4444444444444444,
              "#bd3786"
             ],
             [
              0.5555555555555556,
              "#d8576b"
             ],
             [
              0.6666666666666666,
              "#ed7953"
             ],
             [
              0.7777777777777778,
              "#fb9f3a"
             ],
             [
              0.8888888888888888,
              "#fdca26"
             ],
             [
              1,
              "#f0f921"
             ]
            ],
            "type": "contour"
           }
          ],
          "contourcarpet": [
           {
            "colorbar": {
             "outlinewidth": 0,
             "ticks": ""
            },
            "type": "contourcarpet"
           }
          ],
          "heatmap": [
           {
            "colorbar": {
             "outlinewidth": 0,
             "ticks": ""
            },
            "colorscale": [
             [
              0,
              "#0d0887"
             ],
             [
              0.1111111111111111,
              "#46039f"
             ],
             [
              0.2222222222222222,
              "#7201a8"
             ],
             [
              0.3333333333333333,
              "#9c179e"
             ],
             [
              0.4444444444444444,
              "#bd3786"
             ],
             [
              0.5555555555555556,
              "#d8576b"
             ],
             [
              0.6666666666666666,
              "#ed7953"
             ],
             [
              0.7777777777777778,
              "#fb9f3a"
             ],
             [
              0.8888888888888888,
              "#fdca26"
             ],
             [
              1,
              "#f0f921"
             ]
            ],
            "type": "heatmap"
           }
          ],
          "heatmapgl": [
           {
            "colorbar": {
             "outlinewidth": 0,
             "ticks": ""
            },
            "colorscale": [
             [
              0,
              "#0d0887"
             ],
             [
              0.1111111111111111,
              "#46039f"
             ],
             [
              0.2222222222222222,
              "#7201a8"
             ],
             [
              0.3333333333333333,
              "#9c179e"
             ],
             [
              0.4444444444444444,
              "#bd3786"
             ],
             [
              0.5555555555555556,
              "#d8576b"
             ],
             [
              0.6666666666666666,
              "#ed7953"
             ],
             [
              0.7777777777777778,
              "#fb9f3a"
             ],
             [
              0.8888888888888888,
              "#fdca26"
             ],
             [
              1,
              "#f0f921"
             ]
            ],
            "type": "heatmapgl"
           }
          ],
          "histogram": [
           {
            "marker": {
             "pattern": {
              "fillmode": "overlay",
              "size": 10,
              "solidity": 0.2
             }
            },
            "type": "histogram"
           }
          ],
          "histogram2d": [
           {
            "colorbar": {
             "outlinewidth": 0,
             "ticks": ""
            },
            "colorscale": [
             [
              0,
              "#0d0887"
             ],
             [
              0.1111111111111111,
              "#46039f"
             ],
             [
              0.2222222222222222,
              "#7201a8"
             ],
             [
              0.3333333333333333,
              "#9c179e"
             ],
             [
              0.4444444444444444,
              "#bd3786"
             ],
             [
              0.5555555555555556,
              "#d8576b"
             ],
             [
              0.6666666666666666,
              "#ed7953"
             ],
             [
              0.7777777777777778,
              "#fb9f3a"
             ],
             [
              0.8888888888888888,
              "#fdca26"
             ],
             [
              1,
              "#f0f921"
             ]
            ],
            "type": "histogram2d"
           }
          ],
          "histogram2dcontour": [
           {
            "colorbar": {
             "outlinewidth": 0,
             "ticks": ""
            },
            "colorscale": [
             [
              0,
              "#0d0887"
             ],
             [
              0.1111111111111111,
              "#46039f"
             ],
             [
              0.2222222222222222,
              "#7201a8"
             ],
             [
              0.3333333333333333,
              "#9c179e"
             ],
             [
              0.4444444444444444,
              "#bd3786"
             ],
             [
              0.5555555555555556,
              "#d8576b"
             ],
             [
              0.6666666666666666,
              "#ed7953"
             ],
             [
              0.7777777777777778,
              "#fb9f3a"
             ],
             [
              0.8888888888888888,
              "#fdca26"
             ],
             [
              1,
              "#f0f921"
             ]
            ],
            "type": "histogram2dcontour"
           }
          ],
          "mesh3d": [
           {
            "colorbar": {
             "outlinewidth": 0,
             "ticks": ""
            },
            "type": "mesh3d"
           }
          ],
          "parcoords": [
           {
            "line": {
             "colorbar": {
              "outlinewidth": 0,
              "ticks": ""
             }
            },
            "type": "parcoords"
           }
          ],
          "pie": [
           {
            "automargin": true,
            "type": "pie"
           }
          ],
          "scatter": [
           {
            "fillpattern": {
             "fillmode": "overlay",
             "size": 10,
             "solidity": 0.2
            },
            "type": "scatter"
           }
          ],
          "scatter3d": [
           {
            "line": {
             "colorbar": {
              "outlinewidth": 0,
              "ticks": ""
             }
            },
            "marker": {
             "colorbar": {
              "outlinewidth": 0,
              "ticks": ""
             }
            },
            "type": "scatter3d"
           }
          ],
          "scattercarpet": [
           {
            "marker": {
             "colorbar": {
              "outlinewidth": 0,
              "ticks": ""
             }
            },
            "type": "scattercarpet"
           }
          ],
          "scattergeo": [
           {
            "marker": {
             "colorbar": {
              "outlinewidth": 0,
              "ticks": ""
             }
            },
            "type": "scattergeo"
           }
          ],
          "scattergl": [
           {
            "marker": {
             "colorbar": {
              "outlinewidth": 0,
              "ticks": ""
             }
            },
            "type": "scattergl"
           }
          ],
          "scattermapbox": [
           {
            "marker": {
             "colorbar": {
              "outlinewidth": 0,
              "ticks": ""
             }
            },
            "type": "scattermapbox"
           }
          ],
          "scatterpolar": [
           {
            "marker": {
             "colorbar": {
              "outlinewidth": 0,
              "ticks": ""
             }
            },
            "type": "scatterpolar"
           }
          ],
          "scatterpolargl": [
           {
            "marker": {
             "colorbar": {
              "outlinewidth": 0,
              "ticks": ""
             }
            },
            "type": "scatterpolargl"
           }
          ],
          "scatterternary": [
           {
            "marker": {
             "colorbar": {
              "outlinewidth": 0,
              "ticks": ""
             }
            },
            "type": "scatterternary"
           }
          ],
          "surface": [
           {
            "colorbar": {
             "outlinewidth": 0,
             "ticks": ""
            },
            "colorscale": [
             [
              0,
              "#0d0887"
             ],
             [
              0.1111111111111111,
              "#46039f"
             ],
             [
              0.2222222222222222,
              "#7201a8"
             ],
             [
              0.3333333333333333,
              "#9c179e"
             ],
             [
              0.4444444444444444,
              "#bd3786"
             ],
             [
              0.5555555555555556,
              "#d8576b"
             ],
             [
              0.6666666666666666,
              "#ed7953"
             ],
             [
              0.7777777777777778,
              "#fb9f3a"
             ],
             [
              0.8888888888888888,
              "#fdca26"
             ],
             [
              1,
              "#f0f921"
             ]
            ],
            "type": "surface"
           }
          ],
          "table": [
           {
            "cells": {
             "fill": {
              "color": "#EBF0F8"
             },
             "line": {
              "color": "white"
             }
            },
            "header": {
             "fill": {
              "color": "#C8D4E3"
             },
             "line": {
              "color": "white"
             }
            },
            "type": "table"
           }
          ]
         },
         "layout": {
          "annotationdefaults": {
           "arrowcolor": "#2a3f5f",
           "arrowhead": 0,
           "arrowwidth": 1
          },
          "autotypenumbers": "strict",
          "coloraxis": {
           "colorbar": {
            "outlinewidth": 0,
            "ticks": ""
           }
          },
          "colorscale": {
           "diverging": [
            [
             0,
             "#8e0152"
            ],
            [
             0.1,
             "#c51b7d"
            ],
            [
             0.2,
             "#de77ae"
            ],
            [
             0.3,
             "#f1b6da"
            ],
            [
             0.4,
             "#fde0ef"
            ],
            [
             0.5,
             "#f7f7f7"
            ],
            [
             0.6,
             "#e6f5d0"
            ],
            [
             0.7,
             "#b8e186"
            ],
            [
             0.8,
             "#7fbc41"
            ],
            [
             0.9,
             "#4d9221"
            ],
            [
             1,
             "#276419"
            ]
           ],
           "sequential": [
            [
             0,
             "#0d0887"
            ],
            [
             0.1111111111111111,
             "#46039f"
            ],
            [
             0.2222222222222222,
             "#7201a8"
            ],
            [
             0.3333333333333333,
             "#9c179e"
            ],
            [
             0.4444444444444444,
             "#bd3786"
            ],
            [
             0.5555555555555556,
             "#d8576b"
            ],
            [
             0.6666666666666666,
             "#ed7953"
            ],
            [
             0.7777777777777778,
             "#fb9f3a"
            ],
            [
             0.8888888888888888,
             "#fdca26"
            ],
            [
             1,
             "#f0f921"
            ]
           ],
           "sequentialminus": [
            [
             0,
             "#0d0887"
            ],
            [
             0.1111111111111111,
             "#46039f"
            ],
            [
             0.2222222222222222,
             "#7201a8"
            ],
            [
             0.3333333333333333,
             "#9c179e"
            ],
            [
             0.4444444444444444,
             "#bd3786"
            ],
            [
             0.5555555555555556,
             "#d8576b"
            ],
            [
             0.6666666666666666,
             "#ed7953"
            ],
            [
             0.7777777777777778,
             "#fb9f3a"
            ],
            [
             0.8888888888888888,
             "#fdca26"
            ],
            [
             1,
             "#f0f921"
            ]
           ]
          },
          "colorway": [
           "#636efa",
           "#EF553B",
           "#00cc96",
           "#ab63fa",
           "#FFA15A",
           "#19d3f3",
           "#FF6692",
           "#B6E880",
           "#FF97FF",
           "#FECB52"
          ],
          "font": {
           "color": "#2a3f5f"
          },
          "geo": {
           "bgcolor": "white",
           "lakecolor": "white",
           "landcolor": "#E5ECF6",
           "showlakes": true,
           "showland": true,
           "subunitcolor": "white"
          },
          "hoverlabel": {
           "align": "left"
          },
          "hovermode": "closest",
          "mapbox": {
           "style": "light"
          },
          "paper_bgcolor": "white",
          "plot_bgcolor": "#E5ECF6",
          "polar": {
           "angularaxis": {
            "gridcolor": "white",
            "linecolor": "white",
            "ticks": ""
           },
           "bgcolor": "#E5ECF6",
           "radialaxis": {
            "gridcolor": "white",
            "linecolor": "white",
            "ticks": ""
           }
          },
          "scene": {
           "xaxis": {
            "backgroundcolor": "#E5ECF6",
            "gridcolor": "white",
            "gridwidth": 2,
            "linecolor": "white",
            "showbackground": true,
            "ticks": "",
            "zerolinecolor": "white"
           },
           "yaxis": {
            "backgroundcolor": "#E5ECF6",
            "gridcolor": "white",
            "gridwidth": 2,
            "linecolor": "white",
            "showbackground": true,
            "ticks": "",
            "zerolinecolor": "white"
           },
           "zaxis": {
            "backgroundcolor": "#E5ECF6",
            "gridcolor": "white",
            "gridwidth": 2,
            "linecolor": "white",
            "showbackground": true,
            "ticks": "",
            "zerolinecolor": "white"
           }
          },
          "shapedefaults": {
           "line": {
            "color": "#2a3f5f"
           }
          },
          "ternary": {
           "aaxis": {
            "gridcolor": "white",
            "linecolor": "white",
            "ticks": ""
           },
           "baxis": {
            "gridcolor": "white",
            "linecolor": "white",
            "ticks": ""
           },
           "bgcolor": "#E5ECF6",
           "caxis": {
            "gridcolor": "white",
            "linecolor": "white",
            "ticks": ""
           }
          },
          "title": {
           "x": 0.05
          },
          "xaxis": {
           "automargin": true,
           "gridcolor": "white",
           "linecolor": "white",
           "ticks": "",
           "title": {
            "standoff": 15
           },
           "zerolinecolor": "white",
           "zerolinewidth": 2
          },
          "yaxis": {
           "automargin": true,
           "gridcolor": "white",
           "linecolor": "white",
           "ticks": "",
           "title": {
            "standoff": 15
           },
           "zerolinecolor": "white",
           "zerolinewidth": 2
          }
         }
        },
        "title": {
         "text": "Robo"
        },
        "width": 1920
       }
      }
     },
     "metadata": {},
     "output_type": "display_data"
    },
    {
     "name": "stderr",
     "output_type": "stream",
     "text": [
      "                                                                                \r"
     ]
    },
    {
     "data": {
      "application/vnd.plotly.v1+json": {
       "config": {
        "plotlyServerURL": "https://plot.ly"
       },
       "data": [
        {
         "link": {
          "source": [
           0,
           1,
           2,
           3,
           3,
           4,
           3,
           5,
           1,
           6,
           7,
           3,
           8,
           3,
           3,
           9,
           10,
           2,
           11,
           7,
           12,
           2,
           13,
           2,
           14,
           15,
           6,
           3,
           14,
           16,
           17,
           6,
           18,
           19,
           3,
           2,
           6,
           20,
           21,
           3,
           22,
           4,
           23,
           20,
           3,
           24,
           7,
           12,
           3,
           25,
           26,
           27,
           28,
           20,
           3,
           29,
           16,
           3,
           4,
           30,
           5,
           7,
           27,
           5,
           12,
           31,
           16,
           31,
           3,
           3,
           15,
           32,
           20,
           19,
           27,
           1,
           5,
           33,
           3,
           19,
           34,
           7,
           1,
           35,
           3,
           13,
           12,
           7,
           29,
           36,
           24,
           6,
           37,
           33,
           2,
           4,
           7,
           15,
           19,
           10
          ],
          "target": [
           1,
           38,
           3,
           39,
           40,
           3,
           41,
           3,
           40,
           3,
           3,
           42,
           3,
           43,
           44,
           3,
           45,
           10,
           44,
           12,
           42,
           11,
           39,
           13,
           16,
           39,
           15,
           46,
           27,
           39,
           41,
           17,
           41,
           3,
           38,
           18,
           20,
           42,
           3,
           47,
           3,
           20,
           3,
           48,
           49,
           3,
           20,
           40,
           50,
           3,
           3,
           39,
           3,
           51,
           52,
           3,
           40,
           53,
           12,
           42,
           33,
           30,
           38,
           15,
           39,
           12,
           38,
           3,
           45,
           54,
           42,
           3,
           54,
           10,
           40,
           55,
           20,
           43,
           56,
           13,
           41,
           35,
           57,
           42,
           58,
           46,
           45,
           36,
           12,
           42,
           10,
           12,
           42,
           41,
           37,
           15,
           10,
           46,
           11,
           42
          ],
          "value": [
           243283,
           193247,
           176302,
           176040,
           169379,
           126927,
           58337,
           57868,
           48240,
           42813,
           23991,
           23722,
           20031,
           19963,
           19615,
           19297,
           13018,
           11403,
           10807,
           10763,
           10041,
           9714,
           8901,
           8811,
           8519,
           6545,
           6421,
           5130,
           4769,
           4555,
           4549,
           4123,
           3641,
           3509,
           3413,
           3196,
           2986,
           2528,
           2472,
           2414,
           2227,
           2211,
           2135,
           2135,
           2094,
           2067,
           2054,
           2029,
           2011,
           2001,
           1910,
           1811,
           1773,
           1764,
           1695,
           1692,
           1688,
           1685,
           1641,
           1528,
           1523,
           1516,
           1512,
           1482,
           1462,
           1426,
           1384,
           1264,
           1252,
           1180,
           1158,
           1151,
           1071,
           969,
           958,
           926,
           898,
           865,
           818,
           804,
           784,
           782,
           776,
           770,
           748,
           690,
           687,
           643,
           637,
           631,
           613,
           610,
           566,
           545,
           520,
           515,
           514,
           504,
           492,
           480
          ]
         },
         "node": {
          "color": [
           "rgb(115,96,88)",
           "rgb(156,119,154)",
           "rgb(168,47,200)",
           "rgb(126,143,216)",
           "rgb(102,64,118)",
           "rgb(210,140,142)",
           "rgb(61,110,29)",
           "rgb(243,54,173)",
           "rgb(75,2,59)",
           "rgb(12,74,42)",
           "rgb(19,233,110)",
           "rgb(23,73,238)",
           "rgb(105,78,10)",
           "rgb(113,95,241)",
           "rgb(76,116,91)",
           "rgb(241,20,75)",
           "rgb(216,196,238)",
           "rgb(132,163,86)",
           "rgb(192,171,160)",
           "rgb(80,165,159)",
           "rgb(201,61,28)",
           "rgb(247,22,17)",
           "rgb(212,10,93)",
           "rgb(128,21,186)",
           "rgb(90,160,37)",
           "rgb(175,218,131)",
           "rgb(168,155,246)",
           "rgb(94,215,236)",
           "rgb(196,206,126)",
           "rgb(80,195,46)",
           "rgb(241,151,200)",
           "rgb(91,36,104)",
           "rgb(114,206,171)",
           "rgb(106,43,211)",
           "rgb(235,181,87)",
           "rgb(10,107,222)",
           "rgb(6,12,211)",
           "rgb(132,161,153)",
           "rgb(201,93,93)",
           "rgb(112,221,126)",
           "rgb(245,47,56)",
           "rgb(143,171,250)",
           "rgb(108,10,81)",
           "rgb(156,216,84)",
           "rgb(54,222,218)",
           "rgb(208,160,188)",
           "rgb(39,83,99)",
           "rgb(129,221,193)",
           "rgb(107,48,39)",
           "rgb(21,224,5)",
           "rgb(10,59,44)",
           "rgb(102,56,121)",
           "rgb(202,124,211)",
           "rgb(82,146,177)",
           "rgb(210,45,29)",
           "rgb(111,167,122)",
           "rgb(82,123,3)",
           "rgb(195,91,206)",
           "rgb(120,18,233)"
          ],
          "label": [
           "sub:biolink:Pathway",
           "biolink:has_participant",
           "sub:biolink:Protein",
           "biolink:subclass_of",
           "sub:biolink:MolecularEntity",
           "sub:biolink:Disease",
           "sub:biolink:SmallMolecule",
           "sub:biolink:AnatomicalEntity",
           "sub:biolink:DiseaseOrPhenotypicFeature",
           "sub:biolink:OrganismTaxon",
           "biolink:located_in",
           "biolink:in_taxon",
           "biolink:has_part",
           "biolink:physically_interacts_with",
           "sub:biolink:MolecularActivity",
           "biolink:affects",
           "biolink:has_input",
           "biolink:treats",
           "biolink:gene_associated_with_condition",
           "sub:biolink:ChemicalEntityOrGeneOrGeneProduct",
           "biolink:related_to",
           "sub:biolink:ChemicalEntityOrProteinOrPolypeptide",
           "sub:biolink:PhysicalEssenceOrOccurrent",
           "sub:biolink:Cell",
           "sub:biolink:Gene",
           "sub:biolink:PhenotypicFeature",
           "sub:biolink:ChemicalEntity",
           "biolink:has_output",
           "sub:biolink:ThingWithTaxon",
           "sub:biolink:GrossAnatomicalStructure",
           "biolink:develops_from",
           "sub:biolink:CellularComponent",
           "sub:biolink:NamedThing",
           "biolink:has_phenotype",
           "biolink:causes",
           "biolink:coexists_with",
           "biolink:overlaps",
           "biolink:expressed_in",
           "obj:biolink:SmallMolecule",
           "obj:biolink:Protein",
           "obj:biolink:MolecularEntity",
           "obj:biolink:Disease",
           "obj:biolink:AnatomicalEntity",
           "obj:biolink:DiseaseOrPhenotypicFeature",
           "obj:biolink:OrganismTaxon",
           "obj:biolink:CellularComponent",
           "obj:biolink:ChemicalEntityOrGeneOrGeneProduct",
           "obj:biolink:Gene",
           "obj:biolink:Drug",
           "obj:biolink:Cell",
           "obj:biolink:GrossAnatomicalStructure",
           "obj:biolink:BiologicalEntity",
           "obj:biolink:ThingWithTaxon",
           "obj:biolink:PhenotypicFeature",
           "obj:biolink:ChemicalEntity",
           "obj:biolink:PhysicalEssenceOrOccurrent",
           "obj:biolink:NamedThing",
           "obj:biolink:Polypeptide",
           "obj:biolink:ChemicalEntityOrProteinOrPolypeptide"
          ],
          "line": {
           "color": "black",
           "width": 0.5
          },
          "pad": 15,
          "thickness": 20
         },
         "type": "sankey"
        }
       ],
       "layout": {
        "font": {
         "size": 10
        },
        "height": 1080,
        "template": {
         "data": {
          "bar": [
           {
            "error_x": {
             "color": "#2a3f5f"
            },
            "error_y": {
             "color": "#2a3f5f"
            },
            "marker": {
             "line": {
              "color": "#E5ECF6",
              "width": 0.5
             },
             "pattern": {
              "fillmode": "overlay",
              "size": 10,
              "solidity": 0.2
             }
            },
            "type": "bar"
           }
          ],
          "barpolar": [
           {
            "marker": {
             "line": {
              "color": "#E5ECF6",
              "width": 0.5
             },
             "pattern": {
              "fillmode": "overlay",
              "size": 10,
              "solidity": 0.2
             }
            },
            "type": "barpolar"
           }
          ],
          "carpet": [
           {
            "aaxis": {
             "endlinecolor": "#2a3f5f",
             "gridcolor": "white",
             "linecolor": "white",
             "minorgridcolor": "white",
             "startlinecolor": "#2a3f5f"
            },
            "baxis": {
             "endlinecolor": "#2a3f5f",
             "gridcolor": "white",
             "linecolor": "white",
             "minorgridcolor": "white",
             "startlinecolor": "#2a3f5f"
            },
            "type": "carpet"
           }
          ],
          "choropleth": [
           {
            "colorbar": {
             "outlinewidth": 0,
             "ticks": ""
            },
            "type": "choropleth"
           }
          ],
          "contour": [
           {
            "colorbar": {
             "outlinewidth": 0,
             "ticks": ""
            },
            "colorscale": [
             [
              0,
              "#0d0887"
             ],
             [
              0.1111111111111111,
              "#46039f"
             ],
             [
              0.2222222222222222,
              "#7201a8"
             ],
             [
              0.3333333333333333,
              "#9c179e"
             ],
             [
              0.4444444444444444,
              "#bd3786"
             ],
             [
              0.5555555555555556,
              "#d8576b"
             ],
             [
              0.6666666666666666,
              "#ed7953"
             ],
             [
              0.7777777777777778,
              "#fb9f3a"
             ],
             [
              0.8888888888888888,
              "#fdca26"
             ],
             [
              1,
              "#f0f921"
             ]
            ],
            "type": "contour"
           }
          ],
          "contourcarpet": [
           {
            "colorbar": {
             "outlinewidth": 0,
             "ticks": ""
            },
            "type": "contourcarpet"
           }
          ],
          "heatmap": [
           {
            "colorbar": {
             "outlinewidth": 0,
             "ticks": ""
            },
            "colorscale": [
             [
              0,
              "#0d0887"
             ],
             [
              0.1111111111111111,
              "#46039f"
             ],
             [
              0.2222222222222222,
              "#7201a8"
             ],
             [
              0.3333333333333333,
              "#9c179e"
             ],
             [
              0.4444444444444444,
              "#bd3786"
             ],
             [
              0.5555555555555556,
              "#d8576b"
             ],
             [
              0.6666666666666666,
              "#ed7953"
             ],
             [
              0.7777777777777778,
              "#fb9f3a"
             ],
             [
              0.8888888888888888,
              "#fdca26"
             ],
             [
              1,
              "#f0f921"
             ]
            ],
            "type": "heatmap"
           }
          ],
          "heatmapgl": [
           {
            "colorbar": {
             "outlinewidth": 0,
             "ticks": ""
            },
            "colorscale": [
             [
              0,
              "#0d0887"
             ],
             [
              0.1111111111111111,
              "#46039f"
             ],
             [
              0.2222222222222222,
              "#7201a8"
             ],
             [
              0.3333333333333333,
              "#9c179e"
             ],
             [
              0.4444444444444444,
              "#bd3786"
             ],
             [
              0.5555555555555556,
              "#d8576b"
             ],
             [
              0.6666666666666666,
              "#ed7953"
             ],
             [
              0.7777777777777778,
              "#fb9f3a"
             ],
             [
              0.8888888888888888,
              "#fdca26"
             ],
             [
              1,
              "#f0f921"
             ]
            ],
            "type": "heatmapgl"
           }
          ],
          "histogram": [
           {
            "marker": {
             "pattern": {
              "fillmode": "overlay",
              "size": 10,
              "solidity": 0.2
             }
            },
            "type": "histogram"
           }
          ],
          "histogram2d": [
           {
            "colorbar": {
             "outlinewidth": 0,
             "ticks": ""
            },
            "colorscale": [
             [
              0,
              "#0d0887"
             ],
             [
              0.1111111111111111,
              "#46039f"
             ],
             [
              0.2222222222222222,
              "#7201a8"
             ],
             [
              0.3333333333333333,
              "#9c179e"
             ],
             [
              0.4444444444444444,
              "#bd3786"
             ],
             [
              0.5555555555555556,
              "#d8576b"
             ],
             [
              0.6666666666666666,
              "#ed7953"
             ],
             [
              0.7777777777777778,
              "#fb9f3a"
             ],
             [
              0.8888888888888888,
              "#fdca26"
             ],
             [
              1,
              "#f0f921"
             ]
            ],
            "type": "histogram2d"
           }
          ],
          "histogram2dcontour": [
           {
            "colorbar": {
             "outlinewidth": 0,
             "ticks": ""
            },
            "colorscale": [
             [
              0,
              "#0d0887"
             ],
             [
              0.1111111111111111,
              "#46039f"
             ],
             [
              0.2222222222222222,
              "#7201a8"
             ],
             [
              0.3333333333333333,
              "#9c179e"
             ],
             [
              0.4444444444444444,
              "#bd3786"
             ],
             [
              0.5555555555555556,
              "#d8576b"
             ],
             [
              0.6666666666666666,
              "#ed7953"
             ],
             [
              0.7777777777777778,
              "#fb9f3a"
             ],
             [
              0.8888888888888888,
              "#fdca26"
             ],
             [
              1,
              "#f0f921"
             ]
            ],
            "type": "histogram2dcontour"
           }
          ],
          "mesh3d": [
           {
            "colorbar": {
             "outlinewidth": 0,
             "ticks": ""
            },
            "type": "mesh3d"
           }
          ],
          "parcoords": [
           {
            "line": {
             "colorbar": {
              "outlinewidth": 0,
              "ticks": ""
             }
            },
            "type": "parcoords"
           }
          ],
          "pie": [
           {
            "automargin": true,
            "type": "pie"
           }
          ],
          "scatter": [
           {
            "fillpattern": {
             "fillmode": "overlay",
             "size": 10,
             "solidity": 0.2
            },
            "type": "scatter"
           }
          ],
          "scatter3d": [
           {
            "line": {
             "colorbar": {
              "outlinewidth": 0,
              "ticks": ""
             }
            },
            "marker": {
             "colorbar": {
              "outlinewidth": 0,
              "ticks": ""
             }
            },
            "type": "scatter3d"
           }
          ],
          "scattercarpet": [
           {
            "marker": {
             "colorbar": {
              "outlinewidth": 0,
              "ticks": ""
             }
            },
            "type": "scattercarpet"
           }
          ],
          "scattergeo": [
           {
            "marker": {
             "colorbar": {
              "outlinewidth": 0,
              "ticks": ""
             }
            },
            "type": "scattergeo"
           }
          ],
          "scattergl": [
           {
            "marker": {
             "colorbar": {
              "outlinewidth": 0,
              "ticks": ""
             }
            },
            "type": "scattergl"
           }
          ],
          "scattermapbox": [
           {
            "marker": {
             "colorbar": {
              "outlinewidth": 0,
              "ticks": ""
             }
            },
            "type": "scattermapbox"
           }
          ],
          "scatterpolar": [
           {
            "marker": {
             "colorbar": {
              "outlinewidth": 0,
              "ticks": ""
             }
            },
            "type": "scatterpolar"
           }
          ],
          "scatterpolargl": [
           {
            "marker": {
             "colorbar": {
              "outlinewidth": 0,
              "ticks": ""
             }
            },
            "type": "scatterpolargl"
           }
          ],
          "scatterternary": [
           {
            "marker": {
             "colorbar": {
              "outlinewidth": 0,
              "ticks": ""
             }
            },
            "type": "scatterternary"
           }
          ],
          "surface": [
           {
            "colorbar": {
             "outlinewidth": 0,
             "ticks": ""
            },
            "colorscale": [
             [
              0,
              "#0d0887"
             ],
             [
              0.1111111111111111,
              "#46039f"
             ],
             [
              0.2222222222222222,
              "#7201a8"
             ],
             [
              0.3333333333333333,
              "#9c179e"
             ],
             [
              0.4444444444444444,
              "#bd3786"
             ],
             [
              0.5555555555555556,
              "#d8576b"
             ],
             [
              0.6666666666666666,
              "#ed7953"
             ],
             [
              0.7777777777777778,
              "#fb9f3a"
             ],
             [
              0.8888888888888888,
              "#fdca26"
             ],
             [
              1,
              "#f0f921"
             ]
            ],
            "type": "surface"
           }
          ],
          "table": [
           {
            "cells": {
             "fill": {
              "color": "#EBF0F8"
             },
             "line": {
              "color": "white"
             }
            },
            "header": {
             "fill": {
              "color": "#C8D4E3"
             },
             "line": {
              "color": "white"
             }
            },
            "type": "table"
           }
          ]
         },
         "layout": {
          "annotationdefaults": {
           "arrowcolor": "#2a3f5f",
           "arrowhead": 0,
           "arrowwidth": 1
          },
          "autotypenumbers": "strict",
          "coloraxis": {
           "colorbar": {
            "outlinewidth": 0,
            "ticks": ""
           }
          },
          "colorscale": {
           "diverging": [
            [
             0,
             "#8e0152"
            ],
            [
             0.1,
             "#c51b7d"
            ],
            [
             0.2,
             "#de77ae"
            ],
            [
             0.3,
             "#f1b6da"
            ],
            [
             0.4,
             "#fde0ef"
            ],
            [
             0.5,
             "#f7f7f7"
            ],
            [
             0.6,
             "#e6f5d0"
            ],
            [
             0.7,
             "#b8e186"
            ],
            [
             0.8,
             "#7fbc41"
            ],
            [
             0.9,
             "#4d9221"
            ],
            [
             1,
             "#276419"
            ]
           ],
           "sequential": [
            [
             0,
             "#0d0887"
            ],
            [
             0.1111111111111111,
             "#46039f"
            ],
            [
             0.2222222222222222,
             "#7201a8"
            ],
            [
             0.3333333333333333,
             "#9c179e"
            ],
            [
             0.4444444444444444,
             "#bd3786"
            ],
            [
             0.5555555555555556,
             "#d8576b"
            ],
            [
             0.6666666666666666,
             "#ed7953"
            ],
            [
             0.7777777777777778,
             "#fb9f3a"
            ],
            [
             0.8888888888888888,
             "#fdca26"
            ],
            [
             1,
             "#f0f921"
            ]
           ],
           "sequentialminus": [
            [
             0,
             "#0d0887"
            ],
            [
             0.1111111111111111,
             "#46039f"
            ],
            [
             0.2222222222222222,
             "#7201a8"
            ],
            [
             0.3333333333333333,
             "#9c179e"
            ],
            [
             0.4444444444444444,
             "#bd3786"
            ],
            [
             0.5555555555555556,
             "#d8576b"
            ],
            [
             0.6666666666666666,
             "#ed7953"
            ],
            [
             0.7777777777777778,
             "#fb9f3a"
            ],
            [
             0.8888888888888888,
             "#fdca26"
            ],
            [
             1,
             "#f0f921"
            ]
           ]
          },
          "colorway": [
           "#636efa",
           "#EF553B",
           "#00cc96",
           "#ab63fa",
           "#FFA15A",
           "#19d3f3",
           "#FF6692",
           "#B6E880",
           "#FF97FF",
           "#FECB52"
          ],
          "font": {
           "color": "#2a3f5f"
          },
          "geo": {
           "bgcolor": "white",
           "lakecolor": "white",
           "landcolor": "#E5ECF6",
           "showlakes": true,
           "showland": true,
           "subunitcolor": "white"
          },
          "hoverlabel": {
           "align": "left"
          },
          "hovermode": "closest",
          "mapbox": {
           "style": "light"
          },
          "paper_bgcolor": "white",
          "plot_bgcolor": "#E5ECF6",
          "polar": {
           "angularaxis": {
            "gridcolor": "white",
            "linecolor": "white",
            "ticks": ""
           },
           "bgcolor": "#E5ECF6",
           "radialaxis": {
            "gridcolor": "white",
            "linecolor": "white",
            "ticks": ""
           }
          },
          "scene": {
           "xaxis": {
            "backgroundcolor": "#E5ECF6",
            "gridcolor": "white",
            "gridwidth": 2,
            "linecolor": "white",
            "showbackground": true,
            "ticks": "",
            "zerolinecolor": "white"
           },
           "yaxis": {
            "backgroundcolor": "#E5ECF6",
            "gridcolor": "white",
            "gridwidth": 2,
            "linecolor": "white",
            "showbackground": true,
            "ticks": "",
            "zerolinecolor": "white"
           },
           "zaxis": {
            "backgroundcolor": "#E5ECF6",
            "gridcolor": "white",
            "gridwidth": 2,
            "linecolor": "white",
            "showbackground": true,
            "ticks": "",
            "zerolinecolor": "white"
           }
          },
          "shapedefaults": {
           "line": {
            "color": "#2a3f5f"
           }
          },
          "ternary": {
           "aaxis": {
            "gridcolor": "white",
            "linecolor": "white",
            "ticks": ""
           },
           "baxis": {
            "gridcolor": "white",
            "linecolor": "white",
            "ticks": ""
           },
           "bgcolor": "#E5ECF6",
           "caxis": {
            "gridcolor": "white",
            "linecolor": "white",
            "ticks": ""
           }
          },
          "title": {
           "x": 0.05
          },
          "xaxis": {
           "automargin": true,
           "gridcolor": "white",
           "linecolor": "white",
           "ticks": "",
           "title": {
            "standoff": 15
           },
           "zerolinecolor": "white",
           "zerolinewidth": 2
          },
          "yaxis": {
           "automargin": true,
           "gridcolor": "white",
           "linecolor": "white",
           "ticks": "",
           "title": {
            "standoff": 15
           },
           "zerolinecolor": "white",
           "zerolinewidth": 2
          }
         }
        },
        "title": {
         "text": "Both"
        },
        "width": 1920
       }
      }
     },
     "metadata": {},
     "output_type": "display_data"
    },
    {
     "name": "stderr",
     "output_type": "stream",
     "text": [
      "                                                                                \r"
     ]
    },
    {
     "data": {
      "application/vnd.plotly.v1+json": {
       "config": {
        "plotlyServerURL": "https://plot.ly"
       },
       "data": [
        {
         "link": {
          "source": [
           0,
           1,
           2,
           3,
           1,
           2,
           4,
           3,
           1,
           5,
           6,
           5,
           3,
           4,
           2,
           7,
           7,
           4,
           8,
           9,
           10,
           11,
           12,
           13,
           14,
           1,
           5,
           12,
           13,
           15,
           16,
           10,
           17,
           15,
           16,
           15,
           11,
           18,
           19,
           16,
           5,
           1,
           11,
           5,
           20,
           21,
           5,
           2,
           22,
           23,
           9,
           5,
           1,
           1,
           1,
           11,
           16,
           1,
           5,
           10,
           24,
           25,
           26,
           27,
           16,
           28,
           6,
           29,
           27,
           27,
           30,
           31,
           1,
           24,
           24,
           32,
           33,
           34,
           35,
           35,
           5,
           13,
           5,
           36,
           5,
           21,
           37,
           1,
           13,
           5,
           38,
           39,
           5,
           1,
           32,
           40,
           6,
           11,
           4,
           41
          ],
          "target": [
           1,
           42,
           3,
           43,
           44,
           4,
           45,
           45,
           46,
           6,
           45,
           1,
           47,
           43,
           10,
           15,
           16,
           47,
           1,
           1,
           45,
           12,
           48,
           1,
           1,
           47,
           12,
           45,
           4,
           44,
           49,
           43,
           50,
           51,
           48,
           50,
           1,
           52,
           53,
           54,
           19,
           53,
           20,
           17,
           45,
           1,
           4,
           24,
           44,
           45,
           4,
           23,
           55,
           45,
           56,
           4,
           46,
           52,
           18,
           47,
           55,
           16,
           45,
           16,
           45,
           6,
           47,
           18,
           33,
           36,
           45,
           50,
           50,
           57,
           53,
           1,
           48,
           53,
           58,
           22,
           20,
           30,
           22,
           48,
           26,
           24,
           1,
           57,
           15,
           38,
           45,
           52,
           24,
           59,
           26,
           6,
           43,
           34,
           52,
           1
          ],
          "value": [
           45247562,
           32588755,
           31864140,
           15636968,
           15455435,
           14909948,
           10728337,
           10679440,
           9107860,
           8492314,
           8492314,
           5809215,
           5490997,
           4068076,
           3858701,
           3038057,
           3004805,
           2879455,
           2806212,
           2660683,
           2300068,
           2104122,
           2099970,
           1559914,
           1535320,
           1525147,
           1446780,
           1427211,
           1314270,
           1239485,
           1063314,
           1062539,
           1042660,
           1020084,
           993486,
           964265,
           898263,
           856278,
           808537,
           769433,
           688162,
           687020,
           684508,
           675066,
           660955,
           633627,
           633374,
           625101,
           600198,
           582857,
           581083,
           577823,
           561469,
           550001,
           545368,
           515801,
           515470,
           505838,
           498424,
           492740,
           490757,
           459380,
           445810,
           400167,
           398781,
           397024,
           397024,
           377394,
           376878,
           366549,
           358958,
           321467,
           321010,
           315752,
           297980,
           296740,
           280705,
           268333,
           257219,
           257219,
           254797,
           248629,
           246652,
           246600,
           225274,
           224741,
           223826,
           221838,
           221513,
           210770,
           210770,
           204228,
           203347,
           201527,
           200041,
           189018,
           189018,
           188906,
           180914,
           176513
          ]
         },
         "node": {
          "color": [
           "rgb(116,126,15)",
           "rgb(221,3,0)",
           "rgb(10,149,0)",
           "rgb(85,7,200)",
           "rgb(49,184,137)",
           "rgb(32,196,247)",
           "rgb(206,116,181)",
           "rgb(148,184,106)",
           "rgb(208,103,136)",
           "rgb(178,184,239)",
           "rgb(118,94,7)",
           "rgb(103,136,37)",
           "rgb(192,51,71)",
           "rgb(61,84,102)",
           "rgb(42,200,70)",
           "rgb(139,153,219)",
           "rgb(24,244,13)",
           "rgb(106,21,122)",
           "rgb(192,119,225)",
           "rgb(222,6,55)",
           "rgb(234,121,146)",
           "rgb(211,19,231)",
           "rgb(191,222,64)",
           "rgb(96,100,214)",
           "rgb(66,56,203)",
           "rgb(156,191,26)",
           "rgb(150,162,234)",
           "rgb(197,180,102)",
           "rgb(86,199,228)",
           "rgb(37,231,57)",
           "rgb(218,208,134)",
           "rgb(206,125,164)",
           "rgb(176,96,109)",
           "rgb(20,2,235)",
           "rgb(220,177,87)",
           "rgb(157,140,45)",
           "rgb(119,115,172)",
           "rgb(254,202,155)",
           "rgb(71,21,78)",
           "rgb(216,56,211)",
           "rgb(91,21,15)",
           "rgb(210,28,138)",
           "rgb(156,119,236)",
           "rgb(25,222,54)",
           "rgb(170,98,60)",
           "rgb(12,119,139)",
           "rgb(164,201,141)",
           "rgb(150,22,136)",
           "rgb(204,114,0)",
           "rgb(22,177,40)",
           "rgb(117,25,24)",
           "rgb(235,50,158)",
           "rgb(156,254,120)",
           "rgb(113,239,169)",
           "rgb(197,41,244)",
           "rgb(135,74,231)",
           "rgb(93,234,26)",
           "rgb(175,112,101)",
           "rgb(77,235,88)",
           "rgb(4,238,167)"
          ],
          "label": [
           "sub:biolink:NamedThing",
           "biolink:subclass_of",
           "sub:biolink:GenomicEntity",
           "biolink:is_nearby_variant_of",
           "biolink:affects",
           "sub:biolink:Protein",
           "biolink:coexpressed_with",
           "sub:biolink:Pathway",
           "sub:biolink:OrganismTaxon",
           "sub:biolink:MolecularEntity",
           "biolink:is_non_coding_variant_of",
           "sub:biolink:SmallMolecule",
           "biolink:physically_interacts_with",
           "sub:biolink:PhysicalEssenceOrOccurrent",
           "sub:biolink:MacromolecularMachineMixin",
           "biolink:occurs_in",
           "biolink:has_participant",
           "biolink:expressed_in",
           "biolink:actively_involved_in",
           "biolink:gene_associated_with_condition",
           "biolink:related_to",
           "sub:biolink:Disease",
           "biolink:in_taxon",
           "biolink:directly_physically_interacts_with",
           "biolink:has_phenotype",
           "sub:biolink:PhysiologicalProcess",
           "biolink:regulates",
           "sub:biolink:MolecularActivity",
           "sub:biolink:ChemicalEntityOrGeneOrGeneProduct",
           "sub:biolink:ThingWithTaxon",
           "biolink:binds",
           "biolink:located_in",
           "sub:biolink:AnatomicalEntity",
           "biolink:has_output",
           "biolink:treats_or_applied_or_studied_to_treat",
           "sub:biolink:Transcript",
           "biolink:has_input",
           "sub:biolink:DiseaseOrPhenotypicFeature",
           "biolink:homologous_to",
           "biolink:catalyzes",
           "sub:biolink:Gene",
           "sub:biolink:Drug",
           "obj:biolink:NamedThing",
           "obj:biolink:Gene",
           "obj:biolink:OrganismTaxon",
           "obj:biolink:Protein",
           "obj:biolink:MolecularEntity",
           "obj:biolink:ChemicalEntityOrGeneOrGeneProduct",
           "obj:biolink:SmallMolecule",
           "obj:biolink:Transcript",
           "obj:biolink:AnatomicalEntity",
           "obj:biolink:CellularComponent",
           "obj:biolink:PhysicalEssenceOrOccurrent",
           "obj:biolink:Disease",
           "obj:biolink:MolecularActivity",
           "obj:biolink:ThingWithTaxon",
           "obj:biolink:MacromolecularMachineMixin",
           "obj:biolink:DiseaseOrPhenotypicFeature",
           "biolink:transcribed_from",
           "obj:biolink:Drug"
          ],
          "line": {
           "color": "black",
           "width": 0.5
          },
          "pad": 15,
          "thickness": 20
         },
         "type": "sankey"
        }
       ],
       "layout": {
        "font": {
         "size": 10
        },
        "height": 1080,
        "template": {
         "data": {
          "bar": [
           {
            "error_x": {
             "color": "#2a3f5f"
            },
            "error_y": {
             "color": "#2a3f5f"
            },
            "marker": {
             "line": {
              "color": "#E5ECF6",
              "width": 0.5
             },
             "pattern": {
              "fillmode": "overlay",
              "size": 10,
              "solidity": 0.2
             }
            },
            "type": "bar"
           }
          ],
          "barpolar": [
           {
            "marker": {
             "line": {
              "color": "#E5ECF6",
              "width": 0.5
             },
             "pattern": {
              "fillmode": "overlay",
              "size": 10,
              "solidity": 0.2
             }
            },
            "type": "barpolar"
           }
          ],
          "carpet": [
           {
            "aaxis": {
             "endlinecolor": "#2a3f5f",
             "gridcolor": "white",
             "linecolor": "white",
             "minorgridcolor": "white",
             "startlinecolor": "#2a3f5f"
            },
            "baxis": {
             "endlinecolor": "#2a3f5f",
             "gridcolor": "white",
             "linecolor": "white",
             "minorgridcolor": "white",
             "startlinecolor": "#2a3f5f"
            },
            "type": "carpet"
           }
          ],
          "choropleth": [
           {
            "colorbar": {
             "outlinewidth": 0,
             "ticks": ""
            },
            "type": "choropleth"
           }
          ],
          "contour": [
           {
            "colorbar": {
             "outlinewidth": 0,
             "ticks": ""
            },
            "colorscale": [
             [
              0,
              "#0d0887"
             ],
             [
              0.1111111111111111,
              "#46039f"
             ],
             [
              0.2222222222222222,
              "#7201a8"
             ],
             [
              0.3333333333333333,
              "#9c179e"
             ],
             [
              0.4444444444444444,
              "#bd3786"
             ],
             [
              0.5555555555555556,
              "#d8576b"
             ],
             [
              0.6666666666666666,
              "#ed7953"
             ],
             [
              0.7777777777777778,
              "#fb9f3a"
             ],
             [
              0.8888888888888888,
              "#fdca26"
             ],
             [
              1,
              "#f0f921"
             ]
            ],
            "type": "contour"
           }
          ],
          "contourcarpet": [
           {
            "colorbar": {
             "outlinewidth": 0,
             "ticks": ""
            },
            "type": "contourcarpet"
           }
          ],
          "heatmap": [
           {
            "colorbar": {
             "outlinewidth": 0,
             "ticks": ""
            },
            "colorscale": [
             [
              0,
              "#0d0887"
             ],
             [
              0.1111111111111111,
              "#46039f"
             ],
             [
              0.2222222222222222,
              "#7201a8"
             ],
             [
              0.3333333333333333,
              "#9c179e"
             ],
             [
              0.4444444444444444,
              "#bd3786"
             ],
             [
              0.5555555555555556,
              "#d8576b"
             ],
             [
              0.6666666666666666,
              "#ed7953"
             ],
             [
              0.7777777777777778,
              "#fb9f3a"
             ],
             [
              0.8888888888888888,
              "#fdca26"
             ],
             [
              1,
              "#f0f921"
             ]
            ],
            "type": "heatmap"
           }
          ],
          "heatmapgl": [
           {
            "colorbar": {
             "outlinewidth": 0,
             "ticks": ""
            },
            "colorscale": [
             [
              0,
              "#0d0887"
             ],
             [
              0.1111111111111111,
              "#46039f"
             ],
             [
              0.2222222222222222,
              "#7201a8"
             ],
             [
              0.3333333333333333,
              "#9c179e"
             ],
             [
              0.4444444444444444,
              "#bd3786"
             ],
             [
              0.5555555555555556,
              "#d8576b"
             ],
             [
              0.6666666666666666,
              "#ed7953"
             ],
             [
              0.7777777777777778,
              "#fb9f3a"
             ],
             [
              0.8888888888888888,
              "#fdca26"
             ],
             [
              1,
              "#f0f921"
             ]
            ],
            "type": "heatmapgl"
           }
          ],
          "histogram": [
           {
            "marker": {
             "pattern": {
              "fillmode": "overlay",
              "size": 10,
              "solidity": 0.2
             }
            },
            "type": "histogram"
           }
          ],
          "histogram2d": [
           {
            "colorbar": {
             "outlinewidth": 0,
             "ticks": ""
            },
            "colorscale": [
             [
              0,
              "#0d0887"
             ],
             [
              0.1111111111111111,
              "#46039f"
             ],
             [
              0.2222222222222222,
              "#7201a8"
             ],
             [
              0.3333333333333333,
              "#9c179e"
             ],
             [
              0.4444444444444444,
              "#bd3786"
             ],
             [
              0.5555555555555556,
              "#d8576b"
             ],
             [
              0.6666666666666666,
              "#ed7953"
             ],
             [
              0.7777777777777778,
              "#fb9f3a"
             ],
             [
              0.8888888888888888,
              "#fdca26"
             ],
             [
              1,
              "#f0f921"
             ]
            ],
            "type": "histogram2d"
           }
          ],
          "histogram2dcontour": [
           {
            "colorbar": {
             "outlinewidth": 0,
             "ticks": ""
            },
            "colorscale": [
             [
              0,
              "#0d0887"
             ],
             [
              0.1111111111111111,
              "#46039f"
             ],
             [
              0.2222222222222222,
              "#7201a8"
             ],
             [
              0.3333333333333333,
              "#9c179e"
             ],
             [
              0.4444444444444444,
              "#bd3786"
             ],
             [
              0.5555555555555556,
              "#d8576b"
             ],
             [
              0.6666666666666666,
              "#ed7953"
             ],
             [
              0.7777777777777778,
              "#fb9f3a"
             ],
             [
              0.8888888888888888,
              "#fdca26"
             ],
             [
              1,
              "#f0f921"
             ]
            ],
            "type": "histogram2dcontour"
           }
          ],
          "mesh3d": [
           {
            "colorbar": {
             "outlinewidth": 0,
             "ticks": ""
            },
            "type": "mesh3d"
           }
          ],
          "parcoords": [
           {
            "line": {
             "colorbar": {
              "outlinewidth": 0,
              "ticks": ""
             }
            },
            "type": "parcoords"
           }
          ],
          "pie": [
           {
            "automargin": true,
            "type": "pie"
           }
          ],
          "scatter": [
           {
            "fillpattern": {
             "fillmode": "overlay",
             "size": 10,
             "solidity": 0.2
            },
            "type": "scatter"
           }
          ],
          "scatter3d": [
           {
            "line": {
             "colorbar": {
              "outlinewidth": 0,
              "ticks": ""
             }
            },
            "marker": {
             "colorbar": {
              "outlinewidth": 0,
              "ticks": ""
             }
            },
            "type": "scatter3d"
           }
          ],
          "scattercarpet": [
           {
            "marker": {
             "colorbar": {
              "outlinewidth": 0,
              "ticks": ""
             }
            },
            "type": "scattercarpet"
           }
          ],
          "scattergeo": [
           {
            "marker": {
             "colorbar": {
              "outlinewidth": 0,
              "ticks": ""
             }
            },
            "type": "scattergeo"
           }
          ],
          "scattergl": [
           {
            "marker": {
             "colorbar": {
              "outlinewidth": 0,
              "ticks": ""
             }
            },
            "type": "scattergl"
           }
          ],
          "scattermapbox": [
           {
            "marker": {
             "colorbar": {
              "outlinewidth": 0,
              "ticks": ""
             }
            },
            "type": "scattermapbox"
           }
          ],
          "scatterpolar": [
           {
            "marker": {
             "colorbar": {
              "outlinewidth": 0,
              "ticks": ""
             }
            },
            "type": "scatterpolar"
           }
          ],
          "scatterpolargl": [
           {
            "marker": {
             "colorbar": {
              "outlinewidth": 0,
              "ticks": ""
             }
            },
            "type": "scatterpolargl"
           }
          ],
          "scatterternary": [
           {
            "marker": {
             "colorbar": {
              "outlinewidth": 0,
              "ticks": ""
             }
            },
            "type": "scatterternary"
           }
          ],
          "surface": [
           {
            "colorbar": {
             "outlinewidth": 0,
             "ticks": ""
            },
            "colorscale": [
             [
              0,
              "#0d0887"
             ],
             [
              0.1111111111111111,
              "#46039f"
             ],
             [
              0.2222222222222222,
              "#7201a8"
             ],
             [
              0.3333333333333333,
              "#9c179e"
             ],
             [
              0.4444444444444444,
              "#bd3786"
             ],
             [
              0.5555555555555556,
              "#d8576b"
             ],
             [
              0.6666666666666666,
              "#ed7953"
             ],
             [
              0.7777777777777778,
              "#fb9f3a"
             ],
             [
              0.8888888888888888,
              "#fdca26"
             ],
             [
              1,
              "#f0f921"
             ]
            ],
            "type": "surface"
           }
          ],
          "table": [
           {
            "cells": {
             "fill": {
              "color": "#EBF0F8"
             },
             "line": {
              "color": "white"
             }
            },
            "header": {
             "fill": {
              "color": "#C8D4E3"
             },
             "line": {
              "color": "white"
             }
            },
            "type": "table"
           }
          ]
         },
         "layout": {
          "annotationdefaults": {
           "arrowcolor": "#2a3f5f",
           "arrowhead": 0,
           "arrowwidth": 1
          },
          "autotypenumbers": "strict",
          "coloraxis": {
           "colorbar": {
            "outlinewidth": 0,
            "ticks": ""
           }
          },
          "colorscale": {
           "diverging": [
            [
             0,
             "#8e0152"
            ],
            [
             0.1,
             "#c51b7d"
            ],
            [
             0.2,
             "#de77ae"
            ],
            [
             0.3,
             "#f1b6da"
            ],
            [
             0.4,
             "#fde0ef"
            ],
            [
             0.5,
             "#f7f7f7"
            ],
            [
             0.6,
             "#e6f5d0"
            ],
            [
             0.7,
             "#b8e186"
            ],
            [
             0.8,
             "#7fbc41"
            ],
            [
             0.9,
             "#4d9221"
            ],
            [
             1,
             "#276419"
            ]
           ],
           "sequential": [
            [
             0,
             "#0d0887"
            ],
            [
             0.1111111111111111,
             "#46039f"
            ],
            [
             0.2222222222222222,
             "#7201a8"
            ],
            [
             0.3333333333333333,
             "#9c179e"
            ],
            [
             0.4444444444444444,
             "#bd3786"
            ],
            [
             0.5555555555555556,
             "#d8576b"
            ],
            [
             0.6666666666666666,
             "#ed7953"
            ],
            [
             0.7777777777777778,
             "#fb9f3a"
            ],
            [
             0.8888888888888888,
             "#fdca26"
            ],
            [
             1,
             "#f0f921"
            ]
           ],
           "sequentialminus": [
            [
             0,
             "#0d0887"
            ],
            [
             0.1111111111111111,
             "#46039f"
            ],
            [
             0.2222222222222222,
             "#7201a8"
            ],
            [
             0.3333333333333333,
             "#9c179e"
            ],
            [
             0.4444444444444444,
             "#bd3786"
            ],
            [
             0.5555555555555556,
             "#d8576b"
            ],
            [
             0.6666666666666666,
             "#ed7953"
            ],
            [
             0.7777777777777778,
             "#fb9f3a"
            ],
            [
             0.8888888888888888,
             "#fdca26"
            ],
            [
             1,
             "#f0f921"
            ]
           ]
          },
          "colorway": [
           "#636efa",
           "#EF553B",
           "#00cc96",
           "#ab63fa",
           "#FFA15A",
           "#19d3f3",
           "#FF6692",
           "#B6E880",
           "#FF97FF",
           "#FECB52"
          ],
          "font": {
           "color": "#2a3f5f"
          },
          "geo": {
           "bgcolor": "white",
           "lakecolor": "white",
           "landcolor": "#E5ECF6",
           "showlakes": true,
           "showland": true,
           "subunitcolor": "white"
          },
          "hoverlabel": {
           "align": "left"
          },
          "hovermode": "closest",
          "mapbox": {
           "style": "light"
          },
          "paper_bgcolor": "white",
          "plot_bgcolor": "#E5ECF6",
          "polar": {
           "angularaxis": {
            "gridcolor": "white",
            "linecolor": "white",
            "ticks": ""
           },
           "bgcolor": "#E5ECF6",
           "radialaxis": {
            "gridcolor": "white",
            "linecolor": "white",
            "ticks": ""
           }
          },
          "scene": {
           "xaxis": {
            "backgroundcolor": "#E5ECF6",
            "gridcolor": "white",
            "gridwidth": 2,
            "linecolor": "white",
            "showbackground": true,
            "ticks": "",
            "zerolinecolor": "white"
           },
           "yaxis": {
            "backgroundcolor": "#E5ECF6",
            "gridcolor": "white",
            "gridwidth": 2,
            "linecolor": "white",
            "showbackground": true,
            "ticks": "",
            "zerolinecolor": "white"
           },
           "zaxis": {
            "backgroundcolor": "#E5ECF6",
            "gridcolor": "white",
            "gridwidth": 2,
            "linecolor": "white",
            "showbackground": true,
            "ticks": "",
            "zerolinecolor": "white"
           }
          },
          "shapedefaults": {
           "line": {
            "color": "#2a3f5f"
           }
          },
          "ternary": {
           "aaxis": {
            "gridcolor": "white",
            "linecolor": "white",
            "ticks": ""
           },
           "baxis": {
            "gridcolor": "white",
            "linecolor": "white",
            "ticks": ""
           },
           "bgcolor": "#E5ECF6",
           "caxis": {
            "gridcolor": "white",
            "linecolor": "white",
            "ticks": ""
           }
          },
          "title": {
           "x": 0.05
          },
          "xaxis": {
           "automargin": true,
           "gridcolor": "white",
           "linecolor": "white",
           "ticks": "",
           "title": {
            "standoff": 15
           },
           "zerolinecolor": "white",
           "zerolinewidth": 2
          },
          "yaxis": {
           "automargin": true,
           "gridcolor": "white",
           "linecolor": "white",
           "ticks": "",
           "title": {
            "standoff": 15
           },
           "zerolinecolor": "white",
           "zerolinewidth": 2
          }
         }
        },
        "title": {
         "text": "Unified"
        },
        "width": 1920
       }
      }
     },
     "metadata": {},
     "output_type": "display_data"
    }
   ],
   "source": [
    "def get_category_connections(edges: ps.sql.DataFrame, nodes: ps.sql.DataFrame):\n",
    "    categories = nodes.select(\"id\", \"category\")\n",
    "    edges = edges.join(categories.withColumnsRenamed({\"id\": \"subject\", \"category\": \"subj_category\"}), \"subject\", \"left\")\n",
    "    edges = edges.join(categories.withColumnsRenamed({\"id\": \"object\", \"category\": \"obj_category\"}), \"object\", \"left\")\n",
    "    # join the nodes dataframe on the subject column of the edges dataframe\n",
    "    return edges.select(\"subject\", \"predicate\", \"object\", \"subj_category\", \"obj_category\")\n",
    "\n",
    "\n",
    "def get_sankey_data_for_kg(edges: ps.sql.DataFrame, nodes: ps.sql.DataFrame) -> pd.DataFrame:\n",
    "    df = get_category_connections(edges, nodes)\n",
    "    # preparing sankey diagram data\n",
    "    df = (df\n",
    "          .withColumn(\"subj_category\", f.concat(f.lit(\"sub:\"), f.col(\"subj_category\")))\n",
    "          .withColumn(\"obj_category\", f.concat(f.lit(\"obj:\"), f.col(\"obj_category\")))\n",
    "    )\n",
    "    first_level = df.groupBy(\"subj_category\",\"predicate\").count().withColumnsRenamed({\"subj_category\": \"source\", \"predicate\": \"sink\", \"count\": \"value\"})\n",
    "    second_level = df.groupBy(\"predicate\", \"obj_category\").count().withColumnsRenamed({\"predicate\": \"source\", \"obj_category\": \"sink\", \"count\": \"value\"})\n",
    "    return first_level.union(second_level).orderBy(\"value\", ascending=False).toPandas()\n",
    "\n",
    "import plotly.graph_objects as go\n",
    "import pandas as pd\n",
    "import numpy as np\n",
    "\n",
    "def create_sankey_diagram(df, title):\n",
    "    # Prepare the data\n",
    "    all_nodes = pd.concat([df['source'], df['sink']]).unique()\n",
    "    node_indices = {node: index for index, node in enumerate(all_nodes)}\n",
    "\n",
    "    # Create color scale\n",
    "    n_colors = len(all_nodes)\n",
    "    colors = [f'rgb({r},{g},{b})' for r, g, b in np.random.randint(0, 255, size=(n_colors, 3))]\n",
    "\n",
    "    # Prepare the Sankey diagram data\n",
    "    link_source = [node_indices[source] for source in df['source']]\n",
    "    link_target = [node_indices[sink] for sink in df['sink']]\n",
    "    link_value = df['value']\n",
    "\n",
    "    # Create the figure\n",
    "    fig = go.Figure(data=[go.Sankey(\n",
    "        node = dict(\n",
    "          pad = 15,\n",
    "          thickness = 20,\n",
    "          line = dict(color = \"black\", width = 0.5),\n",
    "          label = list(all_nodes),\n",
    "          color = colors\n",
    "        ),\n",
    "        link = dict(\n",
    "          source = link_source,\n",
    "          target = link_target,\n",
    "          value = link_value\n",
    "    ))])\n",
    "\n",
    "    # Update the layout\n",
    "    fig.update_layout(title_text=title, font_size=10, width=1920, height=800)\n",
    "\n",
    "    return fig\n",
    "\n",
    "def plot_sankey_for_kg(edges: ps.sql.DataFrame, nodes: ps.sql.DataFrame, title: str, max_categories: int = 100):\n",
    "    sankey_data = get_sankey_data_for_kg(edges, nodes)\n",
    "    fig = create_sankey_diagram(sankey_data[:max_categories], title)\n",
    "    fig.show()\n",
    "\n",
    "plot_sankey_for_kg(edges_in_robo, nodes_in_robo, \"Robo\")\n",
    "# plot_sankey_for_kg(edges_in_rtx, nodes_in_rtx, \"RTX\")\n",
    "# plot_sankey_for_kg(edges_in_both, nodes_in_both, \"Both\")\n",
    "# plot_sankey_for_kg(unified_edges, unified_nodes, \"Unified\")"
   ]
  },
  {
   "cell_type": "code",
   "execution_count": 7,
   "metadata": {},
   "outputs": [
    {
     "name": "stdout",
     "output_type": "stream",
     "text": [
      "+-----------------+-----------+---------------------+-----------+--------------------------------------------------------------------------------------------------------------------------------------------------------------------------------------------------------------------------------------------------------------------------------------------------------------------------------------+--------------------------------------------------------------------------------------------------------------------------------------------------------------------------------------------------------------------------+------------+----------------------------------------------------------------------------------------------------------------------------------------------------------------------------------------------------------------------------+---------------------------------+--------------------+\n",
      "|id               |name       |category             |description|equivalent_identifiers                                                                                                                                                                                                                                                                                                                |all_categories                                                                                                                                                                                                            |publications|labels                                                                                                                                                                                                                      |international_resource_identifier|upstream_data_source|\n",
      "+-----------------+-----------+---------------------+-----------+--------------------------------------------------------------------------------------------------------------------------------------------------------------------------------------------------------------------------------------------------------------------------------------------------------------------------------------+--------------------------------------------------------------------------------------------------------------------------------------------------------------------------------------------------------------------------+------------+----------------------------------------------------------------------------------------------------------------------------------------------------------------------------------------------------------------------------+---------------------------------+--------------------+\n",
      "|CAID:CA023932    |rs45613041 |biolink:GenomicEntity|NULL       |[CLINVARVARIANT:133019, HGVS:NC_000019.9:g.39034051T>A, DBSNP:rs45613041, HGVS:CM000681.2:g.38543411T>A, HGVS:CM000681.1:g.39034051T>A, HGVS:NG_008866.1:g.114712T>A, CAID:CA023932, ROBO_VARIANT:HG38|19|38543410|38543411|T|A, HGVS:LRG_766:g.114712T>A, HGVS:NC_000019.8:g.43725891T>A, HGVS:NC_000019.10:g.38543411T>A]           |[biolink:Entity, biolink:ThingWithTaxon, biolink:BiologicalEntity, biolink:SequenceVariant, biolink:NamedThing, biolink:OntologyClass, biolink:PhysicalEssence, biolink:PhysicalEssenceOrOccurrent, biolink:GenomicEntity]|[NULL]      |[[biolink:Entity, biolink:ThingWithTaxon, biolink:BiologicalEntity, biolink:SequenceVariant, biolink:NamedThing, biolink:OntologyClass, biolink:PhysicalEssence, biolink:PhysicalEssenceOrOccurrent, biolink:GenomicEntity]]|NULL                             |[robokop]           |\n",
      "|CAID:CA1000036952|rs573552880|biolink:GenomicEntity|NULL       |[HGVS:NC_000001.10:g.29232341_29232347del, HGVS:NC_000001.9:g.29104928_29104934del, CAID:CA1000036952, DBSNP:rs573552880, HGVS:CM000663.2:g.28905829_28905835del, HGVS:CM000663.1:g.29232341_29232347del, HGVS:NG_013344.1:g.23739_23745del, HGVS:NC_000001.11:g.28905829_28905835del, ROBO_VARIANT:HG38|1|28905828|28905835|TTTTTTT|]|[biolink:Entity, biolink:ThingWithTaxon, biolink:BiologicalEntity, biolink:SequenceVariant, biolink:NamedThing, biolink:OntologyClass, biolink:PhysicalEssence, biolink:PhysicalEssenceOrOccurrent, biolink:GenomicEntity]|[NULL]      |[[biolink:Entity, biolink:ThingWithTaxon, biolink:BiologicalEntity, biolink:SequenceVariant, biolink:NamedThing, biolink:OntologyClass, biolink:PhysicalEssence, biolink:PhysicalEssenceOrOccurrent, biolink:GenomicEntity]]|NULL                             |[robokop]           |\n",
      "|CAID:CA100004521 |rs72862602 |biolink:GenomicEntity|NULL       |[HGVS:NC_000004.12:g.78967196T>G, HGVS:CM000666.1:g.79888350T>G, ROBO_VARIANT:HG38|4|78967195|78967196|T|G, DBSNP:rs72862602, HGVS:NC_000004.10:g.80107374T>G, HGVS:CM000666.2:g.78967196T>G, CAID:CA100004521, HGVS:NC_000004.11:g.79888350T>G]                                                                                      |[biolink:Entity, biolink:ThingWithTaxon, biolink:BiologicalEntity, biolink:SequenceVariant, biolink:NamedThing, biolink:OntologyClass, biolink:PhysicalEssence, biolink:PhysicalEssenceOrOccurrent, biolink:GenomicEntity]|[NULL]      |[[biolink:Entity, biolink:ThingWithTaxon, biolink:BiologicalEntity, biolink:SequenceVariant, biolink:NamedThing, biolink:OntologyClass, biolink:PhysicalEssence, biolink:PhysicalEssenceOrOccurrent, biolink:GenomicEntity]]|NULL                             |[robokop]           |\n",
      "|CAID:CA100007258 |rs13138361 |biolink:GenomicEntity|NULL       |[HGVS:CM000666.2:g.81029501A>G, HGVS:NC_000004.12:g.81029501A>G, ROBO_VARIANT:HG38|4|81029500|81029501|A|G, DBSNP:rs13138361, CAID:CA100007258, HGVS:NC_000004.10:g.82169679A>G, HGVS:CM000666.1:g.81950655A>G, HGVS:NC_000004.11:g.81950655A>G]                                                                                      |[biolink:Entity, biolink:ThingWithTaxon, biolink:BiologicalEntity, biolink:SequenceVariant, biolink:NamedThing, biolink:OntologyClass, biolink:PhysicalEssence, biolink:PhysicalEssenceOrOccurrent, biolink:GenomicEntity]|[NULL]      |[[biolink:Entity, biolink:ThingWithTaxon, biolink:BiologicalEntity, biolink:SequenceVariant, biolink:NamedThing, biolink:OntologyClass, biolink:PhysicalEssence, biolink:PhysicalEssenceOrOccurrent, biolink:GenomicEntity]]|NULL                             |[robokop]           |\n",
      "|CAID:CA100009968 |rs79958239 |biolink:GenomicEntity|NULL       |[CAID:CA100009968, HGVS:NC_000004.10:g.80114762G>A, HGVS:CM000666.2:g.78974584G>A, HGVS:CM000666.1:g.79895738G>A, HGVS:NC_000004.12:g.78974584G>A, DBSNP:rs79958239, ROBO_VARIANT:HG38|4|78974583|78974584|G|A, HGVS:NC_000004.11:g.79895738G>A]                                                                                      |[biolink:Entity, biolink:ThingWithTaxon, biolink:BiologicalEntity, biolink:SequenceVariant, biolink:NamedThing, biolink:OntologyClass, biolink:PhysicalEssence, biolink:PhysicalEssenceOrOccurrent, biolink:GenomicEntity]|[NULL]      |[[biolink:Entity, biolink:ThingWithTaxon, biolink:BiologicalEntity, biolink:SequenceVariant, biolink:NamedThing, biolink:OntologyClass, biolink:PhysicalEssence, biolink:PhysicalEssenceOrOccurrent, biolink:GenomicEntity]]|NULL                             |[robokop]           |\n",
      "|CAID:CA100010344 |rs2867496  |biolink:GenomicEntity|NULL       |[HGVS:NC_000004.10:g.80062721A>G, HGVS:CM000666.2:g.78922543A>G, HGVS:NC_000004.11:g.79843697A>G, CAID:CA100010344, HGVS:NC_000004.12:g.78922543A>G, HGVS:CM000666.1:g.79843697A>G, DBSNP:rs2867496, ROBO_VARIANT:HG38|4|78922542|78922543|A|G, HGVS:NG_053104.1:g.21896T>C]                                                          |[biolink:Entity, biolink:ThingWithTaxon, biolink:BiologicalEntity, biolink:SequenceVariant, biolink:NamedThing, biolink:OntologyClass, biolink:PhysicalEssence, biolink:PhysicalEssenceOrOccurrent, biolink:GenomicEntity]|[NULL]      |[[biolink:Entity, biolink:ThingWithTaxon, biolink:BiologicalEntity, biolink:SequenceVariant, biolink:NamedThing, biolink:OntologyClass, biolink:PhysicalEssence, biolink:PhysicalEssenceOrOccurrent, biolink:GenomicEntity]]|NULL                             |[robokop]           |\n",
      "|CAID:CA100014429 |rs34042179 |biolink:GenomicEntity|NULL       |[HGVS:CM000666.2:g.81037196G>C, HGVS:CM000666.1:g.81958350G>C, CAID:CA100014429, HGVS:NC_000004.12:g.81037196G>C, HGVS:NC_000004.10:g.82177374G>C, DBSNP:rs34042179, HGVS:NC_000004.11:g.81958350G>C, ROBO_VARIANT:HG38|4|81037195|81037196|G|C]                                                                                      |[biolink:Entity, biolink:ThingWithTaxon, biolink:BiologicalEntity, biolink:SequenceVariant, biolink:NamedThing, biolink:OntologyClass, biolink:PhysicalEssence, biolink:PhysicalEssenceOrOccurrent, biolink:GenomicEntity]|[NULL]      |[[biolink:Entity, biolink:ThingWithTaxon, biolink:BiologicalEntity, biolink:SequenceVariant, biolink:NamedThing, biolink:OntologyClass, biolink:PhysicalEssence, biolink:PhysicalEssenceOrOccurrent, biolink:GenomicEntity]]|NULL                             |[robokop]           |\n",
      "|CAID:CA10005548  |rs2834158  |biolink:GenomicEntity|NULL       |[HGVS:NC_000021.8:g.34617213T>C, CAID:CA10005548, HGVS:NC_000021.7:g.33539083T>C, DBSNP:rs2834158, HGVS:NG_016003.1:g.19983T>C, ROBO_VARIANT:HG38|21|33244907|33244908|T|C, HGVS:CM000683.2:g.33244908T>C, HGVS:CM000683.1:g.34617213T>C, HGVS:NC_000021.9:g.33244908T>C, HGVS:NG_016003.2:g.19983T>C, CLINVARVARIANT:1684582]        |[biolink:Entity, biolink:ThingWithTaxon, biolink:BiologicalEntity, biolink:SequenceVariant, biolink:NamedThing, biolink:OntologyClass, biolink:PhysicalEssence, biolink:PhysicalEssenceOrOccurrent, biolink:GenomicEntity]|[NULL]      |[[biolink:Entity, biolink:ThingWithTaxon, biolink:BiologicalEntity, biolink:SequenceVariant, biolink:NamedThing, biolink:OntologyClass, biolink:PhysicalEssence, biolink:PhysicalEssenceOrOccurrent, biolink:GenomicEntity]]|NULL                             |[robokop]           |\n",
      "|CAID:CA1000591930|rs200972810|biolink:GenomicEntity|NULL       |[HGVS:CM000663.1:g.36857591_36857607dup, HGVS:NC_000001.11:g.36391990_36392006dup, CAID:CA1000591930, HGVS:NC_000001.9:g.36630178_36630194dup, DBSNP:rs200972810, HGVS:NC_000001.10:g.36857591_36857607dup, ROBO_VARIANT:HG38|1|36392006|36392006||TTTTTTTTTTTTTTTTT, HGVS:CM000663.2:g.36391990_36392006dup]                         |[biolink:Entity, biolink:ThingWithTaxon, biolink:BiologicalEntity, biolink:SequenceVariant, biolink:NamedThing, biolink:OntologyClass, biolink:PhysicalEssence, biolink:PhysicalEssenceOrOccurrent, biolink:GenomicEntity]|[NULL]      |[[biolink:Entity, biolink:ThingWithTaxon, biolink:BiologicalEntity, biolink:SequenceVariant, biolink:NamedThing, biolink:OntologyClass, biolink:PhysicalEssence, biolink:PhysicalEssenceOrOccurrent, biolink:GenomicEntity]]|NULL                             |[robokop]           |\n",
      "|CAID:CA10011128  |rs75101644 |biolink:GenomicEntity|NULL       |[HGVS:NC_000021.9:g.33641201C>T, HGVS:CM000683.1:g.35013507C>T, HGVS:NC_000021.8:g.35013507C>T, HGVS:CM000683.2:g.33641201C>T, DBSNP:rs75101644, HGVS:NG_029504.1:g.3724C>T, HGVS:NC_000021.7:g.33935377C>T, ROBO_VARIANT:HG38|21|33641200|33641201|C|T, CAID:CA10011128]                                                             |[biolink:Entity, biolink:ThingWithTaxon, biolink:BiologicalEntity, biolink:SequenceVariant, biolink:NamedThing, biolink:OntologyClass, biolink:PhysicalEssence, biolink:PhysicalEssenceOrOccurrent, biolink:GenomicEntity]|[NULL]      |[[biolink:Entity, biolink:ThingWithTaxon, biolink:BiologicalEntity, biolink:SequenceVariant, biolink:NamedThing, biolink:OntologyClass, biolink:PhysicalEssence, biolink:PhysicalEssenceOrOccurrent, biolink:GenomicEntity]]|NULL                             |[robokop]           |\n",
      "|CAID:CA10012716  |rs62226670 |biolink:GenomicEntity|NULL       |[DBSNP:rs62226670, HGVS:NC_000021.7:g.34201474T>C, HGVS:CM000683.2:g.33907300T>C, HGVS:NC_000021.9:g.33907300T>C, ROBO_VARIANT:HG38|21|33907299|33907300|T|C, HGVS:CM000683.1:g.35279604T>C, CAID:CA10012716, HGVS:NC_000021.8:g.35279604T>C]                                                                                         |[biolink:Entity, biolink:ThingWithTaxon, biolink:BiologicalEntity, biolink:SequenceVariant, biolink:NamedThing, biolink:OntologyClass, biolink:PhysicalEssence, biolink:PhysicalEssenceOrOccurrent, biolink:GenomicEntity]|[NULL]      |[[biolink:Entity, biolink:ThingWithTaxon, biolink:BiologicalEntity, biolink:SequenceVariant, biolink:NamedThing, biolink:OntologyClass, biolink:PhysicalEssence, biolink:PhysicalEssenceOrOccurrent, biolink:GenomicEntity]]|NULL                             |[robokop]           |\n",
      "|CAID:CA100140816 |rs143358916|biolink:GenomicEntity|NULL       |[ROBO_VARIANT:HG38|4|75097994|75097998|GACT|, HGVS:NC_000004.12:g.75097995_75097998del, CAID:CA100140816, HGVS:CM000666.1:g.76023205_76023208del, DBSNP:rs143358916, HGVS:NC_000004.11:g.76023205_76023208del, HGVS:CM000666.2:g.75097995_75097998del, HGVS:NC_000004.10:g.76242229_76242232del]                                      |[biolink:Entity, biolink:ThingWithTaxon, biolink:BiologicalEntity, biolink:SequenceVariant, biolink:NamedThing, biolink:OntologyClass, biolink:PhysicalEssence, biolink:PhysicalEssenceOrOccurrent, biolink:GenomicEntity]|[NULL]      |[[biolink:Entity, biolink:ThingWithTaxon, biolink:BiologicalEntity, biolink:SequenceVariant, biolink:NamedThing, biolink:OntologyClass, biolink:PhysicalEssence, biolink:PhysicalEssenceOrOccurrent, biolink:GenomicEntity]]|NULL                             |[robokop]           |\n",
      "|CAID:CA100141214 |rs75345649 |biolink:GenomicEntity|NULL       |[HGVS:CM000666.2:g.75100963C>T, HGVS:NC_000004.10:g.76245197C>T, HGVS:NC_000004.12:g.75100963C>T, CAID:CA100141214, HGVS:NC_000004.11:g.76026173C>T, DBSNP:rs75345649, ROBO_VARIANT:HG38|4|75100962|75100963|C|T, HGVS:CM000666.1:g.76026173C>T]                                                                                      |[biolink:Entity, biolink:ThingWithTaxon, biolink:BiologicalEntity, biolink:SequenceVariant, biolink:NamedThing, biolink:OntologyClass, biolink:PhysicalEssence, biolink:PhysicalEssenceOrOccurrent, biolink:GenomicEntity]|[NULL]      |[[biolink:Entity, biolink:ThingWithTaxon, biolink:BiologicalEntity, biolink:SequenceVariant, biolink:NamedThing, biolink:OntologyClass, biolink:PhysicalEssence, biolink:PhysicalEssenceOrOccurrent, biolink:GenomicEntity]]|NULL                             |[robokop]           |\n",
      "|CAID:CA100165404 |rs13116654 |biolink:GenomicEntity|NULL       |[HGVS:NC_000004.11:g.76204763A>G, HGVS:NC_000004.10:g.76423787A>G, ROBO_VARIANT:HG38|4|75279552|75279553|A|G, DBSNP:rs13116654, HGVS:CM000666.2:g.75279553A>G, CAID:CA100165404, HGVS:NC_000004.12:g.75279553A>G, HGVS:CM000666.1:g.76204763A>G]                                                                                      |[biolink:Entity, biolink:ThingWithTaxon, biolink:BiologicalEntity, biolink:SequenceVariant, biolink:NamedThing, biolink:OntologyClass, biolink:PhysicalEssence, biolink:PhysicalEssenceOrOccurrent, biolink:GenomicEntity]|[NULL]      |[[biolink:Entity, biolink:ThingWithTaxon, biolink:BiologicalEntity, biolink:SequenceVariant, biolink:NamedThing, biolink:OntologyClass, biolink:PhysicalEssence, biolink:PhysicalEssenceOrOccurrent, biolink:GenomicEntity]]|NULL                             |[robokop]           |\n",
      "|CAID:CA100180200 |rs139656510|biolink:GenomicEntity|NULL       |[HGVS:NC_000004.10:g.76512696T>C, ROBO_VARIANT:HG38|4|75368461|75368462|T|C, HGVS:NC_000004.11:g.76293672T>C, DBSNP:rs139656510, HGVS:CM000666.1:g.76293672T>C, HGVS:CM000666.2:g.75368462T>C, HGVS:NC_000004.12:g.75368462T>C, CAID:CA100180200]                                                                                     |[biolink:Entity, biolink:ThingWithTaxon, biolink:BiologicalEntity, biolink:SequenceVariant, biolink:NamedThing, biolink:OntologyClass, biolink:PhysicalEssence, biolink:PhysicalEssenceOrOccurrent, biolink:GenomicEntity]|[NULL]      |[[biolink:Entity, biolink:ThingWithTaxon, biolink:BiologicalEntity, biolink:SequenceVariant, biolink:NamedThing, biolink:OntologyClass, biolink:PhysicalEssence, biolink:PhysicalEssenceOrOccurrent, biolink:GenomicEntity]]|NULL                             |[robokop]           |\n",
      "|CAID:CA100185900 |rs12321221 |biolink:GenomicEntity|NULL       |[HGVS:CM000666.2:g.75403130A>G, ROBO_VARIANT:HG38|4|75403129|75403130|A|G, HGVS:NC_000004.12:g.75403130A>G, DBSNP:rs12321221, HGVS:NC_000004.11:g.76328340A>G, CAID:CA100185900, HGVS:NC_000004.10:g.76547364A>G, HGVS:CM000666.1:g.76328340A>G]                                                                                      |[biolink:Entity, biolink:ThingWithTaxon, biolink:BiologicalEntity, biolink:SequenceVariant, biolink:NamedThing, biolink:OntologyClass, biolink:PhysicalEssence, biolink:PhysicalEssenceOrOccurrent, biolink:GenomicEntity]|[NULL]      |[[biolink:Entity, biolink:ThingWithTaxon, biolink:BiologicalEntity, biolink:SequenceVariant, biolink:NamedThing, biolink:OntologyClass, biolink:PhysicalEssence, biolink:PhysicalEssenceOrOccurrent, biolink:GenomicEntity]]|NULL                             |[robokop]           |\n",
      "|CAID:CA100193526 |rs7685876  |biolink:GenomicEntity|NULL       |[HGVS:NC_000004.12:g.76375973G>A, HGVS:NC_000004.10:g.77516150G>A, HGVS:CM000666.2:g.76375973G>A, HGVS:CM000666.1:g.77297126G>A, DBSNP:rs7685876, CAID:CA100193526, ROBO_VARIANT:HG38|4|76375972|76375973|G|A, HGVS:NC_000004.11:g.77297126G>A]                                                                                       |[biolink:Entity, biolink:ThingWithTaxon, biolink:BiologicalEntity, biolink:SequenceVariant, biolink:NamedThing, biolink:OntologyClass, biolink:PhysicalEssence, biolink:PhysicalEssenceOrOccurrent, biolink:GenomicEntity]|[NULL]      |[[biolink:Entity, biolink:ThingWithTaxon, biolink:BiologicalEntity, biolink:SequenceVariant, biolink:NamedThing, biolink:OntologyClass, biolink:PhysicalEssence, biolink:PhysicalEssenceOrOccurrent, biolink:GenomicEntity]]|NULL                             |[robokop]           |\n",
      "|CAID:CA100194745 |rs10032972 |biolink:GenomicEntity|NULL       |[CAID:CA100194745, HGVS:NC_000004.10:g.77527279A>G, HGVS:NC_000004.12:g.76387102A>G, HGVS:CM000666.2:g.76387102A>G, HGVS:CM000666.1:g.77308255A>G, HGVS:NC_000004.11:g.77308255A>G, ROBO_VARIANT:HG38|4|76387101|76387102|A|G, DBSNP:rs10032972]                                                                                      |[biolink:Entity, biolink:ThingWithTaxon, biolink:BiologicalEntity, biolink:SequenceVariant, biolink:NamedThing, biolink:OntologyClass, biolink:PhysicalEssence, biolink:PhysicalEssenceOrOccurrent, biolink:GenomicEntity]|[NULL]      |[[biolink:Entity, biolink:ThingWithTaxon, biolink:BiologicalEntity, biolink:SequenceVariant, biolink:NamedThing, biolink:OntologyClass, biolink:PhysicalEssence, biolink:PhysicalEssenceOrOccurrent, biolink:GenomicEntity]]|NULL                             |[robokop]           |\n",
      "|CAID:CA100194925 |rs10027261 |biolink:GenomicEntity|NULL       |[ROBO_VARIANT:HG38|4|76388414|76388415|C|G, CAID:CA100194925, HGVS:NC_000004.10:g.77528592C>G, DBSNP:rs10027261, HGVS:NC_000004.11:g.77309568C>G, HGVS:CM000666.1:g.77309568C>G, HGVS:NC_000004.12:g.76388415C>G, HGVS:CM000666.2:g.76388415C>G]                                                                                      |[biolink:Entity, biolink:ThingWithTaxon, biolink:BiologicalEntity, biolink:SequenceVariant, biolink:NamedThing, biolink:OntologyClass, biolink:PhysicalEssence, biolink:PhysicalEssenceOrOccurrent, biolink:GenomicEntity]|[NULL]      |[[biolink:Entity, biolink:ThingWithTaxon, biolink:BiologicalEntity, biolink:SequenceVariant, biolink:NamedThing, biolink:OntologyClass, biolink:PhysicalEssence, biolink:PhysicalEssenceOrOccurrent, biolink:GenomicEntity]]|NULL                             |[robokop]           |\n",
      "|CAID:CA10019587  |rs116988298|biolink:GenomicEntity|NULL       |[ROBO_VARIANT:HG38|21|36709179|36709180|C|T, HGVS:NC_000021.9:g.36709180C>T, HGVS:CM000683.2:g.36709180C>T, DBSNP:rs116988298, HGVS:CM000683.1:g.38081480C>T, HGVS:NG_029519.1:g.14490C>T, CAID:CA10019587, HGVS:NC_000021.8:g.38081480C>T, HGVS:NC_000021.7:g.37003350C>T]                                                           |[biolink:Entity, biolink:ThingWithTaxon, biolink:BiologicalEntity, biolink:SequenceVariant, biolink:NamedThing, biolink:OntologyClass, biolink:PhysicalEssence, biolink:PhysicalEssenceOrOccurrent, biolink:GenomicEntity]|[NULL]      |[[biolink:Entity, biolink:ThingWithTaxon, biolink:BiologicalEntity, biolink:SequenceVariant, biolink:NamedThing, biolink:OntologyClass, biolink:PhysicalEssence, biolink:PhysicalEssenceOrOccurrent, biolink:GenomicEntity]]|NULL                             |[robokop]           |\n",
      "|CAID:CA100200278 |rs189707263|biolink:GenomicEntity|NULL       |[CLINVARVARIANT:1280311, HGVS:NC_000004.10:g.77576522G>T, CAID:CA100200278, ROBO_VARIANT:HG38|4|76436344|76436345|G|T, HGVS:CM000666.1:g.77357498G>T, HGVS:NC_000004.11:g.77357498G>T, HGVS:NG_028077.1:g.6246G>T, DBSNP:rs189707263, HGVS:CM000666.2:g.76436345G>T, HGVS:NC_000004.12:g.76436345G>T]                                 |[biolink:Entity, biolink:ThingWithTaxon, biolink:BiologicalEntity, biolink:SequenceVariant, biolink:NamedThing, biolink:OntologyClass, biolink:PhysicalEssence, biolink:PhysicalEssenceOrOccurrent, biolink:GenomicEntity]|[NULL]      |[[biolink:Entity, biolink:ThingWithTaxon, biolink:BiologicalEntity, biolink:SequenceVariant, biolink:NamedThing, biolink:OntologyClass, biolink:PhysicalEssence, biolink:PhysicalEssenceOrOccurrent, biolink:GenomicEntity]]|NULL                             |[robokop]           |\n",
      "|CAID:CA100214556 |rs78986576 |biolink:GenomicEntity|NULL       |[HGVS:CM000666.2:g.76570445C>T, HGVS:NC_000004.11:g.77491598C>T, HGVS:NC_000004.12:g.76570445C>T, ROBO_VARIANT:HG38|4|76570444|76570445|C|T, CAID:CA100214556, HGVS:CM000666.1:g.77491598C>T, HGVS:NC_000004.10:g.77710622C>T, DBSNP:rs78986576, HGVS:NG_028077.1:g.140346C>T]                                                        |[biolink:Entity, biolink:ThingWithTaxon, biolink:BiologicalEntity, biolink:SequenceVariant, biolink:NamedThing, biolink:OntologyClass, biolink:PhysicalEssence, biolink:PhysicalEssenceOrOccurrent, biolink:GenomicEntity]|[NULL]      |[[biolink:Entity, biolink:ThingWithTaxon, biolink:BiologicalEntity, biolink:SequenceVariant, biolink:NamedThing, biolink:OntologyClass, biolink:PhysicalEssence, biolink:PhysicalEssenceOrOccurrent, biolink:GenomicEntity]]|NULL                             |[robokop]           |\n",
      "|CAID:CA100228861 |rs138413196|biolink:GenomicEntity|NULL       |[DBSNP:rs138413196, HGVS:CM000666.1:g.77892632del, HGVS:NC_000004.11:g.77892632del, HGVS:NC_000004.12:g.76971479del, HGVS:CM000666.2:g.76971479del, ROBO_VARIANT:HG38|4|76971478|76971479|A|, HGVS:NC_000004.10:g.78111656del, CAID:CA100228861]                                                                                      |[biolink:Entity, biolink:ThingWithTaxon, biolink:BiologicalEntity, biolink:SequenceVariant, biolink:NamedThing, biolink:OntologyClass, biolink:PhysicalEssence, biolink:PhysicalEssenceOrOccurrent, biolink:GenomicEntity]|[NULL]      |[[biolink:Entity, biolink:ThingWithTaxon, biolink:BiologicalEntity, biolink:SequenceVariant, biolink:NamedThing, biolink:OntologyClass, biolink:PhysicalEssence, biolink:PhysicalEssenceOrOccurrent, biolink:GenomicEntity]]|NULL                             |[robokop]           |\n",
      "|CAID:CA100324558 |rs58385964 |biolink:GenomicEntity|NULL       |[HGVS:CM000666.1:g.78812440_78812442del, HGVS:NC_000004.10:g.79031464_79031466del, CAID:CA100324558, HGVS:NC_000004.12:g.77891286_77891288del, ROBO_VARIANT:HG38|4|77891285|77891288|CTT|, HGVS:CM000666.2:g.77891286_77891288del, HGVS:NC_000004.11:g.78812440_78812442del, DBSNP:rs58385964]                                        |[biolink:Entity, biolink:ThingWithTaxon, biolink:BiologicalEntity, biolink:SequenceVariant, biolink:NamedThing, biolink:OntologyClass, biolink:PhysicalEssence, biolink:PhysicalEssenceOrOccurrent, biolink:GenomicEntity]|[NULL]      |[[biolink:Entity, biolink:ThingWithTaxon, biolink:BiologicalEntity, biolink:SequenceVariant, biolink:NamedThing, biolink:OntologyClass, biolink:PhysicalEssence, biolink:PhysicalEssenceOrOccurrent, biolink:GenomicEntity]]|NULL                             |[robokop]           |\n",
      "|CAID:CA100428437 |rs192876988|biolink:GenomicEntity|NULL       |[HGVS:NC_000004.11:g.80297251T>C, HGVS:NC_000004.10:g.80516275T>C, ROBO_VARIANT:HG38|4|79376096|79376097|T|C, CAID:CA100428437, HGVS:CM000666.1:g.80297251T>C, DBSNP:rs192876988, HGVS:CM000666.2:g.79376097T>C, HGVS:NC_000004.12:g.79376097T>C]                                                                                     |[biolink:Entity, biolink:ThingWithTaxon, biolink:BiologicalEntity, biolink:SequenceVariant, biolink:NamedThing, biolink:OntologyClass, biolink:PhysicalEssence, biolink:PhysicalEssenceOrOccurrent, biolink:GenomicEntity]|[NULL]      |[[biolink:Entity, biolink:ThingWithTaxon, biolink:BiologicalEntity, biolink:SequenceVariant, biolink:NamedThing, biolink:OntologyClass, biolink:PhysicalEssence, biolink:PhysicalEssenceOrOccurrent, biolink:GenomicEntity]]|NULL                             |[robokop]           |\n",
      "|CAID:CA100451946 |rs11933119 |biolink:GenomicEntity|NULL       |[HGVS:NC_000004.12:g.79580177G>A, HGVS:NC_000004.11:g.80501331G>A, CAID:CA100451946, HGVS:CM000666.1:g.80501331G>A, HGVS:NC_000004.10:g.80720355G>A, DBSNP:rs11933119, HGVS:CM000666.2:g.79580177G>A, ROBO_VARIANT:HG38|4|79580176|79580177|G|A]                                                                                      |[biolink:Entity, biolink:ThingWithTaxon, biolink:BiologicalEntity, biolink:SequenceVariant, biolink:NamedThing, biolink:OntologyClass, biolink:PhysicalEssence, biolink:PhysicalEssenceOrOccurrent, biolink:GenomicEntity]|[NULL]      |[[biolink:Entity, biolink:ThingWithTaxon, biolink:BiologicalEntity, biolink:SequenceVariant, biolink:NamedThing, biolink:OntologyClass, biolink:PhysicalEssence, biolink:PhysicalEssenceOrOccurrent, biolink:GenomicEntity]]|NULL                             |[robokop]           |\n",
      "|CAID:CA10046033  |rs7278765  |biolink:GenomicEntity|NULL       |[CAID:CA10046033, HGVS:CM000683.1:g.44279848A>G, HGVS:NC_000021.7:g.43152917A>G, HGVS:CM000683.2:g.42859738A>G, DBSNP:rs7278765, CLINVARVARIANT:1227334, ROBO_VARIANT:HG38|21|42859737|42859738|A|G, HGVS:NC_000021.9:g.42859738A>G, HGVS:NC_000021.8:g.44279848A>G]                                                                  |[biolink:Entity, biolink:ThingWithTaxon, biolink:BiologicalEntity, biolink:SequenceVariant, biolink:NamedThing, biolink:OntologyClass, biolink:PhysicalEssence, biolink:PhysicalEssenceOrOccurrent, biolink:GenomicEntity]|[NULL]      |[[biolink:Entity, biolink:ThingWithTaxon, biolink:BiologicalEntity, biolink:SequenceVariant, biolink:NamedThing, biolink:OntologyClass, biolink:PhysicalEssence, biolink:PhysicalEssenceOrOccurrent, biolink:GenomicEntity]]|NULL                             |[robokop]           |\n",
      "|CAID:CA10046497  |rs4148973  |biolink:GenomicEntity|NULL       |[DBSNP:rs4148973, ROBO_VARIANT:HG38|21|42903479|42903480|T|G, CAID:CA10046497, CLINVARVARIANT:1290051, HGVS:NC_000021.9:g.42903480T>G, HGVS:CM000683.1:g.44323590T>G, HGVS:NC_000021.7:g.43196659T>G, HGVS:NC_000021.8:g.44323590T>G, HGVS:NG_042281.1:g.15213T>G, HGVS:CM000683.2:g.42903480T>G]                                     |[biolink:Entity, biolink:ThingWithTaxon, biolink:BiologicalEntity, biolink:SequenceVariant, biolink:NamedThing, biolink:OntologyClass, biolink:PhysicalEssence, biolink:PhysicalEssenceOrOccurrent, biolink:GenomicEntity]|[NULL]      |[[biolink:Entity, biolink:ThingWithTaxon, biolink:BiologicalEntity, biolink:SequenceVariant, biolink:NamedThing, biolink:OntologyClass, biolink:PhysicalEssence, biolink:PhysicalEssenceOrOccurrent, biolink:GenomicEntity]]|NULL                             |[robokop]           |\n",
      "|CAID:CA100471775 |rs4320160  |biolink:GenomicEntity|NULL       |[DBSNP:rs4320160, HGVS:NC_000004.12:g.79760700G>A, CAID:CA100471775, HGVS:CM000666.1:g.80681854G>A, ROBO_VARIANT:HG38|4|79760699|79760700|G|A, HGVS:CM000666.2:g.79760700G>A, HGVS:NC_000004.11:g.80681854G>A, HGVS:NC_000004.10:g.80900878G>A]                                                                                       |[biolink:Entity, biolink:ThingWithTaxon, biolink:BiologicalEntity, biolink:SequenceVariant, biolink:NamedThing, biolink:OntologyClass, biolink:PhysicalEssence, biolink:PhysicalEssenceOrOccurrent, biolink:GenomicEntity]|[NULL]      |[[biolink:Entity, biolink:ThingWithTaxon, biolink:BiologicalEntity, biolink:SequenceVariant, biolink:NamedThing, biolink:OntologyClass, biolink:PhysicalEssence, biolink:PhysicalEssenceOrOccurrent, biolink:GenomicEntity]]|NULL                             |[robokop]           |\n",
      "|CAID:CA100500896 |rs62298640 |biolink:GenomicEntity|NULL       |[HGVS:NC_000004.10:g.81175603C>A, HGVS:NG_015987.1:g.42899G>T, HGVS:CM000666.1:g.80956579C>A, DBSNP:rs62298640, ROBO_VARIANT:HG38|4|80035424|80035425|C|A, HGVS:CM000666.2:g.80035425C>A, HGVS:NC_000004.12:g.80035425C>A, CAID:CA100500896, HGVS:NC_000004.11:g.80956579C>A]                                                         |[biolink:Entity, biolink:ThingWithTaxon, biolink:BiologicalEntity, biolink:SequenceVariant, biolink:NamedThing, biolink:OntologyClass, biolink:PhysicalEssence, biolink:PhysicalEssenceOrOccurrent, biolink:GenomicEntity]|[NULL]      |[[biolink:Entity, biolink:ThingWithTaxon, biolink:BiologicalEntity, biolink:SequenceVariant, biolink:NamedThing, biolink:OntologyClass, biolink:PhysicalEssence, biolink:PhysicalEssenceOrOccurrent, biolink:GenomicEntity]]|NULL                             |[robokop]           |\n",
      "|CAID:CA100559892 |rs572350859|biolink:GenomicEntity|NULL       |[HGVS:CM000666.1:g.81610253C>A, ROBO_VARIANT:HG38|4|80689098|80689099|C|A, HGVS:CM000666.2:g.80689099C>A, CAID:CA100559892, HGVS:NC_000004.10:g.81829277C>A, DBSNP:rs572350859, HGVS:NC_000004.12:g.80689099C>A, HGVS:NC_000004.11:g.81610253C>A]                                                                                     |[biolink:Entity, biolink:ThingWithTaxon, biolink:BiologicalEntity, biolink:SequenceVariant, biolink:NamedThing, biolink:OntologyClass, biolink:PhysicalEssence, biolink:PhysicalEssenceOrOccurrent, biolink:GenomicEntity]|[NULL]      |[[biolink:Entity, biolink:ThingWithTaxon, biolink:BiologicalEntity, biolink:SequenceVariant, biolink:NamedThing, biolink:OntologyClass, biolink:PhysicalEssence, biolink:PhysicalEssenceOrOccurrent, biolink:GenomicEntity]]|NULL                             |[robokop]           |\n",
      "|CAID:CA10059720  |rs116074123|biolink:GenomicEntity|NULL       |[DBSNP:rs116074123, HGVS:NC_000021.8:g.46021546C>G, ROBO_VARIANT:HG38|21|44601630|44601631|C|G, CAID:CA10059720, HGVS:NC_000021.9:g.44601631C>G, HGVS:NG_033806.1:g.114948G>C, HGVS:NC_000021.7:g.44845974C>G, HGVS:CM000683.2:g.44601631C>G, HGVS:CM000683.1:g.46021546C>G]                                                          |[biolink:Entity, biolink:ThingWithTaxon, biolink:BiologicalEntity, biolink:SequenceVariant, biolink:NamedThing, biolink:OntologyClass, biolink:PhysicalEssence, biolink:PhysicalEssenceOrOccurrent, biolink:GenomicEntity]|[NULL]      |[[biolink:Entity, biolink:ThingWithTaxon, biolink:BiologicalEntity, biolink:SequenceVariant, biolink:NamedThing, biolink:OntologyClass, biolink:PhysicalEssence, biolink:PhysicalEssenceOrOccurrent, biolink:GenomicEntity]]|NULL                             |[robokop]           |\n",
      "|CAID:CA100604138 |rs4693524  |biolink:GenomicEntity|NULL       |[HGVS:NG_029569.2:g.37154A>G, HGVS:NG_029569.3:g.37154A>G, HGVS:NC_000004.12:g.82868418T>C, HGVS:NC_000004.10:g.84008595T>C, HGVS:NG_029569.1:g.27849A>G, HGVS:NC_000004.11:g.83789571T>C, CAID:CA100604138, DBSNP:rs4693524, ROBO_VARIANT:HG38|4|82868417|82868418|T|C, HGVS:CM000666.2:g.82868418T>C, HGVS:CM000666.1:g.83789571T>C]|[biolink:Entity, biolink:ThingWithTaxon, biolink:BiologicalEntity, biolink:SequenceVariant, biolink:NamedThing, biolink:OntologyClass, biolink:PhysicalEssence, biolink:PhysicalEssenceOrOccurrent, biolink:GenomicEntity]|[NULL]      |[[biolink:Entity, biolink:ThingWithTaxon, biolink:BiologicalEntity, biolink:SequenceVariant, biolink:NamedThing, biolink:OntologyClass, biolink:PhysicalEssence, biolink:PhysicalEssenceOrOccurrent, biolink:GenomicEntity]]|NULL                             |[robokop]           |\n",
      "|CAID:CA100645332 |rs11312804 |biolink:GenomicEntity|NULL       |[HGVS:NC_000004.12:g.82852594del, HGVS:NG_029569.1:g.43680del, HGVS:NC_000004.10:g.83992771del, HGVS:NC_000004.11:g.83773747del, DBSNP:rs11312804, HGVS:CM000666.1:g.83773747del, ROBO_VARIANT:HG38|4|82852593|82852594|T|, HGVS:NG_029569.3:g.52985del, HGVS:CM000666.2:g.82852594del, HGVS:NG_029569.2:g.52985del, CAID:CA100645332]|[biolink:Entity, biolink:ThingWithTaxon, biolink:BiologicalEntity, biolink:SequenceVariant, biolink:NamedThing, biolink:OntologyClass, biolink:PhysicalEssence, biolink:PhysicalEssenceOrOccurrent, biolink:GenomicEntity]|[NULL]      |[[biolink:Entity, biolink:ThingWithTaxon, biolink:BiologicalEntity, biolink:SequenceVariant, biolink:NamedThing, biolink:OntologyClass, biolink:PhysicalEssence, biolink:PhysicalEssenceOrOccurrent, biolink:GenomicEntity]]|NULL                             |[robokop]           |\n",
      "|CAID:CA100685570 |rs138684442|biolink:GenomicEntity|NULL       |[HGVS:NC_000004.10:g.84671818G>A, ROBO_VARIANT:HG38|4|83531640|83531641|G|A, DBSNP:rs138684442, HGVS:CM000666.1:g.84452794G>A, HGVS:NC_000004.12:g.83531641G>A, CAID:CA100685570, HGVS:CM000666.2:g.83531641G>A, HGVS:NC_000004.11:g.84452794G>A]                                                                                     |[biolink:Entity, biolink:ThingWithTaxon, biolink:BiologicalEntity, biolink:SequenceVariant, biolink:NamedThing, biolink:OntologyClass, biolink:PhysicalEssence, biolink:PhysicalEssenceOrOccurrent, biolink:GenomicEntity]|[NULL]      |[[biolink:Entity, biolink:ThingWithTaxon, biolink:BiologicalEntity, biolink:SequenceVariant, biolink:NamedThing, biolink:OntologyClass, biolink:PhysicalEssence, biolink:PhysicalEssenceOrOccurrent, biolink:GenomicEntity]]|NULL                             |[robokop]           |\n",
      "|CAID:CA100699549 |rs80290794 |biolink:GenomicEntity|NULL       |[CAID:CA100699549, HGVS:NG_051599.1:g.4363C>G, HGVS:NC_000004.10:g.84625993G>C, DBSNP:rs2108708839, HGVS:CM000666.1:g.84406969G>C, HGVS:NC_000004.11:g.84406969G>C, DBSNP:rs80290794, ROBO_VARIANT:HG38|4|83485815|83485816|G|C, HGVS:CM000666.2:g.83485816G>C, HGVS:NC_000004.12:g.83485816G>C]                                      |[biolink:Entity, biolink:ThingWithTaxon, biolink:BiologicalEntity, biolink:SequenceVariant, biolink:NamedThing, biolink:OntologyClass, biolink:PhysicalEssence, biolink:PhysicalEssenceOrOccurrent, biolink:GenomicEntity]|[NULL]      |[[biolink:Entity, biolink:ThingWithTaxon, biolink:BiologicalEntity, biolink:SequenceVariant, biolink:NamedThing, biolink:OntologyClass, biolink:PhysicalEssence, biolink:PhysicalEssenceOrOccurrent, biolink:GenomicEntity]]|NULL                             |[robokop]           |\n",
      "|CAID:CA100716512 |rs55806035 |biolink:GenomicEntity|NULL       |[HGVS:NC_000004.10:g.84650170C>T, CAID:CA100716512, HGVS:NC_000004.11:g.84431146C>T, HGVS:CM000666.2:g.83509993C>T, HGVS:NC_000004.12:g.83509993C>T, DBSNP:rs55806035, ROBO_VARIANT:HG38|4|83509992|83509993|C|T, HGVS:CM000666.1:g.84431146C>T]                                                                                      |[biolink:Entity, biolink:ThingWithTaxon, biolink:BiologicalEntity, biolink:SequenceVariant, biolink:NamedThing, biolink:OntologyClass, biolink:PhysicalEssence, biolink:PhysicalEssenceOrOccurrent, biolink:GenomicEntity]|[NULL]      |[[biolink:Entity, biolink:ThingWithTaxon, biolink:BiologicalEntity, biolink:SequenceVariant, biolink:NamedThing, biolink:OntologyClass, biolink:PhysicalEssence, biolink:PhysicalEssenceOrOccurrent, biolink:GenomicEntity]]|NULL                             |[robokop]           |\n",
      "|CAID:CA100736184 |rs7686475  |biolink:GenomicEntity|NULL       |[HGVS:NG_051627.1:g.519412G>C, HGVS:CM000666.1:g.86910695G>C, ROBO_VARIANT:HG38|4|85989541|85989542|G|C, CAID:CA100736184, HGVS:NC_000004.10:g.87129719G>C, HGVS:NC_000004.12:g.85989542G>C, DBSNP:rs7686475, HGVS:CM000666.2:g.85989542G>C, HGVS:NC_000004.11:g.86910695G>C]                                                         |[biolink:Entity, biolink:ThingWithTaxon, biolink:BiologicalEntity, biolink:SequenceVariant, biolink:NamedThing, biolink:OntologyClass, biolink:PhysicalEssence, biolink:PhysicalEssenceOrOccurrent, biolink:GenomicEntity]|[NULL]      |[[biolink:Entity, biolink:ThingWithTaxon, biolink:BiologicalEntity, biolink:SequenceVariant, biolink:NamedThing, biolink:OntologyClass, biolink:PhysicalEssence, biolink:PhysicalEssenceOrOccurrent, biolink:GenomicEntity]]|NULL                             |[robokop]           |\n",
      "|CAID:CA100754202 |rs1107581  |biolink:GenomicEntity|NULL       |[CAID:CA100754202, DBSNP:rs1107581, ROBO_VARIANT:HG38|4|81911495|81911496|G|A, HGVS:CM000666.2:g.81911496G>A, HGVS:CM000666.1:g.82832649G>A, HGVS:NC_000004.10:g.83051673G>A, HGVS:NC_000004.12:g.81911496G>A, HGVS:NC_000004.11:g.82832649G>A]                                                                                       |[biolink:Entity, biolink:ThingWithTaxon, biolink:BiologicalEntity, biolink:SequenceVariant, biolink:NamedThing, biolink:OntologyClass, biolink:PhysicalEssence, biolink:PhysicalEssenceOrOccurrent, biolink:GenomicEntity]|[NULL]      |[[biolink:Entity, biolink:ThingWithTaxon, biolink:BiologicalEntity, biolink:SequenceVariant, biolink:NamedThing, biolink:OntologyClass, biolink:PhysicalEssence, biolink:PhysicalEssenceOrOccurrent, biolink:GenomicEntity]]|NULL                             |[robokop]           |\n",
      "|CAID:CA1007633324|rs587680930|biolink:GenomicEntity|NULL       |[ROBO_VARIANT:HG38|1|150587227|150587227||TTTTT, DBSNP:rs587680930, HGVS:NC_000001.11:g.150587223_150587227dup, HGVS:CM000663.2:g.150587223_150587227dup, HGVS:NC_000001.9:g.148826323_148826327dup, HGVS:NC_000001.10:g.150559699_150559703dup, CAID:CA1007633324, HGVS:CM000663.1:g.150559699_150559703dup]                         |[biolink:Entity, biolink:ThingWithTaxon, biolink:BiologicalEntity, biolink:SequenceVariant, biolink:NamedThing, biolink:OntologyClass, biolink:PhysicalEssence, biolink:PhysicalEssenceOrOccurrent, biolink:GenomicEntity]|[NULL]      |[[biolink:Entity, biolink:ThingWithTaxon, biolink:BiologicalEntity, biolink:SequenceVariant, biolink:NamedThing, biolink:OntologyClass, biolink:PhysicalEssence, biolink:PhysicalEssenceOrOccurrent, biolink:GenomicEntity]]|NULL                             |[robokop]           |\n",
      "|CAID:CA100788420 |rs74505316 |biolink:GenomicEntity|NULL       |[HGVS:CM000666.1:g.88082944dup, HGVS:NC_000004.12:g.87161792dup, ROBO_VARIANT:HG38|4|87161792|87161792||A, HGVS:NC_000004.11:g.88082944dup, HGVS:CM000666.2:g.87161792dup, HGVS:NC_000004.10:g.88301968dup, CAID:CA100788420, DBSNP:rs74505316]                                                                                       |[biolink:Entity, biolink:ThingWithTaxon, biolink:BiologicalEntity, biolink:SequenceVariant, biolink:NamedThing, biolink:OntologyClass, biolink:PhysicalEssence, biolink:PhysicalEssenceOrOccurrent, biolink:GenomicEntity]|[NULL]      |[[biolink:Entity, biolink:ThingWithTaxon, biolink:BiologicalEntity, biolink:SequenceVariant, biolink:NamedThing, biolink:OntologyClass, biolink:PhysicalEssence, biolink:PhysicalEssenceOrOccurrent, biolink:GenomicEntity]]|NULL                             |[robokop]           |\n",
      "|CAID:CA100802641 |rs74486610 |biolink:GenomicEntity|NULL       |[HGVS:CM000666.1:g.88309762G>C, CAID:CA100802641, HGVS:NC_000004.10:g.88528786G>C, HGVS:NC_000004.11:g.88309762G>C, HGVS:CM000666.2:g.87388610G>C, ROBO_VARIANT:HG38|4|87388609|87388610|G|C, HGVS:NC_000004.12:g.87388610G>C, DBSNP:rs74486610]                                                                                      |[biolink:Entity, biolink:ThingWithTaxon, biolink:BiologicalEntity, biolink:SequenceVariant, biolink:NamedThing, biolink:OntologyClass, biolink:PhysicalEssence, biolink:PhysicalEssenceOrOccurrent, biolink:GenomicEntity]|[NULL]      |[[biolink:Entity, biolink:ThingWithTaxon, biolink:BiologicalEntity, biolink:SequenceVariant, biolink:NamedThing, biolink:OntologyClass, biolink:PhysicalEssence, biolink:PhysicalEssenceOrOccurrent, biolink:GenomicEntity]]|NULL                             |[robokop]           |\n",
      "|CAID:CA100810030 |rs115604397|biolink:GenomicEntity|NULL       |[HGVS:CM000666.2:g.87338382T>G, ROBO_VARIANT:HG38|4|87338381|87338382|T|G, HGVS:NC_000004.11:g.88259534T>G, DBSNP:rs115604397, HGVS:CM000666.1:g.88259534T>G, HGVS:NC_000004.10:g.88478558T>G, HGVS:NC_000004.12:g.87338382T>G, CAID:CA100810030]                                                                                     |[biolink:Entity, biolink:ThingWithTaxon, biolink:BiologicalEntity, biolink:SequenceVariant, biolink:NamedThing, biolink:OntologyClass, biolink:PhysicalEssence, biolink:PhysicalEssenceOrOccurrent, biolink:GenomicEntity]|[NULL]      |[[biolink:Entity, biolink:ThingWithTaxon, biolink:BiologicalEntity, biolink:SequenceVariant, biolink:NamedThing, biolink:OntologyClass, biolink:PhysicalEssence, biolink:PhysicalEssenceOrOccurrent, biolink:GenomicEntity]]|NULL                             |[robokop]           |\n",
      "|CAID:CA10083216  |rs146953731|biolink:GenomicEntity|NULL       |[HGVS:NC_000021.8:g.47987412G>A, DBSNP:rs146953731, CLINVARVARIANT:770818, HGVS:CM000683.2:g.46567499G>A, CAID:CA10083216, HGVS:CM000683.1:g.47987412G>A, HGVS:NG_015996.1:g.113551G>A, ROBO_VARIANT:HG38|21|46567498|46567499|G|A, HGVS:NC_000021.9:g.46567499G>A, HGVS:NC_000021.7:g.46811840G>A]                                   |[biolink:Entity, biolink:ThingWithTaxon, biolink:BiologicalEntity, biolink:SequenceVariant, biolink:NamedThing, biolink:OntologyClass, biolink:PhysicalEssence, biolink:PhysicalEssenceOrOccurrent, biolink:GenomicEntity]|[NULL]      |[[biolink:Entity, biolink:ThingWithTaxon, biolink:BiologicalEntity, biolink:SequenceVariant, biolink:NamedThing, biolink:OntologyClass, biolink:PhysicalEssence, biolink:PhysicalEssenceOrOccurrent, biolink:GenomicEntity]]|NULL                             |[robokop]           |\n",
      "|CAID:CA100837820 |rs4622962  |biolink:GenomicEntity|NULL       |[HGVS:NC_000004.10:g.88679793T>C, HGVS:CM000666.2:g.87539617T>C, DBSNP:rs4622962, HGVS:CM000666.1:g.88460769T>C, HGVS:NC_000004.12:g.87539617T>C, CAID:CA100837820, ROBO_VARIANT:HG38|4|87539616|87539617|T|C, HGVS:NC_000004.11:g.88460769T>C]                                                                                       |[biolink:Entity, biolink:ThingWithTaxon, biolink:BiologicalEntity, biolink:SequenceVariant, biolink:NamedThing, biolink:OntologyClass, biolink:PhysicalEssence, biolink:PhysicalEssenceOrOccurrent, biolink:GenomicEntity]|[NULL]      |[[biolink:Entity, biolink:ThingWithTaxon, biolink:BiologicalEntity, biolink:SequenceVariant, biolink:NamedThing, biolink:OntologyClass, biolink:PhysicalEssence, biolink:PhysicalEssenceOrOccurrent, biolink:GenomicEntity]]|NULL                             |[robokop]           |\n",
      "|CAID:CA100845530 |rs201713354|biolink:GenomicEntity|NULL       |[HGVS:NC_000004.11:g.88716833_88716834del, CAID:CA100845530, HGVS:NC_000004.10:g.88935857_88935858del, HGVS:CM000666.2:g.87795681_87795682del, HGVS:NC_000004.12:g.87795681_87795682del, ROBO_VARIANT:HG38|4|87795680|87795682|GA|, HGVS:CM000666.1:g.88716833_88716834del, DBSNP:rs201713354]                                        |[biolink:Entity, biolink:ThingWithTaxon, biolink:BiologicalEntity, biolink:SequenceVariant, biolink:NamedThing, biolink:OntologyClass, biolink:PhysicalEssence, biolink:PhysicalEssenceOrOccurrent, biolink:GenomicEntity]|[NULL]      |[[biolink:Entity, biolink:ThingWithTaxon, biolink:BiologicalEntity, biolink:SequenceVariant, biolink:NamedThing, biolink:OntologyClass, biolink:PhysicalEssence, biolink:PhysicalEssenceOrOccurrent, biolink:GenomicEntity]]|NULL                             |[robokop]           |\n",
      "|CAID:CA100847008 |rs201419919|biolink:GenomicEntity|NULL       |[HGVS:NC_000004.10:g.88938695_88938696dup, HGVS:CM000666.2:g.87798519_87798520dup, CAID:CA100847008, HGVS:NC_000004.11:g.88719671_88719672dup, HGVS:CM000666.1:g.88719671_88719672dup, DBSNP:rs201419919, ROBO_VARIANT:HG38|4|87798520|87798520||CA, HGVS:NC_000004.12:g.87798519_87798520dup]                                        |[biolink:Entity, biolink:ThingWithTaxon, biolink:BiologicalEntity, biolink:SequenceVariant, biolink:NamedThing, biolink:OntologyClass, biolink:PhysicalEssence, biolink:PhysicalEssenceOrOccurrent, biolink:GenomicEntity]|[NULL]      |[[biolink:Entity, biolink:ThingWithTaxon, biolink:BiologicalEntity, biolink:SequenceVariant, biolink:NamedThing, biolink:OntologyClass, biolink:PhysicalEssence, biolink:PhysicalEssenceOrOccurrent, biolink:GenomicEntity]]|NULL                             |[robokop]           |\n",
      "|CAID:CA10090340  |rs73163153 |biolink:GenomicEntity|NULL       |[DBSNP:rs73163153, CAID:CA10090340, HGVS:NC_000022.10:g.18167335T>G, HGVS:CM000684.2:g.17684569T>G, HGVS:NC_000022.9:g.16547335T>G, HGVS:NC_000022.11:g.17684569T>G, HGVS:CM000684.1:g.18167335T>G, ROBO_VARIANT:HG38|22|17684568|17684569|T|G]                                                                                       |[biolink:Entity, biolink:ThingWithTaxon, biolink:BiologicalEntity, biolink:SequenceVariant, biolink:NamedThing, biolink:OntologyClass, biolink:PhysicalEssence, biolink:PhysicalEssenceOrOccurrent, biolink:GenomicEntity]|[NULL]      |[[biolink:Entity, biolink:ThingWithTaxon, biolink:BiologicalEntity, biolink:SequenceVariant, biolink:NamedThing, biolink:OntologyClass, biolink:PhysicalEssence, biolink:PhysicalEssenceOrOccurrent, biolink:GenomicEntity]]|NULL                             |[robokop]           |\n",
      "|CAID:CA1009150296|rs9425308  |biolink:GenomicEntity|NULL       |[HGVS:NC_000001.10:g.172383265C>G, HGVS:CM000663.1:g.172383265C>G, HGVS:NC_000001.11:g.172414125C>G, DBSNP:rs9425308, HGVS:NC_000001.9:g.170649888C>G, ROBO_VARIANT:HG38|1|172414124|172414125|C|G, CAID:CA1009150296, HGVS:CM000663.2:g.172414125C>G]                                                                                |[biolink:Entity, biolink:ThingWithTaxon, biolink:BiologicalEntity, biolink:SequenceVariant, biolink:NamedThing, biolink:OntologyClass, biolink:PhysicalEssence, biolink:PhysicalEssenceOrOccurrent, biolink:GenomicEntity]|[NULL]      |[[biolink:Entity, biolink:ThingWithTaxon, biolink:BiologicalEntity, biolink:SequenceVariant, biolink:NamedThing, biolink:OntologyClass, biolink:PhysicalEssence, biolink:PhysicalEssenceOrOccurrent, biolink:GenomicEntity]]|NULL                             |[robokop]           |\n",
      "|CAID:CA100976388 |rs62319723 |biolink:GenomicEntity|NULL       |[HGVS:NC_000004.12:g.82260012A>G, ROBO_VARIANT:HG38|4|82260011|82260012|A|G, HGVS:CM000666.2:g.82260012A>G, HGVS:CM000666.1:g.83181165A>G, HGVS:NC_000004.10:g.83400189A>G, DBSNP:rs62319723, HGVS:NC_000004.11:g.83181165A>G, CAID:CA100976388]                                                                                      |[biolink:Entity, biolink:ThingWithTaxon, biolink:BiologicalEntity, biolink:SequenceVariant, biolink:NamedThing, biolink:OntologyClass, biolink:PhysicalEssence, biolink:PhysicalEssenceOrOccurrent, biolink:GenomicEntity]|[NULL]      |[[biolink:Entity, biolink:ThingWithTaxon, biolink:BiologicalEntity, biolink:SequenceVariant, biolink:NamedThing, biolink:OntologyClass, biolink:PhysicalEssence, biolink:PhysicalEssenceOrOccurrent, biolink:GenomicEntity]]|NULL                             |[robokop]           |\n",
      "|CAID:CA100983223 |rs753468616|biolink:GenomicEntity|NULL       |[HGVS:CM000666.1:g.90815873A>G, DBSNP:rs753468616, HGVS:NC_000004.12:g.89894722A>G, HGVS:NG_032895.2:g.20191A>G, ROBO_VARIANT:HG38|4|89894721|89894722|A|G, HGVS:CM000666.2:g.89894722A>G, CAID:CA100983223, HGVS:NC_000004.11:g.90815873A>G, HGVS:NC_000004.10:g.91034896A>G]                                                        |[biolink:Entity, biolink:ThingWithTaxon, biolink:BiologicalEntity, biolink:SequenceVariant, biolink:NamedThing, biolink:OntologyClass, biolink:PhysicalEssence, biolink:PhysicalEssenceOrOccurrent, biolink:GenomicEntity]|[NULL]      |[[biolink:Entity, biolink:ThingWithTaxon, biolink:BiologicalEntity, biolink:SequenceVariant, biolink:NamedThing, biolink:OntologyClass, biolink:PhysicalEssence, biolink:PhysicalEssenceOrOccurrent, biolink:GenomicEntity]]|NULL                             |[robokop]           |\n",
      "|CAID:CA101024984 |rs114916108|biolink:GenomicEntity|NULL       |[HGVS:CM000666.1:g.83461573T>C, HGVS:NC_000004.11:g.83461573T>C, CAID:CA101024984, HGVS:CM000666.2:g.82540420T>C, ROBO_VARIANT:HG38|4|82540419|82540420|T|C, HGVS:NC_000004.10:g.83680597T>C, HGVS:NC_000004.12:g.82540420T>C, DBSNP:rs114916108]                                                                                     |[biolink:Entity, biolink:ThingWithTaxon, biolink:BiologicalEntity, biolink:SequenceVariant, biolink:NamedThing, biolink:OntologyClass, biolink:PhysicalEssence, biolink:PhysicalEssenceOrOccurrent, biolink:GenomicEntity]|[NULL]      |[[biolink:Entity, biolink:ThingWithTaxon, biolink:BiologicalEntity, biolink:SequenceVariant, biolink:NamedThing, biolink:OntologyClass, biolink:PhysicalEssence, biolink:PhysicalEssenceOrOccurrent, biolink:GenomicEntity]]|NULL                             |[robokop]           |\n",
      "|CAID:CA10103378  |rs77448872 |biolink:GenomicEntity|NULL       |[ROBO_VARIANT:HG38|22|19851367|19851368|T|A, HGVS:NC_000022.10:g.19838891T>A, DBSNP:rs77448872, HGVS:NC_000022.11:g.19851368T>A, HGVS:CM000684.2:g.19851368T>A, HGVS:NC_000022.9:g.18218891T>A, HGVS:CM000684.1:g.19838891T>A, CAID:CA10103378]                                                                                       |[biolink:Entity, biolink:ThingWithTaxon, biolink:BiologicalEntity, biolink:SequenceVariant, biolink:NamedThing, biolink:OntologyClass, biolink:PhysicalEssence, biolink:PhysicalEssenceOrOccurrent, biolink:GenomicEntity]|[NULL]      |[[biolink:Entity, biolink:ThingWithTaxon, biolink:BiologicalEntity, biolink:SequenceVariant, biolink:NamedThing, biolink:OntologyClass, biolink:PhysicalEssence, biolink:PhysicalEssenceOrOccurrent, biolink:GenomicEntity]]|NULL                             |[robokop]           |\n",
      "|CAID:CA10104972  |rs2073744  |biolink:GenomicEntity|NULL       |[DBSNP:rs2073744, HGVS:NC_000022.11:g.19972432A>G, HGVS:NC_000022.9:g.18339955A>G, HGVS:CM000684.2:g.19972432A>G, CLINVARVARIANT:1239703, CAID:CA10104972, HGVS:CM000684.1:g.19959955A>G, HGVS:NG_023326.1:g.49355T>C, HGVS:NC_000022.10:g.19959955A>G, ROBO_VARIANT:HG38|22|19972431|19972432|A|G]                                   |[biolink:Entity, biolink:ThingWithTaxon, biolink:BiologicalEntity, biolink:SequenceVariant, biolink:NamedThing, biolink:OntologyClass, biolink:PhysicalEssence, biolink:PhysicalEssenceOrOccurrent, biolink:GenomicEntity]|[NULL]      |[[biolink:Entity, biolink:ThingWithTaxon, biolink:BiologicalEntity, biolink:SequenceVariant, biolink:NamedThing, biolink:OntologyClass, biolink:PhysicalEssence, biolink:PhysicalEssenceOrOccurrent, biolink:GenomicEntity]]|NULL                             |[robokop]           |\n",
      "|CAID:CA101154875 |rs6834392  |biolink:GenomicEntity|NULL       |[HGVS:CM000666.1:g.85311994C>T, HGVS:CM000666.2:g.84390841C>T, HGVS:NC_000004.12:g.84390841C>T, HGVS:NC_000004.11:g.85311994C>T, CAID:CA101154875, ROBO_VARIANT:HG38|4|84390840|84390841|C|T, HGVS:NC_000004.10:g.85531018C>T, DBSNP:rs6834392]                                                                                       |[biolink:Entity, biolink:ThingWithTaxon, biolink:BiologicalEntity, biolink:SequenceVariant, biolink:NamedThing, biolink:OntologyClass, biolink:PhysicalEssence, biolink:PhysicalEssenceOrOccurrent, biolink:GenomicEntity]|[NULL]      |[[biolink:Entity, biolink:ThingWithTaxon, biolink:BiologicalEntity, biolink:SequenceVariant, biolink:NamedThing, biolink:OntologyClass, biolink:PhysicalEssence, biolink:PhysicalEssenceOrOccurrent, biolink:GenomicEntity]]|NULL                             |[robokop]           |\n",
      "|CAID:CA101182513 |rs201609156|biolink:GenomicEntity|NULL       |[CAID:CA101182513, HGVS:NC_000004.10:g.86041574_86041575del, HGVS:CM000666.1:g.85822550_85822551del, ROBO_VARIANT:HG38|4|84901396|84901398|GA|, DBSNP:rs201609156, HGVS:NC_000004.11:g.85822550_85822551del, HGVS:NC_000004.12:g.84901397_84901398del, HGVS:CM000666.2:g.84901397_84901398del, HGVS:NG_046917.1:g.69999_70000del]     |[biolink:Entity, biolink:ThingWithTaxon, biolink:BiologicalEntity, biolink:SequenceVariant, biolink:NamedThing, biolink:OntologyClass, biolink:PhysicalEssence, biolink:PhysicalEssenceOrOccurrent, biolink:GenomicEntity]|[NULL]      |[[biolink:Entity, biolink:ThingWithTaxon, biolink:BiologicalEntity, biolink:SequenceVariant, biolink:NamedThing, biolink:OntologyClass, biolink:PhysicalEssence, biolink:PhysicalEssenceOrOccurrent, biolink:GenomicEntity]]|NULL                             |[robokop]           |\n",
      "|CAID:CA101215190 |rs115847908|biolink:GenomicEntity|NULL       |[HGVS:CM000666.1:g.86113008T>C, HGVS:CM000666.2:g.85191855T>C, HGVS:NC_000004.11:g.86113008T>C, HGVS:NC_000004.12:g.85191855T>C, ROBO_VARIANT:HG38|4|85191854|85191855|T|C, CAID:CA101215190, HGVS:NC_000004.10:g.86332032T>C, DBSNP:rs115847908]                                                                                     |[biolink:Entity, biolink:ThingWithTaxon, biolink:BiologicalEntity, biolink:SequenceVariant, biolink:NamedThing, biolink:OntologyClass, biolink:PhysicalEssence, biolink:PhysicalEssenceOrOccurrent, biolink:GenomicEntity]|[NULL]      |[[biolink:Entity, biolink:ThingWithTaxon, biolink:BiologicalEntity, biolink:SequenceVariant, biolink:NamedThing, biolink:OntologyClass, biolink:PhysicalEssence, biolink:PhysicalEssenceOrOccurrent, biolink:GenomicEntity]]|NULL                             |[robokop]           |\n",
      "|CAID:CA101218959 |rs66486319 |biolink:GenomicEntity|NULL       |[CAID:CA101218959, ROBO_VARIANT:HG38|4|85222214|85222215|T|C, HGVS:CM000666.1:g.86143368T>C, HGVS:CM000666.2:g.85222215T>C, DBSNP:rs66486319, HGVS:NC_000004.10:g.86362392T>C, HGVS:NC_000004.11:g.86143368T>C, HGVS:NC_000004.12:g.85222215T>C]                                                                                      |[biolink:Entity, biolink:ThingWithTaxon, biolink:BiologicalEntity, biolink:SequenceVariant, biolink:NamedThing, biolink:OntologyClass, biolink:PhysicalEssence, biolink:PhysicalEssenceOrOccurrent, biolink:GenomicEntity]|[NULL]      |[[biolink:Entity, biolink:ThingWithTaxon, biolink:BiologicalEntity, biolink:SequenceVariant, biolink:NamedThing, biolink:OntologyClass, biolink:PhysicalEssence, biolink:PhysicalEssenceOrOccurrent, biolink:GenomicEntity]]|NULL                             |[robokop]           |\n",
      "|CAID:CA101219909 |rs5859968  |biolink:GenomicEntity|NULL       |[HGVS:CM000666.1:g.86151923_86151924insA, HGVS:NC_000004.10:g.86370947_86370948insA, CAID:CA101219909, DBSNP:rs5859968, HGVS:NC_000004.12:g.85230770_85230771insA, HGVS:CM000666.2:g.85230770_85230771insA, HGVS:NC_000004.11:g.86151923_86151924insA, ROBO_VARIANT:HG38|4|85230770|85230770||A]                                      |[biolink:Entity, biolink:ThingWithTaxon, biolink:BiologicalEntity, biolink:SequenceVariant, biolink:NamedThing, biolink:OntologyClass, biolink:PhysicalEssence, biolink:PhysicalEssenceOrOccurrent, biolink:GenomicEntity]|[NULL]      |[[biolink:Entity, biolink:ThingWithTaxon, biolink:BiologicalEntity, biolink:SequenceVariant, biolink:NamedThing, biolink:OntologyClass, biolink:PhysicalEssence, biolink:PhysicalEssenceOrOccurrent, biolink:GenomicEntity]]|NULL                             |[robokop]           |\n",
      "|CAID:CA101230729 |rs433657   |biolink:GenomicEntity|NULL       |[HGVS:CM000666.1:g.86252435C>G, CAID:CA101230729, HGVS:CM000666.2:g.85331282C>G, HGVS:NC_000004.10:g.86471459C>G, HGVS:NC_000004.11:g.86252435C>G, HGVS:NC_000004.12:g.85331282C>G, ROBO_VARIANT:HG38|4|85331281|85331282|C|G, DBSNP:rs433657]                                                                                        |[biolink:Entity, biolink:ThingWithTaxon, biolink:BiologicalEntity, biolink:SequenceVariant, biolink:NamedThing, biolink:OntologyClass, biolink:PhysicalEssence, biolink:PhysicalEssenceOrOccurrent, biolink:GenomicEntity]|[NULL]      |[[biolink:Entity, biolink:ThingWithTaxon, biolink:BiologicalEntity, biolink:SequenceVariant, biolink:NamedThing, biolink:OntologyClass, biolink:PhysicalEssence, biolink:PhysicalEssenceOrOccurrent, biolink:GenomicEntity]]|NULL                             |[robokop]           |\n",
      "|CAID:CA101261139 |rs9307006  |biolink:GenomicEntity|NULL       |[HGVS:CM000666.1:g.86530633C>T, ROBO_VARIANT:HG38|4|85609479|85609480|C|T, HGVS:NC_000004.12:g.85609480C>T, HGVS:NG_051627.1:g.139350C>T, HGVS:NC_000004.11:g.86530633C>T, HGVS:NC_000004.10:g.86749657C>T, HGVS:CM000666.2:g.85609480C>T, CAID:CA101261139, DBSNP:rs9307006]                                                         |[biolink:Entity, biolink:ThingWithTaxon, biolink:BiologicalEntity, biolink:SequenceVariant, biolink:NamedThing, biolink:OntologyClass, biolink:PhysicalEssence, biolink:PhysicalEssenceOrOccurrent, biolink:GenomicEntity]|[NULL]      |[[biolink:Entity, biolink:ThingWithTaxon, biolink:BiologicalEntity, biolink:SequenceVariant, biolink:NamedThing, biolink:OntologyClass, biolink:PhysicalEssence, biolink:PhysicalEssenceOrOccurrent, biolink:GenomicEntity]]|NULL                             |[robokop]           |\n",
      "|CAID:CA101286757 |rs1397378  |biolink:GenomicEntity|NULL       |[HGVS:NG_051627.1:g.376276A>C, HGVS:NC_000004.10:g.86986583A>C, HGVS:CM000666.2:g.85846406A>C, HGVS:NC_000004.12:g.85846406A>C, DBSNP:rs1397378, HGVS:NC_000004.11:g.86767559A>C, ROBO_VARIANT:HG38|4|85846405|85846406|A|C, HGVS:CM000666.1:g.86767559A>C, CAID:CA101286757]                                                         |[biolink:Entity, biolink:ThingWithTaxon, biolink:BiologicalEntity, biolink:SequenceVariant, biolink:NamedThing, biolink:OntologyClass, biolink:PhysicalEssence, biolink:PhysicalEssenceOrOccurrent, biolink:GenomicEntity]|[NULL]      |[[biolink:Entity, biolink:ThingWithTaxon, biolink:BiologicalEntity, biolink:SequenceVariant, biolink:NamedThing, biolink:OntologyClass, biolink:PhysicalEssence, biolink:PhysicalEssenceOrOccurrent, biolink:GenomicEntity]]|NULL                             |[robokop]           |\n",
      "|CAID:CA10133123  |rs9612135  |biolink:GenomicEntity|NULL       |[CAID:CA10133123, HGVS:NC_000022.9:g.21318911G>A, HGVS:CM000684.2:g.22646441G>A, HGVS:NC_000022.11:g.22646441G>A, HGVS:CM000684.1:g.22988911G>A, HGVS:NC_000022.10:g.22988911G>A, DBSNP:rs9612135, ROBO_VARIANT:HG38|22|22646440|22646441|G|A]                                                                                        |[biolink:Entity, biolink:ThingWithTaxon, biolink:BiologicalEntity, biolink:SequenceVariant, biolink:NamedThing, biolink:OntologyClass, biolink:PhysicalEssence, biolink:PhysicalEssenceOrOccurrent, biolink:GenomicEntity]|[NULL]      |[[biolink:Entity, biolink:ThingWithTaxon, biolink:BiologicalEntity, biolink:SequenceVariant, biolink:NamedThing, biolink:OntologyClass, biolink:PhysicalEssence, biolink:PhysicalEssenceOrOccurrent, biolink:GenomicEntity]]|NULL                             |[robokop]           |\n",
      "|CAID:CA101343584 |rs113221763|biolink:GenomicEntity|NULL       |[HGVS:NC_000004.10:g.87655983A>G, HGVS:NC_000004.11:g.87436959A>G, HGVS:CM000666.1:g.87436959A>G, CAID:CA101343584, HGVS:NC_000004.12:g.86515806A>G, ROBO_VARIANT:HG38|4|86515805|86515806|A|G, DBSNP:rs113221763, HGVS:CM000666.2:g.86515806A>G]                                                                                     |[biolink:Entity, biolink:ThingWithTaxon, biolink:BiologicalEntity, biolink:SequenceVariant, biolink:NamedThing, biolink:OntologyClass, biolink:PhysicalEssence, biolink:PhysicalEssenceOrOccurrent, biolink:GenomicEntity]|[NULL]      |[[biolink:Entity, biolink:ThingWithTaxon, biolink:BiologicalEntity, biolink:SequenceVariant, biolink:NamedThing, biolink:OntologyClass, biolink:PhysicalEssence, biolink:PhysicalEssenceOrOccurrent, biolink:GenomicEntity]]|NULL                             |[robokop]           |\n",
      "|CAID:CA101349213 |rs112677130|biolink:GenomicEntity|NULL       |[HGVS:NC_000004.11:g.87490087C>A, HGVS:CM000666.1:g.87490087C>A, ROBO_VARIANT:HG38|4|86568933|86568934|C|A, CAID:CA101349213, DBSNP:rs112677130, HGVS:NC_000004.12:g.86568934C>A, HGVS:CM000666.2:g.86568934C>A, HGVS:NC_000004.10:g.87709111C>A]                                                                                     |[biolink:Entity, biolink:ThingWithTaxon, biolink:BiologicalEntity, biolink:SequenceVariant, biolink:NamedThing, biolink:OntologyClass, biolink:PhysicalEssence, biolink:PhysicalEssenceOrOccurrent, biolink:GenomicEntity]|[NULL]      |[[biolink:Entity, biolink:ThingWithTaxon, biolink:BiologicalEntity, biolink:SequenceVariant, biolink:NamedThing, biolink:OntologyClass, biolink:PhysicalEssence, biolink:PhysicalEssenceOrOccurrent, biolink:GenomicEntity]]|NULL                             |[robokop]           |\n",
      "|CAID:CA101377357 |rs75518791 |biolink:GenomicEntity|NULL       |[ROBO_VARIANT:HG38|4|86966408|86966409|C|T, HGVS:CM000666.2:g.86966409C>T, HGVS:NC_000004.10:g.88106585C>T, CAID:CA101377357, HGVS:CM000666.1:g.87887561C>T, DBSNP:rs75518791, HGVS:NC_000004.12:g.86966409C>T, HGVS:NC_000004.11:g.87887561C>T]                                                                                      |[biolink:Entity, biolink:ThingWithTaxon, biolink:BiologicalEntity, biolink:SequenceVariant, biolink:NamedThing, biolink:OntologyClass, biolink:PhysicalEssence, biolink:PhysicalEssenceOrOccurrent, biolink:GenomicEntity]|[NULL]      |[[biolink:Entity, biolink:ThingWithTaxon, biolink:BiologicalEntity, biolink:SequenceVariant, biolink:NamedThing, biolink:OntologyClass, biolink:PhysicalEssence, biolink:PhysicalEssenceOrOccurrent, biolink:GenomicEntity]]|NULL                             |[robokop]           |\n",
      "|CAID:CA101391831 |rs62316031 |biolink:GenomicEntity|NULL       |[HGVS:NC_000004.10:g.88894309C>A, DBSNP:rs62316031, HGVS:NC_000004.12:g.87754133C>A, CAID:CA101391831, ROBO_VARIANT:HG38|4|87754132|87754133|C|A, HGVS:CM000666.2:g.87754133C>A, HGVS:NC_000004.11:g.88675285C>A, HGVS:CM000666.1:g.88675285C>A]                                                                                      |[biolink:Entity, biolink:ThingWithTaxon, biolink:BiologicalEntity, biolink:SequenceVariant, biolink:NamedThing, biolink:OntologyClass, biolink:PhysicalEssence, biolink:PhysicalEssenceOrOccurrent, biolink:GenomicEntity]|[NULL]      |[[biolink:Entity, biolink:ThingWithTaxon, biolink:BiologicalEntity, biolink:SequenceVariant, biolink:NamedThing, biolink:OntologyClass, biolink:PhysicalEssence, biolink:PhysicalEssenceOrOccurrent, biolink:GenomicEntity]]|NULL                             |[robokop]           |\n",
      "|CAID:CA101396549 |rs35965485 |biolink:GenomicEntity|NULL       |[ROBO_VARIANT:HG38|4|88188648|88188649|A|, DBSNP:rs35965485, CAID:CA101396549, HGVS:CM000666.1:g.89109801del, HGVS:NC_000004.10:g.89328825del, HGVS:NC_000004.11:g.89109801del, HGVS:NC_000004.12:g.88188649del, HGVS:CM000666.2:g.88188649del, HGVS:NG_032067.2:g.47680del]                                                          |[biolink:Entity, biolink:ThingWithTaxon, biolink:BiologicalEntity, biolink:SequenceVariant, biolink:NamedThing, biolink:OntologyClass, biolink:PhysicalEssence, biolink:PhysicalEssenceOrOccurrent, biolink:GenomicEntity]|[NULL]      |[[biolink:Entity, biolink:ThingWithTaxon, biolink:BiologicalEntity, biolink:SequenceVariant, biolink:NamedThing, biolink:OntologyClass, biolink:PhysicalEssence, biolink:PhysicalEssenceOrOccurrent, biolink:GenomicEntity]]|NULL                             |[robokop]           |\n",
      "|CAID:CA101399865 |rs144099929|biolink:GenomicEntity|NULL       |[HGVS:CM000666.2:g.88219954_88219956del, HGVS:NG_032067.2:g.16370_16372del, HGVS:NC_000004.12:g.88219954_88219956del, DBSNP:rs144099929, ROBO_VARIANT:HG38|4|88219953|88219956|CTT|, HGVS:CM000666.1:g.89141106_89141108del, HGVS:NC_000004.11:g.89141106_89141108del, HGVS:NC_000004.10:g.89360130_89360132del, CAID:CA101399865]    |[biolink:Entity, biolink:ThingWithTaxon, biolink:BiologicalEntity, biolink:SequenceVariant, biolink:NamedThing, biolink:OntologyClass, biolink:PhysicalEssence, biolink:PhysicalEssenceOrOccurrent, biolink:GenomicEntity]|[NULL]      |[[biolink:Entity, biolink:ThingWithTaxon, biolink:BiologicalEntity, biolink:SequenceVariant, biolink:NamedThing, biolink:OntologyClass, biolink:PhysicalEssence, biolink:PhysicalEssenceOrOccurrent, biolink:GenomicEntity]]|NULL                             |[robokop]           |\n",
      "|CAID:CA101402638 |rs7656569  |biolink:GenomicEntity|NULL       |[HGVS:CM000666.1:g.89166761C>A, HGVS:NC_000004.12:g.88245609C>A, DBSNP:rs7656569, CAID:CA101402638, HGVS:NC_000004.11:g.89166761C>A, HGVS:NC_000004.10:g.89385785C>A, ROBO_VARIANT:HG38|4|88245608|88245609|C|A, HGVS:CM000666.2:g.88245609C>A]                                                                                       |[biolink:Entity, biolink:ThingWithTaxon, biolink:BiologicalEntity, biolink:SequenceVariant, biolink:NamedThing, biolink:OntologyClass, biolink:PhysicalEssence, biolink:PhysicalEssenceOrOccurrent, biolink:GenomicEntity]|[NULL]      |[[biolink:Entity, biolink:ThingWithTaxon, biolink:BiologicalEntity, biolink:SequenceVariant, biolink:NamedThing, biolink:OntologyClass, biolink:PhysicalEssence, biolink:PhysicalEssenceOrOccurrent, biolink:GenomicEntity]]|NULL                             |[robokop]           |\n",
      "|CAID:CA101419422 |rs7665826  |biolink:GenomicEntity|NULL       |[CAID:CA101419422, ROBO_VARIANT:HG38|4|88924940|88924941|G|A, HGVS:NC_000004.12:g.88924941G>A, DBSNP:rs7665826, HGVS:CM000666.2:g.88924941G>A, HGVS:NC_000004.11:g.89846092G>A, HGVS:CM000666.1:g.89846092G>A, HGVS:NC_000004.10:g.90065115G>A]                                                                                       |[biolink:Entity, biolink:ThingWithTaxon, biolink:BiologicalEntity, biolink:SequenceVariant, biolink:NamedThing, biolink:OntologyClass, biolink:PhysicalEssence, biolink:PhysicalEssenceOrOccurrent, biolink:GenomicEntity]|[NULL]      |[[biolink:Entity, biolink:ThingWithTaxon, biolink:BiologicalEntity, biolink:SequenceVariant, biolink:NamedThing, biolink:OntologyClass, biolink:PhysicalEssence, biolink:PhysicalEssenceOrOccurrent, biolink:GenomicEntity]]|NULL                             |[robokop]           |\n",
      "|CAID:CA101425160 |rs764635273|biolink:GenomicEntity|NULL       |[HGVS:NC_000004.11:g.89897883_89897884insGGA, DBSNP:rs764635273, CAID:CA101425160, HGVS:NC_000004.10:g.90116906_90116907insGGA, ROBO_VARIANT:HG38|4|88976732|88976732||GGA, HGVS:NC_000004.12:g.88976732_88976733insGGA, HGVS:CM000666.2:g.88976732_88976733insGGA, HGVS:CM000666.1:g.89897883_89897884insGGA]                        |[biolink:Entity, biolink:ThingWithTaxon, biolink:BiologicalEntity, biolink:SequenceVariant, biolink:NamedThing, biolink:OntologyClass, biolink:PhysicalEssence, biolink:PhysicalEssenceOrOccurrent, biolink:GenomicEntity]|[NULL]      |[[biolink:Entity, biolink:ThingWithTaxon, biolink:BiologicalEntity, biolink:SequenceVariant, biolink:NamedThing, biolink:OntologyClass, biolink:PhysicalEssence, biolink:PhysicalEssenceOrOccurrent, biolink:GenomicEntity]]|NULL                             |[robokop]           |\n",
      "|CAID:CA101434220 |rs139903807|biolink:GenomicEntity|NULL       |[CAID:CA101434220, HGVS:NC_000004.12:g.89058075_89058078del, ROBO_VARIANT:HG38|4|89058074|89058078|ACAT|, HGVS:CM000666.1:g.89979226_89979229del, HGVS:CM000666.2:g.89058075_89058078del, HGVS:NC_000004.10:g.90198249_90198252del, DBSNP:rs139903807, HGVS:NC_000004.11:g.89979226_89979229del]                                      |[biolink:Entity, biolink:ThingWithTaxon, biolink:BiologicalEntity, biolink:SequenceVariant, biolink:NamedThing, biolink:OntologyClass, biolink:PhysicalEssence, biolink:PhysicalEssenceOrOccurrent, biolink:GenomicEntity]|[NULL]      |[[biolink:Entity, biolink:ThingWithTaxon, biolink:BiologicalEntity, biolink:SequenceVariant, biolink:NamedThing, biolink:OntologyClass, biolink:PhysicalEssence, biolink:PhysicalEssenceOrOccurrent, biolink:GenomicEntity]]|NULL                             |[robokop]           |\n",
      "|CAID:CA101442547 |rs57032647 |biolink:GenomicEntity|NULL       |[HGVS:NC_000004.10:g.90274825_90274827del, HGVS:CM000666.1:g.90055802_90055804del, DBSNP:rs57032647, ROBO_VARIANT:HG38|4|89134650|89134653|TCT|, HGVS:CM000666.2:g.89134651_89134653del, HGVS:NC_000004.12:g.89134651_89134653del, CAID:CA101442547, HGVS:NC_000004.11:g.90055802_90055804del]                                        |[biolink:Entity, biolink:ThingWithTaxon, biolink:BiologicalEntity, biolink:SequenceVariant, biolink:NamedThing, biolink:OntologyClass, biolink:PhysicalEssence, biolink:PhysicalEssenceOrOccurrent, biolink:GenomicEntity]|[NULL]      |[[biolink:Entity, biolink:ThingWithTaxon, biolink:BiologicalEntity, biolink:SequenceVariant, biolink:NamedThing, biolink:OntologyClass, biolink:PhysicalEssence, biolink:PhysicalEssenceOrOccurrent, biolink:GenomicEntity]]|NULL                             |[robokop]           |\n",
      "|CAID:CA101483352 |rs1121173  |biolink:GenomicEntity|NULL       |[HGVS:NC_000004.12:g.89604657T>C, ROBO_VARIANT:HG38|4|89604656|89604657|T|C, CAID:CA101483352, HGVS:NC_000004.10:g.90744831T>C, HGVS:NC_000004.11:g.90525808T>C, DBSNP:rs1121173, HGVS:CM000666.2:g.89604657T>C, HGVS:CM000666.1:g.90525808T>C]                                                                                       |[biolink:Entity, biolink:ThingWithTaxon, biolink:BiologicalEntity, biolink:SequenceVariant, biolink:NamedThing, biolink:OntologyClass, biolink:PhysicalEssence, biolink:PhysicalEssenceOrOccurrent, biolink:GenomicEntity]|[NULL]      |[[biolink:Entity, biolink:ThingWithTaxon, biolink:BiologicalEntity, biolink:SequenceVariant, biolink:NamedThing, biolink:OntologyClass, biolink:PhysicalEssence, biolink:PhysicalEssenceOrOccurrent, biolink:GenomicEntity]]|NULL                             |[robokop]           |\n",
      "|CAID:CA101491929 |rs112033215|biolink:GenomicEntity|NULL       |[HGVS:CM000666.1:g.90599069C>T, HGVS:NC_000004.10:g.90818092C>T, DBSNP:rs112033215, HGVS:NC_000004.12:g.89677918C>T, HGVS:NC_000004.11:g.90599069C>T, ROBO_VARIANT:HG38|4|89677917|89677918|C|T, CAID:CA101491929, HGVS:CM000666.2:g.89677918C>T]                                                                                     |[biolink:Entity, biolink:ThingWithTaxon, biolink:BiologicalEntity, biolink:SequenceVariant, biolink:NamedThing, biolink:OntologyClass, biolink:PhysicalEssence, biolink:PhysicalEssenceOrOccurrent, biolink:GenomicEntity]|[NULL]      |[[biolink:Entity, biolink:ThingWithTaxon, biolink:BiologicalEntity, biolink:SequenceVariant, biolink:NamedThing, biolink:OntologyClass, biolink:PhysicalEssence, biolink:PhysicalEssenceOrOccurrent, biolink:GenomicEntity]]|NULL                             |[robokop]           |\n",
      "|CAID:CA101492379 |rs79829216 |biolink:GenomicEntity|NULL       |[DBSNP:rs79829216, HGVS:NC_000004.11:g.90602566G>A, HGVS:CM000666.1:g.90602566G>A, HGVS:CM000666.2:g.89681415G>A, HGVS:NC_000004.12:g.89681415G>A, CAID:CA101492379, HGVS:NC_000004.10:g.90821589G>A, ROBO_VARIANT:HG38|4|89681414|89681415|G|A]                                                                                      |[biolink:Entity, biolink:ThingWithTaxon, biolink:BiologicalEntity, biolink:SequenceVariant, biolink:NamedThing, biolink:OntologyClass, biolink:PhysicalEssence, biolink:PhysicalEssenceOrOccurrent, biolink:GenomicEntity]|[NULL]      |[[biolink:Entity, biolink:ThingWithTaxon, biolink:BiologicalEntity, biolink:SequenceVariant, biolink:NamedThing, biolink:OntologyClass, biolink:PhysicalEssence, biolink:PhysicalEssenceOrOccurrent, biolink:GenomicEntity]]|NULL                             |[robokop]           |\n",
      "|CAID:CA101492516 |rs190963611|biolink:GenomicEntity|NULL       |[HGVS:NC_000004.12:g.89682662A>T, HGVS:NC_000004.11:g.90603813A>T, ROBO_VARIANT:HG38|4|89682661|89682662|A|T, DBSNP:rs190963611, CAID:CA101492516, HGVS:CM000666.1:g.90603813A>T, HGVS:CM000666.2:g.89682662A>T, HGVS:NC_000004.10:g.90822836A>T]                                                                                     |[biolink:Entity, biolink:ThingWithTaxon, biolink:BiologicalEntity, biolink:SequenceVariant, biolink:NamedThing, biolink:OntologyClass, biolink:PhysicalEssence, biolink:PhysicalEssenceOrOccurrent, biolink:GenomicEntity]|[NULL]      |[[biolink:Entity, biolink:ThingWithTaxon, biolink:BiologicalEntity, biolink:SequenceVariant, biolink:NamedThing, biolink:OntologyClass, biolink:PhysicalEssence, biolink:PhysicalEssenceOrOccurrent, biolink:GenomicEntity]]|NULL                             |[robokop]           |\n",
      "|CAID:CA101496833 |rs11315884 |biolink:GenomicEntity|NULL       |[HGVS:NC_000004.12:g.89720652del, ROBO_VARIANT:HG38|4|89720651|89720652|A|, HGVS:NC_000004.11:g.90641803del, DBSNP:rs11315884, CAID:CA101496833, HGVS:CM000666.2:g.89720652del, HGVS:CM000666.1:g.90641803del, HGVS:NC_000004.10:g.90860826del]                                                                                       |[biolink:Entity, biolink:ThingWithTaxon, biolink:BiologicalEntity, biolink:SequenceVariant, biolink:NamedThing, biolink:OntologyClass, biolink:PhysicalEssence, biolink:PhysicalEssenceOrOccurrent, biolink:GenomicEntity]|[NULL]      |[[biolink:Entity, biolink:ThingWithTaxon, biolink:BiologicalEntity, biolink:SequenceVariant, biolink:NamedThing, biolink:OntologyClass, biolink:PhysicalEssence, biolink:PhysicalEssenceOrOccurrent, biolink:GenomicEntity]]|NULL                             |[robokop]           |\n",
      "|CAID:CA10160252  |rs4820658  |biolink:GenomicEntity|NULL       |[DBSNP:rs4820658, HGVS:NC_000022.11:g.25823638G>A, HGVS:NC_000022.9:g.24549605G>A, CLINVARVARIANT:1269030, HGVS:NC_000022.10:g.26219605G>A, ROBO_VARIANT:HG38|22|25823637|25823638|G|A, HGVS:NG_046772.1:g.86495G>A, HGVS:CM000684.1:g.26219605G>A, HGVS:CM000684.2:g.25823638G>A, CAID:CA10160252]                                   |[biolink:Entity, biolink:ThingWithTaxon, biolink:BiologicalEntity, biolink:SequenceVariant, biolink:NamedThing, biolink:OntologyClass, biolink:PhysicalEssence, biolink:PhysicalEssenceOrOccurrent, biolink:GenomicEntity]|[NULL]      |[[biolink:Entity, biolink:ThingWithTaxon, biolink:BiologicalEntity, biolink:SequenceVariant, biolink:NamedThing, biolink:OntologyClass, biolink:PhysicalEssence, biolink:PhysicalEssenceOrOccurrent, biolink:GenomicEntity]]|NULL                             |[robokop]           |\n",
      "|CAID:CA101609739 |rs12502056 |biolink:GenomicEntity|NULL       |[ROBO_VARIANT:HG38|4|99194916|99194917|G|A, HGVS:NC_000004.10:g.100335097G>A, HGVS:NC_000004.12:g.99194917G>A, HGVS:CM000666.2:g.99194917G>A, HGVS:NC_000004.11:g.100116074G>A, HGVS:CM000666.1:g.100116074G>A, DBSNP:rs12502056, CAID:CA101609739]                                                                                   |[biolink:Entity, biolink:ThingWithTaxon, biolink:BiologicalEntity, biolink:SequenceVariant, biolink:NamedThing, biolink:OntologyClass, biolink:PhysicalEssence, biolink:PhysicalEssenceOrOccurrent, biolink:GenomicEntity]|[NULL]      |[[biolink:Entity, biolink:ThingWithTaxon, biolink:BiologicalEntity, biolink:SequenceVariant, biolink:NamedThing, biolink:OntologyClass, biolink:PhysicalEssence, biolink:PhysicalEssenceOrOccurrent, biolink:GenomicEntity]]|NULL                             |[robokop]           |\n",
      "|CAID:CA101631053 |rs111687928|biolink:GenomicEntity|NULL       |[HGVS:NC_000004.10:g.100250058A>T, DBSNP:rs111687928, ROBO_VARIANT:HG38|4|99109883|99109884|A|T, HGVS:CM000666.2:g.99109884A>T, CAID:CA101631053, HGVS:NC_000004.12:g.99109884A>T, HGVS:NC_000004.11:g.100031035A>T, HGVS:CM000666.1:g.100031035A>T]                                                                                  |[biolink:Entity, biolink:ThingWithTaxon, biolink:BiologicalEntity, biolink:SequenceVariant, biolink:NamedThing, biolink:OntologyClass, biolink:PhysicalEssence, biolink:PhysicalEssenceOrOccurrent, biolink:GenomicEntity]|[NULL]      |[[biolink:Entity, biolink:ThingWithTaxon, biolink:BiologicalEntity, biolink:SequenceVariant, biolink:NamedThing, biolink:OntologyClass, biolink:PhysicalEssence, biolink:PhysicalEssenceOrOccurrent, biolink:GenomicEntity]]|NULL                             |[robokop]           |\n",
      "|CAID:CA101674887 |rs67474669 |biolink:GenomicEntity|NULL       |[HGVS:CM000666.2:g.94289098del, ROBO_VARIANT:HG38|4|94289097|94289098|G|, HGVS:NC_000004.12:g.94289098del, CAID:CA101674887, HGVS:NC_000004.10:g.95429272del, DBSNP:rs67474669, HGVS:CM000666.1:g.95210249del, HGVS:NG_031945.1:g.86491del, HGVS:NC_000004.11:g.95210249del]                                                          |[biolink:Entity, biolink:ThingWithTaxon, biolink:BiologicalEntity, biolink:SequenceVariant, biolink:NamedThing, biolink:OntologyClass, biolink:PhysicalEssence, biolink:PhysicalEssenceOrOccurrent, biolink:GenomicEntity]|[NULL]      |[[biolink:Entity, biolink:ThingWithTaxon, biolink:BiologicalEntity, biolink:SequenceVariant, biolink:NamedThing, biolink:OntologyClass, biolink:PhysicalEssence, biolink:PhysicalEssenceOrOccurrent, biolink:GenomicEntity]]|NULL                             |[robokop]           |\n",
      "|CAID:CA10168029  |rs184130279|biolink:GenomicEntity|NULL       |[HGVS:NG_008150.2:g.17442G>A, HGVS:NC_000022.11:g.28729425C>T, HGVS:NG_008150.1:g.17410G>A, HGVS:NC_000022.9:g.27455413C>T, HGVS:NC_000022.10:g.29125413C>T, ROBO_VARIANT:HG38|22|28729424|28729425|C|T, DBSNP:rs184130279, HGVS:CM000684.1:g.29125413C>T, HGVS:CM000684.2:g.28729425C>T, CAID:CA10168029]                            |[biolink:Entity, biolink:ThingWithTaxon, biolink:BiologicalEntity, biolink:SequenceVariant, biolink:NamedThing, biolink:OntologyClass, biolink:PhysicalEssence, biolink:PhysicalEssenceOrOccurrent, biolink:GenomicEntity]|[NULL]      |[[biolink:Entity, biolink:ThingWithTaxon, biolink:BiologicalEntity, biolink:SequenceVariant, biolink:NamedThing, biolink:OntologyClass, biolink:PhysicalEssence, biolink:PhysicalEssenceOrOccurrent, biolink:GenomicEntity]]|NULL                             |[robokop]           |\n",
      "|CAID:CA101685288 |rs3775043  |biolink:GenomicEntity|NULL       |[ROBO_VARIANT:HG38|4|95207527|95207528|T|G, HGVS:NC_000004.10:g.96347702T>G, DBSNP:rs3775043, CAID:CA101685288, HGVS:CM000666.1:g.96128679T>G, HGVS:CM000666.2:g.95207528T>G, HGVS:NC_000004.12:g.95207528T>G, HGVS:NC_000004.11:g.96128679T>G]                                                                                       |[biolink:Entity, biolink:ThingWithTaxon, biolink:BiologicalEntity, biolink:SequenceVariant, biolink:NamedThing, biolink:OntologyClass, biolink:PhysicalEssence, biolink:PhysicalEssenceOrOccurrent, biolink:GenomicEntity]|[NULL]      |[[biolink:Entity, biolink:ThingWithTaxon, biolink:BiologicalEntity, biolink:SequenceVariant, biolink:NamedThing, biolink:OntologyClass, biolink:PhysicalEssence, biolink:PhysicalEssenceOrOccurrent, biolink:GenomicEntity]]|NULL                             |[robokop]           |\n",
      "|CAID:CA101685295 |rs11419575 |biolink:GenomicEntity|NULL       |[HGVS:NC_000004.12:g.97984072_97984073insA, HGVS:CM000666.2:g.97984072_97984073insA, HGVS:CM000666.1:g.98905223_98905224insA, HGVS:NC_000004.10:g.99124246_99124247insA, CAID:CA101685295, DBSNP:rs11419575, ROBO_VARIANT:HG38|4|97984072|97984072||A, HGVS:NC_000004.11:g.98905223_98905224insA]                                     |[biolink:Entity, biolink:ThingWithTaxon, biolink:BiologicalEntity, biolink:SequenceVariant, biolink:NamedThing, biolink:OntologyClass, biolink:PhysicalEssence, biolink:PhysicalEssenceOrOccurrent, biolink:GenomicEntity]|[NULL]      |[[biolink:Entity, biolink:ThingWithTaxon, biolink:BiologicalEntity, biolink:SequenceVariant, biolink:NamedThing, biolink:OntologyClass, biolink:PhysicalEssence, biolink:PhysicalEssenceOrOccurrent, biolink:GenomicEntity]]|NULL                             |[robokop]           |\n",
      "|CAID:CA101696171 |rs35540192 |biolink:GenomicEntity|NULL       |[HGVS:NC_000004.11:g.95173714_95173719del, ROBO_VARIANT:HG38|4|94252562|94252568|CTTTAT|, HGVS:CM000666.2:g.94252563_94252568del, CAID:CA101696171, DBSNP:rs35540192, HGVS:NG_031945.1:g.49956_49961del, HGVS:CM000666.1:g.95173714_95173719del, HGVS:NC_000004.10:g.95392737_95392742del, HGVS:NC_000004.12:g.94252563_94252568del]  |[biolink:Entity, biolink:ThingWithTaxon, biolink:BiologicalEntity, biolink:SequenceVariant, biolink:NamedThing, biolink:OntologyClass, biolink:PhysicalEssence, biolink:PhysicalEssenceOrOccurrent, biolink:GenomicEntity]|[NULL]      |[[biolink:Entity, biolink:ThingWithTaxon, biolink:BiologicalEntity, biolink:SequenceVariant, biolink:NamedThing, biolink:OntologyClass, biolink:PhysicalEssence, biolink:PhysicalEssenceOrOccurrent, biolink:GenomicEntity]]|NULL                             |[robokop]           |\n",
      "|CAID:CA1017110552|rs6059844  |biolink:GenomicEntity|NULL       |[HGVS:LRG_354:g.90421A>T, HGVS:NC_000020.9:g.32500143A>T, HGVS:CM000682.1:g.33036482A>T, HGVS:CM000682.2:g.34448677A>T, CAID:CA1017110552, HGVS:NC_000020.11:g.34448677A>T, ROBO_VARIANT:HG38|20|34448676|34448677|A|T, HGVS:NC_000020.10:g.33036482A>T, HGVS:NG_023206.1:g.90421A>T, DBSNP:rs6059844]                                |[biolink:Entity, biolink:ThingWithTaxon, biolink:BiologicalEntity, biolink:SequenceVariant, biolink:NamedThing, biolink:OntologyClass, biolink:PhysicalEssence, biolink:PhysicalEssenceOrOccurrent, biolink:GenomicEntity]|[NULL]      |[[biolink:Entity, biolink:ThingWithTaxon, biolink:BiologicalEntity, biolink:SequenceVariant, biolink:NamedThing, biolink:OntologyClass, biolink:PhysicalEssence, biolink:PhysicalEssenceOrOccurrent, biolink:GenomicEntity]]|NULL                             |[robokop]           |\n",
      "|CAID:CA101718797 |rs2081621  |biolink:GenomicEntity|NULL       |[HGVS:NC_000004.10:g.99145776C>A, HGVS:NC_000004.11:g.98926753C>A, HGVS:CM000666.1:g.98926753C>A, ROBO_VARIANT:HG38|4|98005601|98005602|C|A, HGVS:CM000666.2:g.98005602C>A, CAID:CA101718797, DBSNP:rs2081621, HGVS:NC_000004.12:g.98005602C>A]                                                                                       |[biolink:Entity, biolink:ThingWithTaxon, biolink:BiologicalEntity, biolink:SequenceVariant, biolink:NamedThing, biolink:OntologyClass, biolink:PhysicalEssence, biolink:PhysicalEssenceOrOccurrent, biolink:GenomicEntity]|[NULL]      |[[biolink:Entity, biolink:ThingWithTaxon, biolink:BiologicalEntity, biolink:SequenceVariant, biolink:NamedThing, biolink:OntologyClass, biolink:PhysicalEssence, biolink:PhysicalEssenceOrOccurrent, biolink:GenomicEntity]]|NULL                             |[robokop]           |\n",
      "|CAID:CA101742888 |rs77139725 |biolink:GenomicEntity|NULL       |[HGVS:CM000666.2:g.98102424C>A, HGVS:NC_000004.11:g.99023575C>A, DBSNP:rs77139725, CAID:CA101742888, ROBO_VARIANT:HG38|4|98102423|98102424|C|A, HGVS:CM000666.1:g.99023575C>A, HGVS:NC_000004.12:g.98102424C>A, HGVS:NC_000004.10:g.99242598C>A]                                                                                      |[biolink:Entity, biolink:ThingWithTaxon, biolink:BiologicalEntity, biolink:SequenceVariant, biolink:NamedThing, biolink:OntologyClass, biolink:PhysicalEssence, biolink:PhysicalEssenceOrOccurrent, biolink:GenomicEntity]|[NULL]      |[[biolink:Entity, biolink:ThingWithTaxon, biolink:BiologicalEntity, biolink:SequenceVariant, biolink:NamedThing, biolink:OntologyClass, biolink:PhysicalEssence, biolink:PhysicalEssenceOrOccurrent, biolink:GenomicEntity]]|NULL                             |[robokop]           |\n",
      "|CAID:CA101743386 |rs34005204 |biolink:GenomicEntity|NULL       |[HGVS:NC_000004.10:g.99247746dup, HGVS:CM000666.2:g.98107572dup, DBSNP:rs34005204, HGVS:CM000666.1:g.99028723dup, HGVS:NC_000004.11:g.99028723dup, ROBO_VARIANT:HG38|4|98107572|98107572||G, CAID:CA101743386, HGVS:NC_000004.12:g.98107572dup]                                                                                       |[biolink:Entity, biolink:ThingWithTaxon, biolink:BiologicalEntity, biolink:SequenceVariant, biolink:NamedThing, biolink:OntologyClass, biolink:PhysicalEssence, biolink:PhysicalEssenceOrOccurrent, biolink:GenomicEntity]|[NULL]      |[[biolink:Entity, biolink:ThingWithTaxon, biolink:BiologicalEntity, biolink:SequenceVariant, biolink:NamedThing, biolink:OntologyClass, biolink:PhysicalEssence, biolink:PhysicalEssenceOrOccurrent, biolink:GenomicEntity]]|NULL                             |[robokop]           |\n",
      "|CAID:CA101772138 |rs4699336  |biolink:GenomicEntity|NULL       |[CAID:CA101772138, HGVS:CM000666.2:g.98239031C>T, HGVS:NC_000004.10:g.99379205C>T, HGVS:NC_000004.12:g.98239031C>T, HGVS:CM000666.1:g.99160182C>T, DBSNP:rs4699336, HGVS:NC_000004.11:g.99160182C>T, ROBO_VARIANT:HG38|4|98239030|98239031|C|T]                                                                                       |[biolink:Entity, biolink:ThingWithTaxon, biolink:BiologicalEntity, biolink:SequenceVariant, biolink:NamedThing, biolink:OntologyClass, biolink:PhysicalEssence, biolink:PhysicalEssenceOrOccurrent, biolink:GenomicEntity]|[NULL]      |[[biolink:Entity, biolink:ThingWithTaxon, biolink:BiologicalEntity, biolink:SequenceVariant, biolink:NamedThing, biolink:OntologyClass, biolink:PhysicalEssence, biolink:PhysicalEssenceOrOccurrent, biolink:GenomicEntity]]|NULL                             |[robokop]           |\n",
      "|CAID:CA1017991920|rs4809604  |biolink:GenomicEntity|NULL       |[HGVS:NG_011673.2:g.31981T>A, HGVS:NC_000020.10:g.45550489T>A, HGVS:NC_000020.9:g.44983896T>A, HGVS:CM000682.1:g.45550489T>A, HGVS:NG_011673.1:g.31981T>A, HGVS:NC_000020.11:g.46921850T>A, CAID:CA1017991920, DBSNP:rs4809604, HGVS:CM000682.2:g.46921850T>A, ROBO_VARIANT:HG38|20|46921849|46921850|T|A]                            |[biolink:Entity, biolink:ThingWithTaxon, biolink:BiologicalEntity, biolink:SequenceVariant, biolink:NamedThing, biolink:OntologyClass, biolink:PhysicalEssence, biolink:PhysicalEssenceOrOccurrent, biolink:GenomicEntity]|[NULL]      |[[biolink:Entity, biolink:ThingWithTaxon, biolink:BiologicalEntity, biolink:SequenceVariant, biolink:NamedThing, biolink:OntologyClass, biolink:PhysicalEssence, biolink:PhysicalEssenceOrOccurrent, biolink:GenomicEntity]]|NULL                             |[robokop]           |\n",
      "|CAID:CA101842950 |rs138173373|biolink:GenomicEntity|NULL       |[CAID:CA101842950, HGVS:NC_000004.10:g.99864963T>C, DBSNP:rs138173373, HGVS:CM000666.2:g.98724789T>C, HGVS:NC_000004.11:g.99645940T>C, HGVS:NC_000004.12:g.98724789T>C, ROBO_VARIANT:HG38|4|98724788|98724789|T|C, HGVS:CM000666.1:g.99645940T>C]                                                                                     |[biolink:Entity, biolink:ThingWithTaxon, biolink:BiologicalEntity, biolink:SequenceVariant, biolink:NamedThing, biolink:OntologyClass, biolink:PhysicalEssence, biolink:PhysicalEssenceOrOccurrent, biolink:GenomicEntity]|[NULL]      |[[biolink:Entity, biolink:ThingWithTaxon, biolink:BiologicalEntity, biolink:SequenceVariant, biolink:NamedThing, biolink:OntologyClass, biolink:PhysicalEssence, biolink:PhysicalEssenceOrOccurrent, biolink:GenomicEntity]]|NULL                             |[robokop]           |\n",
      "|CAID:CA1018945732|rs259990   |biolink:GenomicEntity|NULL       |[HGVS:NC_000020.11:g.59153834A>G, HGVS:CM000682.2:g.59153834A>G, HGVS:NC_000020.9:g.57162284A>G, HGVS:CM000682.1:g.57728889A>G, CAID:CA1018945732, ROBO_VARIANT:HG38|20|59153833|59153834|A|G, DBSNP:rs259990, HGVS:NC_000020.10:g.57728889A>G]                                                                                       |[biolink:Entity, biolink:ThingWithTaxon, biolink:BiologicalEntity, biolink:SequenceVariant, biolink:NamedThing, biolink:OntologyClass, biolink:PhysicalEssence, biolink:PhysicalEssenceOrOccurrent, biolink:GenomicEntity]|[NULL]      |[[biolink:Entity, biolink:ThingWithTaxon, biolink:BiologicalEntity, biolink:SequenceVariant, biolink:NamedThing, biolink:OntologyClass, biolink:PhysicalEssence, biolink:PhysicalEssenceOrOccurrent, biolink:GenomicEntity]]|NULL                             |[robokop]           |\n",
      "|CAID:CA101900956 |rs2213044  |biolink:GenomicEntity|NULL       |[ROBO_VARIANT:HG38|4|98974765|98974766|T|C, DBSNP:rs2213044, HGVS:NC_000004.12:g.98974766T>C, HGVS:NC_000004.10:g.100114940T>C, HGVS:CM000666.1:g.99895917T>C, CAID:CA101900956, HGVS:NC_000004.11:g.99895917T>C, HGVS:CM000666.2:g.98974766T>C]                                                                                      |[biolink:Entity, biolink:ThingWithTaxon, biolink:BiologicalEntity, biolink:SequenceVariant, biolink:NamedThing, biolink:OntologyClass, biolink:PhysicalEssence, biolink:PhysicalEssenceOrOccurrent, biolink:GenomicEntity]|[NULL]      |[[biolink:Entity, biolink:ThingWithTaxon, biolink:BiologicalEntity, biolink:SequenceVariant, biolink:NamedThing, biolink:OntologyClass, biolink:PhysicalEssence, biolink:PhysicalEssenceOrOccurrent, biolink:GenomicEntity]]|NULL                             |[robokop]           |\n",
      "|CAID:CA101901186 |rs115697119|biolink:GenomicEntity|NULL       |[HGVS:NC_000004.11:g.99898118G>A, HGVS:CM000666.2:g.98976967G>A, CAID:CA101901186, ROBO_VARIANT:HG38|4|98976966|98976967|G|A, HGVS:NC_000004.12:g.98976967G>A, HGVS:NC_000004.10:g.100117141G>A, DBSNP:rs115697119, HGVS:CM000666.1:g.99898118G>A]                                                                                    |[biolink:Entity, biolink:ThingWithTaxon, biolink:BiologicalEntity, biolink:SequenceVariant, biolink:NamedThing, biolink:OntologyClass, biolink:PhysicalEssence, biolink:PhysicalEssenceOrOccurrent, biolink:GenomicEntity]|[NULL]      |[[biolink:Entity, biolink:ThingWithTaxon, biolink:BiologicalEntity, biolink:SequenceVariant, biolink:NamedThing, biolink:OntologyClass, biolink:PhysicalEssence, biolink:PhysicalEssenceOrOccurrent, biolink:GenomicEntity]]|NULL                             |[robokop]           |\n",
      "|CAID:CA101905062 |rs62323251 |biolink:GenomicEntity|NULL       |[HGVS:NC_000004.12:g.99011746C>T, HGVS:NC_000004.11:g.99932897C>T, HGVS:NC_000004.10:g.100151920C>T, CAID:CA101905062, ROBO_VARIANT:HG38|4|99011745|99011746|C|T, HGVS:CM000666.2:g.99011746C>T, DBSNP:rs62323251, HGVS:CM000666.1:g.99932897C>T]                                                                                     |[biolink:Entity, biolink:ThingWithTaxon, biolink:BiologicalEntity, biolink:SequenceVariant, biolink:NamedThing, biolink:OntologyClass, biolink:PhysicalEssence, biolink:PhysicalEssenceOrOccurrent, biolink:GenomicEntity]|[NULL]      |[[biolink:Entity, biolink:ThingWithTaxon, biolink:BiologicalEntity, biolink:SequenceVariant, biolink:NamedThing, biolink:OntologyClass, biolink:PhysicalEssence, biolink:PhysicalEssenceOrOccurrent, biolink:GenomicEntity]]|NULL                             |[robokop]           |\n",
      "|CAID:CA101907403 |rs62325190 |biolink:GenomicEntity|NULL       |[CAID:CA101907403, DBSNP:rs62325190, HGVS:NC_000004.11:g.99953342A>G, HGVS:NC_000004.12:g.99032191A>G, HGVS:CM000666.1:g.99953342A>G, HGVS:CM000666.2:g.99032191A>G, HGVS:NC_000004.10:g.100172365A>G, ROBO_VARIANT:HG38|4|99032190|99032191|A|G]                                                                                     |[biolink:Entity, biolink:ThingWithTaxon, biolink:BiologicalEntity, biolink:SequenceVariant, biolink:NamedThing, biolink:OntologyClass, biolink:PhysicalEssence, biolink:PhysicalEssenceOrOccurrent, biolink:GenomicEntity]|[NULL]      |[[biolink:Entity, biolink:ThingWithTaxon, biolink:BiologicalEntity, biolink:SequenceVariant, biolink:NamedThing, biolink:OntologyClass, biolink:PhysicalEssence, biolink:PhysicalEssenceOrOccurrent, biolink:GenomicEntity]]|NULL                             |[robokop]           |\n",
      "|CAID:CA10199332  |rs2294208  |biolink:GenomicEntity|NULL       |[HGVS:NC_000022.9:g.30951619C>T, CAID:CA10199332, HGVS:CM000684.1:g.32621619C>T, ROBO_VARIANT:HG38|22|32225631|32225632|C|T, HGVS:NC_000022.10:g.32621619C>T, DBSNP:rs2294208, HGVS:NC_000022.11:g.32225632C>T, HGVS:CM000684.2:g.32225632C>T]                                                                                        |[biolink:Entity, biolink:ThingWithTaxon, biolink:BiologicalEntity, biolink:SequenceVariant, biolink:NamedThing, biolink:OntologyClass, biolink:PhysicalEssence, biolink:PhysicalEssenceOrOccurrent, biolink:GenomicEntity]|[NULL]      |[[biolink:Entity, biolink:ThingWithTaxon, biolink:BiologicalEntity, biolink:SequenceVariant, biolink:NamedThing, biolink:OntologyClass, biolink:PhysicalEssence, biolink:PhysicalEssenceOrOccurrent, biolink:GenomicEntity]]|NULL                             |[robokop]           |\n",
      "+-----------------+-----------+---------------------+-----------+--------------------------------------------------------------------------------------------------------------------------------------------------------------------------------------------------------------------------------------------------------------------------------------------------------------------------------------+--------------------------------------------------------------------------------------------------------------------------------------------------------------------------------------------------------------------------+------------+----------------------------------------------------------------------------------------------------------------------------------------------------------------------------------------------------------------------------+---------------------------------+--------------------+\n",
      "only showing top 100 rows\n",
      "\n"
     ]
    }
   ],
   "source": [
    "# nodes_in_robo.filter(f.col(\"category\") == \"biolink:NamedThing\").show(100, truncate=False)\n",
    "nodes_in_robo.show(100, truncate=False)"
   ]
  },
  {
   "cell_type": "code",
   "execution_count": 8,
   "metadata": {},
   "outputs": [
    {
     "name": "stdout",
     "output_type": "stream",
     "text": [
      "root\n",
      " |-- id: string (nullable = true)\n",
      " |-- name: string (nullable = true)\n",
      " |-- category: string (nullable = true)\n",
      " |-- description: string (nullable = true)\n",
      " |-- equivalent_identifiers: array (nullable = true)\n",
      " |    |-- element: string (containsNull = true)\n",
      " |-- all_categories: array (nullable = true)\n",
      " |    |-- element: string (containsNull = true)\n",
      " |-- publications: array (nullable = true)\n",
      " |    |-- element: string (containsNull = true)\n",
      " |-- labels: array (nullable = true)\n",
      " |    |-- element: string (containsNull = true)\n",
      " |-- international_resource_identifier: string (nullable = true)\n",
      " |-- upstream_data_source: array (nullable = true)\n",
      " |    |-- element: string (containsNull = true)\n",
      "\n"
     ]
    }
   ],
   "source": [
    "unified_nodes.printSchema()"
   ]
  },
  {
   "cell_type": "code",
   "execution_count": 12,
   "metadata": {},
   "outputs": [
    {
     "name": "stdout",
     "output_type": "stream",
     "text": [
      "+-----------------+-----------+---------------------+-----------+--------------------------------------------------------------------------------------------------------------------------------------------------------------------------------------------------------------------------------------------------------------------------------------------------------------------------------------+--------------------------------------------------------------------------------------------------------------------------------------------------------------------------------------------------------------------------+------------+----------------------------------------------------------------------------------------------------------------------------------------------------------------------------------------------------------------------------+---------------------------------+--------------------+\n",
      "|id               |name       |category             |description|equivalent_identifiers                                                                                                                                                                                                                                                                                                                |all_categories                                                                                                                                                                                                            |publications|labels                                                                                                                                                                                                                      |international_resource_identifier|upstream_data_source|\n",
      "+-----------------+-----------+---------------------+-----------+--------------------------------------------------------------------------------------------------------------------------------------------------------------------------------------------------------------------------------------------------------------------------------------------------------------------------------------+--------------------------------------------------------------------------------------------------------------------------------------------------------------------------------------------------------------------------+------------+----------------------------------------------------------------------------------------------------------------------------------------------------------------------------------------------------------------------------+---------------------------------+--------------------+\n",
      "|CAID:CA023932    |rs45613041 |biolink:GenomicEntity|NULL       |[CLINVARVARIANT:133019, HGVS:NC_000019.9:g.39034051T>A, DBSNP:rs45613041, HGVS:CM000681.2:g.38543411T>A, HGVS:CM000681.1:g.39034051T>A, HGVS:NG_008866.1:g.114712T>A, CAID:CA023932, ROBO_VARIANT:HG38|19|38543410|38543411|T|A, HGVS:LRG_766:g.114712T>A, HGVS:NC_000019.8:g.43725891T>A, HGVS:NC_000019.10:g.38543411T>A]           |[biolink:Entity, biolink:ThingWithTaxon, biolink:BiologicalEntity, biolink:SequenceVariant, biolink:NamedThing, biolink:OntologyClass, biolink:PhysicalEssence, biolink:PhysicalEssenceOrOccurrent, biolink:GenomicEntity]|[NULL]      |[[biolink:Entity, biolink:ThingWithTaxon, biolink:BiologicalEntity, biolink:SequenceVariant, biolink:NamedThing, biolink:OntologyClass, biolink:PhysicalEssence, biolink:PhysicalEssenceOrOccurrent, biolink:GenomicEntity]]|NULL                             |[robokop]           |\n",
      "|CAID:CA1000036952|rs573552880|biolink:GenomicEntity|NULL       |[HGVS:NC_000001.10:g.29232341_29232347del, HGVS:NC_000001.9:g.29104928_29104934del, CAID:CA1000036952, DBSNP:rs573552880, HGVS:CM000663.2:g.28905829_28905835del, HGVS:CM000663.1:g.29232341_29232347del, HGVS:NG_013344.1:g.23739_23745del, HGVS:NC_000001.11:g.28905829_28905835del, ROBO_VARIANT:HG38|1|28905828|28905835|TTTTTTT|]|[biolink:Entity, biolink:ThingWithTaxon, biolink:BiologicalEntity, biolink:SequenceVariant, biolink:NamedThing, biolink:OntologyClass, biolink:PhysicalEssence, biolink:PhysicalEssenceOrOccurrent, biolink:GenomicEntity]|[NULL]      |[[biolink:Entity, biolink:ThingWithTaxon, biolink:BiologicalEntity, biolink:SequenceVariant, biolink:NamedThing, biolink:OntologyClass, biolink:PhysicalEssence, biolink:PhysicalEssenceOrOccurrent, biolink:GenomicEntity]]|NULL                             |[robokop]           |\n",
      "|CAID:CA100004521 |rs72862602 |biolink:GenomicEntity|NULL       |[HGVS:NC_000004.12:g.78967196T>G, HGVS:CM000666.1:g.79888350T>G, ROBO_VARIANT:HG38|4|78967195|78967196|T|G, DBSNP:rs72862602, HGVS:NC_000004.10:g.80107374T>G, HGVS:CM000666.2:g.78967196T>G, CAID:CA100004521, HGVS:NC_000004.11:g.79888350T>G]                                                                                      |[biolink:Entity, biolink:ThingWithTaxon, biolink:BiologicalEntity, biolink:SequenceVariant, biolink:NamedThing, biolink:OntologyClass, biolink:PhysicalEssence, biolink:PhysicalEssenceOrOccurrent, biolink:GenomicEntity]|[NULL]      |[[biolink:Entity, biolink:ThingWithTaxon, biolink:BiologicalEntity, biolink:SequenceVariant, biolink:NamedThing, biolink:OntologyClass, biolink:PhysicalEssence, biolink:PhysicalEssenceOrOccurrent, biolink:GenomicEntity]]|NULL                             |[robokop]           |\n",
      "|CAID:CA100007258 |rs13138361 |biolink:GenomicEntity|NULL       |[HGVS:CM000666.2:g.81029501A>G, HGVS:NC_000004.12:g.81029501A>G, ROBO_VARIANT:HG38|4|81029500|81029501|A|G, DBSNP:rs13138361, CAID:CA100007258, HGVS:NC_000004.10:g.82169679A>G, HGVS:CM000666.1:g.81950655A>G, HGVS:NC_000004.11:g.81950655A>G]                                                                                      |[biolink:Entity, biolink:ThingWithTaxon, biolink:BiologicalEntity, biolink:SequenceVariant, biolink:NamedThing, biolink:OntologyClass, biolink:PhysicalEssence, biolink:PhysicalEssenceOrOccurrent, biolink:GenomicEntity]|[NULL]      |[[biolink:Entity, biolink:ThingWithTaxon, biolink:BiologicalEntity, biolink:SequenceVariant, biolink:NamedThing, biolink:OntologyClass, biolink:PhysicalEssence, biolink:PhysicalEssenceOrOccurrent, biolink:GenomicEntity]]|NULL                             |[robokop]           |\n",
      "|CAID:CA100009968 |rs79958239 |biolink:GenomicEntity|NULL       |[CAID:CA100009968, HGVS:NC_000004.10:g.80114762G>A, HGVS:CM000666.2:g.78974584G>A, HGVS:CM000666.1:g.79895738G>A, HGVS:NC_000004.12:g.78974584G>A, DBSNP:rs79958239, ROBO_VARIANT:HG38|4|78974583|78974584|G|A, HGVS:NC_000004.11:g.79895738G>A]                                                                                      |[biolink:Entity, biolink:ThingWithTaxon, biolink:BiologicalEntity, biolink:SequenceVariant, biolink:NamedThing, biolink:OntologyClass, biolink:PhysicalEssence, biolink:PhysicalEssenceOrOccurrent, biolink:GenomicEntity]|[NULL]      |[[biolink:Entity, biolink:ThingWithTaxon, biolink:BiologicalEntity, biolink:SequenceVariant, biolink:NamedThing, biolink:OntologyClass, biolink:PhysicalEssence, biolink:PhysicalEssenceOrOccurrent, biolink:GenomicEntity]]|NULL                             |[robokop]           |\n",
      "|CAID:CA100010344 |rs2867496  |biolink:GenomicEntity|NULL       |[HGVS:NC_000004.10:g.80062721A>G, HGVS:CM000666.2:g.78922543A>G, HGVS:NC_000004.11:g.79843697A>G, CAID:CA100010344, HGVS:NC_000004.12:g.78922543A>G, HGVS:CM000666.1:g.79843697A>G, DBSNP:rs2867496, ROBO_VARIANT:HG38|4|78922542|78922543|A|G, HGVS:NG_053104.1:g.21896T>C]                                                          |[biolink:Entity, biolink:ThingWithTaxon, biolink:BiologicalEntity, biolink:SequenceVariant, biolink:NamedThing, biolink:OntologyClass, biolink:PhysicalEssence, biolink:PhysicalEssenceOrOccurrent, biolink:GenomicEntity]|[NULL]      |[[biolink:Entity, biolink:ThingWithTaxon, biolink:BiologicalEntity, biolink:SequenceVariant, biolink:NamedThing, biolink:OntologyClass, biolink:PhysicalEssence, biolink:PhysicalEssenceOrOccurrent, biolink:GenomicEntity]]|NULL                             |[robokop]           |\n",
      "|CAID:CA100014429 |rs34042179 |biolink:GenomicEntity|NULL       |[HGVS:CM000666.2:g.81037196G>C, HGVS:CM000666.1:g.81958350G>C, CAID:CA100014429, HGVS:NC_000004.12:g.81037196G>C, HGVS:NC_000004.10:g.82177374G>C, DBSNP:rs34042179, HGVS:NC_000004.11:g.81958350G>C, ROBO_VARIANT:HG38|4|81037195|81037196|G|C]                                                                                      |[biolink:Entity, biolink:ThingWithTaxon, biolink:BiologicalEntity, biolink:SequenceVariant, biolink:NamedThing, biolink:OntologyClass, biolink:PhysicalEssence, biolink:PhysicalEssenceOrOccurrent, biolink:GenomicEntity]|[NULL]      |[[biolink:Entity, biolink:ThingWithTaxon, biolink:BiologicalEntity, biolink:SequenceVariant, biolink:NamedThing, biolink:OntologyClass, biolink:PhysicalEssence, biolink:PhysicalEssenceOrOccurrent, biolink:GenomicEntity]]|NULL                             |[robokop]           |\n",
      "|CAID:CA10005548  |rs2834158  |biolink:GenomicEntity|NULL       |[HGVS:NC_000021.8:g.34617213T>C, CAID:CA10005548, HGVS:NC_000021.7:g.33539083T>C, DBSNP:rs2834158, HGVS:NG_016003.1:g.19983T>C, ROBO_VARIANT:HG38|21|33244907|33244908|T|C, HGVS:CM000683.2:g.33244908T>C, HGVS:CM000683.1:g.34617213T>C, HGVS:NC_000021.9:g.33244908T>C, HGVS:NG_016003.2:g.19983T>C, CLINVARVARIANT:1684582]        |[biolink:Entity, biolink:ThingWithTaxon, biolink:BiologicalEntity, biolink:SequenceVariant, biolink:NamedThing, biolink:OntologyClass, biolink:PhysicalEssence, biolink:PhysicalEssenceOrOccurrent, biolink:GenomicEntity]|[NULL]      |[[biolink:Entity, biolink:ThingWithTaxon, biolink:BiologicalEntity, biolink:SequenceVariant, biolink:NamedThing, biolink:OntologyClass, biolink:PhysicalEssence, biolink:PhysicalEssenceOrOccurrent, biolink:GenomicEntity]]|NULL                             |[robokop]           |\n",
      "|CAID:CA1000591930|rs200972810|biolink:GenomicEntity|NULL       |[HGVS:CM000663.1:g.36857591_36857607dup, HGVS:NC_000001.11:g.36391990_36392006dup, CAID:CA1000591930, HGVS:NC_000001.9:g.36630178_36630194dup, DBSNP:rs200972810, HGVS:NC_000001.10:g.36857591_36857607dup, ROBO_VARIANT:HG38|1|36392006|36392006||TTTTTTTTTTTTTTTTT, HGVS:CM000663.2:g.36391990_36392006dup]                         |[biolink:Entity, biolink:ThingWithTaxon, biolink:BiologicalEntity, biolink:SequenceVariant, biolink:NamedThing, biolink:OntologyClass, biolink:PhysicalEssence, biolink:PhysicalEssenceOrOccurrent, biolink:GenomicEntity]|[NULL]      |[[biolink:Entity, biolink:ThingWithTaxon, biolink:BiologicalEntity, biolink:SequenceVariant, biolink:NamedThing, biolink:OntologyClass, biolink:PhysicalEssence, biolink:PhysicalEssenceOrOccurrent, biolink:GenomicEntity]]|NULL                             |[robokop]           |\n",
      "|CAID:CA10011128  |rs75101644 |biolink:GenomicEntity|NULL       |[HGVS:NC_000021.9:g.33641201C>T, HGVS:CM000683.1:g.35013507C>T, HGVS:NC_000021.8:g.35013507C>T, HGVS:CM000683.2:g.33641201C>T, DBSNP:rs75101644, HGVS:NG_029504.1:g.3724C>T, HGVS:NC_000021.7:g.33935377C>T, ROBO_VARIANT:HG38|21|33641200|33641201|C|T, CAID:CA10011128]                                                             |[biolink:Entity, biolink:ThingWithTaxon, biolink:BiologicalEntity, biolink:SequenceVariant, biolink:NamedThing, biolink:OntologyClass, biolink:PhysicalEssence, biolink:PhysicalEssenceOrOccurrent, biolink:GenomicEntity]|[NULL]      |[[biolink:Entity, biolink:ThingWithTaxon, biolink:BiologicalEntity, biolink:SequenceVariant, biolink:NamedThing, biolink:OntologyClass, biolink:PhysicalEssence, biolink:PhysicalEssenceOrOccurrent, biolink:GenomicEntity]]|NULL                             |[robokop]           |\n",
      "+-----------------+-----------+---------------------+-----------+--------------------------------------------------------------------------------------------------------------------------------------------------------------------------------------------------------------------------------------------------------------------------------------------------------------------------------------+--------------------------------------------------------------------------------------------------------------------------------------------------------------------------------------------------------------------------+------------+----------------------------------------------------------------------------------------------------------------------------------------------------------------------------------------------------------------------------+---------------------------------+--------------------+\n",
      "only showing top 10 rows\n",
      "\n"
     ]
    }
   ],
   "source": [
    "unified_nodes.filter(f.array_contains(f.col(\"upstream_data_source\"), \"robokop\")).show(10, truncate=False)"
   ]
  },
  {
   "cell_type": "code",
   "execution_count": null,
   "metadata": {},
   "outputs": [],
   "source": []
  }
 ],
 "metadata": {
  "kernelspec": {
   "display_name": "Python 3 (ipykernel)",
   "language": "python",
   "name": "python3"
  },
  "language_info": {
   "codemirror_mode": {
    "name": "ipython",
    "version": 3
   },
   "file_extension": ".py",
   "mimetype": "text/x-python",
   "name": "python",
   "nbconvert_exporter": "python",
   "pygments_lexer": "ipython3",
   "version": "3.11.9"
  }
 },
 "nbformat": 4,
 "nbformat_minor": 4
}
