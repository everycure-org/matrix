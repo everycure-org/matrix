{
 "cells": [
  {
   "cell_type": "markdown",
   "metadata": {},
   "source": [
    "# Merging RTX and Robokop\n",
    "\n",
    "This notebook summarizes our results when merging RTX and Robokop. using Translators Node Normalization.\n",
    "For this we downloaded RTX KG2 v2.7.3 and Robo `c5ec1f282158182f`\n",
    "\n",
    "\n",
    "## Summary\n",
    "\n",
    "TODO\n",
    "\n",
    "## Questions\n",
    "\n",
    "- How many nodes are merged? %\n",
    "- How many edges are merged? %\n",
    "- What are example edges that are not merged, why not?\n",
    "- How do the triplets differ across the KGs and for the part that is merged across KGs\n",
    "\n"
   ]
  },
  {
   "cell_type": "code",
   "execution_count": 38,
   "metadata": {},
   "outputs": [],
   "source": [
    "%%capture\n",
    "# Import dependencies\n",
    "import pyspark as ps\n",
    "import os\n",
    "from pathlib import Path\n",
    "import subprocess\n",
    "import pyspark.sql.functions as f\n",
    "\n",
    "import pandas as pd\n",
    "\n",
    "# import spark \n",
    "%load_ext autoreload\n",
    "%autoreload 2\n",
    "from rich.console import Console\n",
    "from rich.logging import RichHandler\n",
    "from rich.panel import Panel\n",
    "from rich.rule import Rule\n",
    "console = Console()\n",
    "\n",
    "# hack that moves this notebook context into the kedro path\n",
    "root_path = subprocess.check_output(['git', 'rev-parse', '--show-toplevel']).decode().strip()\n",
    "os.chdir(Path(root_path) / 'pipelines' / 'matrix')\n",
    "\n",
    "# this loads various objects into the context, see \n",
    "# https://docs.kedro.org/en/stable/notebooks_and_ipython/kedro_and_notebooks.html#kedro-line-magics\n",
    "%load_ext kedro.ipython\n",
    "# %reload_kedro  --env cloud\n",
    "# %reload_kedro  --env test\n",
    "%reload_kedro\n"
   ]
  },
  {
   "cell_type": "code",
   "execution_count": 30,
   "metadata": {},
   "outputs": [],
   "source": [
    "def top_n(df, n: int = 20):\n",
    "    return df._jdf.showString(n,50, False)\n",
    "\n",
    "def wrap_show(df: ps.sql.DataFrame, title, n=20):\n",
    "    console.print(Panel.fit(top_n(df, n=n), title=title))"
   ]
  },
  {
   "cell_type": "code",
   "execution_count": 7,
   "metadata": {},
   "outputs": [],
   "source": [
    "%%capture\n",
    "unified_nodes = catalog.load(\"integration.prm.unified_nodes\")\n",
    "unified_edges = catalog.load(\"integration.prm.unified_edges\")\n",
    "robo_nodes = catalog.load(\"integration.int.robokop.nodes\")\n",
    "robo_edges = catalog.load(\"integration.int.robokop.edges\")\n",
    "rtx_nodes = catalog.load(\"integration.int.rtx.nodes\")\n",
    "rtx_edges = catalog.load(\"integration.int.rtx.edges\")\n",
    "robo_nodes_norm = catalog.load(\"integration.int.robokop.nodes.norm\")\n",
    "rtx_nodes_norm = catalog.load(\"integration.int.rtx.nodes.norm\")\n"
   ]
  },
  {
   "cell_type": "code",
   "execution_count": 32,
   "metadata": {},
   "outputs": [
    {
     "data": {
      "text/html": [
       "<pre style=\"white-space:pre;overflow-x:auto;line-height:normal;font-family:Menlo,'DejaVu Sans Mono',consolas,'Courier New',monospace\"><span style=\"color: #7fbfbf; text-decoration-color: #7fbfbf\">[10/09/24 09:38:33] </span><span style=\"color: #000080; text-decoration-color: #000080\">INFO    </span> Loading data from <span style=\"color: #ff8700; text-decoration-color: #ff8700\">integration.int.robokop.nodes.norm</span>               <a href=\"file:///Users/pascalwhoop/Code/everycure/matrix/pipelines/matrix/.venv/lib/python3.11/site-packages/kedro/io/data_catalog.py\" target=\"_blank\"><span style=\"color: #7f7f7f; text-decoration-color: #7f7f7f\">data_catalog.py</span></a><span style=\"color: #7f7f7f; text-decoration-color: #7f7f7f\">:</span><a href=\"file:///Users/pascalwhoop/Code/everycure/matrix/pipelines/matrix/.venv/lib/python3.11/site-packages/kedro/io/data_catalog.py#539\" target=\"_blank\"><span style=\"color: #7f7f7f; text-decoration-color: #7f7f7f\">539</span></a>\n",
       "<span style=\"color: #7fbfbf; text-decoration-color: #7fbfbf\">                    </span>         <span style=\"font-weight: bold\">(</span>LazySparkDataset<span style=\"font-weight: bold\">)</span><span style=\"color: #808000; text-decoration-color: #808000\">...</span>                                              <span style=\"color: #7f7f7f; text-decoration-color: #7f7f7f\">                   </span>\n",
       "</pre>\n"
      ],
      "text/plain": [
       "\u001b[2;36m[10/09/24 09:38:33]\u001b[0m\u001b[2;36m \u001b[0m\u001b[34mINFO    \u001b[0m Loading data from \u001b[38;5;208mintegration.int.robokop.nodes.norm\u001b[0m               \u001b]8;id=975884;file:///Users/pascalwhoop/Code/everycure/matrix/pipelines/matrix/.venv/lib/python3.11/site-packages/kedro/io/data_catalog.py\u001b\\\u001b[2mdata_catalog.py\u001b[0m\u001b]8;;\u001b\\\u001b[2m:\u001b[0m\u001b]8;id=628129;file:///Users/pascalwhoop/Code/everycure/matrix/pipelines/matrix/.venv/lib/python3.11/site-packages/kedro/io/data_catalog.py#539\u001b\\\u001b[2m539\u001b[0m\u001b]8;;\u001b\\\n",
       "\u001b[2;36m                    \u001b[0m         \u001b[1m(\u001b[0mLazySparkDataset\u001b[1m)\u001b[0m\u001b[33m...\u001b[0m                                              \u001b[2m                   \u001b[0m\n"
      ]
     },
     "metadata": {},
     "output_type": "display_data"
    },
    {
     "name": "stdout",
     "output_type": "stream",
     "text": [
      "+---------------------+-------+\n",
      "|normalization_success|  count|\n",
      "+---------------------+-------+\n",
      "|                 true|4630969|\n",
      "|                false|5117271|\n",
      "+---------------------+-------+\n",
      "\n"
     ]
    },
    {
     "data": {
      "text/html": [
       "<pre style=\"white-space:pre;overflow-x:auto;line-height:normal;font-family:Menlo,'DejaVu Sans Mono',consolas,'Courier New',monospace\"><span style=\"color: #7fbfbf; text-decoration-color: #7fbfbf\">[10/09/24 09:38:34] </span><span style=\"color: #000080; text-decoration-color: #000080\">INFO    </span> Loading data from <span style=\"color: #ff8700; text-decoration-color: #ff8700\">integration.int.rtx.nodes.norm</span>                   <a href=\"file:///Users/pascalwhoop/Code/everycure/matrix/pipelines/matrix/.venv/lib/python3.11/site-packages/kedro/io/data_catalog.py\" target=\"_blank\"><span style=\"color: #7f7f7f; text-decoration-color: #7f7f7f\">data_catalog.py</span></a><span style=\"color: #7f7f7f; text-decoration-color: #7f7f7f\">:</span><a href=\"file:///Users/pascalwhoop/Code/everycure/matrix/pipelines/matrix/.venv/lib/python3.11/site-packages/kedro/io/data_catalog.py#539\" target=\"_blank\"><span style=\"color: #7f7f7f; text-decoration-color: #7f7f7f\">539</span></a>\n",
       "<span style=\"color: #7fbfbf; text-decoration-color: #7fbfbf\">                    </span>         <span style=\"font-weight: bold\">(</span>LazySparkDataset<span style=\"font-weight: bold\">)</span><span style=\"color: #808000; text-decoration-color: #808000\">...</span>                                              <span style=\"color: #7f7f7f; text-decoration-color: #7f7f7f\">                   </span>\n",
       "</pre>\n"
      ],
      "text/plain": [
       "\u001b[2;36m[10/09/24 09:38:34]\u001b[0m\u001b[2;36m \u001b[0m\u001b[34mINFO    \u001b[0m Loading data from \u001b[38;5;208mintegration.int.rtx.nodes.norm\u001b[0m                   \u001b]8;id=27773;file:///Users/pascalwhoop/Code/everycure/matrix/pipelines/matrix/.venv/lib/python3.11/site-packages/kedro/io/data_catalog.py\u001b\\\u001b[2mdata_catalog.py\u001b[0m\u001b]8;;\u001b\\\u001b[2m:\u001b[0m\u001b]8;id=202071;file:///Users/pascalwhoop/Code/everycure/matrix/pipelines/matrix/.venv/lib/python3.11/site-packages/kedro/io/data_catalog.py#539\u001b\\\u001b[2m539\u001b[0m\u001b]8;;\u001b\\\n",
       "\u001b[2;36m                    \u001b[0m         \u001b[1m(\u001b[0mLazySparkDataset\u001b[1m)\u001b[0m\u001b[33m...\u001b[0m                                              \u001b[2m                   \u001b[0m\n"
      ]
     },
     "metadata": {},
     "output_type": "display_data"
    },
    {
     "name": "stdout",
     "output_type": "stream",
     "text": [
      "+---------------------+-------+\n",
      "|normalization_success|  count|\n",
      "+---------------------+-------+\n",
      "|                 true|1531882|\n",
      "|                false|2127804|\n",
      "+---------------------+-------+\n",
      "\n",
      "Robo normed success\n",
      "+------------+------------+---------------------+----------------------------------------------------------------------------------------------------------------------------------------------------------------------------------------------------------------------------------+\n",
      "|id          |original_id |normalization_success|name                                                                                                                                                                                                                              |\n",
      "+------------+------------+---------------------+----------------------------------------------------------------------------------------------------------------------------------------------------------------------------------------------------------------------------------+\n",
      "|CHEBI:103775|CHEBI:103775|true                 |1-[[(8S,9R)-6-[(2S)-1-hydroxypropan-2-yl]-8-methyl-5-oxo-10-oxa-1,6,14,15-tetrazabicyclo[10.3.0]pentadeca-12,14-dien-9-yl]methyl]-1-methyl-3-[3-(2-pyridinyloxy)phenyl]urea                                                       |\n",
      "|CHEBI:104430|CHEBI:104430|true                 |2-methoxy-N-[(4R,7R,8R)-8-methoxy-4,7,10-trimethyl-11-oxo-5-propyl-2-oxa-5,10-diazabicyclo[10.4.0]hexadeca-1(12),13,15-trien-14-yl]acetamide                                                                                      |\n",
      "|CHEBI:112336|CHEBI:112336|true                 |2-[[5-[(2,3-dimethylphenoxy)methyl]-4-methyl-1,2,4-triazol-3-yl]thio]-1-thiophen-2-ylethanone                                                                                                                                     |\n",
      "|CHEBI:114566|CHEBI:114566|true                 |2-imino-N,8-dimethyl-5-oxo-1-propan-2-yl-3-dipyrido[1,2-d:3',4'-f]pyrimidinecarboxamide                                                                                                                                           |\n",
      "|CHEBI:115037|CHEBI:115037|true                 |N-(4-fluorophenyl)-2-[(2-methyl-4-benzofuro[3,2-d]pyrimidinyl)thio]acetamide                                                                                                                                                      |\n",
      "|CHEBI:117569|CHEBI:117569|true                 |N-[(1R,3R,4aS,9aR)-1-(hydroxymethyl)-3-[2-oxo-2-(pyridin-4-ylmethylamino)ethyl]-3,4,4a,9a-tetrahydro-1H-pyrano[3,4-b]benzofuran-6-yl]-2-cyclopropylacetamide                                                                      |\n",
      "|CHEBI:119202|CHEBI:119202|true                 |LSM-30651                                                                                                                                                                                                                         |\n",
      "|CHEBI:119214|CHEBI:119214|true                 |LSM-30663                                                                                                                                                                                                                         |\n",
      "|CHEBI:119453|CHEBI:119453|true                 |LSM-30902                                                                                                                                                                                                                         |\n",
      "|CHEBI:120290|CHEBI:120290|true                 |3,5-dichloro-N-[2-[(2S,5R,6S)-6-(hydroxymethyl)-5-[[1-oxo-3-(1-piperidinyl)propyl]amino]-2-oxanyl]ethyl]benzamide                                                                                                                 |\n",
      "|CHEBI:124270|CHEBI:124270|true                 |3-cyclohexyl-1-[[(2R,3R)-5-[(2S)-1-hydroxypropan-2-yl]-8-[[(4-methoxyanilino)-oxomethyl]amino]-3-methyl-6-oxo-3,4-dihydro-2H-1,5-benzoxazocin-2-yl]methyl]-1-methylurea                                                           |\n",
      "|CHEBI:125273|CHEBI:125273|true                 |8-[2-[[5-(hydroxymethyl)-2-furanyl]methylidene]hydrazinyl]-8-oxooctanoic acid                                                                                                                                                     |\n",
      "|CHEBI:126580|CHEBI:126580|true                 |LSM-38144                                                                                                                                                                                                                         |\n",
      "|CHEBI:128038|CHEBI:128038|true                 |N-[[(3S,9S,10S)-16-[[[(3,5-dimethyl-4-isoxazolyl)amino]-oxomethyl]amino]-12-[(2S)-1-hydroxypropan-2-yl]-3,10-dimethyl-13-oxo-2,8-dioxa-12-azabicyclo[12.4.0]octadeca-1(14),15,17-trien-9-yl]methyl]-N-methylcyclohexanecarboxamide|\n",
      "|CHEBI:130765|CHEBI:130765|true                 |LSM-42314                                                                                                                                                                                                                         |\n",
      "|CHEBI:132577|CHEBI:132577|true                 |phosphatidylcholine 36:8                                                                                                                                                                                                          |\n",
      "|CHEBI:134096|CHEBI:134096|true                 |1,N(2)-ethenoguanine                                                                                                                                                                                                              |\n",
      "|CHEBI:135638|CHEBI:135638|true                 |oxyphenisatine acetate                                                                                                                                                                                                            |\n",
      "|CHEBI:139156|CHEBI:139156|true                 |(S,S)-bis-(2-oleoylglycero)-1-phosphate(1-)                                                                                                                                                                                       |\n",
      "|CHEBI:140949|CHEBI:140949|true                 |fatty acid 18:2                                                                                                                                                                                                                   |\n",
      "+------------+------------+---------------------+----------------------------------------------------------------------------------------------------------------------------------------------------------------------------------------------------------------------------------+\n",
      "only showing top 20 rows\n",
      "\n",
      "Robo normed success\n",
      "+-----------------+-----------------+---------------------+-----------+\n",
      "|id               |original_id      |normalization_success|name       |\n",
      "+-----------------+-----------------+---------------------+-----------+\n",
      "|CAID:CA100071531 |CAID:CA100071531 |false                |rs17242861 |\n",
      "|CAID:CA10035951  |CAID:CA10035951  |false                |rs2236694  |\n",
      "|CAID:CA100516319 |CAID:CA100516319 |false                |rs73831038 |\n",
      "|CAID:CA100516660 |CAID:CA100516660 |false                |rs80164016 |\n",
      "|CAID:CA10109071  |CAID:CA10109071  |false                |rs80226867 |\n",
      "|CAID:CA1010944226|CAID:CA1010944226|false                |rs10737693 |\n",
      "|CAID:CA101508352 |CAID:CA101508352 |false                |rs35510249 |\n",
      "|CAID:CA101881088 |CAID:CA101881088 |false                |rs7698463  |\n",
      "|CAID:CA102026671 |CAID:CA102026671 |false                |rs13103135 |\n",
      "|CAID:CA102223408 |CAID:CA102223408 |false                |rs753831938|\n",
      "|CAID:CA102353471 |CAID:CA102353471 |false                |rs7660776  |\n",
      "|CAID:CA102641453 |CAID:CA102641453 |false                |rs111536591|\n",
      "|CAID:CA102711294 |CAID:CA102711294 |false                |rs6821133  |\n",
      "|CAID:CA102809800 |CAID:CA102809800 |false                |rs72669998 |\n",
      "|CAID:CA103210936 |CAID:CA103210936 |false                |rs112259007|\n",
      "|CAID:CA103374168 |CAID:CA103374168 |false                |rs79658696 |\n",
      "|CAID:CA103582699 |CAID:CA103582699 |false                |rs111344984|\n",
      "|CAID:CA103626049 |CAID:CA103626049 |false                |rs79477649 |\n",
      "|CAID:CA1043863572|CAID:CA1043863572|false                |rs570662154|\n",
      "|CAID:CA104662760 |CAID:CA104662760 |false                |rs55646078 |\n",
      "+-----------------+-----------------+---------------------+-----------+\n",
      "only showing top 20 rows\n",
      "\n",
      "RTX normed success\n",
      "+------------+------------+---------------------+-----------------------------------------------------------------------------------------------------------------------------------------------------------------------------------------------------------------------------------------------------------------------------------------------------------------------------------------------------------------------------------------------------------------------------------------------------------------------------------------------------------------------------------------------------------------------------------------------------------------------------------------------------------------+\n",
      "|id          |original_id |normalization_success|name                                                                                                                                                                                                                                                                                                                                                                                                                                                                                                                                                                                                                                                             |\n",
      "+------------+------------+---------------------+-----------------------------------------------------------------------------------------------------------------------------------------------------------------------------------------------------------------------------------------------------------------------------------------------------------------------------------------------------------------------------------------------------------------------------------------------------------------------------------------------------------------------------------------------------------------------------------------------------------------------------------------------------------------+\n",
      "|CHEBI:100391|CHEBI:100391|true                 |N-[(2S,3R,6S)-2-(hydroxymethyl)-6-[2-oxo-2-(4-phenyl-1-piperazinyl)ethyl]-3,6-dihydro-2H-pyran-3-yl]-4-pyridinecarboxamide                                                                                                                                                                                                                                                                                                                                                                                                                                                                                                                                       |\n",
      "|CHEBI:100815|CHEBI:100815|true                 |2-[(3R,6aR,8R,10aR)-3-hydroxy-1-[(1-methyl-4-imidazolyl)sulfonyl]-3,4,6,6a,8,9,10,10a-octahydro-2H-pyrano[2,3-c][1,5]oxazocin-8-yl]-N-[(3-fluorophenyl)methyl]acetamide                                                                                                                                                                                                                                                                                                                                                                                                                                                                                          |\n",
      "|CHEBI:104808|CHEBI:104808|true                 |N-[(3R,9R,10R)-12-[(2R)-1-hydroxypropan-2-yl]-3,10-dimethyl-9-(methylaminomethyl)-13-oxo-2,8-dioxa-12-azabicyclo[12.4.0]octadeca-1(14),15,17-trien-16-yl]-4-pyridinecarboxamide                                                                                                                                                                                                                                                                                                                                                                                                                                                                                  |\n",
      "|CHEBI:114029|CHEBI:114029|true                 |(2S)-2-[(4S,5S)-8-(3-methoxyprop-1-ynyl)-4-methyl-5-(methylaminomethyl)-1,1-dioxo-4,5-dihydro-3H-6,1$l^{6},2-benzoxathiazocin-2-yl]-1-propanol                                                                                                                                                                                                                                                                                                                                                                                                                                                                                                                   |\n",
      "|CHEBI:115799|CHEBI:115799|true                 |4-fluoro-N-[(4S,7S,8S)-8-methoxy-4,5,7,10-tetramethyl-11-oxo-2-oxa-5,10-diazabicyclo[10.4.0]hexadeca-1(12),13,15-trien-14-yl]benzamide                                                                                                                                                                                                                                                                                                                                                                                                                                                                                                                           |\n",
      "|CHEBI:116837|CHEBI:116837|true                 |N-cycloheptyl-3-(2-quinoxalinyl)-2-propenamide                                                                                                                                                                                                                                                                                                                                                                                                                                                                                                                                                                                                                   |\n",
      "|CHEBI:124521|CHEBI:124521|true                 |N-[(2S,3R)-2-[[cyclohexylmethyl(methyl)amino]methyl]-5-[(2S)-1-hydroxypropan-2-yl]-3-methyl-6-oxo-3,4-dihydro-2H-1,5-benzoxazocin-10-yl]methanesulfonamide                                                                                                                                                                                                                                                                                                                                                                                                                                                                                                       |\n",
      "|CHEBI:125477|CHEBI:125477|true                 |N-(2-aminophenyl)-2-anilino-5-pyrimidinecarboxamide                                                                                                                                                                                                                                                                                                                                                                                                                                                                                                                                                                                                              |\n",
      "|CHEBI:129466|CHEBI:129466|true                 |N-[(3R,9R,10S)-12-[(2R)-1-hydroxypropan-2-yl]-9-[[[(4-methoxyanilino)-oxomethyl]-methylamino]methyl]-3,10-dimethyl-13-oxo-2,8-dioxa-12-azabicyclo[12.4.0]octadeca-1(14),15,17-trien-16-yl]cyclohexanecarboxamide                                                                                                                                                                                                                                                                                                                                                                                                                                                 |\n",
      "|CHEBI:130583|CHEBI:130583|true                 |(3R,6aS,8S,10aS)-8-[2-(cyclobutylamino)-2-oxoethyl]-N-(4-fluorophenyl)-3-hydroxy-3,4,6,6a,8,9,10,10a-octahydro-2H-pyrano[2,3-c][1,5]oxazocine-1-carboxamide                                                                                                                                                                                                                                                                                                                                                                                                                                                                                                      |\n",
      "|CHEBI:133766|CHEBI:133766|true                 |(S)-mefenpyr                                                                                                                                                                                                                                                                                                                                                                                                                                                                                                                                                                                                                                                     |\n",
      "|CHEBI:134661|CHEBI:134661|true                 |5(S),6(S)-epoxy-18(S)-hydroxy-(7E,9E,11Z,14Z,16E)-icosapentaenoate                                                                                                                                                                                                                                                                                                                                                                                                                                                                                                                                                                                               |\n",
      "|CHEBI:137782|CHEBI:137782|true                 |Prosafrinine                                                                                                                                                                                                                                                                                                                                                                                                                                                                                                                                                                                                                                                     |\n",
      "|CHEBI:139961|CHEBI:139961|true                 |bkos#9(1-)                                                                                                                                                                                                                                                                                                                                                                                                                                                                                                                                                                                                                                                       |\n",
      "|CHEBI:145289|CHEBI:145289|true                 |Pe(22:2(13z,16z)/0:0)                                                                                                                                                                                                                                                                                                                                                                                                                                                                                                                                                                                                                                            |\n",
      "|CHEBI:145309|CHEBI:145309|true                 |Tg(16:0/14:0/16:1)                                                                                                                                                                                                                                                                                                                                                                                                                                                                                                                                                                                                                                               |\n",
      "|CHEBI:146229|CHEBI:146229|true                 |?-L-Fucp-(1->?)-?-D-Galp-(1->?)-D-GlcNAc                                                                                                                                                                                                                                                                                                                                                                                                                                                                                                                                                                                                                         |\n",
      "|CHEBI:147321|CHEBI:147321|true                 |all-trans-hexaprenol                                                                                                                                                                                                                                                                                                                                                                                                                                                                                                                                                                                                                                             |\n",
      "|CHEBI:150677|CHEBI:150677|true                 |(2S,3S,4S,5R,6R)-6-[(3R,4R,5R,6R)-3-Acetamido-2-hydroxy-6-(hydroxymethyl)-5-sulfooxyoxan-4-yl]oxy-3,4-dihydroxy-5-sulfooxyoxane-2-carboxylic acid                                                                                                                                                                                                                                                                                                                                                                                                                                                                                                                |\n",
      "|CHEBI:157470|CHEBI:157470|true                 |N-[(3R,4R,5S,6R)-5-[(2S,3S,4S,5R,6R)-4-[(2R,3S,4S,5S,6R)-3-[(2R,3S,4S,5S,6R)-3-[(2R,3S,4S,5R,6R)-4-[(2R,3R,4S,5R,6R)-3,5-Dihydroxy-6-(hydroxymethyl)-4-[(2R,3R,4S,5S,6R)-3,4,5-trihydroxy-6-(hydroxymethyl)oxan-2-yl]oxyoxan-2-yl]oxy-3,5-dihydroxy-6-(hydroxymethyl)oxan-2-yl]oxy-4,5-dihydroxy-6-(hydroxymethyl)oxan-2-yl]oxy-4,5-dihydroxy-6-(hydroxymethyl)oxan-2-yl]oxy-6-[[(2S,3S,4S,5R,6R)-3,5-dihydroxy-4-[(2S,3S,4S,5S,6R)-3,4,5-trihydroxy-6-(hydroxymethyl)oxan-2-yl]oxy-6-[[(2S,3S,4S,5S,6R)-3,4,5-trihydroxy-6-(hydroxymethyl)oxan-2-yl]oxymethyl]oxan-2-yl]oxymethyl]-3,5-dihydroxyoxan-2-yl]oxy-2,4-dihydroxy-6-(hydroxymethyl)oxan-3-yl]acetamide|\n",
      "+------------+------------+---------------------+-----------------------------------------------------------------------------------------------------------------------------------------------------------------------------------------------------------------------------------------------------------------------------------------------------------------------------------------------------------------------------------------------------------------------------------------------------------------------------------------------------------------------------------------------------------------------------------------------------------------------------------------------------------------+\n",
      "only showing top 20 rows\n",
      "\n",
      "RTX normed success\n",
      "+---------------------------+---------------------------+---------------------+--------------------------------+\n",
      "|id                         |original_id                |normalization_success|name                            |\n",
      "+---------------------------+---------------------------+---------------------+--------------------------------+\n",
      "|AraPort:AT1G24280          |AraPort:AT1G24280          |false                |G6PD3 (Arabidopsis thaliana)    |\n",
      "|AraPort:AT1G26970          |AraPort:AT1G26970          |false                |PBL4 (Arabidopsis thaliana)     |\n",
      "|AraPort:AT1G29460          |AraPort:AT1G29460          |false                |SAUR65 (Arabidopsis thaliana)   |\n",
      "|AraPort:AT1G79780          |AraPort:AT1G79780          |false                |At1g79780 (Arabidopsis thaliana)|\n",
      "|AraPort:AT2G25880          |AraPort:AT2G25880          |false                |AUR2 (Arabidopsis thaliana)     |\n",
      "|AraPort:AT3G12960          |AraPort:AT3G12960          |false                |SMP1 (Arabidopsis thaliana)     |\n",
      "|AraPort:AT5G10470          |AraPort:AT5G10470          |false                |KIN14A (Arabidopsis thaliana)   |\n",
      "|AraPort:AT5G64490          |AraPort:AT5G64490          |false                |APUM26 (Arabidopsis thaliana)   |\n",
      "|AraPort:AT5G65980          |AraPort:AT5G65980          |false                |PILS7 (Arabidopsis thaliana)    |\n",
      "|AraPort:AT5G67570          |AraPort:AT5G67570          |false                |DG1 (Arabidopsis thaliana)      |\n",
      "|CGNC:49698                 |CGNC:49698                 |false                |NPM1 (chicken)                  |\n",
      "|CHEBI:64018                |CHEBI:64018                |false                |protein kinase C agonist        |\n",
      "|CHEMBL.TARGET:CHEMBL4295602|CHEMBL.TARGET:CHEMBL4295602|false                |Superoxide dismutase            |\n",
      "|CHEMBL.TARGET:CHEMBL612692 |CHEMBL.TARGET:CHEMBL612692 |false                |Collinsella aerofaciens         |\n",
      "|CLO:0013961                |CLO:0013961                |false                |Gm17154                         |\n",
      "|CLO:0014950                |CLO:0014950                |false                |Gm17117                         |\n",
      "|CLO:0016503                |CLO:0016503                |false                |Gm17807                         |\n",
      "|EHDAA2:0004344             |EHDAA2:0004344             |false                |early rhombomere 04 floor plate |\n",
      "|ENSEMBL:ENSG00000276814    |ENSEMBL:ENSG00000276814    |false                |AC004801.6                      |\n",
      "|ENSEMBL:ENST00000221166    |ENSEMBL:ENST00000221166    |false                |NEFM-201                        |\n",
      "+---------------------------+---------------------------+---------------------+--------------------------------+\n",
      "only showing top 20 rows\n",
      "\n"
     ]
    }
   ],
   "source": [
    "# %%\n",
    "robo_norm = catalog.load(\"integration.int.robokop.nodes.norm\")\n",
    "robo_norm.groupBy(\"normalization_success\").count().show()\n",
    "# %%\n",
    "rtx_norm = catalog.load(\"integration.int.rtx.nodes.norm\")\n",
    "rtx_norm.groupBy(\"normalization_success\").count().show()\n",
    "# %%\n",
    "\n",
    "# get top 10 non successful ones for each\n",
    "\n",
    "def show_norm_sample(df, norm_bool, title, n=20):\n",
    "    print(title)\n",
    "    df.filter(f.col(\"normalization_success\") == norm_bool).select(\"id\", \"original_id\", \"normalization_success\", \"name\").sample(0.1).show(20, False)\n",
    "\n",
    "\n",
    "\n",
    "show_norm_sample(robo_norm, True , \"Robo normed success\")\n",
    "show_norm_sample(robo_norm, False, \"Robo normed success\")\n",
    "show_norm_sample(rtx_norm, True, \"RTX normed success\")\n",
    "show_norm_sample(rtx_norm, False, \"RTX normed success\")"
   ]
  },
  {
   "cell_type": "code",
   "execution_count": 49,
   "metadata": {},
   "outputs": [
    {
     "data": {
      "text/html": [
       "<pre style=\"white-space:pre;overflow-x:auto;line-height:normal;font-family:Menlo,'DejaVu Sans Mono',consolas,'Courier New',monospace\"><span style=\"color: #00ff00; text-decoration-color: #00ff00\">────────────────────────────────────────────── </span>Robo Top Norm or Not<span style=\"color: #00ff00; text-decoration-color: #00ff00\"> ───────────────────────────────────────────────</span>\n",
       "</pre>\n"
      ],
      "text/plain": [
       "\u001b[92m────────────────────────────────────────────── \u001b[0mRobo Top Norm or Not\u001b[92m ───────────────────────────────────────────────\u001b[0m\n"
      ]
     },
     "metadata": {},
     "output_type": "display_data"
    },
    {
     "name": "stdout",
     "output_type": "stream",
     "text": [
      "+----------------+------------+------------+\n",
      "|id_class        |norm_failure|norm_success|\n",
      "+----------------+------------+------------+\n",
      "|CAID            |5112649     |NULL        |\n",
      "|NCBITaxon       |1891        |2541607     |\n",
      "|PANTHER.FAMILY  |1338        |24800       |\n",
      "|CHEBI           |375         |192797      |\n",
      "|GO              |362         |42080       |\n",
      "|NCBIGene        |170         |183599      |\n",
      "|UniProtKB       |126         |114377      |\n",
      "|REACT           |86          |106009      |\n",
      "|ENSEMBL         |81          |24288       |\n",
      "|PUBCHEM.COMPOUND|79          |1138366     |\n",
      "|MONDO           |56          |23956       |\n",
      "|UMLS            |38          |28375       |\n",
      "|DRUGBANK        |9           |7           |\n",
      "|MESH            |8           |2589        |\n",
      "|EFO             |1           |6586        |\n",
      "|CL              |1           |2731        |\n",
      "|NCIT            |1           |21786       |\n",
      "|SGD             |NULL        |9           |\n",
      "|UBERON          |NULL        |14407       |\n",
      "|orphanet        |NULL        |44          |\n",
      "|HGNC.FAMILY     |NULL        |1674        |\n",
      "|PR              |NULL        |79521       |\n",
      "|HGNC            |NULL        |608         |\n",
      "|MGI             |NULL        |56          |\n",
      "|GTOPDB          |NULL        |1775        |\n",
      "+----------------+------------+------------+\n",
      "only showing top 25 rows\n",
      "\n"
     ]
    },
    {
     "data": {
      "text/html": [
       "<pre style=\"white-space:pre;overflow-x:auto;line-height:normal;font-family:Menlo,'DejaVu Sans Mono',consolas,'Courier New',monospace\"><span style=\"color: #00ff00; text-decoration-color: #00ff00\">─────────────────────────────────────────────── </span>RTX Top Norm or Not<span style=\"color: #00ff00; text-decoration-color: #00ff00\"> ───────────────────────────────────────────────</span>\n",
       "</pre>\n"
      ],
      "text/plain": [
       "\u001b[92m─────────────────────────────────────────────── \u001b[0mRTX Top Norm or Not\u001b[92m ───────────────────────────────────────────────\u001b[0m\n"
      ]
     },
     "metadata": {},
     "output_type": "display_data"
    },
    {
     "name": "stdout",
     "output_type": "stream",
     "text": [
      "+-----------------+------------+------------+\n",
      "|id_class         |norm_failure|norm_success|\n",
      "+-----------------+------------+------------+\n",
      "|UMLS             |1240399     |810709      |\n",
      "|ENSEMBL          |257494      |19303       |\n",
      "|PathWhiz.Reaction|175039      |NULL        |\n",
      "|FMA              |99889       |NULL        |\n",
      "|RXNORM           |98943       |NULL        |\n",
      "|SMPDB            |38100       |30029       |\n",
      "|PathWhiz.Compound|32401       |NULL        |\n",
      "|REACT            |20558       |13370       |\n",
      "|FOODON           |19001       |NULL        |\n",
      "|AraPort          |16021       |NULL        |\n",
      "|VANDF            |13055       |NULL        |\n",
      "|NCBIGene         |11859       |36376       |\n",
      "|NDDF             |10962       |NULL        |\n",
      "|KEGG.REACTION    |10671       |1           |\n",
      "|ttd.target       |6194        |NULL        |\n",
      "|ICD9             |6125        |1           |\n",
      "|PomBase          |5111        |NULL        |\n",
      "|CHEMBL.TARGET    |5093        |NULL        |\n",
      "|wb               |4594        |NULL        |\n",
      "|dictybase.gene   |4542        |NULL        |\n",
      "|LOINC            |4213        |NULL        |\n",
      "|ecogene          |4045        |NULL        |\n",
      "|FBgn             |3966        |NULL        |\n",
      "|KEGG.ENZYME      |3823        |NULL        |\n",
      "|NCIT             |3377        |440         |\n",
      "+-----------------+------------+------------+\n",
      "only showing top 25 rows\n",
      "\n"
     ]
    },
    {
     "data": {
      "text/html": [
       "<pre style=\"white-space:pre;overflow-x:auto;line-height:normal;font-family:Menlo,'DejaVu Sans Mono',consolas,'Courier New',monospace\"><span style=\"color: #00ff00; text-decoration-color: #00ff00\">──────────────────────────────────────────────── </span>Robo Top ID Group<span style=\"color: #00ff00; text-decoration-color: #00ff00\"> ────────────────────────────────────────────────</span>\n",
       "</pre>\n"
      ],
      "text/plain": [
       "\u001b[92m──────────────────────────────────────────────── \u001b[0mRobo Top ID Group\u001b[92m ────────────────────────────────────────────────\u001b[0m\n"
      ]
     },
     "metadata": {},
     "output_type": "display_data"
    },
    {
     "name": "stdout",
     "output_type": "stream",
     "text": [
      "+----------------+-------+\n",
      "|id_class        |count  |\n",
      "+----------------+-------+\n",
      "|CAID            |5112649|\n",
      "|NCBITaxon       |2543498|\n",
      "|PUBCHEM.COMPOUND|1138445|\n",
      "|CHEBI           |193172 |\n",
      "|NCBIGene        |183769 |\n",
      "|UniProtKB       |114503 |\n",
      "|REACT           |106095 |\n",
      "|PR              |79521  |\n",
      "|GO              |42442  |\n",
      "|SMPDB           |30130  |\n",
      "|UMLS            |28413  |\n",
      "|PANTHER.FAMILY  |26138  |\n",
      "|ENSEMBL         |24369  |\n",
      "|MONDO           |24012  |\n",
      "|NCIT            |21787  |\n",
      "|CHEMBL.COMPOUND |21067  |\n",
      "|HP              |15545  |\n",
      "|UBERON          |14407  |\n",
      "|HMDB            |10711  |\n",
      "|EFO             |6587   |\n",
      "+----------------+-------+\n",
      "only showing top 20 rows\n",
      "\n"
     ]
    },
    {
     "data": {
      "text/html": [
       "<pre style=\"white-space:pre;overflow-x:auto;line-height:normal;font-family:Menlo,'DejaVu Sans Mono',consolas,'Courier New',monospace\"><span style=\"color: #00ff00; text-decoration-color: #00ff00\">──────────────────────────────────────────────── </span>RTX Top ID Group<span style=\"color: #00ff00; text-decoration-color: #00ff00\"> ─────────────────────────────────────────────────</span>\n",
       "</pre>\n"
      ],
      "text/plain": [
       "\u001b[92m──────────────────────────────────────────────── \u001b[0mRTX Top ID Group\u001b[92m ─────────────────────────────────────────────────\u001b[0m\n"
      ]
     },
     "metadata": {},
     "output_type": "display_data"
    },
    {
     "name": "stdout",
     "output_type": "stream",
     "text": [
      "+-----------------+-------+\n",
      "|id_class         |count  |\n",
      "+-----------------+-------+\n",
      "|UMLS             |2051108|\n",
      "|ENSEMBL          |276797 |\n",
      "|PR               |179370 |\n",
      "|PathWhiz.Reaction|175039 |\n",
      "|MESH             |161769 |\n",
      "|CHEBI            |105323 |\n",
      "|FMA              |99889  |\n",
      "|RXNORM           |98943  |\n",
      "|SMPDB            |68129  |\n",
      "|CHEMBL.COMPOUND  |66304  |\n",
      "|NCBIGene         |48235  |\n",
      "|REACT            |33928  |\n",
      "|HMDB             |32683  |\n",
      "|PathWhiz.Compound|32401  |\n",
      "|UniProtKB        |24685  |\n",
      "|MONDO            |21663  |\n",
      "|FOODON           |19001  |\n",
      "|AraPort          |16021  |\n",
      "|UBERON           |14101  |\n",
      "|VANDF            |13055  |\n",
      "+-----------------+-------+\n",
      "only showing top 20 rows\n",
      "\n"
     ]
    }
   ],
   "source": [
    "console.rule(\"Robo Top Norm or Not\")\n",
    "(robo_norm.select(\"original_id\", \"normalization_success\", \"name\")\n",
    "        .withColumn(\"id_class\", f.split(\"original_id\", \":\").getItem(0))\n",
    "        .groupBy(\"normalization_success\", \"id_class\").count()\n",
    "        .groupBy(\"id_class\").pivot(\"normalization_success\").sum(\"count\")\n",
    "        .withColumnsRenamed({\"false\": \"norm_failure\", \"true\": \"norm_success\"})\n",
    "        .orderBy(f.desc(\"norm_failure\"))\n",
    ").show(25, False)\n",
    "\n",
    "console.rule(\"RTX Top Norm or Not\")\n",
    "(rtx_norm.select(\"original_id\", \"normalization_success\", \"name\")\n",
    "        .withColumn(\"id_class\", f.split(\"original_id\", \":\").getItem(0))\n",
    "        .groupBy(\"normalization_success\", \"id_class\").count()\n",
    "        .groupBy(\"id_class\").pivot(\"normalization_success\").sum(\"count\")\n",
    "        .withColumnsRenamed({\"false\": \"norm_failure\", \"true\": \"norm_success\"})\n",
    "        .orderBy(f.desc(\"norm_failure\"))\n",
    ").show(25, False)\n",
    "\n",
    "console.rule(\"Robo Top ID Group\")\n",
    "(robo_norm.select(\"original_id\", \"normalization_success\", \"name\")\n",
    "        .withColumn(\"id_class\", f.split(\"original_id\", \":\").getItem(0))\n",
    "        .groupBy(\"id_class\").count().orderBy(f.desc(\"count\"))\n",
    ").show(20, False)\n",
    "\n",
    "console.rule(\"RTX Top ID Group\")\n",
    "(rtx_norm.select(\"original_id\", \"normalization_success\", \"name\")\n",
    "        .withColumn(\"id_class\", f.split(\"original_id\", \":\").getItem(0))\n",
    "        .groupBy(\"id_class\").count().orderBy(f.desc(\"count\"))\n",
    ").show(20, False)"
   ]
  },
  {
   "cell_type": "markdown",
   "metadata": {},
   "source": [
    "## Insight\n",
    "\n",
    "- Robokop CAID IDs don't normalize, it appears the rest does mostly well. Although there are a few others at <2k node count\n",
    "- RTX is much more hit/miss and some classes `RXNORM` or `FMA` do not get norm'ed at all. That's weird. We should definitely look into why the nodenorm service doesn't normalize these groups\n",
    "\n",
    "```\n",
    "PathWhiz.Reaction\n",
    "FMA              \n",
    "RXNORM           \n",
    "PathWhiz.Compound\n",
    "FOODON           \n",
    "AraPort          \n",
    "VANDF            \n",
    "```\n"
   ]
  },
  {
   "cell_type": "code",
   "execution_count": 8,
   "metadata": {},
   "outputs": [
    {
     "data": {
      "text/html": [
       "<pre style=\"white-space:pre;overflow-x:auto;line-height:normal;font-family:Menlo,'DejaVu Sans Mono',consolas,'Courier New',monospace\"><span style=\"color: #00ff00; text-decoration-color: #00ff00\">─────────────────────────────────────────────────── </span><span style=\"color: #000080; text-decoration-color: #000080; font-weight: bold\">Unified KG</span><span style=\"color: #00ff00; text-decoration-color: #00ff00\"> ────────────────────────────────────────────────────</span>\n",
       "</pre>\n"
      ],
      "text/plain": [
       "\u001b[92m─────────────────────────────────────────────────── \u001b[0m\u001b[1;34mUnified KG\u001b[0m\u001b[92m ────────────────────────────────────────────────────\u001b[0m\n"
      ]
     },
     "metadata": {},
     "output_type": "display_data"
    },
    {
     "data": {
      "text/html": [
       "<pre style=\"white-space:pre;overflow-x:auto;line-height:normal;font-family:Menlo,'DejaVu Sans Mono',consolas,'Courier New',monospace\">╭────── Node Counts ──────╮\n",
       "│                         │\n",
       "│ Unified Nodes: 12772268 │\n",
       "│ Robo Nodes: 9748240     │\n",
       "│ RTX Nodes: 3659686      │\n",
       "│                         │\n",
       "╰─────────────────────────╯\n",
       "</pre>\n"
      ],
      "text/plain": [
       "╭────── Node Counts ──────╮\n",
       "│                         │\n",
       "│ Unified Nodes: 12772268 │\n",
       "│ Robo Nodes: 9748240     │\n",
       "│ RTX Nodes: 3659686      │\n",
       "│                         │\n",
       "╰─────────────────────────╯\n"
      ]
     },
     "metadata": {},
     "output_type": "display_data"
    },
    {
     "data": {
      "text/html": [
       "<pre style=\"white-space:pre;overflow-x:auto;line-height:normal;font-family:Menlo,'DejaVu Sans Mono',consolas,'Courier New',monospace\">╭────── Edge Counts ───────╮\n",
       "│                          │\n",
       "│ Unified Edges: 150717205 │\n",
       "│ Robo Edges: 137706046    │\n",
       "│ RTX Edges: 18402956      │\n",
       "│                          │\n",
       "╰──────────────────────────╯\n",
       "</pre>\n"
      ],
      "text/plain": [
       "╭────── Edge Counts ───────╮\n",
       "│                          │\n",
       "│ Unified Edges: 150717205 │\n",
       "│ Robo Edges: 137706046    │\n",
       "│ RTX Edges: 18402956      │\n",
       "│                          │\n",
       "╰──────────────────────────╯\n"
      ]
     },
     "metadata": {},
     "output_type": "display_data"
    },
    {
     "name": "stderr",
     "output_type": "stream",
     "text": [
      "                                                                                \r"
     ]
    },
    {
     "data": {
      "text/html": [
       "<pre style=\"white-space:pre;overflow-x:auto;line-height:normal;font-family:Menlo,'DejaVu Sans Mono',consolas,'Courier New',monospace\">╭────── Node Origin Proportions ──────╮\n",
       "│                                     │\n",
       "│ Nodes originating from RTX: 28.55%  │\n",
       "│ Nodes originating from Robo: 76.32% │\n",
       "│ Nodes originating from Both: 4.88%  │\n",
       "│                                     │\n",
       "╰─────────────────────────────────────╯\n",
       "</pre>\n"
      ],
      "text/plain": [
       "╭────── Node Origin Proportions ──────╮\n",
       "│                                     │\n",
       "│ Nodes originating from RTX: 28.55%  │\n",
       "│ Nodes originating from Robo: 76.32% │\n",
       "│ Nodes originating from Both: 4.88%  │\n",
       "│                                     │\n",
       "╰─────────────────────────────────────╯\n"
      ]
     },
     "metadata": {},
     "output_type": "display_data"
    },
    {
     "name": "stderr",
     "output_type": "stream",
     "text": [
      "                                                                                \r"
     ]
    },
    {
     "data": {
      "text/html": [
       "<pre style=\"white-space:pre;overflow-x:auto;line-height:normal;font-family:Menlo,'DejaVu Sans Mono',consolas,'Courier New',monospace\">╭────── Edge Origin Proportions ──────╮\n",
       "│                                     │\n",
       "│ Edges originating from RTX: 12.18%  │\n",
       "│ Edges originating from Robo: 88.37% │\n",
       "│ Edges originating from Both: 0.55%  │\n",
       "│                                     │\n",
       "╰─────────────────────────────────────╯\n",
       "</pre>\n"
      ],
      "text/plain": [
       "╭────── Edge Origin Proportions ──────╮\n",
       "│                                     │\n",
       "│ Edges originating from RTX: 12.18%  │\n",
       "│ Edges originating from Robo: 88.37% │\n",
       "│ Edges originating from Both: 0.55%  │\n",
       "│                                     │\n",
       "╰─────────────────────────────────────╯\n"
      ]
     },
     "metadata": {},
     "output_type": "display_data"
    }
   ],
   "source": [
    "console.rule(\"[bold blue]Unified KG\")\n",
    "console.print(Panel.fit(f\"\"\"\n",
    "Unified Nodes: {unified_nodes.count()}\n",
    "Robo Nodes: {robo_nodes.count()}\n",
    "RTX Nodes: {rtx_nodes.count()}\n",
    "\"\"\", title=\"Node Counts\"))\n",
    "# now edges\n",
    "console.print(Panel.fit(f\"\"\"\n",
    "Unified Edges: {unified_edges.count()}\n",
    "Robo Edges: {robo_edges.count()}\n",
    "RTX Edges: {rtx_edges.count()}\n",
    "\"\"\", title=\"Edge Counts\"))\n",
    "# first calculate the number of nodes and edges in each kg\n",
    "unified_node_count = unified_nodes.count()\n",
    "unified_edge_count = unified_edges.count()\n",
    "robo_node_count = robo_nodes.count()\n",
    "robo_edge_count = robo_edges.count()\n",
    "rtx_node_count = rtx_nodes.count()\n",
    "rtx_edge_count = rtx_edges.count()\n",
    "\n",
    "# node origin proportions\n",
    "nodes_in_both = unified_nodes.filter(f.array_contains(f.col(\"upstream_data_source\"), \"rtxkg2\") & f.array_contains(f.col(\"upstream_data_source\"), \"robokop\"))\n",
    "nodes_in_rtx = unified_nodes.filter(f.array_contains(f.col(\"upstream_data_source\"), \"rtxkg2\"))\n",
    "nodes_in_robo = unified_nodes.filter(f.array_contains(f.col(\"upstream_data_source\"), \"robokop\"))\n",
    "\n",
    "console.print(Panel.fit(\n",
    "f\"\"\"\n",
    "Nodes originating from RTX: {nodes_in_rtx.count()/unified_node_count*100:.2f}%\n",
    "Nodes originating from Robo: {nodes_in_robo.count()/unified_node_count*100:.2f}%\n",
    "Nodes originating from Both: {nodes_in_both.count()/unified_node_count*100:.2f}%\n",
    "\"\"\", title=\"Node Origin Proportions\"))\n",
    "\n",
    "# edge origin proportions\n",
    "edges_in_both = unified_edges.filter(f.array_contains(f.col(\"upstream_data_source\"), \"rtxkg2\") & f.array_contains(f.col(\"upstream_data_source\"), \"robokop\"))\n",
    "edges_in_rtx = unified_edges.filter(f.array_contains(f.col(\"upstream_data_source\"), \"rtxkg2\"))\n",
    "edges_in_robo = unified_edges.filter(f.array_contains(f.col(\"upstream_data_source\"), \"robokop\"))\n",
    "\n",
    "console.print(Panel.fit(\n",
    "f\"\"\"\n",
    "Edges originating from RTX: {edges_in_rtx.count()/unified_edge_count*100:.2f}%\n",
    "Edges originating from Robo: {edges_in_robo.count()/unified_edge_count*100:.2f}%\n",
    "Edges originating from Both: {edges_in_both.count()/unified_edge_count*100:.2f}%\n",
    "\"\"\", title=\"Edge Origin Proportions\"))\n"
   ]
  },
  {
   "cell_type": "markdown",
   "metadata": {},
   "source": [
    "## Insight\n",
    "- 0.5% of edges overlapping, 5% of nodes\n",
    "\n",
    "## Notes\n",
    "Wow that's not a lot of edges that are present in both. I wonder why there are so many more edges in Robokop as well. There's like 150M edges there and only 18M in RTX. \n",
    "Let's look at the predicate counts:\n"
   ]
  },
  {
   "cell_type": "code",
   "execution_count": 5,
   "metadata": {},
   "outputs": [
    {
     "name": "stderr",
     "output_type": "stream",
     "text": [
      "                                                                                \r"
     ]
    },
    {
     "data": {
      "text/html": [
       "<pre style=\"white-space:pre;overflow-x:auto;line-height:normal;font-family:Menlo,'DejaVu Sans Mono',consolas,'Courier New',monospace\">╭─────────── predicate Counts in Both ────────────╮\n",
       "│ +--------------------------------------+------+ │\n",
       "│ |                             predicate| count| │\n",
       "│ +--------------------------------------+------+ │\n",
       "│ |                   biolink:subclass_of|490258| │\n",
       "│ |               biolink:has_participant|243446| │\n",
       "│ |                      biolink:has_part| 15244| │\n",
       "│ |                    biolink:located_in| 13586| │\n",
       "│ |                      biolink:in_taxon| 10876| │\n",
       "│ |     biolink:physically_interacts_with| 10072| │\n",
       "│ |                       biolink:affects|  9250| │\n",
       "│ |                     biolink:has_input|  8539| │\n",
       "│ |                    biolink:related_to|  8500| │\n",
       "│ |                    biolink:has_output|  4834| │\n",
       "│ |                        biolink:treats|  4782| │\n",
       "│ |biolink:gene_associated_with_condition|  3733| │\n",
       "│ |                 biolink:develops_from|  1548| │\n",
       "│ |                 biolink:has_phenotype|  1534| │\n",
       "│ |                 biolink:coexists_with|   827| │\n",
       "│ |                        biolink:causes|   823| │\n",
       "│ |                      biolink:overlaps|   681| │\n",
       "│ |                  biolink:expressed_in|   573| │\n",
       "│ |              biolink:colocalizes_with|    98| │\n",
       "│ |                biolink:contributes_to|    94| │\n",
       "│ |                      biolink:produces|    59| │\n",
       "│ |                    biolink:capable_of|    41| │\n",
       "│ |                  biolink:derives_from|    40| │\n",
       "│ |                      biolink:disrupts|    21| │\n",
       "│ |                     biolink:occurs_in|    13| │\n",
       "│ |                      biolink:precedes|     8| │\n",
       "│ |                biolink:has_metabolite|     3| │\n",
       "│ |         biolink:temporally_related_to|     3| │\n",
       "│ |                     biolink:catalyzes|     1| │\n",
       "│ |              biolink:manifestation_of|     1| │\n",
       "│ +--------------------------------------+------+ │\n",
       "│                                                 │\n",
       "╰─────────────────────────────────────────────────╯\n",
       "</pre>\n"
      ],
      "text/plain": [
       "╭─────────── predicate Counts in Both ────────────╮\n",
       "│ +--------------------------------------+------+ │\n",
       "│ |                             predicate| count| │\n",
       "│ +--------------------------------------+------+ │\n",
       "│ |                   biolink:subclass_of|490258| │\n",
       "│ |               biolink:has_participant|243446| │\n",
       "│ |                      biolink:has_part| 15244| │\n",
       "│ |                    biolink:located_in| 13586| │\n",
       "│ |                      biolink:in_taxon| 10876| │\n",
       "│ |     biolink:physically_interacts_with| 10072| │\n",
       "│ |                       biolink:affects|  9250| │\n",
       "│ |                     biolink:has_input|  8539| │\n",
       "│ |                    biolink:related_to|  8500| │\n",
       "│ |                    biolink:has_output|  4834| │\n",
       "│ |                        biolink:treats|  4782| │\n",
       "│ |biolink:gene_associated_with_condition|  3733| │\n",
       "│ |                 biolink:develops_from|  1548| │\n",
       "│ |                 biolink:has_phenotype|  1534| │\n",
       "│ |                 biolink:coexists_with|   827| │\n",
       "│ |                        biolink:causes|   823| │\n",
       "│ |                      biolink:overlaps|   681| │\n",
       "│ |                  biolink:expressed_in|   573| │\n",
       "│ |              biolink:colocalizes_with|    98| │\n",
       "│ |                biolink:contributes_to|    94| │\n",
       "│ |                      biolink:produces|    59| │\n",
       "│ |                    biolink:capable_of|    41| │\n",
       "│ |                  biolink:derives_from|    40| │\n",
       "│ |                      biolink:disrupts|    21| │\n",
       "│ |                     biolink:occurs_in|    13| │\n",
       "│ |                      biolink:precedes|     8| │\n",
       "│ |                biolink:has_metabolite|     3| │\n",
       "│ |         biolink:temporally_related_to|     3| │\n",
       "│ |                     biolink:catalyzes|     1| │\n",
       "│ |              biolink:manifestation_of|     1| │\n",
       "│ +--------------------------------------+------+ │\n",
       "│                                                 │\n",
       "╰─────────────────────────────────────────────────╯\n"
      ]
     },
     "metadata": {},
     "output_type": "display_data"
    },
    {
     "name": "stderr",
     "output_type": "stream",
     "text": [
      "                                                                                \r"
     ]
    },
    {
     "data": {
      "text/html": [
       "<pre style=\"white-space:pre;overflow-x:auto;line-height:normal;font-family:Menlo,'DejaVu Sans Mono',consolas,'Courier New',monospace\">╭────────────── predicate Counts in RTX ───────────────╮\n",
       "│ +------------------------------------------+-------+ │\n",
       "│ |                                 predicate|  count| │\n",
       "│ +------------------------------------------+-------+ │\n",
       "│ |                   biolink:has_participant|3837590| │\n",
       "│ |                         biolink:occurs_in|3087968| │\n",
       "│ |                       biolink:subclass_of|2983431| │\n",
       "│ |         biolink:physically_interacts_with|2641479| │\n",
       "│ |                        biolink:related_to|1535302| │\n",
       "│ |    biolink:gene_associated_with_condition| 839112| │\n",
       "│ |                          biolink:in_taxon| 583731| │\n",
       "│ |                          biolink:has_part| 403589| │\n",
       "│ |                        biolink:has_output| 375980| │\n",
       "│ |                         biolink:has_input| 364437| │\n",
       "│ |                  biolink:transcribed_from| 257221| │\n",
       "│ |                        biolink:located_in| 239580| │\n",
       "│ |                       biolink:close_match| 212699| │\n",
       "│ |                    biolink:interacts_with| 133377| │\n",
       "│ |                           biolink:affects| 119041| │\n",
       "│ |                     biolink:coexists_with|  97832| │\n",
       "│ |                   biolink:gene_product_of|  90416| │\n",
       "│ |                           biolink:enables|  68829| │\n",
       "│ |                            biolink:treats|  51621| │\n",
       "│ |                     biolink:translates_to|  47331| │\n",
       "│ |                            biolink:causes|  44132| │\n",
       "│ |                     biolink:biomarker_for|  37946| │\n",
       "│ |             biolink:chemically_similar_to|  37139| │\n",
       "│ |biolink:entity_positively_regulates_entity|  26409| │\n",
       "│ |                      biolink:derives_from|  20356| │\n",
       "│ |                     biolink:has_phenotype|  20139| │\n",
       "│ |biolink:entity_negatively_regulates_entity|  19893| │\n",
       "│ |              biolink:actively_involved_in|  19714| │\n",
       "│ |                  biolink:manifestation_of|  19535| │\n",
       "│ |               biolink:contraindicated_for|  19078| │\n",
       "│ |                  biolink:colocalizes_with|  17555| │\n",
       "│ |             biolink:decreases_activity_of|  11371| │\n",
       "│ |           biolink:directly_interacts_with|   9519| │\n",
       "│ |                         biolink:catalyzes|   9328| │\n",
       "│ |                           biolink:same_as|   7945| │\n",
       "│ |                      biolink:expressed_in|   6569| │\n",
       "│ |                          biolink:produces|   6050| │\n",
       "│ |                        biolink:lacks_part|   5993| │\n",
       "│ |                        biolink:capable_of|   4700| │\n",
       "│ |                          biolink:overlaps|   4626| │\n",
       "│ +------------------------------------------+-------+ │\n",
       "│ only showing top 40 rows                             │\n",
       "│                                                      │\n",
       "╰──────────────────────────────────────────────────────╯\n",
       "</pre>\n"
      ],
      "text/plain": [
       "╭────────────── predicate Counts in RTX ───────────────╮\n",
       "│ +------------------------------------------+-------+ │\n",
       "│ |                                 predicate|  count| │\n",
       "│ +------------------------------------------+-------+ │\n",
       "│ |                   biolink:has_participant|3837590| │\n",
       "│ |                         biolink:occurs_in|3087968| │\n",
       "│ |                       biolink:subclass_of|2983431| │\n",
       "│ |         biolink:physically_interacts_with|2641479| │\n",
       "│ |                        biolink:related_to|1535302| │\n",
       "│ |    biolink:gene_associated_with_condition| 839112| │\n",
       "│ |                          biolink:in_taxon| 583731| │\n",
       "│ |                          biolink:has_part| 403589| │\n",
       "│ |                        biolink:has_output| 375980| │\n",
       "│ |                         biolink:has_input| 364437| │\n",
       "│ |                  biolink:transcribed_from| 257221| │\n",
       "│ |                        biolink:located_in| 239580| │\n",
       "│ |                       biolink:close_match| 212699| │\n",
       "│ |                    biolink:interacts_with| 133377| │\n",
       "│ |                           biolink:affects| 119041| │\n",
       "│ |                     biolink:coexists_with|  97832| │\n",
       "│ |                   biolink:gene_product_of|  90416| │\n",
       "│ |                           biolink:enables|  68829| │\n",
       "│ |                            biolink:treats|  51621| │\n",
       "│ |                     biolink:translates_to|  47331| │\n",
       "│ |                            biolink:causes|  44132| │\n",
       "│ |                     biolink:biomarker_for|  37946| │\n",
       "│ |             biolink:chemically_similar_to|  37139| │\n",
       "│ |biolink:entity_positively_regulates_entity|  26409| │\n",
       "│ |                      biolink:derives_from|  20356| │\n",
       "│ |                     biolink:has_phenotype|  20139| │\n",
       "│ |biolink:entity_negatively_regulates_entity|  19893| │\n",
       "│ |              biolink:actively_involved_in|  19714| │\n",
       "│ |                  biolink:manifestation_of|  19535| │\n",
       "│ |               biolink:contraindicated_for|  19078| │\n",
       "│ |                  biolink:colocalizes_with|  17555| │\n",
       "│ |             biolink:decreases_activity_of|  11371| │\n",
       "│ |           biolink:directly_interacts_with|   9519| │\n",
       "│ |                         biolink:catalyzes|   9328| │\n",
       "│ |                           biolink:same_as|   7945| │\n",
       "│ |                      biolink:expressed_in|   6569| │\n",
       "│ |                          biolink:produces|   6050| │\n",
       "│ |                        biolink:lacks_part|   5993| │\n",
       "│ |                        biolink:capable_of|   4700| │\n",
       "│ |                          biolink:overlaps|   4626| │\n",
       "│ +------------------------------------------+-------+ │\n",
       "│ only showing top 40 rows                             │\n",
       "│                                                      │\n",
       "╰──────────────────────────────────────────────────────╯\n"
      ]
     },
     "metadata": {},
     "output_type": "display_data"
    },
    {
     "name": "stderr",
     "output_type": "stream",
     "text": [
      "                                                                                \r"
     ]
    },
    {
     "data": {
      "text/html": [
       "<pre style=\"white-space:pre;overflow-x:auto;line-height:normal;font-family:Menlo,'DejaVu Sans Mono',consolas,'Courier New',monospace\">╭──────────────── predicate Counts in Robo ────────────────╮\n",
       "│ +---------------------------------------------+--------+ │\n",
       "│ |                                    predicate|   count| │\n",
       "│ +---------------------------------------------+--------+ │\n",
       "│ |                          biolink:subclass_of|60176118| │\n",
       "│ |                 biolink:is_nearby_variant_of|31864140| │\n",
       "│ |                              biolink:affects|18098919| │\n",
       "│ |                     biolink:coexpressed_with| 9210882| │\n",
       "│ |             biolink:is_non_coding_variant_of| 3858701| │\n",
       "│ |            biolink:physically_interacts_with| 1415606| │\n",
       "│ |                        biolink:has_phenotype| 1100999| │\n",
       "│ |                         biolink:expressed_in| 1091384| │\n",
       "│ |                 biolink:actively_involved_in|  952972| │\n",
       "│ |   biolink:directly_physically_interacts_with|  815337| │\n",
       "│ |                      biolink:has_participant|  558161| │\n",
       "│ |                            biolink:regulates|  528959| │\n",
       "│ |                                biolink:binds|  433800| │\n",
       "│ |biolink:treats_or_applied_or_studied_to_treat|  324085| │\n",
       "│ |                            biolink:occurs_in|  255150| │\n",
       "│ |                            biolink:catalyzes|  237533| │\n",
       "│ |                        biolink:homologous_to|  230627| │\n",
       "│ |                           biolink:located_in|  222328| │\n",
       "│ |                    biolink:has_adverse_event|  202144| │\n",
       "│ |                             biolink:has_part|  191638| │\n",
       "│ |                       biolink:contributes_to|  168790| │\n",
       "│ |                           biolink:related_to|  151917| │\n",
       "│ |           biolink:genetically_interacts_with|  147139| │\n",
       "│ |                               biolink:causes|  140120| │\n",
       "│ |                             biolink:in_taxon|  125018| │\n",
       "│ |          biolink:genetically_associated_with|  118298| │\n",
       "│ |                            biolink:has_input|  101385| │\n",
       "│ |                      biolink:correlated_with|   86540| │\n",
       "│ |                           biolink:has_output|   79192| │\n",
       "│ |                             biolink:precedes|   68181| │\n",
       "│ |               biolink:is_missense_variant_of|   31379| │\n",
       "│ |             biolink:is_synonymous_variant_of|   28077| │\n",
       "│ |                   biolink:contraindicated_in|   25677| │\n",
       "│ |                        biolink:develops_from|   25430| │\n",
       "│ |                biolink:temporally_related_to|   22976| │\n",
       "│ |                            biolink:active_in|   19084| │\n",
       "│ |            biolink:is_splice_site_variant_of|   13591| │\n",
       "│ |                               biolink:treats|   11205| │\n",
       "│ |                             biolink:overlaps|    8164| │\n",
       "│ |                           biolink:similar_to|    6950| │\n",
       "│ +---------------------------------------------+--------+ │\n",
       "│ only showing top 40 rows                                 │\n",
       "│                                                          │\n",
       "╰──────────────────────────────────────────────────────────╯\n",
       "</pre>\n"
      ],
      "text/plain": [
       "╭──────────────── predicate Counts in Robo ────────────────╮\n",
       "│ +---------------------------------------------+--------+ │\n",
       "│ |                                    predicate|   count| │\n",
       "│ +---------------------------------------------+--------+ │\n",
       "│ |                          biolink:subclass_of|60176118| │\n",
       "│ |                 biolink:is_nearby_variant_of|31864140| │\n",
       "│ |                              biolink:affects|18098919| │\n",
       "│ |                     biolink:coexpressed_with| 9210882| │\n",
       "│ |             biolink:is_non_coding_variant_of| 3858701| │\n",
       "│ |            biolink:physically_interacts_with| 1415606| │\n",
       "│ |                        biolink:has_phenotype| 1100999| │\n",
       "│ |                         biolink:expressed_in| 1091384| │\n",
       "│ |                 biolink:actively_involved_in|  952972| │\n",
       "│ |   biolink:directly_physically_interacts_with|  815337| │\n",
       "│ |                      biolink:has_participant|  558161| │\n",
       "│ |                            biolink:regulates|  528959| │\n",
       "│ |                                biolink:binds|  433800| │\n",
       "│ |biolink:treats_or_applied_or_studied_to_treat|  324085| │\n",
       "│ |                            biolink:occurs_in|  255150| │\n",
       "│ |                            biolink:catalyzes|  237533| │\n",
       "│ |                        biolink:homologous_to|  230627| │\n",
       "│ |                           biolink:located_in|  222328| │\n",
       "│ |                    biolink:has_adverse_event|  202144| │\n",
       "│ |                             biolink:has_part|  191638| │\n",
       "│ |                       biolink:contributes_to|  168790| │\n",
       "│ |                           biolink:related_to|  151917| │\n",
       "│ |           biolink:genetically_interacts_with|  147139| │\n",
       "│ |                               biolink:causes|  140120| │\n",
       "│ |                             biolink:in_taxon|  125018| │\n",
       "│ |          biolink:genetically_associated_with|  118298| │\n",
       "│ |                            biolink:has_input|  101385| │\n",
       "│ |                      biolink:correlated_with|   86540| │\n",
       "│ |                           biolink:has_output|   79192| │\n",
       "│ |                             biolink:precedes|   68181| │\n",
       "│ |               biolink:is_missense_variant_of|   31379| │\n",
       "│ |             biolink:is_synonymous_variant_of|   28077| │\n",
       "│ |                   biolink:contraindicated_in|   25677| │\n",
       "│ |                        biolink:develops_from|   25430| │\n",
       "│ |                biolink:temporally_related_to|   22976| │\n",
       "│ |                            biolink:active_in|   19084| │\n",
       "│ |            biolink:is_splice_site_variant_of|   13591| │\n",
       "│ |                               biolink:treats|   11205| │\n",
       "│ |                             biolink:overlaps|    8164| │\n",
       "│ |                           biolink:similar_to|    6950| │\n",
       "│ +---------------------------------------------+--------+ │\n",
       "│ only showing top 40 rows                                 │\n",
       "│                                                          │\n",
       "╰──────────────────────────────────────────────────────────╯\n"
      ]
     },
     "metadata": {},
     "output_type": "display_data"
    }
   ],
   "source": [
    "def stats_on_df(df: ps.sql.DataFrame, col: str, kg_name: str, n=40):\n",
    "    df_counts = df.groupBy(col).count().sort(\"count\", ascending=False)\n",
    "    console.print(Panel.fit(top_n(df_counts, n=n), title=f\"{col} Counts in {kg_name}\"))\n",
    "\n",
    "stats_on_df(edges_in_both, \"predicate\", \"Both\")\n",
    "stats_on_df(edges_in_rtx, \"predicate\", \"RTX\")\n",
    "stats_on_df(edges_in_robo, \"predicate\", \"Robo\")\n",
    "\n"
   ]
  },
  {
   "cell_type": "code",
   "execution_count": 6,
   "metadata": {},
   "outputs": [
    {
     "data": {
      "text/html": [
       "<pre style=\"white-space:pre;overflow-x:auto;line-height:normal;font-family:Menlo,'DejaVu Sans Mono',consolas,'Courier New',monospace\">╭─────────────── category Counts in Both ───────────────╮\n",
       "│ +--------------------------------------------+------+ │\n",
       "│ |                                    category| count| │\n",
       "│ +--------------------------------------------+------+ │\n",
       "│ |                             biolink:Protein|190001| │\n",
       "│ |                     biolink:MolecularEntity|104015| │\n",
       "│ |                       biolink:OrganismTaxon| 71901| │\n",
       "│ |                       biolink:SmallMolecule| 67576| │\n",
       "│ |                                biolink:Gene| 38703| │\n",
       "│ |                             biolink:Disease| 35584| │\n",
       "│ |                             biolink:Pathway| 31195| │\n",
       "│ |          biolink:DiseaseOrPhenotypicFeature| 19509| │\n",
       "│ |                    biolink:AnatomicalEntity| 15921| │\n",
       "│ |                   biolink:MolecularActivity| 12931| │\n",
       "│ |                      biolink:ChemicalEntity|  8977| │\n",
       "│ |                          biolink:NamedThing|  5065| │\n",
       "│ |   biolink:ChemicalEntityOrGeneOrGeneProduct|  4501| │\n",
       "│ |          biolink:PhysicalEssenceOrOccurrent|  4031| │\n",
       "│ |biolink:ChemicalEntityOrProteinOrPolypeptide|  2419| │\n",
       "│ |                   biolink:PhenotypicFeature|  2032| │\n",
       "│ |                                biolink:Cell|  1624| │\n",
       "│ |                   biolink:CellularComponent|  1612| │\n",
       "│ |                      biolink:ThingWithTaxon|  1609| │\n",
       "│ |            biolink:GrossAnatomicalStructure|  1562| │\n",
       "│ |                   biolink:BiologicalProcess|   827| │\n",
       "│ |                         biolink:Polypeptide|   357| │\n",
       "│ |                                biolink:Drug|   264| │\n",
       "│ |                   biolink:NucleicAcidEntity|   124| │\n",
       "│ |          biolink:MacromolecularMachineMixin|   108| │\n",
       "│ |                    biolink:BiologicalEntity|    97| │\n",
       "│ |                          biolink:RNAProduct|    81| │\n",
       "│ |                biolink:PhysiologicalProcess|    21| │\n",
       "│ |                            biolink:Behavior|    11| │\n",
       "│ |                                biolink:Food|     7| │\n",
       "│ |                             biolink:Vitamin|     3| │\n",
       "│ |                     biolink:ChemicalMixture|     3| │\n",
       "│ +--------------------------------------------+------+ │\n",
       "│                                                       │\n",
       "╰───────────────────────────────────────────────────────╯\n",
       "</pre>\n"
      ],
      "text/plain": [
       "╭─────────────── category Counts in Both ───────────────╮\n",
       "│ +--------------------------------------------+------+ │\n",
       "│ |                                    category| count| │\n",
       "│ +--------------------------------------------+------+ │\n",
       "│ |                             biolink:Protein|190001| │\n",
       "│ |                     biolink:MolecularEntity|104015| │\n",
       "│ |                       biolink:OrganismTaxon| 71901| │\n",
       "│ |                       biolink:SmallMolecule| 67576| │\n",
       "│ |                                biolink:Gene| 38703| │\n",
       "│ |                             biolink:Disease| 35584| │\n",
       "│ |                             biolink:Pathway| 31195| │\n",
       "│ |          biolink:DiseaseOrPhenotypicFeature| 19509| │\n",
       "│ |                    biolink:AnatomicalEntity| 15921| │\n",
       "│ |                   biolink:MolecularActivity| 12931| │\n",
       "│ |                      biolink:ChemicalEntity|  8977| │\n",
       "│ |                          biolink:NamedThing|  5065| │\n",
       "│ |   biolink:ChemicalEntityOrGeneOrGeneProduct|  4501| │\n",
       "│ |          biolink:PhysicalEssenceOrOccurrent|  4031| │\n",
       "│ |biolink:ChemicalEntityOrProteinOrPolypeptide|  2419| │\n",
       "│ |                   biolink:PhenotypicFeature|  2032| │\n",
       "│ |                                biolink:Cell|  1624| │\n",
       "│ |                   biolink:CellularComponent|  1612| │\n",
       "│ |                      biolink:ThingWithTaxon|  1609| │\n",
       "│ |            biolink:GrossAnatomicalStructure|  1562| │\n",
       "│ |                   biolink:BiologicalProcess|   827| │\n",
       "│ |                         biolink:Polypeptide|   357| │\n",
       "│ |                                biolink:Drug|   264| │\n",
       "│ |                   biolink:NucleicAcidEntity|   124| │\n",
       "│ |          biolink:MacromolecularMachineMixin|   108| │\n",
       "│ |                    biolink:BiologicalEntity|    97| │\n",
       "│ |                          biolink:RNAProduct|    81| │\n",
       "│ |                biolink:PhysiologicalProcess|    21| │\n",
       "│ |                            biolink:Behavior|    11| │\n",
       "│ |                                biolink:Food|     7| │\n",
       "│ |                             biolink:Vitamin|     3| │\n",
       "│ |                     biolink:ChemicalMixture|     3| │\n",
       "│ +--------------------------------------------+------+ │\n",
       "│                                                       │\n",
       "╰───────────────────────────────────────────────────────╯\n"
      ]
     },
     "metadata": {},
     "output_type": "display_data"
    },
    {
     "data": {
      "text/html": [
       "<pre style=\"white-space:pre;overflow-x:auto;line-height:normal;font-family:Menlo,'DejaVu Sans Mono',consolas,'Courier New',monospace\">╭──────────────── category Counts in RTX ────────────────╮\n",
       "│ +--------------------------------------------+-------+ │\n",
       "│ |                                    category|  count| │\n",
       "│ +--------------------------------------------+-------+ │\n",
       "│ |                       biolink:OrganismTaxon|1785601| │\n",
       "│ |                          biolink:Transcript| 257221| │\n",
       "│ |                   biolink:MolecularActivity| 228645| │\n",
       "│ |                             biolink:Protein| 197335| │\n",
       "│ |                      biolink:ChemicalEntity| 187144| │\n",
       "│ |                       biolink:SmallMolecule| 135790| │\n",
       "│ |                                biolink:Drug| 132905| │\n",
       "│ |                     biolink:MolecularEntity| 130711| │\n",
       "│ |                    biolink:AnatomicalEntity| 124429| │\n",
       "│ |                                biolink:Gene| 111966| │\n",
       "│ |                             biolink:Disease|  84705| │\n",
       "│ |                             biolink:Pathway|  69550| │\n",
       "│ |                         biolink:Polypeptide|  44705| │\n",
       "│ |          biolink:DiseaseOrPhenotypicFeature|  33237| │\n",
       "│ |                biolink:PhysiologicalProcess|  33217| │\n",
       "│ |                    biolink:BiologicalEntity|  19908| │\n",
       "│ |                   biolink:NucleicAcidEntity|  15685| │\n",
       "│ |            biolink:GrossAnatomicalStructure|  14866| │\n",
       "│ |                   biolink:CellularComponent|   6927| │\n",
       "│ |                          biolink:NamedThing|   5065| │\n",
       "│ |                   biolink:PhenotypicFeature|   4668| │\n",
       "│ |   biolink:ChemicalEntityOrGeneOrGeneProduct|   4501| │\n",
       "│ |          biolink:PhysicalEssenceOrOccurrent|   4031| │\n",
       "│ |                                biolink:Cell|   3673| │\n",
       "│ |biolink:ChemicalEntityOrProteinOrPolypeptide|   2419| │\n",
       "│ |                   biolink:BiologicalProcess|   2186| │\n",
       "│ |                            biolink:Behavior|   1640| │\n",
       "│ |                      biolink:ThingWithTaxon|   1609| │\n",
       "│ |                                biolink:Food|   1296| │\n",
       "│ |                            biolink:CellLine|    415| │\n",
       "│ |                          biolink:GeneFamily|    409| │\n",
       "│ |                   biolink:BehavioralFeature|    174| │\n",
       "│ |          biolink:MacromolecularMachineMixin|    108| │\n",
       "│ |                          biolink:RNAProduct|    108| │\n",
       "│ |                             biolink:Vitamin|    102| │\n",
       "│ |                 biolink:NoncodingRNAProduct|     68| │\n",
       "│ |                     biolink:ChemicalMixture|     58| │\n",
       "│ |         biolink:BiologicalProcessOrActivity|     11| │\n",
       "│ |                            biolink:MicroRNA|      2| │\n",
       "│ +--------------------------------------------+-------+ │\n",
       "│                                                        │\n",
       "╰────────────────────────────────────────────────────────╯\n",
       "</pre>\n"
      ],
      "text/plain": [
       "╭──────────────── category Counts in RTX ────────────────╮\n",
       "│ +--------------------------------------------+-------+ │\n",
       "│ |                                    category|  count| │\n",
       "│ +--------------------------------------------+-------+ │\n",
       "│ |                       biolink:OrganismTaxon|1785601| │\n",
       "│ |                          biolink:Transcript| 257221| │\n",
       "│ |                   biolink:MolecularActivity| 228645| │\n",
       "│ |                             biolink:Protein| 197335| │\n",
       "│ |                      biolink:ChemicalEntity| 187144| │\n",
       "│ |                       biolink:SmallMolecule| 135790| │\n",
       "│ |                                biolink:Drug| 132905| │\n",
       "│ |                     biolink:MolecularEntity| 130711| │\n",
       "│ |                    biolink:AnatomicalEntity| 124429| │\n",
       "│ |                                biolink:Gene| 111966| │\n",
       "│ |                             biolink:Disease|  84705| │\n",
       "│ |                             biolink:Pathway|  69550| │\n",
       "│ |                         biolink:Polypeptide|  44705| │\n",
       "│ |          biolink:DiseaseOrPhenotypicFeature|  33237| │\n",
       "│ |                biolink:PhysiologicalProcess|  33217| │\n",
       "│ |                    biolink:BiologicalEntity|  19908| │\n",
       "│ |                   biolink:NucleicAcidEntity|  15685| │\n",
       "│ |            biolink:GrossAnatomicalStructure|  14866| │\n",
       "│ |                   biolink:CellularComponent|   6927| │\n",
       "│ |                          biolink:NamedThing|   5065| │\n",
       "│ |                   biolink:PhenotypicFeature|   4668| │\n",
       "│ |   biolink:ChemicalEntityOrGeneOrGeneProduct|   4501| │\n",
       "│ |          biolink:PhysicalEssenceOrOccurrent|   4031| │\n",
       "│ |                                biolink:Cell|   3673| │\n",
       "│ |biolink:ChemicalEntityOrProteinOrPolypeptide|   2419| │\n",
       "│ |                   biolink:BiologicalProcess|   2186| │\n",
       "│ |                            biolink:Behavior|   1640| │\n",
       "│ |                      biolink:ThingWithTaxon|   1609| │\n",
       "│ |                                biolink:Food|   1296| │\n",
       "│ |                            biolink:CellLine|    415| │\n",
       "│ |                          biolink:GeneFamily|    409| │\n",
       "│ |                   biolink:BehavioralFeature|    174| │\n",
       "│ |          biolink:MacromolecularMachineMixin|    108| │\n",
       "│ |                          biolink:RNAProduct|    108| │\n",
       "│ |                             biolink:Vitamin|    102| │\n",
       "│ |                 biolink:NoncodingRNAProduct|     68| │\n",
       "│ |                     biolink:ChemicalMixture|     58| │\n",
       "│ |         biolink:BiologicalProcessOrActivity|     11| │\n",
       "│ |                            biolink:MicroRNA|      2| │\n",
       "│ +--------------------------------------------+-------+ │\n",
       "│                                                        │\n",
       "╰────────────────────────────────────────────────────────╯\n"
      ]
     },
     "metadata": {},
     "output_type": "display_data"
    },
    {
     "data": {
      "text/html": [
       "<pre style=\"white-space:pre;overflow-x:auto;line-height:normal;font-family:Menlo,'DejaVu Sans Mono',consolas,'Courier New',monospace\">╭─────────────── category Counts in Robo ────────────────╮\n",
       "│ +--------------------------------------------+-------+ │\n",
       "│ |                                    category|  count| │\n",
       "│ +--------------------------------------------+-------+ │\n",
       "│ |                       biolink:GenomicEntity|5112649| │\n",
       "│ |                          biolink:NamedThing|2471600| │\n",
       "│ |          biolink:PhysicalEssenceOrOccurrent|1103707| │\n",
       "│ |                     biolink:MolecularEntity| 319537| │\n",
       "│ |                             biolink:Protein| 190001| │\n",
       "│ |          biolink:MacromolecularMachineMixin|  98131| │\n",
       "│ |                       biolink:OrganismTaxon|  71901| │\n",
       "│ |                       biolink:SmallMolecule|  67576| │\n",
       "│ |biolink:ChemicalEntityOrProteinOrPolypeptide|  55566| │\n",
       "│ |                      biolink:ThingWithTaxon|  51483| │\n",
       "│ |                                biolink:Gene|  38703| │\n",
       "│ |                             biolink:Disease|  35584| │\n",
       "│ |                             biolink:Pathway|  31195| │\n",
       "│ |          biolink:DiseaseOrPhenotypicFeature|  27606| │\n",
       "│ |   biolink:ChemicalEntityOrGeneOrGeneProduct|  23986| │\n",
       "│ |                    biolink:AnatomicalEntity|  17938| │\n",
       "│ |                   biolink:MolecularActivity|  12931| │\n",
       "│ |                      biolink:ChemicalEntity|   8977| │\n",
       "│ |                   biolink:PhenotypicFeature|   2032| │\n",
       "│ |                                biolink:Cell|   1624| │\n",
       "│ |                   biolink:CellularComponent|   1612| │\n",
       "│ |            biolink:GrossAnatomicalStructure|   1562| │\n",
       "│ |                   biolink:BiologicalProcess|    827| │\n",
       "│ |                         biolink:Polypeptide|    357| │\n",
       "│ |                                biolink:Drug|    269| │\n",
       "│ |                   biolink:NucleicAcidEntity|    124| │\n",
       "│ |                    biolink:BiologicalEntity|     97| │\n",
       "│ |                       biolink:OntologyClass|     82| │\n",
       "│ |                          biolink:RNAProduct|     81| │\n",
       "│ |                   biolink:GeneGroupingMixin|     54| │\n",
       "│ |                biolink:PhysiologicalProcess|     24| │\n",
       "│ |                            biolink:Behavior|     11| │\n",
       "│ |                                biolink:Food|      7| │\n",
       "│ |                             biolink:Vitamin|      3| │\n",
       "│ |                     biolink:ChemicalMixture|      3| │\n",
       "│ +--------------------------------------------+-------+ │\n",
       "│                                                        │\n",
       "╰────────────────────────────────────────────────────────╯\n",
       "</pre>\n"
      ],
      "text/plain": [
       "╭─────────────── category Counts in Robo ────────────────╮\n",
       "│ +--------------------------------------------+-------+ │\n",
       "│ |                                    category|  count| │\n",
       "│ +--------------------------------------------+-------+ │\n",
       "│ |                       biolink:GenomicEntity|5112649| │\n",
       "│ |                          biolink:NamedThing|2471600| │\n",
       "│ |          biolink:PhysicalEssenceOrOccurrent|1103707| │\n",
       "│ |                     biolink:MolecularEntity| 319537| │\n",
       "│ |                             biolink:Protein| 190001| │\n",
       "│ |          biolink:MacromolecularMachineMixin|  98131| │\n",
       "│ |                       biolink:OrganismTaxon|  71901| │\n",
       "│ |                       biolink:SmallMolecule|  67576| │\n",
       "│ |biolink:ChemicalEntityOrProteinOrPolypeptide|  55566| │\n",
       "│ |                      biolink:ThingWithTaxon|  51483| │\n",
       "│ |                                biolink:Gene|  38703| │\n",
       "│ |                             biolink:Disease|  35584| │\n",
       "│ |                             biolink:Pathway|  31195| │\n",
       "│ |          biolink:DiseaseOrPhenotypicFeature|  27606| │\n",
       "│ |   biolink:ChemicalEntityOrGeneOrGeneProduct|  23986| │\n",
       "│ |                    biolink:AnatomicalEntity|  17938| │\n",
       "│ |                   biolink:MolecularActivity|  12931| │\n",
       "│ |                      biolink:ChemicalEntity|   8977| │\n",
       "│ |                   biolink:PhenotypicFeature|   2032| │\n",
       "│ |                                biolink:Cell|   1624| │\n",
       "│ |                   biolink:CellularComponent|   1612| │\n",
       "│ |            biolink:GrossAnatomicalStructure|   1562| │\n",
       "│ |                   biolink:BiologicalProcess|    827| │\n",
       "│ |                         biolink:Polypeptide|    357| │\n",
       "│ |                                biolink:Drug|    269| │\n",
       "│ |                   biolink:NucleicAcidEntity|    124| │\n",
       "│ |                    biolink:BiologicalEntity|     97| │\n",
       "│ |                       biolink:OntologyClass|     82| │\n",
       "│ |                          biolink:RNAProduct|     81| │\n",
       "│ |                   biolink:GeneGroupingMixin|     54| │\n",
       "│ |                biolink:PhysiologicalProcess|     24| │\n",
       "│ |                            biolink:Behavior|     11| │\n",
       "│ |                                biolink:Food|      7| │\n",
       "│ |                             biolink:Vitamin|      3| │\n",
       "│ |                     biolink:ChemicalMixture|      3| │\n",
       "│ +--------------------------------------------+-------+ │\n",
       "│                                                        │\n",
       "╰────────────────────────────────────────────────────────╯\n"
      ]
     },
     "metadata": {},
     "output_type": "display_data"
    }
   ],
   "source": [
    "\n",
    "stats_on_df(nodes_in_both, \"category\", \"Both\")\n",
    "stats_on_df(nodes_in_rtx, \"category\", \"RTX\")\n",
    "stats_on_df(nodes_in_robo, \"category\", \"Robo\")"
   ]
  },
  {
   "cell_type": "markdown",
   "metadata": {},
   "source": [
    "OK it looks like Robokop has tons of biolink `subclass_of` and `is_nearby_variant_of` edges. Also 18M `affects`. RTX on the other hand appears to be heavier on `has_participant` and `occurs_in`\n",
    "\n",
    "## Doing some plotting. Let's get a correlation matrix of categories in the 4 variants (rtx, robo, overlap, union)\n",
    "\n",
    "I want to see which categories of nodes are connected with each other. For that I need to join the node categories on the edges dataframe to then the correlation matrix"
   ]
  },
  {
   "cell_type": "code",
   "execution_count": 8,
   "metadata": {},
   "outputs": [
    {
     "name": "stderr",
     "output_type": "stream",
     "text": [
      "                                                                                \r"
     ]
    },
    {
     "data": {
      "application/vnd.plotly.v1+json": {
       "config": {
        "plotlyServerURL": "https://plot.ly"
       },
       "data": [
        {
         "link": {
          "source": [
           0,
           0,
           1,
           2,
           3,
           4,
           5,
           6,
           5,
           6,
           5,
           7,
           6,
           8,
           1,
           9,
           10,
           11,
           6,
           12,
           6,
           12,
           12,
           13,
           14,
           14,
           8,
           4,
           15,
           8,
           8,
           4,
           4,
           16,
           17,
           2,
           2,
           18,
           16,
           9,
           19,
           20,
           8,
           4,
           21,
           17,
           19,
           22,
           23,
           4,
           2,
           15,
           1,
           24,
           9,
           13,
           6,
           25,
           19,
           9,
           22,
           25,
           26,
           8,
           20,
           1,
           23,
           6,
           9,
           8,
           9,
           27,
           22,
           9,
           28,
           16,
           24,
           21,
           8,
           9,
           8,
           29,
           9,
           25,
           19,
           30,
           31,
           32,
           33,
           25,
           14,
           23,
           1,
           4,
           4,
           34,
           35,
           36,
           1,
           1
          ],
          "target": [
           5,
           6,
           2,
           37,
           4,
           38,
           38,
           39,
           40,
           37,
           41,
           42,
           43,
           7,
           9,
           44,
           38,
           6,
           44,
           6,
           45,
           13,
           15,
           37,
           20,
           10,
           4,
           44,
           37,
           9,
           10,
           46,
           45,
           4,
           2,
           47,
           45,
           6,
           25,
           42,
           4,
           44,
           2,
           41,
           41,
           9,
           2,
           4,
           4,
           42,
           44,
           45,
           4,
           10,
           48,
           45,
           49,
           46,
           9,
           46,
           25,
           41,
           44,
           26,
           50,
           21,
           9,
           51,
           45,
           30,
           37,
           41,
           27,
           51,
           47,
           9,
           7,
           40,
           21,
           47,
           32,
           7,
           43,
           37,
           25,
           50,
           9,
           43,
           42,
           44,
           34,
           36,
           36,
           52,
           47,
           44,
           9,
           44,
           28,
           33
          ],
          "value": [
           3036094,
           2723382,
           2104122,
           2099970,
           1788480,
           1766371,
           1239442,
           1063314,
           990239,
           956647,
           852989,
           808136,
           769428,
           687661,
           677254,
           595240,
           583600,
           459380,
           398556,
           398142,
           393253,
           372651,
           361777,
           257350,
           257219,
           257219,
           251208,
           235083,
           228613,
           203970,
           203954,
           201347,
           195072,
           173216,
           170580,
           170078,
           168951,
           164797,
           163118,
           159552,
           155201,
           154486,
           150966,
           148407,
           146771,
           145981,
           144703,
           142748,
           137002,
           136669,
           131480,
           117086,
           115979,
           110028,
           108610,
           108086,
           108010,
           106767,
           101824,
           101569,
           98385,
           91814,
           91373,
           89522,
           87974,
           83740,
           83196,
           82155,
           79985,
           79188,
           74905,
           71497,
           71439,
           70615,
           70465,
           70039,
           69306,
           67199,
           64825,
           64181,
           59932,
           59332,
           57129,
           55532,
           54380,
           52721,
           47903,
           47694,
           47621,
           47468,
           47330,
           46284,
           45109,
           44723,
           42890,
           41394,
           41005,
           39921,
           39319,
           38826
          ]
         },
         "node": {
          "color": [
           "rgb(189,187,65)",
           "rgb(133,14,1)",
           "rgb(75,244,17)",
           "rgb(38,50,242)",
           "rgb(59,234,62)",
           "rgb(147,196,103)",
           "rgb(58,217,109)",
           "rgb(244,32,78)",
           "rgb(60,124,24)",
           "rgb(189,9,168)",
           "rgb(30,186,223)",
           "rgb(237,179,76)",
           "rgb(209,120,143)",
           "rgb(161,149,6)",
           "rgb(114,12,57)",
           "rgb(205,246,142)",
           "rgb(131,224,155)",
           "rgb(187,120,217)",
           "rgb(144,190,212)",
           "rgb(175,118,191)",
           "rgb(85,98,120)",
           "rgb(4,126,188)",
           "rgb(219,212,178)",
           "rgb(110,24,214)",
           "rgb(49,153,186)",
           "rgb(232,185,21)",
           "rgb(10,235,128)",
           "rgb(109,38,111)",
           "rgb(58,68,45)",
           "rgb(5,232,37)",
           "rgb(191,87,216)",
           "rgb(142,15,137)",
           "rgb(137,113,7)",
           "rgb(135,132,124)",
           "rgb(103,154,37)",
           "rgb(251,239,208)",
           "rgb(55,82,54)",
           "rgb(177,152,184)",
           "rgb(43,152,18)",
           "rgb(66,151,60)",
           "rgb(135,25,130)",
           "rgb(49,231,151)",
           "rgb(139,67,224)",
           "rgb(113,39,217)",
           "rgb(133,65,55)",
           "rgb(199,42,186)",
           "rgb(80,128,225)",
           "rgb(217,240,111)",
           "rgb(32,104,117)",
           "rgb(135,26,182)",
           "rgb(209,169,149)",
           "rgb(106,37,58)",
           "rgb(87,141,32)"
          ],
          "label": [
           "sub:biolink:Pathway",
           "sub:biolink:SmallMolecule",
           "biolink:physically_interacts_with",
           "sub:biolink:OrganismTaxon",
           "biolink:subclass_of",
           "biolink:occurs_in",
           "biolink:has_participant",
           "biolink:gene_associated_with_condition",
           "sub:biolink:Protein",
           "biolink:related_to",
           "biolink:in_taxon",
           "sub:biolink:PhysiologicalProcess",
           "sub:biolink:MolecularActivity",
           "biolink:has_output",
           "sub:biolink:Transcript",
           "biolink:has_input",
           "sub:biolink:Drug",
           "sub:biolink:ChemicalEntity",
           "sub:biolink:BiologicalProcess",
           "sub:biolink:MolecularEntity",
           "biolink:transcribed_from",
           "biolink:located_in",
           "sub:biolink:AnatomicalEntity",
           "sub:biolink:Disease",
           "sub:biolink:Gene",
           "biolink:has_part",
           "biolink:interacts_with",
           "biolink:coexists_with",
           "biolink:close_match",
           "sub:biolink:ChemicalEntityOrGeneOrGeneProduct",
           "biolink:gene_product_of",
           "sub:biolink:Polypeptide",
           "biolink:enables",
           "biolink:treats",
           "biolink:translates_to",
           "sub:biolink:Cell",
           "biolink:affects",
           "obj:biolink:SmallMolecule",
           "obj:biolink:OrganismTaxon",
           "obj:biolink:Transcript",
           "obj:biolink:CellularComponent",
           "obj:biolink:AnatomicalEntity",
           "obj:biolink:Disease",
           "obj:biolink:MolecularActivity",
           "obj:biolink:Protein",
           "obj:biolink:MolecularEntity",
           "obj:biolink:Drug",
           "obj:biolink:ChemicalEntity",
           "obj:biolink:PhysiologicalProcess",
           "obj:biolink:Polypeptide",
           "obj:biolink:Gene",
           "obj:biolink:ChemicalEntityOrGeneOrGeneProduct",
           "obj:biolink:BiologicalEntity"
          ],
          "line": {
           "color": "black",
           "width": 0.5
          },
          "pad": 15,
          "thickness": 20
         },
         "type": "sankey"
        }
       ],
       "layout": {
        "font": {
         "size": 10
        },
        "height": 1080,
        "template": {
         "data": {
          "bar": [
           {
            "error_x": {
             "color": "#2a3f5f"
            },
            "error_y": {
             "color": "#2a3f5f"
            },
            "marker": {
             "line": {
              "color": "#E5ECF6",
              "width": 0.5
             },
             "pattern": {
              "fillmode": "overlay",
              "size": 10,
              "solidity": 0.2
             }
            },
            "type": "bar"
           }
          ],
          "barpolar": [
           {
            "marker": {
             "line": {
              "color": "#E5ECF6",
              "width": 0.5
             },
             "pattern": {
              "fillmode": "overlay",
              "size": 10,
              "solidity": 0.2
             }
            },
            "type": "barpolar"
           }
          ],
          "carpet": [
           {
            "aaxis": {
             "endlinecolor": "#2a3f5f",
             "gridcolor": "white",
             "linecolor": "white",
             "minorgridcolor": "white",
             "startlinecolor": "#2a3f5f"
            },
            "baxis": {
             "endlinecolor": "#2a3f5f",
             "gridcolor": "white",
             "linecolor": "white",
             "minorgridcolor": "white",
             "startlinecolor": "#2a3f5f"
            },
            "type": "carpet"
           }
          ],
          "choropleth": [
           {
            "colorbar": {
             "outlinewidth": 0,
             "ticks": ""
            },
            "type": "choropleth"
           }
          ],
          "contour": [
           {
            "colorbar": {
             "outlinewidth": 0,
             "ticks": ""
            },
            "colorscale": [
             [
              0,
              "#0d0887"
             ],
             [
              0.1111111111111111,
              "#46039f"
             ],
             [
              0.2222222222222222,
              "#7201a8"
             ],
             [
              0.3333333333333333,
              "#9c179e"
             ],
             [
              0.4444444444444444,
              "#bd3786"
             ],
             [
              0.5555555555555556,
              "#d8576b"
             ],
             [
              0.6666666666666666,
              "#ed7953"
             ],
             [
              0.7777777777777778,
              "#fb9f3a"
             ],
             [
              0.8888888888888888,
              "#fdca26"
             ],
             [
              1,
              "#f0f921"
             ]
            ],
            "type": "contour"
           }
          ],
          "contourcarpet": [
           {
            "colorbar": {
             "outlinewidth": 0,
             "ticks": ""
            },
            "type": "contourcarpet"
           }
          ],
          "heatmap": [
           {
            "colorbar": {
             "outlinewidth": 0,
             "ticks": ""
            },
            "colorscale": [
             [
              0,
              "#0d0887"
             ],
             [
              0.1111111111111111,
              "#46039f"
             ],
             [
              0.2222222222222222,
              "#7201a8"
             ],
             [
              0.3333333333333333,
              "#9c179e"
             ],
             [
              0.4444444444444444,
              "#bd3786"
             ],
             [
              0.5555555555555556,
              "#d8576b"
             ],
             [
              0.6666666666666666,
              "#ed7953"
             ],
             [
              0.7777777777777778,
              "#fb9f3a"
             ],
             [
              0.8888888888888888,
              "#fdca26"
             ],
             [
              1,
              "#f0f921"
             ]
            ],
            "type": "heatmap"
           }
          ],
          "heatmapgl": [
           {
            "colorbar": {
             "outlinewidth": 0,
             "ticks": ""
            },
            "colorscale": [
             [
              0,
              "#0d0887"
             ],
             [
              0.1111111111111111,
              "#46039f"
             ],
             [
              0.2222222222222222,
              "#7201a8"
             ],
             [
              0.3333333333333333,
              "#9c179e"
             ],
             [
              0.4444444444444444,
              "#bd3786"
             ],
             [
              0.5555555555555556,
              "#d8576b"
             ],
             [
              0.6666666666666666,
              "#ed7953"
             ],
             [
              0.7777777777777778,
              "#fb9f3a"
             ],
             [
              0.8888888888888888,
              "#fdca26"
             ],
             [
              1,
              "#f0f921"
             ]
            ],
            "type": "heatmapgl"
           }
          ],
          "histogram": [
           {
            "marker": {
             "pattern": {
              "fillmode": "overlay",
              "size": 10,
              "solidity": 0.2
             }
            },
            "type": "histogram"
           }
          ],
          "histogram2d": [
           {
            "colorbar": {
             "outlinewidth": 0,
             "ticks": ""
            },
            "colorscale": [
             [
              0,
              "#0d0887"
             ],
             [
              0.1111111111111111,
              "#46039f"
             ],
             [
              0.2222222222222222,
              "#7201a8"
             ],
             [
              0.3333333333333333,
              "#9c179e"
             ],
             [
              0.4444444444444444,
              "#bd3786"
             ],
             [
              0.5555555555555556,
              "#d8576b"
             ],
             [
              0.6666666666666666,
              "#ed7953"
             ],
             [
              0.7777777777777778,
              "#fb9f3a"
             ],
             [
              0.8888888888888888,
              "#fdca26"
             ],
             [
              1,
              "#f0f921"
             ]
            ],
            "type": "histogram2d"
           }
          ],
          "histogram2dcontour": [
           {
            "colorbar": {
             "outlinewidth": 0,
             "ticks": ""
            },
            "colorscale": [
             [
              0,
              "#0d0887"
             ],
             [
              0.1111111111111111,
              "#46039f"
             ],
             [
              0.2222222222222222,
              "#7201a8"
             ],
             [
              0.3333333333333333,
              "#9c179e"
             ],
             [
              0.4444444444444444,
              "#bd3786"
             ],
             [
              0.5555555555555556,
              "#d8576b"
             ],
             [
              0.6666666666666666,
              "#ed7953"
             ],
             [
              0.7777777777777778,
              "#fb9f3a"
             ],
             [
              0.8888888888888888,
              "#fdca26"
             ],
             [
              1,
              "#f0f921"
             ]
            ],
            "type": "histogram2dcontour"
           }
          ],
          "mesh3d": [
           {
            "colorbar": {
             "outlinewidth": 0,
             "ticks": ""
            },
            "type": "mesh3d"
           }
          ],
          "parcoords": [
           {
            "line": {
             "colorbar": {
              "outlinewidth": 0,
              "ticks": ""
             }
            },
            "type": "parcoords"
           }
          ],
          "pie": [
           {
            "automargin": true,
            "type": "pie"
           }
          ],
          "scatter": [
           {
            "fillpattern": {
             "fillmode": "overlay",
             "size": 10,
             "solidity": 0.2
            },
            "type": "scatter"
           }
          ],
          "scatter3d": [
           {
            "line": {
             "colorbar": {
              "outlinewidth": 0,
              "ticks": ""
             }
            },
            "marker": {
             "colorbar": {
              "outlinewidth": 0,
              "ticks": ""
             }
            },
            "type": "scatter3d"
           }
          ],
          "scattercarpet": [
           {
            "marker": {
             "colorbar": {
              "outlinewidth": 0,
              "ticks": ""
             }
            },
            "type": "scattercarpet"
           }
          ],
          "scattergeo": [
           {
            "marker": {
             "colorbar": {
              "outlinewidth": 0,
              "ticks": ""
             }
            },
            "type": "scattergeo"
           }
          ],
          "scattergl": [
           {
            "marker": {
             "colorbar": {
              "outlinewidth": 0,
              "ticks": ""
             }
            },
            "type": "scattergl"
           }
          ],
          "scattermapbox": [
           {
            "marker": {
             "colorbar": {
              "outlinewidth": 0,
              "ticks": ""
             }
            },
            "type": "scattermapbox"
           }
          ],
          "scatterpolar": [
           {
            "marker": {
             "colorbar": {
              "outlinewidth": 0,
              "ticks": ""
             }
            },
            "type": "scatterpolar"
           }
          ],
          "scatterpolargl": [
           {
            "marker": {
             "colorbar": {
              "outlinewidth": 0,
              "ticks": ""
             }
            },
            "type": "scatterpolargl"
           }
          ],
          "scatterternary": [
           {
            "marker": {
             "colorbar": {
              "outlinewidth": 0,
              "ticks": ""
             }
            },
            "type": "scatterternary"
           }
          ],
          "surface": [
           {
            "colorbar": {
             "outlinewidth": 0,
             "ticks": ""
            },
            "colorscale": [
             [
              0,
              "#0d0887"
             ],
             [
              0.1111111111111111,
              "#46039f"
             ],
             [
              0.2222222222222222,
              "#7201a8"
             ],
             [
              0.3333333333333333,
              "#9c179e"
             ],
             [
              0.4444444444444444,
              "#bd3786"
             ],
             [
              0.5555555555555556,
              "#d8576b"
             ],
             [
              0.6666666666666666,
              "#ed7953"
             ],
             [
              0.7777777777777778,
              "#fb9f3a"
             ],
             [
              0.8888888888888888,
              "#fdca26"
             ],
             [
              1,
              "#f0f921"
             ]
            ],
            "type": "surface"
           }
          ],
          "table": [
           {
            "cells": {
             "fill": {
              "color": "#EBF0F8"
             },
             "line": {
              "color": "white"
             }
            },
            "header": {
             "fill": {
              "color": "#C8D4E3"
             },
             "line": {
              "color": "white"
             }
            },
            "type": "table"
           }
          ]
         },
         "layout": {
          "annotationdefaults": {
           "arrowcolor": "#2a3f5f",
           "arrowhead": 0,
           "arrowwidth": 1
          },
          "autotypenumbers": "strict",
          "coloraxis": {
           "colorbar": {
            "outlinewidth": 0,
            "ticks": ""
           }
          },
          "colorscale": {
           "diverging": [
            [
             0,
             "#8e0152"
            ],
            [
             0.1,
             "#c51b7d"
            ],
            [
             0.2,
             "#de77ae"
            ],
            [
             0.3,
             "#f1b6da"
            ],
            [
             0.4,
             "#fde0ef"
            ],
            [
             0.5,
             "#f7f7f7"
            ],
            [
             0.6,
             "#e6f5d0"
            ],
            [
             0.7,
             "#b8e186"
            ],
            [
             0.8,
             "#7fbc41"
            ],
            [
             0.9,
             "#4d9221"
            ],
            [
             1,
             "#276419"
            ]
           ],
           "sequential": [
            [
             0,
             "#0d0887"
            ],
            [
             0.1111111111111111,
             "#46039f"
            ],
            [
             0.2222222222222222,
             "#7201a8"
            ],
            [
             0.3333333333333333,
             "#9c179e"
            ],
            [
             0.4444444444444444,
             "#bd3786"
            ],
            [
             0.5555555555555556,
             "#d8576b"
            ],
            [
             0.6666666666666666,
             "#ed7953"
            ],
            [
             0.7777777777777778,
             "#fb9f3a"
            ],
            [
             0.8888888888888888,
             "#fdca26"
            ],
            [
             1,
             "#f0f921"
            ]
           ],
           "sequentialminus": [
            [
             0,
             "#0d0887"
            ],
            [
             0.1111111111111111,
             "#46039f"
            ],
            [
             0.2222222222222222,
             "#7201a8"
            ],
            [
             0.3333333333333333,
             "#9c179e"
            ],
            [
             0.4444444444444444,
             "#bd3786"
            ],
            [
             0.5555555555555556,
             "#d8576b"
            ],
            [
             0.6666666666666666,
             "#ed7953"
            ],
            [
             0.7777777777777778,
             "#fb9f3a"
            ],
            [
             0.8888888888888888,
             "#fdca26"
            ],
            [
             1,
             "#f0f921"
            ]
           ]
          },
          "colorway": [
           "#636efa",
           "#EF553B",
           "#00cc96",
           "#ab63fa",
           "#FFA15A",
           "#19d3f3",
           "#FF6692",
           "#B6E880",
           "#FF97FF",
           "#FECB52"
          ],
          "font": {
           "color": "#2a3f5f"
          },
          "geo": {
           "bgcolor": "white",
           "lakecolor": "white",
           "landcolor": "#E5ECF6",
           "showlakes": true,
           "showland": true,
           "subunitcolor": "white"
          },
          "hoverlabel": {
           "align": "left"
          },
          "hovermode": "closest",
          "mapbox": {
           "style": "light"
          },
          "paper_bgcolor": "white",
          "plot_bgcolor": "#E5ECF6",
          "polar": {
           "angularaxis": {
            "gridcolor": "white",
            "linecolor": "white",
            "ticks": ""
           },
           "bgcolor": "#E5ECF6",
           "radialaxis": {
            "gridcolor": "white",
            "linecolor": "white",
            "ticks": ""
           }
          },
          "scene": {
           "xaxis": {
            "backgroundcolor": "#E5ECF6",
            "gridcolor": "white",
            "gridwidth": 2,
            "linecolor": "white",
            "showbackground": true,
            "ticks": "",
            "zerolinecolor": "white"
           },
           "yaxis": {
            "backgroundcolor": "#E5ECF6",
            "gridcolor": "white",
            "gridwidth": 2,
            "linecolor": "white",
            "showbackground": true,
            "ticks": "",
            "zerolinecolor": "white"
           },
           "zaxis": {
            "backgroundcolor": "#E5ECF6",
            "gridcolor": "white",
            "gridwidth": 2,
            "linecolor": "white",
            "showbackground": true,
            "ticks": "",
            "zerolinecolor": "white"
           }
          },
          "shapedefaults": {
           "line": {
            "color": "#2a3f5f"
           }
          },
          "ternary": {
           "aaxis": {
            "gridcolor": "white",
            "linecolor": "white",
            "ticks": ""
           },
           "baxis": {
            "gridcolor": "white",
            "linecolor": "white",
            "ticks": ""
           },
           "bgcolor": "#E5ECF6",
           "caxis": {
            "gridcolor": "white",
            "linecolor": "white",
            "ticks": ""
           }
          },
          "title": {
           "x": 0.05
          },
          "xaxis": {
           "automargin": true,
           "gridcolor": "white",
           "linecolor": "white",
           "ticks": "",
           "title": {
            "standoff": 15
           },
           "zerolinecolor": "white",
           "zerolinewidth": 2
          },
          "yaxis": {
           "automargin": true,
           "gridcolor": "white",
           "linecolor": "white",
           "ticks": "",
           "title": {
            "standoff": 15
           },
           "zerolinecolor": "white",
           "zerolinewidth": 2
          }
         }
        },
        "title": {
         "text": "RTX"
        },
        "width": 1920
       }
      }
     },
     "metadata": {},
     "output_type": "display_data"
    },
    {
     "name": "stderr",
     "output_type": "stream",
     "text": [
      "                                                                                \r"
     ]
    },
    {
     "data": {
      "application/vnd.plotly.v1+json": {
       "config": {
        "plotlyServerURL": "https://plot.ly"
       },
       "data": [
        {
         "link": {
          "source": [
           0,
           1,
           2,
           3,
           2,
           1,
           4,
           3,
           1,
           5,
           6,
           5,
           3,
           4,
           2,
           4,
           7,
           8,
           9,
           10,
           1,
           9,
           11,
           5,
           8,
           12,
           13,
           14,
           15,
           5,
           5,
           2,
           1,
           16,
           7,
           5,
           1,
           17,
           1,
           18,
           1,
           8,
           1,
           19,
           5,
           15,
           20,
           21,
           6,
           22,
           23,
           19,
           19,
           24,
           9,
           25,
           5,
           9,
           26,
           1,
           5,
           27,
           17,
           28,
           5,
           29,
           1,
           30,
           6,
           15,
           4,
           29,
           31,
           25,
           32,
           21,
           22,
           7,
           25,
           15,
           22,
           4,
           10,
           6,
           5,
           33,
           34,
           35,
           36,
           37,
           22,
           5,
           21,
           37,
           4,
           38,
           5,
           14,
           32,
           15
          ],
          "target": [
           1,
           39,
           3,
           40,
           4,
           41,
           42,
           42,
           43,
           6,
           42,
           1,
           44,
           40,
           8,
           44,
           1,
           42,
           1,
           1,
           44,
           4,
           42,
           11,
           40,
           45,
           1,
           46,
           1,
           12,
           4,
           19,
           47,
           42,
           4,
           16,
           48,
           1,
           49,
           25,
           46,
           44,
           42,
           48,
           14,
           4,
           42,
           6,
           44,
           14,
           42,
           50,
           47,
           47,
           23,
           51,
           20,
           37,
           1,
           50,
           27,
           42,
           19,
           46,
           19,
           20,
           45,
           6,
           40,
           24,
           46,
           1,
           45,
           43,
           12,
           1,
           31,
           23,
           46,
           52,
           1,
           43,
           6,
           49,
           33,
           42,
           1,
           47,
           42,
           45,
           28,
           28,
           12,
           46,
           51,
           39,
           53,
           54,
           1,
           35
          ],
          "value": [
           45243392,
           32571757,
           31864140,
           15636968,
           14909948,
           13708679,
           10694961,
           10679440,
           9082167,
           8492314,
           8492314,
           5734309,
           5490997,
           4065024,
           3858701,
           2876614,
           2632409,
           2300068,
           1559377,
           1535295,
           1521850,
           1314082,
           1304632,
           1304625,
           1062539,
           1038797,
           1037029,
           856278,
           825097,
           669861,
           626529,
           625101,
           608686,
           582857,
           579313,
           577823,
           561146,
           554476,
           545365,
           524706,
           505770,
           492740,
           490958,
           490203,
           482298,
           477113,
           445810,
           397024,
           397024,
           377394,
           358958,
           310621,
           286574,
           268333,
           248629,
           230086,
           225274,
           221513,
           218507,
           216593,
           210770,
           210770,
           206164,
           204228,
           203347,
           200041,
           196324,
           189018,
           189018,
           188906,
           180912,
           177983,
           175176,
           170457,
           168352,
           167743,
           157686,
           150908,
           147504,
           136917,
           132720,
           129000,
           124210,
           124210,
           123640,
           123267,
           121458,
           116062,
           111692,
           111281,
           110513,
           108184,
           104710,
           104265,
           99694,
           97610,
           96873,
           96694,
           92817,
           92083
          ]
         },
         "node": {
          "color": [
           "rgb(155,198,65)",
           "rgb(20,75,26)",
           "rgb(96,223,32)",
           "rgb(188,217,79)",
           "rgb(120,90,91)",
           "rgb(192,25,41)",
           "rgb(98,174,170)",
           "rgb(172,111,96)",
           "rgb(134,26,28)",
           "rgb(181,127,109)",
           "rgb(126,82,157)",
           "rgb(64,168,108)",
           "rgb(239,168,98)",
           "rgb(68,146,55)",
           "rgb(120,204,164)",
           "rgb(130,245,91)",
           "rgb(214,23,28)",
           "rgb(227,103,8)",
           "rgb(23,83,165)",
           "rgb(205,120,217)",
           "rgb(138,189,167)",
           "rgb(193,160,124)",
           "rgb(249,40,121)",
           "rgb(198,239,13)",
           "rgb(130,23,24)",
           "rgb(83,171,145)",
           "rgb(26,182,14)",
           "rgb(193,152,104)",
           "rgb(147,168,88)",
           "rgb(129,87,48)",
           "rgb(24,239,129)",
           "rgb(102,55,54)",
           "rgb(42,94,151)",
           "rgb(38,21,216)",
           "rgb(160,233,154)",
           "rgb(182,109,26)",
           "rgb(43,189,51)",
           "rgb(21,37,172)",
           "rgb(73,30,86)",
           "rgb(136,133,38)",
           "rgb(151,137,248)",
           "rgb(220,19,210)",
           "rgb(204,227,13)",
           "rgb(2,197,3)",
           "rgb(35,243,131)",
           "rgb(178,132,97)",
           "rgb(47,198,253)",
           "rgb(36,241,76)",
           "rgb(25,254,29)",
           "rgb(228,9,145)",
           "rgb(46,212,37)",
           "rgb(224,63,129)",
           "rgb(146,102,50)",
           "rgb(120,4,105)",
           "rgb(159,6,31)"
          ],
          "label": [
           "sub:biolink:NamedThing",
           "biolink:subclass_of",
           "sub:biolink:GenomicEntity",
           "biolink:is_nearby_variant_of",
           "biolink:affects",
           "sub:biolink:Protein",
           "biolink:coexpressed_with",
           "sub:biolink:MolecularEntity",
           "biolink:is_non_coding_variant_of",
           "sub:biolink:PhysicalEssenceOrOccurrent",
           "sub:biolink:MacromolecularMachineMixin",
           "biolink:physically_interacts_with",
           "biolink:expressed_in",
           "sub:biolink:OrganismTaxon",
           "biolink:actively_involved_in",
           "sub:biolink:SmallMolecule",
           "biolink:directly_physically_interacts_with",
           "sub:biolink:Disease",
           "sub:biolink:Pathway",
           "biolink:has_phenotype",
           "biolink:regulates",
           "sub:biolink:ChemicalEntityOrGeneOrGeneProduct",
           "sub:biolink:ThingWithTaxon",
           "biolink:binds",
           "biolink:treats_or_applied_or_studied_to_treat",
           "biolink:has_participant",
           "sub:biolink:DiseaseOrPhenotypicFeature",
           "biolink:homologous_to",
           "biolink:catalyzes",
           "sub:biolink:AnatomicalEntity",
           "sub:biolink:Gene",
           "biolink:located_in",
           "sub:biolink:ChemicalEntityOrProteinOrPolypeptide",
           "biolink:genetically_interacts_with",
           "sub:biolink:ChemicalEntity",
           "biolink:contributes_to",
           "biolink:has_part",
           "biolink:occurs_in",
           "biolink:in_taxon",
           "obj:biolink:NamedThing",
           "obj:biolink:Gene",
           "obj:biolink:OrganismTaxon",
           "obj:biolink:Protein",
           "obj:biolink:MolecularEntity",
           "obj:biolink:ChemicalEntityOrGeneOrGeneProduct",
           "obj:biolink:AnatomicalEntity",
           "obj:biolink:PhysicalEssenceOrOccurrent",
           "obj:biolink:Disease",
           "obj:biolink:ThingWithTaxon",
           "obj:biolink:MacromolecularMachineMixin",
           "obj:biolink:DiseaseOrPhenotypicFeature",
           "obj:biolink:SmallMolecule",
           "biolink:has_adverse_event",
           "biolink:genetically_associated_with",
           "obj:biolink:BiologicalProcess"
          ],
          "line": {
           "color": "black",
           "width": 0.5
          },
          "pad": 15,
          "thickness": 20
         },
         "type": "sankey"
        }
       ],
       "layout": {
        "font": {
         "size": 10
        },
        "height": 1080,
        "template": {
         "data": {
          "bar": [
           {
            "error_x": {
             "color": "#2a3f5f"
            },
            "error_y": {
             "color": "#2a3f5f"
            },
            "marker": {
             "line": {
              "color": "#E5ECF6",
              "width": 0.5
             },
             "pattern": {
              "fillmode": "overlay",
              "size": 10,
              "solidity": 0.2
             }
            },
            "type": "bar"
           }
          ],
          "barpolar": [
           {
            "marker": {
             "line": {
              "color": "#E5ECF6",
              "width": 0.5
             },
             "pattern": {
              "fillmode": "overlay",
              "size": 10,
              "solidity": 0.2
             }
            },
            "type": "barpolar"
           }
          ],
          "carpet": [
           {
            "aaxis": {
             "endlinecolor": "#2a3f5f",
             "gridcolor": "white",
             "linecolor": "white",
             "minorgridcolor": "white",
             "startlinecolor": "#2a3f5f"
            },
            "baxis": {
             "endlinecolor": "#2a3f5f",
             "gridcolor": "white",
             "linecolor": "white",
             "minorgridcolor": "white",
             "startlinecolor": "#2a3f5f"
            },
            "type": "carpet"
           }
          ],
          "choropleth": [
           {
            "colorbar": {
             "outlinewidth": 0,
             "ticks": ""
            },
            "type": "choropleth"
           }
          ],
          "contour": [
           {
            "colorbar": {
             "outlinewidth": 0,
             "ticks": ""
            },
            "colorscale": [
             [
              0,
              "#0d0887"
             ],
             [
              0.1111111111111111,
              "#46039f"
             ],
             [
              0.2222222222222222,
              "#7201a8"
             ],
             [
              0.3333333333333333,
              "#9c179e"
             ],
             [
              0.4444444444444444,
              "#bd3786"
             ],
             [
              0.5555555555555556,
              "#d8576b"
             ],
             [
              0.6666666666666666,
              "#ed7953"
             ],
             [
              0.7777777777777778,
              "#fb9f3a"
             ],
             [
              0.8888888888888888,
              "#fdca26"
             ],
             [
              1,
              "#f0f921"
             ]
            ],
            "type": "contour"
           }
          ],
          "contourcarpet": [
           {
            "colorbar": {
             "outlinewidth": 0,
             "ticks": ""
            },
            "type": "contourcarpet"
           }
          ],
          "heatmap": [
           {
            "colorbar": {
             "outlinewidth": 0,
             "ticks": ""
            },
            "colorscale": [
             [
              0,
              "#0d0887"
             ],
             [
              0.1111111111111111,
              "#46039f"
             ],
             [
              0.2222222222222222,
              "#7201a8"
             ],
             [
              0.3333333333333333,
              "#9c179e"
             ],
             [
              0.4444444444444444,
              "#bd3786"
             ],
             [
              0.5555555555555556,
              "#d8576b"
             ],
             [
              0.6666666666666666,
              "#ed7953"
             ],
             [
              0.7777777777777778,
              "#fb9f3a"
             ],
             [
              0.8888888888888888,
              "#fdca26"
             ],
             [
              1,
              "#f0f921"
             ]
            ],
            "type": "heatmap"
           }
          ],
          "heatmapgl": [
           {
            "colorbar": {
             "outlinewidth": 0,
             "ticks": ""
            },
            "colorscale": [
             [
              0,
              "#0d0887"
             ],
             [
              0.1111111111111111,
              "#46039f"
             ],
             [
              0.2222222222222222,
              "#7201a8"
             ],
             [
              0.3333333333333333,
              "#9c179e"
             ],
             [
              0.4444444444444444,
              "#bd3786"
             ],
             [
              0.5555555555555556,
              "#d8576b"
             ],
             [
              0.6666666666666666,
              "#ed7953"
             ],
             [
              0.7777777777777778,
              "#fb9f3a"
             ],
             [
              0.8888888888888888,
              "#fdca26"
             ],
             [
              1,
              "#f0f921"
             ]
            ],
            "type": "heatmapgl"
           }
          ],
          "histogram": [
           {
            "marker": {
             "pattern": {
              "fillmode": "overlay",
              "size": 10,
              "solidity": 0.2
             }
            },
            "type": "histogram"
           }
          ],
          "histogram2d": [
           {
            "colorbar": {
             "outlinewidth": 0,
             "ticks": ""
            },
            "colorscale": [
             [
              0,
              "#0d0887"
             ],
             [
              0.1111111111111111,
              "#46039f"
             ],
             [
              0.2222222222222222,
              "#7201a8"
             ],
             [
              0.3333333333333333,
              "#9c179e"
             ],
             [
              0.4444444444444444,
              "#bd3786"
             ],
             [
              0.5555555555555556,
              "#d8576b"
             ],
             [
              0.6666666666666666,
              "#ed7953"
             ],
             [
              0.7777777777777778,
              "#fb9f3a"
             ],
             [
              0.8888888888888888,
              "#fdca26"
             ],
             [
              1,
              "#f0f921"
             ]
            ],
            "type": "histogram2d"
           }
          ],
          "histogram2dcontour": [
           {
            "colorbar": {
             "outlinewidth": 0,
             "ticks": ""
            },
            "colorscale": [
             [
              0,
              "#0d0887"
             ],
             [
              0.1111111111111111,
              "#46039f"
             ],
             [
              0.2222222222222222,
              "#7201a8"
             ],
             [
              0.3333333333333333,
              "#9c179e"
             ],
             [
              0.4444444444444444,
              "#bd3786"
             ],
             [
              0.5555555555555556,
              "#d8576b"
             ],
             [
              0.6666666666666666,
              "#ed7953"
             ],
             [
              0.7777777777777778,
              "#fb9f3a"
             ],
             [
              0.8888888888888888,
              "#fdca26"
             ],
             [
              1,
              "#f0f921"
             ]
            ],
            "type": "histogram2dcontour"
           }
          ],
          "mesh3d": [
           {
            "colorbar": {
             "outlinewidth": 0,
             "ticks": ""
            },
            "type": "mesh3d"
           }
          ],
          "parcoords": [
           {
            "line": {
             "colorbar": {
              "outlinewidth": 0,
              "ticks": ""
             }
            },
            "type": "parcoords"
           }
          ],
          "pie": [
           {
            "automargin": true,
            "type": "pie"
           }
          ],
          "scatter": [
           {
            "fillpattern": {
             "fillmode": "overlay",
             "size": 10,
             "solidity": 0.2
            },
            "type": "scatter"
           }
          ],
          "scatter3d": [
           {
            "line": {
             "colorbar": {
              "outlinewidth": 0,
              "ticks": ""
             }
            },
            "marker": {
             "colorbar": {
              "outlinewidth": 0,
              "ticks": ""
             }
            },
            "type": "scatter3d"
           }
          ],
          "scattercarpet": [
           {
            "marker": {
             "colorbar": {
              "outlinewidth": 0,
              "ticks": ""
             }
            },
            "type": "scattercarpet"
           }
          ],
          "scattergeo": [
           {
            "marker": {
             "colorbar": {
              "outlinewidth": 0,
              "ticks": ""
             }
            },
            "type": "scattergeo"
           }
          ],
          "scattergl": [
           {
            "marker": {
             "colorbar": {
              "outlinewidth": 0,
              "ticks": ""
             }
            },
            "type": "scattergl"
           }
          ],
          "scattermapbox": [
           {
            "marker": {
             "colorbar": {
              "outlinewidth": 0,
              "ticks": ""
             }
            },
            "type": "scattermapbox"
           }
          ],
          "scatterpolar": [
           {
            "marker": {
             "colorbar": {
              "outlinewidth": 0,
              "ticks": ""
             }
            },
            "type": "scatterpolar"
           }
          ],
          "scatterpolargl": [
           {
            "marker": {
             "colorbar": {
              "outlinewidth": 0,
              "ticks": ""
             }
            },
            "type": "scatterpolargl"
           }
          ],
          "scatterternary": [
           {
            "marker": {
             "colorbar": {
              "outlinewidth": 0,
              "ticks": ""
             }
            },
            "type": "scatterternary"
           }
          ],
          "surface": [
           {
            "colorbar": {
             "outlinewidth": 0,
             "ticks": ""
            },
            "colorscale": [
             [
              0,
              "#0d0887"
             ],
             [
              0.1111111111111111,
              "#46039f"
             ],
             [
              0.2222222222222222,
              "#7201a8"
             ],
             [
              0.3333333333333333,
              "#9c179e"
             ],
             [
              0.4444444444444444,
              "#bd3786"
             ],
             [
              0.5555555555555556,
              "#d8576b"
             ],
             [
              0.6666666666666666,
              "#ed7953"
             ],
             [
              0.7777777777777778,
              "#fb9f3a"
             ],
             [
              0.8888888888888888,
              "#fdca26"
             ],
             [
              1,
              "#f0f921"
             ]
            ],
            "type": "surface"
           }
          ],
          "table": [
           {
            "cells": {
             "fill": {
              "color": "#EBF0F8"
             },
             "line": {
              "color": "white"
             }
            },
            "header": {
             "fill": {
              "color": "#C8D4E3"
             },
             "line": {
              "color": "white"
             }
            },
            "type": "table"
           }
          ]
         },
         "layout": {
          "annotationdefaults": {
           "arrowcolor": "#2a3f5f",
           "arrowhead": 0,
           "arrowwidth": 1
          },
          "autotypenumbers": "strict",
          "coloraxis": {
           "colorbar": {
            "outlinewidth": 0,
            "ticks": ""
           }
          },
          "colorscale": {
           "diverging": [
            [
             0,
             "#8e0152"
            ],
            [
             0.1,
             "#c51b7d"
            ],
            [
             0.2,
             "#de77ae"
            ],
            [
             0.3,
             "#f1b6da"
            ],
            [
             0.4,
             "#fde0ef"
            ],
            [
             0.5,
             "#f7f7f7"
            ],
            [
             0.6,
             "#e6f5d0"
            ],
            [
             0.7,
             "#b8e186"
            ],
            [
             0.8,
             "#7fbc41"
            ],
            [
             0.9,
             "#4d9221"
            ],
            [
             1,
             "#276419"
            ]
           ],
           "sequential": [
            [
             0,
             "#0d0887"
            ],
            [
             0.1111111111111111,
             "#46039f"
            ],
            [
             0.2222222222222222,
             "#7201a8"
            ],
            [
             0.3333333333333333,
             "#9c179e"
            ],
            [
             0.4444444444444444,
             "#bd3786"
            ],
            [
             0.5555555555555556,
             "#d8576b"
            ],
            [
             0.6666666666666666,
             "#ed7953"
            ],
            [
             0.7777777777777778,
             "#fb9f3a"
            ],
            [
             0.8888888888888888,
             "#fdca26"
            ],
            [
             1,
             "#f0f921"
            ]
           ],
           "sequentialminus": [
            [
             0,
             "#0d0887"
            ],
            [
             0.1111111111111111,
             "#46039f"
            ],
            [
             0.2222222222222222,
             "#7201a8"
            ],
            [
             0.3333333333333333,
             "#9c179e"
            ],
            [
             0.4444444444444444,
             "#bd3786"
            ],
            [
             0.5555555555555556,
             "#d8576b"
            ],
            [
             0.6666666666666666,
             "#ed7953"
            ],
            [
             0.7777777777777778,
             "#fb9f3a"
            ],
            [
             0.8888888888888888,
             "#fdca26"
            ],
            [
             1,
             "#f0f921"
            ]
           ]
          },
          "colorway": [
           "#636efa",
           "#EF553B",
           "#00cc96",
           "#ab63fa",
           "#FFA15A",
           "#19d3f3",
           "#FF6692",
           "#B6E880",
           "#FF97FF",
           "#FECB52"
          ],
          "font": {
           "color": "#2a3f5f"
          },
          "geo": {
           "bgcolor": "white",
           "lakecolor": "white",
           "landcolor": "#E5ECF6",
           "showlakes": true,
           "showland": true,
           "subunitcolor": "white"
          },
          "hoverlabel": {
           "align": "left"
          },
          "hovermode": "closest",
          "mapbox": {
           "style": "light"
          },
          "paper_bgcolor": "white",
          "plot_bgcolor": "#E5ECF6",
          "polar": {
           "angularaxis": {
            "gridcolor": "white",
            "linecolor": "white",
            "ticks": ""
           },
           "bgcolor": "#E5ECF6",
           "radialaxis": {
            "gridcolor": "white",
            "linecolor": "white",
            "ticks": ""
           }
          },
          "scene": {
           "xaxis": {
            "backgroundcolor": "#E5ECF6",
            "gridcolor": "white",
            "gridwidth": 2,
            "linecolor": "white",
            "showbackground": true,
            "ticks": "",
            "zerolinecolor": "white"
           },
           "yaxis": {
            "backgroundcolor": "#E5ECF6",
            "gridcolor": "white",
            "gridwidth": 2,
            "linecolor": "white",
            "showbackground": true,
            "ticks": "",
            "zerolinecolor": "white"
           },
           "zaxis": {
            "backgroundcolor": "#E5ECF6",
            "gridcolor": "white",
            "gridwidth": 2,
            "linecolor": "white",
            "showbackground": true,
            "ticks": "",
            "zerolinecolor": "white"
           }
          },
          "shapedefaults": {
           "line": {
            "color": "#2a3f5f"
           }
          },
          "ternary": {
           "aaxis": {
            "gridcolor": "white",
            "linecolor": "white",
            "ticks": ""
           },
           "baxis": {
            "gridcolor": "white",
            "linecolor": "white",
            "ticks": ""
           },
           "bgcolor": "#E5ECF6",
           "caxis": {
            "gridcolor": "white",
            "linecolor": "white",
            "ticks": ""
           }
          },
          "title": {
           "x": 0.05
          },
          "xaxis": {
           "automargin": true,
           "gridcolor": "white",
           "linecolor": "white",
           "ticks": "",
           "title": {
            "standoff": 15
           },
           "zerolinecolor": "white",
           "zerolinewidth": 2
          },
          "yaxis": {
           "automargin": true,
           "gridcolor": "white",
           "linecolor": "white",
           "ticks": "",
           "title": {
            "standoff": 15
           },
           "zerolinecolor": "white",
           "zerolinewidth": 2
          }
         }
        },
        "title": {
         "text": "Robo"
        },
        "width": 1920
       }
      }
     },
     "metadata": {},
     "output_type": "display_data"
    },
    {
     "name": "stderr",
     "output_type": "stream",
     "text": [
      "                                                                                \r"
     ]
    },
    {
     "data": {
      "application/vnd.plotly.v1+json": {
       "config": {
        "plotlyServerURL": "https://plot.ly"
       },
       "data": [
        {
         "link": {
          "source": [
           0,
           1,
           2,
           3,
           3,
           4,
           3,
           5,
           1,
           6,
           7,
           3,
           8,
           3,
           3,
           9,
           10,
           2,
           11,
           7,
           12,
           2,
           13,
           2,
           14,
           15,
           6,
           3,
           14,
           16,
           17,
           6,
           18,
           19,
           3,
           2,
           6,
           20,
           21,
           3,
           22,
           4,
           23,
           20,
           3,
           24,
           7,
           12,
           3,
           25,
           26,
           27,
           28,
           20,
           3,
           29,
           16,
           3,
           4,
           30,
           5,
           7,
           27,
           5,
           12,
           31,
           16,
           31,
           3,
           3,
           15,
           32,
           20,
           19,
           27,
           1,
           5,
           33,
           3,
           19,
           34,
           7,
           1,
           35,
           3,
           13,
           12,
           7,
           29,
           36,
           24,
           6,
           37,
           33,
           2,
           4,
           7,
           15,
           19,
           10
          ],
          "target": [
           1,
           38,
           3,
           39,
           40,
           3,
           41,
           3,
           40,
           3,
           3,
           42,
           3,
           43,
           44,
           3,
           45,
           10,
           44,
           12,
           42,
           11,
           39,
           13,
           16,
           39,
           15,
           46,
           27,
           39,
           41,
           17,
           41,
           3,
           38,
           18,
           20,
           42,
           3,
           47,
           3,
           20,
           3,
           48,
           49,
           3,
           20,
           40,
           50,
           3,
           3,
           39,
           3,
           51,
           52,
           3,
           40,
           53,
           12,
           42,
           33,
           30,
           38,
           15,
           39,
           12,
           38,
           3,
           45,
           54,
           42,
           3,
           54,
           10,
           40,
           55,
           20,
           43,
           56,
           13,
           41,
           35,
           57,
           42,
           58,
           46,
           45,
           36,
           12,
           42,
           10,
           12,
           42,
           41,
           37,
           15,
           10,
           46,
           11,
           42
          ],
          "value": [
           243283,
           193247,
           176302,
           176040,
           169379,
           126927,
           58337,
           57868,
           48240,
           42813,
           23991,
           23722,
           20031,
           19963,
           19615,
           19297,
           13018,
           11403,
           10807,
           10763,
           10041,
           9714,
           8901,
           8811,
           8519,
           6545,
           6421,
           5130,
           4769,
           4555,
           4549,
           4123,
           3641,
           3509,
           3413,
           3196,
           2986,
           2528,
           2472,
           2414,
           2227,
           2211,
           2135,
           2135,
           2094,
           2067,
           2054,
           2029,
           2011,
           2001,
           1910,
           1811,
           1773,
           1764,
           1695,
           1692,
           1688,
           1685,
           1641,
           1528,
           1523,
           1516,
           1512,
           1482,
           1462,
           1426,
           1384,
           1264,
           1252,
           1180,
           1158,
           1151,
           1071,
           969,
           958,
           926,
           898,
           865,
           818,
           804,
           784,
           782,
           776,
           770,
           748,
           690,
           687,
           643,
           637,
           631,
           613,
           610,
           566,
           545,
           520,
           515,
           514,
           504,
           492,
           480
          ]
         },
         "node": {
          "color": [
           "rgb(115,96,88)",
           "rgb(156,119,154)",
           "rgb(168,47,200)",
           "rgb(126,143,216)",
           "rgb(102,64,118)",
           "rgb(210,140,142)",
           "rgb(61,110,29)",
           "rgb(243,54,173)",
           "rgb(75,2,59)",
           "rgb(12,74,42)",
           "rgb(19,233,110)",
           "rgb(23,73,238)",
           "rgb(105,78,10)",
           "rgb(113,95,241)",
           "rgb(76,116,91)",
           "rgb(241,20,75)",
           "rgb(216,196,238)",
           "rgb(132,163,86)",
           "rgb(192,171,160)",
           "rgb(80,165,159)",
           "rgb(201,61,28)",
           "rgb(247,22,17)",
           "rgb(212,10,93)",
           "rgb(128,21,186)",
           "rgb(90,160,37)",
           "rgb(175,218,131)",
           "rgb(168,155,246)",
           "rgb(94,215,236)",
           "rgb(196,206,126)",
           "rgb(80,195,46)",
           "rgb(241,151,200)",
           "rgb(91,36,104)",
           "rgb(114,206,171)",
           "rgb(106,43,211)",
           "rgb(235,181,87)",
           "rgb(10,107,222)",
           "rgb(6,12,211)",
           "rgb(132,161,153)",
           "rgb(201,93,93)",
           "rgb(112,221,126)",
           "rgb(245,47,56)",
           "rgb(143,171,250)",
           "rgb(108,10,81)",
           "rgb(156,216,84)",
           "rgb(54,222,218)",
           "rgb(208,160,188)",
           "rgb(39,83,99)",
           "rgb(129,221,193)",
           "rgb(107,48,39)",
           "rgb(21,224,5)",
           "rgb(10,59,44)",
           "rgb(102,56,121)",
           "rgb(202,124,211)",
           "rgb(82,146,177)",
           "rgb(210,45,29)",
           "rgb(111,167,122)",
           "rgb(82,123,3)",
           "rgb(195,91,206)",
           "rgb(120,18,233)"
          ],
          "label": [
           "sub:biolink:Pathway",
           "biolink:has_participant",
           "sub:biolink:Protein",
           "biolink:subclass_of",
           "sub:biolink:MolecularEntity",
           "sub:biolink:Disease",
           "sub:biolink:SmallMolecule",
           "sub:biolink:AnatomicalEntity",
           "sub:biolink:DiseaseOrPhenotypicFeature",
           "sub:biolink:OrganismTaxon",
           "biolink:located_in",
           "biolink:in_taxon",
           "biolink:has_part",
           "biolink:physically_interacts_with",
           "sub:biolink:MolecularActivity",
           "biolink:affects",
           "biolink:has_input",
           "biolink:treats",
           "biolink:gene_associated_with_condition",
           "sub:biolink:ChemicalEntityOrGeneOrGeneProduct",
           "biolink:related_to",
           "sub:biolink:ChemicalEntityOrProteinOrPolypeptide",
           "sub:biolink:PhysicalEssenceOrOccurrent",
           "sub:biolink:Cell",
           "sub:biolink:Gene",
           "sub:biolink:PhenotypicFeature",
           "sub:biolink:ChemicalEntity",
           "biolink:has_output",
           "sub:biolink:ThingWithTaxon",
           "sub:biolink:GrossAnatomicalStructure",
           "biolink:develops_from",
           "sub:biolink:CellularComponent",
           "sub:biolink:NamedThing",
           "biolink:has_phenotype",
           "biolink:causes",
           "biolink:coexists_with",
           "biolink:overlaps",
           "biolink:expressed_in",
           "obj:biolink:SmallMolecule",
           "obj:biolink:Protein",
           "obj:biolink:MolecularEntity",
           "obj:biolink:Disease",
           "obj:biolink:AnatomicalEntity",
           "obj:biolink:DiseaseOrPhenotypicFeature",
           "obj:biolink:OrganismTaxon",
           "obj:biolink:CellularComponent",
           "obj:biolink:ChemicalEntityOrGeneOrGeneProduct",
           "obj:biolink:Gene",
           "obj:biolink:Drug",
           "obj:biolink:Cell",
           "obj:biolink:GrossAnatomicalStructure",
           "obj:biolink:BiologicalEntity",
           "obj:biolink:ThingWithTaxon",
           "obj:biolink:PhenotypicFeature",
           "obj:biolink:ChemicalEntity",
           "obj:biolink:PhysicalEssenceOrOccurrent",
           "obj:biolink:NamedThing",
           "obj:biolink:Polypeptide",
           "obj:biolink:ChemicalEntityOrProteinOrPolypeptide"
          ],
          "line": {
           "color": "black",
           "width": 0.5
          },
          "pad": 15,
          "thickness": 20
         },
         "type": "sankey"
        }
       ],
       "layout": {
        "font": {
         "size": 10
        },
        "height": 1080,
        "template": {
         "data": {
          "bar": [
           {
            "error_x": {
             "color": "#2a3f5f"
            },
            "error_y": {
             "color": "#2a3f5f"
            },
            "marker": {
             "line": {
              "color": "#E5ECF6",
              "width": 0.5
             },
             "pattern": {
              "fillmode": "overlay",
              "size": 10,
              "solidity": 0.2
             }
            },
            "type": "bar"
           }
          ],
          "barpolar": [
           {
            "marker": {
             "line": {
              "color": "#E5ECF6",
              "width": 0.5
             },
             "pattern": {
              "fillmode": "overlay",
              "size": 10,
              "solidity": 0.2
             }
            },
            "type": "barpolar"
           }
          ],
          "carpet": [
           {
            "aaxis": {
             "endlinecolor": "#2a3f5f",
             "gridcolor": "white",
             "linecolor": "white",
             "minorgridcolor": "white",
             "startlinecolor": "#2a3f5f"
            },
            "baxis": {
             "endlinecolor": "#2a3f5f",
             "gridcolor": "white",
             "linecolor": "white",
             "minorgridcolor": "white",
             "startlinecolor": "#2a3f5f"
            },
            "type": "carpet"
           }
          ],
          "choropleth": [
           {
            "colorbar": {
             "outlinewidth": 0,
             "ticks": ""
            },
            "type": "choropleth"
           }
          ],
          "contour": [
           {
            "colorbar": {
             "outlinewidth": 0,
             "ticks": ""
            },
            "colorscale": [
             [
              0,
              "#0d0887"
             ],
             [
              0.1111111111111111,
              "#46039f"
             ],
             [
              0.2222222222222222,
              "#7201a8"
             ],
             [
              0.3333333333333333,
              "#9c179e"
             ],
             [
              0.4444444444444444,
              "#bd3786"
             ],
             [
              0.5555555555555556,
              "#d8576b"
             ],
             [
              0.6666666666666666,
              "#ed7953"
             ],
             [
              0.7777777777777778,
              "#fb9f3a"
             ],
             [
              0.8888888888888888,
              "#fdca26"
             ],
             [
              1,
              "#f0f921"
             ]
            ],
            "type": "contour"
           }
          ],
          "contourcarpet": [
           {
            "colorbar": {
             "outlinewidth": 0,
             "ticks": ""
            },
            "type": "contourcarpet"
           }
          ],
          "heatmap": [
           {
            "colorbar": {
             "outlinewidth": 0,
             "ticks": ""
            },
            "colorscale": [
             [
              0,
              "#0d0887"
             ],
             [
              0.1111111111111111,
              "#46039f"
             ],
             [
              0.2222222222222222,
              "#7201a8"
             ],
             [
              0.3333333333333333,
              "#9c179e"
             ],
             [
              0.4444444444444444,
              "#bd3786"
             ],
             [
              0.5555555555555556,
              "#d8576b"
             ],
             [
              0.6666666666666666,
              "#ed7953"
             ],
             [
              0.7777777777777778,
              "#fb9f3a"
             ],
             [
              0.8888888888888888,
              "#fdca26"
             ],
             [
              1,
              "#f0f921"
             ]
            ],
            "type": "heatmap"
           }
          ],
          "heatmapgl": [
           {
            "colorbar": {
             "outlinewidth": 0,
             "ticks": ""
            },
            "colorscale": [
             [
              0,
              "#0d0887"
             ],
             [
              0.1111111111111111,
              "#46039f"
             ],
             [
              0.2222222222222222,
              "#7201a8"
             ],
             [
              0.3333333333333333,
              "#9c179e"
             ],
             [
              0.4444444444444444,
              "#bd3786"
             ],
             [
              0.5555555555555556,
              "#d8576b"
             ],
             [
              0.6666666666666666,
              "#ed7953"
             ],
             [
              0.7777777777777778,
              "#fb9f3a"
             ],
             [
              0.8888888888888888,
              "#fdca26"
             ],
             [
              1,
              "#f0f921"
             ]
            ],
            "type": "heatmapgl"
           }
          ],
          "histogram": [
           {
            "marker": {
             "pattern": {
              "fillmode": "overlay",
              "size": 10,
              "solidity": 0.2
             }
            },
            "type": "histogram"
           }
          ],
          "histogram2d": [
           {
            "colorbar": {
             "outlinewidth": 0,
             "ticks": ""
            },
            "colorscale": [
             [
              0,
              "#0d0887"
             ],
             [
              0.1111111111111111,
              "#46039f"
             ],
             [
              0.2222222222222222,
              "#7201a8"
             ],
             [
              0.3333333333333333,
              "#9c179e"
             ],
             [
              0.4444444444444444,
              "#bd3786"
             ],
             [
              0.5555555555555556,
              "#d8576b"
             ],
             [
              0.6666666666666666,
              "#ed7953"
             ],
             [
              0.7777777777777778,
              "#fb9f3a"
             ],
             [
              0.8888888888888888,
              "#fdca26"
             ],
             [
              1,
              "#f0f921"
             ]
            ],
            "type": "histogram2d"
           }
          ],
          "histogram2dcontour": [
           {
            "colorbar": {
             "outlinewidth": 0,
             "ticks": ""
            },
            "colorscale": [
             [
              0,
              "#0d0887"
             ],
             [
              0.1111111111111111,
              "#46039f"
             ],
             [
              0.2222222222222222,
              "#7201a8"
             ],
             [
              0.3333333333333333,
              "#9c179e"
             ],
             [
              0.4444444444444444,
              "#bd3786"
             ],
             [
              0.5555555555555556,
              "#d8576b"
             ],
             [
              0.6666666666666666,
              "#ed7953"
             ],
             [
              0.7777777777777778,
              "#fb9f3a"
             ],
             [
              0.8888888888888888,
              "#fdca26"
             ],
             [
              1,
              "#f0f921"
             ]
            ],
            "type": "histogram2dcontour"
           }
          ],
          "mesh3d": [
           {
            "colorbar": {
             "outlinewidth": 0,
             "ticks": ""
            },
            "type": "mesh3d"
           }
          ],
          "parcoords": [
           {
            "line": {
             "colorbar": {
              "outlinewidth": 0,
              "ticks": ""
             }
            },
            "type": "parcoords"
           }
          ],
          "pie": [
           {
            "automargin": true,
            "type": "pie"
           }
          ],
          "scatter": [
           {
            "fillpattern": {
             "fillmode": "overlay",
             "size": 10,
             "solidity": 0.2
            },
            "type": "scatter"
           }
          ],
          "scatter3d": [
           {
            "line": {
             "colorbar": {
              "outlinewidth": 0,
              "ticks": ""
             }
            },
            "marker": {
             "colorbar": {
              "outlinewidth": 0,
              "ticks": ""
             }
            },
            "type": "scatter3d"
           }
          ],
          "scattercarpet": [
           {
            "marker": {
             "colorbar": {
              "outlinewidth": 0,
              "ticks": ""
             }
            },
            "type": "scattercarpet"
           }
          ],
          "scattergeo": [
           {
            "marker": {
             "colorbar": {
              "outlinewidth": 0,
              "ticks": ""
             }
            },
            "type": "scattergeo"
           }
          ],
          "scattergl": [
           {
            "marker": {
             "colorbar": {
              "outlinewidth": 0,
              "ticks": ""
             }
            },
            "type": "scattergl"
           }
          ],
          "scattermapbox": [
           {
            "marker": {
             "colorbar": {
              "outlinewidth": 0,
              "ticks": ""
             }
            },
            "type": "scattermapbox"
           }
          ],
          "scatterpolar": [
           {
            "marker": {
             "colorbar": {
              "outlinewidth": 0,
              "ticks": ""
             }
            },
            "type": "scatterpolar"
           }
          ],
          "scatterpolargl": [
           {
            "marker": {
             "colorbar": {
              "outlinewidth": 0,
              "ticks": ""
             }
            },
            "type": "scatterpolargl"
           }
          ],
          "scatterternary": [
           {
            "marker": {
             "colorbar": {
              "outlinewidth": 0,
              "ticks": ""
             }
            },
            "type": "scatterternary"
           }
          ],
          "surface": [
           {
            "colorbar": {
             "outlinewidth": 0,
             "ticks": ""
            },
            "colorscale": [
             [
              0,
              "#0d0887"
             ],
             [
              0.1111111111111111,
              "#46039f"
             ],
             [
              0.2222222222222222,
              "#7201a8"
             ],
             [
              0.3333333333333333,
              "#9c179e"
             ],
             [
              0.4444444444444444,
              "#bd3786"
             ],
             [
              0.5555555555555556,
              "#d8576b"
             ],
             [
              0.6666666666666666,
              "#ed7953"
             ],
             [
              0.7777777777777778,
              "#fb9f3a"
             ],
             [
              0.8888888888888888,
              "#fdca26"
             ],
             [
              1,
              "#f0f921"
             ]
            ],
            "type": "surface"
           }
          ],
          "table": [
           {
            "cells": {
             "fill": {
              "color": "#EBF0F8"
             },
             "line": {
              "color": "white"
             }
            },
            "header": {
             "fill": {
              "color": "#C8D4E3"
             },
             "line": {
              "color": "white"
             }
            },
            "type": "table"
           }
          ]
         },
         "layout": {
          "annotationdefaults": {
           "arrowcolor": "#2a3f5f",
           "arrowhead": 0,
           "arrowwidth": 1
          },
          "autotypenumbers": "strict",
          "coloraxis": {
           "colorbar": {
            "outlinewidth": 0,
            "ticks": ""
           }
          },
          "colorscale": {
           "diverging": [
            [
             0,
             "#8e0152"
            ],
            [
             0.1,
             "#c51b7d"
            ],
            [
             0.2,
             "#de77ae"
            ],
            [
             0.3,
             "#f1b6da"
            ],
            [
             0.4,
             "#fde0ef"
            ],
            [
             0.5,
             "#f7f7f7"
            ],
            [
             0.6,
             "#e6f5d0"
            ],
            [
             0.7,
             "#b8e186"
            ],
            [
             0.8,
             "#7fbc41"
            ],
            [
             0.9,
             "#4d9221"
            ],
            [
             1,
             "#276419"
            ]
           ],
           "sequential": [
            [
             0,
             "#0d0887"
            ],
            [
             0.1111111111111111,
             "#46039f"
            ],
            [
             0.2222222222222222,
             "#7201a8"
            ],
            [
             0.3333333333333333,
             "#9c179e"
            ],
            [
             0.4444444444444444,
             "#bd3786"
            ],
            [
             0.5555555555555556,
             "#d8576b"
            ],
            [
             0.6666666666666666,
             "#ed7953"
            ],
            [
             0.7777777777777778,
             "#fb9f3a"
            ],
            [
             0.8888888888888888,
             "#fdca26"
            ],
            [
             1,
             "#f0f921"
            ]
           ],
           "sequentialminus": [
            [
             0,
             "#0d0887"
            ],
            [
             0.1111111111111111,
             "#46039f"
            ],
            [
             0.2222222222222222,
             "#7201a8"
            ],
            [
             0.3333333333333333,
             "#9c179e"
            ],
            [
             0.4444444444444444,
             "#bd3786"
            ],
            [
             0.5555555555555556,
             "#d8576b"
            ],
            [
             0.6666666666666666,
             "#ed7953"
            ],
            [
             0.7777777777777778,
             "#fb9f3a"
            ],
            [
             0.8888888888888888,
             "#fdca26"
            ],
            [
             1,
             "#f0f921"
            ]
           ]
          },
          "colorway": [
           "#636efa",
           "#EF553B",
           "#00cc96",
           "#ab63fa",
           "#FFA15A",
           "#19d3f3",
           "#FF6692",
           "#B6E880",
           "#FF97FF",
           "#FECB52"
          ],
          "font": {
           "color": "#2a3f5f"
          },
          "geo": {
           "bgcolor": "white",
           "lakecolor": "white",
           "landcolor": "#E5ECF6",
           "showlakes": true,
           "showland": true,
           "subunitcolor": "white"
          },
          "hoverlabel": {
           "align": "left"
          },
          "hovermode": "closest",
          "mapbox": {
           "style": "light"
          },
          "paper_bgcolor": "white",
          "plot_bgcolor": "#E5ECF6",
          "polar": {
           "angularaxis": {
            "gridcolor": "white",
            "linecolor": "white",
            "ticks": ""
           },
           "bgcolor": "#E5ECF6",
           "radialaxis": {
            "gridcolor": "white",
            "linecolor": "white",
            "ticks": ""
           }
          },
          "scene": {
           "xaxis": {
            "backgroundcolor": "#E5ECF6",
            "gridcolor": "white",
            "gridwidth": 2,
            "linecolor": "white",
            "showbackground": true,
            "ticks": "",
            "zerolinecolor": "white"
           },
           "yaxis": {
            "backgroundcolor": "#E5ECF6",
            "gridcolor": "white",
            "gridwidth": 2,
            "linecolor": "white",
            "showbackground": true,
            "ticks": "",
            "zerolinecolor": "white"
           },
           "zaxis": {
            "backgroundcolor": "#E5ECF6",
            "gridcolor": "white",
            "gridwidth": 2,
            "linecolor": "white",
            "showbackground": true,
            "ticks": "",
            "zerolinecolor": "white"
           }
          },
          "shapedefaults": {
           "line": {
            "color": "#2a3f5f"
           }
          },
          "ternary": {
           "aaxis": {
            "gridcolor": "white",
            "linecolor": "white",
            "ticks": ""
           },
           "baxis": {
            "gridcolor": "white",
            "linecolor": "white",
            "ticks": ""
           },
           "bgcolor": "#E5ECF6",
           "caxis": {
            "gridcolor": "white",
            "linecolor": "white",
            "ticks": ""
           }
          },
          "title": {
           "x": 0.05
          },
          "xaxis": {
           "automargin": true,
           "gridcolor": "white",
           "linecolor": "white",
           "ticks": "",
           "title": {
            "standoff": 15
           },
           "zerolinecolor": "white",
           "zerolinewidth": 2
          },
          "yaxis": {
           "automargin": true,
           "gridcolor": "white",
           "linecolor": "white",
           "ticks": "",
           "title": {
            "standoff": 15
           },
           "zerolinecolor": "white",
           "zerolinewidth": 2
          }
         }
        },
        "title": {
         "text": "Both"
        },
        "width": 1920
       }
      }
     },
     "metadata": {},
     "output_type": "display_data"
    },
    {
     "name": "stderr",
     "output_type": "stream",
     "text": [
      "                                                                                \r"
     ]
    },
    {
     "data": {
      "application/vnd.plotly.v1+json": {
       "config": {
        "plotlyServerURL": "https://plot.ly"
       },
       "data": [
        {
         "link": {
          "source": [
           0,
           1,
           2,
           3,
           1,
           2,
           4,
           3,
           1,
           5,
           6,
           5,
           3,
           4,
           2,
           7,
           7,
           4,
           8,
           9,
           10,
           11,
           12,
           13,
           14,
           1,
           5,
           12,
           13,
           15,
           16,
           10,
           17,
           15,
           16,
           15,
           11,
           18,
           19,
           16,
           5,
           1,
           11,
           5,
           20,
           21,
           5,
           2,
           22,
           23,
           9,
           5,
           1,
           1,
           1,
           11,
           16,
           1,
           5,
           10,
           24,
           25,
           26,
           27,
           16,
           28,
           6,
           29,
           27,
           27,
           30,
           31,
           1,
           24,
           24,
           32,
           33,
           34,
           35,
           35,
           5,
           13,
           5,
           36,
           5,
           21,
           37,
           1,
           13,
           5,
           38,
           39,
           5,
           1,
           32,
           40,
           6,
           11,
           4,
           41
          ],
          "target": [
           1,
           42,
           3,
           43,
           44,
           4,
           45,
           45,
           46,
           6,
           45,
           1,
           47,
           43,
           10,
           15,
           16,
           47,
           1,
           1,
           45,
           12,
           48,
           1,
           1,
           47,
           12,
           45,
           4,
           44,
           49,
           43,
           50,
           51,
           48,
           50,
           1,
           52,
           53,
           54,
           19,
           53,
           20,
           17,
           45,
           1,
           4,
           24,
           44,
           45,
           4,
           23,
           55,
           45,
           56,
           4,
           46,
           52,
           18,
           47,
           55,
           16,
           45,
           16,
           45,
           6,
           47,
           18,
           33,
           36,
           45,
           50,
           50,
           57,
           53,
           1,
           48,
           53,
           58,
           22,
           20,
           30,
           22,
           48,
           26,
           24,
           1,
           57,
           15,
           38,
           45,
           52,
           24,
           59,
           26,
           6,
           43,
           34,
           52,
           1
          ],
          "value": [
           45247562,
           32588755,
           31864140,
           15636968,
           15455435,
           14909948,
           10728337,
           10679440,
           9107860,
           8492314,
           8492314,
           5809215,
           5490997,
           4068076,
           3858701,
           3038057,
           3004805,
           2879455,
           2806212,
           2660683,
           2300068,
           2104122,
           2099970,
           1559914,
           1535320,
           1525147,
           1446780,
           1427211,
           1314270,
           1239485,
           1063314,
           1062539,
           1042660,
           1020084,
           993486,
           964265,
           898263,
           856278,
           808537,
           769433,
           688162,
           687020,
           684508,
           675066,
           660955,
           633627,
           633374,
           625101,
           600198,
           582857,
           581083,
           577823,
           561469,
           550001,
           545368,
           515801,
           515470,
           505838,
           498424,
           492740,
           490757,
           459380,
           445810,
           400167,
           398781,
           397024,
           397024,
           377394,
           376878,
           366549,
           358958,
           321467,
           321010,
           315752,
           297980,
           296740,
           280705,
           268333,
           257219,
           257219,
           254797,
           248629,
           246652,
           246600,
           225274,
           224741,
           223826,
           221838,
           221513,
           210770,
           210770,
           204228,
           203347,
           201527,
           200041,
           189018,
           189018,
           188906,
           180914,
           176513
          ]
         },
         "node": {
          "color": [
           "rgb(116,126,15)",
           "rgb(221,3,0)",
           "rgb(10,149,0)",
           "rgb(85,7,200)",
           "rgb(49,184,137)",
           "rgb(32,196,247)",
           "rgb(206,116,181)",
           "rgb(148,184,106)",
           "rgb(208,103,136)",
           "rgb(178,184,239)",
           "rgb(118,94,7)",
           "rgb(103,136,37)",
           "rgb(192,51,71)",
           "rgb(61,84,102)",
           "rgb(42,200,70)",
           "rgb(139,153,219)",
           "rgb(24,244,13)",
           "rgb(106,21,122)",
           "rgb(192,119,225)",
           "rgb(222,6,55)",
           "rgb(234,121,146)",
           "rgb(211,19,231)",
           "rgb(191,222,64)",
           "rgb(96,100,214)",
           "rgb(66,56,203)",
           "rgb(156,191,26)",
           "rgb(150,162,234)",
           "rgb(197,180,102)",
           "rgb(86,199,228)",
           "rgb(37,231,57)",
           "rgb(218,208,134)",
           "rgb(206,125,164)",
           "rgb(176,96,109)",
           "rgb(20,2,235)",
           "rgb(220,177,87)",
           "rgb(157,140,45)",
           "rgb(119,115,172)",
           "rgb(254,202,155)",
           "rgb(71,21,78)",
           "rgb(216,56,211)",
           "rgb(91,21,15)",
           "rgb(210,28,138)",
           "rgb(156,119,236)",
           "rgb(25,222,54)",
           "rgb(170,98,60)",
           "rgb(12,119,139)",
           "rgb(164,201,141)",
           "rgb(150,22,136)",
           "rgb(204,114,0)",
           "rgb(22,177,40)",
           "rgb(117,25,24)",
           "rgb(235,50,158)",
           "rgb(156,254,120)",
           "rgb(113,239,169)",
           "rgb(197,41,244)",
           "rgb(135,74,231)",
           "rgb(93,234,26)",
           "rgb(175,112,101)",
           "rgb(77,235,88)",
           "rgb(4,238,167)"
          ],
          "label": [
           "sub:biolink:NamedThing",
           "biolink:subclass_of",
           "sub:biolink:GenomicEntity",
           "biolink:is_nearby_variant_of",
           "biolink:affects",
           "sub:biolink:Protein",
           "biolink:coexpressed_with",
           "sub:biolink:Pathway",
           "sub:biolink:OrganismTaxon",
           "sub:biolink:MolecularEntity",
           "biolink:is_non_coding_variant_of",
           "sub:biolink:SmallMolecule",
           "biolink:physically_interacts_with",
           "sub:biolink:PhysicalEssenceOrOccurrent",
           "sub:biolink:MacromolecularMachineMixin",
           "biolink:occurs_in",
           "biolink:has_participant",
           "biolink:expressed_in",
           "biolink:actively_involved_in",
           "biolink:gene_associated_with_condition",
           "biolink:related_to",
           "sub:biolink:Disease",
           "biolink:in_taxon",
           "biolink:directly_physically_interacts_with",
           "biolink:has_phenotype",
           "sub:biolink:PhysiologicalProcess",
           "biolink:regulates",
           "sub:biolink:MolecularActivity",
           "sub:biolink:ChemicalEntityOrGeneOrGeneProduct",
           "sub:biolink:ThingWithTaxon",
           "biolink:binds",
           "biolink:located_in",
           "sub:biolink:AnatomicalEntity",
           "biolink:has_output",
           "biolink:treats_or_applied_or_studied_to_treat",
           "sub:biolink:Transcript",
           "biolink:has_input",
           "sub:biolink:DiseaseOrPhenotypicFeature",
           "biolink:homologous_to",
           "biolink:catalyzes",
           "sub:biolink:Gene",
           "sub:biolink:Drug",
           "obj:biolink:NamedThing",
           "obj:biolink:Gene",
           "obj:biolink:OrganismTaxon",
           "obj:biolink:Protein",
           "obj:biolink:MolecularEntity",
           "obj:biolink:ChemicalEntityOrGeneOrGeneProduct",
           "obj:biolink:SmallMolecule",
           "obj:biolink:Transcript",
           "obj:biolink:AnatomicalEntity",
           "obj:biolink:CellularComponent",
           "obj:biolink:PhysicalEssenceOrOccurrent",
           "obj:biolink:Disease",
           "obj:biolink:MolecularActivity",
           "obj:biolink:ThingWithTaxon",
           "obj:biolink:MacromolecularMachineMixin",
           "obj:biolink:DiseaseOrPhenotypicFeature",
           "biolink:transcribed_from",
           "obj:biolink:Drug"
          ],
          "line": {
           "color": "black",
           "width": 0.5
          },
          "pad": 15,
          "thickness": 20
         },
         "type": "sankey"
        }
       ],
       "layout": {
        "font": {
         "size": 10
        },
        "height": 1080,
        "template": {
         "data": {
          "bar": [
           {
            "error_x": {
             "color": "#2a3f5f"
            },
            "error_y": {
             "color": "#2a3f5f"
            },
            "marker": {
             "line": {
              "color": "#E5ECF6",
              "width": 0.5
             },
             "pattern": {
              "fillmode": "overlay",
              "size": 10,
              "solidity": 0.2
             }
            },
            "type": "bar"
           }
          ],
          "barpolar": [
           {
            "marker": {
             "line": {
              "color": "#E5ECF6",
              "width": 0.5
             },
             "pattern": {
              "fillmode": "overlay",
              "size": 10,
              "solidity": 0.2
             }
            },
            "type": "barpolar"
           }
          ],
          "carpet": [
           {
            "aaxis": {
             "endlinecolor": "#2a3f5f",
             "gridcolor": "white",
             "linecolor": "white",
             "minorgridcolor": "white",
             "startlinecolor": "#2a3f5f"
            },
            "baxis": {
             "endlinecolor": "#2a3f5f",
             "gridcolor": "white",
             "linecolor": "white",
             "minorgridcolor": "white",
             "startlinecolor": "#2a3f5f"
            },
            "type": "carpet"
           }
          ],
          "choropleth": [
           {
            "colorbar": {
             "outlinewidth": 0,
             "ticks": ""
            },
            "type": "choropleth"
           }
          ],
          "contour": [
           {
            "colorbar": {
             "outlinewidth": 0,
             "ticks": ""
            },
            "colorscale": [
             [
              0,
              "#0d0887"
             ],
             [
              0.1111111111111111,
              "#46039f"
             ],
             [
              0.2222222222222222,
              "#7201a8"
             ],
             [
              0.3333333333333333,
              "#9c179e"
             ],
             [
              0.4444444444444444,
              "#bd3786"
             ],
             [
              0.5555555555555556,
              "#d8576b"
             ],
             [
              0.6666666666666666,
              "#ed7953"
             ],
             [
              0.7777777777777778,
              "#fb9f3a"
             ],
             [
              0.8888888888888888,
              "#fdca26"
             ],
             [
              1,
              "#f0f921"
             ]
            ],
            "type": "contour"
           }
          ],
          "contourcarpet": [
           {
            "colorbar": {
             "outlinewidth": 0,
             "ticks": ""
            },
            "type": "contourcarpet"
           }
          ],
          "heatmap": [
           {
            "colorbar": {
             "outlinewidth": 0,
             "ticks": ""
            },
            "colorscale": [
             [
              0,
              "#0d0887"
             ],
             [
              0.1111111111111111,
              "#46039f"
             ],
             [
              0.2222222222222222,
              "#7201a8"
             ],
             [
              0.3333333333333333,
              "#9c179e"
             ],
             [
              0.4444444444444444,
              "#bd3786"
             ],
             [
              0.5555555555555556,
              "#d8576b"
             ],
             [
              0.6666666666666666,
              "#ed7953"
             ],
             [
              0.7777777777777778,
              "#fb9f3a"
             ],
             [
              0.8888888888888888,
              "#fdca26"
             ],
             [
              1,
              "#f0f921"
             ]
            ],
            "type": "heatmap"
           }
          ],
          "heatmapgl": [
           {
            "colorbar": {
             "outlinewidth": 0,
             "ticks": ""
            },
            "colorscale": [
             [
              0,
              "#0d0887"
             ],
             [
              0.1111111111111111,
              "#46039f"
             ],
             [
              0.2222222222222222,
              "#7201a8"
             ],
             [
              0.3333333333333333,
              "#9c179e"
             ],
             [
              0.4444444444444444,
              "#bd3786"
             ],
             [
              0.5555555555555556,
              "#d8576b"
             ],
             [
              0.6666666666666666,
              "#ed7953"
             ],
             [
              0.7777777777777778,
              "#fb9f3a"
             ],
             [
              0.8888888888888888,
              "#fdca26"
             ],
             [
              1,
              "#f0f921"
             ]
            ],
            "type": "heatmapgl"
           }
          ],
          "histogram": [
           {
            "marker": {
             "pattern": {
              "fillmode": "overlay",
              "size": 10,
              "solidity": 0.2
             }
            },
            "type": "histogram"
           }
          ],
          "histogram2d": [
           {
            "colorbar": {
             "outlinewidth": 0,
             "ticks": ""
            },
            "colorscale": [
             [
              0,
              "#0d0887"
             ],
             [
              0.1111111111111111,
              "#46039f"
             ],
             [
              0.2222222222222222,
              "#7201a8"
             ],
             [
              0.3333333333333333,
              "#9c179e"
             ],
             [
              0.4444444444444444,
              "#bd3786"
             ],
             [
              0.5555555555555556,
              "#d8576b"
             ],
             [
              0.6666666666666666,
              "#ed7953"
             ],
             [
              0.7777777777777778,
              "#fb9f3a"
             ],
             [
              0.8888888888888888,
              "#fdca26"
             ],
             [
              1,
              "#f0f921"
             ]
            ],
            "type": "histogram2d"
           }
          ],
          "histogram2dcontour": [
           {
            "colorbar": {
             "outlinewidth": 0,
             "ticks": ""
            },
            "colorscale": [
             [
              0,
              "#0d0887"
             ],
             [
              0.1111111111111111,
              "#46039f"
             ],
             [
              0.2222222222222222,
              "#7201a8"
             ],
             [
              0.3333333333333333,
              "#9c179e"
             ],
             [
              0.4444444444444444,
              "#bd3786"
             ],
             [
              0.5555555555555556,
              "#d8576b"
             ],
             [
              0.6666666666666666,
              "#ed7953"
             ],
             [
              0.7777777777777778,
              "#fb9f3a"
             ],
             [
              0.8888888888888888,
              "#fdca26"
             ],
             [
              1,
              "#f0f921"
             ]
            ],
            "type": "histogram2dcontour"
           }
          ],
          "mesh3d": [
           {
            "colorbar": {
             "outlinewidth": 0,
             "ticks": ""
            },
            "type": "mesh3d"
           }
          ],
          "parcoords": [
           {
            "line": {
             "colorbar": {
              "outlinewidth": 0,
              "ticks": ""
             }
            },
            "type": "parcoords"
           }
          ],
          "pie": [
           {
            "automargin": true,
            "type": "pie"
           }
          ],
          "scatter": [
           {
            "fillpattern": {
             "fillmode": "overlay",
             "size": 10,
             "solidity": 0.2
            },
            "type": "scatter"
           }
          ],
          "scatter3d": [
           {
            "line": {
             "colorbar": {
              "outlinewidth": 0,
              "ticks": ""
             }
            },
            "marker": {
             "colorbar": {
              "outlinewidth": 0,
              "ticks": ""
             }
            },
            "type": "scatter3d"
           }
          ],
          "scattercarpet": [
           {
            "marker": {
             "colorbar": {
              "outlinewidth": 0,
              "ticks": ""
             }
            },
            "type": "scattercarpet"
           }
          ],
          "scattergeo": [
           {
            "marker": {
             "colorbar": {
              "outlinewidth": 0,
              "ticks": ""
             }
            },
            "type": "scattergeo"
           }
          ],
          "scattergl": [
           {
            "marker": {
             "colorbar": {
              "outlinewidth": 0,
              "ticks": ""
             }
            },
            "type": "scattergl"
           }
          ],
          "scattermapbox": [
           {
            "marker": {
             "colorbar": {
              "outlinewidth": 0,
              "ticks": ""
             }
            },
            "type": "scattermapbox"
           }
          ],
          "scatterpolar": [
           {
            "marker": {
             "colorbar": {
              "outlinewidth": 0,
              "ticks": ""
             }
            },
            "type": "scatterpolar"
           }
          ],
          "scatterpolargl": [
           {
            "marker": {
             "colorbar": {
              "outlinewidth": 0,
              "ticks": ""
             }
            },
            "type": "scatterpolargl"
           }
          ],
          "scatterternary": [
           {
            "marker": {
             "colorbar": {
              "outlinewidth": 0,
              "ticks": ""
             }
            },
            "type": "scatterternary"
           }
          ],
          "surface": [
           {
            "colorbar": {
             "outlinewidth": 0,
             "ticks": ""
            },
            "colorscale": [
             [
              0,
              "#0d0887"
             ],
             [
              0.1111111111111111,
              "#46039f"
             ],
             [
              0.2222222222222222,
              "#7201a8"
             ],
             [
              0.3333333333333333,
              "#9c179e"
             ],
             [
              0.4444444444444444,
              "#bd3786"
             ],
             [
              0.5555555555555556,
              "#d8576b"
             ],
             [
              0.6666666666666666,
              "#ed7953"
             ],
             [
              0.7777777777777778,
              "#fb9f3a"
             ],
             [
              0.8888888888888888,
              "#fdca26"
             ],
             [
              1,
              "#f0f921"
             ]
            ],
            "type": "surface"
           }
          ],
          "table": [
           {
            "cells": {
             "fill": {
              "color": "#EBF0F8"
             },
             "line": {
              "color": "white"
             }
            },
            "header": {
             "fill": {
              "color": "#C8D4E3"
             },
             "line": {
              "color": "white"
             }
            },
            "type": "table"
           }
          ]
         },
         "layout": {
          "annotationdefaults": {
           "arrowcolor": "#2a3f5f",
           "arrowhead": 0,
           "arrowwidth": 1
          },
          "autotypenumbers": "strict",
          "coloraxis": {
           "colorbar": {
            "outlinewidth": 0,
            "ticks": ""
           }
          },
          "colorscale": {
           "diverging": [
            [
             0,
             "#8e0152"
            ],
            [
             0.1,
             "#c51b7d"
            ],
            [
             0.2,
             "#de77ae"
            ],
            [
             0.3,
             "#f1b6da"
            ],
            [
             0.4,
             "#fde0ef"
            ],
            [
             0.5,
             "#f7f7f7"
            ],
            [
             0.6,
             "#e6f5d0"
            ],
            [
             0.7,
             "#b8e186"
            ],
            [
             0.8,
             "#7fbc41"
            ],
            [
             0.9,
             "#4d9221"
            ],
            [
             1,
             "#276419"
            ]
           ],
           "sequential": [
            [
             0,
             "#0d0887"
            ],
            [
             0.1111111111111111,
             "#46039f"
            ],
            [
             0.2222222222222222,
             "#7201a8"
            ],
            [
             0.3333333333333333,
             "#9c179e"
            ],
            [
             0.4444444444444444,
             "#bd3786"
            ],
            [
             0.5555555555555556,
             "#d8576b"
            ],
            [
             0.6666666666666666,
             "#ed7953"
            ],
            [
             0.7777777777777778,
             "#fb9f3a"
            ],
            [
             0.8888888888888888,
             "#fdca26"
            ],
            [
             1,
             "#f0f921"
            ]
           ],
           "sequentialminus": [
            [
             0,
             "#0d0887"
            ],
            [
             0.1111111111111111,
             "#46039f"
            ],
            [
             0.2222222222222222,
             "#7201a8"
            ],
            [
             0.3333333333333333,
             "#9c179e"
            ],
            [
             0.4444444444444444,
             "#bd3786"
            ],
            [
             0.5555555555555556,
             "#d8576b"
            ],
            [
             0.6666666666666666,
             "#ed7953"
            ],
            [
             0.7777777777777778,
             "#fb9f3a"
            ],
            [
             0.8888888888888888,
             "#fdca26"
            ],
            [
             1,
             "#f0f921"
            ]
           ]
          },
          "colorway": [
           "#636efa",
           "#EF553B",
           "#00cc96",
           "#ab63fa",
           "#FFA15A",
           "#19d3f3",
           "#FF6692",
           "#B6E880",
           "#FF97FF",
           "#FECB52"
          ],
          "font": {
           "color": "#2a3f5f"
          },
          "geo": {
           "bgcolor": "white",
           "lakecolor": "white",
           "landcolor": "#E5ECF6",
           "showlakes": true,
           "showland": true,
           "subunitcolor": "white"
          },
          "hoverlabel": {
           "align": "left"
          },
          "hovermode": "closest",
          "mapbox": {
           "style": "light"
          },
          "paper_bgcolor": "white",
          "plot_bgcolor": "#E5ECF6",
          "polar": {
           "angularaxis": {
            "gridcolor": "white",
            "linecolor": "white",
            "ticks": ""
           },
           "bgcolor": "#E5ECF6",
           "radialaxis": {
            "gridcolor": "white",
            "linecolor": "white",
            "ticks": ""
           }
          },
          "scene": {
           "xaxis": {
            "backgroundcolor": "#E5ECF6",
            "gridcolor": "white",
            "gridwidth": 2,
            "linecolor": "white",
            "showbackground": true,
            "ticks": "",
            "zerolinecolor": "white"
           },
           "yaxis": {
            "backgroundcolor": "#E5ECF6",
            "gridcolor": "white",
            "gridwidth": 2,
            "linecolor": "white",
            "showbackground": true,
            "ticks": "",
            "zerolinecolor": "white"
           },
           "zaxis": {
            "backgroundcolor": "#E5ECF6",
            "gridcolor": "white",
            "gridwidth": 2,
            "linecolor": "white",
            "showbackground": true,
            "ticks": "",
            "zerolinecolor": "white"
           }
          },
          "shapedefaults": {
           "line": {
            "color": "#2a3f5f"
           }
          },
          "ternary": {
           "aaxis": {
            "gridcolor": "white",
            "linecolor": "white",
            "ticks": ""
           },
           "baxis": {
            "gridcolor": "white",
            "linecolor": "white",
            "ticks": ""
           },
           "bgcolor": "#E5ECF6",
           "caxis": {
            "gridcolor": "white",
            "linecolor": "white",
            "ticks": ""
           }
          },
          "title": {
           "x": 0.05
          },
          "xaxis": {
           "automargin": true,
           "gridcolor": "white",
           "linecolor": "white",
           "ticks": "",
           "title": {
            "standoff": 15
           },
           "zerolinecolor": "white",
           "zerolinewidth": 2
          },
          "yaxis": {
           "automargin": true,
           "gridcolor": "white",
           "linecolor": "white",
           "ticks": "",
           "title": {
            "standoff": 15
           },
           "zerolinecolor": "white",
           "zerolinewidth": 2
          }
         }
        },
        "title": {
         "text": "Unified"
        },
        "width": 1920
       }
      }
     },
     "metadata": {},
     "output_type": "display_data"
    }
   ],
   "source": [
    "def get_category_connections(edges: ps.sql.DataFrame, nodes: ps.sql.DataFrame):\n",
    "    categories = nodes.select(\"id\", \"category\")\n",
    "    edges = edges.join(categories.withColumnsRenamed({\"id\": \"subject\", \"category\": \"subj_category\"}), \"subject\", \"left\")\n",
    "    edges = edges.join(categories.withColumnsRenamed({\"id\": \"object\", \"category\": \"obj_category\"}), \"object\", \"left\")\n",
    "    # join the nodes dataframe on the subject column of the edges dataframe\n",
    "    return edges.select(\"subject\", \"predicate\", \"object\", \"subj_category\", \"obj_category\")\n",
    "\n",
    "\n",
    "def get_sankey_data_for_kg(edges: ps.sql.DataFrame, nodes: ps.sql.DataFrame) -> pd.DataFrame:\n",
    "    df = get_category_connections(edges, nodes)\n",
    "    # preparing sankey diagram data\n",
    "    df = (df\n",
    "          .withColumn(\"subj_category\", f.concat(f.lit(\"sub:\"), f.col(\"subj_category\")))\n",
    "          .withColumn(\"obj_category\", f.concat(f.lit(\"obj:\"), f.col(\"obj_category\")))\n",
    "    )\n",
    "    first_level = df.groupBy(\"subj_category\",\"predicate\").count().withColumnsRenamed({\"subj_category\": \"source\", \"predicate\": \"sink\", \"count\": \"value\"})\n",
    "    second_level = df.groupBy(\"predicate\", \"obj_category\").count().withColumnsRenamed({\"predicate\": \"source\", \"obj_category\": \"sink\", \"count\": \"value\"})\n",
    "    return first_level.union(second_level).orderBy(\"value\", ascending=False).toPandas()\n",
    "\n",
    "import plotly.graph_objects as go\n",
    "import pandas as pd\n",
    "import numpy as np\n",
    "\n",
    "def create_sankey_diagram(df, title):\n",
    "    # Prepare the data\n",
    "    all_nodes = pd.concat([df['source'], df['sink']]).unique()\n",
    "    node_indices = {node: index for index, node in enumerate(all_nodes)}\n",
    "\n",
    "    # Create color scale\n",
    "    n_colors = len(all_nodes)\n",
    "    colors = [f'rgb({r},{g},{b})' for r, g, b in np.random.randint(0, 255, size=(n_colors, 3))]\n",
    "\n",
    "    # Prepare the Sankey diagram data\n",
    "    link_source = [node_indices[source] for source in df['source']]\n",
    "    link_target = [node_indices[sink] for sink in df['sink']]\n",
    "    link_value = df['value']\n",
    "\n",
    "    # Create the figure\n",
    "    fig = go.Figure(data=[go.Sankey(\n",
    "        node = dict(\n",
    "          pad = 15,\n",
    "          thickness = 20,\n",
    "          line = dict(color = \"black\", width = 0.5),\n",
    "          label = list(all_nodes),\n",
    "          color = colors\n",
    "        ),\n",
    "        link = dict(\n",
    "          source = link_source,\n",
    "          target = link_target,\n",
    "          value = link_value\n",
    "    ))])\n",
    "\n",
    "    # Update the layout\n",
    "    fig.update_layout(title_text=title, font_size=10, width=1920, height=800)\n",
    "\n",
    "    return fig\n",
    "\n",
    "def plot_sankey_for_kg(edges: ps.sql.DataFrame, nodes: ps.sql.DataFrame, title: str, max_categories: int = 100):\n",
    "    sankey_data = get_sankey_data_for_kg(edges, nodes)\n",
    "    fig = create_sankey_diagram(sankey_data[:max_categories], title)\n",
    "    fig.show()\n",
    "\n",
    "plot_sankey_for_kg(edges_in_robo, nodes_in_robo, \"Robo\")\n",
    "plot_sankey_for_kg(edges_in_rtx, nodes_in_rtx, \"RTX\")\n",
    "plot_sankey_for_kg(edges_in_both, nodes_in_both, \"Both\")\n",
    "plot_sankey_for_kg(unified_edges, unified_nodes, \"Unified\")"
   ]
  }
 ],
 "metadata": {
  "kernelspec": {
   "display_name": "Python 3 (ipykernel)",
   "language": "python",
   "name": "python3"
  },
  "language_info": {
   "codemirror_mode": {
    "name": "ipython",
    "version": 3
   },
   "file_extension": ".py",
   "mimetype": "text/x-python",
   "name": "python",
   "nbconvert_exporter": "python",
   "pygments_lexer": "ipython3",
   "version": "3.11.9"
  }
 },
 "nbformat": 4,
 "nbformat_minor": 4
}
