{
 "cells": [
  {
   "cell_type": "markdown",
   "metadata": {},
   "source": [
    "# Actor-Critic network for shortest path with PubMedBERT embeddings"
   ]
  },
  {
   "cell_type": "markdown",
   "metadata": {},
   "source": [
    "In this notebook we experiment with replacing the GraphSAGE embeddings by PubMedBERT in the initial actor-critic pathfinding notebook.\n",
    "\n",
    "We find that the performance is similar to that of the GraphSAGE embeddings. "
   ]
  },
  {
   "cell_type": "code",
   "execution_count": 2,
   "metadata": {},
   "outputs": [],
   "source": [
    "import pandas as pd\n",
    "import polars as pl # much faster than pandas\n",
    "import numpy as np\n",
    "import matplotlib.pyplot as plt\n",
    "import igraph as ig\n",
    "import torch\n",
    "import torch.nn as nn\n",
    "import torch.nn.functional as F\n",
    "\n",
    "from time import time\n",
    "import random\n",
    "import pickle\n",
    "from tqdm import tqdm\n",
    "import sys\n",
    "import importlib"
   ]
  },
  {
   "cell_type": "markdown",
   "metadata": {},
   "source": [
    "## KG environment"
   ]
  },
  {
   "cell_type": "markdown",
   "metadata": {},
   "source": [
    "First, we set up the knowledge graph environment class which the agent interacts. \n",
    "\n",
    "A primary function of this class is to:\n",
    " - For any given node, be able to return all successor neighbour nodes and embeddings. \n",
    " - For any given node, be able to return out-going edges and one-hot embeddings for their predicates.\n",
    "\n",
    "As these operations are repeated in every training step, they must be done quickly. For instance, calling a neo4j server directly to achieve this in prohibitively slow. To achieve sufficient speed, we use the graph package igraph combined with PyTorch for dealing with the embeddings.  \n",
    "\n"
   ]
  },
  {
   "cell_type": "code",
   "execution_count": 3,
   "metadata": {},
   "outputs": [],
   "source": [
    "# KG filepath\n",
    "KG_NODES_PATH = '/Users/alexei/Documents/data/KGML_xDTD_data/KG/nodes_c.tsv'\n",
    "KG_NODES_HEADER_PATH = '/Users/alexei/Documents/data/KGML_xDTD_data/KG/nodes_c_header.tsv'\n",
    "KG_EDGES_PATH = '/Users/alexei/Documents/data/KGML_xDTD_data/KG/edges_c.tsv'\n",
    "KG_EDGES_HEADER_PATH ='/Users/alexei/Documents/data/KGML_xDTD_data/KG/edges_c_header.tsv'\n",
    "# GraphSAGE embeddings filepath \n",
    "GRAPHSAGE_EMB_PATH = '/Users/alexei/Documents/data/KGML_xDTD_data/data/entity_embeddings/unsuprvised_graphsage_entity_embeddings.pkl'\n",
    "# PubMedBERT embeddings filepath \n",
    "PUBMED_EMB_PATH = '/Users/alexei/Documents/data/KGML_xDTD_data/data/entity_embeddings/embedding_biobert_namecat.pkl'"
   ]
  },
  {
   "cell_type": "code",
   "execution_count": 4,
   "metadata": {},
   "outputs": [],
   "source": [
    "class KGEnv:\n",
    "    \"\"\"\n",
    "    A class representing a knowledge graph enriched with embeddings.  \n",
    "    \"\"\"\n",
    "    def __init__(self, \n",
    "                 kg_nodes_filepath: str,\n",
    "                 kg_nodes_header_filepath: str,\n",
    "                 kg_edges_filepath: str, \n",
    "                 kg_edges_header_filepath: str, \n",
    "                 embeddings_filepath: str,\n",
    "                 id_col_name = \"id:ID\", \n",
    "                 predicate_col_name = \"predicate\",\n",
    "                 subject_col_name = \"subject\",\n",
    "                 object_col_name = \"object\", \n",
    "                 device = 'cpu'\n",
    "                 ) -> None:\n",
    "        \"\"\"Initialises instance of the KGEnv class.\n",
    "\n",
    "        Args:\n",
    "            kg_nodes_filepath: File path for tsv file containing the KG nodes.\n",
    "            kg_nodes_header_filepath: File path for tsv file containing the header for the KG nodes.\n",
    "            kg_edges_filepath: File path for tsv file containing the KG edges.\n",
    "            kg_edges_header_filepath: File path for tsv file containing the header for the KG edges.\n",
    "            embeddings_filepath: File path for a pickle file containing an KG ID to embedding vector dictionary.\n",
    "            id_col_name: Column name for KG ID in nodes tsv file.\n",
    "            predicate_col_name: Column name for KG edge predicate in edges tsv file. \n",
    "            subject_col_name: Column name for KG edge subject in edges tsv file.\n",
    "            object_col_name: Column name for KG edge object in edges tsv file.\n",
    "        \"\"\"\n",
    "        self.device = device\n",
    "\n",
    "        # Load nodes\n",
    "        print(\"Loading nodes...\")\n",
    "        nodes_header = pd.read_csv(kg_nodes_header_filepath, sep='\\t', header=None).iloc[0].to_list()\n",
    "        df_nodes = pl.read_csv(kg_nodes_filepath, separator='\\t', has_header= False, new_columns=nodes_header)\n",
    "        df_nodes = df_nodes.with_row_index()\n",
    "        # Load edges\n",
    "        print(\"Loading edges...\")\n",
    "        edges_header = pd.read_csv(kg_edges_header_filepath, sep='\\t', header=None).iloc[0].to_list()\n",
    "        df_edges = pl.read_csv(kg_edges_filepath, separator='\\t', has_header= False, new_columns=edges_header)\n",
    "        \n",
    "        # Generate KG ID to index dictionary for nodes\n",
    "        print(\"Generating igraph Graph instance...\")\n",
    "        self.node_id_to_index = {key: val for key, val in zip(list(df_nodes[id_col_name]), list(df_nodes[\"index\"]))}\n",
    "        # Generate edge predicate to index dictionary\n",
    "        unique_predicates = pl.DataFrame(df_edges[predicate_col_name].unique())\n",
    "        unique_predicates = unique_predicates.with_row_index()\n",
    "        self.edge_predicate_to_index = {key: val for key, val in zip(list(unique_predicates[predicate_col_name]), list(unique_predicates[\"index\"]))}\n",
    "        self.N_edge_labels = len(self.edge_predicate_to_index)\n",
    "        # Generating igraph Graph instance\n",
    "        edges = [(self.node_id_to_index[subject], self.node_id_to_index[object]) for subject, object in zip(df_edges[subject_col_name],df_edges[object_col_name])]\n",
    "        edge_labels = {\"edge_label\":[self.edge_predicate_to_index[predicate] for predicate in df_edges[predicate_col_name]]}\n",
    "        self.graph = ig.Graph(edges=edges, directed=True, edge_attrs = edge_labels)\n",
    "        # Remove nodes and edges from memory\n",
    "        del df_nodes\n",
    "        del df_edges\n",
    "\n",
    "        # Load embeddings\n",
    "        print(\"Loading embeddings...\")\n",
    "        with open(embeddings_filepath, 'rb') as file:\n",
    "            embedding_dict = pickle.load(file)\n",
    "        # Dimensions of embeddings matrix\n",
    "        self.N_emb = len(list(embedding_dict.values())[0])\n",
    "        self.N_items = len(self.node_id_to_index)        \n",
    "        # Generate 2d torch tensor for embeddings. If no embedding exists, we use the zero embedding\n",
    "        print(\"Generating embeddings matrix...\")\n",
    "        self.embedding_matrix = torch.zeros((self.N_items, self.N_emb))\n",
    "        for _id, n in self.node_id_to_index.items():\n",
    "            if _id in embedding_dict.keys():\n",
    "                self.embedding_matrix[n, :] = torch.tensor(embedding_dict[_id])\n",
    "        self.embedding_matrix.to(device) \n",
    "        # Remove embedding dictionary from memory\n",
    "        del embedding_dict\n",
    "\n",
    "        # Matrix for one-hot edge embeddings\n",
    "        self._edge_embedding_matrix = torch.eye(self.N_edge_labels).to(device)\n",
    "\n",
    "        print(\"Initialisation successful.\")\n",
    "\n",
    "\n",
    "    def get_nhood_nodes(self, n: int) -> torch.Tensor:\n",
    "        \"\"\"Returns successor node indices and corresponding embeddings.\n",
    "\n",
    "        Args:\n",
    "            n: igraph node index\n",
    "\n",
    "        Returns:\n",
    "            Tuple where the:\n",
    "                - first element is a list of indices for successor nodes. \n",
    "                - second element is a 2d torch tensor with the corresponding embeddings.\n",
    "            If there are no successor nodes, then a tuple of two None objects is returned.\n",
    "        \"\"\"\n",
    "        successor_list = self.graph.successors(n)\n",
    "        if len(successor_list) == 0:\n",
    "            return None, None\n",
    "        else:\n",
    "            return successor_list, self.embedding_matrix[successor_list]\n",
    "\n",
    "\n",
    "    def get_out_edges(self, n: int) -> torch.Tensor:\n",
    "        \"\"\"Returns outgoing edge predicate indices and corresponding one-hot embeddings.\n",
    "\n",
    "        Args:\n",
    "            n: igraph node index\n",
    "\n",
    "        Returns:\n",
    "            Tuple where the:\n",
    "                - first element is a list of indices for the predicates of all out edges. \n",
    "                - second element is a 2d torch tensor with the one-hot embeddings.\n",
    "            If there are outgoing edges, then a tuple of two None objects is returned.\n",
    "        \"\"\"\n",
    "        # Get indices of out edges\n",
    "        edge_list = self.graph.vs[n].out_edges()\n",
    "        if len(edge_list) == 0:\n",
    "            return None, None\n",
    "        edge_labels_lst = [edge[\"edge_label\"] for edge in edge_list]\n",
    "        # Return corresponding one-hot embeddings\n",
    "        return edge_labels_lst, self._edge_embedding_matrix[edge_labels_lst]"
   ]
  },
  {
   "cell_type": "code",
   "execution_count": 5,
   "metadata": {},
   "outputs": [
    {
     "name": "stdout",
     "output_type": "stream",
     "text": [
      "Loading nodes...\n",
      "Loading edges...\n",
      "Generating igraph Graph instance...\n",
      "Loading embeddings...\n",
      "Generating embeddings matrix...\n",
      "Initialisation successful.\n"
     ]
    }
   ],
   "source": [
    "# Initialise KG environment\n",
    "kg_env = KGEnv(KG_NODES_PATH, KG_NODES_HEADER_PATH, KG_EDGES_PATH, KG_EDGES_HEADER_PATH, PUBMED_EMB_PATH)"
   ]
  },
  {
   "cell_type": "markdown",
   "metadata": {},
   "source": [
    "## State representation"
   ]
  },
  {
   "cell_type": "markdown",
   "metadata": {},
   "source": [
    "Let $u$ represent the source drug and the $v$ the target disease. \n",
    "\n",
    "At each time step $t$, the agent performs an action consisting in traversing from one node $e_t$ to another $e_{t+1}$ across an edge with a given label $r_{t+1}$ .  An action is represented by a tuple $a_t = (e_{t+1}, r_{t+1})$, where $r_{t+1}$ is the edge predicate index and $e_{t+1}$ is the igraph index for the new node. \n",
    "\n",
    "Future actions depends only on the current state. \n",
    "\n",
    "There are two options for representing the state. Let $K \\in \\mathbb{N}$ be a cap on the number of edges in a path. \n",
    "1. Target disease accessible:\n",
    "$$ s_t = [u, v, (e_{t-K}, r_{t-K}), ..., (e_{t-1}, r_{t-1}), (e_{t}, r_{t})]$$\n",
    "2. Target disease inaccessible:\n",
    "$$ s_t = [u, (e_{t-K}, r_{t-K}), ..., (e_{t-1}, r_{t-1}), (e_{t}, r_{t})]$$\n",
    "\n",
    "The first corresponds to the case where the agent makes MOA predictions after a drug-disease relationship has already been made. \n",
    "\n",
    "The second corresponds to the case where the agent finds make disease predictions for a given drug and simultaneously provides MOA predictions. \n",
    "\n",
    "Zhou et. al. and KGML-xDTD opt for the second option. We shall initially focus on the first option for the $u \\rightarrow v$ path-finding problem. \n",
    "\n",
    "**Note:** If $t \\leq 0$, we replace $(e_{t}, r_{t})$ by a dummy variable $(-1,-1)$. For instance, in the first option above the initial state is\n",
    "$$s_0 = (u, v, (-1,-1),...,(-1,-1)).$$\n",
    "\n",
    "*Remark.* We could in principle let the maximum number of edges in a path be greater than the history included in the state.  "
   ]
  },
  {
   "cell_type": "code",
   "execution_count": 6,
   "metadata": {},
   "outputs": [],
   "source": [
    "# Maximum allowed number of edges in a path\n",
    "K = 5 "
   ]
  },
  {
   "cell_type": "code",
   "execution_count": 7,
   "metadata": {},
   "outputs": [],
   "source": [
    "class Agent:\n",
    "    \"\"\"A class representing a reinforcement learning agent in a knowledge graph environment.  \n",
    "    \"\"\"\n",
    "    def __init__(self, K: int, kg_env: KGEnv) -> None:\n",
    "        \"\"\"Initialises Agent instance.\n",
    "\n",
    "        Args:\n",
    "            K: Maximum allowed number of edges in a path\n",
    "            kg_env: Instance of KGEnv \n",
    "        \"\"\"\n",
    "        self.K = K\n",
    "        self.kg_env = kg_env\n",
    "        # Initiate time\n",
    "        self.time = 0\n",
    "        # Initialise empty state attributes\n",
    "        self.reset()\n",
    "\n",
    "    def set_source_target(self, drug : int, disease :int) -> None:\n",
    "        \"\"\"Sets source drug and target diseases. Resets state to canonical initial state.  \n",
    "\n",
    "        Args:\n",
    "            drug: igraph node index for the source drug\n",
    "            disease: igraph node index for the target drug\n",
    "        \"\"\"\n",
    "        # Reset time and termination status\n",
    "        self.time = 0\n",
    "        self.terminated = False\n",
    "\n",
    "        # Set drug and disease indices\n",
    "        self.source_drug = drug\n",
    "        self.target_disease = disease\n",
    "        \n",
    "        # Set drug and disease embeddings\n",
    "        self.source_drug_embedding = self.kg_env.embedding_matrix[drug]\n",
    "        self.target_disease_embedding = self.kg_env.embedding_matrix[disease]\n",
    "\n",
    "        # Set initial state\n",
    "        self.current_state = [drug, disease] + [(-1,-1) for _ in range(self.K)]\n",
    "        self.current_node = drug\n",
    "        # Set initial state embedding matrix\n",
    "        embeddings_tmp = torch.zeros((self.K + 2, self.kg_env.N_emb + self.kg_env.N_edge_labels))\n",
    "        embeddings_tmp[0][:self.kg_env.N_emb] = self.source_drug_embedding\n",
    "        embeddings_tmp[1][:self.kg_env.N_emb] = self.target_disease_embedding\n",
    "        self.current_state_embedding = embeddings_tmp\n",
    "\n",
    "        # Compute list of next possible actions\n",
    "        self.compute_possible_next_actions()\n",
    "\n",
    "    def reset(self) -> None:\n",
    "        \"\"\"Resets time and empties state attributes\n",
    "        \"\"\"\n",
    "        self.time = 0\n",
    "        self.terminated = False\n",
    "        self.source_drug = None\n",
    "        self.source_drug_embedding = None\n",
    "        self.target_disease = None\n",
    "        self.target_disease_embedding = None\n",
    "        self.current_state = None\n",
    "        self.current_state_embedding = None\n",
    "\n",
    "    def compute_possible_next_actions(self) -> None:\n",
    "        \"\"\"Sets attributes containing list of next possible actions and corresponding embeddings. \n",
    "        \"\"\"\n",
    "        # Call KG environment to get nhood information\n",
    "        successor_list, successor_embeddings_matrix = self.kg_env.get_nhood_nodes(self.current_node)\n",
    "        edge_labels_list, edge_labels_embeddings_matrix = self.kg_env.get_out_edges(self.current_node)\n",
    "        # Set attributes\n",
    "        if successor_list == None:\n",
    "            self.all_actions = None\n",
    "            self.all_actions_embeddings = None\n",
    "            self.terminated = True\n",
    "        else: \n",
    "            self.all_actions =  [\n",
    "                (node_index, predicate_index) for node_index, predicate_index in zip(successor_list, edge_labels_list)\n",
    "                ]\n",
    "            self.all_actions_embeddings = torch.cat((successor_embeddings_matrix, edge_labels_embeddings_matrix), 1)\n",
    "\n",
    "    def select_next_action(self, n_next_action: str):\n",
    "        \"\"\"Selects an admitted action and updates the agent.\n",
    "\n",
    "        Args:\n",
    "            n_next_action: Index of self.all_actions corresponding to selected next action\n",
    "        \"\"\"\n",
    "        if self.terminated == True: \n",
    "            print(\"Maximum path length reached.\")\n",
    "            return\n",
    "\n",
    "        # Update current state and current node\n",
    "        next_action = self.all_actions[n_next_action]\n",
    "        self.current_node = next_action[0]\n",
    "        self.current_state[2:-1] = self.current_state[3:]\n",
    "        self.current_state[-1] = next_action\n",
    "\n",
    "        # Update current state embedding \n",
    "        next_action_embedding = self.all_actions_embeddings[n_next_action]\n",
    "        next_state_embedding = self.current_state_embedding.clone()\n",
    "        next_state_embedding[2:-1] = self.current_state_embedding[3:]\n",
    "        next_state_embedding[-1] = next_action_embedding\n",
    "        self.current_state_embedding = next_state_embedding\n",
    "\n",
    "        # Update time \n",
    "        self.time += 1\n",
    "        if self.time == K:\n",
    "            self.terminated = True\n",
    "\n",
    "        # Update list of next possible actions\n",
    "        self.compute_possible_next_actions()\n",
    "\n",
    "\n"
   ]
  },
  {
   "cell_type": "code",
   "execution_count": 8,
   "metadata": {},
   "outputs": [
    {
     "name": "stdout",
     "output_type": "stream",
     "text": [
      "[10, 42, (-1, -1), (-1, -1), (-1, -1), (-1, -1), (-1, -1)]\n",
      "tensor([[ 0.0978,  0.0619, -0.1789,  ...,  0.0000,  0.0000,  0.0000],\n",
      "        [ 0.0605,  0.0412, -0.2143,  ...,  0.0000,  0.0000,  0.0000],\n",
      "        [ 0.0000,  0.0000,  0.0000,  ...,  0.0000,  0.0000,  0.0000],\n",
      "        ...,\n",
      "        [ 0.0000,  0.0000,  0.0000,  ...,  0.0000,  0.0000,  0.0000],\n",
      "        [ 0.0000,  0.0000,  0.0000,  ...,  0.0000,  0.0000,  0.0000],\n",
      "        [ 0.0000,  0.0000,  0.0000,  ...,  0.0000,  0.0000,  0.0000]])\n"
     ]
    }
   ],
   "source": [
    "# Test\n",
    "drug, disease = 10, 42\n",
    "agent = Agent(K, kg_env)\n",
    "agent.set_source_target(drug,disease)\n",
    "print(agent.current_state)\n",
    "print(agent.current_state_embedding)"
   ]
  },
  {
   "cell_type": "code",
   "execution_count": 9,
   "metadata": {},
   "outputs": [
    {
     "name": "stdout",
     "output_type": "stream",
     "text": [
      "[(14984, 1), (16202, 1), (17456, 1), (17463, 1), (17935, 1), (17939, 1), (17945, 1), (17954, 1), (17969, 1), (17978, 1), (17979, 1), (18041, 1), (19175, 1), (19674, 1), (19825, 1), (20694, 1), (27303, 1), (27304, 1), (27326, 1), (27328, 1), (27330, 1), (27510, 1), (27987, 1), (28111, 1), (28784, 1), (28842, 1), (28846, 1), (29127, 1), (29711, 1), (29938, 1), (30182, 1), (30620, 1), (30661, 1), (32704, 1), (34601, 1), (35288, 1), (37142, 1), (37171, 1), (37541, 1), (37664, 1), (39829, 1), (40214, 0), (40319, 1), (43100, 1), (43139, 1), (43310, 1), (46065, 1), (46152, 1), (48768, 1), (49012, 1), (50255, 1), (50266, 1), (53257, 39), (55493, 1), (55819, 1), (58944, 1), (59556, 1), (61908, 1), (63385, 1), (64529, 1), (66616, 1), (71524, 1), (72277, 1), (73019, 1), (73903, 1), (79219, 1), (79864, 1), (81316, 1), (81336, 1), (81508, 1), (82505, 1), (84827, 1), (86269, 1), (86545, 1), (87150, 1), (88193, 1), (90728, 1), (95502, 1), (95743, 1), (97524, 1), (98175, 1), (98176, 1), (98312, 1), (103225, 1), (106243, 1), (109757, 1), (109892, 1), (109894, 1), (109903, 1), (110372, 1), (110390, 1), (110914, 1), (111740, 1), (112767, 1), (112768, 1), (114208, 1), (115094, 1), (115170, 1), (115801, 1), (115804, 1), (116119, 1), (116430, 1), (116431, 1), (116684, 1), (116736, 1), (116746, 1), (116753, 1), (116756, 1), (116767, 1), (117029, 1), (123583, 1), (141092, 13), (158226, 0), (180671, 13), (180675, 34), (180675, 13), (181698, 34), (181698, 0), (205385, 34), (205385, 0), (205786, 0), (233514, 0), (233520, 0), (233539, 0), (233576, 0), (233692, 0), (233700, 0), (233838, 0), (233972, 0), (234320, 39), (235132, 0), (235506, 39), (235551, 0), (235645, 39), (235682, 39), (235685, 39), (236013, 39), (236106, 39), (236739, 0), (236934, 39), (237019, 39), (237179, 39), (237181, 39), (237201, 39), (237262, 39), (237346, 0), (237394, 39), (237407, 0), (237413, 39), (237561, 39), (237608, 39), (237748, 39), (237759, 33), (237778, 33), (237778, 0), (237821, 39), (237939, 0), (238228, 39), (238251, 0), (238267, 0), (238281, 0), (238318, 0), (238318, 33), (238389, 0), (238678, 33), (238700, 33), (239229, 0), (239348, 0), (239380, 39), (239523, 39), (239589, 39), (239592, 33), (239597, 33), (239597, 0), (239600, 39), (239627, 39), (239647, 0), (239714, 0), (239715, 39), (239864, 39), (239868, 34), (239868, 33), (239868, 0), (239869, 0), (240066, 39), (240068, 0), (240069, 33), (240069, 0), (240244, 0), (240269, 39), (240305, 39), (240316, 0), (240361, 0), (240361, 33), (240383, 0), (240388, 0), (240460, 39), (240462, 39), (240470, 39), (240473, 39), (240475, 39), (240492, 0), (240498, 0), (240575, 39), (240593, 39), (240616, 33), (240630, 0), (240635, 0), (240678, 39), (240680, 39), (240716, 39), (240785, 0), (240793, 0), (240815, 33), (240815, 0), (240943, 39), (240993, 0), (241020, 0), (241065, 0), (241081, 39), (241338, 0), (241360, 0), (241398, 39), (241425, 0), (241459, 39), (241685, 0), (241713, 0), (241713, 33), (241767, 0), (241921, 39), (241968, 0), (242128, 39), (242191, 0), (242248, 0), (242248, 33), (242398, 39), (242440, 33), (242725, 0), (242760, 0), (242774, 39), (242928, 39), (242931, 39), (244060, 33), (244060, 0), (244185, 39), (244992, 33), (245915, 39), (245938, 39), (246424, 39), (246514, 39), (246556, 34), (246634, 39), (246898, 39), (247906, 39), (248011, 39), (248017, 39), (249695, 39), (250176, 33), (250342, 39), (250384, 39), (250645, 39), (250648, 0), (250658, 39), (250660, 39), (250668, 39), (250676, 39), (250759, 39), (250769, 39), (251281, 39), (251377, 2), (251997, 39), (252129, 45), (252131, 39), (252168, 39), (252172, 39), (252750, 34), (252750, 0), (253386, 39), (253548, 39), (253588, 39), (253590, 39), (253786, 0), (254945, 39), (255698, 39), (256110, 39), (256117, 39), (258168, 39), (258228, 39), (258230, 39), (258373, 45), (259137, 39), (259912, 33), (259912, 2), (259912, 0), (261644, 0), (261957, 39), (263679, 0), (267027, 1), (267703, 33), (267703, 0), (269445, 13), (269781, 2), (269781, 0), (270991, 13), (272320, 1), (275545, 1), (277291, 0), (280994, 1), (281194, 39), (282917, 1), (283264, 1), (283824, 0), (287915, 0), (287915, 34), (288413, 0), (288413, 2), (289256, 33), (289256, 0), (289256, 2), (290193, 0), (290193, 2), (292649, 0), (295223, 39), (299405, 39), (299530, 39), (299554, 33), (299637, 0), (299693, 0), (299728, 34), (299728, 0), (299744, 0), (299744, 2), (299754, 39), (302838, 33), (309366, 0), (314208, 39), (320131, 0), (326604, 34), (331771, 0), (336364, 39), (336390, 39), (336515, 39), (336854, 0), (337138, 39), (337612, 39), (354190, 0), (354385, 39), (354403, 39), (355214, 39), (364980, 0), (364980, 33), (373798, 39), (385938, 39), (404087, 0), (410026, 0), (411791, 0), (428787, 0), (435802, 39), (439323, 0), (444107, 39), (468962, 39), (478283, 39), (479551, 39), (483124, 0), (491602, 39), (540121, 0), (547862, 0), (2347345, 39), (2349795, 0), (2361228, 1), (2369052, 39), (2373311, 39), (2373898, 1), (2379135, 53), (2381850, 0), (2383008, 39), (2386558, 1), (2392301, 2), (2393451, 1), (2400067, 0), (2404718, 39), (2431921, 39), (2433251, 39), (2442783, 0), (2673932, 0), (2676201, 39), (2697738, 39), (2700635, 39), (2700636, 39), (2943827, 1), (2945260, 1), (2945273, 1), (2945693, 1), (2945762, 39), (2945764, 39), (2945943, 1), (2946822, 39), (2947368, 1), (2947387, 1), (2948906, 39), (2948933, 39), (2951286, 1), (2953029, 0), (2953049, 39), (2953707, 1), (2954626, 39), (2958463, 39), (2960021, 0), (2967442, 39), (2969573, 39), (2972696, 1), (2972748, 1), (2972766, 1), (2973723, 39), (2974833, 1), (2977492, 39), (2977976, 1)]\n",
      "tensor([[ 0.0075,  0.1377, -0.0712,  ...,  0.0000,  0.0000,  0.0000],\n",
      "        [ 0.0032,  0.2583, -0.0902,  ...,  0.0000,  0.0000,  0.0000],\n",
      "        [ 0.0787,  0.1543, -0.0541,  ...,  0.0000,  0.0000,  0.0000],\n",
      "        ...,\n",
      "        [-0.0414,  0.0043, -0.2191,  ...,  0.0000,  0.0000,  0.0000],\n",
      "        [ 0.0853, -0.0101, -0.0839,  ...,  0.0000,  0.0000,  0.0000],\n",
      "        [-0.0610,  0.1130, -0.1966,  ...,  0.0000,  0.0000,  0.0000]])\n"
     ]
    }
   ],
   "source": [
    "# Test\n",
    "agent.compute_possible_next_actions()\n",
    "print(agent.all_actions)\n",
    "print(agent.all_actions_embeddings)"
   ]
  },
  {
   "cell_type": "code",
   "execution_count": 10,
   "metadata": {},
   "outputs": [
    {
     "name": "stdout",
     "output_type": "stream",
     "text": [
      "[10, 42, (-1, -1), (-1, -1), (-1, -1), (-1, -1), (-1, -1)]\n",
      "tensor([[ 0.0978,  0.0619, -0.1789,  ...,  0.0000,  0.0000,  0.0000],\n",
      "        [ 0.0605,  0.0412, -0.2143,  ...,  0.0000,  0.0000,  0.0000],\n",
      "        [ 0.0000,  0.0000,  0.0000,  ...,  0.0000,  0.0000,  0.0000],\n",
      "        ...,\n",
      "        [ 0.0000,  0.0000,  0.0000,  ...,  0.0000,  0.0000,  0.0000],\n",
      "        [ 0.0000,  0.0000,  0.0000,  ...,  0.0000,  0.0000,  0.0000],\n",
      "        [ 0.0000,  0.0000,  0.0000,  ...,  0.0000,  0.0000,  0.0000]])\n",
      "[10, 42, (-1, -1), (-1, -1), (-1, -1), (-1, -1), (14984, 1)]\n",
      "tensor([[ 0.0978,  0.0619, -0.1789,  ...,  0.0000,  0.0000,  0.0000],\n",
      "        [ 0.0605,  0.0412, -0.2143,  ...,  0.0000,  0.0000,  0.0000],\n",
      "        [ 0.0000,  0.0000,  0.0000,  ...,  0.0000,  0.0000,  0.0000],\n",
      "        ...,\n",
      "        [ 0.0000,  0.0000,  0.0000,  ...,  0.0000,  0.0000,  0.0000],\n",
      "        [ 0.0000,  0.0000,  0.0000,  ...,  0.0000,  0.0000,  0.0000],\n",
      "        [ 0.0075,  0.1377, -0.0712,  ...,  0.0000,  0.0000,  0.0000]])\n",
      "[10, 42, (-1, -1), (-1, -1), (-1, -1), (14984, 1), (17223, 39)]\n",
      "tensor([[ 0.0978,  0.0619, -0.1789,  ...,  0.0000,  0.0000,  0.0000],\n",
      "        [ 0.0605,  0.0412, -0.2143,  ...,  0.0000,  0.0000,  0.0000],\n",
      "        [ 0.0000,  0.0000,  0.0000,  ...,  0.0000,  0.0000,  0.0000],\n",
      "        ...,\n",
      "        [ 0.0000,  0.0000,  0.0000,  ...,  0.0000,  0.0000,  0.0000],\n",
      "        [ 0.0075,  0.1377, -0.0712,  ...,  0.0000,  0.0000,  0.0000],\n",
      "        [-0.0540,  0.0654, -0.0645,  ...,  0.0000,  0.0000,  0.0000]])\n"
     ]
    }
   ],
   "source": [
    "# Test\n",
    "drug, disease = 10, 42\n",
    "agent = Agent(K, kg_env)\n",
    "agent.set_source_target(drug,disease)\n",
    "print(agent.current_state)\n",
    "print(agent.current_state_embedding)\n",
    "agent.select_next_action(0)\n",
    "print(agent.current_state)\n",
    "print(agent.current_state_embedding)\n",
    "agent.select_next_action(0)\n",
    "print(agent.current_state)\n",
    "print(agent.current_state_embedding)\n",
    "agent.select_next_action(0)"
   ]
  },
  {
   "cell_type": "markdown",
   "metadata": {},
   "source": [
    "## Actor network"
   ]
  },
  {
   "cell_type": "code",
   "execution_count": 11,
   "metadata": {},
   "outputs": [],
   "source": [
    "class ActorFCNN(nn.Module):\n",
    "    \"\"\"Pytorch module representing the actor network. \n",
    "\n",
    "    Architecture is a fully connected neural network. \n",
    "\n",
    "    TODO: Remove LazyLinear in prod code (feature still under development)\n",
    "    \"\"\"\n",
    "    def __init__(self, \n",
    "                 neuron_lst : list[int],\n",
    "                 N_emb : int, \n",
    "                 N_edge_labels: int,\n",
    "                 activation_fn = nn.ReLU,\n",
    "                 ) -> None:\n",
    "        \"\"\"Initialises instance of ActorFCNN. \n",
    "\n",
    "        Args:\n",
    "            neuron_lst: A list containing the number of neurons in each hidden layer. \n",
    "                The length of the list determines the number of hidden layers. \n",
    "            N_emb: Length of node embedding vectors. \n",
    "            N_edge_labels: Length of edge predicate embedding vectors\n",
    "            activation_fn: Activation function for all hidden layers. Defaults to nn.ReLU.\n",
    "        \"\"\"\n",
    "        super().__init__()\n",
    "        # Dimension of embedding of a single action \n",
    "        action_emb_dim = N_emb + N_edge_labels\n",
    "        # Construct main stack \n",
    "        self.main_stack = nn.Sequential()\n",
    "        for idx, n in enumerate(neuron_lst):\n",
    "            self.main_stack.add_module(f'Linear {idx + 1}', nn.LazyLinear(n))\n",
    "            self.main_stack.add_module(f'Activation {idx + 1}', activation_fn())\n",
    "        self.main_stack.add_module('Linear output', nn.LazyLinear(action_emb_dim))\n",
    "\n",
    "    def forward(self, state_embedding: torch.Tensor, all_actions_embeddings: torch.Tensor): \n",
    "        \"\"\"Performs forward propagation. \n",
    "\n",
    "        Args:\n",
    "            state_embedding: 2d torch tensor representing current state embedding \n",
    "            all_actions_embeddings: 2d torch tensor embeddings for all possible next actions\n",
    "        \"\"\"\n",
    "        x = state_embedding.flatten()\n",
    "        z = self.main_stack(x)\n",
    "        return F.softmax(all_actions_embeddings @ z, dim = 0)        \n",
    "        "
   ]
  },
  {
   "cell_type": "code",
   "execution_count": 12,
   "metadata": {},
   "outputs": [
    {
     "name": "stdout",
     "output_type": "stream",
     "text": [
      "tensor([0.0329, 0.0294, 0.0292, 0.0333, 0.0283, 0.0245, 0.0198, 0.0347, 0.0249,\n",
      "        0.0372, 0.0313, 0.0201, 0.0308, 0.0244, 0.0301, 0.0356, 0.0328, 0.0280,\n",
      "        0.0198, 0.0340, 0.0260, 0.0325, 0.0292, 0.0227, 0.0218, 0.0429, 0.0333,\n",
      "        0.0326, 0.0245, 0.0289, 0.0313, 0.0313, 0.0315, 0.0305],\n",
      "       grad_fn=<SoftmaxBackward0>)\n",
      "25\n"
     ]
    }
   ],
   "source": [
    "# Test\n",
    "neuron_lst = [10,10]\n",
    "actor = ActorFCNN(neuron_lst, kg_env.N_emb, kg_env.N_edge_labels)\n",
    "print(actor(agent.current_state_embedding, agent.all_actions_embeddings))\n",
    "print(torch.argmax(actor(agent.current_state_embedding, agent.all_actions_embeddings)).item())"
   ]
  },
  {
   "cell_type": "code",
   "execution_count": 13,
   "metadata": {},
   "outputs": [],
   "source": [
    "def run_path(agent: Agent, actor: nn.Module, drug: int, disease: int) -> list:\n",
    "    # Reset agent\n",
    "    agent.set_source_target(drug, disease)\n",
    "    # Compute path\n",
    "    path = [agent.current_node]\n",
    "    while agent.terminated == False:\n",
    "        probs_next_action = actor(agent.current_state_embedding, agent.all_actions_embeddings)\n",
    "        n_next_action = torch.argmax(probs_next_action).item()\n",
    "        agent.select_next_action(n_next_action)    \n",
    "        path.append(agent.current_node)\n",
    "    return path\n"
   ]
  },
  {
   "cell_type": "code",
   "execution_count": 14,
   "metadata": {},
   "outputs": [
    {
     "name": "stdout",
     "output_type": "stream",
     "text": [
      "[10, 2379135, 2395275, 2403707, 399983, 245034]\n",
      "[10, 17463, 19874, 19849, 116641, 111417]\n",
      "[10, 239523, 239991, 235644, 235645, 2433667]\n",
      "[10, 71524, 268556, 243461, 37729, 2944603]\n",
      "[10, 250645, 242049, 250645, 242049, 250645]\n"
     ]
    }
   ],
   "source": [
    "# Test\n",
    "K = 5\n",
    "neuron_lst = [10,10]\n",
    "drug = 10\n",
    "disease = 42\n",
    "\n",
    "for _ in range (5):\n",
    "    actor = ActorFCNN(neuron_lst, kg_env.N_emb, kg_env.N_edge_labels)\n",
    "    agent = Agent(K, kg_env)\n",
    "    print(run_path(agent, actor, drug, disease))"
   ]
  },
  {
   "cell_type": "markdown",
   "metadata": {},
   "source": [
    "## Critic network"
   ]
  },
  {
   "cell_type": "code",
   "execution_count": 15,
   "metadata": {},
   "outputs": [],
   "source": [
    "class CriticFCNN(nn.Module):\n",
    "    \"\"\"Pytorch module representing the critic network. \n",
    "\n",
    "    Architecture is a fully connected neural network. \n",
    "\n",
    "    TODO: Remove LazyLinear in prod code (feature still under development)\n",
    "    \"\"\"\n",
    "    def __init__(self, \n",
    "                 neuron_lst : list[int],\n",
    "                 N_emb : int, \n",
    "                 N_edge_labels: int,\n",
    "                 activation_fn = nn.ReLU,\n",
    "                 ) -> None:\n",
    "        \"\"\"Initialises instance of CriticFCNN. \n",
    "\n",
    "        Args:\n",
    "            neuron_lst: A list containing the number of neurons in each hidden layer. \n",
    "                The length of the list determines the number of hidden layers. \n",
    "            N_emb: Length of node embedding vectors. \n",
    "            N_edge_labels: Length of edge predicate embedding vectors\n",
    "            activation_fn: Activation function for all hidden layers. Defaults to nn.ReLU.\n",
    "        \"\"\"\n",
    "        super().__init__()\n",
    "        # Dimension of embedding of a single action \n",
    "        action_emb_dim = N_emb + N_edge_labels\n",
    "        # Construct main stack \n",
    "        self.main_stack = nn.Sequential()\n",
    "        for idx, n in enumerate(neuron_lst):\n",
    "            self.main_stack.add_module(f'Linear {idx + 1}', nn.LazyLinear(n))\n",
    "            self.main_stack.add_module(f'Activation {idx + 1}', activation_fn())\n",
    "        self.main_stack.add_module('Linear output', nn.LazyLinear(action_emb_dim))\n",
    "\n",
    "    def forward(self, state_embedding: torch.Tensor, next_action_embedding: torch.Tensor):\n",
    "        \"\"\"Performs forward propagation. \n",
    "\n",
    "        Args:\n",
    "            state_embedding: 2d torch tensor representing current state embedding \n",
    "            next_action_embedding: 1d torch tensor embeddings for an action\n",
    "        \"\"\"\n",
    "        x = state_embedding.flatten()\n",
    "        z = self.main_stack(x)\n",
    "        return next_action_embedding @ z        \n"
   ]
  },
  {
   "cell_type": "code",
   "execution_count": 16,
   "metadata": {},
   "outputs": [
    {
     "name": "stdout",
     "output_type": "stream",
     "text": [
      "tensor(0.0368, grad_fn=<DotBackward0>)\n"
     ]
    }
   ],
   "source": [
    "# Test\n",
    "neuron_lst = [10,10]\n",
    "agent = Agent(K,kg_env)\n",
    "agent.set_source_target(10,42)\n",
    "critic = CriticFCNN(neuron_lst, kg_env.N_emb, kg_env.N_edge_labels)\n",
    "print(critic(agent.current_state_embedding, agent.all_actions_embeddings[0]))"
   ]
  },
  {
   "cell_type": "markdown",
   "metadata": {},
   "source": [
    "## Datasets"
   ]
  },
  {
   "cell_type": "markdown",
   "metadata": {},
   "source": [
    "In order to establish a baseline for MOA prediction algorithms, we shall train a model for the drug to disease path finding problem. "
   ]
  },
  {
   "cell_type": "code",
   "execution_count": 17,
   "metadata": {},
   "outputs": [],
   "source": [
    "# Ground truth positive\n",
    "df_tp = pd.read_csv('/Users/alexei/Documents/data/KGML_xDTD_data/known_pairs/tp_pairs.txt', sep='\\t')"
   ]
  },
  {
   "cell_type": "code",
   "execution_count": 18,
   "metadata": {},
   "outputs": [],
   "source": [
    "# Mapping to igraph indices\n",
    "df_tp_mapped = df_tp.map(lambda x: kg_env.node_id_to_index[x])\n",
    "# Convert to list of tuples\n",
    "tp_mapped_lst = [(row[\"source\"], row[\"target\"]) for _, row in df_tp_mapped.iterrows()]"
   ]
  },
  {
   "cell_type": "code",
   "execution_count": 19,
   "metadata": {},
   "outputs": [],
   "source": [
    "# Loading MOA demonstration paths dataset\n",
    "with open('../DrugMechDB/output/all_separated_paths.pickle', 'rb') as file:\n",
    "    moa_paths = pickle.load(file) "
   ]
  },
  {
   "cell_type": "code",
   "execution_count": 20,
   "metadata": {},
   "outputs": [],
   "source": [
    "# Transforming each MOA path to form [u, e_1, ..., e_{n-1}, v]\n",
    "#   where u, v, e_j are the igraph indices of the drug, disease and node indices. \n",
    "moa_mapped_lst = []\n",
    "for moa_path in moa_paths:\n",
    "    moa_path_mapped = [kg_env.node_id_to_index[node_id] for _, node_id in moa_path]\n",
    "    moa_mapped_lst.append(moa_path_mapped)"
   ]
  },
  {
   "cell_type": "code",
   "execution_count": 21,
   "metadata": {},
   "outputs": [],
   "source": [
    "# List of TP DD pairs based on the MOA demonstration paths\n",
    "moa_mapped_DD_lst = [(moa[0], moa[-1]) for moa in moa_mapped_lst]"
   ]
  },
  {
   "cell_type": "markdown",
   "metadata": {},
   "source": [
    "## "
   ]
  },
  {
   "cell_type": "code",
   "execution_count": 22,
   "metadata": {},
   "outputs": [
    {
     "name": "stdout",
     "output_type": "stream",
     "text": [
      "Number of MOA paths without corresponding pair in ground truth dataset: 328  out of  5598\n"
     ]
    }
   ],
   "source": [
    "print(\"Number of MOA paths without corresponding pair in ground truth dataset:\", len(set(moa_mapped_DD_lst) - set(tp_mapped_lst)), \" out of \", len(moa_mapped_DD_lst) )"
   ]
  },
  {
   "cell_type": "code",
   "execution_count": 23,
   "metadata": {},
   "outputs": [],
   "source": [
    "# Reducing MOA dataset to only those with a corresponding pair in ground truth dataset\n",
    "moa_reduced_lst = [moa for moa in moa_mapped_lst if (moa[0], moa[-1]) in tp_mapped_lst]"
   ]
  },
  {
   "cell_type": "code",
   "execution_count": 24,
   "metadata": {},
   "outputs": [],
   "source": [
    "# Test-train split for ground truth positive dataset\n",
    "tp_test_lst = [(moa[0], moa[-1]) for moa in moa_reduced_lst]\n",
    "tp_test_lst = list(set(tp_test_lst))\n",
    "tp_train_lst = list(set(tp_mapped_lst) - set(tp_test_lst))"
   ]
  },
  {
   "cell_type": "code",
   "execution_count": 25,
   "metadata": {},
   "outputs": [
    {
     "data": {
      "text/plain": [
       "True"
      ]
     },
     "execution_count": 25,
     "metadata": {},
     "output_type": "execute_result"
    }
   ],
   "source": [
    "# Test \n",
    "len(tp_test_lst) + len(tp_train_lst) == len(tp_mapped_lst)"
   ]
  },
  {
   "cell_type": "code",
   "execution_count": 26,
   "metadata": {},
   "outputs": [
    {
     "name": "stderr",
     "output_type": "stream",
     "text": [
      "100%|██████████| 21437/21437 [00:02<00:00, 9075.08it/s] "
     ]
    },
    {
     "name": "stdout",
     "output_type": "stream",
     "text": [
      "test passed:  True\n"
     ]
    },
    {
     "name": "stderr",
     "output_type": "stream",
     "text": [
      "\n"
     ]
    }
   ],
   "source": [
    "# Test : no ground truth pairs as edges \n",
    "test_passed = True\n",
    "for drug, disease in tqdm(tp_mapped_lst):\n",
    "    if drug in [edge.index for edge in kg_env.graph.vs[disease].out_edges()]:\n",
    "        test_passed = False\n",
    "    if disease in [edge.index for edge in kg_env.graph.vs[drug].out_edges()]:\n",
    "        test_passed = False\n",
    "print(\"test passed: \", test_passed )"
   ]
  },
  {
   "cell_type": "markdown",
   "metadata": {},
   "source": [
    "## Training "
   ]
  },
  {
   "cell_type": "markdown",
   "metadata": {},
   "source": [
    "In this notebook, we consider a terminal reward whereby the agent is rewarded for taking an action $a = (e, r)$ in a state $s$, as follows\n",
    "$$\n",
    "r(s,a) = \\begin{cases} 1 & \\textrm{if the node } e \\textrm{ is the target disease}\\\\\n",
    "0 & \\textrm{otherwise}\n",
    "\\end{cases}\n",
    "$$\n",
    "The state-value function $q_\\pi$ for policy $\\pi$ is defined as the expected cumulative reward:\n",
    "$$\n",
    "q_\\pi(s,a)  = \\mathbb{E}_\\pi[\\sum_{j} \\gamma^j r_j] \n",
    "$$\n",
    "where $\\set{r_j}$ is set of rewards achieved along the path until termination and $\\gamma \\in (0, 1]$ is the discount factor. \n",
    "\n",
    "Recall the Bellman equation for the state-value function:\n",
    "$$q_\\pi(s, a) = r(s,a) + \\gamma \\mathbb{E}_{a'\\sim\\pi} q_\\pi(s', a') $$\n",
    "where $s'$ is the state entered as a result of taking action $a$ in state $s$.\n",
    "\n",
    "The critic network $Q$ aims to approximate the state-value function. To do this we enforce the Bellman equation using the so-called temporal difference loss:\n",
    "$$\n",
    "L_Q(s, a ; Q, \\pi ) = (r(s,a) + \\gamma \\mathbb{E}_{a'\\sim\\pi} Q(s', a') - Q(s,a))^2.\n",
    "$$\n",
    "\n",
    "The loss for the actor network is\n",
    "$$\n",
    "L_\\pi(s ; Q, \\pi) = - \\mathbb{E}_{a\\sim\\pi} Q(s, a).\n",
    "$$"
   ]
  },
  {
   "cell_type": "markdown",
   "metadata": {},
   "source": [
    "The training process is performed using an $\\epsilon$-greedy strategy.\n",
    "\n",
    "- In each epoch, we loop over the ground-truth positive drug-disease pairs. \n",
    "- Each drug-disease pair in the epoch coresponds to an episode.\n",
    "- In each episode, \n",
    "    1. Start at the drug.\n",
    "    2. Choose the next action as follows.  \n",
    "        - With probability $1 - \\epsilon$, sample according to actor policy $\\pi$.\n",
    "        - With probability $\\epsilon$, sample randomly. \n",
    "    3. Perform gradient step. \n",
    "    4. Repeat steps 2 and 3 until termination. "
   ]
  },
  {
   "cell_type": "code",
   "execution_count": 27,
   "metadata": {},
   "outputs": [],
   "source": [
    "# Reward function \n",
    "\n",
    "def terminal_reward(disease : int, next_action : tuple[int]) -> float:\n",
    "    \"\"\"_summary_\n",
    "\n",
    "    Args:\n",
    "        disease: _description_\n",
    "        next_action: _description_\n",
    "    \"\"\"\n",
    "    if next_action[0] == disease:\n",
    "        return 1\n",
    "    else: \n",
    "        return 0"
   ]
  },
  {
   "cell_type": "code",
   "execution_count": 28,
   "metadata": {},
   "outputs": [],
   "source": [
    "# Main training loop\n",
    "\n",
    "def train(\n",
    "    kg_env : KGEnv, \n",
    "    K : int,\n",
    "    actor_neuron_lst : list[int],\n",
    "    critic_neuron_lst : list[int],\n",
    "    N_epochs : int,\n",
    "    gamma : float,\n",
    "    epsilon : float,\n",
    "    M : int, \n",
    "    optimiser : callable,\n",
    "    verbose = True,\n",
    "    device = 'cpu'\n",
    ") -> tuple[nn.Module]:\n",
    "    \"\"\"Train Actor-Critic network.\n",
    "\n",
    "    Function for use in current notebook only. \n",
    "\n",
    "    Args:\n",
    "        kg_env: Instance of KGEnv.\n",
    "        K: Max number of hops. \n",
    "        actor_neuron_lst: Size of all hidden layers in actor network.\n",
    "        critic_neuron_lst: Size of all hidden layers in critic network.\n",
    "        N_epochs: Number of epochs.\n",
    "        gamma: Discount factor. \n",
    "        epsilon: Controls epsilon-greedy policy. \n",
    "        M: (Maximum) Number of DD pairs cycled through per epoch. \n",
    "        optimiser: Function of PyTorch parameters representing optimiser. \n",
    "        verbose: Print updates during training.\n",
    "\n",
    "    Returns:\n",
    "        Tuple containing:\n",
    "            - trained actor and critic networks\n",
    "            - histories for average total, actor and critic loss function values per epoch.\n",
    "    \"\"\"\n",
    "    # Initialise agent, actor network and critic networks\n",
    "    agent = Agent(K, kg_env)\n",
    "    actor = ActorFCNN(actor_neuron_lst, kg_env.N_emb, kg_env.N_edge_labels).to(device)\n",
    "    critic = CriticFCNN(critic_neuron_lst, kg_env.N_emb, kg_env.N_edge_labels).to(device)\n",
    "\n",
    "    # Initialise optimiser \n",
    "    optimiser_actor = optimiser(actor.parameters())\n",
    "    optimiser_critic = optimiser(critic.parameters())\n",
    "\n",
    "    # Book-keeping \n",
    "    loss_hist = []\n",
    "    actor_loss_hist = []\n",
    "    critic_loss_hist = []\n",
    "    n_per_epoch = len(tp_train_lst[:M])\n",
    "\n",
    "    # Training loop\n",
    "    for epoch in range(N_epochs):\n",
    "        # Variables for tracking total loss for epoch\n",
    "        loss_epoch = 0\n",
    "        actor_loss_epoch = 0\n",
    "        critic_loss_epoch = 0\n",
    "        # Variable for tracking number of rewards per epoch\n",
    "        n_rewards_epoch = 0\n",
    "        for (drug, disease) in tqdm(tp_train_lst[:M]):\n",
    "            # Reset agent\n",
    "            agent.set_source_target(drug,disease)\n",
    "            current_state_embedding = agent.current_state_embedding\n",
    "            all_actions = agent.all_actions\n",
    "            all_actions_embeddings = agent.all_actions_embeddings\n",
    "\n",
    "            # Next episode if there are no available actions\n",
    "            if all_actions == None:\n",
    "                continue\n",
    "\n",
    "            # Run path \n",
    "            loss_episode_total = 0\n",
    "            actor_loss_episode_total = 0\n",
    "            critic_loss_episode_total = 0\n",
    "            len_path = 0\n",
    "            for _ in range (K): \n",
    "                #  Compute actor policy distribution for current state\n",
    "                policy_probabilities = actor(current_state_embedding, all_actions_embeddings)\n",
    "                \n",
    "                # Choose next action \n",
    "                do_exploit = random.choices([True, False], weights = [1 - epsilon, epsilon])[0]\n",
    "                if do_exploit:\n",
    "                    # Sample from actor policy\n",
    "                    n_next_action = random.choices(range(len(all_actions)), weights = policy_probabilities.tolist())[0]\n",
    "                else:\n",
    "                    # Sample from randomly\n",
    "                    n_next_action = random.choices(range(len(all_actions)))[0]\n",
    "                next_action = all_actions[n_next_action]\n",
    "                next_action_embedding = all_actions_embeddings[n_next_action]\n",
    "                    \n",
    "                # Compute actor loss\n",
    "                all_critic_values = critic(current_state_embedding, all_actions_embeddings)\n",
    "                loss_actor =  - all_critic_values @ policy_probabilities\n",
    "\n",
    "                # Backpropagation actor\n",
    "                optimiser_actor.zero_grad()\n",
    "                loss_actor.backward()\n",
    "                optimiser_actor.step()\n",
    "\n",
    "                # Compute reward and critic value for chosen action\n",
    "                current_critic_value = critic(current_state_embedding, next_action_embedding)\n",
    "                reward = terminal_reward(disease, next_action)\n",
    "                \n",
    "                # Update agent \n",
    "                agent.select_next_action(n_next_action)\n",
    "                current_state_embedding = agent.current_state_embedding\n",
    "                all_actions = agent.all_actions\n",
    "                all_actions_embeddings = agent.all_actions_embeddings\n",
    "\n",
    "                # Next episode if the path terminates \n",
    "                if agent.terminated == True:\n",
    "                    break\n",
    "\n",
    "                # Compute temporal difference loss for critic\n",
    "                new_critic_values = critic(current_state_embedding, all_actions_embeddings)\n",
    "                new_policy_probabilities = actor(current_state_embedding, all_actions_embeddings)\n",
    "                new_expectation_critic =  new_critic_values @ new_policy_probabilities\n",
    "                loss_critic = (reward + gamma * new_expectation_critic - current_critic_value)**2\n",
    "\n",
    "                # Backpropagation critic\n",
    "                optimiser_critic.zero_grad()\n",
    "                loss_critic.backward()\n",
    "                optimiser_critic.step()\n",
    "\n",
    "                # Record history\n",
    "                len_path += 1\n",
    "                loss_episode_total += (loss_actor + loss_critic).item()\n",
    "                actor_loss_episode_total += loss_actor.item()\n",
    "                critic_loss_episode_total += loss_critic.item()\n",
    "                if reward == 1:\n",
    "                    n_rewards_epoch += 1\n",
    "\n",
    "                # Next episode if disease has been successfully reached\n",
    "                if agent.current_node == disease:\n",
    "                    break\n",
    "                \n",
    "            # Record history\n",
    "            if len_path > 0:\n",
    "                loss_epoch += loss_episode_total / len_path\n",
    "                actor_loss_epoch += actor_loss_episode_total / len_path\n",
    "                critic_loss_epoch += critic_loss_episode_total / len_path\n",
    "\n",
    "        # Record history        \n",
    "        loss_hist.append(loss_epoch / n_per_epoch)\n",
    "        actor_loss_hist.append(actor_loss_epoch / n_per_epoch)\n",
    "        critic_loss_hist.append(critic_loss_epoch / n_per_epoch)\n",
    "\n",
    "        print(f\"Epoch {epoch + 1}. Rewards awarded: {n_rewards_epoch}. Average loss: {loss_epoch / n_per_epoch}.\")\n",
    "    return actor, critic, loss_hist, actor_loss_hist, critic_loss_hist\n",
    "    "
   ]
  },
  {
   "cell_type": "markdown",
   "metadata": {},
   "source": [
    "#### Training a tiny NN"
   ]
  },
  {
   "cell_type": "code",
   "execution_count": 29,
   "metadata": {},
   "outputs": [
    {
     "name": "stderr",
     "output_type": "stream",
     "text": [
      "100%|██████████| 100/100 [00:00<00:00, 127.26it/s]\n"
     ]
    },
    {
     "name": "stdout",
     "output_type": "stream",
     "text": [
      "Epoch 1. Rewards awarded: 1. Average loss: 0.023826410218607635.\n"
     ]
    },
    {
     "name": "stderr",
     "output_type": "stream",
     "text": [
      "100%|██████████| 100/100 [00:00<00:00, 174.69it/s]\n"
     ]
    },
    {
     "name": "stdout",
     "output_type": "stream",
     "text": [
      "Epoch 2. Rewards awarded: 0. Average loss: -0.11671279478837579.\n"
     ]
    },
    {
     "name": "stderr",
     "output_type": "stream",
     "text": [
      "100%|██████████| 100/100 [00:00<00:00, 203.20it/s]\n"
     ]
    },
    {
     "name": "stdout",
     "output_type": "stream",
     "text": [
      "Epoch 3. Rewards awarded: 0. Average loss: -0.11206086144782602.\n"
     ]
    },
    {
     "name": "stderr",
     "output_type": "stream",
     "text": [
      "100%|██████████| 100/100 [00:00<00:00, 216.56it/s]\n"
     ]
    },
    {
     "name": "stdout",
     "output_type": "stream",
     "text": [
      "Epoch 4. Rewards awarded: 0. Average loss: -0.0953734375035856.\n"
     ]
    },
    {
     "name": "stderr",
     "output_type": "stream",
     "text": [
      "100%|██████████| 100/100 [00:00<00:00, 231.04it/s]\n"
     ]
    },
    {
     "name": "stdout",
     "output_type": "stream",
     "text": [
      "Epoch 5. Rewards awarded: 0. Average loss: -0.0908778912969865.\n"
     ]
    },
    {
     "name": "stderr",
     "output_type": "stream",
     "text": [
      "100%|██████████| 100/100 [00:00<00:00, 237.11it/s]\n"
     ]
    },
    {
     "name": "stdout",
     "output_type": "stream",
     "text": [
      "Epoch 6. Rewards awarded: 0. Average loss: -0.09949353697476909.\n"
     ]
    },
    {
     "name": "stderr",
     "output_type": "stream",
     "text": [
      "100%|██████████| 100/100 [00:00<00:00, 255.60it/s]\n"
     ]
    },
    {
     "name": "stdout",
     "output_type": "stream",
     "text": [
      "Epoch 7. Rewards awarded: 0. Average loss: -0.08934704395825975.\n"
     ]
    },
    {
     "name": "stderr",
     "output_type": "stream",
     "text": [
      "100%|██████████| 100/100 [00:00<00:00, 261.94it/s]\n"
     ]
    },
    {
     "name": "stdout",
     "output_type": "stream",
     "text": [
      "Epoch 8. Rewards awarded: 0. Average loss: -0.0813318504113704.\n"
     ]
    },
    {
     "name": "stderr",
     "output_type": "stream",
     "text": [
      "100%|██████████| 100/100 [00:00<00:00, 300.13it/s]\n"
     ]
    },
    {
     "name": "stdout",
     "output_type": "stream",
     "text": [
      "Epoch 9. Rewards awarded: 0. Average loss: -0.07849563160367931.\n"
     ]
    },
    {
     "name": "stderr",
     "output_type": "stream",
     "text": [
      "100%|██████████| 100/100 [00:00<00:00, 291.63it/s]\n"
     ]
    },
    {
     "name": "stdout",
     "output_type": "stream",
     "text": [
      "Epoch 10. Rewards awarded: 0. Average loss: -0.07696700829546899.\n"
     ]
    },
    {
     "name": "stderr",
     "output_type": "stream",
     "text": [
      "100%|██████████| 100/100 [00:00<00:00, 295.57it/s]\n"
     ]
    },
    {
     "name": "stdout",
     "output_type": "stream",
     "text": [
      "Epoch 11. Rewards awarded: 0. Average loss: -0.07298988092380265.\n"
     ]
    },
    {
     "name": "stderr",
     "output_type": "stream",
     "text": [
      "100%|██████████| 100/100 [00:00<00:00, 302.81it/s]\n"
     ]
    },
    {
     "name": "stdout",
     "output_type": "stream",
     "text": [
      "Epoch 12. Rewards awarded: 0. Average loss: -0.07013823770219461.\n"
     ]
    },
    {
     "name": "stderr",
     "output_type": "stream",
     "text": [
      "100%|██████████| 100/100 [00:00<00:00, 300.51it/s]\n"
     ]
    },
    {
     "name": "stdout",
     "output_type": "stream",
     "text": [
      "Epoch 13. Rewards awarded: 0. Average loss: -0.06828043193711589.\n"
     ]
    },
    {
     "name": "stderr",
     "output_type": "stream",
     "text": [
      "100%|██████████| 100/100 [00:00<00:00, 278.77it/s]\n"
     ]
    },
    {
     "name": "stdout",
     "output_type": "stream",
     "text": [
      "Epoch 14. Rewards awarded: 0. Average loss: -0.06788726462827374.\n"
     ]
    },
    {
     "name": "stderr",
     "output_type": "stream",
     "text": [
      "100%|██████████| 100/100 [00:00<00:00, 299.36it/s]\n"
     ]
    },
    {
     "name": "stdout",
     "output_type": "stream",
     "text": [
      "Epoch 15. Rewards awarded: 0. Average loss: -0.06145102879342934.\n"
     ]
    },
    {
     "name": "stderr",
     "output_type": "stream",
     "text": [
      "100%|██████████| 100/100 [00:00<00:00, 291.19it/s]\n"
     ]
    },
    {
     "name": "stdout",
     "output_type": "stream",
     "text": [
      "Epoch 16. Rewards awarded: 0. Average loss: -0.0611473296272258.\n"
     ]
    },
    {
     "name": "stderr",
     "output_type": "stream",
     "text": [
      "100%|██████████| 100/100 [00:00<00:00, 281.02it/s]\n"
     ]
    },
    {
     "name": "stdout",
     "output_type": "stream",
     "text": [
      "Epoch 17. Rewards awarded: 0. Average loss: -0.06215429819499454.\n"
     ]
    },
    {
     "name": "stderr",
     "output_type": "stream",
     "text": [
      "100%|██████████| 100/100 [00:00<00:00, 268.09it/s]\n"
     ]
    },
    {
     "name": "stdout",
     "output_type": "stream",
     "text": [
      "Epoch 18. Rewards awarded: 0. Average loss: -0.05773527868868163.\n"
     ]
    },
    {
     "name": "stderr",
     "output_type": "stream",
     "text": [
      "100%|██████████| 100/100 [00:00<00:00, 290.47it/s]\n"
     ]
    },
    {
     "name": "stdout",
     "output_type": "stream",
     "text": [
      "Epoch 19. Rewards awarded: 0. Average loss: -0.05127645623016482.\n"
     ]
    },
    {
     "name": "stderr",
     "output_type": "stream",
     "text": [
      "100%|██████████| 100/100 [00:00<00:00, 220.57it/s]\n"
     ]
    },
    {
     "name": "stdout",
     "output_type": "stream",
     "text": [
      "Epoch 20. Rewards awarded: 0. Average loss: -0.061761393964601057.\n"
     ]
    },
    {
     "name": "stderr",
     "output_type": "stream",
     "text": [
      "100%|██████████| 100/100 [00:00<00:00, 268.07it/s]\n"
     ]
    },
    {
     "name": "stdout",
     "output_type": "stream",
     "text": [
      "Epoch 21. Rewards awarded: 0. Average loss: -0.05318459792683521.\n"
     ]
    },
    {
     "name": "stderr",
     "output_type": "stream",
     "text": [
      "100%|██████████| 100/100 [00:00<00:00, 216.35it/s]\n"
     ]
    },
    {
     "name": "stdout",
     "output_type": "stream",
     "text": [
      "Epoch 22. Rewards awarded: 0. Average loss: -0.05435911290192355.\n"
     ]
    },
    {
     "name": "stderr",
     "output_type": "stream",
     "text": [
      "100%|██████████| 100/100 [00:00<00:00, 265.55it/s]\n"
     ]
    },
    {
     "name": "stdout",
     "output_type": "stream",
     "text": [
      "Epoch 23. Rewards awarded: 0. Average loss: -0.0556627886245648.\n"
     ]
    },
    {
     "name": "stderr",
     "output_type": "stream",
     "text": [
      "100%|██████████| 100/100 [00:00<00:00, 283.50it/s]\n"
     ]
    },
    {
     "name": "stdout",
     "output_type": "stream",
     "text": [
      "Epoch 24. Rewards awarded: 0. Average loss: -0.05827586657057205.\n"
     ]
    },
    {
     "name": "stderr",
     "output_type": "stream",
     "text": [
      "100%|██████████| 100/100 [00:00<00:00, 281.60it/s]\n"
     ]
    },
    {
     "name": "stdout",
     "output_type": "stream",
     "text": [
      "Epoch 25. Rewards awarded: 0. Average loss: -0.056610148508722584.\n"
     ]
    },
    {
     "name": "stderr",
     "output_type": "stream",
     "text": [
      "100%|██████████| 100/100 [00:00<00:00, 280.87it/s]\n"
     ]
    },
    {
     "name": "stdout",
     "output_type": "stream",
     "text": [
      "Epoch 26. Rewards awarded: 0. Average loss: -0.04459003697382286.\n"
     ]
    },
    {
     "name": "stderr",
     "output_type": "stream",
     "text": [
      "100%|██████████| 100/100 [00:00<00:00, 277.20it/s]\n"
     ]
    },
    {
     "name": "stdout",
     "output_type": "stream",
     "text": [
      "Epoch 27. Rewards awarded: 0. Average loss: -0.042795583561916525.\n"
     ]
    },
    {
     "name": "stderr",
     "output_type": "stream",
     "text": [
      "100%|██████████| 100/100 [00:00<00:00, 268.90it/s]\n"
     ]
    },
    {
     "name": "stdout",
     "output_type": "stream",
     "text": [
      "Epoch 28. Rewards awarded: 0. Average loss: -0.04212706143308121.\n"
     ]
    },
    {
     "name": "stderr",
     "output_type": "stream",
     "text": [
      "100%|██████████| 100/100 [00:00<00:00, 296.77it/s]\n"
     ]
    },
    {
     "name": "stdout",
     "output_type": "stream",
     "text": [
      "Epoch 29. Rewards awarded: 0. Average loss: -0.04314987829731157.\n"
     ]
    },
    {
     "name": "stderr",
     "output_type": "stream",
     "text": [
      "100%|██████████| 100/100 [00:00<00:00, 297.39it/s]\n"
     ]
    },
    {
     "name": "stdout",
     "output_type": "stream",
     "text": [
      "Epoch 30. Rewards awarded: 0. Average loss: -0.04196577179711312.\n"
     ]
    },
    {
     "name": "stderr",
     "output_type": "stream",
     "text": [
      "100%|██████████| 100/100 [00:00<00:00, 288.61it/s]\n"
     ]
    },
    {
     "name": "stdout",
     "output_type": "stream",
     "text": [
      "Epoch 31. Rewards awarded: 0. Average loss: -0.0391302434533524.\n"
     ]
    },
    {
     "name": "stderr",
     "output_type": "stream",
     "text": [
      "100%|██████████| 100/100 [00:00<00:00, 269.85it/s]\n"
     ]
    },
    {
     "name": "stdout",
     "output_type": "stream",
     "text": [
      "Epoch 32. Rewards awarded: 0. Average loss: -0.03819262694470429.\n"
     ]
    },
    {
     "name": "stderr",
     "output_type": "stream",
     "text": [
      "100%|██████████| 100/100 [00:00<00:00, 248.81it/s]\n"
     ]
    },
    {
     "name": "stdout",
     "output_type": "stream",
     "text": [
      "Epoch 33. Rewards awarded: 0. Average loss: -0.04225278972415253.\n"
     ]
    },
    {
     "name": "stderr",
     "output_type": "stream",
     "text": [
      "100%|██████████| 100/100 [00:00<00:00, 265.32it/s]\n"
     ]
    },
    {
     "name": "stdout",
     "output_type": "stream",
     "text": [
      "Epoch 34. Rewards awarded: 0. Average loss: -0.04058344804681838.\n"
     ]
    },
    {
     "name": "stderr",
     "output_type": "stream",
     "text": [
      "100%|██████████| 100/100 [00:00<00:00, 275.89it/s]\n"
     ]
    },
    {
     "name": "stdout",
     "output_type": "stream",
     "text": [
      "Epoch 35. Rewards awarded: 0. Average loss: -0.04561550799834853.\n"
     ]
    },
    {
     "name": "stderr",
     "output_type": "stream",
     "text": [
      "100%|██████████| 100/100 [00:00<00:00, 241.82it/s]\n"
     ]
    },
    {
     "name": "stdout",
     "output_type": "stream",
     "text": [
      "Epoch 36. Rewards awarded: 0. Average loss: -0.03896766109547267.\n"
     ]
    },
    {
     "name": "stderr",
     "output_type": "stream",
     "text": [
      "100%|██████████| 100/100 [00:00<00:00, 245.74it/s]\n"
     ]
    },
    {
     "name": "stdout",
     "output_type": "stream",
     "text": [
      "Epoch 37. Rewards awarded: 0. Average loss: -0.037113583152179976.\n"
     ]
    },
    {
     "name": "stderr",
     "output_type": "stream",
     "text": [
      "100%|██████████| 100/100 [00:00<00:00, 234.13it/s]\n"
     ]
    },
    {
     "name": "stdout",
     "output_type": "stream",
     "text": [
      "Epoch 38. Rewards awarded: 0. Average loss: -0.03443837992226084.\n"
     ]
    },
    {
     "name": "stderr",
     "output_type": "stream",
     "text": [
      "100%|██████████| 100/100 [00:00<00:00, 253.24it/s]\n"
     ]
    },
    {
     "name": "stdout",
     "output_type": "stream",
     "text": [
      "Epoch 39. Rewards awarded: 0. Average loss: -0.04011409703448104.\n"
     ]
    },
    {
     "name": "stderr",
     "output_type": "stream",
     "text": [
      "100%|██████████| 100/100 [00:00<00:00, 264.15it/s]\n"
     ]
    },
    {
     "name": "stdout",
     "output_type": "stream",
     "text": [
      "Epoch 40. Rewards awarded: 0. Average loss: -0.03013924008070414.\n"
     ]
    },
    {
     "name": "stderr",
     "output_type": "stream",
     "text": [
      "100%|██████████| 100/100 [00:00<00:00, 263.04it/s]\n"
     ]
    },
    {
     "name": "stdout",
     "output_type": "stream",
     "text": [
      "Epoch 41. Rewards awarded: 0. Average loss: -0.02799557323315336.\n"
     ]
    },
    {
     "name": "stderr",
     "output_type": "stream",
     "text": [
      "100%|██████████| 100/100 [00:00<00:00, 200.86it/s]\n"
     ]
    },
    {
     "name": "stdout",
     "output_type": "stream",
     "text": [
      "Epoch 42. Rewards awarded: 0. Average loss: -0.028488386045986164.\n"
     ]
    },
    {
     "name": "stderr",
     "output_type": "stream",
     "text": [
      "100%|██████████| 100/100 [00:00<00:00, 202.99it/s]\n"
     ]
    },
    {
     "name": "stdout",
     "output_type": "stream",
     "text": [
      "Epoch 43. Rewards awarded: 0. Average loss: -0.031279224164318296.\n"
     ]
    },
    {
     "name": "stderr",
     "output_type": "stream",
     "text": [
      "100%|██████████| 100/100 [00:00<00:00, 262.05it/s]\n"
     ]
    },
    {
     "name": "stdout",
     "output_type": "stream",
     "text": [
      "Epoch 44. Rewards awarded: 0. Average loss: -0.029180853589981175.\n"
     ]
    },
    {
     "name": "stderr",
     "output_type": "stream",
     "text": [
      "100%|██████████| 100/100 [00:00<00:00, 254.57it/s]\n"
     ]
    },
    {
     "name": "stdout",
     "output_type": "stream",
     "text": [
      "Epoch 45. Rewards awarded: 0. Average loss: -0.026780639627371174.\n"
     ]
    },
    {
     "name": "stderr",
     "output_type": "stream",
     "text": [
      "100%|██████████| 100/100 [00:00<00:00, 249.68it/s]\n"
     ]
    },
    {
     "name": "stdout",
     "output_type": "stream",
     "text": [
      "Epoch 46. Rewards awarded: 0. Average loss: -0.01980070176237253.\n"
     ]
    },
    {
     "name": "stderr",
     "output_type": "stream",
     "text": [
      "100%|██████████| 100/100 [00:00<00:00, 312.65it/s]\n"
     ]
    },
    {
     "name": "stdout",
     "output_type": "stream",
     "text": [
      "Epoch 47. Rewards awarded: 0. Average loss: -0.024568449550812752.\n"
     ]
    },
    {
     "name": "stderr",
     "output_type": "stream",
     "text": [
      "100%|██████████| 100/100 [00:00<00:00, 298.92it/s]\n"
     ]
    },
    {
     "name": "stdout",
     "output_type": "stream",
     "text": [
      "Epoch 48. Rewards awarded: 0. Average loss: -0.025680468812449057.\n"
     ]
    },
    {
     "name": "stderr",
     "output_type": "stream",
     "text": [
      "100%|██████████| 100/100 [00:00<00:00, 263.51it/s]\n"
     ]
    },
    {
     "name": "stdout",
     "output_type": "stream",
     "text": [
      "Epoch 49. Rewards awarded: 0. Average loss: -0.020941899547275777.\n"
     ]
    },
    {
     "name": "stderr",
     "output_type": "stream",
     "text": [
      "100%|██████████| 100/100 [00:00<00:00, 256.63it/s]"
     ]
    },
    {
     "name": "stdout",
     "output_type": "stream",
     "text": [
      "Epoch 50. Rewards awarded: 0. Average loss: -0.020160186593808856.\n"
     ]
    },
    {
     "name": "stderr",
     "output_type": "stream",
     "text": [
      "\n"
     ]
    }
   ],
   "source": [
    "# Model hyperparameters\n",
    "K = 5\n",
    "actor_neuron_lst = [10,10]\n",
    "critic_neuron_lst = [10,10]\n",
    "\n",
    "# Training parameters\n",
    "N_epochs = 50\n",
    "gamma =  0.9\n",
    "epsilon = 0\n",
    "M = 100 # (max) number of DD pairs in epoch\n",
    "optimiser = lambda params : torch.optim.Adam(params)\n",
    "\n",
    "mini_actor, mini_critic, loss_hist, actor_loss_hist, critic_loss_hist = train(kg_env,\n",
    "    K, \n",
    "    actor_neuron_lst,\n",
    "    critic_neuron_lst,\n",
    "    N_epochs,\n",
    "    gamma,\n",
    "    epsilon,\n",
    "    M, \n",
    "    optimiser\n",
    ")"
   ]
  },
  {
   "cell_type": "code",
   "execution_count": 30,
   "metadata": {},
   "outputs": [
    {
     "data": {
      "text/plain": [
       "Text(0.5, 0, 'Epoch')"
      ]
     },
     "execution_count": 30,
     "metadata": {},
     "output_type": "execute_result"
    },
    {
     "data": {
      "image/png": "[encoded data removed]",
      "text/plain": [
       "<Figure size 1800x500 with 3 Axes>"
      ]
     },
     "metadata": {},
     "output_type": "display_data"
    }
   ],
   "source": [
    "# Plot training curve\n",
    "fig, ax = plt.subplots( 1, 3, figsize = (18, 5))\n",
    "ax[0].plot(loss_hist)\n",
    "ax[0].set_title(\"total loss\")\n",
    "ax[0].set_xlabel(\"Epoch\")\n",
    "ax[1].plot(actor_loss_hist)\n",
    "ax[1].set_title(\"actor loss\")\n",
    "ax[1].set_xlabel(\"Epoch\")\n",
    "ax[2].plot(critic_loss_hist)\n",
    "ax[2].set_title(\"critic loss\")\n",
    "ax[2].set_xlabel(\"Epoch\")"
   ]
  },
  {
   "cell_type": "markdown",
   "metadata": {},
   "source": [
    "## Evaluation"
   ]
  },
  {
   "cell_type": "code",
   "execution_count": 31,
   "metadata": {},
   "outputs": [],
   "source": [
    "def sample_path(agent: Agent, actor: nn.Module, drug: int, disease: int) -> list[int]:\n",
    "    \"\"\"Randomly samples a actor policy path starting from a drug node. \n",
    "\n",
    "    Path terminated in target disease is reached.\n",
    "\n",
    "    Args:\n",
    "        agent: Instance of Agent class.\n",
    "        actor: Actor network. \n",
    "        drug: igraph index for the source drug.\n",
    "        disease: igraph index for the target disease.\n",
    "\n",
    "    Returns:\n",
    "        List of igraph indices.\n",
    "    \"\"\"\n",
    "    # Reset agent\n",
    "    agent.set_source_target(drug, disease)\n",
    "    # Compute path\n",
    "    path = [agent.current_node]\n",
    "    while agent.terminated == False:\n",
    "        probs_next_action = actor(agent.current_state_embedding, agent.all_actions_embeddings)\n",
    "        n_next_action = random.choices(range(len(agent.all_actions)), weights = probs_next_action.tolist())[0]\n",
    "        agent.select_next_action(n_next_action)    \n",
    "        path.append(agent.current_node)\n",
    "        if agent.current_node == disease:\n",
    "            return path\n",
    "    return path"
   ]
  },
  {
   "cell_type": "code",
   "execution_count": 32,
   "metadata": {},
   "outputs": [],
   "source": [
    "def give_hits_list(\n",
    "        n_samples : int,\n",
    "        n_datapoints : int,\n",
    "        f_sample: callable,\n",
    "        dataset : list[tuple[int]]\n",
    "    ) -> list:\n",
    "    \"\"\"Gives number of samples until hit list for an actor policy. \n",
    "\n",
    "    Args:\n",
    "        n_samples: Maximum number of \n",
    "        n_datapoints: Maximum number of datapoints. \n",
    "        f_sample: Function sampling paths from actor-agent.\n",
    "        drug: igraph index for the source drug.\n",
    "        disease: igraph index for the target disease.\n",
    "\n",
    "    Returns:\n",
    "        List of elements:\n",
    "            - False if a path to disease was not found, otherwise,\n",
    "            - number of samples it took to get a path to disease. \n",
    "    \"\"\"\n",
    "    hits_lst = []\n",
    "    disease_reached = False\n",
    "    for drug, disease in tqdm(dataset[:n_datapoints]):\n",
    "        for n in range(n_samples):\n",
    "            path = f_sample(drug, disease) \n",
    "            if path[-1] == disease:\n",
    "                disease_reached = True\n",
    "                hits_lst.append(n+1)\n",
    "                break\n",
    "        if not disease_reached:\n",
    "            hits_lst.append(False)\n",
    "        disease_reached = False\n",
    "\n",
    "    return hits_lst\n",
    "\n",
    "def give_hitk(hits_lst, k_lst):\n",
    "    \"\"\"_summary_\n",
    "\n",
    "    Args:\n",
    "        hits_lst: _description_\n",
    "        k_lst: _description_\n",
    "    \"\"\"\n",
    "    filter_hits_lst = [n for n in hits_lst if n != False]\n",
    "    hitk = []\n",
    "    for k in k_lst:\n",
    "        hitk.append(sum([n <= k for n in filter_hits_lst]) / len(hits_lst)) \n",
    "    return hitk\n",
    "    "
   ]
  },
  {
   "cell_type": "code",
   "execution_count": 33,
   "metadata": {},
   "outputs": [],
   "source": [
    "# Baselines\n",
    "\n",
    "def sample_random_path(agent: Agent, drug: int, disease: int) -> list[int]:\n",
    "    \"\"\"Randomly samples a actor policy path starting from a drug node. \n",
    "\n",
    "    Path terminates if target disease is reached.\n",
    "\n",
    "    Args:\n",
    "        agent: Instance of Agent class.\n",
    "        drug: igraph index for the source drug.\n",
    "        disease: igraph index for the target disease.\n",
    "\n",
    "    Returns:\n",
    "        List of igraph indices.\n",
    "    \"\"\"\n",
    "    # Reset agent\n",
    "    agent.set_source_target(drug, disease)\n",
    "    # Compute path\n",
    "    path = [agent.current_node]\n",
    "    while agent.terminated == False:\n",
    "        n_next_action = random.choices(range(len(agent.all_actions)))[0]\n",
    "        agent.select_next_action(n_next_action)    \n",
    "        path.append(agent.current_node)\n",
    "        if agent.current_node == disease:\n",
    "            return path\n",
    "    return path"
   ]
  },
  {
   "cell_type": "markdown",
   "metadata": {},
   "source": [
    "### Establishing baselines"
   ]
  },
  {
   "cell_type": "code",
   "execution_count": 34,
   "metadata": {},
   "outputs": [],
   "source": [
    "K = 5\n",
    "k_lst = [10, 100, 500, 1000]\n",
    "n_samples = 1000\n",
    "n_datapoints = 100\n",
    "dataset = tp_test_lst\n",
    "agent = Agent(K, kg_env)\n"
   ]
  },
  {
   "cell_type": "markdown",
   "metadata": {},
   "source": [
    "#### Random walk"
   ]
  },
  {
   "cell_type": "code",
   "execution_count": 35,
   "metadata": {},
   "outputs": [
    {
     "name": "stderr",
     "output_type": "stream",
     "text": [
      "100%|██████████| 100/100 [01:29<00:00,  1.12it/s]\n"
     ]
    }
   ],
   "source": [
    "# Computing hits list for random walk \n",
    "f_random_sample = lambda drug, disease: sample_random_path(agent, drug, disease)\n",
    "random_hits_list = give_hits_list(n_samples, n_datapoints, f_random_sample, dataset)"
   ]
  },
  {
   "cell_type": "code",
   "execution_count": 36,
   "metadata": {},
   "outputs": [
    {
     "name": "stdout",
     "output_type": "stream",
     "text": [
      "Random walk:\n",
      "Hit@10: 0.02\n",
      "Hit@100: 0.19\n",
      "Hit@500: 0.55\n",
      "Hit@1000: 0.7\n"
     ]
    }
   ],
   "source": [
    "# Compute Hit@k for random walk\n",
    "hitk_random =  give_hitk(random_hits_list, k_lst)\n",
    "print(\"Random walk:\")\n",
    "for hitk_val, k in zip(hitk_random, k_lst): \n",
    "    print(f\"Hit@{k}: {hitk_val}\")\n"
   ]
  },
  {
   "cell_type": "markdown",
   "metadata": {},
   "source": [
    "#### Untrained network"
   ]
  },
  {
   "cell_type": "code",
   "execution_count": 37,
   "metadata": {},
   "outputs": [
    {
     "name": "stderr",
     "output_type": "stream",
     "text": [
      "100%|██████████| 100/100 [01:54<00:00,  1.15s/it]\n"
     ]
    }
   ],
   "source": [
    "# Computing hits list for untrained actor \n",
    "actor = ActorFCNN([10, 10], kg_env.N_emb, kg_env.N_edge_labels) \n",
    "f_untrained = lambda drug, disease: sample_path(agent, actor, drug, disease)\n",
    "untrained_hits_list = give_hits_list(n_samples, n_datapoints, f_untrained, dataset)\n"
   ]
  },
  {
   "cell_type": "code",
   "execution_count": 38,
   "metadata": {},
   "outputs": [
    {
     "name": "stdout",
     "output_type": "stream",
     "text": [
      "Untrained network:\n",
      "Hit@10: 0.03\n",
      "Hit@100: 0.19\n",
      "Hit@500: 0.56\n",
      "Hit@1000: 0.66\n"
     ]
    }
   ],
   "source": [
    "# Compute Hit@k for untrained actor \n",
    "hitk_untrained =  give_hitk(untrained_hits_list, k_lst)\n",
    "print(\"Untrained network:\")\n",
    "for hitk_val, k in zip(hitk_untrained, k_lst): \n",
    "    print(f\"Hit@{k}: {hitk_val}\")"
   ]
  },
  {
   "cell_type": "markdown",
   "metadata": {},
   "source": [
    "#### Trained mini network"
   ]
  },
  {
   "cell_type": "code",
   "execution_count": 39,
   "metadata": {},
   "outputs": [
    {
     "name": "stderr",
     "output_type": "stream",
     "text": [
      "100%|██████████| 100/100 [01:12<00:00,  1.37it/s]\n"
     ]
    }
   ],
   "source": [
    "# Computing hits list for trained actor \n",
    "f_trained = lambda drug, disease: sample_path(agent, mini_actor, drug, disease)\n",
    "trained_hits_list = give_hits_list(n_samples, n_datapoints, f_trained, dataset)"
   ]
  },
  {
   "cell_type": "code",
   "execution_count": 40,
   "metadata": {},
   "outputs": [
    {
     "name": "stdout",
     "output_type": "stream",
     "text": [
      "Trained mini network:\n",
      "Hit@10: 0.0\n",
      "Hit@100: 0.0\n",
      "Hit@500: 0.0\n",
      "Hit@1000: 0.0\n"
     ]
    }
   ],
   "source": [
    "# Compute Hit@k for trained mini actor \n",
    "hitk_trained =  give_hitk(trained_hits_list, k_lst)\n",
    "print(\"Trained mini network:\")\n",
    "for hitk_val, k in zip(hitk_trained, k_lst): \n",
    "    print(f\"Hit@{k}: {hitk_val}\")"
   ]
  },
  {
   "cell_type": "markdown",
   "metadata": {},
   "source": [
    "## Bigger network"
   ]
  },
  {
   "cell_type": "code",
   "execution_count": 41,
   "metadata": {},
   "outputs": [],
   "source": [
    "# GPU training : crashes since embedding matrix is too large to be stored on GPU memory\n",
    "# Initialise KG environment\n",
    "#kg_env = KGEnv(KG_NODES_PATH, KG_NODES_HEADER_PATH, KG_EDGES_PATH, KG_EDGES_HEADER_PATH, GRAPHSAGE_EMB_PATH, device = 'mps')"
   ]
  },
  {
   "cell_type": "code",
   "execution_count": 43,
   "metadata": {},
   "outputs": [
    {
     "name": "stderr",
     "output_type": "stream",
     "text": [
      "100%|██████████| 500/500 [00:16<00:00, 30.77it/s]\n"
     ]
    },
    {
     "name": "stdout",
     "output_type": "stream",
     "text": [
      "Epoch 1. Rewards awarded: 6. Average loss: 0.049217131962306065.\n"
     ]
    },
    {
     "name": "stderr",
     "output_type": "stream",
     "text": [
      "100%|██████████| 500/500 [00:15<00:00, 33.19it/s]\n"
     ]
    },
    {
     "name": "stdout",
     "output_type": "stream",
     "text": [
      "Epoch 2. Rewards awarded: 7. Average loss: 0.0373885665329326.\n"
     ]
    },
    {
     "name": "stderr",
     "output_type": "stream",
     "text": [
      "100%|██████████| 500/500 [00:15<00:00, 32.62it/s]\n"
     ]
    },
    {
     "name": "stdout",
     "output_type": "stream",
     "text": [
      "Epoch 3. Rewards awarded: 8. Average loss: 0.02968619709491516.\n"
     ]
    },
    {
     "name": "stderr",
     "output_type": "stream",
     "text": [
      "100%|██████████| 500/500 [00:15<00:00, 32.68it/s]\n"
     ]
    },
    {
     "name": "stdout",
     "output_type": "stream",
     "text": [
      "Epoch 4. Rewards awarded: 4. Average loss: 0.0189022546211149.\n"
     ]
    },
    {
     "name": "stderr",
     "output_type": "stream",
     "text": [
      "100%|██████████| 500/500 [00:14<00:00, 33.53it/s]\n"
     ]
    },
    {
     "name": "stdout",
     "output_type": "stream",
     "text": [
      "Epoch 5. Rewards awarded: 7. Average loss: 0.02026002545755667.\n"
     ]
    },
    {
     "name": "stderr",
     "output_type": "stream",
     "text": [
      "100%|██████████| 500/500 [00:15<00:00, 32.75it/s]\n"
     ]
    },
    {
     "name": "stdout",
     "output_type": "stream",
     "text": [
      "Epoch 6. Rewards awarded: 7. Average loss: 0.017701525120126464.\n"
     ]
    },
    {
     "name": "stderr",
     "output_type": "stream",
     "text": [
      "100%|██████████| 500/500 [00:15<00:00, 32.76it/s]\n"
     ]
    },
    {
     "name": "stdout",
     "output_type": "stream",
     "text": [
      "Epoch 7. Rewards awarded: 6. Average loss: 0.012734907516534198.\n"
     ]
    },
    {
     "name": "stderr",
     "output_type": "stream",
     "text": [
      "100%|██████████| 500/500 [00:15<00:00, 32.34it/s]\n"
     ]
    },
    {
     "name": "stdout",
     "output_type": "stream",
     "text": [
      "Epoch 8. Rewards awarded: 6. Average loss: 0.011772304662726432.\n"
     ]
    },
    {
     "name": "stderr",
     "output_type": "stream",
     "text": [
      "100%|██████████| 500/500 [00:15<00:00, 32.84it/s]\n"
     ]
    },
    {
     "name": "stdout",
     "output_type": "stream",
     "text": [
      "Epoch 9. Rewards awarded: 9. Average loss: 0.01537664193184825.\n"
     ]
    },
    {
     "name": "stderr",
     "output_type": "stream",
     "text": [
      "100%|██████████| 500/500 [00:15<00:00, 32.96it/s]\n"
     ]
    },
    {
     "name": "stdout",
     "output_type": "stream",
     "text": [
      "Epoch 10. Rewards awarded: 6. Average loss: 0.008900258439592563.\n"
     ]
    },
    {
     "name": "stderr",
     "output_type": "stream",
     "text": [
      "100%|██████████| 500/500 [00:15<00:00, 33.06it/s]\n"
     ]
    },
    {
     "name": "stdout",
     "output_type": "stream",
     "text": [
      "Epoch 11. Rewards awarded: 6. Average loss: 0.008152858898871879.\n"
     ]
    },
    {
     "name": "stderr",
     "output_type": "stream",
     "text": [
      "100%|██████████| 500/500 [00:14<00:00, 34.41it/s]\n"
     ]
    },
    {
     "name": "stdout",
     "output_type": "stream",
     "text": [
      "Epoch 12. Rewards awarded: 4. Average loss: 0.004953992801322858.\n"
     ]
    },
    {
     "name": "stderr",
     "output_type": "stream",
     "text": [
      "100%|██████████| 500/500 [00:14<00:00, 35.10it/s]\n"
     ]
    },
    {
     "name": "stdout",
     "output_type": "stream",
     "text": [
      "Epoch 13. Rewards awarded: 8. Average loss: 0.008860529699218774.\n"
     ]
    },
    {
     "name": "stderr",
     "output_type": "stream",
     "text": [
      "100%|██████████| 500/500 [00:14<00:00, 34.91it/s]\n"
     ]
    },
    {
     "name": "stdout",
     "output_type": "stream",
     "text": [
      "Epoch 14. Rewards awarded: 7. Average loss: 0.008866973431493534.\n"
     ]
    },
    {
     "name": "stderr",
     "output_type": "stream",
     "text": [
      "100%|██████████| 500/500 [00:14<00:00, 34.88it/s]\n"
     ]
    },
    {
     "name": "stdout",
     "output_type": "stream",
     "text": [
      "Epoch 15. Rewards awarded: 8. Average loss: 0.010107668525938002.\n"
     ]
    },
    {
     "name": "stderr",
     "output_type": "stream",
     "text": [
      "100%|██████████| 500/500 [00:14<00:00, 34.85it/s]\n"
     ]
    },
    {
     "name": "stdout",
     "output_type": "stream",
     "text": [
      "Epoch 16. Rewards awarded: 8. Average loss: 0.00919077511903394.\n"
     ]
    },
    {
     "name": "stderr",
     "output_type": "stream",
     "text": [
      "100%|██████████| 500/500 [00:14<00:00, 35.09it/s]\n"
     ]
    },
    {
     "name": "stdout",
     "output_type": "stream",
     "text": [
      "Epoch 17. Rewards awarded: 9. Average loss: 0.011569155574348617.\n"
     ]
    },
    {
     "name": "stderr",
     "output_type": "stream",
     "text": [
      "100%|██████████| 500/500 [00:14<00:00, 35.14it/s]\n"
     ]
    },
    {
     "name": "stdout",
     "output_type": "stream",
     "text": [
      "Epoch 18. Rewards awarded: 6. Average loss: 0.006215745079023312.\n"
     ]
    },
    {
     "name": "stderr",
     "output_type": "stream",
     "text": [
      "100%|██████████| 500/500 [00:14<00:00, 35.01it/s]\n"
     ]
    },
    {
     "name": "stdout",
     "output_type": "stream",
     "text": [
      "Epoch 19. Rewards awarded: 6. Average loss: 0.0070071006285306785.\n"
     ]
    },
    {
     "name": "stderr",
     "output_type": "stream",
     "text": [
      "100%|██████████| 500/500 [00:13<00:00, 35.72it/s]\n"
     ]
    },
    {
     "name": "stdout",
     "output_type": "stream",
     "text": [
      "Epoch 20. Rewards awarded: 9. Average loss: 0.011768882580609898.\n"
     ]
    },
    {
     "name": "stderr",
     "output_type": "stream",
     "text": [
      "100%|██████████| 500/500 [00:14<00:00, 35.49it/s]\n"
     ]
    },
    {
     "name": "stdout",
     "output_type": "stream",
     "text": [
      "Epoch 21. Rewards awarded: 8. Average loss: 0.009853905180575868.\n"
     ]
    },
    {
     "name": "stderr",
     "output_type": "stream",
     "text": [
      "100%|██████████| 500/500 [00:14<00:00, 35.03it/s]\n"
     ]
    },
    {
     "name": "stdout",
     "output_type": "stream",
     "text": [
      "Epoch 22. Rewards awarded: 9. Average loss: 0.010591488641676883.\n"
     ]
    },
    {
     "name": "stderr",
     "output_type": "stream",
     "text": [
      "100%|██████████| 500/500 [00:14<00:00, 35.33it/s]\n"
     ]
    },
    {
     "name": "stdout",
     "output_type": "stream",
     "text": [
      "Epoch 23. Rewards awarded: 10. Average loss: 0.012491880556192086.\n"
     ]
    },
    {
     "name": "stderr",
     "output_type": "stream",
     "text": [
      "100%|██████████| 500/500 [00:14<00:00, 34.66it/s]\n"
     ]
    },
    {
     "name": "stdout",
     "output_type": "stream",
     "text": [
      "Epoch 24. Rewards awarded: 10. Average loss: 0.010766208103577393.\n"
     ]
    },
    {
     "name": "stderr",
     "output_type": "stream",
     "text": [
      "100%|██████████| 500/500 [00:14<00:00, 35.58it/s]\n"
     ]
    },
    {
     "name": "stdout",
     "output_type": "stream",
     "text": [
      "Epoch 25. Rewards awarded: 13. Average loss: 0.014325629250158576.\n"
     ]
    },
    {
     "name": "stderr",
     "output_type": "stream",
     "text": [
      "100%|██████████| 500/500 [00:14<00:00, 35.40it/s]\n"
     ]
    },
    {
     "name": "stdout",
     "output_type": "stream",
     "text": [
      "Epoch 26. Rewards awarded: 9. Average loss: 0.0080497844254387.\n"
     ]
    },
    {
     "name": "stderr",
     "output_type": "stream",
     "text": [
      "100%|██████████| 500/500 [00:14<00:00, 35.16it/s]\n"
     ]
    },
    {
     "name": "stdout",
     "output_type": "stream",
     "text": [
      "Epoch 27. Rewards awarded: 6. Average loss: 0.003992761891632654.\n"
     ]
    },
    {
     "name": "stderr",
     "output_type": "stream",
     "text": [
      "100%|██████████| 500/500 [00:14<00:00, 34.84it/s]\n"
     ]
    },
    {
     "name": "stdout",
     "output_type": "stream",
     "text": [
      "Epoch 28. Rewards awarded: 14. Average loss: 0.015897607084990342.\n"
     ]
    },
    {
     "name": "stderr",
     "output_type": "stream",
     "text": [
      "100%|██████████| 500/500 [00:14<00:00, 35.54it/s]\n"
     ]
    },
    {
     "name": "stdout",
     "output_type": "stream",
     "text": [
      "Epoch 29. Rewards awarded: 10. Average loss: 0.009610944101383136.\n"
     ]
    },
    {
     "name": "stderr",
     "output_type": "stream",
     "text": [
      "100%|██████████| 500/500 [00:15<00:00, 31.88it/s]\n"
     ]
    },
    {
     "name": "stdout",
     "output_type": "stream",
     "text": [
      "Epoch 30. Rewards awarded: 10. Average loss: 0.009281213619887544.\n"
     ]
    },
    {
     "name": "stderr",
     "output_type": "stream",
     "text": [
      "100%|██████████| 500/500 [00:16<00:00, 30.58it/s]\n"
     ]
    },
    {
     "name": "stdout",
     "output_type": "stream",
     "text": [
      "Epoch 31. Rewards awarded: 8. Average loss: 0.005871006195407366.\n"
     ]
    },
    {
     "name": "stderr",
     "output_type": "stream",
     "text": [
      "100%|██████████| 500/500 [00:14<00:00, 34.08it/s]\n"
     ]
    },
    {
     "name": "stdout",
     "output_type": "stream",
     "text": [
      "Epoch 32. Rewards awarded: 7. Average loss: 0.003963132618928286.\n"
     ]
    },
    {
     "name": "stderr",
     "output_type": "stream",
     "text": [
      "100%|██████████| 500/500 [00:14<00:00, 34.32it/s]\n"
     ]
    },
    {
     "name": "stdout",
     "output_type": "stream",
     "text": [
      "Epoch 33. Rewards awarded: 9. Average loss: 0.009942777582955387.\n"
     ]
    },
    {
     "name": "stderr",
     "output_type": "stream",
     "text": [
      "100%|██████████| 500/500 [00:14<00:00, 34.07it/s]\n"
     ]
    },
    {
     "name": "stdout",
     "output_type": "stream",
     "text": [
      "Epoch 34. Rewards awarded: 8. Average loss: 0.007705377218752499.\n"
     ]
    },
    {
     "name": "stderr",
     "output_type": "stream",
     "text": [
      "100%|██████████| 500/500 [00:14<00:00, 33.50it/s]\n"
     ]
    },
    {
     "name": "stdout",
     "output_type": "stream",
     "text": [
      "Epoch 35. Rewards awarded: 6. Average loss: 0.0052268392241955255.\n"
     ]
    },
    {
     "name": "stderr",
     "output_type": "stream",
     "text": [
      "100%|██████████| 500/500 [00:14<00:00, 33.81it/s]\n"
     ]
    },
    {
     "name": "stdout",
     "output_type": "stream",
     "text": [
      "Epoch 36. Rewards awarded: 11. Average loss: 0.011483953114709797.\n"
     ]
    },
    {
     "name": "stderr",
     "output_type": "stream",
     "text": [
      "100%|██████████| 500/500 [00:16<00:00, 30.56it/s]\n"
     ]
    },
    {
     "name": "stdout",
     "output_type": "stream",
     "text": [
      "Epoch 37. Rewards awarded: 6. Average loss: 0.00430213308132405.\n"
     ]
    },
    {
     "name": "stderr",
     "output_type": "stream",
     "text": [
      "100%|██████████| 500/500 [00:16<00:00, 30.69it/s]\n"
     ]
    },
    {
     "name": "stdout",
     "output_type": "stream",
     "text": [
      "Epoch 38. Rewards awarded: 10. Average loss: 0.011624978219838648.\n"
     ]
    },
    {
     "name": "stderr",
     "output_type": "stream",
     "text": [
      "100%|██████████| 500/500 [00:15<00:00, 32.45it/s]\n"
     ]
    },
    {
     "name": "stdout",
     "output_type": "stream",
     "text": [
      "Epoch 39. Rewards awarded: 8. Average loss: 0.005055446596346276.\n"
     ]
    },
    {
     "name": "stderr",
     "output_type": "stream",
     "text": [
      "100%|██████████| 500/500 [00:16<00:00, 31.25it/s]\n"
     ]
    },
    {
     "name": "stdout",
     "output_type": "stream",
     "text": [
      "Epoch 40. Rewards awarded: 15. Average loss: 0.017236037817090922.\n"
     ]
    },
    {
     "name": "stderr",
     "output_type": "stream",
     "text": [
      "100%|██████████| 500/500 [00:16<00:00, 29.68it/s]\n"
     ]
    },
    {
     "name": "stdout",
     "output_type": "stream",
     "text": [
      "Epoch 41. Rewards awarded: 10. Average loss: 0.008830981458631754.\n"
     ]
    },
    {
     "name": "stderr",
     "output_type": "stream",
     "text": [
      "100%|██████████| 500/500 [00:15<00:00, 32.60it/s]\n"
     ]
    },
    {
     "name": "stdout",
     "output_type": "stream",
     "text": [
      "Epoch 42. Rewards awarded: 10. Average loss: 0.009252680119147953.\n"
     ]
    },
    {
     "name": "stderr",
     "output_type": "stream",
     "text": [
      "100%|██████████| 500/500 [00:15<00:00, 32.38it/s]\n"
     ]
    },
    {
     "name": "stdout",
     "output_type": "stream",
     "text": [
      "Epoch 43. Rewards awarded: 11. Average loss: 0.011101732815127925.\n"
     ]
    },
    {
     "name": "stderr",
     "output_type": "stream",
     "text": [
      "100%|██████████| 500/500 [00:15<00:00, 32.54it/s]\n"
     ]
    },
    {
     "name": "stdout",
     "output_type": "stream",
     "text": [
      "Epoch 44. Rewards awarded: 9. Average loss: 0.008215450116840656.\n"
     ]
    },
    {
     "name": "stderr",
     "output_type": "stream",
     "text": [
      "100%|██████████| 500/500 [00:14<00:00, 33.65it/s]\n"
     ]
    },
    {
     "name": "stdout",
     "output_type": "stream",
     "text": [
      "Epoch 45. Rewards awarded: 11. Average loss: 0.008324087744620555.\n"
     ]
    },
    {
     "name": "stderr",
     "output_type": "stream",
     "text": [
      "100%|██████████| 500/500 [00:15<00:00, 33.28it/s]\n"
     ]
    },
    {
     "name": "stdout",
     "output_type": "stream",
     "text": [
      "Epoch 46. Rewards awarded: 11. Average loss: 0.009217255881129557.\n"
     ]
    },
    {
     "name": "stderr",
     "output_type": "stream",
     "text": [
      "100%|██████████| 500/500 [00:14<00:00, 34.28it/s]\n"
     ]
    },
    {
     "name": "stdout",
     "output_type": "stream",
     "text": [
      "Epoch 47. Rewards awarded: 14. Average loss: 0.014327923166032026.\n"
     ]
    },
    {
     "name": "stderr",
     "output_type": "stream",
     "text": [
      "100%|██████████| 500/500 [00:14<00:00, 33.88it/s]\n"
     ]
    },
    {
     "name": "stdout",
     "output_type": "stream",
     "text": [
      "Epoch 48. Rewards awarded: 11. Average loss: 0.010020842951254357.\n"
     ]
    },
    {
     "name": "stderr",
     "output_type": "stream",
     "text": [
      "100%|██████████| 500/500 [00:14<00:00, 33.94it/s]\n"
     ]
    },
    {
     "name": "stdout",
     "output_type": "stream",
     "text": [
      "Epoch 49. Rewards awarded: 10. Average loss: 0.005101240503451361.\n"
     ]
    },
    {
     "name": "stderr",
     "output_type": "stream",
     "text": [
      "100%|██████████| 500/500 [00:15<00:00, 33.22it/s]\n"
     ]
    },
    {
     "name": "stdout",
     "output_type": "stream",
     "text": [
      "Epoch 50. Rewards awarded: 13. Average loss: 0.011561872234832661.\n"
     ]
    },
    {
     "name": "stderr",
     "output_type": "stream",
     "text": [
      "100%|██████████| 500/500 [00:14<00:00, 33.48it/s]\n"
     ]
    },
    {
     "name": "stdout",
     "output_type": "stream",
     "text": [
      "Epoch 51. Rewards awarded: 14. Average loss: 0.01380277034601871.\n"
     ]
    },
    {
     "name": "stderr",
     "output_type": "stream",
     "text": [
      "100%|██████████| 500/500 [00:15<00:00, 33.12it/s]\n"
     ]
    },
    {
     "name": "stdout",
     "output_type": "stream",
     "text": [
      "Epoch 52. Rewards awarded: 15. Average loss: 0.01298533814771372.\n"
     ]
    },
    {
     "name": "stderr",
     "output_type": "stream",
     "text": [
      "100%|██████████| 500/500 [00:14<00:00, 34.00it/s]\n"
     ]
    },
    {
     "name": "stdout",
     "output_type": "stream",
     "text": [
      "Epoch 53. Rewards awarded: 13. Average loss: 0.01016860830510814.\n"
     ]
    },
    {
     "name": "stderr",
     "output_type": "stream",
     "text": [
      "100%|██████████| 500/500 [00:14<00:00, 34.11it/s]\n"
     ]
    },
    {
     "name": "stdout",
     "output_type": "stream",
     "text": [
      "Epoch 54. Rewards awarded: 14. Average loss: 0.012887431467345476.\n"
     ]
    },
    {
     "name": "stderr",
     "output_type": "stream",
     "text": [
      "100%|██████████| 500/500 [00:14<00:00, 33.50it/s]\n"
     ]
    },
    {
     "name": "stdout",
     "output_type": "stream",
     "text": [
      "Epoch 55. Rewards awarded: 11. Average loss: 0.009027511297989196.\n"
     ]
    },
    {
     "name": "stderr",
     "output_type": "stream",
     "text": [
      "100%|██████████| 500/500 [00:15<00:00, 33.17it/s]\n"
     ]
    },
    {
     "name": "stdout",
     "output_type": "stream",
     "text": [
      "Epoch 56. Rewards awarded: 17. Average loss: 0.01728212479158583.\n"
     ]
    },
    {
     "name": "stderr",
     "output_type": "stream",
     "text": [
      "100%|██████████| 500/500 [00:15<00:00, 32.80it/s]\n"
     ]
    },
    {
     "name": "stdout",
     "output_type": "stream",
     "text": [
      "Epoch 57. Rewards awarded: 12. Average loss: 0.008848633410262362.\n"
     ]
    },
    {
     "name": "stderr",
     "output_type": "stream",
     "text": [
      "100%|██████████| 500/500 [00:14<00:00, 34.27it/s]\n"
     ]
    },
    {
     "name": "stdout",
     "output_type": "stream",
     "text": [
      "Epoch 58. Rewards awarded: 13. Average loss: 0.012649692349254716.\n"
     ]
    },
    {
     "name": "stderr",
     "output_type": "stream",
     "text": [
      "100%|██████████| 500/500 [00:14<00:00, 33.98it/s]\n"
     ]
    },
    {
     "name": "stdout",
     "output_type": "stream",
     "text": [
      "Epoch 59. Rewards awarded: 11. Average loss: 0.01030319978864827.\n"
     ]
    },
    {
     "name": "stderr",
     "output_type": "stream",
     "text": [
      "100%|██████████| 500/500 [00:15<00:00, 32.51it/s]\n"
     ]
    },
    {
     "name": "stdout",
     "output_type": "stream",
     "text": [
      "Epoch 60. Rewards awarded: 11. Average loss: 0.010124605891405434.\n"
     ]
    },
    {
     "name": "stderr",
     "output_type": "stream",
     "text": [
      "100%|██████████| 500/500 [00:14<00:00, 34.38it/s]\n"
     ]
    },
    {
     "name": "stdout",
     "output_type": "stream",
     "text": [
      "Epoch 61. Rewards awarded: 13. Average loss: 0.013361606165715783.\n"
     ]
    },
    {
     "name": "stderr",
     "output_type": "stream",
     "text": [
      "100%|██████████| 500/500 [00:14<00:00, 33.98it/s]\n"
     ]
    },
    {
     "name": "stdout",
     "output_type": "stream",
     "text": [
      "Epoch 62. Rewards awarded: 10. Average loss: 0.008388748665378443.\n"
     ]
    },
    {
     "name": "stderr",
     "output_type": "stream",
     "text": [
      "100%|██████████| 500/500 [00:14<00:00, 35.41it/s]\n"
     ]
    },
    {
     "name": "stdout",
     "output_type": "stream",
     "text": [
      "Epoch 63. Rewards awarded: 18. Average loss: 0.019175678506225573.\n"
     ]
    },
    {
     "name": "stderr",
     "output_type": "stream",
     "text": [
      "100%|██████████| 500/500 [00:14<00:00, 35.24it/s]\n"
     ]
    },
    {
     "name": "stdout",
     "output_type": "stream",
     "text": [
      "Epoch 64. Rewards awarded: 18. Average loss: 0.01783328096929411.\n"
     ]
    },
    {
     "name": "stderr",
     "output_type": "stream",
     "text": [
      "100%|██████████| 500/500 [00:15<00:00, 32.92it/s]\n"
     ]
    },
    {
     "name": "stdout",
     "output_type": "stream",
     "text": [
      "Epoch 65. Rewards awarded: 18. Average loss: 0.015985815828592577.\n"
     ]
    },
    {
     "name": "stderr",
     "output_type": "stream",
     "text": [
      "100%|██████████| 500/500 [00:14<00:00, 34.59it/s]\n"
     ]
    },
    {
     "name": "stdout",
     "output_type": "stream",
     "text": [
      "Epoch 66. Rewards awarded: 16. Average loss: 0.012261826154366039.\n"
     ]
    },
    {
     "name": "stderr",
     "output_type": "stream",
     "text": [
      "100%|██████████| 500/500 [00:15<00:00, 33.09it/s]\n"
     ]
    },
    {
     "name": "stdout",
     "output_type": "stream",
     "text": [
      "Epoch 67. Rewards awarded: 20. Average loss: 0.02054949886651472.\n"
     ]
    },
    {
     "name": "stderr",
     "output_type": "stream",
     "text": [
      "100%|██████████| 500/500 [00:14<00:00, 33.84it/s]\n"
     ]
    },
    {
     "name": "stdout",
     "output_type": "stream",
     "text": [
      "Epoch 68. Rewards awarded: 14. Average loss: 0.011712051438086443.\n"
     ]
    },
    {
     "name": "stderr",
     "output_type": "stream",
     "text": [
      "100%|██████████| 500/500 [00:15<00:00, 32.95it/s]\n"
     ]
    },
    {
     "name": "stdout",
     "output_type": "stream",
     "text": [
      "Epoch 69. Rewards awarded: 16. Average loss: 0.01563719486153999.\n"
     ]
    },
    {
     "name": "stderr",
     "output_type": "stream",
     "text": [
      "100%|██████████| 500/500 [00:15<00:00, 32.44it/s]\n"
     ]
    },
    {
     "name": "stdout",
     "output_type": "stream",
     "text": [
      "Epoch 70. Rewards awarded: 18. Average loss: 0.01670089248175524.\n"
     ]
    },
    {
     "name": "stderr",
     "output_type": "stream",
     "text": [
      "100%|██████████| 500/500 [00:15<00:00, 33.17it/s]\n"
     ]
    },
    {
     "name": "stdout",
     "output_type": "stream",
     "text": [
      "Epoch 71. Rewards awarded: 14. Average loss: 0.014138019606070884.\n"
     ]
    },
    {
     "name": "stderr",
     "output_type": "stream",
     "text": [
      "100%|██████████| 500/500 [00:14<00:00, 35.22it/s]\n"
     ]
    },
    {
     "name": "stdout",
     "output_type": "stream",
     "text": [
      "Epoch 72. Rewards awarded: 16. Average loss: 0.014037352542862817.\n"
     ]
    },
    {
     "name": "stderr",
     "output_type": "stream",
     "text": [
      "100%|██████████| 500/500 [00:14<00:00, 34.56it/s]\n"
     ]
    },
    {
     "name": "stdout",
     "output_type": "stream",
     "text": [
      "Epoch 73. Rewards awarded: 19. Average loss: 0.019723756565974023.\n"
     ]
    },
    {
     "name": "stderr",
     "output_type": "stream",
     "text": [
      "100%|██████████| 500/500 [00:14<00:00, 35.05it/s]\n"
     ]
    },
    {
     "name": "stdout",
     "output_type": "stream",
     "text": [
      "Epoch 74. Rewards awarded: 16. Average loss: 0.015530038217909653.\n"
     ]
    },
    {
     "name": "stderr",
     "output_type": "stream",
     "text": [
      "100%|██████████| 500/500 [00:16<00:00, 30.59it/s]\n"
     ]
    },
    {
     "name": "stdout",
     "output_type": "stream",
     "text": [
      "Epoch 75. Rewards awarded: 25. Average loss: 0.024574904274033846.\n"
     ]
    },
    {
     "name": "stderr",
     "output_type": "stream",
     "text": [
      "100%|██████████| 500/500 [00:17<00:00, 29.36it/s]\n"
     ]
    },
    {
     "name": "stdout",
     "output_type": "stream",
     "text": [
      "Epoch 76. Rewards awarded: 20. Average loss: 0.01602677835790079.\n"
     ]
    },
    {
     "name": "stderr",
     "output_type": "stream",
     "text": [
      "100%|██████████| 500/500 [00:26<00:00, 19.20it/s]\n"
     ]
    },
    {
     "name": "stdout",
     "output_type": "stream",
     "text": [
      "Epoch 77. Rewards awarded: 24. Average loss: 0.025197199603223155.\n"
     ]
    },
    {
     "name": "stderr",
     "output_type": "stream",
     "text": [
      "100%|██████████| 500/500 [00:26<00:00, 18.91it/s]\n"
     ]
    },
    {
     "name": "stdout",
     "output_type": "stream",
     "text": [
      "Epoch 78. Rewards awarded: 22. Average loss: 0.02000936134578357.\n"
     ]
    },
    {
     "name": "stderr",
     "output_type": "stream",
     "text": [
      "100%|██████████| 500/500 [00:17<00:00, 28.05it/s]\n"
     ]
    },
    {
     "name": "stdout",
     "output_type": "stream",
     "text": [
      "Epoch 79. Rewards awarded: 23. Average loss: 0.022140946099211457.\n"
     ]
    },
    {
     "name": "stderr",
     "output_type": "stream",
     "text": [
      "100%|██████████| 500/500 [00:14<00:00, 34.19it/s]\n"
     ]
    },
    {
     "name": "stdout",
     "output_type": "stream",
     "text": [
      "Epoch 80. Rewards awarded: 23. Average loss: 0.024204619982170092.\n"
     ]
    },
    {
     "name": "stderr",
     "output_type": "stream",
     "text": [
      "100%|██████████| 500/500 [00:16<00:00, 30.44it/s]\n"
     ]
    },
    {
     "name": "stdout",
     "output_type": "stream",
     "text": [
      "Epoch 81. Rewards awarded: 18. Average loss: 0.020562366751940616.\n"
     ]
    },
    {
     "name": "stderr",
     "output_type": "stream",
     "text": [
      "100%|██████████| 500/500 [00:14<00:00, 35.63it/s]\n"
     ]
    },
    {
     "name": "stdout",
     "output_type": "stream",
     "text": [
      "Epoch 82. Rewards awarded: 20. Average loss: 0.020107376421763398.\n"
     ]
    },
    {
     "name": "stderr",
     "output_type": "stream",
     "text": [
      "100%|██████████| 500/500 [00:13<00:00, 36.90it/s]\n"
     ]
    },
    {
     "name": "stdout",
     "output_type": "stream",
     "text": [
      "Epoch 83. Rewards awarded: 25. Average loss: 0.02630871739409789.\n"
     ]
    },
    {
     "name": "stderr",
     "output_type": "stream",
     "text": [
      "100%|██████████| 500/500 [00:14<00:00, 34.91it/s]\n"
     ]
    },
    {
     "name": "stdout",
     "output_type": "stream",
     "text": [
      "Epoch 84. Rewards awarded: 25. Average loss: 0.02178138238257816.\n"
     ]
    },
    {
     "name": "stderr",
     "output_type": "stream",
     "text": [
      "100%|██████████| 500/500 [00:14<00:00, 34.49it/s]\n"
     ]
    },
    {
     "name": "stdout",
     "output_type": "stream",
     "text": [
      "Epoch 85. Rewards awarded: 26. Average loss: 0.024290166277462045.\n"
     ]
    },
    {
     "name": "stderr",
     "output_type": "stream",
     "text": [
      "100%|██████████| 500/500 [00:14<00:00, 34.36it/s]\n"
     ]
    },
    {
     "name": "stdout",
     "output_type": "stream",
     "text": [
      "Epoch 86. Rewards awarded: 21. Average loss: 0.02061517582966068.\n"
     ]
    },
    {
     "name": "stderr",
     "output_type": "stream",
     "text": [
      "100%|██████████| 500/500 [00:14<00:00, 34.87it/s]\n"
     ]
    },
    {
     "name": "stdout",
     "output_type": "stream",
     "text": [
      "Epoch 87. Rewards awarded: 29. Average loss: 0.03040877099791063.\n"
     ]
    },
    {
     "name": "stderr",
     "output_type": "stream",
     "text": [
      "100%|██████████| 500/500 [00:15<00:00, 31.59it/s]\n"
     ]
    },
    {
     "name": "stdout",
     "output_type": "stream",
     "text": [
      "Epoch 88. Rewards awarded: 23. Average loss: 0.02510650842863061.\n"
     ]
    },
    {
     "name": "stderr",
     "output_type": "stream",
     "text": [
      "100%|██████████| 500/500 [00:14<00:00, 35.20it/s]\n"
     ]
    },
    {
     "name": "stdout",
     "output_type": "stream",
     "text": [
      "Epoch 89. Rewards awarded: 27. Average loss: 0.027859252149757287.\n"
     ]
    },
    {
     "name": "stderr",
     "output_type": "stream",
     "text": [
      "100%|██████████| 500/500 [00:14<00:00, 35.33it/s]\n"
     ]
    },
    {
     "name": "stdout",
     "output_type": "stream",
     "text": [
      "Epoch 90. Rewards awarded: 31. Average loss: 0.0350617239158825.\n"
     ]
    },
    {
     "name": "stderr",
     "output_type": "stream",
     "text": [
      "100%|██████████| 500/500 [00:13<00:00, 36.26it/s]\n"
     ]
    },
    {
     "name": "stdout",
     "output_type": "stream",
     "text": [
      "Epoch 91. Rewards awarded: 38. Average loss: 0.03892597470780296.\n"
     ]
    },
    {
     "name": "stderr",
     "output_type": "stream",
     "text": [
      "100%|██████████| 500/500 [00:13<00:00, 36.32it/s]\n"
     ]
    },
    {
     "name": "stdout",
     "output_type": "stream",
     "text": [
      "Epoch 92. Rewards awarded: 34. Average loss: 0.032048892611721995.\n"
     ]
    },
    {
     "name": "stderr",
     "output_type": "stream",
     "text": [
      "100%|██████████| 500/500 [00:14<00:00, 33.56it/s]\n"
     ]
    },
    {
     "name": "stdout",
     "output_type": "stream",
     "text": [
      "Epoch 93. Rewards awarded: 22. Average loss: 0.0207543549913571.\n"
     ]
    },
    {
     "name": "stderr",
     "output_type": "stream",
     "text": [
      "100%|██████████| 500/500 [00:13<00:00, 36.01it/s]\n"
     ]
    },
    {
     "name": "stdout",
     "output_type": "stream",
     "text": [
      "Epoch 94. Rewards awarded: 32. Average loss: 0.03354348937312306.\n"
     ]
    },
    {
     "name": "stderr",
     "output_type": "stream",
     "text": [
      "100%|██████████| 500/500 [00:14<00:00, 35.33it/s]\n"
     ]
    },
    {
     "name": "stdout",
     "output_type": "stream",
     "text": [
      "Epoch 95. Rewards awarded: 27. Average loss: 0.026390715558941034.\n"
     ]
    },
    {
     "name": "stderr",
     "output_type": "stream",
     "text": [
      "100%|██████████| 500/500 [00:14<00:00, 35.67it/s]\n"
     ]
    },
    {
     "name": "stdout",
     "output_type": "stream",
     "text": [
      "Epoch 96. Rewards awarded: 28. Average loss: 0.028793112797949105.\n"
     ]
    },
    {
     "name": "stderr",
     "output_type": "stream",
     "text": [
      "100%|██████████| 500/500 [00:13<00:00, 35.94it/s]\n"
     ]
    },
    {
     "name": "stdout",
     "output_type": "stream",
     "text": [
      "Epoch 97. Rewards awarded: 26. Average loss: 0.02718798520960324.\n"
     ]
    },
    {
     "name": "stderr",
     "output_type": "stream",
     "text": [
      "100%|██████████| 500/500 [00:13<00:00, 36.05it/s]\n"
     ]
    },
    {
     "name": "stdout",
     "output_type": "stream",
     "text": [
      "Epoch 98. Rewards awarded: 25. Average loss: 0.027472669522949827.\n"
     ]
    },
    {
     "name": "stderr",
     "output_type": "stream",
     "text": [
      "100%|██████████| 500/500 [00:13<00:00, 36.85it/s]\n"
     ]
    },
    {
     "name": "stdout",
     "output_type": "stream",
     "text": [
      "Epoch 99. Rewards awarded: 29. Average loss: 0.033799401451775034.\n"
     ]
    },
    {
     "name": "stderr",
     "output_type": "stream",
     "text": [
      "100%|██████████| 500/500 [00:14<00:00, 35.13it/s]\n"
     ]
    },
    {
     "name": "stdout",
     "output_type": "stream",
     "text": [
      "Epoch 100. Rewards awarded: 40. Average loss: 0.04336056877287652.\n"
     ]
    },
    {
     "name": "stderr",
     "output_type": "stream",
     "text": [
      "100%|██████████| 500/500 [00:15<00:00, 32.80it/s]\n"
     ]
    },
    {
     "name": "stdout",
     "output_type": "stream",
     "text": [
      "Epoch 101. Rewards awarded: 23. Average loss: 0.022717906672412934.\n"
     ]
    },
    {
     "name": "stderr",
     "output_type": "stream",
     "text": [
      "100%|██████████| 500/500 [00:14<00:00, 33.86it/s]\n"
     ]
    },
    {
     "name": "stdout",
     "output_type": "stream",
     "text": [
      "Epoch 102. Rewards awarded: 36. Average loss: 0.03939980216962083.\n"
     ]
    },
    {
     "name": "stderr",
     "output_type": "stream",
     "text": [
      "100%|██████████| 500/500 [00:14<00:00, 35.19it/s]\n"
     ]
    },
    {
     "name": "stdout",
     "output_type": "stream",
     "text": [
      "Epoch 103. Rewards awarded: 29. Average loss: 0.029430925258678294.\n"
     ]
    },
    {
     "name": "stderr",
     "output_type": "stream",
     "text": [
      "100%|██████████| 500/500 [00:13<00:00, 36.35it/s]\n"
     ]
    },
    {
     "name": "stdout",
     "output_type": "stream",
     "text": [
      "Epoch 104. Rewards awarded: 31. Average loss: 0.036789818740867446.\n"
     ]
    },
    {
     "name": "stderr",
     "output_type": "stream",
     "text": [
      "100%|██████████| 500/500 [00:13<00:00, 36.04it/s]\n"
     ]
    },
    {
     "name": "stdout",
     "output_type": "stream",
     "text": [
      "Epoch 105. Rewards awarded: 33. Average loss: 0.0354662809402677.\n"
     ]
    },
    {
     "name": "stderr",
     "output_type": "stream",
     "text": [
      "100%|██████████| 500/500 [00:13<00:00, 36.54it/s]\n"
     ]
    },
    {
     "name": "stdout",
     "output_type": "stream",
     "text": [
      "Epoch 106. Rewards awarded: 26. Average loss: 0.0274709984347384.\n"
     ]
    },
    {
     "name": "stderr",
     "output_type": "stream",
     "text": [
      "100%|██████████| 500/500 [00:13<00:00, 36.47it/s]\n"
     ]
    },
    {
     "name": "stdout",
     "output_type": "stream",
     "text": [
      "Epoch 107. Rewards awarded: 35. Average loss: 0.03668842243261224.\n"
     ]
    },
    {
     "name": "stderr",
     "output_type": "stream",
     "text": [
      "100%|██████████| 500/500 [00:13<00:00, 36.22it/s]\n"
     ]
    },
    {
     "name": "stdout",
     "output_type": "stream",
     "text": [
      "Epoch 108. Rewards awarded: 37. Average loss: 0.0389903433822589.\n"
     ]
    },
    {
     "name": "stderr",
     "output_type": "stream",
     "text": [
      "100%|██████████| 500/500 [00:13<00:00, 37.18it/s]\n"
     ]
    },
    {
     "name": "stdout",
     "output_type": "stream",
     "text": [
      "Epoch 109. Rewards awarded: 38. Average loss: 0.038966344669867786.\n"
     ]
    },
    {
     "name": "stderr",
     "output_type": "stream",
     "text": [
      "100%|██████████| 500/500 [00:13<00:00, 37.39it/s]\n"
     ]
    },
    {
     "name": "stdout",
     "output_type": "stream",
     "text": [
      "Epoch 110. Rewards awarded: 30. Average loss: 0.028263058591136238.\n"
     ]
    },
    {
     "name": "stderr",
     "output_type": "stream",
     "text": [
      "100%|██████████| 500/500 [00:13<00:00, 36.90it/s]\n"
     ]
    },
    {
     "name": "stdout",
     "output_type": "stream",
     "text": [
      "Epoch 111. Rewards awarded: 36. Average loss: 0.03464560932090716.\n"
     ]
    },
    {
     "name": "stderr",
     "output_type": "stream",
     "text": [
      "100%|██████████| 500/500 [00:13<00:00, 36.17it/s]\n"
     ]
    },
    {
     "name": "stdout",
     "output_type": "stream",
     "text": [
      "Epoch 112. Rewards awarded: 26. Average loss: 0.025451997680615936.\n"
     ]
    },
    {
     "name": "stderr",
     "output_type": "stream",
     "text": [
      "100%|██████████| 500/500 [00:13<00:00, 37.30it/s]\n"
     ]
    },
    {
     "name": "stdout",
     "output_type": "stream",
     "text": [
      "Epoch 113. Rewards awarded: 37. Average loss: 0.039723916890804796.\n"
     ]
    },
    {
     "name": "stderr",
     "output_type": "stream",
     "text": [
      "100%|██████████| 500/500 [00:13<00:00, 37.35it/s]\n"
     ]
    },
    {
     "name": "stdout",
     "output_type": "stream",
     "text": [
      "Epoch 114. Rewards awarded: 36. Average loss: 0.03605819282546356.\n"
     ]
    },
    {
     "name": "stderr",
     "output_type": "stream",
     "text": [
      "100%|██████████| 500/500 [00:13<00:00, 37.00it/s]\n"
     ]
    },
    {
     "name": "stdout",
     "output_type": "stream",
     "text": [
      "Epoch 115. Rewards awarded: 32. Average loss: 0.03085132910429593.\n"
     ]
    },
    {
     "name": "stderr",
     "output_type": "stream",
     "text": [
      "100%|██████████| 500/500 [00:13<00:00, 36.59it/s]\n"
     ]
    },
    {
     "name": "stdout",
     "output_type": "stream",
     "text": [
      "Epoch 116. Rewards awarded: 35. Average loss: 0.032203096629624874.\n"
     ]
    },
    {
     "name": "stderr",
     "output_type": "stream",
     "text": [
      "100%|██████████| 500/500 [00:13<00:00, 36.84it/s]\n"
     ]
    },
    {
     "name": "stdout",
     "output_type": "stream",
     "text": [
      "Epoch 117. Rewards awarded: 36. Average loss: 0.0338670204458443.\n"
     ]
    },
    {
     "name": "stderr",
     "output_type": "stream",
     "text": [
      "100%|██████████| 500/500 [00:14<00:00, 35.57it/s]\n"
     ]
    },
    {
     "name": "stdout",
     "output_type": "stream",
     "text": [
      "Epoch 118. Rewards awarded: 27. Average loss: 0.02076772738864444.\n"
     ]
    },
    {
     "name": "stderr",
     "output_type": "stream",
     "text": [
      "100%|██████████| 500/500 [00:13<00:00, 36.45it/s]\n"
     ]
    },
    {
     "name": "stdout",
     "output_type": "stream",
     "text": [
      "Epoch 119. Rewards awarded: 41. Average loss: 0.039052677947664045.\n"
     ]
    },
    {
     "name": "stderr",
     "output_type": "stream",
     "text": [
      "100%|██████████| 500/500 [00:13<00:00, 36.33it/s]\n"
     ]
    },
    {
     "name": "stdout",
     "output_type": "stream",
     "text": [
      "Epoch 120. Rewards awarded: 34. Average loss: 0.02730521022943943.\n"
     ]
    },
    {
     "name": "stderr",
     "output_type": "stream",
     "text": [
      "100%|██████████| 500/500 [00:13<00:00, 35.79it/s]\n"
     ]
    },
    {
     "name": "stdout",
     "output_type": "stream",
     "text": [
      "Epoch 121. Rewards awarded: 29. Average loss: 0.023194900694819505.\n"
     ]
    },
    {
     "name": "stderr",
     "output_type": "stream",
     "text": [
      "100%|██████████| 500/500 [00:13<00:00, 36.86it/s]\n"
     ]
    },
    {
     "name": "stdout",
     "output_type": "stream",
     "text": [
      "Epoch 122. Rewards awarded: 35. Average loss: 0.032291201196620635.\n"
     ]
    },
    {
     "name": "stderr",
     "output_type": "stream",
     "text": [
      "100%|██████████| 500/500 [00:14<00:00, 35.25it/s]\n"
     ]
    },
    {
     "name": "stdout",
     "output_type": "stream",
     "text": [
      "Epoch 123. Rewards awarded: 24. Average loss: 0.020455335256223558.\n"
     ]
    },
    {
     "name": "stderr",
     "output_type": "stream",
     "text": [
      "100%|██████████| 500/500 [00:14<00:00, 33.83it/s]\n"
     ]
    },
    {
     "name": "stdout",
     "output_type": "stream",
     "text": [
      "Epoch 124. Rewards awarded: 37. Average loss: 0.03516951454611035.\n"
     ]
    },
    {
     "name": "stderr",
     "output_type": "stream",
     "text": [
      "100%|██████████| 500/500 [00:14<00:00, 34.39it/s]\n"
     ]
    },
    {
     "name": "stdout",
     "output_type": "stream",
     "text": [
      "Epoch 125. Rewards awarded: 34. Average loss: 0.02924608159481462.\n"
     ]
    },
    {
     "name": "stderr",
     "output_type": "stream",
     "text": [
      "100%|██████████| 500/500 [00:14<00:00, 34.55it/s]\n"
     ]
    },
    {
     "name": "stdout",
     "output_type": "stream",
     "text": [
      "Epoch 126. Rewards awarded: 33. Average loss: 0.030428150262640737.\n"
     ]
    },
    {
     "name": "stderr",
     "output_type": "stream",
     "text": [
      "100%|██████████| 500/500 [00:14<00:00, 33.79it/s]\n"
     ]
    },
    {
     "name": "stdout",
     "output_type": "stream",
     "text": [
      "Epoch 127. Rewards awarded: 27. Average loss: 0.022816490660387295.\n"
     ]
    },
    {
     "name": "stderr",
     "output_type": "stream",
     "text": [
      "100%|██████████| 500/500 [00:14<00:00, 34.68it/s]\n"
     ]
    },
    {
     "name": "stdout",
     "output_type": "stream",
     "text": [
      "Epoch 128. Rewards awarded: 36. Average loss: 0.03273459255430013.\n"
     ]
    },
    {
     "name": "stderr",
     "output_type": "stream",
     "text": [
      "100%|██████████| 500/500 [00:14<00:00, 33.86it/s]\n"
     ]
    },
    {
     "name": "stdout",
     "output_type": "stream",
     "text": [
      "Epoch 129. Rewards awarded: 35. Average loss: 0.028108677998313694.\n"
     ]
    },
    {
     "name": "stderr",
     "output_type": "stream",
     "text": [
      "100%|██████████| 500/500 [00:14<00:00, 33.65it/s]\n"
     ]
    },
    {
     "name": "stdout",
     "output_type": "stream",
     "text": [
      "Epoch 130. Rewards awarded: 30. Average loss: 0.024732459368532852.\n"
     ]
    },
    {
     "name": "stderr",
     "output_type": "stream",
     "text": [
      "100%|██████████| 500/500 [00:14<00:00, 34.76it/s]\n"
     ]
    },
    {
     "name": "stdout",
     "output_type": "stream",
     "text": [
      "Epoch 131. Rewards awarded: 33. Average loss: 0.02629846494220222.\n"
     ]
    },
    {
     "name": "stderr",
     "output_type": "stream",
     "text": [
      "100%|██████████| 500/500 [00:14<00:00, 34.46it/s]\n"
     ]
    },
    {
     "name": "stdout",
     "output_type": "stream",
     "text": [
      "Epoch 132. Rewards awarded: 35. Average loss: 0.02604634384149479.\n"
     ]
    },
    {
     "name": "stderr",
     "output_type": "stream",
     "text": [
      "100%|██████████| 500/500 [00:14<00:00, 33.60it/s]\n"
     ]
    },
    {
     "name": "stdout",
     "output_type": "stream",
     "text": [
      "Epoch 133. Rewards awarded: 34. Average loss: 0.028392606161239807.\n"
     ]
    },
    {
     "name": "stderr",
     "output_type": "stream",
     "text": [
      "100%|██████████| 500/500 [00:14<00:00, 34.50it/s]\n"
     ]
    },
    {
     "name": "stdout",
     "output_type": "stream",
     "text": [
      "Epoch 134. Rewards awarded: 35. Average loss: 0.02810038592601124.\n"
     ]
    },
    {
     "name": "stderr",
     "output_type": "stream",
     "text": [
      "100%|██████████| 500/500 [00:14<00:00, 34.17it/s]\n"
     ]
    },
    {
     "name": "stdout",
     "output_type": "stream",
     "text": [
      "Epoch 135. Rewards awarded: 29. Average loss: 0.024364959096026727.\n"
     ]
    },
    {
     "name": "stderr",
     "output_type": "stream",
     "text": [
      "100%|██████████| 500/500 [00:14<00:00, 34.32it/s]\n"
     ]
    },
    {
     "name": "stdout",
     "output_type": "stream",
     "text": [
      "Epoch 136. Rewards awarded: 30. Average loss: 0.025782846104069296.\n"
     ]
    },
    {
     "name": "stderr",
     "output_type": "stream",
     "text": [
      "100%|██████████| 500/500 [00:14<00:00, 33.77it/s]\n"
     ]
    },
    {
     "name": "stdout",
     "output_type": "stream",
     "text": [
      "Epoch 137. Rewards awarded: 34. Average loss: 0.026865594965337247.\n"
     ]
    },
    {
     "name": "stderr",
     "output_type": "stream",
     "text": [
      "100%|██████████| 500/500 [00:15<00:00, 33.10it/s]\n"
     ]
    },
    {
     "name": "stdout",
     "output_type": "stream",
     "text": [
      "Epoch 138. Rewards awarded: 24. Average loss: 0.015272720264926954.\n"
     ]
    },
    {
     "name": "stderr",
     "output_type": "stream",
     "text": [
      "100%|██████████| 500/500 [00:14<00:00, 33.72it/s]\n"
     ]
    },
    {
     "name": "stdout",
     "output_type": "stream",
     "text": [
      "Epoch 139. Rewards awarded: 28. Average loss: 0.022033679439636526.\n"
     ]
    },
    {
     "name": "stderr",
     "output_type": "stream",
     "text": [
      "100%|██████████| 500/500 [00:14<00:00, 33.42it/s]\n"
     ]
    },
    {
     "name": "stdout",
     "output_type": "stream",
     "text": [
      "Epoch 140. Rewards awarded: 30. Average loss: 0.025218042613704104.\n"
     ]
    },
    {
     "name": "stderr",
     "output_type": "stream",
     "text": [
      "100%|██████████| 500/500 [00:14<00:00, 33.97it/s]\n"
     ]
    },
    {
     "name": "stdout",
     "output_type": "stream",
     "text": [
      "Epoch 141. Rewards awarded: 34. Average loss: 0.03125157846787623.\n"
     ]
    },
    {
     "name": "stderr",
     "output_type": "stream",
     "text": [
      "100%|██████████| 500/500 [00:14<00:00, 34.77it/s]\n"
     ]
    },
    {
     "name": "stdout",
     "output_type": "stream",
     "text": [
      "Epoch 142. Rewards awarded: 36. Average loss: 0.035822386771347435.\n"
     ]
    },
    {
     "name": "stderr",
     "output_type": "stream",
     "text": [
      "100%|██████████| 500/500 [00:14<00:00, 35.38it/s]\n"
     ]
    },
    {
     "name": "stdout",
     "output_type": "stream",
     "text": [
      "Epoch 143. Rewards awarded: 37. Average loss: 0.034541040561678525.\n"
     ]
    },
    {
     "name": "stderr",
     "output_type": "stream",
     "text": [
      "100%|██████████| 500/500 [00:14<00:00, 34.87it/s]\n"
     ]
    },
    {
     "name": "stdout",
     "output_type": "stream",
     "text": [
      "Epoch 144. Rewards awarded: 32. Average loss: 0.024701574143798404.\n"
     ]
    },
    {
     "name": "stderr",
     "output_type": "stream",
     "text": [
      "100%|██████████| 500/500 [00:14<00:00, 33.99it/s]\n"
     ]
    },
    {
     "name": "stdout",
     "output_type": "stream",
     "text": [
      "Epoch 145. Rewards awarded: 30. Average loss: 0.027904048795541415.\n"
     ]
    },
    {
     "name": "stderr",
     "output_type": "stream",
     "text": [
      "100%|██████████| 500/500 [00:14<00:00, 34.21it/s]\n"
     ]
    },
    {
     "name": "stdout",
     "output_type": "stream",
     "text": [
      "Epoch 146. Rewards awarded: 32. Average loss: 0.0271812614554201.\n"
     ]
    },
    {
     "name": "stderr",
     "output_type": "stream",
     "text": [
      "100%|██████████| 500/500 [00:14<00:00, 33.85it/s]\n"
     ]
    },
    {
     "name": "stdout",
     "output_type": "stream",
     "text": [
      "Epoch 147. Rewards awarded: 29. Average loss: 0.02626165387619039.\n"
     ]
    },
    {
     "name": "stderr",
     "output_type": "stream",
     "text": [
      "100%|██████████| 500/500 [00:14<00:00, 35.47it/s]\n"
     ]
    },
    {
     "name": "stdout",
     "output_type": "stream",
     "text": [
      "Epoch 148. Rewards awarded: 31. Average loss: 0.025018284863840258.\n"
     ]
    },
    {
     "name": "stderr",
     "output_type": "stream",
     "text": [
      "100%|██████████| 500/500 [00:14<00:00, 35.09it/s]\n"
     ]
    },
    {
     "name": "stdout",
     "output_type": "stream",
     "text": [
      "Epoch 149. Rewards awarded: 36. Average loss: 0.03187288772630199.\n"
     ]
    },
    {
     "name": "stderr",
     "output_type": "stream",
     "text": [
      "100%|██████████| 500/500 [00:14<00:00, 34.39it/s]\n"
     ]
    },
    {
     "name": "stdout",
     "output_type": "stream",
     "text": [
      "Epoch 150. Rewards awarded: 41. Average loss: 0.03471567518216641.\n"
     ]
    },
    {
     "name": "stderr",
     "output_type": "stream",
     "text": [
      "100%|██████████| 500/500 [00:14<00:00, 34.34it/s]\n"
     ]
    },
    {
     "name": "stdout",
     "output_type": "stream",
     "text": [
      "Epoch 151. Rewards awarded: 34. Average loss: 0.026225755733243813.\n"
     ]
    },
    {
     "name": "stderr",
     "output_type": "stream",
     "text": [
      "100%|██████████| 500/500 [00:14<00:00, 33.45it/s]\n"
     ]
    },
    {
     "name": "stdout",
     "output_type": "stream",
     "text": [
      "Epoch 152. Rewards awarded: 32. Average loss: 0.025778188610797958.\n"
     ]
    },
    {
     "name": "stderr",
     "output_type": "stream",
     "text": [
      "100%|██████████| 500/500 [00:14<00:00, 34.72it/s]\n"
     ]
    },
    {
     "name": "stdout",
     "output_type": "stream",
     "text": [
      "Epoch 153. Rewards awarded: 34. Average loss: 0.02723405134185975.\n"
     ]
    },
    {
     "name": "stderr",
     "output_type": "stream",
     "text": [
      "100%|██████████| 500/500 [00:14<00:00, 33.73it/s]\n"
     ]
    },
    {
     "name": "stdout",
     "output_type": "stream",
     "text": [
      "Epoch 154. Rewards awarded: 30. Average loss: 0.02616373138579486.\n"
     ]
    },
    {
     "name": "stderr",
     "output_type": "stream",
     "text": [
      "100%|██████████| 500/500 [00:17<00:00, 29.27it/s]\n"
     ]
    },
    {
     "name": "stdout",
     "output_type": "stream",
     "text": [
      "Epoch 155. Rewards awarded: 29. Average loss: 0.027889846644194825.\n"
     ]
    },
    {
     "name": "stderr",
     "output_type": "stream",
     "text": [
      "100%|██████████| 500/500 [00:14<00:00, 34.62it/s]\n"
     ]
    },
    {
     "name": "stdout",
     "output_type": "stream",
     "text": [
      "Epoch 156. Rewards awarded: 37. Average loss: 0.031864716650712416.\n"
     ]
    },
    {
     "name": "stderr",
     "output_type": "stream",
     "text": [
      "100%|██████████| 500/500 [00:15<00:00, 32.85it/s]\n"
     ]
    },
    {
     "name": "stdout",
     "output_type": "stream",
     "text": [
      "Epoch 157. Rewards awarded: 29. Average loss: 0.026737930308324092.\n"
     ]
    },
    {
     "name": "stderr",
     "output_type": "stream",
     "text": [
      "100%|██████████| 500/500 [00:14<00:00, 35.47it/s]\n"
     ]
    },
    {
     "name": "stdout",
     "output_type": "stream",
     "text": [
      "Epoch 158. Rewards awarded: 39. Average loss: 0.03519956661347805.\n"
     ]
    },
    {
     "name": "stderr",
     "output_type": "stream",
     "text": [
      "100%|██████████| 500/500 [00:14<00:00, 33.46it/s]\n"
     ]
    },
    {
     "name": "stdout",
     "output_type": "stream",
     "text": [
      "Epoch 159. Rewards awarded: 26. Average loss: 0.019628344025370704.\n"
     ]
    },
    {
     "name": "stderr",
     "output_type": "stream",
     "text": [
      "100%|██████████| 500/500 [00:15<00:00, 33.16it/s]\n"
     ]
    },
    {
     "name": "stdout",
     "output_type": "stream",
     "text": [
      "Epoch 160. Rewards awarded: 33. Average loss: 0.02886942043995683.\n"
     ]
    },
    {
     "name": "stderr",
     "output_type": "stream",
     "text": [
      "100%|██████████| 500/500 [00:14<00:00, 33.95it/s]\n"
     ]
    },
    {
     "name": "stdout",
     "output_type": "stream",
     "text": [
      "Epoch 161. Rewards awarded: 35. Average loss: 0.0300761446260113.\n"
     ]
    },
    {
     "name": "stderr",
     "output_type": "stream",
     "text": [
      "100%|██████████| 500/500 [00:14<00:00, 34.67it/s]\n"
     ]
    },
    {
     "name": "stdout",
     "output_type": "stream",
     "text": [
      "Epoch 162. Rewards awarded: 41. Average loss: 0.035192734790027096.\n"
     ]
    },
    {
     "name": "stderr",
     "output_type": "stream",
     "text": [
      "100%|██████████| 500/500 [00:14<00:00, 34.13it/s]\n"
     ]
    },
    {
     "name": "stdout",
     "output_type": "stream",
     "text": [
      "Epoch 163. Rewards awarded: 27. Average loss: 0.017000311421585437.\n"
     ]
    },
    {
     "name": "stderr",
     "output_type": "stream",
     "text": [
      "100%|██████████| 500/500 [00:14<00:00, 33.58it/s]\n"
     ]
    },
    {
     "name": "stdout",
     "output_type": "stream",
     "text": [
      "Epoch 164. Rewards awarded: 27. Average loss: 0.01652123168695592.\n"
     ]
    },
    {
     "name": "stderr",
     "output_type": "stream",
     "text": [
      "100%|██████████| 500/500 [00:15<00:00, 33.23it/s]\n"
     ]
    },
    {
     "name": "stdout",
     "output_type": "stream",
     "text": [
      "Epoch 165. Rewards awarded: 31. Average loss: 0.02229519548679551.\n"
     ]
    },
    {
     "name": "stderr",
     "output_type": "stream",
     "text": [
      "100%|██████████| 500/500 [00:14<00:00, 33.77it/s]\n"
     ]
    },
    {
     "name": "stdout",
     "output_type": "stream",
     "text": [
      "Epoch 166. Rewards awarded: 31. Average loss: 0.018659549322369462.\n"
     ]
    },
    {
     "name": "stderr",
     "output_type": "stream",
     "text": [
      "100%|██████████| 500/500 [00:15<00:00, 33.02it/s]\n"
     ]
    },
    {
     "name": "stdout",
     "output_type": "stream",
     "text": [
      "Epoch 167. Rewards awarded: 33. Average loss: 0.024171055933851077.\n"
     ]
    },
    {
     "name": "stderr",
     "output_type": "stream",
     "text": [
      "100%|██████████| 500/500 [00:14<00:00, 34.54it/s]\n"
     ]
    },
    {
     "name": "stdout",
     "output_type": "stream",
     "text": [
      "Epoch 168. Rewards awarded: 28. Average loss: 0.01912700410332824.\n"
     ]
    },
    {
     "name": "stderr",
     "output_type": "stream",
     "text": [
      "100%|██████████| 500/500 [00:14<00:00, 34.77it/s]\n"
     ]
    },
    {
     "name": "stdout",
     "output_type": "stream",
     "text": [
      "Epoch 169. Rewards awarded: 31. Average loss: 0.020694834067136073.\n"
     ]
    },
    {
     "name": "stderr",
     "output_type": "stream",
     "text": [
      "100%|██████████| 500/500 [00:14<00:00, 34.18it/s]\n"
     ]
    },
    {
     "name": "stdout",
     "output_type": "stream",
     "text": [
      "Epoch 170. Rewards awarded: 32. Average loss: 0.022482167573865806.\n"
     ]
    },
    {
     "name": "stderr",
     "output_type": "stream",
     "text": [
      "100%|██████████| 500/500 [00:14<00:00, 34.16it/s]\n"
     ]
    },
    {
     "name": "stdout",
     "output_type": "stream",
     "text": [
      "Epoch 171. Rewards awarded: 39. Average loss: 0.03066050833471126.\n"
     ]
    },
    {
     "name": "stderr",
     "output_type": "stream",
     "text": [
      "100%|██████████| 500/500 [00:14<00:00, 34.39it/s]\n"
     ]
    },
    {
     "name": "stdout",
     "output_type": "stream",
     "text": [
      "Epoch 172. Rewards awarded: 37. Average loss: 0.027130780179611978.\n"
     ]
    },
    {
     "name": "stderr",
     "output_type": "stream",
     "text": [
      "100%|██████████| 500/500 [00:14<00:00, 33.64it/s]\n"
     ]
    },
    {
     "name": "stdout",
     "output_type": "stream",
     "text": [
      "Epoch 173. Rewards awarded: 26. Average loss: 0.012410592351473801.\n"
     ]
    },
    {
     "name": "stderr",
     "output_type": "stream",
     "text": [
      "100%|██████████| 500/500 [00:15<00:00, 33.17it/s]\n"
     ]
    },
    {
     "name": "stdout",
     "output_type": "stream",
     "text": [
      "Epoch 174. Rewards awarded: 30. Average loss: 0.02392999957570312.\n"
     ]
    },
    {
     "name": "stderr",
     "output_type": "stream",
     "text": [
      "100%|██████████| 500/500 [00:14<00:00, 33.58it/s]\n"
     ]
    },
    {
     "name": "stdout",
     "output_type": "stream",
     "text": [
      "Epoch 175. Rewards awarded: 35. Average loss: 0.026300919004282452.\n"
     ]
    },
    {
     "name": "stderr",
     "output_type": "stream",
     "text": [
      "100%|██████████| 500/500 [00:14<00:00, 33.81it/s]\n"
     ]
    },
    {
     "name": "stdout",
     "output_type": "stream",
     "text": [
      "Epoch 176. Rewards awarded: 36. Average loss: 0.02587557271679422.\n"
     ]
    },
    {
     "name": "stderr",
     "output_type": "stream",
     "text": [
      "100%|██████████| 500/500 [00:15<00:00, 31.80it/s]\n"
     ]
    },
    {
     "name": "stdout",
     "output_type": "stream",
     "text": [
      "Epoch 177. Rewards awarded: 38. Average loss: 0.023789492357643507.\n"
     ]
    },
    {
     "name": "stderr",
     "output_type": "stream",
     "text": [
      "100%|██████████| 500/500 [00:15<00:00, 32.32it/s]\n"
     ]
    },
    {
     "name": "stdout",
     "output_type": "stream",
     "text": [
      "Epoch 178. Rewards awarded: 27. Average loss: 0.01493580210265827.\n"
     ]
    },
    {
     "name": "stderr",
     "output_type": "stream",
     "text": [
      "100%|██████████| 500/500 [00:15<00:00, 32.91it/s]\n"
     ]
    },
    {
     "name": "stdout",
     "output_type": "stream",
     "text": [
      "Epoch 179. Rewards awarded: 33. Average loss: 0.02362440691621184.\n"
     ]
    },
    {
     "name": "stderr",
     "output_type": "stream",
     "text": [
      "100%|██████████| 500/500 [00:15<00:00, 31.74it/s]\n"
     ]
    },
    {
     "name": "stdout",
     "output_type": "stream",
     "text": [
      "Epoch 180. Rewards awarded: 31. Average loss: 0.01903542912698231.\n"
     ]
    },
    {
     "name": "stderr",
     "output_type": "stream",
     "text": [
      "100%|██████████| 500/500 [00:16<00:00, 31.08it/s]\n"
     ]
    },
    {
     "name": "stdout",
     "output_type": "stream",
     "text": [
      "Epoch 181. Rewards awarded: 34. Average loss: 0.024611659588238282.\n"
     ]
    },
    {
     "name": "stderr",
     "output_type": "stream",
     "text": [
      "100%|██████████| 500/500 [00:15<00:00, 33.01it/s]\n"
     ]
    },
    {
     "name": "stdout",
     "output_type": "stream",
     "text": [
      "Epoch 182. Rewards awarded: 33. Average loss: 0.021689679824424577.\n"
     ]
    },
    {
     "name": "stderr",
     "output_type": "stream",
     "text": [
      "100%|██████████| 500/500 [00:15<00:00, 31.93it/s]\n"
     ]
    },
    {
     "name": "stdout",
     "output_type": "stream",
     "text": [
      "Epoch 183. Rewards awarded: 37. Average loss: 0.026119699194467105.\n"
     ]
    },
    {
     "name": "stderr",
     "output_type": "stream",
     "text": [
      "100%|██████████| 500/500 [00:15<00:00, 33.21it/s]\n"
     ]
    },
    {
     "name": "stdout",
     "output_type": "stream",
     "text": [
      "Epoch 184. Rewards awarded: 38. Average loss: 0.0252598719914428.\n"
     ]
    },
    {
     "name": "stderr",
     "output_type": "stream",
     "text": [
      "100%|██████████| 500/500 [00:14<00:00, 33.99it/s]\n"
     ]
    },
    {
     "name": "stdout",
     "output_type": "stream",
     "text": [
      "Epoch 185. Rewards awarded: 26. Average loss: 0.015145238261457205.\n"
     ]
    },
    {
     "name": "stderr",
     "output_type": "stream",
     "text": [
      "100%|██████████| 500/500 [00:14<00:00, 35.06it/s]\n"
     ]
    },
    {
     "name": "stdout",
     "output_type": "stream",
     "text": [
      "Epoch 186. Rewards awarded: 36. Average loss: 0.026558002847527552.\n"
     ]
    },
    {
     "name": "stderr",
     "output_type": "stream",
     "text": [
      "100%|██████████| 500/500 [00:14<00:00, 34.96it/s]\n"
     ]
    },
    {
     "name": "stdout",
     "output_type": "stream",
     "text": [
      "Epoch 187. Rewards awarded: 32. Average loss: 0.017180233193320113.\n"
     ]
    },
    {
     "name": "stderr",
     "output_type": "stream",
     "text": [
      "100%|██████████| 500/500 [00:14<00:00, 34.89it/s]\n"
     ]
    },
    {
     "name": "stdout",
     "output_type": "stream",
     "text": [
      "Epoch 188. Rewards awarded: 39. Average loss: 0.029070379262098867.\n"
     ]
    },
    {
     "name": "stderr",
     "output_type": "stream",
     "text": [
      "100%|██████████| 500/500 [00:14<00:00, 33.78it/s]\n"
     ]
    },
    {
     "name": "stdout",
     "output_type": "stream",
     "text": [
      "Epoch 189. Rewards awarded: 22. Average loss: 0.005699407410580534.\n"
     ]
    },
    {
     "name": "stderr",
     "output_type": "stream",
     "text": [
      "100%|██████████| 500/500 [00:15<00:00, 32.42it/s]\n"
     ]
    },
    {
     "name": "stdout",
     "output_type": "stream",
     "text": [
      "Epoch 190. Rewards awarded: 32. Average loss: 0.019545135566721605.\n"
     ]
    },
    {
     "name": "stderr",
     "output_type": "stream",
     "text": [
      "100%|██████████| 500/500 [00:14<00:00, 35.53it/s]\n"
     ]
    },
    {
     "name": "stdout",
     "output_type": "stream",
     "text": [
      "Epoch 191. Rewards awarded: 38. Average loss: 0.0245962771887063.\n"
     ]
    },
    {
     "name": "stderr",
     "output_type": "stream",
     "text": [
      "100%|██████████| 500/500 [00:14<00:00, 34.59it/s]\n"
     ]
    },
    {
     "name": "stdout",
     "output_type": "stream",
     "text": [
      "Epoch 192. Rewards awarded: 31. Average loss: 0.018151390268667456.\n"
     ]
    },
    {
     "name": "stderr",
     "output_type": "stream",
     "text": [
      "100%|██████████| 500/500 [00:14<00:00, 34.23it/s]\n"
     ]
    },
    {
     "name": "stdout",
     "output_type": "stream",
     "text": [
      "Epoch 193. Rewards awarded: 31. Average loss: 0.01855499215337355.\n"
     ]
    },
    {
     "name": "stderr",
     "output_type": "stream",
     "text": [
      "100%|██████████| 500/500 [00:14<00:00, 35.23it/s]\n"
     ]
    },
    {
     "name": "stdout",
     "output_type": "stream",
     "text": [
      "Epoch 194. Rewards awarded: 46. Average loss: 0.03155749560588174.\n"
     ]
    },
    {
     "name": "stderr",
     "output_type": "stream",
     "text": [
      "100%|██████████| 500/500 [00:14<00:00, 34.59it/s]\n"
     ]
    },
    {
     "name": "stdout",
     "output_type": "stream",
     "text": [
      "Epoch 195. Rewards awarded: 25. Average loss: 0.009539565310370864.\n"
     ]
    },
    {
     "name": "stderr",
     "output_type": "stream",
     "text": [
      "100%|██████████| 500/500 [00:14<00:00, 34.35it/s]\n"
     ]
    },
    {
     "name": "stdout",
     "output_type": "stream",
     "text": [
      "Epoch 196. Rewards awarded: 36. Average loss: 0.023641570442093626.\n"
     ]
    },
    {
     "name": "stderr",
     "output_type": "stream",
     "text": [
      "100%|██████████| 500/500 [00:15<00:00, 32.75it/s]\n"
     ]
    },
    {
     "name": "stdout",
     "output_type": "stream",
     "text": [
      "Epoch 197. Rewards awarded: 29. Average loss: 0.015099951248314028.\n"
     ]
    },
    {
     "name": "stderr",
     "output_type": "stream",
     "text": [
      "100%|██████████| 500/500 [00:14<00:00, 34.76it/s]\n"
     ]
    },
    {
     "name": "stdout",
     "output_type": "stream",
     "text": [
      "Epoch 198. Rewards awarded: 35. Average loss: 0.020352807895939812.\n"
     ]
    },
    {
     "name": "stderr",
     "output_type": "stream",
     "text": [
      "100%|██████████| 500/500 [00:14<00:00, 35.06it/s]\n"
     ]
    },
    {
     "name": "stdout",
     "output_type": "stream",
     "text": [
      "Epoch 199. Rewards awarded: 39. Average loss: 0.025162560402047802.\n"
     ]
    },
    {
     "name": "stderr",
     "output_type": "stream",
     "text": [
      "100%|██████████| 500/500 [00:15<00:00, 32.87it/s]\n"
     ]
    },
    {
     "name": "stdout",
     "output_type": "stream",
     "text": [
      "Epoch 200. Rewards awarded: 33. Average loss: 0.0155938296414212.\n"
     ]
    },
    {
     "name": "stderr",
     "output_type": "stream",
     "text": [
      "100%|██████████| 500/500 [00:16<00:00, 30.07it/s]\n"
     ]
    },
    {
     "name": "stdout",
     "output_type": "stream",
     "text": [
      "Epoch 201. Rewards awarded: 30. Average loss: 0.012137390179684494.\n"
     ]
    },
    {
     "name": "stderr",
     "output_type": "stream",
     "text": [
      "100%|██████████| 500/500 [00:16<00:00, 29.82it/s]\n"
     ]
    },
    {
     "name": "stdout",
     "output_type": "stream",
     "text": [
      "Epoch 202. Rewards awarded: 36. Average loss: 0.02242029826854347.\n"
     ]
    },
    {
     "name": "stderr",
     "output_type": "stream",
     "text": [
      "100%|██████████| 500/500 [00:14<00:00, 33.34it/s]\n"
     ]
    },
    {
     "name": "stdout",
     "output_type": "stream",
     "text": [
      "Epoch 203. Rewards awarded: 37. Average loss: 0.022695919255069988.\n"
     ]
    },
    {
     "name": "stderr",
     "output_type": "stream",
     "text": [
      "100%|██████████| 500/500 [00:15<00:00, 31.67it/s]\n"
     ]
    },
    {
     "name": "stdout",
     "output_type": "stream",
     "text": [
      "Epoch 204. Rewards awarded: 33. Average loss: 0.015556475915165112.\n"
     ]
    },
    {
     "name": "stderr",
     "output_type": "stream",
     "text": [
      "100%|██████████| 500/500 [00:14<00:00, 33.33it/s]\n"
     ]
    },
    {
     "name": "stdout",
     "output_type": "stream",
     "text": [
      "Epoch 205. Rewards awarded: 39. Average loss: 0.02337974137542066.\n"
     ]
    },
    {
     "name": "stderr",
     "output_type": "stream",
     "text": [
      "100%|██████████| 500/500 [00:14<00:00, 34.72it/s]\n"
     ]
    },
    {
     "name": "stdout",
     "output_type": "stream",
     "text": [
      "Epoch 206. Rewards awarded: 33. Average loss: 0.014481741613200328.\n"
     ]
    },
    {
     "name": "stderr",
     "output_type": "stream",
     "text": [
      "100%|██████████| 500/500 [00:14<00:00, 34.71it/s]\n"
     ]
    },
    {
     "name": "stdout",
     "output_type": "stream",
     "text": [
      "Epoch 207. Rewards awarded: 37. Average loss: 0.02154233487339236.\n"
     ]
    },
    {
     "name": "stderr",
     "output_type": "stream",
     "text": [
      "100%|██████████| 500/500 [00:14<00:00, 35.68it/s]\n"
     ]
    },
    {
     "name": "stdout",
     "output_type": "stream",
     "text": [
      "Epoch 208. Rewards awarded: 32. Average loss: 0.01596375892145867.\n"
     ]
    },
    {
     "name": "stderr",
     "output_type": "stream",
     "text": [
      "100%|██████████| 500/500 [00:14<00:00, 34.65it/s]\n"
     ]
    },
    {
     "name": "stdout",
     "output_type": "stream",
     "text": [
      "Epoch 209. Rewards awarded: 30. Average loss: 0.012753767233615996.\n"
     ]
    },
    {
     "name": "stderr",
     "output_type": "stream",
     "text": [
      "100%|██████████| 500/500 [00:14<00:00, 34.70it/s]\n"
     ]
    },
    {
     "name": "stdout",
     "output_type": "stream",
     "text": [
      "Epoch 210. Rewards awarded: 41. Average loss: 0.02360676162270829.\n"
     ]
    },
    {
     "name": "stderr",
     "output_type": "stream",
     "text": [
      "100%|██████████| 500/500 [00:14<00:00, 35.29it/s]\n"
     ]
    },
    {
     "name": "stdout",
     "output_type": "stream",
     "text": [
      "Epoch 211. Rewards awarded: 35. Average loss: 0.012190175504417006.\n"
     ]
    },
    {
     "name": "stderr",
     "output_type": "stream",
     "text": [
      "100%|██████████| 500/500 [00:13<00:00, 36.01it/s]\n"
     ]
    },
    {
     "name": "stdout",
     "output_type": "stream",
     "text": [
      "Epoch 212. Rewards awarded: 41. Average loss: 0.0220498256443243.\n"
     ]
    },
    {
     "name": "stderr",
     "output_type": "stream",
     "text": [
      "100%|██████████| 500/500 [00:14<00:00, 34.84it/s]\n"
     ]
    },
    {
     "name": "stdout",
     "output_type": "stream",
     "text": [
      "Epoch 213. Rewards awarded: 32. Average loss: 0.012146742616290191.\n"
     ]
    },
    {
     "name": "stderr",
     "output_type": "stream",
     "text": [
      "100%|██████████| 500/500 [00:14<00:00, 34.87it/s]\n"
     ]
    },
    {
     "name": "stdout",
     "output_type": "stream",
     "text": [
      "Epoch 214. Rewards awarded: 31. Average loss: 0.011405905433811007.\n"
     ]
    },
    {
     "name": "stderr",
     "output_type": "stream",
     "text": [
      "100%|██████████| 500/500 [00:14<00:00, 34.31it/s]\n"
     ]
    },
    {
     "name": "stdout",
     "output_type": "stream",
     "text": [
      "Epoch 215. Rewards awarded: 29. Average loss: 0.011968458417792894.\n"
     ]
    },
    {
     "name": "stderr",
     "output_type": "stream",
     "text": [
      "100%|██████████| 500/500 [00:14<00:00, 34.36it/s]\n"
     ]
    },
    {
     "name": "stdout",
     "output_type": "stream",
     "text": [
      "Epoch 216. Rewards awarded: 31. Average loss: 0.011016668636401543.\n"
     ]
    },
    {
     "name": "stderr",
     "output_type": "stream",
     "text": [
      "100%|██████████| 500/500 [00:14<00:00, 35.31it/s]\n"
     ]
    },
    {
     "name": "stdout",
     "output_type": "stream",
     "text": [
      "Epoch 217. Rewards awarded: 34. Average loss: 0.014231583249343508.\n"
     ]
    },
    {
     "name": "stderr",
     "output_type": "stream",
     "text": [
      "100%|██████████| 500/500 [00:14<00:00, 33.87it/s]\n"
     ]
    },
    {
     "name": "stdout",
     "output_type": "stream",
     "text": [
      "Epoch 218. Rewards awarded: 31. Average loss: 0.01449557554890513.\n"
     ]
    },
    {
     "name": "stderr",
     "output_type": "stream",
     "text": [
      "100%|██████████| 500/500 [00:13<00:00, 36.08it/s]\n"
     ]
    },
    {
     "name": "stdout",
     "output_type": "stream",
     "text": [
      "Epoch 219. Rewards awarded: 38. Average loss: 0.01993715660708404.\n"
     ]
    },
    {
     "name": "stderr",
     "output_type": "stream",
     "text": [
      "100%|██████████| 500/500 [00:14<00:00, 34.40it/s]\n"
     ]
    },
    {
     "name": "stdout",
     "output_type": "stream",
     "text": [
      "Epoch 220. Rewards awarded: 34. Average loss: 0.01295522963463797.\n"
     ]
    },
    {
     "name": "stderr",
     "output_type": "stream",
     "text": [
      "100%|██████████| 500/500 [00:14<00:00, 35.58it/s]\n"
     ]
    },
    {
     "name": "stdout",
     "output_type": "stream",
     "text": [
      "Epoch 221. Rewards awarded: 37. Average loss: 0.01575550077426063.\n"
     ]
    },
    {
     "name": "stderr",
     "output_type": "stream",
     "text": [
      "100%|██████████| 500/500 [00:14<00:00, 34.34it/s]\n"
     ]
    },
    {
     "name": "stdout",
     "output_type": "stream",
     "text": [
      "Epoch 222. Rewards awarded: 32. Average loss: 0.009513260121426967.\n"
     ]
    },
    {
     "name": "stderr",
     "output_type": "stream",
     "text": [
      "100%|██████████| 500/500 [00:14<00:00, 34.80it/s]\n"
     ]
    },
    {
     "name": "stdout",
     "output_type": "stream",
     "text": [
      "Epoch 223. Rewards awarded: 36. Average loss: 0.013447690958738046.\n"
     ]
    },
    {
     "name": "stderr",
     "output_type": "stream",
     "text": [
      "100%|██████████| 500/500 [00:14<00:00, 34.51it/s]\n"
     ]
    },
    {
     "name": "stdout",
     "output_type": "stream",
     "text": [
      "Epoch 224. Rewards awarded: 30. Average loss: 0.00733449724518869.\n"
     ]
    },
    {
     "name": "stderr",
     "output_type": "stream",
     "text": [
      "100%|██████████| 500/500 [00:14<00:00, 34.26it/s]\n"
     ]
    },
    {
     "name": "stdout",
     "output_type": "stream",
     "text": [
      "Epoch 225. Rewards awarded: 29. Average loss: 0.0030339478800160565.\n"
     ]
    },
    {
     "name": "stderr",
     "output_type": "stream",
     "text": [
      "100%|██████████| 500/500 [00:14<00:00, 34.08it/s]\n"
     ]
    },
    {
     "name": "stdout",
     "output_type": "stream",
     "text": [
      "Epoch 226. Rewards awarded: 31. Average loss: 0.007875052093301445.\n"
     ]
    },
    {
     "name": "stderr",
     "output_type": "stream",
     "text": [
      "100%|██████████| 500/500 [00:14<00:00, 35.07it/s]\n"
     ]
    },
    {
     "name": "stdout",
     "output_type": "stream",
     "text": [
      "Epoch 227. Rewards awarded: 30. Average loss: 0.006842808596129281.\n"
     ]
    },
    {
     "name": "stderr",
     "output_type": "stream",
     "text": [
      "100%|██████████| 500/500 [00:13<00:00, 36.43it/s]\n"
     ]
    },
    {
     "name": "stdout",
     "output_type": "stream",
     "text": [
      "Epoch 228. Rewards awarded: 45. Average loss: 0.014417212560615249.\n"
     ]
    },
    {
     "name": "stderr",
     "output_type": "stream",
     "text": [
      "100%|██████████| 500/500 [00:14<00:00, 34.91it/s]\n"
     ]
    },
    {
     "name": "stdout",
     "output_type": "stream",
     "text": [
      "Epoch 229. Rewards awarded: 29. Average loss: 0.002195360008755717.\n"
     ]
    },
    {
     "name": "stderr",
     "output_type": "stream",
     "text": [
      "100%|██████████| 500/500 [00:14<00:00, 34.88it/s]\n"
     ]
    },
    {
     "name": "stdout",
     "output_type": "stream",
     "text": [
      "Epoch 230. Rewards awarded: 27. Average loss: 0.004708418793579767.\n"
     ]
    },
    {
     "name": "stderr",
     "output_type": "stream",
     "text": [
      "100%|██████████| 500/500 [00:15<00:00, 32.18it/s]\n"
     ]
    },
    {
     "name": "stdout",
     "output_type": "stream",
     "text": [
      "Epoch 231. Rewards awarded: 35. Average loss: 0.009280574287051724.\n"
     ]
    },
    {
     "name": "stderr",
     "output_type": "stream",
     "text": [
      "100%|██████████| 500/500 [00:19<00:00, 25.36it/s]\n"
     ]
    },
    {
     "name": "stdout",
     "output_type": "stream",
     "text": [
      "Epoch 232. Rewards awarded: 34. Average loss: 0.008994983045219064.\n"
     ]
    },
    {
     "name": "stderr",
     "output_type": "stream",
     "text": [
      "100%|██████████| 500/500 [00:18<00:00, 27.00it/s]\n"
     ]
    },
    {
     "name": "stdout",
     "output_type": "stream",
     "text": [
      "Epoch 233. Rewards awarded: 40. Average loss: 0.012905196132347255.\n"
     ]
    },
    {
     "name": "stderr",
     "output_type": "stream",
     "text": [
      "100%|██████████| 500/500 [00:19<00:00, 26.11it/s]\n"
     ]
    },
    {
     "name": "stdout",
     "output_type": "stream",
     "text": [
      "Epoch 234. Rewards awarded: 38. Average loss: 0.004921915233062464.\n"
     ]
    },
    {
     "name": "stderr",
     "output_type": "stream",
     "text": [
      "100%|██████████| 500/500 [00:19<00:00, 25.43it/s]\n"
     ]
    },
    {
     "name": "stdout",
     "output_type": "stream",
     "text": [
      "Epoch 235. Rewards awarded: 29. Average loss: 0.00014137612918481546.\n"
     ]
    },
    {
     "name": "stderr",
     "output_type": "stream",
     "text": [
      "100%|██████████| 500/500 [00:14<00:00, 33.72it/s]\n"
     ]
    },
    {
     "name": "stdout",
     "output_type": "stream",
     "text": [
      "Epoch 236. Rewards awarded: 28. Average loss: 0.0009869675095324055.\n"
     ]
    },
    {
     "name": "stderr",
     "output_type": "stream",
     "text": [
      "100%|██████████| 500/500 [00:14<00:00, 35.55it/s]\n"
     ]
    },
    {
     "name": "stdout",
     "output_type": "stream",
     "text": [
      "Epoch 237. Rewards awarded: 22. Average loss: -0.005939084865453575.\n"
     ]
    },
    {
     "name": "stderr",
     "output_type": "stream",
     "text": [
      "100%|██████████| 500/500 [00:13<00:00, 35.84it/s]\n"
     ]
    },
    {
     "name": "stdout",
     "output_type": "stream",
     "text": [
      "Epoch 238. Rewards awarded: 30. Average loss: 0.000710768523441704.\n"
     ]
    },
    {
     "name": "stderr",
     "output_type": "stream",
     "text": [
      "100%|██████████| 500/500 [00:14<00:00, 35.57it/s]\n"
     ]
    },
    {
     "name": "stdout",
     "output_type": "stream",
     "text": [
      "Epoch 239. Rewards awarded: 35. Average loss: 0.004308626386506755.\n"
     ]
    },
    {
     "name": "stderr",
     "output_type": "stream",
     "text": [
      "100%|██████████| 500/500 [00:13<00:00, 37.11it/s]\n"
     ]
    },
    {
     "name": "stdout",
     "output_type": "stream",
     "text": [
      "Epoch 240. Rewards awarded: 36. Average loss: 0.0028024679396415494.\n"
     ]
    },
    {
     "name": "stderr",
     "output_type": "stream",
     "text": [
      "100%|██████████| 500/500 [00:13<00:00, 36.67it/s]\n"
     ]
    },
    {
     "name": "stdout",
     "output_type": "stream",
     "text": [
      "Epoch 241. Rewards awarded: 28. Average loss: -0.002347497963772184.\n"
     ]
    },
    {
     "name": "stderr",
     "output_type": "stream",
     "text": [
      "100%|██████████| 500/500 [00:13<00:00, 36.50it/s]\n"
     ]
    },
    {
     "name": "stdout",
     "output_type": "stream",
     "text": [
      "Epoch 242. Rewards awarded: 34. Average loss: -0.0012757613837244813.\n"
     ]
    },
    {
     "name": "stderr",
     "output_type": "stream",
     "text": [
      "100%|██████████| 500/500 [00:14<00:00, 35.05it/s]\n"
     ]
    },
    {
     "name": "stdout",
     "output_type": "stream",
     "text": [
      "Epoch 243. Rewards awarded: 33. Average loss: 0.0005757563281246496.\n"
     ]
    },
    {
     "name": "stderr",
     "output_type": "stream",
     "text": [
      "100%|██████████| 500/500 [00:13<00:00, 36.89it/s]\n"
     ]
    },
    {
     "name": "stdout",
     "output_type": "stream",
     "text": [
      "Epoch 244. Rewards awarded: 37. Average loss: 0.004142498066628226.\n"
     ]
    },
    {
     "name": "stderr",
     "output_type": "stream",
     "text": [
      "100%|██████████| 500/500 [00:13<00:00, 36.75it/s]\n"
     ]
    },
    {
     "name": "stdout",
     "output_type": "stream",
     "text": [
      "Epoch 245. Rewards awarded: 36. Average loss: 0.002042210161391267.\n"
     ]
    },
    {
     "name": "stderr",
     "output_type": "stream",
     "text": [
      "100%|██████████| 500/500 [00:13<00:00, 36.11it/s]\n"
     ]
    },
    {
     "name": "stdout",
     "output_type": "stream",
     "text": [
      "Epoch 246. Rewards awarded: 32. Average loss: 4.990174707319995e-06.\n"
     ]
    },
    {
     "name": "stderr",
     "output_type": "stream",
     "text": [
      "100%|██████████| 500/500 [00:13<00:00, 36.09it/s]\n"
     ]
    },
    {
     "name": "stdout",
     "output_type": "stream",
     "text": [
      "Epoch 247. Rewards awarded: 39. Average loss: 0.0016771545742528065.\n"
     ]
    },
    {
     "name": "stderr",
     "output_type": "stream",
     "text": [
      "100%|██████████| 500/500 [00:27<00:00, 18.37it/s]\n"
     ]
    },
    {
     "name": "stdout",
     "output_type": "stream",
     "text": [
      "Epoch 248. Rewards awarded: 39. Average loss: -0.0011876483306817436.\n"
     ]
    },
    {
     "name": "stderr",
     "output_type": "stream",
     "text": [
      "100%|██████████| 500/500 [00:43<00:00, 11.55it/s]\n"
     ]
    },
    {
     "name": "stdout",
     "output_type": "stream",
     "text": [
      "Epoch 249. Rewards awarded: 27. Average loss: -0.006591729646139962.\n"
     ]
    },
    {
     "name": "stderr",
     "output_type": "stream",
     "text": [
      "100%|██████████| 500/500 [00:13<00:00, 36.58it/s]"
     ]
    },
    {
     "name": "stdout",
     "output_type": "stream",
     "text": [
      "Epoch 250. Rewards awarded: 38. Average loss: 0.000323071547429814.\n"
     ]
    },
    {
     "name": "stderr",
     "output_type": "stream",
     "text": [
      "\n"
     ]
    }
   ],
   "source": [
    "# Model hyperparameters\n",
    "K = 5\n",
    "actor_neuron_lst = [1000,500, 100]\n",
    "critic_neuron_lst = [1000,500, 100]\n",
    "\n",
    "# Training parameters\n",
    "N_epochs = 250\n",
    "gamma =  0.9\n",
    "epsilon = 0.05\n",
    "M = 500 # (max) number of DD pairs in epoch\n",
    "optimiser = lambda params : torch.optim.SGD(params, lr=0.003)\n",
    "\n",
    "trained_actor, trained_critic, loss_hist, actor_loss_hist, critic_loss_hist = train(kg_env,\n",
    "    K, \n",
    "    actor_neuron_lst,\n",
    "    critic_neuron_lst,\n",
    "    N_epochs,\n",
    "    gamma,\n",
    "    epsilon,\n",
    "    M, \n",
    "    optimiser\n",
    ")"
   ]
  },
  {
   "cell_type": "code",
   "execution_count": 44,
   "metadata": {},
   "outputs": [],
   "source": [
    "torch.save(trained_actor, 'output/actor.pt')\n",
    "torch.save(trained_critic, 'output/critic.pt')"
   ]
  },
  {
   "cell_type": "code",
   "execution_count": 45,
   "metadata": {},
   "outputs": [
    {
     "data": {
      "text/plain": [
       "Text(0.5, 0, 'Epoch')"
      ]
     },
     "execution_count": 45,
     "metadata": {},
     "output_type": "execute_result"
    },
    {
     "data": {
      "image/png": "[encoded data removed]",
      "text/plain": [
       "<Figure size 1800x500 with 3 Axes>"
      ]
     },
     "metadata": {},
     "output_type": "display_data"
    }
   ],
   "source": [
    "# Plot training curve\n",
    "fig, ax = plt.subplots( 1, 3, figsize = (18, 5))\n",
    "ax[0].plot(loss_hist)\n",
    "ax[0].set_title(\"total loss\")\n",
    "ax[0].set_xlabel(\"Epoch\")\n",
    "ax[1].plot(actor_loss_hist)\n",
    "ax[1].set_title(\"actor loss\")\n",
    "ax[1].set_xlabel(\"Epoch\")\n",
    "ax[2].plot(critic_loss_hist)\n",
    "ax[2].set_title(\"critic loss\")\n",
    "ax[2].set_xlabel(\"Epoch\")"
   ]
  },
  {
   "cell_type": "code",
   "execution_count": 46,
   "metadata": {},
   "outputs": [
    {
     "name": "stderr",
     "output_type": "stream",
     "text": [
      "100%|██████████| 100/100 [00:17<00:00,  5.77it/s]\n"
     ]
    }
   ],
   "source": [
    "# Computing hits list for trained actor \n",
    "f_trained = lambda drug, disease: sample_path(agent, trained_actor, drug, disease)\n",
    "trained_hits_list = give_hits_list(n_samples, n_datapoints, f_trained, dataset)"
   ]
  },
  {
   "cell_type": "code",
   "execution_count": 47,
   "metadata": {},
   "outputs": [
    {
     "name": "stdout",
     "output_type": "stream",
     "text": [
      "Trained network:\n",
      "Hit@10: 0.48\n",
      "Hit@100: 0.71\n",
      "Hit@500: 0.86\n",
      "Hit@1000: 0.94\n"
     ]
    }
   ],
   "source": [
    "# Compute Hit@k for trained actor \n",
    "hitk_trained =  give_hitk(trained_hits_list, k_lst)\n",
    "print(\"Trained network:\")\n",
    "for hitk_val, k in zip(hitk_trained, k_lst): \n",
    "    print(f\"Hit@{k}: {hitk_val}\")"
   ]
  },
  {
   "cell_type": "code",
   "execution_count": null,
   "metadata": {},
   "outputs": [],
   "source": []
  }
 ],
 "metadata": {
  "kernelspec": {
   "display_name": "env_full",
   "language": "python",
   "name": "python3"
  },
  "language_info": {
   "codemirror_mode": {
    "name": "ipython",
    "version": 3
   },
   "file_extension": ".py",
   "mimetype": "text/x-python",
   "name": "python",
   "nbconvert_exporter": "python",
   "pygments_lexer": "ipython3",
   "version": "3.11.9"
  }
 },
 "nbformat": 4,
 "nbformat_minor": 2
}
