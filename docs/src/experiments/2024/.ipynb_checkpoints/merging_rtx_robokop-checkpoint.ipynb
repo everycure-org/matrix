{
 "cells": [
  {
   "cell_type": "markdown",
   "metadata": {},
   "source": [
    "# Merging RTX and Robokop\n",
    "\n",
    "This notebook summarizes our results when merging RTX and Robokop. using Translators Node Normalization.\n",
    "For this we downloaded RTX KG2 v2.7.3 and Robo `c5ec1f282158182f`\n",
    "\n",
    "\n",
    "## Summary\n",
    "\n",
    "TODO\n",
    "\n",
    "## Questions\n",
    "\n",
    "- How many nodes are merged? %\n",
    "- How many edges are merged? %\n",
    "- What are example edges that are not merged, why not?"
   ]
  },
  {
   "cell_type": "code",
   "execution_count": 9,
   "metadata": {},
   "outputs": [],
   "source": [
    "%%capture\n",
    "# Import dependencies\n",
    "import pyspark as ps\n",
    "import os\n",
    "from pathlib import Path\n",
    "import subprocess\n",
    "import pyspark.sql.functions as f\n",
    "\n",
    "import pandas as pd\n",
    "\n",
    "# import spark \n",
    "%load_ext autoreload\n",
    "%autoreload 2\n",
    "from rich.console import Console\n",
    "from rich.logging import RichHandler\n",
    "from rich.panel import Panel\n",
    "console = Console()\n",
    "\n",
    "# hack that moves this notebook context into the kedro path\n",
    "root_path = subprocess.check_output(['git', 'rev-parse', '--show-toplevel']).decode().strip()\n",
    "os.chdir(Path(root_path) / 'pipelines' / 'matrix')\n",
    "\n",
    "# this loads various objects into the context, see \n",
    "# https://docs.kedro.org/en/stable/notebooks_and_ipython/kedro_and_notebooks.html#kedro-line-magics\n",
    "%load_ext kedro.ipython\n",
    "# %reload_kedro  --env cloud\n",
    "# %reload_kedro  --env test\n",
    "%reload_kedro\n"
   ]
  },
  {
   "cell_type": "code",
   "execution_count": 2,
   "metadata": {},
   "outputs": [],
   "source": [
    "def top_n(df, n: int = 20):\n",
    "    return df._jdf.showString(n,200, False)"
   ]
  },
  {
   "cell_type": "code",
   "execution_count": 4,
   "metadata": {},
   "outputs": [],
   "source": [
    "%%capture\n",
    "unified_nodes = catalog.load(\"integration.prm.unified_nodes\")\n",
    "unified_edges = catalog.load(\"integration.prm.unified_edges\")\n",
    "robo_nodes = catalog.load(\"integration.int.robokop.nodes\")\n",
    "robo_edges = catalog.load(\"integration.int.robokop.edges\")\n",
    "rtx_nodes = catalog.load(\"integration.int.rtx.nodes\")\n",
    "rtx_edges = catalog.load(\"integration.int.rtx.edges\")"
   ]
  },
  {
   "cell_type": "code",
   "execution_count": 5,
   "metadata": {},
   "outputs": [
    {
     "data": {
      "text/html": [
       "<pre style=\"white-space:pre;overflow-x:auto;line-height:normal;font-family:Menlo,'DejaVu Sans Mono',consolas,'Courier New',monospace\"><span style=\"color: #00ff00; text-decoration-color: #00ff00\">─────────────────────────────────────────────────── </span><span style=\"color: #000080; text-decoration-color: #000080; font-weight: bold\">Unified KG</span><span style=\"color: #00ff00; text-decoration-color: #00ff00\"> ────────────────────────────────────────────────────</span>\n",
       "</pre>\n"
      ],
      "text/plain": [
       "\u001b[92m─────────────────────────────────────────────────── \u001b[0m\u001b[1;34mUnified KG\u001b[0m\u001b[92m ────────────────────────────────────────────────────\u001b[0m\n"
      ]
     },
     "metadata": {},
     "output_type": "display_data"
    },
    {
     "data": {
      "text/html": [
       "<pre style=\"white-space:pre;overflow-x:auto;line-height:normal;font-family:Menlo,'DejaVu Sans Mono',consolas,'Courier New',monospace\">╭────── Node Counts ──────╮\n",
       "│                         │\n",
       "│ Unified Nodes: 12772268 │\n",
       "│ Robo Nodes: 9748240     │\n",
       "│ RTX Nodes: 3659686      │\n",
       "│                         │\n",
       "╰─────────────────────────╯\n",
       "</pre>\n"
      ],
      "text/plain": [
       "╭────── Node Counts ──────╮\n",
       "│                         │\n",
       "│ Unified Nodes: 12772268 │\n",
       "│ Robo Nodes: 9748240     │\n",
       "│ RTX Nodes: 3659686      │\n",
       "│                         │\n",
       "╰─────────────────────────╯\n"
      ]
     },
     "metadata": {},
     "output_type": "display_data"
    },
    {
     "data": {
      "text/html": [
       "<pre style=\"white-space:pre;overflow-x:auto;line-height:normal;font-family:Menlo,'DejaVu Sans Mono',consolas,'Courier New',monospace\">╭────── Edge Counts ───────╮\n",
       "│                          │\n",
       "│ Unified Edges: 150717205 │\n",
       "│ Robo Edges: 137706046    │\n",
       "│ RTX Edges: 18402956      │\n",
       "│                          │\n",
       "╰──────────────────────────╯\n",
       "</pre>\n"
      ],
      "text/plain": [
       "╭────── Edge Counts ───────╮\n",
       "│                          │\n",
       "│ Unified Edges: 150717205 │\n",
       "│ Robo Edges: 137706046    │\n",
       "│ RTX Edges: 18402956      │\n",
       "│                          │\n",
       "╰──────────────────────────╯\n"
      ]
     },
     "metadata": {},
     "output_type": "display_data"
    },
    {
     "name": "stderr",
     "output_type": "stream",
     "text": [
      "                                                                                \r"
     ]
    },
    {
     "data": {
      "text/html": [
       "<pre style=\"white-space:pre;overflow-x:auto;line-height:normal;font-family:Menlo,'DejaVu Sans Mono',consolas,'Courier New',monospace\">╭────── Node Origin Proportions ──────╮\n",
       "│                                     │\n",
       "│ Nodes originating from RTX: 28.55%  │\n",
       "│ Nodes originating from Robo: 76.32% │\n",
       "│ Nodes originating from Both: 4.88%  │\n",
       "│                                     │\n",
       "╰─────────────────────────────────────╯\n",
       "</pre>\n"
      ],
      "text/plain": [
       "╭────── Node Origin Proportions ──────╮\n",
       "│                                     │\n",
       "│ Nodes originating from RTX: 28.55%  │\n",
       "│ Nodes originating from Robo: 76.32% │\n",
       "│ Nodes originating from Both: 4.88%  │\n",
       "│                                     │\n",
       "╰─────────────────────────────────────╯\n"
      ]
     },
     "metadata": {},
     "output_type": "display_data"
    },
    {
     "name": "stderr",
     "output_type": "stream",
     "text": [
      "                                                                                \r"
     ]
    },
    {
     "data": {
      "text/html": [
       "<pre style=\"white-space:pre;overflow-x:auto;line-height:normal;font-family:Menlo,'DejaVu Sans Mono',consolas,'Courier New',monospace\">╭────── Edge Origin Proportions ──────╮\n",
       "│                                     │\n",
       "│ Edges originating from RTX: 12.18%  │\n",
       "│ Edges originating from Robo: 88.37% │\n",
       "│ Edges originating from Both: 0.55%  │\n",
       "│                                     │\n",
       "╰─────────────────────────────────────╯\n",
       "</pre>\n"
      ],
      "text/plain": [
       "╭────── Edge Origin Proportions ──────╮\n",
       "│                                     │\n",
       "│ Edges originating from RTX: 12.18%  │\n",
       "│ Edges originating from Robo: 88.37% │\n",
       "│ Edges originating from Both: 0.55%  │\n",
       "│                                     │\n",
       "╰─────────────────────────────────────╯\n"
      ]
     },
     "metadata": {},
     "output_type": "display_data"
    }
   ],
   "source": [
    "console.rule(\"[bold blue]Unified KG\")\n",
    "console.print(Panel.fit(f\"\"\"\n",
    "Unified Nodes: {unified_nodes.count()}\n",
    "Robo Nodes: {robo_nodes.count()}\n",
    "RTX Nodes: {rtx_nodes.count()}\n",
    "\"\"\", title=\"Node Counts\"))\n",
    "# now edges\n",
    "console.print(Panel.fit(f\"\"\"\n",
    "Unified Edges: {unified_edges.count()}\n",
    "Robo Edges: {robo_edges.count()}\n",
    "RTX Edges: {rtx_edges.count()}\n",
    "\"\"\", title=\"Edge Counts\"))\n",
    "# first calculate the number of nodes and edges in each kg\n",
    "unified_node_count = unified_nodes.count()\n",
    "unified_edge_count = unified_edges.count()\n",
    "robo_node_count = robo_nodes.count()\n",
    "robo_edge_count = robo_edges.count()\n",
    "rtx_node_count = rtx_nodes.count()\n",
    "rtx_edge_count = rtx_edges.count()\n",
    "\n",
    "nodes_in_both = unified_nodes.filter(f.array_contains(f.col(\"upstream_data_source\"), \"rtxkg2\") & f.array_contains(f.col(\"upstream_data_source\"), \"robokop\"))\n",
    "nodes_in_rtx = unified_nodes.filter(f.array_contains(f.col(\"upstream_data_source\"), \"rtxkg2\"))\n",
    "nodes_in_robo = unified_nodes.filter(f.array_contains(f.col(\"upstream_data_source\"), \"robokop\"))\n",
    "\n",
    "console.print(Panel.fit(\n",
    "f\"\"\"\n",
    "Nodes originating from RTX: {nodes_in_rtx.count()/unified_node_count*100:.2f}%\n",
    "Nodes originating from Robo: {nodes_in_robo.count()/unified_node_count*100:.2f}%\n",
    "Nodes originating from Both: {nodes_in_both.count()/unified_node_count*100:.2f}%\n",
    "\"\"\", title=\"Node Origin Proportions\"))\n",
    "\n",
    "edges_in_both = unified_edges.filter(f.array_contains(f.col(\"upstream_data_source\"), \"rtxkg2\") & f.array_contains(f.col(\"upstream_data_source\"), \"robokop\"))\n",
    "edges_in_rtx = unified_edges.filter(f.array_contains(f.col(\"upstream_data_source\"), \"rtxkg2\"))\n",
    "edges_in_robo = unified_edges.filter(f.array_contains(f.col(\"upstream_data_source\"), \"robokop\"))\n",
    "\n",
    "console.print(Panel.fit(\n",
    "f\"\"\"\n",
    "Edges originating from RTX: {edges_in_rtx.count()/unified_edge_count*100:.2f}%\n",
    "Edges originating from Robo: {edges_in_robo.count()/unified_edge_count*100:.2f}%\n",
    "Edges originating from Both: {edges_in_both.count()/unified_edge_count*100:.2f}%\n",
    "\"\"\", title=\"Edge Origin Proportions\"))\n"
   ]
  },
  {
   "cell_type": "markdown",
   "metadata": {},
   "source": [
    "Wow that's not a lot of edges that are present in both. I wonder why there are so many more edges in Robokop as well. There's like 150M edges there and only 18M in RTX. \n",
    "Let's look at the predicate counts:\n"
   ]
  },
  {
   "cell_type": "code",
   "execution_count": 6,
   "metadata": {},
   "outputs": [
    {
     "name": "stderr",
     "output_type": "stream",
     "text": [
      "                                                                                \r"
     ]
    },
    {
     "data": {
      "text/html": [
       "<pre style=\"white-space:pre;overflow-x:auto;line-height:normal;font-family:Menlo,'DejaVu Sans Mono',consolas,'Courier New',monospace\">╭─────────── predicate Counts in Both ────────────╮\n",
       "│ +--------------------------------------+------+ │\n",
       "│ |                             predicate| count| │\n",
       "│ +--------------------------------------+------+ │\n",
       "│ |                   biolink:subclass_of|490258| │\n",
       "│ |               biolink:has_participant|243446| │\n",
       "│ |                      biolink:has_part| 15244| │\n",
       "│ |                    biolink:located_in| 13586| │\n",
       "│ |                      biolink:in_taxon| 10876| │\n",
       "│ |     biolink:physically_interacts_with| 10072| │\n",
       "│ |                       biolink:affects|  9250| │\n",
       "│ |                     biolink:has_input|  8539| │\n",
       "│ |                    biolink:related_to|  8500| │\n",
       "│ |                    biolink:has_output|  4834| │\n",
       "│ |                        biolink:treats|  4782| │\n",
       "│ |biolink:gene_associated_with_condition|  3733| │\n",
       "│ |                 biolink:develops_from|  1548| │\n",
       "│ |                 biolink:has_phenotype|  1534| │\n",
       "│ |                 biolink:coexists_with|   827| │\n",
       "│ |                        biolink:causes|   823| │\n",
       "│ |                      biolink:overlaps|   681| │\n",
       "│ |                  biolink:expressed_in|   573| │\n",
       "│ |              biolink:colocalizes_with|    98| │\n",
       "│ |                biolink:contributes_to|    94| │\n",
       "│ |                      biolink:produces|    59| │\n",
       "│ |                    biolink:capable_of|    41| │\n",
       "│ |                  biolink:derives_from|    40| │\n",
       "│ |                      biolink:disrupts|    21| │\n",
       "│ |                     biolink:occurs_in|    13| │\n",
       "│ |                      biolink:precedes|     8| │\n",
       "│ |                biolink:has_metabolite|     3| │\n",
       "│ |         biolink:temporally_related_to|     3| │\n",
       "│ |                     biolink:catalyzes|     1| │\n",
       "│ |              biolink:manifestation_of|     1| │\n",
       "│ +--------------------------------------+------+ │\n",
       "│                                                 │\n",
       "╰─────────────────────────────────────────────────╯\n",
       "</pre>\n"
      ],
      "text/plain": [
       "╭─────────── predicate Counts in Both ────────────╮\n",
       "│ +--------------------------------------+------+ │\n",
       "│ |                             predicate| count| │\n",
       "│ +--------------------------------------+------+ │\n",
       "│ |                   biolink:subclass_of|490258| │\n",
       "│ |               biolink:has_participant|243446| │\n",
       "│ |                      biolink:has_part| 15244| │\n",
       "│ |                    biolink:located_in| 13586| │\n",
       "│ |                      biolink:in_taxon| 10876| │\n",
       "│ |     biolink:physically_interacts_with| 10072| │\n",
       "│ |                       biolink:affects|  9250| │\n",
       "│ |                     biolink:has_input|  8539| │\n",
       "│ |                    biolink:related_to|  8500| │\n",
       "│ |                    biolink:has_output|  4834| │\n",
       "│ |                        biolink:treats|  4782| │\n",
       "│ |biolink:gene_associated_with_condition|  3733| │\n",
       "│ |                 biolink:develops_from|  1548| │\n",
       "│ |                 biolink:has_phenotype|  1534| │\n",
       "│ |                 biolink:coexists_with|   827| │\n",
       "│ |                        biolink:causes|   823| │\n",
       "│ |                      biolink:overlaps|   681| │\n",
       "│ |                  biolink:expressed_in|   573| │\n",
       "│ |              biolink:colocalizes_with|    98| │\n",
       "│ |                biolink:contributes_to|    94| │\n",
       "│ |                      biolink:produces|    59| │\n",
       "│ |                    biolink:capable_of|    41| │\n",
       "│ |                  biolink:derives_from|    40| │\n",
       "│ |                      biolink:disrupts|    21| │\n",
       "│ |                     biolink:occurs_in|    13| │\n",
       "│ |                      biolink:precedes|     8| │\n",
       "│ |                biolink:has_metabolite|     3| │\n",
       "│ |         biolink:temporally_related_to|     3| │\n",
       "│ |                     biolink:catalyzes|     1| │\n",
       "│ |              biolink:manifestation_of|     1| │\n",
       "│ +--------------------------------------+------+ │\n",
       "│                                                 │\n",
       "╰─────────────────────────────────────────────────╯\n"
      ]
     },
     "metadata": {},
     "output_type": "display_data"
    },
    {
     "name": "stderr",
     "output_type": "stream",
     "text": [
      "                                                                                \r"
     ]
    },
    {
     "data": {
      "text/html": [
       "<pre style=\"white-space:pre;overflow-x:auto;line-height:normal;font-family:Menlo,'DejaVu Sans Mono',consolas,'Courier New',monospace\">╭────────────── predicate Counts in RTX ───────────────╮\n",
       "│ +------------------------------------------+-------+ │\n",
       "│ |                                 predicate|  count| │\n",
       "│ +------------------------------------------+-------+ │\n",
       "│ |                   biolink:has_participant|3837590| │\n",
       "│ |                         biolink:occurs_in|3087968| │\n",
       "│ |                       biolink:subclass_of|2983431| │\n",
       "│ |         biolink:physically_interacts_with|2641479| │\n",
       "│ |                        biolink:related_to|1535302| │\n",
       "│ |    biolink:gene_associated_with_condition| 839112| │\n",
       "│ |                          biolink:in_taxon| 583731| │\n",
       "│ |                          biolink:has_part| 403589| │\n",
       "│ |                        biolink:has_output| 375980| │\n",
       "│ |                         biolink:has_input| 364437| │\n",
       "│ |                  biolink:transcribed_from| 257221| │\n",
       "│ |                        biolink:located_in| 239580| │\n",
       "│ |                       biolink:close_match| 212699| │\n",
       "│ |                    biolink:interacts_with| 133377| │\n",
       "│ |                           biolink:affects| 119041| │\n",
       "│ |                     biolink:coexists_with|  97832| │\n",
       "│ |                   biolink:gene_product_of|  90416| │\n",
       "│ |                           biolink:enables|  68829| │\n",
       "│ |                            biolink:treats|  51621| │\n",
       "│ |                     biolink:translates_to|  47331| │\n",
       "│ |                            biolink:causes|  44132| │\n",
       "│ |                     biolink:biomarker_for|  37946| │\n",
       "│ |             biolink:chemically_similar_to|  37139| │\n",
       "│ |biolink:entity_positively_regulates_entity|  26409| │\n",
       "│ |                      biolink:derives_from|  20356| │\n",
       "│ |                     biolink:has_phenotype|  20139| │\n",
       "│ |biolink:entity_negatively_regulates_entity|  19893| │\n",
       "│ |              biolink:actively_involved_in|  19714| │\n",
       "│ |                  biolink:manifestation_of|  19535| │\n",
       "│ |               biolink:contraindicated_for|  19078| │\n",
       "│ |                  biolink:colocalizes_with|  17555| │\n",
       "│ |             biolink:decreases_activity_of|  11371| │\n",
       "│ |           biolink:directly_interacts_with|   9519| │\n",
       "│ |                         biolink:catalyzes|   9328| │\n",
       "│ |                           biolink:same_as|   7945| │\n",
       "│ |                      biolink:expressed_in|   6569| │\n",
       "│ |                          biolink:produces|   6050| │\n",
       "│ |                        biolink:lacks_part|   5993| │\n",
       "│ |                        biolink:capable_of|   4700| │\n",
       "│ |                          biolink:overlaps|   4626| │\n",
       "│ +------------------------------------------+-------+ │\n",
       "│ only showing top 40 rows                             │\n",
       "│                                                      │\n",
       "╰──────────────────────────────────────────────────────╯\n",
       "</pre>\n"
      ],
      "text/plain": [
       "╭────────────── predicate Counts in RTX ───────────────╮\n",
       "│ +------------------------------------------+-------+ │\n",
       "│ |                                 predicate|  count| │\n",
       "│ +------------------------------------------+-------+ │\n",
       "│ |                   biolink:has_participant|3837590| │\n",
       "│ |                         biolink:occurs_in|3087968| │\n",
       "│ |                       biolink:subclass_of|2983431| │\n",
       "│ |         biolink:physically_interacts_with|2641479| │\n",
       "│ |                        biolink:related_to|1535302| │\n",
       "│ |    biolink:gene_associated_with_condition| 839112| │\n",
       "│ |                          biolink:in_taxon| 583731| │\n",
       "│ |                          biolink:has_part| 403589| │\n",
       "│ |                        biolink:has_output| 375980| │\n",
       "│ |                         biolink:has_input| 364437| │\n",
       "│ |                  biolink:transcribed_from| 257221| │\n",
       "│ |                        biolink:located_in| 239580| │\n",
       "│ |                       biolink:close_match| 212699| │\n",
       "│ |                    biolink:interacts_with| 133377| │\n",
       "│ |                           biolink:affects| 119041| │\n",
       "│ |                     biolink:coexists_with|  97832| │\n",
       "│ |                   biolink:gene_product_of|  90416| │\n",
       "│ |                           biolink:enables|  68829| │\n",
       "│ |                            biolink:treats|  51621| │\n",
       "│ |                     biolink:translates_to|  47331| │\n",
       "│ |                            biolink:causes|  44132| │\n",
       "│ |                     biolink:biomarker_for|  37946| │\n",
       "│ |             biolink:chemically_similar_to|  37139| │\n",
       "│ |biolink:entity_positively_regulates_entity|  26409| │\n",
       "│ |                      biolink:derives_from|  20356| │\n",
       "│ |                     biolink:has_phenotype|  20139| │\n",
       "│ |biolink:entity_negatively_regulates_entity|  19893| │\n",
       "│ |              biolink:actively_involved_in|  19714| │\n",
       "│ |                  biolink:manifestation_of|  19535| │\n",
       "│ |               biolink:contraindicated_for|  19078| │\n",
       "│ |                  biolink:colocalizes_with|  17555| │\n",
       "│ |             biolink:decreases_activity_of|  11371| │\n",
       "│ |           biolink:directly_interacts_with|   9519| │\n",
       "│ |                         biolink:catalyzes|   9328| │\n",
       "│ |                           biolink:same_as|   7945| │\n",
       "│ |                      biolink:expressed_in|   6569| │\n",
       "│ |                          biolink:produces|   6050| │\n",
       "│ |                        biolink:lacks_part|   5993| │\n",
       "│ |                        biolink:capable_of|   4700| │\n",
       "│ |                          biolink:overlaps|   4626| │\n",
       "│ +------------------------------------------+-------+ │\n",
       "│ only showing top 40 rows                             │\n",
       "│                                                      │\n",
       "╰──────────────────────────────────────────────────────╯\n"
      ]
     },
     "metadata": {},
     "output_type": "display_data"
    },
    {
     "name": "stderr",
     "output_type": "stream",
     "text": [
      "                                                                                \r"
     ]
    },
    {
     "data": {
      "text/html": [
       "<pre style=\"white-space:pre;overflow-x:auto;line-height:normal;font-family:Menlo,'DejaVu Sans Mono',consolas,'Courier New',monospace\">╭──────────────── predicate Counts in Robo ────────────────╮\n",
       "│ +---------------------------------------------+--------+ │\n",
       "│ |                                    predicate|   count| │\n",
       "│ +---------------------------------------------+--------+ │\n",
       "│ |                          biolink:subclass_of|60176118| │\n",
       "│ |                 biolink:is_nearby_variant_of|31864140| │\n",
       "│ |                              biolink:affects|18098919| │\n",
       "│ |                     biolink:coexpressed_with| 9210882| │\n",
       "│ |             biolink:is_non_coding_variant_of| 3858701| │\n",
       "│ |            biolink:physically_interacts_with| 1415606| │\n",
       "│ |                        biolink:has_phenotype| 1100999| │\n",
       "│ |                         biolink:expressed_in| 1091384| │\n",
       "│ |                 biolink:actively_involved_in|  952972| │\n",
       "│ |   biolink:directly_physically_interacts_with|  815337| │\n",
       "│ |                      biolink:has_participant|  558161| │\n",
       "│ |                            biolink:regulates|  528959| │\n",
       "│ |                                biolink:binds|  433800| │\n",
       "│ |biolink:treats_or_applied_or_studied_to_treat|  324085| │\n",
       "│ |                            biolink:occurs_in|  255150| │\n",
       "│ |                            biolink:catalyzes|  237533| │\n",
       "│ |                        biolink:homologous_to|  230627| │\n",
       "│ |                           biolink:located_in|  222328| │\n",
       "│ |                    biolink:has_adverse_event|  202144| │\n",
       "│ |                             biolink:has_part|  191638| │\n",
       "│ |                       biolink:contributes_to|  168790| │\n",
       "│ |                           biolink:related_to|  151917| │\n",
       "│ |           biolink:genetically_interacts_with|  147139| │\n",
       "│ |                               biolink:causes|  140120| │\n",
       "│ |                             biolink:in_taxon|  125018| │\n",
       "│ |          biolink:genetically_associated_with|  118298| │\n",
       "│ |                            biolink:has_input|  101385| │\n",
       "│ |                      biolink:correlated_with|   86540| │\n",
       "│ |                           biolink:has_output|   79192| │\n",
       "│ |                             biolink:precedes|   68181| │\n",
       "│ |               biolink:is_missense_variant_of|   31379| │\n",
       "│ |             biolink:is_synonymous_variant_of|   28077| │\n",
       "│ |                   biolink:contraindicated_in|   25677| │\n",
       "│ |                        biolink:develops_from|   25430| │\n",
       "│ |                biolink:temporally_related_to|   22976| │\n",
       "│ |                            biolink:active_in|   19084| │\n",
       "│ |            biolink:is_splice_site_variant_of|   13591| │\n",
       "│ |                               biolink:treats|   11205| │\n",
       "│ |                             biolink:overlaps|    8164| │\n",
       "│ |                           biolink:similar_to|    6950| │\n",
       "│ +---------------------------------------------+--------+ │\n",
       "│ only showing top 40 rows                                 │\n",
       "│                                                          │\n",
       "╰──────────────────────────────────────────────────────────╯\n",
       "</pre>\n"
      ],
      "text/plain": [
       "╭──────────────── predicate Counts in Robo ────────────────╮\n",
       "│ +---------------------------------------------+--------+ │\n",
       "│ |                                    predicate|   count| │\n",
       "│ +---------------------------------------------+--------+ │\n",
       "│ |                          biolink:subclass_of|60176118| │\n",
       "│ |                 biolink:is_nearby_variant_of|31864140| │\n",
       "│ |                              biolink:affects|18098919| │\n",
       "│ |                     biolink:coexpressed_with| 9210882| │\n",
       "│ |             biolink:is_non_coding_variant_of| 3858701| │\n",
       "│ |            biolink:physically_interacts_with| 1415606| │\n",
       "│ |                        biolink:has_phenotype| 1100999| │\n",
       "│ |                         biolink:expressed_in| 1091384| │\n",
       "│ |                 biolink:actively_involved_in|  952972| │\n",
       "│ |   biolink:directly_physically_interacts_with|  815337| │\n",
       "│ |                      biolink:has_participant|  558161| │\n",
       "│ |                            biolink:regulates|  528959| │\n",
       "│ |                                biolink:binds|  433800| │\n",
       "│ |biolink:treats_or_applied_or_studied_to_treat|  324085| │\n",
       "│ |                            biolink:occurs_in|  255150| │\n",
       "│ |                            biolink:catalyzes|  237533| │\n",
       "│ |                        biolink:homologous_to|  230627| │\n",
       "│ |                           biolink:located_in|  222328| │\n",
       "│ |                    biolink:has_adverse_event|  202144| │\n",
       "│ |                             biolink:has_part|  191638| │\n",
       "│ |                       biolink:contributes_to|  168790| │\n",
       "│ |                           biolink:related_to|  151917| │\n",
       "│ |           biolink:genetically_interacts_with|  147139| │\n",
       "│ |                               biolink:causes|  140120| │\n",
       "│ |                             biolink:in_taxon|  125018| │\n",
       "│ |          biolink:genetically_associated_with|  118298| │\n",
       "│ |                            biolink:has_input|  101385| │\n",
       "│ |                      biolink:correlated_with|   86540| │\n",
       "│ |                           biolink:has_output|   79192| │\n",
       "│ |                             biolink:precedes|   68181| │\n",
       "│ |               biolink:is_missense_variant_of|   31379| │\n",
       "│ |             biolink:is_synonymous_variant_of|   28077| │\n",
       "│ |                   biolink:contraindicated_in|   25677| │\n",
       "│ |                        biolink:develops_from|   25430| │\n",
       "│ |                biolink:temporally_related_to|   22976| │\n",
       "│ |                            biolink:active_in|   19084| │\n",
       "│ |            biolink:is_splice_site_variant_of|   13591| │\n",
       "│ |                               biolink:treats|   11205| │\n",
       "│ |                             biolink:overlaps|    8164| │\n",
       "│ |                           biolink:similar_to|    6950| │\n",
       "│ +---------------------------------------------+--------+ │\n",
       "│ only showing top 40 rows                                 │\n",
       "│                                                          │\n",
       "╰──────────────────────────────────────────────────────────╯\n"
      ]
     },
     "metadata": {},
     "output_type": "display_data"
    }
   ],
   "source": [
    "def stats_on_df(df: ps.sql.DataFrame, col: str, kg_name: str, n=40):\n",
    "    df_counts = df.groupBy(col).count().sort(\"count\", ascending=False)\n",
    "    console.print(Panel.fit(top_n(df_counts, n=n), title=f\"{col} Counts in {kg_name}\"))\n",
    "\n",
    "stats_on_df(edges_in_both, \"predicate\", \"Both\")\n",
    "stats_on_df(edges_in_rtx, \"predicate\", \"RTX\")\n",
    "stats_on_df(edges_in_robo, \"predicate\", \"Robo\")\n",
    "\n"
   ]
  },
  {
   "cell_type": "code",
   "execution_count": 7,
   "metadata": {},
   "outputs": [
    {
     "data": {
      "text/html": [
       "<pre style=\"white-space:pre;overflow-x:auto;line-height:normal;font-family:Menlo,'DejaVu Sans Mono',consolas,'Courier New',monospace\">╭─────────────── category Counts in Both ───────────────╮\n",
       "│ +--------------------------------------------+------+ │\n",
       "│ |                                    category| count| │\n",
       "│ +--------------------------------------------+------+ │\n",
       "│ |                             biolink:Protein|190001| │\n",
       "│ |                     biolink:MolecularEntity|104015| │\n",
       "│ |                       biolink:OrganismTaxon| 71901| │\n",
       "│ |                       biolink:SmallMolecule| 67576| │\n",
       "│ |                                biolink:Gene| 38703| │\n",
       "│ |                             biolink:Disease| 35584| │\n",
       "│ |                             biolink:Pathway| 31195| │\n",
       "│ |          biolink:DiseaseOrPhenotypicFeature| 19509| │\n",
       "│ |                    biolink:AnatomicalEntity| 15921| │\n",
       "│ |                   biolink:MolecularActivity| 12931| │\n",
       "│ |                      biolink:ChemicalEntity|  8977| │\n",
       "│ |                          biolink:NamedThing|  5065| │\n",
       "│ |   biolink:ChemicalEntityOrGeneOrGeneProduct|  4501| │\n",
       "│ |          biolink:PhysicalEssenceOrOccurrent|  4031| │\n",
       "│ |biolink:ChemicalEntityOrProteinOrPolypeptide|  2419| │\n",
       "│ |                   biolink:PhenotypicFeature|  2032| │\n",
       "│ |                                biolink:Cell|  1624| │\n",
       "│ |                   biolink:CellularComponent|  1612| │\n",
       "│ |                      biolink:ThingWithTaxon|  1609| │\n",
       "│ |            biolink:GrossAnatomicalStructure|  1562| │\n",
       "│ |                   biolink:BiologicalProcess|   827| │\n",
       "│ |                         biolink:Polypeptide|   357| │\n",
       "│ |                                biolink:Drug|   264| │\n",
       "│ |                   biolink:NucleicAcidEntity|   124| │\n",
       "│ |          biolink:MacromolecularMachineMixin|   108| │\n",
       "│ |                    biolink:BiologicalEntity|    97| │\n",
       "│ |                          biolink:RNAProduct|    81| │\n",
       "│ |                biolink:PhysiologicalProcess|    21| │\n",
       "│ |                            biolink:Behavior|    11| │\n",
       "│ |                                biolink:Food|     7| │\n",
       "│ |                             biolink:Vitamin|     3| │\n",
       "│ |                     biolink:ChemicalMixture|     3| │\n",
       "│ +--------------------------------------------+------+ │\n",
       "│                                                       │\n",
       "╰───────────────────────────────────────────────────────╯\n",
       "</pre>\n"
      ],
      "text/plain": [
       "╭─────────────── category Counts in Both ───────────────╮\n",
       "│ +--------------------------------------------+------+ │\n",
       "│ |                                    category| count| │\n",
       "│ +--------------------------------------------+------+ │\n",
       "│ |                             biolink:Protein|190001| │\n",
       "│ |                     biolink:MolecularEntity|104015| │\n",
       "│ |                       biolink:OrganismTaxon| 71901| │\n",
       "│ |                       biolink:SmallMolecule| 67576| │\n",
       "│ |                                biolink:Gene| 38703| │\n",
       "│ |                             biolink:Disease| 35584| │\n",
       "│ |                             biolink:Pathway| 31195| │\n",
       "│ |          biolink:DiseaseOrPhenotypicFeature| 19509| │\n",
       "│ |                    biolink:AnatomicalEntity| 15921| │\n",
       "│ |                   biolink:MolecularActivity| 12931| │\n",
       "│ |                      biolink:ChemicalEntity|  8977| │\n",
       "│ |                          biolink:NamedThing|  5065| │\n",
       "│ |   biolink:ChemicalEntityOrGeneOrGeneProduct|  4501| │\n",
       "│ |          biolink:PhysicalEssenceOrOccurrent|  4031| │\n",
       "│ |biolink:ChemicalEntityOrProteinOrPolypeptide|  2419| │\n",
       "│ |                   biolink:PhenotypicFeature|  2032| │\n",
       "│ |                                biolink:Cell|  1624| │\n",
       "│ |                   biolink:CellularComponent|  1612| │\n",
       "│ |                      biolink:ThingWithTaxon|  1609| │\n",
       "│ |            biolink:GrossAnatomicalStructure|  1562| │\n",
       "│ |                   biolink:BiologicalProcess|   827| │\n",
       "│ |                         biolink:Polypeptide|   357| │\n",
       "│ |                                biolink:Drug|   264| │\n",
       "│ |                   biolink:NucleicAcidEntity|   124| │\n",
       "│ |          biolink:MacromolecularMachineMixin|   108| │\n",
       "│ |                    biolink:BiologicalEntity|    97| │\n",
       "│ |                          biolink:RNAProduct|    81| │\n",
       "│ |                biolink:PhysiologicalProcess|    21| │\n",
       "│ |                            biolink:Behavior|    11| │\n",
       "│ |                                biolink:Food|     7| │\n",
       "│ |                             biolink:Vitamin|     3| │\n",
       "│ |                     biolink:ChemicalMixture|     3| │\n",
       "│ +--------------------------------------------+------+ │\n",
       "│                                                       │\n",
       "╰───────────────────────────────────────────────────────╯\n"
      ]
     },
     "metadata": {},
     "output_type": "display_data"
    },
    {
     "data": {
      "text/html": [
       "<pre style=\"white-space:pre;overflow-x:auto;line-height:normal;font-family:Menlo,'DejaVu Sans Mono',consolas,'Courier New',monospace\">╭──────────────── category Counts in RTX ────────────────╮\n",
       "│ +--------------------------------------------+-------+ │\n",
       "│ |                                    category|  count| │\n",
       "│ +--------------------------------------------+-------+ │\n",
       "│ |                       biolink:OrganismTaxon|1785601| │\n",
       "│ |                          biolink:Transcript| 257221| │\n",
       "│ |                   biolink:MolecularActivity| 228645| │\n",
       "│ |                             biolink:Protein| 197335| │\n",
       "│ |                      biolink:ChemicalEntity| 187144| │\n",
       "│ |                       biolink:SmallMolecule| 135790| │\n",
       "│ |                                biolink:Drug| 132905| │\n",
       "│ |                     biolink:MolecularEntity| 130711| │\n",
       "│ |                    biolink:AnatomicalEntity| 124429| │\n",
       "│ |                                biolink:Gene| 111966| │\n",
       "│ |                             biolink:Disease|  84705| │\n",
       "│ |                             biolink:Pathway|  69550| │\n",
       "│ |                         biolink:Polypeptide|  44705| │\n",
       "│ |          biolink:DiseaseOrPhenotypicFeature|  33237| │\n",
       "│ |                biolink:PhysiologicalProcess|  33217| │\n",
       "│ |                    biolink:BiologicalEntity|  19908| │\n",
       "│ |                   biolink:NucleicAcidEntity|  15685| │\n",
       "│ |            biolink:GrossAnatomicalStructure|  14866| │\n",
       "│ |                   biolink:CellularComponent|   6927| │\n",
       "│ |                          biolink:NamedThing|   5065| │\n",
       "│ |                   biolink:PhenotypicFeature|   4668| │\n",
       "│ |   biolink:ChemicalEntityOrGeneOrGeneProduct|   4501| │\n",
       "│ |          biolink:PhysicalEssenceOrOccurrent|   4031| │\n",
       "│ |                                biolink:Cell|   3673| │\n",
       "│ |biolink:ChemicalEntityOrProteinOrPolypeptide|   2419| │\n",
       "│ |                   biolink:BiologicalProcess|   2186| │\n",
       "│ |                            biolink:Behavior|   1640| │\n",
       "│ |                      biolink:ThingWithTaxon|   1609| │\n",
       "│ |                                biolink:Food|   1296| │\n",
       "│ |                            biolink:CellLine|    415| │\n",
       "│ |                          biolink:GeneFamily|    409| │\n",
       "│ |                   biolink:BehavioralFeature|    174| │\n",
       "│ |                          biolink:RNAProduct|    108| │\n",
       "│ |          biolink:MacromolecularMachineMixin|    108| │\n",
       "│ |                             biolink:Vitamin|    102| │\n",
       "│ |                 biolink:NoncodingRNAProduct|     68| │\n",
       "│ |                     biolink:ChemicalMixture|     58| │\n",
       "│ |         biolink:BiologicalProcessOrActivity|     11| │\n",
       "│ |                            biolink:MicroRNA|      2| │\n",
       "│ +--------------------------------------------+-------+ │\n",
       "│                                                        │\n",
       "╰────────────────────────────────────────────────────────╯\n",
       "</pre>\n"
      ],
      "text/plain": [
       "╭──────────────── category Counts in RTX ────────────────╮\n",
       "│ +--------------------------------------------+-------+ │\n",
       "│ |                                    category|  count| │\n",
       "│ +--------------------------------------------+-------+ │\n",
       "│ |                       biolink:OrganismTaxon|1785601| │\n",
       "│ |                          biolink:Transcript| 257221| │\n",
       "│ |                   biolink:MolecularActivity| 228645| │\n",
       "│ |                             biolink:Protein| 197335| │\n",
       "│ |                      biolink:ChemicalEntity| 187144| │\n",
       "│ |                       biolink:SmallMolecule| 135790| │\n",
       "│ |                                biolink:Drug| 132905| │\n",
       "│ |                     biolink:MolecularEntity| 130711| │\n",
       "│ |                    biolink:AnatomicalEntity| 124429| │\n",
       "│ |                                biolink:Gene| 111966| │\n",
       "│ |                             biolink:Disease|  84705| │\n",
       "│ |                             biolink:Pathway|  69550| │\n",
       "│ |                         biolink:Polypeptide|  44705| │\n",
       "│ |          biolink:DiseaseOrPhenotypicFeature|  33237| │\n",
       "│ |                biolink:PhysiologicalProcess|  33217| │\n",
       "│ |                    biolink:BiologicalEntity|  19908| │\n",
       "│ |                   biolink:NucleicAcidEntity|  15685| │\n",
       "│ |            biolink:GrossAnatomicalStructure|  14866| │\n",
       "│ |                   biolink:CellularComponent|   6927| │\n",
       "│ |                          biolink:NamedThing|   5065| │\n",
       "│ |                   biolink:PhenotypicFeature|   4668| │\n",
       "│ |   biolink:ChemicalEntityOrGeneOrGeneProduct|   4501| │\n",
       "│ |          biolink:PhysicalEssenceOrOccurrent|   4031| │\n",
       "│ |                                biolink:Cell|   3673| │\n",
       "│ |biolink:ChemicalEntityOrProteinOrPolypeptide|   2419| │\n",
       "│ |                   biolink:BiologicalProcess|   2186| │\n",
       "│ |                            biolink:Behavior|   1640| │\n",
       "│ |                      biolink:ThingWithTaxon|   1609| │\n",
       "│ |                                biolink:Food|   1296| │\n",
       "│ |                            biolink:CellLine|    415| │\n",
       "│ |                          biolink:GeneFamily|    409| │\n",
       "│ |                   biolink:BehavioralFeature|    174| │\n",
       "│ |                          biolink:RNAProduct|    108| │\n",
       "│ |          biolink:MacromolecularMachineMixin|    108| │\n",
       "│ |                             biolink:Vitamin|    102| │\n",
       "│ |                 biolink:NoncodingRNAProduct|     68| │\n",
       "│ |                     biolink:ChemicalMixture|     58| │\n",
       "│ |         biolink:BiologicalProcessOrActivity|     11| │\n",
       "│ |                            biolink:MicroRNA|      2| │\n",
       "│ +--------------------------------------------+-------+ │\n",
       "│                                                        │\n",
       "╰────────────────────────────────────────────────────────╯\n"
      ]
     },
     "metadata": {},
     "output_type": "display_data"
    },
    {
     "data": {
      "text/html": [
       "<pre style=\"white-space:pre;overflow-x:auto;line-height:normal;font-family:Menlo,'DejaVu Sans Mono',consolas,'Courier New',monospace\">╭─────────────── category Counts in Robo ────────────────╮\n",
       "│ +--------------------------------------------+-------+ │\n",
       "│ |                                    category|  count| │\n",
       "│ +--------------------------------------------+-------+ │\n",
       "│ |                       biolink:GenomicEntity|5112649| │\n",
       "│ |                          biolink:NamedThing|2471600| │\n",
       "│ |          biolink:PhysicalEssenceOrOccurrent|1103707| │\n",
       "│ |                     biolink:MolecularEntity| 319537| │\n",
       "│ |                             biolink:Protein| 190001| │\n",
       "│ |          biolink:MacromolecularMachineMixin|  98131| │\n",
       "│ |                       biolink:OrganismTaxon|  71901| │\n",
       "│ |                       biolink:SmallMolecule|  67576| │\n",
       "│ |biolink:ChemicalEntityOrProteinOrPolypeptide|  55566| │\n",
       "│ |                      biolink:ThingWithTaxon|  51483| │\n",
       "│ |                                biolink:Gene|  38703| │\n",
       "│ |                             biolink:Disease|  35584| │\n",
       "│ |                             biolink:Pathway|  31195| │\n",
       "│ |          biolink:DiseaseOrPhenotypicFeature|  27606| │\n",
       "│ |   biolink:ChemicalEntityOrGeneOrGeneProduct|  23986| │\n",
       "│ |                    biolink:AnatomicalEntity|  17938| │\n",
       "│ |                   biolink:MolecularActivity|  12931| │\n",
       "│ |                      biolink:ChemicalEntity|   8977| │\n",
       "│ |                   biolink:PhenotypicFeature|   2032| │\n",
       "│ |                                biolink:Cell|   1624| │\n",
       "│ |                   biolink:CellularComponent|   1612| │\n",
       "│ |            biolink:GrossAnatomicalStructure|   1562| │\n",
       "│ |                   biolink:BiologicalProcess|    827| │\n",
       "│ |                         biolink:Polypeptide|    357| │\n",
       "│ |                                biolink:Drug|    269| │\n",
       "│ |                   biolink:NucleicAcidEntity|    124| │\n",
       "│ |                    biolink:BiologicalEntity|     97| │\n",
       "│ |                       biolink:OntologyClass|     82| │\n",
       "│ |                          biolink:RNAProduct|     81| │\n",
       "│ |                   biolink:GeneGroupingMixin|     54| │\n",
       "│ |                biolink:PhysiologicalProcess|     24| │\n",
       "│ |                            biolink:Behavior|     11| │\n",
       "│ |                                biolink:Food|      7| │\n",
       "│ |                             biolink:Vitamin|      3| │\n",
       "│ |                     biolink:ChemicalMixture|      3| │\n",
       "│ +--------------------------------------------+-------+ │\n",
       "│                                                        │\n",
       "╰────────────────────────────────────────────────────────╯\n",
       "</pre>\n"
      ],
      "text/plain": [
       "╭─────────────── category Counts in Robo ────────────────╮\n",
       "│ +--------------------------------------------+-------+ │\n",
       "│ |                                    category|  count| │\n",
       "│ +--------------------------------------------+-------+ │\n",
       "│ |                       biolink:GenomicEntity|5112649| │\n",
       "│ |                          biolink:NamedThing|2471600| │\n",
       "│ |          biolink:PhysicalEssenceOrOccurrent|1103707| │\n",
       "│ |                     biolink:MolecularEntity| 319537| │\n",
       "│ |                             biolink:Protein| 190001| │\n",
       "│ |          biolink:MacromolecularMachineMixin|  98131| │\n",
       "│ |                       biolink:OrganismTaxon|  71901| │\n",
       "│ |                       biolink:SmallMolecule|  67576| │\n",
       "│ |biolink:ChemicalEntityOrProteinOrPolypeptide|  55566| │\n",
       "│ |                      biolink:ThingWithTaxon|  51483| │\n",
       "│ |                                biolink:Gene|  38703| │\n",
       "│ |                             biolink:Disease|  35584| │\n",
       "│ |                             biolink:Pathway|  31195| │\n",
       "│ |          biolink:DiseaseOrPhenotypicFeature|  27606| │\n",
       "│ |   biolink:ChemicalEntityOrGeneOrGeneProduct|  23986| │\n",
       "│ |                    biolink:AnatomicalEntity|  17938| │\n",
       "│ |                   biolink:MolecularActivity|  12931| │\n",
       "│ |                      biolink:ChemicalEntity|   8977| │\n",
       "│ |                   biolink:PhenotypicFeature|   2032| │\n",
       "│ |                                biolink:Cell|   1624| │\n",
       "│ |                   biolink:CellularComponent|   1612| │\n",
       "│ |            biolink:GrossAnatomicalStructure|   1562| │\n",
       "│ |                   biolink:BiologicalProcess|    827| │\n",
       "│ |                         biolink:Polypeptide|    357| │\n",
       "│ |                                biolink:Drug|    269| │\n",
       "│ |                   biolink:NucleicAcidEntity|    124| │\n",
       "│ |                    biolink:BiologicalEntity|     97| │\n",
       "│ |                       biolink:OntologyClass|     82| │\n",
       "│ |                          biolink:RNAProduct|     81| │\n",
       "│ |                   biolink:GeneGroupingMixin|     54| │\n",
       "│ |                biolink:PhysiologicalProcess|     24| │\n",
       "│ |                            biolink:Behavior|     11| │\n",
       "│ |                                biolink:Food|      7| │\n",
       "│ |                             biolink:Vitamin|      3| │\n",
       "│ |                     biolink:ChemicalMixture|      3| │\n",
       "│ +--------------------------------------------+-------+ │\n",
       "│                                                        │\n",
       "╰────────────────────────────────────────────────────────╯\n"
      ]
     },
     "metadata": {},
     "output_type": "display_data"
    }
   ],
   "source": [
    "\n",
    "stats_on_df(nodes_in_both, \"category\", \"Both\")\n",
    "stats_on_df(nodes_in_rtx, \"category\", \"RTX\")\n",
    "stats_on_df(nodes_in_robo, \"category\", \"Robo\")"
   ]
  },
  {
   "cell_type": "markdown",
   "metadata": {},
   "source": [
    "OK it looks like Robokop has tons of biolink `subclass_of` and `is_nearby_variant_of` edges. Also 18M `affects`. RTX on the other hand appears to be heavier on `has_participant` and `occurs_in`\n",
    "\n",
    "## Doing some plotting. Let's get a correlation matrix of categories in the 4 variants (rtx, robo, overlap, union)\n",
    "\n",
    "I want to see which categories of nodes are connected with each other. For that I need to join the node categories on the edges dataframe to then the correlation matrix"
   ]
  },
  {
   "cell_type": "code",
   "execution_count": 10,
   "metadata": {},
   "outputs": [],
   "source": [
    "def get_category_connections(edges: ps.sql.DataFrame, nodes: ps.sql.DataFrame):\n",
    "    categories = nodes.select(\"id\", \"category\")\n",
    "    edges = edges.join(categories.withColumnsRenamed({\"id\": \"subject\", \"category\": \"subj_category\"}), \"subject\", \"left\")\n",
    "    edges = edges.join(categories.withColumnsRenamed({\"id\": \"object\", \"category\": \"obj_category\"}), \"object\", \"left\")\n",
    "    # join the nodes dataframe on the subject column of the edges dataframe\n",
    "    return edges.select(\"subject\", \"predicate\", \"object\", \"subj_category\", \"obj_category\")\n",
    "\n",
    "\n",
    "def get_sankey_data_for_kg(edges: ps.sql.DataFrame, nodes: ps.sql.DataFrame) -> pd.DataFrame:\n",
    "    df = get_category_connections(edges, nodes)\n",
    "    # preparing sankey diagram data\n",
    "    df = df.withColumn(\"subj_category\n",
    "    \n",
    "    first_level = df.groupBy(\"subj_category\",\"predicate\").count().withColumnsRenamed({\"subj_category\": \"source\", \"predicate\": \"sink\", \"count\": \"value\"})\n",
    "    second_level = df.groupBy(\"predicate\", \"obj_category\").count().withColumnsRenamed({\"predicate\": \"source\", \"obj_category\": \"sink\", \"count\": \"value\"})\n",
    "    return first_level.union(second_level).toPandas()\n",
    "\n",
    "\n"
   ]
  },
  {
   "cell_type": "code",
   "execution_count": null,
   "metadata": {},
   "outputs": [
    {
     "name": "stderr",
     "output_type": "stream",
     "text": [
      "[Stage 89:=========>    (136 + 6) / 200][Stage 91:=========>    (135 + 6) / 200]\r"
     ]
    }
   ],
   "source": [
    "sankey_data = get_sankey_data_for_kg(edges_in_rtx, nodes_in_rtx)\n",
    "print(sankey_data.head(10))\n",
    "print(sankey_data.dtypes)"
   ]
  },
  {
   "cell_type": "code",
   "execution_count": 22,
   "metadata": {},
   "outputs": [
    {
     "data": {
      "application/vnd.plotly.v1+json": {
       "config": {
        "plotlyServerURL": "https://plot.ly"
       },
       "data": [
        {
         "link": {
          "source": [
           0,
           0,
           1,
           2,
           3,
           4,
           5,
           6,
           5,
           6,
           5,
           7,
           6,
           8,
           1,
           9,
           10,
           11,
           6,
           12,
           6,
           12,
           12,
           13,
           14,
           14,
           8,
           4,
           15,
           8,
           8,
           4,
           4,
           16,
           17,
           2,
           2,
           18,
           16,
           9,
           19,
           20,
           8,
           4,
           21,
           17,
           19,
           22,
           23,
           4,
           2,
           15,
           1,
           24,
           9,
           13,
           6,
           25,
           19,
           9,
           22,
           25,
           26,
           8,
           20,
           1,
           23,
           6,
           9,
           8,
           9,
           27,
           22,
           9,
           28,
           16,
           24,
           21,
           8,
           9,
           8,
           29,
           9,
           25,
           19,
           30,
           31,
           32,
           33,
           25,
           14,
           23,
           1,
           4,
           4,
           34,
           35,
           36,
           1,
           1
          ],
          "target": [
           5,
           6,
           2,
           1,
           4,
           3,
           3,
           14,
           37,
           1,
           22,
           23,
           12,
           7,
           9,
           8,
           3,
           6,
           8,
           6,
           19,
           13,
           15,
           1,
           20,
           10,
           4,
           8,
           1,
           9,
           10,
           16,
           19,
           4,
           2,
           17,
           19,
           6,
           25,
           23,
           4,
           8,
           2,
           22,
           22,
           9,
           2,
           4,
           4,
           23,
           8,
           19,
           4,
           10,
           11,
           19,
           31,
           16,
           9,
           16,
           25,
           22,
           8,
           26,
           24,
           21,
           9,
           29,
           19,
           30,
           1,
           22,
           27,
           29,
           17,
           9,
           7,
           37,
           21,
           17,
           32,
           7,
           12,
           1,
           25,
           24,
           9,
           12,
           23,
           8,
           34,
           36,
           36,
           38,
           17,
           8,
           9,
           8,
           28,
           33
          ],
          "value": [
           3036094,
           2723382,
           2104122,
           2099970,
           1788480,
           1766371,
           1239442,
           1063314,
           990239,
           956647,
           852989,
           808136,
           769428,
           687661,
           677254,
           595240,
           583600,
           459380,
           398556,
           398142,
           393253,
           372651,
           361777,
           257350,
           257219,
           257219,
           251208,
           235083,
           228613,
           203970,
           203954,
           201347,
           195072,
           173216,
           170580,
           170078,
           168951,
           164797,
           163118,
           159552,
           155201,
           154486,
           150966,
           148407,
           146771,
           145981,
           144703,
           142748,
           137002,
           136669,
           131480,
           117086,
           115979,
           110028,
           108610,
           108086,
           108010,
           106767,
           101824,
           101569,
           98385,
           91814,
           91373,
           89522,
           87974,
           83740,
           83196,
           82155,
           79985,
           79188,
           74905,
           71497,
           71439,
           70615,
           70465,
           70039,
           69306,
           67199,
           64825,
           64181,
           59932,
           59332,
           57129,
           55532,
           54380,
           52721,
           47903,
           47694,
           47621,
           47468,
           47330,
           46284,
           45109,
           44723,
           42890,
           41394,
           41005,
           39921,
           39319,
           38826
          ]
         },
         "node": {
          "color": [
           "rgb(52,76,33)",
           "rgb(160,140,203)",
           "rgb(220,213,115)",
           "rgb(88,213,240)",
           "rgb(132,172,39)",
           "rgb(188,162,34)",
           "rgb(208,180,147)",
           "rgb(229,141,39)",
           "rgb(70,9,124)",
           "rgb(167,29,72)",
           "rgb(106,23,94)",
           "rgb(244,86,211)",
           "rgb(123,67,22)",
           "rgb(109,164,225)",
           "rgb(122,7,202)",
           "rgb(50,20,218)",
           "rgb(248,236,58)",
           "rgb(165,38,140)",
           "rgb(17,41,158)",
           "rgb(76,19,208)",
           "rgb(148,116,92)",
           "rgb(204,221,217)",
           "rgb(177,194,107)",
           "rgb(108,126,196)",
           "rgb(192,82,169)",
           "rgb(65,88,170)",
           "rgb(168,14,164)",
           "rgb(48,91,65)",
           "rgb(168,192,62)",
           "rgb(103,95,183)",
           "rgb(1,105,216)",
           "rgb(135,242,97)",
           "rgb(160,100,85)",
           "rgb(93,207,75)",
           "rgb(112,108,245)",
           "rgb(8,190,222)",
           "rgb(190,245,27)",
           "rgb(148,6,85)",
           "rgb(101,214,75)"
          ],
          "label": [
           "biolink:Pathway",
           "biolink:SmallMolecule",
           "biolink:physically_interacts_with",
           "biolink:OrganismTaxon",
           "biolink:subclass_of",
           "biolink:occurs_in",
           "biolink:has_participant",
           "biolink:gene_associated_with_condition",
           "biolink:Protein",
           "biolink:related_to",
           "biolink:in_taxon",
           "biolink:PhysiologicalProcess",
           "biolink:MolecularActivity",
           "biolink:has_output",
           "biolink:Transcript",
           "biolink:has_input",
           "biolink:Drug",
           "biolink:ChemicalEntity",
           "biolink:BiologicalProcess",
           "biolink:MolecularEntity",
           "biolink:transcribed_from",
           "biolink:located_in",
           "biolink:AnatomicalEntity",
           "biolink:Disease",
           "biolink:Gene",
           "biolink:has_part",
           "biolink:interacts_with",
           "biolink:coexists_with",
           "biolink:close_match",
           "biolink:ChemicalEntityOrGeneOrGeneProduct",
           "biolink:gene_product_of",
           "biolink:Polypeptide",
           "biolink:enables",
           "biolink:treats",
           "biolink:translates_to",
           "biolink:Cell",
           "biolink:affects",
           "biolink:CellularComponent",
           "biolink:BiologicalEntity"
          ],
          "line": {
           "color": "black",
           "width": 0.5
          },
          "pad": 15,
          "thickness": 20
         },
         "type": "sankey"
        }
       ],
       "layout": {
        "autosize": true,
        "font": {
         "size": 10
        },
        "template": {
         "data": {
          "bar": [
           {
            "error_x": {
             "color": "#2a3f5f"
            },
            "error_y": {
             "color": "#2a3f5f"
            },
            "marker": {
             "line": {
              "color": "#E5ECF6",
              "width": 0.5
             },
             "pattern": {
              "fillmode": "overlay",
              "size": 10,
              "solidity": 0.2
             }
            },
            "type": "bar"
           }
          ],
          "barpolar": [
           {
            "marker": {
             "line": {
              "color": "#E5ECF6",
              "width": 0.5
             },
             "pattern": {
              "fillmode": "overlay",
              "size": 10,
              "solidity": 0.2
             }
            },
            "type": "barpolar"
           }
          ],
          "carpet": [
           {
            "aaxis": {
             "endlinecolor": "#2a3f5f",
             "gridcolor": "white",
             "linecolor": "white",
             "minorgridcolor": "white",
             "startlinecolor": "#2a3f5f"
            },
            "baxis": {
             "endlinecolor": "#2a3f5f",
             "gridcolor": "white",
             "linecolor": "white",
             "minorgridcolor": "white",
             "startlinecolor": "#2a3f5f"
            },
            "type": "carpet"
           }
          ],
          "choropleth": [
           {
            "colorbar": {
             "outlinewidth": 0,
             "ticks": ""
            },
            "type": "choropleth"
           }
          ],
          "contour": [
           {
            "colorbar": {
             "outlinewidth": 0,
             "ticks": ""
            },
            "colorscale": [
             [
              0,
              "#0d0887"
             ],
             [
              0.1111111111111111,
              "#46039f"
             ],
             [
              0.2222222222222222,
              "#7201a8"
             ],
             [
              0.3333333333333333,
              "#9c179e"
             ],
             [
              0.4444444444444444,
              "#bd3786"
             ],
             [
              0.5555555555555556,
              "#d8576b"
             ],
             [
              0.6666666666666666,
              "#ed7953"
             ],
             [
              0.7777777777777778,
              "#fb9f3a"
             ],
             [
              0.8888888888888888,
              "#fdca26"
             ],
             [
              1,
              "#f0f921"
             ]
            ],
            "type": "contour"
           }
          ],
          "contourcarpet": [
           {
            "colorbar": {
             "outlinewidth": 0,
             "ticks": ""
            },
            "type": "contourcarpet"
           }
          ],
          "heatmap": [
           {
            "colorbar": {
             "outlinewidth": 0,
             "ticks": ""
            },
            "colorscale": [
             [
              0,
              "#0d0887"
             ],
             [
              0.1111111111111111,
              "#46039f"
             ],
             [
              0.2222222222222222,
              "#7201a8"
             ],
             [
              0.3333333333333333,
              "#9c179e"
             ],
             [
              0.4444444444444444,
              "#bd3786"
             ],
             [
              0.5555555555555556,
              "#d8576b"
             ],
             [
              0.6666666666666666,
              "#ed7953"
             ],
             [
              0.7777777777777778,
              "#fb9f3a"
             ],
             [
              0.8888888888888888,
              "#fdca26"
             ],
             [
              1,
              "#f0f921"
             ]
            ],
            "type": "heatmap"
           }
          ],
          "heatmapgl": [
           {
            "colorbar": {
             "outlinewidth": 0,
             "ticks": ""
            },
            "colorscale": [
             [
              0,
              "#0d0887"
             ],
             [
              0.1111111111111111,
              "#46039f"
             ],
             [
              0.2222222222222222,
              "#7201a8"
             ],
             [
              0.3333333333333333,
              "#9c179e"
             ],
             [
              0.4444444444444444,
              "#bd3786"
             ],
             [
              0.5555555555555556,
              "#d8576b"
             ],
             [
              0.6666666666666666,
              "#ed7953"
             ],
             [
              0.7777777777777778,
              "#fb9f3a"
             ],
             [
              0.8888888888888888,
              "#fdca26"
             ],
             [
              1,
              "#f0f921"
             ]
            ],
            "type": "heatmapgl"
           }
          ],
          "histogram": [
           {
            "marker": {
             "pattern": {
              "fillmode": "overlay",
              "size": 10,
              "solidity": 0.2
             }
            },
            "type": "histogram"
           }
          ],
          "histogram2d": [
           {
            "colorbar": {
             "outlinewidth": 0,
             "ticks": ""
            },
            "colorscale": [
             [
              0,
              "#0d0887"
             ],
             [
              0.1111111111111111,
              "#46039f"
             ],
             [
              0.2222222222222222,
              "#7201a8"
             ],
             [
              0.3333333333333333,
              "#9c179e"
             ],
             [
              0.4444444444444444,
              "#bd3786"
             ],
             [
              0.5555555555555556,
              "#d8576b"
             ],
             [
              0.6666666666666666,
              "#ed7953"
             ],
             [
              0.7777777777777778,
              "#fb9f3a"
             ],
             [
              0.8888888888888888,
              "#fdca26"
             ],
             [
              1,
              "#f0f921"
             ]
            ],
            "type": "histogram2d"
           }
          ],
          "histogram2dcontour": [
           {
            "colorbar": {
             "outlinewidth": 0,
             "ticks": ""
            },
            "colorscale": [
             [
              0,
              "#0d0887"
             ],
             [
              0.1111111111111111,
              "#46039f"
             ],
             [
              0.2222222222222222,
              "#7201a8"
             ],
             [
              0.3333333333333333,
              "#9c179e"
             ],
             [
              0.4444444444444444,
              "#bd3786"
             ],
             [
              0.5555555555555556,
              "#d8576b"
             ],
             [
              0.6666666666666666,
              "#ed7953"
             ],
             [
              0.7777777777777778,
              "#fb9f3a"
             ],
             [
              0.8888888888888888,
              "#fdca26"
             ],
             [
              1,
              "#f0f921"
             ]
            ],
            "type": "histogram2dcontour"
           }
          ],
          "mesh3d": [
           {
            "colorbar": {
             "outlinewidth": 0,
             "ticks": ""
            },
            "type": "mesh3d"
           }
          ],
          "parcoords": [
           {
            "line": {
             "colorbar": {
              "outlinewidth": 0,
              "ticks": ""
             }
            },
            "type": "parcoords"
           }
          ],
          "pie": [
           {
            "automargin": true,
            "type": "pie"
           }
          ],
          "scatter": [
           {
            "fillpattern": {
             "fillmode": "overlay",
             "size": 10,
             "solidity": 0.2
            },
            "type": "scatter"
           }
          ],
          "scatter3d": [
           {
            "line": {
             "colorbar": {
              "outlinewidth": 0,
              "ticks": ""
             }
            },
            "marker": {
             "colorbar": {
              "outlinewidth": 0,
              "ticks": ""
             }
            },
            "type": "scatter3d"
           }
          ],
          "scattercarpet": [
           {
            "marker": {
             "colorbar": {
              "outlinewidth": 0,
              "ticks": ""
             }
            },
            "type": "scattercarpet"
           }
          ],
          "scattergeo": [
           {
            "marker": {
             "colorbar": {
              "outlinewidth": 0,
              "ticks": ""
             }
            },
            "type": "scattergeo"
           }
          ],
          "scattergl": [
           {
            "marker": {
             "colorbar": {
              "outlinewidth": 0,
              "ticks": ""
             }
            },
            "type": "scattergl"
           }
          ],
          "scattermapbox": [
           {
            "marker": {
             "colorbar": {
              "outlinewidth": 0,
              "ticks": ""
             }
            },
            "type": "scattermapbox"
           }
          ],
          "scatterpolar": [
           {
            "marker": {
             "colorbar": {
              "outlinewidth": 0,
              "ticks": ""
             }
            },
            "type": "scatterpolar"
           }
          ],
          "scatterpolargl": [
           {
            "marker": {
             "colorbar": {
              "outlinewidth": 0,
              "ticks": ""
             }
            },
            "type": "scatterpolargl"
           }
          ],
          "scatterternary": [
           {
            "marker": {
             "colorbar": {
              "outlinewidth": 0,
              "ticks": ""
             }
            },
            "type": "scatterternary"
           }
          ],
          "surface": [
           {
            "colorbar": {
             "outlinewidth": 0,
             "ticks": ""
            },
            "colorscale": [
             [
              0,
              "#0d0887"
             ],
             [
              0.1111111111111111,
              "#46039f"
             ],
             [
              0.2222222222222222,
              "#7201a8"
             ],
             [
              0.3333333333333333,
              "#9c179e"
             ],
             [
              0.4444444444444444,
              "#bd3786"
             ],
             [
              0.5555555555555556,
              "#d8576b"
             ],
             [
              0.6666666666666666,
              "#ed7953"
             ],
             [
              0.7777777777777778,
              "#fb9f3a"
             ],
             [
              0.8888888888888888,
              "#fdca26"
             ],
             [
              1,
              "#f0f921"
             ]
            ],
            "type": "surface"
           }
          ],
          "table": [
           {
            "cells": {
             "fill": {
              "color": "#EBF0F8"
             },
             "line": {
              "color": "white"
             }
            },
            "header": {
             "fill": {
              "color": "#C8D4E3"
             },
             "line": {
              "color": "white"
             }
            },
            "type": "table"
           }
          ]
         },
         "layout": {
          "annotationdefaults": {
           "arrowcolor": "#2a3f5f",
           "arrowhead": 0,
           "arrowwidth": 1
          },
          "autotypenumbers": "strict",
          "coloraxis": {
           "colorbar": {
            "outlinewidth": 0,
            "ticks": ""
           }
          },
          "colorscale": {
           "diverging": [
            [
             0,
             "#8e0152"
            ],
            [
             0.1,
             "#c51b7d"
            ],
            [
             0.2,
             "#de77ae"
            ],
            [
             0.3,
             "#f1b6da"
            ],
            [
             0.4,
             "#fde0ef"
            ],
            [
             0.5,
             "#f7f7f7"
            ],
            [
             0.6,
             "#e6f5d0"
            ],
            [
             0.7,
             "#b8e186"
            ],
            [
             0.8,
             "#7fbc41"
            ],
            [
             0.9,
             "#4d9221"
            ],
            [
             1,
             "#276419"
            ]
           ],
           "sequential": [
            [
             0,
             "#0d0887"
            ],
            [
             0.1111111111111111,
             "#46039f"
            ],
            [
             0.2222222222222222,
             "#7201a8"
            ],
            [
             0.3333333333333333,
             "#9c179e"
            ],
            [
             0.4444444444444444,
             "#bd3786"
            ],
            [
             0.5555555555555556,
             "#d8576b"
            ],
            [
             0.6666666666666666,
             "#ed7953"
            ],
            [
             0.7777777777777778,
             "#fb9f3a"
            ],
            [
             0.8888888888888888,
             "#fdca26"
            ],
            [
             1,
             "#f0f921"
            ]
           ],
           "sequentialminus": [
            [
             0,
             "#0d0887"
            ],
            [
             0.1111111111111111,
             "#46039f"
            ],
            [
             0.2222222222222222,
             "#7201a8"
            ],
            [
             0.3333333333333333,
             "#9c179e"
            ],
            [
             0.4444444444444444,
             "#bd3786"
            ],
            [
             0.5555555555555556,
             "#d8576b"
            ],
            [
             0.6666666666666666,
             "#ed7953"
            ],
            [
             0.7777777777777778,
             "#fb9f3a"
            ],
            [
             0.8888888888888888,
             "#fdca26"
            ],
            [
             1,
             "#f0f921"
            ]
           ]
          },
          "colorway": [
           "#636efa",
           "#EF553B",
           "#00cc96",
           "#ab63fa",
           "#FFA15A",
           "#19d3f3",
           "#FF6692",
           "#B6E880",
           "#FF97FF",
           "#FECB52"
          ],
          "font": {
           "color": "#2a3f5f"
          },
          "geo": {
           "bgcolor": "white",
           "lakecolor": "white",
           "landcolor": "#E5ECF6",
           "showlakes": true,
           "showland": true,
           "subunitcolor": "white"
          },
          "hoverlabel": {
           "align": "left"
          },
          "hovermode": "closest",
          "mapbox": {
           "style": "light"
          },
          "paper_bgcolor": "white",
          "plot_bgcolor": "#E5ECF6",
          "polar": {
           "angularaxis": {
            "gridcolor": "white",
            "linecolor": "white",
            "ticks": ""
           },
           "bgcolor": "#E5ECF6",
           "radialaxis": {
            "gridcolor": "white",
            "linecolor": "white",
            "ticks": ""
           }
          },
          "scene": {
           "xaxis": {
            "backgroundcolor": "#E5ECF6",
            "gridcolor": "white",
            "gridwidth": 2,
            "linecolor": "white",
            "showbackground": true,
            "ticks": "",
            "zerolinecolor": "white"
           },
           "yaxis": {
            "backgroundcolor": "#E5ECF6",
            "gridcolor": "white",
            "gridwidth": 2,
            "linecolor": "white",
            "showbackground": true,
            "ticks": "",
            "zerolinecolor": "white"
           },
           "zaxis": {
            "backgroundcolor": "#E5ECF6",
            "gridcolor": "white",
            "gridwidth": 2,
            "linecolor": "white",
            "showbackground": true,
            "ticks": "",
            "zerolinecolor": "white"
           }
          },
          "shapedefaults": {
           "line": {
            "color": "#2a3f5f"
           }
          },
          "ternary": {
           "aaxis": {
            "gridcolor": "white",
            "linecolor": "white",
            "ticks": ""
           },
           "baxis": {
            "gridcolor": "white",
            "linecolor": "white",
            "ticks": ""
           },
           "bgcolor": "#E5ECF6",
           "caxis": {
            "gridcolor": "white",
            "linecolor": "white",
            "ticks": ""
           }
          },
          "title": {
           "x": 0.05
          },
          "xaxis": {
           "automargin": true,
           "gridcolor": "white",
           "linecolor": "white",
           "ticks": "",
           "title": {
            "standoff": 15
           },
           "zerolinecolor": "white",
           "zerolinewidth": 2
          },
          "yaxis": {
           "automargin": true,
           "gridcolor": "white",
           "linecolor": "white",
           "ticks": "",
           "title": {
            "standoff": 15
           },
           "zerolinecolor": "white",
           "zerolinewidth": 2
          }
         }
        },
        "title": {
         "text": "Sankey Diagram"
        }
       }
      },
      "image/png": "[encoded data removed]",
      "text/html": [
       "<div>                            <div id=\"3efcfb7c-f047-4dcf-834d-bb261f1aebf2\" class=\"plotly-graph-div\" style=\"height:525px; width:100%;\"></div>            <script type=\"text/javascript\">                require([\"plotly\"], function(Plotly) {                    window.PLOTLYENV=window.PLOTLYENV || {};                                    if (document.getElementById(\"3efcfb7c-f047-4dcf-834d-bb261f1aebf2\")) {                    Plotly.newPlot(                        \"3efcfb7c-f047-4dcf-834d-bb261f1aebf2\",                        [{\"link\":{\"source\":[0,0,1,2,3,4,5,6,5,6,5,7,6,8,1,9,10,11,6,12,6,12,12,13,14,14,8,4,15,8,8,4,4,16,17,2,2,18,16,9,19,20,8,4,21,17,19,22,23,4,2,15,1,24,9,13,6,25,19,9,22,25,26,8,20,1,23,6,9,8,9,27,22,9,28,16,24,21,8,9,8,29,9,25,19,30,31,32,33,25,14,23,1,4,4,34,35,36,1,1],\"target\":[5,6,2,1,4,3,3,14,37,1,22,23,12,7,9,8,3,6,8,6,19,13,15,1,20,10,4,8,1,9,10,16,19,4,2,17,19,6,25,23,4,8,2,22,22,9,2,4,4,23,8,19,4,10,11,19,31,16,9,16,25,22,8,26,24,21,9,29,19,30,1,22,27,29,17,9,7,37,21,17,32,7,12,1,25,24,9,12,23,8,34,36,36,38,17,8,9,8,28,33],\"value\":[3036094,2723382,2104122,2099970,1788480,1766371,1239442,1063314,990239,956647,852989,808136,769428,687661,677254,595240,583600,459380,398556,398142,393253,372651,361777,257350,257219,257219,251208,235083,228613,203970,203954,201347,195072,173216,170580,170078,168951,164797,163118,159552,155201,154486,150966,148407,146771,145981,144703,142748,137002,136669,131480,117086,115979,110028,108610,108086,108010,106767,101824,101569,98385,91814,91373,89522,87974,83740,83196,82155,79985,79188,74905,71497,71439,70615,70465,70039,69306,67199,64825,64181,59932,59332,57129,55532,54380,52721,47903,47694,47621,47468,47330,46284,45109,44723,42890,41394,41005,39921,39319,38826]},\"node\":{\"color\":[\"rgb(52,76,33)\",\"rgb(160,140,203)\",\"rgb(220,213,115)\",\"rgb(88,213,240)\",\"rgb(132,172,39)\",\"rgb(188,162,34)\",\"rgb(208,180,147)\",\"rgb(229,141,39)\",\"rgb(70,9,124)\",\"rgb(167,29,72)\",\"rgb(106,23,94)\",\"rgb(244,86,211)\",\"rgb(123,67,22)\",\"rgb(109,164,225)\",\"rgb(122,7,202)\",\"rgb(50,20,218)\",\"rgb(248,236,58)\",\"rgb(165,38,140)\",\"rgb(17,41,158)\",\"rgb(76,19,208)\",\"rgb(148,116,92)\",\"rgb(204,221,217)\",\"rgb(177,194,107)\",\"rgb(108,126,196)\",\"rgb(192,82,169)\",\"rgb(65,88,170)\",\"rgb(168,14,164)\",\"rgb(48,91,65)\",\"rgb(168,192,62)\",\"rgb(103,95,183)\",\"rgb(1,105,216)\",\"rgb(135,242,97)\",\"rgb(160,100,85)\",\"rgb(93,207,75)\",\"rgb(112,108,245)\",\"rgb(8,190,222)\",\"rgb(190,245,27)\",\"rgb(148,6,85)\",\"rgb(101,214,75)\"],\"label\":[\"biolink:Pathway\",\"biolink:SmallMolecule\",\"biolink:physically_interacts_with\",\"biolink:OrganismTaxon\",\"biolink:subclass_of\",\"biolink:occurs_in\",\"biolink:has_participant\",\"biolink:gene_associated_with_condition\",\"biolink:Protein\",\"biolink:related_to\",\"biolink:in_taxon\",\"biolink:PhysiologicalProcess\",\"biolink:MolecularActivity\",\"biolink:has_output\",\"biolink:Transcript\",\"biolink:has_input\",\"biolink:Drug\",\"biolink:ChemicalEntity\",\"biolink:BiologicalProcess\",\"biolink:MolecularEntity\",\"biolink:transcribed_from\",\"biolink:located_in\",\"biolink:AnatomicalEntity\",\"biolink:Disease\",\"biolink:Gene\",\"biolink:has_part\",\"biolink:interacts_with\",\"biolink:coexists_with\",\"biolink:close_match\",\"biolink:ChemicalEntityOrGeneOrGeneProduct\",\"biolink:gene_product_of\",\"biolink:Polypeptide\",\"biolink:enables\",\"biolink:treats\",\"biolink:translates_to\",\"biolink:Cell\",\"biolink:affects\",\"biolink:CellularComponent\",\"biolink:BiologicalEntity\"],\"line\":{\"color\":\"black\",\"width\":0.5},\"pad\":15,\"thickness\":20},\"type\":\"sankey\"}],                        {\"template\":{\"data\":{\"histogram2dcontour\":[{\"type\":\"histogram2dcontour\",\"colorbar\":{\"outlinewidth\":0,\"ticks\":\"\"},\"colorscale\":[[0.0,\"#0d0887\"],[0.1111111111111111,\"#46039f\"],[0.2222222222222222,\"#7201a8\"],[0.3333333333333333,\"#9c179e\"],[0.4444444444444444,\"#bd3786\"],[0.5555555555555556,\"#d8576b\"],[0.6666666666666666,\"#ed7953\"],[0.7777777777777778,\"#fb9f3a\"],[0.8888888888888888,\"#fdca26\"],[1.0,\"#f0f921\"]]}],\"choropleth\":[{\"type\":\"choropleth\",\"colorbar\":{\"outlinewidth\":0,\"ticks\":\"\"}}],\"histogram2d\":[{\"type\":\"histogram2d\",\"colorbar\":{\"outlinewidth\":0,\"ticks\":\"\"},\"colorscale\":[[0.0,\"#0d0887\"],[0.1111111111111111,\"#46039f\"],[0.2222222222222222,\"#7201a8\"],[0.3333333333333333,\"#9c179e\"],[0.4444444444444444,\"#bd3786\"],[0.5555555555555556,\"#d8576b\"],[0.6666666666666666,\"#ed7953\"],[0.7777777777777778,\"#fb9f3a\"],[0.8888888888888888,\"#fdca26\"],[1.0,\"#f0f921\"]]}],\"heatmap\":[{\"type\":\"heatmap\",\"colorbar\":{\"outlinewidth\":0,\"ticks\":\"\"},\"colorscale\":[[0.0,\"#0d0887\"],[0.1111111111111111,\"#46039f\"],[0.2222222222222222,\"#7201a8\"],[0.3333333333333333,\"#9c179e\"],[0.4444444444444444,\"#bd3786\"],[0.5555555555555556,\"#d8576b\"],[0.6666666666666666,\"#ed7953\"],[0.7777777777777778,\"#fb9f3a\"],[0.8888888888888888,\"#fdca26\"],[1.0,\"#f0f921\"]]}],\"heatmapgl\":[{\"type\":\"heatmapgl\",\"colorbar\":{\"outlinewidth\":0,\"ticks\":\"\"},\"colorscale\":[[0.0,\"#0d0887\"],[0.1111111111111111,\"#46039f\"],[0.2222222222222222,\"#7201a8\"],[0.3333333333333333,\"#9c179e\"],[0.4444444444444444,\"#bd3786\"],[0.5555555555555556,\"#d8576b\"],[0.6666666666666666,\"#ed7953\"],[0.7777777777777778,\"#fb9f3a\"],[0.8888888888888888,\"#fdca26\"],[1.0,\"#f0f921\"]]}],\"contourcarpet\":[{\"type\":\"contourcarpet\",\"colorbar\":{\"outlinewidth\":0,\"ticks\":\"\"}}],\"contour\":[{\"type\":\"contour\",\"colorbar\":{\"outlinewidth\":0,\"ticks\":\"\"},\"colorscale\":[[0.0,\"#0d0887\"],[0.1111111111111111,\"#46039f\"],[0.2222222222222222,\"#7201a8\"],[0.3333333333333333,\"#9c179e\"],[0.4444444444444444,\"#bd3786\"],[0.5555555555555556,\"#d8576b\"],[0.6666666666666666,\"#ed7953\"],[0.7777777777777778,\"#fb9f3a\"],[0.8888888888888888,\"#fdca26\"],[1.0,\"#f0f921\"]]}],\"surface\":[{\"type\":\"surface\",\"colorbar\":{\"outlinewidth\":0,\"ticks\":\"\"},\"colorscale\":[[0.0,\"#0d0887\"],[0.1111111111111111,\"#46039f\"],[0.2222222222222222,\"#7201a8\"],[0.3333333333333333,\"#9c179e\"],[0.4444444444444444,\"#bd3786\"],[0.5555555555555556,\"#d8576b\"],[0.6666666666666666,\"#ed7953\"],[0.7777777777777778,\"#fb9f3a\"],[0.8888888888888888,\"#fdca26\"],[1.0,\"#f0f921\"]]}],\"mesh3d\":[{\"type\":\"mesh3d\",\"colorbar\":{\"outlinewidth\":0,\"ticks\":\"\"}}],\"scatter\":[{\"fillpattern\":{\"fillmode\":\"overlay\",\"size\":10,\"solidity\":0.2},\"type\":\"scatter\"}],\"parcoords\":[{\"type\":\"parcoords\",\"line\":{\"colorbar\":{\"outlinewidth\":0,\"ticks\":\"\"}}}],\"scatterpolargl\":[{\"type\":\"scatterpolargl\",\"marker\":{\"colorbar\":{\"outlinewidth\":0,\"ticks\":\"\"}}}],\"bar\":[{\"error_x\":{\"color\":\"#2a3f5f\"},\"error_y\":{\"color\":\"#2a3f5f\"},\"marker\":{\"line\":{\"color\":\"#E5ECF6\",\"width\":0.5},\"pattern\":{\"fillmode\":\"overlay\",\"size\":10,\"solidity\":0.2}},\"type\":\"bar\"}],\"scattergeo\":[{\"type\":\"scattergeo\",\"marker\":{\"colorbar\":{\"outlinewidth\":0,\"ticks\":\"\"}}}],\"scatterpolar\":[{\"type\":\"scatterpolar\",\"marker\":{\"colorbar\":{\"outlinewidth\":0,\"ticks\":\"\"}}}],\"histogram\":[{\"marker\":{\"pattern\":{\"fillmode\":\"overlay\",\"size\":10,\"solidity\":0.2}},\"type\":\"histogram\"}],\"scattergl\":[{\"type\":\"scattergl\",\"marker\":{\"colorbar\":{\"outlinewidth\":0,\"ticks\":\"\"}}}],\"scatter3d\":[{\"type\":\"scatter3d\",\"line\":{\"colorbar\":{\"outlinewidth\":0,\"ticks\":\"\"}},\"marker\":{\"colorbar\":{\"outlinewidth\":0,\"ticks\":\"\"}}}],\"scattermapbox\":[{\"type\":\"scattermapbox\",\"marker\":{\"colorbar\":{\"outlinewidth\":0,\"ticks\":\"\"}}}],\"scatterternary\":[{\"type\":\"scatterternary\",\"marker\":{\"colorbar\":{\"outlinewidth\":0,\"ticks\":\"\"}}}],\"scattercarpet\":[{\"type\":\"scattercarpet\",\"marker\":{\"colorbar\":{\"outlinewidth\":0,\"ticks\":\"\"}}}],\"carpet\":[{\"aaxis\":{\"endlinecolor\":\"#2a3f5f\",\"gridcolor\":\"white\",\"linecolor\":\"white\",\"minorgridcolor\":\"white\",\"startlinecolor\":\"#2a3f5f\"},\"baxis\":{\"endlinecolor\":\"#2a3f5f\",\"gridcolor\":\"white\",\"linecolor\":\"white\",\"minorgridcolor\":\"white\",\"startlinecolor\":\"#2a3f5f\"},\"type\":\"carpet\"}],\"table\":[{\"cells\":{\"fill\":{\"color\":\"#EBF0F8\"},\"line\":{\"color\":\"white\"}},\"header\":{\"fill\":{\"color\":\"#C8D4E3\"},\"line\":{\"color\":\"white\"}},\"type\":\"table\"}],\"barpolar\":[{\"marker\":{\"line\":{\"color\":\"#E5ECF6\",\"width\":0.5},\"pattern\":{\"fillmode\":\"overlay\",\"size\":10,\"solidity\":0.2}},\"type\":\"barpolar\"}],\"pie\":[{\"automargin\":true,\"type\":\"pie\"}]},\"layout\":{\"autotypenumbers\":\"strict\",\"colorway\":[\"#636efa\",\"#EF553B\",\"#00cc96\",\"#ab63fa\",\"#FFA15A\",\"#19d3f3\",\"#FF6692\",\"#B6E880\",\"#FF97FF\",\"#FECB52\"],\"font\":{\"color\":\"#2a3f5f\"},\"hovermode\":\"closest\",\"hoverlabel\":{\"align\":\"left\"},\"paper_bgcolor\":\"white\",\"plot_bgcolor\":\"#E5ECF6\",\"polar\":{\"bgcolor\":\"#E5ECF6\",\"angularaxis\":{\"gridcolor\":\"white\",\"linecolor\":\"white\",\"ticks\":\"\"},\"radialaxis\":{\"gridcolor\":\"white\",\"linecolor\":\"white\",\"ticks\":\"\"}},\"ternary\":{\"bgcolor\":\"#E5ECF6\",\"aaxis\":{\"gridcolor\":\"white\",\"linecolor\":\"white\",\"ticks\":\"\"},\"baxis\":{\"gridcolor\":\"white\",\"linecolor\":\"white\",\"ticks\":\"\"},\"caxis\":{\"gridcolor\":\"white\",\"linecolor\":\"white\",\"ticks\":\"\"}},\"coloraxis\":{\"colorbar\":{\"outlinewidth\":0,\"ticks\":\"\"}},\"colorscale\":{\"sequential\":[[0.0,\"#0d0887\"],[0.1111111111111111,\"#46039f\"],[0.2222222222222222,\"#7201a8\"],[0.3333333333333333,\"#9c179e\"],[0.4444444444444444,\"#bd3786\"],[0.5555555555555556,\"#d8576b\"],[0.6666666666666666,\"#ed7953\"],[0.7777777777777778,\"#fb9f3a\"],[0.8888888888888888,\"#fdca26\"],[1.0,\"#f0f921\"]],\"sequentialminus\":[[0.0,\"#0d0887\"],[0.1111111111111111,\"#46039f\"],[0.2222222222222222,\"#7201a8\"],[0.3333333333333333,\"#9c179e\"],[0.4444444444444444,\"#bd3786\"],[0.5555555555555556,\"#d8576b\"],[0.6666666666666666,\"#ed7953\"],[0.7777777777777778,\"#fb9f3a\"],[0.8888888888888888,\"#fdca26\"],[1.0,\"#f0f921\"]],\"diverging\":[[0,\"#8e0152\"],[0.1,\"#c51b7d\"],[0.2,\"#de77ae\"],[0.3,\"#f1b6da\"],[0.4,\"#fde0ef\"],[0.5,\"#f7f7f7\"],[0.6,\"#e6f5d0\"],[0.7,\"#b8e186\"],[0.8,\"#7fbc41\"],[0.9,\"#4d9221\"],[1,\"#276419\"]]},\"xaxis\":{\"gridcolor\":\"white\",\"linecolor\":\"white\",\"ticks\":\"\",\"title\":{\"standoff\":15},\"zerolinecolor\":\"white\",\"automargin\":true,\"zerolinewidth\":2},\"yaxis\":{\"gridcolor\":\"white\",\"linecolor\":\"white\",\"ticks\":\"\",\"title\":{\"standoff\":15},\"zerolinecolor\":\"white\",\"automargin\":true,\"zerolinewidth\":2},\"scene\":{\"xaxis\":{\"backgroundcolor\":\"#E5ECF6\",\"gridcolor\":\"white\",\"linecolor\":\"white\",\"showbackground\":true,\"ticks\":\"\",\"zerolinecolor\":\"white\",\"gridwidth\":2},\"yaxis\":{\"backgroundcolor\":\"#E5ECF6\",\"gridcolor\":\"white\",\"linecolor\":\"white\",\"showbackground\":true,\"ticks\":\"\",\"zerolinecolor\":\"white\",\"gridwidth\":2},\"zaxis\":{\"backgroundcolor\":\"#E5ECF6\",\"gridcolor\":\"white\",\"linecolor\":\"white\",\"showbackground\":true,\"ticks\":\"\",\"zerolinecolor\":\"white\",\"gridwidth\":2}},\"shapedefaults\":{\"line\":{\"color\":\"#2a3f5f\"}},\"annotationdefaults\":{\"arrowcolor\":\"#2a3f5f\",\"arrowhead\":0,\"arrowwidth\":1},\"geo\":{\"bgcolor\":\"white\",\"landcolor\":\"#E5ECF6\",\"subunitcolor\":\"white\",\"showland\":true,\"showlakes\":true,\"lakecolor\":\"white\"},\"title\":{\"x\":0.05},\"mapbox\":{\"style\":\"light\"}}},\"title\":{\"text\":\"Sankey Diagram\"},\"font\":{\"size\":10}},                        {\"responsive\": true}                    ).then(function(){\n",
       "                            \n",
       "var gd = document.getElementById('3efcfb7c-f047-4dcf-834d-bb261f1aebf2');\n",
       "var x = new MutationObserver(function (mutations, observer) {{\n",
       "        var display = window.getComputedStyle(gd).display;\n",
       "        if (!display || display === 'none') {{\n",
       "            console.log([gd, 'removed!']);\n",
       "            Plotly.purge(gd);\n",
       "            observer.disconnect();\n",
       "        }}\n",
       "}});\n",
       "\n",
       "// Listen for the removal of the full notebook cells\n",
       "var notebookContainer = gd.closest('#notebook-container');\n",
       "if (notebookContainer) {{\n",
       "    x.observe(notebookContainer, {childList: true});\n",
       "}}\n",
       "\n",
       "// Listen for the clearing of the current output cell\n",
       "var outputEl = gd.closest('.output');\n",
       "if (outputEl) {{\n",
       "    x.observe(outputEl, {childList: true});\n",
       "}}\n",
       "\n",
       "                        })                };                });            </script>        </div>"
      ]
     },
     "metadata": {},
     "output_type": "display_data"
    }
   ],
   "source": [
    "# NOTE: This function was partially generated using AI assistance.\n",
    "import plotly.graph_objects as go\n",
    "import pandas as pd\n",
    "import numpy as np\n",
    "\n",
    "def create_sankey_diagram(df, title=\"Sankey Diagram\"):\n",
    "    # Prepare the data\n",
    "    all_nodes = pd.concat([df['source'], df['sink']]).unique()\n",
    "    node_indices = {node: index for index, node in enumerate(all_nodes)}\n",
    "\n",
    "    # Create color scale\n",
    "    n_colors = len(all_nodes)\n",
    "    colors = [f'rgb({r},{g},{b})' for r, g, b in np.random.randint(0, 255, size=(n_colors, 3))]\n",
    "\n",
    "    # Prepare the Sankey diagram data\n",
    "    link_source = [node_indices[source] for source in df['source']]\n",
    "    link_target = [node_indices[sink] for sink in df['sink']]\n",
    "    link_value = df['value']\n",
    "\n",
    "    # Create the figure\n",
    "    fig = go.Figure(data=[go.Sankey(\n",
    "        node = dict(\n",
    "          pad = 15,\n",
    "          thickness = 20,\n",
    "          line = dict(color = \"black\", width = 0.5),\n",
    "          label = list(all_nodes),\n",
    "          color = colors\n",
    "        ),\n",
    "        link = dict(\n",
    "          source = link_source,\n",
    "          target = link_target,\n",
    "          value = link_value\n",
    "    ))])\n",
    "\n",
    "    # Update the layout\n",
    "    fig.update_layout(title_text=title, font_size=10)\n",
    "\n",
    "    return fig\n",
    "\n",
    "# Usage example:\n",
    "sankey_top_100 = sankey_data.sort_values(\"value\", ascending=False)[:100]\n",
    "fig = create_sankey_diagram(sankey_top_100)\n",
    "fig.show()"
   ]
  },
  {
   "cell_type": "code",
   "execution_count": 21,
   "metadata": {},
   "outputs": [
    {
     "data": {
      "text/html": [
       "<pre style=\"white-space:pre;overflow-x:auto;line-height:normal;font-family:Menlo,'DejaVu Sans Mono',consolas,'Courier New',monospace\"></pre>\n"
      ],
      "text/plain": []
     },
     "metadata": {},
     "output_type": "display_data"
    },
    {
     "data": {
      "text/html": [
       "<div>\n",
       "<style scoped>\n",
       "    .dataframe tbody tr th:only-of-type {\n",
       "        vertical-align: middle;\n",
       "    }\n",
       "\n",
       "    .dataframe tbody tr th {\n",
       "        vertical-align: top;\n",
       "    }\n",
       "\n",
       "    .dataframe thead th {\n",
       "        text-align: right;\n",
       "    }\n",
       "</style>\n",
       "<table border=\"1\" class=\"dataframe\">\n",
       "  <thead>\n",
       "    <tr style=\"text-align: right;\">\n",
       "      <th></th>\n",
       "      <th>source</th>\n",
       "      <th>sink</th>\n",
       "      <th>value</th>\n",
       "    </tr>\n",
       "  </thead>\n",
       "  <tbody>\n",
       "    <tr>\n",
       "      <th>357</th>\n",
       "      <td>biolink:Pathway</td>\n",
       "      <td>biolink:occurs_in</td>\n",
       "      <td>3036094</td>\n",
       "    </tr>\n",
       "    <tr>\n",
       "      <th>693</th>\n",
       "      <td>biolink:Pathway</td>\n",
       "      <td>biolink:has_participant</td>\n",
       "      <td>2723382</td>\n",
       "    </tr>\n",
       "    <tr>\n",
       "      <th>825</th>\n",
       "      <td>biolink:SmallMolecule</td>\n",
       "      <td>biolink:physically_interacts_with</td>\n",
       "      <td>2104122</td>\n",
       "    </tr>\n",
       "    <tr>\n",
       "      <th>1024</th>\n",
       "      <td>biolink:physically_interacts_with</td>\n",
       "      <td>biolink:SmallMolecule</td>\n",
       "      <td>2099970</td>\n",
       "    </tr>\n",
       "    <tr>\n",
       "      <th>443</th>\n",
       "      <td>biolink:OrganismTaxon</td>\n",
       "      <td>biolink:subclass_of</td>\n",
       "      <td>1788480</td>\n",
       "    </tr>\n",
       "    <tr>\n",
       "      <th>...</th>\n",
       "      <td>...</td>\n",
       "      <td>...</td>\n",
       "      <td>...</td>\n",
       "    </tr>\n",
       "    <tr>\n",
       "      <th>1777</th>\n",
       "      <td>biolink:translates_to</td>\n",
       "      <td>biolink:Protein</td>\n",
       "      <td>41394</td>\n",
       "    </tr>\n",
       "    <tr>\n",
       "      <th>915</th>\n",
       "      <td>biolink:Cell</td>\n",
       "      <td>biolink:related_to</td>\n",
       "      <td>41005</td>\n",
       "    </tr>\n",
       "    <tr>\n",
       "      <th>1035</th>\n",
       "      <td>biolink:affects</td>\n",
       "      <td>biolink:Protein</td>\n",
       "      <td>39921</td>\n",
       "    </tr>\n",
       "    <tr>\n",
       "      <th>833</th>\n",
       "      <td>biolink:SmallMolecule</td>\n",
       "      <td>biolink:close_match</td>\n",
       "      <td>39319</td>\n",
       "    </tr>\n",
       "    <tr>\n",
       "      <th>74</th>\n",
       "      <td>biolink:SmallMolecule</td>\n",
       "      <td>biolink:treats</td>\n",
       "      <td>38826</td>\n",
       "    </tr>\n",
       "  </tbody>\n",
       "</table>\n",
       "<p>100 rows × 3 columns</p>\n",
       "</div>"
      ],
      "text/plain": [
       "\n",
       "                                 source                               sink  \\\n",
       "\u001b[1;36m357\u001b[0m                     biolink:Pathway                  biolink:occurs_in   \n",
       "\u001b[1;36m693\u001b[0m                     biolink:Pathway            biolink:has_participant   \n",
       "\u001b[1;36m825\u001b[0m               biolink:SmallMolecule  biolink:physically_interacts_with   \n",
       "\u001b[1;36m1024\u001b[0m  biolink:physically_interacts_with              biolink:SmallMolecule   \n",
       "\u001b[1;36m443\u001b[0m               biolink:OrganismTaxon                biolink:subclass_of   \n",
       "\u001b[33m...\u001b[0m                                 \u001b[33m...\u001b[0m                                \u001b[33m...\u001b[0m   \n",
       "\u001b[1;36m1777\u001b[0m              biolink:translates_to                    biolink:Protein   \n",
       "\u001b[1;36m915\u001b[0m                        biolink:Cell                 biolink:related_to   \n",
       "\u001b[1;36m1035\u001b[0m                    biolink:affects                    biolink:Protein   \n",
       "\u001b[1;36m833\u001b[0m               biolink:SmallMolecule                biolink:close_match   \n",
       "\u001b[1;36m74\u001b[0m                biolink:SmallMolecule                     biolink:treats   \n",
       "\n",
       "        value  \n",
       "\u001b[1;36m357\u001b[0m   \u001b[1;36m3036094\u001b[0m  \n",
       "\u001b[1;36m693\u001b[0m   \u001b[1;36m2723382\u001b[0m  \n",
       "\u001b[1;36m825\u001b[0m   \u001b[1;36m2104122\u001b[0m  \n",
       "\u001b[1;36m1024\u001b[0m  \u001b[1;36m2099970\u001b[0m  \n",
       "\u001b[1;36m443\u001b[0m   \u001b[1;36m1788480\u001b[0m  \n",
       "\u001b[33m...\u001b[0m       \u001b[33m...\u001b[0m  \n",
       "\u001b[1;36m1777\u001b[0m    \u001b[1;36m41394\u001b[0m  \n",
       "\u001b[1;36m915\u001b[0m     \u001b[1;36m41005\u001b[0m  \n",
       "\u001b[1;36m1035\u001b[0m    \u001b[1;36m39921\u001b[0m  \n",
       "\u001b[1;36m833\u001b[0m     \u001b[1;36m39319\u001b[0m  \n",
       "\u001b[1;36m74\u001b[0m      \u001b[1;36m38826\u001b[0m  \n",
       "\n",
       "\u001b[1m[\u001b[0m\u001b[1;36m100\u001b[0m rows x \u001b[1;36m3\u001b[0m columns\u001b[1m]\u001b[0m"
      ]
     },
     "execution_count": 21,
     "metadata": {},
     "output_type": "execute_result"
    }
   ],
   "source": [
    "sankey_data.sort_values(\"value\", ascending=False)[:100]"
   ]
  },
  {
   "cell_type": "code",
   "execution_count": null,
   "metadata": {},
   "outputs": [],
   "source": []
  }
 ],
 "metadata": {
  "kernelspec": {
   "display_name": "Python 3 (ipykernel)",
   "language": "python",
   "name": "python3"
  },
  "language_info": {
   "codemirror_mode": {
    "name": "ipython",
    "version": 3
   },
   "file_extension": ".py",
   "mimetype": "text/x-python",
   "name": "python",
   "nbconvert_exporter": "python",
   "pygments_lexer": "ipython3",
   "version": "3.11.9"
  }
 },
 "nbformat": 4,
 "nbformat_minor": 4
}
