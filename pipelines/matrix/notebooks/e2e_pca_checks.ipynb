{
 "cells": [
  {
   "cell_type": "markdown",
   "metadata": {},
   "source": [
    "OpenAI\n",
    "* v8 - 100 layers lr 0.001 1024 1024 dimensions of nn layers\n",
    "* v7 - 100 iter lr 0.001 256 256 dimensions of nn layers\n",
    "* v6 - 500 iter lr 0.001\n",
    "* v5 - 100 iter lr 0.001\n",
    "* v4 - 100 iter lr 0.0001 - early stopped\n",
    "* v2 - 10 iter lr 0.01\n",
    "* v1 - 100 iter lr 0.001 - not early stopped  \n",
    "* v0 - old parameters\n",
    "\n",
    "\n",
    "PubMED\n",
    "* v6 - 1000 iter lr 0.0001 tolerance 1e-6 - \n",
    "* v5 - 10 iter lr 0.0001 - \n",
    "* v4 - 200 iter lr 0.0001 \n",
    "* v3 - 200 iter\n",
    "* v2 - 100 iter - might be accidentally overwritten\n",
    "* v1 - 50 iter \n",
    "* v0 - old parameters\n"
   ]
  },
  {
   "cell_type": "code",
   "execution_count": null,
   "metadata": {},
   "outputs": [],
   "source": [
    "# attribute pubmed"
   ]
  },
  {
   "cell_type": "code",
   "execution_count": null,
   "metadata": {},
   "outputs": [],
   "source": [
    "# 1 epoch 1 iter relu"
   ]
  },
  {
   "cell_type": "code",
   "execution_count": null,
   "metadata": {},
   "outputs": [],
   "source": [
    "# 1 epoch 1 iter sigmoid"
   ]
  },
  {
   "cell_type": "code",
   "execution_count": null,
   "metadata": {},
   "outputs": [],
   "source": [
    "# 1 epochs 10 iter sigmoid"
   ]
  },
  {
   "cell_type": "code",
   "execution_count": null,
   "metadata": {},
   "outputs": [],
   "source": [
    "# 1 epochs 10 iter relu"
   ]
  },
  {
   "cell_type": "code",
   "execution_count": null,
   "metadata": {},
   "outputs": [],
   "source": [
    "# 2 epochs 10 iter sigmoid"
   ]
  },
  {
   "cell_type": "code",
   "execution_count": null,
   "metadata": {},
   "outputs": [],
   "source": [
    "# 2 epochs 10 iter relu"
   ]
  },
  {
   "cell_type": "code",
   "execution_count": null,
   "metadata": {},
   "outputs": [],
   "source": [
    "# 1 epoch 20 iterations sigmoid\n"
   ]
  },
  {
   "cell_type": "code",
   "execution_count": null,
   "metadata": {},
   "outputs": [],
   "source": [
    "# 1 epoch 20 iter relu"
   ]
  },
  {
   "cell_type": "code",
   "execution_count": null,
   "metadata": {},
   "outputs": [],
   "source": [
    "import os\n",
    "import subprocess\n",
    "from pathlib import Path\n",
    "\n",
    "root_path = subprocess.check_output(['git', 'rev-parse', '--show-toplevel']).decode().strip()\n",
    "os.chdir(Path(root_path) / 'pipelines' / 'matrix')\n"
   ]
  },
  {
   "cell_type": "code",
   "execution_count": null,
   "metadata": {},
   "outputs": [],
   "source": [
    "openai_graph = pd.read_csv('notebooks/topological_embeddings_20240820.csv', index_col=0)"
   ]
  },
  {
   "cell_type": "code",
   "execution_count": null,
   "metadata": {},
   "outputs": [],
   "source": [
    "openai_graph.id"
   ]
  },
  {
   "cell_type": "code",
   "execution_count": null,
   "metadata": {},
   "outputs": [],
   "source": [
    "openai_graph_sub = openai_graph[openai_graph.id.isin(openai_graphsage.id)]"
   ]
  },
  {
   "cell_type": "code",
   "execution_count": null,
   "metadata": {},
   "outputs": [],
   "source": [
    "import numpy as np \n",
    "\n",
    "openai_graph_np = np.fromstring(str(openai_graph_sub.topological_embedding).strip('[]'), sep=' ')"
   ]
  },
  {
   "cell_type": "code",
   "execution_count": null,
   "metadata": {},
   "outputs": [],
   "source": [
    "topological_values = [np.fromstring(key.strip('[]'), sep=' ') for key in openai_graph_sub.topological_embedding.values]"
   ]
  },
  {
   "cell_type": "code",
   "execution_count": null,
   "metadata": {},
   "outputs": [],
   "source": [
    "openai_graph_pca"
   ]
  },
  {
   "cell_type": "code",
   "execution_count": null,
   "metadata": {},
   "outputs": [],
   "source": [
    "openai_graphsage_sub = openai_graphsage[openai_graphsage.id.isin(openai_graph_sub.id)]"
   ]
  },
  {
   "cell_type": "code",
   "execution_count": null,
   "metadata": {},
   "outputs": [],
   "source": [
    "openai_graphsage_sub.topological_embeddings"
   ]
  },
  {
   "cell_type": "code",
   "execution_count": null,
   "metadata": {},
   "outputs": [],
   "source": [
    "node_values = [np.fromstring(key.strip('[]'), sep=' ') for key in openai_graphsage_sub.embedding.values]"
   ]
  },
  {
   "cell_type": "code",
   "execution_count": null,
   "metadata": {},
   "outputs": [],
   "source": [
    "openai_graphsage_sub.embedding.values.tolist()"
   ]
  },
  {
   "cell_type": "code",
   "execution_count": null,
   "metadata": {},
   "outputs": [],
   "source": [
    "from sklearn.decomposition import PCA \n",
    "import seaborn as sns\n",
    "\n",
    "\n",
    "pca=PCA(n_components=2)\n",
    "openai_graph_pca = pd.DataFrame(pca.fit_transform(openai_graphsage_sub.embedding.values.tolist()))\n",
    "\n",
    "#metadata = pd.read_parquet('../data/03_primary/rtx_kg2/subnodes/')\n",
    "#openai_graph_pca['category']=metadata.category\n",
    "sns.scatterplot(x=openai_graph_pca.iloc[:,0], y=openai_graph_pca.iloc[:,1], legend=False)\n",
    "plt.title('Attribute Embeddings ')"
   ]
  },
  {
   "cell_type": "code",
   "execution_count": null,
   "metadata": {},
   "outputs": [],
   "source": [
    "from sklearn.decomposition import PCA \n",
    "import seaborn as sns\n",
    "import matplotlib.pyplot as plt \n",
    "#openai_graph = pd.DataFrame(openai_graph_sub.topological_embedding.values.tolist())\n",
    "\n",
    "pca=PCA(n_components=2)\n",
    "openai_graph_pca = pd.DataFrame(pca.fit_transform(topological_values))\n",
    "\n",
    "#metadata = pd.read_parquet('../data/03_primary/rtx_kg2/subnodes/')\n",
    "#openai_graph_pca['category']=metadata.category\n",
    "plt.subplot(1,2,1)\n",
    "sns.scatterplot(x=openai_graph_pca.iloc[:,0], y=openai_graph_pca.iloc[:,1], legend=False)\n",
    "plt.title('topological Embeddings ')\n",
    "plt.subplot(1,2,2)\n",
    "\n",
    "openai_graph_pca = pd.DataFrame(pca.fit_transform(openai_graphsage_sub.embedding.values.tolist()))\n",
    "sns.scatterplot(x=openai_graph_pca.iloc[:,0], y=openai_graph_pca.iloc[:,1], legend=False)\n",
    "plt.title('non-topological Embeddings ')\n",
    "plt.show()"
   ]
  },
  {
   "cell_type": "code",
   "execution_count": null,
   "metadata": {},
   "outputs": [],
   "source": [
    "openai_graph_sub"
   ]
  },
  {
   "cell_type": "code",
   "execution_count": null,
   "metadata": {},
   "outputs": [],
   "source": [
    "import pandas as pd \n",
    "\n",
    "openai_graphsage = pd.read_parquet('data/temp_embed/openai_att_embed')"
   ]
  },
  {
   "cell_type": "code",
   "execution_count": null,
   "metadata": {},
   "outputs": [],
   "source": [
    "openai_graphsage"
   ]
  },
  {
   "cell_type": "code",
   "execution_count": null,
   "metadata": {},
   "outputs": [],
   "source": [
    "import pandas as pd \n",
    "import numpy as np\n",
    "\n",
    "openai_graph = pd.read_csv('notebooks/topological_embeddings_20240820.csv', index_col=0)\n",
    "\n",
    "openai_graph['topological_embedding'] = [np.fromstring(key.strip('[]'), sep=' ') for key in openai_graph.topological_embedding]\n",
    "\n",
    "from sklearn.decomposition import PCA\n",
    "\n",
    "pca = PCA(n_components = 2 )\n",
    "top_embed = pd.DataFrame(pca.fit_transform(pd.DataFrame(openai_graph['topological_embedding'].tolist())))\n",
    "\n",
    "metadata = pd.read_parquet('data/03_primary/rtx_kg2/subnodes/')\n",
    "top_embed['category']=metadata.category\n",
    "\n",
    "import matplotlib.pyplot as plt \n",
    "\n",
    "sns.scatterplot(data=top_embed, x=0, y=1 top_embed.transpose()[1], hue='category')\n",
    "plt.show()"
   ]
  },
  {
   "cell_type": "code",
   "execution_count": null,
   "metadata": {},
   "outputs": [],
   "source": [
    "import matplotlib.pyplot as plt \n",
    "import seaborn as sns\n",
    "sns.scatterplot(data=top_embed, x=0, y=1, hue='category', legend=False)\n",
    "plt.show()"
   ]
  },
  {
   "cell_type": "code",
   "execution_count": null,
   "metadata": {},
   "outputs": [],
   "source": [
    "plt.hist(np.array(openai_graph.topological_embedding.values).flatten())"
   ]
  },
  {
   "cell_type": "code",
   "execution_count": null,
   "metadata": {},
   "outputs": [],
   "source": [
    "import mlflow\n",
    "from sklearn.decomposition import PCA\n",
    "import pandas as pd\n",
    "mlflow.set_tracking_uri('127.0.0.1:5001')\n",
    "\n",
    "mlflow.set_experiment(\"Visualization PCA\")\n",
    "\n",
    "nodes = pd.DataFrame(pd.read_parquet('../data/04_feature/nodes').topological_embedding.tolist())\n",
    "#to_csv('../data/temp_graphsage/openai_v7.csv')\n",
    "pca = PCA(n_components=2)\n",
    "pca_nodes = pd.DataFrame(pca.fit_transform(nodes))\n",
    "#pca_nodes.to_csv('../data/temp_graphsage/openai_v8.csv')\n",
    "\n",
    "import seaborn as sns\n",
    "import matplotlib.pyplot as plt \n",
    "\n",
    "fig, ax = plt.subplots(1,1)\n",
    "sns.scatterplot(data = pd.DataFrame(pca_nodes), x=0, y=1, alpha=0.2, ax=ax,legend=False)\n",
    "plt.close(fig)\n",
    "\n",
    "with mlflow.start_run() as run:\n",
    "    # Log plots\n",
    "    mlflow.log_figure(fig, \"PCA_pubmed.png\")\n",
    "fig\n"
   ]
  },
  {
   "cell_type": "code",
   "execution_count": null,
   "metadata": {},
   "outputs": [],
   "source": [
    "import mlflow\n",
    "from sklearn.decomposition import PCA\n",
    "import pandas as pd\n",
    "mlflow.set_tracking_uri('127.0.0.1:5001')\n",
    "\n",
    "mlflow.set_experiment(\"Visualization PCA\")\n",
    "\n",
    "nodes = pd.DataFrame(pd.read_parquet('../data/04_feature/nodes').topological_embedding.tolist())\n",
    "#to_csv('../data/temp_graphsage/openai_v7.csv')\n",
    "pca = PCA(n_components=2)\n",
    "pca_nodes = pd.DataFrame(pca.fit_transform(nodes))\n",
    "#pca_nodes.to_csv('../data/temp_graphsage/openai_v7.csv')\n",
    "\n",
    "import seaborn as sns\n",
    "import matplotlib.pyplot as plt \n",
    "\n",
    "fig, ax = plt.subplots(1,1)\n",
    "sns.scatterplot(data = pd.DataFrame(pca_nodes), x=0, y=1, alpha=0.2, ax=ax,legend=False)\n",
    "plt.close(fig)\n",
    "\n",
    "with mlflow.start_run() as run:\n",
    "    # Log plots\n",
    "    mlflow.log_figure(fig, \"PCA_pubmed.png\")\n",
    "fig\n"
   ]
  },
  {
   "cell_type": "code",
   "execution_count": null,
   "metadata": {},
   "outputs": [],
   "source": [
    "import numpy as np\n",
    "sns.kdeplot(np.array(nodes).var(axis=1).flatten())"
   ]
  },
  {
   "cell_type": "code",
   "execution_count": null,
   "metadata": {},
   "outputs": [],
   "source": [
    "import numpy as np\n",
    "sns.kdeplot(np.array(nodes).flatten())"
   ]
  },
  {
   "cell_type": "markdown",
   "metadata": {},
   "source": [
    "## PubmedBERT"
   ]
  },
  {
   "cell_type": "code",
   "execution_count": null,
   "metadata": {},
   "outputs": [],
   "source": [
    "pubmed_graphsage_pca =pd.read_csv('../data/temp_graphsage/pubmed_v6.csv', index_col=0)\n",
    "metadata = pd.read_parquet('../data/03_primary/rtx_kg2/subnodes/')\n",
    "pubmed_graphsage_pca['category']=metadata.category\n",
    "sns.scatterplot(x=pubmed_graphsage_pca.iloc[:,0], y=pubmed_graphsage_pca.iloc[:,1], hue=pubmed_graphsage_pca.iloc[:,2], legend=False)\n",
    "plt.title('Max Iter 500, lr 0.0001')"
   ]
  },
  {
   "cell_type": "code",
   "execution_count": null,
   "metadata": {},
   "outputs": [],
   "source": [
    "sns.scatterplot(x=pca_nodes.iloc[:,0], y=pca_nodes.iloc[:,1], hue=pca_nodes.iloc[:,2], legend=False)\n",
    "plt.title('Max Iter 100 (total 1000 iterations)')"
   ]
  },
  {
   "cell_type": "code",
   "execution_count": null,
   "metadata": {},
   "outputs": [],
   "source": [
    "sns.scatterplot(x=pca_nodes.iloc[:,0], y=pca_nodes.iloc[:,1], hue=pca_nodes.iloc[:,2], legend=False)\n",
    "plt.title('Max Iter 100 (total 1000 iterations)')"
   ]
  },
  {
   "cell_type": "code",
   "execution_count": null,
   "metadata": {},
   "outputs": [],
   "source": [
    "pubmed_graphsage = pd.read_parquet('../data/temp_graphsage/pubmed_graphsage')\n",
    "pubmed_graphsage = pd.DataFrame(pubmed_graphsage.topological_embedding.values.tolist())\n",
    "\n",
    "pca=PCA(n_components=2)\n",
    "pubmed_graphsage_pca = pd.DataFrame(pca.fit_transform(pubmed_graphsage))\n",
    "\n",
    "metadata = pd.read_parquet('../data/03_primary/rtx_kg2/subnodes/')\n",
    "pubmed_graphsage_pca['category']=metadata.category\n",
    "sns.scatterplot(x=pubmed_graphsage_pca.iloc[:,0], y=pubmed_graphsage_pca.iloc[:,1], hue=pubmed_graphsage_pca.iloc[:,2], legend=False)\n",
    "plt.title('Old params (pre-troubleshooting)')"
   ]
  },
  {
   "cell_type": "code",
   "execution_count": null,
   "metadata": {},
   "outputs": [],
   "source": [
    "fig, ax = plt.subplots(1,1)\n",
    "sns.scatterplot(data = pd.DataFrame(pca_nodes), x=0, y=1, alpha=0.2, ax=ax,legend=False, hue='category')\n",
    "plt.title('Max Iter 200 lr 0.0001')\n",
    "# attribute embeddings"
   ]
  },
  {
   "cell_type": "markdown",
   "metadata": {},
   "source": [
    "## OpenAI"
   ]
  },
  {
   "cell_type": "code",
   "execution_count": null,
   "metadata": {},
   "outputs": [],
   "source": [
    "openai_graphsage_pca =pd.read_csv('../data/temp_graphsage/openai_v8.csv', index_col=0)\n",
    "metadata = pd.read_parquet('../data/03_primary/rtx_kg2/subnodes/')\n",
    "openai_graphsage_pca['category']=metadata.category\n",
    "sns.scatterplot(x=openai_graphsage_pca.iloc[:,0], y=openai_graphsage_pca.iloc[:,1], hue=openai_graphsage_pca.iloc[:,2], legend=False)\n",
    "plt.title('Max Iter 100, lr 0.0001, 1024 neurons')"
   ]
  },
  {
   "cell_type": "code",
   "execution_count": null,
   "metadata": {},
   "outputs": [],
   "source": [
    "openai_graphsage_pca =pd.read_csv('../data/temp_graphsage/openai_v6.csv', index_col=0)\n",
    "metadata = pd.read_parquet('../data/03_primary/rtx_kg2/subnodes/')\n",
    "openai_graphsage_pca['category']=metadata.category\n",
    "sns.scatterplot(x=openai_graphsage_pca.iloc[:,0], y=openai_graphsage_pca.iloc[:,1], hue=openai_graphsage_pca.iloc[:,2], legend=False)\n",
    "plt.title('Max Iter 500, lr 0.0001')"
   ]
  },
  {
   "cell_type": "code",
   "execution_count": null,
   "metadata": {},
   "outputs": [],
   "source": [
    "openai_graphsage_pca =pd.read_csv('../data/temp_graphsage/openai_v5.csv', index_col=0)\n",
    "metadata = pd.read_parquet('../data/03_primary/rtx_kg2/subnodes/')\n",
    "openai_graphsage_pca['category']=metadata.category\n",
    "sns.scatterplot(x=openai_graphsage_pca.iloc[:,0], y=openai_graphsage_pca.iloc[:,1], hue=openai_graphsage_pca.iloc[:,2], legend=False)\n",
    "plt.title('Max Iter 100, lr 0.0001 (not early stopped)')"
   ]
  },
  {
   "cell_type": "code",
   "execution_count": null,
   "metadata": {},
   "outputs": [],
   "source": [
    "openai_graphsage_pca =pd.read_csv('../data/temp_graphsage/openai_v4.csv', index_col=0)\n",
    "metadata = pd.read_parquet('../data/03_primary/rtx_kg2/subnodes/')\n",
    "openai_graphsage_pca['category']=metadata.category\n",
    "sns.scatterplot(x=openai_graphsage_pca.iloc[:,0], y=openai_graphsage_pca.iloc[:,1], hue=openai_graphsage_pca.iloc[:,2], legend=False)\n",
    "plt.title('Max Iter 100, lr 0.0001 (early stopped)')"
   ]
  },
  {
   "cell_type": "code",
   "execution_count": null,
   "metadata": {},
   "outputs": [],
   "source": [
    "\n",
    "openai_graphsage_pca =pd.read_csv('../data/temp_graphsage/openai_v7.csv', index_col=0)\n",
    "metadata = pd.read_parquet('../data/03_primary/rtx_kg2/subnodes/')\n",
    "openai_graphsage_pca['category']=metadata.category\n",
    "sns.scatterplot(x=openai_graphsage_pca.iloc[:,0], y=openai_graphsage_pca.iloc[:,1], hue=openai_graphsage_pca.iloc[:,2], legend=False)\n",
    "plt.title('Max Iter 100, [256,256] layers ')"
   ]
  },
  {
   "cell_type": "code",
   "execution_count": null,
   "metadata": {},
   "outputs": [],
   "source": [
    "\n",
    "openai_graphsage_pca =pd.read_csv('../data/temp_graphsage/openai_v1.csv', index_col=0)\n",
    "metadata = pd.read_parquet('../data/03_primary/rtx_kg2/subnodes/')\n",
    "openai_graphsage_pca['category']=metadata.category\n",
    "sns.scatterplot(x=openai_graphsage_pca.iloc[:,0], y=openai_graphsage_pca.iloc[:,1], hue=openai_graphsage_pca.iloc[:,2], legend=False)\n",
    "plt.title('Max Iter 100 ')"
   ]
  },
  {
   "cell_type": "code",
   "execution_count": null,
   "metadata": {},
   "outputs": [],
   "source": [
    "\n",
    "openai_graphsage_pca =pd.read_csv('../data/temp_graphsage/openai_v5.csv', index_col=0)\n",
    "\n",
    "metadata = pd.read_parquet('../data/03_primary/rtx_kg2/subnodes/')\n",
    "openai_graphsage_pca['category']=metadata.category\n",
    "sns.scatterplot(x=openai_graphsage_pca.iloc[:,0], y=openai_graphsage_pca.iloc[:,1], hue=openai_graphsage_pca.iloc[:,2], legend=False)\n",
    "plt.title('Max iter 10 learning rate 0.01')"
   ]
  },
  {
   "cell_type": "code",
   "execution_count": null,
   "metadata": {},
   "outputs": [],
   "source": [
    "\n",
    "openai_graphsage_pca =pd.read_csv('../data/temp_graphsage/openai_v0.csv', index_col=0)\n",
    "\n",
    "metadata = pd.read_parquet('../data/03_primary/rtx_kg2/subnodes/')\n",
    "openai_graphsage_pca['category']=metadata.category\n",
    "sns.scatterplot(x=openai_graphsage_pca.iloc[:,0], y=openai_graphsage_pca.iloc[:,1], hue=openai_graphsage_pca.iloc[:,2], legend=False)\n",
    "plt.title('Old params')"
   ]
  },
  {
   "cell_type": "code",
   "execution_count": null,
   "metadata": {},
   "outputs": [],
   "source": [
    "openai_graphsage = pd.read_parquet('data/temp_embed/openai_att_embed')\n",
    "openai_graphsage = pd.DataFrame(openai_graphsage.embedding.values.tolist())\n",
    "\n",
    "pca=PCA(n_components=2)\n",
    "openai_graphsage_pca = pd.DataFrame(pca.fit_transform(openai_graphsage))\n",
    "\n",
    "#metadata = pd.read_parquet('../data/03_primary/rtx_kg2/subnodes/')\n",
    "openai_graphsage_pca['category']=metadata.category\n",
    "sns.scatterplot(x=openai_graphsage_pca.iloc[:,0], y=openai_graphsage_pca.iloc[:,1], hue=openai_graphsage_pca.iloc[:,2], legend=False)\n",
    "plt.title('Attribute Embeddings ')"
   ]
  },
  {
   "cell_type": "code",
   "execution_count": null,
   "metadata": {},
   "outputs": [],
   "source": [
    "plt.hist(np.array(openai_graphsage).flatten())"
   ]
  }
 ],
 "metadata": {
  "kernelspec": {
   "display_name": ".venv",
   "language": "python",
   "name": "python3"
  },
  "language_info": {
   "codemirror_mode": {
    "name": "ipython",
    "version": 3
   },
   "file_extension": ".py",
   "mimetype": "text/x-python",
   "name": "python",
   "nbconvert_exporter": "python",
   "pygments_lexer": "ipython3",
   "version": "3.11.9"
  }
 },
 "nbformat": 4,
 "nbformat_minor": 2
}
