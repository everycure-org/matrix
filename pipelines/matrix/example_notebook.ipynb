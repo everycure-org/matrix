{
 "cells": [
  {
   "cell_type": "code",
   "execution_count": null,
   "metadata": {},
   "outputs": [],
   "source": [
    "# this loads various objects into the context, see \n",
    "# https://docs.kedro.org/en/stable/notebooks_and_ipython/kedro_and_notebooks.html#kedro-line-magics\n",
    "import os\n",
    "RELEASE_VERSION = \"v0.3.0\" #change the release version here easily\n",
    "os.environ[\"RELEASE_VERSION\"] = RELEASE_VERSION\n",
    "\n",
    "%load_ext kedro.ipython\n",
    "%reload_kedro  --env cloud"
   ]
  },
  {
   "cell_type": "markdown",
   "metadata": {},
   "source": [
    "## Accessing datasets easily through the catalog\n",
    "\n",
    "To access the kedro catalog now, simply call `catalog` in a cell and see the list of available datasets.\n",
    "\n",
    "```python\n",
    "catalog.list(\"unified\") # this function accepts any regular expression\n",
    "```\n",
    "\n",
    "> **Note it does not show dynamic datasets like `integration.int.{source}.edges`. This is a known issue we are trying to solve. You can still access them however by calling `catalog.load(\"integration.int.robokop.edges\")` for example\n",
    "\n",
    "\n"
   ]
  },
  {
   "cell_type": "code",
   "execution_count": null,
   "metadata": {},
   "outputs": [],
   "source": [
    "nodes = catalog.load(\"data_release.prm.bigquery_edges\")\n",
    "edges = catalog.load(\"data_release.prm.bigquery_nodes\")"
   ]
  },
  {
   "cell_type": "code",
   "execution_count": null,
   "metadata": {},
   "outputs": [],
   "source": [
    "nodes.groupBy(\"upstream_data_source\").count().show()\n",
    "edges.groupBy(\"upstream_data_source\").count().show()"
   ]
  },
  {
   "cell_type": "markdown",
   "metadata": {},
   "source": [
    "## Alternatively access the data through bigquery queries and google native tools\n",
    "\n",
    "Note these queries are run on BigQuery and only the results are loaded into the notebook. The results are loaded as pandas dataframes.\n",
    "\n",
    "This has the upside that you can perform complex calculations quickly but you need to be aware of [bigquery SQL](https://cloud.google.com/bigquery/docs/introduction-sql)"
   ]
  },
  {
   "cell_type": "code",
   "execution_count": null,
   "metadata": {},
   "outputs": [],
   "source": [
    "%%bigquery nodes_upstream_sources_count\n",
    "SELECT upstream_data_source, count(*) as count FROM `mtrx-hub-dev-3of.release_v0_3_0.nodes` GROUP BY upstream_data_source"
   ]
  }
 ],
 "metadata": {
  "kernelspec": {
   "display_name": ".venv",
   "language": "python",
   "name": "python3"
  },
  "language_info": {
   "codemirror_mode": {
    "name": "ipython",
    "version": 3
   },
   "file_extension": ".py",
   "mimetype": "text/x-python",
   "name": "python",
   "nbconvert_exporter": "python",
   "pygments_lexer": "ipython3",
   "version": "3.11.11"
  }
 },
 "nbformat": 4,
 "nbformat_minor": 2
}
