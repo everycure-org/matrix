{
 "cells": [
  {
   "cell_type": "markdown",
   "id": "1346f23e",
   "metadata": {},
   "source": [
    "# Report for primary knowledge sources in the Matrix KG\n",
    "\n",
    "This notebook is simulating the Kedro pipeline during development and should be deleted before merging the PR."
   ]
  },
  {
   "cell_type": "code",
   "execution_count": 33,
   "id": "58e33145",
   "metadata": {},
   "outputs": [],
   "source": [
    "import pandas as pd\n",
    "import yaml\n",
    "import json\n",
    "from typing import Dict, Any\n",
    "from pathlib import Path"
   ]
  },
  {
   "cell_type": "markdown",
   "id": "9762e5e0",
   "metadata": {},
   "source": [
    "# Utilities for reading and writing"
   ]
  },
  {
   "cell_type": "code",
   "execution_count": 34,
   "id": "02a79476",
   "metadata": {},
   "outputs": [],
   "source": [
    "import requests\n",
    "\n",
    "\n",
    "def save_yaml_file(data: Dict, url_path: str) -> None:\n",
    "    \"\"\"Save data to YAML file.\"\"\"\n",
    "    with open(url_path, 'w') as f:\n",
    "        yaml.dump(data, f, default_flow_style=False)\n",
    "\n",
    "def save_markdown_file(content: str, url_path: str) -> None:\n",
    "    \"\"\"Save content to markdown file.\"\"\"\n",
    "    with open(url_path, 'w') as f:\n",
    "        f.write(content)\n",
    "\n",
    "def load_yaml_file(url_path: str) -> Dict[str, Any]:\n",
    "    \"\"\"Load YAML file from local path or URL and return parsed data.\"\"\"\n",
    "    if str(url_path).startswith(\"http\"):\n",
    "        response = requests.get(url_path)\n",
    "        response.raise_for_status()\n",
    "        return yaml.safe_load(response.text)\n",
    "    else:\n",
    "        with open(url_path, 'r') as f:\n",
    "            return yaml.safe_load(f)\n",
    "\n",
    "def load_json_file(url_path: str) -> Dict[str, Any]:\n",
    "    \"\"\"Load JSON file from local path or URL and return parsed data.\"\"\"\n",
    "    if str(url_path).startswith(\"http\"):\n",
    "        response = requests.get(url_path)\n",
    "        response.raise_for_status()\n",
    "        return json.loads(response.text)\n",
    "    else:\n",
    "        with open(url_path, 'r') as f:\n",
    "            return json.load(f)\n"
   ]
  },
  {
   "cell_type": "markdown",
   "id": "e04f2c2e",
   "metadata": {},
   "source": [
    "# Set up file paths to simulate the pipeline outside the kedro environment"
   ]
  },
  {
   "cell_type": "code",
   "execution_count": null,
   "id": "4cd99fac",
   "metadata": {},
   "outputs": [],
   "source": [
    "# Outputs\n",
    "pks_md_file = Path(\"primary-knowledge-sources.md\")\n",
    "pks_yaml_file = Path(\"primary-knowledge-sources.yml\")\n",
    "\n",
    "infores_url = \"https://raw.githubusercontent.com/biolink/information-resource-registry/refs/heads/main/infores_catalog.yaml\"\n",
    "reusabledata_url = \"https://raw.githubusercontent.com/reusabledata/reusabledata/refs/heads/master/data.json\"\n",
    "kgregistry_url = \"https://raw.githubusercontent.com/Knowledge-Graph-Hub/kg-registry/refs/heads/main/registry/kgs.yml\"\n",
    "\n",
    "# Matrix curated information\n",
    "matrixcurated_url = \"https://docs.google.com/spreadsheets/d/e/2PACX-1vQxpQU80dpW9bo7STfrX7k9Wv70jA_2C4BN6tDceM1LEOfF9YL22OisdmaUPf7Ptw/pub?gid=135786799&single=true&output=tsv\"\n",
    "matrixreviews_url = \"https://docs.google.com/spreadsheets/d/e/2PACX-1vQxpQU80dpW9bo7STfrX7k9Wv70jA_2C4BN6tDceM1LEOfF9YL22OisdmaUPf7Ptw/pub?gid=1308154629&single=true&output=tsv\"\n",
    "\n",
    "# Mappings\n",
    "reusabledata_infores_mapping_url = \"https://raw.githubusercontent.com/matentzn/pks-resource/refs/heads/main/mappings/reusabledata-infores.sssom.tsv\"\n",
    "kgregistry_infores_mapping_url = \"https://raw.githubusercontent.com/matentzn/pks-resource/refs/heads/main/mappings/kgregistry-infores.sssom.tsv\"\n",
    "\n",
    "# Load infores_catalog.yml (YAML)\n",
    "infores_d = load_yaml_file(infores_url)\n",
    "\n",
    "# Load reusabledata.json (JSON)\n",
    "reusabledata_d = load_json_file(reusabledata_url)\n",
    "\n",
    "# Mapping: reusabledata -> infores\n",
    "reusabledata_mapping_d = pd.read_csv(reusabledata_infores_mapping_url, sep='\\t', comment=\"#\")\n",
    "\n",
    "# Load kgregistry.yml (YAML)\n",
    "kgregistry_d = load_yaml_file(kgregistry_url)\n",
    "kgregistry_mapping_d = pd.read_csv(kgregistry_infores_mapping_url, sep=\"\\t\", comment=\"#\")\n",
    "\n",
    "# Load manually curated data (TSV)\n",
    "matrixcurated_d = pd.read_csv(matrixcurated_url, sep=\"\\t\", dtype=str)\n",
    "matrixreviews_d = pd.read_csv(matrixreviews_url, sep=\"\\t\", dtype=str)\n",
    "\n",
    "pks_integrated = matrixcurated_d[['primary_knowledge_source']]\n"
   ]
  },
  {
   "cell_type": "markdown",
   "id": "459251f6",
   "metadata": {},
   "source": [
    "# Run the full pipeline to generate the YAML and documentation files"
   ]
  },
  {
   "cell_type": "code",
   "execution_count": null,
   "id": "a67f08dd",
   "metadata": {},
   "outputs": [
    {
     "name": "stderr",
     "output_type": "stream",
     "text": [
      "2025-09-19 07:55:40,369 - WARNING - Warning: Found potentially useful keys in matrixcurated that are not extracted: {'license_standard', 'license_restriction'}\n",
      "2025-09-19 07:55:40,370 - WARNING - Warning: Found potentially useful keys in matrixreviews that are not extracted: {'noise_penalty_adjustment', 'noise_penalty_adjustment_comment'}\n"
     ]
    }
   ],
   "source": [
    "from nodes import (\n",
    "    create_pks_integrated_metadata\n",
    ")\n",
    "\n",
    "matrix_subset_relevant_sources = create_pks_integrated_metadata(\n",
    "    infores=infores_d,\n",
    "    reusabledata=reusabledata_d,\n",
    "    kgregistry=kgregistry_d,\n",
    "    matrix_curated=matrixcurated_d,\n",
    "    matrix_reviews=matrixreviews_d,\n",
    "    pks_integrated=pks_integrated,\n",
    "    mapping_reusabledata_infores=reusabledata_mapping_d,\n",
    "    mapping_kgregistry_infores=kgregistry_mapping_d\n",
    ")"
   ]
  },
  {
   "cell_type": "markdown",
   "id": "40a7d7ee",
   "metadata": {},
   "source": [
    "# Writing YAML file\n",
    "\n",
    "This would usually be done by Kedro"
   ]
  },
  {
   "cell_type": "code",
   "execution_count": null,
   "id": "4efdea7e",
   "metadata": {},
   "outputs": [],
   "source": [
    "save_yaml_file(matrix_subset_relevant_sources, pks_yaml_file)"
   ]
  },
  {
   "cell_type": "markdown",
   "id": "3a458d82",
   "metadata": {},
   "source": [
    "# Load the integrated PKS YAML file\n",
    "\n",
    "This would usually be done by the Kedro"
   ]
  },
  {
   "cell_type": "code",
   "execution_count": null,
   "id": "c2860025",
   "metadata": {},
   "outputs": [],
   "source": [
    "matrix_subset_relevant_sources = load_yaml_file(pks_yaml_file)"
   ]
  },
  {
   "cell_type": "markdown",
   "id": "ef376134",
   "metadata": {},
   "source": [
    "# Run the documentation pipeline"
   ]
  },
  {
   "cell_type": "code",
   "execution_count": null,
   "id": "9b4d14da",
   "metadata": {},
   "outputs": [],
   "source": [
    "from nodes import (\n",
    "    create_pks_documentation\n",
    ")\n",
    "\n",
    "pks_markdown_documentation = create_pks_documentation(matrix_subset_relevant_sources)"
   ]
  },
  {
   "cell_type": "markdown",
   "id": "84394be2",
   "metadata": {},
   "source": [
    "# Writing the MD file\n",
    "\n",
    "This would usually be done by Kedro"
   ]
  },
  {
   "cell_type": "code",
   "execution_count": null,
   "id": "a9f1e404",
   "metadata": {},
   "outputs": [],
   "source": [
    "save_markdown_file(pks_markdown_documentation, pks_md_file)"
   ]
  }
 ],
 "metadata": {
  "kernelspec": {
   "display_name": "matrix (3.11.7)",
   "language": "python",
   "name": "python3"
  },
  "language_info": {
   "codemirror_mode": {
    "name": "ipython",
    "version": 3
   },
   "file_extension": ".py",
   "mimetype": "text/x-python",
   "name": "python",
   "nbconvert_exporter": "python",
   "pygments_lexer": "ipython3",
   "version": "3.11.7"
  }
 },
 "nbformat": 4,
 "nbformat_minor": 5
}
