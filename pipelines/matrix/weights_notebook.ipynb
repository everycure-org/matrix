{
 "cells": [
  {
   "cell_type": "markdown",
   "metadata": {},
   "source": [
    "# Sanity check on weights"
   ]
  },
  {
   "cell_type": "markdown",
   "metadata": {},
   "source": [
    "**Problem:** we need to avoid inputting drug-disease edges from our KG before inputting them to GraphSAGE to avoid data leakage. One solution was to assign zero-weights to drug-disease edges through GDS - this is beneficial from visualisation perspective. However we were unsure if zero-weighted drug-disease edges definitely dont provide any signal to GraphSAGE (e.g. are zero-weighted edges counted when calculating node degrees?). So here we examine if zero-weighted edges are equivalent to complete removal of edges.\n",
    "\n",
    "**Reproduction:** to reproduce the workflow, follow commit history in this branch:\n",
    "* step1 - codebase where drug-disease edges are assigned weight 0 in GDS; \n",
    "* step2 - codebase where all edges are assigned weight 1 in GDS;\n",
    "* step3 - codebase where we assign zero weights to drug-disease edges AND we remove drug-disease edges; \n",
    "* step4 - codebase where all edges are assigned weight 1 AND we remove drug-disease edges; \n",
    "* step5 - codebase where we dont assign any weights to edges AND we also don't remove drug-disease edges;\n",
    "* step6 - codebase where we dont assign any weights to edges AND we also don't remove drug-disease edges;\n",
    "\n",
    "Step3 and step4 are a bit redundant I realize so the most essential are step 1,2,5,6 \n",
    "\n",
    "The embeddings were obtained by simply running\n",
    "```\n",
    "Make wipe_neo\n",
    "kedro run -p integration --env base \n",
    "kedro run -p embeddings --env base\n",
    "```\n",
    "and then saving the output for the embeddings (`embeddings.model_output.graphsage` in `embeddings/catalog.yml`, I did it through ipython/jupyter)"
   ]
  },
  {
   "cell_type": "code",
   "execution_count": null,
   "metadata": {},
   "outputs": [],
   "source": [
    "# Import dependencies\n",
    "import pyspark as ps\n",
    "import os\n",
    "import pandas as pd \n",
    "import matplotlib.pyplot as plt \n",
    "from pathlib import Path\n",
    "import subprocess\n",
    "from pyspark.sql.functions import col, when\n",
    "\n",
    "from pyspark.sql import SparkSession\n",
    "spark = SparkSession.builder \\\n",
    "    .appName(\"ReadSavedDataFrame\") \\\n",
    "    .getOrCreate()\n",
    "\n",
    "\n",
    "%load_ext kedro.ipython\n",
    "%reload_kedro  --env base\n"
   ]
  },
  {
   "cell_type": "markdown",
   "metadata": {},
   "source": [
    "First, load output of graphsage (calculated embeddings) - I will upload them to gdrive if anyone is interesed - https://drive.google.com/drive/folders/1noAkqyU0rNaczTFp8ED_2wORtjbJmnMR - embed data folder"
   ]
  },
  {
   "cell_type": "code",
   "execution_count": null,
   "metadata": {},
   "outputs": [],
   "source": [
    "# compare\n",
    "step1=spark.read.parquet('scratch/embed_data/step1').toPandas()\n",
    "step2=spark.read.parquet('scratch/embed_data/step2').toPandas()\n",
    "step3=spark.read.parquet('scratch/embed_data/step3').toPandas()\n",
    "step4=spark.read.parquet('scratch/embed_data/step4').toPandas()\n",
    "step5=spark.read.parquet('scratch/embed_data/step5').toPandas()\n",
    "step6=spark.read.parquet('scratch/embed_data/step6').toPandas()\n"
   ]
  },
  {
   "cell_type": "markdown",
   "metadata": {},
   "source": [
    "If the zero-weighted edges are equivalent to not having edges, then embeddings from step1, step3, and step5 should be the same, while embeddings from step2, step4, and step5 should be equivalent"
   ]
  },
  {
   "cell_type": "code",
   "execution_count": null,
   "metadata": {},
   "outputs": [],
   "source": [
    "print(step1.equals(step3))\n",
    "print(step1.equals(step5))\n",
    "print(step3.equals(step5))\n"
   ]
  },
  {
   "cell_type": "markdown",
   "metadata": {},
   "source": [
    "Not what I expected, lets check further \n",
    "\n",
    "Step2 (when all weights are the same and all edges are present) should be equivalent to step6 (when no weighting is applied and all edges are present)"
   ]
  },
  {
   "cell_type": "code",
   "execution_count": null,
   "metadata": {},
   "outputs": [],
   "source": [
    "print(step2.equals(step6))"
   ]
  },
  {
   "cell_type": "markdown",
   "metadata": {},
   "source": [
    "## Embeddings raw"
   ]
  },
  {
   "cell_type": "code",
   "execution_count": null,
   "metadata": {},
   "outputs": [],
   "source": [
    "print(step1.topological_embedding.head(10))"
   ]
  },
  {
   "cell_type": "code",
   "execution_count": null,
   "metadata": {},
   "outputs": [],
   "source": [
    "print(step2.topological_embedding.head(10))"
   ]
  },
  {
   "cell_type": "code",
   "execution_count": null,
   "metadata": {},
   "outputs": [],
   "source": [
    "print(step3.topological_embedding.head(10))"
   ]
  },
  {
   "cell_type": "code",
   "execution_count": null,
   "metadata": {},
   "outputs": [],
   "source": [
    "print(step4.topological_embedding.head(10))"
   ]
  },
  {
   "cell_type": "code",
   "execution_count": null,
   "metadata": {},
   "outputs": [],
   "source": [
    "print(step5.topological_embedding.head(10))"
   ]
  },
  {
   "cell_type": "code",
   "execution_count": null,
   "metadata": {},
   "outputs": [],
   "source": [
    "print(step6.topological_embedding.head(10))"
   ]
  },
  {
   "cell_type": "markdown",
   "metadata": {},
   "source": [
    "TODO check umap, cosine, "
   ]
  }
 ],
 "metadata": {
  "kernelspec": {
   "display_name": "piotr_conda",
   "language": "python",
   "name": "python3"
  },
  "language_info": {
   "codemirror_mode": {
    "name": "ipython",
    "version": 3
   },
   "file_extension": ".py",
   "mimetype": "text/x-python",
   "name": "python",
   "nbconvert_exporter": "python",
   "pygments_lexer": "ipython3",
   "version": "3.11.9"
  }
 },
 "nbformat": 4,
 "nbformat_minor": 2
}
