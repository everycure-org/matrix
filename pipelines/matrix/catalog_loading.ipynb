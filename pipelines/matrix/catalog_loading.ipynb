{
 "cells": [
  {
   "cell_type": "code",
   "execution_count": null,
   "id": "0",
   "metadata": {},
   "outputs": [],
   "source": [
    "catalog.list()"
   ]
  },
  {
   "cell_type": "markdown",
   "id": "1",
   "metadata": {},
   "source": [
    "'embeddings.feat.bucketized_nodes@spark' is the output of the previous node (bucketize_nodes)"
   ]
  },
  {
   "cell_type": "code",
   "execution_count": null,
   "id": "2",
   "metadata": {},
   "outputs": [],
   "source": [
    "catalog.load('embeddings.feat.bucketized_nodes@spark')"
   ]
  },
  {
   "cell_type": "markdown",
   "id": "3",
   "metadata": {},
   "source": [
    "'embeddings.feat.bucketized_nodes@partitioned' is the input of embedding nodes. Why doesn't it align with the output of the last node?"
   ]
  },
  {
   "cell_type": "code",
   "execution_count": null,
   "id": "4",
   "metadata": {},
   "outputs": [],
   "source": [
    "catalog.load('embeddings.feat.bucketized_nodes@partitioned')"
   ]
  },
  {
   "cell_type": "markdown",
   "id": "5",
   "metadata": {},
   "source": [
    "Loading other datasets is okay"
   ]
  },
  {
   "cell_type": "code",
   "execution_count": null,
   "id": "6",
   "metadata": {},
   "outputs": [],
   "source": [
    "catalog.load('ingestion.raw.rtx_kg2.nodes@spark')"
   ]
  },
  {
   "cell_type": "code",
   "execution_count": null,
   "id": "7",
   "metadata": {},
   "outputs": [],
   "source": [
    "catalog.load(\"params:embeddings.node.batch_size\")"
   ]
  },
  {
   "cell_type": "code",
   "execution_count": null,
   "id": "8",
   "metadata": {},
   "outputs": [],
   "source": [
    "import os\n",
    "import pandas as pd\n",
    "import numpy as np\n",
    "\n",
    "folder_path = \"data/test/tmp/feat/bucketized_nodes\"\n",
    "\n",
    "dataframes = []\n",
    "\n",
    "for root, _, files in os.walk(folder_path):\n",
    "    for file in files:\n",
    "        if file.endswith(\".parquet\"): \n",
    "            file_path = os.path.join(root, file)\n",
    "            df = pd.read_parquet(file_path)\n",
    "            dataframes.append(df)\n",
    "\n",
    "combined_df = pd.concat(dataframes, ignore_index=True)\n",
    "\n",
    "print(combined_df)"
   ]
  },
  {
   "cell_type": "code",
   "execution_count": null,
   "id": "9",
   "metadata": {},
   "outputs": [],
   "source": [
    "text_length = combined_df[\"text_to_embed\"].str.len().tolist()\n",
    "print(text_length)"
   ]
  },
  {
   "cell_type": "code",
   "execution_count": null,
   "id": "10",
   "metadata": {},
   "outputs": [],
   "source": [
    "percentitles = np.percentile(text_length, [10, 25, 75, 90])\n",
    "print(percentitles)"
   ]
  }
 ],
 "metadata": {
  "kernelspec": {
   "display_name": "Kedro (matrix)",
   "language": "python",
   "name": "kedro_matrix"
  },
  "language_info": {
   "codemirror_mode": {
    "name": "ipython",
    "version": 3
   },
   "file_extension": ".py",
   "mimetype": "text/x-python",
   "name": "python",
   "nbconvert_exporter": "python",
   "pygments_lexer": "ipython3",
   "version": "3.11.10"
  }
 },
 "nbformat": 4,
 "nbformat_minor": 5
}
