{
 "cells": [
  {
   "cell_type": "code",
   "execution_count": 1,
   "id": "1f849cd7-61ac-43f0-b589-42952ecf866e",
   "metadata": {
    "nbsphinx": "hidden",
    "tags": [
     "hide-input"
    ]
   },
   "outputs": [],
   "source": [
    "import pandas as pd\n",
    "\n",
    "pd.set_option(\"display.max_rows\", 500)\n",
    "pd.set_option(\"display.max_columns\", 500)\n",
    "pd.set_option(\"display.width\", 1000)"
   ]
  },
  {
   "cell_type": "markdown",
   "id": "c5af8d92-4ae7-4d24-8a28-de4994fbd112",
   "metadata": {},
   "source": [
    "<!-- #region -->\n",
    "# Custom Functions\n",
    "It is possible to deploy your own custom function when it comes to `row_apply` or\n",
    "`column_apply`. Let's show some examples.\n",
    "\n",
    "\n",
    "## Row apply\n",
    "\n",
    "The `row_apply` function is where the `row_func` will receive each row as the\n",
    "input arguments.\n",
    "\n",
    "### Lambda Functions\n",
    "In most cases, you can rely on a lambda function if you wish to do this on the fly:\n",
    "<!-- #endregion -->"
   ]
  },
  {
   "cell_type": "code",
   "execution_count": 2,
   "id": "bd0dbcb0-80e3-400e-9b7f-efa1ba5fd8bc",
   "metadata": {
    "tags": []
   },
   "outputs": [
    {
     "name": "stdout",
     "output_type": "stream",
     "text": [
      "   id  id_plus_one  id_plus_id\n",
      "0   1            2           3\n",
      "1   2            3           5\n",
      "2   3            4           7\n",
      "3   4            5           9\n",
      "4   5            6          11\n",
      "5   6            7          13\n",
      "6   7            8          15\n",
      "7   8            9          17\n",
      "8   9           10          19\n",
      "9  10           11          21\n"
     ]
    }
   ],
   "source": [
    "from data_fabricator.v1.core.mock_generator import (\n",
    "    MockDataGenerator,\n",
    "    BaseTable,\n",
    "    UniqueId,\n",
    "    RowApply,\n",
    ")\n",
    "\n",
    "\n",
    "class SampleTable(BaseTable):\n",
    "    num_rows = 10\n",
    "    id = UniqueId()\n",
    "    id_plus_one = RowApply(\n",
    "        list_of_values=\"SampleTable.id\", row_func=\"lambda x: int(x)+1\"\n",
    "    )\n",
    "    id_plus_id = RowApply(\n",
    "        list_of_values=[\"SampleTable.id\", \"SampleTable.id_plus_one\"],\n",
    "        row_func=\"lambda *args: int(args[0]) + args[1]\",\n",
    "    )\n",
    "\n",
    "\n",
    "mock_generator = MockDataGenerator(tables=[SampleTable], seed=1)\n",
    "mock_generator.generate_all()\n",
    "\n",
    "print(mock_generator.tables[\"SampleTable\"].dataframe.head(10))"
   ]
  },
  {
   "cell_type": "markdown",
   "id": "f3dcf1a0-b299-42b1-9b63-c2c9c294e71d",
   "metadata": {},
   "source": [
    "Notice we can also pass in multiple column's row's into our custom function using\n",
    "the list syntax in the `list_of_values`. Also that `generate_unique_id` returns a\n",
    "string, so we need to convert it to an integer before doing any arithmatic.\n",
    "\n",
    "### Custom Functions\n",
    "If you wish to write more involved functions, you may do like the following:"
   ]
  },
  {
   "cell_type": "code",
   "execution_count": 3,
   "id": "19779ec5-b6b7-4500-b215-b2086afe894d",
   "metadata": {
    "tags": []
   },
   "outputs": [],
   "source": [
    "import yaml\n",
    "\n",
    "\n",
    "def my_custom_row_func1(x):\n",
    "    # this can be anything in here\n",
    "    print(f\"In my_custom_row_func1, x: {x}\")\n",
    "    return int(x) + 1\n",
    "\n",
    "\n",
    "def my_custom_row_func2(x, y):\n",
    "    # how to pass more than 1 argument\n",
    "    print(f\"In my_custom_row_func2, x: {x}\")\n",
    "    print(f\"In my_custom_row_func2, y: {y}\")\n",
    "    return int(x) + y\n",
    "\n",
    "\n",
    "config_str = \"\"\"\n",
    "tables:\n",
    "- _target_: data_fabricator.v1.core.mock_generator.create_table\n",
    "  name: sample_table\n",
    "  num_rows: 10\n",
    "  columns:\n",
    "    id:\n",
    "      _target_: data_fabricator.v1.core.mock_generator.UniqueId\n",
    "    id_plus_one:\n",
    "      _target_: data_fabricator.v1.core.mock_generator.RowApply\n",
    "      list_of_values: sample_table.id\n",
    "      row_func:\n",
    "        _target_: __main__.my_custom_row_func1\n",
    "        _partial_: True\n",
    "    id_plus_id:\n",
    "      _target_: data_fabricator.v1.core.mock_generator.RowApply\n",
    "      list_of_values: [sample_table.id, sample_table.id_plus_one]\n",
    "      row_func:\n",
    "        _target_: __main__.my_custom_row_func2\n",
    "        _partial_: True\n",
    "\"\"\"\n",
    "example_config = yaml.safe_load(config_str)"
   ]
  },
  {
   "cell_type": "code",
   "execution_count": 4,
   "id": "4457ac81-9a0e-4188-8ea9-8dca6452da88",
   "metadata": {
    "nbsphinx": "hidden",
    "tags": [
     "hide-input"
    ]
   },
   "outputs": [],
   "source": [
    "from data_fabricator.v1.nodes.hydra import hydra_instantiate_dictionary\n",
    "\n",
    "# function to return injected objects\n",
    "\n",
    "example_config = hydra_instantiate_dictionary(example_config)"
   ]
  },
  {
   "cell_type": "code",
   "execution_count": 5,
   "id": "8b53e87b-7ea0-41ac-b9e7-17ce0e04e79c",
   "metadata": {
    "tags": []
   },
   "outputs": [
    {
     "name": "stdout",
     "output_type": "stream",
     "text": [
      "In my_custom_row_func1, x: 1\n",
      "In my_custom_row_func1, x: 2\n",
      "In my_custom_row_func1, x: 3\n",
      "In my_custom_row_func1, x: 4\n",
      "In my_custom_row_func1, x: 5\n",
      "In my_custom_row_func1, x: 6\n",
      "In my_custom_row_func1, x: 7\n",
      "In my_custom_row_func1, x: 8\n",
      "In my_custom_row_func1, x: 9\n",
      "In my_custom_row_func1, x: 10\n",
      "In my_custom_row_func2, x: 1\n",
      "In my_custom_row_func2, y: 2\n",
      "In my_custom_row_func2, x: 2\n",
      "In my_custom_row_func2, y: 3\n",
      "In my_custom_row_func2, x: 3\n",
      "In my_custom_row_func2, y: 4\n",
      "In my_custom_row_func2, x: 4\n",
      "In my_custom_row_func2, y: 5\n",
      "In my_custom_row_func2, x: 5\n",
      "In my_custom_row_func2, y: 6\n",
      "In my_custom_row_func2, x: 6\n",
      "In my_custom_row_func2, y: 7\n",
      "In my_custom_row_func2, x: 7\n",
      "In my_custom_row_func2, y: 8\n",
      "In my_custom_row_func2, x: 8\n",
      "In my_custom_row_func2, y: 9\n",
      "In my_custom_row_func2, x: 9\n",
      "In my_custom_row_func2, y: 10\n",
      "In my_custom_row_func2, x: 10\n",
      "In my_custom_row_func2, y: 11\n",
      "{'sample_table': sample_table()}\n"
     ]
    }
   ],
   "source": [
    "from data_fabricator.v1.core.mock_generator import MockDataGenerator\n",
    "\n",
    "mock_generator = MockDataGenerator(tables=example_config[\"tables\"], seed=1)\n",
    "mock_generator.generate_all()\n",
    "\n",
    "print(mock_generator.tables)"
   ]
  },
  {
   "cell_type": "markdown",
   "id": "e76a5e0e-ebe0-4730-9e8a-5ad5693c18dd",
   "metadata": {},
   "source": [
    "In this particular case the function is defined under `__main__`, but similarly you\n",
    "can put in the full function path in your project. For example\n",
    "`row_func: my_project.module.function_file.function`.\n",
    "\n",
    "This pattern allows you to unit test specific functions if the logic is more involved.\n",
    "\n",
    "## Column Apply\n",
    "In `column_apply`, the entire column will be passed into the function, which grants\n",
    "you access to values across rows, which may be useful in some situations like\n",
    "grouping or sorting."
   ]
  },
  {
   "cell_type": "code",
   "execution_count": 6,
   "id": "018b3387-93f6-4a7b-b384-2f600c4775bf",
   "metadata": {
    "tags": []
   },
   "outputs": [
    {
     "name": "stdout",
     "output_type": "stream",
     "text": [
      "In my_custom_col_func1, x: ['1', '2', '3', '4', '5', '6', '7', '8', '9', '10']\n",
      "In my_custom_col_func2, x: ['1', '2', '3', '4', '5', '6', '7', '8', '9', '10']\n",
      "In my_custom_col_func2, y: ['1', '2', '3', '4', '5', '6', '7', '8', '9', '10']\n",
      "   id example_column_apply1 example_column_apply2  example_column_apply3\n",
      "0   1                     1                     1                     10\n",
      "1   2                     2                     2                      9\n",
      "2   3                     3                     3                      8\n",
      "3   4                     4                     4                      7\n",
      "4   5                     5                     5                      6\n",
      "5   6                     6                     6                      5\n",
      "6   7                     7                     7                      4\n",
      "7   8                     8                     8                      3\n",
      "8   9                     9                     9                      2\n",
      "9  10                    10                    10                      1\n"
     ]
    }
   ],
   "source": [
    "from data_fabricator.v1.core.mock_generator import MockDataGenerator, ColumnApply\n",
    "import yaml\n",
    "\n",
    "\n",
    "def my_custom_col_func1(x):\n",
    "    print(f\"In my_custom_col_func1, x: {x}\")\n",
    "    return x\n",
    "\n",
    "\n",
    "def my_custom_col_func2(x, y):\n",
    "    print(f\"In my_custom_col_func2, x: {x}\")\n",
    "    print(f\"In my_custom_col_func2, y: {y}\")\n",
    "    return x\n",
    "\n",
    "\n",
    "def reverse_values(x):\n",
    "    x = [int(_) for _ in x]\n",
    "    x.sort(reverse=True)\n",
    "    return x\n",
    "\n",
    "\n",
    "class SampleTable(BaseTable):\n",
    "    num_rows = 10\n",
    "    id = UniqueId()\n",
    "    example_column_apply1 = ColumnApply(\n",
    "        list_of_values=[\"SampleTable.id\"], column_func=my_custom_col_func1\n",
    "    )\n",
    "    example_column_apply2 = ColumnApply(\n",
    "        list_of_values=[\"SampleTable.id\", \"SampleTable.example_column_apply1\"],\n",
    "        column_func=my_custom_col_func2,\n",
    "    )\n",
    "    example_column_apply3 = ColumnApply(\n",
    "        list_of_values=[\"SampleTable.id\"], column_func=reverse_values\n",
    "    )\n",
    "\n",
    "\n",
    "mock_generator = MockDataGenerator(tables=[SampleTable], seed=1)\n",
    "mock_generator.generate_all()\n",
    "\n",
    "print(mock_generator.tables[\"SampleTable\"].dataframe.head(10))"
   ]
  },
  {
   "cell_type": "markdown",
   "id": "a8731b79-5eab-491b-b717-cc0c822d5b31",
   "metadata": {},
   "source": [
    "Notice the difference between `column_apply` and `row_apply`. The `row_apply` function is\n",
    "called 10 times, equivalent to the number of rows, but the `column_apply` is called once."
   ]
  }
 ],
 "metadata": {
  "celltoolbar": "Edit Metadata",
  "kernelspec": {
   "display_name": "qblabs-monorepo",
   "language": "python",
   "name": "qblabs-monorepo"
  },
  "language_info": {
   "codemirror_mode": {
    "name": "ipython",
    "version": 3
   },
   "file_extension": ".py",
   "mimetype": "text/x-python",
   "name": "python",
   "nbconvert_exporter": "python",
   "pygments_lexer": "ipython3",
   "version": "3.9.15"
  }
 },
 "nbformat": 4,
 "nbformat_minor": 5
}
