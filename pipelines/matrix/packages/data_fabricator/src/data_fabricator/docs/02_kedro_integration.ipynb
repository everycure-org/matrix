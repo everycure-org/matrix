{
 "cells": [
  {
   "cell_type": "code",
   "execution_count": 1,
   "id": "4d8a7e31-3503-481d-9b51-0c1613f37324",
   "metadata": {
    "nbsphinx": "hidden",
    "tags": [
     "hide-input"
    ]
   },
   "outputs": [],
   "source": [
    "import yaml\n",
    "from IPython.display import display, Markdown"
   ]
  },
  {
   "cell_type": "markdown",
   "id": "08074467-70f1-4980-be60-b7acbc3bd932",
   "metadata": {},
   "source": [
    "# Kedro Integration\n",
    "\n",
    "## TLDR\n",
    "\n",
    "As part of the package, we provide a node to accelerate the usage of \n",
    "`data_fabricator` utility. Below we provide a simple example of how this \n",
    "node can be used in a pipeline. \n",
    "\n",
    "* `hydra` is currently an optional dependency. To use this functionality you need to do `pip install brix.data_fabricator[hydra]`.  Alternatively, if you prefer to use other object injection frameworks, you can utilize the clean node provided in data_fabricator.v1.nodes.fabrication.fabricate_datasets. Please note that in such cases, you may need to adjust the syntax accordingly to suit your chosen framework.\n",
    "\n",
    "* Each parameter of the respective class is passed directly below.\n",
    "\n",
    "Let's say you have the following defined in `parameters.yml`."
   ]
  },
  {
   "cell_type": "code",
   "execution_count": 2,
   "id": "1ff817a8-87c8-4893-867c-90b82282fd2f",
   "metadata": {
    "tags": [
     "hide-input"
    ]
   },
   "outputs": [
    {
     "data": {
      "text/markdown": [
       "```yaml\n",
       "\n",
       "customers:\n",
       "  - _target_: data_fabricator.v1.core.mock_generator.create_table\n",
       "    name: customers\n",
       "    num_rows: 10\n",
       "    columns:\n",
       "      hcp_id:\n",
       "        _target_: data_fabricator.v1.core.mock_generator.PrimaryKey\n",
       "        prefix: hcp\n",
       "        id_start_range: 1\n",
       "        id_end_range: 11\n",
       "      ftr1:\n",
       "        _target_: data_fabricator.v1.core.mock_generator.RandomNumbers\n",
       "        start_range: 0\n",
       "        end_range: 1\n",
       "        prob_null_kwargs: \n",
       "          prob_null: 0.25\n",
       "  \n",
       "```"
      ],
      "text/plain": [
       "<IPython.core.display.Markdown object>"
      ]
     },
     "metadata": {},
     "output_type": "display_data"
    }
   ],
   "source": [
    "yaml_input_param = \"\"\"\n",
    "customers:\n",
    "  - _target_: data_fabricator.v1.core.mock_generator.create_table\n",
    "    name: customers\n",
    "    num_rows: 10\n",
    "    columns:\n",
    "      hcp_id:\n",
    "        _target_: data_fabricator.v1.core.mock_generator.PrimaryKey\n",
    "        prefix: hcp\n",
    "        id_start_range: 1\n",
    "        id_end_range: 11\n",
    "      ftr1:\n",
    "        _target_: data_fabricator.v1.core.mock_generator.RandomNumbers\n",
    "        start_range: 0\n",
    "        end_range: 1\n",
    "        prob_null_kwargs: \n",
    "          prob_null: 0.25\n",
    "  \"\"\"\n",
    "my_df_params = yaml.safe_load(yaml_input_param)\n",
    "display(Markdown(\"\\n\".join([\"```yaml\", yaml_input_param, \"```\"])))"
   ]
  },
  {
   "cell_type": "markdown",
   "id": "e7a1f9c8-3a5b-4915-a18c-10a8809b6cf9",
   "metadata": {},
   "source": [
    "We could imagine this parameter to be defined in a `parameters.yml` file and \n",
    "passed as an input to the node. For this example we pass it directly to the\n",
    "node."
   ]
  },
  {
   "cell_type": "code",
   "execution_count": 3,
   "id": "0b5e201b-e668-4855-8fc8-f92fdc9c2f21",
   "metadata": {
    "tags": []
   },
   "outputs": [],
   "source": [
    "from data_fabricator.v1.nodes.hydra import fabricate_datasets\n",
    "\n",
    "# Setting seed is not recommended for general use, please consider when to use seed\n",
    "output_datasets = fabricate_datasets(**my_df_params, seed=1)"
   ]
  },
  {
   "cell_type": "markdown",
   "id": "b3751301-892a-415f-85b4-18e2cdcafefc",
   "metadata": {},
   "source": [
    "`output_datasets` now contains a dictionary of datasets, just as `kedro` would expect.\n",
    "Let us show the generated customer dataset:"
   ]
  },
  {
   "cell_type": "code",
   "execution_count": 4,
   "id": "6d27ecc0-354e-41f9-8d0f-005ed63314a9",
   "metadata": {
    "tags": []
   },
   "outputs": [
    {
     "name": "stdout",
     "output_type": "stream",
     "text": [
      "+----+----------+-------------+\n",
      "|    | hcp_id   |        ftr1 |\n",
      "|----+----------+-------------|\n",
      "|  0 | hcp1     |   0.134364  |\n",
      "|  1 | hcp2     |   0.847434  |\n",
      "|  2 | hcp3     |   0.763775  |\n",
      "|  3 | hcp4     | nan         |\n",
      "|  4 | hcp5     |   0.495435  |\n",
      "|  5 | hcp6     |   0.449491  |\n",
      "|  6 | hcp7     | nan         |\n",
      "|  7 | hcp8     |   0.788723  |\n",
      "|  8 | hcp9     |   0.0938596 |\n",
      "|  9 | hcp10    | nan         |\n",
      "+----+----------+-------------+\n"
     ]
    }
   ],
   "source": [
    "from tabulate import tabulate\n",
    "\n",
    "customer_table = output_datasets[\"customers\"]\n",
    "print(tabulate(customer_table, headers=customer_table.columns, tablefmt=\"psql\"))"
   ]
  },
  {
   "cell_type": "markdown",
   "id": "6cd34c40-0e8a-415d-a5fe-6a5a7bd0747b",
   "metadata": {},
   "source": [
    "## Introduction\n",
    "If you have a Kedro project, you can generate mocked data by using `data_fabricator`.\n",
    "This documentation will provide the steps that are required to integrate with a \n",
    "Kedro project, we are using the example from `README.md` in this tutorial.\n",
    "\n",
    "## Step-by-step\n",
    "In order to configure your Kedro to use `data_fabricator`, there are steps you need to follow:\n",
    "\n",
    "* Modify your `parameters.yml` file.\n",
    "* Modify your `catalog.yml` file.\n",
    "* Create your `pipeline.py` file.\n",
    "* Register your pipelines into `pipeline_registry.py` file."
   ]
  },
  {
   "cell_type": "code",
   "execution_count": 5,
   "id": "600e55d8-9611-4a62-9a68-dfc278cb8ab6",
   "metadata": {
    "tags": [
     "hide-input"
    ]
   },
   "outputs": [],
   "source": [
    "import os\n",
    "\n",
    "if os.environ.get(\"CIRCLECI\"):\n",
    "    default_env = os.environ.get(\"CONDA_DEFAULT_ENV\")\n",
    "    os.environ[\n",
    "        \"PYSPARK_DRIVER_PYTHON\"\n",
    "    ] = f\"/home/circleci/miniconda/envs/{default_env}/bin/python\"\n",
    "    os.environ[\n",
    "        \"PYSPARK_PYTHON\"\n",
    "    ] = f\"/home/circleci/miniconda/envs/{default_env}/bin/python\"\n",
    "os.environ[\"NUMEXPR_MAX_THREADS\"] = \"32\""
   ]
  },
  {
   "cell_type": "code",
   "execution_count": 6,
   "id": "1983b72d-bb3f-4ddb-b56a-6437ed92000f",
   "metadata": {
    "tags": [
     "hide-input"
    ]
   },
   "outputs": [],
   "source": [
    "import sys\n",
    "from pathlib import Path\n",
    "\n",
    "current_path = Path(os.curdir).absolute()\n",
    "sys.path.insert(0, str(current_path))\n",
    "\n",
    "import os\n",
    "\n",
    "os.environ[\"PYTHONPATH\"] = (\n",
    "    f\"{os.getenv('PYTHONPATH')}:\" if os.getenv(\"PYTHONPATH\") else \"\"\n",
    ") + str(current_path)"
   ]
  },
  {
   "cell_type": "code",
   "execution_count": 7,
   "id": "2da914dd-e73a-4749-984c-eaf0b886fee1",
   "metadata": {
    "nbsphinx": "hidden",
    "tags": [
     "hide-cell"
    ]
   },
   "outputs": [
    {
     "name": "stdout",
     "output_type": "stream",
     "text": [
      "=========================================\n",
      "Calling: cd /var/folders/x8/_9l2j54n1lx_71w8kncv7mc80000gp/T/tmpupg52bvi && kedro new --config=prompt.yml\n",
      "=========================================\n",
      "\n",
      "The project name 'my_kedro_project' has been applied to: \n",
      "- The project title in /private/var/folders/x8/_9l2j54n1lx_71w8kncv7mc80000gp/T/tmpupg52bvi/my_kedro_project/README.md \n",
      "- The folder created for your project in /private/var/folders/x8/_9l2j54n1lx_71w8kncv7mc80000gp/T/tmpupg52bvi/my_kedro_project \n",
      "- The project's python package in /private/var/folders/x8/_9l2j54n1lx_71w8kncv7mc80000gp/T/tmpupg52bvi/my_kedro_project/src/my_kedro_project\n",
      "\n",
      "A best-practice setup includes initialising git and creating a virtual environment before running 'pip install -r src/requirements.txt' to install project-specific dependencies. Refer to the Kedro documentation: https://kedro.readthedocs.io/\n",
      "\n",
      "Change directory to the project generated in /private/var/folders/x8/_9l2j54n1lx_71w8kncv7mc80000gp/T/tmpupg52bvi/my_kedro_project by entering 'cd /private/var/folders/x8/_9l2j54n1lx_71w8kncv7mc80000gp/T/tmpupg52bvi/my_kedro_project'\n"
     ]
    },
    {
     "data": {
      "text/plain": [
       "PosixPath('/var/folders/x8/_9l2j54n1lx_71w8kncv7mc80000gp/T/tmpupg52bvi/my_kedro_project/src/data_fabricator')"
      ]
     },
     "execution_count": 7,
     "metadata": {},
     "output_type": "execute_result"
    }
   ],
   "source": [
    "import subprocess\n",
    "import os\n",
    "import shutil\n",
    "import tempfile\n",
    "\n",
    "from pathlib import Path\n",
    "\n",
    "current_path = Path(os.curdir).absolute()\n",
    "\n",
    "\n",
    "def subprocess_call(cmd: str) -> None:\n",
    "    \"\"\"Call subprocess with error check.\"\"\"\n",
    "    print(\"=========================================\")\n",
    "    print(f\"Calling: {cmd}\")\n",
    "    print(\"=========================================\")\n",
    "    subprocess.run(cmd, check=True, shell=True)\n",
    "\n",
    "\n",
    "PROJECT_NAME = \"my_kedro_project\"\n",
    "from pathlib import Path\n",
    "\n",
    "tmp_path = Path(tempfile.TemporaryDirectory().name)\n",
    "\n",
    "\n",
    "if tmp_path.exists() and tmp_path.is_dir():\n",
    "    shutil.rmtree(tmp_path)\n",
    "\n",
    "filepath = tmp_path / \"prompt.yml\"\n",
    "\n",
    "prompt_text = f\"\"\"\n",
    "project_name: {PROJECT_NAME}\n",
    "repo_name: {PROJECT_NAME}\n",
    "python_package: {PROJECT_NAME}\n",
    "\"\"\"\n",
    "\n",
    "filepath.parent.mkdir(parents=True, exist_ok=True)\n",
    "filepath.write_text(prompt_text)\n",
    "subprocess_call(f\"cd {tmp_path} && kedro new --config=prompt.yml\")\n",
    "\n",
    "utility_path = Path().cwd().absolute().parent\n",
    "\n",
    "shutil.copytree(\n",
    "    utility_path,\n",
    "    tmp_path / PROJECT_NAME / \"src\" / \"data_fabricator\",\n",
    ")"
   ]
  },
  {
   "cell_type": "markdown",
   "id": "9fc92341-5cfe-40ad-8cda-baae3a1b3d77",
   "metadata": {},
   "source": [
    "## Simple Example from `README.md`\n",
    "\n",
    "Once you have started your Kedro project with `kedro new`, we need to specify the following configuration in your `parameters.yml`:\n"
   ]
  },
  {
   "cell_type": "code",
   "execution_count": 8,
   "id": "fb4ad352-dbcf-47f2-b62b-830f97067770",
   "metadata": {
    "tags": [
     "hide-input"
    ]
   },
   "outputs": [
    {
     "name": "stdout",
     "output_type": "stream",
     "text": [
      "filepath: /var/folders/x8/_9l2j54n1lx_71w8kncv7mc80000gp/T/tmpupg52bvi/my_kedro_project/conf/base/parameters.yml\n"
     ]
    },
    {
     "data": {
      "text/markdown": [
       "```yaml\n",
       "tables:\n",
       "  - _target_: data_fabricator.v1.core.mock_generator.create_table\n",
       "    name: classes\n",
       "    columns:\n",
       "      student_id:\n",
       "        _metadata_:\n",
       "          foreign_key: True\n",
       "        _target_: data_fabricator.v1.core.mock_generator.RowApply\n",
       "        list_of_values: \"students.student_id\"\n",
       "        row_func: \"lambda x:x\"\n",
       "      course:\n",
       "        _target_: data_fabricator.v1.core.mock_generator.RowApply\n",
       "        list_of_values: \"faculty.course\"\n",
       "        row_func: \"lambda x:x\"\n",
       "        resize: True\n",
       "\n",
       "  - _target_: data_fabricator.v1.core.mock_generator.create_table\n",
       "    name: faculty\n",
       "    num_rows: 5\n",
       "    columns:\n",
       "      faculty_id:\n",
       "        _metadata_:\n",
       "          primary_key: True\n",
       "        _target_: data_fabricator.v1.core.mock_generator.UniqueId\n",
       "      name:\n",
       "        _target_: data_fabricator.v1.core.mock_generator.Faker\n",
       "        provider: name\n",
       "        faker_seed: 1\n",
       "      course:\n",
       "        _target_: data_fabricator.v1.core.mock_generator.ValuesFromSamples\n",
       "        sample_values: [\"engineering\", \"computer science\", \"mathematics\"]\n",
       "\n",
       "  - _target_: data_fabricator.v1.core.mock_generator.create_table\n",
       "    name: students\n",
       "    num_rows: 10\n",
       "    columns:\n",
       "      enrollment_date:\n",
       "        end_dt: \"2022-12-31\"\n",
       "        freq: M\n",
       "        _target_: data_fabricator.v1.core.mock_generator.Date\n",
       "        start_dt: \"2021-01-01\"\n",
       "      name:\n",
       "        _target_: data_fabricator.v1.core.mock_generator.Faker\n",
       "        provider: name\n",
       "        faker_seed: 1\n",
       "      student_id:\n",
       "        _metadata_:\n",
       "          primary_key: True\n",
       "        _target_: data_fabricator.v1.core.mock_generator.UniqueId\n",
       "\n",
       "# Setting seed is not recommended for general use, please consider when to use seed\n",
       "seed_val: 1\n",
       "```"
      ],
      "text/plain": [
       "<IPython.core.display.Markdown object>"
      ]
     },
     "metadata": {},
     "output_type": "display_data"
    }
   ],
   "source": [
    "import yaml\n",
    "\n",
    "yaml_path = \"tests/v1/scenarios/scenario2/single_yaml_config.yml\"\n",
    "with open(yaml_path, \"r\") as yaml_file:\n",
    "    yaml_string = yaml_file.read()\n",
    "\n",
    "yaml_string = \"\\n\".join(\n",
    "    [\n",
    "        yaml_string,\n",
    "        \"# Setting seed is not recommended for general use, please consider when to use seed\",\n",
    "        \"seed_val: 1\",\n",
    "    ]\n",
    ")\n",
    "filepath = tmp_path / PROJECT_NAME / \"conf\" / \"base\" / \"parameters.yml\"\n",
    "filepath.parent.mkdir(parents=True, exist_ok=True)\n",
    "filepath.write_text(yaml_string)\n",
    "print(f\"filepath: {filepath}\")\n",
    "display(Markdown(\"\\n\".join([\"```yaml\", yaml_string, \"```\"])))"
   ]
  },
  {
   "cell_type": "markdown",
   "id": "b4ebacca-4b36-4c9c-9845-3a6965bf5e61",
   "metadata": {},
   "source": [
    "Then, we can specify the outputs location and format in our `catalog.yml` file. In this case, we are giving `csv` under `raw` layer:"
   ]
  },
  {
   "cell_type": "code",
   "execution_count": 9,
   "id": "1cde4e32-0078-4288-af8d-93ba449be7fd",
   "metadata": {
    "tags": [
     "hide-input"
    ]
   },
   "outputs": [
    {
     "name": "stdout",
     "output_type": "stream",
     "text": [
      "filepath: /var/folders/x8/_9l2j54n1lx_71w8kncv7mc80000gp/T/tmpupg52bvi/my_kedro_project/conf/base/catalog.yml\n"
     ]
    },
    {
     "data": {
      "text/markdown": [
       "```yaml\n",
       "\n",
       "students:\n",
       "  type: pandas.CSVDataSet\n",
       "  filepath: data/01_raw/students.csv\n",
       "  layer: raw\n",
       "\n",
       "faculty:\n",
       "  type: pandas.CSVDataSet\n",
       "  filepath: data/01_raw/faculty.csv\n",
       "  layer: raw\n",
       "\n",
       "classes:\n",
       "  type: pandas.CSVDataSet\n",
       "  filepath: data/01_raw/classes.csv\n",
       "  layer: raw\n",
       "\n",
       "```"
      ],
      "text/plain": [
       "<IPython.core.display.Markdown object>"
      ]
     },
     "metadata": {},
     "output_type": "display_data"
    }
   ],
   "source": [
    "import yaml\n",
    "\n",
    "catalog_yaml_string = \"\"\"\n",
    "students:\n",
    "  type: pandas.CSVDataSet\n",
    "  filepath: data/01_raw/students.csv\n",
    "  layer: raw\n",
    "\n",
    "faculty:\n",
    "  type: pandas.CSVDataSet\n",
    "  filepath: data/01_raw/faculty.csv\n",
    "  layer: raw\n",
    "\n",
    "classes:\n",
    "  type: pandas.CSVDataSet\n",
    "  filepath: data/01_raw/classes.csv\n",
    "  layer: raw\n",
    "\"\"\"\n",
    "\n",
    "filepath = tmp_path / PROJECT_NAME / \"conf\" / \"base\" / \"catalog.yml\"\n",
    "filepath.parent.mkdir(parents=True, exist_ok=True)\n",
    "filepath.write_text(catalog_yaml_string)\n",
    "print(f\"filepath: {filepath}\")\n",
    "display(Markdown(\"\\n\".join([\"```yaml\", catalog_yaml_string, \"```\"])))"
   ]
  },
  {
   "cell_type": "markdown",
   "id": "87f72523-e082-4c26-896d-08b89b9009f1",
   "metadata": {},
   "source": [
    "We can now create our pipeline, the `pipeline.py` file will look like:"
   ]
  },
  {
   "cell_type": "code",
   "execution_count": 10,
   "id": "74785a78-3ffe-4245-8c03-d2c132645bfd",
   "metadata": {
    "tags": [
     "hide-input"
    ]
   },
   "outputs": [
    {
     "name": "stdout",
     "output_type": "stream",
     "text": [
      "filepath: /var/folders/x8/_9l2j54n1lx_71w8kncv7mc80000gp/T/tmpupg52bvi/my_kedro_project/src/my_kedro_project/pipelines/pipeline.py\n"
     ]
    },
    {
     "data": {
      "text/markdown": [
       "```python\n",
       "\n",
       "from kedro.pipeline import Pipeline, node\n",
       "from kedro.pipeline.modular_pipeline import pipeline\n",
       "from data_fabricator.v1.nodes.hydra import fabricate_datasets\n",
       "\n",
       "def create_pipeline(**kwargs) -> Pipeline:\n",
       "    return pipeline(\n",
       "        [\n",
       "            node(\n",
       "                func=fabricate_datasets,\n",
       "                inputs=dict(fabrication_params=\"params:tables\", seed=\"params:seed_val\"),\n",
       "                outputs=dict(students=\"students\", faculty=\"faculty\", classes=\"classes\"),\n",
       "                name=\"data_fabricator_node\",\n",
       "            )\n",
       "        ]\n",
       "    )\n",
       "\n",
       "```"
      ],
      "text/plain": [
       "<IPython.core.display.Markdown object>"
      ]
     },
     "metadata": {},
     "output_type": "display_data"
    }
   ],
   "source": [
    "pipeline_file_txt = \"\"\"\n",
    "from kedro.pipeline import Pipeline, node\n",
    "from kedro.pipeline.modular_pipeline import pipeline\n",
    "from data_fabricator.v1.nodes.hydra import fabricate_datasets\n",
    "\n",
    "def create_pipeline(**kwargs) -> Pipeline:\n",
    "    return pipeline(\n",
    "        [\n",
    "            node(\n",
    "                func=fabricate_datasets,\n",
    "                inputs=dict(fabrication_params=\"params:tables\", seed=\"params:seed_val\"),\n",
    "                outputs=dict(students=\"students\", faculty=\"faculty\", classes=\"classes\"),\n",
    "                name=\"data_fabricator_node\",\n",
    "            )\n",
    "        ]\n",
    "    )\n",
    "\"\"\"\n",
    "\n",
    "filepath = tmp_path / PROJECT_NAME / \"src\" / PROJECT_NAME / \"pipelines\" / \"pipeline.py\"\n",
    "filepath.parent.mkdir(parents=True, exist_ok=True)\n",
    "filepath.write_text(pipeline_file_txt)\n",
    "print(f\"filepath: {filepath}\")\n",
    "display(Markdown(\"\\n\".join([\"```python\", pipeline_file_txt, \"```\"])))"
   ]
  },
  {
   "cell_type": "markdown",
   "id": "302966fe-4757-4dd3-a212-3072a0f9d01d",
   "metadata": {},
   "source": [
    "Finally, the pipeline can be registered into `pipeline_registry.py`:"
   ]
  },
  {
   "cell_type": "code",
   "execution_count": 11,
   "id": "595f9464-573b-4622-89d5-1c8d4209f9c8",
   "metadata": {
    "tags": [
     "hide-input"
    ]
   },
   "outputs": [
    {
     "name": "stdout",
     "output_type": "stream",
     "text": [
      "filepath: /var/folders/x8/_9l2j54n1lx_71w8kncv7mc80000gp/T/tmpupg52bvi/my_kedro_project/src/my_kedro_project/pipeline_registry.py\n"
     ]
    },
    {
     "data": {
      "text/markdown": [
       "```python\n",
       "\n",
       "from typing import Dict\n",
       "from kedro.pipeline import Pipeline\n",
       "from my_kedro_project.pipelines.pipeline import create_pipeline\n",
       "\n",
       "def register_pipelines() -> Dict[str, Pipeline]:\n",
       "    return dict(__default__= create_pipeline())\n",
       "\n",
       "```"
      ],
      "text/plain": [
       "<IPython.core.display.Markdown object>"
      ]
     },
     "metadata": {},
     "output_type": "display_data"
    }
   ],
   "source": [
    "pipeline_registry = \"\"\"\n",
    "from typing import Dict\n",
    "from kedro.pipeline import Pipeline\n",
    "from my_kedro_project.pipelines.pipeline import create_pipeline\n",
    "\n",
    "def register_pipelines() -> Dict[str, Pipeline]:\n",
    "    return dict(__default__= create_pipeline())\n",
    "\"\"\"\n",
    "filepath = tmp_path / PROJECT_NAME / \"src\" / PROJECT_NAME / \"pipeline_registry.py\"\n",
    "filepath.parent.mkdir(parents=True, exist_ok=True)\n",
    "filepath.write_text(pipeline_registry)\n",
    "print(f\"filepath: {filepath}\")\n",
    "display(Markdown(\"\\n\".join([\"```python\", pipeline_registry, \"```\"])))"
   ]
  },
  {
   "cell_type": "markdown",
   "id": "4879e6c6-6518-44de-825d-ad4efedb1696",
   "metadata": {},
   "source": [
    "Now, we can run `kedro run`"
   ]
  },
  {
   "cell_type": "code",
   "execution_count": 12,
   "id": "a237fe68-1a4c-4265-b07e-f4c3d8f8a19b",
   "metadata": {
    "nbsphinx": "hidden",
    "tags": [
     "hide-cell"
    ]
   },
   "outputs": [
    {
     "name": "stdout",
     "output_type": "stream",
     "text": [
      "=========================================\n",
      "Calling: cd /var/folders/x8/_9l2j54n1lx_71w8kncv7mc80000gp/T/tmpupg52bvi/my_kedro_project && kedro run\n",
      "=========================================\n",
      "\u001b[2;36m[07/05/23 09:34:54]\u001b[0m\u001b[2;36m \u001b[0m\u001b[31mWARNING \u001b[0m Failed to load kedro_deploy.cli        \u001b]8;id=895268;file:///opt/homebrew/Caskroom/miniforge/base/envs/qblabs-monorepo/lib/python3.9/site-packages/kedro/framework/cli/utils.py\u001b\\\u001b[2mutils.py\u001b[0m\u001b]8;;\u001b\\\u001b[2m:\u001b[0m\u001b]8;id=119501;file:///opt/homebrew/Caskroom/miniforge/base/envs/qblabs-monorepo/lib/python3.9/site-packages/kedro/framework/cli/utils.py#371\u001b\\\u001b[2m371\u001b[0m\u001b]8;;\u001b\\\n",
      "\u001b[2;36m                    \u001b[0m         commands from                          \u001b[2m            \u001b[0m\n",
      "\u001b[2;36m                    \u001b[0m         \u001b[1;35mEntryPoint\u001b[0m\u001b[1m(\u001b[0m\u001b[33mname\u001b[0m=\u001b[32m'deploy'\u001b[0m,              \u001b[2m            \u001b[0m\n",
      "\u001b[2;36m                    \u001b[0m         \u001b[33mvalue\u001b[0m=\u001b[32m'kedro_deploy.cli:cli'\u001b[0m,          \u001b[2m            \u001b[0m\n",
      "\u001b[2;36m                    \u001b[0m         \u001b[33mgroup\u001b[0m=\u001b[32m'kedro.project_commands'\u001b[0m\u001b[1m)\u001b[0m. Full  \u001b[2m            \u001b[0m\n",
      "\u001b[2;36m                    \u001b[0m         exception: No module named             \u001b[2m            \u001b[0m\n",
      "\u001b[2;36m                    \u001b[0m         \u001b[32m'kedro_deploy'\u001b[0m                         \u001b[2m            \u001b[0m\n",
      "\u001b[2;36m[07/05/23 09:34:54]\u001b[0m\u001b[2;36m \u001b[0m\u001b[34mINFO    \u001b[0m Kedro project my_kedro_project       \u001b]8;id=939375;file:///opt/homebrew/Caskroom/miniforge/base/envs/qblabs-monorepo/lib/python3.9/site-packages/kedro/framework/session/session.py\u001b\\\u001b[2msession.py\u001b[0m\u001b]8;;\u001b\\\u001b[2m:\u001b[0m\u001b]8;id=943613;file:///opt/homebrew/Caskroom/miniforge/base/envs/qblabs-monorepo/lib/python3.9/site-packages/kedro/framework/session/session.py#360\u001b\\\u001b[2m360\u001b[0m\u001b]8;;\u001b\\\n",
      "\u001b[2;36m                   \u001b[0m\u001b[2;36m \u001b[0m\u001b[31mWARNING \u001b[0m \u001b[35m/opt/homebrew/Caskroom/miniforge/ba\u001b[0m \u001b]8;id=411053;file:///opt/homebrew/Caskroom/miniforge/base/envs/qblabs-monorepo/lib/python3.9/warnings.py\u001b\\\u001b[2mwarnings.py\u001b[0m\u001b]8;;\u001b\\\u001b[2m:\u001b[0m\u001b]8;id=71999;file:///opt/homebrew/Caskroom/miniforge/base/envs/qblabs-monorepo/lib/python3.9/warnings.py#109\u001b\\\u001b[2m109\u001b[0m\u001b]8;;\u001b\\\n",
      "\u001b[2;36m                    \u001b[0m         \u001b[35mse/envs/qblabs-monorepo/lib/python3\u001b[0m \u001b[2m               \u001b[0m\n",
      "\u001b[2;36m                    \u001b[0m         \u001b[35m.9/importlib/\u001b[0m\u001b[95m__init__.py\u001b[0m:\u001b[1;36m127\u001b[0m:       \u001b[2m               \u001b[0m\n",
      "\u001b[2;36m                    \u001b[0m         DeprecationWarning:                 \u001b[2m               \u001b[0m\n",
      "\u001b[2;36m                    \u001b[0m         `kedro.extras.datasets` is          \u001b[2m               \u001b[0m\n",
      "\u001b[2;36m                    \u001b[0m         deprecated and will be removed in   \u001b[2m               \u001b[0m\n",
      "\u001b[2;36m                    \u001b[0m         Kedro \u001b[1;36m0.19\u001b[0m, install                 \u001b[2m               \u001b[0m\n",
      "\u001b[2;36m                    \u001b[0m         `kedro-datasets` instead by running \u001b[2m               \u001b[0m\n",
      "\u001b[2;36m                    \u001b[0m         `pip install kedro-datasets`.       \u001b[2m               \u001b[0m\n",
      "\u001b[2;36m                    \u001b[0m           return                            \u001b[2m               \u001b[0m\n",
      "\u001b[2;36m                    \u001b[0m         \u001b[1;35m_bootstrap._gcd_import\u001b[0m\u001b[1m(\u001b[0mname\u001b[1m[\u001b[0mlevel:\u001b[1m]\u001b[0m \u001b[2m               \u001b[0m\n",
      "\u001b[2;36m                    \u001b[0m         , package, level\u001b[1m)\u001b[0m                   \u001b[2m               \u001b[0m\n",
      "\u001b[2;36m                    \u001b[0m                                             \u001b[2m               \u001b[0m\n",
      "\u001b[2;36m[07/05/23 09:34:55]\u001b[0m\u001b[2;36m \u001b[0m\u001b[34mINFO    \u001b[0m Loading data from               \u001b]8;id=881948;file:///opt/homebrew/Caskroom/miniforge/base/envs/qblabs-monorepo/lib/python3.9/site-packages/kedro/io/data_catalog.py\u001b\\\u001b[2mdata_catalog.py\u001b[0m\u001b]8;;\u001b\\\u001b[2m:\u001b[0m\u001b]8;id=935764;file:///opt/homebrew/Caskroom/miniforge/base/envs/qblabs-monorepo/lib/python3.9/site-packages/kedro/io/data_catalog.py#343\u001b\\\u001b[2m343\u001b[0m\u001b]8;;\u001b\\\n",
      "\u001b[2;36m                    \u001b[0m         \u001b[32m'params:seed_val'\u001b[0m               \u001b[2m                   \u001b[0m\n",
      "\u001b[2;36m                    \u001b[0m         \u001b[1m(\u001b[0mMemoryDataSet\u001b[1m)\u001b[0m\u001b[33m...\u001b[0m              \u001b[2m                   \u001b[0m\n",
      "\u001b[2;36m                   \u001b[0m\u001b[2;36m \u001b[0m\u001b[34mINFO    \u001b[0m Loading data from               \u001b]8;id=862571;file:///opt/homebrew/Caskroom/miniforge/base/envs/qblabs-monorepo/lib/python3.9/site-packages/kedro/io/data_catalog.py\u001b\\\u001b[2mdata_catalog.py\u001b[0m\u001b]8;;\u001b\\\u001b[2m:\u001b[0m\u001b]8;id=869284;file:///opt/homebrew/Caskroom/miniforge/base/envs/qblabs-monorepo/lib/python3.9/site-packages/kedro/io/data_catalog.py#343\u001b\\\u001b[2m343\u001b[0m\u001b]8;;\u001b\\\n",
      "\u001b[2;36m                    \u001b[0m         \u001b[32m'params:tables'\u001b[0m                 \u001b[2m                   \u001b[0m\n",
      "\u001b[2;36m                    \u001b[0m         \u001b[1m(\u001b[0mMemoryDataSet\u001b[1m)\u001b[0m\u001b[33m...\u001b[0m              \u001b[2m                   \u001b[0m\n",
      "\u001b[2;36m                   \u001b[0m\u001b[2;36m \u001b[0m\u001b[34mINFO    \u001b[0m Running node: data_fabricator_node:     \u001b]8;id=732328;file:///opt/homebrew/Caskroom/miniforge/base/envs/qblabs-monorepo/lib/python3.9/site-packages/kedro/pipeline/node.py\u001b\\\u001b[2mnode.py\u001b[0m\u001b]8;;\u001b\\\u001b[2m:\u001b[0m\u001b]8;id=67286;file:///opt/homebrew/Caskroom/miniforge/base/envs/qblabs-monorepo/lib/python3.9/site-packages/kedro/pipeline/node.py#329\u001b\\\u001b[2m329\u001b[0m\u001b]8;;\u001b\\\n",
      "\u001b[2;36m                    \u001b[0m         \u001b[1;35mfabricate_datasets\u001b[0m\u001b[1m(\u001b[0m\u001b[1m[\u001b[0mparams:seed_val,par \u001b[2m           \u001b[0m\n",
      "\u001b[2;36m                    \u001b[0m         ams:tables\u001b[1m]\u001b[0m\u001b[1m)\u001b[0m ->                         \u001b[2m           \u001b[0m\n",
      "\u001b[2;36m                    \u001b[0m         \u001b[1m[\u001b[0mstudents,faculty,classes\u001b[1m]\u001b[0m              \u001b[2m           \u001b[0m\n",
      "\u001b[2;36m                   \u001b[0m\u001b[2;36m \u001b[0m\u001b[31mWARNING \u001b[0m Resizing list from \u001b[1;36m5\u001b[0m to \u001b[1;36m10\u001b[0m        \u001b]8;id=98418;file:///private/var/folders/x8/_9l2j54n1lx_71w8kncv7mc80000gp/T/tmpupg52bvi/my_kedro_project/src/data_fabricator/v1/core/functions.py\u001b\\\u001b[2mfunctions.py\u001b[0m\u001b]8;;\u001b\\\u001b[2m:\u001b[0m\u001b]8;id=511554;file:///private/var/folders/x8/_9l2j54n1lx_71w8kncv7mc80000gp/T/tmpupg52bvi/my_kedro_project/src/data_fabricator/v1/core/functions.py#1061\u001b\\\u001b[2m1061\u001b[0m\u001b]8;;\u001b\\\n",
      "\u001b[2;36m                   \u001b[0m\u001b[2;36m \u001b[0m\u001b[34mINFO    \u001b[0m Saving data to \u001b[32m'students'\u001b[0m       \u001b]8;id=984787;file:///opt/homebrew/Caskroom/miniforge/base/envs/qblabs-monorepo/lib/python3.9/site-packages/kedro/io/data_catalog.py\u001b\\\u001b[2mdata_catalog.py\u001b[0m\u001b]8;;\u001b\\\u001b[2m:\u001b[0m\u001b]8;id=519896;file:///opt/homebrew/Caskroom/miniforge/base/envs/qblabs-monorepo/lib/python3.9/site-packages/kedro/io/data_catalog.py#382\u001b\\\u001b[2m382\u001b[0m\u001b]8;;\u001b\\\n",
      "\u001b[2;36m                    \u001b[0m         \u001b[1m(\u001b[0mCSVDataSet\u001b[1m)\u001b[0m\u001b[33m...\u001b[0m                 \u001b[2m                   \u001b[0m\n",
      "\u001b[2;36m                   \u001b[0m\u001b[2;36m \u001b[0m\u001b[34mINFO    \u001b[0m Saving data to \u001b[32m'faculty'\u001b[0m        \u001b]8;id=709727;file:///opt/homebrew/Caskroom/miniforge/base/envs/qblabs-monorepo/lib/python3.9/site-packages/kedro/io/data_catalog.py\u001b\\\u001b[2mdata_catalog.py\u001b[0m\u001b]8;;\u001b\\\u001b[2m:\u001b[0m\u001b]8;id=229408;file:///opt/homebrew/Caskroom/miniforge/base/envs/qblabs-monorepo/lib/python3.9/site-packages/kedro/io/data_catalog.py#382\u001b\\\u001b[2m382\u001b[0m\u001b]8;;\u001b\\\n",
      "\u001b[2;36m                    \u001b[0m         \u001b[1m(\u001b[0mCSVDataSet\u001b[1m)\u001b[0m\u001b[33m...\u001b[0m                 \u001b[2m                   \u001b[0m\n",
      "\u001b[2;36m                   \u001b[0m\u001b[2;36m \u001b[0m\u001b[34mINFO    \u001b[0m Saving data to \u001b[32m'classes'\u001b[0m        \u001b]8;id=971512;file:///opt/homebrew/Caskroom/miniforge/base/envs/qblabs-monorepo/lib/python3.9/site-packages/kedro/io/data_catalog.py\u001b\\\u001b[2mdata_catalog.py\u001b[0m\u001b]8;;\u001b\\\u001b[2m:\u001b[0m\u001b]8;id=22533;file:///opt/homebrew/Caskroom/miniforge/base/envs/qblabs-monorepo/lib/python3.9/site-packages/kedro/io/data_catalog.py#382\u001b\\\u001b[2m382\u001b[0m\u001b]8;;\u001b\\\n",
      "\u001b[2;36m                    \u001b[0m         \u001b[1m(\u001b[0mCSVDataSet\u001b[1m)\u001b[0m\u001b[33m...\u001b[0m                 \u001b[2m                   \u001b[0m\n",
      "\u001b[2;36m                   \u001b[0m\u001b[2;36m \u001b[0m\u001b[34mINFO    \u001b[0m Completed \u001b[1;36m1\u001b[0m out of \u001b[1;36m1\u001b[0m tasks  \u001b]8;id=104857;file:///opt/homebrew/Caskroom/miniforge/base/envs/qblabs-monorepo/lib/python3.9/site-packages/kedro/runner/sequential_runner.py\u001b\\\u001b[2msequential_runner.py\u001b[0m\u001b]8;;\u001b\\\u001b[2m:\u001b[0m\u001b]8;id=194936;file:///opt/homebrew/Caskroom/miniforge/base/envs/qblabs-monorepo/lib/python3.9/site-packages/kedro/runner/sequential_runner.py#85\u001b\\\u001b[2m85\u001b[0m\u001b]8;;\u001b\\\n",
      "\u001b[2;36m                   \u001b[0m\u001b[2;36m \u001b[0m\u001b[34mINFO    \u001b[0m Pipeline execution completed           \u001b]8;id=348856;file:///opt/homebrew/Caskroom/miniforge/base/envs/qblabs-monorepo/lib/python3.9/site-packages/kedro/runner/runner.py\u001b\\\u001b[2mrunner.py\u001b[0m\u001b]8;;\u001b\\\u001b[2m:\u001b[0m\u001b]8;id=939078;file:///opt/homebrew/Caskroom/miniforge/base/envs/qblabs-monorepo/lib/python3.9/site-packages/kedro/runner/runner.py#93\u001b\\\u001b[2m93\u001b[0m\u001b]8;;\u001b\\\n",
      "\u001b[2;36m                    \u001b[0m         successfully.                          \u001b[2m            \u001b[0m\n"
     ]
    }
   ],
   "source": [
    "only_kedro = \"kedro run\"\n",
    "cmd = f\"cd {tmp_path}/{PROJECT_NAME} && {only_kedro}\"\n",
    "subprocess_call(cmd)"
   ]
  },
  {
   "cell_type": "code",
   "execution_count": 13,
   "id": "530ea74d-3fbb-4606-8f0f-63afe08f6c64",
   "metadata": {
    "tags": [
     "hide-input"
    ]
   },
   "outputs": [
    {
     "name": "stdout",
     "output_type": "stream",
     "text": [
      "kedro run\n",
      "kedro.framework.session.session - INFO - Kedro project my_kedro_project\n",
      "py.warnings - WARNING - /opt/homebrew/Caskroom/miniforge/base/envs/qblabs-monorepo/lib/python3.9/importlib/__init__.py:127: DeprecationWarning: `kedro.extras.datasets` is deprecated and will be removed in Kedro 0.19, install `kedro-datasets` instead by running `pip install kedro-datasets`.\n",
      "  return _bootstrap._gcd_import(name[level:], package, level)\n",
      "\n",
      "kedro.io.data_catalog - INFO - Loading data from 'params:seed_val' (MemoryDataSet)...\n",
      "kedro.io.data_catalog - INFO - Loading data from 'params:tables' (MemoryDataSet)...\n",
      "kedro.pipeline.node - INFO - Running node: data_fabricator_node: fabricate_datasets([params:seed_val,params:tables]) -> [students,faculty,classes]\n",
      "data_fabricator.v1.core.functions - WARNING - Resizing list from 5 to 10\n",
      "kedro.io.data_catalog - INFO - Saving data to 'students' (CSVDataSet)...\n",
      "kedro.io.data_catalog - INFO - Saving data to 'faculty' (CSVDataSet)...\n",
      "kedro.io.data_catalog - INFO - Saving data to 'classes' (CSVDataSet)...\n",
      "kedro.runner.sequential_runner - INFO - Completed 1 out of 1 tasks\n",
      "kedro.runner.sequential_runner - INFO - Pipeline execution completed successfully.\n",
      "\n"
     ]
    }
   ],
   "source": [
    "import re\n",
    "\n",
    "print(only_kedro)\n",
    "log_file = Path(tmp_path) / Path(PROJECT_NAME) / Path(\"info.log\")\n",
    "with open(str(log_file)) as f:\n",
    "    logs_txt = f.read()\n",
    "    logs_txt = re.sub(\n",
    "        \"\\d{4}\\-\\d{2}\\-\\d{2}\\s+\\d{2}\\:\\d{2}:\\d{2},\\d{3}\\s+\\-\\s+\", \"\", logs_txt\n",
    "    )\n",
    "    print(logs_txt)"
   ]
  },
  {
   "cell_type": "markdown",
   "id": "c414e3e6-cc62-4eff-b35d-debb188242a9",
   "metadata": {},
   "source": [
    "We can see tables are generated under the specified layer:"
   ]
  },
  {
   "cell_type": "code",
   "execution_count": 14,
   "id": "b4ccbc0f-ad92-48a9-add4-4697be56b7d2",
   "metadata": {
    "tags": [
     "hide-input"
    ]
   },
   "outputs": [
    {
     "name": "stdout",
     "output_type": "stream",
     "text": [
      "=========================================\n",
      "Calling: ls /var/folders/x8/_9l2j54n1lx_71w8kncv7mc80000gp/T/tmpupg52bvi/my_kedro_project/data/01_raw/\n",
      "=========================================\n",
      "classes.csv\n",
      "faculty.csv\n",
      "students.csv\n"
     ]
    }
   ],
   "source": [
    "cmd = f\"ls {tmp_path}/{PROJECT_NAME}/data/01_raw/\"\n",
    "subprocess_call(cmd)"
   ]
  },
  {
   "cell_type": "markdown",
   "id": "1f24beca-d343-4342-8265-b9226fd43ce2",
   "metadata": {},
   "source": [
    "For validation, we can check `classes.csv` file:"
   ]
  },
  {
   "cell_type": "code",
   "execution_count": 15,
   "id": "e8e22f3c-f65c-4f6b-b321-3e7847f112a5",
   "metadata": {
    "tags": [
     "hide-input"
    ]
   },
   "outputs": [
    {
     "name": "stdout",
     "output_type": "stream",
     "text": [
      "=========================================\n",
      "Calling: head /var/folders/x8/_9l2j54n1lx_71w8kncv7mc80000gp/T/tmpupg52bvi/my_kedro_project/data/01_raw/classes.csv\n",
      "=========================================\n",
      "student_id,course\n",
      "1,engineering\n",
      "2,computer science\n",
      "3,mathematics\n",
      "4,computer science\n",
      "5,engineering\n",
      "6,mathematics\n",
      "7,computer science\n",
      "8,engineering\n",
      "9,computer science\n"
     ]
    }
   ],
   "source": [
    "cmd = f\"head {tmp_path}/{PROJECT_NAME}/data/01_raw/classes.csv\"\n",
    "subprocess_call(cmd)"
   ]
  },
  {
   "cell_type": "code",
   "execution_count": 16,
   "id": "e803cd5f-9e67-42d6-a0fc-325ee551a5f4",
   "metadata": {
    "nbsphinx": "hidden",
    "tags": [
     "hide-cell"
    ]
   },
   "outputs": [
    {
     "name": "stdout",
     "output_type": "stream",
     "text": [
      "=========================================\n",
      "Calling: rm -r /var/folders/x8/_9l2j54n1lx_71w8kncv7mc80000gp/T/tmpupg52bvi/\n",
      "=========================================\n"
     ]
    }
   ],
   "source": [
    "# Final clean up for when running this doc\n",
    "subprocess_call(f\"rm -r {tmp_path}/\")"
   ]
  }
 ],
 "metadata": {
  "celltoolbar": "Edit Metadata",
  "kernelspec": {
   "display_name": "qblabs-monorepo",
   "language": "python",
   "name": "qblabs-monorepo"
  },
  "language_info": {
   "codemirror_mode": {
    "name": "ipython",
    "version": 3
   },
   "file_extension": ".py",
   "mimetype": "text/x-python",
   "name": "python",
   "nbconvert_exporter": "python",
   "pygments_lexer": "ipython3",
   "version": "3.9.15"
  }
 },
 "nbformat": 4,
 "nbformat_minor": 5
}
