{
 "cells": [
  {
   "cell_type": "code",
   "execution_count": 1,
   "id": "2233ede5-9a38-45e2-9241-57ab6dd10708",
   "metadata": {
    "nbsphinx": "hidden",
    "tags": [
     "hide-input"
    ]
   },
   "outputs": [],
   "source": [
    "import pandas as pd\n",
    "\n",
    "pd.set_option(\"display.max_rows\", 500)\n",
    "pd.set_option(\"display.max_columns\", 500)\n",
    "pd.set_option(\"display.width\", 1000)"
   ]
  },
  {
   "cell_type": "markdown",
   "id": "0ae142ec-1885-488b-8a37-a69b4659d6af",
   "metadata": {},
   "source": [
    "# More Realism\n",
    "\n",
    "At some point, one may wish to have more realistic data, perhaps in the form of distribution of events.\n",
    "This document will highlight some functionality to help in this endeavour. Note that attempting to mock\n",
    "more realistic data does come at the cost of additional complexity in the config.\n",
    "\n",
    "## Exploding with distribution\n",
    "One way to add more realistic distributions is during explode. Before, every row would generate an equal number of\n",
    "subsequent rows. This can now be controlled via `distribution_kwargs`. In the below Event table we are creating two\n",
    "columns (`person_id` and `event_dt`) to create the many-to-many mapping of exploded rows.\n"
   ]
  },
  {
   "cell_type": "code",
   "execution_count": 2,
   "id": "5075df6d-dfbe-48ae-9bfc-9ef4258708cc",
   "metadata": {
    "tags": []
   },
   "outputs": [],
   "source": [
    "from data_fabricator.v1.core.mock_generator import (\n",
    "    BaseTable,\n",
    "    PrimaryKey,\n",
    "    Explode,\n",
    "    generate_dates,\n",
    ")\n",
    "\n",
    "\n",
    "class Person(BaseTable):\n",
    "    num_rows = 1000\n",
    "    _metadata_ = {\"description\": \"Person table with <insert detail here>\"}\n",
    "    person_id = PrimaryKey(prefix=\"person\")\n",
    "\n",
    "\n",
    "class Event(BaseTable):\n",
    "    person_id = Explode(\n",
    "        explode_func=generate_dates,\n",
    "        list_of_values=\"Person.person_id\",\n",
    "        position=0,\n",
    "        distribution_kwargs={\n",
    "            \"distribution\": \"gamma\",\n",
    "            \"scale\": 1,\n",
    "            \"shape\": 3,\n",
    "            \"numpy_seed\": 1,\n",
    "        },\n",
    "        explode_func_kwargs={\n",
    "            \"start_dt\": \"2019-01-01\",\n",
    "            \"end_dt\": \"2020-01-01\",\n",
    "            \"freq\": \"M\",\n",
    "        },\n",
    "    )\n",
    "    event_dt = Explode(\n",
    "        explode_func=generate_dates,\n",
    "        list_of_values=\"Person.person_id\",\n",
    "        position=1,\n",
    "        distribution_kwargs={\n",
    "            \"distribution\": \"gamma\",\n",
    "            \"scale\": 1,\n",
    "            \"shape\": 3,\n",
    "            \"numpy_seed\": 1,\n",
    "        },\n",
    "        explode_func_kwargs={\n",
    "            \"start_dt\": \"2019-01-01\",\n",
    "            \"end_dt\": \"2020-01-01\",\n",
    "            \"freq\": \"M\",\n",
    "        },\n",
    "    )"
   ]
  },
  {
   "cell_type": "markdown",
   "id": "04678c03-bc0c-4a79-aa1f-c8537cd53861",
   "metadata": {},
   "source": [
    "## Explanation of the explode configuration\n",
    "We want `person_id` and `event_dt` to represent the many-to-many relationship between a persons id and an event date. Therefore\n",
    "we pass the same configuration to both column definitions above - **apart** from `position`. For each column definition it will then\n",
    "create the same set of exploded data, lots of `person_id`s associated with lots of `event_dt`s - the position argument in\n",
    "configuration then dictates which of the generated 'exploded columns' should be assigned to the current column that is being configured.\n",
    "\n",
    "\n",
    "Given the two table classes that we have defined:"
   ]
  },
  {
   "cell_type": "code",
   "execution_count": 3,
   "id": "b7ba34ca-d5ae-41a5-a945-82a6a1cc1b83",
   "metadata": {
    "tags": [
     "hide-input"
    ]
   },
   "outputs": [
    {
     "name": "stdout",
     "output_type": "stream",
     "text": [
      "<class '__main__.Person'>\n",
      "<class '__main__.Event'>\n"
     ]
    }
   ],
   "source": [
    "print(Person)\n",
    "print(Event)"
   ]
  },
  {
   "cell_type": "markdown",
   "id": "758c984e-4454-4086-917a-fab4fe01d8f7",
   "metadata": {},
   "source": [
    "Let's generate and find the distribution:"
   ]
  },
  {
   "cell_type": "code",
   "execution_count": 4,
   "id": "317b2906-2633-453c-8910-420a09f053f2",
   "metadata": {
    "tags": []
   },
   "outputs": [
    {
     "name": "stdout",
     "output_type": "stream",
     "text": [
      "  person_id   event_dt\n",
      "0   person1 2019-02-28\n",
      "1   person1 2019-05-31\n",
      "2   person1 2019-07-31\n",
      "3   person1 2019-08-31\n",
      "4   person1 2019-09-30\n",
      "5   person1 2019-11-30\n",
      "6   person2 2019-06-30\n",
      "7   person3 2019-04-30\n",
      "8   person4 2019-03-31\n",
      "9   person5 2019-01-31\n"
     ]
    }
   ],
   "source": [
    "from data_fabricator.v1.core.mock_generator import MockDataGenerator\n",
    "\n",
    "# Setting seed is not recommended for general use, please consider when to use seed\n",
    "mock_generator = MockDataGenerator(tables=[Person, Event], seed=1)\n",
    "mock_generator.generate_all()\n",
    "\n",
    "df = mock_generator.tables[\"Event\"].dataframe\n",
    "print(df.head(10))"
   ]
  },
  {
   "cell_type": "markdown",
   "id": "bd8ad55d-2526-4af7-a0dc-aea9ad800263",
   "metadata": {},
   "source": [
    "Let's summarize the data:"
   ]
  },
  {
   "cell_type": "code",
   "execution_count": 5,
   "id": "5ce061ae-f31c-4f4d-9aa9-41ce905b8648",
   "metadata": {
    "tags": []
   },
   "outputs": [
    {
     "name": "stdout",
     "output_type": "stream",
     "text": [
      "    count  count_of_count\n",
      "0       1             230\n",
      "1       2             258\n",
      "2       3             174\n",
      "3       4             114\n",
      "4       5              54\n",
      "5       6              46\n",
      "6       7              25\n",
      "7       8              10\n",
      "8       9               3\n",
      "9      10               1\n",
      "10     12              84\n",
      "11     15               1\n"
     ]
    }
   ],
   "source": [
    "grouped_df_pd = (\n",
    "    df.groupby([\"person_id\"])[\"event_dt\"]\n",
    "    .size()\n",
    "    .reset_index()\n",
    "    .groupby([\"event_dt\"])[\"person_id\"]\n",
    "    .size()\n",
    "    .reset_index()\n",
    "    .rename(columns={\"event_dt\": \"count\", \"person_id\": \"count_of_count\"})\n",
    "    .sort_values([\"count\"])\n",
    ")\n",
    "print(grouped_df_pd.head(20))"
   ]
  },
  {
   "cell_type": "markdown",
   "id": "b23fed0e-9f33-4043-8f33-aca3d44fa729",
   "metadata": {},
   "source": [
    "Plotting gives:"
   ]
  },
  {
   "cell_type": "code",
   "execution_count": 7,
   "id": "df2348e8-bee9-48fd-8da4-e4d924010b9e",
   "metadata": {
    "tags": [
     "hide-input"
    ]
   },
   "outputs": [],
   "source": [
    "import plotly.express as px\n",
    "\n",
    "fig = px.bar(\n",
    "    data_frame=grouped_df_pd,\n",
    "    x=\"count\",\n",
    "    y=\"count_of_count\",\n",
    "    title=\"Distribution of Events per Person\",\n",
    "    labels={\"count_of_count\": \"Number of persons\", \"count\": \"Events per person\"},\n",
    ")\n",
    "fig.write_image(\"data_fabricator/docs/images/distribution.png\")"
   ]
  },
  {
   "cell_type": "markdown",
   "id": "a4710087-afb6-44b6-8337-78f8cce437dd",
   "metadata": {},
   "source": [
    "![](images/distribution.png)\n",
    "\n",
    "Under the hood, the following function is used: `data_fabricator.v1.core.functions.numpy_random`. See docstring for\n",
    "more details."
   ]
  }
 ],
 "metadata": {
  "celltoolbar": "Edit Metadata",
  "kernelspec": {
   "display_name": "qblabs-monorepo",
   "language": "python",
   "name": "qblabs-monorepo"
  },
  "language_info": {
   "codemirror_mode": {
    "name": "ipython",
    "version": 3
   },
   "file_extension": ".py",
   "mimetype": "text/x-python",
   "name": "python",
   "nbconvert_exporter": "python",
   "pygments_lexer": "ipython3",
   "version": "3.9.15"
  }
 },
 "nbformat": 4,
 "nbformat_minor": 5
}
