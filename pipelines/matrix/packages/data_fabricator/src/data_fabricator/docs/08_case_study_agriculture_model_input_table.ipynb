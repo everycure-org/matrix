{
 "cells": [
  {
   "cell_type": "code",
   "execution_count": 1,
   "id": "8b266e74-8094-4d7d-aeb8-e933520aba51",
   "metadata": {
    "nbsphinx": "hidden",
    "tags": [
     "hide-input"
    ]
   },
   "outputs": [],
   "source": [
    "import pandas as pd\n",
    "\n",
    "pd.set_option(\"display.max_rows\", 500)\n",
    "pd.set_option(\"display.max_columns\", 500)\n",
    "pd.set_option(\"display.width\", 1000)\n",
    "\n",
    "from IPython.display import display, Markdown"
   ]
  },
  {
   "cell_type": "markdown",
   "id": "4563427b-8d48-44d9-a54c-b1e5997fc142",
   "metadata": {},
   "source": [
    "# Model Input Table\n",
    "\n",
    "In this document, we aim to demonstrate how to construct a synthetic model input table from other base tables. The input table can be used as part of the CI/CD pipeline to for unit and integration testing.\n",
    "\n",
    "## Introduction\n",
    "\n",
    "This example comes from the agricultural sector, using the example of 'fields' (plot of land used to grow crops in) and some features relating to those fields in a specific month (the date dimension).\n",
    "\n",
    "The features included are:\n",
    "\n",
    "- nitrogen_applied_kg_per_ha\n",
    "    - the amount of Nitrogen applied in kgs per ha (ha - hectare, standard unit for areas in agriculture) in that month\n",
    "- rainfall_mm \n",
    "    - observed rainfall in the field in mm that month\n",
    "\n",
    "## Example:\n",
    "\n",
    "The example below uses the Python API to construct a base table for the fields, a dimension table for the months and a model input table that uses both tables above (and some features that come from... _somewhere_, just some auxillary info to fill out the example).\n"
   ]
  },
  {
   "cell_type": "code",
   "execution_count": 2,
   "id": "6e645371-eee1-481a-a429-6cbe616bcdca",
   "metadata": {
    "tags": []
   },
   "outputs": [],
   "source": [
    "import random\n",
    "import datetime\n",
    "from tabulate import tabulate\n",
    "from data_fabricator.v1.core.mock_generator import MockDataGenerator\n",
    "from data_fabricator.v1.core.mock_generator import (\n",
    "    BaseTable,\n",
    "    RandomNumbers,\n",
    "    UniqueId,\n",
    "    CrossProduct,\n",
    "    Date,\n",
    "    JoinedColumn,\n",
    "    RowApply,\n",
    ")\n",
    "\n",
    "\n",
    "class Fields(BaseTable):\n",
    "    num_rows = 5\n",
    "    _metadata_ = {\n",
    "        \"description\": \"Fields with field area (ha)\",\n",
    "    }\n",
    "    field_id = UniqueId(\n",
    "        prefix=\"field_\",\n",
    "        id_start_range=0,\n",
    "        id_end_range=5000,\n",
    "        id_length=10,\n",
    "        prob_null_kwargs={\"seed\": 3},\n",
    "    )\n",
    "    area_ha = RandomNumbers(\n",
    "        start_range=5, end_range=50, precision=1, prob_null_kwargs={\"seed\": 3}\n",
    "    )\n",
    "\n",
    "\n",
    "class DateDimension(BaseTable):\n",
    "    num_rows = 12\n",
    "    _metadata_ = {\"description\": \"Month indicies, 1...12\"}\n",
    "    date_index = Date(start_dt=\"2019-01-01\", end_dt=\"2020-01-01\", freq=\"M\")\n",
    "\n",
    "\n",
    "class ModelInputTable(BaseTable):\n",
    "    _metadata_ = {\n",
    "        \"description\": \"Model input table with features\",\n",
    "        \"dependencies\": \"DateDimension\",\n",
    "    }\n",
    "\n",
    "    # Spine\n",
    "    field_id = CrossProduct(\n",
    "        check_all_inputs_same_length=False,\n",
    "        list_of_values=[\"Fields.field_id\", \"DateDimension.date_index\"],\n",
    "        position=0,\n",
    "    )\n",
    "    date_index = CrossProduct(\n",
    "        check_all_inputs_same_length=False,\n",
    "        list_of_values=[\"Fields.field_id\", \"DateDimension.date_index\"],\n",
    "        position=1,\n",
    "    )\n",
    "\n",
    "    # Joined Column\n",
    "    field_area_ha = JoinedColumn(\n",
    "        selected_column=\"Fields.area_ha\",\n",
    "        this_table_key=\"ModelInputTable.field_id\",\n",
    "        other_table_key=\"Fields.field_id\",\n",
    "    )\n",
    "\n",
    "    # Features\n",
    "    applied_nitrogen_kg_per_ha = RandomNumbers(\n",
    "        start_range=150, end_range=350, precision=-1, prob_null_kwargs={\"seed\": 3}\n",
    "    )\n",
    "    rainfall_mm = RowApply(\n",
    "        list_of_values=\"ModelInputTable.date_index\",\n",
    "        row_func=\"lambda x: round(abs(x.month - 7.5) * 10 * random.uniform(0.9 , 1.3),1)\",\n",
    "    )\n",
    "\n",
    "    # Targets\n",
    "    # Multiple to show different variations of the target variable you might have.\n",
    "    growth_mm = RowApply(\n",
    "        list_of_values=[\n",
    "            \"ModelInputTable.applied_nitrogen_kg_per_ha\",\n",
    "            \"ModelInputTable.rainfall_mm\",\n",
    "        ],\n",
    "        row_func=\"lambda x,y: 0.06*x + 0.3*y\",\n",
    "    )"
   ]
  },
  {
   "cell_type": "markdown",
   "id": "19350c4d-cbd6-41e8-bf32-4f18c9beb11d",
   "metadata": {},
   "source": [
    "Let's break this down.\n",
    "\n",
    "### Cross Product\n",
    "\n",
    "The spine of the model input table is formed using the `CrossProduct` of `Fields.field_id` and `Date_Dimension.date_index`, which results in all combinations of the two inputs.\n"
   ]
  },
  {
   "cell_type": "code",
   "execution_count": 3,
   "id": "61de08ec-befa-4db3-ab50-fe797cad37d1",
   "metadata": {
    "tags": []
   },
   "outputs": [],
   "source": [
    "# Spine\n",
    "field_id = CrossProduct(\n",
    "    check_all_inputs_same_length=False,\n",
    "    list_of_values=[\"Fields.field_id\", \"DateDimension.date_index\"],\n",
    "    position=0,\n",
    ")\n",
    "date_index = CrossProduct(\n",
    "    check_all_inputs_same_length=False,\n",
    "    list_of_values=[\"Fields.field_id\", \"DateDimension.date_index\"],\n",
    "    position=1,\n",
    ")"
   ]
  },
  {
   "cell_type": "markdown",
   "id": "db3e3bbf-f411-4175-9781-41d3986aae23",
   "metadata": {},
   "source": [
    "### Joined Column\n",
    "\n",
    "The field `area_ha` can be joined to the model input table using the `JoinedColumn` class and passing in the column to be joined and the keys to join on.\n",
    "\n"
   ]
  },
  {
   "cell_type": "code",
   "execution_count": 4,
   "id": "b70a6b0e-f4a9-4032-a038-e002ff719dc5",
   "metadata": {
    "tags": []
   },
   "outputs": [],
   "source": [
    "# Joined Column\n",
    "field_area_ha = JoinedColumn(\n",
    "    selected_column=\"Fields.area_ha\",\n",
    "    this_table_key=\"ModelInputTable.field_id\",\n",
    "    other_table_key=\"Fields.field_id\",\n",
    ")"
   ]
  },
  {
   "cell_type": "markdown",
   "id": "5e130ecc-0f3c-4ff6-86ce-3c2dccc7ebcf",
   "metadata": {},
   "source": [
    "## Result\n",
    "\n",
    "When executed the following tables are produced:"
   ]
  },
  {
   "cell_type": "code",
   "execution_count": 5,
   "id": "9a779c70-c1a8-477d-a484-183d6838c093",
   "metadata": {
    "tags": [
     "hide-input"
    ]
   },
   "outputs": [
    {
     "name": "stdout",
     "output_type": "stream",
     "text": [
      "Table: Fields\n",
      "+----+------------+-----------+\n",
      "|    | field_id   |   area_ha |\n",
      "|----+------------+-----------|\n",
      "|  0 | field_1068 |      15.7 |\n",
      "|  1 | field_1949 |      29.5 |\n",
      "|  2 | field_3030 |      21.6 |\n",
      "|  3 | field_4458 |      32.2 |\n",
      "|  4 | field_4854 |      33.2 |\n",
      "+----+------------+-----------+\n",
      "\n",
      "\n",
      "Table: DateDimension\n",
      "+----+--------------+\n",
      "|    |   date_index |\n",
      "|----+--------------|\n",
      "|  0 |  1.54889e+18 |\n",
      "|  1 |  1.55131e+18 |\n",
      "|  2 |  1.55399e+18 |\n",
      "|  3 |  1.55658e+18 |\n",
      "|  4 |  1.55926e+18 |\n",
      "|  5 |  1.56185e+18 |\n",
      "|  6 |  1.56453e+18 |\n",
      "|  7 |  1.56721e+18 |\n",
      "|  8 |  1.5698e+18  |\n",
      "|  9 |  1.57248e+18 |\n",
      "| 10 |  1.57507e+18 |\n",
      "| 11 |  1.57775e+18 |\n",
      "+----+--------------+\n",
      "\n",
      "\n",
      "Table: ModelInputTable\n",
      "+----+------------+---------------------+-----------------+------------------------------+---------------+-------------+\n",
      "|    | field_id   | date_index          |   field_area_ha |   applied_nitrogen_kg_per_ha |   rainfall_mm |   growth_mm |\n",
      "|----+------------+---------------------+-----------------+------------------------------+---------------+-------------|\n",
      "|  0 | field_1068 | 2019-01-31 00:00:00 |            15.7 |                          200 |          77.1 |       35.13 |\n",
      "|  1 | field_1068 | 2019-02-28 00:00:00 |            15.7 |                          260 |          54.1 |       31.83 |\n",
      "|  2 | field_1068 | 2019-03-31 00:00:00 |            15.7 |                          220 |          55.5 |       29.85 |\n",
      "|  3 | field_1068 | 2019-04-30 00:00:00 |            15.7 |                          270 |          39.5 |       28.05 |\n",
      "|  4 | field_1068 | 2019-05-31 00:00:00 |            15.7 |                          280 |          25.3 |       24.39 |\n",
      "|  5 | field_1068 | 2019-06-30 00:00:00 |            15.7 |                          160 |          13.9 |       13.77 |\n",
      "|  6 | field_1068 | 2019-07-31 00:00:00 |            15.7 |                          150 |           6.2 |       10.86 |\n",
      "|  7 | field_1068 | 2019-08-31 00:00:00 |            15.7 |                          320 |           6.5 |       21.15 |\n",
      "|  8 | field_1068 | 2019-09-30 00:00:00 |            15.7 |                          200 |          14   |       16.2  |\n",
      "|  9 | field_1068 | 2019-10-31 00:00:00 |            15.7 |                          200 |          30.5 |       21.15 |\n",
      "| 10 | field_1068 | 2019-11-30 00:00:00 |            15.7 |                          350 |          37.2 |       32.16 |\n",
      "| 11 | field_1068 | 2019-12-31 00:00:00 |            15.7 |                          240 |          43.2 |       27.36 |\n",
      "| 12 | field_1949 | 2019-01-31 00:00:00 |            29.5 |                          320 |          66.1 |       39.03 |\n",
      "| 13 | field_1949 | 2019-02-28 00:00:00 |            29.5 |                          250 |          66.4 |       34.92 |\n",
      "| 14 | field_1949 | 2019-03-31 00:00:00 |            29.5 |                          280 |          56.2 |       33.66 |\n",
      "| 15 | field_1949 | 2019-04-30 00:00:00 |            29.5 |                          180 |          32.1 |       20.43 |\n",
      "| 16 | field_1949 | 2019-05-31 00:00:00 |            29.5 |                          280 |          28.6 |       25.38 |\n",
      "| 17 | field_1949 | 2019-06-30 00:00:00 |            29.5 |                          320 |          13.8 |       23.34 |\n",
      "| 18 | field_1949 | 2019-07-31 00:00:00 |            29.5 |                          250 |           5.9 |       16.77 |\n",
      "| 19 | field_1949 | 2019-08-31 00:00:00 |            29.5 |                          300 |           5.2 |       19.56 |\n",
      "| 20 | field_1949 | 2019-09-30 00:00:00 |            29.5 |                          280 |          18.8 |       22.44 |\n",
      "| 21 | field_1949 | 2019-10-31 00:00:00 |            29.5 |                          160 |          32.3 |       19.29 |\n",
      "| 22 | field_1949 | 2019-11-30 00:00:00 |            29.5 |                          300 |          38.6 |       29.58 |\n",
      "| 23 | field_1949 | 2019-12-31 00:00:00 |            29.5 |                          270 |          58.5 |       33.75 |\n",
      "| 24 | field_3030 | 2019-01-31 00:00:00 |            21.6 |                          210 |          66.6 |       32.58 |\n",
      "| 25 | field_3030 | 2019-02-28 00:00:00 |            21.6 |                          160 |          51.2 |       24.96 |\n",
      "| 26 | field_3030 | 2019-03-31 00:00:00 |            21.6 |                          320 |          51.3 |       34.59 |\n",
      "| 27 | field_3030 | 2019-04-30 00:00:00 |            21.6 |                          240 |          31.9 |       23.97 |\n",
      "| 28 | field_3030 | 2019-05-31 00:00:00 |            21.6 |                          290 |          24.5 |       24.75 |\n",
      "| 29 | field_3030 | 2019-06-30 00:00:00 |            21.6 |                          330 |          15.9 |       24.57 |\n",
      "| 30 | field_3030 | 2019-07-31 00:00:00 |            21.6 |                          290 |           5.7 |       19.11 |\n",
      "| 31 | field_3030 | 2019-08-31 00:00:00 |            21.6 |                          330 |           4.8 |       21.24 |\n",
      "| 32 | field_3030 | 2019-09-30 00:00:00 |            21.6 |                          230 |          13.8 |       17.94 |\n",
      "| 33 | field_3030 | 2019-10-31 00:00:00 |            21.6 |                          310 |          31.2 |       27.96 |\n",
      "| 34 | field_3030 | 2019-11-30 00:00:00 |            21.6 |                          240 |          35.9 |       25.17 |\n",
      "| 35 | field_3030 | 2019-12-31 00:00:00 |            21.6 |                          340 |          57.8 |       37.74 |\n",
      "| 36 | field_4458 | 2019-01-31 00:00:00 |            32.2 |                          330 |          81.8 |       44.34 |\n",
      "| 37 | field_4458 | 2019-02-28 00:00:00 |            32.2 |                          170 |          57.8 |       27.54 |\n",
      "| 38 | field_4458 | 2019-03-31 00:00:00 |            32.2 |                          180 |          48.8 |       25.44 |\n",
      "| 39 | field_4458 | 2019-04-30 00:00:00 |            32.2 |                          190 |          38.8 |       23.04 |\n",
      "| 40 | field_4458 | 2019-05-31 00:00:00 |            32.2 |                          340 |          28.9 |       29.07 |\n",
      "| 41 | field_4458 | 2019-06-30 00:00:00 |            32.2 |                          240 |          17.1 |       19.53 |\n",
      "| 42 | field_4458 | 2019-07-31 00:00:00 |            32.2 |                          280 |           5.6 |       18.48 |\n",
      "| 43 | field_4458 | 2019-08-31 00:00:00 |            32.2 |                          210 |           5.7 |       14.31 |\n",
      "| 44 | field_4458 | 2019-09-30 00:00:00 |            32.2 |                          250 |          19.1 |       20.73 |\n",
      "| 45 | field_4458 | 2019-10-31 00:00:00 |            32.2 |                          230 |          27.6 |       22.08 |\n",
      "| 46 | field_4458 | 2019-11-30 00:00:00 |            32.2 |                          220 |          37.5 |       24.45 |\n",
      "| 47 | field_4458 | 2019-12-31 00:00:00 |            32.2 |                          270 |          53.5 |       32.25 |\n",
      "| 48 | field_4854 | 2019-01-31 00:00:00 |            33.2 |                          270 |          64.7 |       35.61 |\n",
      "| 49 | field_4854 | 2019-02-28 00:00:00 |            33.2 |                          330 |          56.1 |       36.63 |\n",
      "| 50 | field_4854 | 2019-03-31 00:00:00 |            33.2 |                          290 |          58.1 |       34.83 |\n",
      "| 51 | field_4854 | 2019-04-30 00:00:00 |            33.2 |                          340 |          38.8 |       32.04 |\n",
      "| 52 | field_4854 | 2019-05-31 00:00:00 |            33.2 |                          320 |          28   |       27.6  |\n",
      "| 53 | field_4854 | 2019-06-30 00:00:00 |            33.2 |                          350 |          13.6 |       25.08 |\n",
      "| 54 | field_4854 | 2019-07-31 00:00:00 |            33.2 |                          280 |           5.3 |       18.39 |\n",
      "| 55 | field_4854 | 2019-08-31 00:00:00 |            33.2 |                          180 |           5.7 |       12.51 |\n",
      "| 56 | field_4854 | 2019-09-30 00:00:00 |            33.2 |                          320 |          13.6 |       23.28 |\n",
      "| 57 | field_4854 | 2019-10-31 00:00:00 |            33.2 |                          340 |          28.7 |       29.01 |\n",
      "| 58 | field_4854 | 2019-11-30 00:00:00 |            33.2 |                          330 |          40.4 |       31.92 |\n",
      "| 59 | field_4854 | 2019-12-31 00:00:00 |            33.2 |                          260 |          41.6 |       28.08 |\n",
      "+----+------------+---------------------+-----------------+------------------------------+---------------+-------------+\n",
      "\n",
      "\n"
     ]
    }
   ],
   "source": [
    "mdg = MockDataGenerator(tables=[Fields, DateDimension, ModelInputTable])\n",
    "mdg.generate_all()\n",
    "\n",
    "for table_name, table in mdg.tables.items():\n",
    "    print(f\"Table: {table_name}\")\n",
    "    print(tabulate(table.dataframe, headers=table.dataframe.columns, tablefmt=\"psql\"))\n",
    "    print(\"\\n\")"
   ]
  },
  {
   "cell_type": "markdown",
   "id": "dc6e4f29-7871-4dc8-9998-b9108f20e7d7",
   "metadata": {},
   "source": [
    "## Analysis\n",
    "\n",
    "Using `r_regression` from `scikit-learn` we can see the correlation between the features and the target.\n",
    "\n"
   ]
  },
  {
   "cell_type": "code",
   "execution_count": 6,
   "id": "6c8df2bb-a6b3-4d76-8e8b-798f11df6f0a",
   "metadata": {
    "tags": [
     "hide-input"
    ]
   },
   "outputs": [
    {
     "name": "stdout",
     "output_type": "stream",
     "text": [
      "  field_area_ha    applied_nitrogen_kg_per_ha    rainfall_mm\n",
      "---------------  ----------------------------  -------------\n",
      "           0.11                          0.48           0.88\n"
     ]
    }
   ],
   "source": [
    "from sklearn.feature_selection import r_regression\n",
    "\n",
    "model_input_table = mdg.tables[\"ModelInputTable\"].dataframe\n",
    "\n",
    "features = [\"field_area_ha\", \"applied_nitrogen_kg_per_ha\", \"rainfall_mm\"]\n",
    "\n",
    "X = model_input_table[features]\n",
    "y = model_input_table[\"growth_mm\"]\n",
    "\n",
    "correlation_matrix = r_regression(X=X, y=y)\n",
    "\n",
    "print(tabulate([[round(x, 2) for x in correlation_matrix]], headers=features))"
   ]
  },
  {
   "cell_type": "markdown",
   "id": "e9f26d82-5d39-4fae-91eb-2a6b9f8a6bf7",
   "metadata": {},
   "source": [
    "\n",
    "A quick `DecisionTreeRegression` shows us that even on a relatively small dataset we get a good approximation (funny that...).\n"
   ]
  },
  {
   "cell_type": "code",
   "execution_count": 7,
   "id": "01bf6203-262f-4bdb-aa70-5f536962083b",
   "metadata": {
    "tags": []
   },
   "outputs": [],
   "source": [
    "# Model Prediction\n",
    "# This is very likely not the best model to use, but just roll with it,\n",
    "# and this is for demonstration purposes only.\n",
    "from sklearn.tree import DecisionTreeRegressor\n",
    "from sklearn.model_selection import train_test_split\n",
    "import matplotlib.pyplot as plt\n",
    "import numpy as np\n",
    "\n",
    "X_train, X_test, y_train, y_test = train_test_split(\n",
    "    X, y, test_size=0.33, random_state=42\n",
    ")\n",
    "\n",
    "tree_regressor = DecisionTreeRegressor(random_state=0)\n",
    "tree_regressor.fit(X=X_train, y=y_train)\n",
    "y_predict = tree_regressor.predict(X=X_test)"
   ]
  },
  {
   "cell_type": "code",
   "execution_count": 8,
   "id": "4dadde1f-38a7-4b74-a530-8d3bb701e0c4",
   "metadata": {
    "nbsphinx": "hidden",
    "tags": [
     "hide-input"
    ]
   },
   "outputs": [],
   "source": [
    "fig, ax = plt.subplots()\n",
    "ax.scatter(y_test, y_predict, s=20, edgecolor=\"black\", c=\"darkorange\", label=\"data\")\n",
    "\n",
    "# Line\n",
    "lims = [\n",
    "    np.min([ax.get_xlim(), ax.get_ylim()]),  # min of both axes\n",
    "    np.max([ax.get_xlim(), ax.get_ylim()]),  # max of both axes\n",
    "]\n",
    "\n",
    "# now plot both limits against eachother\n",
    "ax.plot(lims, lims, \"k-\", alpha=0.75, zorder=0)\n",
    "ax.set_aspect(\"equal\")\n",
    "ax.set_xlim(lims)\n",
    "ax.set_ylim(lims)\n",
    "\n",
    "# Format\n",
    "plt.xlabel(\"Actual\")\n",
    "plt.ylabel(\"Predicted\")\n",
    "plt.title(\"Decision Tree Regression\")\n",
    "plt.legend()\n",
    "\n",
    "# Show\n",
    "plt.savefig(\n",
    "    \"data_fabricator/docs/images/8_agriculture_model_input_table.png\", format=\"PNG\"\n",
    ")\n",
    "\n",
    "plt.clf()\n",
    "plt.close()"
   ]
  },
  {
   "cell_type": "markdown",
   "id": "b1261f7f-7e95-4167-9692-c70dc15d09f4",
   "metadata": {},
   "source": [
    "![png](images/8_agriculture_model_input_table.png)\n",
    "\n",
    "\n",
    "## Conclusion\n",
    "\n",
    "With this approach we can have some level of control over the correlations that are expected between features and the target. Hence, we can generate a model input table that is suitable for performing a sanity check for an ML pipeline."
   ]
  }
 ],
 "metadata": {
  "celltoolbar": "Edit Metadata",
  "kernelspec": {
   "display_name": "qblabs-monorepo",
   "language": "python",
   "name": "qblabs-monorepo"
  },
  "language_info": {
   "codemirror_mode": {
    "name": "ipython",
    "version": 3
   },
   "file_extension": ".py",
   "mimetype": "text/x-python",
   "name": "python",
   "nbconvert_exporter": "python",
   "pygments_lexer": "ipython3",
   "version": "3.9.15"
  }
 },
 "nbformat": 4,
 "nbformat_minor": 5
}
