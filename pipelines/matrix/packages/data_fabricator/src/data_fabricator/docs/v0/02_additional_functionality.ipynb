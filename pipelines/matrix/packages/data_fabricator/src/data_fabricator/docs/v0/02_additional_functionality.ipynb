{
 "cells": [
  {
   "cell_type": "code",
   "execution_count": 1,
   "id": "00d1e8e0-ada7-457d-a4de-772bcfa40309",
   "metadata": {
    "nbsphinx": "hidden",
    "tags": [
     "hide-input"
    ]
   },
   "outputs": [],
   "source": [
    "import random\n",
    "\n",
    "random.seed(1)\n",
    "\n",
    "import pandas as pd\n",
    "\n",
    "pd.set_option(\"display.max_rows\", 500)\n",
    "pd.set_option(\"display.max_columns\", 500)\n",
    "pd.set_option(\"display.width\", 1000)"
   ]
  },
  {
   "cell_type": "markdown",
   "id": "4084b0bf-af3e-454e-bc32-3d94008760bc",
   "metadata": {},
   "source": [
    "# Additional Functionality\n",
    "\n",
    "This document will highlight the extended functionality and some new functions of fabricator.\n",
    "\n",
    "## Setting Seed\n",
    "Sometimes, we like the data to be exactly the same. In such cases, we can set the `seed`\n",
    "when instantiating the `MockDataGenerator` class. However, we recommend that for end-to-end\n",
    "testing to avoid setting this seed just in case your pipeline logic somehow relies on the\n",
    "exact ordering of rows, see this [page](https://hypothesis.readthedocs.io/en/latest/)\n",
    "for reasons not to order your data exactly each time."
   ]
  },
  {
   "cell_type": "code",
   "execution_count": 2,
   "id": "b0e9543b-b0fa-43a1-b078-8072c541b5d4",
   "metadata": {
    "nbsphinx": "hidden",
    "tags": [
     "hide-input"
    ]
   },
   "outputs": [],
   "source": [
    "import yaml\n",
    "\n",
    "yaml_string = \"\"\"\n",
    "     accounts:\n",
    "       num_rows: 10\n",
    "       columns:\n",
    "         id:\n",
    "           type: generate_unique_id\n",
    "           id_start_range: 0\n",
    "           id_end_range: 10\n",
    "           id_length: 4\n",
    "         random:\n",
    "           type: numpy_random\n",
    "           distribution: binomial\n",
    "           n: 1\n",
    "           p: 0.5\n",
    "         member_id:\n",
    "           type: generate_unique_id\n",
    "           prefix: mem_\n",
    "           id_start_range: 0\n",
    "           id_end_range: 5000\n",
    "           id_length: 10\n",
    "         period_start_date:\n",
    "           type: generate_dates\n",
    "           start_dt: 2019-01-01\n",
    "           end_dt: 2021-01-01\n",
    "           freq: D\n",
    "         period_end_date:\n",
    "           type: row_apply\n",
    "           list_of_values: accounts.period_start_date\n",
    "           row_func: \"lambda x: x + datetime.timedelta(days=random.randint(100, 365))\"\n",
    "    \"\"\"\n",
    "config = yaml.safe_load(yaml_string)"
   ]
  },
  {
   "cell_type": "markdown",
   "id": "9df61d30-0801-457a-9c8a-237e766cd472",
   "metadata": {},
   "source": [
    "Given the following config:"
   ]
  },
  {
   "cell_type": "code",
   "execution_count": 3,
   "id": "165fe61b-da1c-4824-8781-338f841ae0a1",
   "metadata": {
    "tags": [
     "hide-input"
    ]
   },
   "outputs": [
    {
     "name": "stdout",
     "output_type": "stream",
     "text": [
      "\n",
      "     accounts:\n",
      "       num_rows: 10\n",
      "       columns:\n",
      "         id:\n",
      "           type: generate_unique_id\n",
      "           id_start_range: 0\n",
      "           id_end_range: 10\n",
      "           id_length: 4\n",
      "         random:\n",
      "           type: numpy_random\n",
      "           distribution: binomial\n",
      "           n: 1\n",
      "           p: 0.5\n",
      "         member_id:\n",
      "           type: generate_unique_id\n",
      "           prefix: mem_\n",
      "           id_start_range: 0\n",
      "           id_end_range: 5000\n",
      "           id_length: 10\n",
      "         period_start_date:\n",
      "           type: generate_dates\n",
      "           start_dt: 2019-01-01\n",
      "           end_dt: 2021-01-01\n",
      "           freq: D\n",
      "         period_end_date:\n",
      "           type: row_apply\n",
      "           list_of_values: accounts.period_start_date\n",
      "           row_func: \"lambda x: x + datetime.timedelta(days=random.randint(100, 365))\"\n",
      "    \n"
     ]
    }
   ],
   "source": [
    "print(yaml_string)"
   ]
  },
  {
   "cell_type": "code",
   "execution_count": 4,
   "id": "360f36d2-baa6-418c-9ba6-10636a1e4060",
   "metadata": {
    "tags": [
     "hide-output"
    ]
   },
   "outputs": [
    {
     "name": "stderr",
     "output_type": "stream",
     "text": [
      "/var/folders/x8/_9l2j54n1lx_71w8kncv7mc80000gp/T/ipykernel_42407/2113490096.py:1: DeprecationWarning: Deprecation Warning: You are using v0 of Data Fabricator API which will bedeprecated soon. Please migrate to v1 as soon as possible. For information onhow to migrate, please visit our documentation page.\n",
      "  from data_fabricator.v0.core.fabricator import (\n"
     ]
    }
   ],
   "source": [
    "from data_fabricator.v0.core.fabricator import (\n",
    "    MockDataGenerator,\n",
    ")\n",
    "\n",
    "mock_generator = MockDataGenerator(seed=1, instructions=config)\n",
    "mock_generator.generate_all()"
   ]
  },
  {
   "cell_type": "markdown",
   "id": "52c739ed-c88d-4387-ba1b-7fdb0aa621a3",
   "metadata": {},
   "source": [
    "## Generate Array columns\n",
    "You can generate random array type columns using `generate_random_arrays` function. It allows the user to\n",
    "generate the arrays using the `sample_values` provided. You can even allow duplicates using the flag `allow_duplicates`\n",
    "and also set `length` param to generate fixed length array elements for the column.\n",
    "\n",
    "Let's see how you can use this function in real setting:"
   ]
  },
  {
   "cell_type": "code",
   "execution_count": 5,
   "id": "4a4a6851-0fc9-4955-a834-c66d1de422a3",
   "metadata": {
    "nbsphinx": "hidden",
    "tags": [
     "hide-input"
    ]
   },
   "outputs": [],
   "source": [
    "import yaml\n",
    "\n",
    "yaml_string = \"\"\"\n",
    "    reps:\n",
    "        num_rows: 10\n",
    "        columns:\n",
    "            rep_id:\n",
    "                type: generate_unique_id\n",
    "                prefix: hcp\n",
    "                id_start_range: 1\n",
    "                id_end_range: 201\n",
    "            territory_ids:\n",
    "                type: generate_random_arrays\n",
    "                sample_values: [1, 2, 3, 4]\n",
    "                allow_duplicates: False\n",
    "                length: 2\n",
    "\"\"\"\n",
    "config = yaml.safe_load(yaml_string)"
   ]
  },
  {
   "cell_type": "markdown",
   "id": "3d475aad-0535-4eef-ab73-145a82e1c7f8",
   "metadata": {},
   "source": [
    "Given the following config:"
   ]
  },
  {
   "cell_type": "code",
   "execution_count": 6,
   "id": "2971f451-7bdc-4d7c-b0f6-912c43b92717",
   "metadata": {
    "tags": [
     "hide-input"
    ]
   },
   "outputs": [
    {
     "name": "stdout",
     "output_type": "stream",
     "text": [
      "\n",
      "    reps:\n",
      "        num_rows: 10\n",
      "        columns:\n",
      "            rep_id:\n",
      "                type: generate_unique_id\n",
      "                prefix: hcp\n",
      "                id_start_range: 1\n",
      "                id_end_range: 201\n",
      "            territory_ids:\n",
      "                type: generate_random_arrays\n",
      "                sample_values: [1, 2, 3, 4]\n",
      "                allow_duplicates: False\n",
      "                length: 2\n",
      "\n"
     ]
    }
   ],
   "source": [
    "print(yaml_string)"
   ]
  },
  {
   "cell_type": "markdown",
   "id": "288769ef-fe19-4194-b578-41259037bf41",
   "metadata": {},
   "source": [
    "Let's generate a column named `territory_ids` which keeps a check on all the territories that are associated\n",
    "with that particular Rep. Let's say each hcp can only have two territories assigned to them. Also, there can't\n",
    "be duplicate territory ids per Rep, so we keep the `allow_duplicates` as False.\n"
   ]
  },
  {
   "cell_type": "code",
   "execution_count": 7,
   "id": "4a5d35c0-03a9-4d0f-acd9-f07297e55cc2",
   "metadata": {
    "tags": []
   },
   "outputs": [
    {
     "name": "stdout",
     "output_type": "stream",
     "text": [
      "0    [2, 3]\n",
      "1    [2, 4]\n",
      "2    [3, 1]\n",
      "3    [4, 3]\n",
      "4    [1, 4]\n",
      "5    [3, 1]\n",
      "6    [3, 4]\n",
      "7    [4, 3]\n",
      "8    [2, 4]\n",
      "9    [3, 4]\n",
      "Name: territory_ids, dtype: object\n"
     ]
    }
   ],
   "source": [
    "from data_fabricator.v0.core.fabricator import MockDataGenerator\n",
    "\n",
    "mock_generator = MockDataGenerator(instructions=config)\n",
    "mock_generator.generate_all()\n",
    "\n",
    "rep_df = mock_generator.all_dataframes[\"reps\"]\n",
    "print(rep_df[\"territory_ids\"])"
   ]
  },
  {
   "cell_type": "markdown",
   "id": "70e35e87-f855-45e3-ae3a-7ece84535bc7",
   "metadata": {},
   "source": [
    "## Generate Single date function\n",
    " This callable function to be used with `row_apply` that allows us to generate another column\n",
    " like start or end date. This won't generate an entire array of values to either down or upsample later.\n",
    " It generates single date based on the provided conditions.\n",
    "\n",
    " In the following example, we are trying to create interaction date for every customer.\n",
    " Generally the interaction happens after customer account has enrolled. So, we provided the condition the\n",
    " interaction date should be between account enroll date and 14 days from the enrolling time.\n"
   ]
  },
  {
   "cell_type": "code",
   "execution_count": 8,
   "id": "e769c2f5-821e-4e85-b7df-e36133cd53c3",
   "metadata": {
    "nbsphinx": "hidden",
    "tags": [
     "hide-input"
    ]
   },
   "outputs": [],
   "source": [
    "import yaml\n",
    "\n",
    "yaml_string = \"\"\"\n",
    "    customers:\n",
    "       num_rows: 10\n",
    "       columns:\n",
    "         acct_id:\n",
    "           type: generate_unique_id\n",
    "           id_start_range: 0\n",
    "           id_end_range: 10\n",
    "           id_length: 4\n",
    "         acct_enroll_dt:\n",
    "           type: generate_dates\n",
    "           start_dt: 2019-01-01\n",
    "           end_dt: 2020-12-31\n",
    "           freq: B\n",
    "           seed: 1\n",
    "\n",
    "    interactions:\n",
    "       num_rows: 10\n",
    "       columns:\n",
    "         interaction_id:\n",
    "           type: generate_unique_id\n",
    "           id_start_range: 0\n",
    "           id_end_range: 10\n",
    "           id_length: 2\n",
    "         acct_id:\n",
    "           type: row_apply\n",
    "           list_of_values:\n",
    "             - customers.acct_id\n",
    "             - customers.acct_enroll_dt\n",
    "           row_func: \"lambda x, y: f'{x}'\"\n",
    "           seed: 1\n",
    "         interaction_dt:\n",
    "           type: row_apply\n",
    "           list_of_values:\n",
    "             - customers.acct_id\n",
    "             - customers.acct_enroll_dt\n",
    "           # Setting seed is not recommended for general use, please consider when to use seed\n",
    "           row_func: \"lambda x, y: generate_single_date(start_dt= y, end_dt= datetime.datetime.strptime(str(y.date()), '%Y-%m-%d') + datetime.timedelta(days=14), random_seed= 1)[0]\"\n",
    "           seed: 1\n",
    "\"\"\"\n",
    "config = yaml.safe_load(yaml_string)"
   ]
  },
  {
   "cell_type": "markdown",
   "id": "9a0bb26f-b57a-4b05-bfc6-32e6b68a7348",
   "metadata": {},
   "source": [
    "Given the following config:"
   ]
  },
  {
   "cell_type": "code",
   "execution_count": 9,
   "id": "f677ae79-f27a-41c5-8704-fba77b774da1",
   "metadata": {
    "tags": []
   },
   "outputs": [
    {
     "name": "stdout",
     "output_type": "stream",
     "text": [
      "\n",
      "    customers:\n",
      "       num_rows: 10\n",
      "       columns:\n",
      "         acct_id:\n",
      "           type: generate_unique_id\n",
      "           id_start_range: 0\n",
      "           id_end_range: 10\n",
      "           id_length: 4\n",
      "         acct_enroll_dt:\n",
      "           type: generate_dates\n",
      "           start_dt: 2019-01-01\n",
      "           end_dt: 2020-12-31\n",
      "           freq: B\n",
      "           seed: 1\n",
      "\n",
      "    interactions:\n",
      "       num_rows: 10\n",
      "       columns:\n",
      "         interaction_id:\n",
      "           type: generate_unique_id\n",
      "           id_start_range: 0\n",
      "           id_end_range: 10\n",
      "           id_length: 2\n",
      "         acct_id:\n",
      "           type: row_apply\n",
      "           list_of_values:\n",
      "             - customers.acct_id\n",
      "             - customers.acct_enroll_dt\n",
      "           row_func: \"lambda x, y: f'{x}'\"\n",
      "           seed: 1\n",
      "         interaction_dt:\n",
      "           type: row_apply\n",
      "           list_of_values:\n",
      "             - customers.acct_id\n",
      "             - customers.acct_enroll_dt\n",
      "           # Setting seed is not recommended for general use, please consider when to use seed\n",
      "           row_func: \"lambda x, y: generate_single_date(start_dt= y, end_dt= datetime.datetime.strptime(str(y.date()), '%Y-%m-%d') + datetime.timedelta(days=14), random_seed= 1)[0]\"\n",
      "           seed: 1\n",
      "\n"
     ]
    }
   ],
   "source": [
    "print(yaml_string)"
   ]
  },
  {
   "cell_type": "markdown",
   "id": "1649198c-bf4f-4b69-b254-7dcccc909e97",
   "metadata": {},
   "source": [
    "Let's generate single interaction date for each customer:"
   ]
  },
  {
   "cell_type": "code",
   "execution_count": 10,
   "id": "e54ca26f-424b-4f72-b821-ef410235a425",
   "metadata": {
    "tags": []
   },
   "outputs": [
    {
     "name": "stdout",
     "output_type": "stream",
     "text": [
      "  interaction_id acct_id interaction_dt\n",
      "0             00    0000     2019-04-04\n",
      "1             01    0001     2019-05-18\n",
      "2             02    0002     2019-06-21\n",
      "3             03    0003     2019-07-14\n",
      "4             04    0004     2019-10-31\n",
      "5             05    0005     2020-01-04\n",
      "6             06    0006     2020-06-29\n",
      "7             07    0007     2020-10-09\n",
      "8             08    0008     2020-11-09\n",
      "9             09    0009     2020-12-13\n"
     ]
    }
   ],
   "source": [
    "from data_fabricator.v0.core.fabricator import MockDataGenerator\n",
    "\n",
    "# Setting seed is not recommended for general use, please consider when to use seed\n",
    "mock_generator = MockDataGenerator(instructions=config)\n",
    "mock_generator.generate_all()\n",
    "\n",
    "customer_df = mock_generator.all_dataframes[\"customers\"]\n",
    "customer_df\n",
    "interactions_df = mock_generator.all_dataframes[\"interactions\"]\n",
    "print(interactions_df)"
   ]
  },
  {
   "cell_type": "markdown",
   "id": "9da8d6e5-0193-4903-996f-6b1be105e874",
   "metadata": {},
   "source": [
    "Let's check the interaction happens after the account has enrolled:\n",
    "`acct_enroll_dt <= interaction_dt <= acct_enroll_dt + 14 days`"
   ]
  },
  {
   "cell_type": "code",
   "execution_count": 11,
   "id": "b3aa2347-869d-4826-98c0-1d0008f5c0ca",
   "metadata": {
    "tags": []
   },
   "outputs": [
    {
     "name": "stdout",
     "output_type": "stream",
     "text": [
      "  acct_id acct_enroll_dt interaction_id interaction_dt\n",
      "0    0000     2019-04-01             00     2019-04-04\n",
      "1    0001     2019-05-15             01     2019-05-18\n",
      "2    0002     2019-06-18             02     2019-06-21\n",
      "3    0003     2019-07-11             03     2019-07-14\n",
      "4    0004     2019-10-28             04     2019-10-31\n",
      "5    0005     2020-01-01             05     2020-01-04\n",
      "6    0006     2020-06-26             06     2020-06-29\n",
      "7    0007     2020-10-06             07     2020-10-09\n",
      "8    0008     2020-11-06             08     2020-11-09\n",
      "9    0009     2020-12-10             09     2020-12-13\n"
     ]
    }
   ],
   "source": [
    "import pandas as pd\n",
    "\n",
    "joined_df = pd.merge(customer_df, interactions_df, on=\"acct_id\", how=\"left\")\n",
    "print(joined_df)"
   ]
  },
  {
   "cell_type": "markdown",
   "id": "4cd2739b-f720-4cd1-91d6-2eca20332acb",
   "metadata": {},
   "source": [
    "## Capture desirable rows from dataset\n",
    "\n",
    " This callable function to be used with `column_apply` that allows us to capture desirable subset of a dataset.\n",
    " The mechanism is to create a temp table that identifies which rows to keep and which to remove,\n",
    " and then quickly remove the rows that are not to be kept (flag column = false).\n",
    "\n",
    " In the following example, we are trying to capture only savings accounts.\n"
   ]
  },
  {
   "cell_type": "code",
   "execution_count": 12,
   "id": "c756b026-328a-4806-97b8-2e3866be56e1",
   "metadata": {
    "nbsphinx": "hidden",
    "tags": [
     "hide-input"
    ]
   },
   "outputs": [],
   "source": [
    "import yaml\n",
    "\n",
    "yaml_string = \"\"\"\n",
    "    account:\n",
    "       num_rows: 10\n",
    "       columns:\n",
    "         acct_id:\n",
    "           type: generate_unique_id\n",
    "           id_start_range: 0\n",
    "           id_end_range: 10\n",
    "           id_length: 4\n",
    "         acct_type:\n",
    "           type: generate_values\n",
    "           sample_values:\n",
    "            - savings\n",
    "            - current\n",
    "         acct_start_dt:\n",
    "           type: generate_dates\n",
    "           start_dt: 2020-01-01\n",
    "           end_dt: 2020-12-31\n",
    "           freq: M\n",
    "           seed: 1\n",
    "\n",
    "    _temp_savings_account:\n",
    "       num_rows: 10\n",
    "       columns:\n",
    "         acct_id:\n",
    "           type: row_apply\n",
    "           list_of_values: [account.acct_id, account.acct_start_dt]\n",
    "           row_func: \"lambda x,y: x\"\n",
    "         acct_start_dt:\n",
    "           type: row_apply\n",
    "           list_of_values: [account.acct_id, account.acct_start_dt]\n",
    "           row_func: \"lambda x,y: y\"\n",
    "         principal_amount:\n",
    "           type: generate_random_numbers\n",
    "           start_range: 30000\n",
    "           end_range: 200000\n",
    "         keep_row:\n",
    "           type: row_apply\n",
    "           list_of_values: account.acct_type\n",
    "           row_func: \"lambda x: x=='savings'\"\n",
    "\n",
    "    savings_account:\n",
    "      columns:\n",
    "         acct_id:\n",
    "           type: column_apply\n",
    "           list_of_values:\n",
    "            - _temp_savings_account.acct_id\n",
    "            - _temp_savings_account.principal_amount\n",
    "            - _temp_savings_account.keep_row\n",
    "            - _temp_savings_account.acct_start_dt\n",
    "           column_func: drop_filtered_condition_rows\n",
    "           column_func_kwargs:\n",
    "              position: 0\n",
    "         principal_amount:\n",
    "           type: column_apply\n",
    "           list_of_values:\n",
    "            - _temp_savings_account.acct_id\n",
    "            - _temp_savings_account.principal_amount\n",
    "            - _temp_savings_account.keep_row\n",
    "            - _temp_savings_account.acct_start_dt\n",
    "           column_func: drop_filtered_condition_rows\n",
    "           column_func_kwargs:\n",
    "              position: 1\n",
    "         acct_start_dt:\n",
    "           type: column_apply\n",
    "           list_of_values:\n",
    "            - _temp_savings_account.acct_id\n",
    "            - _temp_savings_account.principal_amount\n",
    "            - _temp_savings_account.keep_row\n",
    "            - _temp_savings_account.acct_start_dt\n",
    "           column_func: drop_filtered_condition_rows\n",
    "           column_func_kwargs:\n",
    "              position: 3\n",
    "\"\"\"\n",
    "config = yaml.safe_load(yaml_string)"
   ]
  },
  {
   "cell_type": "markdown",
   "id": "ddba9b7e-99f6-441c-ba4a-f688f83fe8e6",
   "metadata": {},
   "source": [
    "Given the following config:"
   ]
  },
  {
   "cell_type": "code",
   "execution_count": 13,
   "id": "d4a8176a-7920-49cd-8b32-8b955e73f6c6",
   "metadata": {
    "tags": []
   },
   "outputs": [
    {
     "name": "stdout",
     "output_type": "stream",
     "text": [
      "\n",
      "    account:\n",
      "       num_rows: 10\n",
      "       columns:\n",
      "         acct_id:\n",
      "           type: generate_unique_id\n",
      "           id_start_range: 0\n",
      "           id_end_range: 10\n",
      "           id_length: 4\n",
      "         acct_type:\n",
      "           type: generate_values\n",
      "           sample_values:\n",
      "            - savings\n",
      "            - current\n",
      "         acct_start_dt:\n",
      "           type: generate_dates\n",
      "           start_dt: 2020-01-01\n",
      "           end_dt: 2020-12-31\n",
      "           freq: M\n",
      "           seed: 1\n",
      "\n",
      "    _temp_savings_account:\n",
      "       num_rows: 10\n",
      "       columns:\n",
      "         acct_id:\n",
      "           type: row_apply\n",
      "           list_of_values: [account.acct_id, account.acct_start_dt]\n",
      "           row_func: \"lambda x,y: x\"\n",
      "         acct_start_dt:\n",
      "           type: row_apply\n",
      "           list_of_values: [account.acct_id, account.acct_start_dt]\n",
      "           row_func: \"lambda x,y: y\"\n",
      "         principal_amount:\n",
      "           type: generate_random_numbers\n",
      "           start_range: 30000\n",
      "           end_range: 200000\n",
      "         keep_row:\n",
      "           type: row_apply\n",
      "           list_of_values: account.acct_type\n",
      "           row_func: \"lambda x: x=='savings'\"\n",
      "\n",
      "    savings_account:\n",
      "      columns:\n",
      "         acct_id:\n",
      "           type: column_apply\n",
      "           list_of_values:\n",
      "            - _temp_savings_account.acct_id\n",
      "            - _temp_savings_account.principal_amount\n",
      "            - _temp_savings_account.keep_row\n",
      "            - _temp_savings_account.acct_start_dt\n",
      "           column_func: drop_filtered_condition_rows\n",
      "           column_func_kwargs:\n",
      "              position: 0\n",
      "         principal_amount:\n",
      "           type: column_apply\n",
      "           list_of_values:\n",
      "            - _temp_savings_account.acct_id\n",
      "            - _temp_savings_account.principal_amount\n",
      "            - _temp_savings_account.keep_row\n",
      "            - _temp_savings_account.acct_start_dt\n",
      "           column_func: drop_filtered_condition_rows\n",
      "           column_func_kwargs:\n",
      "              position: 1\n",
      "         acct_start_dt:\n",
      "           type: column_apply\n",
      "           list_of_values:\n",
      "            - _temp_savings_account.acct_id\n",
      "            - _temp_savings_account.principal_amount\n",
      "            - _temp_savings_account.keep_row\n",
      "            - _temp_savings_account.acct_start_dt\n",
      "           column_func: drop_filtered_condition_rows\n",
      "           column_func_kwargs:\n",
      "              position: 3\n",
      "\n"
     ]
    }
   ],
   "source": [
    "print(yaml_string)"
   ]
  },
  {
   "cell_type": "markdown",
   "id": "a561b91c-5723-405e-8860-0edf247fa925",
   "metadata": {},
   "source": [
    "Let's generate savings account table:"
   ]
  },
  {
   "cell_type": "code",
   "execution_count": 14,
   "id": "c6b7ea45-3917-44ba-83ff-f83bc39b099c",
   "metadata": {
    "tags": []
   },
   "outputs": [
    {
     "name": "stdout",
     "output_type": "stream",
     "text": [
      "  acct_id acct_type acct_start_dt\n",
      "0    0000   current    2020-01-31\n",
      "1    0001   current    2020-02-29\n",
      "2    0002   savings    2020-03-31\n",
      "3    0003   savings    2020-04-30\n",
      "4    0004   current    2020-05-31\n",
      "5    0005   savings    2020-06-30\n",
      "6    0006   savings    2020-07-31\n",
      "7    0007   savings    2020-09-30\n",
      "8    0008   savings    2020-10-31\n",
      "9    0009   current    2020-11-30\n",
      "  acct_id acct_start_dt  principal_amount  keep_row\n",
      "0    0000    2020-01-31      45956.129752     False\n",
      "1    0001    2020-02-29      34819.071009     False\n",
      "2    0002    2020-03-31     172080.067666      True\n",
      "3    0003    2020-04-30     103570.401544      True\n",
      "4    0004    2020-05-31     159587.614018     False\n",
      "5    0005    2020-06-30       30358.02907      True\n",
      "6    0006    2020-07-31     105715.822989      True\n",
      "7    0007    2020-09-30     152661.805498      True\n",
      "8    0008    2020-10-31      68889.577616      True\n",
      "9    0009    2020-11-30     190696.018244     False\n",
      "  acct_id  principal_amount acct_start_dt\n",
      "0    0002     172080.067666    2020-03-31\n",
      "1    0003     103570.401544    2020-04-30\n",
      "2    0005       30358.02907    2020-06-30\n",
      "3    0006     105715.822989    2020-07-31\n",
      "4    0007     152661.805498    2020-09-30\n",
      "5    0008      68889.577616    2020-10-31\n"
     ]
    }
   ],
   "source": [
    "from data_fabricator.v0.core.fabricator import MockDataGenerator\n",
    "\n",
    "# Setting seed is not recommended for general use, please consider when to use seed\n",
    "mock_generator = MockDataGenerator(instructions=config)\n",
    "mock_generator.generate_all()\n",
    "\n",
    "account_df = mock_generator.all_dataframes[\"account\"]\n",
    "print(account_df)\n",
    "\n",
    "temp_savings_account_df = mock_generator.all_dataframes[\"_temp_savings_account\"]\n",
    "print(temp_savings_account_df)\n",
    "\n",
    "savings_account_df = mock_generator.all_dataframes[\"savings_account\"]\n",
    "print(savings_account_df)"
   ]
  },
  {
   "cell_type": "markdown",
   "id": "13d87048-b6c7-463f-88a3-3776b5373173",
   "metadata": {},
   "source": [
    "## Generate and capture conditional weight values.\n",
    " This functionality helps us to provide a new distribution set of values based on the weights provided.\n",
    "\n",
    " In the following example, we are trying to generate set of channel codes for each product.\n"
   ]
  },
  {
   "cell_type": "code",
   "execution_count": 15,
   "id": "27845bfa-e3f3-483f-92b9-9e3bc9fbd452",
   "metadata": {
    "nbsphinx": "hidden",
    "tags": [
     "hide-input"
    ]
   },
   "outputs": [],
   "source": [
    "import yaml\n",
    "\n",
    "yaml_string = \"\"\"\n",
    "     customers:\n",
    "        num_rows: 10\n",
    "        columns:\n",
    "            hcp_id:\n",
    "                type: generate_unique_id\n",
    "                prefix: hcp\n",
    "                id_start_range: 0\n",
    "                id_end_range: 10\n",
    "            hcp_name:\n",
    "                type: faker\n",
    "                provider: name\n",
    "                # Setting seed is not recommended for general use, please consider when to use seed\n",
    "                faker_seed: 1\n",
    "\n",
    "     interactions:\n",
    "        columns:\n",
    "            hcp_id:\n",
    "                type: row_apply\n",
    "                list_of_values: customers.hcp_id\n",
    "                row_func: \"lambda x : x\"\n",
    "            product_cd:\n",
    "                type: generate_values\n",
    "                sample_values: [\"R03AC02\",\"R03AC03\"]\n",
    "            channel_cd:\n",
    "                type: row_apply\n",
    "                list_of_values: interactions.product_cd\n",
    "                row_func: conditional_generate_from_weights\n",
    "                row_func_kwargs:\n",
    "                    dependent_weights:\n",
    "                        R03AC02:\n",
    "                            a: 10\n",
    "                            b: 1\n",
    "                        R03AC03:\n",
    "                            c: 6\n",
    "                            d: 5\n",
    "\"\"\"\n",
    "config = yaml.safe_load(yaml_string)"
   ]
  },
  {
   "cell_type": "markdown",
   "id": "66b45685-6a6a-4b0b-b8a7-2e6f13556350",
   "metadata": {},
   "source": [
    "Given the following config:"
   ]
  },
  {
   "cell_type": "code",
   "execution_count": 16,
   "id": "e87fb092-c3eb-4e6a-908d-369facb2fdf5",
   "metadata": {
    "tags": []
   },
   "outputs": [
    {
     "name": "stdout",
     "output_type": "stream",
     "text": [
      "\n",
      "     customers:\n",
      "        num_rows: 10\n",
      "        columns:\n",
      "            hcp_id:\n",
      "                type: generate_unique_id\n",
      "                prefix: hcp\n",
      "                id_start_range: 0\n",
      "                id_end_range: 10\n",
      "            hcp_name:\n",
      "                type: faker\n",
      "                provider: name\n",
      "                # Setting seed is not recommended for general use, please consider when to use seed\n",
      "                faker_seed: 1\n",
      "\n",
      "     interactions:\n",
      "        columns:\n",
      "            hcp_id:\n",
      "                type: row_apply\n",
      "                list_of_values: customers.hcp_id\n",
      "                row_func: \"lambda x : x\"\n",
      "            product_cd:\n",
      "                type: generate_values\n",
      "                sample_values: [\"R03AC02\",\"R03AC03\"]\n",
      "            channel_cd:\n",
      "                type: row_apply\n",
      "                list_of_values: interactions.product_cd\n",
      "                row_func: conditional_generate_from_weights\n",
      "                row_func_kwargs:\n",
      "                    dependent_weights:\n",
      "                        R03AC02:\n",
      "                            a: 10\n",
      "                            b: 1\n",
      "                        R03AC03:\n",
      "                            c: 6\n",
      "                            d: 5\n",
      "\n"
     ]
    }
   ],
   "source": [
    "print(yaml_string)"
   ]
  },
  {
   "cell_type": "markdown",
   "id": "1adab2e3-2f3e-4676-b29c-3f18d0a1b8a5",
   "metadata": {},
   "source": [
    "Let's generate channel codes for each interaction based on the weights provided:"
   ]
  },
  {
   "cell_type": "code",
   "execution_count": 17,
   "id": "894912b4-e9b0-4f35-abd1-b4872458d68c",
   "metadata": {
    "tags": []
   },
   "outputs": [
    {
     "name": "stdout",
     "output_type": "stream",
     "text": [
      "  hcp_id          hcp_name\n",
      "0   hcp0    Ryan Gallagher\n",
      "1   hcp1          Jon Cole\n",
      "2   hcp2      Rachel Davis\n",
      "3   hcp3  Russell Reynolds\n",
      "4   hcp4     April Griffin\n",
      "5   hcp5    Crystal Landry\n",
      "6   hcp6    Amanda Johnson\n",
      "7   hcp7      Teresa James\n",
      "8   hcp8    Javier Johnson\n",
      "9   hcp9   Jeffrey Simpson\n",
      "  hcp_id product_cd channel_cd\n",
      "0   hcp0    R03AC03          c\n",
      "1   hcp1    R03AC02          a\n",
      "2   hcp2    R03AC02          a\n",
      "3   hcp3    R03AC03          c\n",
      "4   hcp4    R03AC03          c\n",
      "5   hcp5    R03AC02          a\n",
      "6   hcp6    R03AC02          a\n",
      "7   hcp7    R03AC02          a\n",
      "8   hcp8    R03AC02          a\n",
      "9   hcp9    R03AC02          a\n"
     ]
    }
   ],
   "source": [
    "from data_fabricator.v0.core.fabricator import MockDataGenerator\n",
    "\n",
    "# Setting seed is not recommended for general use, please consider when to use seed\n",
    "mock_generator = MockDataGenerator(instructions=config)\n",
    "mock_generator.generate_all()\n",
    "\n",
    "customers_df = mock_generator.all_dataframes[\"customers\"]\n",
    "print(customers_df)\n",
    "\n",
    "interactions_df = mock_generator.all_dataframes[\"interactions\"]\n",
    "print(interactions_df)"
   ]
  },
  {
   "cell_type": "markdown",
   "id": "bb90fc96-d5d4-450f-ae8f-65033c837e8d",
   "metadata": {},
   "source": [
    "## Pass relative parameters in explode\n",
    " This functionality helps us to pass a column to the start or end date parameters of explode function.\n",
    " It generates an array of values between those start and end date range.\n",
    "\n",
    " For example, in retail banking, a customer is expected to have a monthly transaction statement for each of their accounts,\n",
    " but these transaction statements only make sense to exist from the start date of the account not before.\n",
    "\n",
    " In the following example, we are trying to create transaction date for every customer\n",
    " So, we provided a condition i.e, the transaction happens from the time when account has created/started.\n"
   ]
  },
  {
   "cell_type": "code",
   "execution_count": 18,
   "id": "384080c7-f50f-4bd7-bba2-c489436f5990",
   "metadata": {
    "nbsphinx": "hidden",
    "tags": [
     "hide-input"
    ]
   },
   "outputs": [],
   "source": [
    "import yaml\n",
    "\n",
    "yaml_string = \"\"\"\n",
    "     accounts:\n",
    "       num_rows: 10\n",
    "       columns:\n",
    "         acct_id:\n",
    "           type: generate_unique_id\n",
    "           id_start_range: 0\n",
    "           id_end_range: 10\n",
    "           id_length: 4\n",
    "         acct_start_dt:\n",
    "           type: generate_dates\n",
    "           start_dt: 2020-01-01\n",
    "           end_dt: 2020-12-31\n",
    "           freq: M\n",
    "           seed: 1\n",
    "\n",
    "     transaction_statements:\n",
    "       num_rows: 20\n",
    "       columns:\n",
    "         transaction_id:\n",
    "           type: generate_unique_id\n",
    "           id_start_range: 00\n",
    "           id_end_range: 20\n",
    "           id_length: 6\n",
    "         acct_id:\n",
    "           type: explode\n",
    "           list_of_values:\n",
    "             - accounts.acct_id\n",
    "             - accounts.acct_start_dt\n",
    "           explode_func: generate_dates\n",
    "           explode_func_kwargs:\n",
    "            start_dt: list_of_values[1]\n",
    "            end_dt: 2020-12-31\n",
    "            freq: M\n",
    "            num_rows: 2\n",
    "           position: 0\n",
    "         transaction_dt:\n",
    "           type: explode\n",
    "           list_of_values:\n",
    "             - accounts.acct_id\n",
    "             - accounts.acct_start_dt\n",
    "           explode_func: generate_dates\n",
    "           explode_func_kwargs:\n",
    "            start_dt: list_of_values[1]\n",
    "            end_dt: 2020-12-31\n",
    "            freq: M\n",
    "            num_rows: 2\n",
    "           position: 2\n",
    "\"\"\"\n",
    "config = yaml.safe_load(yaml_string)"
   ]
  },
  {
   "cell_type": "markdown",
   "id": "f832ca12-3e0d-4821-90fa-8c9abea76069",
   "metadata": {},
   "source": [
    "Given the following config:"
   ]
  },
  {
   "cell_type": "code",
   "execution_count": 19,
   "id": "d745f3fc-aef5-4466-ab5b-47c2d2601cd3",
   "metadata": {
    "tags": []
   },
   "outputs": [
    {
     "name": "stdout",
     "output_type": "stream",
     "text": [
      "\n",
      "     accounts:\n",
      "       num_rows: 10\n",
      "       columns:\n",
      "         acct_id:\n",
      "           type: generate_unique_id\n",
      "           id_start_range: 0\n",
      "           id_end_range: 10\n",
      "           id_length: 4\n",
      "         acct_start_dt:\n",
      "           type: generate_dates\n",
      "           start_dt: 2020-01-01\n",
      "           end_dt: 2020-12-31\n",
      "           freq: M\n",
      "           seed: 1\n",
      "\n",
      "     transaction_statements:\n",
      "       num_rows: 20\n",
      "       columns:\n",
      "         transaction_id:\n",
      "           type: generate_unique_id\n",
      "           id_start_range: 00\n",
      "           id_end_range: 20\n",
      "           id_length: 6\n",
      "         acct_id:\n",
      "           type: explode\n",
      "           list_of_values:\n",
      "             - accounts.acct_id\n",
      "             - accounts.acct_start_dt\n",
      "           explode_func: generate_dates\n",
      "           explode_func_kwargs:\n",
      "            start_dt: list_of_values[1]\n",
      "            end_dt: 2020-12-31\n",
      "            freq: M\n",
      "            num_rows: 2\n",
      "           position: 0\n",
      "         transaction_dt:\n",
      "           type: explode\n",
      "           list_of_values:\n",
      "             - accounts.acct_id\n",
      "             - accounts.acct_start_dt\n",
      "           explode_func: generate_dates\n",
      "           explode_func_kwargs:\n",
      "            start_dt: list_of_values[1]\n",
      "            end_dt: 2020-12-31\n",
      "            freq: M\n",
      "            num_rows: 2\n",
      "           position: 2\n",
      "\n"
     ]
    }
   ],
   "source": [
    "print(yaml_string)"
   ]
  },
  {
   "cell_type": "markdown",
   "id": "56529832-154e-4de9-a5a4-5edf88d38546",
   "metadata": {},
   "source": [
    "Let's generate transaction date for each customer:"
   ]
  },
  {
   "cell_type": "code",
   "execution_count": 20,
   "id": "b2e7dbf5-6f5e-4648-aa4a-210aab26c6e6",
   "metadata": {
    "tags": []
   },
   "outputs": [
    {
     "name": "stdout",
     "output_type": "stream",
     "text": [
      "  acct_id acct_start_dt\n",
      "0    0000    2020-01-31\n",
      "1    0001    2020-02-29\n",
      "2    0002    2020-03-31\n",
      "3    0003    2020-04-30\n",
      "4    0004    2020-05-31\n",
      "5    0005    2020-06-30\n",
      "6    0006    2020-07-31\n",
      "7    0007    2020-09-30\n",
      "8    0008    2020-10-31\n",
      "9    0009    2020-11-30\n",
      "   transaction_id acct_id transaction_dt\n",
      "0          000000    0000     2020-07-31\n",
      "1          000001    0000     2020-11-30\n",
      "2          000002    0001     2020-05-31\n",
      "3          000003    0001     2020-08-31\n",
      "4          000004    0002     2020-03-31\n",
      "5          000005    0002     2020-11-30\n",
      "6          000006    0003     2020-07-31\n",
      "7          000007    0003     2020-11-30\n",
      "8          000008    0004     2020-09-30\n",
      "9          000009    0004     2020-12-31\n",
      "10         000010    0005     2020-07-31\n",
      "11         000011    0005     2020-08-31\n",
      "12         000012    0006     2020-08-31\n",
      "13         000013    0006     2020-12-31\n",
      "14         000014    0007     2020-10-31\n",
      "15         000015    0007     2020-12-31\n",
      "16         000016    0008     2020-10-31\n",
      "17         000017    0008     2020-11-30\n",
      "18         000018    0009     2020-11-30\n",
      "19         000019    0009     2020-12-31\n"
     ]
    }
   ],
   "source": [
    "from data_fabricator.v0.core.fabricator import MockDataGenerator\n",
    "\n",
    "# Setting seed is not recommended for general use, please consider when to use seed\n",
    "mock_generator = MockDataGenerator(instructions=config)\n",
    "mock_generator.generate_all()\n",
    "\n",
    "accounts_df = mock_generator.all_dataframes[\"accounts\"]\n",
    "print(accounts_df)\n",
    "transactions_df = mock_generator.all_dataframes[\"transaction_statements\"]\n",
    "print(transactions_df)"
   ]
  },
  {
   "cell_type": "markdown",
   "id": "63aedbef-c887-449a-b382-2f01313d8126",
   "metadata": {},
   "source": [
    "Let's check the transaction happens after the account has created:\n",
    "`acct_start_dt <= transaction_dt`"
   ]
  },
  {
   "cell_type": "code",
   "execution_count": 21,
   "id": "8b7f12ba-d3c1-4db2-a2c8-c4f70a67005c",
   "metadata": {
    "tags": []
   },
   "outputs": [
    {
     "name": "stdout",
     "output_type": "stream",
     "text": [
      "   acct_id acct_start_dt transaction_id transaction_dt\n",
      "0     0000    2020-01-31         000000     2020-07-31\n",
      "1     0000    2020-01-31         000001     2020-11-30\n",
      "2     0001    2020-02-29         000002     2020-05-31\n",
      "3     0001    2020-02-29         000003     2020-08-31\n",
      "4     0002    2020-03-31         000004     2020-03-31\n",
      "5     0002    2020-03-31         000005     2020-11-30\n",
      "6     0003    2020-04-30         000006     2020-07-31\n",
      "7     0003    2020-04-30         000007     2020-11-30\n",
      "8     0004    2020-05-31         000008     2020-09-30\n",
      "9     0004    2020-05-31         000009     2020-12-31\n",
      "10    0005    2020-06-30         000010     2020-07-31\n",
      "11    0005    2020-06-30         000011     2020-08-31\n",
      "12    0006    2020-07-31         000012     2020-08-31\n",
      "13    0006    2020-07-31         000013     2020-12-31\n",
      "14    0007    2020-09-30         000014     2020-10-31\n",
      "15    0007    2020-09-30         000015     2020-12-31\n",
      "16    0008    2020-10-31         000016     2020-10-31\n",
      "17    0008    2020-10-31         000017     2020-11-30\n",
      "18    0009    2020-11-30         000018     2020-11-30\n",
      "19    0009    2020-11-30         000019     2020-12-31\n"
     ]
    }
   ],
   "source": [
    "import pandas as pd\n",
    "\n",
    "joined_df = pd.merge(accounts_df, transactions_df, on=\"acct_id\", how=\"left\")\n",
    "print(joined_df)"
   ]
  },
  {
   "cell_type": "markdown",
   "id": "6a339af7-bd0e-46ff-a01b-11fb37b18132",
   "metadata": {},
   "source": [
    "## Sorting data functionality in `generate_dates/generate_values`\n",
    "  This function is useful to sort the values because not all dates/values should be sequential for pseudo-real data.\n",
    "\n",
    "  For example: Join date of clients can be sequential, since their IDs would be\n",
    "  sequential as well. But the close dates of a list of accounts can be entirely random.\n",
    "\n",
    " In the following example, we are trying to create account start and end date for each customer.\n"
   ]
  },
  {
   "cell_type": "code",
   "execution_count": 22,
   "id": "ad900804-22b3-4101-8b38-cb79bd7d71de",
   "metadata": {
    "nbsphinx": "hidden",
    "tags": [
     "hide-input"
    ]
   },
   "outputs": [],
   "source": [
    "import yaml\n",
    "\n",
    "yaml_string = \"\"\"\n",
    "     accounts:\n",
    "       num_rows: 10\n",
    "       columns:\n",
    "         acct_id:\n",
    "           type: generate_unique_id\n",
    "           id_start_range: 0\n",
    "           id_end_range: 10\n",
    "           id_length: 4\n",
    "         acct_start_dt:\n",
    "           type: generate_dates\n",
    "           start_dt: 2019-01-01\n",
    "           end_dt: 2019-12-31\n",
    "           freq: M\n",
    "           seed: 1\n",
    "         acct_end_dt:\n",
    "           type: generate_dates\n",
    "           start_dt: 2020-01-01\n",
    "           end_dt: 2020-12-31\n",
    "           freq: M\n",
    "           seed: 1\n",
    "           sort_dates: False\n",
    "\"\"\"\n",
    "config = yaml.safe_load(yaml_string)"
   ]
  },
  {
   "cell_type": "markdown",
   "id": "f8a4373d-507c-4566-99db-c586724bf216",
   "metadata": {},
   "source": [
    "Given the following config:"
   ]
  },
  {
   "cell_type": "code",
   "execution_count": 23,
   "id": "d54887df-4cbd-4ea9-a8e2-f653941a92ce",
   "metadata": {
    "tags": []
   },
   "outputs": [
    {
     "name": "stdout",
     "output_type": "stream",
     "text": [
      "\n",
      "     accounts:\n",
      "       num_rows: 10\n",
      "       columns:\n",
      "         acct_id:\n",
      "           type: generate_unique_id\n",
      "           id_start_range: 0\n",
      "           id_end_range: 10\n",
      "           id_length: 4\n",
      "         acct_start_dt:\n",
      "           type: generate_dates\n",
      "           start_dt: 2019-01-01\n",
      "           end_dt: 2019-12-31\n",
      "           freq: M\n",
      "           seed: 1\n",
      "         acct_end_dt:\n",
      "           type: generate_dates\n",
      "           start_dt: 2020-01-01\n",
      "           end_dt: 2020-12-31\n",
      "           freq: M\n",
      "           seed: 1\n",
      "           sort_dates: False\n",
      "\n"
     ]
    }
   ],
   "source": [
    "print(yaml_string)"
   ]
  },
  {
   "cell_type": "markdown",
   "id": "4cfad7b8-cc38-430b-b59b-157ff8f609d6",
   "metadata": {},
   "source": [
    "Let's generate account start and end dates for each account:"
   ]
  },
  {
   "cell_type": "code",
   "execution_count": 24,
   "id": "80e05eaf-fc5e-45ce-93cd-3077e6613c1f",
   "metadata": {
    "tags": []
   },
   "outputs": [
    {
     "name": "stdout",
     "output_type": "stream",
     "text": [
      "  acct_id acct_start_dt acct_end_dt\n",
      "0    0000    2019-01-31  2020-03-31\n",
      "1    0001    2019-02-28  2020-10-31\n",
      "2    0002    2019-03-31  2020-02-29\n",
      "3    0003    2019-04-30  2020-05-31\n",
      "4    0004    2019-05-31  2020-11-30\n",
      "5    0005    2019-06-30  2020-04-30\n",
      "6    0006    2019-07-31  2020-07-31\n",
      "7    0007    2019-09-30  2020-06-30\n",
      "8    0008    2019-10-31  2020-09-30\n",
      "9    0009    2019-11-30  2020-01-31\n"
     ]
    }
   ],
   "source": [
    "from data_fabricator.v0.core.fabricator import MockDataGenerator\n",
    "\n",
    "# Setting seed is not recommended for general use, please consider when to use seed\n",
    "mock_generator = MockDataGenerator(instructions=config)\n",
    "mock_generator.generate_all()\n",
    "\n",
    "accounts_df = mock_generator.all_dataframes[\"accounts\"]\n",
    "print(accounts_df)"
   ]
  },
  {
   "cell_type": "markdown",
   "id": "949531ec-83a4-44bb-b085-e9741a9a4e7e",
   "metadata": {},
   "source": [
    "## Generate Cross Product\n",
    "\n",
    " This callable function to be used with `column_apply` that allows us to generate a dataset\n",
    " which is a cross product of all the values passed in the tables created in the configuration\n",
    "\n",
    " In the following example, we are generating all possible combinations of customer ID,\n",
    " product ID and dates:"
   ]
  },
  {
   "cell_type": "code",
   "execution_count": 25,
   "id": "6c219078-7c91-4116-8024-eb5732fb05b8",
   "metadata": {
    "nbsphinx": "hidden",
    "tags": [
     "hide-input"
    ]
   },
   "outputs": [],
   "source": [
    "import yaml\n",
    "\n",
    "yaml_string = \"\"\"\n",
    "            customers:\n",
    "              num_rows: 3\n",
    "              columns:\n",
    "                customer_id:\n",
    "                  type: generate_unique_id\n",
    "                  prefix: customer_\n",
    "\n",
    "            products:\n",
    "              num_rows: 2\n",
    "              columns:\n",
    "                product_id:\n",
    "                  type: generate_unique_id\n",
    "                  prefix: product_\n",
    "\n",
    "            dates:\n",
    "              num_rows: 2\n",
    "              columns:\n",
    "                date:\n",
    "                  type: generate_dates\n",
    "                  start_dt: 2020-01-01\n",
    "                  end_dt: 2020-01-02\n",
    "                  freq: D\n",
    "\n",
    "            cross_product:\n",
    "              columns:\n",
    "                customer_id:\n",
    "                  type: column_apply\n",
    "                  check_all_inputs_same_length: False\n",
    "                  list_of_values:\n",
    "                    - customers.customer_id\n",
    "                    - products.product_id\n",
    "                    - dates.date\n",
    "                  column_func: cross_product\n",
    "                  column_func_kwargs:\n",
    "                    position: 0\n",
    "                product_id:\n",
    "                  type: column_apply\n",
    "                  resize: True\n",
    "                  check_all_inputs_same_length: False\n",
    "                  list_of_values:\n",
    "                    - customers.customer_id\n",
    "                    - products.product_id\n",
    "                    - dates.date\n",
    "                  column_func: cross_product\n",
    "                  column_func_kwargs:\n",
    "                    position: 1\n",
    "                date:\n",
    "                  type: column_apply\n",
    "                  check_all_inputs_same_length: False\n",
    "                  list_of_values:\n",
    "                    - customers.customer_id\n",
    "                    - products.product_id\n",
    "                    - dates.date\n",
    "                  column_func: cross_product\n",
    "                  column_func_kwargs:\n",
    "                    position: 2\n",
    "\"\"\"\n",
    "config = yaml.safe_load(yaml_string)"
   ]
  },
  {
   "cell_type": "markdown",
   "id": "ff75d7db-93bf-4c89-80f2-c60f653c4e1c",
   "metadata": {},
   "source": [
    "Given the following config:"
   ]
  },
  {
   "cell_type": "code",
   "execution_count": 26,
   "id": "6a479975-c522-4092-ad08-f76a44dcf6e5",
   "metadata": {
    "tags": []
   },
   "outputs": [
    {
     "name": "stdout",
     "output_type": "stream",
     "text": [
      "\n",
      "            customers:\n",
      "              num_rows: 3\n",
      "              columns:\n",
      "                customer_id:\n",
      "                  type: generate_unique_id\n",
      "                  prefix: customer_\n",
      "\n",
      "            products:\n",
      "              num_rows: 2\n",
      "              columns:\n",
      "                product_id:\n",
      "                  type: generate_unique_id\n",
      "                  prefix: product_\n",
      "\n",
      "            dates:\n",
      "              num_rows: 2\n",
      "              columns:\n",
      "                date:\n",
      "                  type: generate_dates\n",
      "                  start_dt: 2020-01-01\n",
      "                  end_dt: 2020-01-02\n",
      "                  freq: D\n",
      "\n",
      "            cross_product:\n",
      "              columns:\n",
      "                customer_id:\n",
      "                  type: column_apply\n",
      "                  check_all_inputs_same_length: False\n",
      "                  list_of_values:\n",
      "                    - customers.customer_id\n",
      "                    - products.product_id\n",
      "                    - dates.date\n",
      "                  column_func: cross_product\n",
      "                  column_func_kwargs:\n",
      "                    position: 0\n",
      "                product_id:\n",
      "                  type: column_apply\n",
      "                  resize: True\n",
      "                  check_all_inputs_same_length: False\n",
      "                  list_of_values:\n",
      "                    - customers.customer_id\n",
      "                    - products.product_id\n",
      "                    - dates.date\n",
      "                  column_func: cross_product\n",
      "                  column_func_kwargs:\n",
      "                    position: 1\n",
      "                date:\n",
      "                  type: column_apply\n",
      "                  check_all_inputs_same_length: False\n",
      "                  list_of_values:\n",
      "                    - customers.customer_id\n",
      "                    - products.product_id\n",
      "                    - dates.date\n",
      "                  column_func: cross_product\n",
      "                  column_func_kwargs:\n",
      "                    position: 2\n",
      "\n"
     ]
    }
   ],
   "source": [
    "print(yaml_string)"
   ]
  },
  {
   "cell_type": "markdown",
   "id": "cbba3280-4102-4064-95d0-8fe07465595b",
   "metadata": {},
   "source": [
    "Let's generate the cross product for the above config:"
   ]
  },
  {
   "cell_type": "code",
   "execution_count": 27,
   "id": "66640806-2dbc-427b-89e7-a640243a4883",
   "metadata": {
    "tags": []
   },
   "outputs": [],
   "source": [
    "from data_fabricator.v0.core.fabricator import MockDataGenerator\n",
    "\n",
    "# Setting seed is not recommended for general use, please consider when to use seed\n",
    "mock_generator = MockDataGenerator(instructions=config)\n",
    "mock_generator.generate_all()\n",
    "cross_prod = mock_generator.all_dataframes[\"cross_product\"]\n",
    "customer_df = mock_generator.all_dataframes[\"customers\"]\n",
    "products_df = mock_generator.all_dataframes[\"products\"]\n",
    "dates_df = mock_generator.all_dataframes[\"dates\"]\n",
    "cross_prod = mock_generator.all_dataframes[\"cross_product\"]"
   ]
  },
  {
   "cell_type": "markdown",
   "id": "b4c03b63-70eb-42e1-acd9-ff772e3ef8a8",
   "metadata": {},
   "source": [
    "Here are the customer IDs:"
   ]
  },
  {
   "cell_type": "code",
   "execution_count": 28,
   "id": "05c193d8-e603-45cb-9ca6-ba3356d0c1ff",
   "metadata": {
    "tags": []
   },
   "outputs": [
    {
     "name": "stdout",
     "output_type": "stream",
     "text": [
      "  customer_id\n",
      "0  customer_1\n",
      "1  customer_2\n",
      "2  customer_3\n"
     ]
    }
   ],
   "source": [
    "print(customer_df)"
   ]
  },
  {
   "cell_type": "markdown",
   "id": "571fa974-accc-4dc0-816d-84b5ce4633cb",
   "metadata": {},
   "source": [
    "Here are the product IDs:"
   ]
  },
  {
   "cell_type": "code",
   "execution_count": 29,
   "id": "bec77c25-6d7b-451c-8b6f-1d454e97c7ed",
   "metadata": {
    "tags": []
   },
   "outputs": [
    {
     "name": "stdout",
     "output_type": "stream",
     "text": [
      "  product_id\n",
      "0  product_1\n",
      "1  product_2\n"
     ]
    }
   ],
   "source": [
    "print(products_df)"
   ]
  },
  {
   "cell_type": "markdown",
   "id": "c02687e1-e3df-46f0-ae8d-5fcf06c0540d",
   "metadata": {},
   "source": [
    "Here are the dates:"
   ]
  },
  {
   "cell_type": "code",
   "execution_count": 30,
   "id": "dac5065d-4634-4706-9e77-862c33d3aaa8",
   "metadata": {
    "tags": []
   },
   "outputs": [
    {
     "name": "stdout",
     "output_type": "stream",
     "text": [
      "        date\n",
      "0 2020-01-01\n",
      "1 2020-01-02\n"
     ]
    }
   ],
   "source": [
    "print(dates_df)"
   ]
  },
  {
   "cell_type": "markdown",
   "id": "d28316d8-2a8c-46ec-9a25-444220680e78",
   "metadata": {},
   "source": [
    "Here is the cross products:"
   ]
  },
  {
   "cell_type": "code",
   "execution_count": 31,
   "id": "45245076-7e89-41f7-aaa1-8ec608f8e1e9",
   "metadata": {
    "tags": []
   },
   "outputs": [
    {
     "name": "stdout",
     "output_type": "stream",
     "text": [
      "   customer_id product_id       date\n",
      "0   customer_1  product_1 2020-01-01\n",
      "1   customer_1  product_1 2020-01-02\n",
      "2   customer_1  product_2 2020-01-01\n",
      "3   customer_1  product_2 2020-01-02\n",
      "4   customer_2  product_1 2020-01-01\n",
      "5   customer_2  product_1 2020-01-02\n",
      "6   customer_2  product_2 2020-01-01\n",
      "7   customer_2  product_2 2020-01-02\n",
      "8   customer_3  product_1 2020-01-01\n",
      "9   customer_3  product_1 2020-01-02\n",
      "10  customer_3  product_2 2020-01-01\n",
      "11  customer_3  product_2 2020-01-02\n"
     ]
    }
   ],
   "source": [
    "print(cross_prod)"
   ]
  }
 ],
 "metadata": {
  "celltoolbar": "Edit Metadata",
  "kernelspec": {
   "display_name": "qblabs-monorepo",
   "language": "python",
   "name": "qblabs-monorepo"
  },
  "language_info": {
   "codemirror_mode": {
    "name": "ipython",
    "version": 3
   },
   "file_extension": ".py",
   "mimetype": "text/x-python",
   "name": "python",
   "nbconvert_exporter": "python",
   "pygments_lexer": "ipython3",
   "version": "3.9.15"
  }
 },
 "nbformat": 4,
 "nbformat_minor": 5
}
