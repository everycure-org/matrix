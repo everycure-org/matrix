{
 "cells": [
  {
   "cell_type": "code",
   "execution_count": 1,
   "id": "46815bf0-6442-43f4-8a4b-d74e2c2f900c",
   "metadata": {
    "nbsphinx": "hidden",
    "tags": [
     "hide-input"
    ]
   },
   "outputs": [],
   "source": [
    "import pandas as pd\n",
    "\n",
    "pd.set_option(\"display.max_rows\", 500)\n",
    "pd.set_option(\"display.max_columns\", 500)\n",
    "pd.set_option(\"display.width\", 1000)"
   ]
  },
  {
   "cell_type": "markdown",
   "id": "30840bbb-0e94-4d06-99ba-22e8c9ea4f29",
   "metadata": {},
   "source": [
    "# Case Study - Generate Sensor Data\n",
    "\n",
    "In this case study, we try and fabricator some sensor data that we might encounter\n",
    "in an operations study.\n",
    "\n",
    "## Pattern 1 - Tall Format\n",
    "\n",
    "![sensor_model1](../images/sensor_model1.drawio.svg)\n",
    "\n",
    "Note that all `_underscored` columns are not included as they are temporary columns\n",
    "used to generate the final output. One can omit these columns programmatically in the\n",
    "end."
   ]
  },
  {
   "cell_type": "code",
   "execution_count": 2,
   "id": "fb78b5cf-8127-4274-91ed-4e78bb39e404",
   "metadata": {
    "tags": []
   },
   "outputs": [
    {
     "name": "stdout",
     "output_type": "stream",
     "text": [
      "{'sensor_table': {'num_rows': 4, 'columns': {'sensor_id': {'type': 'generate_unique_id', 'seed': 1}, 'sensor_name': {'type': 'row_apply', 'list_of_values': 'sensor_table.sensor_id', 'row_func': \"lambda x: 'sensor_' + str(x)\"}, '_random_shift': {'type': 'generate_random_numbers', 'integer': True, 'start_range': 1, 'end_range': 100}}}, 'sensor_readings': {'columns': {'sensor_name': {'type': 'explode', 'list_of_values': ['sensor_table.sensor_name', 'sensor_table._random_shift'], 'explode_func': 'generate_unique_id', 'explode_func_kwargs': {'num_rows': 100}, 'position': 0}, '_random_shift': {'type': 'explode', 'list_of_values': ['sensor_table.sensor_name', 'sensor_table._random_shift'], 'explode_func': 'generate_unique_id', 'explode_func_kwargs': {'num_rows': 100}, 'position': 1}, 'time_index': {'type': 'explode', 'list_of_values': ['sensor_table.sensor_name', 'sensor_table._random_shift'], 'explode_func': 'generate_unique_id', 'explode_func_kwargs': {'num_rows': 100}, 'position': 2}, '_sensor_reading_smooth': {'type': 'row_apply', 'list_of_values': ['sensor_readings.time_index', 'sensor_readings._random_shift'], 'row_func': 'lambda x,y: y * math.sin((int(x)+int(y))/(2*3.412))'}, '_random_error': {'type': 'row_apply', 'list_of_values': 'sensor_readings._random_shift', 'row_func': 'lambda x: random.random()*x*0.2'}, 'sensor_reading': {'type': 'row_apply', 'list_of_values': ['sensor_readings._sensor_reading_smooth', 'sensor_readings._random_error'], 'row_func': 'lambda x, y: x + y'}}}}\n",
      "  sensor_id sensor_name  _random_shift\n",
      "0         1    sensor_1             14\n",
      "1         2    sensor_2             84\n",
      "2         3    sensor_3             76\n",
      "3         4    sensor_4             26\n",
      "  sensor_name  _random_shift time_index  _sensor_reading_smooth  _random_error  sensor_reading\n",
      "0    sensor_1             14          1               11.334384       1.387218       12.721602\n",
      "1    sensor_1             14          2               10.012962       1.258575       11.271537\n",
      "2    sensor_1             14          3                8.476902        1.82446       10.301362\n",
      "3    sensor_1             14          4                 6.75913       2.208425        8.967555\n",
      "4    sensor_1             14          5                 4.89647       0.262807        5.159276\n",
      "5    sensor_1             14          6                2.928848       0.079373        3.008221\n",
      "6    sensor_1             14          7                0.898444       2.340142        3.238586\n",
      "7    sensor_1             14          8                -1.15122       1.211748        0.060528\n",
      "8    sensor_1             14          9               -3.176206       2.134384       -1.041821\n",
      "9    sensor_1             14         10               -5.133106       0.005897       -5.127209\n"
     ]
    },
    {
     "name": "stderr",
     "output_type": "stream",
     "text": [
      "/var/folders/x8/_9l2j54n1lx_71w8kncv7mc80000gp/T/ipykernel_87954/396713029.py:1: DeprecationWarning: Deprecation Warning: You are using v0 of Data Fabricator API which will bedeprecated soon. Please migrate to v1 as soon as possible. For information onhow to migrate, please visit our documentation page.\n",
      "  from data_fabricator.v0.core.fabricator import MockDataGenerator\n"
     ]
    }
   ],
   "source": [
    "from data_fabricator.v0.core.fabricator import MockDataGenerator\n",
    "import yaml\n",
    "\n",
    "config_str = \"\"\"\n",
    "\n",
    "sensor_table:\n",
    "  num_rows: 4\n",
    "  columns:\n",
    "    sensor_id:\n",
    "      type: generate_unique_id\n",
    "      seed: 1 # defaults to None\n",
    "    sensor_name:\n",
    "      type: row_apply\n",
    "      list_of_values: sensor_table.sensor_id\n",
    "      row_func: \"lambda x: 'sensor_' + str(x)\"\n",
    "    _random_shift:\n",
    "      type: generate_random_numbers\n",
    "      integer: True\n",
    "      start_range: 1\n",
    "      end_range: 100\n",
    "\n",
    "sensor_readings:\n",
    "  columns:\n",
    "    sensor_name:\n",
    "      type: explode\n",
    "      list_of_values:\n",
    "        - sensor_table.sensor_name\n",
    "        - sensor_table._random_shift\n",
    "      explode_func: generate_unique_id\n",
    "      explode_func_kwargs:\n",
    "        num_rows: 100\n",
    "      position: 0\n",
    "    _random_shift:\n",
    "      type: explode\n",
    "      list_of_values:\n",
    "        - sensor_table.sensor_name\n",
    "        - sensor_table._random_shift\n",
    "      explode_func: generate_unique_id\n",
    "      explode_func_kwargs:\n",
    "        num_rows: 100\n",
    "      position: 1\n",
    "    time_index:\n",
    "      type: explode\n",
    "      list_of_values:\n",
    "        - sensor_table.sensor_name\n",
    "        - sensor_table._random_shift\n",
    "      explode_func: generate_unique_id\n",
    "      explode_func_kwargs:\n",
    "        num_rows: 100\n",
    "      position: 2\n",
    "    _sensor_reading_smooth:\n",
    "      type: row_apply\n",
    "      list_of_values: [sensor_readings.time_index, sensor_readings._random_shift]\n",
    "      row_func: \"lambda x,y: y * math.sin((int(x)+int(y))/(2*3.412))\"\n",
    "    _random_error:\n",
    "      type: row_apply\n",
    "      list_of_values: sensor_readings._random_shift\n",
    "      row_func: \"lambda x: random.random()*x*0.2\"\n",
    "    sensor_reading:\n",
    "      type: row_apply\n",
    "      list_of_values: [sensor_readings._sensor_reading_smooth, sensor_readings._random_error]\n",
    "      row_func: \"lambda x, y: x + y\"\n",
    "\"\"\"\n",
    "example_config = yaml.safe_load(config_str)\n",
    "print(example_config)\n",
    "\n",
    "# Setting seed is not recommended for general use, please consider when to use seed\n",
    "mock_generator = MockDataGenerator(instructions=example_config, seed=1)\n",
    "mock_generator.generate_all()\n",
    "\n",
    "print(mock_generator.all_dataframes[\"sensor_table\"].head(10))\n",
    "print(mock_generator.all_dataframes[\"sensor_readings\"].head(10))"
   ]
  },
  {
   "cell_type": "markdown",
   "id": "5c8db9c4-d1f7-4ddb-9292-79cc271c4ea1",
   "metadata": {},
   "source": [
    "If we plot this we get:"
   ]
  },
  {
   "cell_type": "code",
   "execution_count": 3,
   "id": "130c501a-e8b6-439c-a581-ff4ee8d5a5a7",
   "metadata": {
    "tags": [
     "hide-input"
    ]
   },
   "outputs": [],
   "source": [
    "import plotly.express as px\n",
    "\n",
    "df = mock_generator.all_dataframes[\"sensor_readings\"]\n",
    "fig = px.line(data_frame=df, x=\"time_index\", y=\"sensor_reading\", color=\"sensor_name\")\n",
    "fig.write_image(\"data_fabricator/docs/images/sensor_sample.png\")"
   ]
  },
  {
   "cell_type": "markdown",
   "id": "7feaa9ce-ecb6-4582-b71d-9fd71cde3804",
   "metadata": {},
   "source": [
    "![sensor_sample](../images/sensor_sample.png)\n",
    "\n",
    "## Pattern 2 - Wide Format\n",
    "\n",
    "Wide format is easier if you need to control for the relationships between sensor\n",
    "readings during fabrication, particularly using the `row_apply` syntax.\n",
    "\n",
    "![sensor_model2](../images/sensor_model2.drawio.svg)"
   ]
  },
  {
   "cell_type": "code",
   "execution_count": 4,
   "id": "d036b3fc-0c4c-47a9-8faf-e37a36aa610d",
   "metadata": {},
   "outputs": [
    {
     "name": "stdout",
     "output_type": "stream",
     "text": [
      "{'sensor_readings': {'num_rows': 100, 'columns': {'time_index': {'type': 'generate_unique_id'}, 'sensor_1': {'type': 'row_apply', 'list_of_values': 'sensor_readings.time_index', 'row_func': 'lambda x: math.sin(int(x)/(2*3.412))'}, 'sensor_2': {'type': 'row_apply', 'list_of_values': 'sensor_readings.time_index', 'row_func': 'lambda x: math.cos(int(x)/(2*3.412))'}, 'sensor_3': {'type': 'row_apply', 'list_of_values': ['sensor_readings.sensor_1', 'sensor_readings.sensor_2'], 'row_func': 'lambda x,y: x*y'}}}}\n",
      "  time_index  sensor_1  sensor_2  sensor_3\n",
      "0          1  0.146018  0.989282  0.144453\n",
      "1          2  0.288905  0.957358  0.276586\n",
      "2          3    0.4256  0.904911   0.38513\n",
      "3          4  0.553172  0.833067  0.460829\n",
      "4          5  0.668885  0.743366  0.497226\n",
      "5          6  0.770261  0.637729  0.491218\n",
      "6          7  0.855125  0.518422  0.443316\n",
      "7          8  0.921658  0.388003  0.357606\n",
      "8          9  0.968435  0.249266  0.241398\n",
      "9         10  0.994453  0.105185  0.104602\n"
     ]
    }
   ],
   "source": [
    "from data_fabricator.v0.core.fabricator import MockDataGenerator\n",
    "import yaml\n",
    "\n",
    "config_str = \"\"\"\n",
    "sensor_readings:\n",
    "  num_rows: 100\n",
    "  columns:\n",
    "    time_index:\n",
    "      type: generate_unique_id\n",
    "    sensor_1:\n",
    "      type: row_apply\n",
    "      list_of_values: sensor_readings.time_index\n",
    "      row_func: \"lambda x: math.sin(int(x)/(2*3.412))\"\n",
    "    sensor_2:\n",
    "      type: row_apply\n",
    "      list_of_values: sensor_readings.time_index\n",
    "      row_func: \"lambda x: math.cos(int(x)/(2*3.412))\"\n",
    "    sensor_3:\n",
    "      type: row_apply\n",
    "      list_of_values: [\"sensor_readings.sensor_1\", \"sensor_readings.sensor_2\"]\n",
    "      row_func: \"lambda x,y: x*y\"\n",
    "\n",
    "\"\"\"\n",
    "example_config = yaml.safe_load(config_str)\n",
    "print(example_config)\n",
    "\n",
    "# Setting seed is not recommended for general use, please consider when to use seed\n",
    "mock_generator = MockDataGenerator(instructions=example_config, seed=1)\n",
    "mock_generator.generate_all()\n",
    "\n",
    "print(mock_generator.all_dataframes[\"sensor_readings\"].head(10))"
   ]
  },
  {
   "cell_type": "markdown",
   "id": "c9639942-1833-46d0-8852-72f3711492e5",
   "metadata": {},
   "source": [
    "If we were to plot this:"
   ]
  },
  {
   "cell_type": "code",
   "execution_count": 5,
   "id": "68e5b6c5-1f03-42d8-b769-52eaa1dd2ba9",
   "metadata": {
    "tags": [
     "hide-input"
    ]
   },
   "outputs": [],
   "source": [
    "import plotly.graph_objects as go\n",
    "\n",
    "df = mock_generator.all_dataframes[\"sensor_readings\"]\n",
    "# Create traces\n",
    "fig = go.Figure()\n",
    "fig.add_trace(\n",
    "    go.Scatter(x=df[\"time_index\"], y=df[\"sensor_1\"], mode=\"lines\", name=\"sensor_1\")\n",
    ")\n",
    "fig.add_trace(\n",
    "    go.Scatter(x=df[\"time_index\"], y=df[\"sensor_2\"], mode=\"lines\", name=\"sensor_2\")\n",
    ")\n",
    "fig.add_trace(\n",
    "    go.Scatter(x=df[\"time_index\"], y=df[\"sensor_3\"], mode=\"lines\", name=\"sensor_3\")\n",
    ")\n",
    "fig.write_image(\"data_fabricator/docs/images/sensor_sample2.png\")"
   ]
  },
  {
   "cell_type": "markdown",
   "id": "0ccc90a6-9f6a-44e2-a8ea-085e9ce35c60",
   "metadata": {},
   "source": [
    "![sensor_sample2](../images/sensor_sample2.png)"
   ]
  }
 ],
 "metadata": {
  "celltoolbar": "Edit Metadata",
  "kernelspec": {
   "display_name": "qblabs-monorepo",
   "language": "python",
   "name": "qblabs-monorepo"
  },
  "language_info": {
   "codemirror_mode": {
    "name": "ipython",
    "version": 3
   },
   "file_extension": ".py",
   "mimetype": "text/x-python",
   "name": "python",
   "nbconvert_exporter": "python",
   "pygments_lexer": "ipython3",
   "version": "3.9.15"
  }
 },
 "nbformat": 4,
 "nbformat_minor": 5
}
