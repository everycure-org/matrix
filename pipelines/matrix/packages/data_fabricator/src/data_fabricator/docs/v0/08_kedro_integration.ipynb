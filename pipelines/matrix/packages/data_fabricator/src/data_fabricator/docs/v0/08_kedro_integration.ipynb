{
 "cells": [
  {
   "cell_type": "markdown",
   "id": "8c0f959d-d57b-4ccc-9ffe-ee8fea3fb23c",
   "metadata": {},
   "source": [
    "# Introduction\n",
    "If you have a Kedro project, you can generate mocked data by using data_fabricator.This documentation will provide the steps that are required to integrate with a Kedro project, we are using the example from `README.md` in this tutorial.\n",
    "\n",
    "## Kedro Integration\n",
    "In order to configure your Kedro to use data_fabricator, there are steps you need to follow:\n",
    "\n",
    "* Modify your `parameters.yml` file.\n",
    "* Modify your `catalog.yml` file.\n",
    "* Create your `pipeline.py` file.\n",
    "* Register your pipelines into `pipeline_registry.py` file."
   ]
  },
  {
   "cell_type": "code",
   "execution_count": 2,
   "id": "bde43f97-77de-4ac1-8151-7f365da5ae99",
   "metadata": {
    "nbsphinx": "hidden",
    "tags": [
     "hide-input"
    ]
   },
   "outputs": [],
   "source": [
    "import os\n",
    "\n",
    "if os.environ.get(\"CIRCLECI\"):\n",
    "    default_env = os.environ.get(\"CONDA_DEFAULT_ENV\")\n",
    "    os.environ[\n",
    "        \"PYSPARK_DRIVER_PYTHON\"\n",
    "    ] = f\"/home/circleci/miniconda/envs/{default_env}/bin/python\"\n",
    "    os.environ[\n",
    "        \"PYSPARK_PYTHON\"\n",
    "    ] = f\"/home/circleci/miniconda/envs/{default_env}/bin/python\"\n",
    "os.environ[\"NUMEXPR_MAX_THREADS\"] = \"32\""
   ]
  },
  {
   "cell_type": "code",
   "execution_count": 3,
   "id": "6b6d37dc-f24e-4601-ad00-af17f65b0aea",
   "metadata": {
    "nbsphinx": "hidden",
    "tags": [
     "hide-input"
    ]
   },
   "outputs": [],
   "source": [
    "import sys\n",
    "from pathlib import Path\n",
    "\n",
    "current_path = Path(os.curdir).absolute()\n",
    "sys.path.insert(0, str(current_path))\n",
    "\n",
    "import os\n",
    "\n",
    "os.environ[\"PYTHONPATH\"] = (\n",
    "    f\"{os.getenv('PYTHONPATH')}:\" if os.getenv(\"PYTHONPATH\") else \"\"\n",
    ") + str(current_path)"
   ]
  },
  {
   "cell_type": "code",
   "execution_count": 4,
   "id": "fc3b95ae-0e4f-4818-8431-18ce964a341d",
   "metadata": {
    "nbsphinx": "hidden",
    "tags": [
     "hide-cell"
    ]
   },
   "outputs": [
    {
     "name": "stdout",
     "output_type": "stream",
     "text": [
      "=========================================\n",
      "Calling: cd /var/folders/x8/_9l2j54n1lx_71w8kncv7mc80000gp/T/tmp0n34l2vu && kedro new --config=prompt.yml\n",
      "=========================================\n",
      "\n",
      "The project name 'my_kedro_project' has been applied to: \n",
      "- The project title in /private/var/folders/x8/_9l2j54n1lx_71w8kncv7mc80000gp/T/tmp0n34l2vu/my_kedro_project/README.md \n",
      "- The folder created for your project in /private/var/folders/x8/_9l2j54n1lx_71w8kncv7mc80000gp/T/tmp0n34l2vu/my_kedro_project \n",
      "- The project's python package in /private/var/folders/x8/_9l2j54n1lx_71w8kncv7mc80000gp/T/tmp0n34l2vu/my_kedro_project/src/my_kedro_project\n",
      "\n",
      "A best-practice setup includes initialising git and creating a virtual environment before running 'pip install -r src/requirements.txt' to install project-specific dependencies. Refer to the Kedro documentation: https://kedro.readthedocs.io/\n",
      "\n",
      "Change directory to the project generated in /private/var/folders/x8/_9l2j54n1lx_71w8kncv7mc80000gp/T/tmp0n34l2vu/my_kedro_project by entering 'cd /private/var/folders/x8/_9l2j54n1lx_71w8kncv7mc80000gp/T/tmp0n34l2vu/my_kedro_project'\n"
     ]
    },
    {
     "data": {
      "text/plain": [
       "PosixPath('/var/folders/x8/_9l2j54n1lx_71w8kncv7mc80000gp/T/tmp0n34l2vu/my_kedro_project/src/data_fabricator')"
      ]
     },
     "execution_count": 4,
     "metadata": {},
     "output_type": "execute_result"
    }
   ],
   "source": [
    "import subprocess\n",
    "import os\n",
    "import shutil\n",
    "import tempfile\n",
    "\n",
    "from pathlib import Path\n",
    "\n",
    "current_path = Path(os.curdir).absolute()\n",
    "\n",
    "\n",
    "def subprocess_call(cmd: str) -> None:\n",
    "    \"\"\"Call subprocess with error check.\"\"\"\n",
    "    print(\"=========================================\")\n",
    "    print(f\"Calling: {cmd}\")\n",
    "    print(\"=========================================\")\n",
    "    subprocess.run(cmd, check=True, shell=True)\n",
    "\n",
    "\n",
    "PROJECT_NAME = \"my_kedro_project\"\n",
    "from pathlib import Path\n",
    "\n",
    "tmp_path = Path(tempfile.TemporaryDirectory().name)\n",
    "\n",
    "\n",
    "if tmp_path.exists() and tmp_path.is_dir():\n",
    "    shutil.rmtree(tmp_path)\n",
    "\n",
    "filepath = tmp_path / \"prompt.yml\"\n",
    "\n",
    "prompt_text = f\"\"\"\n",
    "project_name: {PROJECT_NAME}\n",
    "repo_name: {PROJECT_NAME}\n",
    "python_package: {PROJECT_NAME}\n",
    "\"\"\"\n",
    "\n",
    "filepath.parent.mkdir(parents=True, exist_ok=True)\n",
    "filepath.write_text(prompt_text)\n",
    "subprocess_call(f\"cd {tmp_path} && kedro new --config=prompt.yml\")\n",
    "\n",
    "utility_path = Path().cwd() / \"data_fabricator\"\n",
    "\n",
    "shutil.copytree(\n",
    "    utility_path,\n",
    "    tmp_path / PROJECT_NAME / \"src\" / \"data_fabricator\",\n",
    ")"
   ]
  },
  {
   "cell_type": "markdown",
   "id": "4876aec2-0779-476e-8e84-f7b967ab0954",
   "metadata": {},
   "source": [
    "## Simple Example from `README.md`\n",
    "\n",
    "Once you have started your Kedro project with `kedro new`, we need to specify the following configuration in your `parameters.yml`:\n"
   ]
  },
  {
   "cell_type": "code",
   "execution_count": 5,
   "id": "0fd1f568-33ec-4399-9fbe-c77e9b98af40",
   "metadata": {
    "tags": [
     "hide-input"
    ]
   },
   "outputs": [
    {
     "name": "stdout",
     "output_type": "stream",
     "text": [
      "filepath: /var/folders/x8/_9l2j54n1lx_71w8kncv7mc80000gp/T/tmp0n34l2vu/my_kedro_project/conf/base/parameters.yml\n",
      "\n",
      "my_config:\n",
      "  students:\n",
      "    num_rows: 10\n",
      "    columns:\n",
      "      student_id:\n",
      "        type: generate_unique_id\n",
      "      name:\n",
      "        type: faker\n",
      "        provider: name\n",
      "        # Setting seed is not recommended for general use, please consider when to use seed\n",
      "        faker_seed: 1\n",
      "      enrollment_date:\n",
      "        type: generate_dates\n",
      "        start_dt: 2019-01-01\n",
      "        end_dt: 2020-12-31\n",
      "        freq: M\n",
      "\n",
      "  faculty:\n",
      "    num_rows: 5\n",
      "    columns:\n",
      "      faculty_id:\n",
      "        type: generate_unique_id\n",
      "      name:\n",
      "        type: faker\n",
      "        provider: name\n",
      "        # Setting seed is not recommended for general use, please consider when to use seed\n",
      "        faker_seed: 1\n",
      "      class:\n",
      "        type: generate_values\n",
      "        sample_values:\n",
      "          - engineering\n",
      "          - computer science\n",
      "          - mathematics\n",
      "\n",
      "  classes:\n",
      "    columns:\n",
      "      student_id:\n",
      "        type: row_apply\n",
      "        list_of_values: students.student_id\n",
      "        row_func: \"lambda x: x\"\n",
      "      class:\n",
      "        type: row_apply\n",
      "        list_of_values: faculty.class\n",
      "        row_func: \"lambda x: x\"\n",
      "        resize: True\n",
      "# Setting seed is not recommended for general use, please consider when to use seed\n",
      "seed_val: 1\n",
      "\n",
      "\n"
     ]
    }
   ],
   "source": [
    "\n",
    "config_yaml_string = \"\"\"\n",
    "my_config:\n",
    "  students:\n",
    "    num_rows: 10\n",
    "    columns:\n",
    "      student_id:\n",
    "        type: generate_unique_id\n",
    "      name:\n",
    "        type: faker\n",
    "        provider: name\n",
    "        # Setting seed is not recommended for general use, please consider when to use seed\n",
    "        faker_seed: 1\n",
    "      enrollment_date:\n",
    "        type: generate_dates\n",
    "        start_dt: 2019-01-01\n",
    "        end_dt: 2020-12-31\n",
    "        freq: M\n",
    "\n",
    "  faculty:\n",
    "    num_rows: 5\n",
    "    columns:\n",
    "      faculty_id:\n",
    "        type: generate_unique_id\n",
    "      name:\n",
    "        type: faker\n",
    "        provider: name\n",
    "        # Setting seed is not recommended for general use, please consider when to use seed\n",
    "        faker_seed: 1\n",
    "      class:\n",
    "        type: generate_values\n",
    "        sample_values:\n",
    "          - engineering\n",
    "          - computer science\n",
    "          - mathematics\n",
    "\n",
    "  classes:\n",
    "    columns:\n",
    "      student_id:\n",
    "        type: row_apply\n",
    "        list_of_values: students.student_id\n",
    "        row_func: \"lambda x: x\"\n",
    "      class:\n",
    "        type: row_apply\n",
    "        list_of_values: faculty.class\n",
    "        row_func: \"lambda x: x\"\n",
    "        resize: True\n",
    "# Setting seed is not recommended for general use, please consider when to use seed\n",
    "seed_val: 1\n",
    "\n",
    "\"\"\"\n",
    "\n",
    "filepath = tmp_path / PROJECT_NAME / \"conf\" / \"base\" / \"parameters.yml\"\n",
    "filepath.parent.mkdir(parents=True, exist_ok=True)\n",
    "filepath.write_text(config_yaml_string)\n",
    "print(f\"filepath: {filepath}\")\n",
    "print(config_yaml_string)"
   ]
  },
  {
   "cell_type": "markdown",
   "id": "e43b13a4-44aa-44ee-addf-4ce1ee7b055e",
   "metadata": {},
   "source": [
    "Then, we can specify the outputs location and format in our `catalog.yml` file. In this case, we are giving `csv` under `raw` layer:\n"
   ]
  },
  {
   "cell_type": "code",
   "execution_count": 6,
   "id": "358286a7-3d06-447a-a877-284269286bb2",
   "metadata": {
    "tags": [
     "hide-input"
    ]
   },
   "outputs": [
    {
     "name": "stdout",
     "output_type": "stream",
     "text": [
      "filepath: /var/folders/x8/_9l2j54n1lx_71w8kncv7mc80000gp/T/tmp0n34l2vu/my_kedro_project/conf/base/catalog.yml\n",
      "\n",
      "students:\n",
      "  type: pandas.CSVDataSet\n",
      "  filepath: data/01_raw/students.csv\n",
      "  layer: raw\n",
      "\n",
      "faculty:\n",
      "  type: pandas.CSVDataSet\n",
      "  filepath: data/01_raw/faculty.csv\n",
      "  layer: raw\n",
      "\n",
      "classes:\n",
      "  type: pandas.CSVDataSet\n",
      "  filepath: data/01_raw/classes.csv\n",
      "  layer: raw\n",
      "\n"
     ]
    }
   ],
   "source": [
    "\n",
    "catalog_yaml_string = \"\"\"\n",
    "students:\n",
    "  type: pandas.CSVDataSet\n",
    "  filepath: data/01_raw/students.csv\n",
    "  layer: raw\n",
    "\n",
    "faculty:\n",
    "  type: pandas.CSVDataSet\n",
    "  filepath: data/01_raw/faculty.csv\n",
    "  layer: raw\n",
    "\n",
    "classes:\n",
    "  type: pandas.CSVDataSet\n",
    "  filepath: data/01_raw/classes.csv\n",
    "  layer: raw\n",
    "\"\"\"\n",
    "\n",
    "filepath = tmp_path / PROJECT_NAME / \"conf\" / \"base\" / \"catalog.yml\"\n",
    "filepath.parent.mkdir(parents=True, exist_ok=True)\n",
    "filepath.write_text(catalog_yaml_string)\n",
    "print(f\"filepath: {filepath}\")\n",
    "print(catalog_yaml_string)"
   ]
  },
  {
   "cell_type": "markdown",
   "id": "48175673-5636-4e5a-837b-1e2d3281132e",
   "metadata": {},
   "source": [
    "We can now create our pipeline, the `pipeline.py` file will look like:"
   ]
  },
  {
   "cell_type": "code",
   "execution_count": 7,
   "id": "c25b454f-9717-4a9b-81e7-fb04788c206a",
   "metadata": {
    "tags": [
     "hide-input"
    ]
   },
   "outputs": [
    {
     "name": "stdout",
     "output_type": "stream",
     "text": [
      "filepath: /var/folders/x8/_9l2j54n1lx_71w8kncv7mc80000gp/T/tmp0n34l2vu/my_kedro_project/src/my_kedro_project/pipelines/pipeline.py\n",
      "\n",
      "from kedro.pipeline import Pipeline, node\n",
      "from kedro.pipeline.modular_pipeline import pipeline\n",
      "from data_fabricator.v0.nodes.fabrication import fabricate_datasets\n",
      "\n",
      "def create_pipeline(**kwargs) -> Pipeline:\n",
      "    return pipeline(\n",
      "        [\n",
      "            node(\n",
      "                func=fabricate_datasets,\n",
      "                inputs=dict(fabrication_params=\"params:my_config\", seed=\"params:seed_val\"),\n",
      "                outputs=dict(students=\"students\", faculty=\"faculty\", classes=\"classes\"),\n",
      "                name=\"data_fabricator_node\",\n",
      "            )\n",
      "        ]\n",
      "    )\n",
      "\n"
     ]
    }
   ],
   "source": [
    "pipeline_file_txt = \"\"\"\n",
    "from kedro.pipeline import Pipeline, node\n",
    "from kedro.pipeline.modular_pipeline import pipeline\n",
    "from data_fabricator.v0.nodes.fabrication import fabricate_datasets\n",
    "\n",
    "def create_pipeline(**kwargs) -> Pipeline:\n",
    "    return pipeline(\n",
    "        [\n",
    "            node(\n",
    "                func=fabricate_datasets,\n",
    "                inputs=dict(fabrication_params=\"params:my_config\", seed=\"params:seed_val\"),\n",
    "                outputs=dict(students=\"students\", faculty=\"faculty\", classes=\"classes\"),\n",
    "                name=\"data_fabricator_node\",\n",
    "            )\n",
    "        ]\n",
    "    )\n",
    "\"\"\"\n",
    "\n",
    "filepath = tmp_path / PROJECT_NAME / \"src\" / PROJECT_NAME / \"pipelines\" / \"pipeline.py\"\n",
    "filepath.parent.mkdir(parents=True, exist_ok=True)\n",
    "filepath.write_text(pipeline_file_txt)\n",
    "print(f\"filepath: {filepath}\")\n",
    "print(pipeline_file_txt)"
   ]
  },
  {
   "cell_type": "markdown",
   "id": "9c84d61a-8f9a-4608-8c10-c50c3bb3a24c",
   "metadata": {},
   "source": [
    "Finally, the pipeline can be registered into `pipeline_registry.py`:"
   ]
  },
  {
   "cell_type": "code",
   "execution_count": 8,
   "id": "b170db04-dbc2-4b85-b976-399ce53fc869",
   "metadata": {
    "tags": [
     "hide-input"
    ]
   },
   "outputs": [
    {
     "name": "stdout",
     "output_type": "stream",
     "text": [
      "filepath: /var/folders/x8/_9l2j54n1lx_71w8kncv7mc80000gp/T/tmp0n34l2vu/my_kedro_project/src/my_kedro_project/pipeline_registry.py\n",
      "\n",
      "from typing import Dict\n",
      "from kedro.pipeline import Pipeline\n",
      "from my_kedro_project.pipelines.pipeline import create_pipeline\n",
      "\n",
      "def register_pipelines() -> Dict[str, Pipeline]:\n",
      "    return dict(__default__= create_pipeline())\n",
      "\n"
     ]
    }
   ],
   "source": [
    "pipeline_registry = \"\"\"\n",
    "from typing import Dict\n",
    "from kedro.pipeline import Pipeline\n",
    "from my_kedro_project.pipelines.pipeline import create_pipeline\n",
    "\n",
    "def register_pipelines() -> Dict[str, Pipeline]:\n",
    "    return dict(__default__= create_pipeline())\n",
    "\"\"\"\n",
    "filepath = tmp_path / PROJECT_NAME / \"src\" / PROJECT_NAME / \"pipeline_registry.py\"\n",
    "filepath.parent.mkdir(parents=True, exist_ok=True)\n",
    "filepath.write_text(pipeline_registry)\n",
    "print(f\"filepath: {filepath}\")\n",
    "print(pipeline_registry)"
   ]
  },
  {
   "cell_type": "markdown",
   "id": "aed9f9ed-6aa5-4d28-a89a-56bd1fef8034",
   "metadata": {},
   "source": [
    "Now, we can run `kedro run`"
   ]
  },
  {
   "cell_type": "code",
   "execution_count": 9,
   "id": "cf3dae0a-cee7-4fa9-945c-1fa62e68608f",
   "metadata": {
    "nbsphinx": "hidden",
    "tags": [
     "hide-cell"
    ]
   },
   "outputs": [
    {
     "name": "stdout",
     "output_type": "stream",
     "text": [
      "=========================================\n",
      "Calling: cd /var/folders/x8/_9l2j54n1lx_71w8kncv7mc80000gp/T/tmp0n34l2vu/my_kedro_project && kedro run\n",
      "=========================================\n",
      "\u001b[2;36m[07/06/23 11:06:55]\u001b[0m\u001b[2;36m \u001b[0m\u001b[31mWARNING \u001b[0m Failed to load kedro_deploy.cli        \u001b]8;id=762421;file:///opt/homebrew/Caskroom/miniforge/base/envs/qblabs-monorepo/lib/python3.9/site-packages/kedro/framework/cli/utils.py\u001b\\\u001b[2mutils.py\u001b[0m\u001b]8;;\u001b\\\u001b[2m:\u001b[0m\u001b]8;id=198431;file:///opt/homebrew/Caskroom/miniforge/base/envs/qblabs-monorepo/lib/python3.9/site-packages/kedro/framework/cli/utils.py#371\u001b\\\u001b[2m371\u001b[0m\u001b]8;;\u001b\\\n",
      "\u001b[2;36m                    \u001b[0m         commands from                          \u001b[2m            \u001b[0m\n",
      "\u001b[2;36m                    \u001b[0m         \u001b[1;35mEntryPoint\u001b[0m\u001b[1m(\u001b[0m\u001b[33mname\u001b[0m=\u001b[32m'deploy'\u001b[0m,              \u001b[2m            \u001b[0m\n",
      "\u001b[2;36m                    \u001b[0m         \u001b[33mvalue\u001b[0m=\u001b[32m'kedro_deploy.cli:cli'\u001b[0m,          \u001b[2m            \u001b[0m\n",
      "\u001b[2;36m                    \u001b[0m         \u001b[33mgroup\u001b[0m=\u001b[32m'kedro.project_commands'\u001b[0m\u001b[1m)\u001b[0m. Full  \u001b[2m            \u001b[0m\n",
      "\u001b[2;36m                    \u001b[0m         exception: No module named             \u001b[2m            \u001b[0m\n",
      "\u001b[2;36m                    \u001b[0m         \u001b[32m'kedro_deploy'\u001b[0m                         \u001b[2m            \u001b[0m\n",
      "\u001b[2;36m[07/06/23 11:06:55]\u001b[0m\u001b[2;36m \u001b[0m\u001b[34mINFO    \u001b[0m Kedro project my_kedro_project       \u001b]8;id=506860;file:///opt/homebrew/Caskroom/miniforge/base/envs/qblabs-monorepo/lib/python3.9/site-packages/kedro/framework/session/session.py\u001b\\\u001b[2msession.py\u001b[0m\u001b]8;;\u001b\\\u001b[2m:\u001b[0m\u001b]8;id=362602;file:///opt/homebrew/Caskroom/miniforge/base/envs/qblabs-monorepo/lib/python3.9/site-packages/kedro/framework/session/session.py#360\u001b\\\u001b[2m360\u001b[0m\u001b]8;;\u001b\\\n",
      "\u001b[2;36m[07/06/23 11:06:56]\u001b[0m\u001b[2;36m \u001b[0m\u001b[31mWARNING \u001b[0m \u001b[35m/private/var/folders/x8/_9l2j54n1lx\u001b[0m \u001b]8;id=31389;file:///opt/homebrew/Caskroom/miniforge/base/envs/qblabs-monorepo/lib/python3.9/warnings.py\u001b\\\u001b[2mwarnings.py\u001b[0m\u001b]8;;\u001b\\\u001b[2m:\u001b[0m\u001b]8;id=972664;file:///opt/homebrew/Caskroom/miniforge/base/envs/qblabs-monorepo/lib/python3.9/warnings.py#109\u001b\\\u001b[2m109\u001b[0m\u001b]8;;\u001b\\\n",
      "\u001b[2;36m                    \u001b[0m         \u001b[35m_71w8kncv7mc80000gp/T/tmp0n34l2vu/m\u001b[0m \u001b[2m               \u001b[0m\n",
      "\u001b[2;36m                    \u001b[0m         \u001b[35my_kedro_project/src/data_fabricator\u001b[0m \u001b[2m               \u001b[0m\n",
      "\u001b[2;36m                    \u001b[0m         \u001b[35m/v0/nodes/\u001b[0m\u001b[95mfabrication.py\u001b[0m:\u001b[1;36m31\u001b[0m:        \u001b[2m               \u001b[0m\n",
      "\u001b[2;36m                    \u001b[0m         DeprecationWarning: Deprecation     \u001b[2m               \u001b[0m\n",
      "\u001b[2;36m                    \u001b[0m         Warning: You are using v0 of Data   \u001b[2m               \u001b[0m\n",
      "\u001b[2;36m                    \u001b[0m         Fabricator API which will           \u001b[2m               \u001b[0m\n",
      "\u001b[2;36m                    \u001b[0m         bedeprecated soon. Please migrate   \u001b[2m               \u001b[0m\n",
      "\u001b[2;36m                    \u001b[0m         to v1 as soon as possible. For      \u001b[2m               \u001b[0m\n",
      "\u001b[2;36m                    \u001b[0m         information onhow to migrate,       \u001b[2m               \u001b[0m\n",
      "\u001b[2;36m                    \u001b[0m         please visit our documentation      \u001b[2m               \u001b[0m\n",
      "\u001b[2;36m                    \u001b[0m         page.                               \u001b[2m               \u001b[0m\n",
      "\u001b[2;36m                    \u001b[0m           from ..core.fabricator import     \u001b[2m               \u001b[0m\n",
      "\u001b[2;36m                    \u001b[0m         MockDataGenerator                   \u001b[2m               \u001b[0m\n",
      "\u001b[2;36m                    \u001b[0m                                             \u001b[2m               \u001b[0m\n",
      "\u001b[2;36m                   \u001b[0m\u001b[2;36m \u001b[0m\u001b[31mWARNING \u001b[0m \u001b[35m/opt/homebrew/Caskroom/miniforge/ba\u001b[0m \u001b]8;id=691336;file:///opt/homebrew/Caskroom/miniforge/base/envs/qblabs-monorepo/lib/python3.9/warnings.py\u001b\\\u001b[2mwarnings.py\u001b[0m\u001b]8;;\u001b\\\u001b[2m:\u001b[0m\u001b]8;id=437440;file:///opt/homebrew/Caskroom/miniforge/base/envs/qblabs-monorepo/lib/python3.9/warnings.py#109\u001b\\\u001b[2m109\u001b[0m\u001b]8;;\u001b\\\n",
      "\u001b[2;36m                    \u001b[0m         \u001b[35mse/envs/qblabs-monorepo/lib/python3\u001b[0m \u001b[2m               \u001b[0m\n",
      "\u001b[2;36m                    \u001b[0m         \u001b[35m.9/importlib/\u001b[0m\u001b[95m__init__.py\u001b[0m:\u001b[1;36m127\u001b[0m:       \u001b[2m               \u001b[0m\n",
      "\u001b[2;36m                    \u001b[0m         DeprecationWarning:                 \u001b[2m               \u001b[0m\n",
      "\u001b[2;36m                    \u001b[0m         `kedro.extras.datasets` is          \u001b[2m               \u001b[0m\n",
      "\u001b[2;36m                    \u001b[0m         deprecated and will be removed in   \u001b[2m               \u001b[0m\n",
      "\u001b[2;36m                    \u001b[0m         Kedro \u001b[1;36m0.19\u001b[0m, install                 \u001b[2m               \u001b[0m\n",
      "\u001b[2;36m                    \u001b[0m         `kedro-datasets` instead by running \u001b[2m               \u001b[0m\n",
      "\u001b[2;36m                    \u001b[0m         `pip install kedro-datasets`.       \u001b[2m               \u001b[0m\n",
      "\u001b[2;36m                    \u001b[0m           return                            \u001b[2m               \u001b[0m\n",
      "\u001b[2;36m                    \u001b[0m         \u001b[1;35m_bootstrap._gcd_import\u001b[0m\u001b[1m(\u001b[0mname\u001b[1m[\u001b[0mlevel:\u001b[1m]\u001b[0m \u001b[2m               \u001b[0m\n",
      "\u001b[2;36m                    \u001b[0m         , package, level\u001b[1m)\u001b[0m                   \u001b[2m               \u001b[0m\n",
      "\u001b[2;36m                    \u001b[0m                                             \u001b[2m               \u001b[0m\n",
      "\u001b[2;36m                   \u001b[0m\u001b[2;36m \u001b[0m\u001b[34mINFO    \u001b[0m Loading data from               \u001b]8;id=65760;file:///opt/homebrew/Caskroom/miniforge/base/envs/qblabs-monorepo/lib/python3.9/site-packages/kedro/io/data_catalog.py\u001b\\\u001b[2mdata_catalog.py\u001b[0m\u001b]8;;\u001b\\\u001b[2m:\u001b[0m\u001b]8;id=325406;file:///opt/homebrew/Caskroom/miniforge/base/envs/qblabs-monorepo/lib/python3.9/site-packages/kedro/io/data_catalog.py#343\u001b\\\u001b[2m343\u001b[0m\u001b]8;;\u001b\\\n",
      "\u001b[2;36m                    \u001b[0m         \u001b[32m'params:my_config'\u001b[0m              \u001b[2m                   \u001b[0m\n",
      "\u001b[2;36m                    \u001b[0m         \u001b[1m(\u001b[0mMemoryDataSet\u001b[1m)\u001b[0m\u001b[33m...\u001b[0m              \u001b[2m                   \u001b[0m\n",
      "\u001b[2;36m                   \u001b[0m\u001b[2;36m \u001b[0m\u001b[34mINFO    \u001b[0m Loading data from               \u001b]8;id=728581;file:///opt/homebrew/Caskroom/miniforge/base/envs/qblabs-monorepo/lib/python3.9/site-packages/kedro/io/data_catalog.py\u001b\\\u001b[2mdata_catalog.py\u001b[0m\u001b]8;;\u001b\\\u001b[2m:\u001b[0m\u001b]8;id=389071;file:///opt/homebrew/Caskroom/miniforge/base/envs/qblabs-monorepo/lib/python3.9/site-packages/kedro/io/data_catalog.py#343\u001b\\\u001b[2m343\u001b[0m\u001b]8;;\u001b\\\n",
      "\u001b[2;36m                    \u001b[0m         \u001b[32m'params:seed_val'\u001b[0m               \u001b[2m                   \u001b[0m\n",
      "\u001b[2;36m                    \u001b[0m         \u001b[1m(\u001b[0mMemoryDataSet\u001b[1m)\u001b[0m\u001b[33m...\u001b[0m              \u001b[2m                   \u001b[0m\n",
      "\u001b[2;36m                   \u001b[0m\u001b[2;36m \u001b[0m\u001b[34mINFO    \u001b[0m Running node: data_fabricator_node:     \u001b]8;id=148143;file:///opt/homebrew/Caskroom/miniforge/base/envs/qblabs-monorepo/lib/python3.9/site-packages/kedro/pipeline/node.py\u001b\\\u001b[2mnode.py\u001b[0m\u001b]8;;\u001b\\\u001b[2m:\u001b[0m\u001b]8;id=789383;file:///opt/homebrew/Caskroom/miniforge/base/envs/qblabs-monorepo/lib/python3.9/site-packages/kedro/pipeline/node.py#329\u001b\\\u001b[2m329\u001b[0m\u001b]8;;\u001b\\\n",
      "\u001b[2;36m                    \u001b[0m         \u001b[1;35mfabricate_datasets\u001b[0m\u001b[1m(\u001b[0m\u001b[1m[\u001b[0mparams:my_config,pa \u001b[2m           \u001b[0m\n",
      "\u001b[2;36m                    \u001b[0m         rams:seed_val\u001b[1m]\u001b[0m\u001b[1m)\u001b[0m ->                      \u001b[2m           \u001b[0m\n",
      "\u001b[2;36m                    \u001b[0m         \u001b[1m[\u001b[0mstudents,faculty,classes\u001b[1m]\u001b[0m              \u001b[2m           \u001b[0m\n",
      "\u001b[2;36m                   \u001b[0m\u001b[2;36m \u001b[0m\u001b[31mWARNING \u001b[0m Resizing list from \u001b[1;36m5\u001b[0m to \u001b[1;36m10\u001b[0m       \u001b]8;id=840775;file:///private/var/folders/x8/_9l2j54n1lx_71w8kncv7mc80000gp/T/tmp0n34l2vu/my_kedro_project/src/data_fabricator/v0/core/fabricator.py\u001b\\\u001b[2mfabricator.py\u001b[0m\u001b]8;;\u001b\\\u001b[2m:\u001b[0m\u001b]8;id=239874;file:///private/var/folders/x8/_9l2j54n1lx_71w8kncv7mc80000gp/T/tmp0n34l2vu/my_kedro_project/src/data_fabricator/v0/core/fabricator.py#1112\u001b\\\u001b[2m1112\u001b[0m\u001b]8;;\u001b\\\n",
      "\u001b[2;36m                   \u001b[0m\u001b[2;36m \u001b[0m\u001b[34mINFO    \u001b[0m Saving data to \u001b[32m'students'\u001b[0m       \u001b]8;id=519896;file:///opt/homebrew/Caskroom/miniforge/base/envs/qblabs-monorepo/lib/python3.9/site-packages/kedro/io/data_catalog.py\u001b\\\u001b[2mdata_catalog.py\u001b[0m\u001b]8;;\u001b\\\u001b[2m:\u001b[0m\u001b]8;id=579715;file:///opt/homebrew/Caskroom/miniforge/base/envs/qblabs-monorepo/lib/python3.9/site-packages/kedro/io/data_catalog.py#382\u001b\\\u001b[2m382\u001b[0m\u001b]8;;\u001b\\\n",
      "\u001b[2;36m                    \u001b[0m         \u001b[1m(\u001b[0mCSVDataSet\u001b[1m)\u001b[0m\u001b[33m...\u001b[0m                 \u001b[2m                   \u001b[0m\n",
      "\u001b[2;36m                   \u001b[0m\u001b[2;36m \u001b[0m\u001b[34mINFO    \u001b[0m Saving data to \u001b[32m'faculty'\u001b[0m        \u001b]8;id=229408;file:///opt/homebrew/Caskroom/miniforge/base/envs/qblabs-monorepo/lib/python3.9/site-packages/kedro/io/data_catalog.py\u001b\\\u001b[2mdata_catalog.py\u001b[0m\u001b]8;;\u001b\\\u001b[2m:\u001b[0m\u001b]8;id=797911;file:///opt/homebrew/Caskroom/miniforge/base/envs/qblabs-monorepo/lib/python3.9/site-packages/kedro/io/data_catalog.py#382\u001b\\\u001b[2m382\u001b[0m\u001b]8;;\u001b\\\n",
      "\u001b[2;36m                    \u001b[0m         \u001b[1m(\u001b[0mCSVDataSet\u001b[1m)\u001b[0m\u001b[33m...\u001b[0m                 \u001b[2m                   \u001b[0m\n",
      "\u001b[2;36m                   \u001b[0m\u001b[2;36m \u001b[0m\u001b[34mINFO    \u001b[0m Saving data to \u001b[32m'classes'\u001b[0m        \u001b]8;id=22533;file:///opt/homebrew/Caskroom/miniforge/base/envs/qblabs-monorepo/lib/python3.9/site-packages/kedro/io/data_catalog.py\u001b\\\u001b[2mdata_catalog.py\u001b[0m\u001b]8;;\u001b\\\u001b[2m:\u001b[0m\u001b]8;id=436396;file:///opt/homebrew/Caskroom/miniforge/base/envs/qblabs-monorepo/lib/python3.9/site-packages/kedro/io/data_catalog.py#382\u001b\\\u001b[2m382\u001b[0m\u001b]8;;\u001b\\\n",
      "\u001b[2;36m                    \u001b[0m         \u001b[1m(\u001b[0mCSVDataSet\u001b[1m)\u001b[0m\u001b[33m...\u001b[0m                 \u001b[2m                   \u001b[0m\n",
      "\u001b[2;36m                   \u001b[0m\u001b[2;36m \u001b[0m\u001b[34mINFO    \u001b[0m Completed \u001b[1;36m1\u001b[0m out of \u001b[1;36m1\u001b[0m tasks  \u001b]8;id=194936;file:///opt/homebrew/Caskroom/miniforge/base/envs/qblabs-monorepo/lib/python3.9/site-packages/kedro/runner/sequential_runner.py\u001b\\\u001b[2msequential_runner.py\u001b[0m\u001b]8;;\u001b\\\u001b[2m:\u001b[0m\u001b]8;id=659924;file:///opt/homebrew/Caskroom/miniforge/base/envs/qblabs-monorepo/lib/python3.9/site-packages/kedro/runner/sequential_runner.py#85\u001b\\\u001b[2m85\u001b[0m\u001b]8;;\u001b\\\n",
      "\u001b[2;36m                   \u001b[0m\u001b[2;36m \u001b[0m\u001b[34mINFO    \u001b[0m Pipeline execution completed           \u001b]8;id=939078;file:///opt/homebrew/Caskroom/miniforge/base/envs/qblabs-monorepo/lib/python3.9/site-packages/kedro/runner/runner.py\u001b\\\u001b[2mrunner.py\u001b[0m\u001b]8;;\u001b\\\u001b[2m:\u001b[0m\u001b]8;id=756531;file:///opt/homebrew/Caskroom/miniforge/base/envs/qblabs-monorepo/lib/python3.9/site-packages/kedro/runner/runner.py#93\u001b\\\u001b[2m93\u001b[0m\u001b]8;;\u001b\\\n",
      "\u001b[2;36m                    \u001b[0m         successfully.                          \u001b[2m            \u001b[0m\n"
     ]
    }
   ],
   "source": [
    "only_kedro = \"kedro run\"\n",
    "cmd = f\"cd {tmp_path}/{PROJECT_NAME} && {only_kedro}\"\n",
    "subprocess_call(cmd)"
   ]
  },
  {
   "cell_type": "code",
   "execution_count": 10,
   "id": "9e1dbcc4-d2de-4d17-842f-2522997033b5",
   "metadata": {
    "tags": [
     "hide-input"
    ]
   },
   "outputs": [
    {
     "name": "stdout",
     "output_type": "stream",
     "text": [
      "kedro run\n",
      "kedro.framework.session.session - INFO - Kedro project my_kedro_project\n",
      "py.warnings - WARNING - /private/var/folders/x8/_9l2j54n1lx_71w8kncv7mc80000gp/T/tmp0n34l2vu/my_kedro_project/src/data_fabricator/v0/nodes/fabrication.py:31: DeprecationWarning: Deprecation Warning: You are using v0 of Data Fabricator API which will bedeprecated soon. Please migrate to v1 as soon as possible. For information onhow to migrate, please visit our documentation page.\n",
      "  from ..core.fabricator import MockDataGenerator\n",
      "\n",
      "py.warnings - WARNING - /opt/homebrew/Caskroom/miniforge/base/envs/qblabs-monorepo/lib/python3.9/importlib/__init__.py:127: DeprecationWarning: `kedro.extras.datasets` is deprecated and will be removed in Kedro 0.19, install `kedro-datasets` instead by running `pip install kedro-datasets`.\n",
      "  return _bootstrap._gcd_import(name[level:], package, level)\n",
      "\n",
      "kedro.io.data_catalog - INFO - Loading data from 'params:my_config' (MemoryDataSet)...\n",
      "kedro.io.data_catalog - INFO - Loading data from 'params:seed_val' (MemoryDataSet)...\n",
      "kedro.pipeline.node - INFO - Running node: data_fabricator_node: fabricate_datasets([params:my_config,params:seed_val]) -> [students,faculty,classes]\n",
      "data_fabricator.v0.core.fabricator - WARNING - Resizing list from 5 to 10\n",
      "kedro.io.data_catalog - INFO - Saving data to 'students' (CSVDataSet)...\n",
      "kedro.io.data_catalog - INFO - Saving data to 'faculty' (CSVDataSet)...\n",
      "kedro.io.data_catalog - INFO - Saving data to 'classes' (CSVDataSet)...\n",
      "kedro.runner.sequential_runner - INFO - Completed 1 out of 1 tasks\n",
      "kedro.runner.sequential_runner - INFO - Pipeline execution completed successfully.\n",
      "\n"
     ]
    }
   ],
   "source": [
    "import re\n",
    "\n",
    "print(only_kedro)\n",
    "log_file = Path(tmp_path) / Path(PROJECT_NAME) / Path(\"info.log\")\n",
    "with open(str(log_file)) as f:\n",
    "    logs_txt = f.read()\n",
    "    logs_txt = re.sub(\n",
    "        \"\\d{4}\\-\\d{2}\\-\\d{2}\\s+\\d{2}\\:\\d{2}:\\d{2},\\d{3}\\s+\\-\\s+\", \"\", logs_txt\n",
    "    )\n",
    "    print(logs_txt)"
   ]
  },
  {
   "cell_type": "markdown",
   "id": "7605af6c-dd39-4006-a699-24083ed14278",
   "metadata": {},
   "source": [
    "We can see tables are generated under the specified layer:"
   ]
  },
  {
   "cell_type": "code",
   "execution_count": 11,
   "id": "b6ff0cc2-57cc-4f54-86f8-751a64eefe9e",
   "metadata": {
    "tags": [
     "hide-input"
    ]
   },
   "outputs": [
    {
     "name": "stdout",
     "output_type": "stream",
     "text": [
      "=========================================\n",
      "Calling: ls /var/folders/x8/_9l2j54n1lx_71w8kncv7mc80000gp/T/tmp0n34l2vu/my_kedro_project/data/01_raw/\n",
      "=========================================\n",
      "classes.csv\n",
      "faculty.csv\n",
      "students.csv\n"
     ]
    }
   ],
   "source": [
    "cmd = f\"ls {tmp_path}/{PROJECT_NAME}/data/01_raw/\"\n",
    "subprocess_call(cmd)"
   ]
  },
  {
   "cell_type": "markdown",
   "id": "e4d9513e-1a7a-4d2e-a6b2-3bca04f79a6b",
   "metadata": {},
   "source": [
    "For validation, we can check `classes.csv` file:"
   ]
  },
  {
   "cell_type": "code",
   "execution_count": 12,
   "id": "9c89430a-bfaf-40ed-82dd-611e284ffab0",
   "metadata": {
    "tags": [
     "hide-input"
    ]
   },
   "outputs": [
    {
     "name": "stdout",
     "output_type": "stream",
     "text": [
      "=========================================\n",
      "Calling: head /var/folders/x8/_9l2j54n1lx_71w8kncv7mc80000gp/T/tmp0n34l2vu/my_kedro_project/data/01_raw/classes.csv\n",
      "=========================================\n",
      "student_id,class\n",
      "1,computer science\n",
      "2,engineering\n",
      "3,engineering\n",
      "4,engineering\n",
      "5,computer science\n",
      "6,engineering\n",
      "7,mathematics\n",
      "8,mathematics\n",
      "9,mathematics\n"
     ]
    }
   ],
   "source": [
    "cmd = f\"head {tmp_path}/{PROJECT_NAME}/data/01_raw/classes.csv\"\n",
    "subprocess_call(cmd)"
   ]
  },
  {
   "cell_type": "code",
   "execution_count": 13,
   "id": "239cf8e2-6282-4d00-9206-dcb0bdd0f506",
   "metadata": {
    "nbsphinx": "hidden",
    "tags": [
     "hide-cell"
    ]
   },
   "outputs": [
    {
     "name": "stdout",
     "output_type": "stream",
     "text": [
      "=========================================\n",
      "Calling: rm -r /var/folders/x8/_9l2j54n1lx_71w8kncv7mc80000gp/T/tmp0n34l2vu/\n",
      "=========================================\n"
     ]
    }
   ],
   "source": [
    "# Final clean up for when running this doc\n",
    "subprocess_call(f\"rm -r {tmp_path}/\")"
   ]
  }
 ],
 "metadata": {
  "celltoolbar": "Edit Metadata",
  "kernelspec": {
   "display_name": "qblabs-monorepo",
   "language": "python",
   "name": "qblabs-monorepo"
  },
  "language_info": {
   "codemirror_mode": {
    "name": "ipython",
    "version": 3
   },
   "file_extension": ".py",
   "mimetype": "text/x-python",
   "name": "python",
   "nbconvert_exporter": "python",
   "pygments_lexer": "ipython3",
   "version": "3.9.15"
  }
 },
 "nbformat": 4,
 "nbformat_minor": 5
}
