{
 "cells": [
  {
   "cell_type": "code",
   "execution_count": 1,
   "id": "d60fffe6-3360-4d75-bb39-4eeac720d32c",
   "metadata": {
    "nbsphinx": "hidden",
    "tags": [
     "hide-input"
    ]
   },
   "outputs": [],
   "source": [
    "import pandas as pd\n",
    "\n",
    "pd.set_option(\"display.max_rows\", 500)\n",
    "pd.set_option(\"display.max_columns\", 500)\n",
    "pd.set_option(\"display.width\", 1000)"
   ]
  },
  {
   "cell_type": "markdown",
   "id": "ea8dc408-66d3-4f4f-9528-664e28954a04",
   "metadata": {},
   "source": [
    "# Custom Functions\n",
    "It is possible to deploy your own custom function when it comes to `row_apply` or\n",
    "`column_apply`. Let's show some examples.\n",
    "\n",
    "\n",
    "## Row Apply\n",
    "\n",
    "The `row_apply` function is where the `row_func` will receive each row as the\n",
    "input arguments.\n",
    "\n",
    "### Lambda Functions\n",
    "In most cases, you can rely on a lambda function if you wish to do this on the fly:\n"
   ]
  },
  {
   "cell_type": "code",
   "execution_count": 2,
   "id": "7285f8d2-c265-478e-8683-6f901bb09bb4",
   "metadata": {
    "tags": []
   },
   "outputs": [
    {
     "name": "stdout",
     "output_type": "stream",
     "text": [
      "{'sample_table': {'num_rows': 10, 'columns': {'id': {'type': 'generate_unique_id', 'seed': 1}, 'id_plus_one': {'type': 'row_apply', 'list_of_values': 'sample_table.id', 'row_func': 'lambda x: int(x)+1'}, 'id_plus_id': {'type': 'row_apply', 'list_of_values': ['sample_table.id', 'sample_table.id_plus_one'], 'row_func': 'lambda *args: int(args[0]) + args[1]'}}}}\n",
      "   id  id_plus_one  id_plus_id\n",
      "0   1            2           3\n",
      "1   2            3           5\n",
      "2   3            4           7\n",
      "3   4            5           9\n",
      "4   5            6          11\n",
      "5   6            7          13\n",
      "6   7            8          15\n",
      "7   8            9          17\n",
      "8   9           10          19\n",
      "9  10           11          21\n"
     ]
    },
    {
     "name": "stderr",
     "output_type": "stream",
     "text": [
      "/var/folders/x8/_9l2j54n1lx_71w8kncv7mc80000gp/T/ipykernel_43030/3078693068.py:1: DeprecationWarning: Deprecation Warning: You are using v0 of Data Fabricator API which will bedeprecated soon. Please migrate to v1 as soon as possible. For information onhow to migrate, please visit our documentation page.\n",
      "  from data_fabricator.v0.core.fabricator import MockDataGenerator\n"
     ]
    }
   ],
   "source": [
    "from data_fabricator.v0.core.fabricator import MockDataGenerator\n",
    "import yaml\n",
    "\n",
    "config_str = \"\"\"\n",
    "sample_table:\n",
    "  num_rows: 10\n",
    "  columns:\n",
    "    id:\n",
    "      type: generate_unique_id\n",
    "      seed: 1 # defaults to None\n",
    "    id_plus_one:\n",
    "      type: row_apply\n",
    "      list_of_values: sample_table.id\n",
    "      row_func: \"lambda x: int(x)+1\"\n",
    "    id_plus_id:\n",
    "      type: row_apply\n",
    "      list_of_values: [sample_table.id, sample_table.id_plus_one]\n",
    "      row_func: \"lambda *args: int(args[0]) + args[1]\"\n",
    "\"\"\"\n",
    "example_config = yaml.safe_load(config_str)\n",
    "print(example_config)\n",
    "\n",
    "mock_generator = MockDataGenerator(instructions=example_config)\n",
    "mock_generator.generate_all()\n",
    "\n",
    "print(mock_generator.all_dataframes[\"sample_table\"])"
   ]
  },
  {
   "cell_type": "markdown",
   "id": "7952b87f-bb43-42fe-8028-26c9b5c06011",
   "metadata": {},
   "source": [
    "Notice we can also pass in multiple column's row's into our custom function using\n",
    "the list syntax in the `list_of_values`. Also that `generate_unique_id` returns a\n",
    "string, so we need to convert it to an integer before doing any arithmatic.\n",
    "\n",
    "### Custom Functions\n",
    "If you wish to write more involved functions, you may do like the following:"
   ]
  },
  {
   "cell_type": "code",
   "execution_count": 3,
   "id": "7e37df9e-834e-4e33-a9ad-70c202b6b0e5",
   "metadata": {
    "tags": []
   },
   "outputs": [
    {
     "name": "stdout",
     "output_type": "stream",
     "text": [
      "In my_custom_row_func1, x: 1\n",
      "In my_custom_row_func1, x: 2\n",
      "In my_custom_row_func1, x: 3\n",
      "In my_custom_row_func1, x: 4\n",
      "In my_custom_row_func1, x: 5\n",
      "In my_custom_row_func1, x: 6\n",
      "In my_custom_row_func1, x: 7\n",
      "In my_custom_row_func1, x: 8\n",
      "In my_custom_row_func1, x: 9\n",
      "In my_custom_row_func1, x: 10\n",
      "In my_custom_row_func2, x: 1\n",
      "In my_custom_row_func2, y: 2\n",
      "In my_custom_row_func2, x: 2\n",
      "In my_custom_row_func2, y: 3\n",
      "In my_custom_row_func2, x: 3\n",
      "In my_custom_row_func2, y: 4\n",
      "In my_custom_row_func2, x: 4\n",
      "In my_custom_row_func2, y: 5\n",
      "In my_custom_row_func2, x: 5\n",
      "In my_custom_row_func2, y: 6\n",
      "In my_custom_row_func2, x: 6\n",
      "In my_custom_row_func2, y: 7\n",
      "In my_custom_row_func2, x: 7\n",
      "In my_custom_row_func2, y: 8\n",
      "In my_custom_row_func2, x: 8\n",
      "In my_custom_row_func2, y: 9\n",
      "In my_custom_row_func2, x: 9\n",
      "In my_custom_row_func2, y: 10\n",
      "In my_custom_row_func2, x: 10\n",
      "In my_custom_row_func2, y: 11\n",
      "   id  id_plus_one  id_plus_id\n",
      "0   1            2           3\n",
      "1   2            3           5\n",
      "2   3            4           7\n",
      "3   4            5           9\n",
      "4   5            6          11\n",
      "5   6            7          13\n",
      "6   7            8          15\n",
      "7   8            9          17\n",
      "8   9           10          19\n",
      "9  10           11          21\n"
     ]
    }
   ],
   "source": [
    "from data_fabricator.v0.core.fabricator import MockDataGenerator\n",
    "import yaml\n",
    "\n",
    "\n",
    "def my_custom_row_func1(x):\n",
    "    # this can be anything in here\n",
    "    print(f\"In my_custom_row_func1, x: {x}\")\n",
    "    return int(x) + 1\n",
    "\n",
    "\n",
    "def my_custom_row_func2(x, y):\n",
    "    # how to pass more than 1 argument\n",
    "    print(f\"In my_custom_row_func2, x: {x}\")\n",
    "    print(f\"In my_custom_row_func2, y: {y}\")\n",
    "    return int(x) + y\n",
    "\n",
    "\n",
    "config_str = \"\"\"\n",
    "sample_table:\n",
    "  num_rows: 10\n",
    "  columns:\n",
    "    id:\n",
    "      type: generate_unique_id\n",
    "      seed: 1 # defaults to None\n",
    "    id_plus_one:\n",
    "      type: row_apply\n",
    "      list_of_values: sample_table.id\n",
    "      row_func: \"__main__.my_custom_row_func1\"\n",
    "    id_plus_id:\n",
    "      type: row_apply\n",
    "      list_of_values: [sample_table.id, sample_table.id_plus_one]\n",
    "      row_func: \"__main__.my_custom_row_func2\"\n",
    "\"\"\"\n",
    "example_config = yaml.safe_load(config_str)\n",
    "\n",
    "mock_generator = MockDataGenerator(instructions=example_config)\n",
    "mock_generator.generate_all()\n",
    "\n",
    "print(mock_generator.all_dataframes[\"sample_table\"])"
   ]
  },
  {
   "cell_type": "markdown",
   "id": "a2a38551-15af-4e48-8352-f0b90705ea71",
   "metadata": {},
   "source": [
    "In this particular case the function is defined under `__main__`, but similarly you\n",
    "can put in the full function path in your project. For example\n",
    "`row_func: my_project.module.function_file.function`.\n",
    "\n",
    "This pattern allows you to unit test specific functions if the logic is more involved.\n",
    "\n",
    "## Column Apply\n",
    "In `column_apply`, the entire column will be passed into the function, which grants\n",
    "you access to values across rows, which may be useful in some situations like\n",
    "grouping or sorting."
   ]
  },
  {
   "cell_type": "code",
   "execution_count": 4,
   "id": "6def998d-83c9-498c-a0f7-63898eaa59b9",
   "metadata": {
    "tags": []
   },
   "outputs": [
    {
     "name": "stdout",
     "output_type": "stream",
     "text": [
      "In my_custom_col_func1, x: ['1', '2', '3', '4', '5', '6', '7', '8', '9', '10']\n",
      "In my_custom_col_func2, x: ['1', '2', '3', '4', '5', '6', '7', '8', '9', '10']\n",
      "In my_custom_col_func2, y: ['1', '2', '3', '4', '5', '6', '7', '8', '9', '10']\n",
      "   id example_column_apply1 example_column_apply2  example_column_apply3\n",
      "0   1                     1                     1                     10\n",
      "1   2                     2                     2                      9\n",
      "2   3                     3                     3                      8\n",
      "3   4                     4                     4                      7\n",
      "4   5                     5                     5                      6\n",
      "5   6                     6                     6                      5\n",
      "6   7                     7                     7                      4\n",
      "7   8                     8                     8                      3\n",
      "8   9                     9                     9                      2\n",
      "9  10                    10                    10                      1\n"
     ]
    }
   ],
   "source": [
    "from data_fabricator.v0.core.fabricator import MockDataGenerator\n",
    "import yaml\n",
    "\n",
    "\n",
    "def my_custom_col_func1(x):\n",
    "    print(f\"In my_custom_col_func1, x: {x}\")\n",
    "    return x\n",
    "\n",
    "\n",
    "def my_custom_col_func2(x, y):\n",
    "    print(f\"In my_custom_col_func2, x: {x}\")\n",
    "    print(f\"In my_custom_col_func2, y: {y}\")\n",
    "    return x\n",
    "\n",
    "\n",
    "def reverse_values(x):\n",
    "    x = [int(_) for _ in x]\n",
    "    x.sort(reverse=True)\n",
    "    return x\n",
    "\n",
    "\n",
    "config_str = \"\"\"\n",
    "sample_table:\n",
    "  num_rows: 10\n",
    "  columns:\n",
    "    id:\n",
    "      type: generate_unique_id\n",
    "      seed: 1 # defaults to None\n",
    "    example_column_apply1:\n",
    "      type: column_apply\n",
    "      list_of_values: sample_table.id\n",
    "      column_func: \"__main__.my_custom_col_func1\"\n",
    "    example_column_apply2:\n",
    "      type: column_apply\n",
    "      list_of_values: [sample_table.id, sample_table.example_column_apply1]\n",
    "      column_func: \"__main__.my_custom_col_func2\"\n",
    "    example_column_apply3:\n",
    "      type: column_apply\n",
    "      list_of_values: sample_table.id\n",
    "      column_func: \"__main__.reverse_values\"\n",
    "\"\"\"\n",
    "example_config = yaml.safe_load(config_str)\n",
    "\n",
    "mock_generator = MockDataGenerator(instructions=example_config)\n",
    "mock_generator.generate_all()\n",
    "\n",
    "print(mock_generator.all_dataframes[\"sample_table\"])"
   ]
  },
  {
   "cell_type": "markdown",
   "id": "ffd4f7de-1bae-452d-afa5-09d9b4f0a8a2",
   "metadata": {},
   "source": [
    "Notice the difference between `column_apply` and `row_apply`. The `row_apply` function is\n",
    "called 10 times, equivalent to the number of rows, but the `column_apply` is called once.\n"
   ]
  }
 ],
 "metadata": {
  "celltoolbar": "Edit Metadata",
  "kernelspec": {
   "display_name": "qblabs-monorepo",
   "language": "python",
   "name": "qblabs-monorepo"
  },
  "language_info": {
   "codemirror_mode": {
    "name": "ipython",
    "version": 3
   },
   "file_extension": ".py",
   "mimetype": "text/x-python",
   "name": "python",
   "nbconvert_exporter": "python",
   "pygments_lexer": "ipython3",
   "version": "3.9.15"
  }
 },
 "nbformat": 4,
 "nbformat_minor": 5
}
