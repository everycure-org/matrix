{
 "cells": [
  {
   "cell_type": "code",
   "execution_count": 1,
   "id": "3f18df77-d268-462c-8d64-460c26685600",
   "metadata": {
    "nbsphinx": "hidden",
    "tags": [
     "hide-input"
    ]
   },
   "outputs": [],
   "source": [
    "import pandas as pd\n",
    "\n",
    "pd.set_option(\"display.max_rows\", 500)\n",
    "pd.set_option(\"display.max_columns\", 500)\n",
    "pd.set_option(\"display.width\", 1000)"
   ]
  },
  {
   "cell_type": "markdown",
   "id": "fb7e52d9-cb10-4758-a969-9dcabb303189",
   "metadata": {},
   "source": [
    "# More Realism\n",
    "\n",
    "At some point, one may wish to have more realistic data, perhaps in the form of distribution of events.\n",
    "This document will highlight some functionality to help in this endeavour. Note that attempting to mock\n",
    "more realistic data does come at the cost of additional complexity in the config.\n",
    "\n",
    "## Exploding with Distribution\n",
    "One way to add more realistic distributions is during explode. Before, every row would generate an equal number of\n",
    "subsequent rows. This can now be controlled via `distribution_kwargs`:"
   ]
  },
  {
   "cell_type": "code",
   "execution_count": 2,
   "id": "9fb2b6d0-4343-4781-be41-7d0b9ad46704",
   "metadata": {
    "nbsphinx": "hidden",
    "tags": [
     "hide-input"
    ]
   },
   "outputs": [],
   "source": [
    "import yaml\n",
    "\n",
    "yaml_string = \"\"\"\n",
    "persons:\n",
    "  num_rows: 1000\n",
    "  columns:\n",
    "    person_id:\n",
    "      type: generate_unique_id\n",
    "      prefix: person\n",
    "\n",
    "events:\n",
    "  columns:\n",
    "    person_id:\n",
    "      type: explode\n",
    "      list_of_values: persons.person_id\n",
    "      distribution_kwargs:\n",
    "        distribution: gamma\n",
    "        scale: 1\n",
    "        shape: 3\n",
    "        numpy_seed: 1\n",
    "      explode_func: generate_dates\n",
    "      explode_func_kwargs:\n",
    "        start_dt: 2019-01-01\n",
    "        end_dt: 2020-01-01\n",
    "        freq: M\n",
    "      position: 0\n",
    "    event_dt:\n",
    "      type: explode\n",
    "      list_of_values: persons.person_id\n",
    "      distribution_kwargs:\n",
    "        distribution: gamma\n",
    "        scale: 1\n",
    "        shape: 3\n",
    "        numpy_seed: 1\n",
    "      explode_func: generate_dates\n",
    "      explode_func_kwargs:\n",
    "        start_dt: 2019-01-01\n",
    "        end_dt: 2020-01-01\n",
    "        freq: M\n",
    "      position: 1\n",
    "\"\"\"\n",
    "config = yaml.safe_load(yaml_string)"
   ]
  },
  {
   "cell_type": "markdown",
   "id": "a86abe1c-8f8a-4507-96ee-46ae3d5359c4",
   "metadata": {},
   "source": [
    "Given the following config:"
   ]
  },
  {
   "cell_type": "code",
   "execution_count": 3,
   "id": "faeb0c2f-1f2e-492f-bab6-857c2d053f5a",
   "metadata": {
    "tags": []
   },
   "outputs": [
    {
     "name": "stdout",
     "output_type": "stream",
     "text": [
      "\n",
      "persons:\n",
      "  num_rows: 1000\n",
      "  columns:\n",
      "    person_id:\n",
      "      type: generate_unique_id\n",
      "      prefix: person\n",
      "\n",
      "events:\n",
      "  columns:\n",
      "    person_id:\n",
      "      type: explode\n",
      "      list_of_values: persons.person_id\n",
      "      distribution_kwargs:\n",
      "        distribution: gamma\n",
      "        scale: 1\n",
      "        shape: 3\n",
      "        numpy_seed: 1\n",
      "      explode_func: generate_dates\n",
      "      explode_func_kwargs:\n",
      "        start_dt: 2019-01-01\n",
      "        end_dt: 2020-01-01\n",
      "        freq: M\n",
      "      position: 0\n",
      "    event_dt:\n",
      "      type: explode\n",
      "      list_of_values: persons.person_id\n",
      "      distribution_kwargs:\n",
      "        distribution: gamma\n",
      "        scale: 1\n",
      "        shape: 3\n",
      "        numpy_seed: 1\n",
      "      explode_func: generate_dates\n",
      "      explode_func_kwargs:\n",
      "        start_dt: 2019-01-01\n",
      "        end_dt: 2020-01-01\n",
      "        freq: M\n",
      "      position: 1\n",
      "\n"
     ]
    }
   ],
   "source": [
    "print(yaml_string)"
   ]
  },
  {
   "cell_type": "markdown",
   "id": "aafc37f5-17d4-474e-a8c4-14abc7433930",
   "metadata": {},
   "source": [
    "Let's generate and find the distribution:"
   ]
  },
  {
   "cell_type": "code",
   "execution_count": 4,
   "id": "7125d101-68c0-4289-9080-7a55f87b359e",
   "metadata": {
    "tags": []
   },
   "outputs": [
    {
     "name": "stderr",
     "output_type": "stream",
     "text": [
      "/var/folders/x8/_9l2j54n1lx_71w8kncv7mc80000gp/T/ipykernel_47429/1063003532.py:1: DeprecationWarning: Deprecation Warning: You are using v0 of Data Fabricator API which will bedeprecated soon. Please migrate to v1 as soon as possible. For information onhow to migrate, please visit our documentation page.\n",
      "  from data_fabricator.v0.core.fabricator import MockDataGenerator\n"
     ]
    },
    {
     "name": "stdout",
     "output_type": "stream",
     "text": [
      "  person_id   event_dt\n",
      "0   person1 2019-02-28\n",
      "1   person1 2019-05-31\n",
      "2   person1 2019-07-31\n",
      "3   person1 2019-08-31\n",
      "4   person1 2019-09-30\n",
      "5   person1 2019-11-30\n",
      "6   person2 2019-06-30\n",
      "7   person3 2019-04-30\n",
      "8   person4 2019-03-31\n",
      "9   person5 2019-01-31\n"
     ]
    }
   ],
   "source": [
    "from data_fabricator.v0.core.fabricator import MockDataGenerator\n",
    "\n",
    "# Setting seed is not recommended for general use, please consider when to use seed\n",
    "mock_generator = MockDataGenerator(instructions=config, seed=1)\n",
    "mock_generator.generate_all()\n",
    "\n",
    "df = mock_generator.all_dataframes[\"events\"]\n",
    "print(df.head(10))"
   ]
  },
  {
   "cell_type": "markdown",
   "id": "17f017f1-c67a-4390-a6a0-59bbed5d6e86",
   "metadata": {},
   "source": [
    "Let's summarize the data:"
   ]
  },
  {
   "cell_type": "code",
   "execution_count": 5,
   "id": "bc344806-ff62-4ad2-807c-c7e7dc194562",
   "metadata": {
    "tags": []
   },
   "outputs": [
    {
     "name": "stdout",
     "output_type": "stream",
     "text": [
      "    count  count_of_count\n",
      "0       1             230\n",
      "1       2             258\n",
      "2       3             174\n",
      "3       4             114\n",
      "4       5              54\n",
      "5       6              46\n",
      "6       7              25\n",
      "7       8              10\n",
      "8       9               3\n",
      "9      10               1\n",
      "10     12              84\n",
      "11     15               1\n"
     ]
    }
   ],
   "source": [
    "grouped_df_pd = (\n",
    "    df.groupby([\"person_id\"])[\"event_dt\"]\n",
    "    .size()\n",
    "    .reset_index()\n",
    "    .groupby([\"event_dt\"])[\"person_id\"]\n",
    "    .size()\n",
    "    .reset_index()\n",
    "    .rename(columns={\"event_dt\": \"count\", \"person_id\": \"count_of_count\"})\n",
    "    .sort_values([\"count\"])\n",
    ")\n",
    "print(grouped_df_pd.head(20))"
   ]
  },
  {
   "cell_type": "markdown",
   "id": "2e575a31-c19d-462e-ad4f-e97430321f1f",
   "metadata": {},
   "source": [
    "Plotting gives:\n",
    "![](../images/distribution.png)\n",
    "\n",
    "Under the hood, the following function is used: `data_fabricator.fabricator.numpy_random`. See docstring for\n",
    "more details.\n",
    "\n",
    "\n",
    "## Injecting Real Data\n",
    "\n",
    "If you have an existing dataframe, it is possible to inject it into the data fabricator\n",
    "so that the columns can be accessible during fabrication. This might be useful in situations\n",
    "where you have dimension tables readily available, possibly because these dimension tables\n",
    "are considered public data sources."
   ]
  },
  {
   "cell_type": "code",
   "execution_count": 6,
   "id": "97601e4c-fd23-48bc-a298-e2bd497a14a4",
   "metadata": {
    "tags": []
   },
   "outputs": [
    {
     "name": "stderr",
     "output_type": "stream",
     "text": [
      "Resizing list from 3 to 10\n"
     ]
    },
    {
     "name": "stdout",
     "output_type": "stream",
     "text": [
      "+----+-------------+-------------+\n",
      "|    | person_id   | class       |\n",
      "|----+-------------+-------------|\n",
      "|  0 | person1     | engineering |\n",
      "|  1 | person2     | history     |\n",
      "|  2 | person3     | history     |\n",
      "|  3 | person4     | engineering |\n",
      "|  4 | person5     | science     |\n",
      "|  5 | person6     | science     |\n",
      "|  6 | person7     | science     |\n",
      "|  7 | person8     | history     |\n",
      "|  8 | person9     | engineering |\n",
      "|  9 | person10    | engineering |\n",
      "+----+-------------+-------------+\n"
     ]
    }
   ],
   "source": [
    "import pandas as pd\n",
    "from tabulate import tabulate\n",
    "from data_fabricator.v0.core.fabricator import MockDataGenerator\n",
    "\n",
    "params_string = \"\"\"\n",
    "persons:\n",
    "  num_rows: 10\n",
    "  columns:\n",
    "    person_id:\n",
    "      type: generate_unique_id\n",
    "      prefix: person\n",
    "    class:\n",
    "      type: row_apply\n",
    "      list_of_values: injected_df.class  # refers to injected dataframe\n",
    "      row_func: \"lambda x: x\"\n",
    "      resize: True\n",
    "      seed: 1\n",
    "\"\"\"\n",
    "config = yaml.safe_load(params_string)\n",
    "\n",
    "# Setting seed is not recommended for general use, please consider when to use seed\n",
    "mock_generator = MockDataGenerator(instructions=config, seed=1)\n",
    "\n",
    "injected_df = pd.DataFrame(\n",
    "    [{\"class\": \"engineering\"}, {\"class\": \"science\"}, {\"class\": \"history\"}]\n",
    ")\n",
    "\n",
    "# inject dataframe\n",
    "mock_generator.all_dataframes[\"injected_df\"] = injected_df\n",
    "\n",
    "mock_generator.generate_all()\n",
    "\n",
    "generated_table = mock_generator.all_dataframes[\"persons\"]\n",
    "\n",
    "print(tabulate(generated_table, headers=generated_table.columns, tablefmt=\"psql\"))"
   ]
  },
  {
   "cell_type": "markdown",
   "id": "07a2cc60-f89d-4d12-b6d5-a5d165f448a9",
   "metadata": {},
   "source": [
    "As long as the dataframes are injected before calling the `generate_all()` method, the injected\n",
    "dataframe may be referenced anywhere in config."
   ]
  }
 ],
 "metadata": {
  "celltoolbar": "Edit Metadata",
  "kernelspec": {
   "display_name": "qblabs-monorepo",
   "language": "python",
   "name": "qblabs-monorepo"
  },
  "language_info": {
   "codemirror_mode": {
    "name": "ipython",
    "version": 3
   },
   "file_extension": ".py",
   "mimetype": "text/x-python",
   "name": "python",
   "nbconvert_exporter": "python",
   "pygments_lexer": "ipython3",
   "version": "3.9.15"
  }
 },
 "nbformat": 4,
 "nbformat_minor": 5
}
