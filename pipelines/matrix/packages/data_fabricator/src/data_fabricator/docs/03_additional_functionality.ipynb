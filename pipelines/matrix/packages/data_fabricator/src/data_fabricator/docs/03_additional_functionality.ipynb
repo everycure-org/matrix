{
 "cells": [
  {
   "cell_type": "code",
   "execution_count": 1,
   "id": "ec2cee70-88ab-4834-9e03-f203b777088b",
   "metadata": {
    "nbsphinx": "hidden",
    "tags": [
     "hide-input"
    ]
   },
   "outputs": [],
   "source": [
    "import random\n",
    "\n",
    "random.seed(1)\n",
    "\n",
    "import pandas as pd\n",
    "from data_fabricator.v1.nodes.hydra import hydra_instantiate_dictionary\n",
    "from data_fabricator.v1.utils.v0_convert import v0_converter\n",
    "\n",
    "pd.set_option(\"display.max_rows\", 500)\n",
    "pd.set_option(\"display.max_columns\", 500)\n",
    "pd.set_option(\"display.width\", 1000)\n",
    "\n",
    "import yaml\n",
    "from IPython.display import display, Markdown"
   ]
  },
  {
   "cell_type": "markdown",
   "id": "f9e7d10e-fadc-408c-917e-a17eb1bc22b0",
   "metadata": {},
   "source": [
    "# Additional Functionality\n",
    "\n",
    "This document will highlight the extended functionality and some new functions of fabricator.\n",
    "\n",
    "## Setting Seed\n",
    "Sometimes, we like the data to be exactly the same. In such cases, we can set the `seed`\n",
    "when instantiating the `MockDataGenerator` class. However, we recommend that for end-to-end\n",
    "testing to avoid setting this seed just in case your pipeline logic somehow relies on the\n",
    "exact ordering of rows, see this [page](https://hypothesis.readthedocs.io/en/latest/)\n",
    "for reasons not to order your data exactly each time."
   ]
  },
  {
   "cell_type": "code",
   "execution_count": 2,
   "id": "5762e230-f860-4587-9b80-ec4b9aca281a",
   "metadata": {
    "nbsphinx": "hidden",
    "tags": [
     "hide-input"
    ]
   },
   "outputs": [],
   "source": [
    "\n",
    "yaml_string = \"\"\"\n",
    "     accounts:\n",
    "       num_rows: 10\n",
    "       columns:\n",
    "         id:\n",
    "           type: generate_unique_id\n",
    "           id_start_range: 0\n",
    "           id_end_range: 10\n",
    "           id_length: 4\n",
    "         random:\n",
    "           type: numpy_random\n",
    "           distribution: binomial\n",
    "           n: 1\n",
    "           p: 0.5\n",
    "         member_id:\n",
    "           type: generate_unique_id\n",
    "           prefix: mem_\n",
    "           id_start_range: 0\n",
    "           id_end_range: 5000\n",
    "           id_length: 10\n",
    "         period_start_date:\n",
    "           type: generate_dates\n",
    "           start_dt: 2019-01-01\n",
    "           end_dt: 2021-01-01\n",
    "           freq: D\n",
    "         period_end_date:\n",
    "           type: row_apply\n",
    "           list_of_values: accounts.period_start_date\n",
    "           row_func: \"lambda x: x + datetime.timedelta(days=random.randint(100, 365))\"\n",
    "    \"\"\"\n",
    "\n",
    "config = yaml.safe_load(yaml_string)\n",
    "config = v0_converter(config)\n",
    "v1_string = yaml.safe_dump(config, default_flow_style=False, sort_keys=False)"
   ]
  },
  {
   "cell_type": "markdown",
   "id": "c07a459f-2de9-4b00-bdc3-015f99284fbc",
   "metadata": {},
   "source": [
    "Given the following config:"
   ]
  },
  {
   "cell_type": "code",
   "execution_count": 3,
   "id": "98e2fdd4-a473-4166-9613-05c83a95f2ee",
   "metadata": {
    "tags": [
     "hide-input"
    ]
   },
   "outputs": [
    {
     "data": {
      "text/markdown": [
       "```yaml\n",
       "tables:\n",
       "- _target_: data_fabricator.v1.core.mock_generator.create_table\n",
       "  name: accounts\n",
       "  num_rows: 10\n",
       "  columns:\n",
       "    id:\n",
       "      _target_: data_fabricator.v1.core.mock_generator.UniqueId\n",
       "      id_start_range: 0\n",
       "      id_end_range: 10\n",
       "      id_length: 4\n",
       "    random:\n",
       "      _target_: data_fabricator.v1.core.mock_generator.NumpyRandom\n",
       "      distribution: binomial\n",
       "      np_random_kwargs:\n",
       "        n: 1\n",
       "        p: 0.5\n",
       "    member_id:\n",
       "      _target_: data_fabricator.v1.core.mock_generator.UniqueId\n",
       "      prefix: mem_\n",
       "      id_start_range: 0\n",
       "      id_end_range: 5000\n",
       "      id_length: 10\n",
       "    period_start_date:\n",
       "      _target_: data_fabricator.v1.core.mock_generator.Date\n",
       "      start_dt: 2019-01-01\n",
       "      end_dt: 2021-01-01\n",
       "      freq: D\n",
       "    period_end_date:\n",
       "      _target_: data_fabricator.v1.core.mock_generator.RowApply\n",
       "      list_of_values: accounts.period_start_date\n",
       "      row_func: 'lambda x: x + datetime.timedelta(days=random.randint(100, 365))'\n",
       "\n",
       "```"
      ],
      "text/plain": [
       "<IPython.core.display.Markdown object>"
      ]
     },
     "metadata": {},
     "output_type": "display_data"
    }
   ],
   "source": [
    "def display_md(yaml_string, format):\n",
    "    return display(Markdown(\"\\n\".join([f\"```{format}\", yaml_string, \"```\"])))\n",
    "\n",
    "\n",
    "display_md(v1_string, \"yaml\")"
   ]
  },
  {
   "cell_type": "code",
   "execution_count": 4,
   "id": "99a6a321-bf9f-4b6f-a5ae-fe262f0636fe",
   "metadata": {
    "tags": [
     "hide-output"
    ]
   },
   "outputs": [],
   "source": [
    "from data_fabricator.v1.core.mock_generator import (\n",
    "    MockDataGenerator,\n",
    ")\n",
    "\n",
    "# function to return injected objects\n",
    "\n",
    "tables = hydra_instantiate_dictionary(config)\n",
    "\n",
    "mock_generator = MockDataGenerator(seed=1, tables=tables[\"tables\"])\n",
    "mock_generator.generate_all()"
   ]
  },
  {
   "cell_type": "markdown",
   "id": "e58a05e1-72c7-44a2-bd2d-9693edbfa991",
   "metadata": {},
   "source": [
    "## Generate Array columns\n",
    "You can generate random array type columns using `RandomArrays` class. It allows the user to\n",
    "generate the arrays using the `sample_values` provided. You can even allow duplicates using the flag `allow_duplicates`\n",
    "and also set `length` param to generate fixed length array elements for the column.\n",
    "\n",
    "Let's see how you can use this function in real setting:"
   ]
  },
  {
   "cell_type": "code",
   "execution_count": 5,
   "id": "e97ffb19-35a1-4fc6-9d7e-965e3770a0cf",
   "metadata": {
    "nbsphinx": "hidden",
    "tags": [
     "hide-input"
    ]
   },
   "outputs": [],
   "source": [
    "import yaml\n",
    "\n",
    "yaml_string = \"\"\"\n",
    "    tables:\n",
    "        - _target_: data_fabricator.v1.core.mock_generator.create_table\n",
    "          name: reps\n",
    "          num_rows: 10\n",
    "          columns:\n",
    "              rep_id:\n",
    "                  _target_: data_fabricator.v1.core.mock_generator.UniqueId\n",
    "                  prefix: hcp\n",
    "                  id_start_range: 1\n",
    "                  id_end_range: 201\n",
    "              territory_ids:\n",
    "                  _target_: data_fabricator.v1.core.mock_generator.RandomArrays\n",
    "                  sample_values: [1, 2, 3, 4]\n",
    "                  allow_duplicates: False\n",
    "                  length: 2\n",
    "\"\"\"\n",
    "config = yaml.safe_load(yaml_string)\n",
    "config = v0_converter(config)\n",
    "v1_string = yaml.safe_dump(config, default_flow_style=False, sort_keys=False)"
   ]
  },
  {
   "cell_type": "markdown",
   "id": "99097818-7492-4746-8569-dc051275db12",
   "metadata": {},
   "source": [
    "Given the following config:"
   ]
  },
  {
   "cell_type": "code",
   "execution_count": 6,
   "id": "79707339-5f33-4d29-85c4-1f43a89e10bd",
   "metadata": {
    "tags": [
     "hide-input"
    ]
   },
   "outputs": [
    {
     "data": {
      "text/markdown": [
       "```yaml\n",
       "tables:\n",
       "- _target_: data_fabricator.v1.core.mock_generator.create_table\n",
       "  name: reps\n",
       "  num_rows: 10\n",
       "  columns:\n",
       "    rep_id:\n",
       "      _target_: data_fabricator.v1.core.mock_generator.UniqueId\n",
       "      prefix: hcp\n",
       "      id_start_range: 1\n",
       "      id_end_range: 201\n",
       "    territory_ids:\n",
       "      _target_: data_fabricator.v1.core.mock_generator.RandomArrays\n",
       "      sample_values:\n",
       "      - 1\n",
       "      - 2\n",
       "      - 3\n",
       "      - 4\n",
       "      allow_duplicates: false\n",
       "      length: 2\n",
       "\n",
       "```"
      ],
      "text/plain": [
       "<IPython.core.display.Markdown object>"
      ]
     },
     "metadata": {},
     "output_type": "display_data"
    }
   ],
   "source": [
    "display_md(v1_string, \"yaml\")"
   ]
  },
  {
   "cell_type": "markdown",
   "id": "5318567e-95c0-4df4-945b-3a0464cb7f34",
   "metadata": {},
   "source": [
    "Let's generate a column named `territory_ids` which keeps a check on all the territories that are associated\n",
    "with that particular Rep. Let's say each hcp can only have two territories assigned to them. Also, there can't\n",
    "be duplicate territory ids per Rep, so we keep the `allow_duplicates` as False."
   ]
  },
  {
   "cell_type": "code",
   "execution_count": 7,
   "id": "43a97287-d4cd-4d50-bead-8d7cba78ecf6",
   "metadata": {
    "tags": []
   },
   "outputs": [
    {
     "name": "stdout",
     "output_type": "stream",
     "text": [
      "0    [2, 3]\n",
      "1    [2, 4]\n",
      "2    [3, 1]\n",
      "3    [4, 3]\n",
      "4    [1, 4]\n",
      "5    [3, 1]\n",
      "6    [3, 4]\n",
      "7    [4, 3]\n",
      "8    [2, 4]\n",
      "9    [3, 4]\n",
      "Name: territory_ids, dtype: object\n"
     ]
    }
   ],
   "source": [
    "from data_fabricator.v1.core.mock_generator import MockDataGenerator\n",
    "\n",
    "tables = hydra_instantiate_dictionary(config)\n",
    "mock_generator = MockDataGenerator(tables=tables[\"tables\"])\n",
    "mock_generator.generate_all()\n",
    "\n",
    "rep_df = mock_generator.tables[\"reps\"].dataframe\n",
    "print(rep_df[\"territory_ids\"])"
   ]
  },
  {
   "cell_type": "markdown",
   "id": "1029e397-c3d8-4d63-ba0a-987122723bce",
   "metadata": {},
   "source": [
    "## Generate Single date function\n",
    " This callable function to be used with `RowApply` that allows us to generate another column\n",
    " like start or end date. This won't generate an entire array of values to either down or upsample later.\n",
    " It generates single date based on the provided conditions.\n",
    "\n",
    " In the following example, we are trying to create interaction date for every customer.\n",
    " Generally the interaction happens after customer account has enrolled. So, we provided the condition the\n",
    " interaction date should be between account enroll date and 14 days from the enrolling time."
   ]
  },
  {
   "cell_type": "code",
   "execution_count": 8,
   "id": "8e90d2d0-1d4b-4161-ac81-f5a94182994f",
   "metadata": {
    "nbsphinx": "hidden",
    "tags": [
     "hide-input"
    ]
   },
   "outputs": [],
   "source": [
    "import yaml\n",
    "\n",
    "yaml_string = \"\"\"\n",
    "  tables:\n",
    "    - _target_: data_fabricator.v1.core.mock_generator.create_table\n",
    "      name: customers\n",
    "      num_rows: 10\n",
    "      columns:\n",
    "        acct_id:\n",
    "          _target_: data_fabricator.v1.core.mock_generator.UniqueId\n",
    "          id_start_range: 0\n",
    "          id_end_range: 10\n",
    "          id_length: 4\n",
    "        acct_enroll_dt:\n",
    "          _target_: data_fabricator.v1.core.mock_generator.Date\n",
    "          start_dt: 2019-01-01\n",
    "          end_dt: 2020-12-31\n",
    "          freq: B\n",
    "          prob_null_kwargs:\n",
    "            seed: 1\n",
    "    - _target_: data_fabricator.v1.core.mock_generator.create_table\n",
    "      name: interactions\n",
    "      num_rows: 10\n",
    "      columns:\n",
    "        interaction_id:\n",
    "          _target_: data_fabricator.v1.core.mock_generator.UniqueId\n",
    "          id_start_range: 0\n",
    "          id_end_range: 10\n",
    "          id_length: 2\n",
    "        acct_id:\n",
    "          _target_: data_fabricator.v1.core.mock_generator.RowApply\n",
    "          list_of_values:\n",
    "            - customers.acct_id\n",
    "            - customers.acct_enroll_dt\n",
    "          row_func: \"lambda x, y: f'{x}'\"\n",
    "          prob_null_kwargs:\n",
    "            seed: 1\n",
    "        interaction_dt:\n",
    "          _target_: data_fabricator.v1.core.mock_generator.RowApply\n",
    "          list_of_values:\n",
    "            - customers.acct_id\n",
    "            - customers.acct_enroll_dt\n",
    "          # Setting seed is not recommended for general use, please consider when to use seed\n",
    "          row_func: \"lambda x, y: generate_single_date(start_dt= y, end_dt= y + datetime.timedelta(days=14))[0]\"\n",
    "          prob_null_kwargs:\n",
    "            seed: 1\n",
    "\"\"\"\n",
    "config = yaml.safe_load(yaml_string)"
   ]
  },
  {
   "cell_type": "markdown",
   "id": "0da94f2d-a0bd-4f3e-9692-5694e5494029",
   "metadata": {},
   "source": [
    "Given the following config:"
   ]
  },
  {
   "cell_type": "code",
   "execution_count": 9,
   "id": "ac1f8ba2-0fb1-4738-8707-46234d2d2aba",
   "metadata": {
    "tags": []
   },
   "outputs": [
    {
     "data": {
      "text/markdown": [
       "```yaml\n",
       "\n",
       "  tables:\n",
       "    - _target_: data_fabricator.v1.core.mock_generator.create_table\n",
       "      name: customers\n",
       "      num_rows: 10\n",
       "      columns:\n",
       "        acct_id:\n",
       "          _target_: data_fabricator.v1.core.mock_generator.UniqueId\n",
       "          id_start_range: 0\n",
       "          id_end_range: 10\n",
       "          id_length: 4\n",
       "        acct_enroll_dt:\n",
       "          _target_: data_fabricator.v1.core.mock_generator.Date\n",
       "          start_dt: 2019-01-01\n",
       "          end_dt: 2020-12-31\n",
       "          freq: B\n",
       "          prob_null_kwargs:\n",
       "            seed: 1\n",
       "    - _target_: data_fabricator.v1.core.mock_generator.create_table\n",
       "      name: interactions\n",
       "      num_rows: 10\n",
       "      columns:\n",
       "        interaction_id:\n",
       "          _target_: data_fabricator.v1.core.mock_generator.UniqueId\n",
       "          id_start_range: 0\n",
       "          id_end_range: 10\n",
       "          id_length: 2\n",
       "        acct_id:\n",
       "          _target_: data_fabricator.v1.core.mock_generator.RowApply\n",
       "          list_of_values:\n",
       "            - customers.acct_id\n",
       "            - customers.acct_enroll_dt\n",
       "          row_func: \"lambda x, y: f'{x}'\"\n",
       "          prob_null_kwargs:\n",
       "            seed: 1\n",
       "        interaction_dt:\n",
       "          _target_: data_fabricator.v1.core.mock_generator.RowApply\n",
       "          list_of_values:\n",
       "            - customers.acct_id\n",
       "            - customers.acct_enroll_dt\n",
       "          # Setting seed is not recommended for general use, please consider when to use seed\n",
       "          row_func: \"lambda x, y: generate_single_date(start_dt= y, end_dt= y + datetime.timedelta(days=14))[0]\"\n",
       "          prob_null_kwargs:\n",
       "            seed: 1\n",
       "\n",
       "```"
      ],
      "text/plain": [
       "<IPython.core.display.Markdown object>"
      ]
     },
     "metadata": {},
     "output_type": "display_data"
    }
   ],
   "source": [
    "display_md(yaml_string, \"yaml\")"
   ]
  },
  {
   "cell_type": "markdown",
   "id": "885f2313-d257-4960-9558-37f504547759",
   "metadata": {},
   "source": [
    "Let's generate single interaction date for each customer:"
   ]
  },
  {
   "cell_type": "code",
   "execution_count": 10,
   "id": "a3f8b3ac-52ce-4499-b0c3-934a29329fe4",
   "metadata": {
    "tags": []
   },
   "outputs": [
    {
     "name": "stdout",
     "output_type": "stream",
     "text": [
      "  interaction_id acct_id interaction_dt\n",
      "0             00    0000     2019-04-04\n",
      "1             01    0001     2019-05-28\n",
      "2             02    0002     2019-06-19\n",
      "3             03    0003     2019-07-17\n",
      "4             04    0004     2019-10-30\n",
      "5             05    0005     2020-01-13\n",
      "6             06    0006     2020-07-06\n",
      "7             07    0007     2020-10-17\n",
      "8             08    0008     2020-11-15\n",
      "9             09    0009     2020-12-15\n"
     ]
    }
   ],
   "source": [
    "from data_fabricator.v1.core.mock_generator import MockDataGenerator\n",
    "\n",
    "tables = hydra_instantiate_dictionary(config)\n",
    "mock_generator = MockDataGenerator(tables=tables[\"tables\"])\n",
    "mock_generator.generate_all()\n",
    "\n",
    "customer_df = mock_generator.tables[\"customers\"].dataframe\n",
    "customer_df\n",
    "interactions_df = mock_generator.tables[\"interactions\"].dataframe\n",
    "print(interactions_df)"
   ]
  },
  {
   "cell_type": "markdown",
   "id": "480f8f8c-ee24-457c-8aa1-84d0c41db6a0",
   "metadata": {},
   "source": [
    "Let's check the interaction happens after the account has enrolled:\n",
    "`acct_enroll_dt <= interaction_dt <= acct_enroll_dt + 14 days`"
   ]
  },
  {
   "cell_type": "code",
   "execution_count": 11,
   "id": "e2625ae2-2559-4b3e-9e08-4492afa4efb1",
   "metadata": {
    "tags": []
   },
   "outputs": [
    {
     "name": "stdout",
     "output_type": "stream",
     "text": [
      "  acct_id acct_enroll_dt interaction_id interaction_dt\n",
      "0    0000     2019-04-01             00     2019-04-04\n",
      "1    0001     2019-05-15             01     2019-05-28\n",
      "2    0002     2019-06-18             02     2019-06-19\n",
      "3    0003     2019-07-11             03     2019-07-17\n",
      "4    0004     2019-10-28             04     2019-10-30\n",
      "5    0005     2020-01-01             05     2020-01-13\n",
      "6    0006     2020-06-26             06     2020-07-06\n",
      "7    0007     2020-10-06             07     2020-10-17\n",
      "8    0008     2020-11-06             08     2020-11-15\n",
      "9    0009     2020-12-10             09     2020-12-15\n"
     ]
    }
   ],
   "source": [
    "import pandas as pd\n",
    "\n",
    "joined_df = pd.merge(customer_df, interactions_df, on=\"acct_id\", how=\"left\")\n",
    "print(joined_df)"
   ]
  },
  {
   "cell_type": "markdown",
   "id": "4265f89e-d3e4-4826-b57c-877531e42ea7",
   "metadata": {},
   "source": [
    "## Capture desirable rows from dataset\n",
    "\n",
    " In version 1, the row filtering functionality has undergone significant changes. To extract a specific subset of a dataset, you can use the filter parameter with either `RowApply`, `ColumnApply`, `Explode` or `CrossProduct` . This parameter accepts a function that returns a condition which can be used to filter the dependencies as if they were a single pandas dataframe, filtering the rows entirely if they match the condition.\n",
    "\n",
    " In the following example, we are trying to capture only savings accounts."
   ]
  },
  {
   "cell_type": "code",
   "execution_count": 12,
   "id": "59cc44c2-98ef-4857-be11-a9cec4e1857c",
   "metadata": {
    "nbsphinx": "hidden",
    "tags": [
     "hide-input"
    ]
   },
   "outputs": [],
   "source": [
    "import yaml\n",
    "\n",
    "yaml_string = \"\"\"\n",
    "tables:\n",
    "- _target_: data_fabricator.v1.core.mock_generator.create_table\n",
    "  name: account\n",
    "  num_rows: 10\n",
    "  columns:\n",
    "    acct_id:\n",
    "      _target_: data_fabricator.v1.core.mock_generator.UniqueId\n",
    "      id_start_range: 0\n",
    "      id_end_range: 10\n",
    "      id_length: 4\n",
    "    acct_type:\n",
    "      _target_: data_fabricator.v1.core.mock_generator.ValuesFromSamples\n",
    "      sample_values:\n",
    "      - savings\n",
    "      - current\n",
    "    acct_start_dt:\n",
    "      _target_: data_fabricator.v1.core.mock_generator.Date\n",
    "      prob_null_kwargs:\n",
    "        seed: 1\n",
    "      start_dt: 2020-01-01\n",
    "      end_dt: 2020-12-31\n",
    "      freq: M\n",
    "- _target_: data_fabricator.v1.core.mock_generator.create_table\n",
    "  name: savings_account\n",
    "  columns:\n",
    "    acct_id:\n",
    "      _target_: data_fabricator.v1.core.mock_generator.RowApply\n",
    "      list_of_values:\n",
    "      - account.acct_id\n",
    "      - account.acct_start_dt\n",
    "      - account.acct_type\n",
    "      row_func: 'lambda x,y,z: x'\n",
    "      filter: 'lambda x,y,z: z==''savings'''\n",
    "    acct_start_dt:\n",
    "      _target_: data_fabricator.v1.core.mock_generator.RowApply\n",
    "      list_of_values:\n",
    "      - account.acct_id\n",
    "      - account.acct_start_dt\n",
    "      - account.acct_type\n",
    "      row_func: 'lambda x,y,z: y'\n",
    "      filter: 'lambda x,y,z: z==''savings'''\n",
    "    principal_amount:\n",
    "      _target_: data_fabricator.v1.core.mock_generator.RandomNumbers\n",
    "      start_range: 30000\n",
    "      end_range: 200000\n",
    "\n",
    "       \n",
    "\"\"\"\n",
    "config = yaml.safe_load(yaml_string)\n",
    "v1_string = yaml.safe_dump(config, default_flow_style=False, sort_keys=False)"
   ]
  },
  {
   "cell_type": "markdown",
   "id": "adbd6bc7-00fd-44dd-aede-4af3676c89c7",
   "metadata": {},
   "source": [
    "Given the following config:"
   ]
  },
  {
   "cell_type": "code",
   "execution_count": 13,
   "id": "97790d96-685f-4b97-a8e1-112c64762c74",
   "metadata": {
    "tags": []
   },
   "outputs": [
    {
     "data": {
      "text/markdown": [
       "```yaml\n",
       "tables:\n",
       "- _target_: data_fabricator.v1.core.mock_generator.create_table\n",
       "  name: account\n",
       "  num_rows: 10\n",
       "  columns:\n",
       "    acct_id:\n",
       "      _target_: data_fabricator.v1.core.mock_generator.UniqueId\n",
       "      id_start_range: 0\n",
       "      id_end_range: 10\n",
       "      id_length: 4\n",
       "    acct_type:\n",
       "      _target_: data_fabricator.v1.core.mock_generator.ValuesFromSamples\n",
       "      sample_values:\n",
       "      - savings\n",
       "      - current\n",
       "    acct_start_dt:\n",
       "      _target_: data_fabricator.v1.core.mock_generator.Date\n",
       "      prob_null_kwargs:\n",
       "        seed: 1\n",
       "      start_dt: 2020-01-01\n",
       "      end_dt: 2020-12-31\n",
       "      freq: M\n",
       "- _target_: data_fabricator.v1.core.mock_generator.create_table\n",
       "  name: savings_account\n",
       "  columns:\n",
       "    acct_id:\n",
       "      _target_: data_fabricator.v1.core.mock_generator.RowApply\n",
       "      list_of_values:\n",
       "      - account.acct_id\n",
       "      - account.acct_start_dt\n",
       "      - account.acct_type\n",
       "      row_func: 'lambda x,y,z: x'\n",
       "      filter: 'lambda x,y,z: z==''savings'''\n",
       "    acct_start_dt:\n",
       "      _target_: data_fabricator.v1.core.mock_generator.RowApply\n",
       "      list_of_values:\n",
       "      - account.acct_id\n",
       "      - account.acct_start_dt\n",
       "      - account.acct_type\n",
       "      row_func: 'lambda x,y,z: y'\n",
       "      filter: 'lambda x,y,z: z==''savings'''\n",
       "    principal_amount:\n",
       "      _target_: data_fabricator.v1.core.mock_generator.RandomNumbers\n",
       "      start_range: 30000\n",
       "      end_range: 200000\n",
       "\n",
       "```"
      ],
      "text/plain": [
       "<IPython.core.display.Markdown object>"
      ]
     },
     "metadata": {},
     "output_type": "display_data"
    }
   ],
   "source": [
    "display_md(v1_string, \"yaml\")"
   ]
  },
  {
   "cell_type": "markdown",
   "id": "efa46425-f0a6-442e-8c7f-0bb5fa45b214",
   "metadata": {},
   "source": [
    "Let's generate savings account table:"
   ]
  },
  {
   "cell_type": "code",
   "execution_count": 14,
   "id": "55c03347-64f4-468f-9f87-62dcf7ec2ea1",
   "metadata": {
    "tags": []
   },
   "outputs": [
    {
     "name": "stdout",
     "output_type": "stream",
     "text": [
      "  acct_id acct_type acct_start_dt\n",
      "0    0000   savings    2020-01-31\n",
      "1    0001   savings    2020-02-29\n",
      "2    0002   current    2020-03-31\n",
      "3    0003   savings    2020-04-30\n",
      "4    0004   current    2020-05-31\n",
      "5    0005   savings    2020-06-30\n",
      "6    0006   savings    2020-07-31\n",
      "7    0007   current    2020-09-30\n",
      "8    0008   savings    2020-10-31\n",
      "9    0009   current    2020-11-30\n",
      "  acct_id acct_start_dt  principal_amount\n",
      "0    0000    2020-01-31      45956.129752\n",
      "1    0001    2020-02-29      34819.071009\n",
      "2    0003    2020-04-30     172080.067666\n",
      "3    0005    2020-06-30     103570.401544\n",
      "4    0006    2020-07-31     159587.614018\n",
      "5    0008    2020-10-31      30358.029070\n"
     ]
    }
   ],
   "source": [
    "from data_fabricator.v1.core.mock_generator import MockDataGenerator\n",
    "\n",
    "tables = hydra_instantiate_dictionary(config)\n",
    "mock_generator = MockDataGenerator(tables=tables[\"tables\"])\n",
    "mock_generator.generate_all()\n",
    "\n",
    "account_df = mock_generator.tables[\"account\"].dataframe\n",
    "print(account_df)\n",
    "\n",
    "savings_account_df = mock_generator.tables[\"savings_account\"].dataframe\n",
    "print(savings_account_df)"
   ]
  },
  {
   "cell_type": "markdown",
   "id": "33fb5753-ac25-4540-9ec8-c63332883509",
   "metadata": {},
   "source": [
    "## Mapping rows from another table using join \n",
    "\n",
    "The `JoinedColumn` class can be used to map columns from another table using key relationships between the tables. This guarantees that the brought column has the correct mapping using the `ForeignKey` at the current table to the table where the column originally resides.\n",
    "\n",
    "Example:  "
   ]
  },
  {
   "cell_type": "code",
   "execution_count": 15,
   "id": "eca2dcf8-67c3-4184-b626-5e95495faa5a",
   "metadata": {
    "nbsphinx": "hidden",
    "tags": [
     "hide-input"
    ]
   },
   "outputs": [],
   "source": [
    "import yaml\n",
    "\n",
    "yaml_string = \"\"\"\n",
    "tables:\n",
    "- _target_: data_fabricator.v1.core.mock_generator.create_table\n",
    "  name: account\n",
    "  num_rows: 10\n",
    "  columns:\n",
    "    acct_id:\n",
    "      _target_: data_fabricator.v1.core.mock_generator.UniqueId\n",
    "      id_start_range: 0\n",
    "      id_end_range: 10\n",
    "      id_length: 4\n",
    "    name:\n",
    "      _target_: data_fabricator.v1.core.mock_generator.Faker\n",
    "      provider: name\n",
    "      faker_seed: 1\n",
    "- _target_: data_fabricator.v1.core.mock_generator.create_table\n",
    "  name: savings_account\n",
    "  columns:\n",
    "    acct_id:\n",
    "      _target_: data_fabricator.v1.core.mock_generator.RowApply\n",
    "      list_of_values:\n",
    "      - account.acct_id\n",
    "      - account.name\n",
    "      row_func: 'lambda x,y: x'\n",
    "    name:\n",
    "      _target_: data_fabricator.v1.core.mock_generator.JoinedColumn\n",
    "      selected_column: account.name\n",
    "      this_table_key: savings_account.acct_id\n",
    "      other_table_key: account.acct_id\n",
    "    principal_amount:\n",
    "      _target_: data_fabricator.v1.core.mock_generator.RandomNumbers\n",
    "      start_range: 30000\n",
    "      end_range: 200000\n",
    "\n",
    "       \n",
    "\"\"\"\n",
    "config = yaml.safe_load(yaml_string)\n",
    "v1_string = yaml.safe_dump(config, default_flow_style=False, sort_keys=False)"
   ]
  },
  {
   "cell_type": "code",
   "execution_count": 16,
   "id": "3d4df3dc",
   "metadata": {},
   "outputs": [
    {
     "data": {
      "text/markdown": [
       "```yaml\n",
       "tables:\n",
       "- _target_: data_fabricator.v1.core.mock_generator.create_table\n",
       "  name: account\n",
       "  num_rows: 10\n",
       "  columns:\n",
       "    acct_id:\n",
       "      _target_: data_fabricator.v1.core.mock_generator.UniqueId\n",
       "      id_start_range: 0\n",
       "      id_end_range: 10\n",
       "      id_length: 4\n",
       "    name:\n",
       "      _target_: data_fabricator.v1.core.mock_generator.Faker\n",
       "      provider: name\n",
       "      faker_seed: 1\n",
       "- _target_: data_fabricator.v1.core.mock_generator.create_table\n",
       "  name: savings_account\n",
       "  columns:\n",
       "    acct_id:\n",
       "      _target_: data_fabricator.v1.core.mock_generator.RowApply\n",
       "      list_of_values:\n",
       "      - account.acct_id\n",
       "      - account.name\n",
       "      row_func: 'lambda x,y: x'\n",
       "    name:\n",
       "      _target_: data_fabricator.v1.core.mock_generator.JoinedColumn\n",
       "      selected_column: account.name\n",
       "      this_table_key: savings_account.acct_id\n",
       "      other_table_key: account.acct_id\n",
       "    principal_amount:\n",
       "      _target_: data_fabricator.v1.core.mock_generator.RandomNumbers\n",
       "      start_range: 30000\n",
       "      end_range: 200000\n",
       "\n",
       "```"
      ],
      "text/plain": [
       "<IPython.core.display.Markdown object>"
      ]
     },
     "metadata": {},
     "output_type": "display_data"
    }
   ],
   "source": [
    "display_md(v1_string, \"yaml\")"
   ]
  },
  {
   "cell_type": "markdown",
   "id": "fc12fb3b-e28f-4c0f-8457-4d859c564b2a",
   "metadata": {},
   "source": [
    "Let's generate savings account table using the config above."
   ]
  },
  {
   "cell_type": "code",
   "execution_count": 17,
   "id": "1f6e1b58-ce3a-4b92-9ad6-1a234995f38c",
   "metadata": {
    "tags": []
   },
   "outputs": [
    {
     "name": "stdout",
     "output_type": "stream",
     "text": [
      "  acct_id              name\n",
      "0    0000    Ryan Gallagher\n",
      "1    0001          Jon Cole\n",
      "2    0002      Rachel Davis\n",
      "3    0003  Russell Reynolds\n",
      "4    0004     April Griffin\n",
      "5    0005    Crystal Landry\n",
      "6    0006    Amanda Johnson\n",
      "7    0007      Teresa James\n",
      "8    0008    Javier Johnson\n",
      "9    0009   Jeffrey Simpson\n",
      "  acct_id              name  principal_amount\n",
      "0    0000    Ryan Gallagher     105715.822989\n",
      "1    0001          Jon Cole     152661.805498\n",
      "2    0002      Rachel Davis      68889.577616\n",
      "3    0003  Russell Reynolds     190696.018244\n",
      "4    0004     April Griffin     183242.667794\n",
      "5    0005    Crystal Landry      35200.297116\n",
      "6    0006    Amanda Johnson      34325.796369\n",
      "7    0007      Teresa James     122040.120375\n",
      "8    0008    Javier Johnson     189655.357672\n",
      "9    0009   Jeffrey Simpson      94804.720407\n"
     ]
    }
   ],
   "source": [
    "from data_fabricator.v1.core.mock_generator import MockDataGenerator\n",
    "\n",
    "tables = hydra_instantiate_dictionary(config)\n",
    "mock_generator = MockDataGenerator(tables=tables[\"tables\"])\n",
    "mock_generator.generate_all()\n",
    "\n",
    "account_df = mock_generator.tables[\"account\"].dataframe\n",
    "print(account_df)\n",
    "\n",
    "savings_account_df = mock_generator.tables[\"savings_account\"].dataframe\n",
    "print(savings_account_df)"
   ]
  },
  {
   "cell_type": "markdown",
   "id": "c281ed78-047e-48e4-8e37-507c9334ff69",
   "metadata": {},
   "source": [
    "## Generate and capture conditional weight values.\n",
    " This functionality helps us to provide a new distribution set of values based on the weights provided.\n",
    "\n",
    " In the following example, we are trying to generate set of channel codes for each product."
   ]
  },
  {
   "cell_type": "code",
   "execution_count": 18,
   "id": "e4ddb46d-c648-47ff-a618-a0398de04369",
   "metadata": {
    "nbsphinx": "hidden",
    "tags": [
     "hide-input"
    ]
   },
   "outputs": [],
   "source": [
    "import yaml\n",
    "\n",
    "yaml_string = \"\"\"\n",
    "     customers:\n",
    "        num_rows: 10\n",
    "        columns:\n",
    "            hcp_id:\n",
    "                type: generate_unique_id\n",
    "                prefix: hcp\n",
    "                id_start_range: 0\n",
    "                id_end_range: 10\n",
    "            hcp_name:\n",
    "                type: faker\n",
    "                provider: name\n",
    "                # Setting seed is not recommended for general use, please consider when to use seed\n",
    "                faker_seed: 1\n",
    "\n",
    "     interactions:\n",
    "        columns:\n",
    "            hcp_id:\n",
    "                type: row_apply\n",
    "                list_of_values: customers.hcp_id\n",
    "                row_func: \"lambda x : x\"\n",
    "            product_cd:\n",
    "                type: generate_values\n",
    "                sample_values: [\"R03AC02\",\"R03AC03\"]\n",
    "            channel_cd:\n",
    "                type: row_apply\n",
    "                list_of_values: interactions.product_cd\n",
    "                row_func: conditional_generate_from_weights\n",
    "                row_func_kwargs:\n",
    "                    dependent_weights:\n",
    "                        R03AC02:\n",
    "                            a: 10\n",
    "                            b: 1\n",
    "                        R03AC03:\n",
    "                            c: 6\n",
    "                            d: 5\n",
    "\"\"\"\n",
    "config = yaml.safe_load(yaml_string)\n",
    "config = v0_converter(config)\n",
    "v1_string = yaml.safe_dump(config, default_flow_style=False, sort_keys=False)"
   ]
  },
  {
   "cell_type": "markdown",
   "id": "7a80b4f7-0af5-4035-aa20-f2a22e9fb858",
   "metadata": {},
   "source": [
    "Given the following config:"
   ]
  },
  {
   "cell_type": "code",
   "execution_count": 19,
   "id": "7c63b73e-c726-4f02-8790-cb509343aa8d",
   "metadata": {
    "tags": []
   },
   "outputs": [
    {
     "data": {
      "text/markdown": [
       "```yaml\n",
       "tables:\n",
       "- _target_: data_fabricator.v1.core.mock_generator.create_table\n",
       "  name: customers\n",
       "  num_rows: 10\n",
       "  columns:\n",
       "    hcp_id:\n",
       "      _target_: data_fabricator.v1.core.mock_generator.UniqueId\n",
       "      prefix: hcp\n",
       "      id_start_range: 0\n",
       "      id_end_range: 10\n",
       "    hcp_name:\n",
       "      _target_: data_fabricator.v1.core.mock_generator.Faker\n",
       "      provider: name\n",
       "      faker_seed: 1\n",
       "- _target_: data_fabricator.v1.core.mock_generator.create_table\n",
       "  name: interactions\n",
       "  columns:\n",
       "    hcp_id:\n",
       "      _target_: data_fabricator.v1.core.mock_generator.RowApply\n",
       "      list_of_values: customers.hcp_id\n",
       "      row_func: 'lambda x : x'\n",
       "    product_cd:\n",
       "      _target_: data_fabricator.v1.core.mock_generator.ValuesFromSamples\n",
       "      sample_values:\n",
       "      - R03AC02\n",
       "      - R03AC03\n",
       "    channel_cd:\n",
       "      _target_: data_fabricator.v1.core.mock_generator.RowApply\n",
       "      list_of_values: interactions.product_cd\n",
       "      row_func:\n",
       "        _target_: data_fabricator.v1.core.functions.conditional_generate_from_weights\n",
       "        _partial_: true\n",
       "      row_func_kwargs:\n",
       "        dependent_weights:\n",
       "          R03AC02:\n",
       "            a: 10\n",
       "            b: 1\n",
       "          R03AC03:\n",
       "            c: 6\n",
       "            d: 5\n",
       "\n",
       "```"
      ],
      "text/plain": [
       "<IPython.core.display.Markdown object>"
      ]
     },
     "metadata": {},
     "output_type": "display_data"
    }
   ],
   "source": [
    "display_md(v1_string, \"yaml\")"
   ]
  },
  {
   "cell_type": "markdown",
   "id": "182713b7-14e3-41f9-9c49-dd69a9413567",
   "metadata": {},
   "source": [
    "Let's generate channel codes for each interaction based on the weights provided:"
   ]
  },
  {
   "cell_type": "code",
   "execution_count": 20,
   "id": "8426d553-816a-4523-b81d-bf44edf21e7f",
   "metadata": {
    "tags": []
   },
   "outputs": [
    {
     "name": "stdout",
     "output_type": "stream",
     "text": [
      "  hcp_id          hcp_name\n",
      "0   hcp0    Ryan Gallagher\n",
      "1   hcp1          Jon Cole\n",
      "2   hcp2      Rachel Davis\n",
      "3   hcp3  Russell Reynolds\n",
      "4   hcp4     April Griffin\n",
      "5   hcp5    Crystal Landry\n",
      "6   hcp6    Amanda Johnson\n",
      "7   hcp7      Teresa James\n",
      "8   hcp8    Javier Johnson\n",
      "9   hcp9   Jeffrey Simpson\n",
      "  hcp_id product_cd channel_cd\n",
      "0   hcp0    R03AC02          a\n",
      "1   hcp1    R03AC02          a\n",
      "2   hcp2    R03AC02          a\n",
      "3   hcp3    R03AC02          a\n",
      "4   hcp4    R03AC02          a\n",
      "5   hcp5    R03AC02          a\n",
      "6   hcp6    R03AC02          b\n",
      "7   hcp7    R03AC02          a\n",
      "8   hcp8    R03AC02          a\n",
      "9   hcp9    R03AC02          a\n"
     ]
    }
   ],
   "source": [
    "from data_fabricator.v1.core.mock_generator import MockDataGenerator\n",
    "\n",
    "tables = hydra_instantiate_dictionary(config)\n",
    "mock_generator = MockDataGenerator(tables=tables[\"tables\"])\n",
    "mock_generator.generate_all()\n",
    "\n",
    "customers_df = mock_generator.tables[\"customers\"].dataframe\n",
    "print(customers_df)\n",
    "\n",
    "interactions_df = mock_generator.tables[\"interactions\"].dataframe\n",
    "print(interactions_df)"
   ]
  },
  {
   "cell_type": "markdown",
   "id": "a57337a0-c55f-46a0-a9fa-765962d978c3",
   "metadata": {},
   "source": [
    "## Pass relative parameters in explode\n",
    " This functionality helps us to pass a column to the start or end date parameters of `Explode` class.\n",
    " It generates an array of values between those start and end date range.\n",
    "\n",
    " For example, in retail banking, a customer is expected to have a monthly transaction statement for each of their accounts,\n",
    " but these transaction statements only make sense to exist from the start date of the account not before.\n",
    "\n",
    " In the following example, we are trying to create transaction date for every customer\n",
    " So, we provided a condition i.e, the transaction happens from the time when account has created/started."
   ]
  },
  {
   "cell_type": "code",
   "execution_count": 21,
   "id": "880cb72a-30c4-4a7d-af1c-f0ff5e3fab48",
   "metadata": {
    "nbsphinx": "hidden",
    "tags": [
     "hide-input"
    ]
   },
   "outputs": [],
   "source": [
    "import yaml\n",
    "\n",
    "yaml_string = \"\"\"\n",
    "     accounts:\n",
    "       num_rows: 10\n",
    "       columns:\n",
    "         acct_id:\n",
    "           type: generate_unique_id\n",
    "           id_start_range: 0\n",
    "           id_end_range: 10\n",
    "           id_length: 4\n",
    "         acct_start_dt:\n",
    "           type: generate_dates\n",
    "           start_dt: 2020-01-01\n",
    "           end_dt: 2020-12-31\n",
    "           freq: M\n",
    "           seed: 1\n",
    "\n",
    "     transaction_statements:\n",
    "       num_rows: 20\n",
    "       columns:\n",
    "         transaction_id:\n",
    "           type: generate_unique_id\n",
    "           id_start_range: 00\n",
    "           id_end_range: 20\n",
    "           id_length: 6\n",
    "         acct_id:\n",
    "           type: explode\n",
    "           list_of_values:\n",
    "             - accounts.acct_id\n",
    "             - accounts.acct_start_dt\n",
    "           explode_func: generate_dates\n",
    "           explode_func_kwargs:\n",
    "            start_dt: list_of_values[1]\n",
    "            end_dt: 2020-12-31\n",
    "            freq: M\n",
    "            num_rows: 2\n",
    "           position: 0\n",
    "         transaction_dt:\n",
    "           type: explode\n",
    "           list_of_values:\n",
    "             - accounts.acct_id\n",
    "             - accounts.acct_start_dt\n",
    "           explode_func: generate_dates\n",
    "           explode_func_kwargs:\n",
    "            start_dt: list_of_values[1]\n",
    "            end_dt: 2020-12-31\n",
    "            freq: M\n",
    "            num_rows: 2\n",
    "           position: 2\n",
    "\"\"\"\n",
    "config = yaml.safe_load(yaml_string)\n",
    "config = v0_converter(config)\n",
    "v1_string = yaml.safe_dump(config, default_flow_style=False, sort_keys=False)"
   ]
  },
  {
   "cell_type": "markdown",
   "id": "a6f1412f-203b-4847-a017-c21f5403c5e2",
   "metadata": {},
   "source": [
    "Given the following config:"
   ]
  },
  {
   "cell_type": "code",
   "execution_count": 22,
   "id": "753e0b16-190c-4394-b421-8fc487d0097a",
   "metadata": {
    "tags": []
   },
   "outputs": [
    {
     "data": {
      "text/markdown": [
       "```yaml\n",
       "tables:\n",
       "- _target_: data_fabricator.v1.core.mock_generator.create_table\n",
       "  name: accounts\n",
       "  num_rows: 10\n",
       "  columns:\n",
       "    acct_id:\n",
       "      _target_: data_fabricator.v1.core.mock_generator.UniqueId\n",
       "      id_start_range: 0\n",
       "      id_end_range: 10\n",
       "      id_length: 4\n",
       "    acct_start_dt:\n",
       "      _target_: data_fabricator.v1.core.mock_generator.Date\n",
       "      prob_null_kwargs:\n",
       "        seed: 1\n",
       "      start_dt: 2020-01-01\n",
       "      end_dt: 2020-12-31\n",
       "      freq: M\n",
       "- _target_: data_fabricator.v1.core.mock_generator.create_table\n",
       "  name: transaction_statements\n",
       "  num_rows: 20\n",
       "  columns:\n",
       "    transaction_id:\n",
       "      _target_: data_fabricator.v1.core.mock_generator.UniqueId\n",
       "      id_start_range: 0\n",
       "      id_end_range: 20\n",
       "      id_length: 6\n",
       "    acct_id:\n",
       "      _target_: data_fabricator.v1.core.mock_generator.Explode\n",
       "      list_of_values:\n",
       "      - accounts.acct_id\n",
       "      - accounts.acct_start_dt\n",
       "      explode_func:\n",
       "        _target_: data_fabricator.v1.core.functions.generate_dates\n",
       "        _partial_: true\n",
       "      explode_func_kwargs:\n",
       "        start_dt: list_of_values[1]\n",
       "        end_dt: 2020-12-31\n",
       "        freq: M\n",
       "        num_rows: 2\n",
       "      position: 0\n",
       "    transaction_dt:\n",
       "      _target_: data_fabricator.v1.core.mock_generator.Explode\n",
       "      list_of_values:\n",
       "      - accounts.acct_id\n",
       "      - accounts.acct_start_dt\n",
       "      explode_func:\n",
       "        _target_: data_fabricator.v1.core.functions.generate_dates\n",
       "        _partial_: true\n",
       "      explode_func_kwargs:\n",
       "        start_dt: list_of_values[1]\n",
       "        end_dt: 2020-12-31\n",
       "        freq: M\n",
       "        num_rows: 2\n",
       "      position: 2\n",
       "\n",
       "```"
      ],
      "text/plain": [
       "<IPython.core.display.Markdown object>"
      ]
     },
     "metadata": {},
     "output_type": "display_data"
    }
   ],
   "source": [
    "display_md(v1_string, \"yaml\")"
   ]
  },
  {
   "cell_type": "markdown",
   "id": "7110671b-d855-49a1-9b60-53332832ac95",
   "metadata": {},
   "source": [
    "Let's generate transaction date for each customer:"
   ]
  },
  {
   "cell_type": "code",
   "execution_count": 23,
   "id": "dec7cc77-48da-4d2b-ad66-d0d7248b06b0",
   "metadata": {
    "tags": []
   },
   "outputs": [
    {
     "name": "stdout",
     "output_type": "stream",
     "text": [
      "  acct_id acct_start_dt\n",
      "0    0000    2020-01-31\n",
      "1    0001    2020-02-29\n",
      "2    0002    2020-03-31\n",
      "3    0003    2020-04-30\n",
      "4    0004    2020-05-31\n",
      "5    0005    2020-06-30\n",
      "6    0006    2020-07-31\n",
      "7    0007    2020-09-30\n",
      "8    0008    2020-10-31\n",
      "9    0009    2020-11-30\n",
      "   transaction_id acct_id transaction_dt\n",
      "0          000000    0000     2020-07-31\n",
      "1          000001    0000     2020-11-30\n",
      "2          000002    0001     2020-05-31\n",
      "3          000003    0001     2020-08-31\n",
      "4          000004    0002     2020-03-31\n",
      "5          000005    0002     2020-11-30\n",
      "6          000006    0003     2020-07-31\n",
      "7          000007    0003     2020-11-30\n",
      "8          000008    0004     2020-09-30\n",
      "9          000009    0004     2020-12-31\n",
      "10         000010    0005     2020-07-31\n",
      "11         000011    0005     2020-08-31\n",
      "12         000012    0006     2020-08-31\n",
      "13         000013    0006     2020-12-31\n",
      "14         000014    0007     2020-10-31\n",
      "15         000015    0007     2020-12-31\n",
      "16         000016    0008     2020-10-31\n",
      "17         000017    0008     2020-11-30\n",
      "18         000018    0009     2020-11-30\n",
      "19         000019    0009     2020-12-31\n"
     ]
    }
   ],
   "source": [
    "from data_fabricator.v1.core.mock_generator import MockDataGenerator\n",
    "\n",
    "tables = hydra_instantiate_dictionary(config)\n",
    "mock_generator = MockDataGenerator(tables=tables[\"tables\"])\n",
    "mock_generator.generate_all()\n",
    "\n",
    "accounts_df = mock_generator.tables[\"accounts\"].dataframe\n",
    "print(accounts_df)\n",
    "transactions_df = mock_generator.tables[\"transaction_statements\"].dataframe\n",
    "print(transactions_df)"
   ]
  },
  {
   "cell_type": "markdown",
   "id": "70f77566-1aee-4054-9cd7-1eed357a4d1c",
   "metadata": {},
   "source": [
    "Let's check the transaction happens after the account has created:\n",
    "`acct_start_dt <= transaction_dt`"
   ]
  },
  {
   "cell_type": "code",
   "execution_count": 24,
   "id": "f3d96f0c-555a-4565-a15b-2c481bb7cb0a",
   "metadata": {
    "tags": []
   },
   "outputs": [
    {
     "name": "stdout",
     "output_type": "stream",
     "text": [
      "   acct_id acct_start_dt transaction_id transaction_dt\n",
      "0     0000    2020-01-31         000000     2020-07-31\n",
      "1     0000    2020-01-31         000001     2020-11-30\n",
      "2     0001    2020-02-29         000002     2020-05-31\n",
      "3     0001    2020-02-29         000003     2020-08-31\n",
      "4     0002    2020-03-31         000004     2020-03-31\n",
      "5     0002    2020-03-31         000005     2020-11-30\n",
      "6     0003    2020-04-30         000006     2020-07-31\n",
      "7     0003    2020-04-30         000007     2020-11-30\n",
      "8     0004    2020-05-31         000008     2020-09-30\n",
      "9     0004    2020-05-31         000009     2020-12-31\n",
      "10    0005    2020-06-30         000010     2020-07-31\n",
      "11    0005    2020-06-30         000011     2020-08-31\n",
      "12    0006    2020-07-31         000012     2020-08-31\n",
      "13    0006    2020-07-31         000013     2020-12-31\n",
      "14    0007    2020-09-30         000014     2020-10-31\n",
      "15    0007    2020-09-30         000015     2020-12-31\n",
      "16    0008    2020-10-31         000016     2020-10-31\n",
      "17    0008    2020-10-31         000017     2020-11-30\n",
      "18    0009    2020-11-30         000018     2020-11-30\n",
      "19    0009    2020-11-30         000019     2020-12-31\n"
     ]
    }
   ],
   "source": [
    "import pandas as pd\n",
    "\n",
    "joined_df = pd.merge(accounts_df, transactions_df, on=\"acct_id\", how=\"left\")\n",
    "print(joined_df)"
   ]
  },
  {
   "cell_type": "markdown",
   "id": "0ac382b8-7533-48e9-8946-71c15e66b9b7",
   "metadata": {},
   "source": [
    "## Sorting data functionality in `Date` values\n",
    "  This function is useful to sort the values because not all dates/values should be sequential for pseudo-real data.\n",
    "\n",
    "  For example: Join date of clients can be sequential, since their IDs would be\n",
    "  sequential as well. But the close dates of a list of accounts can be entirely random.\n",
    "\n",
    " In the following example, we are trying to create account start and end date for each customer."
   ]
  },
  {
   "cell_type": "code",
   "execution_count": 25,
   "id": "9b4fcb45-beac-4740-9114-297ca5d7e1d7",
   "metadata": {
    "tags": []
   },
   "outputs": [],
   "source": [
    "import yaml\n",
    "\n",
    "yaml_string = \"\"\"\n",
    "     accounts:\n",
    "       num_rows: 10\n",
    "       columns:\n",
    "         acct_id:\n",
    "           type: generate_unique_id\n",
    "           id_start_range: 0\n",
    "           id_end_range: 10\n",
    "           id_length: 4\n",
    "         acct_start_dt:\n",
    "           type: generate_dates\n",
    "           start_dt: 2019-01-01\n",
    "           end_dt: 2019-12-31\n",
    "           freq: M\n",
    "           seed: 1\n",
    "         acct_end_dt:\n",
    "           type: generate_dates\n",
    "           start_dt: 2020-01-01\n",
    "           end_dt: 2020-12-31\n",
    "           freq: M\n",
    "           seed: 1\n",
    "           sort_dates: False\n",
    "\"\"\"\n",
    "config = yaml.safe_load(yaml_string)\n",
    "config = v0_converter(config)\n",
    "v1_string = yaml.safe_dump(config, default_flow_style=False, sort_keys=False)"
   ]
  },
  {
   "cell_type": "markdown",
   "id": "eff49df4-b68e-41d7-8d77-f56b16986193",
   "metadata": {},
   "source": [
    "Given the following config:"
   ]
  },
  {
   "cell_type": "code",
   "execution_count": 26,
   "id": "6e7e59f8-1f21-4ea4-82ef-bc2c67571870",
   "metadata": {
    "tags": []
   },
   "outputs": [
    {
     "data": {
      "text/markdown": [
       "```yaml\n",
       "tables:\n",
       "- _target_: data_fabricator.v1.core.mock_generator.create_table\n",
       "  name: accounts\n",
       "  num_rows: 10\n",
       "  columns:\n",
       "    acct_id:\n",
       "      _target_: data_fabricator.v1.core.mock_generator.UniqueId\n",
       "      id_start_range: 0\n",
       "      id_end_range: 10\n",
       "      id_length: 4\n",
       "    acct_start_dt:\n",
       "      _target_: data_fabricator.v1.core.mock_generator.Date\n",
       "      prob_null_kwargs:\n",
       "        seed: 1\n",
       "      start_dt: 2019-01-01\n",
       "      end_dt: 2019-12-31\n",
       "      freq: M\n",
       "    acct_end_dt:\n",
       "      _target_: data_fabricator.v1.core.mock_generator.Date\n",
       "      prob_null_kwargs:\n",
       "        seed: 1\n",
       "      start_dt: 2020-01-01\n",
       "      end_dt: 2020-12-31\n",
       "      freq: M\n",
       "      sort_dates: false\n",
       "\n",
       "```"
      ],
      "text/plain": [
       "<IPython.core.display.Markdown object>"
      ]
     },
     "metadata": {},
     "output_type": "display_data"
    }
   ],
   "source": [
    "display_md(v1_string, \"yaml\")"
   ]
  },
  {
   "cell_type": "markdown",
   "id": "5cd97232-bbaf-49de-849b-425cfe9195d3",
   "metadata": {},
   "source": [
    "Let's generate account start and end dates for each account:"
   ]
  },
  {
   "cell_type": "code",
   "execution_count": 27,
   "id": "0dafb270-ee44-4d41-a571-39d55853e0cb",
   "metadata": {
    "tags": []
   },
   "outputs": [
    {
     "name": "stdout",
     "output_type": "stream",
     "text": [
      "  acct_id acct_start_dt acct_end_dt\n",
      "0    0000    2019-01-31  2020-03-31\n",
      "1    0001    2019-02-28  2020-10-31\n",
      "2    0002    2019-03-31  2020-02-29\n",
      "3    0003    2019-04-30  2020-05-31\n",
      "4    0004    2019-05-31  2020-11-30\n",
      "5    0005    2019-06-30  2020-04-30\n",
      "6    0006    2019-07-31  2020-07-31\n",
      "7    0007    2019-09-30  2020-06-30\n",
      "8    0008    2019-10-31  2020-09-30\n",
      "9    0009    2019-11-30  2020-01-31\n"
     ]
    }
   ],
   "source": [
    "from data_fabricator.v1.core.mock_generator import MockDataGenerator\n",
    "\n",
    "tables = hydra_instantiate_dictionary(config)\n",
    "mock_generator = MockDataGenerator(tables=tables[\"tables\"])\n",
    "mock_generator.generate_all()\n",
    "\n",
    "accounts_df = mock_generator.tables[\"accounts\"].dataframe\n",
    "print(accounts_df)"
   ]
  },
  {
   "cell_type": "markdown",
   "id": "ada62cb1-a07f-4431-b268-a05a3ead1609",
   "metadata": {},
   "source": [
    "## Generate Cross Product\n",
    "\n",
    " The class `CrosProduct` allows us to generate a dataset\n",
    " which is a cross product of all the values passed in the tables created in the configuration\n",
    "\n",
    " In the following example, we are generating all possible combinations of customer ID,\n",
    " product ID and dates:"
   ]
  },
  {
   "cell_type": "code",
   "execution_count": 28,
   "id": "f623cebc-9b93-4d9b-b746-ccc32eb9cec2",
   "metadata": {
    "nbsphinx": "hidden",
    "tags": [
     "hide-input"
    ]
   },
   "outputs": [],
   "source": [
    "import yaml\n",
    "\n",
    "yaml_string = \"\"\"\n",
    "tables:\n",
    "  - _target_: data_fabricator.v1.core.mock_generator.create_table\n",
    "    name: customers\n",
    "    num_rows: 3\n",
    "    columns:\n",
    "      customer_id:\n",
    "        _target_: data_fabricator.v1.core.mock_generator.UniqueId\n",
    "        prefix: customer_\n",
    "  - _target_: data_fabricator.v1.core.mock_generator.create_table\n",
    "    name: products\n",
    "    num_rows: 2\n",
    "    columns:\n",
    "      product_id:\n",
    "        _target_: data_fabricator.v1.core.mock_generator.UniqueId\n",
    "        prefix: product_\n",
    "  - _target_: data_fabricator.v1.core.mock_generator.create_table\n",
    "    name: dates\n",
    "    num_rows: 2\n",
    "    columns:\n",
    "      date:\n",
    "        _target_: data_fabricator.v1.core.mock_generator.Date\n",
    "        start_dt: 2020-01-01\n",
    "        end_dt: 2020-01-02\n",
    "        freq: D\n",
    "  - _target_: data_fabricator.v1.core.mock_generator.create_table\n",
    "    name: cross_product\n",
    "    columns:\n",
    "      customer_id:\n",
    "        _target_: data_fabricator.v1.core.mock_generator.CrossProduct\n",
    "        check_all_inputs_same_length: false\n",
    "        list_of_values:\n",
    "        - customers.customer_id\n",
    "        - products.product_id\n",
    "        - dates.date\n",
    "        position: 0\n",
    "      product_id:\n",
    "        _target_: data_fabricator.v1.core.mock_generator.CrossProduct\n",
    "        resize: true\n",
    "        check_all_inputs_same_length: false\n",
    "        list_of_values:\n",
    "        - customers.customer_id\n",
    "        - products.product_id\n",
    "        - dates.date\n",
    "        position: 1\n",
    "      date:\n",
    "        _target_: data_fabricator.v1.core.mock_generator.CrossProduct\n",
    "        check_all_inputs_same_length: false\n",
    "        list_of_values:\n",
    "        - customers.customer_id\n",
    "        - products.product_id\n",
    "        - dates.date\n",
    "        position: 2\n",
    "\"\"\"\n",
    "config = yaml.safe_load(yaml_string)"
   ]
  },
  {
   "cell_type": "markdown",
   "id": "f6ee5722-b270-4a9c-804a-fad757419d73",
   "metadata": {},
   "source": [
    "Given the following config:"
   ]
  },
  {
   "cell_type": "code",
   "execution_count": 29,
   "id": "2f9463bd-cb31-4418-b5e1-cc9d0211e03f",
   "metadata": {
    "tags": []
   },
   "outputs": [
    {
     "data": {
      "text/markdown": [
       "```yaml\n",
       "\n",
       "tables:\n",
       "  - _target_: data_fabricator.v1.core.mock_generator.create_table\n",
       "    name: customers\n",
       "    num_rows: 3\n",
       "    columns:\n",
       "      customer_id:\n",
       "        _target_: data_fabricator.v1.core.mock_generator.UniqueId\n",
       "        prefix: customer_\n",
       "  - _target_: data_fabricator.v1.core.mock_generator.create_table\n",
       "    name: products\n",
       "    num_rows: 2\n",
       "    columns:\n",
       "      product_id:\n",
       "        _target_: data_fabricator.v1.core.mock_generator.UniqueId\n",
       "        prefix: product_\n",
       "  - _target_: data_fabricator.v1.core.mock_generator.create_table\n",
       "    name: dates\n",
       "    num_rows: 2\n",
       "    columns:\n",
       "      date:\n",
       "        _target_: data_fabricator.v1.core.mock_generator.Date\n",
       "        start_dt: 2020-01-01\n",
       "        end_dt: 2020-01-02\n",
       "        freq: D\n",
       "  - _target_: data_fabricator.v1.core.mock_generator.create_table\n",
       "    name: cross_product\n",
       "    columns:\n",
       "      customer_id:\n",
       "        _target_: data_fabricator.v1.core.mock_generator.CrossProduct\n",
       "        check_all_inputs_same_length: false\n",
       "        list_of_values:\n",
       "        - customers.customer_id\n",
       "        - products.product_id\n",
       "        - dates.date\n",
       "        position: 0\n",
       "      product_id:\n",
       "        _target_: data_fabricator.v1.core.mock_generator.CrossProduct\n",
       "        resize: true\n",
       "        check_all_inputs_same_length: false\n",
       "        list_of_values:\n",
       "        - customers.customer_id\n",
       "        - products.product_id\n",
       "        - dates.date\n",
       "        position: 1\n",
       "      date:\n",
       "        _target_: data_fabricator.v1.core.mock_generator.CrossProduct\n",
       "        check_all_inputs_same_length: false\n",
       "        list_of_values:\n",
       "        - customers.customer_id\n",
       "        - products.product_id\n",
       "        - dates.date\n",
       "        position: 2\n",
       "\n",
       "```"
      ],
      "text/plain": [
       "<IPython.core.display.Markdown object>"
      ]
     },
     "metadata": {},
     "output_type": "display_data"
    }
   ],
   "source": [
    "display_md(yaml_string, \"yaml\")"
   ]
  },
  {
   "cell_type": "markdown",
   "id": "fa290907-2b20-4db0-ab38-6ac59025fc22",
   "metadata": {},
   "source": [
    "Let's generate the cross product for the above config:"
   ]
  },
  {
   "cell_type": "code",
   "execution_count": 30,
   "id": "5e602ced-c338-4155-b9ab-e9164dd6526d",
   "metadata": {
    "tags": []
   },
   "outputs": [],
   "source": [
    "from data_fabricator.v1.core.mock_generator import MockDataGenerator\n",
    "\n",
    "tables = hydra_instantiate_dictionary(config)\n",
    "mock_generator = MockDataGenerator(tables=tables[\"tables\"])\n",
    "mock_generator.generate_all()\n",
    "\n",
    "cross_prod = mock_generator.tables[\"cross_product\"].dataframe\n",
    "customer_df = mock_generator.tables[\"customers\"].dataframe\n",
    "products_df = mock_generator.tables[\"products\"].dataframe\n",
    "dates_df = mock_generator.tables[\"dates\"].dataframe\n",
    "cross_prod = mock_generator.tables[\"cross_product\"].dataframe"
   ]
  },
  {
   "cell_type": "markdown",
   "id": "47248c01-fe2d-4171-b84d-077dad4666f3",
   "metadata": {},
   "source": [
    "Here are the customer IDs:"
   ]
  },
  {
   "cell_type": "code",
   "execution_count": 31,
   "id": "a47cb2d0-ce43-4ab3-a8a8-aaa387c281b5",
   "metadata": {
    "tags": []
   },
   "outputs": [
    {
     "name": "stdout",
     "output_type": "stream",
     "text": [
      "  customer_id\n",
      "0  customer_1\n",
      "1  customer_2\n",
      "2  customer_3\n"
     ]
    }
   ],
   "source": [
    "print(customer_df)"
   ]
  },
  {
   "cell_type": "markdown",
   "id": "ebb883c2-d0c9-49b8-ae24-de4d6b4a93f6",
   "metadata": {},
   "source": [
    "Here are the product IDs:"
   ]
  },
  {
   "cell_type": "code",
   "execution_count": 32,
   "id": "10990c26-60e2-4c34-abc5-7d8c13203210",
   "metadata": {
    "tags": []
   },
   "outputs": [
    {
     "name": "stdout",
     "output_type": "stream",
     "text": [
      "  product_id\n",
      "0  product_1\n",
      "1  product_2\n"
     ]
    }
   ],
   "source": [
    "print(products_df)"
   ]
  },
  {
   "cell_type": "markdown",
   "id": "282d2f79-ee2e-4e02-a40b-f2c6345f92b7",
   "metadata": {},
   "source": [
    "Here are the dates:"
   ]
  },
  {
   "cell_type": "code",
   "execution_count": 33,
   "id": "febde7b1-1a5e-4606-b59e-a63f78b57b50",
   "metadata": {
    "tags": []
   },
   "outputs": [
    {
     "name": "stdout",
     "output_type": "stream",
     "text": [
      "        date\n",
      "0 2020-01-01\n",
      "1 2020-01-02\n"
     ]
    }
   ],
   "source": [
    "print(dates_df)"
   ]
  },
  {
   "cell_type": "markdown",
   "id": "6a1e598d-b695-45bc-94ab-6ef51a6dbe14",
   "metadata": {},
   "source": [
    "Here is the cross products:"
   ]
  },
  {
   "cell_type": "code",
   "execution_count": 34,
   "id": "3d1ca8d0-9b11-46da-b52c-084b568e94b9",
   "metadata": {
    "tags": []
   },
   "outputs": [
    {
     "name": "stdout",
     "output_type": "stream",
     "text": [
      "   customer_id product_id       date\n",
      "0   customer_1  product_1 2020-01-01\n",
      "1   customer_1  product_1 2020-01-02\n",
      "2   customer_1  product_2 2020-01-01\n",
      "3   customer_1  product_2 2020-01-02\n",
      "4   customer_2  product_1 2020-01-01\n",
      "5   customer_2  product_1 2020-01-02\n",
      "6   customer_2  product_2 2020-01-01\n",
      "7   customer_2  product_2 2020-01-02\n",
      "8   customer_3  product_1 2020-01-01\n",
      "9   customer_3  product_1 2020-01-02\n",
      "10  customer_3  product_2 2020-01-01\n",
      "11  customer_3  product_2 2020-01-02\n"
     ]
    }
   ],
   "source": [
    "print(cross_prod)"
   ]
  }
 ],
 "metadata": {
  "celltoolbar": "Edit Metadata",
  "kernelspec": {
   "display_name": "qblabs-monorepo",
   "language": "python",
   "name": "qblabs-monorepo"
  },
  "language_info": {
   "codemirror_mode": {
    "name": "ipython",
    "version": 3
   },
   "file_extension": ".py",
   "mimetype": "text/x-python",
   "name": "python",
   "nbconvert_exporter": "python",
   "pygments_lexer": "ipython3",
   "version": "3.9.15"
  }
 },
 "nbformat": 4,
 "nbformat_minor": 5
}
