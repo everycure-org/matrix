{
 "cells": [
  {
   "cell_type": "code",
   "execution_count": 1,
   "id": "b94c80a8-239c-4588-8d75-3ffe6c994ad0",
   "metadata": {
    "nbsphinx": "hidden",
    "tags": [
     "hide-input"
    ]
   },
   "outputs": [],
   "source": [
    "import pandas as pd\n",
    "\n",
    "pd.set_option(\"display.max_rows\", 500)\n",
    "pd.set_option(\"display.max_columns\", 500)\n",
    "pd.set_option(\"display.width\", 1000)"
   ]
  },
  {
   "cell_type": "markdown",
   "id": "f7741159-3abf-418b-85fb-c095563061c8",
   "metadata": {},
   "source": [
    "# Case Study - Generate Sensor Data\n",
    "\n",
    "In this case study, we try to fabricate some sensor data that we might encounter\n",
    "in an operations study.\n",
    "\n",
    "## Pattern 1 - Tall Format\n",
    "\n",
    "![sensor_model1](images/sensor_model1.drawio.svg)\n",
    "\n",
    "Note that all `_underscored` columns are not included as they are temporary columns\n",
    "used to generate the final output. One can omit these columns programmatically in the\n",
    "end."
   ]
  },
  {
   "cell_type": "code",
   "execution_count": 2,
   "id": "9030b045-8f94-4ca5-9bd5-aaeb5ac2c92f",
   "metadata": {
    "tags": []
   },
   "outputs": [
    {
     "name": "stdout",
     "output_type": "stream",
     "text": [
      "  sensor_id sensor_name  _random_shift\n",
      "0         1    sensor_1             14\n",
      "1         2    sensor_2             84\n",
      "2         3    sensor_3             76\n",
      "3         4    sensor_4             26\n",
      "  sensor_name  _random_shift time_index  _sensor_reading_smooth  _random_error  sensor_reading\n",
      "0    sensor_1             14          1               11.334384       1.387218       12.721602\n",
      "1    sensor_1             14          2               10.012962       1.258575       11.271537\n",
      "2    sensor_1             14          3                8.476902       1.824460       10.301362\n",
      "3    sensor_1             14          4                6.759130       2.208425        8.967555\n",
      "4    sensor_1             14          5                4.896470       0.262807        5.159276\n",
      "5    sensor_1             14          6                2.928848       0.079373        3.008221\n",
      "6    sensor_1             14          7                0.898444       2.340142        3.238586\n",
      "7    sensor_1             14          8               -1.151220       1.211748        0.060528\n",
      "8    sensor_1             14          9               -3.176206       2.134384       -1.041821\n",
      "9    sensor_1             14         10               -5.133106       0.005897       -5.127209\n"
     ]
    }
   ],
   "source": [
    "from data_fabricator.v1.core.mock_generator import (\n",
    "    MockDataGenerator,\n",
    "    BaseTable,\n",
    "    UniqueId,\n",
    "    RowApply,\n",
    "    RandomNumbers,\n",
    "    Explode,\n",
    "    generate_unique_id,\n",
    ")\n",
    "\n",
    "\n",
    "class Sensor(BaseTable):\n",
    "    num_rows = 4\n",
    "    sensor_id = UniqueId(prob_null_kwargs={\"seed\": 1})\n",
    "    sensor_name = RowApply(\n",
    "        list_of_values=\"Sensor.sensor_id\", row_func='lambda x: \"sensor_\" + str(x)'\n",
    "    )\n",
    "    _random_shift = RandomNumbers(\n",
    "        dtype=\"Int64\",\n",
    "        start_range=1,\n",
    "        end_range=100,\n",
    "    )\n",
    "\n",
    "\n",
    "class SensorReading(BaseTable):\n",
    "    sensor_name = Explode(\n",
    "        list_of_values=[\"Sensor.sensor_name\", \"Sensor._random_shift\"],\n",
    "        explode_func=generate_unique_id,\n",
    "        explode_func_kwargs={\"num_rows\": 100},\n",
    "        position=0,\n",
    "    )\n",
    "    _random_shift = Explode(\n",
    "        list_of_values=[\"Sensor.sensor_name\", \"Sensor._random_shift\"],\n",
    "        explode_func=generate_unique_id,\n",
    "        explode_func_kwargs={\"num_rows\": 100},\n",
    "        position=1,\n",
    "    )\n",
    "    time_index = Explode(\n",
    "        list_of_values=[\"Sensor.sensor_name\", \"Sensor._random_shift\"],\n",
    "        explode_func=generate_unique_id,\n",
    "        explode_func_kwargs={\"num_rows\": 100},\n",
    "        position=2,\n",
    "    )\n",
    "    _sensor_reading_smooth = RowApply(\n",
    "        list_of_values=[\"SensorReading.time_index\", \"SensorReading._random_shift\"],\n",
    "        row_func=\"lambda x,y: y * math.sin((int(x)+int(y))/(2*3.412))\",\n",
    "    )\n",
    "    _random_error = RowApply(\n",
    "        list_of_values=[\"SensorReading._random_shift\"],\n",
    "        row_func=\"lambda x: random.random()*x*0.2\",\n",
    "    )\n",
    "    sensor_reading = RowApply(\n",
    "        list_of_values=[\n",
    "            \"SensorReading._sensor_reading_smooth\",\n",
    "            \"SensorReading._random_error\",\n",
    "        ],\n",
    "        row_func=\"lambda x, y: x + y\",\n",
    "    )\n",
    "\n",
    "\n",
    "mock_generator = MockDataGenerator(tables=[Sensor, SensorReading], seed=1)\n",
    "mock_generator.generate_all()\n",
    "\n",
    "\n",
    "print(mock_generator.tables[\"Sensor\"].dataframe.head(10))\n",
    "print(mock_generator.tables[\"SensorReading\"].dataframe.head(10))"
   ]
  },
  {
   "cell_type": "markdown",
   "id": "bcf03f4a-926a-416c-b87c-0b2d7fcbdce0",
   "metadata": {},
   "source": [
    "If we plot this we get:"
   ]
  },
  {
   "cell_type": "code",
   "execution_count": 3,
   "id": "18df846a-0402-46a8-9f82-2a37cf9760da",
   "metadata": {
    "nbsphinx": "hidden",
    "tags": [
     "hide-input"
    ]
   },
   "outputs": [],
   "source": [
    "import plotly.express as px\n",
    "\n",
    "df = mock_generator.tables[\"SensorReading\"].dataframe\n",
    "fig = px.line(data_frame=df, x=\"time_index\", y=\"sensor_reading\", color=\"sensor_name\")\n",
    "fig.write_image(\"data_fabricator/docs/images/sensor_sample.png\")"
   ]
  },
  {
   "cell_type": "markdown",
   "id": "b069bebd-9457-48c2-8e2f-33d9b4aec574",
   "metadata": {},
   "source": [
    "![sensor_sample](images/sensor_sample.png)\n",
    "\n",
    "## Pattern 2 - Wide Format\n",
    "\n",
    "Wide format is easier if you need to control for the relationships between sensor\n",
    "readings during fabrication, particularly using the `row_apply` syntax.\n",
    "\n",
    "![sensor_model2](images/sensor_model2.drawio.svg)"
   ]
  },
  {
   "cell_type": "code",
   "execution_count": null,
   "id": "413a0659-bc6e-483f-98ab-12fced20e6b6",
   "metadata": {
    "tags": []
   },
   "outputs": [],
   "source": [
    "import yaml\n",
    "\n",
    "config_str = \"\"\"\n",
    "\n",
    "tables:\n",
    "- _target_: data_fabricator.v1.core.mock_generator.create_table\n",
    "  name: sensor_readings\n",
    "  num_rows: 100\n",
    "  columns:\n",
    "    time_index:\n",
    "      _target_: data_fabricator.v1.core.mock_generator.UniqueId\n",
    "    sensor_1:\n",
    "      _target_: data_fabricator.v1.core.mock_generator.RowApply\n",
    "      list_of_values: sensor_readings.time_index\n",
    "      row_func: 'lambda x: math.sin(int(x)/(2*3.412))'\n",
    "    sensor_2:\n",
    "      _target_: data_fabricator.v1.core.mock_generator.RowApply\n",
    "      list_of_values: sensor_readings.time_index\n",
    "      row_func: 'lambda x: math.cos(int(x)/(2*3.412))'\n",
    "    sensor_3:\n",
    "      _target_: data_fabricator.v1.core.mock_generator.RowApply\n",
    "      list_of_values:\n",
    "      - sensor_readings.sensor_1\n",
    "      - sensor_readings.sensor_2\n",
    "      row_func: 'lambda x,y: x*y'\n",
    "\n",
    "\n",
    "\"\"\"\n",
    "example_config = yaml.safe_load(config_str)\n",
    "print(example_config)"
   ]
  },
  {
   "cell_type": "code",
   "execution_count": null,
   "id": "b3e1c71c-b84d-4cce-87fb-a66a0ab732e8",
   "metadata": {
    "nbsphinx": "hidden",
    "tags": [
     "hide-input"
    ]
   },
   "outputs": [],
   "source": [
    "from data_fabricator.v1.nodes.hydra import hydra_instantiate_dictionary\n",
    "\n",
    "# function to return injected objects\n",
    "\n",
    "\n",
    "example_config = hydra_instantiate_dictionary(example_config)"
   ]
  },
  {
   "cell_type": "code",
   "execution_count": null,
   "id": "7d4d0c66-a792-43b5-a063-28cdd1bc39fd",
   "metadata": {
    "tags": []
   },
   "outputs": [],
   "source": [
    "from data_fabricator.v1.core.mock_generator import MockDataGenerator\n",
    "\n",
    "# Setting seed is not recommended for general use, please consider when to use seed\n",
    "mock_generator = MockDataGenerator(tables=example_config[\"tables\"], seed=1)\n",
    "mock_generator.generate_all()\n",
    "\n",
    "print(mock_generator.tables[\"sensor_readings\"].dataframe.head(10))"
   ]
  },
  {
   "cell_type": "markdown",
   "id": "227220f6-25f0-453f-8791-8cdf135fac4d",
   "metadata": {},
   "source": [
    "If we were to plot this:"
   ]
  },
  {
   "cell_type": "code",
   "execution_count": null,
   "id": "dc774668-a965-4ce0-9380-7acc88f6384f",
   "metadata": {
    "nbsphinx": "hidden",
    "tags": [
     "hide-input"
    ]
   },
   "outputs": [],
   "source": [
    "import plotly.graph_objects as go\n",
    "\n",
    "df = mock_generator.tables[\"sensor_readings\"].dataframe\n",
    "# Create traces\n",
    "fig = go.Figure()\n",
    "fig.add_trace(\n",
    "    go.Scatter(x=df[\"time_index\"], y=df[\"sensor_1\"], mode=\"lines\", name=\"sensor_1\")\n",
    ")\n",
    "fig.add_trace(\n",
    "    go.Scatter(x=df[\"time_index\"], y=df[\"sensor_2\"], mode=\"lines\", name=\"sensor_2\")\n",
    ")\n",
    "fig.add_trace(\n",
    "    go.Scatter(x=df[\"time_index\"], y=df[\"sensor_3\"], mode=\"lines\", name=\"sensor_3\")\n",
    ")\n",
    "fig.write_image(\"data_fabricator/docs/images/sensor_sample2.png\")"
   ]
  },
  {
   "cell_type": "markdown",
   "id": "6cc145a9-0896-4a53-9ad1-b27bd87f1ccc",
   "metadata": {},
   "source": [
    "![sensor_sample2](images/sensor_sample2.png)"
   ]
  }
 ],
 "metadata": {
  "celltoolbar": "Edit Metadata",
  "kernelspec": {
   "display_name": "qblabs-monorepo",
   "language": "python",
   "name": "qblabs-monorepo"
  },
  "language_info": {
   "codemirror_mode": {
    "name": "ipython",
    "version": 3
   },
   "file_extension": ".py",
   "mimetype": "text/x-python",
   "name": "python",
   "nbconvert_exporter": "python",
   "pygments_lexer": "ipython3",
   "version": "3.9.15"
  }
 },
 "nbformat": 4,
 "nbformat_minor": 5
}
