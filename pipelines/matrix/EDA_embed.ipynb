{
 "cells": [
  {
   "cell_type": "code",
   "execution_count": null,
   "metadata": {},
   "outputs": [],
   "source": [
    "from sentence_transformers import SentenceTransformer\n",
    "sentences = [\"This is an example sentence\", \"Each sentence is converted\"]\n",
    "\n",
    "model = SentenceTransformer(\"neuml/pubmedbert-base-embeddings\")\n",
    "embeddings = model.encode(sentences)\n",
    "print(embeddings)"
   ]
  },
  {
   "cell_type": "code",
   "execution_count": null,
   "metadata": {},
   "outputs": [],
   "source": [
    "node_df_list = node_df.limit(100).rdd.flatMap(lambda x: x).collect()\n"
   ]
  },
  {
   "cell_type": "code",
   "execution_count": null,
   "metadata": {},
   "outputs": [],
   "source": [
    "node_df_pd = node_df.toPandas()"
   ]
  },
  {
   "cell_type": "code",
   "execution_count": null,
   "metadata": {},
   "outputs": [],
   "source": [
    "list(node_df_pd['feat'].values)"
   ]
  },
  {
   "cell_type": "code",
   "execution_count": null,
   "metadata": {},
   "outputs": [],
   "source": [
    "node_df_pd['feat']=node_df_pd['name'] +'+'+ node_df_pd['category']"
   ]
  },
  {
   "cell_type": "code",
   "execution_count": null,
   "metadata": {},
   "outputs": [],
   "source": [
    "node_df_pd['embed']"
   ]
  },
  {
   "cell_type": "code",
   "execution_count": null,
   "metadata": {},
   "outputs": [],
   "source": [
    "node_df_pd['feat']=node_df_pd['name'] +'+'+ node_df_pd['category']\n",
    "node_df_pd['embed'] = list(model.encode(list(node_df_pd['feat'].values)))"
   ]
  },
  {
   "cell_type": "code",
   "execution_count": null,
   "metadata": {},
   "outputs": [],
   "source": [
    "catalog.list('integration')\n",
    "node_df = catalog.load('integration.model_input.nodes')\n",
    "nodes_embed = catalog.load('embeddings.prm.graph.embeddings@neo')"
   ]
  },
  {
   "cell_type": "code",
   "execution_count": null,
   "metadata": {},
   "outputs": [],
   "source": [
    "nodes.show()"
   ]
  },
  {
   "cell_type": "code",
   "execution_count": null,
   "metadata": {},
   "outputs": [],
   "source": [
    "nodes.show()"
   ]
  },
  {
   "cell_type": "code",
   "execution_count": null,
   "metadata": {},
   "outputs": [],
   "source": [
    "# Import dependencies\n",
    "import pyspark as ps\n",
    "import os\n",
    "from pathlib import Path\n",
    "import subprocess\n",
    "\n",
    "root_path = subprocess.check_output(['git', 'rev-parse', '--show-toplevel']).decode().strip()\n",
    "os.chdir(Path(root_path) / 'pipelines' / 'matrix')\n",
    "\n",
    "%load_ext kedro.ipython\n",
    "%reload_kedro\n",
    "cat = catalog #just a convenience"
   ]
  },
  {
   "cell_type": "code",
   "execution_count": null,
   "metadata": {},
   "outputs": [],
   "source": []
  },
  {
   "cell_type": "code",
   "execution_count": null,
   "metadata": {},
   "outputs": [],
   "source": [
    "import pandas as pd \n",
    "df = pd.DataFrame({'combined':['This is text','To jest pies']})\n",
    "df"
   ]
  },
  {
   "cell_type": "code",
   "execution_count": null,
   "metadata": {},
   "outputs": [],
   "source": [
    "OpenAI(api_key='sk-proj-cD5l8rqgSZW4TJtiw9SrT3BlbkFJNRllOfscgfJJVz8fmOQ5')"
   ]
  },
  {
   "cell_type": "code",
   "execution_count": null,
   "metadata": {},
   "outputs": [],
   "source": [
    "import os\n",
    "import yaml\n",
    "\n",
    "# Define the YAML file path\n",
    "yaml_file_path = 'conf/base/embeddings/parameters.yml'\n",
    "\n",
    "# Load the YAML file\n",
    "with open(yaml_file_path, 'r') as file:\n",
    "    config = yaml.safe_load(file)\n",
    "\n",
    "# Extract the API key placeholder\n",
    "api_key_placeholder = config['embeddings.ai_config']['api_key']\n",
    "\n",
    "# Check if the API key uses an environment variable\n",
    "if api_key_placeholder.startswith('${oc.env:') and api_key_placeholder.endswith('}'):\n",
    "    # Extract the environment variable name\n",
    "    env_var_name = api_key_placeholder[len('${oc.env:'):-1]\n",
    "    # Get the actual API key from the environment variable\n",
    "    api_key = os.getenv(env_var_name)\n",
    "else:\n",
    "    # If it's not using an environment variable, use the value directly\n",
    "    api_key = api_key_placeholder"
   ]
  },
  {
   "cell_type": "code",
   "execution_count": null,
   "metadata": {},
   "outputs": [],
   "source": [
    "os.environ['OPENAI_API_KEY']"
   ]
  },
  {
   "cell_type": "code",
   "execution_count": null,
   "metadata": {},
   "outputs": [],
   "source": [
    "r = requests.post(os.environ['OPENAI_ENDPOINT']) # , auth=('user', 'pass'))\n"
   ]
  },
  {
   "cell_type": "code",
   "execution_count": null,
   "metadata": {},
   "outputs": [],
   "source": [
    "import requests\n",
    "\n",
    "requests.post(os.environ['OPENAI_ENDPOINT'], json=data)"
   ]
  },
  {
   "cell_type": "code",
   "execution_count": null,
   "metadata": {},
   "outputs": [],
   "source": [
    "from openai import OpenAI\n",
    "client = OpenAI(api_key='sk-proj-cD5l8rqgSZW4TJtiw9SrT3BlbkFJNRllOfscgfJJVz8fmOQ5')\n",
    "\n",
    "def get_embedding(text, model=\"text-embedding-3-small\"):\n",
    "   return client.embeddings.create(input = [text], model=model).data[0].embedding\n",
    "\n",
    "df['ada_embedding'] = df.combined.apply(lambda x: get_embedding(x, model='text-embedding-3-small'))\n",
    "df.to_csv('output/embedded_1k_reviews.csv', index=False)"
   ]
  },
  {
   "cell_type": "code",
   "execution_count": null,
   "metadata": {},
   "outputs": [],
   "source": [
    "os.environ[\"NEO4J\"]"
   ]
  },
  {
   "cell_type": "code",
   "execution_count": null,
   "metadata": {},
   "outputs": [],
   "source": [
    "from neo4j import GraphDatabase\n",
    "\n",
    "# Define the connection details\n",
    "uri = os.environ[\"NEO4J_HOST\"]  # Bolt protocol URI for Neo4j, adjust according to your setup\n",
    "username = os.environ[\"NEO4J_USER\"]  # Replace with your username\n",
    "password = os.environ[\"NEO4J_PASSWORD\"]  # Replace with your password\n",
    "db=\"everycure-20240620\"\n",
    "\n",
    "# Create a driver instance\n",
    "driver = GraphDatabase.driver(os.environ[\"NEO4J_HOST\"], auth=(os.environ[\"NEO4J_USER\"], os.environ[\"NEO4J_PASSWORD\"]))\n",
    "\n",
    "# Function to run a Cypher query\n",
    "def run_query(driver, query):\n",
    "    with driver.session(database=db) as session:\n",
    "        result = session.run(query)\n",
    "        return [record for record in result]\n",
    "\n",
    "# Define a Cypher query\n",
    "cypher_query = \"MATCH p=()-[r:GROUND_TRUTH]->() RETURN p LIMIT 25\"\n",
    "\n",
    "# Run the query and print the results\n",
    "results = run_query(driver, cypher_query)\n",
    "for record in results:\n",
    "    print(record)\n",
    "\n",
    "# Close the driver connection when done\n",
    "driver.close()"
   ]
  }
 ],
 "metadata": {
  "kernelspec": {
   "display_name": ".venv",
   "language": "python",
   "name": "python3"
  },
  "language_info": {
   "codemirror_mode": {
    "name": "ipython",
    "version": 3
   },
   "file_extension": ".py",
   "mimetype": "text/x-python",
   "name": "python",
   "nbconvert_exporter": "python",
   "pygments_lexer": "ipython3",
   "version": "3.11.9"
  }
 },
 "nbformat": 4,
 "nbformat_minor": 2
}
