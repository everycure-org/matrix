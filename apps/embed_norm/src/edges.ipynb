{
 "cells": [
  {
   "cell_type": "code",
   "execution_count": null,
   "metadata": {},
   "outputs": [],
   "source": [
    "import sys\n",
    "import os\n",
    "import logging\n",
    "import pandas as pd\n",
    "import numpy as np\n",
    "from pathlib import Path\n",
    "import nest_asyncio\n",
    "nest_asyncio.apply()\n",
    "utils_path = os.path.abspath('/home/wadmin/embed_norm/apps/embed_norm/src')\n",
    "if utils_path not in sys.path:\n",
    "    sys.path.append(utils_path)\n",
    "from main import Environment, CacheManager, Config, Pipeline\n",
    "\n",
    "Environment.configure_logging()\n",
    "# utils_path = Path(__file__).parent.resolve()\n",
    "Environment.setup_environment(utils_path=utils_path)\n",
    "\n",
    "project_path = Path.cwd().parents[1]\n",
    "cache_dir = project_path / \"apps\" / \"embed_norm\" / \"cached_datasets\"\n",
    "cache_dir.mkdir(parents=True, exist_ok=True)\n",
    "for subdir in [\"embeddings\", \"datasets\", \"final_data\"]:\n",
    "    (cache_dir / subdir).mkdir(parents=True, exist_ok=True)\n",
    "\n",
    "pos_seed = 54321\n",
    "neg_seed = 67890\n",
    "dataset_name = \"rtx_kg2.int\"\n",
    "nodes_dataset_name = \"integration.int.rtx.nodes\"\n",
    "edges_dataset_name = \"integration.int.rtx.edges\"\n",
    "categories = [\"All Categories\"]\n",
    "model_names = [\"OpenAI\", \"PubMedBERT\", \"BioBERT\", \"BlueBERT\", \"SapBERT\"]\n",
    "openai_api_key = os.getenv(\"OPENAI_API_KEY\")\n",
    "if not openai_api_key:\n",
    "    sys.exit(1)\n",
    "\n",
    "total_sample_size = 1000\n",
    "positive_ratio = 0.2\n",
    "positive_n = int(total_sample_size * positive_ratio)\n",
    "negative_n = total_sample_size - positive_n\n",
    "cache_suffix = f\"_pos_{positive_n}_neg_{negative_n}\"\n",
    "\n",
    "config = Config(\n",
    "    cache_dir=cache_dir,\n",
    "    pos_seed=pos_seed,\n",
    "    neg_seed=neg_seed,\n",
    "    dataset_name=dataset_name,\n",
    "    nodes_dataset_name=nodes_dataset_name,\n",
    "    edges_dataset_name=edges_dataset_name,\n",
    "    categories=categories,\n",
    "    model_names=model_names,\n",
    "    total_sample_size=total_sample_size,\n",
    "    positive_ratio=positive_ratio,\n",
    "    positive_n=positive_n,\n",
    "    negative_n=negative_n,\n",
    "    cache_suffix=cache_suffix,\n",
    ")\n",
    "\n",
    "cache_manager = CacheManager(cache_dir=cache_dir)\n",
    "pipeline = Pipeline(config=config, cache_manager=cache_manager, package_name=\"matrix\", project_path=project_path)"
   ]
  },
  {
   "cell_type": "code",
   "execution_count": null,
   "metadata": {},
   "outputs": [],
   "source": [
    "categories, positive_datasets, negative_datasets, nodes_df = pipeline.load_data()"
   ]
  },
  {
   "cell_type": "markdown",
   "metadata": {},
   "source": [
    "### Load Sample Edges DataFrame"
   ]
  },
  {
   "cell_type": "code",
   "execution_count": null,
   "metadata": {},
   "outputs": [],
   "source": [
    "# Load edges DataFrame\n",
    "edges_cache_file = (\n",
    "    cache_manager.cache_dir\n",
    "    / \"datasets\"\n",
    "    / f\"edges_df{cache_suffix}.pkl\"\n",
    ")"
   ]
  },
  {
   "cell_type": "code",
   "execution_count": null,
   "metadata": {},
   "outputs": [],
   "source": [
    "edges_df = cache_manager.load_cached_data(edges_cache_file)\n",
    "if edges_df is None:\n",
    "    def load_edges():\n",
    "        try:\n",
    "            edges_df = pipeline.catalog.load(config.edges_dataset_name)\n",
    "            if isinstance(edges_df, SparkDataFrame):\n",
    "                edges_df = edges_df.toPandas()\n",
    "            return edges_df\n",
    "        except Exception as e:\n",
    "            logging.error(f\"Error loading edges: {e}\")\n",
    "            return pd.DataFrame()\n",
    "    edges_df = cache_manager.get_or_compute(edges_cache_file, load_edges)"
   ]
  },
  {
   "cell_type": "code",
   "execution_count": null,
   "metadata": {},
   "outputs": [],
   "source": [
    "print(\"Columns in edges_df:\", edges_df.columns.tolist())\n",
    "edges_df.info()\n",
    "edges_df.head()"
   ]
  },
  {
   "cell_type": "code",
   "execution_count": null,
   "metadata": {},
   "outputs": [],
   "source": [
    "for index, edge_df in enumerate(edge_dfs.iterrows()):\n",
    "    if index ==5:\n",
    "        break\n",
    "    print(edge_df)\n",
    "    # print(edge_dfs[edge_df].shape)\n",
    "    # print(edge_dfs[edge_df].columns)\n",
    "    # print(edge_dfs[edge_df].head())\n",
    "    # print(edge_dfs[edge_df].info())\n",
    "    # print(edge_dfs[edge_df].describe())\n",
    "    # print(edge_dfs[edge_df].isnull().sum())\n",
    "    # print(edge_df[\"label\"].value_counts())\n",
    "    # print(edge_df[\"label\"].value_counts(normalize=True))\n",
    "    # break\n",
    "\n",
    "# for ds in positive_datasets:\n",
    "#     print(ds)\n",
    "#     print(positive_datasets[ds].shape)\n",
    "#     print(positive_datasets[ds].columns)\n",
    "#     print(positive_datasets[ds].head())\n",
    "#     print(positive_datasets[ds].info())\n",
    "#     print(positive_datasets[ds].describe())\n",
    "#     print(positive_datasets[ds].isnull().sum())\n",
    "#     break\n",
    "    # print(positive_datasets[ds][\"label\"].value_counts())\n",
    "    # print(positive_datasets[ds][\"label\"].value_counts(normalize=True))\n",
    "\n",
    "# print(positive_datasets)"
   ]
  },
  {
   "cell_type": "code",
   "execution_count": null,
   "metadata": {},
   "outputs": [],
   "source": [
    "print(\"Columns in edges_df:\", edges_df.columns.tolist())"
   ]
  },
  {
   "cell_type": "code",
   "execution_count": null,
   "metadata": {},
   "outputs": [],
   "source": [
    "edges_df.info()"
   ]
  },
  {
   "cell_type": "code",
   "execution_count": null,
   "metadata": {},
   "outputs": [],
   "source": [
    "edges_df.head()"
   ]
  },
  {
   "cell_type": "code",
   "execution_count": null,
   "metadata": {},
   "outputs": [],
   "source": [
    "print(\"Unique subjects:\", edges_df['subject'].unique())"
   ]
  },
  {
   "cell_type": "code",
   "execution_count": null,
   "metadata": {},
   "outputs": [],
   "source": [
    "print(\"Unique predicates:\", edges_df['predicate'].unique())"
   ]
  },
  {
   "cell_type": "code",
   "execution_count": null,
   "metadata": {},
   "outputs": [],
   "source": [
    "print(\"Unique objects:\", edges_df['object'].unique())"
   ]
  },
  {
   "cell_type": "code",
   "execution_count": null,
   "metadata": {},
   "outputs": [],
   "source": [
    "edges_df['edge_attributes']"
   ]
  },
  {
   "cell_type": "code",
   "execution_count": null,
   "metadata": {},
   "outputs": [],
   "source": [
    "# Normalize the 'edge_attributes' column into separate columns\n",
    "edge_attributes_expanded = edges_df['edge_attributes'].apply(pd.Series)\n",
    "\n",
    "# Combine with the original DataFrame\n",
    "edges_expanded_df = pd.concat([edges_df.drop(['edge_attributes'], axis=1), edge_attributes_expanded], axis=1)\n",
    "\n",
    "edges_expanded_df"
   ]
  },
  {
   "cell_type": "code",
   "execution_count": null,
   "metadata": {},
   "outputs": [],
   "source": [
    "edges_df.isnull().sum()"
   ]
  },
  {
   "cell_type": "code",
   "execution_count": null,
   "metadata": {},
   "outputs": [],
   "source": [
    "# Create a graph using NetworkX\n",
    "import networkx as nx\n",
    "import matplotlib.pyplot as plt\n",
    "\n",
    "G = nx.from_pandas_edgelist(edges_df, 'subject', 'object', edge_attr=True, create_using=nx.DiGraph())\n",
    "\n",
    "plt.figure(figsize=(8,6))\n",
    "pos = nx.spring_layout(G)\n",
    "nx.draw(G, pos, with_labels=True, node_color='lightblue', edge_color='gray', node_size=2000, arrowsize=20)\n",
    "plt.title('Graph Representation of Edges')\n",
    "plt.show()"
   ]
  }
 ],
 "metadata": {
  "kernelspec": {
   "display_name": "Kedro (matrix)",
   "language": "python",
   "name": "kedro_matrix"
  },
  "language_info": {
   "codemirror_mode": {
    "name": "ipython",
    "version": 3
   },
   "file_extension": ".py",
   "mimetype": "text/x-python",
   "name": "python",
   "nbconvert_exporter": "python",
   "pygments_lexer": "ipython3",
   "version": "3.11.10"
  }
 },
 "nbformat": 4,
 "nbformat_minor": 2
}
