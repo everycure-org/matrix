{
 "cells": [
  {
   "cell_type": "markdown",
   "id": "0",
   "metadata": {},
   "source": [
    "# Embedding Analysis Notebook\n",
    "\n",
    "This notebook demonstrates how to use the updated functions from `embedding_utils.py` to load and cache datasets, embeddings, and labels, process models, and visualize embeddings using the dashboard app.\n",
    "\n",
    "## How to Use This Notebook\n",
    "\n",
    "1. **Import Modules and Functions**: Import necessary functions from `embedding_utils.py`, including the new functions for loading and caching embeddings and labels.\n",
    "2. **Set Variables**: Specify variables such as dataset names, seeds, and categories.\n",
    "3. **Load Datasets and Embeddings**: Use the provided functions to load datasets and embeddings, handling caching automatically.\n",
    "4. **Define Custom Functions**: Define custom text representation and label generation functions as needed.\n",
    "5. **Process Models**: Generate embeddings or load them from cache using the provided functions.\n",
    "6. **Run the Dashboard App**: Launch the dashboard app to visualize your embeddings.\n",
    "\n",
    "Note: The dataset caching functionality is handled by the functions imported from `embedding_utils.py`. You can modify variables to change how embeddings work and specify different datasets."
   ]
  },
  {
   "cell_type": "code",
   "execution_count": null,
   "id": "1",
   "metadata": {},
   "outputs": [],
   "source": [
    "# Import necessary functions and modules\n",
    "import os\n",
    "import sys\n",
    "import logging\n",
    "\n",
    "from embed_norm_test.embedding_utils import (\n",
    "    process_model,\n",
    "    process_model_combinations,\n",
    "    embedding_models_info,\n",
    "    parse_list_string,\n",
    "    load_datasets,\n",
    "    load_categories,\n",
    "    load_embeddings_and_labels,\n",
    "    missing_data_rows_dict\n",
    ")\n",
    "\n",
    "logging.basicConfig(level=logging.INFO,\n",
    "                    format='%(asctime)s %(levelname)s %(message)s')\n",
    "\n",
    "# Additional imports\n",
    "import pandas as pd\n",
    "from kedro.framework.project import configure_project\n",
    "import openai  # If you're using OpenAI embeddings"
   ]
  },
  {
   "cell_type": "markdown",
   "id": "2",
   "metadata": {},
   "source": [
    "## Set Up Variables\n",
    "\n",
    "Specify your dataset names, seeds, and cache directory."
   ]
  },
  {
   "cell_type": "code",
   "execution_count": null,
   "id": "3",
   "metadata": {},
   "outputs": [],
   "source": [
    "# Set up variables\n",
    "cache_dir = 'cached_datasets'\n",
    "os.makedirs(cache_dir, exist_ok=True)\n",
    "\n",
    "# Seeds for sampling\n",
    "seed1 = 54321  # Seed for positive samples\n",
    "seed2 = 67890  # Seed for negative samples\n",
    "\n",
    "# Dataset configuration\n",
    "dataset_name = 'rtx_kg2'  # Replace with your dataset name\n",
    "nodes_dataset_name = 'ingestion.raw.rtx_kg2.nodes@pandas'  # Replace with your nodes dataset name\n",
    "edges_dataset_name = 'ingestion.raw.rtx_kg2.edges@pandas'  # Replace with your edges dataset name\n",
    "\n",
    "# Categories to process\n",
    "categories = ['All Categories']  # Specify categories or use 'All Categories'\n",
    "\n",
    "# Model configuration\n",
    "model_name = 'OpenAI'\n",
    "model_info = embedding_models_info[model_name]\n",
    "\n",
    "# OpenAI API Key (if using OpenAI embeddings)\n",
    "openai.api_key = os.getenv(\"OPENAI_API_KEY\")  # Ensure your API key is set"
   ]
  },
  {
   "cell_type": "markdown",
   "id": "4",
   "metadata": {},
   "source": [
    "## Load Datasets and Embeddings\n",
    "\n",
    "Use the provided functions to load datasets and embeddings, handling caching automatically."
   ]
  },
  {
   "cell_type": "code",
   "execution_count": null,
   "id": "5",
   "metadata": {},
   "outputs": [],
   "source": [
    "# Load datasets using caching functions\n",
    "\n",
    "# Configure Kedro project\n",
    "configure_project('matrix')  # Replace 'matrix' with your Kedro project name if different\n",
    "\n",
    "# Load categories\n",
    "categories = load_categories(\n",
    "    cache_dir=cache_dir,\n",
    "    dataset_name=dataset_name,\n",
    "    nodes_dataset_name=nodes_dataset_name\n",
    ")\n",
    "\n",
    "# Load datasets\n",
    "positive_datasets, datasets = load_datasets(\n",
    "    cache_dir=cache_dir,\n",
    "    dataset_name=dataset_name,\n",
    "    nodes_dataset_name=nodes_dataset_name,\n",
    "    edges_dataset_name=edges_dataset_name,\n",
    "    categories=categories,\n",
    "    seed1=seed1,\n",
    "    seed2=seed2\n",
    ")\n",
    "\n",
    "# Load embeddings and labels (if cached)\n",
    "embeddings_dict, labels_dict = load_embeddings_and_labels(\n",
    "    cache_dir=cache_dir,\n",
    "    dataset_name=dataset_name,\n",
    "    model_name=model_name,\n",
    "    categories=categories,\n",
    "    seed=seed2,\n",
    "    combinations=False\n",
    ")\n",
    "\n",
    "# Check if embeddings are loaded; if not, they will be generated in the next steps\n",
    "if not embeddings_dict:\n",
    "    print(\"Embeddings not found in cache; they will be generated.\")\n",
    "else:\n",
    "    print(\"Embeddings loaded from cache.\")"
   ]
  },
  {
   "cell_type": "markdown",
   "id": "6",
   "metadata": {},
   "source": [
    "## Define Custom Functions\n",
    "\n",
    "Customize how embeddings are generated by defining custom text representation and label generation functions."
   ]
  },
  {
   "cell_type": "code",
   "execution_count": null,
   "id": "7",
   "metadata": {},
   "outputs": [],
   "source": [
    "# # Define custom text representation function\n",
    "# def node_to_string(row):\n",
    "#     fields = [row.get('name', ''), row.get('description', '')]\n",
    "#     text_values = []\n",
    "#     for field_value in fields:\n",
    "#         if pd.notnull(field_value):\n",
    "#             parsed_list = parse_list_string(field_value)\n",
    "#             text_values.extend(parsed_list)\n",
    "#     return ' '.join(text_values).strip()\n",
    "\n",
    "def node_to_string(row, text_fields=None):\n",
    "    if text_fields is None:\n",
    "        text_fields = ['all_names:string[]', 'all_categories:string[]']\n",
    "    global missing_data_rows_dict\n",
    "    fields = [row.get(field, '') for field in text_fields]\n",
    "    missing_fields = [field for field, value in zip(text_fields, fields)\n",
    "                      if pd.isnull(value) or not str(value).strip()]\n",
    "    for missing_field in missing_fields:\n",
    "        if missing_field not in missing_data_rows_dict:\n",
    "            missing_data_rows_dict[missing_field] = []\n",
    "        missing_data_rows_dict[missing_field].append(row)\n",
    "    text_values = []\n",
    "    for field_value in fields:\n",
    "        parsed_list = parse_list_string(field_value)\n",
    "        text_values.extend(parsed_list)\n",
    "    text_representation = ' '.join(text_values).strip()\n",
    "    if not text_representation:\n",
    "        logging.warning(f\"Empty text representation for row with index {row.name}\")\n",
    "    print(f\"Text representation for row with index {row.name}: {text_representation}\")\n",
    "    return text_representation"
   ]
  },
  {
   "cell_type": "code",
   "execution_count": null,
   "id": "8",
   "metadata": {},
   "outputs": [],
   "source": [
    "# Define custom label generation function\n",
    "def label_func(row):\n",
    "    # return '<br>'.join(f\"{k}: {str(v)[:200]}\" for k, v in row.items())\n",
    "    reutrn (row['id'], row['name'], 'wow this is a label')"
   ]
  },
  {
   "cell_type": "markdown",
   "id": "9",
   "metadata": {},
   "source": [
    "## Process Models\n",
    "\n",
    "Generate embeddings for your datasets using the `process_model` functions. If embeddings are already cached, they will be loaded; otherwise, they will be generated and cached."
   ]
  },
  {
   "cell_type": "markdown",
   "id": "10",
   "metadata": {},
   "source": [
    "### Generate or Load Embeddings for Datasets"
   ]
  },
  {
   "cell_type": "code",
   "execution_count": null,
   "id": "11",
   "metadata": {},
   "outputs": [],
   "source": [
    "# Process embeddings for the datasets\n",
    "model_name, embeddings_dict = process_model(\n",
    "    model_name=model_name,\n",
    "    model_info=model_info,\n",
    "    datasets=datasets,\n",
    "    cache_dir=cache_dir,\n",
    "    seed=seed2,\n",
    "    text_representation_func=node_to_string,\n",
    "    label_generation_func=label_func,\n",
    "    dataset_name=dataset_name\n",
    ")\n",
    "# Process embeddings for positive datasets\n",
    "model_name, embeddings_dict_pos = process_model(\n",
    "    model_name=model_name,\n",
    "    model_info=model_info,\n",
    "    datasets=positive_datasets,\n",
    "    cache_dir=cache_dir,\n",
    "    seed=seed1,\n",
    "    text_representation_func=node_to_string,\n",
    "    label_generation_func=label_func,\n",
    "    dataset_name=dataset_name\n",
    ")\n"
   ]
  },
  {
   "cell_type": "markdown",
   "id": "12",
   "metadata": {},
   "source": [
    "### Generate or Load Embeddings with Combinations (Optional)"
   ]
  },
  {
   "cell_type": "code",
   "execution_count": null,
   "id": "13",
   "metadata": {},
   "outputs": [],
   "source": [
    "# # Define custom text representations for combinations\n",
    "# def node_to_strings(row):\n",
    "#     names_field = 'name'\n",
    "#     categories_field = 'category'\n",
    "#     names_field_value = row.get(names_field, '')\n",
    "#     categories_field_value = row.get(categories_field, '')\n",
    "    \n",
    "#     names_list = parse_list_string(names_field_value)\n",
    "#     categories_list = parse_list_string(categories_field_value)\n",
    "    \n",
    "#     from itertools import product\n",
    "#     combinations = list(product(names_list, categories_list))\n",
    "    \n",
    "#     text_representations = [' '.join(combination).strip() for combination in combinations]\n",
    "#     return text_representations\n",
    "\n",
    "# # Generate embeddings with combinations\n",
    "# model_name, embeddings_dict = process_model_combinations(\n",
    "#     model_name=model_name,\n",
    "#     model_info=model_info,\n",
    "#     datasets=datasets,\n",
    "#     cache_dir=cache_dir,\n",
    "#     seed=seed2,\n",
    "#     text_representation_func=node_to_strings,\n",
    "#     label_generation_func=label_func,\n",
    "#     dataset_name=dataset_name\n",
    "# )\n",
    "\n",
    "# Process embeddings for positive datasets with combinations\n",
    "# model_name, embeddings_dict_pos = process_model_combinations(\n",
    "#     model_name=model_name,\n",
    "#     model_info=model_info,\n",
    "#     datasets=positive_datasets,\n",
    "#     cache_dir=cache_dir,\n",
    "#     seed=seed1,\n",
    "#     text_representation_func=node_to_strings,\n",
    "#     label_generation_func=label_func,\n",
    "#     dataset_name=dataset_name\n",
    "# )"
   ]
  },
  {
   "cell_type": "markdown",
   "id": "14",
   "metadata": {},
   "source": [
    "### Process Positive Datasets (Optional)\n",
    "\n",
    "You can also process positive datasets using the same functions."
   ]
  },
  {
   "cell_type": "code",
   "execution_count": null,
   "id": "15",
   "metadata": {},
   "outputs": [],
   "source": []
  },
  {
   "cell_type": "markdown",
   "id": "16",
   "metadata": {},
   "source": [
    "## Run the Dashboard App\n",
    "\n",
    "After generating the embeddings, you can run the dashboard app to visualize them."
   ]
  },
  {
   "cell_type": "markdown",
   "id": "17",
   "metadata": {},
   "source": [
    "### Instructions to Run the Dashboard App\n",
    "\n",
    "1. Ensure that the embeddings have been generated and saved in the cache directory.\n",
    "2. Navigate to the directory containing `app.py`.\n",
    "3. Run the app using the command:\n",
    "   ```\n",
    "   python app.py\n",
    "   ```\n",
    "4. Open the provided URL (usually `http://0.0.0.0:3000`) in your web browser.\n",
    "\n",
    "The dashboard should now display the embeddings and allow you to interact with them."
   ]
  },
  {
   "cell_type": "markdown",
   "id": "18",
   "metadata": {},
   "source": [
    "## Adding New Models\n",
    "\n",
    "To add new models, update the `embedding_models_info` dictionary in `embedding_utils.py` with the details of the new model."
   ]
  },
  {
   "cell_type": "markdown",
   "id": "19",
   "metadata": {},
   "source": [
    "### Example: Adding a New Hugging Face Model\n",
    "\n",
    "```python\n",
    "# In embedding_utils.py\n",
    "embedding_models_info = {\n",
    "    'OpenAI': {\n",
    "        'type': 'openai',\n",
    "    },\n",
    "    'YourModelName': {\n",
    "        'type': 'hf',\n",
    "        'tokenizer_name': 'your-model-tokenizer-name',\n",
    "        'model_name': 'your-model-name'\n",
    "    },\n",
    "}\n",
    "```\n",
    "\n",
    "After updating, you can regenerate embeddings for the new model using the same process."
   ]
  }
 ],
 "metadata": {
  "kernelspec": {
   "display_name": "Python 3 (ipykernel)",
   "language": "python",
   "name": "python3"
  }
 },
 "nbformat": 4,
 "nbformat_minor": 5
}
